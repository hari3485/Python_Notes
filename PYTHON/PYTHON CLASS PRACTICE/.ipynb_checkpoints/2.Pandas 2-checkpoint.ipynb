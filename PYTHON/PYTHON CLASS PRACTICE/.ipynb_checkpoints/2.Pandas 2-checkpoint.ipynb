{
 "cells": [
  {
   "cell_type": "code",
   "execution_count": null,
   "id": "1bf8b483",
   "metadata": {},
   "outputs": [],
   "source": [
    "# creating a dataframe from a list\n",
    "\n",
    "# creating a dataframe from a tuple\n",
    "\n",
    "# creating a dataframe from a dictionary\n",
    "\n",
    "# attributes and methods of a dataframe\n",
    "# attributes - shape,columns,index\n",
    "# methods - head,describe,info"
   ]
  },
  {
   "cell_type": "code",
   "execution_count": null,
   "id": "b80861d4",
   "metadata": {},
   "outputs": [],
   "source": [
    "# reading a csv file\n",
    "# reading a xlsx file\n",
    "\n",
    "# basic operations - head,tail, info,columns\n",
    "\n",
    "\n",
    "# - sum()\n",
    "# - min() and max()\n",
    "# - mean(), median(), var() and std()\n",
    "# - describe()\n",
    "# - corr(), skew() and kurt()\n",
    "# - count(), unique(), nunique() and value_counts()\n",
    "# - DataFrame.agg()"
   ]
  },
  {
   "cell_type": "code",
   "execution_count": null,
   "id": "8083ddd3",
   "metadata": {},
   "outputs": [],
   "source": [
    "# 1. Filter a single column\n",
    "# 2. Filter multiple columns"
   ]
  },
  {
   "cell_type": "code",
   "execution_count": null,
   "id": "e693541e",
   "metadata": {},
   "outputs": [],
   "source": []
  },
  {
   "cell_type": "code",
   "execution_count": 1,
   "id": "3fc40f9e",
   "metadata": {},
   "outputs": [],
   "source": [
    "# creating a dataframe from a list\n",
    "\n",
    "# creating a dataframe from a tuple\n",
    "\n",
    "# creating a dataframe from a dictionary\n",
    "\n",
    "# attributes and methods of a dataframe\n",
    "# attributes - shape,columns,index\n",
    "# methods - head,describe,info\n",
    "\n",
    "# Dataframe - Dictionary\n",
    "\n",
    "# numpy array - n dimensional arrays\n",
    "# series - 1dimensional array - column\n",
    "\n",
    "# group of series - dataframe or table"
   ]
  },
  {
   "cell_type": "code",
   "execution_count": 6,
   "id": "27a1ad4d",
   "metadata": {},
   "outputs": [],
   "source": [
    "# how to create 1d array using numpy\n",
    "import numpy as np\n",
    "a = np.array([1,5,6,7,8])"
   ]
  },
  {
   "cell_type": "code",
   "execution_count": 7,
   "id": "4c37064f",
   "metadata": {},
   "outputs": [],
   "source": [
    "import pandas as pd\n",
    "\n",
    "b = pd.Series([1,5,6,7,8]) # 1 D "
   ]
  },
  {
   "cell_type": "code",
   "execution_count": 8,
   "id": "eda32973",
   "metadata": {},
   "outputs": [
    {
     "name": "stdout",
     "output_type": "stream",
     "text": [
      "<class 'numpy.ndarray'>\n"
     ]
    }
   ],
   "source": [
    "print(type(a))"
   ]
  },
  {
   "cell_type": "code",
   "execution_count": 9,
   "id": "57857eae",
   "metadata": {},
   "outputs": [
    {
     "name": "stdout",
     "output_type": "stream",
     "text": [
      "<class 'pandas.core.series.Series'>\n"
     ]
    }
   ],
   "source": [
    "print(type(b))"
   ]
  },
  {
   "cell_type": "code",
   "execution_count": 11,
   "id": "700ef71c",
   "metadata": {},
   "outputs": [
    {
     "name": "stdout",
     "output_type": "stream",
     "text": [
      "7\n",
      "7\n"
     ]
    }
   ],
   "source": [
    "# accessing - indexing - numberwise, slicing \n",
    "\n",
    "print(a[3])\n",
    "print(b[3])"
   ]
  },
  {
   "cell_type": "code",
   "execution_count": 13,
   "id": "fd36c670",
   "metadata": {},
   "outputs": [
    {
     "name": "stdout",
     "output_type": "stream",
     "text": [
      "[7 8]\n"
     ]
    }
   ],
   "source": [
    "print(a[3:5])"
   ]
  },
  {
   "cell_type": "code",
   "execution_count": 14,
   "id": "adb26088",
   "metadata": {},
   "outputs": [
    {
     "name": "stdout",
     "output_type": "stream",
     "text": [
      "3    7\n",
      "4    8\n",
      "dtype: int64\n"
     ]
    }
   ],
   "source": [
    "print(b[3:5])"
   ]
  },
  {
   "cell_type": "code",
   "execution_count": 15,
   "id": "54e918a2",
   "metadata": {},
   "outputs": [],
   "source": [
    "# let us create dataframe from series"
   ]
  },
  {
   "cell_type": "code",
   "execution_count": 44,
   "id": "a289677c",
   "metadata": {},
   "outputs": [],
   "source": [
    "col1 = np.arange(40,61,2)\n",
    "col2 = np.arange(80,100,2)"
   ]
  },
  {
   "cell_type": "code",
   "execution_count": 45,
   "id": "6649d574",
   "metadata": {},
   "outputs": [],
   "source": [
    "col1 = pd.Series(col1)\n",
    "col2 = pd.Series(col2)"
   ]
  },
  {
   "cell_type": "code",
   "execution_count": 46,
   "id": "b5507a44",
   "metadata": {},
   "outputs": [],
   "source": [
    "d = {\"col1\":col1,\"col2\":col2}"
   ]
  },
  {
   "cell_type": "code",
   "execution_count": 49,
   "id": "5dca59c0",
   "metadata": {},
   "outputs": [],
   "source": [
    "data = pd.DataFrame(d,columns=[\"col1\",\"col2\"],)\n",
    "\n",
    "# data , columns\n",
    "# len of the columns are not same then youll end up with missin values\n",
    "\n",
    "# 1 D array \n",
    "\n"
   ]
  },
  {
   "cell_type": "code",
   "execution_count": 50,
   "id": "04b8b69b",
   "metadata": {},
   "outputs": [
    {
     "data": {
      "text/html": [
       "<div>\n",
       "<style scoped>\n",
       "    .dataframe tbody tr th:only-of-type {\n",
       "        vertical-align: middle;\n",
       "    }\n",
       "\n",
       "    .dataframe tbody tr th {\n",
       "        vertical-align: top;\n",
       "    }\n",
       "\n",
       "    .dataframe thead th {\n",
       "        text-align: right;\n",
       "    }\n",
       "</style>\n",
       "<table border=\"1\" class=\"dataframe\">\n",
       "  <thead>\n",
       "    <tr style=\"text-align: right;\">\n",
       "      <th></th>\n",
       "      <th>col1</th>\n",
       "      <th>col2</th>\n",
       "    </tr>\n",
       "  </thead>\n",
       "  <tbody>\n",
       "    <tr>\n",
       "      <th>0</th>\n",
       "      <td>40</td>\n",
       "      <td>80.0</td>\n",
       "    </tr>\n",
       "    <tr>\n",
       "      <th>1</th>\n",
       "      <td>42</td>\n",
       "      <td>82.0</td>\n",
       "    </tr>\n",
       "    <tr>\n",
       "      <th>2</th>\n",
       "      <td>44</td>\n",
       "      <td>84.0</td>\n",
       "    </tr>\n",
       "    <tr>\n",
       "      <th>3</th>\n",
       "      <td>46</td>\n",
       "      <td>86.0</td>\n",
       "    </tr>\n",
       "    <tr>\n",
       "      <th>4</th>\n",
       "      <td>48</td>\n",
       "      <td>88.0</td>\n",
       "    </tr>\n",
       "    <tr>\n",
       "      <th>5</th>\n",
       "      <td>50</td>\n",
       "      <td>90.0</td>\n",
       "    </tr>\n",
       "    <tr>\n",
       "      <th>6</th>\n",
       "      <td>52</td>\n",
       "      <td>92.0</td>\n",
       "    </tr>\n",
       "    <tr>\n",
       "      <th>7</th>\n",
       "      <td>54</td>\n",
       "      <td>94.0</td>\n",
       "    </tr>\n",
       "    <tr>\n",
       "      <th>8</th>\n",
       "      <td>56</td>\n",
       "      <td>96.0</td>\n",
       "    </tr>\n",
       "    <tr>\n",
       "      <th>9</th>\n",
       "      <td>58</td>\n",
       "      <td>98.0</td>\n",
       "    </tr>\n",
       "    <tr>\n",
       "      <th>10</th>\n",
       "      <td>60</td>\n",
       "      <td>NaN</td>\n",
       "    </tr>\n",
       "  </tbody>\n",
       "</table>\n",
       "</div>"
      ],
      "text/plain": [
       "    col1  col2\n",
       "0     40  80.0\n",
       "1     42  82.0\n",
       "2     44  84.0\n",
       "3     46  86.0\n",
       "4     48  88.0\n",
       "5     50  90.0\n",
       "6     52  92.0\n",
       "7     54  94.0\n",
       "8     56  96.0\n",
       "9     58  98.0\n",
       "10    60   NaN"
      ]
     },
     "execution_count": 50,
     "metadata": {},
     "output_type": "execute_result"
    }
   ],
   "source": [
    "data"
   ]
  },
  {
   "cell_type": "code",
   "execution_count": 53,
   "id": "9b747c28",
   "metadata": {},
   "outputs": [],
   "source": [
    "# creating a dataframe from a list\n",
    "\n",
    "# creating a dataframe from a tuple\n",
    "\n",
    "data = [[45,65,\"charan\"],[95,65,\"rakesh\"]]"
   ]
  },
  {
   "cell_type": "code",
   "execution_count": 54,
   "id": "bada7403",
   "metadata": {},
   "outputs": [],
   "source": [
    "F = pd.DataFrame(data,columns=[\"M1\",\"M2\",\"Student_Name\"])"
   ]
  },
  {
   "cell_type": "code",
   "execution_count": 55,
   "id": "06fe07c1",
   "metadata": {},
   "outputs": [
    {
     "data": {
      "text/html": [
       "<div>\n",
       "<style scoped>\n",
       "    .dataframe tbody tr th:only-of-type {\n",
       "        vertical-align: middle;\n",
       "    }\n",
       "\n",
       "    .dataframe tbody tr th {\n",
       "        vertical-align: top;\n",
       "    }\n",
       "\n",
       "    .dataframe thead th {\n",
       "        text-align: right;\n",
       "    }\n",
       "</style>\n",
       "<table border=\"1\" class=\"dataframe\">\n",
       "  <thead>\n",
       "    <tr style=\"text-align: right;\">\n",
       "      <th></th>\n",
       "      <th>M1</th>\n",
       "      <th>M2</th>\n",
       "      <th>Student_Name</th>\n",
       "    </tr>\n",
       "  </thead>\n",
       "  <tbody>\n",
       "    <tr>\n",
       "      <th>0</th>\n",
       "      <td>45</td>\n",
       "      <td>65</td>\n",
       "      <td>charan</td>\n",
       "    </tr>\n",
       "    <tr>\n",
       "      <th>1</th>\n",
       "      <td>95</td>\n",
       "      <td>65</td>\n",
       "      <td>rakesh</td>\n",
       "    </tr>\n",
       "  </tbody>\n",
       "</table>\n",
       "</div>"
      ],
      "text/plain": [
       "   M1  M2 Student_Name\n",
       "0  45  65       charan\n",
       "1  95  65       rakesh"
      ]
     },
     "execution_count": 55,
     "metadata": {},
     "output_type": "execute_result"
    }
   ],
   "source": [
    "F"
   ]
  },
  {
   "cell_type": "code",
   "execution_count": 56,
   "id": "e31a603b",
   "metadata": {},
   "outputs": [],
   "source": [
    "# Excel file, CSV\n",
    "\n",
    "# Database\n",
    "\n",
    "# for loading a csv file\n",
    "\n",
    "# pd.read_csv(\"path to file\")\n",
    "\n",
    "data = pd.read_csv(r\"C:\\Users\\DELL E5490\\OneDrive\\Desktop\\std_data1.csv\")"
   ]
  },
  {
   "cell_type": "code",
   "execution_count": 65,
   "id": "e6d99c88",
   "metadata": {},
   "outputs": [
    {
     "data": {
      "text/plain": [
       "Index(['SNAME', 'SCLASS ', 'ENGLISH', 'COMPUTER', 'SCIENCE'], dtype='object')"
      ]
     },
     "execution_count": 65,
     "metadata": {},
     "output_type": "execute_result"
    }
   ],
   "source": [
    "data.columns"
   ]
  },
  {
   "cell_type": "code",
   "execution_count": 68,
   "id": "86f69f88",
   "metadata": {},
   "outputs": [
    {
     "data": {
      "text/plain": [
       "0    A\n",
       "1    B\n",
       "2    C\n",
       "3    D\n",
       "Name: SNAME, dtype: object"
      ]
     },
     "execution_count": 68,
     "metadata": {},
     "output_type": "execute_result"
    }
   ],
   "source": [
    "data.SNAME[0:4]"
   ]
  },
  {
   "cell_type": "code",
   "execution_count": 67,
   "id": "a684e41b",
   "metadata": {},
   "outputs": [
    {
     "data": {
      "text/plain": [
       "0    10\n",
       "1    12\n",
       "2    11\n",
       "3    10\n",
       "Name: SCLASS , dtype: int64"
      ]
     },
     "execution_count": 67,
     "metadata": {},
     "output_type": "execute_result"
    }
   ],
   "source": [
    "data[\"SCLASS \"][0:4]"
   ]
  },
  {
   "cell_type": "code",
   "execution_count": null,
   "id": "5332592e",
   "metadata": {},
   "outputs": [],
   "source": [
    "# data.column[index] # oops -attribute,method\n",
    "# data[\"colum_name\"][index] - dictionaries"
   ]
  },
  {
   "cell_type": "code",
   "execution_count": 58,
   "id": "e0fd47e5",
   "metadata": {},
   "outputs": [],
   "source": [
    "# attributes and methods of a dataframe\n",
    "# attributes - shape,columns,index\n",
    "# methods - head,describe,info"
   ]
  },
  {
   "cell_type": "code",
   "execution_count": 73,
   "id": "8bf51d81",
   "metadata": {},
   "outputs": [
    {
     "name": "stdout",
     "output_type": "stream",
     "text": [
      "(8, 5)\n",
      "Index(['SNAME', 'SCLASS ', 'ENGLISH', 'COMPUTER', 'SCIENCE'], dtype='object')\n",
      "RangeIndex(start=0, stop=8, step=1)\n"
     ]
    }
   ],
   "source": [
    "# attributes - shape, cols, index\n",
    "print(data.shape)\n",
    "print(data.columns)\n",
    "print(data.index)"
   ]
  },
  {
   "cell_type": "code",
   "execution_count": 76,
   "id": "4a7d1af6",
   "metadata": {},
   "outputs": [],
   "source": [
    "# methods - head,describe,info"
   ]
  },
  {
   "cell_type": "code",
   "execution_count": 77,
   "id": "4cd94274",
   "metadata": {},
   "outputs": [
    {
     "data": {
      "text/html": [
       "<div>\n",
       "<style scoped>\n",
       "    .dataframe tbody tr th:only-of-type {\n",
       "        vertical-align: middle;\n",
       "    }\n",
       "\n",
       "    .dataframe tbody tr th {\n",
       "        vertical-align: top;\n",
       "    }\n",
       "\n",
       "    .dataframe thead th {\n",
       "        text-align: right;\n",
       "    }\n",
       "</style>\n",
       "<table border=\"1\" class=\"dataframe\">\n",
       "  <thead>\n",
       "    <tr style=\"text-align: right;\">\n",
       "      <th></th>\n",
       "      <th>SNAME</th>\n",
       "      <th>SCLASS</th>\n",
       "      <th>ENGLISH</th>\n",
       "      <th>COMPUTER</th>\n",
       "      <th>SCIENCE</th>\n",
       "    </tr>\n",
       "  </thead>\n",
       "  <tbody>\n",
       "    <tr>\n",
       "      <th>0</th>\n",
       "      <td>A</td>\n",
       "      <td>10</td>\n",
       "      <td>67</td>\n",
       "      <td>66</td>\n",
       "      <td>66</td>\n",
       "    </tr>\n",
       "    <tr>\n",
       "      <th>1</th>\n",
       "      <td>B</td>\n",
       "      <td>12</td>\n",
       "      <td>87</td>\n",
       "      <td>56</td>\n",
       "      <td>65</td>\n",
       "    </tr>\n",
       "    <tr>\n",
       "      <th>2</th>\n",
       "      <td>C</td>\n",
       "      <td>11</td>\n",
       "      <td>66</td>\n",
       "      <td>89</td>\n",
       "      <td>63</td>\n",
       "    </tr>\n",
       "    <tr>\n",
       "      <th>3</th>\n",
       "      <td>D</td>\n",
       "      <td>10</td>\n",
       "      <td>56</td>\n",
       "      <td>88</td>\n",
       "      <td>66</td>\n",
       "    </tr>\n",
       "    <tr>\n",
       "      <th>4</th>\n",
       "      <td>E</td>\n",
       "      <td>10</td>\n",
       "      <td>89</td>\n",
       "      <td>90</td>\n",
       "      <td>56</td>\n",
       "    </tr>\n",
       "  </tbody>\n",
       "</table>\n",
       "</div>"
      ],
      "text/plain": [
       "  SNAME  SCLASS   ENGLISH  COMPUTER  SCIENCE\n",
       "0     A       10       67        66       66\n",
       "1     B       12       87        56       65\n",
       "2     C       11       66        89       63\n",
       "3     D       10       56        88       66\n",
       "4     E       10       89        90       56"
      ]
     },
     "execution_count": 77,
     "metadata": {},
     "output_type": "execute_result"
    }
   ],
   "source": [
    "data.head() # first 5 rows"
   ]
  },
  {
   "cell_type": "code",
   "execution_count": 78,
   "id": "d45009c2",
   "metadata": {},
   "outputs": [
    {
     "data": {
      "text/html": [
       "<div>\n",
       "<style scoped>\n",
       "    .dataframe tbody tr th:only-of-type {\n",
       "        vertical-align: middle;\n",
       "    }\n",
       "\n",
       "    .dataframe tbody tr th {\n",
       "        vertical-align: top;\n",
       "    }\n",
       "\n",
       "    .dataframe thead th {\n",
       "        text-align: right;\n",
       "    }\n",
       "</style>\n",
       "<table border=\"1\" class=\"dataframe\">\n",
       "  <thead>\n",
       "    <tr style=\"text-align: right;\">\n",
       "      <th></th>\n",
       "      <th>SNAME</th>\n",
       "      <th>SCLASS</th>\n",
       "      <th>ENGLISH</th>\n",
       "      <th>COMPUTER</th>\n",
       "      <th>SCIENCE</th>\n",
       "    </tr>\n",
       "  </thead>\n",
       "  <tbody>\n",
       "    <tr>\n",
       "      <th>3</th>\n",
       "      <td>D</td>\n",
       "      <td>10</td>\n",
       "      <td>56</td>\n",
       "      <td>88</td>\n",
       "      <td>66</td>\n",
       "    </tr>\n",
       "    <tr>\n",
       "      <th>4</th>\n",
       "      <td>E</td>\n",
       "      <td>10</td>\n",
       "      <td>89</td>\n",
       "      <td>90</td>\n",
       "      <td>56</td>\n",
       "    </tr>\n",
       "    <tr>\n",
       "      <th>5</th>\n",
       "      <td>F</td>\n",
       "      <td>9</td>\n",
       "      <td>88</td>\n",
       "      <td>85</td>\n",
       "      <td>89</td>\n",
       "    </tr>\n",
       "    <tr>\n",
       "      <th>6</th>\n",
       "      <td>G</td>\n",
       "      <td>12</td>\n",
       "      <td>90</td>\n",
       "      <td>83</td>\n",
       "      <td>88</td>\n",
       "    </tr>\n",
       "    <tr>\n",
       "      <th>7</th>\n",
       "      <td>H</td>\n",
       "      <td>11</td>\n",
       "      <td>79</td>\n",
       "      <td>88</td>\n",
       "      <td>90</td>\n",
       "    </tr>\n",
       "  </tbody>\n",
       "</table>\n",
       "</div>"
      ],
      "text/plain": [
       "  SNAME  SCLASS   ENGLISH  COMPUTER  SCIENCE\n",
       "3     D       10       56        88       66\n",
       "4     E       10       89        90       56\n",
       "5     F        9       88        85       89\n",
       "6     G       12       90        83       88\n",
       "7     H       11       79        88       90"
      ]
     },
     "execution_count": 78,
     "metadata": {},
     "output_type": "execute_result"
    }
   ],
   "source": [
    "data.tail() # first 5 rows"
   ]
  },
  {
   "cell_type": "code",
   "execution_count": 79,
   "id": "f6ae278e",
   "metadata": {},
   "outputs": [
    {
     "data": {
      "text/html": [
       "<div>\n",
       "<style scoped>\n",
       "    .dataframe tbody tr th:only-of-type {\n",
       "        vertical-align: middle;\n",
       "    }\n",
       "\n",
       "    .dataframe tbody tr th {\n",
       "        vertical-align: top;\n",
       "    }\n",
       "\n",
       "    .dataframe thead th {\n",
       "        text-align: right;\n",
       "    }\n",
       "</style>\n",
       "<table border=\"1\" class=\"dataframe\">\n",
       "  <thead>\n",
       "    <tr style=\"text-align: right;\">\n",
       "      <th></th>\n",
       "      <th>SCLASS</th>\n",
       "      <th>ENGLISH</th>\n",
       "      <th>COMPUTER</th>\n",
       "      <th>SCIENCE</th>\n",
       "    </tr>\n",
       "  </thead>\n",
       "  <tbody>\n",
       "    <tr>\n",
       "      <th>count</th>\n",
       "      <td>8.00000</td>\n",
       "      <td>8.000000</td>\n",
       "      <td>8.000000</td>\n",
       "      <td>8.000000</td>\n",
       "    </tr>\n",
       "    <tr>\n",
       "      <th>mean</th>\n",
       "      <td>10.62500</td>\n",
       "      <td>77.750000</td>\n",
       "      <td>80.625000</td>\n",
       "      <td>72.875000</td>\n",
       "    </tr>\n",
       "    <tr>\n",
       "      <th>std</th>\n",
       "      <td>1.06066</td>\n",
       "      <td>13.068501</td>\n",
       "      <td>12.603146</td>\n",
       "      <td>13.736682</td>\n",
       "    </tr>\n",
       "    <tr>\n",
       "      <th>min</th>\n",
       "      <td>9.00000</td>\n",
       "      <td>56.000000</td>\n",
       "      <td>56.000000</td>\n",
       "      <td>56.000000</td>\n",
       "    </tr>\n",
       "    <tr>\n",
       "      <th>25%</th>\n",
       "      <td>10.00000</td>\n",
       "      <td>66.750000</td>\n",
       "      <td>78.750000</td>\n",
       "      <td>64.500000</td>\n",
       "    </tr>\n",
       "    <tr>\n",
       "      <th>50%</th>\n",
       "      <td>10.50000</td>\n",
       "      <td>83.000000</td>\n",
       "      <td>86.500000</td>\n",
       "      <td>66.000000</td>\n",
       "    </tr>\n",
       "    <tr>\n",
       "      <th>75%</th>\n",
       "      <td>11.25000</td>\n",
       "      <td>88.250000</td>\n",
       "      <td>88.250000</td>\n",
       "      <td>88.250000</td>\n",
       "    </tr>\n",
       "    <tr>\n",
       "      <th>max</th>\n",
       "      <td>12.00000</td>\n",
       "      <td>90.000000</td>\n",
       "      <td>90.000000</td>\n",
       "      <td>90.000000</td>\n",
       "    </tr>\n",
       "  </tbody>\n",
       "</table>\n",
       "</div>"
      ],
      "text/plain": [
       "        SCLASS     ENGLISH   COMPUTER    SCIENCE\n",
       "count   8.00000   8.000000   8.000000   8.000000\n",
       "mean   10.62500  77.750000  80.625000  72.875000\n",
       "std     1.06066  13.068501  12.603146  13.736682\n",
       "min     9.00000  56.000000  56.000000  56.000000\n",
       "25%    10.00000  66.750000  78.750000  64.500000\n",
       "50%    10.50000  83.000000  86.500000  66.000000\n",
       "75%    11.25000  88.250000  88.250000  88.250000\n",
       "max    12.00000  90.000000  90.000000  90.000000"
      ]
     },
     "execution_count": 79,
     "metadata": {},
     "output_type": "execute_result"
    }
   ],
   "source": [
    "data.describe() # numerical cols "
   ]
  },
  {
   "cell_type": "code",
   "execution_count": 80,
   "id": "5c0f4bbe",
   "metadata": {},
   "outputs": [
    {
     "name": "stdout",
     "output_type": "stream",
     "text": [
      "<class 'pandas.core.frame.DataFrame'>\n",
      "RangeIndex: 8 entries, 0 to 7\n",
      "Data columns (total 5 columns):\n",
      " #   Column    Non-Null Count  Dtype \n",
      "---  ------    --------------  ----- \n",
      " 0   SNAME     8 non-null      object\n",
      " 1   SCLASS    8 non-null      int64 \n",
      " 2   ENGLISH   8 non-null      int64 \n",
      " 3   COMPUTER  8 non-null      int64 \n",
      " 4   SCIENCE   8 non-null      int64 \n",
      "dtypes: int64(4), object(1)\n",
      "memory usage: 452.0+ bytes\n"
     ]
    }
   ],
   "source": [
    "data.info()"
   ]
  },
  {
   "cell_type": "code",
   "execution_count": 83,
   "id": "5682875f",
   "metadata": {},
   "outputs": [
    {
     "data": {
      "text/html": [
       "<div>\n",
       "<style scoped>\n",
       "    .dataframe tbody tr th:only-of-type {\n",
       "        vertical-align: middle;\n",
       "    }\n",
       "\n",
       "    .dataframe tbody tr th {\n",
       "        vertical-align: top;\n",
       "    }\n",
       "\n",
       "    .dataframe thead th {\n",
       "        text-align: right;\n",
       "    }\n",
       "</style>\n",
       "<table border=\"1\" class=\"dataframe\">\n",
       "  <thead>\n",
       "    <tr style=\"text-align: right;\">\n",
       "      <th></th>\n",
       "      <th>SNAME</th>\n",
       "      <th>SCLASS</th>\n",
       "      <th>ENGLISH</th>\n",
       "      <th>COMPUTER</th>\n",
       "      <th>SCIENCE</th>\n",
       "    </tr>\n",
       "  </thead>\n",
       "  <tbody>\n",
       "    <tr>\n",
       "      <th>0</th>\n",
       "      <td>A</td>\n",
       "      <td>10</td>\n",
       "      <td>67</td>\n",
       "      <td>66</td>\n",
       "      <td>66</td>\n",
       "    </tr>\n",
       "    <tr>\n",
       "      <th>1</th>\n",
       "      <td>B</td>\n",
       "      <td>12</td>\n",
       "      <td>87</td>\n",
       "      <td>56</td>\n",
       "      <td>65</td>\n",
       "    </tr>\n",
       "    <tr>\n",
       "      <th>2</th>\n",
       "      <td>C</td>\n",
       "      <td>11</td>\n",
       "      <td>66</td>\n",
       "      <td>89</td>\n",
       "      <td>63</td>\n",
       "    </tr>\n",
       "    <tr>\n",
       "      <th>3</th>\n",
       "      <td>D</td>\n",
       "      <td>10</td>\n",
       "      <td>56</td>\n",
       "      <td>88</td>\n",
       "      <td>66</td>\n",
       "    </tr>\n",
       "    <tr>\n",
       "      <th>4</th>\n",
       "      <td>E</td>\n",
       "      <td>10</td>\n",
       "      <td>89</td>\n",
       "      <td>90</td>\n",
       "      <td>56</td>\n",
       "    </tr>\n",
       "    <tr>\n",
       "      <th>5</th>\n",
       "      <td>F</td>\n",
       "      <td>9</td>\n",
       "      <td>88</td>\n",
       "      <td>85</td>\n",
       "      <td>89</td>\n",
       "    </tr>\n",
       "    <tr>\n",
       "      <th>6</th>\n",
       "      <td>G</td>\n",
       "      <td>12</td>\n",
       "      <td>90</td>\n",
       "      <td>83</td>\n",
       "      <td>88</td>\n",
       "    </tr>\n",
       "    <tr>\n",
       "      <th>7</th>\n",
       "      <td>H</td>\n",
       "      <td>11</td>\n",
       "      <td>79</td>\n",
       "      <td>88</td>\n",
       "      <td>90</td>\n",
       "    </tr>\n",
       "  </tbody>\n",
       "</table>\n",
       "</div>"
      ],
      "text/plain": [
       "  SNAME  SCLASS   ENGLISH  COMPUTER  SCIENCE\n",
       "0     A       10       67        66       66\n",
       "1     B       12       87        56       65\n",
       "2     C       11       66        89       63\n",
       "3     D       10       56        88       66\n",
       "4     E       10       89        90       56\n",
       "5     F        9       88        85       89\n",
       "6     G       12       90        83       88\n",
       "7     H       11       79        88       90"
      ]
     },
     "execution_count": 83,
     "metadata": {},
     "output_type": "execute_result"
    }
   ],
   "source": [
    "data"
   ]
  },
  {
   "cell_type": "code",
   "execution_count": null,
   "id": "8f3ad8fa",
   "metadata": {},
   "outputs": [],
   "source": [
    "# - sum()\n",
    "# - min() and max()\n",
    "# - mean(), median(), var() and std()\n",
    "# - describe()\n",
    "# - corr(), skew() and kurt()\n",
    "# - count(), unique(), nunique() and value_counts()"
   ]
  },
  {
   "cell_type": "code",
   "execution_count": 85,
   "id": "8a5400d9",
   "metadata": {},
   "outputs": [
    {
     "data": {
      "text/plain": [
       "622"
      ]
     },
     "execution_count": 85,
     "metadata": {},
     "output_type": "execute_result"
    }
   ],
   "source": [
    "data[\"ENGLISH\"].sum()"
   ]
  },
  {
   "cell_type": "code",
   "execution_count": 86,
   "id": "a0ec9bcf",
   "metadata": {},
   "outputs": [
    {
     "data": {
      "text/plain": [
       "56"
      ]
     },
     "execution_count": 86,
     "metadata": {},
     "output_type": "execute_result"
    }
   ],
   "source": [
    "data[\"ENGLISH\"].min()"
   ]
  },
  {
   "cell_type": "code",
   "execution_count": 87,
   "id": "2d9b85f5",
   "metadata": {},
   "outputs": [
    {
     "data": {
      "text/plain": [
       "90"
      ]
     },
     "execution_count": 87,
     "metadata": {},
     "output_type": "execute_result"
    }
   ],
   "source": [
    "data[\"ENGLISH\"].max()"
   ]
  },
  {
   "cell_type": "code",
   "execution_count": 88,
   "id": "4ee0811f",
   "metadata": {},
   "outputs": [
    {
     "data": {
      "text/plain": [
       "77.75"
      ]
     },
     "execution_count": 88,
     "metadata": {},
     "output_type": "execute_result"
    }
   ],
   "source": [
    "data[\"ENGLISH\"].mean()"
   ]
  },
  {
   "cell_type": "code",
   "execution_count": 91,
   "id": "9e458b3d",
   "metadata": {},
   "outputs": [
    {
     "data": {
      "text/plain": [
       "83.0"
      ]
     },
     "execution_count": 91,
     "metadata": {},
     "output_type": "execute_result"
    }
   ],
   "source": [
    "data[\"ENGLISH\"].median()"
   ]
  },
  {
   "cell_type": "code",
   "execution_count": 92,
   "id": "fe3bba8b",
   "metadata": {},
   "outputs": [
    {
     "data": {
      "text/plain": [
       "170.78571428571428"
      ]
     },
     "execution_count": 92,
     "metadata": {},
     "output_type": "execute_result"
    }
   ],
   "source": [
    "data[\"ENGLISH\"].var()"
   ]
  },
  {
   "cell_type": "code",
   "execution_count": 93,
   "id": "f2c2008a",
   "metadata": {},
   "outputs": [
    {
     "data": {
      "text/plain": [
       "13.068500843085035"
      ]
     },
     "execution_count": 93,
     "metadata": {},
     "output_type": "execute_result"
    }
   ],
   "source": [
    "data[\"ENGLISH\"].std()"
   ]
  },
  {
   "cell_type": "code",
   "execution_count": null,
   "id": "31a1bb99",
   "metadata": {},
   "outputs": [],
   "source": [
    "# - corr() -  relationship b\n",
    "# - skew()\n",
    "# - kurt()"
   ]
  },
  {
   "cell_type": "code",
   "execution_count": 94,
   "id": "b3a9b121",
   "metadata": {},
   "outputs": [
    {
     "data": {
      "text/plain": [
       "<Axes: ylabel='Density'>"
      ]
     },
     "execution_count": 94,
     "metadata": {},
     "output_type": "execute_result"
    },
    {
     "data": {
      "image/png": "[encoded data removed]",
      "text/plain": [
       "<Figure size 640x480 with 1 Axes>"
      ]
     },
     "metadata": {},
     "output_type": "display_data"
    }
   ],
   "source": [
    "data[\"ENGLISH\"].plot(kind=\"density\")"
   ]
  },
  {
   "cell_type": "code",
   "execution_count": 99,
   "id": "cc0df089",
   "metadata": {},
   "outputs": [
    {
     "data": {
      "text/plain": [
       "-0.6845504152474479"
      ]
     },
     "execution_count": 99,
     "metadata": {},
     "output_type": "execute_result"
    }
   ],
   "source": [
    "data[\"ENGLISH\"].skew() # skewness measure - measure of symmetry "
   ]
  },
  {
   "cell_type": "code",
   "execution_count": 100,
   "id": "198610e6",
   "metadata": {},
   "outputs": [
    {
     "data": {
      "text/plain": [
       "-1.2195872539589336"
      ]
     },
     "execution_count": 100,
     "metadata": {},
     "output_type": "execute_result"
    }
   ],
   "source": [
    "data[\"ENGLISH\"].kurt() # "
   ]
  },
  {
   "cell_type": "code",
   "execution_count": 98,
   "id": "4e5ddbdc",
   "metadata": {},
   "outputs": [
    {
     "data": {
      "text/html": [
       "<div>\n",
       "<style scoped>\n",
       "    .dataframe tbody tr th:only-of-type {\n",
       "        vertical-align: middle;\n",
       "    }\n",
       "\n",
       "    .dataframe tbody tr th {\n",
       "        vertical-align: top;\n",
       "    }\n",
       "\n",
       "    .dataframe thead th {\n",
       "        text-align: right;\n",
       "    }\n",
       "</style>\n",
       "<table border=\"1\" class=\"dataframe\">\n",
       "  <thead>\n",
       "    <tr style=\"text-align: right;\">\n",
       "      <th></th>\n",
       "      <th>ENGLISH</th>\n",
       "      <th>COMPUTER</th>\n",
       "      <th>SCIENCE</th>\n",
       "    </tr>\n",
       "  </thead>\n",
       "  <tbody>\n",
       "    <tr>\n",
       "      <th>ENGLISH</th>\n",
       "      <td>1.000000</td>\n",
       "      <td>-0.12208</td>\n",
       "      <td>0.357107</td>\n",
       "    </tr>\n",
       "    <tr>\n",
       "      <th>COMPUTER</th>\n",
       "      <td>-0.122080</td>\n",
       "      <td>1.00000</td>\n",
       "      <td>0.194430</td>\n",
       "    </tr>\n",
       "    <tr>\n",
       "      <th>SCIENCE</th>\n",
       "      <td>0.357107</td>\n",
       "      <td>0.19443</td>\n",
       "      <td>1.000000</td>\n",
       "    </tr>\n",
       "  </tbody>\n",
       "</table>\n",
       "</div>"
      ],
      "text/plain": [
       "           ENGLISH  COMPUTER   SCIENCE\n",
       "ENGLISH   1.000000  -0.12208  0.357107\n",
       "COMPUTER -0.122080   1.00000  0.194430\n",
       "SCIENCE   0.357107   0.19443  1.000000"
      ]
     },
     "execution_count": 98,
     "metadata": {},
     "output_type": "execute_result"
    }
   ],
   "source": [
    "data[[\"ENGLISH\",\"COMPUTER\",\"SCIENCE\"]].corr()"
   ]
  },
  {
   "cell_type": "code",
   "execution_count": null,
   "id": "f1d14d9e",
   "metadata": {},
   "outputs": [],
   "source": [
    "# - count(), unique(), nunique() and value_counts()"
   ]
  },
  {
   "cell_type": "code",
   "execution_count": 101,
   "id": "a2a0f3b9",
   "metadata": {},
   "outputs": [],
   "source": [
    "df = pd.read_csv(r\"C:\\Users\\DELL E5490\\OneDrive\\Desktop\\Backup_13-08-2024\\data\\loandata.csv\")"
   ]
  },
  {
   "cell_type": "code",
   "execution_count": 102,
   "id": "142f4c38",
   "metadata": {},
   "outputs": [
    {
     "data": {
      "text/html": [
       "<div>\n",
       "<style scoped>\n",
       "    .dataframe tbody tr th:only-of-type {\n",
       "        vertical-align: middle;\n",
       "    }\n",
       "\n",
       "    .dataframe tbody tr th {\n",
       "        vertical-align: top;\n",
       "    }\n",
       "\n",
       "    .dataframe thead th {\n",
       "        text-align: right;\n",
       "    }\n",
       "</style>\n",
       "<table border=\"1\" class=\"dataframe\">\n",
       "  <thead>\n",
       "    <tr style=\"text-align: right;\">\n",
       "      <th></th>\n",
       "      <th>Loan_ID</th>\n",
       "      <th>Gender</th>\n",
       "      <th>Married</th>\n",
       "      <th>Dependents</th>\n",
       "      <th>Education</th>\n",
       "      <th>Self_Employed</th>\n",
       "      <th>ApplicantIncome</th>\n",
       "      <th>CoapplicantIncome</th>\n",
       "      <th>LoanAmount</th>\n",
       "      <th>Loan_Amount_Term</th>\n",
       "      <th>Credit_History</th>\n",
       "      <th>Property_Area</th>\n",
       "      <th>Loan_Status</th>\n",
       "    </tr>\n",
       "  </thead>\n",
       "  <tbody>\n",
       "    <tr>\n",
       "      <th>0</th>\n",
       "      <td>LP001722</td>\n",
       "      <td>Male</td>\n",
       "      <td>Yes</td>\n",
       "      <td>0</td>\n",
       "      <td>Graduate</td>\n",
       "      <td>No</td>\n",
       "      <td>150</td>\n",
       "      <td>1800.0</td>\n",
       "      <td>135.0</td>\n",
       "      <td>360.0</td>\n",
       "      <td>1.0</td>\n",
       "      <td>Rural</td>\n",
       "      <td>N</td>\n",
       "    </tr>\n",
       "    <tr>\n",
       "      <th>1</th>\n",
       "      <td>LP002502</td>\n",
       "      <td>Female</td>\n",
       "      <td>Yes</td>\n",
       "      <td>2</td>\n",
       "      <td>Not Graduate</td>\n",
       "      <td>NaN</td>\n",
       "      <td>210</td>\n",
       "      <td>2917.0</td>\n",
       "      <td>98.0</td>\n",
       "      <td>360.0</td>\n",
       "      <td>1.0</td>\n",
       "      <td>Semiurban</td>\n",
       "      <td>Y</td>\n",
       "    </tr>\n",
       "    <tr>\n",
       "      <th>2</th>\n",
       "      <td>LP002949</td>\n",
       "      <td>Female</td>\n",
       "      <td>No</td>\n",
       "      <td>3+</td>\n",
       "      <td>Graduate</td>\n",
       "      <td>NaN</td>\n",
       "      <td>416</td>\n",
       "      <td>41667.0</td>\n",
       "      <td>350.0</td>\n",
       "      <td>180.0</td>\n",
       "      <td>NaN</td>\n",
       "      <td>Urban</td>\n",
       "      <td>N</td>\n",
       "    </tr>\n",
       "    <tr>\n",
       "      <th>3</th>\n",
       "      <td>LP002603</td>\n",
       "      <td>Female</td>\n",
       "      <td>No</td>\n",
       "      <td>0</td>\n",
       "      <td>Graduate</td>\n",
       "      <td>No</td>\n",
       "      <td>645</td>\n",
       "      <td>3683.0</td>\n",
       "      <td>113.0</td>\n",
       "      <td>480.0</td>\n",
       "      <td>1.0</td>\n",
       "      <td>Rural</td>\n",
       "      <td>Y</td>\n",
       "    </tr>\n",
       "    <tr>\n",
       "      <th>4</th>\n",
       "      <td>LP001644</td>\n",
       "      <td>NaN</td>\n",
       "      <td>Yes</td>\n",
       "      <td>0</td>\n",
       "      <td>Graduate</td>\n",
       "      <td>Yes</td>\n",
       "      <td>674</td>\n",
       "      <td>5296.0</td>\n",
       "      <td>168.0</td>\n",
       "      <td>360.0</td>\n",
       "      <td>1.0</td>\n",
       "      <td>Rural</td>\n",
       "      <td>Y</td>\n",
       "    </tr>\n",
       "  </tbody>\n",
       "</table>\n",
       "</div>"
      ],
      "text/plain": [
       "    Loan_ID  Gender Married Dependents     Education  ... LoanAmount  Loan_Amount_Term  Credit_History  Property_Area  Loan_Status\n",
       "0  LP001722    Male     Yes          0      Graduate  ...      135.0             360.0             1.0          Rural            N\n",
       "1  LP002502  Female     Yes          2  Not Graduate  ...       98.0             360.0             1.0      Semiurban            Y\n",
       "2  LP002949  Female      No         3+      Graduate  ...      350.0             180.0             NaN          Urban            N\n",
       "3  LP002603  Female      No          0      Graduate  ...      113.0             480.0             1.0          Rural            Y\n",
       "4  LP001644     NaN     Yes          0      Graduate  ...      168.0             360.0             1.0          Rural            Y\n",
       "\n",
       "[5 rows x 13 columns]"
      ]
     },
     "execution_count": 102,
     "metadata": {},
     "output_type": "execute_result"
    }
   ],
   "source": [
    "df.head()"
   ]
  },
  {
   "cell_type": "code",
   "execution_count": 104,
   "id": "9f24c9df",
   "metadata": {},
   "outputs": [
    {
     "data": {
      "text/plain": [
       "Married\n",
       "Yes    398\n",
       "No     213\n",
       "Name: count, dtype: int64"
      ]
     },
     "execution_count": 104,
     "metadata": {},
     "output_type": "execute_result"
    }
   ],
   "source": [
    "df[\"Married\"].value_counts()"
   ]
  },
  {
   "cell_type": "code",
   "execution_count": null,
   "id": "5fac9e33",
   "metadata": {},
   "outputs": [],
   "source": []
  }
 ],
 "metadata": {
  "kernelspec": {
   "display_name": "Python 3 (ipykernel)",
   "language": "python",
   "name": "python3"
  },
  "language_info": {
   "codemirror_mode": {
    "name": "ipython",
    "version": 3
   },
   "file_extension": ".py",
   "mimetype": "text/x-python",
   "name": "python",
   "nbconvert_exporter": "python",
   "pygments_lexer": "ipython3",
   "version": "3.11.5"
  }
 },
 "nbformat": 4,
 "nbformat_minor": 5
}
