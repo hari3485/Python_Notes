{
 "cells": [
  {
   "cell_type": "markdown",
   "id": "a5cf3873",
   "metadata": {},
   "source": [
    "#### 1. Write a function square(x) that returns the square of the number x."
   ]
  },
  {
   "cell_type": "code",
   "execution_count": 6,
   "id": "8a297052",
   "metadata": {},
   "outputs": [
    {
     "data": {
      "text/plain": [
       "25"
      ]
     },
     "execution_count": 6,
     "metadata": {},
     "output_type": "execute_result"
    }
   ],
   "source": [
    "def square_of_no(num):\n",
    "    return num ** 2\n",
    "\n",
    "square_of_no(5)"
   ]
  },
  {
   "cell_type": "markdown",
   "id": "f564d325",
   "metadata": {},
   "source": [
    "#### 2. Write a function to_uppercase(s) that converts all characters in a string s to uppercase"
   ]
  },
  {
   "cell_type": "code",
   "execution_count": 7,
   "id": "4b327e9c",
   "metadata": {},
   "outputs": [
    {
     "data": {
      "text/plain": [
       "'HARIKA'"
      ]
     },
     "execution_count": 7,
     "metadata": {},
     "output_type": "execute_result"
    }
   ],
   "source": [
    "def uppercases(string):\n",
    "    return string.upper()\n",
    "\n",
    "uppercases(\"harika\")"
   ]
  },
  {
   "cell_type": "markdown",
   "id": "05be2e32",
   "metadata": {},
   "source": [
    "#### 3. Write a function find_max(a, b) that returns the maximum of two numbers a and b\n"
   ]
  },
  {
   "cell_type": "code",
   "execution_count": 8,
   "id": "61a805f1",
   "metadata": {},
   "outputs": [
    {
     "data": {
      "text/plain": [
       "8"
      ]
     },
     "execution_count": 8,
     "metadata": {},
     "output_type": "execute_result"
    }
   ],
   "source": [
    "def max_of_2_no(num1,num2):\n",
    "    return max(num1,num2)\n",
    "\n",
    "max_of_2_no(3,8)"
   ]
  },
  {
   "cell_type": "markdown",
   "id": "0b3edbcd",
   "metadata": {},
   "source": [
    "#### 4. Write a function count_vowels(s) that returns the number of vowels (a, e, i, o, u) in a string s."
   ]
  },
  {
   "cell_type": "code",
   "execution_count": 14,
   "id": "d43f8c74",
   "metadata": {},
   "outputs": [
    {
     "name": "stdout",
     "output_type": "stream",
     "text": [
      "4\n"
     ]
    }
   ],
   "source": [
    "def vowels_count(string):\n",
    "    count = 0\n",
    "    for element in string:\n",
    "        if element in \"aeiouAEIOU\":\n",
    "            count += 1\n",
    "    print(count)\n",
    "            \n",
    "vowels_count(\"chintu pappu\")"
   ]
  },
  {
   "cell_type": "markdown",
   "id": "da640c12",
   "metadata": {},
   "source": [
    "#### 5. Write a function concat_strings(s1, s2) that returns the concatenation of two strings s1 and s2."
   ]
  },
  {
   "cell_type": "code",
   "execution_count": 13,
   "id": "9190a82d",
   "metadata": {},
   "outputs": [
    {
     "data": {
      "text/plain": [
       "'lakshmi harika'"
      ]
     },
     "execution_count": 13,
     "metadata": {},
     "output_type": "execute_result"
    }
   ],
   "source": [
    "def concat_strings(string1,string2):\n",
    "    return string1 + string2\n",
    "\n",
    "concat_strings(\"lakshmi \", \"harika\")"
   ]
  },
  {
   "cell_type": "markdown",
   "id": "a1f626a2",
   "metadata": {},
   "source": [
    "#### 6. Write a function remove_duplicates(lst) that takes a list lst and returns a new list with duplicate elements removed."
   ]
  },
  {
   "cell_type": "code",
   "execution_count": 44,
   "id": "860aed56",
   "metadata": {},
   "outputs": [
    {
     "data": {
      "text/plain": [
       "[1, 2, 3, 4, 5, 6, 7]"
      ]
     },
     "execution_count": 44,
     "metadata": {},
     "output_type": "execute_result"
    }
   ],
   "source": [
    "def remove_duplicates(list1):\n",
    "    rem_dup_set = set(list1)\n",
    "    rem_dup_list = list(rem_dup_set)\n",
    "    return rem_dup_list\n",
    "\n",
    "remove_duplicates([1,2,3,4,2,5,7,1,6,1])"
   ]
  },
  {
   "cell_type": "code",
   "execution_count": null,
   "id": "ff03734f",
   "metadata": {},
   "outputs": [],
   "source": []
  },
  {
   "cell_type": "markdown",
   "id": "62d5746a",
   "metadata": {},
   "source": [
    "#### 7. Write a function char_frequency(s) that returns a dictionary where the keys are characters in the string s and the values are the number of times each character appears."
   ]
  },
  {
   "cell_type": "code",
   "execution_count": 33,
   "id": "b5d4b827",
   "metadata": {},
   "outputs": [
    {
     "data": {
      "text/plain": [
       "{'h': 1, 'a': 2, 'r': 1, 'i': 1, 'k': 1}"
      ]
     },
     "execution_count": 33,
     "metadata": {},
     "output_type": "execute_result"
    }
   ],
   "source": [
    "def char_frequency(string1):\n",
    "    dic = {}\n",
    "    count = 0\n",
    "    str1 = \"\"\n",
    "    for element in string1:\n",
    "        keys = element\n",
    "        if element in str1:\n",
    "            count = count + 1\n",
    "        else :\n",
    "            count = 1\n",
    "            str1= str1+element\n",
    "        dic.update({keys:count})\n",
    "    return dic\n",
    "char_frequency(\"harika\")"
   ]
  },
  {
   "cell_type": "markdown",
   "id": "7a6d5a96",
   "metadata": {},
   "source": [
    "#### 8. Write a function sum_even_numbers(lst) that returns the sum of all even numbers in a list lst."
   ]
  },
  {
   "cell_type": "code",
   "execution_count": 39,
   "id": "ece7e525",
   "metadata": {},
   "outputs": [
    {
     "data": {
      "text/plain": [
       "20"
      ]
     },
     "execution_count": 39,
     "metadata": {},
     "output_type": "execute_result"
    }
   ],
   "source": [
    "def sum_even_num(list1):\n",
    "    empty_list = []\n",
    "    for element in list1:\n",
    "        if element % 2 == 0:\n",
    "            empty_list.append(element)\n",
    "    \n",
    "    return sum(empty_list)       \n",
    "sum_even_num([1,2,3,4,5,6,7,8,9])   \n",
    "    "
   ]
  },
  {
   "cell_type": "code",
   "execution_count": 41,
   "id": "52210325",
   "metadata": {},
   "outputs": [
    {
     "data": {
      "text/plain": [
       "20"
      ]
     },
     "execution_count": 41,
     "metadata": {},
     "output_type": "execute_result"
    }
   ],
   "source": [
    "def sum_even_num(list1):\n",
    "    total_sum = 0\n",
    "    for element in list1:\n",
    "        if element % 2 == 0:\n",
    "            total_sum += element\n",
    "    \n",
    "    return total_sum\n",
    "sum_even_num([1,2,3,4,5,6,7,8,9])  "
   ]
  },
  {
   "cell_type": "code",
   "execution_count": null,
   "id": "1209a767",
   "metadata": {},
   "outputs": [],
   "source": []
  }
 ],
 "metadata": {
  "kernelspec": {
   "display_name": "Python 3 (ipykernel)",
   "language": "python",
   "name": "python3"
  },
  "language_info": {
   "codemirror_mode": {
    "name": "ipython",
    "version": 3
   },
   "file_extension": ".py",
   "mimetype": "text/x-python",
   "name": "python",
   "nbconvert_exporter": "python",
   "pygments_lexer": "ipython3",
   "version": "3.11.5"
  }
 },
 "nbformat": 4,
 "nbformat_minor": 5
}
