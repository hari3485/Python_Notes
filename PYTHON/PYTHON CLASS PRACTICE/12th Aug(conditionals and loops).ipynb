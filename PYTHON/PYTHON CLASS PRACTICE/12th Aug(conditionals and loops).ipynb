{
 "cells": [
  {
   "cell_type": "markdown",
   "id": "b5fddd7a",
   "metadata": {},
   "source": [
    "#### 1.Write a program that checks whether a given number is an Armstrong number. An Armstrong number is one that is equal to the sum of its own digits each raised to the power of the number of digits. Use a while loop."
   ]
  },
  {
   "cell_type": "code",
   "execution_count": 1,
   "id": "8e1806e7",
   "metadata": {},
   "outputs": [
    {
     "name": "stdout",
     "output_type": "stream",
     "text": [
      "Enter the number : 234\n",
      "234 is not an Armstrong Number\n"
     ]
    }
   ],
   "source": [
    "user_num = int(input(\"Enter the number : \"))\n",
    "num_str = str(user_num)\n",
    "total_sum = 0\n",
    "digits_count = len(num_str)\n",
    "index = 0\n",
    "while index < digits_count:\n",
    "    total_sum += int(num_str[index]) ** digits_count\n",
    "    index += 1\n",
    "if user_num == total_sum:\n",
    "  print(f\"{user_num} is an Armstrong Number\")\n",
    "else:\n",
    "  print(f\"{user_num} is not an Armstrong Number\")"
   ]
  },
  {
   "cell_type": "markdown",
   "id": "73170f5b",
   "metadata": {},
   "source": [
    "#### 2. Write a program to determine if a given year is a leap year."
   ]
  },
  {
   "cell_type": "code",
   "execution_count": 2,
   "id": "dbe67507",
   "metadata": {},
   "outputs": [
    {
     "name": "stdout",
     "output_type": "stream",
     "text": [
      " Enter the year : 2347\n",
      " 2347 is not a leap year\n"
     ]
    }
   ],
   "source": [
    "year = int(input(\" Enter the year : \"))\n",
    "if (year % 4 == 0) and (year % 400 == 0):\n",
    "    print(f\" {year} is a leap year\")\n",
    "else:\n",
    "    print(f\" {year} is not a leap year\")"
   ]
  },
  {
   "cell_type": "markdown",
   "id": "90529a90",
   "metadata": {},
   "source": [
    "#### 3. Write a program that generates the Fibonacci sequence up to a certain number using a while loop."
   ]
  },
  {
   "cell_type": "code",
   "execution_count": 3,
   "id": "bbfaff85",
   "metadata": {},
   "outputs": [
    {
     "name": "stdout",
     "output_type": "stream",
     "text": [
      "Enter the number : 22\n",
      "0\n",
      "1\n",
      "1\n",
      "2\n",
      "3\n",
      "5\n",
      "8\n",
      "13\n",
      "21\n",
      "34\n",
      "55\n",
      "89\n",
      "144\n",
      "233\n",
      "377\n",
      "610\n",
      "987\n",
      "1597\n",
      "2584\n",
      "4181\n",
      "6765\n",
      "10946\n"
     ]
    }
   ],
   "source": [
    "numbers = int(input(\"Enter the number : \"))\n",
    "first_number = 0\n",
    "second_number = 1\n",
    "count = 0\n",
    "while count < numbers:\n",
    "    print(first_number, end  = \"\\n\")\n",
    "    first_number,second_number = second_number,first_number + second_number\n",
    "    count += 1\n",
    "    "
   ]
  },
  {
   "cell_type": "markdown",
   "id": "9f0d4e35",
   "metadata": {},
   "source": [
    "#### 4. Write a program to print the following pattern using a for loop:\n",
    "                   \n",
    "                                   *\n",
    "                                   * *\n",
    "                                   * * *\n",
    "                                   * * * *\n",
    "                                   * * * * *\n"
   ]
  },
  {
   "cell_type": "code",
   "execution_count": 4,
   "id": "4a75b1ce",
   "metadata": {},
   "outputs": [
    {
     "name": "stdout",
     "output_type": "stream",
     "text": [
      "\n",
      "* \n",
      "* * \n",
      "* * * \n",
      "* * * * \n",
      "* * * * * \n"
     ]
    }
   ],
   "source": [
    "for star in range(6):\n",
    "    print(\"* \" *star)"
   ]
  },
  {
   "cell_type": "markdown",
   "id": "7742c0b1",
   "metadata": {},
   "source": [
    "#### 5. Write a program to print the following pattern using a for loop:\n",
    "                            \n",
    "                                      1\n",
    "                                     2   2\n",
    "                                  3   3   3\n",
    "                               4   4   4   4\n",
    "                             5   5   5   5   5  \n",
    "                               4   4   4   4\n",
    "                                  3   3   3\n",
    "                                    2   2\n",
    "                                        1\n"
   ]
  },
  {
   "cell_type": "code",
   "execution_count": 9,
   "id": "f982f028",
   "metadata": {},
   "outputs": [
    {
     "name": "stdout",
     "output_type": "stream",
     "text": [
      "    1 \n",
      "   2 2 \n",
      "  3 3 3 \n",
      " 4 4 4 4 \n",
      "5 5 5 5 5 \n",
      " 4 4 4 4 \n",
      "  3 3 3 \n",
      "   2 2 \n",
      "    1 \n"
     ]
    }
   ],
   "source": [
    "empty_space = 4\n",
    "num = 1\n",
    "\n",
    "for row in range(1,6,1):\n",
    "    print(\" \" * empty_space + (str(row) + \" \") * num)\n",
    "    empty_space -= 1\n",
    "    num += 1\n",
    "    \n",
    "empty_space = 1\n",
    "num = 4\n",
    "\n",
    "for rows in range(4,0,-1):\n",
    "    print(\" \" * empty_space + (str(rows) + \" \") * num)\n",
    "    empty_space += 1\n",
    "    num -= 1"
   ]
  },
  {
   "cell_type": "code",
   "execution_count": null,
   "id": "2ffc6cda",
   "metadata": {},
   "outputs": [],
   "source": []
  }
 ],
 "metadata": {
  "kernelspec": {
   "display_name": "Python 3 (ipykernel)",
   "language": "python",
   "name": "python3"
  },
  "language_info": {
   "codemirror_mode": {
    "name": "ipython",
    "version": 3
   },
   "file_extension": ".py",
   "mimetype": "text/x-python",
   "name": "python",
   "nbconvert_exporter": "python",
   "pygments_lexer": "ipython3",
   "version": "3.11.5"
  }
 },
 "nbformat": 4,
 "nbformat_minor": 5
}
