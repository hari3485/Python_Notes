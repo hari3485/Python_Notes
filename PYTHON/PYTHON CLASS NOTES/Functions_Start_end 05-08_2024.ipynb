{
 "cells": [
  {
   "cell_type": "code",
   "execution_count": 44,
   "id": "47ea206f",
   "metadata": {},
   "outputs": [],
   "source": [
    "# Functions\n",
    "\n",
    "# Functions are the expressions which take in the input and return the output\n",
    "\n",
    "\n",
    "def weclome_msg():\n",
    "    print(\"Hello Good Morning Everyone!!!, Welcome to Innomatics\")\n",
    "          \n",
    "          \n",
    "# once you define the function you have to \"CALL THE FUNCTION\" to use it "
   ]
  },
  {
   "cell_type": "code",
   "execution_count": 49,
   "id": "293eadcd",
   "metadata": {},
   "outputs": [
    {
     "name": "stdout",
     "output_type": "stream",
     "text": [
      "Hello Good Morning Everyone!!!, Welcome to Innomatics\n"
     ]
    }
   ],
   "source": [
    "weclome_msg()"
   ]
  },
  {
   "cell_type": "code",
   "execution_count": 50,
   "id": "b0748419",
   "metadata": {},
   "outputs": [],
   "source": [
    "# Let us \n",
    "\n",
    "def add(x1,x2):\n",
    "    c = x1 + x2\n",
    "    print(c)"
   ]
  },
  {
   "cell_type": "code",
   "execution_count": 52,
   "id": "6d478d5d",
   "metadata": {},
   "outputs": [
    {
     "name": "stdout",
     "output_type": "stream",
     "text": [
      "97\n"
     ]
    }
   ],
   "source": [
    "add(30,67) # 30,67"
   ]
  },
  {
   "cell_type": "code",
   "execution_count": 53,
   "id": "8794a0d0",
   "metadata": {},
   "outputs": [],
   "source": [
    "def welcome_msg(x):\n",
    "    print(\"Hello Good Morning \",x,\" Welcome to Innomatics\")"
   ]
  },
  {
   "cell_type": "code",
   "execution_count": 54,
   "id": "f6db27cc",
   "metadata": {},
   "outputs": [
    {
     "name": "stdout",
     "output_type": "stream",
     "text": [
      "Hello Good Morning  charan  Welcome to Innomatics\n"
     ]
    }
   ],
   "source": [
    "welcome_msg(\"charan\")"
   ]
  },
  {
   "cell_type": "code",
   "execution_count": 55,
   "id": "ae0eb816",
   "metadata": {},
   "outputs": [
    {
     "name": "stdout",
     "output_type": "stream",
     "text": [
      "Hello Good Morning  Indra Sena Reddy  Welcome to Innomatics\n"
     ]
    }
   ],
   "source": [
    "welcome_msg(\"Indra Sena Reddy\")"
   ]
  },
  {
   "cell_type": "code",
   "execution_count": 56,
   "id": "c41ce8af",
   "metadata": {},
   "outputs": [],
   "source": [
    "def charan(x,y): # x and y\n",
    "    print(x,\"this is the value of x\")\n",
    "    print(y,\"this is the value of y\")"
   ]
  },
  {
   "cell_type": "code",
   "execution_count": 59,
   "id": "179fec0f",
   "metadata": {},
   "outputs": [
    {
     "name": "stdout",
     "output_type": "stream",
     "text": [
      "20 this is the value of x\n",
      "30 this is the value of y\n"
     ]
    }
   ],
   "source": [
    "charan(20,30) \n",
    "# first value will be always considered as x\n",
    "# second value will be always considered as y"
   ]
  },
  {
   "cell_type": "code",
   "execution_count": 58,
   "id": "6024940a",
   "metadata": {},
   "outputs": [
    {
     "name": "stdout",
     "output_type": "stream",
     "text": [
      "30 this is the value of x\n",
      "20 this is the value of y\n"
     ]
    }
   ],
   "source": [
    "charan(30,20)"
   ]
  },
  {
   "cell_type": "code",
   "execution_count": 60,
   "id": "0354a162",
   "metadata": {},
   "outputs": [],
   "source": [
    "# Gross Salary - Total Deductions\n",
    "\n",
    "def take_home_salary(salary,deductions):\n",
    "    remaining_bal = salary - deductions\n",
    "    print(remaining_bal)"
   ]
  },
  {
   "cell_type": "code",
   "execution_count": 61,
   "id": "8553315c",
   "metadata": {},
   "outputs": [
    {
     "name": "stdout",
     "output_type": "stream",
     "text": [
      "26000\n"
     ]
    }
   ],
   "source": [
    "# 30000 and his deductions are 4000\n",
    "\n",
    "take_home_salary(30000,4000)"
   ]
  },
  {
   "cell_type": "code",
   "execution_count": 62,
   "id": "f7a48dfd",
   "metadata": {},
   "outputs": [
    {
     "name": "stdout",
     "output_type": "stream",
     "text": [
      "-26000\n"
     ]
    }
   ],
   "source": [
    "take_home_salary(4000,30000)"
   ]
  },
  {
   "cell_type": "code",
   "execution_count": 63,
   "id": "273efa7f",
   "metadata": {},
   "outputs": [
    {
     "name": "stdout",
     "output_type": "stream",
     "text": [
      "48000\n"
     ]
    }
   ],
   "source": [
    "# arbitary arguments # follows an order\n",
    "# if user makes mistake while hes passing arguments to the function\n",
    "# output will be different\n",
    "\n",
    "# keyword arguments # youre directly assigning the value to the \n",
    "# arguments, even if order is changed it doesnt impact the output\n",
    "\n",
    "take_home_salary(salary=50000,deductions=2000)"
   ]
  },
  {
   "cell_type": "code",
   "execution_count": 81,
   "id": "124888bd",
   "metadata": {},
   "outputs": [
    {
     "name": "stdout",
     "output_type": "stream",
     "text": [
      "48000\n"
     ]
    }
   ],
   "source": [
    "take_home_salary(deductions=2000,salary=50000,)"
   ]
  },
  {
   "cell_type": "code",
   "execution_count": 78,
   "id": "c1bd732f",
   "metadata": {},
   "outputs": [],
   "source": [
    "def take_home_salary(salary,deductions):\n",
    "    \n",
    "    '''This function is for calculating the remaining balance.\n",
    "        It takes in salary and deductions parameter'''\n",
    "    \n",
    "    remaining_bal = salary - deductions\n",
    "    print(remaining_bal)"
   ]
  },
  {
   "cell_type": "code",
   "execution_count": 79,
   "id": "86ee8366",
   "metadata": {},
   "outputs": [
    {
     "name": "stdout",
     "output_type": "stream",
     "text": [
      "Help on function take_home_salary in module __main__:\n",
      "\n",
      "take_home_salary(salary, deductions)\n",
      "    This function is for calculating the remaining balance.\n",
      "    It takes in salary and deductions parameter\n",
      "\n"
     ]
    }
   ],
   "source": [
    "help(take_home_salary)"
   ]
  },
  {
   "cell_type": "code",
   "execution_count": 80,
   "id": "90aa615d",
   "metadata": {},
   "outputs": [
    {
     "name": "stdout",
     "output_type": "stream",
     "text": [
      "Help on function take_home_salary in module __main__:\n",
      "\n",
      "take_home_salary(salary, deductions)\n",
      "    This function is for calculating the remaining balance.\n",
      "    It takes in salary and deductions parameter\n",
      "\n"
     ]
    }
   ],
   "source": [
    "# builtin functions\n",
    "\n",
    "# print(),len()...... some have developed these functions\n",
    "# we are trying to use this functions for our problem statements\n",
    "\n",
    "# user defined functions - manual\n",
    "help(take_home_salary)"
   ]
  },
  {
   "cell_type": "code",
   "execution_count": null,
   "id": "d1c1e63b",
   "metadata": {},
   "outputs": [],
   "source": [
    "# take input from the user - salary, savings,insurance,pf\n",
    "# calculate the total amount hes paying to insurance and pf\n",
    "\n",
    "# try to take name and reverse it \n",
    "\n",
    "# Can you can Can a Can as canners can a can\n",
    "# She sells sea shells on the sea shore\n",
    "\n",
    "# count the number of each vowel in this \n",
    "\n",
    "# if you notice this notice you will notice that this notice\n",
    "# is not worth noticing\n",
    "\n",
    "# filter the words which are having lenght less than 3\n",
    "# without using any predefined function count how many times \"notice\"\n",
    "# is repeated "
   ]
  },
  {
   "cell_type": "code",
   "execution_count": 82,
   "id": "7e3d6684",
   "metadata": {},
   "outputs": [],
   "source": [
    "# try to take name and reverse it \n",
    "\n",
    "def reverse_name(x):\n",
    "    print(x[::-1])"
   ]
  },
  {
   "cell_type": "code",
   "execution_count": 83,
   "id": "475ec16a",
   "metadata": {},
   "outputs": [
    {
     "name": "stdout",
     "output_type": "stream",
     "text": [
      "narahc\n"
     ]
    }
   ],
   "source": [
    "reverse_name(\"charan\")"
   ]
  },
  {
   "cell_type": "code",
   "execution_count": 84,
   "id": "97c697f0",
   "metadata": {},
   "outputs": [
    {
     "name": "stdout",
     "output_type": "stream",
     "text": [
      "scitamonni\n"
     ]
    }
   ],
   "source": [
    "reverse_name(\"innomatics\")"
   ]
  },
  {
   "cell_type": "code",
   "execution_count": 85,
   "id": "abebf564",
   "metadata": {},
   "outputs": [
    {
     "name": "stdout",
     "output_type": "stream",
     "text": [
      "Enter Something : hari chandan\n",
      "nadnahc irah\n"
     ]
    }
   ],
   "source": [
    "y = input(\"Enter Something : \")\n",
    "reverse_name(y)"
   ]
  },
  {
   "cell_type": "code",
   "execution_count": null,
   "id": "a9513609",
   "metadata": {},
   "outputs": [],
   "source": [
    "input_1 = 34\n",
    "input_2 = 40\n",
    "\n",
    "\n",
    "function(input_1,input_2)"
   ]
  },
  {
   "cell_type": "code",
   "execution_count": 92,
   "id": "21022f5d",
   "metadata": {},
   "outputs": [],
   "source": [
    "# Can you can Can a Can as canners can a can\n",
    "# She sells sea shells on the sea shore\n",
    "\n",
    "# count of each vowel\n",
    "\n",
    "def count_each_vowel(x):\n",
    "    count_a = 0\n",
    "    count_e = 0\n",
    "    count_i = 0\n",
    "    count_o = 0\n",
    "    count_u = 0\n",
    "\n",
    "    for i in x:\n",
    "        if i == \"a\":\n",
    "            count_a +=1\n",
    "        elif i ==\"e\":\n",
    "            count_e +=1\n",
    "        elif i ==\"i\":\n",
    "            count_i +=1\n",
    "        elif i ==\"o\":\n",
    "            count_o +=1\n",
    "        elif i ==\"u\":\n",
    "            count_u +=1\n",
    "\n",
    "    print(\"a is repeated \",count_a,\" times\")\n",
    "    print(\"e is repeated \",count_e,\" times\")\n",
    "    print(\"i is repeated \",count_i,\" times\")\n",
    "    print(\"o is repeated \",count_o,\" times\")\n",
    "    print(\"u is repeated \",count_u,\" times\")"
   ]
  },
  {
   "cell_type": "code",
   "execution_count": 93,
   "id": "adb6ddae",
   "metadata": {},
   "outputs": [
    {
     "name": "stdout",
     "output_type": "stream",
     "text": [
      "a is repeated  10  times\n",
      "e is repeated  1  times\n",
      "i is repeated  0  times\n",
      "o is repeated  1  times\n",
      "u is repeated  1  times\n"
     ]
    }
   ],
   "source": [
    "count_each_vowel(\"Can you can Can a Can as canners can a can\")"
   ]
  },
  {
   "cell_type": "code",
   "execution_count": 94,
   "id": "66657a38",
   "metadata": {},
   "outputs": [
    {
     "name": "stdout",
     "output_type": "stream",
     "text": [
      "a is repeated  2  times\n",
      "e is repeated  7  times\n",
      "i is repeated  0  times\n",
      "o is repeated  2  times\n",
      "u is repeated  0  times\n"
     ]
    }
   ],
   "source": [
    "count_each_vowel(\"She sells sea shells on the sea shore\")"
   ]
  },
  {
   "cell_type": "code",
   "execution_count": 100,
   "id": "c052dde1",
   "metadata": {},
   "outputs": [
    {
     "name": "stdout",
     "output_type": "stream",
     "text": [
      "elppa\n"
     ]
    }
   ],
   "source": [
    "L = \"apple\"\n",
    "\n",
    "print(L[::-1])"
   ]
  },
  {
   "cell_type": "code",
   "execution_count": 107,
   "id": "b3fb257c",
   "metadata": {},
   "outputs": [],
   "source": [
    "# filter words which are having the lenght less than 3\n",
    "\n",
    "def filter_words(x):\n",
    "    less_than3 = []\n",
    "    greater_than3 = []\n",
    "\n",
    "    for i in x.split(\" \"):\n",
    "        if len(i) < 3:\n",
    "            less_than3.append(i)\n",
    "        elif len(i) >3:\n",
    "            greater_than3.append(i)\n",
    "\n",
    "    print(less_than3)\n",
    "    print(greater_than3)"
   ]
  },
  {
   "cell_type": "code",
   "execution_count": 108,
   "id": "0d632df7",
   "metadata": {},
   "outputs": [
    {
     "name": "stdout",
     "output_type": "stream",
     "text": [
      "['on']\n",
      "['sells', 'shells', 'shore']\n"
     ]
    }
   ],
   "source": [
    "filter_words(\"She sells sea shells on the sea shore\")"
   ]
  },
  {
   "cell_type": "code",
   "execution_count": 109,
   "id": "b8ba8a8a",
   "metadata": {},
   "outputs": [
    {
     "name": "stdout",
     "output_type": "stream",
     "text": [
      "['a', 'as', 'a']\n",
      "['canners']\n"
     ]
    }
   ],
   "source": [
    "filter_words(\"Can you can Can a Can as canners can a can\")"
   ]
  },
  {
   "cell_type": "code",
   "execution_count": 122,
   "id": "df8a0523",
   "metadata": {},
   "outputs": [],
   "source": [
    "# arbitary and keyword\n",
    "\n",
    "\n",
    "def reverse_name(x): # only one parameter / argument \"x\"\n",
    "    print()\n",
    "    print(x,\"this is the input that im passing to the function\")\n",
    "    print()\n",
    "    print(x[::-1])"
   ]
  },
  {
   "cell_type": "code",
   "execution_count": 123,
   "id": "007a25d4",
   "metadata": {},
   "outputs": [
    {
     "name": "stdout",
     "output_type": "stream",
     "text": [
      "\n",
      "charan this is the input that im passing to the function\n",
      "\n",
      "narahc\n"
     ]
    }
   ],
   "source": [
    "reverse_name(\"charan\")"
   ]
  },
  {
   "cell_type": "code",
   "execution_count": 124,
   "id": "ab041151",
   "metadata": {},
   "outputs": [
    {
     "ename": "TypeError",
     "evalue": "reverse_name() takes 1 positional argument but 2 were given",
     "output_type": "error",
     "traceback": [
      "\u001b[1;31m---------------------------------------------------------------------------\u001b[0m",
      "\u001b[1;31mTypeError\u001b[0m                                 Traceback (most recent call last)",
      "Cell \u001b[1;32mIn[124], line 1\u001b[0m\n\u001b[1;32m----> 1\u001b[0m reverse_name(\u001b[38;5;124m\"\u001b[39m\u001b[38;5;124mcharan\u001b[39m\u001b[38;5;124m\"\u001b[39m,\u001b[38;5;124m\"\u001b[39m\u001b[38;5;124msai\u001b[39m\u001b[38;5;124m\"\u001b[39m)\n",
      "\u001b[1;31mTypeError\u001b[0m: reverse_name() takes 1 positional argument but 2 were given"
     ]
    }
   ],
   "source": [
    "reverse_name(\"charan\",\"sai\")"
   ]
  },
  {
   "cell_type": "code",
   "execution_count": 125,
   "id": "6138f368",
   "metadata": {},
   "outputs": [
    {
     "name": "stdout",
     "output_type": "stream",
     "text": [
      "\n",
      "['charan', 'sai'] this is the input that im passing to the function\n",
      "\n",
      "['sai', 'charan']\n"
     ]
    }
   ],
   "source": [
    "reverse_name([\"charan\",\"sai\"])"
   ]
  },
  {
   "cell_type": "code",
   "execution_count": 126,
   "id": "e095f85d",
   "metadata": {},
   "outputs": [],
   "source": [
    "def reverse_name(x): # only one parameter / argument \"x\"\n",
    "    print()\n",
    "    print(x,\"this is the input that im passing to the function\")\n",
    "    print()\n",
    "    for i in x:\n",
    "        print(i[::-1])"
   ]
  },
  {
   "cell_type": "code",
   "execution_count": 128,
   "id": "4d079a0c",
   "metadata": {},
   "outputs": [
    {
     "name": "stdout",
     "output_type": "stream",
     "text": [
      "\n",
      "['charan'] this is the input that im passing to the function\n",
      "\n",
      "narahc\n"
     ]
    }
   ],
   "source": [
    "reverse_name([\"charan\"])"
   ]
  },
  {
   "cell_type": "code",
   "execution_count": 129,
   "id": "04933f26",
   "metadata": {},
   "outputs": [
    {
     "name": "stdout",
     "output_type": "stream",
     "text": [
      "\n",
      "['charan', 'innomatics'] this is the input that im passing to the function\n",
      "\n",
      "narahc\n",
      "scitamonni\n"
     ]
    }
   ],
   "source": [
    "reverse_name([\"charan\",\"innomatics\"])"
   ]
  },
  {
   "cell_type": "code",
   "execution_count": 146,
   "id": "23e1705b",
   "metadata": {},
   "outputs": [],
   "source": [
    "# *args\n",
    "# *charan\n",
    "# *innomatics\n",
    "\n",
    "def something(*reference): # abitary args\n",
    "    print(type(reference))\n",
    "    print(reference)"
   ]
  },
  {
   "cell_type": "code",
   "execution_count": 147,
   "id": "c81502ea",
   "metadata": {},
   "outputs": [
    {
     "name": "stdout",
     "output_type": "stream",
     "text": [
      "<class 'tuple'>\n",
      "(34, 23, 'charan', 92)\n"
     ]
    }
   ],
   "source": [
    "something(34,23,\"charan\",92)"
   ]
  },
  {
   "cell_type": "code",
   "execution_count": 145,
   "id": "8365601e",
   "metadata": {},
   "outputs": [
    {
     "name": "stdout",
     "output_type": "stream",
     "text": [
      "<class 'dict'>\n",
      "{'a': 34, 'b': 23, 'c': 'charan', 'd': 92}\n",
      "\n",
      "elements in side the keyword arguments\n",
      "('a', 34)\n",
      "('b', 23)\n",
      "('c', 'charan')\n",
      "('d', 92)\n"
     ]
    }
   ],
   "source": [
    "def something(**reference): # keyword\n",
    "    print(type(reference))\n",
    "    print(reference)\n",
    "    print()\n",
    "    print(\"elements in side the keyword arguments\")\n",
    "    for i in reference.items():\n",
    "        print(i)\n",
    "    \n",
    "something(a = 34, b = 23,c = \"charan\",d = 92)"
   ]
  },
  {
   "cell_type": "code",
   "execution_count": null,
   "id": "bdf2f884",
   "metadata": {},
   "outputs": [],
   "source": [
    "# types of arguments\n",
    "\n",
    "# arbitary arguments\n",
    "# keyword arguments\n",
    "# multiple aribitary arguments\n",
    "# multiple keyword arguments\n",
    "\n",
    "\n"
   ]
  },
  {
   "cell_type": "code",
   "execution_count": 152,
   "id": "196c138b",
   "metadata": {},
   "outputs": [],
   "source": [
    "def difference(a,b):\n",
    "    c = a-b\n",
    "    print(c)"
   ]
  },
  {
   "cell_type": "code",
   "execution_count": 153,
   "id": "c66a6e8d",
   "metadata": {},
   "outputs": [
    {
     "name": "stdout",
     "output_type": "stream",
     "text": [
      "-4\n"
     ]
    }
   ],
   "source": [
    "difference(1,5) # positional or arbitary args"
   ]
  },
  {
   "cell_type": "code",
   "execution_count": 154,
   "id": "c0e1aeec",
   "metadata": {},
   "outputs": [
    {
     "name": "stdout",
     "output_type": "stream",
     "text": [
      "-4\n"
     ]
    }
   ],
   "source": [
    "difference(a=1,b=5) # keyword argumnets"
   ]
  },
  {
   "cell_type": "code",
   "execution_count": null,
   "id": "7e4428aa",
   "metadata": {},
   "outputs": [],
   "source": [
    "# where i want to create a function\n",
    "# which will accept only positonal arguments"
   ]
  },
  {
   "cell_type": "code",
   "execution_count": null,
   "id": "01b0f61b",
   "metadata": {},
   "outputs": [],
   "source": []
  },
  {
   "cell_type": "code",
   "execution_count": 148,
   "id": "6474e2ec",
   "metadata": {},
   "outputs": [],
   "source": [
    "# specifying a function to take in only positional arguments"
   ]
  },
  {
   "cell_type": "code",
   "execution_count": 155,
   "id": "e34bba1a",
   "metadata": {},
   "outputs": [],
   "source": [
    "def difference(a,b,/):\n",
    "    c = a - b\n",
    "    print(c)"
   ]
  },
  {
   "cell_type": "code",
   "execution_count": 156,
   "id": "87f045af",
   "metadata": {},
   "outputs": [
    {
     "name": "stdout",
     "output_type": "stream",
     "text": [
      "-4\n"
     ]
    }
   ],
   "source": [
    "difference(1,5)"
   ]
  },
  {
   "cell_type": "code",
   "execution_count": 157,
   "id": "08b06a84",
   "metadata": {},
   "outputs": [
    {
     "ename": "TypeError",
     "evalue": "difference() got some positional-only arguments passed as keyword arguments: 'a, b'",
     "output_type": "error",
     "traceback": [
      "\u001b[1;31m---------------------------------------------------------------------------\u001b[0m",
      "\u001b[1;31mTypeError\u001b[0m                                 Traceback (most recent call last)",
      "Cell \u001b[1;32mIn[157], line 1\u001b[0m\n\u001b[1;32m----> 1\u001b[0m difference(a\u001b[38;5;241m=\u001b[39m\u001b[38;5;241m1\u001b[39m,b\u001b[38;5;241m=\u001b[39m\u001b[38;5;241m5\u001b[39m)\n",
      "\u001b[1;31mTypeError\u001b[0m: difference() got some positional-only arguments passed as keyword arguments: 'a, b'"
     ]
    }
   ],
   "source": [
    "difference(a=1,b=5)"
   ]
  },
  {
   "cell_type": "code",
   "execution_count": 158,
   "id": "b6a82207",
   "metadata": {},
   "outputs": [],
   "source": [
    "def difference(*,a,b):\n",
    "    c = a - b\n",
    "    print(c)"
   ]
  },
  {
   "cell_type": "code",
   "execution_count": 160,
   "id": "433219d6",
   "metadata": {},
   "outputs": [
    {
     "name": "stdout",
     "output_type": "stream",
     "text": [
      "-2\n"
     ]
    }
   ],
   "source": [
    "difference(a=3,b=5)"
   ]
  },
  {
   "cell_type": "code",
   "execution_count": 161,
   "id": "af652abd",
   "metadata": {},
   "outputs": [
    {
     "ename": "TypeError",
     "evalue": "difference() takes 0 positional arguments but 2 were given",
     "output_type": "error",
     "traceback": [
      "\u001b[1;31m---------------------------------------------------------------------------\u001b[0m",
      "\u001b[1;31mTypeError\u001b[0m                                 Traceback (most recent call last)",
      "Cell \u001b[1;32mIn[161], line 1\u001b[0m\n\u001b[1;32m----> 1\u001b[0m difference(\u001b[38;5;241m3\u001b[39m,\u001b[38;5;241m5\u001b[39m)\n",
      "\u001b[1;31mTypeError\u001b[0m: difference() takes 0 positional arguments but 2 were given"
     ]
    }
   ],
   "source": [
    "difference(3,5)\n",
    "difference(a=3,b=5)"
   ]
  },
  {
   "cell_type": "code",
   "execution_count": 175,
   "id": "4adde447",
   "metadata": {},
   "outputs": [],
   "source": [
    "# i want the first two inputs as arbitary arguments\n",
    "# the last two inputs as keyword args\n",
    "def something(x,y,/,*,c,d):\n",
    "    pass"
   ]
  },
  {
   "cell_type": "code",
   "execution_count": 176,
   "id": "eb59294f",
   "metadata": {},
   "outputs": [],
   "source": [
    "something(1,2,c=3,d=90)"
   ]
  },
  {
   "cell_type": "code",
   "execution_count": 177,
   "id": "3cc83126",
   "metadata": {},
   "outputs": [
    {
     "ename": "SyntaxError",
     "evalue": "positional argument follows keyword argument (1513766604.py, line 1)",
     "output_type": "error",
     "traceback": [
      "\u001b[1;36m  Cell \u001b[1;32mIn[177], line 1\u001b[1;36m\u001b[0m\n\u001b[1;33m    something(c=3,d=90,2,5)\u001b[0m\n\u001b[1;37m                          ^\u001b[0m\n\u001b[1;31mSyntaxError\u001b[0m\u001b[1;31m:\u001b[0m positional argument follows keyword argument\n"
     ]
    }
   ],
   "source": [
    "something(c=3,d=90,2,5)"
   ]
  },
  {
   "cell_type": "code",
   "execution_count": 179,
   "id": "cfca71ac",
   "metadata": {},
   "outputs": [
    {
     "ename": "SyntaxError",
     "evalue": "/ must be ahead of * (705690946.py, line 1)",
     "output_type": "error",
     "traceback": [
      "\u001b[1;36m  Cell \u001b[1;32mIn[179], line 1\u001b[1;36m\u001b[0m\n\u001b[1;33m    def something(*args,/):\u001b[0m\n\u001b[1;37m                        ^\u001b[0m\n\u001b[1;31mSyntaxError\u001b[0m\u001b[1;31m:\u001b[0m / must be ahead of *\n"
     ]
    }
   ],
   "source": []
  },
  {
   "cell_type": "code",
   "execution_count": 187,
   "id": "a2a6c338",
   "metadata": {},
   "outputs": [],
   "source": [
    "# print()\n",
    "\n",
    "\n",
    "# lets calculate the salaray of a employee\n",
    "\n",
    "# CTC - 20000, incentives - 3000\n",
    "\n",
    "def calculate_salary(ctc,incentives):\n",
    "    total_salary = ctc + incentives\n",
    "    return total_salary"
   ]
  },
  {
   "cell_type": "code",
   "execution_count": 188,
   "id": "bc295fb7",
   "metadata": {},
   "outputs": [
    {
     "data": {
      "text/plain": [
       "56000"
      ]
     },
     "execution_count": 188,
     "metadata": {},
     "output_type": "execute_result"
    }
   ],
   "source": [
    "# A = 50000,6000\n",
    "# B = 60000, 3000\n",
    "# ------\n",
    "\n",
    "\n",
    "calculate_salary(ctc=50000,incentives=6000)"
   ]
  },
  {
   "cell_type": "code",
   "execution_count": 189,
   "id": "11e88bac",
   "metadata": {},
   "outputs": [
    {
     "data": {
      "text/plain": [
       "63000"
      ]
     },
     "execution_count": 189,
     "metadata": {},
     "output_type": "execute_result"
    }
   ],
   "source": [
    "calculate_salary(ctc=60000,incentives=3000)"
   ]
  },
  {
   "cell_type": "code",
   "execution_count": 190,
   "id": "fc1f0605",
   "metadata": {},
   "outputs": [],
   "source": [
    "A_sal = calculate_salary(ctc=50000,incentives=6000)\n",
    "B_sal = calculate_salary(ctc=60000,incentives=3000)"
   ]
  },
  {
   "cell_type": "code",
   "execution_count": 191,
   "id": "a805031a",
   "metadata": {},
   "outputs": [
    {
     "name": "stdout",
     "output_type": "stream",
     "text": [
      "56000\n"
     ]
    }
   ],
   "source": [
    "print(A_sal)"
   ]
  },
  {
   "cell_type": "code",
   "execution_count": 192,
   "id": "e2a398dd",
   "metadata": {},
   "outputs": [
    {
     "name": "stdout",
     "output_type": "stream",
     "text": [
      "63000\n"
     ]
    }
   ],
   "source": [
    "print(B_sal)"
   ]
  },
  {
   "cell_type": "code",
   "execution_count": 193,
   "id": "194a69df",
   "metadata": {},
   "outputs": [],
   "source": [
    "# print()\n",
    "\n",
    "\n",
    "# lets calculate the salaray of a employee\n",
    "\n",
    "# CTC - 20000, incentives - 3000\n",
    "\n",
    "def calculate_salary(ctc,incentives,homerent,expenses):\n",
    "    total_salary = ctc + incentives\n",
    "    remaining_money = total_salary - homerent - expenses\n",
    "    return total_salary,remaining_money"
   ]
  },
  {
   "cell_type": "code",
   "execution_count": 200,
   "id": "265c6fd0",
   "metadata": {},
   "outputs": [],
   "source": [
    "# unpacking \n",
    "A_sal,A_bal = calculate_salary(ctc=50000,incentives=6000,homerent=4000,expenses=2000)\n",
    "# B_sal,B_bal = calculate_salary(ctc=60000,incentives=3000,homerent=2000,expenses=5000)"
   ]
  },
  {
   "cell_type": "code",
   "execution_count": 201,
   "id": "8ea8235f",
   "metadata": {},
   "outputs": [
    {
     "name": "stdout",
     "output_type": "stream",
     "text": [
      "56000\n",
      "50000\n"
     ]
    }
   ],
   "source": [
    "print(A_sal)\n",
    "print(A_bal)"
   ]
  },
  {
   "cell_type": "code",
   "execution_count": null,
   "id": "3d012939",
   "metadata": {},
   "outputs": [],
   "source": [
    "difference(3,5)\n",
    "difference(a=3,b=5)"
   ]
  },
  {
   "cell_type": "code",
   "execution_count": 202,
   "id": "2ce4652b",
   "metadata": {},
   "outputs": [],
   "source": [
    "# default \n",
    "\n",
    "def cal(price,tax=0.18):\n",
    "    return price+ price*tax"
   ]
  },
  {
   "cell_type": "code",
   "execution_count": 203,
   "id": "951a167f",
   "metadata": {},
   "outputs": [
    {
     "data": {
      "text/plain": [
       "118.0"
      ]
     },
     "execution_count": 203,
     "metadata": {},
     "output_type": "execute_result"
    }
   ],
   "source": [
    "cal(100)"
   ]
  },
  {
   "cell_type": "code",
   "execution_count": 204,
   "id": "533bd2d1",
   "metadata": {},
   "outputs": [
    {
     "data": {
      "text/plain": [
       "106.2"
      ]
     },
     "execution_count": 204,
     "metadata": {},
     "output_type": "execute_result"
    }
   ],
   "source": [
    "cal(90)"
   ]
  },
  {
   "cell_type": "code",
   "execution_count": 4,
   "id": "cfc670a4",
   "metadata": {},
   "outputs": [],
   "source": [
    "def difference(a,b):\n",
    "    c = a - b\n",
    "    print(c)"
   ]
  },
  {
   "cell_type": "code",
   "execution_count": 5,
   "id": "75727484",
   "metadata": {},
   "outputs": [
    {
     "name": "stdout",
     "output_type": "stream",
     "text": [
      "-2\n"
     ]
    }
   ],
   "source": [
    "difference(1,3)"
   ]
  },
  {
   "cell_type": "code",
   "execution_count": 7,
   "id": "dd8adf1c",
   "metadata": {},
   "outputs": [
    {
     "ename": "TypeError",
     "evalue": "difference() missing 1 required positional argument: 'b'",
     "output_type": "error",
     "traceback": [
      "\u001b[1;31m---------------------------------------------------------------------------\u001b[0m",
      "\u001b[1;31mTypeError\u001b[0m                                 Traceback (most recent call last)",
      "Cell \u001b[1;32mIn[7], line 1\u001b[0m\n\u001b[1;32m----> 1\u001b[0m difference(\u001b[38;5;241m5\u001b[39m)\n",
      "\u001b[1;31mTypeError\u001b[0m: difference() missing 1 required positional argument: 'b'"
     ]
    }
   ],
   "source": [
    "difference(5)"
   ]
  },
  {
   "cell_type": "code",
   "execution_count": 2,
   "id": "7d72b1e5",
   "metadata": {},
   "outputs": [],
   "source": [
    "def add(x,y):\n",
    "    return x+y\n",
    "\n",
    "# it is designed to take in 2 inputs"
   ]
  },
  {
   "cell_type": "code",
   "execution_count": 3,
   "id": "308a4154",
   "metadata": {},
   "outputs": [
    {
     "data": {
      "text/plain": [
       "15"
      ]
     },
     "execution_count": 3,
     "metadata": {},
     "output_type": "execute_result"
    }
   ],
   "source": [
    "add(7,8)"
   ]
  },
  {
   "cell_type": "code",
   "execution_count": 213,
   "id": "0f391502",
   "metadata": {},
   "outputs": [
    {
     "data": {
      "text/plain": [
       "15"
      ]
     },
     "execution_count": 213,
     "metadata": {},
     "output_type": "execute_result"
    }
   ],
   "source": [
    "def add(x,y=5):\n",
    "    return x+y\n",
    "\n",
    "# it is designed to take in 2 inputs\n",
    "\n",
    "add(10)"
   ]
  },
  {
   "cell_type": "code",
   "execution_count": null,
   "id": "f4196f00",
   "metadata": {},
   "outputs": [],
   "source": []
  }
 ],
 "metadata": {
  "kernelspec": {
   "display_name": "Python 3 (ipykernel)",
   "language": "python",
   "name": "python3"
  },
  "language_info": {
   "codemirror_mode": {
    "name": "ipython",
    "version": 3
   },
   "file_extension": ".py",
   "mimetype": "text/x-python",
   "name": "python",
   "nbconvert_exporter": "python",
   "pygments_lexer": "ipython3",
   "version": "3.11.5"
  }
 },
 "nbformat": 4,
 "nbformat_minor": 5
}
