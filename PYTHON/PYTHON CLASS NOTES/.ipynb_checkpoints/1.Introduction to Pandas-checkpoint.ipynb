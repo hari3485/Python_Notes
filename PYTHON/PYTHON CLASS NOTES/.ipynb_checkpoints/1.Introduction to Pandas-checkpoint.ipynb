{
 "cells": [
  {
   "cell_type": "code",
   "execution_count": null,
   "id": "096438ac",
   "metadata": {},
   "outputs": [],
   "source": [
    "# iteration over numpy array\n",
    "# cpncatenate, vstack, hstack, column_stack,hsplit,vsplit\n",
    "# Broadcasting\n",
    "# Numpy where"
   ]
  },
  {
   "cell_type": "code",
   "execution_count": 48,
   "id": "e4d87aea",
   "metadata": {},
   "outputs": [],
   "source": [
    "import numpy as np"
   ]
  },
  {
   "cell_type": "code",
   "execution_count": 55,
   "id": "35bc1049",
   "metadata": {},
   "outputs": [],
   "source": [
    "A = np.array([1,2,3,4,5])\n",
    "B = np.array([[1,2,3,4],[5,6,7,8]])"
   ]
  },
  {
   "cell_type": "code",
   "execution_count": 63,
   "id": "bed091d7",
   "metadata": {},
   "outputs": [
    {
     "name": "stdout",
     "output_type": "stream",
     "text": [
      "b'1'\n",
      "b'2'\n",
      "b'3'\n",
      "b'4'\n",
      "b'5'\n",
      "b'6'\n",
      "b'7'\n",
      "b'8'\n"
     ]
    }
   ],
   "source": [
    "for i in np.nditer(B,flags=['buffered'],op_dtypes=[\"S\"]):\n",
    "    print(i)"
   ]
  },
  {
   "cell_type": "code",
   "execution_count": 64,
   "id": "85e7f170",
   "metadata": {},
   "outputs": [
    {
     "name": "stdout",
     "output_type": "stream",
     "text": [
      "(0, 0) 1\n",
      "(0, 1) 2\n",
      "(0, 2) 3\n",
      "(0, 3) 4\n",
      "(1, 0) 5\n",
      "(1, 1) 6\n",
      "(1, 2) 7\n",
      "(1, 3) 8\n"
     ]
    }
   ],
   "source": [
    "for i,d in np.ndenumerate(B):\n",
    "    print(i,d)"
   ]
  },
  {
   "cell_type": "code",
   "execution_count": 66,
   "id": "fc2657c6",
   "metadata": {},
   "outputs": [
    {
     "data": {
      "text/plain": [
       "[array([[1],\n",
       "        [5]]),\n",
       " array([], shape=(2, 0), dtype=int32),\n",
       " array([[1, 2, 3, 4],\n",
       "        [5, 6, 7, 8]])]"
      ]
     },
     "execution_count": 66,
     "metadata": {},
     "output_type": "execute_result"
    }
   ],
   "source": [
    "np.hsplit(B,(1,0))"
   ]
  },
  {
   "cell_type": "code",
   "execution_count": null,
   "id": "b5431fb3",
   "metadata": {},
   "outputs": [],
   "source": []
  },
  {
   "cell_type": "code",
   "execution_count": null,
   "id": "61d9a63f",
   "metadata": {},
   "outputs": [],
   "source": []
  },
  {
   "cell_type": "code",
   "execution_count": 72,
   "id": "ad8f8026",
   "metadata": {},
   "outputs": [],
   "source": [
    "r =  np.arange(1,10,2)"
   ]
  },
  {
   "cell_type": "code",
   "execution_count": 73,
   "id": "db2bcbce",
   "metadata": {},
   "outputs": [
    {
     "data": {
      "text/plain": [
       "array([1, 3, 5, 7, 9])"
      ]
     },
     "execution_count": 73,
     "metadata": {},
     "output_type": "execute_result"
    }
   ],
   "source": [
    "r"
   ]
  },
  {
   "cell_type": "code",
   "execution_count": 75,
   "id": "9d247584",
   "metadata": {},
   "outputs": [
    {
     "name": "stdout",
     "output_type": "stream",
     "text": [
      "1\n",
      "3\n",
      "5\n",
      "7\n",
      "9\n"
     ]
    }
   ],
   "source": [
    "for i in r:\n",
    "    print(i)"
   ]
  },
  {
   "cell_type": "code",
   "execution_count": 76,
   "id": "57fe445e",
   "metadata": {},
   "outputs": [
    {
     "name": "stdout",
     "output_type": "stream",
     "text": [
      "1\n",
      "3\n",
      "5\n",
      "7\n",
      "9\n"
     ]
    }
   ],
   "source": [
    "for i in range(0,len(r)):\n",
    "    print(r[i])"
   ]
  },
  {
   "cell_type": "code",
   "execution_count": 78,
   "id": "d869ff7b",
   "metadata": {},
   "outputs": [],
   "source": [
    "d = np.random.randint(1,5,size=(3,3))"
   ]
  },
  {
   "cell_type": "code",
   "execution_count": 80,
   "id": "5f567b9b",
   "metadata": {},
   "outputs": [
    {
     "data": {
      "text/plain": [
       "array([[3, 4, 1],\n",
       "       [3, 3, 1],\n",
       "       [1, 3, 3]])"
      ]
     },
     "execution_count": 80,
     "metadata": {},
     "output_type": "execute_result"
    }
   ],
   "source": [
    "d"
   ]
  },
  {
   "cell_type": "code",
   "execution_count": 83,
   "id": "a307c8d5",
   "metadata": {},
   "outputs": [
    {
     "name": "stdout",
     "output_type": "stream",
     "text": [
      "[3 3 1]\n",
      "[4 3 3]\n",
      "[1 1 3]\n"
     ]
    }
   ],
   "source": [
    "for i in np.nditer(d,order=\"F\",flags=['external_loop']):\n",
    "    print(i)"
   ]
  },
  {
   "cell_type": "code",
   "execution_count": 84,
   "id": "2ca18232",
   "metadata": {},
   "outputs": [
    {
     "name": "stdout",
     "output_type": "stream",
     "text": [
      "[3 4 1 3 3 1 1 3 3]\n"
     ]
    }
   ],
   "source": [
    "for i in np.nditer(d,order=\"C\",flags=['external_loop']):\n",
    "    print(i)"
   ]
  },
  {
   "cell_type": "code",
   "execution_count": 89,
   "id": "ae3eda1a",
   "metadata": {},
   "outputs": [],
   "source": [
    "for i in np.nditer(d,op_flags=[\"readwrite\"]):\n",
    "    i[...] = i*i"
   ]
  },
  {
   "cell_type": "code",
   "execution_count": 90,
   "id": "a7c61e1f",
   "metadata": {},
   "outputs": [
    {
     "data": {
      "text/plain": [
       "array([[ 81, 256,   1],\n",
       "       [ 81,  81,   1],\n",
       "       [  1,  81,  81]])"
      ]
     },
     "execution_count": 90,
     "metadata": {},
     "output_type": "execute_result"
    }
   ],
   "source": [
    "d"
   ]
  },
  {
   "cell_type": "code",
   "execution_count": 91,
   "id": "5ace3547",
   "metadata": {},
   "outputs": [],
   "source": [
    "# cpncatenate, vstack, hstack, column_stack,hsplit,vsplit"
   ]
  },
  {
   "cell_type": "code",
   "execution_count": 95,
   "id": "5aa7d85e",
   "metadata": {},
   "outputs": [],
   "source": [
    "D = np.arange(10,20,1)"
   ]
  },
  {
   "cell_type": "code",
   "execution_count": 96,
   "id": "0c662712",
   "metadata": {},
   "outputs": [
    {
     "data": {
      "text/plain": [
       "array([10, 11, 12, 13, 14, 15, 16, 17, 18, 19])"
      ]
     },
     "execution_count": 96,
     "metadata": {},
     "output_type": "execute_result"
    }
   ],
   "source": [
    "D"
   ]
  },
  {
   "cell_type": "code",
   "execution_count": 98,
   "id": "560e0591",
   "metadata": {},
   "outputs": [
    {
     "data": {
      "text/plain": [
       "[array([10, 11, 12, 13, 14]), array([15, 16, 17, 18, 19])]"
      ]
     },
     "execution_count": 98,
     "metadata": {},
     "output_type": "execute_result"
    }
   ],
   "source": [
    "np.split(D,2)"
   ]
  },
  {
   "cell_type": "code",
   "execution_count": 100,
   "id": "de30304b",
   "metadata": {},
   "outputs": [
    {
     "data": {
      "text/plain": [
       "[array([10, 11, 12]), array([13, 14, 15]), array([16, 17]), array([18, 19])]"
      ]
     },
     "execution_count": 100,
     "metadata": {},
     "output_type": "execute_result"
    }
   ],
   "source": [
    "np.array_split(D,4)"
   ]
  },
  {
   "cell_type": "code",
   "execution_count": 108,
   "id": "b7da688e",
   "metadata": {},
   "outputs": [],
   "source": [
    "F = np.random.randint(2,9,size=(4,4))"
   ]
  },
  {
   "cell_type": "code",
   "execution_count": 109,
   "id": "048612b6",
   "metadata": {},
   "outputs": [
    {
     "data": {
      "text/plain": [
       "array([[4, 8, 7, 2],\n",
       "       [8, 3, 7, 8],\n",
       "       [6, 3, 6, 4],\n",
       "       [4, 5, 4, 8]])"
      ]
     },
     "execution_count": 109,
     "metadata": {},
     "output_type": "execute_result"
    }
   ],
   "source": [
    "F"
   ]
  },
  {
   "cell_type": "code",
   "execution_count": 110,
   "id": "161f343b",
   "metadata": {},
   "outputs": [
    {
     "data": {
      "text/plain": [
       "[array([[4, 8, 7, 2]]),\n",
       " array([[8, 3, 7, 8]]),\n",
       " array([[6, 3, 6, 4]]),\n",
       " array([[4, 5, 4, 8]])]"
      ]
     },
     "execution_count": 110,
     "metadata": {},
     "output_type": "execute_result"
    }
   ],
   "source": [
    "np.split(F,4)"
   ]
  },
  {
   "cell_type": "code",
   "execution_count": 121,
   "id": "5f57df11",
   "metadata": {},
   "outputs": [
    {
     "data": {
      "text/plain": [
       "[array([[4, 8],\n",
       "        [8, 3],\n",
       "        [6, 3],\n",
       "        [4, 5]]),\n",
       " array([[7, 2],\n",
       "        [7, 8],\n",
       "        [6, 4],\n",
       "        [4, 8]])]"
      ]
     },
     "execution_count": 121,
     "metadata": {},
     "output_type": "execute_result"
    }
   ],
   "source": [
    "np.hsplit(F,2)"
   ]
  },
  {
   "cell_type": "code",
   "execution_count": 122,
   "id": "52860ba9",
   "metadata": {},
   "outputs": [
    {
     "data": {
      "text/plain": [
       "array([[4, 8],\n",
       "       [8, 3],\n",
       "       [6, 3],\n",
       "       [4, 5]])"
      ]
     },
     "execution_count": 122,
     "metadata": {},
     "output_type": "execute_result"
    }
   ],
   "source": [
    "np.hsplit(F,2)[0]"
   ]
  },
  {
   "cell_type": "code",
   "execution_count": 123,
   "id": "2c1af3d5",
   "metadata": {},
   "outputs": [
    {
     "data": {
      "text/plain": [
       "[array([[4],\n",
       "        [8],\n",
       "        [6],\n",
       "        [4]]),\n",
       " array([[8, 7],\n",
       "        [3, 7],\n",
       "        [3, 6],\n",
       "        [5, 4]]),\n",
       " array([[2],\n",
       "        [8],\n",
       "        [4],\n",
       "        [8]])]"
      ]
     },
     "execution_count": 123,
     "metadata": {},
     "output_type": "execute_result"
    }
   ],
   "source": [
    "np.hsplit(F,[1,3])"
   ]
  },
  {
   "cell_type": "code",
   "execution_count": 124,
   "id": "8bfe50fe",
   "metadata": {},
   "outputs": [
    {
     "data": {
      "text/plain": [
       "array([[4],\n",
       "       [8],\n",
       "       [6],\n",
       "       [4]])"
      ]
     },
     "execution_count": 124,
     "metadata": {},
     "output_type": "execute_result"
    }
   ],
   "source": [
    "np.hsplit(F,[1,3])[0] # 0--1,1-3"
   ]
  },
  {
   "cell_type": "code",
   "execution_count": 125,
   "id": "4399adf0",
   "metadata": {},
   "outputs": [
    {
     "data": {
      "text/plain": [
       "array([[8, 7],\n",
       "       [3, 7],\n",
       "       [3, 6],\n",
       "       [5, 4]])"
      ]
     },
     "execution_count": 125,
     "metadata": {},
     "output_type": "execute_result"
    }
   ],
   "source": [
    "np.hsplit(F,[1,3])[1]"
   ]
  },
  {
   "cell_type": "code",
   "execution_count": 126,
   "id": "51007e77",
   "metadata": {},
   "outputs": [
    {
     "data": {
      "text/plain": [
       "[array([[4, 8, 7, 2],\n",
       "        [8, 3, 7, 8]]),\n",
       " array([[6, 3, 6, 4],\n",
       "        [4, 5, 4, 8]])]"
      ]
     },
     "execution_count": 126,
     "metadata": {},
     "output_type": "execute_result"
    }
   ],
   "source": [
    "np.vsplit(F,2)"
   ]
  },
  {
   "cell_type": "code",
   "execution_count": 127,
   "id": "d17523df",
   "metadata": {},
   "outputs": [
    {
     "data": {
      "text/plain": [
       "[array([[4, 8, 7, 2]]),\n",
       " array([[8, 3, 7, 8],\n",
       "        [6, 3, 6, 4]]),\n",
       " array([[4, 5, 4, 8]])]"
      ]
     },
     "execution_count": 127,
     "metadata": {},
     "output_type": "execute_result"
    }
   ],
   "source": [
    "np.vsplit(F,[1,3])"
   ]
  },
  {
   "cell_type": "code",
   "execution_count": 134,
   "id": "e45c900e",
   "metadata": {},
   "outputs": [],
   "source": [
    "F = np.arange(1,5)"
   ]
  },
  {
   "cell_type": "code",
   "execution_count": 135,
   "id": "b8b34024",
   "metadata": {},
   "outputs": [
    {
     "data": {
      "text/plain": [
       "array([1, 2, 3, 4])"
      ]
     },
     "execution_count": 135,
     "metadata": {},
     "output_type": "execute_result"
    }
   ],
   "source": [
    "F"
   ]
  },
  {
   "cell_type": "code",
   "execution_count": 140,
   "id": "27a4d9a2",
   "metadata": {},
   "outputs": [
    {
     "data": {
      "text/plain": [
       "array(['T', 'T', 'T', 'F'], dtype='<U1')"
      ]
     },
     "execution_count": 140,
     "metadata": {},
     "output_type": "execute_result"
    }
   ],
   "source": [
    "np.where(F<4,[\"T\",\"T\",\"T\",\"T\"],[\"F\",\"F\",\"F\",\"F\"])"
   ]
  },
  {
   "cell_type": "code",
   "execution_count": 143,
   "id": "3f4fcdb6",
   "metadata": {},
   "outputs": [
    {
     "data": {
      "text/plain": [
       "array(['F', 'F', 'F', 'T'], dtype='<U1')"
      ]
     },
     "execution_count": 143,
     "metadata": {},
     "output_type": "execute_result"
    }
   ],
   "source": [
    "np.where(F<4,[\"F\",\"F\",\"F\",\"F\"],[\"T\",\"T\",\"T\",\"T\"])"
   ]
  },
  {
   "cell_type": "code",
   "execution_count": 145,
   "id": "972e5232",
   "metadata": {},
   "outputs": [
    {
     "data": {
      "text/plain": [
       "array(['1', '2', '3', 'Not Printed'], dtype='<U11')"
      ]
     },
     "execution_count": 145,
     "metadata": {},
     "output_type": "execute_result"
    }
   ],
   "source": [
    "np.where(F < 4, F, \"Not Printed\")"
   ]
  },
  {
   "cell_type": "code",
   "execution_count": 146,
   "id": "0982cfd8",
   "metadata": {},
   "outputs": [],
   "source": [
    "import pandas as pd"
   ]
  },
  {
   "cell_type": "code",
   "execution_count": 147,
   "id": "3a97f1af",
   "metadata": {},
   "outputs": [],
   "source": [
    "D = np.array([1,2,3,4,5])\n",
    "p = pd.Series(D)"
   ]
  },
  {
   "cell_type": "code",
   "execution_count": 148,
   "id": "cfab56b4",
   "metadata": {},
   "outputs": [
    {
     "data": {
      "text/plain": [
       "0    1\n",
       "1    2\n",
       "2    3\n",
       "3    4\n",
       "4    5\n",
       "dtype: int32"
      ]
     },
     "execution_count": 148,
     "metadata": {},
     "output_type": "execute_result"
    }
   ],
   "source": [
    "p"
   ]
  },
  {
   "cell_type": "code",
   "execution_count": 149,
   "id": "567f5ed1",
   "metadata": {},
   "outputs": [
    {
     "data": {
      "text/plain": [
       "1"
      ]
     },
     "execution_count": 149,
     "metadata": {},
     "output_type": "execute_result"
    }
   ],
   "source": []
  },
  {
   "cell_type": "code",
   "execution_count": 150,
   "id": "986c6c40",
   "metadata": {},
   "outputs": [],
   "source": [
    "a = np.arange(1,11)\n",
    "b = np.arange(81,91)\n",
    "\n",
    "a = pd.Series(a)\n",
    "b = pd.Series(b)\n"
   ]
  },
  {
   "cell_type": "code",
   "execution_count": 151,
   "id": "d8f69b65",
   "metadata": {},
   "outputs": [],
   "source": [
    "a = pd.Series(a)\n",
    "b = pd.Series(b)"
   ]
  },
  {
   "cell_type": "code",
   "execution_count": 153,
   "id": "3e642bd3",
   "metadata": {},
   "outputs": [
    {
     "data": {
      "text/html": [
       "<div>\n",
       "<style scoped>\n",
       "    .dataframe tbody tr th:only-of-type {\n",
       "        vertical-align: middle;\n",
       "    }\n",
       "\n",
       "    .dataframe tbody tr th {\n",
       "        vertical-align: top;\n",
       "    }\n",
       "\n",
       "    .dataframe thead th {\n",
       "        text-align: right;\n",
       "    }\n",
       "</style>\n",
       "<table border=\"1\" class=\"dataframe\">\n",
       "  <thead>\n",
       "    <tr style=\"text-align: right;\">\n",
       "      <th></th>\n",
       "      <th>col1</th>\n",
       "      <th>col2</th>\n",
       "    </tr>\n",
       "  </thead>\n",
       "  <tbody>\n",
       "    <tr>\n",
       "      <th>0</th>\n",
       "      <td>1</td>\n",
       "      <td>81</td>\n",
       "    </tr>\n",
       "    <tr>\n",
       "      <th>1</th>\n",
       "      <td>2</td>\n",
       "      <td>82</td>\n",
       "    </tr>\n",
       "    <tr>\n",
       "      <th>2</th>\n",
       "      <td>3</td>\n",
       "      <td>83</td>\n",
       "    </tr>\n",
       "    <tr>\n",
       "      <th>3</th>\n",
       "      <td>4</td>\n",
       "      <td>84</td>\n",
       "    </tr>\n",
       "    <tr>\n",
       "      <th>4</th>\n",
       "      <td>5</td>\n",
       "      <td>85</td>\n",
       "    </tr>\n",
       "    <tr>\n",
       "      <th>5</th>\n",
       "      <td>6</td>\n",
       "      <td>86</td>\n",
       "    </tr>\n",
       "    <tr>\n",
       "      <th>6</th>\n",
       "      <td>7</td>\n",
       "      <td>87</td>\n",
       "    </tr>\n",
       "    <tr>\n",
       "      <th>7</th>\n",
       "      <td>8</td>\n",
       "      <td>88</td>\n",
       "    </tr>\n",
       "    <tr>\n",
       "      <th>8</th>\n",
       "      <td>9</td>\n",
       "      <td>89</td>\n",
       "    </tr>\n",
       "    <tr>\n",
       "      <th>9</th>\n",
       "      <td>10</td>\n",
       "      <td>90</td>\n",
       "    </tr>\n",
       "  </tbody>\n",
       "</table>\n",
       "</div>"
      ],
      "text/plain": [
       "   col1  col2\n",
       "0     1    81\n",
       "1     2    82\n",
       "2     3    83\n",
       "3     4    84\n",
       "4     5    85\n",
       "5     6    86\n",
       "6     7    87\n",
       "7     8    88\n",
       "8     9    89\n",
       "9    10    90"
      ]
     },
     "execution_count": 153,
     "metadata": {},
     "output_type": "execute_result"
    }
   ],
   "source": [
    "pd.DataFrame({\"col1\":a,\"col2\":b})"
   ]
  },
  {
   "cell_type": "code",
   "execution_count": null,
   "id": "8c49ee9f",
   "metadata": {},
   "outputs": [],
   "source": [
    "# from list\n",
    "# from tuple\n",
    "# from dict"
   ]
  }
 ],
 "metadata": {
  "kernelspec": {
   "display_name": "Python 3 (ipykernel)",
   "language": "python",
   "name": "python3"
  },
  "language_info": {
   "codemirror_mode": {
    "name": "ipython",
    "version": 3
   },
   "file_extension": ".py",
   "mimetype": "text/x-python",
   "name": "python",
   "nbconvert_exporter": "python",
   "pygments_lexer": "ipython3",
   "version": "3.11.5"
  }
 },
 "nbformat": 4,
 "nbformat_minor": 5
}
