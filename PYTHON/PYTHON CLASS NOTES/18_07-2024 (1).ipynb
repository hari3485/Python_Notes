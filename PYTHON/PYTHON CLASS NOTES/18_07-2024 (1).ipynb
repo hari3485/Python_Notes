{
 "cells": [
  {
   "cell_type": "code",
   "execution_count": 9,
   "id": "96a36cbf",
   "metadata": {},
   "outputs": [],
   "source": [
    "# Comparision Operators - \n",
    "# Membership Operators - in,not in\n",
    "# Logical Operators - and, or, not\n",
    "# Identity Operators - is,is not\n",
    "# Bitwise Operators - &,|,^,~,>>,<<"
   ]
  },
  {
   "cell_type": "code",
   "execution_count": null,
   "id": "6b1d2c1c",
   "metadata": {},
   "outputs": [],
   "source": [
    "# Data Perspective\n",
    "\n",
    "# Data point1 and Data point 2 ( Numbers )\n",
    "\n",
    "# Comparision Operators = \n",
    "\n",
    "# datapoint1 is greater than datapoint2 or vice versa --------------\">\"\n",
    "# datapoint1 is less than datapoint2 or vice versa -----------------\"<\"\n",
    "# datapoint1 is equal to datapoint2 or not ------------------------\"==\"\n",
    "# datapoint1 is greater than or equal to datapoint2 or vice versa- \">=\"\n",
    "# datapoint1 is less than or equal to datapoint2 or vice versa --- \"<=\"\n",
    "# datapoint1 is equal to datapoint2 or not or vice versa -----------\"!=\" "
   ]
  },
  {
   "cell_type": "code",
   "execution_count": 20,
   "id": "68a0a92b",
   "metadata": {},
   "outputs": [
    {
     "name": "stdout",
     "output_type": "stream",
     "text": [
      "6 This is the value of datapoint 1\n",
      "8 This is the value of datapoint 2\n"
     ]
    }
   ],
   "source": [
    "datapoint1 = 6\n",
    "datapoint2 = 8\n",
    "\n",
    "\n",
    "print(datapoint1,\"This is the value of datapoint 1\")\n",
    "print(datapoint2,\"This is the value of datapoint 2\")"
   ]
  },
  {
   "cell_type": "code",
   "execution_count": 24,
   "id": "6c4e5be3",
   "metadata": {},
   "outputs": [
    {
     "name": "stdout",
     "output_type": "stream",
     "text": [
      "False\n",
      "True\n"
     ]
    }
   ],
   "source": [
    "# datapoint1 is greater than datapoint2 or vice versa --------------\">\"\n",
    "\n",
    "print(datapoint1 > datapoint2)\n",
    "print(datapoint2 > datapoint1)"
   ]
  },
  {
   "cell_type": "code",
   "execution_count": 26,
   "id": "e5de49c0",
   "metadata": {},
   "outputs": [
    {
     "name": "stdout",
     "output_type": "stream",
     "text": [
      "True\n",
      "False\n"
     ]
    }
   ],
   "source": [
    "# datapoint1 is less than datapoint2 or vice versa -----------------\"<\"\n",
    "\n",
    "print(datapoint1 < datapoint2)\n",
    "print(datapoint2 < datapoint1)"
   ]
  },
  {
   "cell_type": "code",
   "execution_count": 29,
   "id": "46a6facd",
   "metadata": {},
   "outputs": [
    {
     "name": "stdout",
     "output_type": "stream",
     "text": [
      "False\n"
     ]
    }
   ],
   "source": [
    "# datapoint1 is equal to datapoint2 or not ------------------------\"==\"\n",
    "\n",
    "# for assigning a value to a variable well be using \"=\"\n",
    "# for comparing a value with other value if it is equal then well be using \"==\"\n",
    "\n",
    "print(datapoint1 == datapoint2)"
   ]
  },
  {
   "cell_type": "code",
   "execution_count": 31,
   "id": "dffa70ff",
   "metadata": {},
   "outputs": [
    {
     "name": "stdout",
     "output_type": "stream",
     "text": [
      "False\n",
      "True\n"
     ]
    }
   ],
   "source": [
    "# datapoint1 is greater than or equal to datapoint2 or vice versa- \">=\"\n",
    "\n",
    "# is it greater than or equal to \n",
    "\n",
    "print(datapoint1 >= datapoint2) \n",
    "print(datapoint1 <= datapoint2) # lessthan = True , equal to = False\n",
    "# 6,8"
   ]
  },
  {
   "cell_type": "code",
   "execution_count": 32,
   "id": "f6afd473",
   "metadata": {},
   "outputs": [],
   "source": [
    "# or condition - even if one is true itll return the output as true or else "
   ]
  },
  {
   "cell_type": "code",
   "execution_count": 35,
   "id": "b26b8536",
   "metadata": {},
   "outputs": [
    {
     "data": {
      "text/plain": [
       "True"
      ]
     },
     "execution_count": 35,
     "metadata": {},
     "output_type": "execute_result"
    }
   ],
   "source": [
    "# datapoint1 is equal to datapoint2 or not or vice versa -----------\"!=\" \n",
    "\n",
    "\n",
    "datapoint1 != datapoint2"
   ]
  },
  {
   "cell_type": "code",
   "execution_count": 37,
   "id": "94a3323b",
   "metadata": {},
   "outputs": [],
   "source": [
    "# Membership Operators - in,not in\n",
    "\n",
    "# Education_Details = Btech, Inter and School (1000)\n",
    "# Do analysis on Students from School\n",
    "# Filter the Data based on Education = School\n",
    "\n",
    "\n",
    "# Well check if our point of interest is in the data or not\n",
    "# Point of interest = what we are searching for \n",
    "# Data = Lake "
   ]
  },
  {
   "cell_type": "code",
   "execution_count": 41,
   "id": "166cbf8b",
   "metadata": {},
   "outputs": [
    {
     "name": "stdout",
     "output_type": "stream",
     "text": [
      "True\n",
      "False\n"
     ]
    }
   ],
   "source": [
    "sentence = \"Hello Good Morning! Students\"\n",
    "\n",
    "# point of interest = hello\n",
    "# Data = sentence \n",
    "\n",
    "print(\"Hello\" in sentence) # Checking for presence\n",
    "print(\"Hello\" not in sentence) # Cheking if presence is not present "
   ]
  },
  {
   "cell_type": "code",
   "execution_count": 42,
   "id": "d4fc7077",
   "metadata": {},
   "outputs": [],
   "source": [
    "# Logical Operators - and, or, not\n",
    "\n",
    "# Conditions - True and False"
   ]
  },
  {
   "cell_type": "code",
   "execution_count": 43,
   "id": "da3ddc17",
   "metadata": {},
   "outputs": [
    {
     "data": {
      "text/plain": [
       "False"
      ]
     },
     "execution_count": 43,
     "metadata": {},
     "output_type": "execute_result"
    }
   ],
   "source": [
    "True\n",
    "False"
   ]
  },
  {
   "cell_type": "code",
   "execution_count": 44,
   "id": "64d526f0",
   "metadata": {},
   "outputs": [
    {
     "data": {
      "text/plain": [
       "1"
      ]
     },
     "execution_count": 44,
     "metadata": {},
     "output_type": "execute_result"
    }
   ],
   "source": [
    "int(True)"
   ]
  },
  {
   "cell_type": "code",
   "execution_count": 45,
   "id": "076f67db",
   "metadata": {},
   "outputs": [
    {
     "data": {
      "text/plain": [
       "0"
      ]
     },
     "execution_count": 45,
     "metadata": {},
     "output_type": "execute_result"
    }
   ],
   "source": [
    "int(False)"
   ]
  },
  {
   "cell_type": "code",
   "execution_count": 46,
   "id": "ff9034f7",
   "metadata": {},
   "outputs": [
    {
     "name": "stdout",
     "output_type": "stream",
     "text": [
      "True\n",
      "False\n",
      "False\n",
      "False\n"
     ]
    }
   ],
   "source": [
    "# AND Table - and\n",
    "\n",
    "print(True and True)\n",
    "print(True and False)\n",
    "print(False and True)\n",
    "print(False and False)"
   ]
  },
  {
   "cell_type": "code",
   "execution_count": 47,
   "id": "7cc90026",
   "metadata": {},
   "outputs": [
    {
     "name": "stdout",
     "output_type": "stream",
     "text": [
      "True\n",
      "True\n",
      "True\n",
      "False\n"
     ]
    }
   ],
   "source": [
    "# Or Table\n",
    "\n",
    "print(True or True)\n",
    "print(True or False)\n",
    "print(False or True)\n",
    "print(False or False)"
   ]
  },
  {
   "cell_type": "code",
   "execution_count": 48,
   "id": "e4ffe9fc",
   "metadata": {},
   "outputs": [
    {
     "data": {
      "text/plain": [
       "False"
      ]
     },
     "execution_count": 48,
     "metadata": {},
     "output_type": "execute_result"
    }
   ],
   "source": [
    "not(True)"
   ]
  },
  {
   "cell_type": "code",
   "execution_count": 49,
   "id": "9413e185",
   "metadata": {},
   "outputs": [
    {
     "data": {
      "text/plain": [
       "True"
      ]
     },
     "execution_count": 49,
     "metadata": {},
     "output_type": "execute_result"
    }
   ],
   "source": [
    "not(False)"
   ]
  },
  {
   "cell_type": "code",
   "execution_count": 50,
   "id": "6bf03619",
   "metadata": {},
   "outputs": [
    {
     "name": "stdout",
     "output_type": "stream",
     "text": [
      "True\n",
      "False\n",
      "False\n",
      "False\n"
     ]
    }
   ],
   "source": [
    "# Bitwise Operators - &,|,^,~,>>,<<\n",
    "\n",
    "# Bitwise Operators \n",
    "# Operators used to perform the Operation between bits \n",
    "\n",
    "\n",
    "\n",
    "# Bitwise &\n",
    "\n",
    "print(True & True)\n",
    "print(True & False)\n",
    "print(False & True)\n",
    "print(False & False)"
   ]
  },
  {
   "cell_type": "code",
   "execution_count": 51,
   "id": "c1d2466f",
   "metadata": {},
   "outputs": [
    {
     "name": "stdout",
     "output_type": "stream",
     "text": [
      "True\n",
      "True\n",
      "True\n",
      "False\n"
     ]
    }
   ],
   "source": [
    "print(True | True)\n",
    "print(True | False)\n",
    "print(False | True)\n",
    "print(False | False)\n",
    "\n",
    "# Bitwise - Input - Binary - Operation"
   ]
  },
  {
   "cell_type": "code",
   "execution_count": 52,
   "id": "2be3481b",
   "metadata": {},
   "outputs": [
    {
     "name": "stdout",
     "output_type": "stream",
     "text": [
      "1\n",
      "1\n",
      "1\n",
      "0\n"
     ]
    }
   ],
   "source": [
    "print(1 | 1)\n",
    "print(1 | 0)\n",
    "print(0 | 1)\n",
    "print(0 | 0)"
   ]
  },
  {
   "cell_type": "code",
   "execution_count": null,
   "id": "b0e0cc5b",
   "metadata": {},
   "outputs": [],
   "source": [
    "# Pipeline - Set of Operations -\n",
    "# Set of Operations - Connection between functions (F1,F2,F3,F4)\n",
    "\n",
    "# Function will take an input and return an output\n",
    "\n",
    "# Output - Boolean Output \n",
    "# Output - Change the flow of pipeline\n",
    "\n",
    "# F1 ---> F2 (True or False) ---> F3 ----> F4 \n",
    "\n",
    "# If True : F1 ---> F2 ---> F3 ----> F4 \n",
    "# If False : F1 ---> F2 ----> F4\n",
    "\n",
    "# Bitwise Operators "
   ]
  },
  {
   "cell_type": "code",
   "execution_count": null,
   "id": "ba7f8e3c",
   "metadata": {},
   "outputs": [],
   "source": [
    "^,~,>>,<<\n",
    "\n",
    "# ^ = XOR\n",
    "# ~ = Not\n",
    "# >> = right shift\n",
    "# << = left shift"
   ]
  },
  {
   "cell_type": "code",
   "execution_count": 54,
   "id": "d7bbb66e",
   "metadata": {},
   "outputs": [
    {
     "name": "stdout",
     "output_type": "stream",
     "text": [
      "False\n",
      "True\n",
      "True\n",
      "False\n"
     ]
    }
   ],
   "source": [
    "# ^ = XOR\n",
    "\n",
    "# If Inputs are Different the output is True\n",
    "# If Inputs are same the output is false \n",
    "\n",
    "print(True ^ True)\n",
    "print(True ^ False)\n",
    "print(False ^ True)\n",
    "print(False ^ False)"
   ]
  },
  {
   "cell_type": "code",
   "execution_count": 56,
   "id": "29b43850",
   "metadata": {},
   "outputs": [
    {
     "name": "stdout",
     "output_type": "stream",
     "text": [
      "1\n",
      "0\n"
     ]
    }
   ],
   "source": [
    "print(int(True))\n",
    "print(int(False))"
   ]
  },
  {
   "cell_type": "code",
   "execution_count": 55,
   "id": "1b2f220d",
   "metadata": {},
   "outputs": [
    {
     "name": "stdout",
     "output_type": "stream",
     "text": [
      "-2\n",
      "-1\n"
     ]
    }
   ],
   "source": [
    "# not \n",
    "\n",
    "print(~True)\n",
    "print(~False)"
   ]
  },
  {
   "cell_type": "code",
   "execution_count": 57,
   "id": "96bad174",
   "metadata": {},
   "outputs": [
    {
     "name": "stdout",
     "output_type": "stream",
     "text": [
      "-46\n",
      "-33\n"
     ]
    }
   ],
   "source": [
    "print(~45)\n",
    "print(~32)"
   ]
  },
  {
   "cell_type": "code",
   "execution_count": 59,
   "id": "6912a23b",
   "metadata": {},
   "outputs": [
    {
     "data": {
      "text/plain": [
       "11"
      ]
     },
     "execution_count": 59,
     "metadata": {},
     "output_type": "execute_result"
    }
   ],
   "source": [
    "# right shift - >>\n",
    "\n",
    "# syntax: value >> how many units you want to shift\n",
    "\n",
    "45 >> 2"
   ]
  },
  {
   "cell_type": "code",
   "execution_count": 65,
   "id": "8b3afb4f",
   "metadata": {},
   "outputs": [
    {
     "data": {
      "text/plain": [
       "180"
      ]
     },
     "execution_count": 65,
     "metadata": {},
     "output_type": "execute_result"
    }
   ],
   "source": [
    "45 << 2"
   ]
  },
  {
   "cell_type": "code",
   "execution_count": 61,
   "id": "b076060f",
   "metadata": {},
   "outputs": [
    {
     "name": "stdout",
     "output_type": "stream",
     "text": [
      "0b101101\n"
     ]
    }
   ],
   "source": [
    "# Binary number\n",
    "\n",
    "print(bin(45)) # 101101 "
   ]
  },
  {
   "cell_type": "code",
   "execution_count": null,
   "id": "6a9bca2a",
   "metadata": {},
   "outputs": [],
   "source": []
  }
 ],
 "metadata": {
  "kernelspec": {
   "display_name": "Python 3 (ipykernel)",
   "language": "python",
   "name": "python3"
  },
  "language_info": {
   "codemirror_mode": {
    "name": "ipython",
    "version": 3
   },
   "file_extension": ".py",
   "mimetype": "text/x-python",
   "name": "python",
   "nbconvert_exporter": "python",
   "pygments_lexer": "ipython3",
   "version": "3.11.8"
  }
 },
 "nbformat": 4,
 "nbformat_minor": 5
}
