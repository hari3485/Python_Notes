{
 "cells": [
  {
   "cell_type": "code",
   "execution_count": 57,
   "id": "92d60886",
   "metadata": {},
   "outputs": [],
   "source": [
    "# String\n",
    "# Accessing a String\n",
    "# How many Ways of accessing a string\n",
    "# upper,lower,strip,replace,split\n",
    "# concatenation"
   ]
  },
  {
   "cell_type": "code",
   "execution_count": null,
   "id": "3b0f53a9",
   "metadata": {},
   "outputs": [],
   "source": [
    "# Recap:\n",
    "\n",
    "# Datatype - Need for Understanding the Datatype \n",
    "\n",
    "# Analaysis will be different for different data types\n",
    "\n",
    "# datapoint - int (3,4,5) - float(3.5,4.2,5.9) - Boolean (True or False) - String (Word, Sentence, Paragrapgh)\n",
    "\n",
    "# String - Characters, Words, Sentences, Paragrapgh \n",
    "\n",
    "# A string is defined by double quotes (\" \") or single quotes (' ') - "
   ]
  },
  {
   "cell_type": "code",
   "execution_count": 60,
   "id": "8b0b5c64",
   "metadata": {},
   "outputs": [],
   "source": [
    "name = \"charan\"\n",
    "name_2 = 'charan'"
   ]
  },
  {
   "cell_type": "code",
   "execution_count": 61,
   "id": "18592492",
   "metadata": {},
   "outputs": [
    {
     "name": "stdout",
     "output_type": "stream",
     "text": [
      "charan output of name\n",
      "charan output of name_2\n"
     ]
    }
   ],
   "source": [
    "print(name,\"output of name\")\n",
    "print(name_2,\"output of name_2\")"
   ]
  },
  {
   "cell_type": "code",
   "execution_count": 62,
   "id": "274e57e6",
   "metadata": {},
   "outputs": [
    {
     "ename": "SyntaxError",
     "evalue": "unterminated string literal (detected at line 1) (4100659872.py, line 1)",
     "output_type": "error",
     "traceback": [
      "\u001b[1;36m  Cell \u001b[1;32mIn[62], line 1\u001b[1;36m\u001b[0m\n\u001b[1;33m    name_2 = 'charan\"\u001b[0m\n\u001b[1;37m             ^\u001b[0m\n\u001b[1;31mSyntaxError\u001b[0m\u001b[1;31m:\u001b[0m unterminated string literal (detected at line 1)\n"
     ]
    }
   ],
   "source": [
    "name_2 = 'charan\""
   ]
  },
  {
   "cell_type": "code",
   "execution_count": 64,
   "id": "caaf14e3",
   "metadata": {},
   "outputs": [
    {
     "name": "stdout",
     "output_type": "stream",
     "text": [
      "1 1\n",
      "<class 'int'> <class 'str'>\n"
     ]
    }
   ],
   "source": [
    "a1 = 1\n",
    "a2 = \"1\"\n",
    "\n",
    "print(a1,a2)\n",
    "print(type(a1),type(a2))"
   ]
  },
  {
   "cell_type": "code",
   "execution_count": 67,
   "id": "1e8faf11",
   "metadata": {},
   "outputs": [
    {
     "data": {
      "text/plain": [
       "'\\nthis is for multiple line comments\\nthis is for multiple line comments\\nthis is for multiple line comments\\nthis is for multiple line comments\\nthis is for multiple line comments\\nthis is for multiple line comments\\nthis is for multiple line comments\\nthis is for multiple line comments\\n'"
      ]
     },
     "execution_count": 67,
     "metadata": {},
     "output_type": "execute_result"
    }
   ],
   "source": [
    "# Comments - Readability - single line comment \n",
    "\n",
    "\n",
    "'''\n",
    "this is for multiple line comments\n",
    "this is for multiple line comments\n",
    "this is for multiple line comments\n",
    "this is for multiple line comments\n",
    "this is for multiple line comments\n",
    "this is for multiple line comments\n",
    "this is for multiple line comments\n",
    "this is for multiple line comments\n",
    "'''\n",
    "\n",
    "# This is line 1\n",
    "# This is line 2\n",
    "# This is line 3"
   ]
  },
  {
   "cell_type": "code",
   "execution_count": 68,
   "id": "f99933d4",
   "metadata": {},
   "outputs": [],
   "source": [
    "LP = \"AP293Z98\""
   ]
  },
  {
   "cell_type": "code",
   "execution_count": 69,
   "id": "2529a414",
   "metadata": {},
   "outputs": [
    {
     "name": "stdout",
     "output_type": "stream",
     "text": [
      "<class 'str'>\n"
     ]
    }
   ],
   "source": [
    "print(type(LP))"
   ]
  },
  {
   "cell_type": "code",
   "execution_count": null,
   "id": "49abda79",
   "metadata": {},
   "outputs": [],
   "source": [
    "# Analysis done on text\n",
    "\n",
    "# Finding Specific Letter, Word\n",
    "# "
   ]
  },
  {
   "cell_type": "code",
   "execution_count": null,
   "id": "7ef2cd6b",
   "metadata": {},
   "outputs": [],
   "source": [
    "# Client - Data\n",
    "# Extract the Data \n",
    "# Unncessary Text \n",
    "\n",
    "# Analaysis - "
   ]
  },
  {
   "cell_type": "code",
   "execution_count": null,
   "id": "70cc0527",
   "metadata": {},
   "outputs": [],
   "source": [
    "'''\n",
    "I have 10 apples, 5 bananas, 19 carrorts etc\n",
    "'''\n",
    "\n",
    "# Count of apples\n",
    "# Count of bananas\n",
    "# count of carrots \n",
    "\n",
    "# Positive sentiment means customers had a good experience\n",
    "# Negative sentiment means customers had a bad experience"
   ]
  },
  {
   "cell_type": "code",
   "execution_count": 70,
   "id": "3d08e913",
   "metadata": {},
   "outputs": [],
   "source": [
    "# Text \n",
    "\n",
    "# Accessing"
   ]
  },
  {
   "cell_type": "code",
   "execution_count": 71,
   "id": "db943b3a",
   "metadata": {},
   "outputs": [],
   "source": [
    "data_point = \"Apple iPhone 15 Pro (256 GB) - Black Titanium\"\n",
    "\n",
    "# color, storage, model, brand/company , series\n",
    "# How ? \n",
    "\n",
    "# color = Black\n",
    "# storage = 256 GB\n",
    "# brand = Apple\n",
    "# series = 15 Pro"
   ]
  },
  {
   "cell_type": "code",
   "execution_count": null,
   "id": "7a71ebbe",
   "metadata": {},
   "outputs": [],
   "source": [
    "# Indexing - positive indexing and negative indexing\n",
    "\n",
    "# postive indexing starts from 0\n",
    "# negative indexing starts from len(input)-1\n",
    "\n",
    "\n"
   ]
  },
  {
   "attachments": {
    "image.png": {
     "image/png": "[encoded data removed]"
    }
   },
   "cell_type": "markdown",
   "id": "03aeaa53",
   "metadata": {},
   "source": [
    "![image.png](attachment:image.png)"
   ]
  },
  {
   "cell_type": "code",
   "execution_count": 73,
   "id": "8d001fc1",
   "metadata": {},
   "outputs": [
    {
     "name": "stdout",
     "output_type": "stream",
     "text": [
      "P\n",
      "P\n"
     ]
    }
   ],
   "source": [
    "req = \"Python\"\n",
    "\n",
    "# syntax: variable[index_value]\n",
    "\n",
    "print(req[0])\n",
    "print(req[-6])"
   ]
  },
  {
   "cell_type": "code",
   "execution_count": 75,
   "id": "2756543c",
   "metadata": {},
   "outputs": [],
   "source": [
    "data_point = \"Apple iPhone 15 Pro (256 GB) - Black Titanium\"\n",
    "\n",
    "\n",
    "# To access a single letter or value or datapoint variable[index_value]\n",
    "\n",
    "\n",
    "# To access a Datapoint with more than 1 value syntax variable[start_index_value:end_index_value+1]"
   ]
  },
  {
   "cell_type": "code",
   "execution_count": 79,
   "id": "c48ce450",
   "metadata": {},
   "outputs": [
    {
     "data": {
      "text/plain": [
       "'Apple'"
      ]
     },
     "execution_count": 79,
     "metadata": {},
     "output_type": "execute_result"
    }
   ],
   "source": [
    "data_point[0:5]\n",
    "\n",
    "# Apple - 0,1,2,3,4"
   ]
  },
  {
   "cell_type": "code",
   "execution_count": 81,
   "id": "33697e27",
   "metadata": {},
   "outputs": [
    {
     "data": {
      "text/plain": [
       "'Ape'"
      ]
     },
     "execution_count": 81,
     "metadata": {},
     "output_type": "execute_result"
    }
   ],
   "source": [
    "# To access a Datapoint with more than 1 value with step .syntax variable[start_index_value:end_index_value+1]\n",
    "# step skipping\n",
    "\n",
    "data_point[0:5:2]"
   ]
  },
  {
   "cell_type": "code",
   "execution_count": null,
   "id": "3ad87cf7",
   "metadata": {},
   "outputs": [],
   "source": [
    "# You can never understand how much big the user input can be "
   ]
  },
  {
   "cell_type": "code",
   "execution_count": null,
   "id": "28095d73",
   "metadata": {},
   "outputs": [],
   "source": [
    "# To access a Datapoint with more than 1 value with step .syntax variable[start_index_value:end_index_value+1]\n",
    "# step skipping\n",
    "\n",
    "data_point[0:5:2]\n",
    "# Indexing"
   ]
  },
  {
   "cell_type": "code",
   "execution_count": 82,
   "id": "a2313635",
   "metadata": {},
   "outputs": [
    {
     "name": "stdout",
     "output_type": "stream",
     "text": [
      "45\n",
      "60\n"
     ]
    }
   ],
   "source": [
    "data_point_1 = \"Apple iPhone 15 Pro (256 GB) - Black Titanium\"\n",
    "data_point_2 = \"Hi I am Charan.Apple iPhone 15 Pro (256 GB) - Black Titanium\"\n",
    "\n",
    "# length of the input \n",
    "\n",
    "print(len(data_point_1))\n",
    "print(len(data_point_2))"
   ]
  },
  {
   "cell_type": "code",
   "execution_count": 89,
   "id": "192de690",
   "metadata": {},
   "outputs": [
    {
     "data": {
      "text/plain": [
       "'Apple iPhone 15 Pro (256 GB) - Black Titanium'"
      ]
     },
     "execution_count": 89,
     "metadata": {},
     "output_type": "execute_result"
    }
   ],
   "source": [
    "data_point_1[0:45] # start +ve, end value"
   ]
  },
  {
   "cell_type": "code",
   "execution_count": 98,
   "id": "962d4332",
   "metadata": {},
   "outputs": [
    {
     "data": {
      "text/plain": [
       "'Apple iPhone 15 Pro (256 GB) - Black Titanium'"
      ]
     },
     "execution_count": 98,
     "metadata": {},
     "output_type": "execute_result"
    }
   ],
   "source": [
    "data_point_1[-46:] # -(N+1)....-1 # doubt ?"
   ]
  },
  {
   "cell_type": "code",
   "execution_count": 96,
   "id": "5148fd2d",
   "metadata": {},
   "outputs": [
    {
     "data": {
      "text/plain": [
       "'Apple iPhone 15 Pro (256 GB) - Black Titanium'"
      ]
     },
     "execution_count": 96,
     "metadata": {},
     "output_type": "execute_result"
    }
   ],
   "source": [
    "data_point[:]"
   ]
  },
  {
   "cell_type": "code",
   "execution_count": 100,
   "id": "31e4ebf3",
   "metadata": {},
   "outputs": [
    {
     "name": "stdout",
     "output_type": "stream",
     "text": [
      "e iPhone 15 Pro (256 GB) - Black Titanium\n",
      " Pro (256 GB) - Black Titanium\n"
     ]
    }
   ],
   "source": [
    "# starting point and i want to continue till the end \n",
    "\n",
    "# Slicing \n",
    "\n",
    "print(data_point[4:])\n",
    "print(data_point[-30:])"
   ]
  },
  {
   "cell_type": "code",
   "execution_count": null,
   "id": "3ba599b2",
   "metadata": {},
   "outputs": [],
   "source": [
    "\"Apple iPhone 15 Pro (256 GB) - Black Titanium\"\n",
    "\n",
    "# slicing method / Indexing method \n",
    "\n",
    "# color\n",
    "# model\n",
    "# brand\n",
    "# size\n",
    "# series"
   ]
  },
  {
   "cell_type": "code",
   "execution_count": null,
   "id": "24b39237",
   "metadata": {},
   "outputs": [],
   "source": [
    "# upper,lower,strip,replace,split\n",
    "# concatenation"
   ]
  },
  {
   "cell_type": "code",
   "execution_count": 103,
   "id": "d5ae00f5",
   "metadata": {},
   "outputs": [
    {
     "name": "stdout",
     "output_type": "stream",
     "text": [
      "GOOD MORNING\n"
     ]
    }
   ],
   "source": [
    "text = \"Good Morning\"\n",
    "\n",
    "# syntax: variable.upper()\n",
    "\n",
    "a = text.upper()\n",
    "print(a)"
   ]
  },
  {
   "cell_type": "code",
   "execution_count": 106,
   "id": "db736b01",
   "metadata": {},
   "outputs": [
    {
     "data": {
      "text/plain": [
       "'HI I AM CHARAN'"
      ]
     },
     "execution_count": 106,
     "metadata": {},
     "output_type": "execute_result"
    }
   ],
   "source": [
    "\"Hi I am Charan\".upper()"
   ]
  },
  {
   "cell_type": "code",
   "execution_count": 108,
   "id": "73769673",
   "metadata": {},
   "outputs": [
    {
     "data": {
      "text/plain": [
       "'good morning im python'"
      ]
     },
     "execution_count": 108,
     "metadata": {},
     "output_type": "execute_result"
    }
   ],
   "source": [
    "\"GOOD MORNING IM PYTHON\".lower()"
   ]
  },
  {
   "cell_type": "code",
   "execution_count": 111,
   "id": "de0a0098",
   "metadata": {},
   "outputs": [
    {
     "name": "stdout",
     "output_type": "stream",
     "text": [
      "GOOD MORNING\n",
      "PYTHON\n"
     ]
    }
   ],
   "source": [
    "# strip - removing white spaces on left and right of the input\n",
    "a = \"    PYTHON        \"\n",
    "print(\"   GOOD MORNING   \".strip())\n",
    "print(a.strip())\n",
    "\n",
    "\n",
    "# Space is also considered as a part of the string \n",
    "# so itll be also having a index value"
   ]
  },
  {
   "cell_type": "code",
   "execution_count": 114,
   "id": "8357ccca",
   "metadata": {},
   "outputs": [
    {
     "data": {
      "text/plain": [
       "'I have Zero rupees in my bank account'"
      ]
     },
     "execution_count": 114,
     "metadata": {},
     "output_type": "execute_result"
    }
   ],
   "source": [
    "# replace - changing a value to a new value\n",
    "\n",
    "\n",
    "GG = \"I have 0 rupees in my bank account\" # replace this C with K\n",
    "\n",
    "GG.replace(\"0\",\"Zero\")"
   ]
  },
  {
   "cell_type": "code",
   "execution_count": 117,
   "id": "fa6bbbb9",
   "metadata": {},
   "outputs": [
    {
     "data": {
      "text/plain": [
       "'I hav3 0 rup33s in my bank account'"
      ]
     },
     "execution_count": 117,
     "metadata": {},
     "output_type": "execute_result"
    }
   ],
   "source": [
    "GG.replace(\"e\",\"3\")"
   ]
  },
  {
   "cell_type": "code",
   "execution_count": 118,
   "id": "c596d533",
   "metadata": {},
   "outputs": [
    {
     "data": {
      "text/plain": [
       "['I', 'have', '0', 'rupees', 'in', 'my', 'bank', 'account']"
      ]
     },
     "execution_count": 118,
     "metadata": {},
     "output_type": "execute_result"
    }
   ],
   "source": [
    "# split \n",
    "\n",
    "GG.split(\" \")\n",
    "# list "
   ]
  },
  {
   "cell_type": "code",
   "execution_count": 119,
   "id": "d1250a88",
   "metadata": {},
   "outputs": [
    {
     "data": {
      "text/plain": [
       "'have'"
      ]
     },
     "execution_count": 119,
     "metadata": {},
     "output_type": "execute_result"
    }
   ],
   "source": [
    "GG.split(\" \")[1]"
   ]
  },
  {
   "cell_type": "code",
   "execution_count": 123,
   "id": "eff12e79",
   "metadata": {},
   "outputs": [
    {
     "name": "stdout",
     "output_type": "stream",
     "text": [
      "13\n",
      "11\n",
      "1997\n"
     ]
    }
   ],
   "source": [
    "# date_column (Y,m,d)\n",
    "\n",
    "date_of_birth = \"1997-11-13\" # Y,M,D\n",
    "\n",
    "date = date_of_birth.split(\"-\")[2]\n",
    "month = date_of_birth.split(\"-\")[1]\n",
    "year = date_of_birth.split(\"-\")[0]\n",
    "\n",
    "\n",
    "print(date)\n",
    "print(month)\n",
    "print(year)"
   ]
  },
  {
   "cell_type": "code",
   "execution_count": 125,
   "id": "a1090cdc",
   "metadata": {},
   "outputs": [
    {
     "name": "stdout",
     "output_type": "stream",
     "text": [
      "Hello Good Morning\n"
     ]
    }
   ],
   "source": [
    "# concatenation - adding or merging or combining\n",
    "\n",
    "\n",
    "str1 = \"Hello\"\n",
    "str2 = \"Good Morning\"\n",
    "\n",
    "\n",
    "print(str1+\" \"+str2)"
   ]
  },
  {
   "cell_type": "code",
   "execution_count": 126,
   "id": "9a5c1782",
   "metadata": {},
   "outputs": [
    {
     "ename": "TypeError",
     "evalue": "can only concatenate str (not \"int\") to str",
     "output_type": "error",
     "traceback": [
      "\u001b[1;31m---------------------------------------------------------------------------\u001b[0m",
      "\u001b[1;31mTypeError\u001b[0m                                 Traceback (most recent call last)",
      "Cell \u001b[1;32mIn[126], line 3\u001b[0m\n\u001b[0;32m      1\u001b[0m \u001b[38;5;66;03m# number to a string\u001b[39;00m\n\u001b[1;32m----> 3\u001b[0m \u001b[38;5;124m\"\u001b[39m\u001b[38;5;124mHello\u001b[39m\u001b[38;5;124m\"\u001b[39m \u001b[38;5;241m+\u001b[39m \u001b[38;5;241m3\u001b[39m\n",
      "\u001b[1;31mTypeError\u001b[0m: can only concatenate str (not \"int\") to str"
     ]
    }
   ],
   "source": [
    "# add number to a string\n",
    "\n",
    "\"Hello\" + 3"
   ]
  },
  {
   "cell_type": "code",
   "execution_count": 128,
   "id": "64cd1442",
   "metadata": {},
   "outputs": [
    {
     "data": {
      "text/plain": [
       "'Hello Hello Hello '"
      ]
     },
     "execution_count": 128,
     "metadata": {},
     "output_type": "execute_result"
    }
   ],
   "source": [
    "# multiply number to a string\n",
    "\n",
    "\"Hello \" * 3"
   ]
  },
  {
   "cell_type": "code",
   "execution_count": null,
   "id": "d20fece2",
   "metadata": {},
   "outputs": [],
   "source": [
    "# take input from user - description\n",
    "\n",
    "# information required - Name, Age, Hobbies - 2/3,EducationBG\n",
    "\n",
    "# print a welcome msg with Name and congratulate him/her on their onboarding "
   ]
  },
  {
   "cell_type": "code",
   "execution_count": 134,
   "id": "3432f8b3",
   "metadata": {},
   "outputs": [
    {
     "name": "stdout",
     "output_type": "stream",
     "text": [
      "Hello User! Please tell about yourself: 'Hi I am Charan Im 26 years old I Live in Hyderabad'\n"
     ]
    }
   ],
   "source": [
    "user_input = input(\"Hello User! Please tell about yourself: \")"
   ]
  },
  {
   "cell_type": "code",
   "execution_count": 135,
   "id": "44997eb2",
   "metadata": {},
   "outputs": [
    {
     "data": {
      "text/plain": [
       "\"'Hi I am Charan Im 26 years old I Live in Hyderabad'\""
      ]
     },
     "execution_count": 135,
     "metadata": {},
     "output_type": "execute_result"
    }
   ],
   "source": [
    "user_input"
   ]
  },
  {
   "cell_type": "code",
   "execution_count": 138,
   "id": "90654cc5",
   "metadata": {},
   "outputs": [
    {
     "name": "stdout",
     "output_type": "stream",
     "text": [
      "[\"'Hi\", 'I', 'am', 'Charan', 'Im', '26', 'years', 'old', 'I', 'Live', 'in', \"Hyderabad'\"]\n"
     ]
    }
   ],
   "source": [
    "a = user_input.split(\" \")\n",
    "print(a)"
   ]
  },
  {
   "cell_type": "code",
   "execution_count": 139,
   "id": "21ff9528",
   "metadata": {},
   "outputs": [
    {
     "name": "stdout",
     "output_type": "stream",
     "text": [
      "Innomatics Welcomes you Charan\n"
     ]
    }
   ],
   "source": [
    "print(\"Innomatics Welcomes you\",user_input.split(\" \")[3])"
   ]
  },
  {
   "cell_type": "code",
   "execution_count": null,
   "id": "1e5a675f",
   "metadata": {},
   "outputs": [],
   "source": []
  }
 ],
 "metadata": {
  "kernelspec": {
   "display_name": "Python 3 (ipykernel)",
   "language": "python",
   "name": "python3"
  },
  "language_info": {
   "codemirror_mode": {
    "name": "ipython",
    "version": 3
   },
   "file_extension": ".py",
   "mimetype": "text/x-python",
   "name": "python",
   "nbconvert_exporter": "python",
   "pygments_lexer": "ipython3",
   "version": "3.11.8"
  }
 },
 "nbformat": 4,
 "nbformat_minor": 5
}
