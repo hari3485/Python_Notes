{
 "cells": [
  {
   "cell_type": "code",
   "execution_count": 2,
   "id": "effc6d44",
   "metadata": {},
   "outputs": [],
   "source": [
    "import pandas as pd\n",
    "import numpy as np"
   ]
  },
  {
   "cell_type": "code",
   "execution_count": 25,
   "id": "009e6126",
   "metadata": {},
   "outputs": [
    {
     "data": {
      "text/html": [
       "<div>\n",
       "<style scoped>\n",
       "    .dataframe tbody tr th:only-of-type {\n",
       "        vertical-align: middle;\n",
       "    }\n",
       "\n",
       "    .dataframe tbody tr th {\n",
       "        vertical-align: top;\n",
       "    }\n",
       "\n",
       "    .dataframe thead th {\n",
       "        text-align: right;\n",
       "    }\n",
       "</style>\n",
       "<table border=\"1\" class=\"dataframe\">\n",
       "  <thead>\n",
       "    <tr style=\"text-align: right;\">\n",
       "      <th></th>\n",
       "      <th>Loan_ID</th>\n",
       "      <th>Gender</th>\n",
       "      <th>Married</th>\n",
       "      <th>Dependents</th>\n",
       "      <th>Education</th>\n",
       "      <th>Self_Employed</th>\n",
       "      <th>ApplicantIncome</th>\n",
       "      <th>CoapplicantIncome</th>\n",
       "      <th>LoanAmount</th>\n",
       "      <th>Loan_Amount_Term</th>\n",
       "      <th>Credit_History</th>\n",
       "      <th>Property_Area</th>\n",
       "      <th>Loan_Status</th>\n",
       "    </tr>\n",
       "  </thead>\n",
       "  <tbody>\n",
       "    <tr>\n",
       "      <th>0</th>\n",
       "      <td>LP001722</td>\n",
       "      <td>Male</td>\n",
       "      <td>Yes</td>\n",
       "      <td>0</td>\n",
       "      <td>Graduate</td>\n",
       "      <td>No</td>\n",
       "      <td>150</td>\n",
       "      <td>1800.0</td>\n",
       "      <td>135.0</td>\n",
       "      <td>360.0</td>\n",
       "      <td>1.0</td>\n",
       "      <td>Rural</td>\n",
       "      <td>N</td>\n",
       "    </tr>\n",
       "    <tr>\n",
       "      <th>1</th>\n",
       "      <td>LP002502</td>\n",
       "      <td>Female</td>\n",
       "      <td>Yes</td>\n",
       "      <td>2</td>\n",
       "      <td>Not Graduate</td>\n",
       "      <td>NaN</td>\n",
       "      <td>210</td>\n",
       "      <td>2917.0</td>\n",
       "      <td>98.0</td>\n",
       "      <td>360.0</td>\n",
       "      <td>1.0</td>\n",
       "      <td>Semiurban</td>\n",
       "      <td>Y</td>\n",
       "    </tr>\n",
       "    <tr>\n",
       "      <th>2</th>\n",
       "      <td>LP002949</td>\n",
       "      <td>Female</td>\n",
       "      <td>No</td>\n",
       "      <td>3+</td>\n",
       "      <td>Graduate</td>\n",
       "      <td>NaN</td>\n",
       "      <td>416</td>\n",
       "      <td>41667.0</td>\n",
       "      <td>350.0</td>\n",
       "      <td>180.0</td>\n",
       "      <td>NaN</td>\n",
       "      <td>Urban</td>\n",
       "      <td>N</td>\n",
       "    </tr>\n",
       "    <tr>\n",
       "      <th>3</th>\n",
       "      <td>LP002603</td>\n",
       "      <td>Female</td>\n",
       "      <td>No</td>\n",
       "      <td>0</td>\n",
       "      <td>Graduate</td>\n",
       "      <td>No</td>\n",
       "      <td>645</td>\n",
       "      <td>3683.0</td>\n",
       "      <td>113.0</td>\n",
       "      <td>480.0</td>\n",
       "      <td>1.0</td>\n",
       "      <td>Rural</td>\n",
       "      <td>Y</td>\n",
       "    </tr>\n",
       "    <tr>\n",
       "      <th>4</th>\n",
       "      <td>LP001644</td>\n",
       "      <td>NaN</td>\n",
       "      <td>Yes</td>\n",
       "      <td>0</td>\n",
       "      <td>Graduate</td>\n",
       "      <td>Yes</td>\n",
       "      <td>674</td>\n",
       "      <td>5296.0</td>\n",
       "      <td>168.0</td>\n",
       "      <td>360.0</td>\n",
       "      <td>1.0</td>\n",
       "      <td>Rural</td>\n",
       "      <td>Y</td>\n",
       "    </tr>\n",
       "    <tr>\n",
       "      <th>...</th>\n",
       "      <td>...</td>\n",
       "      <td>...</td>\n",
       "      <td>...</td>\n",
       "      <td>...</td>\n",
       "      <td>...</td>\n",
       "      <td>...</td>\n",
       "      <td>...</td>\n",
       "      <td>...</td>\n",
       "      <td>...</td>\n",
       "      <td>...</td>\n",
       "      <td>...</td>\n",
       "      <td>...</td>\n",
       "      <td>...</td>\n",
       "    </tr>\n",
       "    <tr>\n",
       "      <th>609</th>\n",
       "      <td>LP001640</td>\n",
       "      <td>Male</td>\n",
       "      <td>Yes</td>\n",
       "      <td>0</td>\n",
       "      <td>Graduate</td>\n",
       "      <td>Yes</td>\n",
       "      <td>39147</td>\n",
       "      <td>4750.0</td>\n",
       "      <td>120.0</td>\n",
       "      <td>360.0</td>\n",
       "      <td>1.0</td>\n",
       "      <td>Semiurban</td>\n",
       "      <td>Y</td>\n",
       "    </tr>\n",
       "    <tr>\n",
       "      <th>610</th>\n",
       "      <td>LP001536</td>\n",
       "      <td>Male</td>\n",
       "      <td>Yes</td>\n",
       "      <td>3+</td>\n",
       "      <td>Graduate</td>\n",
       "      <td>No</td>\n",
       "      <td>39999</td>\n",
       "      <td>0.0</td>\n",
       "      <td>600.0</td>\n",
       "      <td>180.0</td>\n",
       "      <td>0.0</td>\n",
       "      <td>Semiurban</td>\n",
       "      <td>Y</td>\n",
       "    </tr>\n",
       "    <tr>\n",
       "      <th>611</th>\n",
       "      <td>LP001585</td>\n",
       "      <td>NaN</td>\n",
       "      <td>Yes</td>\n",
       "      <td>3+</td>\n",
       "      <td>Graduate</td>\n",
       "      <td>No</td>\n",
       "      <td>51763</td>\n",
       "      <td>0.0</td>\n",
       "      <td>700.0</td>\n",
       "      <td>300.0</td>\n",
       "      <td>1.0</td>\n",
       "      <td>Urban</td>\n",
       "      <td>Y</td>\n",
       "    </tr>\n",
       "    <tr>\n",
       "      <th>612</th>\n",
       "      <td>LP002101</td>\n",
       "      <td>Male</td>\n",
       "      <td>Yes</td>\n",
       "      <td>0</td>\n",
       "      <td>Graduate</td>\n",
       "      <td>NaN</td>\n",
       "      <td>63337</td>\n",
       "      <td>0.0</td>\n",
       "      <td>490.0</td>\n",
       "      <td>180.0</td>\n",
       "      <td>1.0</td>\n",
       "      <td>Urban</td>\n",
       "      <td>Y</td>\n",
       "    </tr>\n",
       "    <tr>\n",
       "      <th>613</th>\n",
       "      <td>LP002317</td>\n",
       "      <td>Male</td>\n",
       "      <td>Yes</td>\n",
       "      <td>3+</td>\n",
       "      <td>Graduate</td>\n",
       "      <td>No</td>\n",
       "      <td>81000</td>\n",
       "      <td>0.0</td>\n",
       "      <td>360.0</td>\n",
       "      <td>360.0</td>\n",
       "      <td>0.0</td>\n",
       "      <td>Rural</td>\n",
       "      <td>N</td>\n",
       "    </tr>\n",
       "  </tbody>\n",
       "</table>\n",
       "<p>614 rows × 13 columns</p>\n",
       "</div>"
      ],
      "text/plain": [
       "      Loan_ID  Gender Married Dependents     Education Self_Employed  \\\n",
       "0    LP001722    Male     Yes          0      Graduate            No   \n",
       "1    LP002502  Female     Yes          2  Not Graduate           NaN   \n",
       "2    LP002949  Female      No         3+      Graduate           NaN   \n",
       "3    LP002603  Female      No          0      Graduate            No   \n",
       "4    LP001644     NaN     Yes          0      Graduate           Yes   \n",
       "..        ...     ...     ...        ...           ...           ...   \n",
       "609  LP001640    Male     Yes          0      Graduate           Yes   \n",
       "610  LP001536    Male     Yes         3+      Graduate            No   \n",
       "611  LP001585     NaN     Yes         3+      Graduate            No   \n",
       "612  LP002101    Male     Yes          0      Graduate           NaN   \n",
       "613  LP002317    Male     Yes         3+      Graduate            No   \n",
       "\n",
       "     ApplicantIncome  CoapplicantIncome  LoanAmount  Loan_Amount_Term  \\\n",
       "0                150             1800.0       135.0             360.0   \n",
       "1                210             2917.0        98.0             360.0   \n",
       "2                416            41667.0       350.0             180.0   \n",
       "3                645             3683.0       113.0             480.0   \n",
       "4                674             5296.0       168.0             360.0   \n",
       "..               ...                ...         ...               ...   \n",
       "609            39147             4750.0       120.0             360.0   \n",
       "610            39999                0.0       600.0             180.0   \n",
       "611            51763                0.0       700.0             300.0   \n",
       "612            63337                0.0       490.0             180.0   \n",
       "613            81000                0.0       360.0             360.0   \n",
       "\n",
       "     Credit_History Property_Area Loan_Status  \n",
       "0               1.0         Rural           N  \n",
       "1               1.0     Semiurban           Y  \n",
       "2               NaN         Urban           N  \n",
       "3               1.0         Rural           Y  \n",
       "4               1.0         Rural           Y  \n",
       "..              ...           ...         ...  \n",
       "609             1.0     Semiurban           Y  \n",
       "610             0.0     Semiurban           Y  \n",
       "611             1.0         Urban           Y  \n",
       "612             1.0         Urban           Y  \n",
       "613             0.0         Rural           N  \n",
       "\n",
       "[614 rows x 13 columns]"
      ]
     },
     "execution_count": 25,
     "metadata": {},
     "output_type": "execute_result"
    }
   ],
   "source": [
    "df = pd.read_csv(r\"C:\\Users\\DELL E5490\\OneDrive\\Desktop\\data\\loandata.csv\")\n",
    "df"
   ]
  },
  {
   "cell_type": "code",
   "execution_count": 26,
   "id": "4001e754",
   "metadata": {},
   "outputs": [
    {
     "data": {
      "text/plain": [
       "Male      489\n",
       "Female    112\n",
       "Name: Gender, dtype: int64"
      ]
     },
     "execution_count": 26,
     "metadata": {},
     "output_type": "execute_result"
    }
   ],
   "source": [
    "df[\"Gender\"].value_counts()\n",
    "\n",
    "# 614 rows \n",
    "\n",
    "\n",
    "# male - 489\n",
    "# Female - 112"
   ]
  },
  {
   "cell_type": "code",
   "execution_count": 28,
   "id": "4cc8d47b",
   "metadata": {},
   "outputs": [
    {
     "data": {
      "text/plain": [
       "Yes    398\n",
       "No     213\n",
       "Name: Married, dtype: int64"
      ]
     },
     "execution_count": 28,
     "metadata": {},
     "output_type": "execute_result"
    }
   ],
   "source": [
    "df[\"Married\"].value_counts()\n",
    "\n",
    "# Married - 398\n",
    "# Unmarried - 213"
   ]
  },
  {
   "cell_type": "code",
   "execution_count": 30,
   "id": "56aced52",
   "metadata": {},
   "outputs": [
    {
     "data": {
      "text/plain": [
       "Graduate        480\n",
       "Not Graduate    134\n",
       "Name: Education, dtype: int64"
      ]
     },
     "execution_count": 30,
     "metadata": {},
     "output_type": "execute_result"
    }
   ],
   "source": [
    "df[\"Education\"].value_counts()\n",
    "\n",
    "# Graduated - 480\n",
    "# Not Graduated - 134"
   ]
  },
  {
   "cell_type": "code",
   "execution_count": 33,
   "id": "3c2f6e19",
   "metadata": {},
   "outputs": [
    {
     "data": {
      "text/plain": [
       "No     500\n",
       "Yes     82\n",
       "Name: Self_Employed, dtype: int64"
      ]
     },
     "execution_count": 33,
     "metadata": {},
     "output_type": "execute_result"
    }
   ],
   "source": [
    "df[\"Self_Employed\"].value_counts()\n",
    "\n",
    "# Not Self employed = 500\n",
    "# Self employed = 82"
   ]
  },
  {
   "cell_type": "code",
   "execution_count": 34,
   "id": "170afd6d",
   "metadata": {},
   "outputs": [
    {
     "data": {
      "text/plain": [
       "Semiurban    233\n",
       "Urban        202\n",
       "Rural        179\n",
       "Name: Property_Area, dtype: int64"
      ]
     },
     "execution_count": 34,
     "metadata": {},
     "output_type": "execute_result"
    }
   ],
   "source": [
    "df[\"Property_Area\"].value_counts()"
   ]
  },
  {
   "cell_type": "code",
   "execution_count": 37,
   "id": "e4c1dc50",
   "metadata": {},
   "outputs": [
    {
     "data": {
      "text/plain": [
       "0        150\n",
       "1        210\n",
       "2        416\n",
       "3        645\n",
       "4        674\n",
       "       ...  \n",
       "609    39147\n",
       "610    39999\n",
       "611    51763\n",
       "612    63337\n",
       "613    81000\n",
       "Name: ApplicantIncome, Length: 614, dtype: int64"
      ]
     },
     "execution_count": 37,
     "metadata": {},
     "output_type": "execute_result"
    }
   ],
   "source": [
    "df[\"ApplicantIncome\"]\n",
    "\n",
    "# Numerical Column\n",
    "# Mean\n",
    "# min\n",
    "# max\n",
    "# median"
   ]
  },
  {
   "cell_type": "code",
   "execution_count": 39,
   "id": "62bfb3cd",
   "metadata": {},
   "outputs": [
    {
     "name": "stdout",
     "output_type": "stream",
     "text": [
      "81000\n"
     ]
    }
   ],
   "source": [
    "# maximum salary\n",
    "print(df.ApplicantIncome.max())"
   ]
  },
  {
   "cell_type": "code",
   "execution_count": 40,
   "id": "e5b5b91e",
   "metadata": {},
   "outputs": [
    {
     "name": "stdout",
     "output_type": "stream",
     "text": [
      "150\n"
     ]
    }
   ],
   "source": [
    "# minimum salary\n",
    "print(df.ApplicantIncome.min())"
   ]
  },
  {
   "cell_type": "code",
   "execution_count": 46,
   "id": "cfcfae1f",
   "metadata": {},
   "outputs": [
    {
     "name": "stdout",
     "output_type": "stream",
     "text": [
      "5403.459283387622\n"
     ]
    }
   ],
   "source": [
    "# mean salary\n",
    "print(df.ApplicantIncome.mean())"
   ]
  },
  {
   "cell_type": "code",
   "execution_count": 41,
   "id": "8fbe57fd",
   "metadata": {},
   "outputs": [
    {
     "name": "stdout",
     "output_type": "stream",
     "text": [
      "3812.5\n"
     ]
    }
   ],
   "source": [
    "# median salary\n",
    "print(df.ApplicantIncome.median())"
   ]
  },
  {
   "cell_type": "code",
   "execution_count": 45,
   "id": "a84537dc",
   "metadata": {},
   "outputs": [
    {
     "name": "stdout",
     "output_type": "stream",
     "text": [
      "count      614.000000\n",
      "mean      5403.459283\n",
      "std       6109.041673\n",
      "min        150.000000\n",
      "25%       2877.500000\n",
      "50%       3812.500000\n",
      "75%       5795.000000\n",
      "max      81000.000000\n",
      "Name: ApplicantIncome, dtype: float64\n"
     ]
    }
   ],
   "source": [
    "print(df.ApplicantIncome.describe())"
   ]
  },
  {
   "cell_type": "code",
   "execution_count": 47,
   "id": "aafbb7b9",
   "metadata": {},
   "outputs": [
    {
     "data": {
      "text/plain": [
       "<Axes: ylabel='Density'>"
      ]
     },
     "execution_count": 47,
     "metadata": {},
     "output_type": "execute_result"
    },
    {
     "data": {
      "image/png": "[encoded data removed]",
      "text/plain": [
       "<Figure size 640x480 with 1 Axes>"
      ]
     },
     "metadata": {},
     "output_type": "display_data"
    }
   ],
   "source": [
    "df.ApplicantIncome.plot(kind=\"density\")"
   ]
  },
  {
   "cell_type": "code",
   "execution_count": 50,
   "id": "a4218eea",
   "metadata": {},
   "outputs": [
    {
     "data": {
      "text/plain": [
       "<Axes: >"
      ]
     },
     "execution_count": 50,
     "metadata": {},
     "output_type": "execute_result"
    },
    {
     "data": {
      "image/png": "[encoded data removed]",
      "text/plain": [
       "<Figure size 640x480 with 1 Axes>"
      ]
     },
     "metadata": {},
     "output_type": "display_data"
    }
   ],
   "source": [
    "df.ApplicantIncome.plot(kind=\"box\",vert=False)"
   ]
  },
  {
   "cell_type": "code",
   "execution_count": 51,
   "id": "6b9e45db",
   "metadata": {},
   "outputs": [
    {
     "data": {
      "text/plain": [
       "0     345\n",
       "1     102\n",
       "2     101\n",
       "3+     51\n",
       "Name: Dependents, dtype: int64"
      ]
     },
     "execution_count": 51,
     "metadata": {},
     "output_type": "execute_result"
    }
   ],
   "source": [
    "df.Dependents.value_counts()"
   ]
  },
  {
   "cell_type": "code",
   "execution_count": 54,
   "id": "b818e707",
   "metadata": {},
   "outputs": [
    {
     "data": {
      "text/plain": [
       "count     599\n",
       "unique      4\n",
       "top         0\n",
       "freq      345\n",
       "Name: Dependents, dtype: object"
      ]
     },
     "execution_count": 54,
     "metadata": {},
     "output_type": "execute_result"
    }
   ],
   "source": [
    "df.Dependents.describe()"
   ]
  },
  {
   "cell_type": "code",
   "execution_count": 55,
   "id": "e9d22f29",
   "metadata": {},
   "outputs": [
    {
     "data": {
      "text/plain": [
       "count      614.000000\n",
       "mean      5403.459283\n",
       "std       6109.041673\n",
       "min        150.000000\n",
       "25%       2877.500000\n",
       "50%       3812.500000\n",
       "75%       5795.000000\n",
       "max      81000.000000\n",
       "Name: ApplicantIncome, dtype: float64"
      ]
     },
     "execution_count": 55,
     "metadata": {},
     "output_type": "execute_result"
    }
   ],
   "source": [
    "df.ApplicantIncome.describe()"
   ]
  },
  {
   "cell_type": "code",
   "execution_count": 56,
   "id": "9bd1802f",
   "metadata": {},
   "outputs": [
    {
     "name": "stdout",
     "output_type": "stream",
     "text": [
      "5\n"
     ]
    }
   ],
   "source": [
    "A = 2\n",
    "B = 3\n",
    "\n",
    "C = A+B\n",
    "print(C)"
   ]
  },
  {
   "cell_type": "code",
   "execution_count": 57,
   "id": "96173122",
   "metadata": {},
   "outputs": [],
   "source": [
    "# multiple values\n",
    "\n",
    "# Data Structures - List,Tuple,Dict,Set\n",
    "\n",
    "marks = 30,40,35"
   ]
  },
  {
   "cell_type": "code",
   "execution_count": 60,
   "id": "6811102d",
   "metadata": {},
   "outputs": [
    {
     "name": "stdout",
     "output_type": "stream",
     "text": [
      "<class 'tuple'>\n",
      "(30, 40, 35)\n"
     ]
    }
   ],
   "source": [
    "print(type(marks))\n",
    "print(marks)"
   ]
  },
  {
   "cell_type": "code",
   "execution_count": 61,
   "id": "d81a648e",
   "metadata": {},
   "outputs": [
    {
     "name": "stdout",
     "output_type": "stream",
     "text": [
      "120\n"
     ]
    }
   ],
   "source": [
    "# List - []\n",
    "# Tuple - ()\n",
    "# Dictionary -{key:values}\n",
    "# Set - {}\n",
    "\n",
    "\n",
    "\n",
    "marks_A =30\n",
    "marks_B = 40\n",
    "marks_C = 50\n",
    "\n",
    "Total = marks_A + marks_B + marks_C\n",
    "print(Total)"
   ]
  },
  {
   "cell_type": "code",
   "execution_count": 71,
   "id": "a6a2858e",
   "metadata": {},
   "outputs": [
    {
     "name": "stdout",
     "output_type": "stream",
     "text": [
      "40.0\n"
     ]
    }
   ],
   "source": [
    "percentange = (Total/300) * 100\n",
    "print(percentange)"
   ]
  },
  {
   "cell_type": "code",
   "execution_count": 68,
   "id": "a4f62fef",
   "metadata": {},
   "outputs": [
    {
     "name": "stdout",
     "output_type": "stream",
     "text": [
      "120\n",
      "3\n",
      "40.0\n"
     ]
    }
   ],
   "source": [
    "A = [30,40,50]\n",
    "\n",
    "print(sum(A))\n",
    "\n",
    "P = (sum(A)/300) * 100\n",
    "print(P)"
   ]
  },
  {
   "cell_type": "code",
   "execution_count": 70,
   "id": "5b9ef6df",
   "metadata": {},
   "outputs": [
    {
     "name": "stdout",
     "output_type": "stream",
     "text": [
      "40.0\n"
     ]
    }
   ],
   "source": [
    "avg = sum(A)/len(A)\n",
    "print(avg)"
   ]
  },
  {
   "cell_type": "code",
   "execution_count": null,
   "id": "78d207ca",
   "metadata": {},
   "outputs": [],
   "source": [
    "# List - []\n",
    "# Tuple - ()\n",
    "# Dictionary -{key:values}\n",
    "# Set - {}\n",
    "\n",
    "\n",
    "# To do analysis on multiple values we have to store them in a dat astructure\n",
    "\n",
    "# Since we have 4 different Data structures each data structure will be having different properties"
   ]
  },
  {
   "cell_type": "code",
   "execution_count": 90,
   "id": "1ffd26fe",
   "metadata": {},
   "outputs": [],
   "source": [
    "g = [True,\"b\",3,4.8]"
   ]
  },
  {
   "cell_type": "code",
   "execution_count": 91,
   "id": "b25356d3",
   "metadata": {},
   "outputs": [],
   "source": [
    "#  ordered or not , mutable or not, allows diff datatypes or not, allows duplicates or not"
   ]
  },
  {
   "cell_type": "code",
   "execution_count": 92,
   "id": "7b2ba87b",
   "metadata": {},
   "outputs": [
    {
     "name": "stdout",
     "output_type": "stream",
     "text": [
      "[True, 'b', 3, 4.8]\n"
     ]
    }
   ],
   "source": [
    "print(g)"
   ]
  },
  {
   "cell_type": "code",
   "execution_count": 93,
   "id": "6c2f3974",
   "metadata": {},
   "outputs": [
    {
     "name": "stdout",
     "output_type": "stream",
     "text": [
      "True\n",
      "b\n",
      "3\n",
      "4.8\n"
     ]
    }
   ],
   "source": [
    "# ordered or not - we have to see if we can access the datastructer by using indexing\n",
    "\n",
    "\n",
    "print(g[0])\n",
    "print(g[1])\n",
    "print(g[2])\n",
    "print(g[3])"
   ]
  },
  {
   "cell_type": "code",
   "execution_count": 100,
   "id": "8bcfb8e5",
   "metadata": {},
   "outputs": [],
   "source": [
    "# Lists are ordered\n",
    "# lists are mutable\n",
    "# They allows different Datatpyes\n",
    "# allows duplicates \n",
    "\n",
    "# mutable or not - we have to see if we can access the datastructer by using indexing and updating\n",
    "# the value"
   ]
  },
  {
   "cell_type": "code",
   "execution_count": 88,
   "id": "2e3c0d65",
   "metadata": {},
   "outputs": [],
   "source": [
    "g[0] = \"charan innomatics\""
   ]
  },
  {
   "cell_type": "code",
   "execution_count": 89,
   "id": "0624bd7d",
   "metadata": {},
   "outputs": [
    {
     "name": "stdout",
     "output_type": "stream",
     "text": [
      "['charan innomatics', 'b', 3, 'd']\n"
     ]
    }
   ],
   "source": [
    "print(g)"
   ]
  },
  {
   "cell_type": "code",
   "execution_count": 95,
   "id": "66eb9aab",
   "metadata": {},
   "outputs": [
    {
     "name": "stdout",
     "output_type": "stream",
     "text": [
      "<class 'bool'>\n",
      "<class 'str'>\n",
      "<class 'int'>\n",
      "<class 'float'>\n"
     ]
    }
   ],
   "source": [
    "# allows different datatypes or not\n",
    "\n",
    "# access each value and print its type\n",
    "\n",
    "print(type(g[0]))\n",
    "print(type(g[1]))\n",
    "print(type(g[2]))\n",
    "print(type(g[3]))"
   ]
  },
  {
   "cell_type": "code",
   "execution_count": 97,
   "id": "93280a40",
   "metadata": {},
   "outputs": [
    {
     "data": {
      "text/plain": [
       "[True, 'b', 3, 4.8]"
      ]
     },
     "execution_count": 97,
     "metadata": {},
     "output_type": "execute_result"
    }
   ],
   "source": [
    "g[0:4]"
   ]
  },
  {
   "cell_type": "code",
   "execution_count": 98,
   "id": "a893636b",
   "metadata": {},
   "outputs": [],
   "source": [
    "g = [4,4,4,4,4,5,5,5,5,1,2,3,4]"
   ]
  },
  {
   "cell_type": "code",
   "execution_count": 99,
   "id": "7520f065",
   "metadata": {},
   "outputs": [
    {
     "name": "stdout",
     "output_type": "stream",
     "text": [
      "[4, 4, 4, 4, 4, 5, 5, 5, 5, 1, 2, 3, 4]\n"
     ]
    }
   ],
   "source": [
    "print(g)"
   ]
  },
  {
   "cell_type": "code",
   "execution_count": 102,
   "id": "51ca9d91",
   "metadata": {},
   "outputs": [
    {
     "name": "stdout",
     "output_type": "stream",
     "text": [
      "{1, 2, 3, 4, 5}\n"
     ]
    }
   ],
   "source": [
    "h = {1,1,2,3,4,4,5}\n",
    "print(h)"
   ]
  },
  {
   "cell_type": "code",
   "execution_count": 105,
   "id": "843a7e4c",
   "metadata": {},
   "outputs": [
    {
     "data": {
      "text/plain": [
       "{' ', 'a', 'c', 'h', 'i', 'k', 'n', 'r', 's'}"
      ]
     },
     "execution_count": 105,
     "metadata": {},
     "output_type": "execute_result"
    }
   ],
   "source": [
    "set(\" karri sai charan\")"
   ]
  },
  {
   "cell_type": "code",
   "execution_count": null,
   "id": "e46fd5b6",
   "metadata": {},
   "outputs": [],
   "source": []
  }
 ],
 "metadata": {
  "kernelspec": {
   "display_name": "Python 3 (ipykernel)",
   "language": "python",
   "name": "python3"
  },
  "language_info": {
   "codemirror_mode": {
    "name": "ipython",
    "version": 3
   },
   "file_extension": ".py",
   "mimetype": "text/x-python",
   "name": "python",
   "nbconvert_exporter": "python",
   "pygments_lexer": "ipython3",
   "version": "3.11.8"
  }
 },
 "nbformat": 4,
 "nbformat_minor": 5
}
