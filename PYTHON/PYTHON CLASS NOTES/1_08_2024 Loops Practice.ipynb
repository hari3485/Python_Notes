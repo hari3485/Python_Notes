{
 "cells": [
  {
   "cell_type": "code",
   "execution_count": null,
   "id": "c5ea04f4",
   "metadata": {},
   "outputs": [],
   "source": [
    "# Print First 10 natural numbers using while loop\n",
    "# Calculate the sum of all numbers from 1 to a given number\n",
    "# Write a program to print multiplication table of a given number\n",
    "# Display numbers from a list using loop \n",
    "# Find the factorial of a given number\n",
    "# Use a loop to display elements from a given list present at odd index positions\n",
    "# Calculate the squares and cubes of a given range\n",
    "# Largest number in a list using for loop\n",
    "# Average of the numbers in a list by using for loop\n",
    "# Take a string and count vowels inside it\n",
    "# prime numbers between 1,30\n",
    "# define two lists and copy same elements into another list"
   ]
  },
  {
   "cell_type": "code",
   "execution_count": null,
   "id": "784ad87b",
   "metadata": {},
   "outputs": [],
   "source": [
    "# Print First 10 natural numbers using while loop\n",
    "\n",
    "counter = 0\n",
    "print(\"Multiplication Table for 7\")\n",
    "while counter < 11:\n",
    "    print(f\"7 X {counter} = {7*counter}\")\n",
    "    counter += 1\n",
    "    \n",
    "# Write 7 table\n",
    "# 7 x 1 = 7\n",
    "# 7 x 2 = 14"
   ]
  },
  {
   "cell_type": "code",
   "execution_count": null,
   "id": "fcf39694",
   "metadata": {},
   "outputs": [],
   "source": [
    "print(\"Multiplication table of 7 is: \")\n",
    "for every_datapoint in range(1,11):\n",
    "    print(f\"7 X {every_datapoint} = {7*every_datapoint}\")"
   ]
  },
  {
   "cell_type": "code",
   "execution_count": 9,
   "id": "8a4ef6d8",
   "metadata": {},
   "outputs": [
    {
     "name": "stdout",
     "output_type": "stream",
     "text": [
      "55 the value of the result\n"
     ]
    }
   ],
   "source": [
    "# Calculate the sum of all numbers from 1 to a given number\n",
    "\n",
    "# 1+2+3+4+....+10 = 55\n",
    "\n",
    "result = 0\n",
    "for i in range(1,11):\n",
    "    result = result + i\n",
    "print(result,\"the value of the result\")"
   ]
  },
  {
   "cell_type": "code",
   "execution_count": 12,
   "id": "0ae51ce2",
   "metadata": {},
   "outputs": [
    {
     "name": "stdout",
     "output_type": "stream",
     "text": [
      "\n",
      "1 this is updated value after every iteration\n",
      "\n",
      "2 this is updated value after every iteration\n",
      "\n",
      "6 this is updated value after every iteration\n",
      "\n",
      "24 this is updated value after every iteration\n",
      "\n",
      "120 this is updated value after every iteration\n",
      "\n",
      "720 this is updated value after every iteration\n",
      "\n",
      "5040 this is updated value after every iteration\n",
      "\n",
      "40320 this is updated value after every iteration\n",
      "\n",
      "362880 this is updated value after every iteration\n",
      "\n",
      "3628800 this is updated value after every iteration\n",
      "3628800 the value of the result\n"
     ]
    }
   ],
   "source": [
    "# Calculate the product of all numbers from 1 to a given number\n",
    "\n",
    "# Factorial of a number:\n",
    "# 5*4*3*2*1\n",
    "result = 1\n",
    "for i in range(1,11):\n",
    "    result = result * i\n",
    "    print()\n",
    "    print(result,\"this is updated value after every iteration\")\n",
    "print(result,\"the value of the result\")"
   ]
  },
  {
   "cell_type": "code",
   "execution_count": 15,
   "id": "dd133326",
   "metadata": {},
   "outputs": [
    {
     "name": "stdout",
     "output_type": "stream",
     "text": [
      "120\n"
     ]
    }
   ],
   "source": [
    "# 5*4*3*2*1\n",
    "\n",
    "# syntax for in range(start,end,step)\n",
    "\n",
    "R = 1\n",
    "for i in range(5,0,-1):\n",
    "    R = R * i\n",
    "\n",
    "print(R)"
   ]
  },
  {
   "cell_type": "code",
   "execution_count": 24,
   "id": "a8c2f7d2",
   "metadata": {},
   "outputs": [
    {
     "name": "stdout",
     "output_type": "stream",
     "text": [
      "Displaying elements from a given list: \n",
      "\n",
      "value at 1 index is: 2\n",
      "value at 3 index is: 4\n",
      "value at 5 index is: 6\n",
      "value at 7 index is: 8\n",
      "value at 9 index is: 10\n"
     ]
    }
   ],
   "source": [
    "# Use a loop to display elements from a given list present at \"odd index\" positions\n",
    "\n",
    "F = [1,2,3,4,5,6,7,8,9,10]\n",
    "\n",
    "#F[1],F[3]\n",
    "\n",
    "print(\"Displaying elements from a given list: \")\n",
    "print()\n",
    "for i in range(0,len(F)):\n",
    "    if i%2!=0:\n",
    "        print(f\"value at {i} index is: {F[i]}\")"
   ]
  },
  {
   "cell_type": "code",
   "execution_count": 30,
   "id": "6fa53410",
   "metadata": {},
   "outputs": [
    {
     "name": "stdout",
     "output_type": "stream",
     "text": [
      "squares and cubes of 1 are (1, 1)\n",
      "squares and cubes of 2 are (4, 8)\n",
      "squares and cubes of 3 are (9, 27)\n",
      "squares and cubes of 4 are (16, 64)\n"
     ]
    }
   ],
   "source": [
    "# Calculate the squares and cubes of a given range\n",
    "\n",
    "cube = 0\n",
    "square = 0\n",
    "\n",
    "for i in range(1,5):\n",
    "    square = i**2\n",
    "    cube = i**3\n",
    "    print(f\"squares and cubes of {i} are {square,cube}\")"
   ]
  },
  {
   "cell_type": "code",
   "execution_count": 31,
   "id": "ec26dd7c",
   "metadata": {},
   "outputs": [
    {
     "name": "stdout",
     "output_type": "stream",
     "text": [
      "[1, 4, 9, 16]\n",
      "\n",
      "[1, 8, 27, 64]\n"
     ]
    }
   ],
   "source": [
    "# Calculate the squares and cubes of a given range\n",
    "\n",
    "cube = []\n",
    "square = []\n",
    "\n",
    "for i in range(1,5):\n",
    "    square.append(i**2)\n",
    "    cube.append(i**3)\n",
    "\n",
    "print(square)\n",
    "print()\n",
    "print(cube)\n",
    "\n",
    "#sum of squares and sum of cubes for a given range "
   ]
  },
  {
   "cell_type": "code",
   "execution_count": 32,
   "id": "a2170139",
   "metadata": {},
   "outputs": [
    {
     "name": "stdout",
     "output_type": "stream",
     "text": [
      "sum of squares and cubes are (30, 100)\n"
     ]
    }
   ],
   "source": [
    "cube = 0\n",
    "square = 0\n",
    "\n",
    "for i in range(1,5):\n",
    "    square = square + i**2\n",
    "    cube = cube + i**3\n",
    "    \n",
    "print(f\"sum of squares and cubes are {square,cube}\")"
   ]
  },
  {
   "cell_type": "code",
   "execution_count": 51,
   "id": "198c372c",
   "metadata": {},
   "outputs": [
    {
     "name": "stdout",
     "output_type": "stream",
     "text": [
      "63 updation after every iteration\n",
      "78 updation after every iteration\n",
      "993 updation after every iteration\n",
      "993\n"
     ]
    }
   ],
   "source": [
    "# Largest number in a list using for loop\n",
    "\n",
    "K = [35,63,78,25,993,200,100]\n",
    "\n",
    "# Reference element\n",
    "# compare the reference element with all the elements\n",
    "# see which element is greater \n",
    "# print the element \n",
    "\n",
    "reference = K[0] #35\n",
    "\n",
    "for i in K:\n",
    "    if reference < i: #35 F, 63 F,78 F,25 T\n",
    "        reference = i \n",
    "        print(reference,\"updation after every iteration\")\n",
    "print(reference)"
   ]
  },
  {
   "cell_type": "code",
   "execution_count": 42,
   "id": "b151a410",
   "metadata": {},
   "outputs": [
    {
     "data": {
      "text/plain": [
       "False"
      ]
     },
     "execution_count": 42,
     "metadata": {},
     "output_type": "execute_result"
    }
   ],
   "source": [
    "35>63"
   ]
  },
  {
   "cell_type": "code",
   "execution_count": 37,
   "id": "0684e7bd",
   "metadata": {},
   "outputs": [
    {
     "name": "stdout",
     "output_type": "stream",
     "text": [
      "True\n",
      "False\n",
      "True\n"
     ]
    }
   ],
   "source": [
    "print(b>a)\n",
    "print(b>c)\n",
    "print(b>d)"
   ]
  },
  {
   "cell_type": "code",
   "execution_count": 38,
   "id": "e55de4ea",
   "metadata": {},
   "outputs": [
    {
     "name": "stdout",
     "output_type": "stream",
     "text": [
      "True\n",
      "True\n",
      "True\n"
     ]
    }
   ],
   "source": [
    "print(c>a)\n",
    "print(c>b)\n",
    "print(c>d)"
   ]
  },
  {
   "cell_type": "code",
   "execution_count": 39,
   "id": "ffcd97cd",
   "metadata": {},
   "outputs": [
    {
     "name": "stdout",
     "output_type": "stream",
     "text": [
      "False\n",
      "False\n",
      "False\n"
     ]
    }
   ],
   "source": [
    "print(d>a)\n",
    "print(d>b)\n",
    "print(d>c)"
   ]
  },
  {
   "cell_type": "code",
   "execution_count": 54,
   "id": "736908df",
   "metadata": {},
   "outputs": [
    {
     "name": "stdout",
     "output_type": "stream",
     "text": [
      "213.42857142857142\n"
     ]
    }
   ],
   "source": [
    "# Average of the numbers in a list by using for loop\n",
    "\n",
    "total_sum = 0 # youll try to increment this by every element in the list\n",
    "numb = 0 # youll increment the iteration value \n",
    "\n",
    "for i in K:\n",
    "    total_sum = total_sum + i\n",
    "    numb = numb+1\n",
    "    \n",
    "avg = total_sum/numb\n",
    "print(avg)"
   ]
  },
  {
   "cell_type": "code",
   "execution_count": 59,
   "id": "095efa27",
   "metadata": {},
   "outputs": [
    {
     "name": "stdout",
     "output_type": "stream",
     "text": [
      "5\n"
     ]
    }
   ],
   "source": [
    "# Take a string and count vowels inside it\n",
    "\n",
    "my_string = \"Hello world Im python\"\n",
    "\n",
    "# \"a\",\"e\",\"i\",\"o\",u\"\n",
    "\n",
    "counter = 0\n",
    "for i in my_string.lower():\n",
    "    if i ==\"a\" or i==\"e\" or i==\"i\" or i ==\"o\" or i==\"u\":\n",
    "        counter = counter + 1\n",
    "print(counter)"
   ]
  },
  {
   "cell_type": "code",
   "execution_count": 60,
   "id": "b0902347",
   "metadata": {},
   "outputs": [],
   "source": [
    "# shallow copy and deep copy\n",
    "\n",
    "# Data - collect the data into a ds (list,tuple,dict,set)\n",
    "# Access the data from here\n",
    "\n",
    "# Analysis - Main Data , Duplicate and then work on it \n",
    "\n",
    "F = [1,2,3,4]\n",
    "G = F.copy()"
   ]
  },
  {
   "cell_type": "code",
   "execution_count": 62,
   "id": "4782aac7",
   "metadata": {},
   "outputs": [
    {
     "name": "stdout",
     "output_type": "stream",
     "text": [
      "[1, 2, 3, 4]\n",
      "['charan', 2, 3, 4]\n"
     ]
    }
   ],
   "source": [
    "G[0] = \"charan\"\n",
    "print(F)\n",
    "print(G)"
   ]
  },
  {
   "cell_type": "code",
   "execution_count": 63,
   "id": "1ba35261",
   "metadata": {},
   "outputs": [],
   "source": [
    "F = [1,2,[1,2,3],5,6]\n",
    "G = F.copy()"
   ]
  },
  {
   "cell_type": "code",
   "execution_count": 65,
   "id": "22e82cd8",
   "metadata": {},
   "outputs": [],
   "source": [
    "G[2][1] = \"charan\""
   ]
  },
  {
   "cell_type": "code",
   "execution_count": 66,
   "id": "1bf645ea",
   "metadata": {},
   "outputs": [
    {
     "name": "stdout",
     "output_type": "stream",
     "text": [
      "[1, 2, [1, 'charan', 3], 5, 6]\n",
      "[1, 2, [1, 'charan', 3], 5, 6]\n"
     ]
    }
   ],
   "source": [
    "print(F)\n",
    "print(G)\n",
    "\n",
    "# Shallow copy"
   ]
  },
  {
   "cell_type": "code",
   "execution_count": 68,
   "id": "287223c7",
   "metadata": {},
   "outputs": [],
   "source": [
    "# deepcopy\n",
    "\n",
    "import copy\n",
    "F = [1,2,[1,2,3],5,6]\n",
    "G = copy.deepcopy(F)\n",
    "G[2][1] = \"charan\""
   ]
  },
  {
   "cell_type": "code",
   "execution_count": 69,
   "id": "5ddcf899",
   "metadata": {},
   "outputs": [
    {
     "name": "stdout",
     "output_type": "stream",
     "text": [
      "[1, 2, [1, 2, 3], 5, 6]\n",
      "[1, 2, [1, 'charan', 3], 5, 6]\n"
     ]
    }
   ],
   "source": [
    "print(F)\n",
    "print(G)"
   ]
  },
  {
   "cell_type": "code",
   "execution_count": null,
   "id": "f4e69fa5",
   "metadata": {},
   "outputs": [],
   "source": [
    "# shallow copy it tries to create a reference` \n",
    "# deepcopy it creates a new data point or ds "
   ]
  },
  {
   "cell_type": "code",
   "execution_count": null,
   "id": "9e931b13",
   "metadata": {},
   "outputs": [],
   "source": [
    "my_string = \"Hello world Im python\"\n",
    "\n",
    "# \"a\",\"e\",\"i\",\"o\",u\"\n",
    "\n",
    "counter = 0\n",
    "for i in my_string.lower():\n",
    "    if i ==\"a\" or i==\"e\" or i==\"i\" or i ==\"o\" or i==\"u\":\n",
    "        counter = counter + 1\n",
    "print(counter)"
   ]
  },
  {
   "cell_type": "code",
   "execution_count": 79,
   "id": "838d2f23",
   "metadata": {},
   "outputs": [],
   "source": [
    "def count_vowels(user_input):\n",
    "    counter = 0\n",
    "    for i in user_input.lower():\n",
    "        if i ==\"a\" or i==\"e\" or i==\"i\" or i ==\"o\" or i==\"u\":\n",
    "            counter = counter + 1\n",
    "    return counter"
   ]
  },
  {
   "cell_type": "code",
   "execution_count": 80,
   "id": "68e51296",
   "metadata": {},
   "outputs": [
    {
     "data": {
      "text/plain": [
       "8"
      ]
     },
     "execution_count": 80,
     "metadata": {},
     "output_type": "execute_result"
    }
   ],
   "source": [
    "count_vowels(\"charan is data scientist\")"
   ]
  },
  {
   "cell_type": "code",
   "execution_count": null,
   "id": "ae7d0963",
   "metadata": {},
   "outputs": [],
   "source": []
  }
 ],
 "metadata": {
  "kernelspec": {
   "display_name": "Python 3 (ipykernel)",
   "language": "python",
   "name": "python3"
  },
  "language_info": {
   "codemirror_mode": {
    "name": "ipython",
    "version": 3
   },
   "file_extension": ".py",
   "mimetype": "text/x-python",
   "name": "python",
   "nbconvert_exporter": "python",
   "pygments_lexer": "ipython3",
   "version": "3.11.8"
  }
 },
 "nbformat": 4,
 "nbformat_minor": 5
}
