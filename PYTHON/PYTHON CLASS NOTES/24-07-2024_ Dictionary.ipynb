{
 "cells": [
  {
   "cell_type": "code",
   "execution_count": null,
   "id": "9664f552",
   "metadata": {},
   "outputs": [],
   "source": [
    "# Create a list of five integers and print the list.\n",
    "\n",
    "# Append the number 10 to the end of an existing list.\n",
    "\n",
    "# Insert the number 5 at the second position in a list.\n",
    "\n",
    "# Remove the first occurrence of the number 3 from a list.\n",
    "\n",
    "# Pop the last element from a list and print the modified list.\n",
    "\n",
    "# Sort a list of numbers in ascending order.\n",
    "\n",
    "# Reverse the elements of a list.\n",
    "\n",
    "# Count the number of occurrences of the number 7 in a list.\n",
    "\n",
    "# Find the index of the first occurrence of the number 4 in a list.\n",
    "\n",
    "# Extend a list by appending elements from another list.\n",
    "\n",
    "# Clear all elements from a list.\n",
    "\n",
    "# Create a copy of a list.\n",
    "# Concatenate two lists and print the result.\n",
    "# Check if the number 8 is in a list.\n",
    "# Create a list of five strings and sort them in alphabetical order.\n",
    "# Use the len() function to find the length of a list.\n",
    "# Slice a list to get the first three elements.\n",
    "# Use a loop to iterate through a list and print each element.\n",
    "# Convert a string to a list of characters."
   ]
  },
  {
   "cell_type": "code",
   "execution_count": 50,
   "id": "a79120f8",
   "metadata": {},
   "outputs": [],
   "source": [
    "variable=\"Something\""
   ]
  },
  {
   "cell_type": "code",
   "execution_count": 52,
   "id": "94df7fc5",
   "metadata": {},
   "outputs": [
    {
     "name": "stdout",
     "output_type": "stream",
     "text": [
      "['S', 'o', 'm', 'e', 't', 'h', 'i', 'n', 'g']\n"
     ]
    }
   ],
   "source": [
    "# Case1:\n",
    "\n",
    "H = []\n",
    "for every_datapoint in variable:\n",
    "    H.append(every_datapoint)\n",
    "print(H)"
   ]
  },
  {
   "cell_type": "code",
   "execution_count": 54,
   "id": "9fffbb46",
   "metadata": {},
   "outputs": [
    {
     "name": "stdout",
     "output_type": "stream",
     "text": [
      "['S', 'o', 'm', 'e', 't', 'h', 'i', 'n', 'g']\n"
     ]
    }
   ],
   "source": [
    "# Case2:\n",
    "\n",
    "PP = list(\"Something\")\n",
    "print(PP)"
   ]
  },
  {
   "cell_type": "code",
   "execution_count": 55,
   "id": "54ba19ff",
   "metadata": {},
   "outputs": [
    {
     "name": "stdout",
     "output_type": "stream",
     "text": [
      "['S', 'o', 'm', 'e', 't', 'h', 'i', 'n', 'g']\n"
     ]
    }
   ],
   "source": [
    "# Case3\n",
    "\n",
    "E = []\n",
    "E.extend(\"Something\")\n",
    "print(E)"
   ]
  },
  {
   "cell_type": "code",
   "execution_count": 57,
   "id": "474f9e06",
   "metadata": {},
   "outputs": [
    {
     "data": {
      "text/plain": [
       "['charan']"
      ]
     },
     "execution_count": 57,
     "metadata": {},
     "output_type": "execute_result"
    }
   ],
   "source": [
    "\"charan\".split(\" \")"
   ]
  },
  {
   "cell_type": "code",
   "execution_count": 61,
   "id": "8769020b",
   "metadata": {},
   "outputs": [
    {
     "name": "stdout",
     "output_type": "stream",
     "text": [
      "['c', 'h', 'a', 'r', 'a', 'n', 'I', 'n', 'n', 'o', 'm', 'a', 't', 'i', 'c', 's', 'K', 'u', 'k', 'a', 't', 'p', 'a', 'l', 'l', 'y']\n"
     ]
    }
   ],
   "source": [
    "# Case1\n",
    "f = [\"charan\",\"Innomatics\",\"Kukatpally\"]\n",
    "\n",
    "li = []\n",
    "for i in range(len(f)):\n",
    "    li.extend(f[i])\n",
    "print(li)"
   ]
  },
  {
   "cell_type": "code",
   "execution_count": 67,
   "id": "d3aed0cf",
   "metadata": {},
   "outputs": [
    {
     "name": "stdout",
     "output_type": "stream",
     "text": [
      "['c', 'h', 'a', 'r', 'a', 'n', 'I', 'n', 'n', 'o', 'm', 'a', 't', 'i', 'c', 's', 'K', 'u', 'k', 'a', 't', 'p', 'a', 'l', 'l', 'y']\n"
     ]
    }
   ],
   "source": [
    "# Case2\n",
    "\n",
    "new_list = []\n",
    "for every_datapoint in f:\n",
    "    new_list.extend(list(every_datapoint))\n",
    "print(new_list)"
   ]
  },
  {
   "cell_type": "code",
   "execution_count": null,
   "id": "41dd1c5f",
   "metadata": {},
   "outputs": [],
   "source": [
    "# Slice a tuple to get the first two elements.\n",
    "# Find the length of a tuple.\n",
    "# Convert a list to a tuple.\n",
    "# Check if the number 5 is in a tuple.\n",
    "# Use a loop to iterate through a tuple and print each element.\n",
    "# Create a tuple of five strings and access the last element.\n",
    "# Create a nested tuple and access an element from the inner tuple..\n",
    "# Create an empty tuple and print it.\n",
    "# Check if a tuple is immutable by attempting to change an element."
   ]
  },
  {
   "cell_type": "code",
   "execution_count": 68,
   "id": "a673b27f",
   "metadata": {},
   "outputs": [],
   "source": [
    "# Use tuple unpacking to assign the elements of a tuple to individual variables.\n",
    "\n",
    "v1 = 1\n",
    "v2 = 2\n",
    "v3 = 3\n",
    "v4 = 4"
   ]
  },
  {
   "cell_type": "code",
   "execution_count": 69,
   "id": "5cfa0092",
   "metadata": {},
   "outputs": [],
   "source": [
    "# unpacking - \n",
    "\n",
    "F = [1,2,3,4]\n",
    "\n",
    "v1,v2,v3,v4 = F"
   ]
  },
  {
   "cell_type": "code",
   "execution_count": 70,
   "id": "beed225f",
   "metadata": {},
   "outputs": [
    {
     "name": "stdout",
     "output_type": "stream",
     "text": [
      "1\n",
      "2\n",
      "3\n",
      "4\n"
     ]
    }
   ],
   "source": [
    "print(v1)\n",
    "print(v2)\n",
    "print(v3)\n",
    "print(v4)"
   ]
  },
  {
   "cell_type": "code",
   "execution_count": 74,
   "id": "b999dce0",
   "metadata": {},
   "outputs": [],
   "source": [
    "F = [1,2,3,4]\n",
    "\n",
    "v1,v2,*v3 = F"
   ]
  },
  {
   "cell_type": "code",
   "execution_count": 75,
   "id": "0dc459de",
   "metadata": {},
   "outputs": [
    {
     "name": "stdout",
     "output_type": "stream",
     "text": [
      "1\n",
      "2\n",
      "[3, 4]\n"
     ]
    }
   ],
   "source": [
    "print(v1)\n",
    "print(v2)\n",
    "print(v3)"
   ]
  },
  {
   "cell_type": "code",
   "execution_count": 76,
   "id": "db1335a8",
   "metadata": {},
   "outputs": [],
   "source": [
    "# functions\n",
    "\n",
    "def add(x1,x2):\n",
    "    return x1+x2"
   ]
  },
  {
   "cell_type": "code",
   "execution_count": 78,
   "id": "8ddabd40",
   "metadata": {},
   "outputs": [
    {
     "data": {
      "text/plain": [
       "22233"
      ]
     },
     "execution_count": 78,
     "metadata": {},
     "output_type": "execute_result"
    }
   ],
   "source": [
    "add(11,22222)"
   ]
  },
  {
   "cell_type": "code",
   "execution_count": 81,
   "id": "71fde297",
   "metadata": {},
   "outputs": [],
   "source": [
    "def operations(x1,x2):\n",
    "    \n",
    "    add = x1+x2\n",
    "    sub = x1-x2\n",
    "    mul = x1*x2\n",
    "    div = x1/x2\n",
    "    \n",
    "    return add,sub,mul,div"
   ]
  },
  {
   "cell_type": "code",
   "execution_count": 83,
   "id": "4a3cdd76",
   "metadata": {},
   "outputs": [],
   "source": [
    "v1,v2,v3,v4 = operations(1,2)"
   ]
  },
  {
   "cell_type": "code",
   "execution_count": 84,
   "id": "188b46ed",
   "metadata": {},
   "outputs": [
    {
     "name": "stdout",
     "output_type": "stream",
     "text": [
      "3\n",
      "-1\n",
      "2\n",
      "0.5\n"
     ]
    }
   ],
   "source": [
    "print(v1)\n",
    "print(v2)\n",
    "print(v3)\n",
    "print(v4)"
   ]
  },
  {
   "cell_type": "code",
   "execution_count": 86,
   "id": "aa6f1615",
   "metadata": {},
   "outputs": [],
   "source": [
    "# Dictionary\n",
    "\n",
    "# Storing words\n",
    "# Searching words \n",
    "# Meanings\n",
    "\n",
    "\n",
    "# Dictionary - Word and its meaning\n",
    "# Key,Value pairs\n",
    "\n",
    "# Dict - {key_name:value}\n",
    "# you can access a dictionary by its key_name\n",
    "\n",
    "# variable_name[\"key_name\"]"
   ]
  },
  {
   "cell_type": "code",
   "execution_count": 87,
   "id": "68788c1b",
   "metadata": {},
   "outputs": [],
   "source": [
    "my_dictionary = {\"name\":\"charan\",\"age\":26,\"weight\":90}"
   ]
  },
  {
   "cell_type": "code",
   "execution_count": 89,
   "id": "a3dd8d74",
   "metadata": {},
   "outputs": [
    {
     "data": {
      "text/plain": [
       "'charan'"
      ]
     },
     "execution_count": 89,
     "metadata": {},
     "output_type": "execute_result"
    }
   ],
   "source": [
    "my_dictionary[\"name\"]"
   ]
  },
  {
   "cell_type": "code",
   "execution_count": 90,
   "id": "2daab98f",
   "metadata": {},
   "outputs": [
    {
     "data": {
      "text/plain": [
       "26"
      ]
     },
     "execution_count": 90,
     "metadata": {},
     "output_type": "execute_result"
    }
   ],
   "source": [
    "my_dictionary[\"age\"]"
   ]
  },
  {
   "cell_type": "code",
   "execution_count": 91,
   "id": "f27eae95",
   "metadata": {},
   "outputs": [
    {
     "data": {
      "text/plain": [
       "90"
      ]
     },
     "execution_count": 91,
     "metadata": {},
     "output_type": "execute_result"
    }
   ],
   "source": [
    "my_dictionary[\"weight\"]"
   ]
  },
  {
   "cell_type": "code",
   "execution_count": 92,
   "id": "a8fb9947",
   "metadata": {},
   "outputs": [
    {
     "data": {
      "text/plain": [
       "dict_keys(['name', 'age', 'weight'])"
      ]
     },
     "execution_count": 92,
     "metadata": {},
     "output_type": "execute_result"
    }
   ],
   "source": [
    "my_dictionary.keys()"
   ]
  },
  {
   "cell_type": "code",
   "execution_count": 93,
   "id": "91daa0bc",
   "metadata": {},
   "outputs": [
    {
     "data": {
      "text/plain": [
       "dict_values(['charan', 26, 90])"
      ]
     },
     "execution_count": 93,
     "metadata": {},
     "output_type": "execute_result"
    }
   ],
   "source": [
    "my_dictionary.values()"
   ]
  },
  {
   "cell_type": "code",
   "execution_count": 143,
   "id": "c5a7d4d3",
   "metadata": {},
   "outputs": [],
   "source": [
    "my_dictionary_1 = {\"Maths\":45,\"Science\":55,\"Social\":20} # before correction"
   ]
  },
  {
   "cell_type": "code",
   "execution_count": 144,
   "id": "bb151d7f",
   "metadata": {},
   "outputs": [
    {
     "name": "stdout",
     "output_type": "stream",
     "text": [
      "{'Maths': 60, 'Science': 70, 'Social': 35}\n"
     ]
    }
   ],
   "source": [
    "for every_datapoint in my_dictionary_1.keys():\n",
    "    my_dictionary_1[every_datapoint] +=15\n",
    "    # a = 20\n",
    "    # a = a + 20\n",
    "    # a += 20\n",
    "print(my_dictionary_1)"
   ]
  },
  {
   "cell_type": "code",
   "execution_count": 150,
   "id": "5db68930",
   "metadata": {},
   "outputs": [
    {
     "data": {
      "text/plain": [
       "165"
      ]
     },
     "execution_count": 150,
     "metadata": {},
     "output_type": "execute_result"
    }
   ],
   "source": [
    "sum(my_dictionary_1.values())"
   ]
  },
  {
   "cell_type": "code",
   "execution_count": 149,
   "id": "6696cec9",
   "metadata": {},
   "outputs": [
    {
     "data": {
      "text/plain": [
       "dict_values([60, 70, 35])"
      ]
     },
     "execution_count": 149,
     "metadata": {},
     "output_type": "execute_result"
    }
   ],
   "source": [
    "my_dictionary_1.values()"
   ]
  },
  {
   "cell_type": "code",
   "execution_count": 151,
   "id": "738913ce",
   "metadata": {},
   "outputs": [
    {
     "data": {
      "text/plain": [
       "3"
      ]
     },
     "execution_count": 151,
     "metadata": {},
     "output_type": "execute_result"
    }
   ],
   "source": [
    "len(my_dictionary_1)"
   ]
  },
  {
   "cell_type": "code",
   "execution_count": 152,
   "id": "a6d05f5e",
   "metadata": {},
   "outputs": [],
   "source": [
    "avg = sum(my_dictionary_1.values())/len(my_dictionary_1)"
   ]
  },
  {
   "cell_type": "code",
   "execution_count": 153,
   "id": "f0f024bf",
   "metadata": {},
   "outputs": [
    {
     "name": "stdout",
     "output_type": "stream",
     "text": [
      "55.0\n"
     ]
    }
   ],
   "source": [
    "print(avg)"
   ]
  },
  {
   "cell_type": "code",
   "execution_count": 154,
   "id": "b215f0ce",
   "metadata": {},
   "outputs": [],
   "source": [
    "# syntax:\n",
    "\n",
    "#variable_name[\"newkey\"] = \"value\"\n",
    "\n",
    "my_dictionary_1[\"average\"] = avg"
   ]
  },
  {
   "cell_type": "code",
   "execution_count": 155,
   "id": "b97ebda6",
   "metadata": {},
   "outputs": [
    {
     "data": {
      "text/plain": [
       "{'Maths': 60, 'Science': 70, 'Social': 35, 'average': 55.0}"
      ]
     },
     "execution_count": 155,
     "metadata": {},
     "output_type": "execute_result"
    }
   ],
   "source": [
    "my_dictionary_1"
   ]
  },
  {
   "cell_type": "code",
   "execution_count": 156,
   "id": "61f507de",
   "metadata": {},
   "outputs": [],
   "source": [
    "# 3 rows 3 columns \n",
    "my_dictionary_1 = {\"Maths\":[45,40,30],\"Science\":[10,50,20],\"Social\":[45,40,30]} # before correction"
   ]
  },
  {
   "cell_type": "code",
   "execution_count": 2,
   "id": "f5bc626e",
   "metadata": {},
   "outputs": [
    {
     "name": "stdout",
     "output_type": "stream",
     "text": [
      "Help on class dict in module builtins:\n",
      "\n",
      "class dict(object)\n",
      " |  dict() -> new empty dictionary\n",
      " |  dict(mapping) -> new dictionary initialized from a mapping object's\n",
      " |      (key, value) pairs\n",
      " |  dict(iterable) -> new dictionary initialized as if via:\n",
      " |      d = {}\n",
      " |      for k, v in iterable:\n",
      " |          d[k] = v\n",
      " |  dict(**kwargs) -> new dictionary initialized with the name=value pairs\n",
      " |      in the keyword argument list.  For example:  dict(one=1, two=2)\n",
      " |  \n",
      " |  Built-in subclasses:\n",
      " |      StgDict\n",
      " |  \n",
      " |  Methods defined here:\n",
      " |  \n",
      " |  __contains__(self, key, /)\n",
      " |      True if the dictionary has the specified key, else False.\n",
      " |  \n",
      " |  __delitem__(self, key, /)\n",
      " |      Delete self[key].\n",
      " |  \n",
      " |  __eq__(self, value, /)\n",
      " |      Return self==value.\n",
      " |  \n",
      " |  __ge__(self, value, /)\n",
      " |      Return self>=value.\n",
      " |  \n",
      " |  __getattribute__(self, name, /)\n",
      " |      Return getattr(self, name).\n",
      " |  \n",
      " |  __getitem__(...)\n",
      " |      x.__getitem__(y) <==> x[y]\n",
      " |  \n",
      " |  __gt__(self, value, /)\n",
      " |      Return self>value.\n",
      " |  \n",
      " |  __init__(self, /, *args, **kwargs)\n",
      " |      Initialize self.  See help(type(self)) for accurate signature.\n",
      " |  \n",
      " |  __ior__(self, value, /)\n",
      " |      Return self|=value.\n",
      " |  \n",
      " |  __iter__(self, /)\n",
      " |      Implement iter(self).\n",
      " |  \n",
      " |  __le__(self, value, /)\n",
      " |      Return self<=value.\n",
      " |  \n",
      " |  __len__(self, /)\n",
      " |      Return len(self).\n",
      " |  \n",
      " |  __lt__(self, value, /)\n",
      " |      Return self<value.\n",
      " |  \n",
      " |  __ne__(self, value, /)\n",
      " |      Return self!=value.\n",
      " |  \n",
      " |  __or__(self, value, /)\n",
      " |      Return self|value.\n",
      " |  \n",
      " |  __repr__(self, /)\n",
      " |      Return repr(self).\n",
      " |  \n",
      " |  __reversed__(self, /)\n",
      " |      Return a reverse iterator over the dict keys.\n",
      " |  \n",
      " |  __ror__(self, value, /)\n",
      " |      Return value|self.\n",
      " |  \n",
      " |  __setitem__(self, key, value, /)\n",
      " |      Set self[key] to value.\n",
      " |  \n",
      " |  __sizeof__(...)\n",
      " |      D.__sizeof__() -> size of D in memory, in bytes\n",
      " |  \n",
      " |  clear(...)\n",
      " |      D.clear() -> None.  Remove all items from D.\n",
      " |  \n",
      " |  copy(...)\n",
      " |      D.copy() -> a shallow copy of D\n",
      " |  \n",
      " |  get(self, key, default=None, /)\n",
      " |      Return the value for key if key is in the dictionary, else default.\n",
      " |  \n",
      " |  items(...)\n",
      " |      D.items() -> a set-like object providing a view on D's items\n",
      " |  \n",
      " |  keys(...)\n",
      " |      D.keys() -> a set-like object providing a view on D's keys\n",
      " |  \n",
      " |  pop(...)\n",
      " |      D.pop(k[,d]) -> v, remove specified key and return the corresponding value.\n",
      " |      \n",
      " |      If the key is not found, return the default if given; otherwise,\n",
      " |      raise a KeyError.\n",
      " |  \n",
      " |  popitem(self, /)\n",
      " |      Remove and return a (key, value) pair as a 2-tuple.\n",
      " |      \n",
      " |      Pairs are returned in LIFO (last-in, first-out) order.\n",
      " |      Raises KeyError if the dict is empty.\n",
      " |  \n",
      " |  setdefault(self, key, default=None, /)\n",
      " |      Insert key with a value of default if key is not in the dictionary.\n",
      " |      \n",
      " |      Return the value for key if key is in the dictionary, else default.\n",
      " |  \n",
      " |  update(...)\n",
      " |      D.update([E, ]**F) -> None.  Update D from dict/iterable E and F.\n",
      " |      If E is present and has a .keys() method, then does:  for k in E: D[k] = E[k]\n",
      " |      If E is present and lacks a .keys() method, then does:  for k, v in E: D[k] = v\n",
      " |      In either case, this is followed by: for k in F:  D[k] = F[k]\n",
      " |  \n",
      " |  values(...)\n",
      " |      D.values() -> an object providing a view on D's values\n",
      " |  \n",
      " |  ----------------------------------------------------------------------\n",
      " |  Class methods defined here:\n",
      " |  \n",
      " |  __class_getitem__(...) from builtins.type\n",
      " |      See PEP 585\n",
      " |  \n",
      " |  fromkeys(iterable, value=None, /) from builtins.type\n",
      " |      Create a new dictionary with keys from iterable and values set to value.\n",
      " |  \n",
      " |  ----------------------------------------------------------------------\n",
      " |  Static methods defined here:\n",
      " |  \n",
      " |  __new__(*args, **kwargs) from builtins.type\n",
      " |      Create and return a new object.  See help(type) for accurate signature.\n",
      " |  \n",
      " |  ----------------------------------------------------------------------\n",
      " |  Data and other attributes defined here:\n",
      " |  \n",
      " |  __hash__ = None\n",
      "\n"
     ]
    },
    {
     "ename": "NameError",
     "evalue": "name 'pop' is not defined",
     "output_type": "error",
     "traceback": [
      "\u001b[1;31m---------------------------------------------------------------------------\u001b[0m",
      "\u001b[1;31mNameError\u001b[0m                                 Traceback (most recent call last)",
      "Cell \u001b[1;32mIn[2], line 1\u001b[0m\n\u001b[1;32m----> 1\u001b[0m help(\u001b[38;5;28mdict\u001b[39m)(pop)\n",
      "\u001b[1;31mNameError\u001b[0m: name 'pop' is not defined"
     ]
    }
   ],
   "source": [
    "help(dict)(pop)"
   ]
  }
 ],
 "metadata": {
  "kernelspec": {
   "display_name": "Python 3 (ipykernel)",
   "language": "python",
   "name": "python3"
  },
  "language_info": {
   "codemirror_mode": {
    "name": "ipython",
    "version": 3
   },
   "file_extension": ".py",
   "mimetype": "text/x-python",
   "name": "python",
   "nbconvert_exporter": "python",
   "pygments_lexer": "ipython3",
   "version": "3.11.5"
  }
 },
 "nbformat": 4,
 "nbformat_minor": 5
}
