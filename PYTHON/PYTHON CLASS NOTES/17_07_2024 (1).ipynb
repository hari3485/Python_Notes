{
 "cells": [
  {
   "cell_type": "code",
   "execution_count": 1,
   "id": "417614ae",
   "metadata": {},
   "outputs": [],
   "source": [
    "# Recap of what we have learnt so far\n",
    "\n",
    "# Communicate with your computer what it has to do \n",
    "\n",
    "# Why Anaconda - Text Editor, Ipython Kernel, Indentation\n",
    "\n",
    "# Jupyter - Cell based platform for writing the code \n",
    "\n",
    "# Celltypes - code - for writing the code , mark down for writing the notes\n",
    "\n",
    "# While writing the code please try to add a description (Logic)\n",
    "\n",
    "# Shortcut keys \n",
    "\n",
    "# add a cell (above and below) - Esc + A,Esc + B\n",
    "# convert a cell to code or markdown - Esc + M, Esc + Y\n",
    "\n",
    "# Markdown - Title (Fontsize) , Description, Bullet Points, **Bold** or *Italics*\n",
    "# Highlight - ~,~\n",
    "\n",
    "# Saving format is .ipynb file,.py (Command Line Interface)\n",
    "\n",
    "# Virtual Systems - (CLI)"
   ]
  },
  {
   "cell_type": "code",
   "execution_count": 2,
   "id": "849690a7",
   "metadata": {},
   "outputs": [],
   "source": [
    "# Data - Table \n",
    "\n",
    "# Table - Rows and Columns\n",
    "\n",
    "# Each Row is a data point \n",
    "\n",
    "# Every Data point has different attributes or features (columns)\n",
    "\n",
    "# Youll have to understand the data + find the pattern\n",
    "\n",
    "# In order to understand the data (Select the entire table and do Analysis)\n",
    "\n",
    "# Youll have to understand the data from a data point perspective \n",
    "\n",
    "# We can understand a datapoint by its data type \n",
    "\n",
    "# row 1 - chris - 38 \n",
    "\n",
    "# Python - Kowledge - type(datapoint)"
   ]
  },
  {
   "cell_type": "code",
   "execution_count": 6,
   "id": "e8d2091f",
   "metadata": {},
   "outputs": [
    {
     "name": "stdout",
     "output_type": "stream",
     "text": [
      "<class 'int'>\n",
      "<class 'float'>\n",
      "<class 'str'>\n",
      "<class 'bool'>\n"
     ]
    }
   ],
   "source": [
    "print(type(1))\n",
    "print(type(2.5))\n",
    "print(type(\"Charan\"))\n",
    "print(type(True))"
   ]
  },
  {
   "cell_type": "code",
   "execution_count": null,
   "id": "2eaa31f5",
   "metadata": {},
   "outputs": [],
   "source": [
    "#  X  Y Z\n",
    "#  1  2 A\n",
    "#  4  5 B\n",
    "#  6  8 C\n",
    "#  10 12 D \n",
    "\n",
    "\n",
    "# With the help of this table you can plot a curve or a line "
   ]
  },
  {
   "attachments": {
    "numbers-table.png": {
     "image/png": "[encoded data removed]"
    }
   },
   "cell_type": "markdown",
   "id": "fc434bf8",
   "metadata": {},
   "source": [
    "![numbers-table.png](attachment:numbers-table.png)"
   ]
  },
  {
   "cell_type": "code",
   "execution_count": null,
   "id": "02ce6b3b",
   "metadata": {},
   "outputs": [],
   "source": [
    "# You cannot use any human language to communicate with your python "
   ]
  },
  {
   "cell_type": "code",
   "execution_count": 37,
   "id": "7bae0463",
   "metadata": {},
   "outputs": [],
   "source": [
    "# Identifier \n",
    "\n",
    "# Variables\n",
    "\n",
    "# Arithmetic Operators\n",
    "# Assignment Operators \n",
    "# Comparision Operators\n",
    "# Membership Operators"
   ]
  },
  {
   "cell_type": "code",
   "execution_count": 7,
   "id": "0b2f25c0",
   "metadata": {},
   "outputs": [],
   "source": [
    "# Identifier - Naming convention \n",
    "# Variable - Naming convention + Storing the value\n",
    "\n",
    "\n",
    "# Rules for defining an identifier\n",
    "# lowercase letters\n",
    "# No special characters except _\n",
    "# Should not start with a number \n",
    "# No spaces between the name that youre assigning\n",
    "\n",
    "# Variable = Place holder or something that saves the information\n",
    "\n",
    "# In order to access data you have to store that data first in a variable \n",
    "\n",
    "# Need for accessing the data = To perform analysis on the data\n",
    "\n",
    "# Rules for defining a variable\n",
    "# lowercase letters\n",
    "# No special characters except _\n",
    "# Should not start with a number but it can end with a number \n",
    "# you can assign the value to a variable by usin \"=\"\n",
    "# No spaces between the name that youre assigning"
   ]
  },
  {
   "cell_type": "code",
   "execution_count": 20,
   "id": "f92bdcb2",
   "metadata": {},
   "outputs": [],
   "source": [
    "Variable1 = 1\n",
    "variable2 = 20\n",
    "variable3 = 30\n",
    "VARIABLE4 = 40\n",
    "\n",
    "# Left part is the name of the variable \n",
    "# = helps you to assign the value to that variable\n",
    "# right part is the value that you want to save in that variable"
   ]
  },
  {
   "cell_type": "code",
   "execution_count": 21,
   "id": "6da5457f",
   "metadata": {},
   "outputs": [
    {
     "name": "stdout",
     "output_type": "stream",
     "text": [
      "1 This is the value of Variable 1\n",
      "20 This is the value of variable 2\n",
      "30 This is the value of variable 3\n",
      "40 This is the value of variable 4\n"
     ]
    }
   ],
   "source": [
    "print(Variable1,\"This is the value of Variable 1\")\n",
    "print(variable2,\"This is the value of variable 2\")\n",
    "print(variable3,\"This is the value of variable 3\")\n",
    "print(VARIABLE4,\"This is the value of variable 4\")"
   ]
  },
  {
   "cell_type": "code",
   "execution_count": 34,
   "id": "750220b0",
   "metadata": {},
   "outputs": [
    {
     "ename": "SyntaxError",
     "evalue": "invalid decimal literal (3304888162.py, line 1)",
     "output_type": "error",
     "traceback": [
      "\u001b[1;36m  Cell \u001b[1;32mIn[34], line 1\u001b[1;36m\u001b[0m\n\u001b[1;33m    1my_variable = 45\u001b[0m\n\u001b[1;37m    ^\u001b[0m\n\u001b[1;31mSyntaxError\u001b[0m\u001b[1;31m:\u001b[0m invalid decimal literal\n"
     ]
    }
   ],
   "source": [
    "1my_variable = 45"
   ]
  },
  {
   "cell_type": "code",
   "execution_count": 35,
   "id": "5a849efd",
   "metadata": {},
   "outputs": [],
   "source": [
    "my_variable1 = 45"
   ]
  },
  {
   "cell_type": "code",
   "execution_count": 37,
   "id": "548bfde6",
   "metadata": {},
   "outputs": [],
   "source": [
    "my_variable = 100"
   ]
  },
  {
   "cell_type": "code",
   "execution_count": 38,
   "id": "d65a6c93",
   "metadata": {},
   "outputs": [
    {
     "data": {
      "text/plain": [
       "140719166513032"
      ]
     },
     "execution_count": 38,
     "metadata": {},
     "output_type": "execute_result"
    }
   ],
   "source": [
    "id(my_variable)"
   ]
  },
  {
   "cell_type": "code",
   "execution_count": 39,
   "id": "3b8f2323",
   "metadata": {},
   "outputs": [
    {
     "data": {
      "text/plain": [
       "140719166511272"
      ]
     },
     "execution_count": 39,
     "metadata": {},
     "output_type": "execute_result"
    }
   ],
   "source": [
    "id(my_variable1)"
   ]
  },
  {
   "cell_type": "code",
   "execution_count": 40,
   "id": "dded687e",
   "metadata": {},
   "outputs": [],
   "source": [
    "# Computer can understand the data only in format of 0 and 1 - binary digits\n",
    "\n",
    "# binary digits = bits \n",
    "\n",
    "# 1 bit = _ (0 or 1 )\n",
    "# 2 bits = _ _ (0 and 1, 0 and 0, 1 and 0, 1 and 1)\n",
    "# 3 bits = _ _ _ ()\n",
    "\n",
    "# 32 bits or 64 bits -"
   ]
  },
  {
   "cell_type": "code",
   "execution_count": 41,
   "id": "21c0634f",
   "metadata": {},
   "outputs": [],
   "source": [
    "# Number Systems - Binary Number System, Octal Decimal System, Hexagonal Decial Sytem\n",
    "\n",
    "# Binary = 2\n",
    "# Octal = 8\n",
    "# Hexa = 16"
   ]
  },
  {
   "cell_type": "code",
   "execution_count": 42,
   "id": "5e707096",
   "metadata": {},
   "outputs": [
    {
     "data": {
      "text/plain": [
       "45"
      ]
     },
     "execution_count": 42,
     "metadata": {},
     "output_type": "execute_result"
    }
   ],
   "source": [
    "45"
   ]
  },
  {
   "cell_type": "code",
   "execution_count": 46,
   "id": "a84591fe",
   "metadata": {},
   "outputs": [],
   "source": [
    "binary = bin(45)"
   ]
  },
  {
   "cell_type": "code",
   "execution_count": 47,
   "id": "ba591bd8",
   "metadata": {},
   "outputs": [],
   "source": [
    "octal = oct(45)"
   ]
  },
  {
   "cell_type": "code",
   "execution_count": 48,
   "id": "82d116a0",
   "metadata": {},
   "outputs": [],
   "source": [
    "hexa = hex(45)"
   ]
  },
  {
   "cell_type": "code",
   "execution_count": 49,
   "id": "a13dbeac",
   "metadata": {},
   "outputs": [
    {
     "data": {
      "text/plain": [
       "45"
      ]
     },
     "execution_count": 49,
     "metadata": {},
     "output_type": "execute_result"
    }
   ],
   "source": [
    "int(binary,2) #- variable and the base "
   ]
  },
  {
   "cell_type": "code",
   "execution_count": 50,
   "id": "7c0c082d",
   "metadata": {},
   "outputs": [
    {
     "data": {
      "text/plain": [
       "45"
      ]
     },
     "execution_count": 50,
     "metadata": {},
     "output_type": "execute_result"
    }
   ],
   "source": [
    "int(octal,8) #- variable and the base "
   ]
  },
  {
   "cell_type": "code",
   "execution_count": 51,
   "id": "2200e55b",
   "metadata": {},
   "outputs": [
    {
     "data": {
      "text/plain": [
       "45"
      ]
     },
     "execution_count": 51,
     "metadata": {},
     "output_type": "execute_result"
    }
   ],
   "source": [
    "int(hexa,16) #- variable and the base "
   ]
  },
  {
   "cell_type": "code",
   "execution_count": null,
   "id": "dae01632",
   "metadata": {},
   "outputs": [],
   "source": [
    "# input(), print() , type() , int() , bin() , oct(), hex()"
   ]
  },
  {
   "cell_type": "code",
   "execution_count": 53,
   "id": "c245e61e",
   "metadata": {},
   "outputs": [],
   "source": [
    "# type()"
   ]
  },
  {
   "cell_type": "code",
   "execution_count": 54,
   "id": "f7b4056b",
   "metadata": {},
   "outputs": [
    {
     "data": {
      "text/plain": [
       "'0b101101'"
      ]
     },
     "execution_count": 54,
     "metadata": {},
     "output_type": "execute_result"
    }
   ],
   "source": [
    "bin(45)"
   ]
  },
  {
   "cell_type": "code",
   "execution_count": 56,
   "id": "6858dfbd",
   "metadata": {},
   "outputs": [
    {
     "name": "stdout",
     "output_type": "stream",
     "text": [
      "<class 'str'>\n"
     ]
    }
   ],
   "source": [
    "print(type(binary))"
   ]
  },
  {
   "cell_type": "code",
   "execution_count": 59,
   "id": "f6cd0d60",
   "metadata": {},
   "outputs": [
    {
     "name": "stdout",
     "output_type": "stream",
     "text": [
      "<class 'str'> This is the data type of binary variable\n"
     ]
    }
   ],
   "source": [
    "print(type(binary),\"This is the data type of binary variable\")"
   ]
  },
  {
   "cell_type": "code",
   "execution_count": 62,
   "id": "aa3d4fe5",
   "metadata": {},
   "outputs": [
    {
     "name": "stdout",
     "output_type": "stream",
     "text": [
      "<class 'str'>\n",
      "<class 'int'>\n",
      "<class 'float'>\n",
      "<class 'bool'>\n"
     ]
    }
   ],
   "source": [
    "print(type(\"Hello world\"))\n",
    "print(type(23))\n",
    "print(type(23.5))\n",
    "print(type(True))"
   ]
  },
  {
   "cell_type": "code",
   "execution_count": null,
   "id": "abb4f410",
   "metadata": {},
   "outputs": [],
   "source": []
  },
  {
   "cell_type": "code",
   "execution_count": null,
   "id": "7c1a8cbc",
   "metadata": {},
   "outputs": [],
   "source": []
  },
  {
   "cell_type": "code",
   "execution_count": null,
   "id": "7e825b3b",
   "metadata": {},
   "outputs": [],
   "source": [
    "# Arithmetic Operators\n",
    "# Assignment Operators \n",
    "# Comparision Operators\n",
    "# Membership Operators"
   ]
  },
  {
   "cell_type": "code",
   "execution_count": null,
   "id": "50c4177f",
   "metadata": {},
   "outputs": [],
   "source": [
    "# Arithmetic Operations\n",
    "\n",
    "# Addition +\n",
    "# Subraction -\n",
    "# Multiplication *\n",
    "# Division /\n",
    "# Double Division //\n",
    "# Modulous %"
   ]
  },
  {
   "cell_type": "code",
   "execution_count": 66,
   "id": "a141714a",
   "metadata": {},
   "outputs": [
    {
     "name": "stdout",
     "output_type": "stream",
     "text": [
      "addition of 3 and 5 is : 8\n"
     ]
    }
   ],
   "source": [
    "print(\"addition of 3 and 5 is :\",3+5)"
   ]
  },
  {
   "cell_type": "code",
   "execution_count": 67,
   "id": "035043a9",
   "metadata": {},
   "outputs": [
    {
     "name": "stdout",
     "output_type": "stream",
     "text": [
      "subraction of 3 and 5 is : -2\n"
     ]
    }
   ],
   "source": [
    "print(\"subraction of 3 and 5 is :\",3-5)"
   ]
  },
  {
   "cell_type": "code",
   "execution_count": 68,
   "id": "e05ff5fd",
   "metadata": {},
   "outputs": [
    {
     "name": "stdout",
     "output_type": "stream",
     "text": [
      "multiplication of 3 and 5 is : 15\n"
     ]
    }
   ],
   "source": [
    "print(\"multiplication of 3 and 5 is :\",3*5)"
   ]
  },
  {
   "cell_type": "code",
   "execution_count": 72,
   "id": "e6e25829",
   "metadata": {},
   "outputs": [
    {
     "name": "stdout",
     "output_type": "stream",
     "text": [
      "division of 3 and 5 is : 0.8125\n"
     ]
    }
   ],
   "source": [
    "print(\"division of 3 and 5 is :\",65/80)"
   ]
  },
  {
   "cell_type": "code",
   "execution_count": 73,
   "id": "1c467283",
   "metadata": {},
   "outputs": [
    {
     "name": "stdout",
     "output_type": "stream",
     "text": [
      "double division of 3 and 5 is : 0\n"
     ]
    }
   ],
   "source": [
    "print(\"double division of 3 and 5 is :\",65//80)"
   ]
  },
  {
   "cell_type": "code",
   "execution_count": 74,
   "id": "ee667317",
   "metadata": {},
   "outputs": [
    {
     "name": "stdout",
     "output_type": "stream",
     "text": [
      "modulous of 3 and 5 is : 65\n"
     ]
    }
   ],
   "source": [
    "print(\"modulous of 3 and 5 is :\",65%80) # Remainder"
   ]
  },
  {
   "cell_type": "code",
   "execution_count": 82,
   "id": "00d5d0d3",
   "metadata": {},
   "outputs": [
    {
     "name": "stdout",
     "output_type": "stream",
     "text": [
      "20 value before addition\n",
      "25 value after addition\n",
      "25 value of b\n"
     ]
    }
   ],
   "source": [
    "# Assignment Operators = For loop and while loop\n",
    "\n",
    "a = 20\n",
    "b = a + 5\n",
    "print(a,\"value before addition\") # value of a\n",
    "print(a+5,\"value after addition\") # value of a + 5 \n",
    "print(b,\"value of b\")"
   ]
  },
  {
   "cell_type": "code",
   "execution_count": 84,
   "id": "a8df8465",
   "metadata": {},
   "outputs": [
    {
     "name": "stdout",
     "output_type": "stream",
     "text": [
      "30\n",
      "35\n"
     ]
    }
   ],
   "source": [
    "a = a + 5 \n",
    "b = b + 10\n",
    "print(a)\n",
    "print(b)"
   ]
  },
  {
   "cell_type": "code",
   "execution_count": 88,
   "id": "e3c4005b",
   "metadata": {},
   "outputs": [
    {
     "name": "stdout",
     "output_type": "stream",
     "text": [
      "40.0 value of a after adding 5\n",
      "35.0 value of a after sub 5\n",
      "175.0 value of a after multipyng 5\n",
      "35.0 value of a after diving 5\n"
     ]
    }
   ],
   "source": [
    "a+=5\n",
    "print(a,\"value of a after adding 5\")\n",
    "a-=5\n",
    "print(a,\"value of a after sub 5\")\n",
    "a*=5\n",
    "print(a,\"value of a after multipyng 5\")\n",
    "a/=5\n",
    "print(a,\"value of a after diving 5\")"
   ]
  },
  {
   "cell_type": "code",
   "execution_count": null,
   "id": "ad3cb877",
   "metadata": {},
   "outputs": [],
   "source": [
    "# Create 3 variables with subject names maths, science and social\n",
    "\n",
    "# maths = 56, science =78, social = 60 total 100\n",
    "\n",
    "# calculate the average of all the marks\n",
    "# calculate the percentage of the student"
   ]
  },
  {
   "cell_type": "code",
   "execution_count": 90,
   "id": "24e66638",
   "metadata": {},
   "outputs": [
    {
     "data": {
      "text/plain": [
       "343.2"
      ]
     },
     "execution_count": 90,
     "metadata": {},
     "output_type": "execute_result"
    }
   ],
   "source": [
    "round(343.222,1)"
   ]
  },
  {
   "cell_type": "code",
   "execution_count": 91,
   "id": "8971740a",
   "metadata": {},
   "outputs": [
    {
     "name": "stdout",
     "output_type": "stream",
     "text": [
      "34\n",
      "None\n"
     ]
    }
   ],
   "source": []
  },
  {
   "cell_type": "code",
   "execution_count": null,
   "id": "edee249a",
   "metadata": {},
   "outputs": [],
   "source": []
  }
 ],
 "metadata": {
  "kernelspec": {
   "display_name": "Python 3 (ipykernel)",
   "language": "python",
   "name": "python3"
  },
  "language_info": {
   "codemirror_mode": {
    "name": "ipython",
    "version": 3
   },
   "file_extension": ".py",
   "mimetype": "text/x-python",
   "name": "python",
   "nbconvert_exporter": "python",
   "pygments_lexer": "ipython3",
   "version": "3.11.8"
  }
 },
 "nbformat": 4,
 "nbformat_minor": 5
}
