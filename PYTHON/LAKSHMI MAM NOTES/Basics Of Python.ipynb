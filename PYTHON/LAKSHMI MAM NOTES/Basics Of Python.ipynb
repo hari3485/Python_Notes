{
 "cells": [
  {
   "cell_type": "markdown",
   "id": "cb797c72",
   "metadata": {},
   "source": [
    "- Comments are used as **#** for single line\n",
    "- For multiline use **\"\"\" \"\"\"**"
   ]
  },
  {
   "cell_type": "code",
   "execution_count": 1,
   "id": "000113f6",
   "metadata": {},
   "outputs": [
    {
     "data": {
      "text/plain": [
       "' hello world\\nhdvhdwkkw  bsjqkdbjq  bdkq\\nbsqkdjqbd\\n'"
      ]
     },
     "execution_count": 1,
     "metadata": {},
     "output_type": "execute_result"
    }
   ],
   "source": [
    "# Hello\n",
    "''' hello world\n",
    "hdvhdwkkw  bsjqkdbjq  bdkq\n",
    "bsqkdjqbd\n",
    "'''"
   ]
  },
  {
   "cell_type": "code",
   "execution_count": 2,
   "id": "45894cbd",
   "metadata": {},
   "outputs": [
    {
     "name": "stdout",
     "output_type": "stream",
     "text": [
      "hey hello\n"
     ]
    }
   ],
   "source": [
    "print(\"hey\",\"hello\")\n",
    "\n",
    "# by default seperator is \"space\""
   ]
  },
  {
   "cell_type": "code",
   "execution_count": 3,
   "id": "b11fed17",
   "metadata": {},
   "outputs": [
    {
     "name": "stdout",
     "output_type": "stream",
     "text": [
      "hello~world\n"
     ]
    }
   ],
   "source": [
    "print(\"hello\",\"world\",sep=\"~\")\n",
    "\n",
    "#what ever the seperator we give it puts inplace of space"
   ]
  },
  {
   "cell_type": "markdown",
   "id": "3365aa64",
   "metadata": {},
   "source": [
    "- We also have **end** parametre it gives at the end of the strring"
   ]
  },
  {
   "cell_type": "code",
   "execution_count": 4,
   "id": "f8c96470",
   "metadata": {},
   "outputs": [
    {
     "name": "stdout",
     "output_type": "stream",
     "text": [
      "list dictionaryset"
     ]
    }
   ],
   "source": [
    "print(\"list\",\"dictionary\",end = \"set\")"
   ]
  },
  {
   "cell_type": "code",
   "execution_count": 5,
   "id": "75db3719",
   "metadata": {},
   "outputs": [
    {
     "name": "stdout",
     "output_type": "stream",
     "text": [
      "list dictionary set"
     ]
    }
   ],
   "source": [
    "print(\"list\",\"dictionary\",end = \" set\")\n",
    "\n",
    "# as i took space at \"set\" i got space after dictionary"
   ]
  },
  {
   "cell_type": "code",
   "execution_count": 6,
   "id": "3c712183",
   "metadata": {},
   "outputs": [
    {
     "data": {
      "text/plain": [
       "bool"
      ]
     },
     "execution_count": 6,
     "metadata": {},
     "output_type": "execute_result"
    }
   ],
   "source": [
    "a = True\n",
    "type(a)"
   ]
  },
  {
   "cell_type": "code",
   "execution_count": 7,
   "id": "39cc58a9",
   "metadata": {},
   "outputs": [],
   "source": [
    "a = complex(8,12)"
   ]
  },
  {
   "cell_type": "code",
   "execution_count": 8,
   "id": "c1793fc5",
   "metadata": {},
   "outputs": [
    {
     "data": {
      "text/plain": [
       "(8+12j)"
      ]
     },
     "execution_count": 8,
     "metadata": {},
     "output_type": "execute_result"
    }
   ],
   "source": [
    "a"
   ]
  },
  {
   "cell_type": "code",
   "execution_count": 9,
   "id": "67d4eeb1",
   "metadata": {},
   "outputs": [],
   "source": [
    "# Input function is used for user to give the input"
   ]
  },
  {
   "cell_type": "code",
   "execution_count": 11,
   "id": "62e0e3a3",
   "metadata": {},
   "outputs": [
    {
     "name": "stdout",
     "output_type": "stream",
     "text": [
      "enter your name: hari chandan\n"
     ]
    }
   ],
   "source": [
    "var1 = input(\"enter your name: \")"
   ]
  },
  {
   "cell_type": "code",
   "execution_count": 12,
   "id": "ac1c7f32",
   "metadata": {},
   "outputs": [],
   "source": [
    "# floor division"
   ]
  },
  {
   "cell_type": "code",
   "execution_count": 13,
   "id": "6c8ea67d",
   "metadata": {},
   "outputs": [
    {
     "data": {
      "text/plain": [
       "2"
      ]
     },
     "execution_count": 13,
     "metadata": {},
     "output_type": "execute_result"
    }
   ],
   "source": [
    "num1 = 12\n",
    "num2 = 5\n",
    "num1//num2\n",
    "\n",
    "# removes decimal round off\n",
    "# answer is quotient"
   ]
  },
  {
   "cell_type": "code",
   "execution_count": 14,
   "id": "3edab939",
   "metadata": {},
   "outputs": [
    {
     "data": {
      "text/plain": [
       "2.4"
      ]
     },
     "execution_count": 14,
     "metadata": {},
     "output_type": "execute_result"
    }
   ],
   "source": [
    "num1 = 12\n",
    "num2 = 5\n",
    "num1/num2\n",
    "\n",
    "# It gives decimal value also"
   ]
  },
  {
   "cell_type": "code",
   "execution_count": 15,
   "id": "c975ddc4",
   "metadata": {},
   "outputs": [],
   "source": [
    "# for remainder use \"%\" modulo operator"
   ]
  },
  {
   "cell_type": "code",
   "execution_count": 16,
   "id": "965238f1",
   "metadata": {},
   "outputs": [
    {
     "data": {
      "text/plain": [
       "100"
      ]
     },
     "execution_count": 16,
     "metadata": {},
     "output_type": "execute_result"
    }
   ],
   "source": [
    "num1 = 100\n",
    "num2 = 230\n",
    "num1%num2"
   ]
  },
  {
   "cell_type": "code",
   "execution_count": 17,
   "id": "419c954f",
   "metadata": {},
   "outputs": [
    {
     "data": {
      "text/plain": [
       "625"
      ]
     },
     "execution_count": 17,
     "metadata": {},
     "output_type": "execute_result"
    }
   ],
   "source": [
    "# power \n",
    "\n",
    "5**4"
   ]
  },
  {
   "cell_type": "code",
   "execution_count": 18,
   "id": "def2ab89",
   "metadata": {},
   "outputs": [
    {
     "data": {
      "text/plain": [
       "6"
      ]
     },
     "execution_count": 18,
     "metadata": {},
     "output_type": "execute_result"
    }
   ],
   "source": [
    "# type casting\n",
    " \n",
    "    \n",
    "var1 = True\n",
    "var2 = 5\n",
    "var1+var2\n",
    "\n",
    "#implicit type casting means python converts data type on itself"
   ]
  },
  {
   "cell_type": "code",
   "execution_count": 19,
   "id": "d797183b",
   "metadata": {},
   "outputs": [
    {
     "data": {
      "text/plain": [
       "5.4"
      ]
     },
     "execution_count": 19,
     "metadata": {},
     "output_type": "execute_result"
    }
   ],
   "source": [
    "a = 2\n",
    "b = 3.4\n",
    "a+b\n",
    "\n",
    "# python converts 2 to 2.0 decimal and adds "
   ]
  },
  {
   "cell_type": "code",
   "execution_count": 20,
   "id": "0c5d40ad",
   "metadata": {},
   "outputs": [
    {
     "data": {
      "text/plain": [
       "2"
      ]
     },
     "execution_count": 20,
     "metadata": {},
     "output_type": "execute_result"
    }
   ],
   "source": [
    "# explicit type casting is we convert data type manually\n",
    "\n",
    "a = 2.5\n",
    "int(a)"
   ]
  },
  {
   "cell_type": "code",
   "execution_count": 21,
   "id": "7a15f1fe",
   "metadata": {},
   "outputs": [
    {
     "data": {
      "text/plain": [
       "45.0"
      ]
     },
     "execution_count": 21,
     "metadata": {},
     "output_type": "execute_result"
    }
   ],
   "source": [
    "float(45)"
   ]
  },
  {
   "cell_type": "code",
   "execution_count": 25,
   "id": "006272fd",
   "metadata": {},
   "outputs": [
    {
     "data": {
      "text/plain": [
       "(False, True)"
      ]
     },
     "execution_count": 25,
     "metadata": {},
     "output_type": "execute_result"
    }
   ],
   "source": [
    "bool(0),bool(1)"
   ]
  },
  {
   "cell_type": "markdown",
   "id": "f6d6b623",
   "metadata": {},
   "source": [
    "# Strings"
   ]
  },
  {
   "cell_type": "markdown",
   "id": "7b167c4d",
   "metadata": {},
   "source": [
    "- For single string use **\" \"** , for multiple lines of string use **'''  '''**"
   ]
  },
  {
   "cell_type": "markdown",
   "id": "90d40916",
   "metadata": {},
   "source": [
    "### indexing"
   ]
  },
  {
   "cell_type": "code",
   "execution_count": 27,
   "id": "9b6d2138",
   "metadata": {},
   "outputs": [
    {
     "data": {
      "text/plain": [
       "'i'"
      ]
     },
     "execution_count": 27,
     "metadata": {},
     "output_type": "execute_result"
    }
   ],
   "source": [
    "river = \"mississippi\"\n",
    "\n",
    "river[1]"
   ]
  },
  {
   "cell_type": "markdown",
   "id": "568f8ac1",
   "metadata": {},
   "source": [
    "#### Slicing"
   ]
  },
  {
   "cell_type": "code",
   "execution_count": 28,
   "id": "12894043",
   "metadata": {},
   "outputs": [
    {
     "data": {
      "text/plain": [
       "'mississippi'"
      ]
     },
     "execution_count": 28,
     "metadata": {},
     "output_type": "execute_result"
    }
   ],
   "source": [
    "river = \"mississippi\"\n",
    "\n",
    "river[0:]\n",
    "\n",
    "# it goes upto end"
   ]
  },
  {
   "cell_type": "code",
   "execution_count": 36,
   "id": "d22b6664",
   "metadata": {},
   "outputs": [
    {
     "data": {
      "text/plain": [
       "'mis'"
      ]
     },
     "execution_count": 36,
     "metadata": {},
     "output_type": "execute_result"
    }
   ],
   "source": [
    "river[0:3]\n",
    "\n",
    "# it dont go to 3 it goes 2 this is imp as end-1"
   ]
  },
  {
   "cell_type": "code",
   "execution_count": 34,
   "id": "c4162859",
   "metadata": {},
   "outputs": [
    {
     "data": {
      "text/plain": [
       "'msispi'"
      ]
     },
     "execution_count": 34,
     "metadata": {},
     "output_type": "execute_result"
    }
   ],
   "source": [
    "river[0::2]\n",
    "\n",
    "#skips two letters"
   ]
  },
  {
   "cell_type": "code",
   "execution_count": 35,
   "id": "831ef599",
   "metadata": {},
   "outputs": [
    {
     "data": {
      "text/plain": [
       "'ippississim'"
      ]
     },
     "execution_count": 35,
     "metadata": {},
     "output_type": "execute_result"
    }
   ],
   "source": [
    "river[::-1]\n",
    "\n",
    "#reverse of the string"
   ]
  },
  {
   "cell_type": "code",
   "execution_count": 37,
   "id": "b4c0f4f8",
   "metadata": {},
   "outputs": [],
   "source": [
    "# Looping throught string"
   ]
  },
  {
   "cell_type": "code",
   "execution_count": 38,
   "id": "0a8f0158",
   "metadata": {},
   "outputs": [
    {
     "name": "stdout",
     "output_type": "stream",
     "text": [
      "m\n",
      "i\n",
      "s\n",
      "s\n",
      "i\n",
      "s\n",
      "s\n",
      "i\n",
      "p\n",
      "p\n",
      "i\n"
     ]
    }
   ],
   "source": [
    "for i in river:\n",
    "    print(i)"
   ]
  },
  {
   "cell_type": "raw",
   "id": "e9517c9b",
   "metadata": {},
   "source": [
    " m   i   s   s   i   s   s   i   p   p   i  \n",
    " 0   1   2   3   4   5   6   7   8   9  10\n",
    "-11 -10  -9  -8  -7  -6  -5  -4  -3  -2  -1\n"
   ]
  },
  {
   "cell_type": "code",
   "execution_count": 39,
   "id": "10ad0d79",
   "metadata": {},
   "outputs": [
    {
     "data": {
      "text/plain": [
       "''"
      ]
     },
     "execution_count": 39,
     "metadata": {},
     "output_type": "execute_result"
    }
   ],
   "source": [
    "river[-1:-3]"
   ]
  },
  {
   "cell_type": "markdown",
   "id": "0c52c184",
   "metadata": {},
   "source": [
    "- Start index = -1 (last character, 'i')\n",
    "- Stop index = -3 (third last character, 'p', but not included in slicing)\n",
    "- Default step = +1 (moves forward)\n",
    "- **🛑 Problem:**\n",
    "\n",
    "- The slice starts at -1 (right side of the string) and tries to move forward to -3.\n",
    "- But -3 is to the left, and since the step is default +1 (left to right), it never reaches -3."
   ]
  },
  {
   "cell_type": "code",
   "execution_count": 41,
   "id": "afe5666a",
   "metadata": {},
   "outputs": [
    {
     "data": {
      "text/plain": [
       "'ip'"
      ]
     },
     "execution_count": 41,
     "metadata": {},
     "output_type": "execute_result"
    }
   ],
   "source": [
    "# correct way is \n",
    "\n",
    "river[-1:-3:-1]"
   ]
  },
  {
   "cell_type": "code",
   "execution_count": 42,
   "id": "2450e3cc",
   "metadata": {},
   "outputs": [
    {
     "data": {
      "text/plain": [
       "'MISSISSIPPI'"
      ]
     },
     "execution_count": 42,
     "metadata": {},
     "output_type": "execute_result"
    }
   ],
   "source": [
    "river.upper()"
   ]
  },
  {
   "cell_type": "code",
   "execution_count": 43,
   "id": "25d38b64",
   "metadata": {},
   "outputs": [
    {
     "data": {
      "text/plain": [
       "'Mississippi'"
      ]
     },
     "execution_count": 43,
     "metadata": {},
     "output_type": "execute_result"
    }
   ],
   "source": [
    "river.capitalize()"
   ]
  },
  {
   "cell_type": "code",
   "execution_count": 44,
   "id": "f3f7fc49",
   "metadata": {},
   "outputs": [
    {
     "data": {
      "text/plain": [
       "'Mississippi'"
      ]
     },
     "execution_count": 44,
     "metadata": {},
     "output_type": "execute_result"
    }
   ],
   "source": [
    "river.title()"
   ]
  },
  {
   "cell_type": "code",
   "execution_count": 48,
   "id": "0dbc4b23",
   "metadata": {},
   "outputs": [
    {
     "data": {
      "text/plain": [
       "'Hari Chandan'"
      ]
     },
     "execution_count": 48,
     "metadata": {},
     "output_type": "execute_result"
    }
   ],
   "source": [
    "a = \"hari chandan\"\n",
    "a.title()\n",
    "\n",
    "# capitilizes each and every word frst letter capital"
   ]
  },
  {
   "cell_type": "code",
   "execution_count": 46,
   "id": "7c288bcd",
   "metadata": {},
   "outputs": [
    {
     "data": {
      "text/plain": [
       "'Hari chandan'"
      ]
     },
     "execution_count": 46,
     "metadata": {},
     "output_type": "execute_result"
    }
   ],
   "source": [
    "a.capitalize()\n",
    "\n",
    "# it captilaitizes only frst word frst letter capital"
   ]
  },
  {
   "cell_type": "code",
   "execution_count": 51,
   "id": "21fc869e",
   "metadata": {},
   "outputs": [
    {
     "data": {
      "text/plain": [
       "'hari'"
      ]
     },
     "execution_count": 51,
     "metadata": {},
     "output_type": "execute_result"
    }
   ],
   "source": [
    "a = \"    hari      \"\n",
    "a.strip()\n",
    "\n",
    "# it removes white spaces in starting and ending of the string it dont remove when spaces are in between string"
   ]
  },
  {
   "cell_type": "code",
   "execution_count": 53,
   "id": "fb9ccb8f",
   "metadata": {},
   "outputs": [
    {
     "data": {
      "text/plain": [
       "'hari    chandan    S'"
      ]
     },
     "execution_count": 53,
     "metadata": {},
     "output_type": "execute_result"
    }
   ],
   "source": [
    "a = \"    hari    chandan    S    \"\n",
    "a.strip()"
   ]
  },
  {
   "cell_type": "code",
   "execution_count": 55,
   "id": "e2943a79",
   "metadata": {},
   "outputs": [
    {
     "data": {
      "text/plain": [
       "['pyhton', 'is', 'used', 'for', 'web', 'applications']"
      ]
     },
     "execution_count": 55,
     "metadata": {},
     "output_type": "execute_result"
    }
   ],
   "source": [
    "b = \"pyhton is used for web applications\"\n",
    "b.split(\" \")\n",
    "\n",
    "# it splits by space"
   ]
  },
  {
   "cell_type": "code",
   "execution_count": 60,
   "id": "565ca11d",
   "metadata": {},
   "outputs": [
    {
     "data": {
      "text/plain": [
       "['hari', ' chandan', '']"
      ]
     },
     "execution_count": 60,
     "metadata": {},
     "output_type": "execute_result"
    }
   ],
   "source": [
    "b = \"hari@ chandan@\"\n",
    "b.split(\"@\")\n",
    "\n",
    "#default is splits by space at the end after @ we dont have any elements so it gave mpty string"
   ]
  },
  {
   "cell_type": "code",
   "execution_count": 1,
   "id": "f6e4790c",
   "metadata": {},
   "outputs": [
    {
     "data": {
      "text/plain": [
       "['hari', ' chandan', '']"
      ]
     },
     "execution_count": 1,
     "metadata": {},
     "output_type": "execute_result"
    }
   ],
   "source": [
    "b = \"hari@ chandan@\"\n",
    "b.split(\"@\")\n",
    "\n",
    "# it removes last space in the end"
   ]
  },
  {
   "cell_type": "code",
   "execution_count": 62,
   "id": "a25d7d7b",
   "metadata": {},
   "outputs": [
    {
     "data": {
      "text/plain": [
       "False"
      ]
     },
     "execution_count": 62,
     "metadata": {},
     "output_type": "execute_result"
    }
   ],
   "source": [
    "\"interpreter\".endswith(\"e\")"
   ]
  },
  {
   "cell_type": "code",
   "execution_count": 63,
   "id": "fce1fff3",
   "metadata": {},
   "outputs": [
    {
     "data": {
      "text/plain": [
       "True"
      ]
     },
     "execution_count": 63,
     "metadata": {},
     "output_type": "execute_result"
    }
   ],
   "source": [
    "\"interpreter\".endswith(\"r\")"
   ]
  },
  {
   "cell_type": "code",
   "execution_count": 66,
   "id": "899bed3a",
   "metadata": {},
   "outputs": [
    {
     "data": {
      "text/plain": [
       "'interpreter'"
      ]
     },
     "execution_count": 66,
     "metadata": {},
     "output_type": "execute_result"
    }
   ],
   "source": [
    "\"interpreter\".center(1)"
   ]
  },
  {
   "cell_type": "code",
   "execution_count": 68,
   "id": "2078f844",
   "metadata": {},
   "outputs": [
    {
     "data": {
      "text/plain": [
       "True"
      ]
     },
     "execution_count": 68,
     "metadata": {},
     "output_type": "execute_result"
    }
   ],
   "source": [
    "\"interpreter\".endswith(\"e\",3,10)  # \"erprete\"\n",
    "\n",
    "\n",
    "# it is checking either string ending between 3 and 10 index"
   ]
  },
  {
   "cell_type": "code",
   "execution_count": 69,
   "id": "e4007222",
   "metadata": {},
   "outputs": [
    {
     "data": {
      "text/plain": [
       "True"
      ]
     },
     "execution_count": 69,
     "metadata": {},
     "output_type": "execute_result"
    }
   ],
   "source": [
    "\"interpreter\".startswith(\"e\",3,10)  # \"erprete\"\n",
    " \n",
    "# it is checking either string starts with  between 3 and 10 index"
   ]
  },
  {
   "cell_type": "code",
   "execution_count": 70,
   "id": "562ff6ec",
   "metadata": {},
   "outputs": [
    {
     "data": {
      "text/plain": [
       "0"
      ]
     },
     "execution_count": 70,
     "metadata": {},
     "output_type": "execute_result"
    }
   ],
   "source": [
    "\"hari\".find(\"h\")\n",
    "\n",
    "# it takes string and finds the index of string"
   ]
  },
  {
   "cell_type": "code",
   "execution_count": 71,
   "id": "916a111b",
   "metadata": {},
   "outputs": [
    {
     "data": {
      "text/plain": [
       "-1"
      ]
     },
     "execution_count": 71,
     "metadata": {},
     "output_type": "execute_result"
    }
   ],
   "source": [
    "\"hari\".find(\"2\")\n",
    "\n",
    "# if the character is not present it returns -1"
   ]
  },
  {
   "cell_type": "code",
   "execution_count": 74,
   "id": "023a5ea7",
   "metadata": {},
   "outputs": [
    {
     "data": {
      "text/plain": [
       "True"
      ]
     },
     "execution_count": 74,
     "metadata": {},
     "output_type": "execute_result"
    }
   ],
   "source": [
    "\"123\".isnumeric()\n",
    "\n",
    "# checks whether string contains numbers"
   ]
  },
  {
   "cell_type": "code",
   "execution_count": 91,
   "id": "cd95c716",
   "metadata": {},
   "outputs": [
    {
     "data": {
      "text/plain": [
       "False"
      ]
     },
     "execution_count": 91,
     "metadata": {},
     "output_type": "execute_result"
    }
   ],
   "source": [
    "\"12/3\".isnumeric() #for fraction it returns false "
   ]
  },
  {
   "cell_type": "code",
   "execution_count": 75,
   "id": "ad64e5ce",
   "metadata": {},
   "outputs": [
    {
     "data": {
      "text/plain": [
       "False"
      ]
     },
     "execution_count": 75,
     "metadata": {},
     "output_type": "execute_result"
    }
   ],
   "source": [
    "\"interpretable\".isnumeric()\n"
   ]
  },
  {
   "cell_type": "code",
   "execution_count": 79,
   "id": "c6d3d631",
   "metadata": {},
   "outputs": [
    {
     "data": {
      "text/plain": [
       "True"
      ]
     },
     "execution_count": 79,
     "metadata": {},
     "output_type": "execute_result"
    }
   ],
   "source": [
    "\"interpretable\".isalpha()\n",
    "\n",
    "# checks wheather string contains alphabets\n",
    "# single number presnence returns False"
   ]
  },
  {
   "cell_type": "code",
   "execution_count": 86,
   "id": "a5e2ec7d",
   "metadata": {},
   "outputs": [
    {
     "data": {
      "text/plain": [
       "True"
      ]
     },
     "execution_count": 86,
     "metadata": {},
     "output_type": "execute_result"
    }
   ],
   "source": [
    "\"123\".isdigit()"
   ]
  },
  {
   "cell_type": "code",
   "execution_count": 90,
   "id": "a24cca32",
   "metadata": {},
   "outputs": [
    {
     "data": {
      "text/plain": [
       "False"
      ]
     },
     "execution_count": 90,
     "metadata": {},
     "output_type": "execute_result"
    }
   ],
   "source": [
    "\"12/3\".isdigit() #for fraction it returns false "
   ]
  },
  {
   "cell_type": "code",
   "execution_count": 96,
   "id": "771c9c7e",
   "metadata": {},
   "outputs": [
    {
     "data": {
      "text/plain": [
       "False"
      ]
     },
     "execution_count": 96,
     "metadata": {},
     "output_type": "execute_result"
    }
   ],
   "source": [
    "a = \"hari\"\n",
    "b = \"harii\"\n",
    "a is b"
   ]
  },
  {
   "cell_type": "markdown",
   "id": "5927af38",
   "metadata": {},
   "source": [
    "**Difference between find and index both gives indexes if it didnt find character find gives \"-1\" and index gives `ERROR`**"
   ]
  },
  {
   "cell_type": "code",
   "execution_count": 97,
   "id": "d0d7d1ff",
   "metadata": {},
   "outputs": [
    {
     "data": {
      "text/plain": [
       "True"
      ]
     },
     "execution_count": 97,
     "metadata": {},
     "output_type": "execute_result"
    }
   ],
   "source": [
    "\"hari\".isprintable()"
   ]
  },
  {
   "cell_type": "code",
   "execution_count": 98,
   "id": "c4bbc0d1",
   "metadata": {},
   "outputs": [
    {
     "data": {
      "text/plain": [
       "False"
      ]
     },
     "execution_count": 98,
     "metadata": {},
     "output_type": "execute_result"
    }
   ],
   "source": [
    "\"hari\\n\".isprintable()\n",
    "\n",
    "# new line is not printable so it dont give it raises an error"
   ]
  },
  {
   "cell_type": "code",
   "execution_count": 99,
   "id": "80f53b8f",
   "metadata": {},
   "outputs": [
    {
     "data": {
      "text/plain": [
       "True"
      ]
     },
     "execution_count": 99,
     "metadata": {},
     "output_type": "execute_result"
    }
   ],
   "source": [
    "\"hari123DRR\".isalnum()\n",
    "\n",
    "# returns True when (a-z)(A-Z)(0-9)"
   ]
  },
  {
   "cell_type": "markdown",
   "id": "9e7d926f",
   "metadata": {},
   "source": [
    "- islower() checks lower case\n",
    "- isspace() "
   ]
  },
  {
   "cell_type": "code",
   "execution_count": 104,
   "id": "e08fca62",
   "metadata": {},
   "outputs": [
    {
     "data": {
      "text/plain": [
       "'pandas is full on loops'"
      ]
     },
     "execution_count": 104,
     "metadata": {},
     "output_type": "execute_result"
    }
   ],
   "source": [
    "\"python is full on loops\".replace(\"python\",\"pandas\")\n",
    "\n",
    "# replaces updates the string"
   ]
  },
  {
   "cell_type": "code",
   "execution_count": 105,
   "id": "ff5678a0",
   "metadata": {},
   "outputs": [
    {
     "data": {
      "text/plain": [
       "'HARIhari'"
      ]
     },
     "execution_count": 105,
     "metadata": {},
     "output_type": "execute_result"
    }
   ],
   "source": [
    "\"hariHARI\".swapcase()\n",
    "\n",
    "# when ever character is upper case it converts to lower case\n",
    "# when ever chacater is lower case it converts to uppercase"
   ]
  },
  {
   "cell_type": "code",
   "execution_count": 106,
   "id": "84c7a4d4",
   "metadata": {},
   "outputs": [
    {
     "data": {
      "text/plain": [
       "'gmrroy'"
      ]
     },
     "execution_count": 106,
     "metadata": {},
     "output_type": "execute_result"
    }
   ],
   "source": [
    "\"PythonProgramming\"[::-3]"
   ]
  },
  {
   "cell_type": "markdown",
   "id": "828847ed",
   "metadata": {},
   "source": [
    "# LIST"
   ]
  },
  {
   "cell_type": "markdown",
   "id": "7fc974e0",
   "metadata": {},
   "source": [
    "- Ordered collection of data items, changeable, ordered,Duplicates,\n",
    "- List contains different datatypes in single list."
   ]
  },
  {
   "cell_type": "markdown",
   "id": "3e418f04",
   "metadata": {},
   "source": [
    "**Main difference between list and tuple is list is mutable tuple is immutable**"
   ]
  },
  {
   "cell_type": "code",
   "execution_count": 113,
   "id": "53b649ac",
   "metadata": {},
   "outputs": [],
   "source": [
    "course = [\"datascience\",214,\"python\",\"sql\",\"excel\",True]"
   ]
  },
  {
   "cell_type": "code",
   "execution_count": 109,
   "id": "f026b9d2",
   "metadata": {},
   "outputs": [
    {
     "data": {
      "text/plain": [
       "['datascience', 214, 'python', 'sql', 'excel', True]"
      ]
     },
     "execution_count": 109,
     "metadata": {},
     "output_type": "execute_result"
    }
   ],
   "source": [
    "course"
   ]
  },
  {
   "cell_type": "code",
   "execution_count": 112,
   "id": "81d4b378",
   "metadata": {},
   "outputs": [
    {
     "data": {
      "text/plain": [
       "['datascience', 214, 'python', 'sql', 'excel', True, 'arguments', 'arguments']"
      ]
     },
     "execution_count": 112,
     "metadata": {},
     "output_type": "execute_result"
    }
   ],
   "source": [
    "course.append(\"arguments\")\n",
    "course\n",
    "\n",
    "# append() is used to add one element to list"
   ]
  },
  {
   "cell_type": "code",
   "execution_count": 115,
   "id": "092a3c23",
   "metadata": {},
   "outputs": [
    {
     "data": {
      "text/plain": [
       "['datascience',\n",
       " 214,\n",
       " 'python',\n",
       " 'sql',\n",
       " 'excel',\n",
       " True,\n",
       " 'oops',\n",
       " 'Dictionary',\n",
       " 'oops',\n",
       " 'Dictionary']"
      ]
     },
     "execution_count": 115,
     "metadata": {},
     "output_type": "execute_result"
    }
   ],
   "source": [
    "course.extend([\"oops\",\"Dictionary\"])\n",
    "course\n",
    "\n",
    "# extend() is used to add multiple elements"
   ]
  },
  {
   "cell_type": "code",
   "execution_count": 120,
   "id": "fc2c733c",
   "metadata": {},
   "outputs": [
    {
     "data": {
      "text/plain": [
       "[True, 'excel', 'sql', 'python', 214, 'datascience']"
      ]
     },
     "execution_count": 120,
     "metadata": {},
     "output_type": "execute_result"
    }
   ],
   "source": [
    "course = [\"datascience\",214,\"python\",\"sql\",\"excel\",True]\n",
    "course.reverse()\n",
    "course\n",
    "\n",
    "# It reverses the list"
   ]
  },
  {
   "cell_type": "code",
   "execution_count": 126,
   "id": "679110ee",
   "metadata": {},
   "outputs": [
    {
     "data": {
      "text/plain": [
       "0"
      ]
     },
     "execution_count": 126,
     "metadata": {},
     "output_type": "execute_result"
    }
   ],
   "source": [
    "course = [\"datascience\",214,\"python\",\"sql\",\"excel\",True]\n",
    "\n",
    "course.index(\"datascience\")\n",
    "\n",
    "# it tells at which index the string is present"
   ]
  },
  {
   "cell_type": "code",
   "execution_count": 128,
   "id": "c5aff2c9",
   "metadata": {},
   "outputs": [
    {
     "data": {
      "text/plain": [
       "1"
      ]
     },
     "execution_count": 128,
     "metadata": {},
     "output_type": "execute_result"
    }
   ],
   "source": [
    "course = [\"datascience\",214,\"python\",\"sql\",\"excel\",True]\n",
    "\n",
    "course.count(\"datascience\")\n",
    "\n",
    "# it counts how many strings are present of given string"
   ]
  },
  {
   "cell_type": "code",
   "execution_count": 1,
   "id": "754821d6",
   "metadata": {},
   "outputs": [
    {
     "ename": "TypeError",
     "evalue": "'>' not supported between instances of 'int' and 'list'",
     "output_type": "error",
     "traceback": [
      "\u001b[1;31m---------------------------------------------------------------------------\u001b[0m",
      "\u001b[1;31mTypeError\u001b[0m                                 Traceback (most recent call last)",
      "Cell \u001b[1;32mIn[1], line 4\u001b[0m\n\u001b[0;32m      2\u001b[0m max_ \u001b[38;5;241m=\u001b[39m []\n\u001b[0;32m      3\u001b[0m \u001b[38;5;28;01mfor\u001b[39;00m i \u001b[38;5;129;01min\u001b[39;00m a:\n\u001b[1;32m----> 4\u001b[0m     \u001b[38;5;28;01mif\u001b[39;00m i \u001b[38;5;241m>\u001b[39m max_:\n\u001b[0;32m      5\u001b[0m         max_ \u001b[38;5;241m=\u001b[39m i\n\u001b[0;32m      6\u001b[0m \u001b[38;5;28mprint\u001b[39m(max_)\n",
      "\u001b[1;31mTypeError\u001b[0m: '>' not supported between instances of 'int' and 'list'"
     ]
    }
   ],
   "source": [
    "a = [1,23,56,89]\n",
    "max_ = []\n",
    "for i in a:\n",
    "    if i > max_:\n",
    "        max_ = i\n",
    "print(max_)"
   ]
  },
  {
   "cell_type": "code",
   "execution_count": 3,
   "id": "8eed17d4",
   "metadata": {},
   "outputs": [
    {
     "data": {
      "text/plain": [
       "'here this the program to write about largest number'"
      ]
     },
     "execution_count": 3,
     "metadata": {},
     "output_type": "execute_result"
    }
   ],
   "source": [
    "def number(a):\n",
    "    \"\"\"here this the program to write about largest number\"\"\"\n",
    "    return a**a\n",
    "\n",
    "number.__doc__"
   ]
  },
  {
   "cell_type": "code",
   "execution_count": 12,
   "id": "444787a0",
   "metadata": {},
   "outputs": [
    {
     "data": {
      "text/plain": [
       "720"
      ]
     },
     "execution_count": 12,
     "metadata": {},
     "output_type": "execute_result"
    }
   ],
   "source": [
    "def factorial(num):\n",
    "    if num < 0:\n",
    "        return f\"we cannot define factorial for negative number\"\n",
    "            \n",
    "    elif num == 0 or num == 1:\n",
    "        return 1\n",
    "    else:\n",
    "        return num * factorial(num-1)\n",
    "    \n",
    "factorial(6)"
   ]
  },
  {
   "cell_type": "code",
   "execution_count": null,
   "id": "ac35be4c",
   "metadata": {},
   "outputs": [],
   "source": [
    "def fibonacci(number):\n",
    "    num = 0\n",
    "    num2 = 1\n",
    "    for i in range(10):\n",
    "        "
   ]
  },
  {
   "cell_type": "code",
   "execution_count": 24,
   "id": "e0a67167",
   "metadata": {},
   "outputs": [
    {
     "data": {
      "text/plain": [
       "{1, 23, 67}"
      ]
     },
     "execution_count": 24,
     "metadata": {},
     "output_type": "execute_result"
    }
   ],
   "source": [
    "a = {1,23,45}\n",
    "b = {45,67}\n",
    "a.symmetric_difference(b)\n",
    "\n",
    "# AUB - A^B (a union b - a intersection b)"
   ]
  },
  {
   "cell_type": "code",
   "execution_count": 25,
   "id": "0ea8c0c9",
   "metadata": {},
   "outputs": [
    {
     "data": {
      "text/plain": [
       "{1, 23, 67}"
      ]
     },
     "execution_count": 25,
     "metadata": {},
     "output_type": "execute_result"
    }
   ],
   "source": [
    "a = {1,23,45}\n",
    "b = {45,67}\n",
    "a.symmetric_difference_update(b)\n",
    "a\n",
    "\n",
    "# a is updated to symetric diffrence value"
   ]
  },
  {
   "cell_type": "code",
   "execution_count": 32,
   "id": "d20ae461",
   "metadata": {},
   "outputs": [
    {
     "data": {
      "text/plain": [
       "{1, 3, 23, 67}"
      ]
     },
     "execution_count": 32,
     "metadata": {},
     "output_type": "execute_result"
    }
   ],
   "source": [
    "a.add(3)\n",
    "a\n",
    "\n",
    "# its like append when we waant to add multiple elements we should put \n",
    "# update"
   ]
  },
  {
   "cell_type": "code",
   "execution_count": 33,
   "id": "5616218d",
   "metadata": {},
   "outputs": [],
   "source": [
    "a.update({3,4,5})"
   ]
  },
  {
   "cell_type": "code",
   "execution_count": 34,
   "id": "8af62e27",
   "metadata": {},
   "outputs": [
    {
     "data": {
      "text/plain": [
       "{1, 3, 4, 5, 23, 67}"
      ]
     },
     "execution_count": 34,
     "metadata": {},
     "output_type": "execute_result"
    }
   ],
   "source": [
    "a"
   ]
  },
  {
   "cell_type": "code",
   "execution_count": 37,
   "id": "2bb0823f",
   "metadata": {},
   "outputs": [
    {
     "data": {
      "text/plain": [
       "{1, 3, 4, 5, 23, 34, 67}"
      ]
     },
     "execution_count": 37,
     "metadata": {},
     "output_type": "execute_result"
    }
   ],
   "source": [
    "a.update([23,34])\n",
    "a\n",
    "\n",
    "# we can put sets or list to add multiple elements"
   ]
  },
  {
   "cell_type": "code",
   "execution_count": 38,
   "id": "4fa5d6cd",
   "metadata": {},
   "outputs": [
    {
     "data": {
      "text/plain": [
       "{3, 4, 5, 23, 34, 67}"
      ]
     },
     "execution_count": 38,
     "metadata": {},
     "output_type": "execute_result"
    }
   ],
   "source": [
    "a.pop()\n",
    "a\n",
    "\n",
    "# randomly rempoves an element "
   ]
  },
  {
   "cell_type": "code",
   "execution_count": 41,
   "id": "0bead106",
   "metadata": {},
   "outputs": [
    {
     "data": {
      "text/plain": [
       "[1, 23]"
      ]
     },
     "execution_count": 41,
     "metadata": {},
     "output_type": "execute_result"
    }
   ],
   "source": [
    "a = [1,23,34]\n",
    "a.pop()\n",
    "a\n",
    "\n",
    "#diffrence between list pop and set pop is list pop shows what it renmovd and it removes last element\n",
    "# where as set pop removes the randomly elemnet it dont show temporary element what is removed"
   ]
  },
  {
   "cell_type": "code",
   "execution_count": 44,
   "id": "9e46c87f",
   "metadata": {},
   "outputs": [
    {
     "ename": "NameError",
     "evalue": "name 'b' is not defined",
     "output_type": "error",
     "traceback": [
      "\u001b[1;31m---------------------------------------------------------------------------\u001b[0m",
      "\u001b[1;31mNameError\u001b[0m                                 Traceback (most recent call last)",
      "Cell \u001b[1;32mIn[44], line 3\u001b[0m\n\u001b[0;32m      1\u001b[0m b \u001b[38;5;241m=\u001b[39m {\u001b[38;5;124m\"\u001b[39m\u001b[38;5;124mhari\u001b[39m\u001b[38;5;124m\"\u001b[39m,\u001b[38;5;241m34\u001b[39m,\u001b[38;5;28;01mTrue\u001b[39;00m}\n\u001b[0;32m      2\u001b[0m \u001b[38;5;28;01mdel\u001b[39;00m b\n\u001b[1;32m----> 3\u001b[0m b\n",
      "\u001b[1;31mNameError\u001b[0m: name 'b' is not defined"
     ]
    }
   ],
   "source": [
    "b = {\"hari\",34,True}\n",
    "del b\n",
    "b"
   ]
  },
  {
   "cell_type": "code",
   "execution_count": 46,
   "id": "5896bd3f",
   "metadata": {},
   "outputs": [
    {
     "data": {
      "text/plain": [
       "{True, 34}"
      ]
     },
     "execution_count": 46,
     "metadata": {},
     "output_type": "execute_result"
    }
   ],
   "source": [
    "b = {\"hari\",34,True}\n",
    "\n",
    "b.remove(\"hari\")\n",
    "b\n",
    "\n",
    "# if we remove an element which is not present in b it raises an error\n",
    "# if we discard an element which is not present in b it doesnot raise an error"
   ]
  },
  {
   "cell_type": "code",
   "execution_count": 50,
   "id": "bfdbd3f5",
   "metadata": {},
   "outputs": [
    {
     "data": {
      "text/plain": [
       "{56, True, 'data', 'science'}"
      ]
     },
     "execution_count": 50,
     "metadata": {},
     "output_type": "execute_result"
    }
   ],
   "source": [
    "b = {\"data\",\"science\",56,True}\n",
    "b.discard(\"python\")\n",
    "b"
   ]
  },
  {
   "cell_type": "code",
   "execution_count": 51,
   "id": "5b7ded6a",
   "metadata": {},
   "outputs": [
    {
     "ename": "KeyError",
     "evalue": "'python'",
     "output_type": "error",
     "traceback": [
      "\u001b[1;31m---------------------------------------------------------------------------\u001b[0m",
      "\u001b[1;31mKeyError\u001b[0m                                  Traceback (most recent call last)",
      "Cell \u001b[1;32mIn[51], line 2\u001b[0m\n\u001b[0;32m      1\u001b[0m b \u001b[38;5;241m=\u001b[39m {\u001b[38;5;124m\"\u001b[39m\u001b[38;5;124mdata\u001b[39m\u001b[38;5;124m\"\u001b[39m,\u001b[38;5;124m\"\u001b[39m\u001b[38;5;124mscience\u001b[39m\u001b[38;5;124m\"\u001b[39m,\u001b[38;5;241m56\u001b[39m,\u001b[38;5;28;01mTrue\u001b[39;00m}\n\u001b[1;32m----> 2\u001b[0m b\u001b[38;5;241m.\u001b[39mremove(\u001b[38;5;124m\"\u001b[39m\u001b[38;5;124mpython\u001b[39m\u001b[38;5;124m\"\u001b[39m)\n\u001b[0;32m      3\u001b[0m b\n",
      "\u001b[1;31mKeyError\u001b[0m: 'python'"
     ]
    }
   ],
   "source": [
    "b = {\"data\",\"science\",56,True}\n",
    "b.remove(\"python\")\n",
    "b"
   ]
  },
  {
   "cell_type": "code",
   "execution_count": 53,
   "id": "070daa08",
   "metadata": {},
   "outputs": [
    {
     "data": {
      "text/plain": [
       "{56, True, 'data', 'science'}"
      ]
     },
     "execution_count": 53,
     "metadata": {},
     "output_type": "execute_result"
    }
   ],
   "source": [
    "b = {\"data\",\"science\",56,True}\n",
    "b.discard({\"data\",56})\n",
    "b\n",
    "\n"
   ]
  },
  {
   "cell_type": "code",
   "execution_count": 57,
   "id": "187def4b",
   "metadata": {},
   "outputs": [
    {
     "data": {
      "text/plain": [
       "{56, True, 'science'}"
      ]
     },
     "execution_count": 57,
     "metadata": {},
     "output_type": "execute_result"
    }
   ],
   "source": [
    "b = {\"data\",\"science\",56,True}\n",
    "b.discard(\"data\")\n",
    "b"
   ]
  },
  {
   "cell_type": "markdown",
   "id": "32239f61",
   "metadata": {},
   "source": [
    "# Dictionaries"
   ]
  },
  {
   "cell_type": "raw",
   "id": "1aca28d7",
   "metadata": {},
   "source": [
    "keys and values pair"
   ]
  },
  {
   "cell_type": "code",
   "execution_count": 60,
   "id": "5591246d",
   "metadata": {},
   "outputs": [
    {
     "data": {
      "text/plain": [
       "dict_keys(['name', 'role', 'game'])"
      ]
     },
     "execution_count": 60,
     "metadata": {},
     "output_type": "execute_result"
    }
   ],
   "source": [
    "names = {\"name\":\"hari\",\"role\":\"statistician\",\"game\":\"badminton\"}\n",
    "names.keys()"
   ]
  },
  {
   "cell_type": "code",
   "execution_count": 61,
   "id": "883d9fd2",
   "metadata": {},
   "outputs": [
    {
     "data": {
      "text/plain": [
       "dict_values(['hari', 'statistician', 'badminton'])"
      ]
     },
     "execution_count": 61,
     "metadata": {},
     "output_type": "execute_result"
    }
   ],
   "source": [
    "names.values()"
   ]
  },
  {
   "cell_type": "code",
   "execution_count": 69,
   "id": "776085d3",
   "metadata": {},
   "outputs": [
    {
     "data": {
      "text/plain": [
       "dict_items([('name', 'hari'), ('role', 'statistician'), ('game', 'badminton')])"
      ]
     },
     "execution_count": 69,
     "metadata": {},
     "output_type": "execute_result"
    }
   ],
   "source": [
    "names.items()"
   ]
  },
  {
   "cell_type": "code",
   "execution_count": 62,
   "id": "4d0e9b8c",
   "metadata": {},
   "outputs": [
    {
     "data": {
      "text/plain": [
       "'hari'"
      ]
     },
     "execution_count": 62,
     "metadata": {},
     "output_type": "execute_result"
    }
   ],
   "source": [
    "names[\"name\"]"
   ]
  },
  {
   "cell_type": "code",
   "execution_count": 63,
   "id": "7e270232",
   "metadata": {},
   "outputs": [
    {
     "data": {
      "text/plain": [
       "'hari'"
      ]
     },
     "execution_count": 63,
     "metadata": {},
     "output_type": "execute_result"
    }
   ],
   "source": [
    "names.get(\"name\")"
   ]
  },
  {
   "cell_type": "code",
   "execution_count": 64,
   "id": "90086cbf",
   "metadata": {},
   "outputs": [],
   "source": [
    "# we can use built in method also or key to get the value of the particular element"
   ]
  },
  {
   "cell_type": "code",
   "execution_count": 65,
   "id": "9a250410",
   "metadata": {},
   "outputs": [
    {
     "ename": "KeyError",
     "evalue": "'data'",
     "output_type": "error",
     "traceback": [
      "\u001b[1;31m---------------------------------------------------------------------------\u001b[0m",
      "\u001b[1;31mKeyError\u001b[0m                                  Traceback (most recent call last)",
      "Cell \u001b[1;32mIn[65], line 1\u001b[0m\n\u001b[1;32m----> 1\u001b[0m names[\u001b[38;5;124m\"\u001b[39m\u001b[38;5;124mdata\u001b[39m\u001b[38;5;124m\"\u001b[39m],names\u001b[38;5;241m.\u001b[39mget(\u001b[38;5;124m\"\u001b[39m\u001b[38;5;124mdata\u001b[39m\u001b[38;5;124m\"\u001b[39m)\n",
      "\u001b[1;31mKeyError\u001b[0m: 'data'"
     ]
    }
   ],
   "source": [
    "names[\"data\"]"
   ]
  },
  {
   "cell_type": "code",
   "execution_count": 68,
   "id": "70cf33de",
   "metadata": {},
   "outputs": [
    {
     "name": "stdout",
     "output_type": "stream",
     "text": [
      "None\n"
     ]
    }
   ],
   "source": [
    "print(names.get(\"data\"))\n",
    "\n",
    "# the diffrence between get and direct acessing key is if the key is not presnet in thedictionary acessing keywise gives error\n",
    "# but acessing by using get when we print it returns None"
   ]
  },
  {
   "cell_type": "code",
   "execution_count": 70,
   "id": "36675ae9",
   "metadata": {},
   "outputs": [
    {
     "ename": "TypeError",
     "evalue": "pop expected at least 1 argument, got 0",
     "output_type": "error",
     "traceback": [
      "\u001b[1;31m---------------------------------------------------------------------------\u001b[0m",
      "\u001b[1;31mTypeError\u001b[0m                                 Traceback (most recent call last)",
      "Cell \u001b[1;32mIn[70], line 2\u001b[0m\n\u001b[0;32m      1\u001b[0m names \u001b[38;5;241m=\u001b[39m {\u001b[38;5;124m\"\u001b[39m\u001b[38;5;124mname\u001b[39m\u001b[38;5;124m\"\u001b[39m:\u001b[38;5;124m\"\u001b[39m\u001b[38;5;124mhari\u001b[39m\u001b[38;5;124m\"\u001b[39m,\u001b[38;5;124m\"\u001b[39m\u001b[38;5;124mrole\u001b[39m\u001b[38;5;124m\"\u001b[39m:\u001b[38;5;124m\"\u001b[39m\u001b[38;5;124mstatistician\u001b[39m\u001b[38;5;124m\"\u001b[39m,\u001b[38;5;124m\"\u001b[39m\u001b[38;5;124mgame\u001b[39m\u001b[38;5;124m\"\u001b[39m:\u001b[38;5;124m\"\u001b[39m\u001b[38;5;124mbadminton\u001b[39m\u001b[38;5;124m\"\u001b[39m}\n\u001b[1;32m----> 2\u001b[0m names\u001b[38;5;241m.\u001b[39mpop()\n",
      "\u001b[1;31mTypeError\u001b[0m: pop expected at least 1 argument, got 0"
     ]
    }
   ],
   "source": [
    "names = {\"name\":\"hari\",\"role\":\"statistician\",\"game\":\"badminton\"}\n",
    "names.pop()"
   ]
  },
  {
   "cell_type": "code",
   "execution_count": 72,
   "id": "da1f2625",
   "metadata": {},
   "outputs": [
    {
     "data": {
      "text/plain": [
       "{'role': 'statistician', 'game': 'badminton'}"
      ]
     },
     "execution_count": 72,
     "metadata": {},
     "output_type": "execute_result"
    }
   ],
   "source": [
    "names = {\"name\":\"hari\",\"role\":\"statistician\",\"game\":\"badminton\"}\n",
    "names.pop(\"name\")\n",
    "names\n",
    "\n",
    "# when ever we use pop we should give a paricular key which we want to remove\n",
    "# otherwise it throws an error"
   ]
  },
  {
   "cell_type": "code",
   "execution_count": 75,
   "id": "30aab830",
   "metadata": {},
   "outputs": [
    {
     "data": {
      "text/plain": [
       "{'name': 'hari', 'role': 'statistician'}"
      ]
     },
     "execution_count": 75,
     "metadata": {},
     "output_type": "execute_result"
    }
   ],
   "source": [
    "names = {\"name\":\"hari\",\"role\":\"statistician\",\"game\":\"badminton\"}\n",
    "names.popitem()\n",
    "names\n",
    "\n",
    "#when ever we give popitem in dictionary it removes the element from the last"
   ]
  },
  {
   "cell_type": "code",
   "execution_count": 76,
   "id": "cfed1c45",
   "metadata": {},
   "outputs": [],
   "source": [
    "names = {\"name\":\"hari\",\"role\":\"statistician\",\"game\":\"badminton\"}\n",
    "names[\"company\"]=\"deloitte\""
   ]
  },
  {
   "cell_type": "code",
   "execution_count": 77,
   "id": "1704b1df",
   "metadata": {},
   "outputs": [
    {
     "data": {
      "text/plain": [
       "{'name': 'hari',\n",
       " 'role': 'statistician',\n",
       " 'game': 'badminton',\n",
       " 'company': 'deloitte'}"
      ]
     },
     "execution_count": 77,
     "metadata": {},
     "output_type": "execute_result"
    }
   ],
   "source": [
    "names\n",
    "\n",
    "# manualling adding a key and value pair to the dictionary"
   ]
  },
  {
   "cell_type": "code",
   "execution_count": 85,
   "id": "2d49cc21",
   "metadata": {},
   "outputs": [
    {
     "data": {
      "text/plain": [
       "{'name': 'hari',\n",
       " 'role': 'statistician',\n",
       " 'game': 'badminton',\n",
       " 'company': 'deliotte',\n",
       " 'class': 'first'}"
      ]
     },
     "execution_count": 85,
     "metadata": {},
     "output_type": "execute_result"
    }
   ],
   "source": [
    "names = {\"name\":\"hari\",\"role\":\"statistician\",\"game\":\"badminton\"}\n",
    "names.update({\"company\":\"deliotte\",\"class\":\"first\"})\n",
    "names\n",
    "\n",
    "# By using inbuilt method i.e update to update the dictionary , we can also give give multiple elements"
   ]
  },
  {
   "cell_type": "code",
   "execution_count": 81,
   "id": "330feaac",
   "metadata": {},
   "outputs": [
    {
     "data": {
      "text/plain": [
       "{}"
      ]
     },
     "execution_count": 81,
     "metadata": {},
     "output_type": "execute_result"
    }
   ],
   "source": [
    "names = {\"name\":\"hari\",\"role\":\"statistician\",\"game\":\"badminton\"}\n",
    "names.clear()\n",
    "names\n",
    "\n",
    "#it removes all the keys and values in the dictionary "
   ]
  },
  {
   "cell_type": "code",
   "execution_count": 83,
   "id": "75fff314",
   "metadata": {},
   "outputs": [
    {
     "data": {
      "text/plain": [
       "{'role': 'statistician', 'game': 'badminton'}"
      ]
     },
     "execution_count": 83,
     "metadata": {},
     "output_type": "execute_result"
    }
   ],
   "source": [
    "names = {\"name\":\"hari\",\"role\":\"statistician\",\"game\":\"badminton\"}\n",
    "\n",
    "del names[\"name\"]\n",
    "names\n",
    "\n",
    "# for dell also when we want to remove an element we have to use that give the key and del keyword to remove"
   ]
  },
  {
   "cell_type": "code",
   "execution_count": 89,
   "id": "62114019",
   "metadata": {},
   "outputs": [
    {
     "data": {
      "text/plain": [
       "{'name': 'hari',\n",
       " 'role': 'statistician',\n",
       " 'game': 'badminton',\n",
       " 'company': 'deliotte',\n",
       " 'class': 'first',\n",
       " 'colony': 'hitechcity'}"
      ]
     },
     "execution_count": 89,
     "metadata": {},
     "output_type": "execute_result"
    }
   ],
   "source": [
    "names.setdefault(\"colony\",\"hitechcity\")\n",
    "names\n",
    "\n",
    "# we can use setdefault also for giving or adding the key pair to existing dictionary"
   ]
  },
  {
   "cell_type": "code",
   "execution_count": 96,
   "id": "212611dd",
   "metadata": {},
   "outputs": [
    {
     "name": "stdout",
     "output_type": "stream",
     "text": [
      "i\n",
      "n\n",
      "n\n",
      "o\n",
      "m\n",
      "a\n",
      "t\n",
      "i\n",
      "c\n",
      "s\n",
      "no number\n"
     ]
    }
   ],
   "source": [
    "i = \"innomatics\"\n",
    "for j in i:\n",
    "    print(j)\n",
    "else:\n",
    "    print(\"no number\")"
   ]
  },
  {
   "cell_type": "code",
   "execution_count": 102,
   "id": "c6908b3f",
   "metadata": {},
   "outputs": [
    {
     "name": "stdout",
     "output_type": "stream",
     "text": [
      "0\n",
      "1\n",
      "2\n"
     ]
    }
   ],
   "source": [
    "for i in range(5):\n",
    "    print(i)\n",
    "    if i == 2:\n",
    "        break\n",
    "else:\n",
    "    print(\"i dont know\")\n",
    "    \n",
    "#here else is not executed bcoz it executes when loop is completed but in middle we are breaking the loop so loop terminates"
   ]
  },
  {
   "cell_type": "code",
   "execution_count": 103,
   "id": "60f9bb69",
   "metadata": {},
   "outputs": [
    {
     "name": "stdout",
     "output_type": "stream",
     "text": [
      "0\n",
      "1\n",
      "2\n",
      "3\n",
      "4\n",
      "i dont know\n"
     ]
    }
   ],
   "source": [
    "for i in range(5):\n",
    "    print(i)\n",
    "    if i == 2:\n",
    "        continue\n",
    "else:\n",
    "    print(\"i dont know\")"
   ]
  },
  {
   "cell_type": "code",
   "execution_count": 104,
   "id": "5bbbcb5f",
   "metadata": {},
   "outputs": [
    {
     "name": "stdout",
     "output_type": "stream",
     "text": [
      "0\n",
      "1\n",
      "2\n",
      "3\n",
      "4\n",
      "i dont know\n"
     ]
    }
   ],
   "source": [
    "for i in range(5):\n",
    "    print(i)\n",
    "    if i == 2:\n",
    "        pass\n",
    "else:\n",
    "    print(\"i dont know\")"
   ]
  },
  {
   "cell_type": "code",
   "execution_count": 106,
   "id": "a966b73c",
   "metadata": {},
   "outputs": [
    {
     "ename": "ZeroDivisionError",
     "evalue": "division by zero",
     "output_type": "error",
     "traceback": [
      "\u001b[1;31m---------------------------------------------------------------------------\u001b[0m",
      "\u001b[1;31mZeroDivisionError\u001b[0m                         Traceback (most recent call last)",
      "Cell \u001b[1;32mIn[106], line 2\u001b[0m\n\u001b[0;32m      1\u001b[0m a \u001b[38;5;241m=\u001b[39m \u001b[38;5;241m10\u001b[39m\n\u001b[1;32m----> 2\u001b[0m a\u001b[38;5;241m/\u001b[39m\u001b[38;5;241m0\u001b[39m\n",
      "\u001b[1;31mZeroDivisionError\u001b[0m: division by zero"
     ]
    }
   ],
   "source": [
    "a = 10\n",
    "a/0\n"
   ]
  },
  {
   "cell_type": "code",
   "execution_count": 107,
   "id": "cb16fd6a",
   "metadata": {},
   "outputs": [
    {
     "name": "stdout",
     "output_type": "stream",
     "text": [
      "we cannot devide number by zero\n"
     ]
    }
   ],
   "source": [
    "try :\n",
    "    num = a/0\n",
    "except ZeroDivisionError:\n",
    "    print(\"we cannot devide number by zero\")"
   ]
  },
  {
   "cell_type": "code",
   "execution_count": 110,
   "id": "259d47f1",
   "metadata": {},
   "outputs": [
    {
     "data": {
      "text/plain": [
       "35"
      ]
     },
     "execution_count": 110,
     "metadata": {},
     "output_type": "execute_result"
    }
   ],
   "source": [
    "import keyword\n",
    "len(keyword.kwlist)"
   ]
  },
  {
   "cell_type": "code",
   "execution_count": 112,
   "id": "5f553099",
   "metadata": {},
   "outputs": [
    {
     "ename": "AttributeError",
     "evalue": "'dict' object has no attribute 'format_map'",
     "output_type": "error",
     "traceback": [
      "\u001b[1;31m---------------------------------------------------------------------------\u001b[0m",
      "\u001b[1;31mAttributeError\u001b[0m                            Traceback (most recent call last)",
      "Cell \u001b[1;32mIn[112], line 2\u001b[0m\n\u001b[0;32m      1\u001b[0m names \u001b[38;5;241m=\u001b[39m {\u001b[38;5;124m\"\u001b[39m\u001b[38;5;124mname\u001b[39m\u001b[38;5;124m\"\u001b[39m:\u001b[38;5;124m\"\u001b[39m\u001b[38;5;124mhari\u001b[39m\u001b[38;5;124m\"\u001b[39m,\u001b[38;5;124m\"\u001b[39m\u001b[38;5;124mrole\u001b[39m\u001b[38;5;124m\"\u001b[39m:\u001b[38;5;124m\"\u001b[39m\u001b[38;5;124mstatistician\u001b[39m\u001b[38;5;124m\"\u001b[39m,\u001b[38;5;124m\"\u001b[39m\u001b[38;5;124mgame\u001b[39m\u001b[38;5;124m\"\u001b[39m:\u001b[38;5;124m\"\u001b[39m\u001b[38;5;124mbadminton\u001b[39m\u001b[38;5;124m\"\u001b[39m}\n\u001b[1;32m----> 2\u001b[0m names\u001b[38;5;241m.\u001b[39mformat_map(names)\n",
      "\u001b[1;31mAttributeError\u001b[0m: 'dict' object has no attribute 'format_map'"
     ]
    }
   ],
   "source": [
    "names = {\"name\":\"hari\",\"role\":\"statistician\",\"game\":\"badminton\"}\n",
    "names.format_map(names)"
   ]
  },
  {
   "cell_type": "code",
   "execution_count": 114,
   "id": "ff15cec0",
   "metadata": {},
   "outputs": [
    {
     "name": "stderr",
     "output_type": "stream",
     "text": [
      "<>:1: SyntaxWarning: \"is\" with a literal. Did you mean \"==\"?\n",
      "<>:2: SyntaxWarning: \"is\" with a literal. Did you mean \"==\"?\n",
      "<>:1: SyntaxWarning: \"is\" with a literal. Did you mean \"==\"?\n",
      "<>:2: SyntaxWarning: \"is\" with a literal. Did you mean \"==\"?\n",
      "C:\\Users\\lenovo\\AppData\\Local\\Temp\\ipykernel_4160\\443730791.py:1: SyntaxWarning: \"is\" with a literal. Did you mean \"==\"?\n",
      "  2 is 2\n",
      "C:\\Users\\lenovo\\AppData\\Local\\Temp\\ipykernel_4160\\443730791.py:2: SyntaxWarning: \"is\" with a literal. Did you mean \"==\"?\n",
      "  -6 is -6\n"
     ]
    },
    {
     "data": {
      "text/plain": [
       "True"
      ]
     },
     "execution_count": 114,
     "metadata": {},
     "output_type": "execute_result"
    }
   ],
   "source": [
    "2 is 2\n",
    "-6 is -6"
   ]
  },
  {
   "cell_type": "code",
   "execution_count": 115,
   "id": "603fce36",
   "metadata": {},
   "outputs": [
    {
     "name": "stderr",
     "output_type": "stream",
     "text": [
      "<>:1: SyntaxWarning: \"is\" with a literal. Did you mean \"==\"?\n",
      "<>:1: SyntaxWarning: \"is\" with a literal. Did you mean \"==\"?\n",
      "C:\\Users\\lenovo\\AppData\\Local\\Temp\\ipykernel_4160\\1915308071.py:1: SyntaxWarning: \"is\" with a literal. Did you mean \"==\"?\n",
      "  256 is 256\n"
     ]
    },
    {
     "data": {
      "text/plain": [
       "True"
      ]
     },
     "execution_count": 115,
     "metadata": {},
     "output_type": "execute_result"
    }
   ],
   "source": [
    "256 is 256"
   ]
  },
  {
   "cell_type": "code",
   "execution_count": 116,
   "id": "aad3c4eb",
   "metadata": {},
   "outputs": [
    {
     "data": {
      "text/plain": [
       "True"
      ]
     },
     "execution_count": 116,
     "metadata": {},
     "output_type": "execute_result"
    }
   ],
   "source": [
    "256 == 256"
   ]
  },
  {
   "cell_type": "code",
   "execution_count": 129,
   "id": "b837a8f8",
   "metadata": {},
   "outputs": [
    {
     "data": {
      "text/plain": [
       "False"
      ]
     },
     "execution_count": 129,
     "metadata": {},
     "output_type": "execute_result"
    }
   ],
   "source": [
    "a = -6\n",
    "b = -6\n",
    "a is b"
   ]
  },
  {
   "cell_type": "code",
   "execution_count": 130,
   "id": "9f9ed113",
   "metadata": {},
   "outputs": [
    {
     "data": {
      "text/plain": [
       "(2114292914640, 2114292914768)"
      ]
     },
     "execution_count": 130,
     "metadata": {},
     "output_type": "execute_result"
    }
   ],
   "source": [
    "id(a),id(b)"
   ]
  },
  {
   "cell_type": "code",
   "execution_count": 132,
   "id": "c02048b8",
   "metadata": {},
   "outputs": [
    {
     "data": {
      "text/plain": [
       "[12, 23, 45, 34, 56]"
      ]
     },
     "execution_count": 132,
     "metadata": {},
     "output_type": "execute_result"
    }
   ],
   "source": [
    "a = [12,23,45]\n",
    "a.extend([34,56])\n",
    "a"
   ]
  },
  {
   "cell_type": "code",
   "execution_count": 134,
   "id": "6f45c24b",
   "metadata": {},
   "outputs": [
    {
     "data": {
      "text/plain": [
       "[12, 23, 45, [34, 56]]"
      ]
     },
     "execution_count": 134,
     "metadata": {},
     "output_type": "execute_result"
    }
   ],
   "source": [
    "a = [12,23,45]\n",
    "a.append([34,56])\n",
    "a\n",
    "\n",
    "# we can also add multiple elements using append method also but the thing is we will get both elements in list"
   ]
  },
  {
   "cell_type": "code",
   "execution_count": 135,
   "id": "b5333a47",
   "metadata": {},
   "outputs": [],
   "source": [
    "import copy"
   ]
  },
  {
   "cell_type": "code",
   "execution_count": 140,
   "id": "07c2831b",
   "metadata": {},
   "outputs": [
    {
     "name": "stdout",
     "output_type": "stream",
     "text": [
      "[23, 45, 67, [34, 90]] [23, 45, 67, [34, 90]]\n"
     ]
    }
   ],
   "source": [
    "a = [23,45,67,[89,90]]\n",
    "b = a.copy()\n",
    "a[3][0] = 34\n",
    "print(a,b)\n",
    "\n",
    "# this is normal copy or shallow copy when we change the list it dont change orginal list"
   ]
  },
  {
   "cell_type": "code",
   "execution_count": 142,
   "id": "bf80f031",
   "metadata": {},
   "outputs": [
    {
     "name": "stdout",
     "output_type": "stream",
     "text": [
      "[23, 45, 67, [34, 90]] [23, 45, 67, [34, 90]]\n"
     ]
    }
   ],
   "source": [
    "a = [23,45,67,[89,90]]\n",
    "b = copy.copy(a)\n",
    "a[3][0] = 34\n",
    "print(a,b)\n",
    "\n",
    "# when we update in any of the list shallow copy updates in orginal and other list"
   ]
  },
  {
   "cell_type": "code",
   "execution_count": 144,
   "id": "27ea74ee",
   "metadata": {},
   "outputs": [
    {
     "name": "stdout",
     "output_type": "stream",
     "text": [
      "[23, 45, 67, [34, 90]] [23, 45, 67, [89, 90]]\n"
     ]
    }
   ],
   "source": [
    "a = [23,45,67,[89,90]]\n",
    "b = copy.deepcopy(a)\n",
    "a[3][0] = 34\n",
    "print(a,b)\n",
    "\n",
    "# when we update in list it updates only in orginal list it dont update in copy list"
   ]
  },
  {
   "cell_type": "code",
   "execution_count": null,
   "id": "8fce3716",
   "metadata": {},
   "outputs": [],
   "source": [
    "# for security reasons we use tuple instead of list as we dont want to change them"
   ]
  },
  {
   "cell_type": "code",
   "execution_count": 147,
   "id": "4a3c0eb6",
   "metadata": {},
   "outputs": [
    {
     "name": "stdout",
     "output_type": "stream",
     "text": [
      "23 45 56\n"
     ]
    }
   ],
   "source": [
    "a = (23,45,56)\n",
    "d,e,f = a\n",
    "print(d,e,f)\n",
    "\n",
    "# unpacking \n",
    "# only count and index are used in tuple"
   ]
  },
  {
   "cell_type": "code",
   "execution_count": 149,
   "id": "16b0b16b",
   "metadata": {},
   "outputs": [
    {
     "data": {
      "text/plain": [
       "{0: 0, 1: 1, 2: 4, 3: 9, 4: 16, 5: 25, 6: 36, 7: 49, 8: 64, 9: 81}"
      ]
     },
     "execution_count": 149,
     "metadata": {},
     "output_type": "execute_result"
    }
   ],
   "source": [
    "a = {x:x**2 for x in range(10)}\n",
    "a\n",
    "\n",
    "# dictionary comprehension"
   ]
  },
  {
   "cell_type": "code",
   "execution_count": 165,
   "id": "5ecc203a",
   "metadata": {},
   "outputs": [
    {
     "data": {
      "text/plain": [
       "['0 is even',\n",
       " '',\n",
       " '2 is even',\n",
       " '',\n",
       " '4 is even',\n",
       " '',\n",
       " '6 is even',\n",
       " '',\n",
       " '8 is even',\n",
       " '']"
      ]
     },
     "execution_count": 165,
     "metadata": {},
     "output_type": "execute_result"
    }
   ],
   "source": [
    "b = [f\"{i} is even\" if i % 2 == 0 else \"\" for i in range(10)]\n",
    "b"
   ]
  },
  {
   "cell_type": "code",
   "execution_count": 166,
   "id": "16f5ca48",
   "metadata": {},
   "outputs": [
    {
     "name": "stdout",
     "output_type": "stream",
     "text": [
      "\n",
      "\n"
     ]
    },
    {
     "ename": "IndexError",
     "evalue": "list index out of range",
     "output_type": "error",
     "traceback": [
      "\u001b[1;31m---------------------------------------------------------------------------\u001b[0m",
      "\u001b[1;31mIndexError\u001b[0m                                Traceback (most recent call last)",
      "Cell \u001b[1;32mIn[166], line 4\u001b[0m\n\u001b[0;32m      2\u001b[0m b \u001b[38;5;241m=\u001b[39m []\n\u001b[0;32m      3\u001b[0m \u001b[38;5;28;01mfor\u001b[39;00m i \u001b[38;5;129;01min\u001b[39;00m a:\n\u001b[1;32m----> 4\u001b[0m     \u001b[38;5;28;01mif\u001b[39;00m i \u001b[38;5;241m>\u001b[39m a[i]:\n\u001b[0;32m      5\u001b[0m         b\u001b[38;5;241m.\u001b[39mappend(i)\n\u001b[0;32m      6\u001b[0m         \u001b[38;5;28mprint\u001b[39m(b)\n",
      "\u001b[1;31mIndexError\u001b[0m: list index out of range"
     ]
    }
   ],
   "source": [
    "a = [1,2,34,56,78]\n",
    "for i in len(a):\n",
    "    b = \n",
    "    if \n",
    "        "
   ]
  },
  {
   "cell_type": "code",
   "execution_count": 174,
   "id": "61cc4cdb",
   "metadata": {},
   "outputs": [
    {
     "name": "stdout",
     "output_type": "stream",
     "text": [
      "[56, 78]\n"
     ]
    }
   ],
   "source": [
    "num = [1,23,45,56,78,4,5,6]\n",
    "b =[]\n",
    "for i in num:\n",
    "    if i % 2 == 0:\n",
    "        b.append(i)\n",
    "print(b)"
   ]
  },
  {
   "cell_type": "code",
   "execution_count": 1,
   "id": "c7089998",
   "metadata": {},
   "outputs": [],
   "source": [
    "# i need only even numbers    "
   ]
  },
  {
   "cell_type": "code",
   "execution_count": 2,
   "id": "85c35b70",
   "metadata": {},
   "outputs": [],
   "source": [
    "def number(a):\n",
    "    if a % 2 != 0:\n",
    "        return False\n",
    "    else:\n",
    "        return True\n",
    "nums = [12,34,54,55,66,77,89]\n",
    "    "
   ]
  },
  {
   "cell_type": "code",
   "execution_count": 3,
   "id": "427e4968",
   "metadata": {},
   "outputs": [
    {
     "data": {
      "text/plain": [
       "[12, 34, 54, 66]"
      ]
     },
     "execution_count": 3,
     "metadata": {},
     "output_type": "execute_result"
    }
   ],
   "source": [
    "list(filter(number,nums))"
   ]
  },
  {
   "cell_type": "code",
   "execution_count": 4,
   "id": "bf792784",
   "metadata": {},
   "outputs": [],
   "source": [
    "def number(a):\n",
    "    if a % 2 == 0:\n",
    "        return True\n",
    "    else:\n",
    "        return False\n",
    "nums = [12,34,54,55,66,77,89]\n",
    "    "
   ]
  },
  {
   "cell_type": "code",
   "execution_count": 5,
   "id": "92da460d",
   "metadata": {},
   "outputs": [
    {
     "data": {
      "text/plain": [
       "(12, 34, 54, 66)"
      ]
     },
     "execution_count": 5,
     "metadata": {},
     "output_type": "execute_result"
    }
   ],
   "source": [
    "tuple(filter(number,nums))"
   ]
  },
  {
   "cell_type": "code",
   "execution_count": 17,
   "id": "34763886",
   "metadata": {},
   "outputs": [
    {
     "name": "stdout",
     "output_type": "stream",
     "text": [
      "[23]\n",
      "[32, 44, 54, 94]\n",
      "[32, 44, 54, 94]\n",
      "[32, 44, 54, 94]\n",
      "[23, 77]\n",
      "[23, 77, 99]\n",
      "[23, 77, 99, 97]\n",
      "[32, 44, 54, 94]\n",
      "[23, 77, 99, 97, 999999]\n"
     ]
    }
   ],
   "source": [
    "a = [23,32,44,54,77,99,97,94,999999]\n",
    "even = []\n",
    "odd = []\n",
    "for i in a:\n",
    "    if i % 2 == 0:\n",
    "        even.append(i)\n",
    "        print(b)\n",
    "    else:\n",
    "        odd.append(i)\n",
    "        print(odd)\n",
    "        "
   ]
  },
  {
   "cell_type": "code",
   "execution_count": 18,
   "id": "a7183879",
   "metadata": {},
   "outputs": [
    {
     "name": "stdout",
     "output_type": "stream",
     "text": [
      " even numbers are :[32, 44, 54, 94]\n",
      " odd numbers are :[23, 77, 99, 97, 999999]\n"
     ]
    }
   ],
   "source": [
    "a = [23,32,44,54,77,99,97,94,999999]\n",
    "even = []\n",
    "odd = []\n",
    "for i in a:\n",
    "    if i % 2 == 0:\n",
    "        even.append(i)\n",
    "    else:\n",
    "        odd.append(i)\n",
    "print(f\" even numbers are :{even}\")\n",
    "print(f\" odd numbers are :{odd}\")"
   ]
  },
  {
   "cell_type": "code",
   "execution_count": 19,
   "id": "896e58cd",
   "metadata": {},
   "outputs": [],
   "source": [
    "def numbers(a,b):\n",
    "    return a+b\n",
    "\n",
    "c = [12,23,45,65]"
   ]
  },
  {
   "cell_type": "code",
   "execution_count": 22,
   "id": "beb74b25",
   "metadata": {},
   "outputs": [
    {
     "data": {
      "text/plain": [
       "145"
      ]
     },
     "execution_count": 22,
     "metadata": {},
     "output_type": "execute_result"
    }
   ],
   "source": [
    "reduce(numbers,c)"
   ]
  },
  {
   "cell_type": "code",
   "execution_count": 21,
   "id": "7ddbe8ca",
   "metadata": {},
   "outputs": [],
   "source": [
    "from functools import reduce"
   ]
  },
  {
   "cell_type": "code",
   "execution_count": null,
   "id": "8943fb91",
   "metadata": {},
   "outputs": [],
   "source": [
    "a = 10\n",
    "b = \n",
    "for i in a:\n",
    "    "
   ]
  },
  {
   "cell_type": "code",
   "execution_count": 24,
   "id": "349500be",
   "metadata": {},
   "outputs": [
    {
     "name": "stdout",
     "output_type": "stream",
     "text": [
      "composite\n"
     ]
    }
   ],
   "source": [
    "number = 19\n",
    "flag = False\n",
    "for i in range(1,number+1):\n",
    "    if number % i == 0:\n",
    "        flag = True\n",
    "        break\n",
    "if flag == False:\n",
    "    print(\"it is a prime\")\n",
    "else:\n",
    "    print(\"composite\")"
   ]
  },
  {
   "cell_type": "code",
   "execution_count": 29,
   "id": "2a6437d6",
   "metadata": {},
   "outputs": [
    {
     "name": "stdout",
     "output_type": "stream",
     "text": [
      "prime number\n"
     ]
    }
   ],
   "source": [
    "number = 19\n",
    "count = 0\n",
    "for i in range(1,number+1):\n",
    "    if number % i == 0:\n",
    "        count = count + 1\n",
    "if count == 2:\n",
    "    print(\"prime number\")"
   ]
  },
  {
   "cell_type": "code",
   "execution_count": 32,
   "id": "c2b4d9b9",
   "metadata": {},
   "outputs": [
    {
     "name": "stdout",
     "output_type": "stream",
     "text": [
      "enter a number :8\n",
      "composite\n"
     ]
    }
   ],
   "source": [
    "# manual number\n",
    "num = int(input(\"enter a number :\"))\n",
    "count = 0\n",
    "for i in range(1,num+1):\n",
    "    if num % i == 0:\n",
    "        count = count+1\n",
    "if count == 2:\n",
    "    print(\"prime\")\n",
    "else:\n",
    "    print(\"composite\")"
   ]
  },
  {
   "cell_type": "code",
   "execution_count": 48,
   "id": "ca7ba455",
   "metadata": {},
   "outputs": [],
   "source": [
    "primes = []\n",
    "composites = []\n",
    "for i in range(1,100):\n",
    "    count = 0\n",
    "    for j in range(1,i+1):\n",
    "        if i % j == 0:\n",
    "            count += 1\n",
    "    if count == 2:\n",
    "        primes.append(i)\n",
    "    else:\n",
    "        composites.append(i)"
   ]
  },
  {
   "cell_type": "code",
   "execution_count": 49,
   "id": "6f46a08e",
   "metadata": {},
   "outputs": [
    {
     "name": "stdout",
     "output_type": "stream",
     "text": [
      "[2, 3, 5, 7, 11, 13, 17, 19, 23, 29, 31, 37, 41, 43, 47, 53, 59, 61, 67, 71, 73, 79, 83, 89, 97]\n"
     ]
    }
   ],
   "source": [
    "print(primes)"
   ]
  },
  {
   "cell_type": "code",
   "execution_count": 50,
   "id": "c1e77500",
   "metadata": {},
   "outputs": [
    {
     "name": "stdout",
     "output_type": "stream",
     "text": [
      "[1, 4, 6, 8, 9, 10, 12, 14, 15, 16, 18, 20, 21, 22, 24, 25, 26, 27, 28, 30, 32, 33, 34, 35, 36, 38, 39, 40, 42, 44, 45, 46, 48, 49, 50, 51, 52, 54, 55, 56, 57, 58, 60, 62, 63, 64, 65, 66, 68, 69, 70, 72, 74, 75, 76, 77, 78, 80, 81, 82, 84, 85, 86, 87, 88, 90, 91, 92, 93, 94, 95, 96, 98, 99]\n"
     ]
    }
   ],
   "source": [
    "print(composites)"
   ]
  },
  {
   "cell_type": "code",
   "execution_count": 69,
   "id": "853a1729",
   "metadata": {},
   "outputs": [
    {
     "name": "stdout",
     "output_type": "stream",
     "text": [
      "[23]\n"
     ]
    }
   ],
   "source": [
    "a = [12,23,45,78,90,91]\n",
    "b = []\n",
    "for i in range(len(a)): #firstloop upto len(nums)\n",
    "    count = 0\n",
    "    for j in range(1,a[i]+1): #second loop upto the a[i]+1\n",
    "        if a[i] % j == 0: \n",
    "            count = count + 1\n",
    "    if count == 2: # when reaches 2 factors then print it\n",
    "        b.append(a[i])\n",
    "        \n",
    "print(b)\n",
    "        "
   ]
  },
  {
   "cell_type": "code",
   "execution_count": 71,
   "id": "09957d0d",
   "metadata": {},
   "outputs": [
    {
     "name": "stdout",
     "output_type": "stream",
     "text": [
      "5040\n"
     ]
    }
   ],
   "source": [
    "# Factorial\n",
    "\n",
    "number = 7\n",
    "fact = 1\n",
    "for i in range(1,number+1):\n",
    "    fact = fact * i\n",
    "print(fact)"
   ]
  },
  {
   "cell_type": "code",
   "execution_count": 73,
   "id": "67923d18",
   "metadata": {},
   "outputs": [
    {
     "data": {
      "text/plain": [
       "40320"
      ]
     },
     "execution_count": 73,
     "metadata": {},
     "output_type": "execute_result"
    }
   ],
   "source": [
    "def factorial(num):\n",
    "    if num == 0 or num == 1:\n",
    "        return 1\n",
    "    else:\n",
    "        return num * factorial(num-1)\n",
    "    \n",
    "factorial(8)"
   ]
  },
  {
   "cell_type": "code",
   "execution_count": 74,
   "id": "9549e26b",
   "metadata": {},
   "outputs": [
    {
     "data": {
      "text/plain": [
       "5040"
      ]
     },
     "execution_count": 74,
     "metadata": {},
     "output_type": "execute_result"
    }
   ],
   "source": [
    "def factorial(num):\n",
    "    return 1 if (num == 0) or (num ==1) else num*factorial(num-1)\n",
    "\n",
    "    #ternary operator\n",
    "\n",
    "factorial(7)"
   ]
  },
  {
   "cell_type": "code",
   "execution_count": 11,
   "id": "e5e24d1f",
   "metadata": {},
   "outputs": [
    {
     "ename": "SyntaxError",
     "evalue": "invalid syntax (4126730522.py, line 3)",
     "output_type": "error",
     "traceback": [
      "\u001b[1;36m  Cell \u001b[1;32mIn[11], line 3\u001b[1;36m\u001b[0m\n\u001b[1;33m    summ_digits = sum(int(i)**len(str(number))) for i in range(str(number))\u001b[0m\n\u001b[1;37m                                                ^\u001b[0m\n\u001b[1;31mSyntaxError\u001b[0m\u001b[1;31m:\u001b[0m invalid syntax\n"
     ]
    }
   ],
   "source": [
    "number = 153\n",
    "summ = 0\n",
    "summ_digits = sum(int(i)**len(str(number))) for i in range(str(number))\n",
    "if summ_digits == number:\n",
    "    print(\"armstrong\")"
   ]
  },
  {
   "cell_type": "code",
   "execution_count": null,
   "id": "f7d13649",
   "metadata": {},
   "outputs": [],
   "source": [
    "num = 153  # Change this number to test others\n",
    "sum_digits = sum(int(digit) ** len(str(num)) for digit in str(num))\n",
    "\n",
    "if sum_digits == num:\n",
    "    print(f\"{num} is an Armstrong number.\")\n",
    "else:\n",
    "    print(f\"{num} is not an Armstrong number.\")\n"
   ]
  },
  {
   "cell_type": "code",
   "execution_count": 72,
   "id": "e25f6552",
   "metadata": {},
   "outputs": [
    {
     "name": "stdout",
     "output_type": "stream",
     "text": [
      "29\n"
     ]
    }
   ],
   "source": [
    "number = 7\n",
    "count = 1\n",
    "for i in range(1,number+1):\n",
    "    count = count + i\n",
    "print(count)"
   ]
  },
  {
   "cell_type": "code",
   "execution_count": 75,
   "id": "db01bb6a",
   "metadata": {},
   "outputs": [
    {
     "name": "stdout",
     "output_type": "stream",
     "text": [
      "1\n",
      "2\n",
      "3\n",
      "5\n",
      "8\n",
      "13\n",
      "21\n",
      "34\n"
     ]
    }
   ],
   "source": [
    "n1 = 0\n",
    "n2 = 1\n",
    "for i in range(2,10):\n",
    "    n3 = n1+n2\n",
    "    print(n3)  # 3rd fibona ci num will be printed\n",
    "    n1 = n2 # n2 becomes n1\n",
    "    n2 = n3 # n3 becomes n2"
   ]
  },
  {
   "cell_type": "code",
   "execution_count": 79,
   "id": "af21e997",
   "metadata": {},
   "outputs": [
    {
     "name": "stdout",
     "output_type": "stream",
     "text": [
      "21\n"
     ]
    }
   ],
   "source": [
    "a = [1,2,3,4,5,6]\n",
    "summ = 0\n",
    "for i in range(len(a)):\n",
    "    summ = summ + a[i]\n",
    "print(summ)"
   ]
  },
  {
   "cell_type": "code",
   "execution_count": 81,
   "id": "5c071b30",
   "metadata": {},
   "outputs": [
    {
     "name": "stdout",
     "output_type": "stream",
     "text": [
      "566\n"
     ]
    }
   ],
   "source": [
    "# maximum number in the list\n",
    "\n",
    "\n",
    "arr = [12,34,2,1,343,566]\n",
    "maxx = arr[0]\n",
    "n = len(arr)\n",
    "for i in range(n):\n",
    "    if arr[i] > maxx:\n",
    "        maxx = arr[i]\n",
    "        \n",
    "print(maxx)"
   ]
  },
  {
   "cell_type": "code",
   "execution_count": 86,
   "id": "aa921eed",
   "metadata": {},
   "outputs": [
    {
     "name": "stdout",
     "output_type": "stream",
     "text": [
      "0\n"
     ]
    }
   ],
   "source": [
    "# minimum number\n",
    "\n",
    "a = [34,2,1,0,89,999]\n",
    "minn = a[0]\n",
    "n = len(a)\n",
    "\n",
    "for i in range(n):\n",
    "    if a[i] < minn:\n",
    "        minn = a[i]\n",
    "        \n",
    "print(minn)"
   ]
  },
  {
   "cell_type": "code",
   "execution_count": 87,
   "id": "e451d2ff",
   "metadata": {},
   "outputs": [
    {
     "name": "stdout",
     "output_type": "stream",
     "text": [
      "the length of list is  9\n"
     ]
    }
   ],
   "source": [
    "# length of the list\n",
    "\n",
    "b = [12,2,2,2,2,2,2,2,2]\n",
    "count = 0\n",
    "for i in b:\n",
    "    count = count+1\n",
    "print(\"the length of list is \",count)\n",
    "    "
   ]
  },
  {
   "cell_type": "code",
   "execution_count": 88,
   "id": "6fac2ab0",
   "metadata": {},
   "outputs": [
    {
     "data": {
      "text/plain": [
       "9"
      ]
     },
     "execution_count": 88,
     "metadata": {},
     "output_type": "execute_result"
    }
   ],
   "source": [
    "len(b)"
   ]
  },
  {
   "cell_type": "code",
   "execution_count": 89,
   "id": "89a2647b",
   "metadata": {},
   "outputs": [
    {
     "name": "stdout",
     "output_type": "stream",
     "text": [
      "[69, 23, 345, 56, 12]\n"
     ]
    }
   ],
   "source": [
    "# how to swap first and last element\n",
    "\n",
    "b = [12,23,345,56,69]\n",
    "\n",
    "d = len(b)\n",
    "\n",
    "temp = b[0]\n",
    "b[0] = b[d-1]\n",
    "b[d-1] = temp\n",
    "print(b)\n",
    "\n",
    "\n",
    "# using temperoray variable\n"
   ]
  },
  {
   "cell_type": "code",
   "execution_count": 91,
   "id": "c324d33d",
   "metadata": {},
   "outputs": [
    {
     "name": "stdout",
     "output_type": "stream",
     "text": [
      "[69, 23, 345, 56, 12]\n"
     ]
    }
   ],
   "source": [
    "b = [12,23,345,56,69]\n",
    "\n",
    "\n",
    "b[0],b[-1] = b[-1],b[0]\n",
    "\n",
    "print(b)"
   ]
  },
  {
   "cell_type": "code",
   "execution_count": 94,
   "id": "62ecff5b",
   "metadata": {},
   "outputs": [
    {
     "name": "stdout",
     "output_type": "stream",
     "text": [
      "[69, 23, 345, 56, 12]\n"
     ]
    }
   ],
   "source": [
    "b = [12,23,345,56,69]\n",
    "\n",
    "\n",
    "get = (b[-1],b[0])\n",
    "\n",
    "b[0],b[-1] = get\n",
    "\n",
    "print(b)\n",
    "\n",
    "# by using the tuple also we can do"
   ]
  },
  {
   "cell_type": "code",
   "execution_count": 99,
   "id": "56e2a6eb",
   "metadata": {},
   "outputs": [
    {
     "name": "stdout",
     "output_type": "stream",
     "text": [
      "[69, 34, 32, 89, 12]\n"
     ]
    }
   ],
   "source": [
    "# first second third\n",
    "\n",
    "mylist = [12,34,32,89,69]\n",
    "\n",
    "first,*second,last = mylist\n",
    "\n",
    "print([last,*second,first])\n",
    "\n",
    "# here multiple values for second variable *second"
   ]
  },
  {
   "cell_type": "code",
   "execution_count": 101,
   "id": "c22b61cb",
   "metadata": {},
   "outputs": [
    {
     "name": "stdout",
     "output_type": "stream",
     "text": [
      "[69, 34, 32, 89, 12]\n"
     ]
    }
   ],
   "source": [
    "# pop\n",
    "\n",
    "mylist = [12,34,32,89,69]\n",
    "\n",
    "a = mylist.pop(0)\n",
    "b = mylist.pop(-1)\n",
    "\n",
    "mylist.insert(0,b)\n",
    "mylist.append(a)\n",
    "\n",
    "print(mylist)"
   ]
  },
  {
   "cell_type": "code",
   "execution_count": 102,
   "id": "e907c928",
   "metadata": {},
   "outputs": [
    {
     "name": "stdout",
     "output_type": "stream",
     "text": [
      "[23, 2, 3, 45, 1]\n"
     ]
    }
   ],
   "source": [
    "## swapping numbers in a list\n",
    "\n",
    "a = [23,45,3,2,1]\n",
    "l1,l2 = 1,3\n",
    "a[l1],a[l2] = a[l2],a[l1]\n",
    "print(a)\n",
    "\n",
    "# swapped the elements based on indexes"
   ]
  },
  {
   "cell_type": "code",
   "execution_count": 105,
   "id": "190b29fa",
   "metadata": {},
   "outputs": [
    {
     "name": "stdout",
     "output_type": "stream",
     "text": [
      "[23, 2, 45, 3, 1]\n"
     ]
    }
   ],
   "source": [
    "a = [23,45,3,2,1]\n",
    "l1,l2 = 1,3\n",
    "first = a.pop(l1)\n",
    "second = a.pop(l2-1)\n",
    "a.insert(1,second)\n",
    "a.insert(2,first)\n",
    "print(a)\n",
    "\n",
    "# by using pop method also we can swap "
   ]
  },
  {
   "cell_type": "code",
   "execution_count": 106,
   "id": "a582a3f7",
   "metadata": {},
   "outputs": [
    {
     "name": "stdout",
     "output_type": "stream",
     "text": [
      "[23, 2, 3, 45, 1]\n"
     ]
    }
   ],
   "source": [
    "a = [23,45,3,2,1]\n",
    "l1,l2 = 1,3\n",
    "get = (a[l1],a[l2])\n",
    "\n",
    "a[l2],a[l1] = get\n",
    "print(a)"
   ]
  },
  {
   "cell_type": "code",
   "execution_count": 109,
   "id": "91e44494",
   "metadata": {},
   "outputs": [
    {
     "data": {
      "text/plain": [
       "{1, 2, 3, 4, 41}"
      ]
     },
     "execution_count": 109,
     "metadata": {},
     "output_type": "execute_result"
    }
   ],
   "source": [
    "# removing duplicates from the list\n",
    "\n",
    "c = [1,2,3,3,3,3,3,4,4,4,41,1,2]\n",
    "set(c)"
   ]
  },
  {
   "cell_type": "code",
   "execution_count": 112,
   "id": "1f6d0f91",
   "metadata": {},
   "outputs": [
    {
     "name": "stdout",
     "output_type": "stream",
     "text": [
      "[1, 2, 8, 3, 7, 4, 41]\n"
     ]
    }
   ],
   "source": [
    "d = []\n",
    "count = 0\n",
    "c = [1,2,8,3,8,7,3,3,3,3,4,4,4,41,1,2]\n",
    "\n",
    "for i in range(len(c)):\n",
    "    if c[i] not in d:\n",
    "        d.append(c[i])\n",
    "    elif c[i] in d:\n",
    "        count = count +1\n",
    "    elif count == 2:\n",
    "        break\n",
    "        \n",
    "print(d)\n",
    "        \n",
    "        \n",
    "        "
   ]
  },
  {
   "cell_type": "code",
   "execution_count": 116,
   "id": "b0a42c92",
   "metadata": {},
   "outputs": [
    {
     "name": "stdout",
     "output_type": "stream",
     "text": [
      "['hello', 'geeks', 'geeks', 'geeks']\n"
     ]
    }
   ],
   "source": [
    "words = [\"geeks\",\"hello\",\"geeks\",\"geeks\",\"geeks\"]\n",
    "\n",
    "comp = \"geeks\"\n",
    "e = []\n",
    "n = 1\n",
    "count = 0\n",
    "for i in range(len(words)-1):\n",
    "    if words[i] == comp:\n",
    "        count = count +1\n",
    "        if count == n:\n",
    "            del words[i]\n",
    "            \n",
    "print(words)\n",
    "    \n",
    "        \n",
    "        "
   ]
  },
  {
   "cell_type": "markdown",
   "id": "c7e7c189",
   "metadata": {},
   "source": [
    "# Searching an element in the list or not "
   ]
  },
  {
   "cell_type": "code",
   "execution_count": 133,
   "id": "95366db3",
   "metadata": {},
   "outputs": [
    {
     "name": "stdout",
     "output_type": "stream",
     "text": [
      "element found\n"
     ]
    }
   ],
   "source": [
    "ele = [12,34,4,5,6]\n",
    "num = 34\n",
    "for i in range(len(ele)):\n",
    "    if num in ele:\n",
    "        print(\"element found\")\n",
    "        break"
   ]
  },
  {
   "cell_type": "code",
   "execution_count": 132,
   "id": "872242e7",
   "metadata": {},
   "outputs": [
    {
     "name": "stdout",
     "output_type": "stream",
     "text": [
      "element found\n"
     ]
    }
   ],
   "source": [
    "ele = [12,34,4,5,6]\n",
    "num = 34\n",
    "flag = 0\n",
    "for i in range(len(ele)):\n",
    "    if ele[i] == num:\n",
    "        flag = 1\n",
    "        print(\"element found\")\n",
    "        break\n",
    "if flag == 0:\n",
    "    print(\"element not found\")"
   ]
  },
  {
   "cell_type": "code",
   "execution_count": 131,
   "id": "03e2b642",
   "metadata": {},
   "outputs": [
    {
     "name": "stdout",
     "output_type": "stream",
     "text": [
      "element found\n"
     ]
    }
   ],
   "source": [
    "ele = [12,34,4,5,6]\n",
    "num = 34\n",
    "flag = 0\n",
    "for i in range(len(ele)):\n",
    "    if num == ele[i]:\n",
    "        flag = 1\n",
    "        print(\"element found\")\n",
    "        break\n",
    "if flag == 0:\n",
    "    print(\"element not found\")"
   ]
  },
  {
   "cell_type": "markdown",
   "id": "dd1f23b5",
   "metadata": {},
   "source": [
    "# How to clear a list"
   ]
  },
  {
   "cell_type": "code",
   "execution_count": 139,
   "id": "7d8938b1",
   "metadata": {},
   "outputs": [
    {
     "name": "stdout",
     "output_type": "stream",
     "text": [
      "list before clearing [12, 2, 2, 34]\n",
      "list after clearing []\n"
     ]
    }
   ],
   "source": [
    "list1 = [12,2,2,34]\n",
    "print(\"list before clearing\",list1)\n",
    "list1.clear()\n",
    "print(\"list after clearing\",list1)"
   ]
  },
  {
   "cell_type": "code",
   "execution_count": 140,
   "id": "8d581ce4",
   "metadata": {},
   "outputs": [
    {
     "name": "stdout",
     "output_type": "stream",
     "text": [
      "list before clearing [12, 2, 2, 34]\n",
      "list after clearing []\n"
     ]
    }
   ],
   "source": [
    "# intialize empty list to the existing list\n",
    "\n",
    "\n",
    "list1 = [12,2,2,34]\n",
    "print(\"list before clearing\",list1)\n",
    "list1 = []\n",
    "print(\"list after clearing\",list1)"
   ]
  },
  {
   "cell_type": "code",
   "execution_count": 141,
   "id": "90e41f69",
   "metadata": {},
   "outputs": [
    {
     "name": "stdout",
     "output_type": "stream",
     "text": [
      "list before clearing [12, 2, 2, 34]\n",
      "list after clearing []\n"
     ]
    }
   ],
   "source": [
    "list1 = [12,2,2,34]\n",
    "print(\"list before clearing\",list1)\n",
    "list1 = list1 *0 #list1*=0\n",
    "print(\"list after clearing\",list1)"
   ]
  },
  {
   "cell_type": "code",
   "execution_count": 142,
   "id": "019da77e",
   "metadata": {},
   "outputs": [
    {
     "name": "stdout",
     "output_type": "stream",
     "text": [
      "list before clearing [12, 2, 2, 34]\n",
      "list after clearing []\n"
     ]
    }
   ],
   "source": [
    "list1 = [12,2,2,34]\n",
    "print(\"list before clearing\",list1)\n",
    "del list1[:] # deleteds from strt to end\n",
    "print(\"list after clearing\",list1)"
   ]
  },
  {
   "cell_type": "markdown",
   "id": "5fdb0d82",
   "metadata": {},
   "source": [
    "# How to reverse a list"
   ]
  },
  {
   "cell_type": "code",
   "execution_count": 145,
   "id": "f0de8a7f",
   "metadata": {},
   "outputs": [
    {
     "name": "stdout",
     "output_type": "stream",
     "text": [
      "list before reversing [12, 2, 29, 34, 69]\n",
      "list after reversing [69, 34, 29, 2, 12]\n"
     ]
    }
   ],
   "source": [
    "\n",
    "list1 = [12,2,29,34,69]\n",
    "print(\"list before reversing\",list1)\n",
    "list1.reverse()\n",
    "print(\"list after reversing\",list1)"
   ]
  },
  {
   "cell_type": "code",
   "execution_count": 147,
   "id": "d6df5203",
   "metadata": {},
   "outputs": [
    {
     "name": "stdout",
     "output_type": "stream",
     "text": [
      "list before reversing [12, 2, 29, 34, 69]\n",
      "list after reversing [69, 34, 29, 2, 12]\n"
     ]
    }
   ],
   "source": [
    "\n",
    "list1 = [12,2,29,34,69]\n",
    "print(\"list before reversing\",list1)\n",
    "list1 = list1[::-1]\n",
    "print(\"list after reversing\",list1)"
   ]
  },
  {
   "cell_type": "code",
   "execution_count": 244,
   "id": "1459e657",
   "metadata": {},
   "outputs": [
    {
     "name": "stdout",
     "output_type": "stream",
     "text": [
      "list before reversing [12, 2, 29, 34, 69]\n",
      "[69, 34, 29, 2, 12]\n"
     ]
    }
   ],
   "source": [
    "\n",
    "list1 = [12,2,29,34,69]\n",
    "print(\"list before reversing\",list1)\n",
    "list2 = []\n",
    "for i in range(len(list1)-1,-1,-1):\n",
    "    list2.append(list1[i])\n",
    "print(list2)"
   ]
  },
  {
   "cell_type": "code",
   "execution_count": 157,
   "id": "79c97f0f",
   "metadata": {},
   "outputs": [
    {
     "name": "stdout",
     "output_type": "stream",
     "text": [
      "list before reversing [12, 2, 29, 34, 69, 89, 90]\n",
      "[90, 89, 69, 34, 29, 2, 12]\n"
     ]
    }
   ],
   "source": [
    "# swapping middle\n",
    "list1 = [12,2,29,34,69,89,90]\n",
    "print(\"list before reversing\",list1)\n",
    "n = len(list1)\n",
    "for i in range((n//2)):\n",
    "    list1[i],list1[n-i-1]=list1[n-i-1],list1[i]\n",
    "print(list1)"
   ]
  },
  {
   "cell_type": "code",
   "execution_count": 162,
   "id": "be7b7a20",
   "metadata": {},
   "outputs": [
    {
     "name": "stdout",
     "output_type": "stream",
     "text": [
      "[90, 67, 34, 12]\n"
     ]
    }
   ],
   "source": [
    "def reverse_list(a,start,end,b):\n",
    "    if start>end:\n",
    "        return b\n",
    "    b.append(a[end])\n",
    "    return reverse_list(a,start,end-1,b)\n",
    "  \n",
    "    \n",
    "    \n",
    "a = [12,34,67,90]\n",
    "b = []\n",
    "b = reverse_list(a,0,len(a)-1,b)\n",
    "\n",
    "print(b)"
   ]
  },
  {
   "cell_type": "code",
   "execution_count": null,
   "id": "5dfd4fb3",
   "metadata": {},
   "outputs": [],
   "source": []
  },
  {
   "cell_type": "markdown",
   "id": "8bcb9a2d",
   "metadata": {},
   "source": [
    "# Copying the list"
   ]
  },
  {
   "cell_type": "code",
   "execution_count": 163,
   "id": "8641ecb0",
   "metadata": {},
   "outputs": [
    {
     "name": "stdout",
     "output_type": "stream",
     "text": [
      "[89, 98, 90, 96]\n"
     ]
    }
   ],
   "source": [
    "list2 = [89,98,90,96]\n",
    "list2_copy = list2[:]\n",
    "print(list2_copy)\n",
    "\n",
    "# by using slicing copy the elements"
   ]
  },
  {
   "cell_type": "code",
   "execution_count": 164,
   "id": "08437ea9",
   "metadata": {},
   "outputs": [
    {
     "data": {
      "text/plain": [
       "[89, 98, 90, 96]"
      ]
     },
     "execution_count": 164,
     "metadata": {},
     "output_type": "execute_result"
    }
   ],
   "source": [
    "# using extend\n",
    "\n",
    "list2 = [89,98,90,96]\n",
    "list2_copy = []\n",
    "list2_copy.extend(list2)\n",
    "list2_copy"
   ]
  },
  {
   "cell_type": "code",
   "execution_count": 165,
   "id": "86aef6b2",
   "metadata": {},
   "outputs": [
    {
     "data": {
      "text/plain": [
       "[89, 98, 90, 96]"
      ]
     },
     "execution_count": 165,
     "metadata": {},
     "output_type": "execute_result"
    }
   ],
   "source": [
    "# list method\n",
    "\n",
    "\n",
    "list2 = [89,98,90,96]\n",
    "list2_copy = list(list2)\n",
    "list2_copy"
   ]
  },
  {
   "cell_type": "code",
   "execution_count": 166,
   "id": "0d0d1825",
   "metadata": {},
   "outputs": [
    {
     "data": {
      "text/plain": [
       "[89, 98, 90, 96]"
      ]
     },
     "execution_count": 166,
     "metadata": {},
     "output_type": "execute_result"
    }
   ],
   "source": [
    "\n",
    "list2 = [89,98,90,96]\n",
    "list2_copy = list2.copy()\n",
    "list2_copy"
   ]
  },
  {
   "cell_type": "code",
   "execution_count": 167,
   "id": "ce9bf5d6",
   "metadata": {},
   "outputs": [
    {
     "data": {
      "text/plain": [
       "[89, 98, 90, 96]"
      ]
     },
     "execution_count": 167,
     "metadata": {},
     "output_type": "execute_result"
    }
   ],
   "source": [
    "\n",
    "list2 = [89,98,90,96]\n",
    "list2_copy = [i for i in list2]\n",
    "list2_copy"
   ]
  },
  {
   "cell_type": "markdown",
   "id": "d9922813",
   "metadata": {},
   "source": [
    "# count occurences of an element in list"
   ]
  },
  {
   "cell_type": "code",
   "execution_count": 193,
   "id": "ebba5480",
   "metadata": {},
   "outputs": [
    {
     "name": "stdout",
     "output_type": "stream",
     "text": [
      "2 repeated  6\n"
     ]
    }
   ],
   "source": [
    "list3 = [1,2,2,2,2,2,2,56,56,67,90]\n",
    "num = 2\n",
    "count = 0\n",
    "for i in list3:\n",
    "    if i == num:\n",
    "        count = count+1\n",
    "print(f\"{num} repeated \",count)"
   ]
  },
  {
   "cell_type": "code",
   "execution_count": 195,
   "id": "77cd7857",
   "metadata": {},
   "outputs": [
    {
     "data": {
      "text/plain": [
       "24"
      ]
     },
     "execution_count": 195,
     "metadata": {},
     "output_type": "execute_result"
    }
   ],
   "source": [
    "list3 = [1,2,2,2,2,2,2,2,2,2,2,2,2,2,2,2,2,2,2,2,2,2,2,2,2,256,56,67,90]\n",
    "num = 2\n",
    "list3.count(num)"
   ]
  },
  {
   "cell_type": "code",
   "execution_count": 197,
   "id": "f44e07ba",
   "metadata": {},
   "outputs": [
    {
     "data": {
      "text/plain": [
       "Counter({2: 9, 3: 6, 1: 5, 69: 1, 45: 1, 54: 1, 32: 1})"
      ]
     },
     "execution_count": 197,
     "metadata": {},
     "output_type": "execute_result"
    }
   ],
   "source": [
    "from collections import Counter\n",
    "\n",
    "list3 = [1,1,1,3,3,3,3,3,3,2,2,2,2,2,2,2,69,2,45,54,32,2,1,1]\n",
    "dic = Counter(list3)\n",
    "dic"
   ]
  },
  {
   "cell_type": "code",
   "execution_count": 201,
   "id": "2682772e",
   "metadata": {},
   "outputs": [
    {
     "name": "stdout",
     "output_type": "stream",
     "text": [
      "311\n"
     ]
    }
   ],
   "source": [
    "list1 = [12,34,233,32]\n",
    "summ = 0\n",
    "for i in range(len(list1)):\n",
    "    summ = summ+list1[i]\n",
    "print(summ)"
   ]
  },
  {
   "cell_type": "code",
   "execution_count": 202,
   "id": "a5da02c3",
   "metadata": {},
   "outputs": [
    {
     "data": {
      "text/plain": [
       "311"
      ]
     },
     "execution_count": 202,
     "metadata": {},
     "output_type": "execute_result"
    }
   ],
   "source": [
    "# method 2 \n",
    "\n",
    "sum(list1)"
   ]
  },
  {
   "cell_type": "code",
   "execution_count": null,
   "id": "69c02e19",
   "metadata": {},
   "outputs": [],
   "source": [
    "# Multiplication of the numbers in the list"
   ]
  },
  {
   "cell_type": "code",
   "execution_count": 203,
   "id": "7955fb3a",
   "metadata": {},
   "outputs": [
    {
     "name": "stdout",
     "output_type": "stream",
     "text": [
      "3628800\n"
     ]
    }
   ],
   "source": [
    "list2 = [1,2,3,4,5,6,7,8,9,10]\n",
    "mul = 1\n",
    "for i in range(len(list2)):\n",
    "    mul = mul * list2[i]\n",
    "print(mul)"
   ]
  },
  {
   "cell_type": "code",
   "execution_count": 204,
   "id": "96df4b6b",
   "metadata": {},
   "outputs": [
    {
     "data": {
      "text/plain": [
       "3628800"
      ]
     },
     "execution_count": 204,
     "metadata": {},
     "output_type": "execute_result"
    }
   ],
   "source": [
    "import numpy as np\n",
    "\n",
    "np.prod(list2)"
   ]
  },
  {
   "cell_type": "code",
   "execution_count": 206,
   "id": "b8be9775",
   "metadata": {},
   "outputs": [
    {
     "name": "stdout",
     "output_type": "stream",
     "text": [
      "12\n"
     ]
    }
   ],
   "source": [
    "# finding the smallest and largest numbers in list\n",
    "\n",
    "list3 = [12,100,30,400]\n",
    "minn = list3[0]\n",
    "n = len(list3)\n",
    "\n",
    "for i in range(n):\n",
    "    if list3[i] < minn:\n",
    "        minn = list3[i]\n",
    "        \n",
    "print(minn)"
   ]
  },
  {
   "cell_type": "code",
   "execution_count": 207,
   "id": "e3f6e444",
   "metadata": {},
   "outputs": [
    {
     "name": "stdout",
     "output_type": "stream",
     "text": [
      "690000\n"
     ]
    }
   ],
   "source": [
    "list4 = [1,2,0,20,20000,690000]\n",
    "maxx = list4[0]\n",
    "n = len(list4)\n",
    "\n",
    "for i in range(n):\n",
    "    if list4[i] > maxx:\n",
    "        maxx = list4[i]\n",
    "        \n",
    "print(maxx)"
   ]
  },
  {
   "cell_type": "code",
   "execution_count": 210,
   "id": "421f90d1",
   "metadata": {},
   "outputs": [
    {
     "name": "stdout",
     "output_type": "stream",
     "text": [
      "0 690000\n"
     ]
    }
   ],
   "source": [
    "list4.sort()\n",
    "print(list4[0],list4[-1])"
   ]
  },
  {
   "cell_type": "code",
   "execution_count": 211,
   "id": "2be63aff",
   "metadata": {},
   "outputs": [
    {
     "data": {
      "text/plain": [
       "0"
      ]
     },
     "execution_count": 211,
     "metadata": {},
     "output_type": "execute_result"
    }
   ],
   "source": [
    "min(list4)"
   ]
  },
  {
   "cell_type": "code",
   "execution_count": 212,
   "id": "221ed3e3",
   "metadata": {},
   "outputs": [
    {
     "data": {
      "text/plain": [
       "690000"
      ]
     },
     "execution_count": 212,
     "metadata": {},
     "output_type": "execute_result"
    }
   ],
   "source": [
    "max(list4)"
   ]
  },
  {
   "cell_type": "code",
   "execution_count": null,
   "id": "0fe4abf1",
   "metadata": {},
   "outputs": [],
   "source": [
    "# Second largest number"
   ]
  },
  {
   "cell_type": "code",
   "execution_count": 225,
   "id": "976d87dd",
   "metadata": {},
   "outputs": [],
   "source": [
    "l = [1,2,34,556]\n",
    "l.sort()"
   ]
  },
  {
   "cell_type": "code",
   "execution_count": 226,
   "id": "2de9a17f",
   "metadata": {},
   "outputs": [
    {
     "data": {
      "text/plain": [
       "34"
      ]
     },
     "execution_count": 226,
     "metadata": {},
     "output_type": "execute_result"
    }
   ],
   "source": [
    "l[-2]"
   ]
  },
  {
   "cell_type": "code",
   "execution_count": 227,
   "id": "25a1925d",
   "metadata": {},
   "outputs": [],
   "source": [
    "l = [12,34,56,89]\n",
    "l1 = set(l)"
   ]
  },
  {
   "cell_type": "code",
   "execution_count": 229,
   "id": "a1a95aff",
   "metadata": {},
   "outputs": [],
   "source": [
    "l1.remove(max(l1))"
   ]
  },
  {
   "cell_type": "code",
   "execution_count": 232,
   "id": "84f4bc48",
   "metadata": {},
   "outputs": [
    {
     "data": {
      "text/plain": [
       "56"
      ]
     },
     "execution_count": 232,
     "metadata": {},
     "output_type": "execute_result"
    }
   ],
   "source": [
    "max(l1)"
   ]
  },
  {
   "cell_type": "code",
   "execution_count": 239,
   "id": "fa1174e7",
   "metadata": {},
   "outputs": [
    {
     "name": "stdout",
     "output_type": "stream",
     "text": [
      "enter a string: racecar\n",
      "its a palindrome\n"
     ]
    }
   ],
   "source": [
    "a = input(\"enter a string: \")\n",
    "\n",
    "if a[::-1] == a:\n",
    "    print(\"its a palindrome\")\n",
    "else:\n",
    "    print(\"not a palindrome\")\n",
    "        \n"
   ]
  },
  {
   "cell_type": "code",
   "execution_count": 240,
   "id": "f9c24d39",
   "metadata": {},
   "outputs": [
    {
     "data": {
      "text/plain": [
       "['labs', 'fission', 'to', 'welcome', 'hello']"
      ]
     },
     "execution_count": 240,
     "metadata": {},
     "output_type": "execute_result"
    }
   ],
   "source": [
    "# reversing a string\n",
    "\n",
    "a = \"hello welcome to fission labs\"\n",
    "b = a.split(\" \")\n",
    "b[-1::-1]"
   ]
  },
  {
   "cell_type": "code",
   "execution_count": 250,
   "id": "b5781619",
   "metadata": {},
   "outputs": [
    {
     "name": "stdout",
     "output_type": "stream",
     "text": [
      "[0, 89, 34, 12]\n"
     ]
    }
   ],
   "source": [
    "a = [12,34,89,0]\n",
    "n = len(a)\n",
    "for i in range(len(a)//2):\n",
    "    a[i],a[n-i-1] = a[n-i-1],a[i]\n",
    "print(a)"
   ]
  },
  {
   "cell_type": "code",
   "execution_count": 253,
   "id": "9f285d34",
   "metadata": {},
   "outputs": [
    {
     "name": "stdout",
     "output_type": "stream",
     "text": [
      "11\n"
     ]
    }
   ],
   "source": [
    "# finding length of the string\n",
    "\n",
    "a = \"mississippi\"\n",
    "count = 0\n",
    "while  a[count:]:\n",
    "    count = count+1\n",
    "print(count)"
   ]
  },
  {
   "cell_type": "code",
   "execution_count": 9,
   "id": "381a238a",
   "metadata": {},
   "outputs": [
    {
     "data": {
      "text/plain": [
       "{1, 2, 4, 5, 11, 21, 32, 45, 2222}"
      ]
     },
     "execution_count": 9,
     "metadata": {},
     "output_type": "execute_result"
    }
   ],
   "source": [
    "a = {1,2,4,2,1,4,5,45,32,21,2222,11,1,1,1,1}\n",
    "a"
   ]
  },
  {
   "cell_type": "code",
   "execution_count": 10,
   "id": "773681af",
   "metadata": {},
   "outputs": [],
   "source": [
    "b = list(a)"
   ]
  },
  {
   "cell_type": "code",
   "execution_count": 12,
   "id": "817d980e",
   "metadata": {},
   "outputs": [
    {
     "data": {
      "text/plain": [
       "{1, 2, 4, 5, 11, 21, 32, 45, 2222}"
      ]
     },
     "execution_count": 12,
     "metadata": {},
     "output_type": "execute_result"
    }
   ],
   "source": [
    "b.sort()\n",
    "set(b)"
   ]
  },
  {
   "cell_type": "code",
   "execution_count": 18,
   "id": "d1d5da1d",
   "metadata": {},
   "outputs": [
    {
     "name": "stdout",
     "output_type": "stream",
     "text": [
      "enter a number:  89\n",
      "{0} fizzbuzz number\n",
      "{7} fizzbuzz number\n",
      "{14} fizzbuzz number\n",
      "{21} fizzbuzz number\n",
      "{28} fizzbuzz number\n",
      "{35} fizzbuzz number\n",
      "{42} fizzbuzz number\n",
      "{49} fizzbuzz number\n",
      "{56} fizzbuzz number\n",
      "{63} fizzbuzz number\n",
      "{70} fizzbuzz number\n",
      "{77} fizzbuzz number\n",
      "{84} fizzbuzz number\n"
     ]
    }
   ],
   "source": [
    "number = int(input(\"enter a number:  \"))\n",
    "for i in range(number+1):\n",
    "    if i % 7 == 0:\n",
    "        print({i},\"fizzbuzz number\")\n",
    "    else:\n",
    "        continue"
   ]
  },
  {
   "cell_type": "code",
   "execution_count": 21,
   "id": "cc6042c5",
   "metadata": {},
   "outputs": [
    {
     "name": "stdout",
     "output_type": "stream",
     "text": [
      "enter a number:  89\n",
      "{0} fizzbuzz number\n",
      "{7} fizzbuzz number\n",
      "{14} fizzbuzz number\n",
      "{21} fizzbuzz number\n",
      "{28} fizzbuzz number\n",
      "{35} fizzbuzz number\n",
      "{42} fizzbuzz number\n",
      "{49} fizzbuzz number\n",
      "{56} fizzbuzz number\n",
      "{63} fizzbuzz number\n",
      "{70} fizzbuzz number\n",
      "{77} fizzbuzz number\n",
      "{84} fizzbuzz number\n"
     ]
    }
   ],
   "source": [
    "number = int(input(\"enter a number:  \"))\n",
    "for i in range(number+1):\n",
    "    if i % 7 == 0:\n",
    "        print({i},\"fizzbuzz number\")\n",
    "    else:\n",
    "        pass"
   ]
  },
  {
   "cell_type": "code",
   "execution_count": 22,
   "id": "c297603a",
   "metadata": {},
   "outputs": [
    {
     "name": "stdout",
     "output_type": "stream",
     "text": [
      "Animals make sounds\n",
      "Dog barks\n"
     ]
    }
   ],
   "source": [
    "# Parent class\n",
    "class Animal:\n",
    "    def speak(self):\n",
    "        print(\"Animals make sounds\")\n",
    "\n",
    "# Child class inheriting from Animal\n",
    "class Dog(Animal):\n",
    "    def bark(self):\n",
    "        print(\"Dog barks\")\n",
    "\n",
    "# Creating an object of Dog\n",
    "d = Dog()\n",
    "d.speak()  # Inherited method\n",
    "d.bark()   # Child class method\n"
   ]
  },
  {
   "cell_type": "code",
   "execution_count": 26,
   "id": "3e0276d1",
   "metadata": {},
   "outputs": [
    {
     "name": "stdout",
     "output_type": "stream",
     "text": [
      "Humans speaks\n",
      "Dog barks\n",
      "Animals make sounds\n"
     ]
    }
   ],
   "source": [
    "# Parent class\n",
    "class Animal:\n",
    "    def speak(self):\n",
    "        print(\"Animals make sounds\")\n",
    "class Human:\n",
    "    def speaks(self):\n",
    "        print(\"Humans speaks\")        \n",
    "\n",
    "\n",
    "# Child class inheriting from Animal\n",
    "class Dog(Animal,Human):\n",
    "    def bark(self):\n",
    "        print(\"Dog barks\")\n",
    "\n",
    "# Creating an object of Dog\n",
    "d = Dog()\n",
    "d.speaks()  # Inherited method\n",
    "d.bark()# Child class method\n",
    "d.speak()"
   ]
  },
  {
   "cell_type": "code",
   "execution_count": 30,
   "id": "63e6225d",
   "metadata": {},
   "outputs": [
    {
     "name": "stdout",
     "output_type": "stream",
     "text": [
      "List is mutable ordered duplicates allows\n",
      "we use at the time of how many we need\n",
      "bubble sort is very easy\n"
     ]
    }
   ],
   "source": [
    "class python:\n",
    "    def List(self):\n",
    "        print(\"List is mutable ordered duplicates allows\")\n",
    "\n",
    "class sql(python):\n",
    "    def limit(self):\n",
    "        print(\"we use at the time of how many we need\")\n",
    "\n",
    "class dsa(sql):\n",
    "    def bubble(self):\n",
    "        print(\"bubble sort is very easy\")\n",
    "        \n",
    "        \n",
    "hari = dsa()\n",
    "hari.List()\n",
    "hari.limit()\n",
    "hari.bubble()"
   ]
  },
  {
   "cell_type": "code",
   "execution_count": null,
   "id": "516a921b",
   "metadata": {},
   "outputs": [],
   "source": []
  }
 ],
 "metadata": {
  "kernelspec": {
   "display_name": "Python 3 (ipykernel)",
   "language": "python",
   "name": "python3"
  },
  "language_info": {
   "codemirror_mode": {
    "name": "ipython",
    "version": 3
   },
   "file_extension": ".py",
   "mimetype": "text/x-python",
   "name": "python",
   "nbconvert_exporter": "python",
   "pygments_lexer": "ipython3",
   "version": "3.11.5"
  }
 },
 "nbformat": 4,
 "nbformat_minor": 5
}
