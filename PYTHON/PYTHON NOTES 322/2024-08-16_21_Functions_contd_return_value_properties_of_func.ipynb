{
 "cells": [
  {
   "cell_type": "markdown",
   "metadata": {},
   "source": [
    "### Function definition\n",
    "- A function contains a header and body. The header begins with the def keyword, followed by the function’s name and parameters, and ends with a colon."
   ]
  },
  {
   "cell_type": "markdown",
   "metadata": {},
   "source": [
    "#### If a function does not return a value, the call to the function must be a statement. For example, the print function does not return a value. The following call is a statement:\n",
    "\n",
    "    print(\"Programming is fun!\")"
   ]
  },
  {
   "cell_type": "code",
   "execution_count": 1,
   "metadata": {},
   "outputs": [
    {
     "name": "stdout",
     "output_type": "stream",
     "text": [
      "Programming is fun!\n",
      "Programming is fun!\n"
     ]
    },
    {
     "data": {
      "text/plain": [
       "NoneType"
      ]
     },
     "execution_count": 1,
     "metadata": {},
     "output_type": "execute_result"
    }
   ],
   "source": [
    "def just_print():\n",
    "    print(\"Programming is fun!\")\n",
    "\n",
    "just_print()\n",
    "type(just_print())"
   ]
  },
  {
   "cell_type": "code",
   "execution_count": null,
   "metadata": {},
   "outputs": [],
   "source": []
  },
  {
   "cell_type": "markdown",
   "metadata": {},
   "source": [
    "**Note : When a program calls a function, program control is transferred to the called function. A called function returns control to the caller when its return statement is executed or the function is finished.**"
   ]
  },
  {
   "cell_type": "markdown",
   "metadata": {},
   "source": [
    "![image.png](larger.png)"
   ]
  },
  {
   "cell_type": "code",
   "execution_count": 2,
   "metadata": {},
   "outputs": [],
   "source": [
    "### Min of 3 numbers"
   ]
  },
  {
   "cell_type": "code",
   "execution_count": 3,
   "metadata": {},
   "outputs": [
    {
     "data": {
      "text/plain": [
       "4"
      ]
     },
     "execution_count": 3,
     "metadata": {},
     "output_type": "execute_result"
    }
   ],
   "source": [
    "def min_of_3_nos(num1, num2, num3):\n",
    "    comparision_no = num1\n",
    "    if comparision_no > num2:\n",
    "        comparision_no = num2\n",
    "    if comparision_no > num3:\n",
    "        comparision_no = num3\n",
    "    return comparision_no\n",
    "\n",
    "min_of_3_nos(16,8,4)"
   ]
  },
  {
   "cell_type": "code",
   "execution_count": 4,
   "metadata": {},
   "outputs": [
    {
     "name": "stdin",
     "output_type": "stream",
     "text": [
      "Enter Number 1: 32\n",
      "Enter Number 2: 12\n",
      "Enter Number 3: 55\n"
     ]
    },
    {
     "name": "stdout",
     "output_type": "stream",
     "text": [
      "The minimum of 3 nos (32, 12, 55) is:  12\n"
     ]
    }
   ],
   "source": [
    "def min_of_3_nos(num1, num2, num3):    ###### Second Function DEFINITION\n",
    "    comparision_no = num1\n",
    "    if comparision_no > num2:\n",
    "        comparision_no = num2\n",
    "    if comparision_no > num3:\n",
    "        comparision_no = num3\n",
    "    return comparision_no\n",
    "\n",
    "def enter_number():   ###### First Funcion DEFINITION\n",
    "    number1 = int(input(F\"Enter Number 1:\"))\n",
    "    number2 = int(input(F\"Enter Number 2:\"))\n",
    "    number3 = int(input(F\"Enter Number 3:\"))\n",
    "    minimum_of_the_3 = min_of_3_nos(number1, number2, number3)   ##### Second Function CALLING\n",
    "    print(f\"The minimum of 3 nos {number1,number2,number3} is: \", minimum_of_the_3)\n",
    "\n",
    "enter_number()   ###### First Function CALLING"
   ]
  },
  {
   "cell_type": "code",
   "execution_count": null,
   "metadata": {},
   "outputs": [],
   "source": []
  },
  {
   "cell_type": "markdown",
   "metadata": {},
   "source": [
    "### Functions with/without Return Values\n",
    "- This section shows how to define and invoke a function that does not return a value. Such a function is commonly known as a void function in programming terminology"
   ]
  },
  {
   "cell_type": "code",
   "execution_count": 5,
   "metadata": {},
   "outputs": [],
   "source": [
    "# function with retun values"
   ]
  },
  {
   "cell_type": "code",
   "execution_count": 6,
   "metadata": {},
   "outputs": [
    {
     "name": "stdout",
     "output_type": "stream",
     "text": [
      "804\n",
      "<class 'int'>\n"
     ]
    }
   ],
   "source": [
    "def multiply(num1, num2):\n",
    "    return num1 * num2\n",
    "\n",
    "print(multiply(67,12))\n",
    "print(type(multiply(67,12)))"
   ]
  },
  {
   "cell_type": "code",
   "execution_count": null,
   "metadata": {},
   "outputs": [],
   "source": []
  },
  {
   "cell_type": "code",
   "execution_count": 7,
   "metadata": {},
   "outputs": [],
   "source": [
    "# function without retun values"
   ]
  },
  {
   "cell_type": "code",
   "execution_count": 8,
   "metadata": {},
   "outputs": [
    {
     "name": "stdout",
     "output_type": "stream",
     "text": [
      "804\n",
      "None\n",
      "804\n",
      "<class 'NoneType'>\n"
     ]
    }
   ],
   "source": [
    "def multiply(num1, num2):\n",
    "    print( num1 * num2 )\n",
    "\n",
    "print(multiply(67,12))\n",
    "print(type(multiply(67,12)))"
   ]
  },
  {
   "cell_type": "code",
   "execution_count": null,
   "metadata": {},
   "outputs": [],
   "source": []
  },
  {
   "cell_type": "markdown",
   "metadata": {},
   "source": [
    "### Note 1:\n",
    "Technically, every function in Python returns a value whether you use return or not. If a function does not return a value, by default, it returns a special value `None`. For this reason, a function that does not return a value is also called a None function. The None value can be assigned to a variable to indicate that the variable does not reference any object. For example, if you run the following program, you will see the output is None, because the sum function does not have a return statement. By default, it returns None."
   ]
  },
  {
   "cell_type": "code",
   "execution_count": 9,
   "metadata": {},
   "outputs": [],
   "source": [
    "# example sum function"
   ]
  },
  {
   "cell_type": "code",
   "execution_count": 10,
   "metadata": {},
   "outputs": [
    {
     "data": {
      "text/plain": [
       "NoneType"
      ]
     },
     "execution_count": 10,
     "metadata": {},
     "output_type": "execute_result"
    }
   ],
   "source": [
    "def summation(num1, num2, num3):\n",
    "    sum = num1 + num2 + num3\n",
    "    return None\n",
    "\n",
    "type(summation(6,32,12))"
   ]
  },
  {
   "cell_type": "code",
   "execution_count": null,
   "metadata": {},
   "outputs": [],
   "source": []
  },
  {
   "cell_type": "markdown",
   "metadata": {},
   "source": [
    "### Note 2:\n",
    "A return statement is not needed for a None function, but it can be used for terminating the function and returning control to the function’s caller. The syntax is simply\n",
    "\n",
    "**return** (or)\n",
    "\n",
    "**return None**\n",
    "\n",
    "This is rarely used, but it is sometimes useful for circumventing the normal flow of control in a function that does not return any value. For example, the following code has a return statement to terminate the function when the score is invalid."
   ]
  },
  {
   "cell_type": "code",
   "execution_count": 11,
   "metadata": {},
   "outputs": [
    {
     "data": {
      "text/plain": [
       "NoneType"
      ]
     },
     "execution_count": 11,
     "metadata": {},
     "output_type": "execute_result"
    }
   ],
   "source": [
    "def summation(num1, num2, num3):\n",
    "    sum = num1 + num2 + num3\n",
    "    return   #### both return None and return are ONE and the SAME thing\n",
    "\n",
    "type(summation(6,32,12))"
   ]
  },
  {
   "cell_type": "markdown",
   "metadata": {},
   "source": [
    "### A real-time example"
   ]
  },
  {
   "cell_type": "code",
   "execution_count": 12,
   "metadata": {},
   "outputs": [],
   "source": [
    "### Grades for Marks"
   ]
  },
  {
   "cell_type": "code",
   "execution_count": 27,
   "metadata": {},
   "outputs": [],
   "source": [
    "def grades(marks):\n",
    "    if marks > 100 or marks < 0:\n",
    "        print(\"Invalid Marks entered\")\n",
    "        return None\n",
    "    if marks >= 90:\n",
    "        return \"A\"\n",
    "    elif marks >= 80:\n",
    "        return \"B\"\n",
    "    elif marks >= 70:\n",
    "        return \"C\"\n",
    "    elif marks >= 40:\n",
    "        return \"D\"\n",
    "    else:\n",
    "        return \"Failed\""
   ]
  },
  {
   "cell_type": "code",
   "execution_count": 30,
   "metadata": {},
   "outputs": [
    {
     "name": "stdout",
     "output_type": "stream",
     "text": [
      "Invalid Marks entered\n"
     ]
    },
    {
     "data": {
      "text/plain": [
       "NoneType"
      ]
     },
     "execution_count": 30,
     "metadata": {},
     "output_type": "execute_result"
    }
   ],
   "source": [
    "type(grades(178))"
   ]
  },
  {
   "cell_type": "code",
   "execution_count": 31,
   "metadata": {},
   "outputs": [
    {
     "data": {
      "text/plain": [
       "str"
      ]
     },
     "execution_count": 31,
     "metadata": {},
     "output_type": "execute_result"
    }
   ],
   "source": [
    "type(grades(78))"
   ]
  },
  {
   "cell_type": "markdown",
   "metadata": {},
   "source": [
    "### Note 3:\n",
    "In Python, functions can be treated as first-class data objects. A function can be assigned to a variable, passed as arguments to other functions, returned as the values of other functions, and stored in data structures such as lists and dictionaries."
   ]
  },
  {
   "cell_type": "code",
   "execution_count": 13,
   "metadata": {},
   "outputs": [],
   "source": [
    "# A function can be assigned to a variable"
   ]
  },
  {
   "cell_type": "code",
   "execution_count": 34,
   "metadata": {},
   "outputs": [
    {
     "data": {
      "text/plain": [
       "'Failed'"
      ]
     },
     "execution_count": 34,
     "metadata": {},
     "output_type": "execute_result"
    }
   ],
   "source": [
    "some_variable_storing_func = grades ### USER DEFINED FUNCTION\n",
    "some_variable_storing_func(12)"
   ]
  },
  {
   "cell_type": "code",
   "execution_count": 1,
   "metadata": {},
   "outputs": [],
   "source": [
    "import math"
   ]
  },
  {
   "cell_type": "code",
   "execution_count": 37,
   "metadata": {},
   "outputs": [
    {
     "data": {
      "text/plain": [
       "8"
      ]
     },
     "execution_count": 37,
     "metadata": {},
     "output_type": "execute_result"
    }
   ],
   "source": [
    "ceiling_var = math.ceil(7.8)   ### PREDEFINED FUNCTION/METHOD\n",
    "ceiling_var"
   ]
  },
  {
   "cell_type": "code",
   "execution_count": 14,
   "metadata": {},
   "outputs": [],
   "source": [
    "# A function can be passed as arguments to other functions"
   ]
  },
  {
   "cell_type": "code",
   "execution_count": 38,
   "metadata": {},
   "outputs": [
    {
     "data": {
      "text/plain": [
       "6.0"
      ]
     },
     "execution_count": 38,
     "metadata": {},
     "output_type": "execute_result"
    }
   ],
   "source": [
    "def square_root_function(function, number):\n",
    "    return function(number)\n",
    "\n",
    "square_root_function(math.sqrt, 36)"
   ]
  },
  {
   "cell_type": "code",
   "execution_count": null,
   "metadata": {},
   "outputs": [],
   "source": []
  },
  {
   "cell_type": "code",
   "execution_count": null,
   "metadata": {},
   "outputs": [],
   "source": []
  },
  {
   "cell_type": "code",
   "execution_count": 15,
   "metadata": {},
   "outputs": [],
   "source": [
    "# A function can be returned as the values of other functions"
   ]
  },
  {
   "cell_type": "code",
   "execution_count": 47,
   "metadata": {},
   "outputs": [
    {
     "name": "stdout",
     "output_type": "stream",
     "text": [
      "**\n",
      "Inside the second FUNCTION\n",
      "540\n"
     ]
    }
   ],
   "source": [
    "def multiplication(number1):\n",
    "    print(\"**\")\n",
    "    def multiplication_factor(number2):\n",
    "        print(\"Inside the second FUNCTION\")\n",
    "        return number1 * number2\n",
    "    return multiplication_factor\n",
    "\n",
    "print(multiplication(12)(45))"
   ]
  },
  {
   "cell_type": "code",
   "execution_count": null,
   "metadata": {},
   "outputs": [],
   "source": []
  },
  {
   "cell_type": "code",
   "execution_count": null,
   "metadata": {},
   "outputs": [],
   "source": []
  },
  {
   "cell_type": "code",
   "execution_count": 16,
   "metadata": {},
   "outputs": [],
   "source": [
    "# A function can be stored in data structures such as lists and dictionaries"
   ]
  },
  {
   "cell_type": "code",
   "execution_count": 17,
   "metadata": {},
   "outputs": [],
   "source": [
    "# USING LISTS"
   ]
  },
  {
   "cell_type": "code",
   "execution_count": 51,
   "metadata": {},
   "outputs": [
    {
     "data": {
      "text/plain": [
       "function"
      ]
     },
     "execution_count": 51,
     "metadata": {},
     "output_type": "execute_result"
    }
   ],
   "source": [
    "list_of_func = [54,12,\"saomya\",True, multiplication, grades, math.ceil, enter_number, len]\n",
    "type(list_of_func[-2])"
   ]
  },
  {
   "cell_type": "code",
   "execution_count": 52,
   "metadata": {},
   "outputs": [
    {
     "name": "stdin",
     "output_type": "stream",
     "text": [
      "Enter Number 1: 56\n",
      "Enter Number 2: 12\n",
      "Enter Number 3: 98\n"
     ]
    },
    {
     "name": "stdout",
     "output_type": "stream",
     "text": [
      "The minimum of 3 nos (56, 12, 98) is:  12\n"
     ]
    }
   ],
   "source": [
    "list_of_func[-2]()  ### minimum of 3 nos"
   ]
  },
  {
   "cell_type": "code",
   "execution_count": 53,
   "metadata": {},
   "outputs": [
    {
     "name": "stdout",
     "output_type": "stream",
     "text": [
      "**\n",
      "Inside the second FUNCTION\n"
     ]
    },
    {
     "data": {
      "text/plain": [
       "4872"
      ]
     },
     "execution_count": 53,
     "metadata": {},
     "output_type": "execute_result"
    }
   ],
   "source": [
    "list_of_func[4](56)(87)  ### multiplication"
   ]
  },
  {
   "cell_type": "code",
   "execution_count": 55,
   "metadata": {},
   "outputs": [
    {
     "data": {
      "text/plain": [
       "456"
      ]
     },
     "execution_count": 55,
     "metadata": {},
     "output_type": "execute_result"
    }
   ],
   "source": [
    "list_of_func[-3](455.123)  ### ceiling value"
   ]
  },
  {
   "cell_type": "code",
   "execution_count": 18,
   "metadata": {},
   "outputs": [],
   "source": [
    "# USING DICTIONARY"
   ]
  },
  {
   "cell_type": "code",
   "execution_count": 56,
   "metadata": {},
   "outputs": [
    {
     "data": {
      "text/plain": [
       "{'multiplication': <function __main__.multiplication(number1)>,\n",
       " 'grades': <function __main__.grades(marks)>,\n",
       " 'ceiling': <function math.ceil(x, /)>,\n",
       " 'min_of_3_nos': <function __main__.enter_number()>,\n",
       " 'length function': <function len(obj, /)>}"
      ]
     },
     "execution_count": 56,
     "metadata": {},
     "output_type": "execute_result"
    }
   ],
   "source": [
    "dict_of_func = {\"multiplication\": multiplication, \n",
    "                \"grades\": grades, \n",
    "                \"ceiling\": math.ceil, \n",
    "                \"min_of_3_nos\": enter_number, \n",
    "                \"length function\": len}\n",
    "dict_of_func"
   ]
  },
  {
   "cell_type": "code",
   "execution_count": 58,
   "metadata": {},
   "outputs": [
    {
     "data": {
      "text/plain": [
       "16"
      ]
     },
     "execution_count": 58,
     "metadata": {},
     "output_type": "execute_result"
    }
   ],
   "source": [
    "dict_of_func[\"length function\"](\"saomya chaudhury\")"
   ]
  },
  {
   "cell_type": "code",
   "execution_count": null,
   "metadata": {},
   "outputs": [],
   "source": []
  }
 ],
 "metadata": {
  "kernelspec": {
   "display_name": "Python 3 (ipykernel)",
   "language": "python",
   "name": "python3"
  },
  "language_info": {
   "codemirror_mode": {
    "name": "ipython",
    "version": 3
   },
   "file_extension": ".py",
   "mimetype": "text/x-python",
   "name": "python",
   "nbconvert_exporter": "python",
   "pygments_lexer": "ipython3",
   "version": "3.11.5"
  }
 },
 "nbformat": 4,
 "nbformat_minor": 4
}
