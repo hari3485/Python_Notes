{
 "cells": [
  {
   "cell_type": "markdown",
   "id": "40c2c6d5",
   "metadata": {},
   "source": [
    "#### 1.Create a 1D array using arange().\n",
    "   - Use the flip() function to reverse the order of elements in a 1D array.\n",
    "   - Achieve the same above output without using flip().\n"
   ]
  },
  {
   "cell_type": "code",
   "execution_count": 1,
   "id": "abfb50d4",
   "metadata": {},
   "outputs": [],
   "source": [
    "import numpy as np"
   ]
  },
  {
   "cell_type": "code",
   "execution_count": 4,
   "id": "f14f3f1c",
   "metadata": {},
   "outputs": [
    {
     "data": {
      "text/plain": [
       "array([1, 2, 3, 4, 5])"
      ]
     },
     "execution_count": 4,
     "metadata": {},
     "output_type": "execute_result"
    }
   ],
   "source": [
    "arr = np.array([1,2,3,4,5])\n",
    "arr"
   ]
  },
  {
   "cell_type": "code",
   "execution_count": 6,
   "id": "29cc1592",
   "metadata": {},
   "outputs": [
    {
     "data": {
      "text/plain": [
       "array([5, 4, 3, 2, 1])"
      ]
     },
     "execution_count": 6,
     "metadata": {},
     "output_type": "execute_result"
    }
   ],
   "source": [
    "# With using flip()function\n",
    "reverse_arr=np.flip(arr)\n",
    "reverse_arr"
   ]
  },
  {
   "cell_type": "code",
   "execution_count": 8,
   "id": "8f38c59d",
   "metadata": {},
   "outputs": [
    {
     "data": {
      "text/plain": [
       "array([5, 4, 3, 2, 1])"
      ]
     },
     "execution_count": 8,
     "metadata": {},
     "output_type": "execute_result"
    }
   ],
   "source": [
    "# Without using flip function\n",
    "### Start = (At last); Stop = (At Beginning); Step = -VE 1 Step  at a time.\n",
    "arr[::-1] "
   ]
  },
  {
   "cell_type": "code",
   "execution_count": 9,
   "id": "9da1d710",
   "metadata": {},
   "outputs": [
    {
     "data": {
      "text/plain": [
       "array([5, 4, 3, 2, 1])"
      ]
     },
     "execution_count": 9,
     "metadata": {},
     "output_type": "execute_result"
    }
   ],
   "source": [
    "arr[len(arr)::-1]"
   ]
  },
  {
   "cell_type": "code",
   "execution_count": 14,
   "id": "b98ca495",
   "metadata": {},
   "outputs": [
    {
     "data": {
      "text/plain": [
       "array([5, 4, 3, 2, 1])"
      ]
     },
     "execution_count": 14,
     "metadata": {},
     "output_type": "execute_result"
    }
   ],
   "source": [
    "### START = -1; END = -7; STEP = BACKWARD STEP OF 1 (OR -1 STEPS AT A TIME)\n",
    "arr[-1:-7:-1]"
   ]
  },
  {
   "cell_type": "markdown",
   "id": "b31d8866",
   "metadata": {},
   "source": [
    "b. \n",
    "- Create a boolean array indicating which elements of the above 1D array are greater than 3.\n",
    "- Replace all even numbers in the array with -1\n"
   ]
  },
  {
   "cell_type": "code",
   "execution_count": 17,
   "id": "ec480dc4",
   "metadata": {},
   "outputs": [
    {
     "data": {
      "text/plain": [
       "array([1, 2, 3, 4, 5])"
      ]
     },
     "execution_count": 17,
     "metadata": {},
     "output_type": "execute_result"
    }
   ],
   "source": [
    "arr = np.array([1,2,3,4,5])\n",
    "arr"
   ]
  },
  {
   "cell_type": "code",
   "execution_count": 18,
   "id": "213f2994",
   "metadata": {},
   "outputs": [
    {
     "data": {
      "text/plain": [
       "array([False, False, False,  True,  True])"
      ]
     },
     "execution_count": 18,
     "metadata": {},
     "output_type": "execute_result"
    }
   ],
   "source": [
    "Greater_3 = arr > 3\n",
    "Greater_3"
   ]
  },
  {
   "cell_type": "code",
   "execution_count": 21,
   "id": "3b0f198e",
   "metadata": {},
   "outputs": [
    {
     "data": {
      "text/plain": [
       "array([ 1, -1,  3, -1,  5])"
      ]
     },
     "execution_count": 21,
     "metadata": {},
     "output_type": "execute_result"
    }
   ],
   "source": [
    "# Replacing all even numbers with -1\n",
    "arr_negative = np.where(arr % 2 == 0, -1,arr)\n",
    "arr_negative"
   ]
  },
  {
   "cell_type": "markdown",
   "id": "d1b5d9d5",
   "metadata": {},
   "source": [
    "#### 2.a. Generate a 2D array with random elements. \n",
    "   - Transpose the array.\n",
    "   - Flatten the array \n"
   ]
  },
  {
   "cell_type": "code",
   "execution_count": 22,
   "id": "3c8b972b",
   "metadata": {},
   "outputs": [
    {
     "data": {
      "text/plain": [
       "array([[ 1,  2,  3,  4,  5],\n",
       "       [12, 13, 14, 15, 16]])"
      ]
     },
     "execution_count": 22,
     "metadata": {},
     "output_type": "execute_result"
    }
   ],
   "source": [
    "arr_1=np.array([[1,2,3,4,5],[12,13,14,15,16]])\n",
    "arr_1"
   ]
  },
  {
   "cell_type": "code",
   "execution_count": 24,
   "id": "71e539db",
   "metadata": {},
   "outputs": [
    {
     "data": {
      "text/plain": [
       "2"
      ]
     },
     "execution_count": 24,
     "metadata": {},
     "output_type": "execute_result"
    }
   ],
   "source": [
    "arr_1.ndim #Checking the dimension of the array"
   ]
  },
  {
   "cell_type": "code",
   "execution_count": 25,
   "id": "c07846c6",
   "metadata": {},
   "outputs": [
    {
     "data": {
      "text/plain": [
       "array([[ 1, 12],\n",
       "       [ 2, 13],\n",
       "       [ 3, 14],\n",
       "       [ 4, 15],\n",
       "       [ 5, 16]])"
      ]
     },
     "execution_count": 25,
     "metadata": {},
     "output_type": "execute_result"
    }
   ],
   "source": [
    "arr_1.transpose()"
   ]
  },
  {
   "cell_type": "code",
   "execution_count": 30,
   "id": "749a0691",
   "metadata": {},
   "outputs": [
    {
     "data": {
      "text/plain": [
       "array([ 1,  2,  3,  4,  5, 12, 13, 14, 15, 16])"
      ]
     },
     "execution_count": 30,
     "metadata": {},
     "output_type": "execute_result"
    }
   ],
   "source": [
    "flattened_arr=arr_1.flatten() #It arranges the data in 1D Array\n",
    "flattened_arr"
   ]
  },
  {
   "cell_type": "code",
   "execution_count": null,
   "id": "2ca01e46",
   "metadata": {},
   "outputs": [],
   "source": [
    "# Inserting 99 at the index 2\n",
    "array_99 = np.insert(flattened_arr, 2, 99) #assigning at 2nd index i.e 99\n",
    "array_99"
   ]
  },
  {
   "cell_type": "code",
   "execution_count": 35,
   "id": "37650ee4",
   "metadata": {},
   "outputs": [
    {
     "data": {
      "text/plain": [
       "array([  1,   2,  99,   3,   4,   5,  12,  13,  14,  15,  16, 100])"
      ]
     },
     "execution_count": 35,
     "metadata": {},
     "output_type": "execute_result"
    }
   ],
   "source": [
    "# Adding an element\n",
    "array_100=np.append(array_99, 100) #Adding an element at last i.e 100\n",
    "array_100"
   ]
  },
  {
   "cell_type": "code",
   "execution_count": 39,
   "id": "630aa46f",
   "metadata": {},
   "outputs": [
    {
     "data": {
      "text/plain": [
       "array([  1,   2,  99,   3,   4,   5,  13,  14,  15,  16, 100])"
      ]
     },
     "execution_count": 39,
     "metadata": {},
     "output_type": "execute_result"
    }
   ],
   "source": [
    "array_delete=np.delete(array_100, 6) #it removed 6th indexing value\n",
    "array_delete"
   ]
  },
  {
   "cell_type": "markdown",
   "id": "e5902739",
   "metadata": {},
   "source": [
    " #### a. Create a 2D array. Iterate through the elements of the array and print elements using both nditer() and for loop.\n",
    "b. Generate two arrays with random float elements in it.\n",
    " - perform all python operations (* + - / % //).\n",
    " - Also apply all mathematical functions on the two arrays.\n",
    "\n"
   ]
  },
  {
   "cell_type": "code",
   "execution_count": 41,
   "id": "d539e2c9",
   "metadata": {},
   "outputs": [
    {
     "data": {
      "text/plain": [
       "array([[ 1,  2,  3,  4,  5,  6],\n",
       "       [67, 68, 69, 65, 64, 61],\n",
       "       [43, 44, 45, 46, 47, 48]])"
      ]
     },
     "execution_count": 41,
     "metadata": {},
     "output_type": "execute_result"
    }
   ],
   "source": [
    "arr_2d = np.array([[1,2,3,4,5,6],[67,68,69,65,64,61],[43,44,45,46,47,48]])\n",
    "arr_2d"
   ]
  },
  {
   "cell_type": "code",
   "execution_count": 46,
   "id": "344d3de2",
   "metadata": {},
   "outputs": [
    {
     "name": "stdout",
     "output_type": "stream",
     "text": [
      "1 2 3 4 5 6 67 68 69 65 64 61 43 44 45 46 47 48 "
     ]
    }
   ],
   "source": [
    "for element in np.nditer(arr_2d):\n",
    "    print(element,end = \" \")#to get the loop into horizontal i used end fun    "
   ]
  },
  {
   "cell_type": "code",
   "execution_count": 53,
   "id": "c5a2cd66",
   "metadata": {},
   "outputs": [
    {
     "data": {
      "text/plain": [
       "array([[0.12325527, 0.69137512, 0.19360299, 0.70182385],\n",
       "       [0.03676345, 0.43784029, 0.64255518, 0.11143619],\n",
       "       [0.29950092, 0.61952658, 0.6291954 , 0.69160822],\n",
       "       [0.45289959, 0.47421948, 0.39247397, 0.86317398],\n",
       "       [0.20702236, 0.50963123, 0.34320515, 0.96893457],\n",
       "       [0.75550374, 0.86984457, 0.63953317, 0.32474613]])"
      ]
     },
     "execution_count": 53,
     "metadata": {},
     "output_type": "execute_result"
    }
   ],
   "source": [
    "arr_1 = np.random.rand(6, 4)\n",
    "arr_2 = np.random.rand(6, 4)\n",
    "arr_1"
   ]
  },
  {
   "cell_type": "code",
   "execution_count": 54,
   "id": "2a4b47c6",
   "metadata": {},
   "outputs": [
    {
     "data": {
      "text/plain": [
       "array([[0.63661418, 0.14542606, 0.38956401, 0.99447363],\n",
       "       [0.06630298, 0.69251195, 0.04010579, 0.36790081],\n",
       "       [0.00639858, 0.00441085, 0.24935535, 0.54684268],\n",
       "       [0.48248042, 0.66101581, 0.75966432, 0.50485245],\n",
       "       [0.77063514, 0.50893953, 0.64184025, 0.34429235],\n",
       "       [0.93199363, 0.23855821, 0.84804331, 0.01277321]])"
      ]
     },
     "execution_count": 54,
     "metadata": {},
     "output_type": "execute_result"
    }
   ],
   "source": [
    "arr_2"
   ]
  },
  {
   "cell_type": "code",
   "execution_count": 55,
   "id": "d006784c",
   "metadata": {},
   "outputs": [
    {
     "data": {
      "text/plain": [
       "array([[0.75986945, 0.83680119, 0.583167  , 1.69629749],\n",
       "       [0.10306643, 1.13035224, 0.68266096, 0.479337  ],\n",
       "       [0.3058995 , 0.62393743, 0.87855075, 1.2384509 ],\n",
       "       [0.93538001, 1.13523529, 1.15213829, 1.36802642],\n",
       "       [0.9776575 , 1.01857076, 0.9850454 , 1.31322692],\n",
       "       [1.68749738, 1.10840278, 1.48757648, 0.33751935]])"
      ]
     },
     "execution_count": 55,
     "metadata": {},
     "output_type": "execute_result"
    }
   ],
   "source": [
    "arr_1 + arr_2 #Adding the arrays"
   ]
  },
  {
   "cell_type": "code",
   "execution_count": 56,
   "id": "7ba6a3e2",
   "metadata": {},
   "outputs": [
    {
     "data": {
      "text/plain": [
       "array([[-0.51335891,  0.54594906, -0.19596102, -0.29264978],\n",
       "       [-0.02953953, -0.25467166,  0.60244939, -0.25646462],\n",
       "       [ 0.29310234,  0.61511573,  0.37984005,  0.14476554],\n",
       "       [-0.02958083, -0.18679633, -0.36719034,  0.35832153],\n",
       "       [-0.56361278,  0.0006917 , -0.2986351 ,  0.62464221],\n",
       "       [-0.17648989,  0.63128636, -0.20851014,  0.31197292]])"
      ]
     },
     "execution_count": 56,
     "metadata": {},
     "output_type": "execute_result"
    }
   ],
   "source": [
    "arr_1 - arr_2 #subtracting arrays"
   ]
  },
  {
   "cell_type": "code",
   "execution_count": 57,
   "id": "f2f21a14",
   "metadata": {},
   "outputs": [
    {
     "data": {
      "text/plain": [
       "array([[  0.19361063,   4.75413484,   0.49697349,   0.70572394],\n",
       "       [  0.55447659,   0.63224944,  16.02150718,   0.30289737],\n",
       "       [ 46.80741312, 140.45514461,   2.52328815,   1.26472977],\n",
       "       [  0.9386901 ,   0.71741019,   0.51664132,   1.70975495],\n",
       "       [  0.26863862,   1.0013591 ,   0.53472051,   2.8142785 ],\n",
       "       [  0.81063187,   3.64625712,   0.75412796,  25.42399554]])"
      ]
     },
     "execution_count": 57,
     "metadata": {},
     "output_type": "execute_result"
    }
   ],
   "source": [
    "arr_1 / arr_2 #dividing arrays"
   ]
  },
  {
   "cell_type": "code",
   "execution_count": 58,
   "id": "748cbb15",
   "metadata": {},
   "outputs": [
    {
     "data": {
      "text/plain": [
       "array([[  0.,   4.,   0.,   0.],\n",
       "       [  0.,   0.,  16.,   0.],\n",
       "       [ 46., 140.,   2.,   1.],\n",
       "       [  0.,   0.,   0.,   1.],\n",
       "       [  0.,   1.,   0.,   2.],\n",
       "       [  0.,   3.,   0.,  25.]])"
      ]
     },
     "execution_count": 58,
     "metadata": {},
     "output_type": "execute_result"
    }
   ],
   "source": [
    "arr_1 // arr_2 #floor division gives the Round off value"
   ]
  },
  {
   "cell_type": "code",
   "execution_count": 61,
   "id": "6184857e",
   "metadata": {},
   "outputs": [
    {
     "data": {
      "text/plain": [
       "array([[0.12294343, 0.63759714, 0.19239581, 0.64561158],\n",
       "       [0.03675517, 0.42398447, 0.59924299, 0.1112057 ],\n",
       "       [0.29504338, 0.58064979, 0.58849443, 0.63777669],\n",
       "       [0.43757463, 0.45664419, 0.38247545, 0.75990956],\n",
       "       [0.20554675, 0.48785537, 0.33650704, 0.82428296],\n",
       "       [0.68565544, 0.7642287 , 0.59682093, 0.3190682 ]])"
      ]
     },
     "execution_count": 61,
     "metadata": {},
     "output_type": "execute_result"
    }
   ],
   "source": [
    "np.sin(arr_1) #Mathematical functions"
   ]
  },
  {
   "cell_type": "code",
   "execution_count": 62,
   "id": "b758ee32",
   "metadata": {},
   "outputs": [
    {
     "data": {
      "text/plain": [
       "array([[0.99241368, 0.77036997, 0.98131741, 0.76366596],\n",
       "       [0.9993243 , 0.90566946, 0.8005672 , 0.99379741],\n",
       "       [0.95548386, 0.81415344, 0.80850127, 0.77022133],\n",
       "       [0.8991821 , 0.88964941, 0.92396565, 0.65002881],\n",
       "       [0.9786473 , 0.87292447, 0.94168095, 0.56617807],\n",
       "       [0.72792624, 0.64494534, 0.80237446, 0.94773176]])"
      ]
     },
     "execution_count": 62,
     "metadata": {},
     "output_type": "execute_result"
    }
   ],
   "source": [
    "np.cos(arr_1)"
   ]
  },
  {
   "cell_type": "code",
   "execution_count": 63,
   "id": "fbc7d12c",
   "metadata": {},
   "outputs": [
    {
     "data": {
      "text/plain": [
       "array([[0.59447627, 0.14491401, 0.37978513, 0.83847224],\n",
       "       [0.06625441, 0.6384725 , 0.04009504, 0.35965751],\n",
       "       [0.00639854, 0.00441084, 0.2467793 , 0.51999294],\n",
       "       [0.46397787, 0.61391902, 0.68867809, 0.4836783 ],\n",
       "       [0.69659107, 0.48725145, 0.59867049, 0.33753064],\n",
       "       [0.80281021, 0.23630191, 0.74998758, 0.01277287]])"
      ]
     },
     "execution_count": 63,
     "metadata": {},
     "output_type": "execute_result"
    }
   ],
   "source": [
    "np.sin(arr_2)"
   ]
  },
  {
   "cell_type": "code",
   "execution_count": 64,
   "id": "23cebef1",
   "metadata": {},
   "outputs": [
    {
     "data": {
      "text/plain": [
       "array([[0.59447627, 0.14491401, 0.37978513, 0.83847224],\n",
       "       [0.06625441, 0.6384725 , 0.04009504, 0.35965751],\n",
       "       [0.00639854, 0.00441084, 0.2467793 , 0.51999294],\n",
       "       [0.46397787, 0.61391902, 0.68867809, 0.4836783 ],\n",
       "       [0.69659107, 0.48725145, 0.59867049, 0.33753064],\n",
       "       [0.80281021, 0.23630191, 0.74998758, 0.01277287]])"
      ]
     },
     "execution_count": 64,
     "metadata": {},
     "output_type": "execute_result"
    }
   ],
   "source": [
    "np.sin(arr_2)"
   ]
  },
  {
   "cell_type": "code",
   "execution_count": 65,
   "id": "067a4f33",
   "metadata": {},
   "outputs": [
    {
     "data": {
      "text/plain": [
       "array([[0.12388325, 0.82765056, 0.1960587 , 0.84541097],\n",
       "       [0.03678002, 0.46814483, 0.74852303, 0.11189977],\n",
       "       [0.3087895 , 0.71319454, 0.72788312, 0.82804341],\n",
       "       [0.48663628, 0.51328556, 0.41394986, 1.16903982],\n",
       "       [0.2100315 , 0.55887466, 0.35734719, 1.45587227],\n",
       "       [0.94192984, 1.18495111, 0.74381846, 0.33666509]])"
      ]
     },
     "execution_count": 65,
     "metadata": {},
     "output_type": "execute_result"
    }
   ],
   "source": [
    "np.tan(arr_1)"
   ]
  },
  {
   "cell_type": "code",
   "execution_count": 72,
   "id": "ab147381",
   "metadata": {},
   "outputs": [
    {
     "data": {
      "text/plain": [
       "array([[0.7392943 , 0.14646   , 0.41054535, 1.53863841],\n",
       "       [0.06640031, 0.82956792, 0.04012731, 0.38545014],\n",
       "       [0.00639867, 0.00441088, 0.25465535, 0.60876944],\n",
       "       [0.52376763, 0.77773387, 0.94981274, 0.55261993],\n",
       "       [0.97090143, 0.55796727, 0.74740814, 0.35857371],\n",
       "       [1.34646686, 0.24318911, 1.13385052, 0.01277391]])"
      ]
     },
     "execution_count": 72,
     "metadata": {},
     "output_type": "execute_result"
    }
   ],
   "source": [
    "np.tan(arr_2)"
   ]
  },
  {
   "cell_type": "code",
   "execution_count": 78,
   "id": "d7ab43cf",
   "metadata": {},
   "outputs": [
    {
     "data": {
      "text/plain": [
       "array([[-2.09349769, -0.36907274, -1.64194567, -0.35407283],\n",
       "       [-3.30325111, -0.82590107, -0.44230259, -2.19430314],\n",
       "       [-1.20563779, -0.47879967, -0.46331341, -0.36873564],\n",
       "       [-0.79208483, -0.74608503, -0.93528505, -0.14713901],\n",
       "       [-1.57492848, -0.67406789, -1.06942691, -0.0315582 ],\n",
       "       [-0.28037054, -0.13944074, -0.44701679, -1.12471153]])"
      ]
     },
     "execution_count": 78,
     "metadata": {},
     "output_type": "execute_result"
    }
   ],
   "source": [
    "np.log(arr_1)"
   ]
  },
  {
   "cell_type": "code",
   "execution_count": 80,
   "id": "79108211",
   "metadata": {},
   "outputs": [
    {
     "data": {
      "text/plain": [
       "array([[2.09349769, 0.36907274, 1.64194567, 0.35407283],\n",
       "       [3.30325111, 0.82590107, 0.44230259, 2.19430314],\n",
       "       [1.20563779, 0.47879967, 0.46331341, 0.36873564],\n",
       "       [0.79208483, 0.74608503, 0.93528505, 0.14713901],\n",
       "       [1.57492848, 0.67406789, 1.06942691, 0.0315582 ],\n",
       "       [0.28037054, 0.13944074, 0.44701679, 1.12471153]])"
      ]
     },
     "execution_count": 80,
     "metadata": {},
     "output_type": "execute_result"
    }
   ],
   "source": [
    "np.abs(arr_2) #applying modulus to negative values and making them positive"
   ]
  },
  {
   "cell_type": "code",
   "execution_count": 81,
   "id": "4d0812c1",
   "metadata": {},
   "outputs": [
    {
     "data": {
      "text/plain": [
       "array([[1.13117314, 1.99645902, 1.21361437, 2.01742885],\n",
       "       [1.03744758, 1.54935744, 1.90133292, 1.11788241],\n",
       "       [1.34918529, 1.8580482 , 1.87610047, 1.99692444],\n",
       "       [1.57286625, 1.6067596 , 1.48063933, 2.37067322],\n",
       "       [1.23001007, 1.6646772 , 1.40945788, 2.6351354 ],\n",
       "       [2.12868357, 2.38653988, 1.89559575, 1.38367933]])"
      ]
     },
     "execution_count": 81,
     "metadata": {},
     "output_type": "execute_result"
    }
   ],
   "source": [
    "np.exp(arr_1)"
   ]
  },
  {
   "cell_type": "markdown",
   "id": "134e5ddb",
   "metadata": {},
   "source": [
    "#### Create a random NumPy array. Generate mean, mode, median, variance and standard deviation of that array.\n",
    "Create two NumPy arrays of the same length with random numerical values. Compute the correlation coefficient between the two arrays\n"
   ]
  },
  {
   "cell_type": "code",
   "execution_count": 88,
   "id": "48f20df6",
   "metadata": {},
   "outputs": [
    {
     "data": {
      "text/plain": [
       "array([[260, 329, 266, 141,  28],\n",
       "       [134, 312, 209, 181, 294],\n",
       "       [139, 373, 147, 135, 245],\n",
       "       [115, 148, 268, 317,  67]])"
      ]
     },
     "execution_count": 88,
     "metadata": {},
     "output_type": "execute_result"
    }
   ],
   "source": [
    "arr_3=np.random.randint(4,400,size=(4,5))\n",
    "arr_3"
   ]
  },
  {
   "cell_type": "code",
   "execution_count": 101,
   "id": "0ec1fcce",
   "metadata": {},
   "outputs": [
    {
     "data": {
      "text/plain": [
       "205.4"
      ]
     },
     "execution_count": 101,
     "metadata": {},
     "output_type": "execute_result"
    }
   ],
   "source": [
    "np.mean(arr_3)"
   ]
  },
  {
   "cell_type": "code",
   "execution_count": 98,
   "id": "1b343858",
   "metadata": {},
   "outputs": [
    {
     "data": {
      "text/plain": [
       "array([260, 329, 266, 141,  28, 134, 312, 209, 181, 294, 139, 373, 147,\n",
       "       135, 245, 115, 148, 268, 317,  67])"
      ]
     },
     "execution_count": 98,
     "metadata": {},
     "output_type": "execute_result"
    }
   ],
   "source": [
    "a=arr_3.flatten()\n",
    "a"
   ]
  },
  {
   "cell_type": "code",
   "execution_count": 102,
   "id": "ff9a46cd",
   "metadata": {},
   "outputs": [
    {
     "data": {
      "text/plain": [
       "205.4"
      ]
     },
     "execution_count": 102,
     "metadata": {},
     "output_type": "execute_result"
    }
   ],
   "source": [
    "sum(a)/len(a) #checking the mean it is making flatten and calculating"
   ]
  },
  {
   "cell_type": "code",
   "execution_count": 104,
   "id": "65f96663",
   "metadata": {},
   "outputs": [
    {
     "data": {
      "text/plain": [
       "8594.84"
      ]
     },
     "execution_count": 104,
     "metadata": {},
     "output_type": "execute_result"
    }
   ],
   "source": [
    "np.var(arr_3)"
   ]
  },
  {
   "cell_type": "code",
   "execution_count": 106,
   "id": "6d3f4af3",
   "metadata": {},
   "outputs": [
    {
     "data": {
      "text/plain": [
       "92.70835992508982"
      ]
     },
     "execution_count": 106,
     "metadata": {},
     "output_type": "execute_result"
    }
   ],
   "source": [
    "np.std(arr_3)"
   ]
  },
  {
   "cell_type": "code",
   "execution_count": 107,
   "id": "d7b66680",
   "metadata": {},
   "outputs": [
    {
     "data": {
      "text/plain": [
       "8594.839999999886"
      ]
     },
     "execution_count": 107,
     "metadata": {},
     "output_type": "execute_result"
    }
   ],
   "source": [
    "#std=sqrt(var)\n",
    "92.7083599250892*92.7083599250892"
   ]
  },
  {
   "cell_type": "code",
   "execution_count": 110,
   "id": "9455b923",
   "metadata": {},
   "outputs": [
    {
     "data": {
      "text/plain": [
       "195.0"
      ]
     },
     "execution_count": 110,
     "metadata": {},
     "output_type": "execute_result"
    }
   ],
   "source": [
    "np.median(arr_3) \n",
    "#if the no of terms are odd then median will be the middle term.\n",
    "#if the no of terms are even then median will be average of \n",
    "#(n/2 th term and (n/2 +1) th term"
   ]
  },
  {
   "cell_type": "code",
   "execution_count": 112,
   "id": "7a9ee4e6",
   "metadata": {},
   "outputs": [
    {
     "data": {
      "text/plain": [
       "array([1, 2, 3, 4, 5, 6, 7, 8])"
      ]
     },
     "execution_count": 112,
     "metadata": {},
     "output_type": "execute_result"
    }
   ],
   "source": [
    "arr_4=np.array([1,2,3,4,5,6,7,8])\n",
    "arr_5=np.array([10,20,30,40,50,60,70,80])\n",
    "arr_4"
   ]
  },
  {
   "cell_type": "code",
   "execution_count": 113,
   "id": "38ecaaf2",
   "metadata": {},
   "outputs": [
    {
     "data": {
      "text/plain": [
       "array([10, 20, 30, 40, 50, 60, 70, 80])"
      ]
     },
     "execution_count": 113,
     "metadata": {},
     "output_type": "execute_result"
    }
   ],
   "source": [
    "arr_5"
   ]
  },
  {
   "cell_type": "code",
   "execution_count": null,
   "id": "2429c951",
   "metadata": {},
   "outputs": [],
   "source": []
  },
  {
   "cell_type": "code",
   "execution_count": null,
   "id": "bce1d325",
   "metadata": {},
   "outputs": [],
   "source": []
  }
 ],
 "metadata": {
  "kernelspec": {
   "display_name": "Python 3 (ipykernel)",
   "language": "python",
   "name": "python3"
  },
  "language_info": {
   "codemirror_mode": {
    "name": "ipython",
    "version": 3
   },
   "file_extension": ".py",
   "mimetype": "text/x-python",
   "name": "python",
   "nbconvert_exporter": "python",
   "pygments_lexer": "ipython3",
   "version": "3.11.5"
  }
 },
 "nbformat": 4,
 "nbformat_minor": 5
}
