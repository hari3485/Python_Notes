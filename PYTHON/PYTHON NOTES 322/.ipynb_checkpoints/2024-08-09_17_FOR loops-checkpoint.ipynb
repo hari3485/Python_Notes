{
 "cells": [
  {
   "cell_type": "markdown",
   "metadata": {},
   "source": [
    "## For Loop\n",
    "\n",
    "The for statement in Python supports repeated execution of a statement or block of statements that is controlled by an iterable expression.\n",
    "\n",
    "    for target in iterable:\n",
    "      statement(s)\n",
    "      \n",
    "Note that the in keyword is part of the syntax of the for statement and is functionally unrelated to the in operator used for membership testing.      \n",
    "\n",
    "iterable may be any Python expression suitable as an argument to built-in function iter, which returns an iterator object (explained in detail in the next section). target is normally an identifier that names the control variable of the loop; the for statement successively rebinds this variable to each item of the iterator, in order. The statement or statements that comprise the loop body execute once for each item in iterable (unless the loop ends because an exception is raised or a break or return statement is executed)."
   ]
  },
  {
   "cell_type": "markdown",
   "metadata": {},
   "source": [
    "### using membership operator"
   ]
  },
  {
   "cell_type": "markdown",
   "metadata": {},
   "source": [
    "AND"
   ]
  },
  {
   "cell_type": "markdown",
   "metadata": {},
   "source": [
    "### range() function\n",
    "\n",
    "Looping over a sequence of integers is a common task, so Python provides built-in functions range and xrange to generate and return integer sequences. The simplest, most idiomatic way to loop n times in Python is:\n",
    "\n",
    "\n",
    "    for i in range(n):\n",
    "      statement(s)\n",
    "      \n",
    "range( x ) returns a list whose items are consecutive integers from 0 (included) up to x (excluded). range( x,y ) returns a list whose items are consecutive integers from x (included) up to y (excluded). The result is the empty list if x is greater than or equal to y. range( x,y,step ) returns a list of integers from x (included) up to y (excluded), such that the difference between each two adjacent items in the list is step. "
   ]
  },
  {
   "cell_type": "markdown",
   "metadata": {},
   "source": [
    "# Comparison of `for` and `while` Loops in Python\n",
    "\n",
    "| Aspect            | `for` Loop                                      | `while` Loop                                    |\n",
    "|-------------------|--------------------------------------------------|-------------------------------------------------|\n",
    "| **Purpose**       | Iterates over a sequence (e.g., list, tuple, string, range) or other iterable objects | Repeats a block of code as long as a condition is `True` |\n",
    "| **Syntax**        | ```python                                          for item in iterable:     # code block```       | ```python                                          while condition:     # code block```       |\n",
    "| **Iteration**     | Automatically iterates over each item in the iterable | Must manually update the condition variable inside the loop to avoid infinite loops |\n",
    "| **Use Case**      | Ideal when the number of iterations is known or when iterating over collections | Ideal when the number of iterations is not known in advance and depends on a condition |\n",
    "| **Example**       | ```python                                          for i in range(5):     print(i)```                 | ```python                                          count = 0     while count < 5:         print(count)         count += 1``` |\n",
    "| **Loop Control**  | Can be controlled using `break`, `continue`, and `else` clauses | Can be controlled using `break`, `continue`, and `else` clauses |\n",
    "| **Readability**   | Generally more readable and concise for fixed iteration scenarios | Can be less readable if the condition and update logic are complex |\n",
    "| **Initialization**| Initialization is handled by the iterable (e.g., `range(5)` handles `i` from 0 to 4) | Initialization must be done explicitly before entering the loop |\n",
    "| **Condition Update** | No explicit condition update needed | Must manually update the condition variable to ensure termination |"
   ]
  },
  {
   "cell_type": "code",
   "execution_count": null,
   "metadata": {},
   "outputs": [],
   "source": [
    "# simple for loop"
   ]
  },
  {
   "cell_type": "code",
   "execution_count": 2,
   "metadata": {},
   "outputs": [
    {
     "name": "stdout",
     "output_type": "stream",
     "text": [
      "4\n",
      "12\n",
      "1\n",
      "Innomatics\n",
      "True\n",
      "4.32\n"
     ]
    }
   ],
   "source": [
    "sample_list = [4,12,1,\"Innomatics\",True,4.32]\n",
    "for list_element in sample_list:\n",
    "    print(list_element)"
   ]
  },
  {
   "cell_type": "code",
   "execution_count": null,
   "metadata": {},
   "outputs": [],
   "source": []
  },
  {
   "cell_type": "code",
   "execution_count": null,
   "metadata": {},
   "outputs": [],
   "source": [
    "# Accessing elements with []\n",
    "# The RANGE function in conjunction with the MEMBERSHIP operator"
   ]
  },
  {
   "cell_type": "code",
   "execution_count": 5,
   "metadata": {},
   "outputs": [
    {
     "name": "stdout",
     "output_type": "stream",
     "text": [
      "4\n",
      "12\n",
      "1\n",
      "Innomatics\n",
      "True\n",
      "4.32\n"
     ]
    }
   ],
   "source": [
    "###############0,1, 2, 3          ,4   ,5 ####### are indices\n",
    "sample_list = [4,12,1,\"Innomatics\",True,4.32]\n",
    "for index in range(6):\n",
    "    print(sample_list[index])"
   ]
  },
  {
   "cell_type": "code",
   "execution_count": 4,
   "metadata": {},
   "outputs": [
    {
     "data": {
      "text/plain": [
       "'Innomatics'"
      ]
     },
     "execution_count": 4,
     "metadata": {},
     "output_type": "execute_result"
    }
   ],
   "source": [
    "sample_list[3]"
   ]
  },
  {
   "cell_type": "code",
   "execution_count": 8,
   "metadata": {},
   "outputs": [
    {
     "name": "stdout",
     "output_type": "stream",
     "text": [
      "4\n",
      "12\n",
      "1\n",
      "Innomatics\n",
      "True\n",
      "4.32\n"
     ]
    },
    {
     "ename": "IndexError",
     "evalue": "list index out of range",
     "output_type": "error",
     "traceback": [
      "\u001b[1;31m---------------------------------------------------------------------------\u001b[0m",
      "\u001b[1;31mIndexError\u001b[0m                                Traceback (most recent call last)",
      "Cell \u001b[1;32mIn[8], line 3\u001b[0m\n\u001b[0;32m      1\u001b[0m sample_list \u001b[38;5;241m=\u001b[39m [\u001b[38;5;241m4\u001b[39m,\u001b[38;5;241m12\u001b[39m,\u001b[38;5;241m1\u001b[39m,\u001b[38;5;124m\"\u001b[39m\u001b[38;5;124mInnomatics\u001b[39m\u001b[38;5;124m\"\u001b[39m,\u001b[38;5;28;01mTrue\u001b[39;00m,\u001b[38;5;241m4.32\u001b[39m]\n\u001b[0;32m      2\u001b[0m \u001b[38;5;28;01mfor\u001b[39;00m index \u001b[38;5;129;01min\u001b[39;00m \u001b[38;5;28mrange\u001b[39m(\u001b[38;5;241m8\u001b[39m):\n\u001b[1;32m----> 3\u001b[0m     \u001b[38;5;28mprint\u001b[39m(\u001b[43msample_list\u001b[49m\u001b[43m[\u001b[49m\u001b[43mindex\u001b[49m\u001b[43m]\u001b[49m)\n",
      "\u001b[1;31mIndexError\u001b[0m: list index out of range"
     ]
    }
   ],
   "source": [
    "sample_list = [4,12,1,\"Innomatics\",True,4.32]\n",
    "for index in range(8):\n",
    "    print(sample_list[index])"
   ]
  },
  {
   "cell_type": "code",
   "execution_count": 16,
   "metadata": {},
   "outputs": [
    {
     "name": "stdout",
     "output_type": "stream",
     "text": [
      " hari is at location 0 \n",
      " 2 is at location 2 \n",
      " 4 is at location 4 \n"
     ]
    }
   ],
   "source": [
    "a=[\"hari\",1,2,3,4,5]\n",
    "for i in range(0,len(a),2):\n",
    "    print(f\" {a[i]} is at location {i} \")"
   ]
  },
  {
   "cell_type": "code",
   "execution_count": null,
   "metadata": {},
   "outputs": [],
   "source": []
  },
  {
   "cell_type": "code",
   "execution_count": null,
   "metadata": {},
   "outputs": [],
   "source": [
    "# Range in conjunction with LEN function"
   ]
  },
  {
   "cell_type": "code",
   "execution_count": 10,
   "metadata": {},
   "outputs": [
    {
     "name": "stdout",
     "output_type": "stream",
     "text": [
      "At Location 1 we have:  4\n",
      "At Location 2 we have:  12\n",
      "At Location 3 we have:  1\n",
      "At Location 4 we have:  Innomatics\n",
      "At Location 5 we have:  True\n",
      "At Location 6 we have:  4.32\n"
     ]
    }
   ],
   "source": [
    "sample_list = [4,12,1,\"Innomatics\",True,4.32]\n",
    "for index in range(len(sample_list)):\n",
    "    print(f\"At Location {index+1} we have: \",sample_list[index])"
   ]
  },
  {
   "cell_type": "code",
   "execution_count": null,
   "metadata": {},
   "outputs": [],
   "source": []
  },
  {
   "cell_type": "code",
   "execution_count": 15,
   "metadata": {},
   "outputs": [],
   "source": [
    "# list and range with step"
   ]
  },
  {
   "cell_type": "code",
   "execution_count": 12,
   "metadata": {},
   "outputs": [
    {
     "name": "stdout",
     "output_type": "stream",
     "text": [
      "At Location 1 we have:  4\n",
      "At Location 3 we have:  1\n",
      "At Location 5 we have:  True\n"
     ]
    }
   ],
   "source": [
    "sample_list = [4,12,1,\"Innomatics\",True,4.32]\n",
    "for index in range(0, len(sample_list), 2):\n",
    "    print(f\"At Location {index+1} we have: \",sample_list[index])"
   ]
  },
  {
   "cell_type": "code",
   "execution_count": 27,
   "metadata": {},
   "outputs": [
    {
     "name": "stdout",
     "output_type": "stream",
     "text": [
      " the square value of 27 is equal to 729\n",
      " the square value of 30 is equal to 900\n",
      " the square value of 33 is equal to 1089\n",
      " the square value of 36 is equal to 1296\n",
      " the square value of 39 is equal to 1521\n",
      " the square value of 42 is equal to 1764\n",
      " the square value of 45 is equal to 2025\n",
      " the square value of 48 is equal to 2304\n",
      " the square value of 51 is equal to 2601\n",
      " the square value of 54 is equal to 2916\n",
      " the square value of 57 is equal to 3249\n",
      " the square value of 60 is equal to 3600\n",
      " the square value of 63 is equal to 3969\n",
      " the square value of 66 is equal to 4356\n",
      " the square value of 69 is equal to 4761\n"
     ]
    }
   ],
   "source": [
    "for i in range(27,70,3):\n",
    "    print(f\" the square value of {i} is equal to {i*i}\")    "
   ]
  },
  {
   "cell_type": "markdown",
   "metadata": {},
   "source": [
    "### WAP to take numbers that are MULTIPLES OF 3 between the range 27 and 70 as a list and print square of the elements"
   ]
  },
  {
   "cell_type": "code",
   "execution_count": 16,
   "metadata": {},
   "outputs": [
    {
     "name": "stdout",
     "output_type": "stream",
     "text": [
      "729\n",
      "900\n",
      "1089\n",
      "1296\n",
      "1521\n",
      "1764\n",
      "2025\n",
      "2304\n",
      "2601\n",
      "2916\n",
      "3249\n",
      "3600\n",
      "3969\n",
      "4356\n",
      "4761\n"
     ]
    }
   ],
   "source": [
    "numbers_list = range(27,70,3)\n",
    "numbers_list = list(numbers_list)\n",
    "numbers_list\n",
    "for number in numbers_list:\n",
    "    print(number ** 2)"
   ]
  },
  {
   "cell_type": "code",
   "execution_count": null,
   "metadata": {},
   "outputs": [],
   "source": []
  },
  {
   "cell_type": "markdown",
   "metadata": {},
   "source": [
    "### WAP to take numbers that are MULTIPLES OF 3 between the range 27 and 70 as a list and store it in the form of a list"
   ]
  },
  {
   "cell_type": "code",
   "execution_count": 19,
   "metadata": {},
   "outputs": [
    {
     "name": "stdout",
     "output_type": "stream",
     "text": [
      "[729, 900, 1089, 1296, 1521, 1764, 2025, 2304, 2601, 2916, 3249, 3600, 3969, 4356, 4761]\n"
     ]
    }
   ],
   "source": [
    "numbers_list = list(range(27,70,3))\n",
    "numbers_list\n",
    "square_list = []\n",
    "for number in numbers_list:\n",
    "    square_list.append(number * number)\n",
    "\n",
    "print(square_list)"
   ]
  },
  {
   "cell_type": "code",
   "execution_count": 30,
   "metadata": {},
   "outputs": [
    {
     "name": "stdout",
     "output_type": "stream",
     "text": [
      "[729, 900, 1089, 1296, 1521, 1764, 2025, 2304, 2601, 2916, 3249, 3600, 3969, 4356, 4761]\n"
     ]
    }
   ],
   "source": [
    "a=list(range(27,70,3))\n",
    "b=[]\n",
    "for i in a:\n",
    "    b.append(i*i)\n",
    "print(b)\n",
    "    "
   ]
  },
  {
   "cell_type": "markdown",
   "metadata": {},
   "source": [
    "### WAP to take an input from user to enter no of elements in the list and segregate odd and even from those"
   ]
  },
  {
   "cell_type": "raw",
   "metadata": {},
   "source": [
    "(1) Take input from user to enter no of elements (input) [say == 5]\n",
    "(2) Enter the values of each element (loop, input)\n",
    "(3) Store in List [a,b,c,d,e]\n",
    "(4) odd and even list (empty)\n",
    "(5) List elements to be accessed using a (loop)\n",
    "(6) conditional check as odd or even (if and else)"
   ]
  },
  {
   "cell_type": "code",
   "execution_count": 21,
   "metadata": {},
   "outputs": [
    {
     "name": "stdin",
     "output_type": "stream",
     "text": [
      "Enter the number of elements:  3\n",
      "Enter NUMBER 1:  12\n",
      "Enter NUMBER 2:  43\n",
      "Enter NUMBER 3:  11\n"
     ]
    },
    {
     "name": "stdout",
     "output_type": "stream",
     "text": [
      "Entered LIST of NUMBERS are:  [12, 43, 11]\n",
      "EVEN List:  [12] ODD List:  [43, 11]\n"
     ]
    }
   ],
   "source": [
    "#(1) Take input from user to enter no of elements (input) [say == 5]\n",
    "num_of_elements = int(input(\"Enter the number of elements: \"))\n",
    "list_of_numbers = []\n",
    "\n",
    "#(2) Enter the values of each element (loop, input)\n",
    "for index in range(num_of_elements):\n",
    "    number = int(input(f\"Enter NUMBER {index + 1}: \"))\n",
    "    list_of_numbers.append(number)\n",
    "\n",
    "#(3) Store in List [a,b,c,d,e]\n",
    "\n",
    "print(\"Entered LIST of NUMBERS are: \", list_of_numbers)\n",
    "\n",
    "#(4) odd and even list (empty)\n",
    "odd = []\n",
    "even = []\n",
    "\n",
    "#(5) List elements to be accessed using a (loop)\n",
    "for number in list_of_numbers:\n",
    "\n",
    "#(6) conditional check as odd or even (if and else)\n",
    "    if number % 2 == 0:\n",
    "        even.append(number)\n",
    "    else:\n",
    "        odd.append(number)\n",
    "\n",
    "print(\"EVEN List: \", even, \"ODD List: \", odd)"
   ]
  },
  {
   "cell_type": "code",
   "execution_count": 70,
   "metadata": {},
   "outputs": [
    {
     "name": "stdout",
     "output_type": "stream",
     "text": [
      "40\n"
     ]
    }
   ],
   "source": [
    "x=40\n",
    "if (x>10): print(x)"
   ]
  },
  {
   "cell_type": "code",
   "execution_count": 71,
   "metadata": {},
   "outputs": [
    {
     "name": "stdout",
     "output_type": "stream",
     "text": [
      "Enter side a: 2\n",
      "Enter side b: 3\n",
      "Enter side c: 6\n",
      "The sides do not form a valid triangle.\n"
     ]
    }
   ],
   "source": [
    "a = int(input(\"Enter side a: \"))\n",
    "b = int(input(\"Enter side b: \"))\n",
    "c = int(input(\"Enter side c: \"))\n",
    "\n",
    "if a + b > c and a + c > b and b + c > a:\n",
    "    print(\"The sides form a valid triangle.\")\n",
    "else:\n",
    "    print(\"The sides do not form a valid triangle.\")"
   ]
  },
  {
   "cell_type": "code",
   "execution_count": 77,
   "metadata": {},
   "outputs": [
    {
     "name": "stdout",
     "output_type": "stream",
     "text": [
      "Enter a string: racecar\n",
      "The string is a palindrome.\n"
     ]
    }
   ],
   "source": [
    "s = input(\"Enter a string: \").strip()\n",
    "\n",
    "if s == s[::-1]:\n",
    "    print(\"The string is a palindrome.\")\n",
    "else:\n",
    "    print(\"The string is not a palindrome.\")\n"
   ]
  },
  {
   "cell_type": "code",
   "execution_count": 62,
   "metadata": {},
   "outputs": [
    {
     "name": "stdout",
     "output_type": "stream",
     "text": [
      "enter a string: harichandan\n",
      "haan\n"
     ]
    }
   ],
   "source": [
    "a=input(\"enter a string: \")\n",
    "if len(a) < 2:\n",
    "    print(a)\n",
    "else:\n",
    "    print(a[0:2]+a[-2::])"
   ]
  },
  {
   "cell_type": "code",
   "execution_count": 95,
   "metadata": {},
   "outputs": [
    {
     "name": "stdout",
     "output_type": "stream",
     "text": [
      "{'city': 'suryapet', 'village': 'chittalor'}\n"
     ]
    }
   ],
   "source": [
    "v={\"city\":\"suryapet\",\"village\":\"chittalor\"}\n",
    "v.setdefault(\"village\",\"passionpro\")\n",
    "print(v)"
   ]
  },
  {
   "cell_type": "code",
   "execution_count": 96,
   "metadata": {},
   "outputs": [
    {
     "name": "stdout",
     "output_type": "stream",
     "text": [
      "anurag clg\n"
     ]
    }
   ],
   "source": [
    "a=v.setdefault(\"vivek\",\"anurag clg\")\n",
    "print(a)"
   ]
  },
  {
   "cell_type": "code",
   "execution_count": 97,
   "metadata": {},
   "outputs": [
    {
     "name": "stdout",
     "output_type": "stream",
     "text": [
      "{'city': 'suryapet', 'village': 'chittalor', 'vivek': 'anurag clg'}\n"
     ]
    }
   ],
   "source": [
    "print(v)"
   ]
  },
  {
   "cell_type": "code",
   "execution_count": 103,
   "metadata": {},
   "outputs": [
    {
     "name": "stdout",
     "output_type": "stream",
     "text": [
      "{1: 1, 2: 6, 3: 6, 4: 9, 5: 2, 6: 6, 7: 3}\n"
     ]
    }
   ],
   "source": [
    "a=[1,2,2,2,2,2,2,3,3,3,3,3,3,4,4,4,4,4,4,4,4,4,5,5,6,6,6,6,6,6,7,7,7]\n",
    "b={}\n",
    "for i in a:\n",
    "    b.setdefault(i,0)\n",
    "    b[i]=b[i]+1\n",
    "print(b)"
   ]
  },
  {
   "cell_type": "code",
   "execution_count": 106,
   "metadata": {},
   "outputs": [
    {
     "data": {
      "text/plain": [
       "Counter({1: 7, 2: 3, 3: 3, 4: 2})"
      ]
     },
     "execution_count": 106,
     "metadata": {},
     "output_type": "execute_result"
    }
   ],
   "source": [
    "from collections import Counter\n",
    "a=[1,1,1,1,1,1,1,2,2,2,3,3,3,4,4]\n",
    "counts=Counter(a)\n",
    "counts"
   ]
  },
  {
   "cell_type": "code",
   "execution_count": null,
   "metadata": {},
   "outputs": [],
   "source": [
    "b=[1,2,2,2,3]\n",
    "c=[]\n",
    "for i in set(b):\n",
    "    \n",
    "    "
   ]
  }
 ],
 "metadata": {
  "kernelspec": {
   "display_name": "Python 3 (ipykernel)",
   "language": "python",
   "name": "python3"
  },
  "language_info": {
   "codemirror_mode": {
    "name": "ipython",
    "version": 3
   },
   "file_extension": ".py",
   "mimetype": "text/x-python",
   "name": "python",
   "nbconvert_exporter": "python",
   "pygments_lexer": "ipython3",
   "version": "3.11.5"
  }
 },
 "nbformat": 4,
 "nbformat_minor": 4
}
