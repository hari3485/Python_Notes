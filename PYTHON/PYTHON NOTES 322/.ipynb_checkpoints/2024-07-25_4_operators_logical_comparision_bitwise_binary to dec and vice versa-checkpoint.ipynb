{
 "cells": [
  {
   "cell_type": "markdown",
   "metadata": {},
   "source": [
    "### Comparision operators"
   ]
  },
  {
   "cell_type": "markdown",
   "metadata": {},
   "source": [
    "`<`,`>`,`==`,`>=`,`<=`,`not =`"
   ]
  },
  {
   "cell_type": "markdown",
   "metadata": {},
   "source": [
    "The `.format` function **AND/OR** the `f` string"
   ]
  },
  {
   "cell_type": "code",
   "execution_count": 14,
   "metadata": {},
   "outputs": [
    {
     "name": "stdout",
     "output_type": "stream",
     "text": [
      "Is 100 greater than 60? True\n",
      "Is 100 smaller than 60? False\n",
      "Is 100 LESS than OR EQUAL TO 60? False\n",
      "Is 100 GREATER than OR EQUAL TO 60? True\n",
      "Are 100 and 60 EQUAL? False\n",
      "Are 100 and 60 NOT EQUAL? True\n"
     ]
    }
   ],
   "source": [
    "num1 = 100\n",
    "num2 = 60\n",
    "print(\"Is {} greater than {}?\".format(num1, num2), num1>num2)\n",
    "print(f\"Is {num1} smaller than {num2}?\", num1<num2)\n",
    "print(\"Is {} LESS than OR EQUAL TO {}?\".format(num1, num2), num1 <= num2)\n",
    "print(\"Is {} GREATER than OR EQUAL TO {}?\".format(num1, num2), num1 >= num2)\n",
    "print(f\"Are {num1} and {num2} EQUAL?\", num1 == num2)\n",
    "print(f\"Are {num1} and {num2} NOT EQUAL?\", num1 != num2)   ### NOT EQUALTO operator"
   ]
  },
  {
   "cell_type": "code",
   "execution_count": null,
   "metadata": {},
   "outputs": [],
   "source": []
  },
  {
   "cell_type": "code",
   "execution_count": null,
   "metadata": {},
   "outputs": [],
   "source": []
  },
  {
   "cell_type": "code",
   "execution_count": null,
   "metadata": {},
   "outputs": [],
   "source": []
  },
  {
   "cell_type": "markdown",
   "metadata": {},
   "source": [
    "### Logical Operators"
   ]
  },
  {
   "cell_type": "markdown",
   "metadata": {},
   "source": [
    "- Logical `and`, `or` , `not` are the logical operators in Python.\n",
    "- Applicable to `BOOLEAN` values"
   ]
  },
  {
   "cell_type": "code",
   "execution_count": 8,
   "metadata": {},
   "outputs": [
    {
     "name": "stdout",
     "output_type": "stream",
     "text": [
      "AND of the above:  False\n",
      "OR of the above:  True\n",
      "NOT of True:  False\n"
     ]
    }
   ],
   "source": [
    "logical1 = False\n",
    "logical2 = True\n",
    "print(\"AND of the above: \", logical1 and logical2)\n",
    "print(\"OR of the above: \", logical1 or logical2)\n",
    "print(f\"NOT of {logical2}: \", not logical2)"
   ]
  },
  {
   "cell_type": "code",
   "execution_count": null,
   "metadata": {},
   "outputs": [],
   "source": []
  }
 ],
 "metadata": {
  "kernelspec": {
   "display_name": "Python 3 (ipykernel)",
   "language": "python",
   "name": "python3"
  },
  "language_info": {
   "codemirror_mode": {
    "name": "ipython",
    "version": 3
   },
   "file_extension": ".py",
   "mimetype": "text/x-python",
   "name": "python",
   "nbconvert_exporter": "python",
   "pygments_lexer": "ipython3",
   "version": "3.12.0"
  }
 },
 "nbformat": 4,
 "nbformat_minor": 4
}
