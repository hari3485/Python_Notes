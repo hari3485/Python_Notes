{
 "cells": [
  {
   "cell_type": "markdown",
   "metadata": {},
   "source": [
    "### List Comprehensions\n",
    "\n",
    "A common use of a for loop is to inspect each item in a sequence and build a new list by appending the results of an expression computed on some or all of the items inspected. The expression form, called a list comprehension, lets you code this common idiom concisely and directly. Since a list comprehension is an expression (rather than a block of statements), you can use it directly wherever you need an expression (e.g., as an actual argument in a function call, in a return statement, or as a subexpression for some other expression)."
   ]
  },
  {
   "cell_type": "code",
   "execution_count": null,
   "metadata": {},
   "outputs": [],
   "source": []
  },
  {
   "cell_type": "markdown",
   "metadata": {},
   "source": [
    "# number and its cube root"
   ]
  },
  {
   "cell_type": "code",
   "execution_count": null,
   "metadata": {},
   "outputs": [],
   "source": []
  },
  {
   "cell_type": "code",
   "execution_count": 6,
   "metadata": {},
   "outputs": [],
   "source": [
    "# calculate the cube root of EACH of the nos in the array and store in new list"
   ]
  },
  {
   "cell_type": "code",
   "execution_count": 2,
   "metadata": {},
   "outputs": [
    {
     "data": {
      "text/plain": [
       "[3.5568933044900626,\n",
       " 2.2894284851066637,\n",
       " 1.2599210498948732,\n",
       " 2.0,\n",
       " 3.3019272488946263,\n",
       " 6.999999999999999]"
      ]
     },
     "execution_count": 2,
     "metadata": {},
     "output_type": "execute_result"
    }
   ],
   "source": [
    "list_of_nos = [45,12,2,8,36,343]\n",
    "cube_root_list = []\n",
    "for element in list_of_nos:\n",
    "    cube_root_list.append(element ** (1/3))\n",
    "cube_root_list"
   ]
  },
  {
   "cell_type": "code",
   "execution_count": 11,
   "metadata": {},
   "outputs": [],
   "source": [
    "#List Comprehension WAY"
   ]
  },
  {
   "cell_type": "code",
   "execution_count": 4,
   "metadata": {},
   "outputs": [
    {
     "data": {
      "text/plain": [
       "[3.5568933044900626,\n",
       " 2.2894284851066637,\n",
       " 1.2599210498948732,\n",
       " 2.0,\n",
       " 3.3019272488946263,\n",
       " 6.999999999999999]"
      ]
     },
     "execution_count": 4,
     "metadata": {},
     "output_type": "execute_result"
    }
   ],
   "source": [
    "list_of_nos = [45,12,2,8,36,343]\n",
    "cube_root_list_listcomprehension = [element ** (1/3) for element in list_of_nos]\n",
    "cube_root_list_listcomprehension"
   ]
  },
  {
   "cell_type": "code",
   "execution_count": null,
   "metadata": {},
   "outputs": [],
   "source": []
  },
  {
   "cell_type": "markdown",
   "metadata": {},
   "source": [
    "# marks and their subsequent grades"
   ]
  },
  {
   "cell_type": "code",
   "execution_count": 12,
   "metadata": {},
   "outputs": [],
   "source": [
    "# normal way"
   ]
  },
  {
   "cell_type": "code",
   "execution_count": 5,
   "metadata": {},
   "outputs": [
    {
     "data": {
      "text/plain": [
       "['FAILED', 'PASSED', 'PASSED', 'FAILED', 'PASSED', 'FAILED']"
      ]
     },
     "execution_count": 5,
     "metadata": {},
     "output_type": "execute_result"
    }
   ],
   "source": [
    "marks_list = [32,45,68,12,98,33]\n",
    "grade_list = []\n",
    "for marks in marks_list:\n",
    "    if marks <= 33:\n",
    "        grade_list.append(\"FAILED\")\n",
    "    else:\n",
    "        grade_list.append(\"PASSED\")\n",
    "grade_list"
   ]
  },
  {
   "cell_type": "code",
   "execution_count": 13,
   "metadata": {},
   "outputs": [],
   "source": [
    "# list comprehension way"
   ]
  },
  {
   "cell_type": "code",
   "execution_count": 6,
   "metadata": {},
   "outputs": [
    {
     "data": {
      "text/plain": [
       "['FAILED', 'PASSED', 'PASSED', 'FAILED', 'PASSED', 'FAILED']"
      ]
     },
     "execution_count": 6,
     "metadata": {},
     "output_type": "execute_result"
    }
   ],
   "source": [
    "marks_list = [32,45,68,12,98,33]\n",
    "grade_list = [\"PASSED\" if marks > 33 else \"FAILED\" for marks in marks_list]\n",
    "grade_list"
   ]
  },
  {
   "cell_type": "code",
   "execution_count": null,
   "metadata": {},
   "outputs": [],
   "source": []
  },
  {
   "cell_type": "markdown",
   "metadata": {},
   "source": [
    "### CREATING DICTIONARY OF <b><u>`STUDENTS:MARKS`</b></u>"
   ]
  },
  {
   "cell_type": "code",
   "execution_count": 9,
   "metadata": {},
   "outputs": [
    {
     "data": {
      "text/plain": [
       "{'Hari': 45, 'Manoj': 78, 'Anshini': 98, 'Achlesh': 32}"
      ]
     },
     "execution_count": 9,
     "metadata": {},
     "output_type": "execute_result"
    }
   ],
   "source": [
    "students = [\"Hari\", \"Manoj\", \"Anshini\", \"Achlesh\"]\n",
    "marks = [45,78,98,32]\n",
    "stud_marks_dict = {}\n",
    "for index in range(len(marks)):\n",
    "    stud_marks_dict[students[index]] = marks[index]\n",
    "stud_marks_dict"
   ]
  },
  {
   "cell_type": "code",
   "execution_count": null,
   "metadata": {},
   "outputs": [],
   "source": []
  },
  {
   "cell_type": "markdown",
   "metadata": {},
   "source": [
    "### (1) with dictionary comprehension"
   ]
  },
  {
   "cell_type": "code",
   "execution_count": 10,
   "metadata": {},
   "outputs": [
    {
     "data": {
      "text/plain": [
       "{'Hari': 45, 'Manoj': 78, 'Anshini': 98, 'Achlesh': 32}"
      ]
     },
     "execution_count": 10,
     "metadata": {},
     "output_type": "execute_result"
    }
   ],
   "source": [
    "students = [\"Hari\", \"Manoj\", \"Anshini\", \"Achlesh\"]\n",
    "marks = [45,78,98,32]\n",
    "stud_marks_dict = {students[index]:marks[index] for index in range(len(students))}\n",
    "stud_marks_dict"
   ]
  },
  {
   "cell_type": "code",
   "execution_count": null,
   "metadata": {},
   "outputs": [],
   "source": []
  },
  {
   "cell_type": "code",
   "execution_count": null,
   "metadata": {},
   "outputs": [],
   "source": []
  },
  {
   "cell_type": "markdown",
   "metadata": {},
   "source": [
    "### (2) zip function"
   ]
  },
  {
   "cell_type": "code",
   "execution_count": 12,
   "metadata": {},
   "outputs": [
    {
     "data": {
      "text/plain": [
       "{'Hari': 45, 'Manoj': 78, 'Anshini': 98, 'Achlesh': 32}"
      ]
     },
     "execution_count": 12,
     "metadata": {},
     "output_type": "execute_result"
    }
   ],
   "source": [
    "students = [\"Hari\", \"Manoj\", \"Anshini\", \"Achlesh\"]\n",
    "marks = [45,78,98,32]\n",
    "dict(zip(students,marks))"
   ]
  },
  {
   "cell_type": "code",
   "execution_count": null,
   "metadata": {},
   "outputs": [],
   "source": []
  },
  {
   "cell_type": "markdown",
   "metadata": {},
   "source": [
    "#### Taking marks Dictionary `{STUDENT:MARKS}` and converting `{STUDENT:PASS-FAIL}`"
   ]
  },
  {
   "cell_type": "code",
   "execution_count": 1,
   "metadata": {},
   "outputs": [
    {
     "data": {
      "text/plain": [
       "{'Hari': 'FAILED', 'Manoj': 'PASSED', 'Anshini': 'PASSED', 'Achlesh': 'FAILED'}"
      ]
     },
     "execution_count": 1,
     "metadata": {},
     "output_type": "execute_result"
    }
   ],
   "source": [
    "stud_marks_dict = {'Hari': 45, 'Manoj': 78, 'Anshini': 98, 'Achlesh': 32}\n",
    "stud_marks_grade = {names:\"PASSED\" if marks >= 50 else \"FAILED\" for (names,marks) in stud_marks_dict.items()}\n",
    "stud_marks_grade"
   ]
  },
  {
   "cell_type": "code",
   "execution_count": 16,
   "metadata": {},
   "outputs": [
    {
     "data": {
      "text/plain": [
       "{'Hari': [45, 'FAILED'],\n",
       " 'Manoj': [78, 'PASSED'],\n",
       " 'Anshini': [98, 'PASSED'],\n",
       " 'Achlesh': [32, 'FAILED']}"
      ]
     },
     "execution_count": 16,
     "metadata": {},
     "output_type": "execute_result"
    }
   ],
   "source": [
    "stud_marks_dict = {'Hari': 45, 'Manoj': 78, 'Anshini': 98, 'Achlesh': 32}\n",
    "stud_marks_grade = {names:[marks,\"PASSED\"] if marks >= 50 else [marks,\"FAILED\"] for (names,marks) in stud_marks_dict.items()}\n",
    "stud_marks_grade"
   ]
  },
  {
   "cell_type": "code",
   "execution_count": 14,
   "metadata": {},
   "outputs": [
    {
     "data": {
      "text/plain": [
       "dict_items([('Hari', 45), ('Manoj', 78), ('Anshini', 98), ('Achlesh', 32)])"
      ]
     },
     "execution_count": 14,
     "metadata": {},
     "output_type": "execute_result"
    }
   ],
   "source": [
    "stud_marks_dict.items()"
   ]
  },
  {
   "cell_type": "code",
   "execution_count": null,
   "metadata": {},
   "outputs": [],
   "source": []
  },
  {
   "cell_type": "markdown",
   "metadata": {},
   "source": [
    "# <u>Linear Search</u>"
   ]
  },
  {
   "cell_type": "code",
   "execution_count": 12,
   "metadata": {},
   "outputs": [
    {
     "name": "stdout",
     "output_type": "stream",
     "text": [
      "110 is Not Found in the LIST\n",
      "CPU times: total: 0 ns\n",
      "Wall time: 1.11 s\n"
     ]
    }
   ],
   "source": [
    "%%time\n",
    "import time\n",
    "sample_list = [32, 12, 6, 11,89, 41, 19, 10, 56, 11, 19]\n",
    "search_element = 110\n",
    "flag = False\n",
    "for index in range(len(sample_list)):\n",
    "    if sample_list[index] == search_element:\n",
    "        flag = True\n",
    "        break\n",
    "    time.sleep(0.1)\n",
    "if flag == False:\n",
    "    print(f\"{search_element} is Not Found in the LIST\")\n",
    "else:\n",
    "    print(f\"{search_element} is found at location {index + 1}\")"
   ]
  },
  {
   "cell_type": "code",
   "execution_count": null,
   "metadata": {},
   "outputs": [],
   "source": []
  },
  {
   "cell_type": "code",
   "execution_count": null,
   "metadata": {},
   "outputs": [],
   "source": []
  },
  {
   "cell_type": "code",
   "execution_count": null,
   "metadata": {},
   "outputs": [],
   "source": []
  },
  {
   "cell_type": "markdown",
   "metadata": {},
   "source": [
    "# <u>Binary Search</u>"
   ]
  },
  {
   "cell_type": "code",
   "execution_count": null,
   "metadata": {},
   "outputs": [],
   "source": []
  },
  {
   "cell_type": "code",
   "execution_count": null,
   "metadata": {},
   "outputs": [],
   "source": []
  },
  {
   "cell_type": "code",
   "execution_count": null,
   "metadata": {},
   "outputs": [],
   "source": []
  },
  {
   "cell_type": "code",
   "execution_count": null,
   "metadata": {},
   "outputs": [],
   "source": []
  },
  {
   "cell_type": "code",
   "execution_count": null,
   "metadata": {},
   "outputs": [],
   "source": []
  }
 ],
 "metadata": {
  "kernelspec": {
   "display_name": "Python 3 (ipykernel)",
   "language": "python",
   "name": "python3"
  },
  "language_info": {
   "codemirror_mode": {
    "name": "ipython",
    "version": 3
   },
   "file_extension": ".py",
   "mimetype": "text/x-python",
   "name": "python",
   "nbconvert_exporter": "python",
   "pygments_lexer": "ipython3",
   "version": "3.12.0"
  }
 },
 "nbformat": 4,
 "nbformat_minor": 4
}
