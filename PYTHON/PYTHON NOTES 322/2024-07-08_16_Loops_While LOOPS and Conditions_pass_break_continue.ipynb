{
 "cells": [
  {
   "cell_type": "code",
   "execution_count": null,
   "metadata": {},
   "outputs": [],
   "source": []
  },
  {
   "cell_type": "markdown",
   "metadata": {
    "jp-MarkdownHeadingCollapsed": true
   },
   "source": [
    "# Today's Agenda\n",
    "\n",
    "> ### What is Conditional Statement?\n",
    "> ### What is Control Flow?\n",
    "> ### What are the conditional statements available in Python?\n",
    "> ### How to use Operators in Conditional Statement?\n",
    "> ### What is the Loop?\n",
    "> ### Why should we use Loops?\n",
    "> ### what are the different loops available in python?"
   ]
  },
  {
   "cell_type": "markdown",
   "metadata": {},
   "source": [
    "# Control statements / control flow\n",
    "\n",
    "- Controls the flow of program\n",
    "- In python flow is handled by\n",
    " - Conditional statements \n",
    "   - If \n",
    "   - IF else\n",
    "   - If elif\n",
    "   - if elif else\n",
    " - Looping\n",
    "   - For \n",
    "   - While"
   ]
  },
  {
   "cell_type": "markdown",
   "metadata": {},
   "source": [
    "![image.png](capture.png)"
   ]
  },
  {
   "cell_type": "markdown",
   "metadata": {},
   "source": [
    "## Python Indentation\n",
    "In Python, the code blocks are defined by a set of common or consistent number of spaces. This is called Python Indentation.\n",
    "The block scope will end at the first un-indented line.\n",
    "The best practice is to use on Tab space."
   ]
  },
  {
   "cell_type": "markdown",
   "metadata": {},
   "source": [
    "# While\n",
    "\n",
    "The while statement in Python supports repeated execution of a statement or block of statements that is controlled by a conditional expression.\n",
    "\n",
    "count = 0\n",
    "while x > 0:\n",
    "  x = x / 2            \n",
    "  count += 1\n",
    "First, expression, which is known as the loop condition, is evaluated. If the condition is false, the while statement ends. If the loop condition is satisfied, the statement or statements that comprise the loop body are executed. When the loop body finishes executing, the loop condition is evaluated again, to see if another iteration should be performed. This process continues until the loop condition is false, at which point the while statement ends.\n",
    "\n",
    "The loop body should contain code that eventually makes the loop condition false, or the loop will never end unless an exception is raised or the loop body executes a break statement. A loop that is in a function’s body also ends if a return statement executes in the loop body, as the whole function ends in this case.\n",
    "\n",
    "The while loop in python is used to run a block of code as long as the condition being checked for is True\n",
    "\n",
    "Syntax:\n",
    "\n",
    "while condition:\n",
    "    block_of_code\n",
    "i = i + 1 => i += 1"
   ]
  },
  {
   "cell_type": "code",
   "execution_count": null,
   "metadata": {},
   "outputs": [],
   "source": [
    "# Simple while"
   ]
  },
  {
   "cell_type": "code",
   "execution_count": 1,
   "metadata": {},
   "outputs": [
    {
     "name": "stdout",
     "output_type": "stream",
     "text": [
      "1\n",
      "2\n",
      "3\n",
      "4\n",
      "5\n",
      "6\n",
      "7\n",
      "8\n",
      "9\n"
     ]
    }
   ],
   "source": [
    "num = 1\n",
    "while num < 10:   #### LOOP and CONDITION\n",
    "    print(num)\n",
    "    num += 1  #### INCREMENT -- NECESSARY TO TERMINATE THE LOOP"
   ]
  },
  {
   "cell_type": "code",
   "execution_count": 2,
   "metadata": {},
   "outputs": [
    {
     "name": "stdout",
     "output_type": "stream",
     "text": [
      "2\n",
      "5\n",
      "8\n"
     ]
    }
   ],
   "source": [
    "num=2\n",
    "while num < 11:\n",
    "    print(num)\n",
    "    num+=3"
   ]
  },
  {
   "cell_type": "code",
   "execution_count": null,
   "metadata": {},
   "outputs": [],
   "source": []
  },
  {
   "cell_type": "code",
   "execution_count": null,
   "metadata": {},
   "outputs": [],
   "source": [
    "# using else"
   ]
  },
  {
   "cell_type": "code",
   "execution_count": 2,
   "metadata": {},
   "outputs": [
    {
     "name": "stdout",
     "output_type": "stream",
     "text": [
      "1\n",
      "2\n",
      "3\n",
      "4\n",
      "5\n",
      "6\n",
      "7\n",
      "8\n",
      "9\n",
      "The loop terminates when Number = 10\n"
     ]
    }
   ],
   "source": [
    "num = 1\n",
    "while num < 10:   #### LOOP and CONDITION\n",
    "    print(num)\n",
    "    num += 1  #### INCREMENT -- NECESSARY TO TERMINATE THE LOOP\n",
    "else:\n",
    "    print(f\"The loop terminates when Number = {num}\")"
   ]
  },
  {
   "cell_type": "code",
   "execution_count": null,
   "metadata": {},
   "outputs": [],
   "source": []
  },
  {
   "cell_type": "code",
   "execution_count": null,
   "metadata": {},
   "outputs": [],
   "source": [
    "# introducing flag value"
   ]
  },
  {
   "cell_type": "code",
   "execution_count": 1,
   "metadata": {},
   "outputs": [
    {
     "name": "stdout",
     "output_type": "stream",
     "text": [
      "5\n",
      "6\n",
      "7\n",
      "8\n",
      "9\n",
      "ENTERED the LOOP\n"
     ]
    }
   ],
   "source": [
    "num = 5\n",
    "check_num = 10\n",
    "flag = False   ### GATEKEEPER\n",
    "while check_num > num:\n",
    "    flag = True\n",
    "    print(num)\n",
    "    num = num + 1\n",
    "\n",
    "if(flag == False):\n",
    "    print(\"DID NOT enter the LOOP\")\n",
    "else:\n",
    "    print(\"ENTERED the LOOP\")"
   ]
  },
  {
   "cell_type": "code",
   "execution_count": 4,
   "metadata": {},
   "outputs": [
    {
     "name": "stdout",
     "output_type": "stream",
     "text": [
      "enter a number: 6\n",
      "enter the check number: 10\n",
      "entered the loop\n",
      "6\n",
      "7\n",
      "8\n",
      "9\n",
      "did not enter the loop\n"
     ]
    }
   ],
   "source": [
    "num=int(input(\"enter a number: \"))### 15\n",
    "check_num=int(input(\"enter the check number: \"))### 8\n",
    "if num < check_num:\n",
    "    print(\"entered the loop\")\n",
    "while num < check_num:#If we do viceverse then loop becomes infinately loop\n",
    "    print(num)\n",
    "    num=num+1\n",
    "else:\n",
    "    print(\"did not enter the loop\")"
   ]
  },
  {
   "cell_type": "code",
   "execution_count": null,
   "metadata": {},
   "outputs": [],
   "source": []
  },
  {
   "cell_type": "code",
   "execution_count": null,
   "metadata": {},
   "outputs": [],
   "source": [
    "# pattern printing"
   ]
  },
  {
   "cell_type": "raw",
   "metadata": {},
   "source": [
    "PATTERN - 1\n",
    "\n",
    "*\n",
    "**\n",
    "***\n",
    "****\n",
    "*****\n",
    "******\n",
    "*******\n",
    "********\n",
    "*********\n",
    "**********"
   ]
  },
  {
   "cell_type": "code",
   "execution_count": 4,
   "metadata": {},
   "outputs": [
    {
     "name": "stdout",
     "output_type": "stream",
     "text": [
      "* \n",
      "* * \n",
      "* * * \n",
      "* * * * \n",
      "* * * * * \n",
      "* * * * * * \n",
      "* * * * * * * \n",
      "* * * * * * * * \n",
      "* * * * * * * * * \n",
      "* * * * * * * * * * \n"
     ]
    }
   ],
   "source": [
    "row_or_stars = 1\n",
    "while row_or_stars <= 10:\n",
    "    print(\"* \" * row_or_stars)\n",
    "    row_or_stars = row_or_stars + 1"
   ]
  },
  {
   "cell_type": "code",
   "execution_count": 13,
   "metadata": {},
   "outputs": [
    {
     "name": "stdout",
     "output_type": "stream",
     "text": [
      "❄\n",
      "❄❄❄\n",
      "❄❄❄❄❄\n",
      "❄❄❄❄❄❄❄\n",
      "❄❄❄❄❄❄❄❄❄\n",
      "❄❄❄❄❄❄❄❄❄❄❄\n"
     ]
    }
   ],
   "source": [
    "star=1\n",
    "while star <= 12:\n",
    "    print(\"❄\"*star)\n",
    "    star = star + 2\n",
    "    "
   ]
  },
  {
   "cell_type": "raw",
   "metadata": {},
   "source": [
    "PATTERN - 2 (Character HINT: 10052)\n",
    "\n",
    "❄\n",
    "❄❄❄\n",
    "❄❄❄❄❄\n",
    "❄❄❄❄❄❄❄\n",
    "❄❄❄❄❄❄❄❄❄"
   ]
  },
  {
   "cell_type": "code",
   "execution_count": 5,
   "metadata": {},
   "outputs": [
    {
     "name": "stdout",
     "output_type": "stream",
     "text": [
      "❄\n",
      "❄❄❄\n",
      "❄❄❄❄❄\n",
      "❄❄❄❄❄❄❄\n",
      "❄❄❄❄❄❄❄❄❄\n"
     ]
    }
   ],
   "source": [
    "row = 1\n",
    "count = 1\n",
    "while row <= 5:\n",
    "    print(chr(10052) * count)\n",
    "    row = row + 1\n",
    "    count = count + 2"
   ]
  },
  {
   "cell_type": "code",
   "execution_count": 18,
   "metadata": {},
   "outputs": [
    {
     "name": "stdout",
     "output_type": "stream",
     "text": [
      "1\n",
      "22\n",
      "333\n",
      "4444\n",
      "55555\n",
      "666666\n",
      "7777777\n",
      "88888888\n",
      "999999999\n"
     ]
    }
   ],
   "source": [
    "num=1\n",
    "while num < 10:\n",
    "    print(str(num)*num)\n",
    "    num = num + 1"
   ]
  },
  {
   "cell_type": "raw",
   "metadata": {},
   "source": [
    "PATTERN - 3\n",
    "\n",
    "1\n",
    "22\n",
    "333\n",
    "4444\n",
    "55555\n",
    "666666\n",
    "7777777\n",
    "88888888\n",
    "999999999"
   ]
  },
  {
   "cell_type": "code",
   "execution_count": 6,
   "metadata": {},
   "outputs": [
    {
     "name": "stdout",
     "output_type": "stream",
     "text": [
      "1\n",
      "22\n",
      "333\n",
      "4444\n",
      "55555\n",
      "666666\n",
      "7777777\n",
      "88888888\n",
      "999999999\n"
     ]
    }
   ],
   "source": [
    "number = 1\n",
    "while number < 10:\n",
    "    print(str(number) * number)\n",
    "    number = number + 1"
   ]
  },
  {
   "cell_type": "code",
   "execution_count": null,
   "metadata": {},
   "outputs": [],
   "source": []
  },
  {
   "cell_type": "code",
   "execution_count": 20,
   "metadata": {},
   "outputs": [
    {
     "name": "stdout",
     "output_type": "stream",
     "text": [
      "A\n",
      "BB\n",
      "CCC\n",
      "DDDD\n",
      "EEEEE\n",
      "FFFFFF\n",
      "GGGGGGG\n",
      "HHHHHHHH\n"
     ]
    }
   ],
   "source": [
    "alpha=65\n",
    "num=1\n",
    "while num < 9:\n",
    "    print(chr(alpha)*num)\n",
    "    num=num+1\n",
    "    alpha=alpha+1"
   ]
  },
  {
   "cell_type": "raw",
   "metadata": {},
   "source": [
    "PATTERN - 4\n",
    "\n",
    "A\n",
    "BB\n",
    "CCC\n",
    "DDDD\n",
    "EEEEE\n",
    "FFFFFF\n",
    "GGGGGGG\n",
    "HHHHHHHH"
   ]
  },
  {
   "cell_type": "code",
   "execution_count": 15,
   "metadata": {},
   "outputs": [
    {
     "name": "stdout",
     "output_type": "stream",
     "text": [
      "A\n",
      "BB\n",
      "CCC\n",
      "DDDD\n",
      "EEEEE\n",
      "FFFFFF\n",
      "GGGGGGG\n",
      "HHHHHHHH\n"
     ]
    }
   ],
   "source": [
    "character = 65\n",
    "row_or_count = 1\n",
    "while row_or_count <= 8:\n",
    "    print(chr(character) * row_or_count)\n",
    "    character = character + 1\n",
    "    row_or_count = row_or_count + 1"
   ]
  },
  {
   "cell_type": "code",
   "execution_count": 16,
   "metadata": {},
   "outputs": [
    {
     "name": "stdout",
     "output_type": "stream",
     "text": [
      "✸\n",
      "✹✹\n",
      "✺✺✺\n",
      "✻✻✻✻\n",
      "✼✼✼✼✼\n",
      "✽✽✽✽✽✽\n",
      "✾✾✾✾✾✾✾\n",
      "✿✿✿✿✿✿✿✿\n"
     ]
    }
   ],
   "source": [
    "character = 10040\n",
    "row_or_count = 1\n",
    "while row_or_count <= 8:\n",
    "    print(chr(character) * row_or_count)\n",
    "    character = character + 1\n",
    "    row_or_count = row_or_count + 1"
   ]
  },
  {
   "cell_type": "raw",
   "metadata": {},
   "source": [
    "PATTERN - 5\n",
    "\n",
    "AAAAAAAA\n",
    "BBBBBBB\n",
    "CCCCCC\n",
    "DDDDD\n",
    "EEEE\n",
    "FFF\n",
    "GG\n",
    "H"
   ]
  },
  {
   "cell_type": "code",
   "execution_count": 23,
   "metadata": {},
   "outputs": [
    {
     "name": "stdout",
     "output_type": "stream",
     "text": [
      "AAAAAAAA\n",
      "BBBBBBB\n",
      "CCCCCC\n",
      "DDDDD\n",
      "EEEE\n",
      "FFF\n",
      "GG\n",
      "H\n"
     ]
    }
   ],
   "source": [
    "character=65\n",
    "times=8\n",
    "while times > 0:\n",
    "    print(chr(character)*times)\n",
    "    character+=1\n",
    "    times-=1"
   ]
  },
  {
   "cell_type": "code",
   "execution_count": 18,
   "metadata": {},
   "outputs": [
    {
     "name": "stdout",
     "output_type": "stream",
     "text": [
      "AAAAAAAA\n",
      "BBBBBBB\n",
      "CCCCCC\n",
      "DDDDD\n",
      "EEEE\n",
      "FFF\n",
      "GG\n",
      "H\n"
     ]
    }
   ],
   "source": [
    "character = 65\n",
    "#row = 1\n",
    "count = 8\n",
    "while count > 0:\n",
    "    print(chr(character) * count)\n",
    "    count = count - 1\n",
    " #   row = row + 1\n",
    "    character = character + 1"
   ]
  },
  {
   "cell_type": "code",
   "execution_count": null,
   "metadata": {},
   "outputs": [],
   "source": []
  },
  {
   "cell_type": "code",
   "execution_count": null,
   "metadata": {},
   "outputs": [],
   "source": []
  },
  {
   "cell_type": "raw",
   "metadata": {},
   "source": [
    "PATTERN - 6\n",
    "\n",
    "AAAAAAAAA\n",
    "BBBBBBBB\n",
    "CCCCCCC\n",
    "DDDDDD\n",
    "=====\n",
    "FFFF\n",
    "GGG\n",
    "HH\n",
    "I"
   ]
  },
  {
   "cell_type": "code",
   "execution_count": 25,
   "metadata": {},
   "outputs": [
    {
     "name": "stdout",
     "output_type": "stream",
     "text": [
      "AAAAAAAAA\n",
      "BBBBBBBB\n",
      "CCCCCCC\n",
      "DDDDDD\n",
      "=====\n",
      "FFFF\n",
      "GGG\n",
      "HH\n",
      "I\n"
     ]
    }
   ],
   "source": [
    "character = 65\n",
    "count = 9\n",
    "while count > 0:\n",
    "    if count == 5:\n",
    "        print(\"=\" * count)\n",
    "    else:\n",
    "        print(chr(character) * count)\n",
    "    character = character + 1\n",
    "    count = count - 1"
   ]
  },
  {
   "cell_type": "code",
   "execution_count": null,
   "metadata": {},
   "outputs": [],
   "source": []
  },
  {
   "cell_type": "markdown",
   "metadata": {},
   "source": [
    "# Print the pattern"
   ]
  },
  {
   "cell_type": "raw",
   "metadata": {},
   "source": [
    "PATTERN - 7\n",
    "\n",
    "     A       \n",
    "    BBB      \n",
    "   CCCCC     \n",
    "  DDDDDDD    \n",
    " EEEEEEEEE   \n",
    "FFFFFFFFFFF  "
   ]
  },
  {
   "cell_type": "code",
   "execution_count": 31,
   "metadata": {},
   "outputs": [
    {
     "name": "stdout",
     "output_type": "stream",
     "text": [
      "     A\n",
      "    BBB\n",
      "   CCCCC\n",
      "  DDDDDDD\n",
      " EEEEEEEEE\n",
      "FFFFFFFFFFF\n"
     ]
    }
   ],
   "source": [
    "character=65\n",
    "space=5\n",
    "number=1\n",
    "while number < 12:\n",
    "    print(\" \"*space+chr(character)*(number))\n",
    "    space=space-1\n",
    "    number=number+2\n",
    "    character=character+1"
   ]
  },
  {
   "cell_type": "code",
   "execution_count": 53,
   "metadata": {},
   "outputs": [
    {
     "name": "stdout",
     "output_type": "stream",
     "text": [
      "*\n",
      "*  *\n",
      "*    *\n",
      "*      *\n",
      "*        *\n",
      "*          *\n",
      "*            *\n",
      "*              *\n",
      "*                *\n",
      "*                  *\n",
      "*                    *\n",
      "**********************\n"
     ]
    }
   ],
   "source": [
    "space=2\n",
    "number=1\n",
    "print(\"*\")\n",
    "while space <= 20:\n",
    "    print(\"*\"+\" \"*space+\"*\")\n",
    "    number=number+1\n",
    "    space=space+2\n",
    "print(\"*\" * space)\n",
    "#use space inplace of print in last line when u increase the space it wont change much"
   ]
  },
  {
   "cell_type": "raw",
   "metadata": {},
   "source": [
    "PATTERN - 8\n",
    "\n",
    "*                \n",
    "*  *             \n",
    "*    *           \n",
    "*      *         \n",
    "*        *       \n",
    "*          *     \n",
    "**************   "
   ]
  },
  {
   "cell_type": "code",
   "execution_count": 55,
   "metadata": {},
   "outputs": [
    {
     "name": "stdout",
     "output_type": "stream",
     "text": [
      "*\n",
      "*  *\n",
      "*    *\n",
      "*      *\n",
      "*        *\n",
      "*          *\n",
      "*            *\n",
      "*              *\n",
      "*                *\n",
      "*                  *\n",
      "*                    *\n",
      "**********************\n"
     ]
    }
   ],
   "source": [
    "space=2\n",
    "number=1\n",
    "while space <= 20:\n",
    "    print(\"*\"+\" \"*space+\"*\")\n",
    "    number=number+1\n",
    "    space=space+2\n",
    "print(\"*\" * space)"
   ]
  },
  {
   "cell_type": "code",
   "execution_count": null,
   "metadata": {},
   "outputs": [],
   "source": []
  },
  {
   "cell_type": "raw",
   "metadata": {},
   "source": [
    "PATTERN - 9\n",
    "\n",
    "            *  \n",
    "         *  *  \n",
    "       *    *  \n",
    "     *      *  \n",
    "   *        *  \n",
    " *          *  \n",
    "*************  "
   ]
  },
  {
   "cell_type": "code",
   "execution_count": null,
   "metadata": {},
   "outputs": [],
   "source": []
  },
  {
   "cell_type": "code",
   "execution_count": null,
   "metadata": {},
   "outputs": [],
   "source": []
  },
  {
   "cell_type": "raw",
   "metadata": {},
   "source": [
    "PATTERN - 10\n",
    "\n",
    "A\n",
    "AB\n",
    "ABC\n",
    "ABCD\n",
    "ABCDE"
   ]
  },
  {
   "cell_type": "code",
   "execution_count": null,
   "metadata": {},
   "outputs": [],
   "source": []
  },
  {
   "cell_type": "code",
   "execution_count": null,
   "metadata": {},
   "outputs": [],
   "source": []
  },
  {
   "cell_type": "code",
   "execution_count": null,
   "metadata": {},
   "outputs": [],
   "source": []
  },
  {
   "cell_type": "markdown",
   "metadata": {},
   "source": [
    "## Controlflow Statements\n",
    "\n",
    "Control flow statements in python are used to control the flow of the loop nd to alter its course. There are three control flow statements:\n",
    "- `pass`: The pass keyword is used in the place of a block which is required syntactically but not logically.\n",
    "- `break`: The break keyword is used to terminate the loop altogether\n",
    "- `continue`: The continue keyword is used to terminate the current iteration"
   ]
  },
  {
   "cell_type": "code",
   "execution_count": 25,
   "metadata": {},
   "outputs": [
    {
     "name": "stdout",
     "output_type": "stream",
     "text": [
      "12\n"
     ]
    }
   ],
   "source": [
    "num = 1\n",
    "if num < 20:\n",
    "    pass   ### needed SYNTACTICALLY\n",
    "print(12)"
   ]
  },
  {
   "cell_type": "code",
   "execution_count": 27,
   "metadata": {},
   "outputs": [
    {
     "name": "stdout",
     "output_type": "stream",
     "text": [
      "1\n",
      "2\n",
      "3\n",
      "4\n",
      "End of PROGRAM\n"
     ]
    }
   ],
   "source": [
    "num = 1\n",
    "while num < 10:\n",
    "    if num == 5:\n",
    "        break\n",
    "    print(num)\n",
    "    num += 1\n",
    "else:\n",
    "    print(\"Out of the loop\")\n",
    "print(\"End of PROGRAM\")"
   ]
  },
  {
   "cell_type": "code",
   "execution_count": 4,
   "metadata": {},
   "outputs": [
    {
     "name": "stdout",
     "output_type": "stream",
     "text": [
      "1\n",
      "2\n",
      "3\n",
      "4\n",
      "The number 5 gets CONTINUED\n",
      "6\n",
      "7\n",
      "8\n",
      "9\n",
      "10\n",
      "Out of the loop\n",
      "End of PROGRAM\n"
     ]
    }
   ],
   "source": [
    "num = 0\n",
    "while num < 10:\n",
    "    num += 1\n",
    "    if num == 5:\n",
    "        print(\"The number 5 gets CONTINUED\")\n",
    "        continue\n",
    "    print(num)\n",
    "else:\n",
    "    print(\"Out of the loop\")\n",
    "print(\"End of PROGRAM\")"
   ]
  },
  {
   "cell_type": "code",
   "execution_count": null,
   "metadata": {},
   "outputs": [],
   "source": []
  }
 ],
 "metadata": {
  "kernelspec": {
   "display_name": "Python 3 (ipykernel)",
   "language": "python",
   "name": "python3"
  },
  "language_info": {
   "codemirror_mode": {
    "name": "ipython",
    "version": 3
   },
   "file_extension": ".py",
   "mimetype": "text/x-python",
   "name": "python",
   "nbconvert_exporter": "python",
   "pygments_lexer": "ipython3",
   "version": "3.11.5"
  }
 },
 "nbformat": 4,
 "nbformat_minor": 4
}
