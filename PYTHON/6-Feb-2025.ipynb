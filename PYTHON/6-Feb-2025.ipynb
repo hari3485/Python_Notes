{
 "cells": [
  {
   "cell_type": "markdown",
   "id": "b9f7101f",
   "metadata": {},
   "source": [
    "# Swapping numbers"
   ]
  },
  {
   "cell_type": "code",
   "execution_count": 1,
   "id": "485b9bdc",
   "metadata": {},
   "outputs": [
    {
     "name": "stdout",
     "output_type": "stream",
     "text": [
      "12 13\n",
      "13 12\n"
     ]
    }
   ],
   "source": [
    "a = 12\n",
    "b = 13\n",
    "print(a,b)\n",
    "a,b = b,a\n",
    "print(a,b)\n"
   ]
  },
  {
   "cell_type": "code",
   "execution_count": 3,
   "id": "4cdabd99",
   "metadata": {},
   "outputs": [
    {
     "name": "stdout",
     "output_type": "stream",
     "text": [
      "20 30\n",
      "30 20\n"
     ]
    }
   ],
   "source": [
    "num1 = 20\n",
    "num2 = 30\n",
    "print(num1,num2)\n",
    "temp = num1 #storing num1 in temp\n",
    "num1 = num2 #storing num2 in num1\n",
    "num2 = temp # storing num2 in temp\n",
    "print(num1,num2)"
   ]
  },
  {
   "cell_type": "code",
   "execution_count": 4,
   "id": "3d761860",
   "metadata": {},
   "outputs": [
    {
     "name": "stdout",
     "output_type": "stream",
     "text": [
      "enter the number 112\n",
      "enter the number 269\n",
      "12 69\n",
      "69 12\n"
     ]
    }
   ],
   "source": [
    "num1 = int(input(\"enter the number 1\"))\n",
    "num2 = int(input(\"enter the number 2\"))\n",
    "print(num1,num2)\n",
    "temp = num1\n",
    "num1 = num2\n",
    "num2 = temp\n",
    "print(num1,num2)\n"
   ]
  },
  {
   "cell_type": "code",
   "execution_count": 1,
   "id": "ac67ec66",
   "metadata": {},
   "outputs": [
    {
     "name": "stdout",
     "output_type": "stream",
     "text": [
      "13 12\n"
     ]
    }
   ],
   "source": [
    "a = 12\n",
    "b = 13 \n",
    "a,b = b,a\n",
    "print(a,b)"
   ]
  },
  {
   "cell_type": "code",
   "execution_count": 2,
   "id": "e48e7e84",
   "metadata": {},
   "outputs": [
    {
     "name": "stdout",
     "output_type": "stream",
     "text": [
      "34 12\n"
     ]
    }
   ],
   "source": [
    "a = 12\n",
    "b = 34\n",
    "temp = a # 12\n",
    "a = b  # 34 \n",
    "b = temp # 12\n",
    "print(a,b)"
   ]
  },
  {
   "cell_type": "markdown",
   "id": "b47b7dc6",
   "metadata": {},
   "source": [
    "# Prime number"
   ]
  },
  {
   "cell_type": "code",
   "execution_count": 3,
   "id": "10dcfef6",
   "metadata": {},
   "outputs": [
    {
     "name": "stdout",
     "output_type": "stream",
     "text": [
      "number is prime \n"
     ]
    }
   ],
   "source": [
    "num = 7\n",
    "count = 0\n",
    "if num > 0:\n",
    "    for i in range(1,num+1):\n",
    "        if num % i == 0:\n",
    "            count = count+ 1\n",
    "    if count == 2:\n",
    "        print(\"number is prime \")\n",
    "    else:\n",
    "        print(\"number is not prime\")\n",
    "        "
   ]
  },
  {
   "cell_type": "markdown",
   "id": "65b5bbab",
   "metadata": {},
   "source": [
    "- Here in for loop looping the numbers i put condition that if num gives remainder 0 we consider it a factor when ever we have 2 factors we will stop dividing as prime number has only 2 factors and i alos using count variable to store counts when ever there is count == 2 division should stop and give prime number"
   ]
  },
  {
   "cell_type": "markdown",
   "id": "69e6ac81",
   "metadata": {},
   "source": [
    "# Factorial number"
   ]
  },
  {
   "cell_type": "code",
   "execution_count": 7,
   "id": "f9e13dc1",
   "metadata": {},
   "outputs": [
    {
     "name": "stdout",
     "output_type": "stream",
     "text": [
      "120 is the factorial of 5\n"
     ]
    }
   ],
   "source": [
    "num = 5\n",
    "fact = 1\n",
    "if num < 0:\n",
    "    print(\"for negative numbers we don have factorial\")\n",
    "elif num == 0:\n",
    "    print(\"1 is the factorial\")\n",
    "else:\n",
    "\n",
    "    for i in range(1,num+1):\n",
    "        fact = fact * i\n",
    "    print(f\"{fact} is the factorial of {num}\")"
   ]
  },
  {
   "cell_type": "markdown",
   "id": "d7ae8a69",
   "metadata": {},
   "source": [
    "# Recurssion"
   ]
  },
  {
   "cell_type": "code",
   "execution_count": 8,
   "id": "d03a0204",
   "metadata": {},
   "outputs": [
    {
     "data": {
      "text/plain": [
       "3628800"
      ]
     },
     "execution_count": 8,
     "metadata": {},
     "output_type": "execute_result"
    }
   ],
   "source": [
    "def factorial(n):\n",
    "    if (n == 0) or (n == 1):\n",
    "        return 1\n",
    "    else:\n",
    "        return n * factorial(n-1)\n",
    "    \n",
    "    \n",
    "factorial(10)"
   ]
  },
  {
   "cell_type": "markdown",
   "id": "99c4e2d1",
   "metadata": {},
   "source": [
    "- Here we are calling the function itself again in return statement when ever we call function itself we can say it is recursion"
   ]
  },
  {
   "cell_type": "markdown",
   "id": "74d68590",
   "metadata": {},
   "source": [
    "## Ternary operator"
   ]
  },
  {
   "cell_type": "code",
   "execution_count": 9,
   "id": "a65f8789",
   "metadata": {},
   "outputs": [
    {
     "data": {
      "text/plain": [
       "3628800"
      ]
     },
     "execution_count": 9,
     "metadata": {},
     "output_type": "execute_result"
    }
   ],
   "source": [
    "def factorial(n):\n",
    "    return 1 if n==0 or n==1 else n*factorial(n-1)\n",
    "\n",
    "\n",
    "factorial(10)"
   ]
  },
  {
   "cell_type": "markdown",
   "id": "fc88c578",
   "metadata": {},
   "source": [
    "# Fibinocci number"
   ]
  },
  {
   "cell_type": "code",
   "execution_count": 10,
   "id": "dfa2d815",
   "metadata": {},
   "outputs": [
    {
     "name": "stdout",
     "output_type": "stream",
     "text": [
      "1\n",
      "2\n",
      "3\n",
      "5\n",
      "8\n",
      "13\n",
      "21\n",
      "34\n"
     ]
    }
   ],
   "source": [
    "n1 = 0\n",
    "n2 = 1\n",
    "\n",
    "# fibonacci number = 0,1,1,2,3,5,8,13\n",
    "\n",
    "for i in range(2,10):\n",
    "    fib = n1 + n2\n",
    "    fib\n",
    "    n1 = n2\n",
    "    n2 = fib\n",
    "    print(fib)"
   ]
  },
  {
   "cell_type": "markdown",
   "id": "ddb4f5c6",
   "metadata": {},
   "source": [
    "- frst step defining 2 numbers after that i created a temporary variable which gives fibinocci pattern adding two consective numbers and i did for frst 2 numbers then numbers will be changing num 1 becomes num2 and num 2 becomes num1+num2 so in this process i have to loop them."
   ]
  },
  {
   "cell_type": "markdown",
   "id": "b1ca1648",
   "metadata": {},
   "source": [
    "# Sum of numbers in a array"
   ]
  },
  {
   "cell_type": "code",
   "execution_count": 11,
   "id": "69f19144",
   "metadata": {},
   "outputs": [
    {
     "data": {
      "text/plain": [
       "162"
      ]
     },
     "execution_count": 11,
     "metadata": {},
     "output_type": "execute_result"
    }
   ],
   "source": [
    "array = [1,2,3,67,89]\n",
    "sum(array)"
   ]
  },
  {
   "cell_type": "markdown",
   "id": "5c6f7831",
   "metadata": {},
   "source": [
    "- Now i want to add additional value and subtract additional value to the array"
   ]
  },
  {
   "cell_type": "code",
   "execution_count": 14,
   "id": "54d8adbe",
   "metadata": {},
   "outputs": [
    {
     "name": "stdout",
     "output_type": "stream",
     "text": [
      "172\n"
     ]
    }
   ],
   "source": [
    "print(sum(array,10))\n",
    "\n",
    "# i am adding 10 to this array"
   ]
  },
  {
   "cell_type": "code",
   "execution_count": 15,
   "id": "a3e336ae",
   "metadata": {},
   "outputs": [
    {
     "name": "stdout",
     "output_type": "stream",
     "text": [
      "-8\n"
     ]
    }
   ],
   "source": [
    "print(sum(array,-170))\n",
    "\n",
    "# subtracting -170 from array 162-170 = -8"
   ]
  },
  {
   "cell_type": "markdown",
   "id": "db674d87",
   "metadata": {},
   "source": [
    "# Finding maximum and minimum value in the array"
   ]
  },
  {
   "cell_type": "code",
   "execution_count": null,
   "id": "855e37e2",
   "metadata": {},
   "outputs": [],
   "source": [
    "arr "
   ]
  },
  {
   "cell_type": "markdown",
   "id": "b5cc7733",
   "metadata": {},
   "source": [
    "# Basics Of Python"
   ]
  },
  {
   "cell_type": "code",
   "execution_count": 7,
   "id": "89804488",
   "metadata": {},
   "outputs": [
    {
     "name": "stdout",
     "output_type": "stream",
     "text": [
      "hey hello\n"
     ]
    }
   ],
   "source": [
    "print(\"hey\",\"hello\")\n",
    "\n",
    "# by default seperator is \"space\""
   ]
  },
  {
   "cell_type": "code",
   "execution_count": 8,
   "id": "dcf9b2ba",
   "metadata": {},
   "outputs": [
    {
     "name": "stdout",
     "output_type": "stream",
     "text": [
      "hello~world\n"
     ]
    }
   ],
   "source": [
    "print(\"hello\",\"world\",sep=\"~\")\n",
    "\n",
    "#what ever the seperator we give it puts inplace of space"
   ]
  },
  {
   "cell_type": "code",
   "execution_count": null,
   "id": "98eb5880",
   "metadata": {},
   "outputs": [],
   "source": []
  }
 ],
 "metadata": {
  "kernelspec": {
   "display_name": "Python 3 (ipykernel)",
   "language": "python",
   "name": "python3"
  },
  "language_info": {
   "codemirror_mode": {
    "name": "ipython",
    "version": 3
   },
   "file_extension": ".py",
   "mimetype": "text/x-python",
   "name": "python",
   "nbconvert_exporter": "python",
   "pygments_lexer": "ipython3",
   "version": "3.11.5"
  }
 },
 "nbformat": 4,
 "nbformat_minor": 5
}
