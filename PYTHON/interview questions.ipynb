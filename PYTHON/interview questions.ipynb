{
 "cells": [
  {
   "cell_type": "markdown",
   "id": "b6a2e7e7",
   "metadata": {},
   "source": [
    "#### PYTHON INTERVIEW QUESTIONS"
   ]
  },
  {
   "cell_type": "markdown",
   "id": "7d033f8b",
   "metadata": {},
   "source": [
    "#### 1.Write a Python program to swap two variables, without using the 3rd variable.\n"
   ]
  },
  {
   "cell_type": "code",
   "execution_count": 17,
   "id": "1a4562a4",
   "metadata": {},
   "outputs": [],
   "source": [
    "var1=23\n",
    "var2=34\n",
    "(var1,var2)=(var2,var1)"
   ]
  },
  {
   "cell_type": "code",
   "execution_count": 18,
   "id": "ef7dd7fd",
   "metadata": {},
   "outputs": [
    {
     "data": {
      "text/plain": [
       "34"
      ]
     },
     "execution_count": 18,
     "metadata": {},
     "output_type": "execute_result"
    }
   ],
   "source": [
    "var1"
   ]
  },
  {
   "cell_type": "code",
   "execution_count": 19,
   "id": "c056478d",
   "metadata": {},
   "outputs": [
    {
     "data": {
      "text/plain": [
       "23"
      ]
     },
     "execution_count": 19,
     "metadata": {},
     "output_type": "execute_result"
    }
   ],
   "source": [
    "var2"
   ]
  },
  {
   "cell_type": "code",
   "execution_count": 20,
   "id": "be4388ab",
   "metadata": {},
   "outputs": [],
   "source": [
    "#### 2.Write a Python program to convert miles to kilometers. "
   ]
  },
  {
   "cell_type": "code",
   "execution_count": 25,
   "id": "c333bacc",
   "metadata": {},
   "outputs": [
    {
     "name": "stdout",
     "output_type": "stream",
     "text": [
      "enter a number to convert mile to km: 7\n"
     ]
    },
    {
     "data": {
      "text/plain": [
       "(11.200000000000001, 'kilometres')"
      ]
     },
     "execution_count": 25,
     "metadata": {},
     "output_type": "execute_result"
    }
   ],
   "source": [
    "# we know that 1mile is 1.6km\n",
    "mil=int(input(\"enter a number to convert mile to km: \"))\n",
    "km=(mil*(1.6),\"kilometres\")\n",
    "km"
   ]
  },
  {
   "cell_type": "markdown",
   "id": "e160a17d",
   "metadata": {},
   "source": [
    "#### 3.Write a Python program to display a calendar for the 9th month and 2024 year."
   ]
  },
  {
   "cell_type": "code",
   "execution_count": 28,
   "id": "0d104971",
   "metadata": {},
   "outputs": [
    {
     "name": "stdout",
     "output_type": "stream",
     "text": [
      "   September 2024\n",
      "Mo Tu We Th Fr Sa Su\n",
      "                   1\n",
      " 2  3  4  5  6  7  8\n",
      " 9 10 11 12 13 14 15\n",
      "16 17 18 19 20 21 22\n",
      "23 24 25 26 27 28 29\n",
      "30\n",
      "\n"
     ]
    }
   ],
   "source": [
    "import calendar\n",
    "yy = 2024\n",
    "mm = 9\n",
    "print(calendar.month(yy,mm))"
   ]
  },
  {
   "cell_type": "code",
   "execution_count": null,
   "id": "c4cd1da2",
   "metadata": {},
   "outputs": [],
   "source": [
    "#### 4.Write a Python program to solve quadratic equations using the Math library"
   ]
  },
  {
   "cell_type": "code",
   "execution_count": null,
   "id": "e9a1f007",
   "metadata": {},
   "outputs": [],
   "source": []
  },
  {
   "cell_type": "code",
   "execution_count": null,
   "id": "5f3ec6d6",
   "metadata": {},
   "outputs": [],
   "source": [
    "#### 5.Write a logic to Check if a Number is Positive, Negative or Zero."
   ]
  },
  {
   "cell_type": "code",
   "execution_count": 34,
   "id": "221fca11",
   "metadata": {},
   "outputs": [
    {
     "name": "stdout",
     "output_type": "stream",
     "text": [
      "enter a number : 90\n",
      "90 is positive number\n"
     ]
    }
   ],
   "source": [
    "num=int(input(\"enter a number : \"))\n",
    "if num == 0:\n",
    "    print(f\"{num} is equal to zero\")\n",
    "elif num < 0:\n",
    "    print(f\"{num} is negative number\")\n",
    "elif num > 0:\n",
    "    print(f\"{num} is positive number\")"
   ]
  },
  {
   "cell_type": "code",
   "execution_count": null,
   "id": "30b7368e",
   "metadata": {},
   "outputs": [],
   "source": [
    "#### 6.Write a Python Program to Check if the given Number is Odd or Even"
   ]
  },
  {
   "cell_type": "code",
   "execution_count": 35,
   "id": "a41412fa",
   "metadata": {},
   "outputs": [
    {
     "name": "stdout",
     "output_type": "stream",
     "text": [
      "enter a number: 8\n"
     ]
    },
    {
     "data": {
      "text/plain": [
       "['even']"
      ]
     },
     "execution_count": 35,
     "metadata": {},
     "output_type": "execute_result"
    }
   ],
   "source": [
    "num=int(input(\"enter a number: \"))\n",
    "[\"even\" if num % 2 ==0 else \"odd\"]"
   ]
  },
  {
   "cell_type": "code",
   "execution_count": 58,
   "id": "b194d9c2",
   "metadata": {},
   "outputs": [],
   "source": [
    "#### 7.Write a Python Program to Check Leap Year or not ?"
   ]
  },
  {
   "cell_type": "code",
   "execution_count": 57,
   "id": "52677acd",
   "metadata": {},
   "outputs": [
    {
     "data": {
      "text/plain": [
       "['not a leapyear']"
      ]
     },
     "execution_count": 57,
     "metadata": {},
     "output_type": "execute_result"
    }
   ],
   "source": [
    "year=2001\n",
    "[\"leap year\" if ((year%4) or (year%400)) ==0 and ((year%100) !=0) else \"not a leapyear\" ]"
   ]
  },
  {
   "cell_type": "code",
   "execution_count": 77,
   "id": "0e2a2734",
   "metadata": {},
   "outputs": [],
   "source": [
    "#### 8.Write a Python Program to Check the given number Prime Number or not."
   ]
  },
  {
   "cell_type": "code",
   "execution_count": 82,
   "id": "82a9b666",
   "metadata": {},
   "outputs": [
    {
     "name": "stdout",
     "output_type": "stream",
     "text": [
      "it is prime number\n"
     ]
    }
   ],
   "source": [
    "number=97\n",
    "flag=True\n",
    "for i in range(2,number):\n",
    "    if number % i == 0:\n",
    "        print(\"checking number: \", i)\n",
    "        flag = False\n",
    "if flag == True:\n",
    "    print(\"it is prime number\")\n",
    "else:\n",
    "    print(\"it is not  a prime\")\n",
    "    "
   ]
  },
  {
   "cell_type": "markdown",
   "id": "a2fc7804",
   "metadata": {},
   "source": [
    "#### 9.Write a Python Program to Print all Prime Numbers in an Interval of 1 to 100.\n"
   ]
  },
  {
   "cell_type": "code",
   "execution_count": 122,
   "id": "943f1c0e",
   "metadata": {},
   "outputs": [
    {
     "name": "stdout",
     "output_type": "stream",
     "text": [
      " 3 is prime number\n",
      " 5 is prime number\n",
      " 7 is prime number\n",
      " 9 is prime number\n",
      " 11 is prime number\n",
      " 13 is prime number\n",
      " 15 is prime number\n",
      " 17 is prime number\n",
      " 19 is prime number\n",
      " 21 is prime number\n",
      " 23 is prime number\n",
      " 25 is prime number\n",
      " 27 is prime number\n",
      " 29 is prime number\n",
      " 31 is prime number\n",
      " 33 is prime number\n",
      " 35 is prime number\n",
      " 37 is prime number\n",
      " 39 is prime number\n",
      " 41 is prime number\n",
      " 43 is prime number\n",
      " 45 is prime number\n",
      " 47 is prime number\n",
      " 49 is prime number\n",
      " 51 is prime number\n",
      " 53 is prime number\n",
      " 55 is prime number\n",
      " 57 is prime number\n",
      " 59 is prime number\n",
      " 61 is prime number\n",
      " 63 is prime number\n",
      " 65 is prime number\n",
      " 67 is prime number\n",
      " 69 is prime number\n",
      " 71 is prime number\n",
      " 73 is prime number\n",
      " 75 is prime number\n",
      " 77 is prime number\n",
      " 79 is prime number\n",
      " 81 is prime number\n",
      " 83 is prime number\n",
      " 85 is prime number\n",
      " 87 is prime number\n",
      " 89 is prime number\n",
      " 91 is prime number\n",
      " 93 is prime number\n",
      " 95 is prime number\n",
      " 97 is prime number\n",
      " 99 is prime number\n"
     ]
    }
   ],
   "source": [
    "number1=2\n",
    "number2=100\n",
    "\n",
    "\n",
    "for i in range(number1,number2+1):\n",
    "    if i > 1:\n",
    "        flag = True\n",
    "#         print(i)\n",
    "    for j in range(number1,number2+1):\n",
    "        if i % j == 0:\n",
    "            flag = False\n",
    "        break\n",
    "    if flag:\n",
    "        print(f\" {i} is prime number\")\n",
    "  "
   ]
  },
  {
   "cell_type": "code",
   "execution_count": 1,
   "id": "3914fba7",
   "metadata": {},
   "outputs": [],
   "source": [
    "#### 10.Write a Python Program to Find the Factorial of a given Number."
   ]
  },
  {
   "cell_type": "code",
   "execution_count": 4,
   "id": "dc014a76",
   "metadata": {},
   "outputs": [
    {
     "name": "stdout",
     "output_type": "stream",
     "text": [
      "enter a number: 7\n",
      "5040\n"
     ]
    }
   ],
   "source": [
    "fact=1\n",
    "num=int(input(\"enter a number: \"))\n",
    "for element in range(2,num+1):\n",
    "    fact = fact * element\n",
    "print(fact)"
   ]
  },
  {
   "cell_type": "code",
   "execution_count": null,
   "id": "cbe13d8f",
   "metadata": {},
   "outputs": [],
   "source": [
    "#### 11.Write a Python Program to Display the multiplication of 5th Table."
   ]
  },
  {
   "cell_type": "code",
   "execution_count": 6,
   "id": "b367df8e",
   "metadata": {},
   "outputs": [
    {
     "name": "stdout",
     "output_type": "stream",
     "text": [
      " 5 * 1 = 5\n",
      " 5 * 2 = 10\n",
      " 5 * 3 = 15\n",
      " 5 * 4 = 20\n",
      " 5 * 5 = 25\n",
      " 5 * 6 = 30\n",
      " 5 * 7 = 35\n",
      " 5 * 8 = 40\n",
      " 5 * 9 = 45\n",
      " 5 * 10 = 50\n"
     ]
    }
   ],
   "source": [
    "mul=5\n",
    "num=1\n",
    "for element in range(1,11):\n",
    "    print(f\" {mul} * {element} = {mul*element}\")"
   ]
  },
  {
   "cell_type": "code",
   "execution_count": null,
   "id": "d3aa41c7",
   "metadata": {},
   "outputs": [],
   "source": [
    "#### 12.Write a Python code to Print the Fibonacci sequence."
   ]
  },
  {
   "cell_type": "code",
   "execution_count": 11,
   "id": "3fd6ba34",
   "metadata": {},
   "outputs": [
    {
     "name": "stdout",
     "output_type": "stream",
     "text": [
      "[0, 1, 1, 2, 3, 5, 8, 13, 21]\n"
     ]
    }
   ],
   "source": [
    "noof_ter=7\n",
    "firstnum=0\n",
    "secondnum=1\n",
    "fib_list=[firstnum,secondnum]\n",
    "for i in range(7):\n",
    "    thirdnum=firstnum + secondnum\n",
    "#     print(thirdnum)\n",
    "    fib_list.append(thirdnum)\n",
    "    firstnum=secondnum\n",
    "    secondnum=thirdnum\n",
    "print(fib_list)"
   ]
  },
  {
   "cell_type": "code",
   "execution_count": null,
   "id": "b1fab824",
   "metadata": {},
   "outputs": [],
   "source": [
    "#### 12.Write a Python Program to Check if the  given number is Armstrong Number or not ?"
   ]
  },
  {
   "cell_type": "code",
   "execution_count": 78,
   "id": "10c660c8",
   "metadata": {},
   "outputs": [
    {
     "name": "stdout",
     "output_type": "stream",
     "text": [
      "enter a number: 153\n",
      "153\n",
      "it is armstrong number\n"
     ]
    }
   ],
   "source": [
    "num=int(input(\"enter a number: \"))\n",
    "num_string=str(num)\n",
    "num_digits=len(num_string)\n",
    "sum_digits=0\n",
    "for element in num_string:\n",
    "    sum_digits=sum_digits+int(element)**num_digits\n",
    "print(sum_digits)\n",
    "if sum_digits == (num):\n",
    "    print(\"it is armstrong number\")\n",
    "else:\n",
    "    print(\"it is not a armstrong number\")"
   ]
  },
  {
   "cell_type": "code",
   "execution_count": null,
   "id": "0a2491cf",
   "metadata": {},
   "outputs": [],
   "source": [
    "#### 13.Write a Python Program to Find Armstrong Number in an Interval of 1 to 100"
   ]
  },
  {
   "cell_type": "code",
   "execution_count": 76,
   "id": "c0ffd98e",
   "metadata": {},
   "outputs": [
    {
     "name": "stdout",
     "output_type": "stream",
     "text": [
      "1 is armstrong number\n",
      "2 is armstrong number\n",
      "3 is armstrong number\n",
      "4 is armstrong number\n",
      "5 is armstrong number\n",
      "6 is armstrong number\n",
      "7 is armstrong number\n",
      "8 is armstrong number\n",
      "9 is armstrong number\n",
      "[1, 2, 3, 4, 5, 6, 7, 8, 9]\n"
     ]
    }
   ],
   "source": [
    "list1=[]\n",
    "for num in range(1,101):\n",
    "#     print(num)\n",
    "    num_string=str(num)\n",
    "    num_digits=len(num_string)\n",
    "    sum_digits=0 \n",
    "    for element in num_string:\n",
    "        sum_digits=sum_digits+int(element)**num_digits\n",
    "#     print(sum_digits)\n",
    "    if sum_digits == num:\n",
    "        list1.append(num)\n",
    "        print(f\"{num} is armstrong number\")\n",
    "print(list1)\n",
    "#     else:\n",
    "#         print(\"it is not a armstrong number\")"
   ]
  },
  {
   "cell_type": "markdown",
   "id": "c54d64f9",
   "metadata": {},
   "source": [
    "#### 15.Write a Python Program to Convert Decimal to Binary, Octal and Hexadecimal"
   ]
  },
  {
   "cell_type": "code",
   "execution_count": null,
   "id": "6a6209be",
   "metadata": {},
   "outputs": [],
   "source": []
  },
  {
   "cell_type": "markdown",
   "id": "39513099",
   "metadata": {},
   "source": [
    "#### 16.Write a Python code  To Find ASCII value of a character.\n"
   ]
  },
  {
   "cell_type": "code",
   "execution_count": 89,
   "id": "75802bfa",
   "metadata": {},
   "outputs": [
    {
     "name": "stdout",
     "output_type": "stream",
     "text": [
      "A 65\n",
      "@ 64\n",
      "# 35\n",
      "% 37\n",
      "* 42\n",
      "! 33\n",
      "B 66\n",
      "M 77\n"
     ]
    }
   ],
   "source": [
    "# char=input(\"enter a string: \")\n",
    "# print(ord(char))\n",
    "\n",
    "asciilist=[\"A\",\"@\",\"#\",\"%\",\"*\",\"!\",\"B\",\"M\"]\n",
    "for i in asciilist:\n",
    "    print(i,ord(i))"
   ]
  },
  {
   "cell_type": "markdown",
   "id": "bb0bf0ce",
   "metadata": {},
   "source": [
    "#### 17.write a Python Program to Display Factorial of given number Using Recursion."
   ]
  },
  {
   "cell_type": "code",
   "execution_count": 95,
   "id": "58530cf0",
   "metadata": {},
   "outputs": [],
   "source": [
    "# fact=1\n",
    "# number=6\n",
    "# for i in range(1,number+1):\n",
    "#     fact=(fact*i)\n",
    "# print(fact)\n",
    "def number(num):\n",
    "    fact=1\n",
    "    for i in range(1,num+1):\n",
    "        fact=fact*i\n",
    "    return(fact)"
   ]
  },
  {
   "cell_type": "code",
   "execution_count": 96,
   "id": "f6a022ef",
   "metadata": {},
   "outputs": [
    {
     "data": {
      "text/plain": [
       "5040"
      ]
     },
     "execution_count": 96,
     "metadata": {},
     "output_type": "execute_result"
    }
   ],
   "source": [
    "number(7)"
   ]
  },
  {
   "cell_type": "code",
   "execution_count": 108,
   "id": "b34d5f2c",
   "metadata": {},
   "outputs": [
    {
     "data": {
      "text/plain": [
       "720"
      ]
     },
     "execution_count": 108,
     "metadata": {},
     "output_type": "execute_result"
    }
   ],
   "source": [
    "def factorial(num):\n",
    "    if (num == 0) or (num==1):\n",
    "        return 1\n",
    "    else:\n",
    "         return num * factorial(num-1)\n",
    "    \n",
    "        \n",
    "factorial(6)"
   ]
  },
  {
   "cell_type": "code",
   "execution_count": 132,
   "id": "300a9445",
   "metadata": {},
   "outputs": [],
   "source": []
  },
  {
   "cell_type": "code",
   "execution_count": 133,
   "id": "6a0266c1",
   "metadata": {},
   "outputs": [
    {
     "data": {
      "text/plain": [
       "1"
      ]
     },
     "execution_count": 133,
     "metadata": {},
     "output_type": "execute_result"
    }
   ],
   "source": []
  },
  {
   "cell_type": "code",
   "execution_count": 131,
   "id": "c0445f14",
   "metadata": {},
   "outputs": [
    {
     "name": "stdout",
     "output_type": "stream",
     "text": [
      "None\n"
     ]
    }
   ],
   "source": []
  }
 ],
 "metadata": {
  "kernelspec": {
   "display_name": "Python 3 (ipykernel)",
   "language": "python",
   "name": "python3"
  },
  "language_info": {
   "codemirror_mode": {
    "name": "ipython",
    "version": 3
   },
   "file_extension": ".py",
   "mimetype": "text/x-python",
   "name": "python",
   "nbconvert_exporter": "python",
   "pygments_lexer": "ipython3",
   "version": "3.11.5"
  }
 },
 "nbformat": 4,
 "nbformat_minor": 5
}
