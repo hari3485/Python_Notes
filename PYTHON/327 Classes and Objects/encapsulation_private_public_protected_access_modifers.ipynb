{
 "cells": [
  {
   "cell_type": "markdown",
   "id": "6e301a6e",
   "metadata": {},
   "source": [
    "# Encapsulation\n",
    "- It is a process of encapsulating data and methods and work on the same data\n",
    "- Process of restricting the object to change some data is called Encapsulation\n",
    "- To restict the data, we have to create private,public and protected.\n",
    "- to create protected variables we have to use single _\n",
    "- To create private variable we have to use `__` (double underscore)"
   ]
  },
  {
   "cell_type": "markdown",
   "id": "a6ad0a3e",
   "metadata": {},
   "source": [
    "**1. Public Members:**\n",
    "\n",
    "By default, all members (attributes and methods) in a Python class are public, meaning they can be accessed from outside the class."
   ]
  },
  {
   "cell_type": "code",
   "execution_count": 4,
   "id": "94ef039e",
   "metadata": {},
   "outputs": [],
   "source": [
    "class Car:\n",
    "    def __init__(self):\n",
    "        self.model = \"Maruthi\"\n",
    "        self.price = 500000\n",
    "    def get_model(self):\n",
    "        print(\"Name of the model is\",self.model)\n",
    "    def get_price(self):\n",
    "        print(\"Price is \",self.price)"
   ]
  },
  {
   "cell_type": "code",
   "execution_count": 21,
   "id": "fdab0eb4",
   "metadata": {},
   "outputs": [
    {
     "data": {
      "text/plain": [
       "500000"
      ]
     },
     "execution_count": 21,
     "metadata": {},
     "output_type": "execute_result"
    }
   ],
   "source": [
    "c=Car()\n",
    "c.price"
   ]
  },
  {
   "cell_type": "code",
   "execution_count": 22,
   "id": "93953c1b",
   "metadata": {},
   "outputs": [],
   "source": [
    "c.price=100000"
   ]
  },
  {
   "cell_type": "code",
   "execution_count": 23,
   "id": "9442f15a",
   "metadata": {},
   "outputs": [
    {
     "data": {
      "text/plain": [
       "100000"
      ]
     },
     "execution_count": 23,
     "metadata": {},
     "output_type": "execute_result"
    }
   ],
   "source": [
    "c.price"
   ]
  },
  {
   "cell_type": "code",
   "execution_count": 25,
   "id": "e467ad78",
   "metadata": {},
   "outputs": [
    {
     "name": "stdout",
     "output_type": "stream",
     "text": [
      "Price is  100000\n"
     ]
    }
   ],
   "source": [
    "c.get_price()"
   ]
  },
  {
   "cell_type": "code",
   "execution_count": 26,
   "id": "890e0620",
   "metadata": {},
   "outputs": [
    {
     "name": "stdout",
     "output_type": "stream",
     "text": [
      "Price is  500000\n"
     ]
    }
   ],
   "source": [
    "c2=Car()\n",
    "c2.get_price()"
   ]
  },
  {
   "cell_type": "code",
   "execution_count": 27,
   "id": "15035132",
   "metadata": {},
   "outputs": [],
   "source": [
    "c2.model=\"wdbnsbvf\""
   ]
  },
  {
   "cell_type": "code",
   "execution_count": 28,
   "id": "b518418a",
   "metadata": {},
   "outputs": [
    {
     "data": {
      "text/plain": [
       "'wdbnsbvf'"
      ]
     },
     "execution_count": 28,
     "metadata": {},
     "output_type": "execute_result"
    }
   ],
   "source": [
    "c2.model"
   ]
  },
  {
   "cell_type": "code",
   "execution_count": null,
   "id": "10a4b895",
   "metadata": {},
   "outputs": [],
   "source": []
  },
  {
   "cell_type": "markdown",
   "id": "ff2319f7",
   "metadata": {},
   "source": [
    "2. private variables --- \n",
    "\n",
    "keep a __ before the variable\n",
    "\n",
    "Members intended to be private are prefixed with two underscores __. This is a stronger indication that the member should not be accessed directly from outside the class."
   ]
  },
  {
   "cell_type": "code",
   "execution_count": 48,
   "id": "3aabac2f",
   "metadata": {},
   "outputs": [],
   "source": [
    "class Car_1:\n",
    "    def __init__(self):\n",
    "        self.model = \"Maruthi\"\n",
    "        #private member\n",
    "        self.__price_1 = 500000\n",
    "        self.__fueltype=\"petrol\"\n",
    "    def get_model(self):\n",
    "        print(\"Name of the model is\",self.model)\n",
    "    def get_price(self):\n",
    "        print(\"Price is \",self.__price_1)\n",
    "    def get_fueltype(self):\n",
    "        print(\"fuel type\",self.__fueltype)"
   ]
  },
  {
   "cell_type": "code",
   "execution_count": 49,
   "id": "07c09cf8",
   "metadata": {},
   "outputs": [
    {
     "name": "stdout",
     "output_type": "stream",
     "text": [
      "Name of the model is tata\n"
     ]
    }
   ],
   "source": [
    "c=Car_1()\n",
    "c.model=\"tata\"\n",
    "c.get_model()"
   ]
  },
  {
   "cell_type": "code",
   "execution_count": 50,
   "id": "d24955a4",
   "metadata": {},
   "outputs": [
    {
     "ename": "AttributeError",
     "evalue": "'Car_1' object has no attribute '__fueltype'",
     "output_type": "error",
     "traceback": [
      "\u001b[1;31m---------------------------------------------------------------------------\u001b[0m",
      "\u001b[1;31mAttributeError\u001b[0m                            Traceback (most recent call last)",
      "Cell \u001b[1;32mIn[50], line 1\u001b[0m\n\u001b[1;32m----> 1\u001b[0m \u001b[43mc\u001b[49m\u001b[38;5;241;43m.\u001b[39;49m\u001b[43m__fueltype\u001b[49m\n",
      "\u001b[1;31mAttributeError\u001b[0m: 'Car_1' object has no attribute '__fueltype'"
     ]
    }
   ],
   "source": [
    "c.__fueltype"
   ]
  },
  {
   "cell_type": "code",
   "execution_count": 39,
   "id": "fb0e5d3f",
   "metadata": {},
   "outputs": [],
   "source": [
    "c.__fueltype=\"diesel\""
   ]
  },
  {
   "cell_type": "code",
   "execution_count": 40,
   "id": "d37001c6",
   "metadata": {},
   "outputs": [
    {
     "data": {
      "text/plain": [
       "'diesel'"
      ]
     },
     "execution_count": 40,
     "metadata": {},
     "output_type": "execute_result"
    }
   ],
   "source": [
    "c.__fueltype"
   ]
  },
  {
   "cell_type": "code",
   "execution_count": null,
   "id": "027a7c4d",
   "metadata": {},
   "outputs": [],
   "source": [
    "c."
   ]
  },
  {
   "cell_type": "code",
   "execution_count": 32,
   "id": "cb604aa8",
   "metadata": {},
   "outputs": [
    {
     "name": "stdout",
     "output_type": "stream",
     "text": [
      "diesel\n"
     ]
    }
   ],
   "source": [
    "c.__fueltype=\"diesel\"\n",
    "print(c.__fueltype)"
   ]
  },
  {
   "cell_type": "code",
   "execution_count": 41,
   "id": "374bd17a",
   "metadata": {},
   "outputs": [
    {
     "name": "stdout",
     "output_type": "stream",
     "text": [
      "fuel type petrol\n"
     ]
    }
   ],
   "source": [
    "c.get_fueltype()"
   ]
  },
  {
   "cell_type": "code",
   "execution_count": 43,
   "id": "a2dc95e4",
   "metadata": {},
   "outputs": [],
   "source": [
    "#accesing and modifying private variables using name mangling"
   ]
  },
  {
   "cell_type": "code",
   "execution_count": 51,
   "id": "77383e02",
   "metadata": {},
   "outputs": [],
   "source": [
    "c._Car_1__fueltype=\"diesel\""
   ]
  },
  {
   "cell_type": "code",
   "execution_count": 52,
   "id": "a9b3916b",
   "metadata": {},
   "outputs": [
    {
     "name": "stdout",
     "output_type": "stream",
     "text": [
      "diesel\n"
     ]
    }
   ],
   "source": [
    "print(c._Car_1__fueltype)"
   ]
  },
  {
   "cell_type": "code",
   "execution_count": 46,
   "id": "01e4c2ee",
   "metadata": {},
   "outputs": [
    {
     "name": "stdout",
     "output_type": "stream",
     "text": [
      "fuel type diesel\n"
     ]
    }
   ],
   "source": [
    "c.get_fueltype()"
   ]
  },
  {
   "cell_type": "markdown",
   "id": "4d7402e5",
   "metadata": {},
   "source": [
    "### setter and getter"
   ]
  },
  {
   "cell_type": "code",
   "execution_count": 46,
   "id": "8becf5c3",
   "metadata": {},
   "outputs": [],
   "source": [
    "class Cars:\n",
    "    def __init__(self):\n",
    "        self.model = \"Maruthi\"\n",
    "        self.__price = 500000\n",
    "    def get_model(self):\n",
    "        print(\"Name of the model is\",self.model)\n",
    "    def set_price(self,val):\n",
    "        self.__price = val\n",
    "        print(\"New price is \",self.__price)\n",
    "    def get_price(self):\n",
    "        print(\"Price is \",self.__price)"
   ]
  },
  {
   "cell_type": "code",
   "execution_count": 53,
   "id": "40c0ff99",
   "metadata": {},
   "outputs": [
    {
     "name": "stdout",
     "output_type": "stream",
     "text": [
      "New price is  100000\n"
     ]
    }
   ],
   "source": [
    "x.set_price(100000)"
   ]
  },
  {
   "cell_type": "code",
   "execution_count": 54,
   "id": "53ca5f0c",
   "metadata": {},
   "outputs": [
    {
     "name": "stdout",
     "output_type": "stream",
     "text": [
      "Price is  100000\n"
     ]
    }
   ],
   "source": [
    "x.get_price()"
   ]
  },
  {
   "cell_type": "code",
   "execution_count": 52,
   "id": "1bd86748",
   "metadata": {},
   "outputs": [
    {
     "name": "stdout",
     "output_type": "stream",
     "text": [
      "100000\n",
      "Price is  500000\n"
     ]
    }
   ],
   "source": [
    "x=Cars()\n",
    "x.__price=100000\n",
    "print(x.__price)\n",
    "x.get_price()"
   ]
  },
  {
   "cell_type": "code",
   "execution_count": 48,
   "id": "031e89bd",
   "metadata": {},
   "outputs": [
    {
     "ename": "AttributeError",
     "evalue": "'Cars' object has no attribute '__price'",
     "output_type": "error",
     "traceback": [
      "\u001b[1;31m---------------------------------------------------------------------------\u001b[0m",
      "\u001b[1;31mAttributeError\u001b[0m                            Traceback (most recent call last)",
      "Cell \u001b[1;32mIn[48], line 1\u001b[0m\n\u001b[1;32m----> 1\u001b[0m \u001b[43mx\u001b[49m\u001b[38;5;241;43m.\u001b[39;49m\u001b[43m__price\u001b[49m\n",
      "\u001b[1;31mAttributeError\u001b[0m: 'Cars' object has no attribute '__price'"
     ]
    }
   ],
   "source": [
    "x.__price"
   ]
  },
  {
   "cell_type": "code",
   "execution_count": null,
   "id": "f7a54d3d",
   "metadata": {},
   "outputs": [],
   "source": []
  },
  {
   "cell_type": "code",
   "execution_count": 55,
   "id": "be6e2d45",
   "metadata": {},
   "outputs": [
    {
     "name": "stdout",
     "output_type": "stream",
     "text": [
      "Price is  500000\n"
     ]
    }
   ],
   "source": [
    "x.get_price()"
   ]
  },
  {
   "cell_type": "code",
   "execution_count": 49,
   "id": "79c3f173",
   "metadata": {},
   "outputs": [],
   "source": [
    "x.__price=10000"
   ]
  },
  {
   "cell_type": "code",
   "execution_count": 51,
   "id": "4d0dfaf5",
   "metadata": {},
   "outputs": [
    {
     "name": "stdout",
     "output_type": "stream",
     "text": [
      "Price is  500000\n"
     ]
    }
   ],
   "source": [
    "x.get_price()"
   ]
  },
  {
   "cell_type": "code",
   "execution_count": 52,
   "id": "e981ee7d",
   "metadata": {},
   "outputs": [
    {
     "data": {
      "text/plain": [
       "10000"
      ]
     },
     "execution_count": 52,
     "metadata": {},
     "output_type": "execute_result"
    }
   ],
   "source": [
    "x.__price"
   ]
  },
  {
   "cell_type": "code",
   "execution_count": 54,
   "id": "018f9c85",
   "metadata": {},
   "outputs": [
    {
     "name": "stdout",
     "output_type": "stream",
     "text": [
      "hbdbdfhb\n"
     ]
    }
   ],
   "source": [
    "if(x.__price==10000):\n",
    "    print(\"hbdbdfhb\")"
   ]
  },
  {
   "cell_type": "markdown",
   "id": "0bbe6043",
   "metadata": {},
   "source": [
    "we can change the values of private variables outside(by calling an object) it will not give error but when we access the same private variables with other methods in the class, the value will still remains same(the new changes wont be reflected)."
   ]
  },
  {
   "cell_type": "code",
   "execution_count": 56,
   "id": "b3b87aa9",
   "metadata": {},
   "outputs": [
    {
     "name": "stdout",
     "output_type": "stream",
     "text": [
      "Price is  500000\n"
     ]
    }
   ],
   "source": [
    "x.get_price()"
   ]
  },
  {
   "cell_type": "code",
   "execution_count": 57,
   "id": "da9f6b71",
   "metadata": {},
   "outputs": [
    {
     "name": "stdout",
     "output_type": "stream",
     "text": [
      "New price is  10000\n"
     ]
    }
   ],
   "source": [
    "x.set_price(10000)"
   ]
  },
  {
   "cell_type": "code",
   "execution_count": 59,
   "id": "b064fcc0",
   "metadata": {},
   "outputs": [
    {
     "name": "stdout",
     "output_type": "stream",
     "text": [
      "Price is  10000\n",
      "temp\n"
     ]
    }
   ],
   "source": [
    "x.get_price()"
   ]
  },
  {
   "cell_type": "code",
   "execution_count": 88,
   "id": "a0bd9daf",
   "metadata": {},
   "outputs": [],
   "source": [
    "obj = Car()"
   ]
  },
  {
   "cell_type": "code",
   "execution_count": 89,
   "id": "0f4941c1",
   "metadata": {},
   "outputs": [
    {
     "ename": "AttributeError",
     "evalue": "'Car' object has no attribute '__price'",
     "output_type": "error",
     "traceback": [
      "\u001b[1;31m---------------------------------------------------------------------------\u001b[0m",
      "\u001b[1;31mAttributeError\u001b[0m                            Traceback (most recent call last)",
      "Cell \u001b[1;32mIn[89], line 1\u001b[0m\n\u001b[1;32m----> 1\u001b[0m \u001b[43mobj\u001b[49m\u001b[38;5;241;43m.\u001b[39;49m\u001b[43m__price\u001b[49m\n",
      "\u001b[1;31mAttributeError\u001b[0m: 'Car' object has no attribute '__price'"
     ]
    }
   ],
   "source": [
    "obj.__price"
   ]
  },
  {
   "cell_type": "code",
   "execution_count": 90,
   "id": "99fa9c59",
   "metadata": {},
   "outputs": [
    {
     "name": "stdout",
     "output_type": "stream",
     "text": [
      "Price is  500000\n"
     ]
    }
   ],
   "source": [
    "obj.get_price()"
   ]
  },
  {
   "cell_type": "code",
   "execution_count": 91,
   "id": "2f1946d0",
   "metadata": {},
   "outputs": [
    {
     "name": "stdout",
     "output_type": "stream",
     "text": [
      "New price is  600000\n"
     ]
    }
   ],
   "source": [
    "obj.set_price(00000)"
   ]
  },
  {
   "cell_type": "code",
   "execution_count": 92,
   "id": "70e2398a",
   "metadata": {},
   "outputs": [
    {
     "name": "stdout",
     "output_type": "stream",
     "text": [
      "Price is  600000\n"
     ]
    }
   ],
   "source": [
    "obj.get_price()"
   ]
  },
  {
   "cell_type": "markdown",
   "id": "dd132615",
   "metadata": {},
   "source": [
    "**protected members**"
   ]
  },
  {
   "cell_type": "markdown",
   "id": "e643b3d2",
   "metadata": {},
   "source": [
    "Protected members (in C++ and JAVA) are those members of the class that cannot be accessed outside the class but can be accessed from within the class and its subclasses. To accomplish this in Python, just follow the convention by prefixing the name of the member by a single underscore “_”."
   ]
  },
  {
   "cell_type": "code",
   "execution_count": 6,
   "id": "18f6c7fc",
   "metadata": {},
   "outputs": [
    {
     "name": "stdout",
     "output_type": "stream",
     "text": [
      "Calling protected member of base class:  2\n",
      "Calling modified protected member outside class:  3\n",
      "Accessing protected member of obj1:  3\n",
      "Accessing protected member of obj2:  2\n"
     ]
    }
   ],
   "source": [
    "# Python program to\n",
    "# demonstrate protected members\n",
    "\n",
    "# Creating a base class\n",
    "class Base:\n",
    "    def __init__(self):\n",
    "        \n",
    "        # Protected member\n",
    "        self._a = 2\n",
    "\n",
    "# Creating a derived class\n",
    "class Derived(Base):\n",
    "    def __init__(self):\n",
    "\n",
    "        # Calling constructor of\n",
    "        # Base class\n",
    "        Base.__init__(self)\n",
    "        print(\"Calling protected member of base class: \",self._a)\n",
    "\n",
    "        # Modify the protected variable:\n",
    "        self._a = 3\n",
    "        print(\"Calling modified protected member outside class: \",self._a)\n",
    "        \n",
    "        \n",
    "\n",
    "\n",
    "d = Derived()\n",
    "\n",
    "b= Base()\n",
    "\n",
    "# Calling protected member\n",
    "# Can be accessed but should not be done due to convention\n",
    "print(\"Accessing protected member of obj1: \", d._a)\n",
    "\n",
    "# Accessing the protected variable outside\n",
    "print(\"Accessing protected member of obj2: \", b._a)"
   ]
  },
  {
   "cell_type": "code",
   "execution_count": 11,
   "id": "0f99a4a0",
   "metadata": {},
   "outputs": [
    {
     "name": "stdout",
     "output_type": "stream",
     "text": [
      "Calling protected member of base class:  2\n",
      "Calling modified protected member outside class:  3\n",
      "Accessing protected member of obj1:  3\n",
      "Accessing protected member of obj2:  2\n"
     ]
    }
   ],
   "source": [
    "# Python program to\n",
    "# demonstrate protected members\n",
    "\n",
    "# Creating a base class\n",
    "class Base:\n",
    "    def __init__(self):\n",
    "        self.__x=10\n",
    "        # Protected member\n",
    "        self._a = 2\n",
    "\n",
    "# Creating a derived class\n",
    "class Derived(Base):\n",
    "    def __init__(self):\n",
    "        # Calling constructor of\n",
    "        # Base class\n",
    "        Base.__init__(self)\n",
    "        print(\"Calling protected member of base class: \",self._a)\n",
    "\n",
    "        # Modify the protected variable:\n",
    "        self._a = 3\n",
    "        self.__x=20\n",
    "        print(\"Calling modified protected member outside class: \",self._a)\n",
    "        \n",
    "        \n",
    "\n",
    "\n",
    "d = Derived()\n",
    "\n",
    "b= Base()\n",
    "\n",
    "# Calling protected member\n",
    "# Can be accessed but should not be done due to convention\n",
    "print(\"Accessing protected member of obj1: \", d._a)\n",
    "\n",
    "# Accessing the protected variable outside\n",
    "print(\"Accessing protected member of obj2: \", b._a)"
   ]
  },
  {
   "cell_type": "code",
   "execution_count": 12,
   "id": "c48e0986",
   "metadata": {},
   "outputs": [
    {
     "ename": "AttributeError",
     "evalue": "'Derived' object has no attribute '__x'",
     "output_type": "error",
     "traceback": [
      "\u001b[1;31m---------------------------------------------------------------------------\u001b[0m",
      "\u001b[1;31mAttributeError\u001b[0m                            Traceback (most recent call last)",
      "Cell \u001b[1;32mIn[12], line 3\u001b[0m\n\u001b[0;32m      1\u001b[0m \u001b[38;5;66;03m# Calling protected member\u001b[39;00m\n\u001b[0;32m      2\u001b[0m \u001b[38;5;66;03m# Can be accessed but should not be done due to convention\u001b[39;00m\n\u001b[1;32m----> 3\u001b[0m \u001b[38;5;28mprint\u001b[39m(\u001b[38;5;124m\"\u001b[39m\u001b[38;5;124mAccessing protected member of obj1: \u001b[39m\u001b[38;5;124m\"\u001b[39m, \u001b[43md\u001b[49m\u001b[38;5;241;43m.\u001b[39;49m\u001b[43m__x\u001b[49m)\n\u001b[0;32m      5\u001b[0m \u001b[38;5;66;03m# Accessing the protected variable outside\u001b[39;00m\n\u001b[0;32m      6\u001b[0m \u001b[38;5;28mprint\u001b[39m(\u001b[38;5;124m\"\u001b[39m\u001b[38;5;124mAccessing protected member of obj2: \u001b[39m\u001b[38;5;124m\"\u001b[39m, b\u001b[38;5;241m.\u001b[39m__x)\n",
      "\u001b[1;31mAttributeError\u001b[0m: 'Derived' object has no attribute '__x'"
     ]
    }
   ],
   "source": [
    "# Calling protected member\n",
    "# Can be accessed but should not be done due to convention\n",
    "print(\"Accessing protected member of obj1: \", d.__x)\n",
    "\n",
    "# Accessing the protected variable outside\n",
    "print(\"Accessing protected member of obj2: \", b.__x)"
   ]
  },
  {
   "cell_type": "code",
   "execution_count": null,
   "id": "26cb5a0c",
   "metadata": {},
   "outputs": [],
   "source": []
  }
 ],
 "metadata": {
  "kernelspec": {
   "display_name": "Python 3 (ipykernel)",
   "language": "python",
   "name": "python3"
  },
  "language_info": {
   "codemirror_mode": {
    "name": "ipython",
    "version": 3
   },
   "file_extension": ".py",
   "mimetype": "text/x-python",
   "name": "python",
   "nbconvert_exporter": "python",
   "pygments_lexer": "ipython3",
   "version": "3.10.9"
  }
 },
 "nbformat": 4,
 "nbformat_minor": 5
}
