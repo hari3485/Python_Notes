{
 "cells": [
  {
   "cell_type": "markdown",
   "metadata": {
    "id": "Kw-dTfRdsVa9"
   },
   "source": [
    "1. Create Dictionary for following information as “Student”:\n",
    "Name =  Lakshmi\n",
    "Gender= Female\n",
    "Occupation = Data Scientist\n",
    "Location = Nizampet, Hyderabad\n",
    "print keys in Student as a list.\n",
    "\n"
   ]
  },
  {
   "cell_type": "code",
   "execution_count": null,
   "metadata": {
    "colab": {
     "base_uri": "https://localhost:8080/"
    },
    "id": "_1G4cYwBsXl5",
    "outputId": "902be430-b9c9-4fc4-ff10-b65a6e084057"
   },
   "outputs": [
    {
     "name": "stdout",
     "output_type": "stream",
     "text": [
      "{'Name': 'Lakshmi', 'Gender': 'Female', 'Occupation': 'Data Scientist', 'Location': 'Nizampet, Hyderabad'}\n"
     ]
    }
   ],
   "source": [
    "student={\"Name\" : \"Lakshmi\", \"Gender\": \"Female\", \"Occupation\" : \"Data Scientist\", \"Location\" : \"Nizampet, Hyderabad\"}\n",
    "print(student)"
   ]
  },
  {
   "cell_type": "markdown",
   "metadata": {
    "id": "peLV3XZtLANI"
   },
   "source": [
    "2. Create a dictionary with key-value pairs for a person's name and age.\n",
    "Add a new key-value pair \"city\" with the value \"Delhi\" to the person dictionary.\n",
    "Remove the last key-value pair from the person dictionary.\n",
    "Include {\"Car_color\": \"White\"} in the person's dictionary\n",
    "Sort the above person's dictionary by its keys.\n",
    "Remove ‘city’ from this dictionary.\n",
    "Clear all key-value pairs from the above dictionary.\n",
    "Print list of all the values in the dictionary. Also print a list of all the keys.\n"
   ]
  },
  {
   "cell_type": "code",
   "execution_count": null,
   "metadata": {
    "colab": {
     "base_uri": "https://localhost:8080/"
    },
    "id": "SCZTlHioLZEn",
    "outputId": "8eb16b99-55f3-4473-e7ea-89d61c6f869e"
   },
   "outputs": [
    {
     "name": "stdout",
     "output_type": "stream",
     "text": [
      "{'name': 'chandan', 'age': 21}\n",
      "{'name': 'chandan', 'age': 21, 'city': 'delhi'}\n",
      "{'name': 'chandan', 'age': 21}\n",
      "{'name': 'chandan'}\n",
      "{'name': 'chandan', 'car colour': 'white'}\n",
      "{'car colour': 'white', 'name': 'chandan'}\n",
      "{}\n",
      "{'name': 'chandan', 'age': 21, 'car colour': 'white', 'city': 'delhi'}\n"
     ]
    }
   ],
   "source": [
    "dict1={\"name\":\"chandan\",\"age\":21}\n",
    "print(dict1)\n",
    "#Adding the new element to an existing dictionary\n",
    "dict1[\"city\"] = \"delhi\"\n",
    "print(dict1)\n",
    "#removing city from the dictionary\n",
    "dict1.pop(\"city\")\n",
    "print(dict1)\n",
    "#Removing the last key value pair from the dictionary\n",
    "dict1.popitem()\n",
    "print(dict1)\n",
    "#Including the new element to an existing dictionary\n",
    "dict1[\"car colour\"] = \"white\"\n",
    "print(dict1)\n",
    "#Sorting the dictionary\n",
    "sorted_dict1 = dict(sorted(dict1.items()))\n",
    "print(sorted_dict1)\n",
    "#clear all pairs in the dictionary\n",
    "dict1.clear()\n",
    "print(dict1)\n",
    "#print a list of all keys\n",
    "dict1={\"name\":\"chandan\",\"age\":21,\"car colour\": \"white\",\"city\": \"delhi\"}\n",
    "print(dict1)"
   ]
  },
  {
   "cell_type": "markdown",
   "metadata": {
    "id": "lRDZaVk1kbIk"
   },
   "source": [
    "Create a dictionary  Dic = {1: ”a”, 2: ”b”,  3: ”c”, 4: “d”}\n",
    "      Expected Output:  {”a”: 1 ,  ”b” : 2 ,  ”c” :3 , “d”:4}\n"
   ]
  },
  {
   "cell_type": "code",
   "execution_count": null,
   "metadata": {
    "colab": {
     "base_uri": "https://localhost:8080/"
    },
    "id": "CneKNb6Tkcjj",
    "outputId": "073fe532-da58-4788-aa74-6068d2687c01"
   },
   "outputs": [
    {
     "name": "stdout",
     "output_type": "stream",
     "text": [
      "{1: 'a', 2: 'b', 3: 'c', 4: 'd'}\n"
     ]
    }
   ],
   "source": [
    "dic={1:\"a\",2:\"b\",3:\"c\",4:\"d\"}\n",
    "print(dic)"
   ]
  },
  {
   "cell_type": "code",
   "execution_count": null,
   "metadata": {
    "colab": {
     "base_uri": "https://localhost:8080/"
    },
    "id": "Q1IoRssdk_zw",
    "outputId": "4787fd9b-3df3-4117-de0a-ddd35eb3549e"
   },
   "outputs": [
    {
     "name": "stdout",
     "output_type": "stream",
     "text": [
      "['a', 'b', 'c', 'd']\n",
      "[1, 2, 3, 4]\n",
      "{1: 'a', 2: 'b', 3: 'c', 4: 'd'}\n"
     ]
    }
   ],
   "source": [
    "a=list(dic.values())\n",
    "b=list(dic.keys())\n",
    "print(a)\n",
    "print(b)\n",
    "c={b[0]:a[0],b[1]:a[1],b[2]:a[2],b[3]:a[3]}\n",
    "print(c)"
   ]
  },
  {
   "cell_type": "markdown",
   "metadata": {
    "id": "m7NzAoL_mn2m"
   },
   "source": [
    "Explain dictionary Properties/ Attributes. What is the difference between dict.pop() and dict.popitem() ? explain with examples.\n",
    "\n"
   ]
  },
  {
   "cell_type": "code",
   "execution_count": null,
   "metadata": {
    "colab": {
     "base_uri": "https://localhost:8080/"
    },
    "id": "VwdtRW6imrv0",
    "outputId": "d5eeaf10-23f7-4daf-e07d-68c39145501c"
   },
   "outputs": [
    {
     "name": "stdout",
     "output_type": "stream",
     "text": [
      "{'chintu': 1, 'hari': 24}\n"
     ]
    }
   ],
   "source": [
    "#dictionaries are inmutable,oredered,allows duplicates,allows diffreent types of data types.\n",
    "dic={\"chintu\":1,\"hari\":24,\"mani\":56}\n",
    "dic.pop(\"mani\")\n",
    "print(dic)"
   ]
  },
  {
   "cell_type": "code",
   "execution_count": null,
   "metadata": {
    "colab": {
     "base_uri": "https://localhost:8080/"
    },
    "id": "V_m1J7yvnyqX",
    "outputId": "4071e2fc-1e5f-46b8-cb0f-686fff842465"
   },
   "outputs": [
    {
     "data": {
      "text/plain": [
       "('mani', 56)"
      ]
     },
     "execution_count": 15,
     "metadata": {},
     "output_type": "execute_result"
    }
   ],
   "source": [
    "dic={\"chintu\":1,\"hari\":24,\"mani\":56}\n",
    "dic.popitem()\n",
    "#When we apply pop() to a dictionary we have to select Which key we have to pop.\n",
    "#but in popitem() it will pop the last element.\n",
    "#that is the difference between pop() and popitem()"
   ]
  },
  {
   "cell_type": "markdown",
   "metadata": {
    "id": "d32gmllzqUW0"
   },
   "source": [
    "5. 5. Create a dictionary  dic = { “Python” : 90 , “EDA” : 89 , “SQL” : 98 , “Machine Learning” :   95}  apply all dictionary built in functions.\n",
    "\n"
   ]
  },
  {
   "cell_type": "code",
   "execution_count": null,
   "metadata": {
    "colab": {
     "base_uri": "https://localhost:8080/"
    },
    "id": "S2VweM_XqWse",
    "outputId": "632fdbf8-bf52-42d0-ddeb-746727173212"
   },
   "outputs": [
    {
     "name": "stdout",
     "output_type": "stream",
     "text": [
      "{'python': 90, 'EDA': 89, 'SQL': 98, 'Machine Learning': 95}\n",
      "{'EDA': 89, 'SQL': 98, 'Machine Learning': 95}\n",
      "{'EDA': 89, 'SQL': 98}\n"
     ]
    }
   ],
   "source": [
    "a={\"python\":90,\"EDA\":89,\"SQL\":98,\"Machine Learning\":95}\n",
    "print(a)\n",
    "a.pop(\"python\")\n",
    "print(a)\n",
    "a.popitem()\n",
    "print(a)"
   ]
  },
  {
   "cell_type": "code",
   "execution_count": null,
   "metadata": {
    "colab": {
     "base_uri": "https://localhost:8080/"
    },
    "id": "JoGtPcPUrGB3",
    "outputId": "80381882-e4e0-4ec7-e8d4-b988be1ab505"
   },
   "outputs": [
    {
     "name": "stdout",
     "output_type": "stream",
     "text": [
      "{'python': 90, 'EDA': 89, 'SQL': 98, 'Machine Learning': 95}\n",
      "{'python': 90, 'EDA': 89, 'SQL': 98, 'Machine Learning': 95}\n",
      "{}\n"
     ]
    }
   ],
   "source": [
    "a={\"python\":90,\"EDA\":89,\"SQL\":98,\"Machine Learning\":95}\n",
    "print(a)\n",
    "a.copy()\n",
    "print(a)\n",
    "a.clear()\n",
    "print(a)"
   ]
  },
  {
   "cell_type": "code",
   "execution_count": null,
   "metadata": {
    "colab": {
     "base_uri": "https://localhost:8080/"
    },
    "id": "6w3i8AGarb_D",
    "outputId": "93bd07fa-174f-4530-a787-1bcd31f44200"
   },
   "outputs": [
    {
     "name": "stdout",
     "output_type": "stream",
     "text": [
      "{'python': 90, 'EDA': 89, 'SQL': 98, 'Machine Learning': 95}\n",
      "dict_keys(['python', 'EDA', 'SQL', 'Machine Learning'])\n",
      "dict_values([90, 89, 98, 95])\n"
     ]
    }
   ],
   "source": [
    "a={\"python\":90,\"EDA\":89,\"SQL\":98,\"Machine Learning\":95}\n",
    "print(a)\n",
    "print(a.keys())\n",
    "print(a.values())"
   ]
  }
 ],
 "metadata": {
  "colab": {
   "provenance": []
  },
  "kernelspec": {
   "display_name": "Python 3 (ipykernel)",
   "language": "python",
   "name": "python3"
  },
  "language_info": {
   "codemirror_mode": {
    "name": "ipython",
    "version": 3
   },
   "file_extension": ".py",
   "mimetype": "text/x-python",
   "name": "python",
   "nbconvert_exporter": "python",
   "pygments_lexer": "ipython3",
   "version": "3.11.5"
  }
 },
 "nbformat": 4,
 "nbformat_minor": 1
}
