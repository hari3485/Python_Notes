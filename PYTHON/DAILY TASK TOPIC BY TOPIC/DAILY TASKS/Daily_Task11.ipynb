{
 "cells": [
  {
   "cell_type": "markdown",
   "metadata": {
    "id": "sOpxu-wyTO4r"
   },
   "source": [
    "1\n",
    "a. Write a function to get the maximum of 3 numbers.\n",
    "\n",
    "b. Write a function to check if the given number if even or not\n",
    "\n",
    "       Example:\n",
    "       is_even(10) , then o/p: even\n",
    "       is_even(23), then o/p: odd"
   ]
  },
  {
   "cell_type": "code",
   "execution_count": 3,
   "metadata": {
    "id": "xfELwzw6PAW0"
   },
   "outputs": [],
   "source": [
    "def max_number():\n",
    "  first_num = int(input(\"Enter a first Number: \"))\n",
    "  second_num = int(input(\"Enter a second Number: \"))\n",
    "  third_num = int(input(\"Enter a third Number: \"))\n",
    "  if first_num > second_num:\n",
    "    print(first_num)\n",
    "  elif second_num > third_num:\n",
    "    print(second_num)\n",
    "  else:\n",
    "    print(third_num)\n"
   ]
  },
  {
   "cell_type": "code",
   "execution_count": 4,
   "metadata": {
    "colab": {
     "base_uri": "https://localhost:8080/"
    },
    "id": "MV7SPKAVPpQ2",
    "outputId": "49984d5e-683d-4dd6-84dd-96c4330dbd01"
   },
   "outputs": [
    {
     "name": "stdout",
     "output_type": "stream",
     "text": [
      "Enter a first Number: 67\n",
      "Enter a second Number: 68\n",
      "Enter a third Number: 69\n",
      "69\n"
     ]
    }
   ],
   "source": [
    "max_number()"
   ]
  },
  {
   "cell_type": "code",
   "execution_count": 5,
   "metadata": {
    "id": "N6LE755yRiXM"
   },
   "outputs": [],
   "source": [
    "def even_or_odd():\n",
    "  num=int(input(\"Enter a Number:\"))\n",
    "  if num%2==0:\n",
    "    print(\"It Is An Even Number\")\n",
    "  else:\n",
    "    print(\"It Is An Odd Number\")\n"
   ]
  },
  {
   "cell_type": "code",
   "execution_count": 6,
   "metadata": {
    "colab": {
     "base_uri": "https://localhost:8080/"
    },
    "id": "1LWjlLrkSaea",
    "outputId": "7be777e6-3db8-4f4e-dcf3-b014acc20a25"
   },
   "outputs": [
    {
     "name": "stdout",
     "output_type": "stream",
     "text": [
      "Enter a Number:45\n",
      "It Is An Odd Number\n"
     ]
    }
   ],
   "source": [
    "even_or_odd()"
   ]
  },
  {
   "cell_type": "markdown",
   "metadata": {
    "id": "jaKbMi2ETioj"
   },
   "source": [
    "2.Write a program to get the sum of all the values in given list,\n",
    "\n",
    "Example:\n",
    "\n",
    "my_sum([1,2,3,4,5]), then o/p: 15\n",
    "my_sum([10,11,12]), then o/p: 33"
   ]
  },
  {
   "cell_type": "code",
   "execution_count": 7,
   "metadata": {
    "id": "ehC03gCJSjPC"
   },
   "outputs": [],
   "source": [
    "def sum_of_digits(F):\n",
    "  sum = 0\n",
    "  for i in F:\n",
    "    sum = sum + i\n",
    "  print(sum)"
   ]
  },
  {
   "cell_type": "code",
   "execution_count": 8,
   "metadata": {
    "colab": {
     "base_uri": "https://localhost:8080/"
    },
    "id": "VNsOGYCtTroE",
    "outputId": "f9334e31-0813-41b8-ddbc-64f4ba8a3ddc"
   },
   "outputs": [
    {
     "name": "stdout",
     "output_type": "stream",
     "text": [
      "233\n"
     ]
    }
   ],
   "source": [
    "sum_of_digits([45,56,54,44,34])"
   ]
  },
  {
   "cell_type": "code",
   "execution_count": 10,
   "metadata": {
    "colab": {
     "base_uri": "https://localhost:8080/"
    },
    "id": "cJUhWFRoT-kL",
    "outputId": "f1517e42-9cad-4da1-8d4f-29c47a600a8a"
   },
   "outputs": [
    {
     "name": "stdout",
     "output_type": "stream",
     "text": [
      "9166\n"
     ]
    }
   ],
   "source": [
    "sum_of_digits([100,234,345,7587,900])"
   ]
  },
  {
   "cell_type": "markdown",
   "metadata": {
    "id": "m0U24-qTUU2u"
   },
   "source": [
    "3.Construct your own function my_range() which acts as range() to print numbers in forward direction (step is positive) and backward direction(step is negative) with given start,stop and step as parameters.\n",
    "\n",
    "eg:\n",
    "\n",
    "my_range(1,10,1), then o/p= 1,2,3,4,,5,6,7,8,9\n",
    "\n",
    "my_range(1,10,2), then o/p= 1,3,5,7,9\n",
    "\n",
    "my_range(10,1,-1), then o/p = 10,9,8,7,6,5,4,3,2\n",
    "\n",
    "my_range(10,1,-2), then o/p = 10,8,6,4,2\n"
   ]
  },
  {
   "cell_type": "code",
   "execution_count": 11,
   "metadata": {
    "id": "5ng9jjLwUMCk"
   },
   "outputs": [],
   "source": [
    "def my_range(start,stop,step):\n",
    "  for i in range(start,stop,step):\n",
    "    print(i,end=\" \")"
   ]
  },
  {
   "cell_type": "code",
   "execution_count": 12,
   "metadata": {
    "colab": {
     "base_uri": "https://localhost:8080/"
    },
    "id": "TVLkkWKWUhgU",
    "outputId": "2aaae0f0-3e03-4f7a-e0c7-547f34c1dc0b"
   },
   "outputs": [
    {
     "name": "stdout",
     "output_type": "stream",
     "text": [
      "10 18 26 34 42 50 58 66 74 82 90 98 "
     ]
    }
   ],
   "source": [
    "my_range(10,100,8)"
   ]
  },
  {
   "cell_type": "code",
   "execution_count": 13,
   "metadata": {
    "colab": {
     "base_uri": "https://localhost:8080/"
    },
    "id": "z6J6BQJwVD6p",
    "outputId": "42838e1f-0a1d-4d5e-8a02-b2aba37f433c"
   },
   "outputs": [
    {
     "name": "stdout",
     "output_type": "stream",
     "text": [
      "34 38 42 46 50 54 58 62 66 70 74 "
     ]
    }
   ],
   "source": [
    "my_range(34,78,4)"
   ]
  },
  {
   "cell_type": "code",
   "execution_count": 14,
   "metadata": {
    "colab": {
     "base_uri": "https://localhost:8080/"
    },
    "id": "26kQ4mILVNrt",
    "outputId": "b94f0c81-3635-46c2-85e0-cc3122c11a18"
   },
   "outputs": [
    {
     "name": "stdout",
     "output_type": "stream",
     "text": [
      "100 99 98 97 96 "
     ]
    }
   ],
   "source": [
    "my_range(100,95,-1)"
   ]
  },
  {
   "cell_type": "code",
   "execution_count": 16,
   "metadata": {
    "colab": {
     "base_uri": "https://localhost:8080/"
    },
    "id": "j3xNsfqzVRpU",
    "outputId": "1cfe2d87-dc7e-4fb0-a906-bc0ea8a5b41b"
   },
   "outputs": [
    {
     "name": "stdout",
     "output_type": "stream",
     "text": [
      "90 86 82 78 74 70 66 62 58 54 50 "
     ]
    }
   ],
   "source": [
    "my_range(90,46,-4)"
   ]
  },
  {
   "cell_type": "markdown",
   "metadata": {
    "id": "ZmnpkI1SVxNv"
   },
   "source": [
    "4.Multiply numbers with given start and stop (using loops)\n",
    "\n",
    "    Example: start=1, stop= 5, then o/p: 120\n",
    "                    start=3, stop=5, then o/p: 60"
   ]
  },
  {
   "cell_type": "code",
   "execution_count": 20,
   "metadata": {
    "id": "YtCfD50YVf2p"
   },
   "outputs": [],
   "source": [
    "def multiply():\n",
    "  start = int(input(\"Enter the starting number: \"))\n",
    "  stop = int(input(\"Enter the ending number: \"))\n",
    "  counter = 1\n",
    "  for i in range(start,stop+1):\n",
    "    counter *= i\n",
    "  print(counter)"
   ]
  },
  {
   "cell_type": "code",
   "execution_count": 21,
   "metadata": {
    "colab": {
     "base_uri": "https://localhost:8080/"
    },
    "id": "7_th0AXlV7-Z",
    "outputId": "4cfc484e-6556-4e93-f0e3-500b11cd0834"
   },
   "outputs": [
    {
     "name": "stdout",
     "output_type": "stream",
     "text": [
      "Enter the starting number: 1\n",
      "Enter the ending number: 5\n",
      "120\n"
     ]
    }
   ],
   "source": [
    "multiply()"
   ]
  },
  {
   "cell_type": "markdown",
   "metadata": {
    "id": "9ERBMxehWKqr"
   },
   "source": [
    "5.Construct a function for fibonacci series(fib()) using\n",
    "\n",
    "    a.loops\n",
    "    b.recursion\n",
    "Expected o/p :\n",
    "\n",
    "fib(5), then o/p= 0 1 1 2 3\n",
    "\n",
    "fib(7), then o/p= 0 1 1 2 3 5 8"
   ]
  },
  {
   "cell_type": "code",
   "execution_count": 22,
   "metadata": {
    "id": "WUDIvGq9WAXr"
   },
   "outputs": [],
   "source": [
    "def fib(n):\n",
    "  first_term = 0\n",
    "  second_term = 1\n",
    "  count = 0\n",
    "  print(\"Fibonacci Sequence: \")\n",
    "  while count < n:\n",
    "    print(first_term)\n",
    "    third_term = first_term + second_term\n",
    "    first_term = second_term\n",
    "    second_term = third_term\n",
    "    count += 1"
   ]
  },
  {
   "cell_type": "code",
   "execution_count": 23,
   "metadata": {
    "colab": {
     "base_uri": "https://localhost:8080/"
    },
    "id": "SKbTzpkJWX0T",
    "outputId": "755d96a5-9e2b-4dcc-8380-6bd5497054f5"
   },
   "outputs": [
    {
     "name": "stdout",
     "output_type": "stream",
     "text": [
      "Fibonacci Sequence: \n",
      "0\n",
      "1\n",
      "1\n",
      "2\n",
      "3\n",
      "5\n",
      "8\n",
      "13\n"
     ]
    }
   ],
   "source": [
    "fib(8)"
   ]
  },
  {
   "cell_type": "code",
   "execution_count": 24,
   "metadata": {
    "colab": {
     "base_uri": "https://localhost:8080/"
    },
    "id": "-YGvmQsqWbik",
    "outputId": "b4ee461e-00af-49a3-9401-5e3642a488f0"
   },
   "outputs": [
    {
     "name": "stdout",
     "output_type": "stream",
     "text": [
      "Fibonacci Sequence: \n",
      "0\n",
      "1\n",
      "1\n",
      "2\n",
      "3\n",
      "5\n",
      "8\n",
      "13\n",
      "21\n",
      "34\n"
     ]
    }
   ],
   "source": [
    "fib(10)"
   ]
  },
  {
   "cell_type": "markdown",
   "metadata": {
    "id": "d0s0_MGTWnK_"
   },
   "source": [
    "6.Create a Factorial with Functions and loops"
   ]
  },
  {
   "cell_type": "code",
   "execution_count": 25,
   "metadata": {
    "id": "Ifff_4P1WfPC"
   },
   "outputs": [],
   "source": [
    "def factorial(x):\n",
    "  factorial = 1\n",
    "  for every_datapoint in range(1, x + 1):\n",
    "    factorial *= every_datapoint\n",
    "  print(\"The factorial of the given number is: \",factorial)"
   ]
  },
  {
   "cell_type": "code",
   "execution_count": 27,
   "metadata": {
    "colab": {
     "base_uri": "https://localhost:8080/"
    },
    "id": "1giMvdhLWvHD",
    "outputId": "d26231a7-021f-482d-b9ef-04c8a9e2a846"
   },
   "outputs": [
    {
     "name": "stdout",
     "output_type": "stream",
     "text": [
      "The factorial of the given number is:  5040\n"
     ]
    }
   ],
   "source": [
    "factorial(7)"
   ]
  }
 ],
 "metadata": {
  "colab": {
   "provenance": []
  },
  "kernelspec": {
   "display_name": "Python 3 (ipykernel)",
   "language": "python",
   "name": "python3"
  },
  "language_info": {
   "codemirror_mode": {
    "name": "ipython",
    "version": 3
   },
   "file_extension": ".py",
   "mimetype": "text/x-python",
   "name": "python",
   "nbconvert_exporter": "python",
   "pygments_lexer": "ipython3",
   "version": "3.11.5"
  }
 },
 "nbformat": 4,
 "nbformat_minor": 1
}
