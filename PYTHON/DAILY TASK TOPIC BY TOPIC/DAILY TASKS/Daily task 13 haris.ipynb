{
 "cells": [
  {
   "cell_type": "markdown",
   "id": "f9af96ce",
   "metadata": {},
   "source": [
    "#### Q1 \n",
    "Using in-built function filter() with a lambda function filter even numbers from a given list.\n",
    "num = [17, 20, 32, 45, 53, 61, 72, 84, 97]\n"
   ]
  },
  {
   "cell_type": "code",
   "execution_count": 1,
   "id": "b47c9ba0",
   "metadata": {},
   "outputs": [
    {
     "name": "stdout",
     "output_type": "stream",
     "text": [
      "[20, 32, 72, 84]\n"
     ]
    }
   ],
   "source": [
    "num = [17, 20, 32, 45, 53, 61, 72, 84, 97]\n",
    "\n",
    "# Using filter() with a lambda function we are  filtering out the even numbers\n",
    "even_numbers = list(filter(lambda num: num % 2 == 0, num))\n",
    "\n",
    "print(even_numbers)\n"
   ]
  },
  {
   "cell_type": "markdown",
   "id": "a815eb22",
   "metadata": {},
   "source": [
    "#### Q2.    Write a Python function to find the maximum of three numbers.\n"
   ]
  },
  {
   "cell_type": "code",
   "execution_count": 2,
   "id": "77645dd4",
   "metadata": {},
   "outputs": [
    {
     "name": "stdout",
     "output_type": "stream",
     "text": [
      "109\n"
     ]
    }
   ],
   "source": [
    "# Function to find the maximum of three numbers using a lambda function\n",
    "find_max = lambda num1,num2,num3: max(num1,num2,num3)\n",
    "result = find_max(89,99,109)\n",
    "print(result)\n"
   ]
  },
  {
   "cell_type": "markdown",
   "id": "e2903bb0",
   "metadata": {},
   "source": [
    "#### Q3. \n",
    "Write a Python function to check whether a number falls within a given range.\n"
   ]
  },
  {
   "cell_type": "code",
   "execution_count": 4,
   "id": "1706cbb2",
   "metadata": {},
   "outputs": [
    {
     "name": "stdout",
     "output_type": "stream",
     "text": [
      "259 is within the range 100 to 300.\n"
     ]
    }
   ],
   "source": [
    "def num_in_range(num, start, end):\n",
    "    return start <= num <= end\n",
    "\n",
    "# Example\n",
    "number = 259\n",
    "range_start = 100\n",
    "range_end = 300\n",
    "\n",
    "if num_in_range(number, range_start, range_end):\n",
    "    print(f\"{number} is within the range {range_start} to {range_end}.\")\n",
    "else:\n",
    "    print(f\"{number} is not within the range {range_start} to {range_end}.\")\n"
   ]
  },
  {
   "cell_type": "markdown",
   "id": "8c8e833f",
   "metadata": {},
   "source": [
    "#### b.Write a Python function that takes a list and returns a new list with distinct elements from the first list.\n"
   ]
  },
  {
   "cell_type": "code",
   "execution_count": 7,
   "id": "2cea2f89",
   "metadata": {},
   "outputs": [
    {
     "name": "stdout",
     "output_type": "stream",
     "text": [
      "[34, 75, 11, 12, 45, 78]\n"
     ]
    }
   ],
   "source": [
    "def get_distinct_elements(lst):\n",
    "    return list(set(lst))\n",
    "\n",
    "# Example \n",
    "list1 = [11,12,12,12,34,45,45,45,45,45,75,78,78,78]\n",
    "distinct_list = get_distinct_elements(list1)\n",
    "print(distinct_list)\n"
   ]
  },
  {
   "cell_type": "markdown",
   "id": "3f9508c8",
   "metadata": {},
   "source": [
    "####4 Write a Python function that accepts a string and counts the number of upper and lower case letters.\n",
    "\n"
   ]
  },
  {
   "cell_type": "code",
   "execution_count": 9,
   "id": "ded6a7cc",
   "metadata": {},
   "outputs": [
    {
     "name": "stdout",
     "output_type": "stream",
     "text": [
      "Uppercase letters: 3\n",
      "Lowercase letters: 19\n"
     ]
    }
   ],
   "source": [
    "def count_case_letters(s):\n",
    "    upper_count = sum(1 for char in s if char.isupper())\n",
    "    lower_count = sum(1 for char in s if char.islower())\n",
    "    return upper_count, lower_count\n",
    "\n",
    "# Example\n",
    "input_string = \"Hi Hari chandan How are you!\"\n",
    "upper, lower = count_case_letters(input_string)\n",
    "print(f\"Uppercase letters: {upper}\")\n",
    "print(f\"Lowercase letters: {lower}\")\n"
   ]
  },
  {
   "cell_type": "markdown",
   "id": "89ddfc90",
   "metadata": {},
   "source": [
    "#### Q5. Write a function to check if the given number if even or not."
   ]
  },
  {
   "cell_type": "code",
   "execution_count": 10,
   "id": "789eff10",
   "metadata": {},
   "outputs": [
    {
     "name": "stdout",
     "output_type": "stream",
     "text": [
      "234 is even.\n"
     ]
    }
   ],
   "source": [
    "def is_even(number):\n",
    "    return number % 2 == 0\n",
    "\n",
    "# Example\n",
    "num = 234\n",
    "if is_even(num):\n",
    "    print(f\"{num} is even.\")\n",
    "else:\n",
    "    print(f\"{num} is not even.\")\n"
   ]
  },
  {
   "cell_type": "markdown",
   "id": "1e823888",
   "metadata": {},
   "source": [
    "#### Q6.\n",
    "a.Write a function square(x) that returns the square of the number x.\n",
    "b.Write a function to_uppercase(s) that converts all characters in a string s to uppercase\n",
    "c.Write a function find_max(a, b) that returns the maximum of two numbers a and \n"
   ]
  },
  {
   "cell_type": "code",
   "execution_count": 12,
   "id": "464b9140",
   "metadata": {},
   "outputs": [
    {
     "name": "stdout",
     "output_type": "stream",
     "text": [
      "The square of 89 is 7921.\n"
     ]
    }
   ],
   "source": [
    "def square(num):\n",
    "    return num * num\n",
    "\n",
    "# Example \n",
    "result = square(89)\n",
    "print(f\"The square of 89 is {result}.\")\n"
   ]
  },
  {
   "cell_type": "code",
   "execution_count": 14,
   "id": "45f20205",
   "metadata": {},
   "outputs": [
    {
     "name": "stdout",
     "output_type": "stream",
     "text": [
      "The uppercase  is: HELLO, WORLD!.\n"
     ]
    }
   ],
   "source": [
    "def to_uppercase(s):\n",
    "    return s.upper()\n",
    "\n",
    "# Example \n",
    "input_string = \"Hello, World!\"\n",
    "uppercase_string = to_uppercase(input_string)\n",
    "print(f\"The uppercase  is: {uppercase_string}.\")\n"
   ]
  },
  {
   "cell_type": "code",
   "execution_count": 15,
   "id": "7c08b7d6",
   "metadata": {},
   "outputs": [
    {
     "name": "stdout",
     "output_type": "stream",
     "text": [
      "The maximum of 234 and 20 is 234.\n"
     ]
    }
   ],
   "source": [
    "def find_max(num1, num2):\n",
    "    return num1 if num1 > num2 else num2\n",
    "\n",
    "# Example \n",
    "max_value = find_max(234, 20)\n",
    "print(f\"The maximum of 234 and 20 is {max_value}.\")\n"
   ]
  }
 ],
 "metadata": {
  "kernelspec": {
   "display_name": "Python 3 (ipykernel)",
   "language": "python",
   "name": "python3"
  },
  "language_info": {
   "codemirror_mode": {
    "name": "ipython",
    "version": 3
   },
   "file_extension": ".py",
   "mimetype": "text/x-python",
   "name": "python",
   "nbconvert_exporter": "python",
   "pygments_lexer": "ipython3",
   "version": "3.11.5"
  }
 },
 "nbformat": 4,
 "nbformat_minor": 5
}
