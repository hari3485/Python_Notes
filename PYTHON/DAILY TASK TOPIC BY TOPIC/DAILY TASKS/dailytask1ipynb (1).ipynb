{
 "cells": [
  {
   "cell_type": "code",
   "execution_count": null,
   "metadata": {
    "id": "lfQChaCBeSnl"
   },
   "outputs": [],
   "source": [
    "#Q1. Create different variables to store your name, your age, and your parents name. a. Print your name. b. Create more variables needed for the Biodata. c. Now print your whole biodata using above variables."
   ]
  },
  {
   "cell_type": "code",
   "execution_count": null,
   "metadata": {
    "colab": {
     "base_uri": "https://localhost:8080/"
    },
    "id": "2Zp2_sutecfx",
    "outputId": "b20d6ee6-54a1-46dd-d661-99b515e308ba"
   },
   "outputs": [
    {
     "name": "stdout",
     "output_type": "stream",
     "text": [
      "hari chandan\n"
     ]
    }
   ],
   "source": [
    "name=\"hari chandan\"\n",
    "print(name)"
   ]
  },
  {
   "cell_type": "code",
   "execution_count": null,
   "metadata": {
    "colab": {
     "base_uri": "https://localhost:8080/"
    },
    "id": "3KM6H2K5eoyb",
    "outputId": "d7f2a989-4778-40fb-fafb-ec663f965d10"
   },
   "outputs": [
    {
     "name": "stdout",
     "output_type": "stream",
     "text": [
      "hari chandan\n",
      "msc statisics\n",
      "pondicherry university\n",
      "21\n"
     ]
    }
   ],
   "source": [
    "name=\"hari chandan\"\n",
    "edu=\"msc statisics\"\n",
    "clg=\"pondicherry university\"\n",
    "age=\"21\"\n",
    "print(name)\n",
    "print(edu)\n",
    "print(clg)\n",
    "print(age)"
   ]
  },
  {
   "cell_type": "code",
   "execution_count": null,
   "metadata": {
    "colab": {
     "base_uri": "https://localhost:8080/"
    },
    "id": "exbNo-8xeuXa",
    "outputId": "b4273416-3b11-4616-c46e-5d93c82fe272"
   },
   "outputs": [
    {
     "name": "stdout",
     "output_type": "stream",
     "text": [
      "hari chandan msc statisics pondicherry university 21\n"
     ]
    }
   ],
   "source": [
    "print(name,edu,clg,age)"
   ]
  },
  {
   "cell_type": "markdown",
   "metadata": {
    "id": "mGCYP4tNezIu"
   },
   "source": [
    "#Q2. Create two variables. One to store your First name and another to store your surname. Now, Print your name so that the surname prints first.\n",
    "\n",
    "[6]\n",
    "0s\n"
   ]
  },
  {
   "cell_type": "code",
   "execution_count": null,
   "metadata": {
    "colab": {
     "base_uri": "https://localhost:8080/"
    },
    "id": "y6-KEmBUe614",
    "outputId": "37697d02-b963-4ac0-abab-510fe679dc1e"
   },
   "outputs": [
    {
     "name": "stdout",
     "output_type": "stream",
     "text": [
      "tharala hari chandan\n"
     ]
    }
   ],
   "source": [
    "fname=\"hari chandan\"\n",
    "sname=\"tharala\"\n",
    "print(sname,fname)"
   ]
  },
  {
   "cell_type": "markdown",
   "metadata": {
    "id": "lT7Q6MjBfAJo"
   },
   "source": [
    "#Q3. Write rules on how to create a variable in a markdown cell using text formatting."
   ]
  },
  {
   "cell_type": "markdown",
   "metadata": {
    "id": "S-9BWo_xfIZv"
   },
   "source": [
    "#1.variables should not start with numbers. 2.variables can end with numbers. 3.variables should not have spaces in between we use underscore. 4.coming to special characters we can use only underscore.\n",
    "\n"
   ]
  },
  {
   "cell_type": "markdown",
   "metadata": {
    "id": "l-jNsV6TfPHb"
   },
   "source": []
  },
  {
   "cell_type": "markdown",
   "metadata": {
    "id": "u3UqvfcNXIss"
   },
   "source": [
    "# Q4. Create a variable called break and assign it a value 16. See what happens, and find out the reason behind the behavior that you see.\n",
    "\n"
   ]
  },
  {
   "cell_type": "code",
   "execution_count": null,
   "metadata": {
    "colab": {
     "base_uri": "https://localhost:8080/",
     "height": 110
    },
    "id": "r0ymKp-LfZWI",
    "outputId": "16faf3e7-d2ea-4cab-9412-dc07cf937625"
   },
   "outputs": [
    {
     "ename": "SyntaxError",
     "evalue": "invalid syntax (<ipython-input-8-49de0d72f05a>, line 1)",
     "output_type": "error",
     "traceback": [
      "\u001b[0;36m  File \u001b[0;32m\"<ipython-input-8-49de0d72f05a>\"\u001b[0;36m, line \u001b[0;32m1\u001b[0m\n\u001b[0;31m    break=16\u001b[0m\n\u001b[0m         ^\u001b[0m\n\u001b[0;31mSyntaxError\u001b[0m\u001b[0;31m:\u001b[0m invalid syntax\n"
     ]
    }
   ],
   "source": [
    "break=16\n",
    "print(break)"
   ]
  },
  {
   "cell_type": "markdown",
   "metadata": {
    "id": "yOlKr59Zfdhu"
   },
   "source": []
  },
  {
   "cell_type": "markdown",
   "metadata": {
    "id": "ln7UyDKSX7Ma"
   },
   "source": [
    "# As the Break is a keyword so we will get error."
   ]
  },
  {
   "cell_type": "markdown",
   "metadata": {
    "id": "ok_DLzerfkq-"
   },
   "source": []
  },
  {
   "cell_type": "markdown",
   "metadata": {
    "id": "9Xf0ov40YEol"
   },
   "source": [
    "# Q5.\n",
    "    a. Assign the values 1, 2, and 3 to the variables x, y, and z, respectively, in a single line.\n",
    "    b. Print the values of x, y, and z.\n",
    "\n"
   ]
  },
  {
   "cell_type": "code",
   "execution_count": null,
   "metadata": {
    "colab": {
     "base_uri": "https://localhost:8080/"
    },
    "id": "U6crAA6SY2Y9",
    "outputId": "8e3f6d96-ebbe-4416-db91-fe3e0510f6fd"
   },
   "outputs": [
    {
     "name": "stdout",
     "output_type": "stream",
     "text": [
      "1\n",
      "2\n",
      "3\n",
      "1 2 3\n"
     ]
    }
   ],
   "source": [
    "x=1\n",
    "y=2\n",
    "z=3\n",
    "print(x)\n",
    "print(y)\n",
    "print(z)\n",
    "print(x,y,z)"
   ]
  },
  {
   "cell_type": "markdown",
   "metadata": {
    "id": "RT_8Sa8yb5u2"
   },
   "source": []
  }
 ],
 "metadata": {
  "colab": {
   "provenance": []
  },
  "kernelspec": {
   "display_name": "Python 3 (ipykernel)",
   "language": "python",
   "name": "python3"
  },
  "language_info": {
   "codemirror_mode": {
    "name": "ipython",
    "version": 3
   },
   "file_extension": ".py",
   "mimetype": "text/x-python",
   "name": "python",
   "nbconvert_exporter": "python",
   "pygments_lexer": "ipython3",
   "version": "3.11.5"
  }
 },
 "nbformat": 4,
 "nbformat_minor": 1
}
