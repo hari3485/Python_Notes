{
 "cells": [
  {
   "cell_type": "markdown",
   "metadata": {
    "id": "hqkDpz3jaS5t"
   },
   "source": [
    "Q1. Define two variables, a and b, with values 12 and 5 respectively. Write a Python program to calculate and print their sum, difference, product, quotient, and modulus.\n"
   ]
  },
  {
   "cell_type": "code",
   "execution_count": null,
   "metadata": {
    "colab": {
     "base_uri": "https://localhost:8080/"
    },
    "id": "3AKpva4fcD2x",
    "outputId": "02abf5bc-a8a3-44ee-bca1-f731363ee591"
   },
   "outputs": [
    {
     "name": "stdout",
     "output_type": "stream",
     "text": [
      "17 addition of a & b\n",
      "7 subtraction of b from a\n",
      "60 multiplication of a & b\n",
      "2.4 divid=sion of a by b\n",
      "2 modulus a & b\n"
     ]
    }
   ],
   "source": [
    "a=12\n",
    "b=5\n",
    "print(a+b,\"addition of a & b\")\n",
    "print(a-b,\"subtraction of b from a\")\n",
    "print(a*b,\"multiplication of a & b\")\n",
    "print(a/b,\"divid=sion of a by b\")\n",
    "print(a%b,\"modulus a & b\")"
   ]
  },
  {
   "cell_type": "markdown",
   "metadata": {
    "id": "XaEfH5rEdD_w"
   },
   "source": [
    "Q2. Write a Python program to evaluate the expression (8 + 2) * (3 - 1) ** 2 / 2 and explain how the use of parentheses affects the result using comments.\n"
   ]
  },
  {
   "cell_type": "code",
   "execution_count": null,
   "metadata": {
    "colab": {
     "base_uri": "https://localhost:8080/"
    },
    "id": "HHC3mcnUd1Ca",
    "outputId": "397277d4-cedf-4f6e-9886-b016ee55f37d"
   },
   "outputs": [
    {
     "name": "stdout",
     "output_type": "stream",
     "text": [
      "20.0\n"
     ]
    }
   ],
   "source": [
    "print((8+2)*(3-1)**2/2)"
   ]
  },
  {
   "cell_type": "code",
   "execution_count": null,
   "metadata": {
    "colab": {
     "base_uri": "https://localhost:8080/"
    },
    "id": "tat9SJyceP6a",
    "outputId": "d763e9ff-49a7-493b-e473-89aa68a99192"
   },
   "outputs": [
    {
     "name": "stdout",
     "output_type": "stream",
     "text": [
      "13.5\n"
     ]
    }
   ],
   "source": [
    "print(8+2*3-1**2/2)"
   ]
  },
  {
   "cell_type": "markdown",
   "metadata": {
    "id": "SRNcKHAreY3C"
   },
   "source": [
    "If we give parathesis then it will be calculated as fist it calculates sum or difference which is inside parathesis then the remaining calculation ."
   ]
  },
  {
   "cell_type": "markdown",
   "metadata": {
    "id": "q8m8aT8Kd3US"
   },
   "source": [
    "Given three boolean variables, p = True, q = False, and r = True, write a Python program that evaluates and prints the result of the logical expressions p and q, p or q, and not r.\n"
   ]
  },
  {
   "cell_type": "code",
   "execution_count": null,
   "metadata": {
    "colab": {
     "base_uri": "https://localhost:8080/"
    },
    "id": "UVsngc0Nf8Ee",
    "outputId": "b99468b3-6c13-4aa3-9325-c72a4d02c817"
   },
   "outputs": [
    {
     "name": "stdout",
     "output_type": "stream",
     "text": [
      "True\n",
      "True\n",
      "False\n",
      "False\n",
      "True\n",
      "False\n"
     ]
    }
   ],
   "source": [
    "p=True\n",
    "q=False\n",
    "r=True\n",
    "print(r)\n",
    "print(p)\n",
    "print(q)\n",
    "print(p and q)\n",
    "print(p or q)\n",
    "print(not r)"
   ]
  },
  {
   "cell_type": "markdown",
   "metadata": {
    "id": "-0wl1TyJgu5K"
   },
   "source": [
    "Q4. Write a Python program to evaluate the expression 10 + 2 * 3 / 4 - 5 ** 2 and print the result. Explain the order in which the operations are performed using comments."
   ]
  },
  {
   "cell_type": "code",
   "execution_count": null,
   "metadata": {
    "colab": {
     "base_uri": "https://localhost:8080/"
    },
    "id": "JbRoUZdKg11x",
    "outputId": "32b46c42-4424-47de-db6b-234e54052ede"
   },
   "outputs": [
    {
     "name": "stdout",
     "output_type": "stream",
     "text": [
      "-13.5\n"
     ]
    }
   ],
   "source": [
    "a=10 + 2 * 3 / 4 - 5 ** 2\n",
    "print(a)"
   ]
  },
  {
   "cell_type": "markdown",
   "metadata": {
    "id": "zZld7NjLhVLJ"
   },
   "source": [
    "when we use BODMAS rule we can get the result as in starting it is calculating the division part and then multipliaction next addition and subtraction."
   ]
  },
  {
   "cell_type": "markdown",
   "metadata": {
    "id": "UXZvaoswhyok"
   },
   "source": [
    "Q5. Explain the difference between logical operators (and, or, not) and bitwise operators (&, |, ~) with examples.\n"
   ]
  },
  {
   "cell_type": "code",
   "execution_count": null,
   "metadata": {
    "colab": {
     "base_uri": "https://localhost:8080/"
    },
    "id": "lvaL82Cmh27g",
    "outputId": "709916e3-6255-4de4-ebf3-4ca39b47fb56"
   },
   "outputs": [
    {
     "name": "stdout",
     "output_type": "stream",
     "text": [
      "False\n",
      "True\n",
      "False\n",
      "True\n",
      "False\n",
      "True\n",
      "-2\n",
      "-1\n"
     ]
    }
   ],
   "source": [
    "a=True\n",
    "b=False\n",
    "print(a and b)\n",
    "#If both varaiables are True then result will be True otherwise false.\n",
    "print(a or b )\n",
    "#If any variable is True then result will be True.\n",
    "print(not a)\n",
    "#If the variable is True the result will be False 0r wise versa.\n",
    "print(not b)\n",
    "#If the variable is False the result will be true 0r wise versa.\n",
    "print(a & b)\n",
    "#If both varaiables are True then result will be True otherwise false.\n",
    "print(a | b)\n",
    "#If any variable is True then result will be True.\n",
    "print(~a)\n",
    "#As the variable value is 1 so when we apply not it will be increasing 1 and sign will change.\n",
    "print(~b)\n",
    "#As the variable value is 0 so when we apply not it will be increasing 1 and sign will change."
   ]
  },
  {
   "cell_type": "markdown",
   "metadata": {
    "id": "YdQRN7pFief4"
   },
   "source": [
    "As we know that true = 1 and false = 0 so when we use symbols for not  it will bew giving"
   ]
  },
  {
   "cell_type": "markdown",
   "metadata": {
    "id": "wASw4GRccdJL"
   },
   "source": [
    "Q1.\n",
    "    Create a variable to store the string \"Earth revolves around the sun\"\n",
    "- Print \"revolves\" using slice operator\n",
    "- Print \"sun\" using negative index\n",
    "  Create a string made of the middle two characters.\n",
    "Example input: Innomatics\n",
    "Example output: ma\n"
   ]
  },
  {
   "cell_type": "code",
   "execution_count": null,
   "metadata": {
    "colab": {
     "background_save": true,
     "base_uri": "https://localhost:8080/"
    },
    "id": "1VqPKr8Wce2g",
    "outputId": "a5a10b75-83ef-4960-845c-4bb5dba34ac0"
   },
   "outputs": [
    {
     "name": "stdout",
     "output_type": "stream",
     "text": [
      "Earth revolves around the sun\n"
     ]
    }
   ],
   "source": [
    "v=\"Earth revolves around the sun\"\n",
    "print(v)"
   ]
  }
 ],
 "metadata": {
  "colab": {
   "provenance": []
  },
  "kernelspec": {
   "display_name": "Python 3 (ipykernel)",
   "language": "python",
   "name": "python3"
  },
  "language_info": {
   "codemirror_mode": {
    "name": "ipython",
    "version": 3
   },
   "file_extension": ".py",
   "mimetype": "text/x-python",
   "name": "python",
   "nbconvert_exporter": "python",
   "pygments_lexer": "ipython3",
   "version": "3.11.5"
  }
 },
 "nbformat": 4,
 "nbformat_minor": 1
}
