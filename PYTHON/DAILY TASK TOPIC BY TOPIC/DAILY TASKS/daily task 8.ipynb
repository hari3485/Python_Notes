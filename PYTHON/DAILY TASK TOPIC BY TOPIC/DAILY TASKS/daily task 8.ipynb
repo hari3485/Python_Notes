{
 "cells": [
  {
   "cell_type": "markdown",
   "id": "b5847456-b6fb-438a-98fc-7cdb1fd221a2",
   "metadata": {},
   "source": [
    "##### 1.Write a Python program that asks the user for their age and prints \"You are an adult\" if the age is 18 or older; otherwise, it prints \"You are a minor’’.\n"
   ]
  },
  {
   "cell_type": "code",
   "execution_count": 2,
   "id": "bf962191-8487-46da-9249-780d80a56c76",
   "metadata": {},
   "outputs": [
    {
     "name": "stdin",
     "output_type": "stream",
     "text": [
      "enter your age 19\n"
     ]
    },
    {
     "name": "stdout",
     "output_type": "stream",
     "text": [
      "you are an adult\n"
     ]
    }
   ],
   "source": [
    "input_num=int(input(\"enter your age\"))\n",
    "if input_num >= 18:\n",
    "    print(\"you are an adult\")\n",
    "else:\n",
    "    print(\"you are  minor\")"
   ]
  },
  {
   "cell_type": "markdown",
   "id": "b5a28bca-fbf8-4fb1-8b2a-0a2e0f85ae47",
   "metadata": {},
   "source": [
    "##### 2.Write a program that takes a numerical grade (out of 100) as input and prints the corresponding letter grade according to the following scale:\n",
    "\n",
    "+  90-100: \n",
    "+ 80-89: B\n",
    "+ 70-79: C\n",
    "+ 60-69: D\n",
    "+ < 60:F0: F\n"
   ]
  },
  {
   "cell_type": "code",
   "execution_count": 4,
   "id": "465cc010-a4f3-48fc-a6d2-3a997fc52fc9",
   "metadata": {},
   "outputs": [
    {
     "name": "stdout",
     "output_type": "stream",
     "text": [
      "enter your marks90\n",
      "A grade\n"
     ]
    }
   ],
   "source": [
    "input_num=int(input(\"enter your marks\"))\n",
    "if 90<=input_num<=100:\n",
    "    print(\"A grade\")\n",
    "elif 80<=input_num<=89:\n",
    "    print(\"B grade\")\n",
    "elif 70<=input_num<=79:\n",
    "    print(\"C grade\")\n",
    "elif 60<=input_num<=69:\n",
    "    print(\"D grade\")\n",
    "elif input_num<=35:\n",
    "    print(\"Fail\")"
   ]
  },
  {
   "cell_type": "markdown",
   "id": "35d4d5bc-f31b-4f0f-a4c7-d5cd4bc9292f",
   "metadata": {},
   "source": [
    "##### 3.Write a program that asks the user for three numbers and prints the maximum of the three.\n"
   ]
  },
  {
   "cell_type": "code",
   "execution_count": 5,
   "id": "15808e36-27fa-4e14-ace1-3d7e51ec2192",
   "metadata": {},
   "outputs": [
    {
     "name": "stdout",
     "output_type": "stream",
     "text": [
      "{65, 45, 23}\n"
     ]
    },
    {
     "data": {
      "text/plain": [
       "65"
      ]
     },
     "execution_count": 5,
     "metadata": {},
     "output_type": "execute_result"
    }
   ],
   "source": [
    "a={23,45,65}\n",
    "print(a)\n",
    "max(a)"
   ]
  },
  {
   "cell_type": "markdown",
   "id": "54311209-9661-4af5-96c6-4eb310ac99f8",
   "metadata": {},
   "source": [
    "#### 4.Write a program that asks the user for a temperature (in Celsius) and prints \"It's freezing\" if the temperature is below 0, \"It's cool\" if it's between 0 and 10, \"It's warm\" if it's between 10 and 20, and \"It's hot\" if it's above 20\n"
   ]
  },
  {
   "cell_type": "code",
   "execution_count": 7,
   "id": "c4f9bb2d-e806-41ad-8eed-833826c151e8",
   "metadata": {},
   "outputs": [
    {
     "name": "stdout",
     "output_type": "stream",
     "text": [
      "enter the temperature-86\n",
      "it's freezing point\n"
     ]
    }
   ],
   "source": [
    "user_temp=int(input(\"enter the temperature\"))\n",
    "if user_temp <= 0:\n",
    "    print(\"it's freezing point\")\n",
    "elif 0 < user_temp <= 10:\n",
    "    print(\"it's cool\")\n",
    "elif 10 < user_temp <= 20:\n",
    "    print(\"it's warm\")\n",
    "elif user_temp >= 20:\n",
    "    print(\"it's hot\")\n",
    "else :\n",
    "    print(\"temperture not found\")\n"
   ]
  },
  {
   "cell_type": "markdown",
   "id": "b74d59ae-6f9b-4841-a5a7-1b65f166cde1",
   "metadata": {},
   "source": [
    "#### 5.Write python Program for factorial of the give number"
   ]
  },
  {
   "cell_type": "code",
   "execution_count": null,
   "id": "e5757550-0716-4cf6-95a1-eabe7f7ffbdd",
   "metadata": {},
   "outputs": [],
   "source": []
  },
  {
   "cell_type": "markdown",
   "id": "f9c32fb3-67c4-4c79-a2c8-42a1b4803a34",
   "metadata": {},
   "source": [
    "#### 6.Write a program that asks the user for a number and prints \"In range\" if the number is between 10 and 20 (inclusive), and \"Out of range\" otherwise..\n"
   ]
  },
  {
   "cell_type": "code",
   "execution_count": 24,
   "id": "33b41aec-c839-4f2e-8792-f2ac433db980",
   "metadata": {},
   "outputs": [
    {
     "name": "stdin",
     "output_type": "stream",
     "text": [
      "enter a number 34\n"
     ]
    },
    {
     "name": "stdout",
     "output_type": "stream",
     "text": [
      "out of the range\n"
     ]
    }
   ],
   "source": [
    "user_num=int(input(\"enter a number\"))\n",
    "if 10<=user_num<=20:\n",
    " print(\"in range\")\n",
    "else:\n",
    " print(\"out of the range\")"
   ]
  },
  {
   "cell_type": "markdown",
   "id": "c511955c-a90c-46f3-8d0a-631f562fc22f",
   "metadata": {},
   "source": [
    "#### 7 Write a Python program to add 'ing' at the end of a given string (string length should be equal to or more than 3). If the given string already ends with 'ing' then add 'ly' instead.If the string length of the given string is less than 3, leave it unchanged\n"
   ]
  },
  {
   "cell_type": "code",
   "execution_count": 27,
   "id": "db4ab939-5b16-4c42-9844-ac1de82a8168",
   "metadata": {},
   "outputs": [
    {
     "name": "stdin",
     "output_type": "stream",
     "text": [
      "enter a name hari\n"
     ]
    },
    {
     "name": "stdout",
     "output_type": "stream",
     "text": [
      "user_numing\n"
     ]
    }
   ],
   "source": [
    "user_num=(input(\"enter a name\"))\n",
    "if len(user_num) >= 3 :\n",
    " print(\"user_num\"+ \"ing\")\n",
    "elif user_num == endswith(\"ing\"):\n",
    " print(\"user_num\" + \"ly\")\n",
    "elif len(user_num) <= 3:\n",
    " print(\"unchanged\")\n"
   ]
  },
  {
   "cell_type": "markdown",
   "id": "f166e1d1-89b3-4087-8a92-68f383c0787e",
   "metadata": {},
   "source": [
    "#### 8.Manoj Kumar has family and friends. Help him remind them who is who. Given a string with a name, return the relation of that person to Manoj Kumar.,\n",
    " Person Relation,\n",
    " Shiva father ,Letha mother, Tarun brother,Kavitha sister ,,Stranger.\n"
   ]
  },
  {
   "cell_type": "code",
   "execution_count": null,
   "id": "4b409232-bd70-4ba6-b011-64f908a7da89",
   "metadata": {},
   "outputs": [],
   "source": []
  },
  {
   "cell_type": "markdown",
   "id": "90ef1357-0dce-4c9d-aac2-799f70dba5e9",
   "metadata": {},
   "source": [
    "#### 9.Write a python program that takes in a word and determines whether or not it is   plural. A plural word is one that ends with “s”\n",
    " "
   ]
  },
  {
   "cell_type": "code",
   "execution_count": null,
   "id": "b8c43a35-9e56-4733-82a1-0857fa6f8953",
   "metadata": {},
   "outputs": [],
   "source": []
  },
  {
   "cell_type": "markdown",
   "id": "70533541-385e-4239-b17a-ae38ce42b5a3",
   "metadata": {},
   "source": [
    "#### 10.A company decided to give a bonus of 5% to employees if his/her year of service is more than 5 years.Ask user for their salary and year of service and print the net bonus amount.\n"
   ]
  },
  {
   "cell_type": "code",
   "execution_count": null,
   "id": "bdc000d5-8923-49fc-831d-e21b77f6b9eb",
   "metadata": {},
   "outputs": [],
   "source": []
  },
  {
   "cell_type": "markdown",
   "id": "1cb0a3e5-cd7a-4df0-87a5-af4aeb40ebb7",
   "metadata": {},
   "source": [
    "#### 11. Take values of length and breadth of a rectangle from the user and check if it is square or not.\n"
   ]
  },
  {
   "cell_type": "code",
   "execution_count": 25,
   "id": "ff2f551b-7fea-4739-bb08-334d6b903905",
   "metadata": {},
   "outputs": [
    {
     "name": "stdin",
     "output_type": "stream",
     "text": [
      "enter the length of rectangle:  11\n",
      "enter the breadth of rectangle:  11\n"
     ]
    },
    {
     "name": "stdout",
     "output_type": "stream",
     "text": [
      "it is a square\n"
     ]
    }
   ],
   "source": [
    "user_len=int(input(\"enter the length of rectangle: \"))\n",
    "user_bre=int(input(\"enter the breadth of rectangle: \"))\n",
    "if user_len == user_bre:\n",
    " print(\"it is a square\")\n",
    "else:\n",
    "    print(\"it is not a square\")"
   ]
  },
  {
   "cell_type": "markdown",
   "id": "b8dc0f7c-9648-4e5d-94f7-d0a632b5e6ac",
   "metadata": {},
   "source": [
    "#### 12.Write a program to check whether a person is eligible for voting or not  (voting age>=18).\n"
   ]
  },
  {
   "cell_type": "code",
   "execution_count": 23,
   "id": "80616cc7-0d5e-4d1e-90f8-9430437fd5d7",
   "metadata": {},
   "outputs": [
    {
     "name": "stdin",
     "output_type": "stream",
     "text": [
      "enter a age:  34\n"
     ]
    },
    {
     "name": "stdout",
     "output_type": "stream",
     "text": [
      "you are  eligible to vote\n"
     ]
    }
   ],
   "source": [
    "user_age=int(input(\"enter a age: \"))\n",
    "if user_age >= 18:\n",
    "    print(\"you are  eligible to vote\")\n",
    "else:\n",
    "    print(\"you are not eligible to vote\")"
   ]
  },
  {
   "cell_type": "markdown",
   "id": "b2e667fa-ff3e-404b-abf7-c85f55b522bc",
   "metadata": {},
   "source": [
    "#### 13.Accept three sides of the triangle and check whether the triangle is possible or not.(Triangle is possible only when the sum of any two sides is greater than 3 rd side).\n"
   ]
  },
  {
   "cell_type": "code",
   "execution_count": 15,
   "id": "39fb010e-efeb-439b-9ec0-a763648ce41c",
   "metadata": {},
   "outputs": [
    {
     "name": "stdin",
     "output_type": "stream",
     "text": [
      "enter a number:  29\n",
      "enter a number:  10\n",
      "enter a number:  11\n"
     ]
    },
    {
     "name": "stdout",
     "output_type": "stream",
     "text": [
      "triangle is possible\n"
     ]
    }
   ],
   "source": [
    "user_input1=int(input(\"enter a number: \"))\n",
    "user_input2=int(input(\"enter a number: \"))\n",
    "user_input3=int(input(\"enter a number: \"))\n",
    "if user_input1 > user_input2 + user_input3 or user_input2 > user_input3 + user_input1 or user_input3 > user_input2 + user_input1:\n",
    "    print(\"triangle is possible\")\n",
    "else:\n",
    "    print(\"triangle is not possible\")"
   ]
  },
  {
   "cell_type": "markdown",
   "id": "2c08ac11-3fda-425c-9ea4-e373187646d2",
   "metadata": {},
   "source": [
    "#### 14.Write a Python program that prints all the numbers from  0 to 6 except 3 and 6.\n"
   ]
  },
  {
   "cell_type": "code",
   "execution_count": null,
   "id": "26c92ee1-fae7-4b24-9ed3-4c0e4705e7db",
   "metadata": {},
   "outputs": [],
   "source": []
  },
  {
   "cell_type": "markdown",
   "id": "0caff979-9c52-49a3-9f27-11c3c28719ee",
   "metadata": {},
   "source": [
    "#### 15.Take String and check whether the string is palindrome or not\n"
   ]
  },
  {
   "cell_type": "code",
   "execution_count": null,
   "id": "2dcb0016-d4f4-45e4-be89-6452d2ae58dd",
   "metadata": {},
   "outputs": [],
   "source": []
  }
 ],
 "metadata": {
  "kernelspec": {
   "display_name": "Python 3 (ipykernel)",
   "language": "python",
   "name": "python3"
  },
  "language_info": {
   "codemirror_mode": {
    "name": "ipython",
    "version": 3
   },
   "file_extension": ".py",
   "mimetype": "text/x-python",
   "name": "python",
   "nbconvert_exporter": "python",
   "pygments_lexer": "ipython3",
   "version": "3.11.5"
  }
 },
 "nbformat": 4,
 "nbformat_minor": 5
}
