{
 "cells": [
  {
   "cell_type": "markdown",
   "id": "fa401298",
   "metadata": {},
   "source": [
    "#### 1. Write a function square(x) that returns the square of the number x.\n"
   ]
  },
  {
   "cell_type": "code",
   "execution_count": 1,
   "id": "05f6a178",
   "metadata": {},
   "outputs": [
    {
     "data": {
      "text/plain": [
       "81"
      ]
     },
     "execution_count": 1,
     "metadata": {},
     "output_type": "execute_result"
    }
   ],
   "source": [
    "def Square_of_the(number):\n",
    "    return(number * number)\n",
    "\n",
    "Square_of_the(9) "
   ]
  },
  {
   "cell_type": "markdown",
   "id": "3c96d0c7",
   "metadata": {},
   "source": [
    "#### 2.Write a function to_uppercase(s) that converts all characters in a string s to uppercase\n"
   ]
  },
  {
   "cell_type": "code",
   "execution_count": 2,
   "id": "87a034a8",
   "metadata": {},
   "outputs": [
    {
     "data": {
      "text/plain": [
       "'CHINTUBABU'"
      ]
     },
     "execution_count": 2,
     "metadata": {},
     "output_type": "execute_result"
    }
   ],
   "source": [
    "def Upper_case_of(letter):\n",
    "    return letter.upper()\n",
    "\n",
    "Upper_case_of(\"chintubabu\")"
   ]
  },
  {
   "cell_type": "markdown",
   "id": "7d81f013",
   "metadata": {},
   "source": [
    "#### 3.Write a function find_max(a, b) that returns the maximum of two numbers a and b\n"
   ]
  },
  {
   "cell_type": "code",
   "execution_count": 3,
   "id": "cc167b5f",
   "metadata": {},
   "outputs": [
    {
     "data": {
      "text/plain": [
       "800000"
      ]
     },
     "execution_count": 3,
     "metadata": {},
     "output_type": "execute_result"
    }
   ],
   "source": [
    "def max_of_numbers(a,b):\n",
    "    if a > b:\n",
    "        return(a)\n",
    "    else:\n",
    "        return(b)\n",
    "    \n",
    "max_of_numbers(800000,89)"
   ]
  },
  {
   "cell_type": "markdown",
   "id": "8f5e3cef",
   "metadata": {},
   "source": [
    "#### 4.Write a function count_vowels(s) that returns the number of vowels (a, e, i, o, u) in a string s.\n"
   ]
  },
  {
   "cell_type": "code",
   "execution_count": 4,
   "id": "57fb5c67",
   "metadata": {},
   "outputs": [
    {
     "name": "stdout",
     "output_type": "stream",
     "text": [
      "4\n"
     ]
    }
   ],
   "source": [
    "def count_vowel(string): \n",
    "    count_vowels = 0\n",
    "    for element in string:\n",
    "        if element in \"aeiouAEIOU\":\n",
    "            count_vowels += 1\n",
    "    print(count_vowels)\n",
    "    \n",
    "count_vowel(\"chintupappu\")"
   ]
  },
  {
   "cell_type": "markdown",
   "id": "626b50ce",
   "metadata": {},
   "source": [
    "#### 5.Write a function concat_strings(s1, s2) that returns the concatenation of two strings s1 and s2.\n"
   ]
  },
  {
   "cell_type": "code",
   "execution_count": 5,
   "id": "f3a964ed",
   "metadata": {},
   "outputs": [
    {
     "data": {
      "text/plain": [
       "'hari chandan'"
      ]
     },
     "execution_count": 5,
     "metadata": {},
     "output_type": "execute_result"
    }
   ],
   "source": [
    "def concat_strings(s1, s2):\n",
    "    concatenation_of_twostrings = (s1+s2)\n",
    "    return (concatenation_of_twostrings)\n",
    "\n",
    "concat_strings(\"hari \",\"chandan\")\n"
   ]
  },
  {
   "cell_type": "markdown",
   "id": "8e43a12a",
   "metadata": {},
   "source": [
    "#### 6.Write a function remove_duplicates(lst) that takes a list lst and returns a new list with duplicate elements removed.\n"
   ]
  },
  {
   "cell_type": "code",
   "execution_count": 6,
   "id": "cbc79d8e",
   "metadata": {},
   "outputs": [
    {
     "data": {
      "text/plain": [
       "[2, 3, 4, 'hari']"
      ]
     },
     "execution_count": 6,
     "metadata": {},
     "output_type": "execute_result"
    }
   ],
   "source": [
    "def function_remove_duplicates(lst):\n",
    "    remove_duplicates = set(lst)\n",
    "    return(list(remove_duplicates))\n",
    "\n",
    "function_remove_duplicates([2,3,3,4,\"hari\",\"hari\"])"
   ]
  },
  {
   "cell_type": "markdown",
   "id": "93984e15",
   "metadata": {},
   "source": [
    "#### 7.Write a function char_frequency(s) that returns a dictionary where the keys are characters in the string s and the values are the number of times each character appears.\n"
   ]
  },
  {
   "cell_type": "code",
   "execution_count": 7,
   "id": "25bf56bd",
   "metadata": {},
   "outputs": [
    {
     "data": {
      "text/plain": [
       "{'h': 2, 'a': 5, 'r': 1, 'i': 6, 'c': 1, 'n': 4, 'd': 7, 'u': 1}"
      ]
     },
     "execution_count": 7,
     "metadata": {},
     "output_type": "execute_result"
    }
   ],
   "source": [
    "def char_frequency(string):\n",
    "    dic = {}\n",
    "    count = 0\n",
    "    string1 = \"\"\n",
    "    for element in string:\n",
    "        keys = element\n",
    "        if element in string1:\n",
    "            count = count+1\n",
    "        else:\n",
    "            count = 1\n",
    "            string1 = string1 + element\n",
    "        dic.update({keys:count})\n",
    "    return dic\n",
    "char_frequency(\"harichandannaidu\")"
   ]
  },
  {
   "cell_type": "markdown",
   "id": "fd049044",
   "metadata": {},
   "source": [
    "#### 8.Write a function sum_even_numbers(lst) that returns the sum of all even numbers in a list lst.\n"
   ]
  },
  {
   "cell_type": "code",
   "execution_count": 8,
   "id": "c10abcf4",
   "metadata": {},
   "outputs": [
    {
     "data": {
      "text/plain": [
       "30"
      ]
     },
     "execution_count": 8,
     "metadata": {},
     "output_type": "execute_result"
    }
   ],
   "source": [
    "def sum_even_numbers(lst):\n",
    "    sum = 0\n",
    "    for element in lst:\n",
    "        if element % 2 == 0:\n",
    "            sum = sum + element\n",
    "    return sum\n",
    "\n",
    "sum_even_numbers([1,2,3,4,5,6,7,8,9,10])"
   ]
  },
  {
   "cell_type": "code",
   "execution_count": 4,
   "id": "860f6611",
   "metadata": {},
   "outputs": [
    {
     "data": {
      "text/plain": [
       "3"
      ]
     },
     "execution_count": 4,
     "metadata": {},
     "output_type": "execute_result"
    }
   ],
   "source": [
    "6>>1"
   ]
  },
  {
   "cell_type": "code",
   "execution_count": 5,
   "id": "7e1a2553",
   "metadata": {},
   "outputs": [
    {
     "data": {
      "text/plain": [
       "'0b110'"
      ]
     },
     "execution_count": 5,
     "metadata": {},
     "output_type": "execute_result"
    }
   ],
   "source": [
    "bin(6)"
   ]
  }
 ],
 "metadata": {
  "kernelspec": {
   "display_name": "Python 3 (ipykernel)",
   "language": "python",
   "name": "python3"
  },
  "language_info": {
   "codemirror_mode": {
    "name": "ipython",
    "version": 3
   },
   "file_extension": ".py",
   "mimetype": "text/x-python",
   "name": "python",
   "nbconvert_exporter": "python",
   "pygments_lexer": "ipython3",
   "version": "3.11.5"
  }
 },
 "nbformat": 4,
 "nbformat_minor": 5
}
