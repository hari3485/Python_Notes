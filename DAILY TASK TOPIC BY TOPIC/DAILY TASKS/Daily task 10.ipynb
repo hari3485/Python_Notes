{
 "cells": [
  {
   "cell_type": "markdown",
   "id": "35de83fb",
   "metadata": {
    "id": "7-raANofQTfH"
   },
   "source": [
    "1) Write a program that checks whether a given number is an Armstrong number. An Armstrong number is one that is equal to the sum of its own digits each raised to the power of the number of digits. Use a while loop.\n"
   ]
  },
  {
   "cell_type": "code",
   "execution_count": null,
   "id": "e501df5e",
   "metadata": {
    "colab": {
     "base_uri": "https://localhost:8080/"
    },
    "id": "pTaw3fgkQQUA",
    "outputId": "27b710d9-96cc-4956-f87a-96b2ab06e3ce"
   },
   "outputs": [
    {
     "name": "stdout",
     "output_type": "stream",
     "text": [
      "Enter a number : 1634\n",
      "It is an Armstrong number\n"
     ]
    }
   ],
   "source": [
    "number = int(input(\"Enter a number : \"))\n",
    "num_str = str(number)\n",
    "num_digit = len(num_str)\n",
    "power = 0\n",
    "copy_number = number\n",
    "while copy_number>0:\n",
    "  digit = copy_number%10\n",
    "  power += digit**num_digit\n",
    "  copy_number //=10\n",
    "\n",
    "if power == number:\n",
    "  print(\"It is an Armstrong number\")\n",
    "else:\n",
    "  print(\"It is not a Armstrong number\")"
   ]
  },
  {
   "cell_type": "code",
   "execution_count": null,
   "id": "2b56ef84",
   "metadata": {},
   "outputs": [],
   "source": [
    "#2.Write a program to determine if a given year is a leap year."
   ]
  },
  {
   "cell_type": "code",
   "execution_count": 3,
   "id": "434bdfc5",
   "metadata": {},
   "outputs": [
    {
     "name": "stdout",
     "output_type": "stream",
     "text": [
      "enter a year2005\n",
      "it is not a leap year\n"
     ]
    }
   ],
   "source": [
    "year=int(input(\"enter a year\"))\n",
    "if year % 4 ==0:\n",
    "    print(\"it is a leap year\")\n",
    "else:\n",
    "    print(\"it is not a leap year\")"
   ]
  },
  {
   "cell_type": "markdown",
   "id": "282a0b18",
   "metadata": {
    "id": "7-raANofQTfH"
   },
   "source": [
    "Q.1) Write a program that checks whether a given number is an Armstrong number. An Armstrong number is one that is equal to the sum of its own digits each raised to the power of the number of digits. Use a while loop.\n"
   ]
  },
  {
   "cell_type": "code",
   "execution_count": null,
   "id": "05950f14",
   "metadata": {
    "colab": {
     "base_uri": "https://localhost:8080/"
    },
    "id": "pTaw3fgkQQUA",
    "outputId": "27b710d9-96cc-4956-f87a-96b2ab06e3ce"
   },
   "outputs": [
    {
     "name": "stdout",
     "output_type": "stream",
     "text": [
      "Enter a number : 1634\n",
      "It is an Armstrong number\n"
     ]
    }
   ],
   "source": [
    "number = int(input(\"Enter a number : \"))\n",
    "num_str = str(number)\n",
    "num_digit = len(num_str)\n",
    "power = 0\n",
    "copy_number = number\n",
    "while copy_number>0:\n",
    "  digit = copy_number%10\n",
    "  power += digit**num_digit\n",
    "  copy_number //=10\n",
    "\n",
    "if power == number:\n",
    "  print(\"It is an Armstrong number\")\n",
    "else:\n",
    "  print(\"It is not a Armstrong number\")"
   ]
  },
  {
   "cell_type": "markdown",
   "id": "10ab470f",
   "metadata": {
    "id": "Nr9YwsQjRrcr"
   },
   "source": [
    "3) Write a program that generates the Fibonacci sequence up to a certain number using a while loop.\n"
   ]
  },
  {
   "cell_type": "code",
   "execution_count": 3,
   "id": "9320ff79",
   "metadata": {
    "colab": {
     "base_uri": "https://localhost:8080/"
    },
    "id": "qacYUoSDRksm",
    "outputId": "97bac954-612d-4ddc-ddf9-edd7dcd5fa0c"
   },
   "outputs": [
    {
     "name": "stdout",
     "output_type": "stream",
     "text": [
      "4\n",
      "0\n",
      "2\n",
      "2\n",
      "4\n"
     ]
    }
   ],
   "source": [
    "x = int(input())\n",
    "a,b = 0,2\n",
    "y = 0\n",
    "while y<x:\n",
    "  print(a)\n",
    "  a,b = b,a+b\n",
    "  y+=1"
   ]
  },
  {
   "cell_type": "code",
   "execution_count": null,
   "id": "261d017d",
   "metadata": {},
   "outputs": [],
   "source": [
    "#4.Write a program to print the following pattern using a for loop:"
   ]
  },
  {
   "cell_type": "code",
   "execution_count": 8,
   "id": "a5bbfc81",
   "metadata": {},
   "outputs": [
    {
     "name": "stdout",
     "output_type": "stream",
     "text": [
      "\n",
      "*\n",
      "**\n",
      "***\n",
      "****\n",
      "*****\n"
     ]
    }
   ],
   "source": [
    "for element in range(6):\n",
    "    print(element* \"*\")"
   ]
  },
  {
   "cell_type": "markdown",
   "id": "fc5b9283",
   "metadata": {
    "id": "gEdO9rNBS-rS"
   },
   "source": [
    "5) Write a program to print the following pattern using a for loop:\n",
    "                            \n",
    "                                       1\n",
    "                                     2   2\n",
    "                                  3   3   3\n",
    "                               4   4   4   4\n",
    "                             5   5   5   5   5  \n",
    "                               4   4   4   4\n",
    "                                  3   3   3\n",
    "                                    2   2\n",
    "                                       1\n",
    "\n"
   ]
  },
  {
   "cell_type": "code",
   "execution_count": null,
   "id": "eae03684",
   "metadata": {
    "colab": {
     "base_uri": "https://localhost:8080/"
    },
    "id": "-SO9LX_kS0nm",
    "outputId": "7cfe6bb9-5d6b-4db0-e841-74799269a2cf"
   },
   "outputs": [
    {
     "name": "stdout",
     "output_type": "stream",
     "text": [
      "5\n",
      "        1 \n",
      "      2 2 \n",
      "    3 3 3 \n",
      "  4 4 4 4 \n",
      "5 5 5 5 5 \n",
      "  4 4 4 4 \n",
      "    3 3 3 \n",
      "      2 2 \n",
      "        1 \n"
     ]
    }
   ],
   "source": [
    "x = int(input())\n",
    "for i in range(1,x+1):\n",
    "  for j in range(x-i):\n",
    "    print(\" \",end=\" \")\n",
    "  for k in range(i):\n",
    "    print(i,end=\" \")\n",
    "  print()\n",
    "\n",
    "for i in range(x-1,0,-1):\n",
    "  for j in range(x-i):\n",
    "    print(\" \",end=\" \")\n",
    "  for k in range(i):\n",
    "    print(i,end=\" \")\n",
    "  print()\n"
   ]
  }
 ],
 "metadata": {
  "kernelspec": {
   "display_name": "Python 3 (ipykernel)",
   "language": "python",
   "name": "python3"
  },
  "language_info": {
   "codemirror_mode": {
    "name": "ipython",
    "version": 3
   },
   "file_extension": ".py",
   "mimetype": "text/x-python",
   "name": "python",
   "nbconvert_exporter": "python",
   "pygments_lexer": "ipython3",
   "version": "3.11.5"
  }
 },
 "nbformat": 4,
 "nbformat_minor": 5
}
