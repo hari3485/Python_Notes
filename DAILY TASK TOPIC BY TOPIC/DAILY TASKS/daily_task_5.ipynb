{
 "cells": [
  {
   "cell_type": "markdown",
   "metadata": {
    "id": "9ZnkMwdaExu9"
   },
   "source": [
    "1.Explain the properties of list and tuple in the markdown cell.\n"
   ]
  },
  {
   "cell_type": "markdown",
   "metadata": {
    "id": "uEa2fmgdfwX-"
   },
   "source": [
    "# LIST: 1.List is mutable(changeable) we can add, delete,replace the elements in list.\n",
    "#2.List allows duplicates (same elements repiting more than one time)\n",
    "#3.list is ordered it will be having a proper order\n",
    "TUPLE:\n",
    "#1.Tuple is ummutable we cannot add,delete,replace in tuple\n",
    "#2.Tuple allows duplicates.\n",
    "#3.Tuples are ordered."
   ]
  },
  {
   "cell_type": "code",
   "execution_count": null,
   "metadata": {
    "colab": {
     "base_uri": "https://localhost:8080/"
    },
    "id": "NSAfMoJvLJ0j",
    "outputId": "462f68c5-cc5e-4888-f499-09d6053e55fd"
   },
   "outputs": [
    {
     "name": "stdout",
     "output_type": "stream",
     "text": [
      "[1, 2, 3, 4, 5]\n"
     ]
    }
   ],
   "source": [
    "chandan=[1,2,3,4,5]\n",
    "print(chandan)"
   ]
  },
  {
   "cell_type": "markdown",
   "metadata": {
    "id": "mWpSZXOAMU1F"
   },
   "source": [
    "3.Access the third element of the list [10, 20, 30, 40, 50].\n"
   ]
  },
  {
   "cell_type": "code",
   "execution_count": null,
   "metadata": {
    "colab": {
     "base_uri": "https://localhost:8080/"
    },
    "id": "cyTuvh3qMdE8",
    "outputId": "5e13d3c6-131a-4e56-d074-3068d45128d7"
   },
   "outputs": [
    {
     "name": "stdout",
     "output_type": "stream",
     "text": [
      "[10, 20, 30, 40, 50]\n",
      "30\n",
      "30\n"
     ]
    }
   ],
   "source": [
    "List=[10,20,30,40,50]\n",
    "print(List)\n",
    "print(List[2])\n",
    "print(List[-3])"
   ]
  },
  {
   "cell_type": "markdown",
   "metadata": {
    "id": "qFzsKKYBMyMk"
   },
   "source": [
    "Change the second element of the list [1, 2, 3, 4, 5] to 10.\n"
   ]
  },
  {
   "cell_type": "code",
   "execution_count": null,
   "metadata": {
    "colab": {
     "base_uri": "https://localhost:8080/"
    },
    "id": "IRN5lRSDM7sZ",
    "outputId": "79f6fa28-25d9-4474-b434-e094cb86cdad"
   },
   "outputs": [
    {
     "name": "stdout",
     "output_type": "stream",
     "text": [
      "[1, 10, 3, 4, 5]\n"
     ]
    }
   ],
   "source": [
    "List=[1,2,3,4,5]\n",
    "List[1]=10\n",
    "print(List)"
   ]
  },
  {
   "cell_type": "markdown",
   "metadata": {
    "id": "eTwfCAFpPadu"
   },
   "source": [
    "6.Add the element 6 to the end of the list [1, 2, 3, 4, 5]."
   ]
  },
  {
   "cell_type": "code",
   "execution_count": null,
   "metadata": {
    "colab": {
     "base_uri": "https://localhost:8080/"
    },
    "id": "t7ZVUnd2Pina",
    "outputId": "842f03a7-3987-43f5-d830-4bb238b3e52a"
   },
   "outputs": [
    {
     "name": "stdout",
     "output_type": "stream",
     "text": [
      "[1, 2, 3, 4, 5, 6]\n"
     ]
    }
   ],
   "source": [
    "List=[1,2,3,4,5]\n",
    "List.append(6)\n",
    "print(List)"
   ]
  },
  {
   "cell_type": "markdown",
   "metadata": {
    "id": "NVpRhEPIPvnS"
   },
   "source": [
    "6.Concatenate the lists [1, 2, 3] and [4, 5, 6].\n"
   ]
  },
  {
   "cell_type": "code",
   "execution_count": null,
   "metadata": {
    "colab": {
     "base_uri": "https://localhost:8080/"
    },
    "id": "XRDdxgS2P03z",
    "outputId": "4384f35f-09fd-4cca-c31c-d684c54f8d9e"
   },
   "outputs": [
    {
     "data": {
      "text/plain": [
       "[1, 2, 3, 4, 5, 6]"
      ]
     },
     "execution_count": 65,
     "metadata": {},
     "output_type": "execute_result"
    }
   ],
   "source": [
    "List1=[1,2,3]\n",
    "List2=[4,5,6]\n",
    "List1+List2"
   ]
  },
  {
   "cell_type": "markdown",
   "metadata": {
    "id": "vt5hazzEQH8w"
   },
   "source": [
    "7.Create a tuple containing the strings \"apple\", \"banana\", and \"cherry\".\n"
   ]
  },
  {
   "cell_type": "code",
   "execution_count": null,
   "metadata": {
    "colab": {
     "base_uri": "https://localhost:8080/"
    },
    "id": "nRvDzSUoQM8n",
    "outputId": "03bf4782-bbed-472d-a74e-c861181cfc55"
   },
   "outputs": [
    {
     "name": "stdout",
     "output_type": "stream",
     "text": [
      "('apple', 'banana', 'cherry')\n"
     ]
    }
   ],
   "source": [
    "Tuple=(\"apple\",\"banana\",\"cherry\")\n",
    "print(Tuple)"
   ]
  },
  {
   "cell_type": "markdown",
   "metadata": {
    "id": "Fyp9oyYNQj3L"
   },
   "source": [
    "8.Access the first element of the tuple (\"apple\", \"banana\", \"cherry\")"
   ]
  },
  {
   "cell_type": "code",
   "execution_count": null,
   "metadata": {
    "colab": {
     "base_uri": "https://localhost:8080/"
    },
    "id": "YcxhjBqrQowr",
    "outputId": "2c9db9e9-6f2a-4b54-f9f9-f526398052b0"
   },
   "outputs": [
    {
     "name": "stdout",
     "output_type": "stream",
     "text": [
      "apple\n"
     ]
    }
   ],
   "source": [
    "chandan=(\"apple\",\"banana\",\"cherry\")\n",
    "print(chandan[0])"
   ]
  },
  {
   "cell_type": "markdown",
   "metadata": {
    "id": "elqIoKn-S97n"
   },
   "source": [
    "9.Check if the number 4 is in the list [1, 2, 3, 4, 5]"
   ]
  },
  {
   "cell_type": "code",
   "execution_count": null,
   "metadata": {
    "colab": {
     "base_uri": "https://localhost:8080/"
    },
    "id": "_QeojfO3TDm3",
    "outputId": "62b3d643-2eb5-4672-8d4e-73bfdcdf91a8"
   },
   "outputs": [
    {
     "name": "stdout",
     "output_type": "stream",
     "text": [
      "True\n"
     ]
    }
   ],
   "source": [
    "chandan=[1,2,3,4,5]\n",
    "print(4 in chandan)"
   ]
  },
  {
   "cell_type": "markdown",
   "metadata": {
    "id": "OdvXkrk_Ug0z"
   },
   "source": [
    "10.Find the length of the list [10, 20, 30, 40, 50]."
   ]
  },
  {
   "cell_type": "code",
   "execution_count": null,
   "metadata": {
    "colab": {
     "base_uri": "https://localhost:8080/"
    },
    "id": "L-5fJ7nRUluA",
    "outputId": "8e11487d-4567-4cae-c20f-004b2983a2bc"
   },
   "outputs": [
    {
     "name": "stdout",
     "output_type": "stream",
     "text": [
      "[10, 20, 30, 40, 50]\n"
     ]
    },
    {
     "data": {
      "text/plain": [
       "5"
      ]
     },
     "execution_count": 69,
     "metadata": {},
     "output_type": "execute_result"
    }
   ],
   "source": [
    "chandan=[10,20,30,40,50]\n",
    "print(chandan)\n",
    "len(chandan)"
   ]
  },
  {
   "cell_type": "markdown",
   "metadata": {
    "id": "K7ZS_UlYVOyH"
   },
   "source": [
    "11.Slice the list [10, 20, 30, 40, 50] to get the sublist [20, 30, 40]."
   ]
  },
  {
   "cell_type": "code",
   "execution_count": null,
   "metadata": {
    "colab": {
     "base_uri": "https://localhost:8080/"
    },
    "id": "K6FTtrE6VSwL",
    "outputId": "4d861ba6-6b31-49cd-e4c3-1df10f80298d"
   },
   "outputs": [
    {
     "data": {
      "text/plain": [
       "[20, 30, 40]"
      ]
     },
     "execution_count": 70,
     "metadata": {},
     "output_type": "execute_result"
    }
   ],
   "source": [
    "chandan=[10,20,30,40,50]\n",
    "chandan[1:4]"
   ]
  },
  {
   "cell_type": "markdown",
   "metadata": {
    "id": "GZabzCkBVlpt"
   },
   "source": [
    "12.Unpack the tuple (10, 20, 30) into three variables."
   ]
  },
  {
   "cell_type": "code",
   "execution_count": null,
   "metadata": {
    "colab": {
     "base_uri": "https://localhost:8080/"
    },
    "id": "GonJsPtGXhNH",
    "outputId": "4b93e0dc-69c0-4df7-f19b-5d5cb2495acd"
   },
   "outputs": [
    {
     "name": "stdout",
     "output_type": "stream",
     "text": [
      "10\n",
      "20\n",
      "30\n"
     ]
    }
   ],
   "source": [
    "chandan=(10,20,30)\n",
    "c=10\n",
    "h=20\n",
    "a=30\n",
    "print(c)\n",
    "print(h)\n",
    "print(a)"
   ]
  },
  {
   "cell_type": "markdown",
   "metadata": {
    "id": "iOKv2dCPXkLw"
   },
   "source": [
    "13.Count the number of times the element 2 appears in the list [1, 2, 2, 3, 4, 2, 5].\n"
   ]
  },
  {
   "cell_type": "code",
   "execution_count": 1,
   "metadata": {
    "colab": {
     "base_uri": "https://localhost:8080/"
    },
    "id": "Nhu7e3zBXpTg",
    "outputId": "82bb1b9c-7a0b-466b-d7be-75d05e3a7162"
   },
   "outputs": [
    {
     "name": "stdout",
     "output_type": "stream",
     "text": [
      "[1, 2, 2, 3, 4, 2, 5]\n"
     ]
    },
    {
     "data": {
      "text/plain": [
       "3"
      ]
     },
     "execution_count": 1,
     "metadata": {},
     "output_type": "execute_result"
    }
   ],
   "source": [
    "chandan=[1,2,2,3,4,2,5]\n",
    "print(chandan)\n",
    "chandan.count(2)"
   ]
  },
  {
   "cell_type": "code",
   "execution_count": 6,
   "metadata": {},
   "outputs": [
    {
     "name": "stdout",
     "output_type": "stream",
     "text": [
      "[3, 3, 3, 1, 1, 5, 5, 5, 5, 5, 1]\n"
     ]
    }
   ],
   "source": []
  },
  {
   "cell_type": "markdown",
   "metadata": {
    "id": "Tcmg9c-gZO1H"
   },
   "source": [
    "14.Find the maximum element in the list [1, 2, 3, 4, 5].\n"
   ]
  },
  {
   "cell_type": "code",
   "execution_count": null,
   "metadata": {
    "colab": {
     "base_uri": "https://localhost:8080/"
    },
    "id": "cw2imKcaZVeh",
    "outputId": "1d892869-ed05-4ec6-ffac-d65df537edb8"
   },
   "outputs": [
    {
     "name": "stdout",
     "output_type": "stream",
     "text": [
      "[1, 2, 3, 4, 5]\n"
     ]
    },
    {
     "data": {
      "text/plain": [
       "5"
      ]
     },
     "execution_count": 73,
     "metadata": {},
     "output_type": "execute_result"
    }
   ],
   "source": [
    "chandan=[1,2,3,4,5]\n",
    "print(chandan)\n",
    "max(chandan)"
   ]
  },
  {
   "cell_type": "markdown",
   "metadata": {
    "id": "uLBiNWaRaC0q"
   },
   "source": [
    "15.Convert the list [1, 2, 3, 4, 5] to a tuple.\n"
   ]
  },
  {
   "cell_type": "code",
   "execution_count": null,
   "metadata": {
    "colab": {
     "base_uri": "https://localhost:8080/"
    },
    "id": "tK1-L9DmaIO1",
    "outputId": "04467f63-a9b0-433b-97b1-7f4dd38b532b"
   },
   "outputs": [
    {
     "name": "stdout",
     "output_type": "stream",
     "text": [
      "[1, 2, 3, 4, 5]\n"
     ]
    },
    {
     "data": {
      "text/plain": [
       "(1, 2, 3, 4, 5)"
      ]
     },
     "execution_count": 74,
     "metadata": {},
     "output_type": "execute_result"
    }
   ],
   "source": [
    "chandan=[1,2,3,4,5]\n",
    "print(chandan)\n",
    "tuple(chandan)"
   ]
  },
  {
   "cell_type": "markdown",
   "metadata": {
    "id": "iMNZHI0Yaoea"
   },
   "source": [
    "16.Extend the list [1, 2, 3] with elements from the list [4, 5, 6].\n"
   ]
  },
  {
   "cell_type": "code",
   "execution_count": null,
   "metadata": {
    "colab": {
     "base_uri": "https://localhost:8080/"
    },
    "id": "lbTi8kz3asuM",
    "outputId": "4408c127-d5b2-46cb-96e1-b061f49907aa"
   },
   "outputs": [
    {
     "name": "stdout",
     "output_type": "stream",
     "text": [
      "[1, 2, 3, 4, 5, 6]\n"
     ]
    }
   ],
   "source": [
    "chandan=[1,2,3]\n",
    "chandan\n",
    "chandan.extend([4,5,6])\n",
    "print(chandan)"
   ]
  },
  {
   "cell_type": "markdown",
   "metadata": {
    "id": "VIPm73lRcszA"
   },
   "source": [
    "17.Reverse the list [1, 2, 3, 4, 5].\n"
   ]
  },
  {
   "cell_type": "code",
   "execution_count": null,
   "metadata": {
    "colab": {
     "base_uri": "https://localhost:8080/"
    },
    "id": "vVieXk9Zcwzl",
    "outputId": "52668edd-60c4-4765-ad11-7a980072b780"
   },
   "outputs": [
    {
     "data": {
      "text/plain": [
       "[5, 4, 3, 2, 1]"
      ]
     },
     "execution_count": 76,
     "metadata": {},
     "output_type": "execute_result"
    }
   ],
   "source": [
    "chandan=[1,2,3,4,5]\n",
    "chandan\n",
    "chandan.reverse()\n",
    "chandan"
   ]
  },
  {
   "cell_type": "markdown",
   "metadata": {
    "id": "5B4JZRZFc_XN"
   },
   "source": [
    "18.Access the element 3 in the nested list [[1, 2], [3, 4], [5, 6]].\n"
   ]
  },
  {
   "cell_type": "code",
   "execution_count": null,
   "metadata": {
    "colab": {
     "base_uri": "https://localhost:8080/"
    },
    "id": "66Xk2-xPdD8f",
    "outputId": "00b2bf05-3528-4b9b-9f07-6a1045f7e9ce"
   },
   "outputs": [
    {
     "name": "stdout",
     "output_type": "stream",
     "text": [
      "3\n"
     ]
    }
   ],
   "source": [
    "chandan=[[1,2],[3,4],[5,6]]\n",
    "print(chandan[1][0])"
   ]
  },
  {
   "cell_type": "markdown",
   "metadata": {
    "id": "POYFE550dzZD"
   },
   "source": [
    "19.Remove the element 4 from the list [1, 2, 3, 4, 5]."
   ]
  },
  {
   "cell_type": "code",
   "execution_count": null,
   "metadata": {
    "colab": {
     "base_uri": "https://localhost:8080/"
    },
    "id": "-uQu87qed7zM",
    "outputId": "3f2350fb-90c9-44f2-c498-9ba582d92326"
   },
   "outputs": [
    {
     "name": "stdout",
     "output_type": "stream",
     "text": [
      "[1, 2, 3, 4, 5]\n"
     ]
    },
    {
     "data": {
      "text/plain": [
       "[1, 2, 3, 5]"
      ]
     },
     "execution_count": 78,
     "metadata": {},
     "output_type": "execute_result"
    }
   ],
   "source": [
    "chandan=[1,2,3,4,5]\n",
    "print(chandan)\n",
    "chandan.remove(4)\n",
    "chandan"
   ]
  },
  {
   "cell_type": "markdown",
   "metadata": {
    "id": "Bj3jLtOvecDL"
   },
   "source": [
    "20.Convert the tuple (1, 2, 3, 4, 5) to a list.\n"
   ]
  },
  {
   "cell_type": "code",
   "execution_count": null,
   "metadata": {
    "colab": {
     "base_uri": "https://localhost:8080/"
    },
    "id": "RrYa-8vqegye",
    "outputId": "5c9ba4f8-5a94-47c8-9019-484a70f98aee"
   },
   "outputs": [
    {
     "name": "stdout",
     "output_type": "stream",
     "text": [
      "(1, 2, 3, 4, 5)\n",
      "[1, 2, 3, 4, 5]\n"
     ]
    }
   ],
   "source": [
    "chandan=(1,2,3,4,5)\n",
    "print(chandan)\n",
    "print(list(chandan))"
   ]
  },
  {
   "cell_type": "markdown",
   "metadata": {
    "id": "zOikeo32e0bB"
   },
   "source": [
    "21.Find the index of the element 3 in the list [1, 2, 3, 4, 5].\n"
   ]
  },
  {
   "cell_type": "code",
   "execution_count": null,
   "metadata": {
    "colab": {
     "base_uri": "https://localhost:8080/"
    },
    "id": "sDBMjAxee44v",
    "outputId": "2e89a8aa-0bb9-449e-f7f3-c5ca6d835602"
   },
   "outputs": [
    {
     "name": "stdout",
     "output_type": "stream",
     "text": [
      "[1, 2, 3, 4, 5]\n"
     ]
    },
    {
     "data": {
      "text/plain": [
       "2"
      ]
     },
     "execution_count": 80,
     "metadata": {},
     "output_type": "execute_result"
    }
   ],
   "source": [
    "chandan=[1,2,3,4,5]\n",
    "print(chandan)\n",
    "chandan.index(3)"
   ]
  },
  {
   "cell_type": "markdown",
   "metadata": {
    "id": "N1yNom_Zfbp1"
   },
   "source": [
    "22.Explain why the following operation fails: t = (1, 2, 3); t[0] = 0.\n"
   ]
  },
  {
   "cell_type": "code",
   "execution_count": null,
   "metadata": {
    "colab": {
     "base_uri": "https://localhost:8080/",
     "height": 165
    },
    "id": "yHEFL6MrfgKm",
    "outputId": "7d8e80f7-1ea6-4b71-eafd-a5440712b1bd"
   },
   "outputs": [
    {
     "ename": "TypeError",
     "evalue": "'tuple' object does not support item assignment",
     "output_type": "error",
     "traceback": [
      "\u001b[0;31m---------------------------------------------------------------------------\u001b[0m",
      "\u001b[0;31mTypeError\u001b[0m                                 Traceback (most recent call last)",
      "\u001b[0;32m<ipython-input-81-8e2a00d261fa>\u001b[0m in \u001b[0;36m<cell line: 2>\u001b[0;34m()\u001b[0m\n\u001b[1;32m      1\u001b[0m \u001b[0mt\u001b[0m\u001b[0;34m=\u001b[0m\u001b[0;34m(\u001b[0m\u001b[0;36m1\u001b[0m\u001b[0;34m,\u001b[0m\u001b[0;36m2\u001b[0m\u001b[0;34m,\u001b[0m\u001b[0;36m3\u001b[0m\u001b[0;34m)\u001b[0m\u001b[0;34m\u001b[0m\u001b[0;34m\u001b[0m\u001b[0m\n\u001b[0;32m----> 2\u001b[0;31m \u001b[0mt\u001b[0m\u001b[0;34m[\u001b[0m\u001b[0;36m0\u001b[0m\u001b[0;34m]\u001b[0m\u001b[0;34m=\u001b[0m\u001b[0;36m0\u001b[0m\u001b[0;34m\u001b[0m\u001b[0;34m\u001b[0m\u001b[0m\n\u001b[0m",
      "\u001b[0;31mTypeError\u001b[0m: 'tuple' object does not support item assignment"
     ]
    }
   ],
   "source": [
    "t=(1,2,3)\n",
    "t[0]=0"
   ]
  },
  {
   "cell_type": "markdown",
   "metadata": {
    "id": "2p0DYxpRf7qP"
   },
   "source": [
    "Actually Tuple is un mutable so we cannot replace new elements to the variable"
   ]
  },
  {
   "cell_type": "markdown",
   "metadata": {
    "id": "sdgizN7OgXX_"
   },
   "source": [
    "23.You have a list of your favorite Marvel superheroes.\n",
    "heroes=['spider man','thor','hulk','iron man','captain america']  Using this list,\n",
    "1.find Length of the list\n",
    "2.Add 'black panther' at the end of this list.\n"
   ]
  },
  {
   "cell_type": "code",
   "execution_count": null,
   "metadata": {
    "colab": {
     "base_uri": "https://localhost:8080/"
    },
    "id": "YI3UYXHQgeTm",
    "outputId": "9308138c-2b0d-4a78-e76f-c0b98fd47067"
   },
   "outputs": [
    {
     "name": "stdout",
     "output_type": "stream",
     "text": [
      "['spider man', 'thor', 'hulk', 'iron man', 'captain america']\n",
      "5\n"
     ]
    },
    {
     "data": {
      "text/plain": [
       "['spider man', 'thor', 'hulk', 'iron man', 'captain america', 'black panther']"
      ]
     },
     "execution_count": 82,
     "metadata": {},
     "output_type": "execute_result"
    }
   ],
   "source": [
    "heroes=['spider man','thor','hulk','iron man','captain america']\n",
    "print(heroes)\n",
    "print(len(heroes))\n",
    "heroes.append('black panther')\n",
    "heroes"
   ]
  },
  {
   "cell_type": "markdown",
   "metadata": {
    "id": "q_kGevOJWIOC"
   },
   "source": [
    "You realize that you need to add 'black panther' after 'hulk', so remove it from the list first and then add it after 'hulk'."
   ]
  },
  {
   "cell_type": "code",
   "execution_count": null,
   "metadata": {
    "colab": {
     "base_uri": "https://localhost:8080/"
    },
    "id": "sCsZ-ACTXMOQ",
    "outputId": "1f3eefab-ec98-4876-e018-74fc28597dda"
   },
   "outputs": [
    {
     "name": "stdout",
     "output_type": "stream",
     "text": [
      "['spider man', 'thor', 'hulk', 'iron man', 'captain america', 'black panther']\n",
      "['spider man', 'thor', 'hulk', 'iron man', 'captain america']\n",
      "['spider man', 'thor', 'hulk', 'black panther', 'iron man', 'captain america']\n",
      "['spider man', ['thor', 'hulk'], 'black panther', 'iron man', 'captain america']\n",
      "['spider man', 'doctor strange', 'black panther', 'iron man', 'captain america']\n",
      "['black panther', 'captain america', 'doctor strange', 'iron man', 'spider man']\n"
     ]
    }
   ],
   "source": [
    "b=['spider man', 'thor', 'hulk', 'iron man', 'captain america', 'black panther']\n",
    "print(b)\n",
    "b.remove('black panther')\n",
    "print(b)\n",
    "b.insert(3,'black panther')\n",
    "print(b)\n",
    "\n",
    "#Now you don't like thor and hulk because they get angry easily 🙂.\n",
    "#So you want to remove thor and hulk from the list and\n",
    "#replace them with Doctor Strange (because he is cool).\n",
    "#Do that with one line of code.\n",
    "\n",
    "c=['spider man', ['thor', 'hulk'], 'black panther', 'iron man', 'captain america']\n",
    "print(c)\n",
    "c.remove(['thor','hulk'])\n",
    "c\n",
    "c.insert(1,'doctor strange')\n",
    "print(c)\n",
    "c.sort()\n",
    "print(c)"
   ]
  },
  {
   "cell_type": "markdown",
   "metadata": {
    "id": "m5hrSdC3cgDs"
   },
   "source": [
    "24. Write a program to add item 7000 after 6000 in the following Python List:\n",
    "\tlist1 = [10, 20, [300, 400, [5000, 6000], 500], 30, 40]\n"
   ]
  },
  {
   "cell_type": "code",
   "execution_count": null,
   "metadata": {
    "colab": {
     "base_uri": "https://localhost:8080/"
    },
    "id": "OOlIknV_cl9Z",
    "outputId": "2a887987-49ba-4f8b-a3cd-a7285c3c6e75"
   },
   "outputs": [
    {
     "name": "stdout",
     "output_type": "stream",
     "text": [
      "[10, 20, [300, 400, [5000, 6000], 30, 40]]\n",
      "[10, 20, [300, 400, [5000, 6000, 7000], 30, 40]]\n"
     ]
    }
   ],
   "source": [
    "list1=[10,20,[300,400,[5000,6000],30,40]]\n",
    "print(list1)\n",
    "list1[2][2].append(7000)\n",
    "print(list1)"
   ]
  }
 ],
 "metadata": {
  "colab": {
   "provenance": []
  },
  "kernelspec": {
   "display_name": "Python 3 (ipykernel)",
   "language": "python",
   "name": "python3"
  },
  "language_info": {
   "codemirror_mode": {
    "name": "ipython",
    "version": 3
   },
   "file_extension": ".py",
   "mimetype": "text/x-python",
   "name": "python",
   "nbconvert_exporter": "python",
   "pygments_lexer": "ipython3",
   "version": "3.11.5"
  }
 },
 "nbformat": 4,
 "nbformat_minor": 1
}
