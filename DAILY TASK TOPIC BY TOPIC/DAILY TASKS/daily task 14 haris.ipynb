{
 "cells": [
  {
   "cell_type": "markdown",
   "id": "52bac520",
   "metadata": {},
   "source": [
    "#### Q1.\n",
    "Say, a=27, b=15. Create a lambda function that multiplies argument 'a' with argument 'b' and prints the result.\n",
    "Use map() with a lambda function to square each element of a given list.\n",
    "list1 = [32,45,67,83,2,4,8,10]\n"
   ]
  },
  {
   "cell_type": "code",
   "execution_count": 1,
   "id": "364653f9",
   "metadata": {},
   "outputs": [
    {
     "name": "stdout",
     "output_type": "stream",
     "text": [
      "The result of multiplying 27 and 15 is: 405\n"
     ]
    }
   ],
   "source": [
    "num1 = 27\n",
    "num2 = 15\n",
    "\n",
    "# Lambda function to multiply 'num1' with 'num2'\n",
    "multiply = lambda num1, num2: num1 * num2\n",
    "result = multiply(num1, num2)\n",
    "print(f\"The result of multiplying {num1} and {num2} is: {result}\")\n"
   ]
  },
  {
   "cell_type": "code",
   "execution_count": 2,
   "id": "52b065ff",
   "metadata": {},
   "outputs": [
    {
     "name": "stdout",
     "output_type": "stream",
     "text": [
      "The squared elements are: [1024, 2025, 4489, 6889, 4, 16, 64, 100]\n"
     ]
    }
   ],
   "source": [
    "list1 = [32, 45, 67, 83, 2, 4, 8, 10]\n",
    "\n",
    "# Use map() with a lambda function to square each element in the list\n",
    "squared_list = list(map(lambda x: x ** 2, list1))\n",
    "\n",
    "print(f\"The squared elements are: {squared_list}\")\n"
   ]
  },
  {
   "cell_type": "markdown",
   "id": "b29e534f",
   "metadata": {},
   "source": [
    "#### Q2. \n",
    "Using in-built function filter() with a lambda function filter even numbers from a given list.\n",
    "num = [17, 20, 32, 45, 53, 61, 72, 84, 97]\n",
    "\n",
    "Find the product of all numbers in the list using reduce and lambda functions.\n",
    "nums = [15, 2, 31, 4, 56]\n"
   ]
  },
  {
   "cell_type": "code",
   "execution_count": 3,
   "id": "1aa1932b",
   "metadata": {},
   "outputs": [
    {
     "name": "stdout",
     "output_type": "stream",
     "text": [
      "The even numbers are: [20, 32, 72, 84]\n"
     ]
    }
   ],
   "source": [
    "num = [17, 20, 32, 45, 53, 61, 72, 84, 97]\n",
    "\n",
    "# Use filter() with a lambda function to filter even numbers\n",
    "even_numbers = list(filter(lambda x: x % 2 == 0, num))\n",
    "\n",
    "print(f\"The even numbers are: {even_numbers}\")\n"
   ]
  },
  {
   "cell_type": "code",
   "execution_count": 4,
   "id": "7c5d74d4",
   "metadata": {},
   "outputs": [
    {
     "name": "stdout",
     "output_type": "stream",
     "text": [
      "The product of all numbers is: 208320\n"
     ]
    }
   ],
   "source": [
    "from functools import reduce\n",
    "\n",
    "nums = [15, 2, 31, 4, 56]\n",
    "\n",
    "# Use reduce() with a lambda function to find the product of all numbers in the list\n",
    "product = reduce(lambda x, y: x * y, nums)\n",
    "\n",
    "print(f\"The product of all numbers is: {product}\")\n"
   ]
  },
  {
   "cell_type": "markdown",
   "id": "58e94e60",
   "metadata": {},
   "source": [
    "#### Q3. Use a lambda function to create a grade list from a list of student scores.\n",
    "\tscores = [88, 92, 78, 95, 86] \n",
    "A grade if score greater than 90 \n",
    "B grade if score greater than 80 \n",
    "else grade C.\n",
    "Expected Output: grade= ['B', 'A', 'C', 'A', 'B']\n",
    "\n",
    "\n",
    "\n",
    "\n"
   ]
  },
  {
   "cell_type": "code",
   "execution_count": 7,
   "id": "317bbcdb",
   "metadata": {},
   "outputs": [
    {
     "name": "stdout",
     "output_type": "stream",
     "text": [
      "Grades: ['B', 'A', 'C', 'A', 'B']\n"
     ]
    }
   ],
   "source": [
    "scores = [88, 92, 78, 95, 86]\n",
    "\n",
    "# Use map() with a lambda function to assign grades based on scores\n",
    "grades = list(map(lambda score: 'A' if score > 90 else 'B' if score > 80 else 'C', scores))\n",
    "\n",
    "print(f\"Grades: {grades}\")\n"
   ]
  },
  {
   "cell_type": "markdown",
   "id": "9564ac53",
   "metadata": {},
   "source": [
    "#### Q.4  Filter the palindromes from a given iterable.\n",
    "       list2= [Java, mom, dad, nun, python] \n",
    "       Expected o/p : [ mom, dad ,nun] "
   ]
  },
  {
   "cell_type": "code",
   "execution_count": 6,
   "id": "0bd78090",
   "metadata": {},
   "outputs": [
    {
     "name": "stdout",
     "output_type": "stream",
     "text": [
      "The palindromes are: ['mom', 'dad', 'nun']\n"
     ]
    }
   ],
   "source": [
    "list2 = [\"Java\", \"mom\", \"dad\", \"nun\", \"python\"]\n",
    "\n",
    "# Use filter() with a lambda function to filter palindromes\n",
    "palindromes = list(filter(lambda x: x == x[::-1], list2))\n",
    "\n",
    "print(f\"The palindromes are: {palindromes}\")\n"
   ]
  }
 ],
 "metadata": {
  "kernelspec": {
   "display_name": "Python 3 (ipykernel)",
   "language": "python",
   "name": "python3"
  },
  "language_info": {
   "codemirror_mode": {
    "name": "ipython",
    "version": 3
   },
   "file_extension": ".py",
   "mimetype": "text/x-python",
   "name": "python",
   "nbconvert_exporter": "python",
   "pygments_lexer": "ipython3",
   "version": "3.11.5"
  }
 },
 "nbformat": 4,
 "nbformat_minor": 5
}
