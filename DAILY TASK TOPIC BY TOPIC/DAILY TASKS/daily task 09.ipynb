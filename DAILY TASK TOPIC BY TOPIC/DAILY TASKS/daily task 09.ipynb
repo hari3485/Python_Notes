{
 "cells": [
  {
   "cell_type": "markdown",
   "id": "3e73414f-e125-4b31-b5c9-84feedb5434d",
   "metadata": {},
   "source": [
    "#### 1.Write a program to accept a number from a user and  calculate the sum of all numbers from 1 to a given number.\n"
   ]
  },
  {
   "cell_type": "code",
   "execution_count": 1,
   "id": "1da2e4a7-ec22-4ab7-ae6b-1782393d1539",
   "metadata": {},
   "outputs": [
    {
     "name": "stdout",
     "output_type": "stream",
     "text": [
      "enter your number14\n",
      "105\n"
     ]
    }
   ],
   "source": [
    "user_num=int(input(\"enter your number\"))\n",
    "sum=0\n",
    "for i in range(1,user_num+1):\n",
    "    sum=sum+i\n",
    "print(sum)"
   ]
  },
  {
   "cell_type": "markdown",
   "id": "a6608da9",
   "metadata": {},
   "source": [
    "2.\twrite a program to convert only odd indexed characters to lowercase."
   ]
  },
  {
   "cell_type": "code",
   "execution_count": 2,
   "id": "414ec417",
   "metadata": {},
   "outputs": [
    {
     "name": "stdout",
     "output_type": "stream",
     "text": [
      "enter a name: HARICHANDAN\n",
      "H\n",
      "a\n",
      "R\n",
      "i\n",
      "C\n",
      "h\n",
      "A\n",
      "n\n",
      "D\n",
      "a\n",
      "N\n"
     ]
    }
   ],
   "source": [
    "a=input(\"enter a name: \")\n",
    "for i in range(len(a)):\n",
    "    if i%2 != 0:\n",
    "        print(a[i].lower())\n",
    "    else:\n",
    "        print(a[i])"
   ]
  },
  {
   "cell_type": "code",
   "execution_count": 3,
   "id": "ca9b12ef",
   "metadata": {},
   "outputs": [],
   "source": [
    "a=\"HARICHANDAN\"\n",
    "result = \"\"\n",
    "for i in range(len(a)):\n",
    "    if i%2!=0:\n",
    "        #print(a[i].lower())\n",
    "        result+=a[i].lower()\n",
    "    else:\n",
    "        #print(a[i])\n",
    "        result+=a[i]"
   ]
  },
  {
   "cell_type": "code",
   "execution_count": 4,
   "id": "546c286d",
   "metadata": {},
   "outputs": [
    {
     "data": {
      "text/plain": [
       "'HaRiChAnDaN'"
      ]
     },
     "execution_count": 4,
     "metadata": {},
     "output_type": "execute_result"
    }
   ],
   "source": [
    "result"
   ]
  },
  {
   "cell_type": "markdown",
   "id": "cdbfb417",
   "metadata": {},
   "source": [
    "3.\tWrite a python program which will print the sum of the two numbers if the two numbers are even or it will print the difference of two numbers."
   ]
  },
  {
   "cell_type": "code",
   "execution_count": 7,
   "id": "a4880fba",
   "metadata": {
    "scrolled": true
   },
   "outputs": [
    {
     "name": "stdout",
     "output_type": "stream",
     "text": [
      "enter the number: 7\n",
      "enter the number: 9\n",
      "-2 Both are not even\n"
     ]
    }
   ],
   "source": [
    "a=int(input(\"enter the number: \"))\n",
    "b=int(input(\"enter the number: \"))\n",
    "if a%2==0 and b%2==0 :\n",
    "    print(a+b,\"Both are even\" )\n",
    "else:\n",
    "    print(a-b,\"Both are not even\")"
   ]
  },
  {
   "cell_type": "markdown",
   "id": "d308d166",
   "metadata": {},
   "source": [
    " 4.\tWrite a program to print a multiplication table of a given  number."
   ]
  },
  {
   "cell_type": "code",
   "execution_count": 2,
   "id": "4bc19a7b-281b-4d16-86fd-d5a6786808cf",
   "metadata": {},
   "outputs": [
    {
     "name": "stdout",
     "output_type": "stream",
     "text": [
      "enter a number: 90\n",
      "1 * 90  =  90\n",
      "2 * 90  =  180\n",
      "3 * 90  =  270\n",
      "4 * 90  =  360\n",
      "5 * 90  =  450\n",
      "6 * 90  =  540\n",
      "7 * 90  =  630\n",
      "8 * 90  =  720\n",
      "9 * 90  =  810\n",
      "10 * 90  =  900\n"
     ]
    }
   ],
   "source": [
    "user_num=int(input(\"enter a number: \"))\n",
    "for i in range(1,11):\n",
    "    print(f\"{i} * {user_num}  =  {i*user_num}\")"
   ]
  },
  {
   "cell_type": "markdown",
   "id": "33135afe",
   "metadata": {},
   "source": [
    "5.\tWrite a program to count the total number of digits in a  number"
   ]
  },
  {
   "cell_type": "code",
   "execution_count": 11,
   "id": "d04d728c",
   "metadata": {},
   "outputs": [
    {
     "name": "stdout",
     "output_type": "stream",
     "text": [
      "4\n"
     ]
    }
   ],
   "source": [
    "n=2556\n",
    "c=0\n",
    "while n!=0:\n",
    "    n=n//10\n",
    "    c=c+1     \n",
    "print(c)\n",
    "    "
   ]
  },
  {
   "cell_type": "markdown",
   "id": "526ce93f",
   "metadata": {},
   "source": [
    "6.\twrite a python program to create the total no of digits in a number .\n",
    "a.\tFor example the number is 75869 so the output should be 5.for  abcdef5678 the  output should be 4.\n"
   ]
  },
  {
   "cell_type": "code",
   "execution_count": 2,
   "id": "d3a67a88-0bc5-4010-ad54-2db898de401b",
   "metadata": {},
   "outputs": [
    {
     "name": "stdout",
     "output_type": "stream",
     "text": [
      "Enter the String: hari1234384948\n",
      "No of digits are 10\n"
     ]
    }
   ],
   "source": [
    "string_1 = input(\"Enter the String: \")\n",
    "count_digits = 0\n",
    "index = 0\n",
    "while index < len(string_1):\n",
    "    char = string_1[index]\n",
    "    if char.isdigit():\n",
    "        count_digits += 1\n",
    "    index += 1\n",
    "print(f\"No of digits are {count_digits}\")\n"
   ]
  },
  {
   "cell_type": "markdown",
   "id": "2a81f67e",
   "metadata": {},
   "source": [
    "8. Write a Python program that accepts a string and calculates the number of digits and letters"
   ]
  },
  {
   "cell_type": "code",
   "execution_count": 3,
   "id": "013833a7",
   "metadata": {},
   "outputs": [
    {
     "name": "stdout",
     "output_type": "stream",
     "text": [
      "Enter the String: harichandan3792843082084028\n",
      "No of letters are 11\n",
      "No of digits are 16\n"
     ]
    }
   ],
   "source": [
    "string_1 = input(\"Enter the String: \")\n",
    "count_letters = 0\n",
    "count_digits = 0\n",
    "index = 0\n",
    "while index < len(string_1):\n",
    "    char = string_1[index]\n",
    "    if char.isdigit():\n",
    "        count_digits += 1\n",
    "    elif char.isalpha():\n",
    "        count_letters += 1\n",
    "    index += 1\n",
    "print(f\"No of letters are {count_letters}\")\n",
    "print(f\"No of digits are {count_digits}\")"
   ]
  },
  {
   "cell_type": "markdown",
   "id": "e7dd1c17",
   "metadata": {},
   "source": [
    "9.\t Write a Python program to check the validity of password input by users.Validation:\\n\",\n",
    "a.\t At least 1 letter between [a-z] and 1 letter between [A-Z].,\n",
    "b.\t At least 1 number between [0-9].,\n",
    "c.\t At least 1 character from [$#@].,\n",
    "d.\t Minimum length 6 characters.,Maximum length 16 characters.\n"
   ]
  },
  {
   "cell_type": "code",
   "execution_count": 1,
   "id": "7f2f40a4",
   "metadata": {},
   "outputs": [
    {
     "name": "stdout",
     "output_type": "stream",
     "text": [
      "please enter your user_name:harriii_19\n",
      "please enter your password:Hari@3485\n",
      "password ok\n",
      "password should be:1(a-z),1(A-Z),1(0-9)\n"
     ]
    }
   ],
   "source": [
    "user_name=input(\"please enter your user_name:\")\n",
    "password=input(\"please enter your password:\")\n",
    "if(len(password)>16 or len(password)<6):\n",
    "  print(\"maximum length of transaction password: 16 and minimum is 6\")\n",
    "else:\n",
    "  print(\"password ok\")\n",
    "if password.isalnum()==password or password.upper()==password or password.lower()+password:\n",
    "  print(\"password should be:1(a-z),1(A-Z),1(0-9)\")\n",
    "elif password.isalnum()==password and password.upper()==password or password.lower()+password:\n",
    "  print(\"password should be:1(a-z),1(A-Z),1(0-9)\")\n",
    "elif password.isalnum()==password and password.upper()==password and password.lower()+password:\n",
    "  print(\"password should be:1(a-z),1(a-z),1(0-9)\")\n",
    "else:\n",
    "  print(\"strongpassword\")"
   ]
  },
  {
   "cell_type": "markdown",
   "id": "456bbc0b",
   "metadata": {},
   "source": [
    "10.\tWrite a program in Python to reverse a word by using while loop,for loop."
   ]
  },
  {
   "cell_type": "code",
   "execution_count": 4,
   "id": "a6f0bc4f-5a35-4af8-a8f8-8cecf53f2b79",
   "metadata": {},
   "outputs": [
    {
     "name": "stdout",
     "output_type": "stream",
     "text": [
      "Enter the string: innomaticslaabs\n",
      "reversed string is sbaalscitamonni\n"
     ]
    }
   ],
   "source": [
    "string_1 = input(\"Enter the string: \")\n",
    "reversed_string = \"\"\n",
    "index = len(string_1) - 1\n",
    "while index >= 0:\n",
    "    reversed_string += string_1[index]\n",
    "    index -= 1\n",
    "print(f\"reversed string is {reversed_string}\")"
   ]
  },
  {
   "cell_type": "markdown",
   "id": "732dfbd7",
   "metadata": {},
   "source": [
    "11.Write a program which takes 10 integers as input using loop and print their average value on the screen"
   ]
  },
  {
   "cell_type": "code",
   "execution_count": 7,
   "id": "6cde3017",
   "metadata": {},
   "outputs": [
    {
     "name": "stdout",
     "output_type": "stream",
     "text": [
      "Enter the Number : 1\n",
      "Enter the Number : 2\n",
      "Enter the Number : 3\n",
      "Enter the Number : 4\n",
      "Enter the Number : 5\n",
      "Enter the Number : 6\n",
      "Enter the Number : 7\n",
      "Enter the Number : 8\n",
      "Enter the Number : 9\n",
      "Enter the Number : 10\n",
      "Total sum is 55\n",
      "Average is 5.5\n"
     ]
    }
   ],
   "source": [
    "total_sum = 0\n",
    "count = 0\n",
    "while count < 10:\n",
    "    num = int(input(\"Enter the Number : \"))\n",
    "    total_sum = total_sum + num\n",
    "    count = count + 1\n",
    "    \n",
    "print(f\"Total sum is {total_sum}\")\n",
    "average = total_sum / count\n",
    "print(f\"Average is {average}\") "
   ]
  },
  {
   "cell_type": "code",
   "execution_count": null,
   "id": "682d35ba",
   "metadata": {},
   "outputs": [],
   "source": []
  }
 ],
 "metadata": {
  "kernelspec": {
   "display_name": "Python 3 (ipykernel)",
   "language": "python",
   "name": "python3"
  },
  "language_info": {
   "codemirror_mode": {
    "name": "ipython",
    "version": 3
   },
   "file_extension": ".py",
   "mimetype": "text/x-python",
   "name": "python",
   "nbconvert_exporter": "python",
   "pygments_lexer": "ipython3",
   "version": "3.11.5"
  }
 },
 "nbformat": 4,
 "nbformat_minor": 5
}
