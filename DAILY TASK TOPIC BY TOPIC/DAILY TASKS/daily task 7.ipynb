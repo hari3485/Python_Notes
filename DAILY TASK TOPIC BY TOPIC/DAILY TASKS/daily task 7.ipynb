{
 "cells": [
  {
   "cell_type": "markdown",
   "id": "9df37923",
   "metadata": {},
   "source": [
    "# 1. What is a set in Python? How is it different from other data structures like lists or tuples? Explain with examples.\n"
   ]
  },
  {
   "cell_type": "markdown",
   "id": "4ba537c6",
   "metadata": {},
   "source": [
    "### Set is defined as it will be stored in flower brackets \n",
    "### It has 4 properties \n",
    "### Set is unordered,immutable,Cannot allow duplicates,allows different types of data types.\n",
    "### we can add ,remove elements from set.\n",
    "### list is mutable,unordered,allows  duplicates,we can wite different data types.\n",
    "### tuple is inmutable,ordered,allows duplicates,"
   ]
  },
  {
   "cell_type": "markdown",
   "id": "c51a3f71",
   "metadata": {},
   "source": [
    "# 2.What is the difference between set.pop() and list.pop()? Explain with examples.\n"
   ]
  },
  {
   "cell_type": "code",
   "execution_count": 2,
   "id": "f6090c30",
   "metadata": {},
   "outputs": [
    {
     "name": "stdout",
     "output_type": "stream",
     "text": [
      "{1, 'chandrika', 2, 3, 4, 4.5, 'mani chandana', 'thanvika', 'hari'}\n"
     ]
    }
   ],
   "source": [
    "a={\"hari\",1,2,3,4,\"mani chandana\",\"chandrika\",\"thanvika\",4.5}\n",
    "print(a) "
   ]
  },
  {
   "cell_type": "code",
   "execution_count": 3,
   "id": "925b2889",
   "metadata": {},
   "outputs": [
    {
     "data": {
      "text/plain": [
       "1"
      ]
     },
     "execution_count": 3,
     "metadata": {},
     "output_type": "execute_result"
    }
   ],
   "source": [
    "a.pop()"
   ]
  },
  {
   "cell_type": "code",
   "execution_count": 6,
   "id": "4ecb09b0",
   "metadata": {},
   "outputs": [
    {
     "name": "stdout",
     "output_type": "stream",
     "text": [
      "[1, 2, 3, 4, 4.5, 'hari', 'chandrika', 'thanvika', 'mani chandana']\n"
     ]
    },
    {
     "data": {
      "text/plain": [
       "'mani chandana'"
      ]
     },
     "execution_count": 6,
     "metadata": {},
     "output_type": "execute_result"
    }
   ],
   "source": [
    "a=[1, 2, 3, 4, 4.5, 'hari', 'chandrika', 'thanvika', 'mani chandana']\n",
    "print(a)\n",
    "a.pop()"
   ]
  },
  {
   "cell_type": "markdown",
   "id": "ffda060c",
   "metadata": {},
   "source": [
    "### when we use pop() in both list and set in list it will pop the last element but when it comes to set it will pop first element. "
   ]
  },
  {
   "cell_type": "markdown",
   "id": "02d76f17",
   "metadata": {},
   "source": [
    "# Given the set S = {1, 2, 3, 4, 5, 76, 32, 65}, apply all built-in set functions to this example."
   ]
  },
  {
   "cell_type": "code",
   "execution_count": 14,
   "id": "5152834f",
   "metadata": {},
   "outputs": [
    {
     "name": "stdout",
     "output_type": "stream",
     "text": [
      "{32, 1, 2, 3, 4, 5, 65, 76}\n",
      "{1, 2, 3, 4, 5, 65, 76}\n",
      "{1, 2, 3, 4, 5, 65, 76}\n",
      "{1, 2, 3, 4, 5, 65}\n",
      "{1, 2, 3, 4, 5}\n",
      "{1, 2, 3, 4, 5}\n"
     ]
    },
    {
     "ename": "KeyError",
     "evalue": "6",
     "output_type": "error",
     "traceback": [
      "\u001b[1;31m---------------------------------------------------------------------------\u001b[0m",
      "\u001b[1;31mKeyError\u001b[0m                                  Traceback (most recent call last)",
      "Cell \u001b[1;32mIn[14], line 13\u001b[0m\n\u001b[0;32m     11\u001b[0m s\u001b[38;5;241m.\u001b[39mdiscard(\u001b[38;5;241m6\u001b[39m)\n\u001b[0;32m     12\u001b[0m \u001b[38;5;28mprint\u001b[39m(s)\n\u001b[1;32m---> 13\u001b[0m s\u001b[38;5;241m.\u001b[39mremove(\u001b[38;5;241m6\u001b[39m)\n\u001b[0;32m     14\u001b[0m \u001b[38;5;28mprint\u001b[39m(s)\n",
      "\u001b[1;31mKeyError\u001b[0m: 6"
     ]
    }
   ],
   "source": [
    "s={1,2,3,4,5,76,32,65}\n",
    "print(s)\n",
    "s.pop() #popping an element from the set\n",
    "print(s)\n",
    "s.copy()#copying the set\n",
    "print(s)\n",
    "s.remove(76)#removing a specific element\n",
    "print(s)\n",
    "s.discard(65)#discarding a particular an element from the set\n",
    "print(s)\n",
    "s.discard(6)#discarding an element which is not present in the set it gives whole set as the result\n",
    "print(s)\n",
    "s.remove(6)#when we are trying to delete an element  which is not present in the set we will get error\n",
    "print(s)\n",
    "\n"
   ]
  },
  {
   "cell_type": "markdown",
   "id": "17f2dc76",
   "metadata": {},
   "source": [
    "### 4. Update the first set with items that don't exist in the second set.\n",
    "### s1={150,200,400}\n",
    "### s2={200,750,650}\n",
    "### Expected output: s1={150,400}\n"
   ]
  },
  {
   "cell_type": "code",
   "execution_count": 17,
   "id": "cbfb8aa9",
   "metadata": {},
   "outputs": [
    {
     "name": "stdout",
     "output_type": "stream",
     "text": [
      "{200, 400, 150}\n",
      "{200, 650, 750}\n",
      "{400, 150}\n"
     ]
    }
   ],
   "source": [
    "s1={150,200,400}\n",
    "s2={200,750,650}\n",
    "print(s1)\n",
    "print(s2)\n",
    "s1.difference_update(s2)\n",
    "print(s1)"
   ]
  },
  {
   "cell_type": "markdown",
   "id": "e3b363c4",
   "metadata": {},
   "source": [
    "### 5. Define a set S = {apple, banana, cherry, orange}. Use Python set methods to add a new fruit 'grape' to S, remove 'banana' from S, and check the length of S"
   ]
  },
  {
   "cell_type": "code",
   "execution_count": 27,
   "id": "9e180fdc",
   "metadata": {},
   "outputs": [
    {
     "name": "stdout",
     "output_type": "stream",
     "text": [
      "{'apple', 'cherry', 'orange', 'banana'}\n",
      "{'banana', 'apple', 'grape', 'cherry', 'orange'}\n",
      "{'apple', 'grape', 'cherry', 'orange'}\n"
     ]
    }
   ],
   "source": [
    "s={\"apple\",\"banana\",\"cherry\",\"orange\"}\n",
    "print(s)\n",
    "s.add(\"grape\")\n",
    "print(s)\n",
    "s.remove(\"banana\")\n",
    "print(s)"
   ]
  },
  {
   "cell_type": "markdown",
   "id": "dac06295",
   "metadata": {},
   "source": [
    "#### 6.  dict = {“name1_marks” : [34,56,87,89], “name2_marks” : [78,98,54,34],  “name3_marks” : [87,65,97,90]}   add the marks   97  in  “name1_marks”.\n",
    "Expected output : {“name1_marks” : [34,56,87,89, 97], “name2_marks” : [78,98,54,34],  “name3_marks” : [87,65,97,90]}\n"
   ]
  },
  {
   "cell_type": "code",
   "execution_count": 68,
   "id": "106308cd",
   "metadata": {},
   "outputs": [
    {
     "name": "stdout",
     "output_type": "stream",
     "text": [
      "{'name2_marks': [79, 98, 54, 34]}\n",
      "{'name3_marks': [87, 65, 97, 90]}\n",
      "[[34, 56, 87, 89]]\n",
      "[[34, 56, 87, 89], 97]\n",
      "{'name1_marks': [[34, 56, 87, 89], 97]}\n"
     ]
    }
   ],
   "source": [
    "dict1={\"name1_marks\":[34,56,87,89]}\n",
    "dict2={\"name2_marks\":[79,98,54,34]}\n",
    "dict3={\"name3_marks\":[87,65,97,90]}\n",
    "print(dict2)\n",
    "print(dict3)\n",
    "a=list((dict1.values()))\n",
    "print(a)\n",
    "a.append(97)\n",
    "print(a)\n",
    "dict1[\"name1_marks\"]=a\n",
    "print(dict1)"
   ]
  },
  {
   "cell_type": "code",
   "execution_count": 8,
   "id": "7e961a71",
   "metadata": {},
   "outputs": [
    {
     "name": "stdout",
     "output_type": "stream",
     "text": [
      "{'thanvika', 1, 2, 'hari'}\n",
      "{'thanvika', 1, 2, 'hari'}\n"
     ]
    }
   ],
   "source": [
    "s={1,2,\"hari\",\"thanvika\"}\n",
    "print(s)\n",
    "s.discard(\"3\")\n",
    "print(s)"
   ]
  },
  {
   "cell_type": "code",
   "execution_count": null,
   "id": "9fe93db6",
   "metadata": {},
   "outputs": [],
   "source": []
  }
 ],
 "metadata": {
  "kernelspec": {
   "display_name": "Python 3 (ipykernel)",
   "language": "python",
   "name": "python3"
  },
  "language_info": {
   "codemirror_mode": {
    "name": "ipython",
    "version": 3
   },
   "file_extension": ".py",
   "mimetype": "text/x-python",
   "name": "python",
   "nbconvert_exporter": "python",
   "pygments_lexer": "ipython3",
   "version": "3.11.5"
  }
 },
 "nbformat": 4,
 "nbformat_minor": 5
}
