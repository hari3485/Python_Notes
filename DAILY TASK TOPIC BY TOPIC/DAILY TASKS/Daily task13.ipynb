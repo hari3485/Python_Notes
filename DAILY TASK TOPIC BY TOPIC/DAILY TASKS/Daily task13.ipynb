{
 "cells": [
  {
   "cell_type": "markdown",
   "id": "3a9633ee",
   "metadata": {},
   "source": [
    "#### 1.Using in-built function filter() with a lambda function filter even numbers from a given list.\n",
    "num = [17, 20, 32, 45, 53, 61, 72, 84, 97]\n"
   ]
  },
  {
   "cell_type": "code",
   "execution_count": 11,
   "id": "cb08985c",
   "metadata": {},
   "outputs": [
    {
     "ename": "SyntaxError",
     "evalue": "invalid syntax (3267416875.py, line 2)",
     "output_type": "error",
     "traceback": [
      "\u001b[1;36m  Cell \u001b[1;32mIn[11], line 2\u001b[1;36m\u001b[0m\n\u001b[1;33m    even_num = lambda number:\"even\"  if num % 2 == 0 else \"odd\" for i in range(len(num))\u001b[0m\n\u001b[1;37m                                                                ^\u001b[0m\n\u001b[1;31mSyntaxError\u001b[0m\u001b[1;31m:\u001b[0m invalid syntax\n"
     ]
    }
   ],
   "source": [
    "num = [17,20,32,45,53,61,72,84,97]\n",
    "even_num = lambda \n",
    "even_num(num)"
   ]
  },
  {
   "cell_type": "markdown",
   "id": "8593eed3",
   "metadata": {},
   "source": [
    "#### 2.Write a Python function to find the maximum of three numbers.\n"
   ]
  },
  {
   "cell_type": "code",
   "execution_count": null,
   "id": "20914157",
   "metadata": {},
   "outputs": [],
   "source": [
    "def max_of_numbers()"
   ]
  },
  {
   "cell_type": "code",
   "execution_count": null,
   "id": "56c0a23b",
   "metadata": {},
   "outputs": [],
   "source": []
  },
  {
   "cell_type": "code",
   "execution_count": null,
   "id": "58f3bb49",
   "metadata": {},
   "outputs": [],
   "source": []
  },
  {
   "cell_type": "code",
   "execution_count": null,
   "id": "4c60fa16",
   "metadata": {},
   "outputs": [],
   "source": []
  },
  {
   "cell_type": "code",
   "execution_count": null,
   "id": "c1de58df",
   "metadata": {},
   "outputs": [],
   "source": []
  },
  {
   "cell_type": "code",
   "execution_count": null,
   "id": "45de5cf6",
   "metadata": {},
   "outputs": [],
   "source": []
  },
  {
   "cell_type": "code",
   "execution_count": null,
   "id": "244c87e1",
   "metadata": {},
   "outputs": [],
   "source": []
  },
  {
   "cell_type": "code",
   "execution_count": null,
   "id": "a90bf1f7",
   "metadata": {},
   "outputs": [],
   "source": []
  }
 ],
 "metadata": {
  "kernelspec": {
   "display_name": "Python 3 (ipykernel)",
   "language": "python",
   "name": "python3"
  },
  "language_info": {
   "codemirror_mode": {
    "name": "ipython",
    "version": 3
   },
   "file_extension": ".py",
   "mimetype": "text/x-python",
   "name": "python",
   "nbconvert_exporter": "python",
   "pygments_lexer": "ipython3",
   "version": "3.11.5"
  }
 },
 "nbformat": 4,
 "nbformat_minor": 5
}
