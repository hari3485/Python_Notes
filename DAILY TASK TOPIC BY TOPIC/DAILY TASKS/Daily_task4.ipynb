{
 "cells": [
  {
   "cell_type": "markdown",
   "metadata": {
    "id": "Bkc3uELlOSFp"
   },
   "source": [
    "How do you repeat a string multiple times?\n",
    "Example:  input = “Innomatics”\n",
    "                  Output  = “Innomatics  Innomatics Innomatics”\n"
   ]
  },
  {
   "cell_type": "code",
   "execution_count": null,
   "metadata": {
    "colab": {
     "base_uri": "https://localhost:8080/"
    },
    "id": "o0Dcq4cFOXIP",
    "outputId": "9ce7119f-2fa6-4d35-f424-feeeaa677530"
   },
   "outputs": [
    {
     "name": "stdout",
     "output_type": "stream",
     "text": [
      "Innomatics Innomatics Innomatics \n"
     ]
    }
   ],
   "source": [
    "a=\"Innomatics \"\n",
    "print(a * 3)"
   ]
  },
  {
   "cell_type": "markdown",
   "metadata": {
    "id": "GVxtzO24O0rp"
   },
   "source": [
    "Solve below:\n",
    "s=\"your full name\"\n",
    "s[-1],s[-3],s[3], s[2:7],s[2:7:1],s[2:7:1],s[2:7:2],s[2:7:-1],s[2:7:-2],s[7:2:1],s[7:2:-1],s[7:2:-2] Solve this question using pen and paper attach your images in the notebook itself, then verify answers by writing codes. Include your examples and try playing with different kinds of slicing with positive and negative steps.\n"
   ]
  },
  {
   "cell_type": "code",
   "execution_count": 1,
   "metadata": {},
   "outputs": [
    {
     "name": "stdout",
     "output_type": "stream",
     "text": [
      "n\n"
     ]
    }
   ],
   "source": [
    "s=\"tharala hari chandan\"\n",
    "print(s[-1])"
   ]
  },
  {
   "cell_type": "code",
   "execution_count": 2,
   "metadata": {},
   "outputs": [
    {
     "name": "stdout",
     "output_type": "stream",
     "text": [
      "d\n"
     ]
    }
   ],
   "source": [
    "s=\"tharala hari chandan\"\n",
    "print(s[-3])"
   ]
  },
  {
   "cell_type": "code",
   "execution_count": 3,
   "metadata": {},
   "outputs": [
    {
     "name": "stdout",
     "output_type": "stream",
     "text": [
      "r\n"
     ]
    }
   ],
   "source": [
    "s=\"tharala hari chandan\"\n",
    "print(s[3])"
   ]
  },
  {
   "cell_type": "code",
   "execution_count": 4,
   "metadata": {},
   "outputs": [
    {
     "name": "stdout",
     "output_type": "stream",
     "text": [
      "arala\n"
     ]
    }
   ],
   "source": [
    "s=\"tharala hari chandan\"\n",
    "print(s[2:7])"
   ]
  },
  {
   "cell_type": "code",
   "execution_count": 5,
   "metadata": {},
   "outputs": [
    {
     "name": "stdout",
     "output_type": "stream",
     "text": [
      "arala\n"
     ]
    }
   ],
   "source": [
    "s=\"tharala hari chandan\"\n",
    "print(s[2:7:1])"
   ]
  },
  {
   "cell_type": "code",
   "execution_count": 6,
   "metadata": {},
   "outputs": [
    {
     "name": "stdout",
     "output_type": "stream",
     "text": [
      "aaa\n"
     ]
    }
   ],
   "source": [
    "s=\"tharala hari chandan\"\n",
    "print(s[2:7:2])"
   ]
  },
  {
   "cell_type": "code",
   "execution_count": 7,
   "metadata": {},
   "outputs": [
    {
     "name": "stdout",
     "output_type": "stream",
     "text": [
      "\n"
     ]
    }
   ],
   "source": [
    "s=\"tharala hari chandan\"\n",
    "print(s[2:7:-1])"
   ]
  },
  {
   "cell_type": "code",
   "execution_count": 8,
   "metadata": {},
   "outputs": [
    {
     "name": "stdout",
     "output_type": "stream",
     "text": [
      "\n"
     ]
    }
   ],
   "source": [
    "s=\"tharala hari chandan\"\n",
    "print(s[2:7:-2])"
   ]
  },
  {
   "cell_type": "code",
   "execution_count": 9,
   "metadata": {},
   "outputs": [
    {
     "name": "stdout",
     "output_type": "stream",
     "text": [
      "\n"
     ]
    }
   ],
   "source": [
    "s=\"tharala hari chandan\"\n",
    "print(s[7:2:1])"
   ]
  },
  {
   "cell_type": "code",
   "execution_count": 10,
   "metadata": {},
   "outputs": [
    {
     "name": "stdout",
     "output_type": "stream",
     "text": [
      " alar\n"
     ]
    }
   ],
   "source": [
    "s=\"tharala hari chandan\"\n",
    "print(s[7:2:-1])"
   ]
  },
  {
   "cell_type": "code",
   "execution_count": 11,
   "metadata": {},
   "outputs": [
    {
     "name": "stdout",
     "output_type": "stream",
     "text": [
      " lr\n"
     ]
    }
   ],
   "source": [
    "s=\"tharala hari chandan\"\n",
    "print(s[7:2:-2])"
   ]
  },
  {
   "cell_type": "markdown",
   "metadata": {
    "id": "0YGteQJLRUi9"
   },
   "source": [
    "What is the difference between string.find() and string.index() ? Explain with examples.\n"
   ]
  },
  {
   "cell_type": "code",
   "execution_count": 12,
   "metadata": {
    "colab": {
     "base_uri": "https://localhost:8080/"
    },
    "id": "sL66_CGRRVmq",
    "outputId": "fd1fad58-4c77-46b3-b9d4-81534ffdedee"
   },
   "outputs": [
    {
     "name": "stdout",
     "output_type": "stream",
     "text": [
      "11\n",
      "11\n"
     ]
    }
   ],
   "source": [
    "hari=\"charan sir teaches well\"\n",
    "print(hari.find(\"t\"))\n",
    "print(hari.index(\"t\"))"
   ]
  },
  {
   "cell_type": "code",
   "execution_count": null,
   "metadata": {
    "colab": {
     "base_uri": "https://localhost:8080/"
    },
    "id": "g-HIkknnSfxO",
    "outputId": "cfaa1f3e-daf2-4b5e-a284-b2b4ff6d168f"
   },
   "outputs": [
    {
     "name": "stdout",
     "output_type": "stream",
     "text": [
      "-1\n"
     ]
    }
   ],
   "source": [
    "print(hari.find(\"k\"))"
   ]
  },
  {
   "cell_type": "markdown",
   "metadata": {
    "id": "n1Qs33OwTJ99"
   },
   "source": [
    "when we execute a string which is not present in our variable\n",
    "find method gives the result as [-1] where as index method gives an ERROR as the result this is the difference between find(),and index()methods.find method gives good result compared to index method."
   ]
  },
  {
   "cell_type": "code",
   "execution_count": null,
   "metadata": {
    "colab": {
     "base_uri": "https://localhost:8080/",
     "height": 147
    },
    "id": "dbbIMcDbTCT_",
    "outputId": "b6c87d51-6a3f-403f-85d9-ff44d2b1cc9a"
   },
   "outputs": [
    {
     "ename": "ValueError",
     "evalue": "substring not found",
     "output_type": "error",
     "traceback": [
      "\u001b[0;31m---------------------------------------------------------------------------\u001b[0m",
      "\u001b[0;31mValueError\u001b[0m                                Traceback (most recent call last)",
      "\u001b[0;32m<ipython-input-13-17039155a5f4>\u001b[0m in \u001b[0;36m<cell line: 1>\u001b[0;34m()\u001b[0m\n\u001b[0;32m----> 1\u001b[0;31m \u001b[0mprint\u001b[0m\u001b[0;34m(\u001b[0m\u001b[0mhari\u001b[0m\u001b[0;34m.\u001b[0m\u001b[0mindex\u001b[0m\u001b[0;34m(\u001b[0m\u001b[0;34m\"k\"\u001b[0m\u001b[0;34m)\u001b[0m\u001b[0;34m)\u001b[0m\u001b[0;34m\u001b[0m\u001b[0;34m\u001b[0m\u001b[0m\n\u001b[0m",
      "\u001b[0;31mValueError\u001b[0m: substring not found"
     ]
    }
   ],
   "source": [
    "print(hari.index(\"k\"))"
   ]
  },
  {
   "cell_type": "markdown",
   "metadata": {
    "id": "5XkNOED-UCqT"
   },
   "source": [
    "S = “Ram Raj Ram”\n",
    "Expected output: “Ram raj ram”\n"
   ]
  },
  {
   "cell_type": "code",
   "execution_count": null,
   "metadata": {
    "colab": {
     "base_uri": "https://localhost:8080/",
     "height": 36
    },
    "id": "KlI4aLjQUNcK",
    "outputId": "5cf08570-01b6-41f6-f910-f319d14baf00"
   },
   "outputs": [
    {
     "data": {
      "application/vnd.google.colaboratory.intrinsic+json": {
       "type": "string"
      },
      "text/plain": [
       "'Ram raj ram'"
      ]
     },
     "execution_count": 25,
     "metadata": {},
     "output_type": "execute_result"
    }
   ],
   "source": [
    "S=\"Ram Raj Ram\"\n",
    "(S.capitalize())\n"
   ]
  },
  {
   "cell_type": "markdown",
   "metadata": {
    "id": "evbm781lYLk0"
   },
   "source": [
    "Given two strings, first_name and last_name, write a function that concatenates them to form a full name with a space in between. Ensure the resulting full name has the first letter of each word capitalized correctly."
   ]
  },
  {
   "cell_type": "code",
   "execution_count": null,
   "metadata": {
    "colab": {
     "base_uri": "https://localhost:8080/"
    },
    "id": "OOEWUgjqYPRv",
    "outputId": "5e5f24fd-4225-432c-e2cb-0829465e6cf1"
   },
   "outputs": [
    {
     "name": "stdout",
     "output_type": "stream",
     "text": [
      "tharala hari chandan\n",
      "Tharala  Hari chandan\n"
     ]
    }
   ],
   "source": [
    "first_name=\"tharala \"\n",
    "last_name=\"hari chandan\"\n",
    "name = print(first_name +last_name)\n",
    "print(first_name.capitalize(),last_name.capitalize())\n",
    "\n",
    "\n"
   ]
  },
  {
   "cell_type": "markdown",
   "metadata": {
    "id": "1KDZsJQReKa3"
   },
   "source": [
    "Check if the string s (s = \"madam\") is a palindrome and assign the result (True/False) to the variable is_palindrome.\n"
   ]
  },
  {
   "cell_type": "code",
   "execution_count": 14,
   "metadata": {
    "colab": {
     "base_uri": "https://localhost:8080/"
    },
    "id": "Ayu0FJxseMF9",
    "outputId": "0c8c1102-85a6-45b9-bc69-4e4e81e4fabf"
   },
   "outputs": [
    {
     "name": "stdout",
     "output_type": "stream",
     "text": [
      "madam\n"
     ]
    },
    {
     "data": {
      "text/plain": [
       "True"
      ]
     },
     "execution_count": 14,
     "metadata": {},
     "output_type": "execute_result"
    }
   ],
   "source": [
    "s=\"madam\"\n",
    "reverse=(s[::-1])\n",
    "print(reverse)\n",
    "reverse==s"
   ]
  },
  {
   "cell_type": "markdown",
   "metadata": {
    "id": "x8C19zglevPu"
   },
   "source": [
    "S =  “InnomaticsResearchLabs”\n",
    "Expected output: I-n-m-t-c-R-s-a-c-L-b\n"
   ]
  },
  {
   "cell_type": "code",
   "execution_count": null,
   "metadata": {
    "colab": {
     "base_uri": "https://localhost:8080/"
    },
    "id": "HXA6BwBVewPj",
    "outputId": "34e5fd9a-0549-4e51-984a-4114c12bd014"
   },
   "outputs": [
    {
     "name": "stdout",
     "output_type": "stream",
     "text": [
      "InmtcRsacLb\n",
      "I-n-m-t-c-R-s-a-c-L-b\n"
     ]
    }
   ],
   "source": [
    "S=\"InnomaticsResearchLabs\"\n",
    "A=S[0:22:2]\n",
    "print(A)\n",
    "print(\"-\".join(A))"
   ]
  },
  {
   "cell_type": "code",
   "execution_count": 15,
   "metadata": {},
   "outputs": [
    {
     "data": {
      "text/plain": [
       "'Love Makes Life Beautiful Statistics Makes Data Colourful'"
      ]
     },
     "execution_count": 15,
     "metadata": {},
     "output_type": "execute_result"
    }
   ],
   "source": [
    "a=\"love makes life beautiful statistics makes data colourful\"\n",
    "a.title()"
   ]
  }
 ],
 "metadata": {
  "colab": {
   "provenance": []
  },
  "kernelspec": {
   "display_name": "Python 3 (ipykernel)",
   "language": "python",
   "name": "python3"
  },
  "language_info": {
   "codemirror_mode": {
    "name": "ipython",
    "version": 3
   },
   "file_extension": ".py",
   "mimetype": "text/x-python",
   "name": "python",
   "nbconvert_exporter": "python",
   "pygments_lexer": "ipython3",
   "version": "3.11.5"
  }
 },
 "nbformat": 4,
 "nbformat_minor": 1
}
