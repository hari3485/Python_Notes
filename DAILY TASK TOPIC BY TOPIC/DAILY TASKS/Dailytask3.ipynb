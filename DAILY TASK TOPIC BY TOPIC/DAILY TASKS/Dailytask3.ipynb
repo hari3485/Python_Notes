{
 "cells": [
  {
   "cell_type": "markdown",
   "metadata": {
    "id": "gOux4gqgg5Ny"
   },
   "source": [
    "Q1.\n",
    "    Create a variable to store the string \"Earth revolves around the sun\"\n",
    "- Print \"revolves\" using slice operator\n",
    "- Print \"sun\" using negative index\n"
   ]
  },
  {
   "cell_type": "code",
   "execution_count": null,
   "metadata": {
    "colab": {
     "base_uri": "https://localhost:8080/"
    },
    "id": "9H1v_tjFhBVy",
    "outputId": "dc10a98a-f81d-427e-f1a8-e8c775d24836"
   },
   "outputs": [
    {
     "name": "stdout",
     "output_type": "stream",
     "text": [
      "Earth revolves around the sun\n",
      "revolves\n",
      "sun\n"
     ]
    }
   ],
   "source": [
    "v=\"Earth revolves around the sun\"\n",
    "print(v)\n",
    "print(v[6:14])\n",
    "print(v[-3:])"
   ]
  },
  {
   "cell_type": "markdown",
   "metadata": {
    "id": "vr7Jklv2hXvJ"
   },
   "source": [
    "Create a string made of the middle two characters.\n",
    "Example input: Innomatics\n",
    "Example output: ma\n"
   ]
  },
  {
   "cell_type": "code",
   "execution_count": null,
   "metadata": {
    "colab": {
     "base_uri": "https://localhost:8080/"
    },
    "id": "pXPRfpOjhb1X",
    "outputId": "e16e98ae-db57-4bec-c3eb-ce3ffd8be16a"
   },
   "outputs": [
    {
     "name": "stdout",
     "output_type": "stream",
     "text": [
      "Innomatics\n",
      "ma\n",
      "Enter the String:Innomatics\n",
      "ma\n"
     ]
    }
   ],
   "source": [
    "h=\"Innomatics\"\n",
    "print(h)\n",
    "len(h)\n",
    "print(h[4:6])\n",
    "\n",
    "h=input(\"Enter the String:\")\n",
    "print(h[4:6])\n"
   ]
  },
  {
   "cell_type": "markdown",
   "metadata": {
    "id": "VLR0gxrti6vd"
   },
   "source": [
    "Write a program to create a new string made of an input string’s first, middle, and       last character.\n",
    "  Example input: Holiday\n",
    "  Example output: Hiy\n",
    "\n"
   ]
  },
  {
   "cell_type": "markdown",
   "metadata": {
    "id": "c0-9ENjEsPgS"
   },
   "source": [
    "Q3.  Explore five different string methods and explain with examples."
   ]
  },
  {
   "cell_type": "code",
   "execution_count": 1,
   "metadata": {
    "colab": {
     "base_uri": "https://localhost:8080/"
    },
    "id": "5LUom8nWv2YY",
    "outputId": "5ecd4329-3f04-4368-f99a-683866fdf13e"
   },
   "outputs": [
    {
     "name": "stdout",
     "output_type": "stream",
     "text": [
      "Hiy\n",
      "Hiy\n",
      "Hiy\n"
     ]
    }
   ],
   "source": [
    "a=\"Holiday\"\n",
    "b=(a[0])\n",
    "c=(a[3])\n",
    "d=(a[6])\n",
    "print(b+c+d)\n",
    "print(a[0]+a[3]+a[6])\n",
    "print(a[0:8:3])"
   ]
  },
  {
   "cell_type": "markdown",
   "metadata": {
    "id": "IzrdNDUhwClI"
   },
   "source": [
    "Q3.  Explore five different string methods and explain with examples.\n"
   ]
  },
  {
   "cell_type": "code",
   "execution_count": null,
   "metadata": {
    "colab": {
     "base_uri": "https://localhost:8080/"
    },
    "id": "w4_ZkkA1wGnC",
    "outputId": "dfe81e74-32e7-4f6e-8e61-d2c37699c09a"
   },
   "outputs": [
    {
     "name": "stdout",
     "output_type": "stream",
     "text": [
      "india is my country all indians are my brothers\n",
      "INDIA IS MY COUNTRY ALL INDIANS ARE MY BROTHERS\n",
      "india is my country all indians are my brothers\n",
      "['india', 'is', 'my', 'country', 'all', 'indians', 'are', 'my', 'brothers']\n",
      "india is my country all indians are my brothers\n",
      "india is all country all indians are all brothers\n"
     ]
    }
   ],
   "source": [
    "r=\"india is my country all indians are my brothers\"\n",
    "print(r)\n",
    "print(r.upper())\n",
    "print(r.lower())\n",
    "print(r.split())\n",
    "print(r.strip())\n",
    "print(r.replace(\"my\", \"all\",9))\n"
   ]
  },
  {
   "cell_type": "markdown",
   "metadata": {
    "id": "U5Oo0U_l0RAz"
   },
   "source": [
    "Write a program that takes a sentence ='Give papa a cup of proper coffee in a copper coffee cup' as input and replaces all occurrences of the word \"coffee\" with \"tea\".\n"
   ]
  },
  {
   "cell_type": "code",
   "execution_count": 4,
   "metadata": {
    "colab": {
     "base_uri": "https://localhost:8080/"
    },
    "id": "K2sy6opF0WxV",
    "outputId": "35c7976d-9ca6-4176-9f31-f0472ec5a7d7"
   },
   "outputs": [
    {
     "name": "stdout",
     "output_type": "stream",
     "text": [
      "['Give', 'papa', 'a', 'cup', 'of', 'proper', 'coffee', 'in', 'a', 'copper', 'coffee', 'cup']\n",
      "Give papa a cup of proper tea in a copper tea cup\n"
     ]
    }
   ],
   "source": [
    "z=\"Give papa a cup of proper coffee in a copper coffee cup\"\n",
    "print(z.split())\n",
    "print(z.replace(\"coffee\",\"tea\",12))"
   ]
  },
  {
   "cell_type": "markdown",
   "metadata": {
    "id": "OTRE3rRD1IkS"
   },
   "source": [
    "Check if the above sentence starts with \"Hello\" and ends with \"cup\"."
   ]
  },
  {
   "cell_type": "code",
   "execution_count": 5,
   "metadata": {
    "colab": {
     "base_uri": "https://localhost:8080/"
    },
    "id": "cLkv2R7g1MR3",
    "outputId": "6271a5a0-e104-49b2-fa67-6799031022b5"
   },
   "outputs": [
    {
     "name": "stdout",
     "output_type": "stream",
     "text": [
      "False\n",
      "True\n"
     ]
    }
   ],
   "source": [
    "print(z.startswith(\"Hello\"))\n",
    "print(z.endswith(\"cup\"))"
   ]
  },
  {
   "cell_type": "markdown",
   "metadata": {
    "id": "2dsdOR3u1f3p"
   },
   "source": [
    "Return the above sentence in title case and capital case.\n"
   ]
  },
  {
   "cell_type": "code",
   "execution_count": 6,
   "metadata": {
    "colab": {
     "base_uri": "https://localhost:8080/"
    },
    "id": "6n7xD6pH1hVa",
    "outputId": "566dedf3-fe95-4e3a-da6b-9ae4b3cc8249"
   },
   "outputs": [
    {
     "name": "stdout",
     "output_type": "stream",
     "text": [
      "GIVE PAPA A CUP OF PROPER COFFEE IN A COPPER COFFEE CUP\n"
     ]
    }
   ],
   "source": [
    "print(z.upper())"
   ]
  },
  {
   "cell_type": "code",
   "execution_count": 14,
   "metadata": {},
   "outputs": [
    {
     "ename": "ValueError",
     "evalue": "substring not found",
     "output_type": "error",
     "traceback": [
      "\u001b[1;31m---------------------------------------------------------------------------\u001b[0m",
      "\u001b[1;31mValueError\u001b[0m                                Traceback (most recent call last)",
      "Cell \u001b[1;32mIn[14], line 3\u001b[0m\n\u001b[0;32m      1\u001b[0m a\u001b[38;5;241m=\u001b[39m\u001b[38;5;124m\"\u001b[39m\u001b[38;5;124mlove makes life beautiful statistics makes data colourful\u001b[39m\u001b[38;5;124m\"\u001b[39m\n\u001b[0;32m      2\u001b[0m a\u001b[38;5;241m.\u001b[39mcapitalize()\n\u001b[1;32m----> 3\u001b[0m a\u001b[38;5;241m.\u001b[39mindex(\u001b[38;5;124m\"\u001b[39m\u001b[38;5;124m1\u001b[39m\u001b[38;5;124m\"\u001b[39m)\n",
      "\u001b[1;31mValueError\u001b[0m: substring not found"
     ]
    }
   ],
   "source": [
    "a=\"love makes life beautiful statistics makes data colourful\"\n",
    "a.capitalize()\n",
    "a.index(\"1\")"
   ]
  }
 ],
 "metadata": {
  "colab": {
   "provenance": []
  },
  "kernelspec": {
   "display_name": "Python 3 (ipykernel)",
   "language": "python",
   "name": "python3"
  },
  "language_info": {
   "codemirror_mode": {
    "name": "ipython",
    "version": 3
   },
   "file_extension": ".py",
   "mimetype": "text/x-python",
   "name": "python",
   "nbconvert_exporter": "python",
   "pygments_lexer": "ipython3",
   "version": "3.11.5"
  }
 },
 "nbformat": 4,
 "nbformat_minor": 1
}
