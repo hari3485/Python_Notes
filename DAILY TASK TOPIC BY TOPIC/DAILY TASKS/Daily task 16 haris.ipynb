{
 "cells": [
  {
   "cell_type": "markdown",
   "id": "b6bb1c1b",
   "metadata": {},
   "source": [
    "#### Create a class named “Patterns”. Within this class, define three methods. Each method should return a specific pattern when called. For example:\n",
    "The first method should return the 1st pattern.\n",
    "The second method should return the 2nd pattern.\n",
    "The third method should return the 3rd pattern.\n",
    "\n",
    "\n",
    "\n",
    " 1st pattern    1\n",
    "                       2 3\n",
    "                       4 5 6\n",
    "                       7 8 9 10\n",
    "                       11 12 13 14 15\n"
   ]
  },
  {
   "cell_type": "code",
   "execution_count": 1,
   "id": "64280ff4",
   "metadata": {},
   "outputs": [
    {
     "name": "stdout",
     "output_type": "stream",
     "text": [
      "Number Pyramid Pattern:\n",
      "1 \n",
      "2 3 \n",
      "4 5 6 \n",
      "7 8 9 10 \n",
      "11 12 13 14 15\n"
     ]
    }
   ],
   "source": [
    "class Patterns:\n",
    "    def pattern4(self):\n",
    "        \"\"\"Method to return the number pyramid pattern.\"\"\"\n",
    "        pattern = \"\"\n",
    "        current_number = 1\n",
    "        for i in range(1, 6):  # This loop will go through each row (1 to 5)\n",
    "            for j in range(i):  # This loop will go through each number in the row\n",
    "                pattern += str(current_number) + \" \"\n",
    "                current_number += 1\n",
    "            pattern += \"\\n\"  # Move to the next line after each row\n",
    "        return pattern.strip()\n",
    "\n",
    "# Create an instance of the Patterns class\n",
    "patterns = Patterns()\n",
    "\n",
    "# Get and print the number pyramid pattern\n",
    "print(\"Number Pyramid Pattern:\")\n",
    "print(patterns.pattern4())\n"
   ]
  },
  {
   "cell_type": "code",
   "execution_count": null,
   "id": "fb968186",
   "metadata": {},
   "outputs": [],
   "source": [
    "#### 2nd pattern        1\n",
    "                         1 2 1\n",
    "                      1 2 3 2 1\n",
    "                    1 2 3 4 3 2 1\n",
    "                  1 2 3 4 5 4 3 2 1\n"
   ]
  },
  {
   "cell_type": "code",
   "execution_count": 4,
   "id": "b74c3967",
   "metadata": {},
   "outputs": [
    {
     "name": "stdout",
     "output_type": "stream",
     "text": [
      "Number Pyramid Pattern:\n",
      "1 \n",
      "      1 2 1 \n",
      "    1 2 3 2 1 \n",
      "  1 2 3 4 3 2 1 \n",
      "1 2 3 4 5 4 3 2 1\n"
     ]
    }
   ],
   "source": [
    "class Patterns:\n",
    "    def pattern5(self):\n",
    "        \"\"\"Method to return the specific number pyramid pattern.\"\"\"\n",
    "        pattern = \"\"\n",
    "        for i in range(1, 6):  # Number of rows (1 to 5)\n",
    "            # Add leading spaces for alignment\n",
    "            pattern += \" \" * (5 - i) * 2\n",
    "            \n",
    "            # Create the increasing part of the pattern\n",
    "            for j in range(1, i + 1):\n",
    "                pattern += str(j) + \" \"\n",
    "            \n",
    "            # Create the decreasing part of the pattern\n",
    "            for j in range(i - 1, 0, -1):\n",
    "                pattern += str(j) + \" \"\n",
    "            \n",
    "            pattern += \"\\n\"  # Move to the next line after each row\n",
    "        return pattern.strip()\n",
    "\n",
    "# Create an instance of the Patterns class\n",
    "patterns = Patterns()\n",
    "\n",
    "# Get and print the second pattern\n",
    "print(\"Number Pyramid Pattern:\")\n",
    "print(patterns.pattern5())\n"
   ]
  },
  {
   "cell_type": "code",
   "execution_count": null,
   "id": "c609cbe7",
   "metadata": {},
   "outputs": [],
   "source": [
    "3rd pattern        \n",
    "                              *\n",
    "                              * * *\n",
    "                              * * * * *\n",
    "                              * * * * * * * \n"
   ]
  },
  {
   "cell_type": "code",
   "execution_count": 5,
   "id": "f95d5994",
   "metadata": {},
   "outputs": [
    {
     "name": "stdout",
     "output_type": "stream",
     "text": [
      "Star Pyramid Pattern:\n",
      "* \n",
      "    * * * \n",
      "  * * * * * \n",
      "* * * * * * *\n"
     ]
    }
   ],
   "source": [
    "class Patterns:\n",
    "    def pattern6(self):\n",
    "        \"\"\"Method to return the star pyramid pattern.\"\"\"\n",
    "        pattern = \"\"\n",
    "        n = 4  # Number of rows\n",
    "        for i in range(1, n + 1):\n",
    "            # Add leading spaces for alignment\n",
    "            pattern += \" \" * (n - i) * 2\n",
    "            \n",
    "            # Add the stars with spaces between them\n",
    "            for j in range(1, i * 2):\n",
    "                pattern += \"* \"\n",
    "            \n",
    "            pattern += \"\\n\"  # Move to the next line after each row\n",
    "        return pattern.strip()\n",
    "\n",
    "# Create an instance of the Patterns class\n",
    "patterns = Patterns()\n",
    "\n",
    "# Get and print the star pyramid pattern\n",
    "print(\"Star Pyramid Pattern:\")\n",
    "print(patterns.pattern6())\n"
   ]
  },
  {
   "cell_type": "markdown",
   "id": "948c9044",
   "metadata": {},
   "source": [
    "####  2.Create a class named “your name” . Within this class, define four methods. Each method should return a specific calculation when called. For example:\n",
    "Fibonacci Sequence: The first method should return the Fibonacci sequence up to a specified number of terms.\n",
    "Armstrong Numbers: The second method should return a list of Armstrong numbers up to a specified limit.\n",
    "Palindrome Numbers: The third method should return a list of palindrome numbers up to a specified limit.\n",
    "Factorial: The fourth method should return the factorial of a specified number.\n"
   ]
  },
  {
   "cell_type": "code",
   "execution_count": 6,
   "id": "7efaf3eb",
   "metadata": {},
   "outputs": [
    {
     "name": "stdout",
     "output_type": "stream",
     "text": [
      "Fibonacci Sequence: [0, 1, 1, 2, 3, 5, 8, 13, 21, 34]\n",
      "Armstrong Numbers up to 1000: [1, 2, 3, 4, 5, 6, 7, 8, 9, 153, 370, 371, 407]\n",
      "Palindrome Numbers up to 100: [1, 2, 3, 4, 5, 6, 7, 8, 9, 11, 22, 33, 44, 55, 66, 77, 88, 99]\n",
      "Factorial of 5: 120\n"
     ]
    }
   ],
   "source": [
    "class YourNameClass:\n",
    "    def fibonacci(self, n):\n",
    "        \"\"\"Method to return the Fibonacci sequence up to n terms.\"\"\"\n",
    "        sequence = [0, 1]\n",
    "        while len(sequence) < n:\n",
    "            sequence.append(sequence[-1] + sequence[-2])\n",
    "        return sequence[:n]\n",
    "\n",
    "    def armstrong_numbers(self, limit):\n",
    "        \"\"\"Method to return a list of Armstrong numbers up to a specified limit.\"\"\"\n",
    "        armstrong_list = []\n",
    "        for num in range(1, limit + 1):\n",
    "            num_str = str(num)\n",
    "            num_len = len(num_str)\n",
    "            if sum(int(digit) ** num_len for digit in num_str) == num:\n",
    "                armstrong_list.append(num)\n",
    "        return armstrong_list\n",
    "\n",
    "    def palindrome_numbers(self, limit):\n",
    "        \"\"\"Method to return a list of palindrome numbers up to a specified limit.\"\"\"\n",
    "        palindrome_list = []\n",
    "        for num in range(1, limit + 1):\n",
    "            if str(num) == str(num)[::-1]:\n",
    "                palindrome_list.append(num)\n",
    "        return palindrome_list\n",
    "\n",
    "    def factorial(self, num):\n",
    "        \"\"\"Method to return the factorial of a specified number.\"\"\"\n",
    "        if num == 0 or num == 1:\n",
    "            return 1\n",
    "        else:\n",
    "            return num * self.factorial(num - 1)\n",
    "\n",
    "# Create an instance of the YourNameClass\n",
    "your_name_instance = YourNameClass()\n",
    "\n",
    "# Call the methods and print the results\n",
    "print(\"Fibonacci Sequence:\", your_name_instance.fibonacci(10))\n",
    "print(\"Armstrong Numbers up to 1000:\", your_name_instance.armstrong_numbers(1000))\n",
    "print(\"Palindrome Numbers up to 100:\", your_name_instance.palindrome_numbers(100))\n",
    "print(\"Factorial of 5:\", your_name_instance.factorial(5))\n"
   ]
  },
  {
   "cell_type": "code",
   "execution_count": null,
   "id": "1bcfeef0",
   "metadata": {},
   "outputs": [],
   "source": []
  },
  {
   "cell_type": "code",
   "execution_count": null,
   "id": "7b616822",
   "metadata": {},
   "outputs": [],
   "source": []
  },
  {
   "cell_type": "code",
   "execution_count": null,
   "id": "5b553cbc",
   "metadata": {},
   "outputs": [],
   "source": []
  }
 ],
 "metadata": {
  "kernelspec": {
   "display_name": "Python 3 (ipykernel)",
   "language": "python",
   "name": "python3"
  },
  "language_info": {
   "codemirror_mode": {
    "name": "ipython",
    "version": 3
   },
   "file_extension": ".py",
   "mimetype": "text/x-python",
   "name": "python",
   "nbconvert_exporter": "python",
   "pygments_lexer": "ipython3",
   "version": "3.11.5"
  }
 },
 "nbformat": 4,
 "nbformat_minor": 5
}
