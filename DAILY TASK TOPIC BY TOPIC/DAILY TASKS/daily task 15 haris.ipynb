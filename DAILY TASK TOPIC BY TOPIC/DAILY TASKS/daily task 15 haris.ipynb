{
 "cells": [
  {
   "cell_type": "markdown",
   "id": "df41b291",
   "metadata": {},
   "source": [
    "#### Q1.\n",
    "Write a Python program to create a ‘Vehicle’ class with static variables max_speed and mileage instance attributes. Print the attributes.\n",
    "Example output:\n",
    "max_speed = 240\n",
    "mileage = 18\n"
   ]
  },
  {
   "cell_type": "code",
   "execution_count": null,
   "id": "1c46cbbe",
   "metadata": {},
   "outputs": [],
   "source": [
    "class Vehicle:\n",
    "    # Static variable\n",
    "    max_speed = 240\n",
    "    \n",
    "    def __init__(self, mileage):\n",
    "        # Instance attribute\n",
    "        self.mileage = mileage\n",
    "\n",
    "# Create an instance of Vehicle\n",
    "my_vehicle = Vehicle(mileage=18)\n",
    "\n",
    "\n",
    "print(f\"max_speed = {Vehicle.max_speed}\")\n",
    "print(f\"mileage = {my_vehicle.mileage}\")\n"
   ]
  },
  {
   "cell_type": "markdown",
   "id": "3f4385ce",
   "metadata": {},
   "source": [
    "#### Q2. \n",
    "Create a Python class called 'Car' with attributes 'make' and 'model'. Instantiate an object of this class and print its attributes.\n",
    "Expand the 'Car' class by adding a method called ‘display_info’ that prints the make and model of the car. Create an object and call this method.\n"
   ]
  },
  {
   "cell_type": "code",
   "execution_count": 2,
   "id": "745478c2",
   "metadata": {},
   "outputs": [
    {
     "name": "stdout",
     "output_type": "stream",
     "text": [
      "Make: Toyota\n",
      "Model: Corolla\n"
     ]
    }
   ],
   "source": [
    "class Car:\n",
    "    def __init__(self, make, model):\n",
    "        # Instance attributes\n",
    "        self.make = make\n",
    "        self.model = model\n",
    "\n",
    "# Instantiate an object of the Car class\n",
    "my_car = Car(make=\"Toyota\", model=\"Corolla\")\n",
    "\n",
    "print(f\"Make: {my_car.make}\")\n",
    "print(f\"Model: {my_car.model}\")\n"
   ]
  },
  {
   "cell_type": "code",
   "execution_count": 3,
   "id": "b1426315",
   "metadata": {},
   "outputs": [
    {
     "name": "stdout",
     "output_type": "stream",
     "text": [
      "Car Make: Toyota, Car Model: Corolla\n"
     ]
    }
   ],
   "source": [
    "class Car:\n",
    "    def __init__(self, make, model):\n",
    "        self.make = make\n",
    "        self.model = model\n",
    "    \n",
    "    def display_info(self):\n",
    "        \"\"\"Method to display the car's make and model.\"\"\"\n",
    "        print(f\"Car Make: {self.make}, Car Model: {self.model}\")\n",
    "\n",
    "# Instantiate an object of the Car class\n",
    "my_car = Car(make=\"Toyota\", model=\"Corolla\")\n",
    "\n",
    "\n",
    "my_car.display_info()\n"
   ]
  },
  {
   "cell_type": "markdown",
   "id": "af93ae06",
   "metadata": {},
   "source": [
    "#### Q3.  \n",
    "Modify the ‘Car’ class to include a constructor (__init__) that initializes the make and model attributes. Instantiate an object using the constructor.\n",
    "Add a method 'get_total_cars' to the 'Car' class that returns the total number of cars created.\n"
   ]
  },
  {
   "cell_type": "code",
   "execution_count": 6,
   "id": "21e0fd0e",
   "metadata": {},
   "outputs": [
    {
     "name": "stdout",
     "output_type": "stream",
     "text": [
      "Car Make: Toyota, Car Model: Corolla\n",
      "Car Make: Honda, Car Model: Civic\n"
     ]
    },
    {
     "ename": "TypeError",
     "evalue": "Car.get_total_cars() missing 1 required positional argument: 'cls'",
     "output_type": "error",
     "traceback": [
      "\u001b[1;31m---------------------------------------------------------------------------\u001b[0m",
      "\u001b[1;31mTypeError\u001b[0m                                 Traceback (most recent call last)",
      "Cell \u001b[1;32mIn[6], line 30\u001b[0m\n\u001b[0;32m     27\u001b[0m car2\u001b[38;5;241m.\u001b[39mdisplay_info()\n\u001b[0;32m     29\u001b[0m \u001b[38;5;66;03m# Get and print the total number of cars created\u001b[39;00m\n\u001b[1;32m---> 30\u001b[0m total_cars \u001b[38;5;241m=\u001b[39m Car\u001b[38;5;241m.\u001b[39mget_total_cars()\n\u001b[0;32m     31\u001b[0m \u001b[38;5;28mprint\u001b[39m(\u001b[38;5;124mf\u001b[39m\u001b[38;5;124m\"\u001b[39m\u001b[38;5;124mTotal number of cars created: \u001b[39m\u001b[38;5;132;01m{\u001b[39;00mtotal_cars\u001b[38;5;132;01m}\u001b[39;00m\u001b[38;5;124m\"\u001b[39m)\n",
      "\u001b[1;31mTypeError\u001b[0m: Car.get_total_cars() missing 1 required positional argument: 'cls'"
     ]
    }
   ],
   "source": [
    "class Car:\n",
    "    # Class variable to keep track of the total number of cars\n",
    "    total_cars = 0\n",
    "\n",
    "    def __init__(self, make, model):\n",
    "        # Instance attributes\n",
    "        self.make = make\n",
    "        self.model = model\n",
    "        # Increment the total number of cars each time a new car is created\n",
    "        Car.total_cars += 1\n",
    "    \n",
    "    def display_info(self):\n",
    "        \"\"\"Method to display the car's make and model.\"\"\"\n",
    "        print(f\"Car Make: {self.make}, Car Model: {self.model}\")\n",
    "    \n",
    "   \n",
    "    def get_total_cars(cls):\n",
    "        \"\"\"Class method to return the total number of cars created.\"\"\"\n",
    "        return cls.total_cars\n",
    "\n",
    "# Instantiate objects of the Car class\n",
    "car1 = Car(make=\"Toyota\", model=\"Corolla\")\n",
    "car2 = Car(make=\"Honda\", model=\"Civic\")\n",
    "\n",
    "# Call the display_info method\n",
    "car1.display_info()\n",
    "car2.display_info()\n",
    "\n",
    "# Get and print the total number of cars created\n",
    "total_cars = Car.get_total_cars()\n",
    "print(f\"Total number of cars created: {total_cars}\")\n"
   ]
  },
  {
   "cell_type": "code",
   "execution_count": null,
   "id": "1c3273fa",
   "metadata": {},
   "outputs": [],
   "source": []
  },
  {
   "cell_type": "code",
   "execution_count": null,
   "id": "c5edd5f1",
   "metadata": {},
   "outputs": [],
   "source": []
  },
  {
   "cell_type": "code",
   "execution_count": null,
   "id": "506615ab",
   "metadata": {},
   "outputs": [],
   "source": []
  }
 ],
 "metadata": {
  "kernelspec": {
   "display_name": "Python 3 (ipykernel)",
   "language": "python",
   "name": "python3"
  },
  "language_info": {
   "codemirror_mode": {
    "name": "ipython",
    "version": 3
   },
   "file_extension": ".py",
   "mimetype": "text/x-python",
   "name": "python",
   "nbconvert_exporter": "python",
   "pygments_lexer": "ipython3",
   "version": "3.11.5"
  }
 },
 "nbformat": 4,
 "nbformat_minor": 5
}
