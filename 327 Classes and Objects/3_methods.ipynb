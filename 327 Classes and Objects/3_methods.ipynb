{
 "cells": [
  {
   "cell_type": "markdown",
   "metadata": {},
   "source": [
    "**Instance methods**\n",
    "\n",
    "Instance methods are the most used methods in a Python class. These methods are only accessible through class objects. If we want to modify any class variable, this should be done inside an instance method.\n",
    "\n",
    "The first parameter in these methods is self. self is used to refer to the current class object’s properties and attributes."
   ]
  },
  {
   "cell_type": "code",
   "execution_count": null,
   "metadata": {},
   "outputs": [],
   "source": []
  },
  {
   "cell_type": "code",
   "execution_count": 17,
   "metadata": {},
   "outputs": [],
   "source": [
    "class Cricket:\n",
    "    \n",
    "    def __init__(self,player_name,player_id):\n",
    "        self.player_name= player_name\n",
    "        self.player_id = player_id\n",
    "        \n",
    "    def getplayername(self):\n",
    "        return self.player_name\n",
    "    \n",
    "    def setplayername(self,newplayername):\n",
    "        self.player_name=newplayername"
   ]
  },
  {
   "cell_type": "code",
   "execution_count": 18,
   "metadata": {},
   "outputs": [
    {
     "data": {
      "text/plain": [
       "'virat'"
      ]
     },
     "execution_count": 18,
     "metadata": {},
     "output_type": "execute_result"
    }
   ],
   "source": [
    "c1= Cricket(\"virat\",100)\n",
    "c1.player_name"
   ]
  },
  {
   "cell_type": "code",
   "execution_count": 19,
   "metadata": {},
   "outputs": [
    {
     "data": {
      "text/plain": [
       "'virat'"
      ]
     },
     "execution_count": 19,
     "metadata": {},
     "output_type": "execute_result"
    }
   ],
   "source": [
    "c1.getplayername()"
   ]
  },
  {
   "cell_type": "code",
   "execution_count": 20,
   "metadata": {},
   "outputs": [],
   "source": [
    "c1.setplayername(\"viratKohli\")"
   ]
  },
  {
   "cell_type": "code",
   "execution_count": 21,
   "metadata": {},
   "outputs": [
    {
     "data": {
      "text/plain": [
       "'viratKohli'"
      ]
     },
     "execution_count": 21,
     "metadata": {},
     "output_type": "execute_result"
    }
   ],
   "source": [
    "c1.getplayername()"
   ]
  },
  {
   "cell_type": "code",
   "execution_count": 28,
   "metadata": {},
   "outputs": [],
   "source": [
    "class Cricket:\n",
    "    \n",
    "    teamName = \"India\"\n",
    "    \n",
    "    def __init__(self,player_name,player_id):\n",
    "        self.player_name= player_name\n",
    "        self.player_id = player_id\n",
    "\n",
    "        \n",
    "    def getplayername(self):\n",
    "        return self.player_name\n",
    "    \n",
    "    def setplayername(self,newplayername):\n",
    "        self.player_name=newplayername\n",
    "        \n",
    "    def setTeamName(self, name):\n",
    "        self.teamName = name\n",
    "    \n",
    "    def getTeamName(self):\n",
    "        return self.teamName"
   ]
  },
  {
   "cell_type": "code",
   "execution_count": 34,
   "metadata": {},
   "outputs": [
    {
     "name": "stdout",
     "output_type": "stream",
     "text": [
      "virat\n",
      "Rohit sharma\n",
      "Dhoni\n"
     ]
    }
   ],
   "source": [
    "c1= Cricket(\"virat\",100)\n",
    "c2= Cricket(\"Rohit sharma\",101)\n",
    "c3= Cricket(\"Dhoni\",102)\n",
    "print(c1.player_name)\n",
    "print(c2.player_name)\n",
    "print(c3.player_name)"
   ]
  },
  {
   "cell_type": "code",
   "execution_count": 35,
   "metadata": {},
   "outputs": [
    {
     "name": "stdout",
     "output_type": "stream",
     "text": [
      "India\n",
      "India\n",
      "India\n"
     ]
    }
   ],
   "source": [
    "print(c1.teamName)\n",
    "print(c2.teamName)\n",
    "print(c3.teamName)"
   ]
  },
  {
   "cell_type": "code",
   "execution_count": 36,
   "metadata": {},
   "outputs": [],
   "source": [
    "c1.teamName=\"Bharat\""
   ]
  },
  {
   "cell_type": "code",
   "execution_count": 37,
   "metadata": {},
   "outputs": [
    {
     "name": "stdout",
     "output_type": "stream",
     "text": [
      "Bharat\n",
      "India\n",
      "India\n"
     ]
    }
   ],
   "source": [
    "print(c1.teamName)\n",
    "print(c2.teamName)\n",
    "print(c3.teamName)"
   ]
  },
  {
   "cell_type": "code",
   "execution_count": 38,
   "metadata": {},
   "outputs": [],
   "source": [
    "Cricket.teamName=\"Bharat Mahan\""
   ]
  },
  {
   "cell_type": "code",
   "execution_count": 39,
   "metadata": {},
   "outputs": [
    {
     "name": "stdout",
     "output_type": "stream",
     "text": [
      "Bharat\n",
      "Bharat Mahan\n",
      "Bharat Mahan\n"
     ]
    }
   ],
   "source": [
    "print(c1.teamName)\n",
    "print(c2.teamName)\n",
    "print(c3.teamName)"
   ]
  },
  {
   "cell_type": "markdown",
   "metadata": {},
   "source": [
    "-------------------"
   ]
  },
  {
   "cell_type": "code",
   "execution_count": 40,
   "metadata": {},
   "outputs": [],
   "source": [
    "class Cricket:\n",
    "    \n",
    "    teamName = \"India\"\n",
    "    \n",
    "    def __init__(self,player_name,player_id):\n",
    "        self.player_name= player_name\n",
    "        self.player_id = player_id\n",
    "\n",
    "        \n",
    "    def getplayername(self):\n",
    "        return self.player_name\n",
    "    \n",
    "    def setplayername(self,newplayername):\n",
    "        self.player_name=newplayername\n",
    "        \n",
    "    def setTeamName(self, name):\n",
    "        self.teamName = name\n",
    "    \n",
    "    def getTeamName(self):\n",
    "        return self.teamName"
   ]
  },
  {
   "cell_type": "code",
   "execution_count": 41,
   "metadata": {},
   "outputs": [
    {
     "name": "stdout",
     "output_type": "stream",
     "text": [
      "virat\n",
      "Rohit sharma\n",
      "Dhoni\n"
     ]
    }
   ],
   "source": [
    "c1= Cricket(\"virat\",100)\n",
    "c2= Cricket(\"Rohit sharma\",101)\n",
    "c3= Cricket(\"Dhoni\",102)\n",
    "print(c1.player_name)\n",
    "print(c2.player_name)\n",
    "print(c3.player_name)"
   ]
  },
  {
   "cell_type": "code",
   "execution_count": 42,
   "metadata": {},
   "outputs": [
    {
     "name": "stdout",
     "output_type": "stream",
     "text": [
      "India\n",
      "India\n",
      "India\n"
     ]
    }
   ],
   "source": [
    "print(c1.teamName)\n",
    "print(c2.teamName)\n",
    "print(c3.teamName)"
   ]
  },
  {
   "cell_type": "code",
   "execution_count": 43,
   "metadata": {},
   "outputs": [],
   "source": [
    "c1.setTeamName(\"Bharat\")"
   ]
  },
  {
   "cell_type": "code",
   "execution_count": 44,
   "metadata": {},
   "outputs": [
    {
     "name": "stdout",
     "output_type": "stream",
     "text": [
      "Bharat\n",
      "India\n",
      "India\n"
     ]
    }
   ],
   "source": [
    "print(c1.teamName)\n",
    "print(c2.teamName)\n",
    "print(c3.teamName)"
   ]
  },
  {
   "cell_type": "code",
   "execution_count": null,
   "metadata": {},
   "outputs": [],
   "source": []
  },
  {
   "cell_type": "code",
   "execution_count": null,
   "metadata": {},
   "outputs": [],
   "source": []
  },
  {
   "cell_type": "code",
   "execution_count": null,
   "metadata": {},
   "outputs": [],
   "source": []
  },
  {
   "cell_type": "code",
   "execution_count": null,
   "metadata": {},
   "outputs": [],
   "source": []
  },
  {
   "cell_type": "code",
   "execution_count": 1,
   "metadata": {},
   "outputs": [
    {
     "name": "stdout",
     "output_type": "stream",
     "text": [
      "india\n"
     ]
    }
   ],
   "source": [
    "class Cricket:\n",
    "    teamName = None\n",
    "\n",
    "    def setTeamName(self, name):\n",
    "        self.teamName = name\n",
    "    \n",
    "    def getTeamName(self):\n",
    "        return self.teamName\n",
    "\n",
    "c = Cricket()\n",
    "c.teamName=\"india\"\n",
    "print(c.teamName)"
   ]
  },
  {
   "cell_type": "code",
   "execution_count": 2,
   "metadata": {},
   "outputs": [
    {
     "data": {
      "text/plain": [
       "'india'"
      ]
     },
     "execution_count": 2,
     "metadata": {},
     "output_type": "execute_result"
    }
   ],
   "source": [
    "c.getTeamName()"
   ]
  },
  {
   "cell_type": "code",
   "execution_count": 3,
   "metadata": {},
   "outputs": [
    {
     "data": {
      "text/plain": [
       "'bharat'"
      ]
     },
     "execution_count": 3,
     "metadata": {},
     "output_type": "execute_result"
    }
   ],
   "source": [
    "c.teamName=\"bharat\"\n",
    "c.teamName"
   ]
  },
  {
   "cell_type": "code",
   "execution_count": 4,
   "metadata": {},
   "outputs": [
    {
     "data": {
      "text/plain": [
       "'bharat'"
      ]
     },
     "execution_count": 4,
     "metadata": {},
     "output_type": "execute_result"
    }
   ],
   "source": [
    "c.getTeamName()"
   ]
  },
  {
   "cell_type": "code",
   "execution_count": 11,
   "metadata": {},
   "outputs": [
    {
     "name": "stdout",
     "output_type": "stream",
     "text": [
      "India\n",
      "NewZealand\n"
     ]
    }
   ],
   "source": [
    "class Cricket:\n",
    "    teamName = None\n",
    "\n",
    "    def setTeamName(self,a):\n",
    "        self.teamName = a\n",
    "    \n",
    "    def getTeamName(self):\n",
    "        return self.teamName\n",
    "\n",
    "c = Cricket()\n",
    "c.setTeamName('India')\n",
    "print(c.getTeamName())\n",
    "\n",
    "d=Cricket()\n",
    "d.setTeamName(\"NewZealand\")\n",
    "print(d.getTeamName())"
   ]
  },
  {
   "cell_type": "code",
   "execution_count": 17,
   "metadata": {},
   "outputs": [
    {
     "name": "stdout",
     "output_type": "stream",
     "text": [
      "India\n",
      "NewZealand\n",
      "Virat Kohli\n",
      "WilliamSon\n"
     ]
    }
   ],
   "source": [
    "class Cricket:\n",
    "    teamName = None\n",
    "    \n",
    "    def __init__(abc,player_name):\n",
    "        abc.player_name=player_name\n",
    "        \n",
    "    def setTeamName(self,a):\n",
    "        self.teamName = a\n",
    "    \n",
    "    def getTeamName(self):\n",
    "        return self.teamName\n",
    "\n",
    "    def setPlayerName(self,x):\n",
    "        self.player_name=x\n",
    "\n",
    "c = Cricket(\"Kohli\")\n",
    "c.setTeamName('India')\n",
    "print(c.getTeamName())\n",
    "\n",
    "d=Cricket(\"WilliamSon\")\n",
    "d.setTeamName(\"NewZealand\")\n",
    "print(d.getTeamName())\n",
    "\n",
    "c.setPlayerName(\"Virat Kohli\")\n",
    "print(c.player_name)\n",
    "\n",
    "print(d.player_name)"
   ]
  },
  {
   "cell_type": "code",
   "execution_count": 18,
   "metadata": {},
   "outputs": [
    {
     "ename": "TypeError",
     "evalue": "Cricket.setTeamName() missing 1 required positional argument: 'a'",
     "output_type": "error",
     "traceback": [
      "\u001b[1;31m---------------------------------------------------------------------------\u001b[0m",
      "\u001b[1;31mTypeError\u001b[0m                                 Traceback (most recent call last)",
      "Cell \u001b[1;32mIn[18], line 1\u001b[0m\n\u001b[1;32m----> 1\u001b[0m \u001b[43mCricket\u001b[49m\u001b[38;5;241;43m.\u001b[39;49m\u001b[43msetTeamName\u001b[49m\u001b[43m(\u001b[49m\u001b[38;5;124;43m\"\u001b[39;49m\u001b[38;5;124;43mindia\u001b[39;49m\u001b[38;5;124;43m\"\u001b[39;49m\u001b[43m)\u001b[49m\n",
      "\u001b[1;31mTypeError\u001b[0m: Cricket.setTeamName() missing 1 required positional argument: 'a'"
     ]
    }
   ],
   "source": [
    "Cricket.setTeamName(\"india\")"
   ]
  },
  {
   "cell_type": "code",
   "execution_count": null,
   "metadata": {},
   "outputs": [],
   "source": []
  },
  {
   "cell_type": "code",
   "execution_count": 3,
   "metadata": {},
   "outputs": [
    {
     "name": "stdout",
     "output_type": "stream",
     "text": [
      "India\n",
      "US\n",
      "None\n"
     ]
    }
   ],
   "source": [
    "class Cricket:\n",
    "    teamName = None\n",
    "\n",
    "    def setTeamName(self, name):\n",
    "        self.teamName = name\n",
    "    \n",
    "    def getTeamName(self):\n",
    "        return self.teamName\n",
    "\n",
    "c = Cricket()\n",
    "c.setTeamName('India')\n",
    "print(c.getTeamName())\n",
    "\n",
    "\n",
    "d = Cricket()\n",
    "d.setTeamName('US')\n",
    "print(d.getTeamName())\n",
    "\n",
    "print(Cricket.teamName)"
   ]
  },
  {
   "cell_type": "code",
   "execution_count": 7,
   "metadata": {},
   "outputs": [
    {
     "name": "stdout",
     "output_type": "stream",
     "text": [
      "India\n",
      "US\n",
      "UK\n"
     ]
    }
   ],
   "source": [
    "class Cricket:\n",
    "    teamName = \"UK\"\n",
    "\n",
    "    def setTeamName(self, name):\n",
    "        self.teamName = name\n",
    "    \n",
    "    def getTeamName(self):\n",
    "        return self.teamName\n",
    "\n",
    "c = Cricket()\n",
    "c.setTeamName('India')\n",
    "print(c.getTeamName())\n",
    "\n",
    "\n",
    "d = Cricket()\n",
    "d.setTeamName('US')\n",
    "print(d.getTeamName())\n",
    "\n",
    "print(Cricket.teamName)\n",
    "\n",
    "#print(Cricket.getTeamName()) -- we can also call the class methods with class name"
   ]
  },
  {
   "cell_type": "markdown",
   "metadata": {},
   "source": [
    "**Class methods**\n",
    "\n",
    "Class methods are usually used to access class variables. You can call these methods directly using the class name instead of creating an object of that class.\n",
    "\n",
    "To declare a class method, we need to use the @classmethod decorator. Also, as in the case of instance methods, self is the keyword used to access the class variables. In class methods, we use use the cls variable to refer to the class.\n",
    "\n"
   ]
  },
  {
   "cell_type": "code",
   "execution_count": 5,
   "metadata": {},
   "outputs": [
    {
     "name": "stdout",
     "output_type": "stream",
     "text": [
      "India\n"
     ]
    }
   ],
   "source": [
    "class Cricket:\n",
    "  teamName = 'India'\n",
    "\n",
    "  @classmethod\n",
    "  def getTeamName(cls):\n",
    "    return cls.teamName\n",
    "\n",
    "print(Cricket.getTeamName())"
   ]
  },
  {
   "cell_type": "code",
   "execution_count": 6,
   "metadata": {},
   "outputs": [
    {
     "name": "stdout",
     "output_type": "stream",
     "text": [
      "India\n"
     ]
    }
   ],
   "source": [
    "class Cricket:\n",
    "  teamName = 'India'\n",
    "\n",
    "  @classmethod\n",
    "  def getTeamName(temp):\n",
    "    return temp.teamName\n",
    "\n",
    "print(Cricket.getTeamName())"
   ]
  },
  {
   "cell_type": "markdown",
   "metadata": {},
   "source": [
    "**Static methods** are usually used as a utility function or when we do not want an inherited class to modify a function definition. These methods do not have any relation to the class variables and instance variables; so, are not allowed to modify the class attributes inside a static method.\n",
    "\n",
    "To declare a static method, we need to use the @staticmethod. Again, we will be using the cls variable to refer to the class. These methods can be accessed using the class name as well as class objects."
   ]
  },
  {
   "cell_type": "code",
   "execution_count": 25,
   "metadata": {},
   "outputs": [
    {
     "name": "stdout",
     "output_type": "stream",
     "text": [
      "This is a static method.\n",
      "nndbdbnbbfb\n",
      "This is a static method.\n",
      "nndbdbnbbfb\n"
     ]
    }
   ],
   "source": [
    "class Cricket:\n",
    "    teamName = 'India'  \n",
    "    \n",
    "    @staticmethod\n",
    "    def utility():\n",
    "        print(\"This is a static method.\")\n",
    "        print(\"nndbdbnbbfb\")\n",
    "\n",
    "c1 = Cricket()\n",
    "c1.utility()\n",
    "\n",
    "Cricket.utility()"
   ]
  },
  {
   "cell_type": "code",
   "execution_count": null,
   "metadata": {},
   "outputs": [],
   "source": []
  }
 ],
 "metadata": {
  "kernelspec": {
   "display_name": "Python 3 (ipykernel)",
   "language": "python",
   "name": "python3"
  },
  "language_info": {
   "codemirror_mode": {
    "name": "ipython",
    "version": 3
   },
   "file_extension": ".py",
   "mimetype": "text/x-python",
   "name": "python",
   "nbconvert_exporter": "python",
   "pygments_lexer": "ipython3",
   "version": "3.10.9"
  }
 },
 "nbformat": 4,
 "nbformat_minor": 4
}
