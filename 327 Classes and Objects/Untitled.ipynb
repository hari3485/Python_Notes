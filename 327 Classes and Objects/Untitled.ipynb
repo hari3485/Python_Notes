{
 "cells": [
  {
   "cell_type": "code",
   "execution_count": 2,
   "id": "2ae73d09",
   "metadata": {},
   "outputs": [],
   "source": [
    "class Cricket:\n",
    "    TeamName=\"India\"    \n",
    "    def __init__(self,player_name,player_id):\n",
    "        self.player_name= player_name\n",
    "        self.player_id = player_id"
   ]
  },
  {
   "cell_type": "code",
   "execution_count": null,
   "id": "5550aae5",
   "metadata": {},
   "outputs": [],
   "source": [
    "#class /static variable name\n",
    "TeamName"
   ]
  },
  {
   "cell_type": "code",
   "execution_count": 17,
   "id": "cf664058",
   "metadata": {},
   "outputs": [],
   "source": [
    "p1.TeamName= \"Bharat\""
   ]
  },
  {
   "cell_type": "code",
   "execution_count": 18,
   "id": "a4eb92ca",
   "metadata": {},
   "outputs": [
    {
     "name": "stdout",
     "output_type": "stream",
     "text": [
      "Bharat\n",
      "India\n",
      "India\n"
     ]
    }
   ],
   "source": [
    "print(p1.TeamName)\n",
    "print(p2.TeamName)\n",
    "print(p3.TeamName)"
   ]
  },
  {
   "cell_type": "code",
   "execution_count": 19,
   "id": "8324f0ea",
   "metadata": {},
   "outputs": [],
   "source": [
    "Cricket.TeamName=\"Bharat_India\""
   ]
  },
  {
   "cell_type": "code",
   "execution_count": 20,
   "id": "01704f92",
   "metadata": {},
   "outputs": [
    {
     "name": "stdout",
     "output_type": "stream",
     "text": [
      "Bharat\n",
      "Bharat_India\n",
      "Bharat_India\n"
     ]
    }
   ],
   "source": [
    "print(p1.TeamName)\n",
    "print(p2.TeamName)\n",
    "print(p3.TeamName)"
   ]
  },
  {
   "cell_type": "code",
   "execution_count": null,
   "id": "6b641787",
   "metadata": {},
   "outputs": [],
   "source": []
  },
  {
   "cell_type": "code",
   "execution_count": null,
   "id": "a02c2a5f",
   "metadata": {},
   "outputs": [],
   "source": []
  },
  {
   "cell_type": "code",
   "execution_count": null,
   "id": "4366ad3b",
   "metadata": {},
   "outputs": [],
   "source": []
  },
  {
   "cell_type": "code",
   "execution_count": null,
   "id": "d7bf27cc",
   "metadata": {},
   "outputs": [],
   "source": []
  },
  {
   "cell_type": "code",
   "execution_count": 3,
   "id": "25525318",
   "metadata": {},
   "outputs": [],
   "source": [
    "#instance variables --- player_name,player_id"
   ]
  },
  {
   "cell_type": "code",
   "execution_count": 8,
   "id": "e3053bb2",
   "metadata": {},
   "outputs": [
    {
     "name": "stdout",
     "output_type": "stream",
     "text": [
      "virat\n",
      "18\n"
     ]
    }
   ],
   "source": [
    "p1 = Cricket(\"virat\",18)\n",
    "print(p1.player_name)\n",
    "print(p1.player_id)"
   ]
  },
  {
   "cell_type": "code",
   "execution_count": 5,
   "id": "cef6969b",
   "metadata": {},
   "outputs": [
    {
     "name": "stdout",
     "output_type": "stream",
     "text": [
      "Rohit sharma\n"
     ]
    }
   ],
   "source": [
    "p2 = Cricket(\"Rohit sharma\",45)\n",
    "print(p2.player_name)"
   ]
  },
  {
   "cell_type": "code",
   "execution_count": 6,
   "id": "6bee61af",
   "metadata": {},
   "outputs": [
    {
     "name": "stdout",
     "output_type": "stream",
     "text": [
      "Rahul\n"
     ]
    }
   ],
   "source": [
    "p3 = Cricket(\"Rahul\",1)\n",
    "print(p3.player_name)"
   ]
  },
  {
   "cell_type": "code",
   "execution_count": 12,
   "id": "0b087b3f",
   "metadata": {},
   "outputs": [
    {
     "name": "stdout",
     "output_type": "stream",
     "text": [
      "Virat Kohli\n",
      "Rohit sharma\n"
     ]
    }
   ],
   "source": [
    "p1.player_name = \"Virat Kohli\"\n",
    "print(p1.player_name)\n",
    "print(p2.player_name)"
   ]
  },
  {
   "cell_type": "code",
   "execution_count": 13,
   "id": "9190cf0e",
   "metadata": {},
   "outputs": [
    {
     "ename": "AttributeError",
     "evalue": "type object 'Cricket' has no attribute 'player_name'",
     "output_type": "error",
     "traceback": [
      "\u001b[1;31m---------------------------------------------------------------------------\u001b[0m",
      "\u001b[1;31mAttributeError\u001b[0m                            Traceback (most recent call last)",
      "Cell \u001b[1;32mIn[13], line 1\u001b[0m\n\u001b[1;32m----> 1\u001b[0m \u001b[43mCricket\u001b[49m\u001b[38;5;241;43m.\u001b[39;49m\u001b[43mplayer_name\u001b[49m\n",
      "\u001b[1;31mAttributeError\u001b[0m: type object 'Cricket' has no attribute 'player_name'"
     ]
    }
   ],
   "source": [
    "Cricket.player_name"
   ]
  },
  {
   "cell_type": "code",
   "execution_count": 15,
   "id": "439b2131",
   "metadata": {},
   "outputs": [],
   "source": [
    "Cricket.player_name = \"Virat Kohli\""
   ]
  },
  {
   "cell_type": "code",
   "execution_count": 16,
   "id": "e3957422",
   "metadata": {},
   "outputs": [
    {
     "name": "stdout",
     "output_type": "stream",
     "text": [
      "Virat Kohli\n",
      "Rohit sharma\n",
      "Rahul\n"
     ]
    }
   ],
   "source": [
    "print(p1.player_name)\n",
    "print(p2.player_name)\n",
    "print(p3.player_name)"
   ]
  },
  {
   "cell_type": "code",
   "execution_count": null,
   "id": "a56f7781",
   "metadata": {},
   "outputs": [],
   "source": []
  }
 ],
 "metadata": {
  "kernelspec": {
   "display_name": "Python 3 (ipykernel)",
   "language": "python",
   "name": "python3"
  },
  "language_info": {
   "codemirror_mode": {
    "name": "ipython",
    "version": 3
   },
   "file_extension": ".py",
   "mimetype": "text/x-python",
   "name": "python",
   "nbconvert_exporter": "python",
   "pygments_lexer": "ipython3",
   "version": "3.10.9"
  }
 },
 "nbformat": 4,
 "nbformat_minor": 5
}
