{
 "cells": [
  {
   "cell_type": "markdown",
   "id": "6e301a6e",
   "metadata": {},
   "source": [
    "# Encapsulation\n",
    "- It is a process of encapsulating data and methods and work on the same data\n",
    "- Process of restricting the object to change some data is called Encapsulation\n",
    "- To restict the data, we have to create private,public and protected.\n",
    "- to create protected variables we have to use single _\n",
    "- To create private variable we have to use `__` (double underscore)"
   ]
  },
  {
   "cell_type": "markdown",
   "id": "a6ad0a3e",
   "metadata": {},
   "source": [
    "**1. Public Members:**\n",
    "\n",
    "By default, all members (attributes and methods) in a Python class are public, meaning they can be accessed from outside the class."
   ]
  },
  {
   "cell_type": "code",
   "execution_count": 8,
   "id": "94ef039e",
   "metadata": {},
   "outputs": [],
   "source": [
    "class Car:\n",
    "    def __init__(self):\n",
    "        self.model = \"Maruthi\"\n",
    "        self.price = 500000\n",
    "    def get_model(self):\n",
    "        print(\"Name of the model is\",self.model)\n",
    "    def get_price(self):\n",
    "        print(\"Price is \",self.price)"
   ]
  },
  {
   "cell_type": "code",
   "execution_count": 9,
   "id": "fdab0eb4",
   "metadata": {},
   "outputs": [
    {
     "data": {
      "text/plain": [
       "500000"
      ]
     },
     "execution_count": 9,
     "metadata": {},
     "output_type": "execute_result"
    }
   ],
   "source": [
    "c=Car()\n",
    "c.price"
   ]
  },
  {
   "cell_type": "code",
   "execution_count": 10,
   "id": "d73b744f",
   "metadata": {},
   "outputs": [
    {
     "name": "stdout",
     "output_type": "stream",
     "text": [
      "Price is  500000\n"
     ]
    }
   ],
   "source": [
    "c.get_price()"
   ]
  },
  {
   "cell_type": "code",
   "execution_count": 11,
   "id": "93953c1b",
   "metadata": {},
   "outputs": [],
   "source": [
    "c.price=100000"
   ]
  },
  {
   "cell_type": "code",
   "execution_count": 12,
   "id": "9442f15a",
   "metadata": {},
   "outputs": [
    {
     "data": {
      "text/plain": [
       "100000"
      ]
     },
     "execution_count": 12,
     "metadata": {},
     "output_type": "execute_result"
    }
   ],
   "source": [
    "c.price"
   ]
  },
  {
   "cell_type": "code",
   "execution_count": 13,
   "id": "e467ad78",
   "metadata": {},
   "outputs": [
    {
     "name": "stdout",
     "output_type": "stream",
     "text": [
      "Price is  100000\n"
     ]
    }
   ],
   "source": [
    "c.get_price()"
   ]
  },
  {
   "cell_type": "code",
   "execution_count": null,
   "id": "765bb106",
   "metadata": {},
   "outputs": [],
   "source": []
  },
  {
   "cell_type": "code",
   "execution_count": 14,
   "id": "890e0620",
   "metadata": {},
   "outputs": [
    {
     "name": "stdout",
     "output_type": "stream",
     "text": [
      "Name of the model is tata\n"
     ]
    }
   ],
   "source": [
    "c2=Car()\n",
    "c2.model=\"tata\"\n",
    "c2.get_model()"
   ]
  },
  {
   "cell_type": "markdown",
   "id": "ff2319f7",
   "metadata": {},
   "source": [
    "2. private variables --- keep a __ before the variable\n",
    "\n",
    "Members intended to be private are prefixed with two underscores __. This is a stronger indication that the member should not be accessed directly from outside the class."
   ]
  },
  {
   "cell_type": "code",
   "execution_count": 93,
   "id": "3aabac2f",
   "metadata": {},
   "outputs": [],
   "source": [
    "class Car_1:\n",
    "    def __init__(self):\n",
    "        self.model = \"Maruthi\"\n",
    "        #private member\n",
    "        self.__pricek = 500000\n",
    "        self.__fueltype=\"petrol\"\n",
    "    def get_model(self):\n",
    "        print(\"Name of the model is\",self.model)\n",
    "    def get_price(self):\n",
    "        print(\"Price is \",self.__pricek)\n",
    "    def get_fueltype(self):\n",
    "        print(\"fuel type\",self.__fueltype)"
   ]
  },
  {
   "cell_type": "code",
   "execution_count": 94,
   "id": "cad7ebce",
   "metadata": {},
   "outputs": [],
   "source": [
    "c=Car_1()"
   ]
  },
  {
   "cell_type": "code",
   "execution_count": 95,
   "id": "4c264483",
   "metadata": {},
   "outputs": [
    {
     "ename": "AttributeError",
     "evalue": "'Car_1' object has no attribute 'pricek'",
     "output_type": "error",
     "traceback": [
      "\u001b[1;31m---------------------------------------------------------------------------\u001b[0m",
      "\u001b[1;31mAttributeError\u001b[0m                            Traceback (most recent call last)",
      "Cell \u001b[1;32mIn[95], line 1\u001b[0m\n\u001b[1;32m----> 1\u001b[0m \u001b[43mc\u001b[49m\u001b[38;5;241;43m.\u001b[39;49m\u001b[43mpricek\u001b[49m\n",
      "\u001b[1;31mAttributeError\u001b[0m: 'Car_1' object has no attribute 'pricek'"
     ]
    }
   ],
   "source": [
    "c.pricek"
   ]
  },
  {
   "cell_type": "code",
   "execution_count": 88,
   "id": "b01fd8cd",
   "metadata": {},
   "outputs": [],
   "source": [
    "class Car:\n",
    "    def __init__(self):\n",
    "        self.model = \"Maruthi\"\n",
    "        #private member\n",
    "        self.__pricek = 500000\n",
    "        self.__fueltype=\"petrol\"\n",
    "        \n",
    "    def set_price(self,value):\n",
    "        self.__pricek=value\n",
    "    def get_model(self):\n",
    "        print(\"Name of the model is\",self.model)\n",
    "    def get_price(self):\n",
    "        print(\"Price is \",self.__pricek)\n",
    "    def get_fueltype(self):\n",
    "        print(\"fuel type\",self.__fueltype)"
   ]
  },
  {
   "cell_type": "code",
   "execution_count": 89,
   "id": "ba7b5fb3",
   "metadata": {},
   "outputs": [],
   "source": [
    "f= Car()"
   ]
  },
  {
   "cell_type": "code",
   "execution_count": 91,
   "id": "c1e3b47a",
   "metadata": {},
   "outputs": [],
   "source": [
    "f.set_price(800000)"
   ]
  },
  {
   "cell_type": "code",
   "execution_count": 92,
   "id": "8be97040",
   "metadata": {},
   "outputs": [
    {
     "name": "stdout",
     "output_type": "stream",
     "text": [
      "Price is  800000\n"
     ]
    }
   ],
   "source": [
    "f.get_price()"
   ]
  },
  {
   "cell_type": "code",
   "execution_count": null,
   "id": "3c1079b9",
   "metadata": {},
   "outputs": [],
   "source": []
  },
  {
   "cell_type": "code",
   "execution_count": null,
   "id": "c48b6a10",
   "metadata": {},
   "outputs": [],
   "source": []
  },
  {
   "cell_type": "code",
   "execution_count": 78,
   "id": "de72026d",
   "metadata": {},
   "outputs": [],
   "source": [
    "f.__pricek = 800000"
   ]
  },
  {
   "cell_type": "code",
   "execution_count": 79,
   "id": "7b9178b3",
   "metadata": {},
   "outputs": [
    {
     "name": "stdout",
     "output_type": "stream",
     "text": [
      "Price is  500000\n"
     ]
    }
   ],
   "source": [
    "f.get_price()"
   ]
  },
  {
   "cell_type": "code",
   "execution_count": null,
   "id": "e5420efe",
   "metadata": {},
   "outputs": [],
   "source": []
  },
  {
   "cell_type": "code",
   "execution_count": 66,
   "id": "f7637e86",
   "metadata": {},
   "outputs": [
    {
     "data": {
      "text/plain": [
       "['_Car__fueltype',\n",
       " '_Car__pricek',\n",
       " '__class__',\n",
       " '__delattr__',\n",
       " '__dict__',\n",
       " '__dir__',\n",
       " '__doc__',\n",
       " '__eq__',\n",
       " '__format__',\n",
       " '__ge__',\n",
       " '__getattribute__',\n",
       " '__gt__',\n",
       " '__hash__',\n",
       " '__init__',\n",
       " '__init_subclass__',\n",
       " '__le__',\n",
       " '__lt__',\n",
       " '__module__',\n",
       " '__ne__',\n",
       " '__new__',\n",
       " '__pricek',\n",
       " '__reduce__',\n",
       " '__reduce_ex__',\n",
       " '__repr__',\n",
       " '__setattr__',\n",
       " '__sizeof__',\n",
       " '__str__',\n",
       " '__subclasshook__',\n",
       " '__weakref__',\n",
       " 'get_fueltype',\n",
       " 'get_model',\n",
       " 'get_price',\n",
       " 'model',\n",
       " 'set_price']"
      ]
     },
     "execution_count": 66,
     "metadata": {},
     "output_type": "execute_result"
    }
   ],
   "source": [
    "dir(k)"
   ]
  },
  {
   "cell_type": "code",
   "execution_count": 67,
   "id": "454d06b3",
   "metadata": {},
   "outputs": [],
   "source": [
    "k=Car()"
   ]
  },
  {
   "cell_type": "code",
   "execution_count": 68,
   "id": "c1e5d56b",
   "metadata": {},
   "outputs": [],
   "source": [
    "k.__pricek = 30"
   ]
  },
  {
   "cell_type": "code",
   "execution_count": 69,
   "id": "61141fbf",
   "metadata": {},
   "outputs": [
    {
     "data": {
      "text/plain": [
       "30"
      ]
     },
     "execution_count": 69,
     "metadata": {},
     "output_type": "execute_result"
    }
   ],
   "source": [
    "k.__pricek"
   ]
  },
  {
   "cell_type": "code",
   "execution_count": 70,
   "id": "47fe1cf5",
   "metadata": {},
   "outputs": [
    {
     "name": "stdout",
     "output_type": "stream",
     "text": [
      "Price is  500000\n"
     ]
    }
   ],
   "source": [
    "k.get_price()"
   ]
  },
  {
   "cell_type": "code",
   "execution_count": 71,
   "id": "07cd862a",
   "metadata": {},
   "outputs": [
    {
     "data": {
      "text/plain": [
       "['_Car__fueltype',\n",
       " '_Car__pricek',\n",
       " '__class__',\n",
       " '__delattr__',\n",
       " '__dict__',\n",
       " '__dir__',\n",
       " '__doc__',\n",
       " '__eq__',\n",
       " '__format__',\n",
       " '__ge__',\n",
       " '__getattribute__',\n",
       " '__gt__',\n",
       " '__hash__',\n",
       " '__init__',\n",
       " '__init_subclass__',\n",
       " '__le__',\n",
       " '__lt__',\n",
       " '__module__',\n",
       " '__ne__',\n",
       " '__new__',\n",
       " '__pricek',\n",
       " '__reduce__',\n",
       " '__reduce_ex__',\n",
       " '__repr__',\n",
       " '__setattr__',\n",
       " '__sizeof__',\n",
       " '__str__',\n",
       " '__subclasshook__',\n",
       " '__weakref__',\n",
       " 'get_fueltype',\n",
       " 'get_model',\n",
       " 'get_price',\n",
       " 'model',\n",
       " 'set_price']"
      ]
     },
     "execution_count": 71,
     "metadata": {},
     "output_type": "execute_result"
    }
   ],
   "source": [
    "dir(k)"
   ]
  },
  {
   "cell_type": "code",
   "execution_count": null,
   "id": "359c596d",
   "metadata": {},
   "outputs": [],
   "source": []
  },
  {
   "cell_type": "code",
   "execution_count": null,
   "id": "6861243a",
   "metadata": {},
   "outputs": [],
   "source": []
  },
  {
   "cell_type": "code",
   "execution_count": null,
   "id": "a07b692a",
   "metadata": {},
   "outputs": [],
   "source": []
  },
  {
   "cell_type": "code",
   "execution_count": 31,
   "id": "efc1c43f",
   "metadata": {},
   "outputs": [],
   "source": [
    "c.pricek=10"
   ]
  },
  {
   "cell_type": "code",
   "execution_count": 32,
   "id": "d806df73",
   "metadata": {},
   "outputs": [
    {
     "data": {
      "text/plain": [
       "['_Car_1__fueltype',\n",
       " '_Car_1__pricek',\n",
       " '__class__',\n",
       " '__delattr__',\n",
       " '__dict__',\n",
       " '__dir__',\n",
       " '__doc__',\n",
       " '__eq__',\n",
       " '__format__',\n",
       " '__ge__',\n",
       " '__getattribute__',\n",
       " '__gt__',\n",
       " '__hash__',\n",
       " '__init__',\n",
       " '__init_subclass__',\n",
       " '__le__',\n",
       " '__lt__',\n",
       " '__module__',\n",
       " '__ne__',\n",
       " '__new__',\n",
       " '__reduce__',\n",
       " '__reduce_ex__',\n",
       " '__repr__',\n",
       " '__setattr__',\n",
       " '__sizeof__',\n",
       " '__str__',\n",
       " '__subclasshook__',\n",
       " '__weakref__',\n",
       " 'get_fueltype',\n",
       " 'get_model',\n",
       " 'get_price',\n",
       " 'model',\n",
       " 'pricek']"
      ]
     },
     "execution_count": 32,
     "metadata": {},
     "output_type": "execute_result"
    }
   ],
   "source": [
    "dir(c)"
   ]
  },
  {
   "cell_type": "code",
   "execution_count": null,
   "id": "46b71736",
   "metadata": {},
   "outputs": [],
   "source": []
  },
  {
   "cell_type": "code",
   "execution_count": 33,
   "id": "7db4a1a8",
   "metadata": {},
   "outputs": [
    {
     "name": "stdout",
     "output_type": "stream",
     "text": [
      "Price is  500000\n"
     ]
    }
   ],
   "source": [
    "c.get_price()"
   ]
  },
  {
   "cell_type": "code",
   "execution_count": 34,
   "id": "55111308",
   "metadata": {},
   "outputs": [],
   "source": [
    "c.__pricek=10"
   ]
  },
  {
   "cell_type": "code",
   "execution_count": 35,
   "id": "565fae4b",
   "metadata": {},
   "outputs": [
    {
     "name": "stdout",
     "output_type": "stream",
     "text": [
      "Price is  500000\n"
     ]
    }
   ],
   "source": [
    "c.get_price()"
   ]
  },
  {
   "cell_type": "code",
   "execution_count": 40,
   "id": "84edc507",
   "metadata": {},
   "outputs": [
    {
     "data": {
      "text/plain": [
       "['_Car_1__fueltype',\n",
       " '_Car_1__pricek',\n",
       " '__class__',\n",
       " '__delattr__',\n",
       " '__dict__',\n",
       " '__dir__',\n",
       " '__doc__',\n",
       " '__eq__',\n",
       " '__format__',\n",
       " '__ge__',\n",
       " '__getattribute__',\n",
       " '__gt__',\n",
       " '__hash__',\n",
       " '__init__',\n",
       " '__init_subclass__',\n",
       " '__le__',\n",
       " '__lt__',\n",
       " '__module__',\n",
       " '__ne__',\n",
       " '__new__',\n",
       " '__reduce__',\n",
       " '__reduce_ex__',\n",
       " '__repr__',\n",
       " '__setattr__',\n",
       " '__sizeof__',\n",
       " '__str__',\n",
       " '__subclasshook__',\n",
       " '__weakref__',\n",
       " 'get_fueltype',\n",
       " 'get_model',\n",
       " 'get_price',\n",
       " 'model']"
      ]
     },
     "execution_count": 40,
     "metadata": {},
     "output_type": "execute_result"
    }
   ],
   "source": [
    "dir(c)"
   ]
  },
  {
   "cell_type": "code",
   "execution_count": null,
   "id": "680c2df1",
   "metadata": {},
   "outputs": [],
   "source": []
  },
  {
   "cell_type": "code",
   "execution_count": 19,
   "id": "cb604aa8",
   "metadata": {},
   "outputs": [],
   "source": [
    "c.__fueltype=\"diesel\""
   ]
  },
  {
   "cell_type": "code",
   "execution_count": 20,
   "id": "b2cddb9a",
   "metadata": {},
   "outputs": [
    {
     "data": {
      "text/plain": [
       "'diesel'"
      ]
     },
     "execution_count": 20,
     "metadata": {},
     "output_type": "execute_result"
    }
   ],
   "source": [
    "c.__fueltype"
   ]
  },
  {
   "cell_type": "code",
   "execution_count": 21,
   "id": "586b1729",
   "metadata": {},
   "outputs": [
    {
     "name": "stdout",
     "output_type": "stream",
     "text": [
      "fuel type petrol\n"
     ]
    }
   ],
   "source": [
    "c.get_fueltype()"
   ]
  },
  {
   "cell_type": "code",
   "execution_count": 22,
   "id": "cc6ca64f",
   "metadata": {},
   "outputs": [
    {
     "name": "stdout",
     "output_type": "stream",
     "text": [
      "Name of the model is tata\n"
     ]
    }
   ],
   "source": [
    "c=Car_1()\n",
    "c.model=\"tata\"\n",
    "c.get_model()"
   ]
  },
  {
   "cell_type": "code",
   "execution_count": 23,
   "id": "f521b111",
   "metadata": {},
   "outputs": [
    {
     "ename": "AttributeError",
     "evalue": "'Car_1' object has no attribute '__fueltype'",
     "output_type": "error",
     "traceback": [
      "\u001b[1;31m---------------------------------------------------------------------------\u001b[0m",
      "\u001b[1;31mAttributeError\u001b[0m                            Traceback (most recent call last)",
      "Cell \u001b[1;32mIn[23], line 1\u001b[0m\n\u001b[1;32m----> 1\u001b[0m \u001b[43mc\u001b[49m\u001b[38;5;241;43m.\u001b[39;49m\u001b[43m__fueltype\u001b[49m\n",
      "\u001b[1;31mAttributeError\u001b[0m: 'Car_1' object has no attribute '__fueltype'"
     ]
    }
   ],
   "source": [
    "c.__fueltype"
   ]
  },
  {
   "cell_type": "code",
   "execution_count": 42,
   "id": "ac74b713",
   "metadata": {},
   "outputs": [
    {
     "name": "stdout",
     "output_type": "stream",
     "text": [
      "10\n",
      "10\n"
     ]
    }
   ],
   "source": [
    "class temp:\n",
    "    def __init__(self,sample):\n",
    "        self.sample=sample\n",
    "        \n",
    "    def get_sample(self):\n",
    "        print(self.sample)\n",
    "        \n",
    "t=temp(10)\n",
    "print(t.sample)\n",
    "t.get_sample()"
   ]
  },
  {
   "cell_type": "code",
   "execution_count": 43,
   "id": "4ee738f2",
   "metadata": {},
   "outputs": [
    {
     "name": "stdout",
     "output_type": "stream",
     "text": [
      "1000\n",
      "1000\n"
     ]
    }
   ],
   "source": [
    "t.sample=1000\n",
    "print(t.sample)\n",
    "t.get_sample()"
   ]
  },
  {
   "cell_type": "code",
   "execution_count": 51,
   "id": "cacdd265",
   "metadata": {},
   "outputs": [],
   "source": [
    "class temp1:\n",
    "    def __init__(self,sample):\n",
    "        self.__sample=sample\n",
    "        \n",
    "    def get_sample(self):\n",
    "        print(self.__sample)\n",
    "        \n",
    "t1=temp1(10)"
   ]
  },
  {
   "cell_type": "code",
   "execution_count": 53,
   "id": "a0339f98",
   "metadata": {},
   "outputs": [],
   "source": [
    "t1._temp1__sample =1000"
   ]
  },
  {
   "cell_type": "code",
   "execution_count": 54,
   "id": "0703befb",
   "metadata": {},
   "outputs": [
    {
     "data": {
      "text/plain": [
       "1000"
      ]
     },
     "execution_count": 54,
     "metadata": {},
     "output_type": "execute_result"
    }
   ],
   "source": [
    "t1._temp1__sample"
   ]
  },
  {
   "cell_type": "code",
   "execution_count": 55,
   "id": "260f309d",
   "metadata": {},
   "outputs": [
    {
     "name": "stdout",
     "output_type": "stream",
     "text": [
      "1000\n"
     ]
    }
   ],
   "source": [
    "t1.get_sample()"
   ]
  },
  {
   "cell_type": "code",
   "execution_count": 48,
   "id": "1e588534",
   "metadata": {},
   "outputs": [],
   "source": [
    "t1.__sample=1000"
   ]
  },
  {
   "cell_type": "code",
   "execution_count": 49,
   "id": "ffb8050a",
   "metadata": {},
   "outputs": [
    {
     "name": "stdout",
     "output_type": "stream",
     "text": [
      "1000\n"
     ]
    }
   ],
   "source": [
    "print(t1.__sample)"
   ]
  },
  {
   "cell_type": "code",
   "execution_count": 50,
   "id": "448934fc",
   "metadata": {},
   "outputs": [
    {
     "name": "stdout",
     "output_type": "stream",
     "text": [
      "10\n"
     ]
    }
   ],
   "source": [
    "t1.get_sample()"
   ]
  },
  {
   "cell_type": "code",
   "execution_count": null,
   "id": "677757a1",
   "metadata": {},
   "outputs": [],
   "source": []
  },
  {
   "cell_type": "code",
   "execution_count": null,
   "id": "84eb4e76",
   "metadata": {},
   "outputs": [],
   "source": []
  },
  {
   "cell_type": "code",
   "execution_count": null,
   "id": "6a6951a3",
   "metadata": {},
   "outputs": [],
   "source": []
  },
  {
   "cell_type": "code",
   "execution_count": null,
   "id": "fae806cc",
   "metadata": {},
   "outputs": [],
   "source": []
  },
  {
   "cell_type": "markdown",
   "id": "ce327147",
   "metadata": {},
   "source": [
    "**name mangling**\n",
    "\n",
    "\n",
    "with two or more leading underscores and no more than one trailing underscore."
   ]
  },
  {
   "cell_type": "code",
   "execution_count": 35,
   "id": "294a4d9a",
   "metadata": {},
   "outputs": [],
   "source": [
    "class A:\n",
    "    __name=\"ramya\" #name mangling\n",
    "    ___a_=10    #name mangling\n",
    "    ____c=20  #name mangling\n",
    "    _g__=70 #not suitable for name mangling"
   ]
  },
  {
   "cell_type": "code",
   "execution_count": 36,
   "id": "594575d1",
   "metadata": {},
   "outputs": [],
   "source": [
    "x=A()"
   ]
  },
  {
   "cell_type": "code",
   "execution_count": 37,
   "id": "b7fda23f",
   "metadata": {},
   "outputs": [
    {
     "data": {
      "text/plain": [
       "['_A____c',\n",
       " '_A___a_',\n",
       " '_A__name',\n",
       " '__class__',\n",
       " '__delattr__',\n",
       " '__dict__',\n",
       " '__dir__',\n",
       " '__doc__',\n",
       " '__eq__',\n",
       " '__format__',\n",
       " '__ge__',\n",
       " '__getattribute__',\n",
       " '__gt__',\n",
       " '__hash__',\n",
       " '__init__',\n",
       " '__init_subclass__',\n",
       " '__le__',\n",
       " '__lt__',\n",
       " '__module__',\n",
       " '__ne__',\n",
       " '__new__',\n",
       " '__reduce__',\n",
       " '__reduce_ex__',\n",
       " '__repr__',\n",
       " '__setattr__',\n",
       " '__sizeof__',\n",
       " '__str__',\n",
       " '__subclasshook__',\n",
       " '__weakref__',\n",
       " '_g__']"
      ]
     },
     "execution_count": 37,
     "metadata": {},
     "output_type": "execute_result"
    }
   ],
   "source": [
    "dir(x)"
   ]
  },
  {
   "cell_type": "code",
   "execution_count": null,
   "id": "c39652b3",
   "metadata": {},
   "outputs": [],
   "source": []
  },
  {
   "cell_type": "code",
   "execution_count": null,
   "id": "75cd1319",
   "metadata": {},
   "outputs": [],
   "source": []
  },
  {
   "cell_type": "code",
   "execution_count": null,
   "id": "67653a1f",
   "metadata": {},
   "outputs": [],
   "source": []
  },
  {
   "cell_type": "code",
   "execution_count": null,
   "id": "0f6e8064",
   "metadata": {},
   "outputs": [],
   "source": []
  },
  {
   "cell_type": "code",
   "execution_count": 15,
   "id": "c8981172",
   "metadata": {},
   "outputs": [
    {
     "ename": "AttributeError",
     "evalue": "'A' object has no attribute '__name'",
     "output_type": "error",
     "traceback": [
      "\u001b[1;31m---------------------------------------------------------------------------\u001b[0m",
      "\u001b[1;31mAttributeError\u001b[0m                            Traceback (most recent call last)",
      "Cell \u001b[1;32mIn[15], line 1\u001b[0m\n\u001b[1;32m----> 1\u001b[0m \u001b[43mx\u001b[49m\u001b[38;5;241;43m.\u001b[39;49m\u001b[43m__name\u001b[49m\n",
      "\u001b[1;31mAttributeError\u001b[0m: 'A' object has no attribute '__name'"
     ]
    }
   ],
   "source": [
    "x.__name"
   ]
  },
  {
   "cell_type": "code",
   "execution_count": 18,
   "id": "f8477aa4",
   "metadata": {},
   "outputs": [
    {
     "data": {
      "text/plain": [
       "'ramya'"
      ]
     },
     "execution_count": 18,
     "metadata": {},
     "output_type": "execute_result"
    }
   ],
   "source": [
    "x._A__name"
   ]
  },
  {
   "cell_type": "code",
   "execution_count": 17,
   "id": "a69d9424",
   "metadata": {},
   "outputs": [
    {
     "data": {
      "text/plain": [
       "10"
      ]
     },
     "execution_count": 17,
     "metadata": {},
     "output_type": "execute_result"
    }
   ],
   "source": [
    "x._A___a_"
   ]
  },
  {
   "cell_type": "code",
   "execution_count": null,
   "id": "8fe91be9",
   "metadata": {},
   "outputs": [],
   "source": []
  },
  {
   "cell_type": "code",
   "execution_count": 8,
   "id": "fc56bfbf",
   "metadata": {},
   "outputs": [
    {
     "data": {
      "text/plain": [
       "['_A____c',\n",
       " '_A___a_',\n",
       " '_A__name',\n",
       " '__class__',\n",
       " '__delattr__',\n",
       " '__dict__',\n",
       " '__dir__',\n",
       " '__doc__',\n",
       " '__eq__',\n",
       " '__format__',\n",
       " '__ge__',\n",
       " '__getattribute__',\n",
       " '__gt__',\n",
       " '__hash__',\n",
       " '__init__',\n",
       " '__init_subclass__',\n",
       " '__le__',\n",
       " '__lt__',\n",
       " '__module__',\n",
       " '__ne__',\n",
       " '__new__',\n",
       " '__reduce__',\n",
       " '__reduce_ex__',\n",
       " '__repr__',\n",
       " '__setattr__',\n",
       " '__sizeof__',\n",
       " '__str__',\n",
       " '__subclasshook__',\n",
       " '__weakref__',\n",
       " '_g__']"
      ]
     },
     "execution_count": 8,
     "metadata": {},
     "output_type": "execute_result"
    }
   ],
   "source": [
    "dir(A)"
   ]
  },
  {
   "cell_type": "code",
   "execution_count": null,
   "id": "5a473e6b",
   "metadata": {},
   "outputs": [],
   "source": []
  },
  {
   "cell_type": "code",
   "execution_count": null,
   "id": "22dcd2a5",
   "metadata": {},
   "outputs": [],
   "source": []
  },
  {
   "cell_type": "code",
   "execution_count": 4,
   "id": "3cdd6ead",
   "metadata": {},
   "outputs": [
    {
     "data": {
      "text/plain": [
       "10"
      ]
     },
     "execution_count": 4,
     "metadata": {},
     "output_type": "execute_result"
    }
   ],
   "source": [
    "x._A___a_"
   ]
  },
  {
   "cell_type": "code",
   "execution_count": 66,
   "id": "9e846a80",
   "metadata": {},
   "outputs": [
    {
     "data": {
      "text/plain": [
       "20"
      ]
     },
     "execution_count": 66,
     "metadata": {},
     "output_type": "execute_result"
    }
   ],
   "source": [
    "x._A____c"
   ]
  },
  {
   "cell_type": "code",
   "execution_count": 67,
   "id": "07b677e4",
   "metadata": {},
   "outputs": [
    {
     "data": {
      "text/plain": [
       "70"
      ]
     },
     "execution_count": 67,
     "metadata": {},
     "output_type": "execute_result"
    }
   ],
   "source": [
    "x._g__"
   ]
  },
  {
   "cell_type": "code",
   "execution_count": 69,
   "id": "efcbd8b2",
   "metadata": {},
   "outputs": [
    {
     "ename": "AttributeError",
     "evalue": "'A' object has no attribute '_A_g__'",
     "output_type": "error",
     "traceback": [
      "\u001b[1;31m---------------------------------------------------------------------------\u001b[0m",
      "\u001b[1;31mAttributeError\u001b[0m                            Traceback (most recent call last)",
      "Cell \u001b[1;32mIn[69], line 1\u001b[0m\n\u001b[1;32m----> 1\u001b[0m \u001b[43mx\u001b[49m\u001b[38;5;241;43m.\u001b[39;49m\u001b[43m_A_g__\u001b[49m\n",
      "\u001b[1;31mAttributeError\u001b[0m: 'A' object has no attribute '_A_g__'"
     ]
    }
   ],
   "source": [
    "x._A_g__"
   ]
  },
  {
   "cell_type": "code",
   "execution_count": 59,
   "id": "bba2c314",
   "metadata": {},
   "outputs": [
    {
     "ename": "AttributeError",
     "evalue": "'A' object has no attribute '__name'",
     "output_type": "error",
     "traceback": [
      "\u001b[1;31m---------------------------------------------------------------------------\u001b[0m",
      "\u001b[1;31mAttributeError\u001b[0m                            Traceback (most recent call last)",
      "Cell \u001b[1;32mIn[59], line 2\u001b[0m\n\u001b[0;32m      1\u001b[0m x\u001b[38;5;241m=\u001b[39mA()\n\u001b[1;32m----> 2\u001b[0m \u001b[43mx\u001b[49m\u001b[38;5;241;43m.\u001b[39;49m\u001b[43m__name\u001b[49m\n",
      "\u001b[1;31mAttributeError\u001b[0m: 'A' object has no attribute '__name'"
     ]
    }
   ],
   "source": [
    "x=A()\n",
    "x.__name"
   ]
  },
  {
   "cell_type": "code",
   "execution_count": 65,
   "id": "9244797c",
   "metadata": {},
   "outputs": [
    {
     "data": {
      "text/plain": [
       "'ramya'"
      ]
     },
     "execution_count": 65,
     "metadata": {},
     "output_type": "execute_result"
    }
   ],
   "source": [
    "x._A__name"
   ]
  },
  {
   "cell_type": "code",
   "execution_count": 62,
   "id": "1a6904da",
   "metadata": {
    "scrolled": true
   },
   "outputs": [
    {
     "data": {
      "text/plain": [
       "['_A____c',\n",
       " '_A___a_',\n",
       " '_A__name',\n",
       " '__class__',\n",
       " '__delattr__',\n",
       " '__dict__',\n",
       " '__dir__',\n",
       " '__doc__',\n",
       " '__eq__',\n",
       " '__format__',\n",
       " '__ge__',\n",
       " '__getattribute__',\n",
       " '__gt__',\n",
       " '__hash__',\n",
       " '__init__',\n",
       " '__init_subclass__',\n",
       " '__le__',\n",
       " '__lt__',\n",
       " '__module__',\n",
       " '__ne__',\n",
       " '__new__',\n",
       " '__reduce__',\n",
       " '__reduce_ex__',\n",
       " '__repr__',\n",
       " '__setattr__',\n",
       " '__sizeof__',\n",
       " '__str__',\n",
       " '__subclasshook__',\n",
       " '__weakref__',\n",
       " '_g__']"
      ]
     },
     "execution_count": 62,
     "metadata": {},
     "output_type": "execute_result"
    }
   ],
   "source": [
    "dir(A)"
   ]
  },
  {
   "cell_type": "markdown",
   "id": "3e914e68",
   "metadata": {},
   "source": [
    "**decorator,iterator,iterable,generator,duck typing,name mangling**"
   ]
  },
  {
   "cell_type": "markdown",
   "id": "4d7402e5",
   "metadata": {},
   "source": [
    "### setter and getter"
   ]
  },
  {
   "cell_type": "code",
   "execution_count": 99,
   "id": "8becf5c3",
   "metadata": {},
   "outputs": [],
   "source": [
    "class Cars:\n",
    "    def __init__(self):\n",
    "        self.model = \"Maruthi\"\n",
    "        self.__price = 500000\n",
    "    def get_model(self):\n",
    "        print(\"Name of the model is\",self.model)\n",
    "    def set_price(self,val):\n",
    "        self.__price = val\n",
    "        print(\"New price is \",self.__price)\n",
    "    def get_price(self):\n",
    "        print(\"Price is \",self.__price)\n",
    "    def __print(self):\n",
    "        print(\"hellp\")"
   ]
  },
  {
   "cell_type": "code",
   "execution_count": 100,
   "id": "1bd86748",
   "metadata": {},
   "outputs": [],
   "source": [
    "x=Cars()"
   ]
  },
  {
   "cell_type": "code",
   "execution_count": 101,
   "id": "031e89bd",
   "metadata": {},
   "outputs": [],
   "source": [
    "x.__price =50"
   ]
  },
  {
   "cell_type": "markdown",
   "id": "0bbe6043",
   "metadata": {},
   "source": [
    "we can change the values of private variables outside(by calling an object) it will not give error but when we access the same private variables with other methods in the class, the value will still remains same(the new changes wont be reflected) bcos those variables were name mangled internally.\n",
    "\n",
    "\n",
    "Even though u can change the variables through name mangling --- never change it like this...\n",
    "\n",
    "\n",
    "but how to access and change private variables ?\n",
    "\n",
    "**use setters methods**"
   ]
  },
  {
   "cell_type": "code",
   "execution_count": 102,
   "id": "b3b87aa9",
   "metadata": {},
   "outputs": [
    {
     "name": "stdout",
     "output_type": "stream",
     "text": [
      "Price is  500000\n"
     ]
    }
   ],
   "source": [
    "x.get_price()"
   ]
  },
  {
   "cell_type": "code",
   "execution_count": 103,
   "id": "da9f6b71",
   "metadata": {},
   "outputs": [
    {
     "name": "stdout",
     "output_type": "stream",
     "text": [
      "New price is  100000\n"
     ]
    }
   ],
   "source": [
    "x.set_price(100000)"
   ]
  },
  {
   "cell_type": "code",
   "execution_count": 104,
   "id": "b064fcc0",
   "metadata": {},
   "outputs": [
    {
     "name": "stdout",
     "output_type": "stream",
     "text": [
      "Price is  100000\n"
     ]
    }
   ],
   "source": [
    "x.get_price()"
   ]
  },
  {
   "cell_type": "markdown",
   "id": "dd132615",
   "metadata": {},
   "source": [
    "**protected members**"
   ]
  },
  {
   "cell_type": "markdown",
   "id": "e643b3d2",
   "metadata": {},
   "source": [
    "Protected members (in C++ and JAVA) are those members of the class that cannot be accessed outside the class but can be accessed from within the class and its subclasses. To accomplish this in Python, just follow the convention by prefixing the name of the member by a single underscore “_”."
   ]
  },
  {
   "cell_type": "code",
   "execution_count": 105,
   "id": "a2c34c78",
   "metadata": {},
   "outputs": [],
   "source": [
    "class Base:\n",
    "    def __init__(self):\n",
    "\n",
    "        # Protected member\n",
    "        self._a = 21\n",
    "        \n",
    "    def get_value(self):\n",
    "        print(self._a)"
   ]
  },
  {
   "cell_type": "markdown",
   "id": "fa777e18",
   "metadata": {},
   "source": [
    "In fact, this doesn't prevent instance variables from accessing or modifying the instance. You can still perform the following operations:"
   ]
  },
  {
   "cell_type": "code",
   "execution_count": 106,
   "id": "ba94ade0",
   "metadata": {},
   "outputs": [
    {
     "name": "stdout",
     "output_type": "stream",
     "text": [
      "21\n"
     ]
    }
   ],
   "source": [
    "b=Base()\n",
    "print(b._a)"
   ]
  },
  {
   "cell_type": "code",
   "execution_count": 107,
   "id": "0dcab299",
   "metadata": {},
   "outputs": [],
   "source": [
    "b._a=20"
   ]
  },
  {
   "cell_type": "code",
   "execution_count": 108,
   "id": "c27e8557",
   "metadata": {},
   "outputs": [
    {
     "data": {
      "text/plain": [
       "20"
      ]
     },
     "execution_count": 108,
     "metadata": {},
     "output_type": "execute_result"
    }
   ],
   "source": [
    "b._a"
   ]
  },
  {
   "cell_type": "code",
   "execution_count": 109,
   "id": "8fc34415",
   "metadata": {},
   "outputs": [
    {
     "name": "stdout",
     "output_type": "stream",
     "text": [
      "20\n"
     ]
    }
   ],
   "source": [
    "b.get_value()"
   ]
  },
  {
   "cell_type": "code",
   "execution_count": 110,
   "id": "67683bc2",
   "metadata": {},
   "outputs": [],
   "source": [
    "b._a=200"
   ]
  },
  {
   "cell_type": "code",
   "execution_count": 111,
   "id": "03b31be0",
   "metadata": {},
   "outputs": [
    {
     "name": "stdout",
     "output_type": "stream",
     "text": [
      "200\n"
     ]
    }
   ],
   "source": [
    "b.get_value()"
   ]
  },
  {
   "cell_type": "code",
   "execution_count": null,
   "id": "c9d245c0",
   "metadata": {},
   "outputs": [],
   "source": []
  },
  {
   "cell_type": "markdown",
   "id": "0af21503",
   "metadata": {},
   "source": [
    "# The correct appraoch when using protected variables"
   ]
  },
  {
   "attachments": {
    "image.png": {
     "image/png": "[encoded data removed]"
    }
   },
   "cell_type": "markdown",
   "id": "b364f6f7",
   "metadata": {},
   "source": [
    "![image.png](attachment:image.png)"
   ]
  },
  {
   "cell_type": "code",
   "execution_count": 113,
   "id": "3891fe03",
   "metadata": {},
   "outputs": [
    {
     "name": "stdout",
     "output_type": "stream",
     "text": [
      "ramya\n",
      "16\n",
      "Developer\n"
     ]
    }
   ],
   "source": [
    "# illustrating protected members & protected access modifier \n",
    "class details:\n",
    "    _name=\"ramya\"\n",
    "    _age=16\n",
    "    _job=\"Developer\"\n",
    "    \n",
    "    def set_name(self,value):\n",
    "        self.__name = value\n",
    "    \n",
    "    \n",
    "class pro_mod(details):\n",
    "    def __init__(self):\n",
    "        print(self._name)\n",
    "        print(self._age)\n",
    "        print(self._job)\n",
    " \n",
    "# creating object of the child class \n",
    "obj = pro_mod()"
   ]
  },
  {
   "cell_type": "code",
   "execution_count": 114,
   "id": "0029b658",
   "metadata": {},
   "outputs": [
    {
     "name": "stdout",
     "output_type": "stream",
     "text": [
      "Name: ramya\n",
      "Age: 16\n"
     ]
    }
   ],
   "source": [
    "# direct access of protected member though it works dont use it\n",
    "print(\"Name:\",obj._name)\n",
    "print(\"Age:\",obj._age)"
   ]
  },
  {
   "cell_type": "markdown",
   "id": "4b0c2370",
   "metadata": {},
   "source": [
    "# Abstraction\n",
    "- Hiding complex information and show only neccesary information is abstraction\n",
    "- For example, TV remote or send sms to friends"
   ]
  },
  {
   "cell_type": "code",
   "execution_count": 1,
   "id": "bd14105a",
   "metadata": {},
   "outputs": [],
   "source": [
    "class A:\n",
    "    def method1(self):\n",
    "        pass"
   ]
  },
  {
   "cell_type": "code",
   "execution_count": 3,
   "id": "61565aab",
   "metadata": {},
   "outputs": [],
   "source": [
    "obj=A()\n",
    "obj.method1()"
   ]
  },
  {
   "cell_type": "code",
   "execution_count": 7,
   "id": "dda0fe30",
   "metadata": {},
   "outputs": [],
   "source": [
    "from abc import ABC, abstractmethod\n",
    "class A(ABC):\n",
    "    \n",
    "    #concrete methods\n",
    "    def method2(self):\n",
    "        print(\"ramya\")\n",
    "    \n",
    "    @abstractmethod\n",
    "    def method3(self):\n",
    "        pass"
   ]
  },
  {
   "cell_type": "code",
   "execution_count": 8,
   "id": "c46535c1",
   "metadata": {},
   "outputs": [
    {
     "ename": "TypeError",
     "evalue": "Can't instantiate abstract class A with abstract method method3",
     "output_type": "error",
     "traceback": [
      "\u001b[1;31m---------------------------------------------------------------------------\u001b[0m",
      "\u001b[1;31mTypeError\u001b[0m                                 Traceback (most recent call last)",
      "Cell \u001b[1;32mIn[8], line 1\u001b[0m\n\u001b[1;32m----> 1\u001b[0m a\u001b[38;5;241m=\u001b[39m\u001b[43mA\u001b[49m\u001b[43m(\u001b[49m\u001b[43m)\u001b[49m\n",
      "\u001b[1;31mTypeError\u001b[0m: Can't instantiate abstract class A with abstract method method3"
     ]
    }
   ],
   "source": [
    "a=A()"
   ]
  },
  {
   "cell_type": "code",
   "execution_count": 12,
   "id": "867975f1",
   "metadata": {},
   "outputs": [],
   "source": [
    "class B(A):\n",
    "    def temp():\n",
    "        print(\"Ramya\") \n",
    "    def method1(self):\n",
    "        print(\"method1 for class B\")\n",
    "    def method3(self):\n",
    "        print(\"methdod3 \")"
   ]
  },
  {
   "cell_type": "code",
   "execution_count": 14,
   "id": "db821ff7",
   "metadata": {},
   "outputs": [
    {
     "name": "stdout",
     "output_type": "stream",
     "text": [
      "methdod3 \n"
     ]
    }
   ],
   "source": [
    "obj2=B()\n",
    "obj2.method3()"
   ]
  },
  {
   "cell_type": "code",
   "execution_count": 69,
   "id": "0f66f72c",
   "metadata": {},
   "outputs": [
    {
     "name": "stdout",
     "output_type": "stream",
     "text": [
      "method1 in class c\n",
      "method3 in class C\n"
     ]
    }
   ],
   "source": [
    "class C(A):\n",
    "    def method1(self):\n",
    "        print(\"method1 in class c\")\n",
    "    def method3(self):\n",
    "        print(\"method3 in class C\")\n",
    "        \n",
    "        \n",
    "temp =C()\n",
    "temp.method1()\n",
    "temp.method3()"
   ]
  },
  {
   "cell_type": "code",
   "execution_count": 15,
   "id": "c7f18b6a",
   "metadata": {},
   "outputs": [],
   "source": [
    "#abc module ABC CLASS, abstract method decoratpr\n",
    "from abc import ABC, abstractmethod\n",
    "#abstract class-becos we ahve atleast one abstract method\n",
    "class Polygon(ABC):\n",
    "    @abstractmethod\n",
    "    def noofsides(self):\n",
    "        pass"
   ]
  },
  {
   "cell_type": "code",
   "execution_count": 16,
   "id": "0330b9ba",
   "metadata": {},
   "outputs": [
    {
     "ename": "TypeError",
     "evalue": "Can't instantiate abstract class Polygon with abstract method noofsides",
     "output_type": "error",
     "traceback": [
      "\u001b[1;31m---------------------------------------------------------------------------\u001b[0m",
      "\u001b[1;31mTypeError\u001b[0m                                 Traceback (most recent call last)",
      "Cell \u001b[1;32mIn[16], line 1\u001b[0m\n\u001b[1;32m----> 1\u001b[0m p\u001b[38;5;241m=\u001b[39m\u001b[43mPolygon\u001b[49m\u001b[43m(\u001b[49m\u001b[43m)\u001b[49m\n",
      "\u001b[1;31mTypeError\u001b[0m: Can't instantiate abstract class Polygon with abstract method noofsides"
     ]
    }
   ],
   "source": [
    "p=Polygon()"
   ]
  },
  {
   "cell_type": "code",
   "execution_count": 26,
   "id": "8b4f6ea1",
   "metadata": {},
   "outputs": [],
   "source": [
    "class Polygon(ABC):\n",
    "    @abstractmethod\n",
    "    def noofsides(self):\n",
    "        pass\n",
    "    \n",
    "class triangle(Polygon):\n",
    "    def noofsides(self):\n",
    "        print(\"i have 3 sides\")\n",
    "    def side(self):\n",
    "        print(\"3\")"
   ]
  },
  {
   "cell_type": "code",
   "execution_count": 28,
   "id": "ee797dfc",
   "metadata": {},
   "outputs": [],
   "source": [
    "t=triangle()"
   ]
  },
  {
   "cell_type": "code",
   "execution_count": 29,
   "id": "7ba3fc2c",
   "metadata": {},
   "outputs": [
    {
     "name": "stdout",
     "output_type": "stream",
     "text": [
      "i have 3 sides\n",
      "3\n"
     ]
    }
   ],
   "source": [
    "t.noofsides()\n",
    "t.side()"
   ]
  },
  {
   "cell_type": "code",
   "execution_count": null,
   "id": "ad9c93c6",
   "metadata": {},
   "outputs": [],
   "source": []
  },
  {
   "cell_type": "code",
   "execution_count": 30,
   "id": "cd9ca44a",
   "metadata": {},
   "outputs": [],
   "source": [
    "#Abstract Base Class\n",
    "from abc import ABC, abstractmethod\n",
    "\n",
    "#abstract class\n",
    "class Polygon(ABC):\n",
    "    @abstractmethod\n",
    "    def noofsides(self):\n",
    "        print(\"method1\")\n",
    "    \n",
    "# concrete classes\n",
    "class Triangle(Polygon):\n",
    "    def noofsides(self):\n",
    "        print(\"I have 3 sides\")\n",
    "        print(\"iam traingle\")\n",
    "    def area_traingle(self):\n",
    "        print(\"Area of traingle\")\n",
    "    \n",
    "class Rectangle(Polygon):\n",
    "    def noofsides(self):\n",
    "        print(\"I have 4 sides\")\n",
    "        print(\"IM  a rectangle\")\n",
    "    def area_reactangle(self):\n",
    "        print(\"Area of reactangle\")"
   ]
  },
  {
   "cell_type": "code",
   "execution_count": 31,
   "id": "e47697d3",
   "metadata": {},
   "outputs": [],
   "source": [
    "t = Triangle()\n",
    "r = Rectangle()"
   ]
  },
  {
   "cell_type": "code",
   "execution_count": 33,
   "id": "818e857c",
   "metadata": {},
   "outputs": [
    {
     "name": "stdout",
     "output_type": "stream",
     "text": [
      "I have 3 sides\n",
      "iam traingle\n",
      "I have 4 sides\n",
      "IM  a rectangle\n"
     ]
    }
   ],
   "source": [
    "t.noofsides()\n",
    "r.noofsides()"
   ]
  },
  {
   "cell_type": "code",
   "execution_count": null,
   "id": "d8216e61",
   "metadata": {},
   "outputs": [],
   "source": []
  },
  {
   "cell_type": "code",
   "execution_count": 118,
   "id": "c48e0986",
   "metadata": {},
   "outputs": [
    {
     "name": "stdout",
     "output_type": "stream",
     "text": [
      "add batter sugar.....\n"
     ]
    }
   ],
   "source": [
    "from abc import ABC, abstractmethod\n",
    "\n",
    "class Receipe(ABC):\n",
    "    @abstractmethod\n",
    "    def Receipe(self):\n",
    "        pass\n",
    "    \n",
    "    def print(self):\n",
    "        print('ramya')\n",
    "        \n",
    "    @abstractmethod\n",
    "    def items(self):\n",
    "        pass\n",
    "    \n",
    "class cake_receipe(Receipe):\n",
    "    def Receipe(self):\n",
    "        print(\"add batter sugar.....\")\n",
    "        \n",
    "    def items(self):\n",
    "        print(\"microwave\")\n",
    "        \n",
    "class chicken_biryani(Receipe):\n",
    "    def Receipe(self):\n",
    "        print(\"add chciken rice..\")\n",
    "    def items(self):\n",
    "        print(\"gasstove\")\n",
    "        \n",
    "        \n",
    "obj = cake_receipe()\n",
    "obj.Receipe()"
   ]
  },
  {
   "cell_type": "code",
   "execution_count": 119,
   "id": "26cb5a0c",
   "metadata": {},
   "outputs": [
    {
     "name": "stdout",
     "output_type": "stream",
     "text": [
      "add chciken rice..\n"
     ]
    }
   ],
   "source": [
    "obj1=chicken_biryani()\n",
    "obj1.Receipe()"
   ]
  },
  {
   "cell_type": "code",
   "execution_count": 120,
   "id": "d40c44e8",
   "metadata": {},
   "outputs": [
    {
     "ename": "TypeError",
     "evalue": "Can't instantiate abstract class Receipe with abstract methods Receipe, items",
     "output_type": "error",
     "traceback": [
      "\u001b[1;31m---------------------------------------------------------------------------\u001b[0m",
      "\u001b[1;31mTypeError\u001b[0m                                 Traceback (most recent call last)",
      "Cell \u001b[1;32mIn[120], line 1\u001b[0m\n\u001b[1;32m----> 1\u001b[0m r\u001b[38;5;241m=\u001b[39m \u001b[43mReceipe\u001b[49m\u001b[43m(\u001b[49m\u001b[43m)\u001b[49m\n",
      "\u001b[1;31mTypeError\u001b[0m: Can't instantiate abstract class Receipe with abstract methods Receipe, items"
     ]
    }
   ],
   "source": [
    "r= Receipe()"
   ]
  },
  {
   "cell_type": "code",
   "execution_count": null,
   "id": "d75ca38f",
   "metadata": {},
   "outputs": [],
   "source": []
  }
 ],
 "metadata": {
  "kernelspec": {
   "display_name": "Python 3 (ipykernel)",
   "language": "python",
   "name": "python3"
  },
  "language_info": {
   "codemirror_mode": {
    "name": "ipython",
    "version": 3
   },
   "file_extension": ".py",
   "mimetype": "text/x-python",
   "name": "python",
   "nbconvert_exporter": "python",
   "pygments_lexer": "ipython3",
   "version": "3.10.9"
  }
 },
 "nbformat": 4,
 "nbformat_minor": 5
}
