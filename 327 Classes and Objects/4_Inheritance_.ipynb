{
 "cells": [
  {
   "cell_type": "markdown",
   "id": "c3bb83dc",
   "metadata": {},
   "source": [
    "# Inheritance\n",
    "- Aquiring all the properties and bahaviuors of one class to another class.\n",
    "\n",
    "One of the core concepts in object-oriented programming (OOP) languages is inheritance. It is a mechanism that allows you to create a hierarchy of classes that share a set of properties and methods by deriving a class from another class. Inheritance is the capability of one class to derive or inherit the properties from another class. "
   ]
  },
  {
   "cell_type": "code",
   "execution_count": null,
   "id": "e10d43ff",
   "metadata": {},
   "outputs": [],
   "source": []
  },
  {
   "cell_type": "code",
   "execution_count": 1,
   "id": "8d89b111",
   "metadata": {},
   "outputs": [
    {
     "name": "stdout",
     "output_type": "stream",
     "text": [
      "ramya\n",
      "ramya\n"
     ]
    }
   ],
   "source": [
    "class temp: \n",
    "    def __init__(self,x):\n",
    "        self.x=x\n",
    "        \n",
    "t1=temp(\"ramya\")\n",
    "print(t1.x)\n",
    "t2=temp(\"ramya\")\n",
    "print(t2.x)"
   ]
  },
  {
   "cell_type": "code",
   "execution_count": null,
   "id": "90959be1",
   "metadata": {},
   "outputs": [],
   "source": []
  },
  {
   "cell_type": "code",
   "execution_count": null,
   "id": "d3f34673",
   "metadata": {},
   "outputs": [],
   "source": []
  },
  {
   "cell_type": "code",
   "execution_count": 23,
   "id": "b4e33ab6",
   "metadata": {},
   "outputs": [],
   "source": [
    "class A: \n",
    "    def __init__(self):\n",
    "        self.x = 10\n",
    "        self.y = 20\n",
    "        print(\"This is Base\")\n",
    "    def m1(self):\n",
    "        print(\"Method1\")\n",
    "    def m2(self):\n",
    "        print(\"Method2\")\n",
    "        \n",
    "        \n",
    "        \n",
    "class B:\n",
    "    def m3(self):\n",
    "        print(\"Method3\")"
   ]
  },
  {
   "cell_type": "code",
   "execution_count": 24,
   "id": "982e3760",
   "metadata": {},
   "outputs": [
    {
     "name": "stdout",
     "output_type": "stream",
     "text": [
      "This is Base\n"
     ]
    }
   ],
   "source": [
    "a=A()\n",
    "b=B()"
   ]
  },
  {
   "cell_type": "code",
   "execution_count": 25,
   "id": "9413af82",
   "metadata": {},
   "outputs": [
    {
     "ename": "AttributeError",
     "evalue": "'B' object has no attribute 'x'",
     "output_type": "error",
     "traceback": [
      "\u001b[1;31m---------------------------------------------------------------------------\u001b[0m",
      "\u001b[1;31mAttributeError\u001b[0m                            Traceback (most recent call last)",
      "Cell \u001b[1;32mIn[25], line 1\u001b[0m\n\u001b[1;32m----> 1\u001b[0m \u001b[43mb\u001b[49m\u001b[38;5;241;43m.\u001b[39;49m\u001b[43mx\u001b[49m\n",
      "\u001b[1;31mAttributeError\u001b[0m: 'B' object has no attribute 'x'"
     ]
    }
   ],
   "source": [
    "b.x"
   ]
  },
  {
   "cell_type": "code",
   "execution_count": 7,
   "id": "d41f18f1",
   "metadata": {},
   "outputs": [
    {
     "name": "stdout",
     "output_type": "stream",
     "text": [
      "Method1\n",
      "Method2\n",
      "Method3\n"
     ]
    }
   ],
   "source": [
    "a.m1()\n",
    "a.m2()\n",
    "b.m3()"
   ]
  },
  {
   "cell_type": "code",
   "execution_count": 9,
   "id": "579b8e6b",
   "metadata": {},
   "outputs": [
    {
     "ename": "AttributeError",
     "evalue": "'B' object has no attribute 'm1'",
     "output_type": "error",
     "traceback": [
      "\u001b[1;31m---------------------------------------------------------------------------\u001b[0m",
      "\u001b[1;31mAttributeError\u001b[0m                            Traceback (most recent call last)",
      "Cell \u001b[1;32mIn[9], line 1\u001b[0m\n\u001b[1;32m----> 1\u001b[0m \u001b[43mb\u001b[49m\u001b[38;5;241;43m.\u001b[39;49m\u001b[43mm1\u001b[49m()\n",
      "\u001b[1;31mAttributeError\u001b[0m: 'B' object has no attribute 'm1'"
     ]
    }
   ],
   "source": [
    "b.m1()"
   ]
  },
  {
   "cell_type": "code",
   "execution_count": null,
   "id": "09a879bf",
   "metadata": {},
   "outputs": [],
   "source": []
  },
  {
   "cell_type": "code",
   "execution_count": null,
   "id": "6847c15c",
   "metadata": {},
   "outputs": [],
   "source": []
  },
  {
   "cell_type": "code",
   "execution_count": 26,
   "id": "dfb0dbe4",
   "metadata": {},
   "outputs": [],
   "source": [
    "class A: #baseclass #parentclass #superclass\n",
    "    def __init__(self):\n",
    "        self.x = 10\n",
    "        self.y = 20\n",
    "        print(\"This is Base\")\n",
    "    def m1(self):\n",
    "        print(\"Method1\")\n",
    "    def m2(self):\n",
    "        print(\"Method2\")\n",
    "        \n",
    "        \n",
    "        \n",
    "class B(A): #B is the childclass, derived class, sub class and A is the parent class/superclass/Base class\n",
    "    def m3(self):\n",
    "        print(\"Method3\")"
   ]
  },
  {
   "cell_type": "code",
   "execution_count": 27,
   "id": "50c909fd",
   "metadata": {},
   "outputs": [
    {
     "name": "stdout",
     "output_type": "stream",
     "text": [
      "This is Base\n",
      "This is Base\n"
     ]
    }
   ],
   "source": [
    "a=A()\n",
    "b=B()"
   ]
  },
  {
   "cell_type": "code",
   "execution_count": 28,
   "id": "d1a05d18",
   "metadata": {},
   "outputs": [
    {
     "data": {
      "text/plain": [
       "20"
      ]
     },
     "execution_count": 28,
     "metadata": {},
     "output_type": "execute_result"
    }
   ],
   "source": [
    "a.y"
   ]
  },
  {
   "cell_type": "code",
   "execution_count": 29,
   "id": "37161717",
   "metadata": {},
   "outputs": [
    {
     "data": {
      "text/plain": [
       "20"
      ]
     },
     "execution_count": 29,
     "metadata": {},
     "output_type": "execute_result"
    }
   ],
   "source": [
    "b.y"
   ]
  },
  {
   "cell_type": "code",
   "execution_count": 30,
   "id": "ba6e187b",
   "metadata": {},
   "outputs": [
    {
     "name": "stdout",
     "output_type": "stream",
     "text": [
      "Method1\n",
      "Method2\n",
      "Method3\n"
     ]
    }
   ],
   "source": [
    "a.m1()\n",
    "a.m2()\n",
    "b.m3()"
   ]
  },
  {
   "cell_type": "code",
   "execution_count": null,
   "id": "dcea978a",
   "metadata": {},
   "outputs": [],
   "source": []
  },
  {
   "cell_type": "code",
   "execution_count": null,
   "id": "f1eceffb",
   "metadata": {},
   "outputs": [],
   "source": []
  },
  {
   "cell_type": "code",
   "execution_count": null,
   "id": "50c35dc2",
   "metadata": {},
   "outputs": [],
   "source": []
  },
  {
   "cell_type": "code",
   "execution_count": null,
   "id": "42058a31",
   "metadata": {},
   "outputs": [],
   "source": []
  },
  {
   "cell_type": "markdown",
   "id": "96af6852",
   "metadata": {},
   "source": [
    "# Single level inheritance"
   ]
  },
  {
   "cell_type": "code",
   "execution_count": 34,
   "id": "ecd32906",
   "metadata": {},
   "outputs": [],
   "source": [
    "class A: \n",
    "    def __init__(self):\n",
    "        self.x = 10\n",
    "        self.y = 20\n",
    "        print(\"This is Base\")\n",
    "    def m1(self):\n",
    "        print(\"Method1\")\n",
    "    def m2(self):\n",
    "        print(\"Method2\")\n",
    "\n",
    "class B(A):\n",
    "    def __init__(self):\n",
    "        print(\"This is Derived class\")\n",
    "    def m3(self):\n",
    "        print(\"Method3\")\n",
    "    def m4(self):\n",
    "        print(\"Method4\")"
   ]
  },
  {
   "cell_type": "code",
   "execution_count": 36,
   "id": "0157e993",
   "metadata": {},
   "outputs": [
    {
     "name": "stdout",
     "output_type": "stream",
     "text": [
      "This is Base\n",
      "This is Derived class\n"
     ]
    }
   ],
   "source": [
    "a=A()\n",
    "b=B()"
   ]
  },
  {
   "cell_type": "code",
   "execution_count": 37,
   "id": "3b27fa16",
   "metadata": {},
   "outputs": [
    {
     "name": "stdout",
     "output_type": "stream",
     "text": [
      "Method1\n",
      "Method2\n",
      "Method3\n",
      "Method4\n"
     ]
    }
   ],
   "source": [
    "a.m1()\n",
    "a.m2()\n",
    "b.m3()\n",
    "b.m4()"
   ]
  },
  {
   "cell_type": "code",
   "execution_count": 39,
   "id": "1ac6d6c5",
   "metadata": {},
   "outputs": [
    {
     "name": "stdout",
     "output_type": "stream",
     "text": [
      "Method2\n"
     ]
    }
   ],
   "source": [
    "b.m2()"
   ]
  },
  {
   "cell_type": "code",
   "execution_count": 40,
   "id": "daffb8f5",
   "metadata": {},
   "outputs": [
    {
     "ename": "AttributeError",
     "evalue": "'A' object has no attribute 'm3'",
     "output_type": "error",
     "traceback": [
      "\u001b[1;31m---------------------------------------------------------------------------\u001b[0m",
      "\u001b[1;31mAttributeError\u001b[0m                            Traceback (most recent call last)",
      "Cell \u001b[1;32mIn[40], line 1\u001b[0m\n\u001b[1;32m----> 1\u001b[0m \u001b[43ma\u001b[49m\u001b[38;5;241;43m.\u001b[39;49m\u001b[43mm3\u001b[49m()\n",
      "\u001b[1;31mAttributeError\u001b[0m: 'A' object has no attribute 'm3'"
     ]
    }
   ],
   "source": [
    "a.m3()"
   ]
  },
  {
   "cell_type": "code",
   "execution_count": 44,
   "id": "6245e477",
   "metadata": {},
   "outputs": [
    {
     "name": "stdout",
     "output_type": "stream",
     "text": [
      "10\n",
      "20\n"
     ]
    }
   ],
   "source": [
    "print(a.x)\n",
    "print(a.y)"
   ]
  },
  {
   "cell_type": "code",
   "execution_count": 45,
   "id": "39b2cf46",
   "metadata": {},
   "outputs": [
    {
     "ename": "AttributeError",
     "evalue": "'B' object has no attribute 'x'",
     "output_type": "error",
     "traceback": [
      "\u001b[1;31m---------------------------------------------------------------------------\u001b[0m",
      "\u001b[1;31mAttributeError\u001b[0m                            Traceback (most recent call last)",
      "Cell \u001b[1;32mIn[45], line 1\u001b[0m\n\u001b[1;32m----> 1\u001b[0m \u001b[38;5;28mprint\u001b[39m(\u001b[43mb\u001b[49m\u001b[38;5;241;43m.\u001b[39;49m\u001b[43mx\u001b[49m)\n",
      "\u001b[1;31mAttributeError\u001b[0m: 'B' object has no attribute 'x'"
     ]
    }
   ],
   "source": [
    "print(b.x)"
   ]
  },
  {
   "cell_type": "code",
   "execution_count": null,
   "id": "35f67d3c",
   "metadata": {},
   "outputs": [],
   "source": []
  },
  {
   "cell_type": "code",
   "execution_count": 46,
   "id": "6f88a24f",
   "metadata": {},
   "outputs": [],
   "source": [
    "class DataAnalyst:\n",
    "    def __init__(self):\n",
    "        self.x= \"Analysis\"\n",
    "        print(\"base class\")\n",
    "    def lang1(self):\n",
    "        print(\"python\")\n",
    "    def lang2(self):\n",
    "        print(\"sql\")\n",
    "        \n",
    "class DataScientist(DataAnalyst):\n",
    "    def __init__(self):\n",
    "        self.x='Analysis'\n",
    "        self.y=\"prediction\"\n",
    "        print(\"child class\")\n",
    "    def Tech1(self):\n",
    "        print(\"Machine learning\")\n",
    "    def Tech2(self):\n",
    "        print(\"CV\")"
   ]
  },
  {
   "cell_type": "code",
   "execution_count": 48,
   "id": "632a96c8",
   "metadata": {},
   "outputs": [
    {
     "name": "stdout",
     "output_type": "stream",
     "text": [
      "base class\n",
      "child class\n"
     ]
    }
   ],
   "source": [
    "da=DataAnalyst()\n",
    "ds=DataScientist()"
   ]
  },
  {
   "cell_type": "code",
   "execution_count": 50,
   "id": "a7fa3693",
   "metadata": {},
   "outputs": [
    {
     "name": "stdout",
     "output_type": "stream",
     "text": [
      "Analysis\n"
     ]
    },
    {
     "ename": "AttributeError",
     "evalue": "'DataAnalyst' object has no attribute 'y'",
     "output_type": "error",
     "traceback": [
      "\u001b[1;31m---------------------------------------------------------------------------\u001b[0m",
      "\u001b[1;31mAttributeError\u001b[0m                            Traceback (most recent call last)",
      "Cell \u001b[1;32mIn[50], line 2\u001b[0m\n\u001b[0;32m      1\u001b[0m \u001b[38;5;28mprint\u001b[39m(da\u001b[38;5;241m.\u001b[39mx)\n\u001b[1;32m----> 2\u001b[0m \u001b[38;5;28mprint\u001b[39m(\u001b[43mda\u001b[49m\u001b[38;5;241;43m.\u001b[39;49m\u001b[43my\u001b[49m)\n",
      "\u001b[1;31mAttributeError\u001b[0m: 'DataAnalyst' object has no attribute 'y'"
     ]
    }
   ],
   "source": [
    "print(da.x)\n",
    "print(da.y)"
   ]
  },
  {
   "cell_type": "code",
   "execution_count": 52,
   "id": "fc6c89d3",
   "metadata": {},
   "outputs": [
    {
     "name": "stdout",
     "output_type": "stream",
     "text": [
      "Analysis\n",
      "prediction\n",
      "Machine learning\n",
      "CV\n",
      "python\n",
      "sql\n"
     ]
    }
   ],
   "source": [
    "print(ds.x)\n",
    "print(ds.y)\n",
    "ds.Tech1()\n",
    "ds.Tech2()\n",
    "ds.lang1()\n",
    "ds.lang2()"
   ]
  },
  {
   "cell_type": "code",
   "execution_count": 53,
   "id": "4b6b94d2",
   "metadata": {},
   "outputs": [
    {
     "name": "stdout",
     "output_type": "stream",
     "text": [
      "python\n",
      "sql\n"
     ]
    }
   ],
   "source": [
    "da.lang1()\n",
    "da.lang2()"
   ]
  },
  {
   "cell_type": "code",
   "execution_count": 54,
   "id": "a36e43a4",
   "metadata": {},
   "outputs": [
    {
     "ename": "AttributeError",
     "evalue": "'DataAnalyst' object has no attribute 'Tech1'",
     "output_type": "error",
     "traceback": [
      "\u001b[1;31m---------------------------------------------------------------------------\u001b[0m",
      "\u001b[1;31mAttributeError\u001b[0m                            Traceback (most recent call last)",
      "Cell \u001b[1;32mIn[54], line 1\u001b[0m\n\u001b[1;32m----> 1\u001b[0m \u001b[43mda\u001b[49m\u001b[38;5;241;43m.\u001b[39;49m\u001b[43mTech1\u001b[49m()\n",
      "\u001b[1;31mAttributeError\u001b[0m: 'DataAnalyst' object has no attribute 'Tech1'"
     ]
    }
   ],
   "source": [
    "da.Tech1()"
   ]
  },
  {
   "cell_type": "code",
   "execution_count": null,
   "id": "23669a54",
   "metadata": {},
   "outputs": [],
   "source": []
  },
  {
   "cell_type": "code",
   "execution_count": null,
   "id": "fd9d4cdc",
   "metadata": {},
   "outputs": [],
   "source": []
  },
  {
   "cell_type": "code",
   "execution_count": null,
   "id": "3117c907",
   "metadata": {},
   "outputs": [],
   "source": []
  },
  {
   "cell_type": "code",
   "execution_count": 59,
   "id": "0a0801e8",
   "metadata": {},
   "outputs": [],
   "source": [
    "class B: #parent class #superclass #baseclass\n",
    "    def __init__(self):\n",
    "        print(\"This is Derived class\")\n",
    "    def m3(self):\n",
    "        print(\"Method3\")\n",
    "    def m4(self):\n",
    "        print(\"Method4\")\n",
    "        \n",
    "        \n",
    "class A(B):  #derived class #child class #sub class\n",
    "    def __init__(self):\n",
    "        self.x = 10\n",
    "        self.y = 20\n",
    "        print(\"This is Base\")\n",
    "    def m1(self):\n",
    "        print(\"Method1\")\n",
    "    def m2(self):\n",
    "        print(\"Method2\")\n"
   ]
  },
  {
   "cell_type": "code",
   "execution_count": 60,
   "id": "f483c2f9",
   "metadata": {},
   "outputs": [
    {
     "name": "stdout",
     "output_type": "stream",
     "text": [
      "This is Base\n",
      "This is Derived class\n"
     ]
    },
    {
     "ename": "AttributeError",
     "evalue": "'B' object has no attribute 'm1'",
     "output_type": "error",
     "traceback": [
      "\u001b[1;31m---------------------------------------------------------------------------\u001b[0m",
      "\u001b[1;31mAttributeError\u001b[0m                            Traceback (most recent call last)",
      "Cell \u001b[1;32mIn[60], line 3\u001b[0m\n\u001b[0;32m      1\u001b[0m a\u001b[38;5;241m=\u001b[39mA()\n\u001b[0;32m      2\u001b[0m b\u001b[38;5;241m=\u001b[39mB()\n\u001b[1;32m----> 3\u001b[0m \u001b[43mb\u001b[49m\u001b[38;5;241;43m.\u001b[39;49m\u001b[43mm1\u001b[49m()\n",
      "\u001b[1;31mAttributeError\u001b[0m: 'B' object has no attribute 'm1'"
     ]
    }
   ],
   "source": [
    "a=A()\n",
    "b=B()\n",
    "b.m1()"
   ]
  },
  {
   "cell_type": "code",
   "execution_count": null,
   "id": "75706fb9",
   "metadata": {},
   "outputs": [],
   "source": []
  },
  {
   "cell_type": "markdown",
   "id": "260d300a",
   "metadata": {},
   "source": [
    "### multi level inheritance"
   ]
  },
  {
   "cell_type": "code",
   "execution_count": 62,
   "id": "8f4dbd04",
   "metadata": {},
   "outputs": [],
   "source": [
    "class A: #m1 m2\n",
    "    def __init__(self):\n",
    "        self.x = 10\n",
    "        self.y = 20\n",
    "        print(\"This is Base\")\n",
    "    def m1(self):\n",
    "        print(\"Method1\")\n",
    "    def m2(self):\n",
    "        print(\"Method2\")\n",
    "\n",
    "class B(A): #m3 m4 m1 m2\n",
    "    def __init__(self): \n",
    "        print(\"This is Derived class\")\n",
    "    def m3(self):\n",
    "        print(\"Method3\")\n",
    "    def m4(self):\n",
    "        print(\"Method4\")\n",
    "        \n",
    "class C(B):  # m5 m6 m3 m4 m1 m2\n",
    "    def m5(self):\n",
    "        print(\"Method5\")\n",
    "    def m6(self):\n",
    "        print(\"Method6\")\n",
    "        \n",
    "class D(C): #m7 m5 m6 m3 m4 m1 m2\n",
    "    def __init__(self):\n",
    "        print(\"im in class D\")\n",
    "    def m7(self):\n",
    "        print(\"Method7\")\n",
    "    def m8(self):\n",
    "        print(\"Method8\")"
   ]
  },
  {
   "cell_type": "code",
   "execution_count": 63,
   "id": "737f68d7",
   "metadata": {},
   "outputs": [
    {
     "name": "stdout",
     "output_type": "stream",
     "text": [
      "This is Base\n",
      "This is Derived class\n",
      "This is Derived class\n",
      "im in class D\n"
     ]
    }
   ],
   "source": [
    "a = A()\n",
    "b = B()\n",
    "c = C()\n",
    "d = D()"
   ]
  },
  {
   "cell_type": "code",
   "execution_count": 64,
   "id": "2c915554",
   "metadata": {},
   "outputs": [
    {
     "name": "stdout",
     "output_type": "stream",
     "text": [
      "Method3\n",
      "Method1\n"
     ]
    }
   ],
   "source": [
    "b.m3()\n",
    "b.m1()"
   ]
  },
  {
   "cell_type": "code",
   "execution_count": 65,
   "id": "98fd2566",
   "metadata": {},
   "outputs": [
    {
     "name": "stdout",
     "output_type": "stream",
     "text": [
      "Method5\n",
      "Method3\n",
      "Method1\n"
     ]
    }
   ],
   "source": [
    "c.m5()\n",
    "c.m3()\n",
    "c.m1()"
   ]
  },
  {
   "cell_type": "code",
   "execution_count": 66,
   "id": "a11258d3",
   "metadata": {},
   "outputs": [
    {
     "name": "stdout",
     "output_type": "stream",
     "text": [
      "Method7\n",
      "Method5\n",
      "Method4\n",
      "Method1\n"
     ]
    }
   ],
   "source": [
    "d.m7()\n",
    "d.m5()\n",
    "d.m4()\n",
    "d.m1()"
   ]
  },
  {
   "cell_type": "code",
   "execution_count": 69,
   "id": "b984e299",
   "metadata": {},
   "outputs": [
    {
     "ename": "AttributeError",
     "evalue": "'C' object has no attribute 'm7'",
     "output_type": "error",
     "traceback": [
      "\u001b[1;31m---------------------------------------------------------------------------\u001b[0m",
      "\u001b[1;31mAttributeError\u001b[0m                            Traceback (most recent call last)",
      "Cell \u001b[1;32mIn[69], line 1\u001b[0m\n\u001b[1;32m----> 1\u001b[0m \u001b[43mc\u001b[49m\u001b[38;5;241;43m.\u001b[39;49m\u001b[43mm7\u001b[49m()\n",
      "\u001b[1;31mAttributeError\u001b[0m: 'C' object has no attribute 'm7'"
     ]
    }
   ],
   "source": [
    "c.m7()"
   ]
  },
  {
   "cell_type": "code",
   "execution_count": 70,
   "id": "ad409f49",
   "metadata": {},
   "outputs": [
    {
     "name": "stdout",
     "output_type": "stream",
     "text": [
      "['x', 'y', '__module__', '__init__', 'm1', 'm2', '__dict__', '__weakref__', '__doc__', '__new__', '__repr__', '__hash__', '__str__', '__getattribute__', '__setattr__', '__delattr__', '__lt__', '__le__', '__eq__', '__ne__', '__gt__', '__ge__', '__reduce_ex__', '__reduce__', '__subclasshook__', '__init_subclass__', '__format__', '__sizeof__', '__dir__', '__class__']\n"
     ]
    }
   ],
   "source": [
    "print(a.__dir__())"
   ]
  },
  {
   "cell_type": "code",
   "execution_count": 97,
   "id": "674551af",
   "metadata": {},
   "outputs": [
    {
     "name": "stdout",
     "output_type": "stream",
     "text": [
      "['__module__', '__init__', 'm7', 'm8', '__doc__', 'm5', 'm6', 'm3', 'm4', 'm1', 'm2', '__dict__', '__weakref__', '__new__', '__repr__', '__hash__', '__str__', '__getattribute__', '__setattr__', '__delattr__', '__lt__', '__le__', '__eq__', '__ne__', '__gt__', '__ge__', '__reduce_ex__', '__reduce__', '__subclasshook__', '__init_subclass__', '__format__', '__sizeof__', '__dir__', '__class__']\n"
     ]
    }
   ],
   "source": [
    "print(d.__dir__())"
   ]
  },
  {
   "cell_type": "code",
   "execution_count": 72,
   "id": "896faefb",
   "metadata": {},
   "outputs": [
    {
     "data": {
      "text/plain": [
       "{}"
      ]
     },
     "execution_count": 72,
     "metadata": {},
     "output_type": "execute_result"
    }
   ],
   "source": [
    "d.__dict__"
   ]
  },
  {
   "cell_type": "code",
   "execution_count": 73,
   "id": "fde93f75",
   "metadata": {},
   "outputs": [
    {
     "name": "stdout",
     "output_type": "stream",
     "text": [
      "Help on class A in module __main__:\n",
      "\n",
      "class A(builtins.object)\n",
      " |  Methods defined here:\n",
      " |  \n",
      " |  __init__(self)\n",
      " |      Initialize self.  See help(type(self)) for accurate signature.\n",
      " |  \n",
      " |  m1(self)\n",
      " |  \n",
      " |  m2(self)\n",
      " |  \n",
      " |  ----------------------------------------------------------------------\n",
      " |  Data descriptors defined here:\n",
      " |  \n",
      " |  __dict__\n",
      " |      dictionary for instance variables (if defined)\n",
      " |  \n",
      " |  __weakref__\n",
      " |      list of weak references to the object (if defined)\n",
      "\n"
     ]
    }
   ],
   "source": [
    "help(A)"
   ]
  },
  {
   "cell_type": "code",
   "execution_count": 74,
   "id": "dd83c3f4",
   "metadata": {},
   "outputs": [
    {
     "name": "stdout",
     "output_type": "stream",
     "text": [
      "Help on class D in module __main__:\n",
      "\n",
      "class D(C)\n",
      " |  Method resolution order:\n",
      " |      D\n",
      " |      C\n",
      " |      B\n",
      " |      A\n",
      " |      builtins.object\n",
      " |  \n",
      " |  Methods defined here:\n",
      " |  \n",
      " |  __init__(self)\n",
      " |      Initialize self.  See help(type(self)) for accurate signature.\n",
      " |  \n",
      " |  m7(self)\n",
      " |  \n",
      " |  m8(self)\n",
      " |  \n",
      " |  ----------------------------------------------------------------------\n",
      " |  Methods inherited from C:\n",
      " |  \n",
      " |  m5(self)\n",
      " |  \n",
      " |  m6(self)\n",
      " |  \n",
      " |  ----------------------------------------------------------------------\n",
      " |  Methods inherited from B:\n",
      " |  \n",
      " |  m3(self)\n",
      " |  \n",
      " |  m4(self)\n",
      " |  \n",
      " |  ----------------------------------------------------------------------\n",
      " |  Methods inherited from A:\n",
      " |  \n",
      " |  m1(self)\n",
      " |  \n",
      " |  m2(self)\n",
      " |  \n",
      " |  ----------------------------------------------------------------------\n",
      " |  Data descriptors inherited from A:\n",
      " |  \n",
      " |  __dict__\n",
      " |      dictionary for instance variables (if defined)\n",
      " |  \n",
      " |  __weakref__\n",
      " |      list of weak references to the object (if defined)\n",
      "\n"
     ]
    }
   ],
   "source": [
    "help(D)"
   ]
  },
  {
   "cell_type": "markdown",
   "id": "8e38475d",
   "metadata": {},
   "source": [
    "**MRO**"
   ]
  },
  {
   "cell_type": "code",
   "execution_count": 75,
   "id": "6ddbcebd",
   "metadata": {},
   "outputs": [
    {
     "data": {
      "text/plain": [
       "[__main__.D, __main__.C, __main__.B, __main__.A, object]"
      ]
     },
     "execution_count": 75,
     "metadata": {},
     "output_type": "execute_result"
    }
   ],
   "source": [
    "D.mro()"
   ]
  },
  {
   "cell_type": "code",
   "execution_count": 76,
   "id": "b78d97f8",
   "metadata": {},
   "outputs": [
    {
     "data": {
      "text/plain": [
       "[__main__.C, __main__.B, __main__.A, object]"
      ]
     },
     "execution_count": 76,
     "metadata": {},
     "output_type": "execute_result"
    }
   ],
   "source": [
    "C.mro()"
   ]
  },
  {
   "cell_type": "code",
   "execution_count": null,
   "id": "baf66ea5",
   "metadata": {},
   "outputs": [],
   "source": []
  },
  {
   "cell_type": "code",
   "execution_count": 109,
   "id": "fcd4847d",
   "metadata": {},
   "outputs": [],
   "source": [
    "class A: #base class #parent class\n",
    "    def __init__(self):\n",
    "        self.x = 10\n",
    "        self.y = 20\n",
    "        print(\"This is Base\")\n",
    "    def m1(self):\n",
    "        print(\"Method1\")\n",
    "    def m3(self):\n",
    "        print(\"Method2\")\n",
    "\n",
    "class B(A): #derived class #child class\n",
    "    def __init__(self):\n",
    "        print(\"This is Derived class\")\n",
    "    def m4(self):\n",
    "        print(\"Method4\")"
   ]
  },
  {
   "cell_type": "code",
   "execution_count": 110,
   "id": "253c14f1",
   "metadata": {},
   "outputs": [
    {
     "name": "stdout",
     "output_type": "stream",
     "text": [
      "This is Base\n",
      "This is Derived class\n"
     ]
    }
   ],
   "source": [
    "a=A()\n",
    "b=B()"
   ]
  },
  {
   "cell_type": "code",
   "execution_count": 111,
   "id": "1fbbca02",
   "metadata": {},
   "outputs": [
    {
     "name": "stdout",
     "output_type": "stream",
     "text": [
      "Method2\n"
     ]
    }
   ],
   "source": [
    "b.m3()"
   ]
  },
  {
   "cell_type": "code",
   "execution_count": null,
   "id": "4c3b4aa8",
   "metadata": {},
   "outputs": [],
   "source": []
  },
  {
   "cell_type": "code",
   "execution_count": null,
   "id": "52427596",
   "metadata": {},
   "outputs": [],
   "source": []
  },
  {
   "cell_type": "code",
   "execution_count": null,
   "id": "4d549a9c",
   "metadata": {},
   "outputs": [],
   "source": []
  },
  {
   "cell_type": "markdown",
   "id": "7d45b017",
   "metadata": {},
   "source": [
    "### Multiple Inheritance"
   ]
  },
  {
   "attachments": {
    "image.png": {
     "image/png": "[encoded data removed]"
    }
   },
   "cell_type": "markdown",
   "id": "f6773aab",
   "metadata": {},
   "source": [
    "![image.png](attachment:image.png)"
   ]
  },
  {
   "cell_type": "code",
   "execution_count": 86,
   "id": "6638fbba",
   "metadata": {},
   "outputs": [],
   "source": [
    "class A: #m1 m2\n",
    "    def __init__(self):\n",
    "        self.a = 10\n",
    "        self.b = 20\n",
    "        print(\"This is Base\")\n",
    "    def m1(self):\n",
    "        print(\"Method1\")\n",
    "    def m2(self):\n",
    "        print(\"Method2\")\n",
    "\n",
    "class B: #m3 m4 \n",
    "    def __init__(self):\n",
    "        print(\"This is Derived class\")\n",
    "    def m3(self):\n",
    "        print(\"Method3\")\n",
    "    def m4(self):\n",
    "        print(\"Method4\")\n",
    "        \n",
    "class C: #m5 m6\n",
    "    def m5(self):\n",
    "        print(\"Method5\")\n",
    "    def m6(self):\n",
    "        print(\"Method6\")\n",
    "        \n",
    "class D(A,B,C):  #m7 m8 m1 m2 m3 m4 m5 m6\n",
    "    def m7(self): \n",
    "        print(\"Method7\")\n",
    "    def m8(self):\n",
    "        print(\"Method8\")"
   ]
  },
  {
   "cell_type": "code",
   "execution_count": 90,
   "id": "c89cec73",
   "metadata": {},
   "outputs": [
    {
     "data": {
      "text/plain": [
       "[__main__.A, object]"
      ]
     },
     "execution_count": 90,
     "metadata": {},
     "output_type": "execute_result"
    }
   ],
   "source": [
    "A.mro()"
   ]
  },
  {
   "cell_type": "code",
   "execution_count": 91,
   "id": "32881972",
   "metadata": {},
   "outputs": [
    {
     "data": {
      "text/plain": [
       "[__main__.B, object]"
      ]
     },
     "execution_count": 91,
     "metadata": {},
     "output_type": "execute_result"
    }
   ],
   "source": [
    "B.mro()"
   ]
  },
  {
   "cell_type": "code",
   "execution_count": 92,
   "id": "9aee0bdf",
   "metadata": {},
   "outputs": [
    {
     "data": {
      "text/plain": [
       "[__main__.C, object]"
      ]
     },
     "execution_count": 92,
     "metadata": {},
     "output_type": "execute_result"
    }
   ],
   "source": [
    "C.mro()"
   ]
  },
  {
   "cell_type": "code",
   "execution_count": 93,
   "id": "fb3aa634",
   "metadata": {},
   "outputs": [
    {
     "data": {
      "text/plain": [
       "[__main__.D, __main__.A, __main__.B, __main__.C, object]"
      ]
     },
     "execution_count": 93,
     "metadata": {},
     "output_type": "execute_result"
    }
   ],
   "source": [
    "D.mro()"
   ]
  },
  {
   "cell_type": "code",
   "execution_count": null,
   "id": "e027a8c2",
   "metadata": {},
   "outputs": [],
   "source": []
  },
  {
   "cell_type": "code",
   "execution_count": 94,
   "id": "fe0bf191",
   "metadata": {},
   "outputs": [
    {
     "name": "stdout",
     "output_type": "stream",
     "text": [
      "This is Base\n",
      "This is Derived class\n",
      "This is Base\n"
     ]
    }
   ],
   "source": [
    "a = A()\n",
    "b = B()\n",
    "c = C()\n",
    "d = D()"
   ]
  },
  {
   "cell_type": "code",
   "execution_count": 97,
   "id": "5862431b",
   "metadata": {},
   "outputs": [
    {
     "ename": "AttributeError",
     "evalue": "'A' object has no attribute 'm3'",
     "output_type": "error",
     "traceback": [
      "\u001b[1;31m---------------------------------------------------------------------------\u001b[0m",
      "\u001b[1;31mAttributeError\u001b[0m                            Traceback (most recent call last)",
      "Cell \u001b[1;32mIn[97], line 1\u001b[0m\n\u001b[1;32m----> 1\u001b[0m \u001b[43ma\u001b[49m\u001b[38;5;241;43m.\u001b[39;49m\u001b[43mm3\u001b[49m()\n",
      "\u001b[1;31mAttributeError\u001b[0m: 'A' object has no attribute 'm3'"
     ]
    }
   ],
   "source": [
    "a.m3()"
   ]
  },
  {
   "cell_type": "code",
   "execution_count": 96,
   "id": "f9d36cee",
   "metadata": {},
   "outputs": [
    {
     "name": "stdout",
     "output_type": "stream",
     "text": [
      "Method3\n"
     ]
    }
   ],
   "source": [
    "d.m3()"
   ]
  },
  {
   "cell_type": "code",
   "execution_count": null,
   "id": "546a68c2",
   "metadata": {},
   "outputs": [],
   "source": []
  },
  {
   "cell_type": "markdown",
   "id": "0f0819a1",
   "metadata": {},
   "source": [
    "Task : \n",
    "\n",
    "# real time example of hierarchial inheritance"
   ]
  },
  {
   "cell_type": "code",
   "execution_count": null,
   "id": "6cbaad5b",
   "metadata": {},
   "outputs": [],
   "source": []
  },
  {
   "cell_type": "code",
   "execution_count": null,
   "id": "7e92ff0b",
   "metadata": {},
   "outputs": [],
   "source": []
  },
  {
   "cell_type": "code",
   "execution_count": null,
   "id": "52255d12",
   "metadata": {},
   "outputs": [],
   "source": []
  },
  {
   "cell_type": "markdown",
   "id": "d9f0c218",
   "metadata": {},
   "source": [
    "## Hybrid Inheritance"
   ]
  },
  {
   "cell_type": "code",
   "execution_count": 100,
   "id": "f2da3dac",
   "metadata": {},
   "outputs": [],
   "source": [
    "class A: #m1,m2\n",
    "    def __init__(self):\n",
    "        self.a = 10\n",
    "        self.b = 20\n",
    "        print(\"This is Base\")\n",
    "    def m1(self):\n",
    "        print(\"Method1\")\n",
    "    def m2(self):\n",
    "        print(\"Method2\")\n",
    "\n",
    "class B(A): #m3,m4,m1,m2\n",
    "    def __init__(self):\n",
    "        print(\"This is Derived class\")\n",
    "    def m3(self):\n",
    "        print(\"Method3\")\n",
    "    def m4(self):\n",
    "        print(\"Method4\")\n",
    "        \n",
    "class C(B): #m5 m6 m3 m4 m1 m2\n",
    "    def __init__(self):\n",
    "        print(\"This is class C\")\n",
    "    def m5(self):\n",
    "        print(\"Method5\")\n",
    "    def m6(self):\n",
    "        print(\"Method6\")\n",
    "        \n",
    "class D(B): #m7 m8 m5 m6 m4 m1 m2\n",
    "    def __init__(self):\n",
    "        print(\"This is class D\")\n",
    "    def m7(self):\n",
    "        print(\"Method7_1\")\n",
    "    def m8(self):\n",
    "        print(\"Method8_1\")\n",
    "        \n",
    "class E(C,D): # m9 m10 m7 m8 m7 m8 ....m1 m2\n",
    "    def m9(self):\n",
    "        print(\"Method7_2\")\n",
    "    def m10(self):\n",
    "        print(\"Method8_2\")"
   ]
  },
  {
   "cell_type": "code",
   "execution_count": 101,
   "id": "8f3ae025",
   "metadata": {},
   "outputs": [
    {
     "name": "stdout",
     "output_type": "stream",
     "text": [
      "This is Base\n",
      "This is Derived class\n",
      "This is class C\n",
      "This is class D\n",
      "This is class C\n"
     ]
    }
   ],
   "source": [
    "a = A()\n",
    "b = B()\n",
    "c = C()\n",
    "d = D()\n",
    "e = E()"
   ]
  },
  {
   "cell_type": "code",
   "execution_count": 102,
   "id": "0c84ceb1",
   "metadata": {},
   "outputs": [
    {
     "ename": "AttributeError",
     "evalue": "'B' object has no attribute 'm6'",
     "output_type": "error",
     "traceback": [
      "\u001b[1;31m---------------------------------------------------------------------------\u001b[0m",
      "\u001b[1;31mAttributeError\u001b[0m                            Traceback (most recent call last)",
      "Cell \u001b[1;32mIn[102], line 1\u001b[0m\n\u001b[1;32m----> 1\u001b[0m \u001b[43mb\u001b[49m\u001b[38;5;241;43m.\u001b[39;49m\u001b[43mm6\u001b[49m()\n",
      "\u001b[1;31mAttributeError\u001b[0m: 'B' object has no attribute 'm6'"
     ]
    }
   ],
   "source": [
    "b.m6()"
   ]
  },
  {
   "cell_type": "code",
   "execution_count": 103,
   "id": "9e8ab01e",
   "metadata": {},
   "outputs": [
    {
     "data": {
      "text/plain": [
       "[__main__.E, __main__.C, __main__.D, __main__.B, __main__.A, object]"
      ]
     },
     "execution_count": 103,
     "metadata": {},
     "output_type": "execute_result"
    }
   ],
   "source": [
    "E.mro()"
   ]
  },
  {
   "cell_type": "code",
   "execution_count": 109,
   "id": "5b30d3e6",
   "metadata": {},
   "outputs": [],
   "source": [
    "# how mro is used\n",
    "\n",
    "class A: #base class #parent class\n",
    "    def __init__(self):\n",
    "        self.x = 10\n",
    "        self.y = 20\n",
    "        print(\"This is Base\")\n",
    "    def m1(self):\n",
    "        print(\"Method1 in base class\")\n",
    "    def m3(self):\n",
    "        print(\"Method2 in base class\")\n",
    "\n",
    "class B(A): #derived class #child class\n",
    "    def __init__(self):\n",
    "        print(\"This is Derived class\")\n",
    "    def m4(self):\n",
    "        print(\"Method4\")\n"
   ]
  },
  {
   "cell_type": "code",
   "execution_count": 110,
   "id": "b6be5850",
   "metadata": {},
   "outputs": [
    {
     "name": "stdout",
     "output_type": "stream",
     "text": [
      "This is Base\n",
      "This is Derived class\n"
     ]
    }
   ],
   "source": [
    "a=A()\n",
    "b=B()"
   ]
  },
  {
   "cell_type": "code",
   "execution_count": 111,
   "id": "04a494c0",
   "metadata": {},
   "outputs": [
    {
     "name": "stdout",
     "output_type": "stream",
     "text": [
      "Method1 in base class\n"
     ]
    }
   ],
   "source": [
    "b.m1()"
   ]
  },
  {
   "cell_type": "code",
   "execution_count": null,
   "id": "3035e31e",
   "metadata": {},
   "outputs": [],
   "source": []
  },
  {
   "cell_type": "code",
   "execution_count": 131,
   "id": "8edd3269",
   "metadata": {},
   "outputs": [],
   "source": [
    "# how mro is used\n",
    "\n",
    "class A: #base class #parent class\n",
    "    def __init__(self):\n",
    "        self.x = 10\n",
    "        self.y = 20\n",
    "        print(\"This is Base\")\n",
    "    def m1(self):\n",
    "        print(\"Method1 in base class\")\n",
    "    def m3(self):\n",
    "        print(\"Method2 in base class\")\n",
    "\n",
    "class B(A): #derived class #child class\n",
    "    def __init__(self):\n",
    "        print(\"This is Derived class\")        \n",
    "    def m1(self):\n",
    "        print(\"ramya\")\n",
    "    def m4(self):\n",
    "        print(\"Method4\")"
   ]
  },
  {
   "cell_type": "code",
   "execution_count": 134,
   "id": "1ff22677",
   "metadata": {},
   "outputs": [
    {
     "name": "stdout",
     "output_type": "stream",
     "text": [
      "This is Base\n",
      "This is Derived class\n"
     ]
    }
   ],
   "source": [
    "a=A()\n",
    "b=B()"
   ]
  },
  {
   "cell_type": "code",
   "execution_count": 125,
   "id": "3407e0c0",
   "metadata": {},
   "outputs": [
    {
     "name": "stdout",
     "output_type": "stream",
     "text": [
      "ramya\n"
     ]
    }
   ],
   "source": [
    "b.m1()"
   ]
  },
  {
   "cell_type": "markdown",
   "id": "305ff4e4",
   "metadata": {},
   "source": [
    "**super**\n",
    "\n",
    "\n",
    "super() is a built-in function that is commonly used in object-oriented programming to refer to the parent class or superclass. It provides a way to access and call methods or attributes from the parent class within a subclass. The super() function is particularly useful when you're working with inheritance and want to extend or override methods from the parent class in the subclass.super() is a built-in function that is commonly used in object-oriented programming to refer to the parent class or superclass. It provides a way to access and call methods or attributes from the parent class within a subclass. The super() function is particularly useful when you're working with inheritance and want to extend or override methods from the parent class in the subclass."
   ]
  },
  {
   "cell_type": "markdown",
   "id": "e53ac121",
   "metadata": {},
   "source": [
    "**1. uses cases of super in Initialization Method (__init__):**\n",
    "\n",
    "The most common use of super() is in the __init__ method of a subclass. This is used to initialize the attributes inherited from the parent class before adding new attributes specific to the subclass."
   ]
  },
  {
   "cell_type": "code",
   "execution_count": 159,
   "id": "494aade8",
   "metadata": {},
   "outputs": [
    {
     "name": "stdout",
     "output_type": "stream",
     "text": [
      "16\n"
     ]
    },
    {
     "ename": "AttributeError",
     "evalue": "'Child' object has no attribute 'name'",
     "output_type": "error",
     "traceback": [
      "\u001b[1;31m---------------------------------------------------------------------------\u001b[0m",
      "\u001b[1;31mAttributeError\u001b[0m                            Traceback (most recent call last)",
      "Cell \u001b[1;32mIn[159], line 11\u001b[0m\n\u001b[0;32m      9\u001b[0m c\u001b[38;5;241m=\u001b[39mChild(\u001b[38;5;241m16\u001b[39m)\n\u001b[0;32m     10\u001b[0m \u001b[38;5;28mprint\u001b[39m(c\u001b[38;5;241m.\u001b[39mage)\n\u001b[1;32m---> 11\u001b[0m \u001b[38;5;28mprint\u001b[39m(\u001b[43mc\u001b[49m\u001b[38;5;241;43m.\u001b[39;49m\u001b[43mname\u001b[49m)\n",
      "\u001b[1;31mAttributeError\u001b[0m: 'Child' object has no attribute 'name'"
     ]
    }
   ],
   "source": [
    "class Parent:\n",
    "    def __init__(self, name):\n",
    "        self.name = name\n",
    "\n",
    "class Child(Parent):\n",
    "    def __init__(self,age):\n",
    "        self.age = age\n",
    "        \n",
    "c=Child(16)\n",
    "print(c.age)\n",
    "print(c.name)"
   ]
  },
  {
   "cell_type": "code",
   "execution_count": 162,
   "id": "9724c4e2",
   "metadata": {},
   "outputs": [
    {
     "name": "stdout",
     "output_type": "stream",
     "text": [
      "ramya\n",
      "16\n"
     ]
    }
   ],
   "source": [
    "class Parent:\n",
    "    def __init__(self, name):\n",
    "        self.name = name\n",
    "\n",
    "class Child(Parent):\n",
    "    def __init__(self, name, age):\n",
    "        super().__init__(name)\n",
    "        self.age = age\n",
    "    \n",
    "        \n",
    "c=Child(\"ramya\",16)\n",
    "print(c.name)\n",
    "print(c.age)"
   ]
  },
  {
   "cell_type": "code",
   "execution_count": 164,
   "id": "94bf0c2b",
   "metadata": {},
   "outputs": [
    {
     "name": "stdout",
     "output_type": "stream",
     "text": [
      "ramya\n",
      "20\n"
     ]
    }
   ],
   "source": [
    "class Parent:\n",
    "    def __init__(self, name,first_name,last_name,address,ph_num):\n",
    "        self.name = name\n",
    "        self.first_name=first_name\n",
    "        self.last_name=last_name\n",
    "        self.address=address\n",
    "        self.ph_num=ph_num\n",
    "\n",
    "class Child:\n",
    "    def __init__(self,name,first_name,last_name,address,ph_num,age):\n",
    "        self.name=name\n",
    "        self.first_name=first_name\n",
    "        self.last_name=last_name\n",
    "        self.address=address\n",
    "        self.age = age\n",
    "        \n",
    "c=Child(\"ramya\",\"dkmf\",\"dmmf\",\"dfld\",\"wen\",20)\n",
    "print(c.name)\n",
    "print(c.age)"
   ]
  },
  {
   "cell_type": "code",
   "execution_count": 166,
   "id": "c689a5cf",
   "metadata": {},
   "outputs": [
    {
     "name": "stdout",
     "output_type": "stream",
     "text": [
      "ramya\n",
      "dkmf\n",
      "20\n"
     ]
    }
   ],
   "source": [
    "class Parent:\n",
    "    def __init__(self, name,first_name,last_name,address,ph_num):\n",
    "        self.name = name\n",
    "        self.first_name=first_name\n",
    "        self.last_name=last_name\n",
    "        self.address=address\n",
    "        self.ph_num=ph_num\n",
    "\n",
    "class Child(Parent):\n",
    "    def __init__(self,name,first_name,last_name,address,ph_num,age):\n",
    "        super().__init__(name,first_name,last_name,address,ph_num) #super().__init__(all properties)\n",
    "        self.age = age\n",
    "        \n",
    "c=Child(\"ramya\",\"dkmf\",\"dmmf\",\"dfld\",\"wen\",20)\n",
    "print(c.name)\n",
    "print(c.first_name)\n",
    "print(c.age)"
   ]
  },
  {
   "cell_type": "markdown",
   "id": "4c3fe598",
   "metadata": {},
   "source": [
    "method overiding refers to defining a method in a subclass with the same name as the one in its superclass. The subclass(child class) method then overrides the parent class(superclass) method."
   ]
  },
  {
   "cell_type": "code",
   "execution_count": 137,
   "id": "56077fa5",
   "metadata": {},
   "outputs": [
    {
     "name": "stdout",
     "output_type": "stream",
     "text": [
      "4\n"
     ]
    },
    {
     "ename": "AttributeError",
     "evalue": "'A' object has no attribute 'display_name_length'",
     "output_type": "error",
     "traceback": [
      "\u001b[1;31m---------------------------------------------------------------------------\u001b[0m",
      "\u001b[1;31mAttributeError\u001b[0m                            Traceback (most recent call last)",
      "Cell \u001b[1;32mIn[137], line 16\u001b[0m\n\u001b[0;32m     14\u001b[0m b\u001b[38;5;241m=\u001b[39mB(\u001b[38;5;124m\"\u001b[39m\u001b[38;5;124mpaul\u001b[39m\u001b[38;5;124m\"\u001b[39m,\u001b[38;5;241m20\u001b[39m)\n\u001b[0;32m     15\u001b[0m b\u001b[38;5;241m.\u001b[39mdisplay_name_length()\n\u001b[1;32m---> 16\u001b[0m \u001b[43ma\u001b[49m\u001b[38;5;241;43m.\u001b[39;49m\u001b[43mdisplay_name_length\u001b[49m()\n",
      "\u001b[1;31mAttributeError\u001b[0m: 'A' object has no attribute 'display_name_length'"
     ]
    }
   ],
   "source": [
    "class A:\n",
    "    def __init__(self,name):\n",
    "        self.name=name\n",
    "        \n",
    "class B(A):\n",
    "    def __init__(self,name,age):\n",
    "        self.name=name\n",
    "        self.age=age\n",
    "        \n",
    "    def display_name_length(xyz):\n",
    "        print(len(xyz.name))\n",
    "        \n",
    "a=A(\"ramya\")\n",
    "b=B(\"paul\",20)\n",
    "b.display_name_length()\n",
    "a.display_name_length()"
   ]
  },
  {
   "cell_type": "code",
   "execution_count": 139,
   "id": "d8d0cfa2",
   "metadata": {},
   "outputs": [
    {
     "name": "stdout",
     "output_type": "stream",
     "text": [
      "4 in class A\n",
      "5 in class A\n"
     ]
    }
   ],
   "source": [
    "class A:\n",
    "    def __init__(self,name):\n",
    "        self.name=name\n",
    "    def display_name_length(xyz):\n",
    "        print(len(xyz.name),\"in class A\")\n",
    "        \n",
    "class B(A):\n",
    "    def __init__(self,name,age):\n",
    "        self.name=name\n",
    "        self.age=age\n",
    "\n",
    "        \n",
    "a=A(\"ramya\")\n",
    "b=B(\"paul\",20)\n",
    "b.display_name_length()\n",
    "a.display_name_length()"
   ]
  },
  {
   "cell_type": "code",
   "execution_count": 142,
   "id": "3f157f53",
   "metadata": {},
   "outputs": [
    {
     "name": "stdout",
     "output_type": "stream",
     "text": [
      "24 in class B\n",
      "5 in class A\n"
     ]
    }
   ],
   "source": [
    "class A:\n",
    "    def __init__(self,name):\n",
    "        self.name=name\n",
    "    def display_name_length(xyz):\n",
    "        print(len(xyz.name),\"in class A\")\n",
    "        \n",
    "class B(A):\n",
    "    def __init__(self,name,age):\n",
    "        self.name=name\n",
    "        self.age=age\n",
    "    def display_name_length(xyz):\n",
    "        print(len(xyz.name)+xyz.age,\"in class B\")\n",
    "\n",
    "        \n",
    "a=A(\"ramya\")\n",
    "b=B(\"paul\",20)\n",
    "b.display_name_length()\n",
    "a.display_name_length()"
   ]
  },
  {
   "cell_type": "code",
   "execution_count": 144,
   "id": "ac691d52",
   "metadata": {},
   "outputs": [
    {
     "name": "stdout",
     "output_type": "stream",
     "text": [
      "24 in class B\n",
      "4 in class A\n"
     ]
    }
   ],
   "source": [
    "class A:\n",
    "    def __init__(self,name):\n",
    "        self.name=name\n",
    "    def display_name_length(xyz):\n",
    "        print(len(xyz.name),\"in class A\")\n",
    "        \n",
    "class B(A):\n",
    "    def __init__(self,name,age):\n",
    "        self.name=name\n",
    "        self.age=age\n",
    "    def display_name_length(xyz):\n",
    "        print(len(xyz.name)+xyz.age,\"in class B\")        \n",
    "        super().display_name_length()\n",
    "\n",
    "        \n",
    "a=A(\"ramya\")\n",
    "b=B(\"paul\",20)\n",
    "b.display_name_length()"
   ]
  },
  {
   "cell_type": "code",
   "execution_count": null,
   "id": "1cb76319",
   "metadata": {},
   "outputs": [],
   "source": []
  },
  {
   "cell_type": "code",
   "execution_count": 146,
   "id": "f2cecffc",
   "metadata": {},
   "outputs": [
    {
     "name": "stdout",
     "output_type": "stream",
     "text": [
      "Animal Speaking!\n"
     ]
    }
   ],
   "source": [
    "class Animal:\n",
    "    def speak(self):\n",
    "      print(\"Animal Speaking!\")\n",
    "class Dog(Animal):\n",
    "    pass\n",
    "        \n",
    "        \n",
    "obj = Dog() #child class\n",
    "obj.speak()"
   ]
  },
  {
   "cell_type": "code",
   "execution_count": 147,
   "id": "c0602adc",
   "metadata": {},
   "outputs": [
    {
     "name": "stdout",
     "output_type": "stream",
     "text": [
      "DOg is Barking!\n"
     ]
    }
   ],
   "source": [
    "class Animal:\n",
    "    def speak(self):\n",
    "      print(\"Animal Speaking!\")\n",
    "class Dog(Animal):\n",
    "    def speak(self):\n",
    "      print(\"DOg is Barking!\")\n",
    "        \n",
    "        \n",
    "obj = Dog() #child class\n",
    "obj.speak()"
   ]
  },
  {
   "cell_type": "code",
   "execution_count": 152,
   "id": "ffa3dc5f",
   "metadata": {},
   "outputs": [
    {
     "name": "stdout",
     "output_type": "stream",
     "text": [
      "DOg is Barking!\n",
      "Animal Speaking!\n"
     ]
    }
   ],
   "source": [
    "class Animal:\n",
    "    def speak(self):\n",
    "          print(\"Animal Speaking!\")\n",
    "class Dog(Animal):\n",
    "    def speak(self):\n",
    "        print(\"DOg is Barking!\")\n",
    "        super().speak()\n",
    "    \n",
    "        \n",
    "        \n",
    "obj = Dog() #child class\n",
    "obj.speak()"
   ]
  },
  {
   "cell_type": "code",
   "execution_count": null,
   "id": "0401cf16",
   "metadata": {},
   "outputs": [],
   "source": []
  },
  {
   "cell_type": "markdown",
   "id": "1b3fcc7a",
   "metadata": {},
   "source": [
    "**2. use cases of super in Method Overriding:**\n",
    "\n",
    "When a subclass wants to override a method that is already defined in its parent class, it can use super() to invoke the parent class's version of the method."
   ]
  },
  {
   "cell_type": "code",
   "execution_count": 153,
   "id": "f8815a86",
   "metadata": {},
   "outputs": [
    {
     "name": "stdout",
     "output_type": "stream",
     "text": [
      "temp2\n"
     ]
    }
   ],
   "source": [
    "class ParentClass:\n",
    "    def some_method(self):\n",
    "        print(\"ParentClass method\")\n",
    "\n",
    "class ChildClass(ParentClass):\n",
    "    def some_method(self):\n",
    "        print(\"temp2\")\n",
    "\n",
    "obj = ChildClass()\n",
    "obj.some_method()"
   ]
  },
  {
   "cell_type": "code",
   "execution_count": 154,
   "id": "c1693499",
   "metadata": {},
   "outputs": [
    {
     "name": "stdout",
     "output_type": "stream",
     "text": [
      "ParentClass method\n",
      "ChildClass method\n"
     ]
    }
   ],
   "source": [
    "class ParentClass:\n",
    "    def some_method(self):\n",
    "        print(\"ParentClass method\")\n",
    "\n",
    "class ChildClass(ParentClass):\n",
    "    def some_method(self):\n",
    "        super().some_method()\n",
    "        print(\"ChildClass method\")\n",
    "\n",
    "obj = ChildClass()\n",
    "obj.some_method()"
   ]
  },
  {
   "cell_type": "code",
   "execution_count": 155,
   "id": "838c3ff6",
   "metadata": {},
   "outputs": [
    {
     "name": "stdout",
     "output_type": "stream",
     "text": [
      "ChildClass method\n",
      "ParentClass method\n"
     ]
    }
   ],
   "source": [
    "class ParentClass:\n",
    "    def some_method(self):\n",
    "        print(\"ParentClass method\")\n",
    "\n",
    "class ChildClass(ParentClass):\n",
    "    def some_method(self):\n",
    "        print(\"ChildClass method\")\n",
    "        super().some_method()\n",
    "\n",
    "obj = ChildClass()\n",
    "obj.some_method()"
   ]
  },
  {
   "cell_type": "markdown",
   "id": "98ff0ce5",
   "metadata": {},
   "source": [
    "**Duck typing**\n",
    "\n",
    "is a concept in programming languages, including Python, where the type or the class of an object is determined by its behavior (methods and properties) rather than its explicit type or inheritance hierarchy. The term \"duck typing\" comes from the saying, \"If it looks like a duck, swims like a duck, and quacks like a duck, then it probably is a duck.\"\n",
    "\n",
    "In Python, duck typing allows you to use an object based on its behavior rather than its type. If an object supports a particular set of methods or attributes, it is considered to be of a certain type, regardless of its actual class or inheritance."
   ]
  },
  {
   "cell_type": "code",
   "execution_count": 167,
   "id": "683c3c70",
   "metadata": {},
   "outputs": [],
   "source": [
    "class Bird: \n",
    "    def swim(self): \n",
    "        print(\"fly with wings\") \n",
    "  \n",
    "class Airplane: \n",
    "    def fly(self): \n",
    "        print(\"fly with fuel\") \n",
    "  \n",
    "class Fish: \n",
    "    def swim(self): \n",
    "        print(\"fish swim in sea\") \n",
    "\n",
    "b=Bird()"
   ]
  },
  {
   "cell_type": "code",
   "execution_count": 168,
   "id": "e7f9cf4a",
   "metadata": {},
   "outputs": [
    {
     "name": "stdout",
     "output_type": "stream",
     "text": [
      "fly with wings\n"
     ]
    }
   ],
   "source": [
    "b.swim()"
   ]
  },
  {
   "cell_type": "markdown",
   "id": "9552debd",
   "metadata": {},
   "source": [
    " Duck-typing emphasis what the object can really do, rather than what the object is."
   ]
  },
  {
   "cell_type": "code",
   "execution_count": 169,
   "id": "e6537470",
   "metadata": {},
   "outputs": [
    {
     "name": "stdout",
     "output_type": "stream",
     "text": [
      "Woof!\n",
      "Meow!\n",
      "Quack!\n"
     ]
    }
   ],
   "source": [
    "class Dog:\n",
    "    def speak(self):\n",
    "        return \"Woof!\"\n",
    "\n",
    "class Cat:\n",
    "    def speak(self):\n",
    "        return \"Meow!\"\n",
    "\n",
    "class Duck:\n",
    "    def speak(self):\n",
    "        return \"Quack!\"\n",
    "\n",
    "def animal_sound(animal):\n",
    "    return animal.speak()\n",
    "\n",
    "# Usage\n",
    "dog = Dog()\n",
    "cat = Cat()\n",
    "duck = Duck()\n",
    "\n",
    "print(animal_sound(dog))  # Output: Woof!\n",
    "print(animal_sound(cat))  # Output: Meow!\n",
    "print(animal_sound(duck))  # Output: Quack!"
   ]
  },
  {
   "cell_type": "code",
   "execution_count": 170,
   "id": "b9e125d0",
   "metadata": {},
   "outputs": [
    {
     "name": "stdout",
     "output_type": "stream",
     "text": [
      "Woof!\n",
      "Woof!\n",
      "Woof!\n"
     ]
    }
   ],
   "source": [
    "class Dog:\n",
    "    def speak(self):\n",
    "        return \"Woof!\"\n",
    "\n",
    "class Cat(Dog):\n",
    "    pass\n",
    "\n",
    "class Duck(Cat):\n",
    "    pass\n",
    "\n",
    "def animal_sound(animal):\n",
    "    return animal.speak()\n",
    "\n",
    "# Usage\n",
    "dog = Dog()\n",
    "cat = Cat()\n",
    "duck = Duck()\n",
    "\n",
    "print(animal_sound(dog))  # Output: Woof!\n",
    "print(animal_sound(cat))  # Output: Meow!\n",
    "print(animal_sound(duck))  # Output: Quack!"
   ]
  },
  {
   "cell_type": "code",
   "execution_count": null,
   "id": "34f13a5f",
   "metadata": {},
   "outputs": [],
   "source": []
  },
  {
   "cell_type": "markdown",
   "id": "f8b5f32f",
   "metadata": {},
   "source": [
    "even methods are same for different classes but by creating different objects we can invoke those methods"
   ]
  }
 ],
 "metadata": {
  "kernelspec": {
   "display_name": "Python 3 (ipykernel)",
   "language": "python",
   "name": "python3"
  },
  "language_info": {
   "codemirror_mode": {
    "name": "ipython",
    "version": 3
   },
   "file_extension": ".py",
   "mimetype": "text/x-python",
   "name": "python",
   "nbconvert_exporter": "python",
   "pygments_lexer": "ipython3",
   "version": "3.10.9"
  }
 },
 "nbformat": 4,
 "nbformat_minor": 5
}
