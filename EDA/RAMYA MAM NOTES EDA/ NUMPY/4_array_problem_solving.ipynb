{
 "cells": [
  {
   "cell_type": "markdown",
   "metadata": {},
   "source": [
    "**Exercise: Given an array [1, -10, 2, 3, 0, 6], print the array in this order [0, 6, -10, 2, 1, 3]**"
   ]
  },
  {
   "cell_type": "code",
   "execution_count": 1,
   "metadata": {},
   "outputs": [
    {
     "name": "stdout",
     "output_type": "stream",
     "text": [
      "[  0   6 -10   2   1   3]\n"
     ]
    }
   ],
   "source": [
    "import numpy as np\n",
    "arr=np.array([1,-10,2,3,0,6])\n",
    "print(arr[[4,5,1,2,0,3]])"
   ]
  },
  {
   "cell_type": "markdown",
   "metadata": {},
   "source": [
    "#### Updating Data in Numpy Array"
   ]
  },
  {
   "cell_type": "code",
   "execution_count": 3,
   "metadata": {
    "ExecuteTime": {
     "end_time": "2018-08-08T17:13:26.530550Z",
     "start_time": "2018-08-08T17:13:26.525565Z"
    }
   },
   "outputs": [
    {
     "name": "stdout",
     "output_type": "stream",
     "text": [
      "Original Array: \n",
      " [[39 63  6 89]\n",
      " [24  6 25 58]\n",
      " [88 72 34 36]\n",
      " [65 73 69 50]\n",
      " [40 86 83 58]]\n"
     ]
    }
   ],
   "source": [
    "# Updating value in the array\n",
    "\n",
    "# Randomly generating 2 dimensional array\n",
    "arr = np.random.randint(100, size=(5, 4))\n",
    "\n",
    "print(\"Original Array: \\n\", arr)"
   ]
  },
  {
   "cell_type": "code",
   "execution_count": 5,
   "metadata": {},
   "outputs": [
    {
     "data": {
      "text/plain": [
       "6"
      ]
     },
     "execution_count": 5,
     "metadata": {},
     "output_type": "execute_result"
    }
   ],
   "source": [
    "arr[1,1]"
   ]
  },
  {
   "cell_type": "code",
   "execution_count": 7,
   "metadata": {},
   "outputs": [
    {
     "name": "stdout",
     "output_type": "stream",
     "text": [
      "Updated Array: \n",
      " [[ 39  63   6  89]\n",
      " [ 24 170  25  58]\n",
      " [ 88  72  34  36]\n",
      " [ 65  73  69  50]\n",
      " [ 40  86  83  58]]\n"
     ]
    }
   ],
   "source": [
    "arr[1, 1] = 170\n",
    "\n",
    "print(\"Updated Array: \\n\", arr)"
   ]
  },
  {
   "cell_type": "code",
   "execution_count": null,
   "metadata": {},
   "outputs": [],
   "source": []
  },
  {
   "cell_type": "markdown",
   "metadata": {},
   "source": [
    "## Numpy Flatten and Ravel"
   ]
  },
  {
   "cell_type": "code",
   "execution_count": 9,
   "metadata": {},
   "outputs": [
    {
     "name": "stdout",
     "output_type": "stream",
     "text": [
      "Numpy Array: \n",
      " [[32 11 28 25 13 11 32 30 10 11]\n",
      " [24 31 35 39 39 24 34 17 21 26]\n",
      " [33 28 12 21 22 38 33 38 20 30]\n",
      " [27 27 18 30 11 23 32 34 38 17]\n",
      " [30 25 28 23 19 17 11 24 15 34]]\n",
      "Shape:  (5, 10)\n"
     ]
    }
   ],
   "source": [
    "# Randomly generate a 5*10 array containing values in the range of 10 to 39\n",
    "arr = np.random.randint(10, 40, size = (5, 10))\n",
    "\n",
    "print(\"Numpy Array: \\n\", arr)\n",
    "\n",
    "print(\"Shape: \", arr.shape)"
   ]
  },
  {
   "cell_type": "code",
   "execution_count": 15,
   "metadata": {},
   "outputs": [],
   "source": [
    "arr[-1][-3] = 1000000"
   ]
  },
  {
   "cell_type": "code",
   "execution_count": 17,
   "metadata": {},
   "outputs": [
    {
     "data": {
      "text/plain": [
       "array([32, 11, 28, 25, 13, 11, 32, 30, 10, 11, 24, 31, 35, 39, 39, 24, 34,\n",
       "       17, 21, 26, 33, 28, 12, 21, 22, 38, 33, 38, 20, 30, 27, 27, 18, 30,\n",
       "       11, 23, 32, 34, 38, 17, 30, 25, 28, 23, 19, 17, 11, 24, 15, 34])"
      ]
     },
     "execution_count": 17,
     "metadata": {},
     "output_type": "execute_result"
    }
   ],
   "source": [
    "k1"
   ]
  },
  {
   "cell_type": "code",
   "execution_count": 19,
   "metadata": {},
   "outputs": [
    {
     "data": {
      "text/plain": [
       "array([     32,      11,      28,      25,      13,      11,      32,\n",
       "            30,      10,      11,      24,      31,      35,      39,\n",
       "            39,      24,      34,      17,      21,      26,      33,\n",
       "            28,      12,      21,      22,      38,      33,      38,\n",
       "            20,      30,      27,      27,      18,      30,      11,\n",
       "            23,      32,      34,      38,      17,      30,      25,\n",
       "            28,      23,      19,      17,      11, 1000000,      15,\n",
       "            34])"
      ]
     },
     "execution_count": 19,
     "metadata": {},
     "output_type": "execute_result"
    }
   ],
   "source": [
    "k2"
   ]
  },
  {
   "cell_type": "code",
   "execution_count": null,
   "metadata": {},
   "outputs": [],
   "source": []
  },
  {
   "cell_type": "code",
   "execution_count": 11,
   "metadata": {},
   "outputs": [
    {
     "data": {
      "text/plain": [
       "array([32, 11, 28, 25, 13, 11, 32, 30, 10, 11, 24, 31, 35, 39, 39, 24, 34,\n",
       "       17, 21, 26, 33, 28, 12, 21, 22, 38, 33, 38, 20, 30, 27, 27, 18, 30,\n",
       "       11, 23, 32, 34, 38, 17, 30, 25, 28, 23, 19, 17, 11, 24, 15, 34])"
      ]
     },
     "execution_count": 11,
     "metadata": {},
     "output_type": "execute_result"
    }
   ],
   "source": [
    "k1= arr.flatten()\n",
    "k1"
   ]
  },
  {
   "cell_type": "code",
   "execution_count": 13,
   "metadata": {},
   "outputs": [
    {
     "data": {
      "text/plain": [
       "array([32, 11, 28, 25, 13, 11, 32, 30, 10, 11, 24, 31, 35, 39, 39, 24, 34,\n",
       "       17, 21, 26, 33, 28, 12, 21, 22, 38, 33, 38, 20, 30, 27, 27, 18, 30,\n",
       "       11, 23, 32, 34, 38, 17, 30, 25, 28, 23, 19, 17, 11, 24, 15, 34])"
      ]
     },
     "execution_count": 13,
     "metadata": {},
     "output_type": "execute_result"
    }
   ],
   "source": [
    "k2= arr.ravel()\n",
    "k2"
   ]
  },
  {
   "cell_type": "code",
   "execution_count": 10,
   "metadata": {},
   "outputs": [],
   "source": [
    "arr[0,2] =1340000"
   ]
  },
  {
   "cell_type": "code",
   "execution_count": null,
   "metadata": {},
   "outputs": [],
   "source": []
  },
  {
   "cell_type": "code",
   "execution_count": 13,
   "metadata": {},
   "outputs": [
    {
     "data": {
      "text/plain": [
       "array([[     17,      38, 1340000,      27,      14,      26,      28,\n",
       "             13,      18,      21],\n",
       "       [     22,      36,      38,      35,      38,      37,      38,\n",
       "             35,      38,      22],\n",
       "       [     34,      16,      17,      19,      19,      27,      38,\n",
       "             11,      37,      27],\n",
       "       [     25,      22,      17,      12,      17,      17,      39,\n",
       "             14,      28,      28],\n",
       "       [     10,      20,      36,      19,      30,      27,      20,\n",
       "             21,      33,      28]])"
      ]
     },
     "execution_count": 13,
     "metadata": {},
     "output_type": "execute_result"
    }
   ],
   "source": [
    "arr"
   ]
  },
  {
   "cell_type": "code",
   "execution_count": 12,
   "metadata": {},
   "outputs": [
    {
     "name": "stdout",
     "output_type": "stream",
     "text": [
      "[[     17      38 1340000      27      14      26      28      13      18\n",
      "       21]\n",
      " [     22      36      38      35      38      37      38      35      38\n",
      "       22]\n",
      " [     34      16      17      19      19      27      38      11      37\n",
      "       27]\n",
      " [     25      22      17      12      17      17      39      14      28\n",
      "       28]\n",
      " [     10      20      36      19      30      27      20      21      33\n",
      "       28]]\n"
     ]
    }
   ],
   "source": [
    "print(arr)"
   ]
  },
  {
   "cell_type": "code",
   "execution_count": 14,
   "metadata": {},
   "outputs": [
    {
     "name": "stdout",
     "output_type": "stream",
     "text": [
      "[17 38 27 27 14 26 28 13 18 21 22 36 38 35 38 37 38 35 38 22 34 16 17 19\n",
      " 19 27 38 11 37 27 25 22 17 12 17 17 39 14 28 28 10 20 36 19 30 27 20 21\n",
      " 33 28]\n"
     ]
    }
   ],
   "source": [
    "print(k1)"
   ]
  },
  {
   "cell_type": "code",
   "execution_count": 15,
   "metadata": {},
   "outputs": [
    {
     "name": "stdout",
     "output_type": "stream",
     "text": [
      "[     17      38 1340000      27      14      26      28      13      18\n",
      "      21      22      36      38      35      38      37      38      35\n",
      "      38      22      34      16      17      19      19      27      38\n",
      "      11      37      27      25      22      17      12      17      17\n",
      "      39      14      28      28      10      20      36      19      30\n",
      "      27      20      21      33      28]\n"
     ]
    }
   ],
   "source": [
    "print(k2)"
   ]
  },
  {
   "cell_type": "markdown",
   "metadata": {},
   "source": [
    "#### Look's like both are performing fatten operation on the array data. But is there any difference between two functions?\n",
    "\n",
    "ravel is like mirror view of orginal array if org array changes ravel array changes\n",
    "\n",
    "flatten will take different memory location"
   ]
  },
  {
   "cell_type": "markdown",
   "metadata": {},
   "source": [
    "#### Observation\n",
    "Ravel is faster than flatten() as it does not occupy any memory. Ravel returns a view of the original array."
   ]
  },
  {
   "cell_type": "markdown",
   "metadata": {},
   "source": [
    "**Task : Copy() vs View()**"
   ]
  },
  {
   "cell_type": "markdown",
   "metadata": {},
   "source": [
    "## Iterating over Numpy Array"
   ]
  },
  {
   "cell_type": "markdown",
   "metadata": {},
   "source": [
    "#### Iterating over a 1 Dimensional Array"
   ]
  },
  {
   "cell_type": "code",
   "execution_count": 23,
   "metadata": {},
   "outputs": [
    {
     "name": "stdout",
     "output_type": "stream",
     "text": [
      "Numpy Array: \n",
      " [36 13 14 39 24 19 19 15 11 23]\n",
      "Shape:  (10,)\n"
     ]
    }
   ],
   "source": [
    "# Randomly generate an array containing values in the range of 10 to 39\n",
    "import numpy as np\n",
    "\n",
    "arr1d = np.random.randint(10, 40, size = (10, ))\n",
    "\n",
    "print(\"Numpy Array: \\n\", arr1d)\n",
    "\n",
    "print(\"Shape: \", arr1d.shape)"
   ]
  },
  {
   "cell_type": "code",
   "execution_count": 25,
   "metadata": {},
   "outputs": [
    {
     "name": "stdout",
     "output_type": "stream",
     "text": [
      "36\n",
      "13\n",
      "14\n",
      "39\n",
      "24\n",
      "19\n",
      "19\n",
      "15\n",
      "11\n",
      "23\n"
     ]
    }
   ],
   "source": [
    "# Looping over items in the array\n",
    "for i in arr1d:\n",
    "    print(i)"
   ]
  },
  {
   "cell_type": "code",
   "execution_count": 27,
   "metadata": {},
   "outputs": [
    {
     "data": {
      "text/plain": [
       "array([36, 13, 14, 39, 24, 19, 19, 15, 11, 23])"
      ]
     },
     "execution_count": 27,
     "metadata": {},
     "output_type": "execute_result"
    }
   ],
   "source": [
    "arr1d"
   ]
  },
  {
   "cell_type": "code",
   "execution_count": 29,
   "metadata": {},
   "outputs": [
    {
     "name": "stdout",
     "output_type": "stream",
     "text": [
      "0 --- 36\n",
      "1 --- 13\n",
      "2 --- 14\n",
      "3 --- 39\n",
      "4 --- 24\n",
      "5 --- 19\n",
      "6 --- 19\n",
      "7 --- 15\n",
      "8 --- 11\n",
      "9 --- 23\n"
     ]
    }
   ],
   "source": [
    "# Looping over indexes in the array\n",
    "for i in range(arr1d.size):\n",
    "    print(i,\"---\",arr1d[i])"
   ]
  },
  {
   "cell_type": "code",
   "execution_count": 35,
   "metadata": {},
   "outputs": [
    {
     "data": {
      "text/plain": [
       "array([36, 13, 14, 39, 24, 19, 19, 15, 11, 23])"
      ]
     },
     "execution_count": 35,
     "metadata": {},
     "output_type": "execute_result"
    }
   ],
   "source": [
    "arr1d"
   ]
  },
  {
   "cell_type": "code",
   "execution_count": 39,
   "metadata": {},
   "outputs": [
    {
     "name": "stdout",
     "output_type": "stream",
     "text": [
      "36\n",
      "14\n",
      "24\n",
      "19\n",
      "11\n"
     ]
    }
   ],
   "source": [
    "# print elements at even indexes\n",
    "# o/p :  14,29,26,37,30\n",
    "\n",
    "for i in range(arr1d.size):\n",
    "    if i%2==0:\n",
    "        print(arr1d[i])"
   ]
  },
  {
   "cell_type": "code",
   "execution_count": 41,
   "metadata": {},
   "outputs": [
    {
     "name": "stdout",
     "output_type": "stream",
     "text": [
      "36\n",
      "14\n",
      "24\n"
     ]
    }
   ],
   "source": [
    "# print even elements in the array\n",
    "for i in arr1d:\n",
    "    if i%2==0:\n",
    "        print(i)"
   ]
  },
  {
   "cell_type": "code",
   "execution_count": 45,
   "metadata": {},
   "outputs": [
    {
     "data": {
      "text/plain": [
       "array([36, 13, 14, 39, 24, 19, 19, 15, 11, 23])"
      ]
     },
     "execution_count": 45,
     "metadata": {},
     "output_type": "execute_result"
    }
   ],
   "source": [
    "#using Boolean indexing\n",
    "arr1d"
   ]
  },
  {
   "cell_type": "code",
   "execution_count": 51,
   "metadata": {},
   "outputs": [
    {
     "data": {
      "text/plain": [
       "array([36, 14, 24])"
      ]
     },
     "execution_count": 51,
     "metadata": {},
     "output_type": "execute_result"
    }
   ],
   "source": [
    "arr1d[arr1d%2==0]"
   ]
  },
  {
   "cell_type": "code",
   "execution_count": null,
   "metadata": {},
   "outputs": [],
   "source": []
  },
  {
   "cell_type": "code",
   "execution_count": null,
   "metadata": {},
   "outputs": [],
   "source": []
  },
  {
   "cell_type": "code",
   "execution_count": 49,
   "metadata": {},
   "outputs": [],
   "source": [
    "#np.where(a%2==0,a,0)"
   ]
  },
  {
   "cell_type": "code",
   "execution_count": null,
   "metadata": {},
   "outputs": [],
   "source": []
  },
  {
   "cell_type": "markdown",
   "metadata": {},
   "source": [
    "## Iterating over a 2 Dimensional Array"
   ]
  },
  {
   "cell_type": "code",
   "execution_count": null,
   "metadata": {},
   "outputs": [],
   "source": []
  },
  {
   "cell_type": "code",
   "execution_count": 53,
   "metadata": {},
   "outputs": [
    {
     "name": "stdout",
     "output_type": "stream",
     "text": [
      "Numpy Array: \n",
      " [[20 38 31 38 38 32 13 19 10 18]\n",
      " [35 24 16 25 31 12 34 26 25 10]\n",
      " [26 11 21 28 25 14 33 32 14 20]\n",
      " [36 39 35 14 14 32 27 12 23 24]\n",
      " [14 23 30 20 34 20 32 34 12 30]]\n",
      "Shape:  (5, 10)\n"
     ]
    }
   ],
   "source": [
    "# Randomly generate a 5*10 array containing values in the range of 10 to 39\n",
    "import numpy as np\n",
    "arr2d = np.random.randint(10, 40, size = (5, 10))\n",
    "print(\"Numpy Array: \\n\", arr2d)\n",
    "print(\"Shape: \", arr2d.shape)"
   ]
  },
  {
   "cell_type": "markdown",
   "metadata": {},
   "source": [
    "### looping with elements"
   ]
  },
  {
   "cell_type": "code",
   "execution_count": 68,
   "metadata": {},
   "outputs": [
    {
     "data": {
      "text/plain": [
       "array([[20, 38, 31, 38, 38, 32, 13, 19, 10, 18],\n",
       "       [35, 24, 16, 25, 31, 12, 34, 26, 25, 10],\n",
       "       [26, 11, 21, 28, 25, 14, 33, 32, 14, 20],\n",
       "       [36, 39, 35, 14, 14, 32, 27, 12, 23, 24],\n",
       "       [14, 23, 30, 20, 34, 20, 32, 34, 12, 30]])"
      ]
     },
     "execution_count": 68,
     "metadata": {},
     "output_type": "execute_result"
    }
   ],
   "source": [
    "arr2d"
   ]
  },
  {
   "cell_type": "code",
   "execution_count": 72,
   "metadata": {},
   "outputs": [
    {
     "name": "stdout",
     "output_type": "stream",
     "text": [
      "20 38 31 38 38 32 13 19 10 18 35 24 16 25 31 12 34 26 25 10 26 11 21 28 25 14 33 32 14 20 36 39 35 14 14 32 27 12 23 24 14 23 30 20 34 20 32 34 12 30 "
     ]
    }
   ],
   "source": [
    "#o(n)\n",
    "for i in arr2d.ravel():\n",
    "    print(i,end=\" \")"
   ]
  },
  {
   "cell_type": "code",
   "execution_count": null,
   "metadata": {},
   "outputs": [],
   "source": []
  },
  {
   "cell_type": "code",
   "execution_count": 66,
   "metadata": {},
   "outputs": [
    {
     "name": "stdout",
     "output_type": "stream",
     "text": [
      "20 38 31 38 38 32 13 19 10 18 \n",
      "---\n",
      "35 24 16 25 31 12 34 26 25 10 \n",
      "---\n",
      "26 11 21 28 25 14 33 32 14 20 \n",
      "---\n",
      "36 39 35 14 14 32 27 12 23 24 \n",
      "---\n",
      "14 23 30 20 34 20 32 34 12 30 \n",
      "---\n"
     ]
    }
   ],
   "source": [
    "#t.c -- o(n2)\n",
    "for i in arr2d:\n",
    "    for j in i:\n",
    "        print(j,end=\" \")\n",
    "    print()\n",
    "    print(\"---\")"
   ]
  },
  {
   "cell_type": "code",
   "execution_count": 58,
   "metadata": {},
   "outputs": [
    {
     "name": "stdout",
     "output_type": "stream",
     "text": [
      "MOM\n",
      "RAMYA\n",
      "KHAN\n",
      "GIRIJA\n"
     ]
    }
   ],
   "source": [
    "for i in temp:\n",
    "    for j in i:\n",
    "        print(j.upper())"
   ]
  },
  {
   "cell_type": "code",
   "execution_count": 61,
   "metadata": {},
   "outputs": [
    {
     "name": "stdout",
     "output_type": "stream",
     "text": [
      "MOM\n",
      "RAMYA\n",
      "KHAN\n",
      "GIRIJA\n"
     ]
    }
   ],
   "source": [
    "for i in temp.ravel():\n",
    "    print(i.upper())"
   ]
  },
  {
   "cell_type": "code",
   "execution_count": 62,
   "metadata": {},
   "outputs": [
    {
     "data": {
      "text/plain": [
       "array([['mom', 'ramya'],\n",
       "       ['khan', 'girija']], dtype='<U6')"
      ]
     },
     "execution_count": 62,
     "metadata": {},
     "output_type": "execute_result"
    }
   ],
   "source": [
    "temp"
   ]
  },
  {
   "cell_type": "code",
   "execution_count": 67,
   "metadata": {},
   "outputs": [
    {
     "data": {
      "text/plain": [
       "array([['MOM', 'RAMYA'],\n",
       "       ['KHAN', 'GIRIJA']], dtype='<U6')"
      ]
     },
     "execution_count": 67,
     "metadata": {},
     "output_type": "execute_result"
    }
   ],
   "source": [
    "np.char.upper(temp)"
   ]
  },
  {
   "cell_type": "code",
   "execution_count": null,
   "metadata": {},
   "outputs": [],
   "source": []
  },
  {
   "cell_type": "code",
   "execution_count": null,
   "metadata": {},
   "outputs": [],
   "source": []
  },
  {
   "cell_type": "code",
   "execution_count": 53,
   "metadata": {},
   "outputs": [
    {
     "name": "stdout",
     "output_type": "stream",
     "text": [
      "[20 35 33 14 13 40 17 15 18 23]\n",
      "----\n",
      "[14 26 28 23 39 29 36 39 39 40]\n",
      "----\n",
      "[36 29 27 35 12 39 22 13 32 23]\n",
      "----\n",
      "[26 27 29 31 31 19 33 26 39 18]\n",
      "----\n",
      "[29 19 39 24 26 28 29 25 17 24]\n",
      "----\n"
     ]
    }
   ],
   "source": [
    "# Looping over rows in the 2d array\n",
    "for i in arr2d:\n",
    "    print(i)\n",
    "    print(\"----\")"
   ]
  },
  {
   "cell_type": "code",
   "execution_count": 52,
   "metadata": {},
   "outputs": [
    {
     "name": "stdout",
     "output_type": "stream",
     "text": [
      "18\n",
      "33\n",
      "31\n",
      "12\n",
      "11\n",
      "38\n",
      "15\n",
      "13\n",
      "16\n",
      "21\n",
      "----\n",
      "12\n",
      "24\n",
      "26\n",
      "21\n",
      "37\n",
      "27\n",
      "34\n",
      "37\n",
      "37\n",
      "38\n",
      "----\n",
      "34\n",
      "27\n",
      "25\n",
      "33\n",
      "10\n",
      "37\n",
      "20\n",
      "11\n",
      "30\n",
      "21\n",
      "----\n",
      "24\n",
      "25\n",
      "27\n",
      "29\n",
      "29\n",
      "17\n",
      "31\n",
      "24\n",
      "37\n",
      "16\n",
      "----\n",
      "27\n",
      "17\n",
      "37\n",
      "22\n",
      "24\n",
      "26\n",
      "27\n",
      "23\n",
      "15\n",
      "22\n",
      "----\n"
     ]
    }
   ],
   "source": [
    "# Looping over rows in the 2d array\n",
    "for i in arr2d:\n",
    "    for j in i:\n",
    "        print(j)\n",
    "    print(\"----\")"
   ]
  },
  {
   "cell_type": "code",
   "execution_count": 35,
   "metadata": {},
   "outputs": [
    {
     "name": "stdout",
     "output_type": "stream",
     "text": [
      "26\n",
      "26\n",
      "29\n",
      "37\n",
      "16\n",
      "22\n",
      "32\n",
      "38\n",
      "17\n",
      "28\n",
      "---\n",
      "34\n",
      "31\n",
      "24\n",
      "13\n",
      "28\n",
      "36\n",
      "14\n",
      "38\n",
      "11\n",
      "15\n",
      "---\n",
      "11\n",
      "10\n",
      "29\n",
      "19\n",
      "22\n",
      "24\n",
      "19\n",
      "30\n",
      "22\n",
      "37\n",
      "---\n",
      "10\n",
      "11\n",
      "36\n",
      "27\n",
      "32\n",
      "34\n",
      "25\n",
      "26\n",
      "33\n",
      "20\n",
      "---\n",
      "35\n",
      "24\n",
      "31\n",
      "38\n",
      "12\n",
      "12\n",
      "35\n",
      "33\n",
      "18\n",
      "27\n",
      "---\n"
     ]
    }
   ],
   "source": [
    "#element wise iteration in 2d ararys\n",
    "import numpy as np\n",
    "for i in arr2d:\n",
    "    for j in i:\n",
    "        print(j)\n",
    "    print(\"---\")"
   ]
  },
  {
   "cell_type": "markdown",
   "metadata": {},
   "source": [
    "### looping with indexing"
   ]
  },
  {
   "cell_type": "code",
   "execution_count": 74,
   "metadata": {},
   "outputs": [
    {
     "data": {
      "text/plain": [
       "(5, 10)"
      ]
     },
     "execution_count": 74,
     "metadata": {},
     "output_type": "execute_result"
    }
   ],
   "source": [
    "import numpy as np\n",
    "arr2d = np.array([[33, 29, 18, 13, 33, 25, 27, 18, 1, 39],\n",
    "       [36, 11, 14, 34, 38, 31, 11, 34, 38, 2],\n",
    "       [16, 4, 34, 34,5, 39, 12, 22, 3, 14],\n",
    "       [39, 2, 19, 13, 17, 31, 28, 12,5, 37],\n",
    "       [30, 33, 5, 29, 19, 20, 35, 13, 23, 11]])\n",
    "t=arr2d.shape\n",
    "t"
   ]
  },
  {
   "cell_type": "code",
   "execution_count": 84,
   "metadata": {},
   "outputs": [
    {
     "name": "stdout",
     "output_type": "stream",
     "text": [
      "33 29 18 13 33 25 27 18 1 39 36 11 14 34 38 31 11 34 38 2 16 4 34 34 5 39 12 22 3 14 39 2 19 13 17 31 28 12 5 37 30 33 5 29 19 20 35 13 23 11 "
     ]
    }
   ],
   "source": [
    "#iterating using indexing in 2d arrays (using only rows)\n",
    "rows=t[0]\n",
    "cols=t[1]\n",
    "for i in range(rows):\n",
    "    for j in range(cols):\n",
    "        print(arr2d[i,j],end=\" \")"
   ]
  },
  {
   "cell_type": "code",
   "execution_count": 66,
   "metadata": {},
   "outputs": [
    {
     "data": {
      "text/plain": [
       "array([[33, 29, 18, 13, 33, 25, 27, 18,  1, 39],\n",
       "       [36, 11, 14, 34, 38, 31, 11, 34, 38,  2],\n",
       "       [16,  4, 34, 34,  5, 39, 12, 22,  3, 14],\n",
       "       [39,  2, 19, 13, 17, 31, 28, 12,  5, 37],\n",
       "       [30, 33,  5, 29, 19, 20, 35, 13, 23, 11]])"
      ]
     },
     "execution_count": 66,
     "metadata": {},
     "output_type": "execute_result"
    }
   ],
   "source": [
    "arr2d"
   ]
  },
  {
   "cell_type": "markdown",
   "metadata": {},
   "source": [
    "**iterating elements in 2d arrays using only one for loop with ravel**"
   ]
  },
  {
   "cell_type": "code",
   "execution_count": 73,
   "metadata": {},
   "outputs": [
    {
     "name": "stdout",
     "output_type": "stream",
     "text": [
      "33 29 18 13 33 25 27 18 1 39 36 11 14 34 38 31 11 34 38 2 16 4 34 34 5 39 12 22 3 14 39 2 19 13 17 31 28 12 5 37 30 33 5 29 19 20 35 13 23 11 "
     ]
    }
   ],
   "source": [
    "# Looping over each item in the 2d array\n",
    "for i in arr2d.ravel():\n",
    "    print(i, end=\" \")"
   ]
  },
  {
   "cell_type": "code",
   "execution_count": 74,
   "metadata": {},
   "outputs": [
    {
     "name": "stdout",
     "output_type": "stream",
     "text": [
      "18 18 36 14 34 38 34 38 2 16 4 34 34 12 22 14 2 28 12 30 20 "
     ]
    }
   ],
   "source": [
    "# Looping over each even element in the 2d array\n",
    "for i in arr2d.ravel():\n",
    "    if i%2==0:\n",
    "        print(i, end=\" \")"
   ]
  },
  {
   "cell_type": "code",
   "execution_count": 77,
   "metadata": {},
   "outputs": [
    {
     "name": "stdout",
     "output_type": "stream",
     "text": [
      "18 18 36 14 34 38 34 38 2 16 4 34 34 12 22 14 2 28 12 30 20 "
     ]
    }
   ],
   "source": [
    "#iterating using indexing in 2d arrays (using only rows and columns)\n",
    "rows=t[0]\n",
    "cols=t[1]\n",
    "for i in range(rows):\n",
    "    for j in range(cols):\n",
    "        if arr2d[i][j]%2==0:\n",
    "            print(arr2d[i][j],end=\" \")"
   ]
  },
  {
   "cell_type": "code",
   "execution_count": null,
   "metadata": {},
   "outputs": [],
   "source": []
  },
  {
   "cell_type": "code",
   "execution_count": null,
   "metadata": {},
   "outputs": [],
   "source": []
  },
  {
   "cell_type": "code",
   "execution_count": 78,
   "metadata": {},
   "outputs": [
    {
     "data": {
      "text/plain": [
       "array([[33, 29, 18, 13, 33, 25, 27, 18,  1, 39],\n",
       "       [36, 11, 14, 34, 38, 31, 11, 34, 38,  2],\n",
       "       [16,  4, 34, 34,  5, 39, 12, 22,  3, 14],\n",
       "       [39,  2, 19, 13, 17, 31, 28, 12,  5, 37],\n",
       "       [30, 33,  5, 29, 19, 20, 35, 13, 23, 11]])"
      ]
     },
     "execution_count": 78,
     "metadata": {},
     "output_type": "execute_result"
    }
   ],
   "source": [
    "arr2d"
   ]
  },
  {
   "cell_type": "code",
   "execution_count": null,
   "metadata": {},
   "outputs": [],
   "source": []
  },
  {
   "cell_type": "markdown",
   "metadata": {},
   "source": [
    "# 30-sep-2024"
   ]
  },
  {
   "cell_type": "markdown",
   "metadata": {},
   "source": [
    "# T.C= O(N2)"
   ]
  },
  {
   "cell_type": "code",
   "execution_count": 1,
   "metadata": {},
   "outputs": [],
   "source": [
    "import numpy as np\n",
    "import random"
   ]
  },
  {
   "cell_type": "code",
   "execution_count": 7,
   "metadata": {},
   "outputs": [
    {
     "data": {
      "text/plain": [
       "array([[ 1,  1, 39,  1,  5, 27, 30, 10, 44, 29],\n",
       "       [ 1, 17, 20, 29, 36,  7, 14, 37, 25, 30],\n",
       "       [16, 10, 47, 10, 32, 21,  9, 48, 13, 16],\n",
       "       [10, 21, 17, 44, 41, 39, 45, 33,  9, 16],\n",
       "       [37, 29,  9, 34, 10, 41, 18,  6, 47,  3]])"
      ]
     },
     "execution_count": 7,
     "metadata": {},
     "output_type": "execute_result"
    }
   ],
   "source": [
    "a = np.random.randint(1,50,(5,10))\n",
    "a"
   ]
  },
  {
   "cell_type": "code",
   "execution_count": 11,
   "metadata": {},
   "outputs": [
    {
     "data": {
      "text/plain": [
       "array([[ 1,  1, 39,  1,  5, 27, 30, 10, 44, 29],\n",
       "       [ 1, 17, 20, 29, 36,  7, 14, 37, 25, 30],\n",
       "       [16, 10, 47, 10, 32, 21,  9, 48, 13, 16],\n",
       "       [10, 21, 17, 44, 41, 39, 45, 33,  9, 16],\n",
       "       [37, 29,  9, 34, 10, 41, 18,  6, 47,  3]])"
      ]
     },
     "execution_count": 11,
     "metadata": {},
     "output_type": "execute_result"
    }
   ],
   "source": [
    "a"
   ]
  },
  {
   "cell_type": "code",
   "execution_count": 19,
   "metadata": {},
   "outputs": [
    {
     "name": "stdout",
     "output_type": "stream",
     "text": [
      "30\n",
      "10\n",
      "44\n",
      "20\n",
      "36\n",
      "14\n",
      "30\n",
      "16\n",
      "10\n",
      "10\n",
      "32\n",
      "48\n",
      "16\n",
      "10\n",
      "44\n",
      "16\n",
      "34\n",
      "10\n",
      "18\n",
      "6\n"
     ]
    }
   ],
   "source": [
    "# when elements itself are even replace with hurray otherwise oops\n",
    "for i in a:\n",
    "    for j in i:\n",
    "        if j%2==0:\n",
    "            print(j)"
   ]
  },
  {
   "cell_type": "code",
   "execution_count": 23,
   "metadata": {},
   "outputs": [
    {
     "name": "stdout",
     "output_type": "stream",
     "text": [
      "30\n",
      "10\n",
      "44\n",
      "20\n",
      "36\n",
      "14\n",
      "30\n",
      "16\n",
      "10\n",
      "10\n",
      "32\n",
      "48\n",
      "16\n",
      "10\n",
      "44\n",
      "16\n",
      "34\n",
      "10\n",
      "18\n",
      "6\n"
     ]
    }
   ],
   "source": [
    "# when elements itself are even replace with hurray otherwise oops\n",
    "for i in a:\n",
    "    for j in i:\n",
    "        if j%2==0:\n",
    "           print(j)"
   ]
  },
  {
   "cell_type": "code",
   "execution_count": 45,
   "metadata": {},
   "outputs": [
    {
     "data": {
      "text/plain": [
       "array([['1', '1', '39', '1', '5', '27', '30', '10', '44', '29'],\n",
       "       ['1', '17', '20', '29', '36', '7', '14', '37', '25', '30'],\n",
       "       ['16', '10', '47', '10', '32', '21', '9', '48', '13', '16'],\n",
       "       ['10', '21', '17', '44', '41', '39', '45', '33', '9', '16'],\n",
       "       ['37', '29', '9', '34', '10', '41', '18', '6', '47', '3']],\n",
       "      dtype='<U11')"
      ]
     },
     "execution_count": 45,
     "metadata": {},
     "output_type": "execute_result"
    }
   ],
   "source": [
    "a =  a.astype('str')\n",
    "a"
   ]
  },
  {
   "cell_type": "code",
   "execution_count": null,
   "metadata": {},
   "outputs": [],
   "source": []
  },
  {
   "cell_type": "code",
   "execution_count": 49,
   "metadata": {},
   "outputs": [
    {
     "data": {
      "text/plain": [
       "array([['1', '1', '39', '1', '5', '27', '30', '10', '44', '29'],\n",
       "       ['1', '17', '20', '29', '36', '7', '14', '37', '25', '30'],\n",
       "       ['16', '10', '47', '10', '32', '21', '9', '48', '13', '16'],\n",
       "       ['10', '21', '17', '44', '41', '39', '45', '33', '9', '16'],\n",
       "       ['37', '29', '9', '34', '10', '41', '18', '6', '47', '3']],\n",
       "      dtype='<U11')"
      ]
     },
     "execution_count": 49,
     "metadata": {},
     "output_type": "execute_result"
    }
   ],
   "source": [
    "a"
   ]
  },
  {
   "cell_type": "code",
   "execution_count": 51,
   "metadata": {},
   "outputs": [],
   "source": [
    "# when elements itself are even replace with hurray otherwise oops\n",
    "t = a.shape\n",
    "x= t[0]\n",
    "y= t[1]\n",
    "for i in range(x):\n",
    "    for j in range(y):\n",
    "        if int(a[i,j])%2==0:\n",
    "            a[i,j] = 'hurray'\n",
    "        else:\n",
    "            a[i,j] = 'oops'"
   ]
  },
  {
   "cell_type": "code",
   "execution_count": 72,
   "metadata": {},
   "outputs": [
    {
     "name": "stdout",
     "output_type": "stream",
     "text": [
      "[['36' '48' '36' '8' '6' '24' '6' '25' '49' '25']\n",
      " ['38' '31' '3' '30' '2' '39' '49' '9' '9' '25']\n",
      " ['30' '5' '7' '44' '7' '37' '5' '17' '22' '49']\n",
      " ['15' '1' '44' '11' '36' '9' '46' '31' '19' '47']\n",
      " ['43' '18' '34' '13' '37' '44' '28' '34' '10' '31']]\n"
     ]
    }
   ],
   "source": [
    "#a. when cols indexes are even  replace with hurray otherwise oops\n",
    "a = np.random.randint(1,50,(5,10))\n",
    "a= a.astype('str')\n",
    "print(a)\n",
    "for i in range(a.shape[0]):\n",
    "    for j in range(a.shape[1]):\n",
    "        if j%2==0:\n",
    "            a[i,j]='hurray'\n",
    "        else:\n",
    "            a[i,j]='oops'"
   ]
  },
  {
   "cell_type": "code",
   "execution_count": 70,
   "metadata": {},
   "outputs": [
    {
     "data": {
      "text/plain": [
       "array([['hurray', 'oops', 'hurray', 'oops', 'hurray', 'oops', 'hurray',\n",
       "        'oops', 'hurray', 'oops'],\n",
       "       ['hurray', 'oops', 'hurray', 'oops', 'hurray', 'oops', 'hurray',\n",
       "        'oops', 'hurray', 'oops'],\n",
       "       ['hurray', 'oops', 'hurray', 'oops', 'hurray', 'oops', 'hurray',\n",
       "        'oops', 'hurray', 'oops'],\n",
       "       ['hurray', 'oops', 'hurray', 'oops', 'hurray', 'oops', 'hurray',\n",
       "        'oops', 'hurray', 'oops'],\n",
       "       ['hurray', 'oops', 'hurray', 'oops', 'hurray', 'oops', 'hurray',\n",
       "        'oops', 'hurray', 'oops']], dtype='<U11')"
      ]
     },
     "execution_count": 70,
     "metadata": {},
     "output_type": "execute_result"
    }
   ],
   "source": [
    "a"
   ]
  },
  {
   "cell_type": "code",
   "execution_count": null,
   "metadata": {},
   "outputs": [],
   "source": []
  },
  {
   "cell_type": "code",
   "execution_count": 74,
   "metadata": {},
   "outputs": [
    {
     "name": "stdout",
     "output_type": "stream",
     "text": [
      "[['7' '18' '17' '34' '4' '26' '7' '27' '12' '20']\n",
      " ['11' '27' '32' '4' '22' '42' '23' '6' '48' '9']\n",
      " ['1' '44' '22' '3' '28' '6' '30' '37' '35' '31']\n",
      " ['38' '30' '15' '25' '28' '43' '25' '40' '26' '11']\n",
      " ['1' '47' '38' '12' '36' '15' '48' '41' '17' '7']]\n"
     ]
    }
   ],
   "source": [
    "#b. when rows indexes are even  cols indexes are even replace with hurray otherwise oops\n",
    "a = np.random.randint(1,50,(5,10))\n",
    "a= a.astype('str')\n",
    "print(a)\n",
    "for i in range(a.shape[0]):\n",
    "    for j in range(a.shape[1]):\n",
    "        if (i%2==0) and (j%2==0):\n",
    "            a[i,j]='hurray'\n",
    "        else:\n",
    "            a[i,j]='oops'"
   ]
  },
  {
   "cell_type": "code",
   "execution_count": 76,
   "metadata": {},
   "outputs": [
    {
     "data": {
      "text/plain": [
       "array([['hurray', 'oops', 'hurray', 'oops', 'hurray', 'oops', 'hurray',\n",
       "        'oops', 'hurray', 'oops'],\n",
       "       ['oops', 'oops', 'oops', 'oops', 'oops', 'oops', 'oops', 'oops',\n",
       "        'oops', 'oops'],\n",
       "       ['hurray', 'oops', 'hurray', 'oops', 'hurray', 'oops', 'hurray',\n",
       "        'oops', 'hurray', 'oops'],\n",
       "       ['oops', 'oops', 'oops', 'oops', 'oops', 'oops', 'oops', 'oops',\n",
       "        'oops', 'oops'],\n",
       "       ['hurray', 'oops', 'hurray', 'oops', 'hurray', 'oops', 'hurray',\n",
       "        'oops', 'hurray', 'oops']], dtype='<U11')"
      ]
     },
     "execution_count": 76,
     "metadata": {},
     "output_type": "execute_result"
    }
   ],
   "source": [
    "a"
   ]
  },
  {
   "cell_type": "code",
   "execution_count": null,
   "metadata": {},
   "outputs": [],
   "source": []
  },
  {
   "cell_type": "code",
   "execution_count": null,
   "metadata": {},
   "outputs": [],
   "source": [
    "#  0 (n2)"
   ]
  },
  {
   "cell_type": "code",
   "execution_count": 79,
   "metadata": {},
   "outputs": [],
   "source": [
    "a= np.random.randint(100,200,(3,4))"
   ]
  },
  {
   "cell_type": "code",
   "execution_count": 81,
   "metadata": {},
   "outputs": [
    {
     "data": {
      "text/plain": [
       "array([[101, 107, 198, 184],\n",
       "       [172, 149, 148, 169],\n",
       "       [116, 147, 169, 167]])"
      ]
     },
     "execution_count": 81,
     "metadata": {},
     "output_type": "execute_result"
    }
   ],
   "source": [
    "a"
   ]
  },
  {
   "cell_type": "code",
   "execution_count": 95,
   "metadata": {},
   "outputs": [
    {
     "data": {
      "text/plain": [
       "array([[-1, -1,  0,  0],\n",
       "       [ 0, -1,  0, -1],\n",
       "       [ 0, -1, -1, -1]])"
      ]
     },
     "execution_count": 95,
     "metadata": {},
     "output_type": "execute_result"
    }
   ],
   "source": [
    "#Task : elipsis operator ...\n",
    "#o(n)\n",
    "for i in np.nditer(a.ravel(),op_flags=['readwrite']):\n",
    "        if i%2==0:\n",
    "            i[...]= 0\n",
    "        else:\n",
    "            i[...]= -1\n",
    "\n",
    "a"
   ]
  },
  {
   "cell_type": "code",
   "execution_count": null,
   "metadata": {},
   "outputs": [],
   "source": [
    "198\n",
    "184\n",
    "172\n",
    "148\n",
    "116"
   ]
  },
  {
   "cell_type": "code",
   "execution_count": null,
   "metadata": {},
   "outputs": [],
   "source": []
  },
  {
   "cell_type": "code",
   "execution_count": null,
   "metadata": {},
   "outputs": [],
   "source": []
  },
  {
   "cell_type": "code",
   "execution_count": null,
   "metadata": {},
   "outputs": [],
   "source": []
  },
  {
   "cell_type": "code",
   "execution_count": 90,
   "metadata": {},
   "outputs": [
    {
     "name": "stdout",
     "output_type": "stream",
     "text": [
      "131\n",
      "158\n",
      "105\n",
      "195\n",
      "198\n",
      "187\n",
      "100\n",
      "153\n",
      "171\n",
      "109\n",
      "170\n",
      "105\n"
     ]
    }
   ],
   "source": [
    "for i in np.nditer(arr2d):\n",
    "    print(i)"
   ]
  },
  {
   "cell_type": "code",
   "execution_count": null,
   "metadata": {},
   "outputs": [],
   "source": []
  },
  {
   "cell_type": "code",
   "execution_count": 101,
   "metadata": {},
   "outputs": [],
   "source": [
    "for i in np.nditer(arr2d,op_flags=['readwrite']):\n",
    "    if i%2==0:\n",
    "        i[...]=0\n",
    "    else:\n",
    "        i[...]=-1"
   ]
  },
  {
   "cell_type": "code",
   "execution_count": 99,
   "metadata": {},
   "outputs": [
    {
     "data": {
      "text/plain": [
       "array([[-1,  0, -1, -1],\n",
       "       [ 0, -1,  0, -1],\n",
       "       [-1, -1,  0, -1]])"
      ]
     },
     "execution_count": 99,
     "metadata": {},
     "output_type": "execute_result"
    }
   ],
   "source": [
    "arr2d"
   ]
  },
  {
   "cell_type": "code",
   "execution_count": 100,
   "metadata": {},
   "outputs": [
    {
     "data": {
      "text/plain": [
       "array([[-1,  0, -1, -1],\n",
       "       [ 0, -1,  0, -1],\n",
       "       [-1, -1,  0, -1]])"
      ]
     },
     "execution_count": 100,
     "metadata": {},
     "output_type": "execute_result"
    }
   ],
   "source": [
    "arr2d"
   ]
  },
  {
   "cell_type": "code",
   "execution_count": null,
   "metadata": {},
   "outputs": [],
   "source": []
  },
  {
   "cell_type": "code",
   "execution_count": null,
   "metadata": {},
   "outputs": [],
   "source": []
  },
  {
   "cell_type": "code",
   "execution_count": null,
   "metadata": {},
   "outputs": [],
   "source": []
  },
  {
   "cell_type": "markdown",
   "metadata": {},
   "source": [
    "**iterating elements in 2d arrays using only one for loop with**  `np.nditer()`"
   ]
  },
  {
   "cell_type": "code",
   "execution_count": null,
   "metadata": {},
   "outputs": [],
   "source": []
  },
  {
   "cell_type": "code",
   "execution_count": null,
   "metadata": {},
   "outputs": [],
   "source": []
  },
  {
   "cell_type": "code",
   "execution_count": null,
   "metadata": {},
   "outputs": [],
   "source": []
  },
  {
   "cell_type": "code",
   "execution_count": null,
   "metadata": {},
   "outputs": [],
   "source": []
  },
  {
   "cell_type": "markdown",
   "metadata": {},
   "source": [
    "# updating when using nditer"
   ]
  },
  {
   "cell_type": "code",
   "execution_count": 53,
   "metadata": {},
   "outputs": [
    {
     "ename": "ValueError",
     "evalue": "assignment destination is read-only",
     "output_type": "error",
     "traceback": [
      "\u001b[1;31m---------------------------------------------------------------------------\u001b[0m",
      "\u001b[1;31mValueError\u001b[0m                                Traceback (most recent call last)",
      "Cell \u001b[1;32mIn[53], line 3\u001b[0m\n\u001b[0;32m      1\u001b[0m \u001b[38;5;28;01mfor\u001b[39;00m item \u001b[38;5;129;01min\u001b[39;00m np\u001b[38;5;241m.\u001b[39mnditer(arr2d):\n\u001b[0;32m      2\u001b[0m     \u001b[38;5;28;01mif\u001b[39;00m item\u001b[38;5;241m<\u001b[39m\u001b[38;5;241m5\u001b[39m:\n\u001b[1;32m----> 3\u001b[0m         item[\u001b[38;5;241m.\u001b[39m\u001b[38;5;241m.\u001b[39m\u001b[38;5;241m.\u001b[39m] \u001b[38;5;241m=\u001b[39m \u001b[38;5;241m-\u001b[39m\u001b[38;5;241m1\u001b[39m \u001b[38;5;66;03m#[...] ellipsis explore this ... in python\u001b[39;00m\n\u001b[0;32m      5\u001b[0m \u001b[38;5;28mprint\u001b[39m(\u001b[38;5;124m\"\u001b[39m\u001b[38;5;124mUpdated Array\u001b[39m\u001b[38;5;124m\"\u001b[39m, arr2d)\n",
      "\u001b[1;31mValueError\u001b[0m: assignment destination is read-only"
     ]
    }
   ],
   "source": [
    "\n",
    "for item in np.nditer(arr2d):\n",
    "    if item<5:\n",
    "        item[...] = -1 #[...] ellipsis explore this ... in python\n",
    "        \n",
    "print(\"Updated Array\", arr2d)"
   ]
  },
  {
   "cell_type": "code",
   "execution_count": 70,
   "metadata": {},
   "outputs": [
    {
     "name": "stdout",
     "output_type": "stream",
     "text": [
      "Original Array:  [[28 30 20 34 10 31 22 34 31 32]\n",
      " [23 26 11 33 32 21 30 31 38 18]\n",
      " [27 12 36 17 20 35 26 12 18 22]\n",
      " [20 15 18 39 13 27 39 35 16 17]\n",
      " [19 30 33 18 24 26 38 29 32 18]]\n",
      "Updated Array [[28 30 20 34 10 31 22 34 31 32]\n",
      " [23 26 11 33 32 21 30 31 38 18]\n",
      " [27 12 36 17 20 35 26 12 18 22]\n",
      " [20 15 18 39 13 27 39 35 16 17]\n",
      " [19 30 33 18 24 26 38 29 32 18]]\n"
     ]
    }
   ],
   "source": [
    "print(\"Original Array: \", arr2d)\n",
    "\n",
    "for item in np.nditer(arr2d, op_flags=['readwrite']):\n",
    "    if item <5:\n",
    "        item[...] = -1\n",
    "        \n",
    "print(\"Updated Array\", arr2d)"
   ]
  },
  {
   "cell_type": "markdown",
   "metadata": {},
   "source": [
    "## questn: when element is <5 replce with -1\n",
    "---"
   ]
  },
  {
   "cell_type": "markdown",
   "metadata": {},
   "source": [
    "## with two for loops"
   ]
  },
  {
   "cell_type": "code",
   "execution_count": 28,
   "metadata": {},
   "outputs": [],
   "source": [
    "import numpy as np\n",
    "a = np.array([[33, 29, 18, 13, 33, 25, 27, 18, 1, 39],\n",
    "       [36, 11, 14, 34, 38, 31, 11, 34, 38, 2],\n",
    "       [16, 4, 34, 34,5, 39, 12, 22, 3, 14],\n",
    "       [39, 2, 19, 13, 17, 31, 28, 12,5, 37],\n",
    "       [30, 33, 5, 29, 19, 20, 35, 13, 23, 11]])"
   ]
  },
  {
   "cell_type": "code",
   "execution_count": 30,
   "metadata": {},
   "outputs": [
    {
     "data": {
      "text/plain": [
       "array([[33, 29, 18, 13, 33, 25, 27, 18, -1, 39],\n",
       "       [36, 11, 14, 34, 38, 31, 11, 34, 38, -1],\n",
       "       [16, -1, 34, 34,  5, 39, 12, 22, -1, 14],\n",
       "       [39, -1, 19, 13, 17, 31, 28, 12,  5, 37],\n",
       "       [30, 33,  5, 29, 19, 20, 35, 13, 23, 11]])"
      ]
     },
     "execution_count": 30,
     "metadata": {},
     "output_type": "execute_result"
    }
   ],
   "source": [
    "for i in range(a.shape[0]):\n",
    "    for j in range(a.shape[1]):\n",
    "        if a[i][j] <5:\n",
    "            a[i][j]=-1\n",
    "            \n",
    "a"
   ]
  },
  {
   "cell_type": "markdown",
   "metadata": {},
   "source": [
    "## with single for loop"
   ]
  },
  {
   "cell_type": "code",
   "execution_count": 110,
   "metadata": {},
   "outputs": [],
   "source": [
    "import numpy as np\n",
    "a = np.array([[33, 29, 18, 13, 33, 25, 27, 18, 1, 39],\n",
    "       [36, 11, 14, 34, 38, 31, 11, 34, 38, 2],\n",
    "       [16, 4, 34, 34,5, 39, 12, 22, 3, 14],\n",
    "       [39, 2, 19, 13, 17, 31, 28, 12,5, 37],\n",
    "       [30, 33, 5, 29, 19, 20, 35, 13, 23, 11]])"
   ]
  },
  {
   "cell_type": "code",
   "execution_count": 111,
   "metadata": {},
   "outputs": [
    {
     "data": {
      "text/plain": [
       "array([[33, 29, 18, 13, 33, 25, 27, 18, -1, 39],\n",
       "       [36, 11, 14, 34, 38, 31, 11, 34, 38, -1],\n",
       "       [16, -1, 34, 34,  5, 39, 12, 22, -1, 14],\n",
       "       [39, -1, 19, 13, 17, 31, 28, 12,  5, 37],\n",
       "       [30, 33,  5, 29, 19, 20, 35, 13, 23, 11]])"
      ]
     },
     "execution_count": 111,
     "metadata": {},
     "output_type": "execute_result"
    }
   ],
   "source": [
    "for i in np.nditer(a,op_flags=[\"readwrite\"]):\n",
    "    if i<5:\n",
    "        i[...]=-1\n",
    "a"
   ]
  },
  {
   "cell_type": "markdown",
   "metadata": {},
   "source": [
    "## without uisng for loop (boolean indexing)"
   ]
  },
  {
   "cell_type": "code",
   "execution_count": 112,
   "metadata": {},
   "outputs": [
    {
     "name": "stdout",
     "output_type": "stream",
     "text": [
      "[[33 29 18 13 33 25 27 18  1 39]\n",
      " [36 11 14 34 38 31 11 34 38  2]\n",
      " [16  4 34 34  5 39 12 22  3 14]\n",
      " [39  2 19 13 17 31 28 12  5 37]\n",
      " [30 33  5 29 19 20 35 13 23 11]]\n"
     ]
    }
   ],
   "source": [
    "import numpy as np\n",
    "a = np.array([[33, 29, 18, 13, 33, 25, 27, 18, 1, 39],\n",
    "       [36, 11, 14, 34, 38, 31, 11, 34, 38, 2],\n",
    "       [16, 4, 34, 34,5, 39, 12, 22, 3, 14],\n",
    "       [39, 2, 19, 13, 17, 31, 28, 12,5, 37],\n",
    "       [30, 33, 5, 29, 19, 20, 35, 13, 23, 11]])\n",
    "print(a)"
   ]
  },
  {
   "cell_type": "code",
   "execution_count": 113,
   "metadata": {},
   "outputs": [
    {
     "name": "stdout",
     "output_type": "stream",
     "text": [
      "[[33 29 18 13 33 25 27 18 -1 39]\n",
      " [36 11 14 34 38 31 11 34 38 -1]\n",
      " [16 -1 34 34  5 39 12 22 -1 14]\n",
      " [39 -1 19 13 17 31 28 12  5 37]\n",
      " [30 33  5 29 19 20 35 13 23 11]]\n"
     ]
    }
   ],
   "source": [
    "a[a<5]=-1\n",
    "print(a)"
   ]
  },
  {
   "cell_type": "markdown",
   "metadata": {},
   "source": [
    "## without uisng for loop (where function) "
   ]
  },
  {
   "cell_type": "code",
   "execution_count": 114,
   "metadata": {},
   "outputs": [
    {
     "name": "stdout",
     "output_type": "stream",
     "text": [
      "[[33 29 18 13 33 25 27 18  1 39]\n",
      " [36 11 14 34 38 31 11 34 38  2]\n",
      " [16  4 34 34  5 39 12 22  3 14]\n",
      " [39  2 19 13 17 31 28 12  5 37]\n",
      " [30 33  5 29 19 20 35 13 23 11]]\n"
     ]
    }
   ],
   "source": [
    "import numpy as np\n",
    "a = np.array([[33, 29, 18, 13, 33, 25, 27, 18, 1, 39],\n",
    "       [36, 11, 14, 34, 38, 31, 11, 34, 38, 2],\n",
    "       [16, 4, 34, 34,5, 39, 12, 22, 3, 14],\n",
    "       [39, 2, 19, 13, 17, 31, 28, 12,5, 37],\n",
    "       [30, 33, 5, 29, 19, 20, 35, 13, 23, 11]])\n",
    "print(a)"
   ]
  },
  {
   "cell_type": "code",
   "execution_count": 115,
   "metadata": {},
   "outputs": [
    {
     "data": {
      "text/plain": [
       "array([[33, 29, 18, 13, 33, 25, 27, 18, -1, 39],\n",
       "       [36, 11, 14, 34, 38, 31, 11, 34, 38, -1],\n",
       "       [16, -1, 34, 34,  5, 39, 12, 22, -1, 14],\n",
       "       [39, -1, 19, 13, 17, 31, 28, 12,  5, 37],\n",
       "       [30, 33,  5, 29, 19, 20, 35, 13, 23, 11]])"
      ]
     },
     "execution_count": 115,
     "metadata": {},
     "output_type": "execute_result"
    }
   ],
   "source": [
    "np.where(a<5,-1,a)"
   ]
  },
  {
   "cell_type": "code",
   "execution_count": 116,
   "metadata": {},
   "outputs": [
    {
     "data": {
      "text/plain": [
       "array([['oops', 'oops', 'oops', 'oops', 'oops', 'oops', 'oops', 'oops',\n",
       "        'hurray', 'oops'],\n",
       "       ['oops', 'oops', 'oops', 'oops', 'oops', 'oops', 'oops', 'oops',\n",
       "        'oops', 'hurray'],\n",
       "       ['oops', 'hurray', 'oops', 'oops', 'oops', 'oops', 'oops', 'oops',\n",
       "        'hurray', 'oops'],\n",
       "       ['oops', 'hurray', 'oops', 'oops', 'oops', 'oops', 'oops', 'oops',\n",
       "        'oops', 'oops'],\n",
       "       ['oops', 'oops', 'oops', 'oops', 'oops', 'oops', 'oops', 'oops',\n",
       "        'oops', 'oops']], dtype='<U6')"
      ]
     },
     "execution_count": 116,
     "metadata": {},
     "output_type": "execute_result"
    }
   ],
   "source": [
    "np.where(a<5,\"hurray\",\"oops\")"
   ]
  },
  {
   "cell_type": "markdown",
   "metadata": {},
   "source": [
    "**Exercise: Write a program to generate an array with shape 5*4 at random containing positive integer. Perform an update by replacing all numbers which are divisible by 5 with python and which are not divsible by 5 replace them with java.**\n",
    "\n",
    "1. using two for loops\n",
    "2. using one loop(nditer)\n",
    "3. without using loop \n",
    "a.(boolean indexing)\n",
    "b.(where)"
   ]
  },
  {
   "cell_type": "markdown",
   "metadata": {},
   "source": [
    "# 3d arrays"
   ]
  },
  {
   "cell_type": "code",
   "execution_count": 97,
   "metadata": {},
   "outputs": [
    {
     "data": {
      "text/plain": [
       "array([[[7, 9, 7, 9, 7],\n",
       "        [8, 7, 8, 2, 2],\n",
       "        [9, 6, 7, 3, 8],\n",
       "        [3, 5, 4, 5, 6]],\n",
       "\n",
       "       [[4, 5, 9, 8, 4],\n",
       "        [7, 9, 2, 4, 6],\n",
       "        [4, 2, 6, 7, 2],\n",
       "        [6, 2, 5, 7, 7]],\n",
       "\n",
       "       [[5, 3, 8, 6, 6],\n",
       "        [3, 7, 6, 6, 5],\n",
       "        [9, 6, 6, 5, 7],\n",
       "        [5, 2, 4, 3, 1]]])"
      ]
     },
     "execution_count": 97,
     "metadata": {},
     "output_type": "execute_result"
    }
   ],
   "source": [
    "a = np.random.randint(1, 10, (3,4,5))\n",
    "a"
   ]
  },
  {
   "cell_type": "code",
   "execution_count": 111,
   "metadata": {},
   "outputs": [
    {
     "name": "stdout",
     "output_type": "stream",
     "text": [
      "7\n",
      "9\n",
      "7\n",
      "9\n",
      "7\n",
      "8\n",
      "7\n",
      "8\n",
      "2\n",
      "2\n",
      "9\n",
      "6\n",
      "7\n",
      "3\n",
      "8\n",
      "3\n",
      "5\n",
      "4\n",
      "5\n",
      "6\n",
      "4\n",
      "5\n",
      "9\n",
      "8\n",
      "4\n",
      "7\n",
      "9\n",
      "2\n",
      "4\n",
      "6\n",
      "4\n",
      "2\n",
      "6\n",
      "7\n",
      "2\n",
      "6\n",
      "2\n",
      "5\n",
      "7\n",
      "7\n",
      "5\n",
      "3\n",
      "8\n",
      "6\n",
      "6\n",
      "3\n",
      "7\n",
      "6\n",
      "6\n",
      "5\n",
      "9\n",
      "6\n",
      "6\n",
      "5\n",
      "7\n",
      "5\n",
      "2\n",
      "4\n",
      "3\n",
      "1\n"
     ]
    }
   ],
   "source": [
    "for i in a:\n",
    "    for j in i:\n",
    "        for k in j:\n",
    "            print(k)"
   ]
  },
  {
   "cell_type": "code",
   "execution_count": null,
   "metadata": {},
   "outputs": [],
   "source": [
    "# create a 3d array  shape is (2,3,4)\n",
    "#a. filter out even elements\n",
    "#b. when even 2d array even rows even cols -- replace them with -1 otherwise 0\n",
    "#c. do above  a questn one by using np.nditer()"
   ]
  },
  {
   "cell_type": "code",
   "execution_count": 113,
   "metadata": {},
   "outputs": [
    {
     "data": {
      "text/plain": [
       "array([[[41, 49, 33, 29],\n",
       "        [17, 16, 18,  3],\n",
       "        [30, 36, 43, 18]],\n",
       "\n",
       "       [[20, 29, 15, 34],\n",
       "        [23, 37, 38,  8],\n",
       "        [35, 12,  9,  8]]])"
      ]
     },
     "execution_count": 113,
     "metadata": {},
     "output_type": "execute_result"
    }
   ],
   "source": [
    "a= np.random.randint(1,50,(2,3,4))\n",
    "a"
   ]
  },
  {
   "cell_type": "code",
   "execution_count": 119,
   "metadata": {},
   "outputs": [
    {
     "name": "stdout",
     "output_type": "stream",
     "text": [
      "16\n",
      "18\n",
      "30\n",
      "36\n",
      "18\n",
      "20\n",
      "34\n",
      "38\n",
      "8\n",
      "12\n",
      "8\n"
     ]
    }
   ],
   "source": [
    "#a. element wise iterations\n",
    "for i in a:\n",
    "    for j in i:\n",
    "        for k in j:\n",
    "            if k%2==0:\n",
    "                print(k)"
   ]
  },
  {
   "cell_type": "code",
   "execution_count": 121,
   "metadata": {},
   "outputs": [
    {
     "data": {
      "text/plain": [
       "array([[[41, 49, 33, 29],\n",
       "        [17, 16, 18,  3],\n",
       "        [30, 36, 43, 18]],\n",
       "\n",
       "       [[20, 29, 15, 34],\n",
       "        [23, 37, 38,  8],\n",
       "        [35, 12,  9,  8]]])"
      ]
     },
     "execution_count": 121,
     "metadata": {},
     "output_type": "execute_result"
    }
   ],
   "source": [
    "a"
   ]
  },
  {
   "cell_type": "code",
   "execution_count": 125,
   "metadata": {},
   "outputs": [],
   "source": [
    "#b. when even 2d array even rows even cols -- replace them with 0 otherwise -1\n",
    "for i in range(a.shape[0]):\n",
    "    for j in range(a.shape[1]):\n",
    "        for k in range(a.shape[2]):\n",
    "             if i%2==0 and j%2==0 and k%2==0:\n",
    "                 a[i,j,k] = 0\n",
    "             else:\n",
    "                 a[i,j,k] = -1"
   ]
  },
  {
   "cell_type": "code",
   "execution_count": 127,
   "metadata": {},
   "outputs": [
    {
     "data": {
      "text/plain": [
       "array([[[ 0, -1,  0, -1],\n",
       "        [-1, -1, -1, -1],\n",
       "        [ 0, -1,  0, -1]],\n",
       "\n",
       "       [[-1, -1, -1, -1],\n",
       "        [-1, -1, -1, -1],\n",
       "        [-1, -1, -1, -1]]])"
      ]
     },
     "execution_count": 127,
     "metadata": {},
     "output_type": "execute_result"
    }
   ],
   "source": [
    "a"
   ]
  },
  {
   "cell_type": "code",
   "execution_count": 131,
   "metadata": {},
   "outputs": [
    {
     "data": {
      "text/plain": [
       "array([[[46, 41,  7, 21],\n",
       "        [21,  5,  8, 34],\n",
       "        [23,  5, 44, 12]],\n",
       "\n",
       "       [[ 8, 38, 25, 10],\n",
       "        [21,  5,  3, 10],\n",
       "        [ 2, 12, 17, 24]]])"
      ]
     },
     "execution_count": 131,
     "metadata": {},
     "output_type": "execute_result"
    }
   ],
   "source": [
    "#c. when elements are even replace them with 0 otherwise -1 ---- using np.nditer #o(n)\n",
    "a= np.random.randint(1,50,(2,3,4))\n",
    "a"
   ]
  },
  {
   "cell_type": "code",
   "execution_count": 141,
   "metadata": {},
   "outputs": [
    {
     "name": "stdout",
     "output_type": "stream",
     "text": [
      "[[[ 0 -1 -1 -1]\n",
      "  [-1 -1  0  0]\n",
      "  [-1 -1  0  0]]\n",
      "\n",
      " [[ 0  0 -1  0]\n",
      "  [-1 -1 -1  0]\n",
      "  [ 0  0 -1  0]]]\n"
     ]
    }
   ],
   "source": [
    "for i in np.nditer(a,op_flags=['readwrite']):\n",
    "    if i%2==0:\n",
    "        i[...] = 0\n",
    "    else:\n",
    "        i[...] =-1\n",
    "\n",
    "print(a)"
   ]
  },
  {
   "cell_type": "code",
   "execution_count": 153,
   "metadata": {},
   "outputs": [
    {
     "data": {
      "text/plain": [
       "array([[[47, 32, 21, 33],\n",
       "        [46, 14, 41, 29],\n",
       "        [45, 25, 47, 13]],\n",
       "\n",
       "       [[ 3, 34, 22, 41],\n",
       "        [44, 47,  5, 36],\n",
       "        [45, 14, 22,  6]]])"
      ]
     },
     "execution_count": 153,
     "metadata": {},
     "output_type": "execute_result"
    }
   ],
   "source": [
    "#d. boolean indexing\n",
    "a= np.random.randint(1,50,(2,3,4))\n",
    "a"
   ]
  },
  {
   "cell_type": "code",
   "execution_count": 147,
   "metadata": {},
   "outputs": [
    {
     "data": {
      "text/plain": [
       "array([[[33, 47,  0,  0],\n",
       "        [ 0, 49, 33,  0],\n",
       "        [ 0, 37,  0,  0]],\n",
       "\n",
       "       [[ 7,  0,  0,  0],\n",
       "        [35, 29,  3, 21],\n",
       "        [ 0,  0,  0, 41]]])"
      ]
     },
     "execution_count": 147,
     "metadata": {},
     "output_type": "execute_result"
    }
   ],
   "source": [
    "\n",
    "a[a%2 == 0] =0\n",
    "a"
   ]
  },
  {
   "cell_type": "code",
   "execution_count": 149,
   "metadata": {},
   "outputs": [
    {
     "data": {
      "text/plain": [
       "array([[[33, 47,  0,  0],\n",
       "        [ 0, 49, 33,  0],\n",
       "        [ 0, 37,  0,  0]],\n",
       "\n",
       "       [[ 7,  0,  0,  0],\n",
       "        [35, 29,  3, 21],\n",
       "        [ 0,  0,  0, 41]]])"
      ]
     },
     "execution_count": 149,
     "metadata": {},
     "output_type": "execute_result"
    }
   ],
   "source": [
    "a"
   ]
  },
  {
   "cell_type": "code",
   "execution_count": 155,
   "metadata": {},
   "outputs": [
    {
     "data": {
      "text/plain": [
       "array([[[30, 35, 23, 46],\n",
       "        [44, 23,  7, 36],\n",
       "        [27, 22, 19, 35]],\n",
       "\n",
       "       [[ 2, 33, 19, 31],\n",
       "        [44,  8,  8, 20],\n",
       "        [ 3, 27, 13,  8]]])"
      ]
     },
     "execution_count": 155,
     "metadata": {},
     "output_type": "execute_result"
    }
   ],
   "source": [
    "#e.by using where function\n",
    "\n",
    "a= np.random.randint(1,50,(2,3,4))\n",
    "a"
   ]
  },
  {
   "cell_type": "code",
   "execution_count": 157,
   "metadata": {},
   "outputs": [
    {
     "data": {
      "text/plain": [
       "array([[[ 0, -1, -1,  0],\n",
       "        [ 0, -1, -1,  0],\n",
       "        [-1,  0, -1, -1]],\n",
       "\n",
       "       [[ 0, -1, -1, -1],\n",
       "        [ 0,  0,  0,  0],\n",
       "        [-1, -1, -1,  0]]])"
      ]
     },
     "execution_count": 157,
     "metadata": {},
     "output_type": "execute_result"
    }
   ],
   "source": [
    "np.where(a%2==0,0,-1)"
   ]
  },
  {
   "cell_type": "code",
   "execution_count": null,
   "metadata": {},
   "outputs": [],
   "source": []
  },
  {
   "cell_type": "code",
   "execution_count": null,
   "metadata": {},
   "outputs": [],
   "source": []
  },
  {
   "cell_type": "code",
   "execution_count": null,
   "metadata": {},
   "outputs": [],
   "source": []
  },
  {
   "cell_type": "code",
   "execution_count": null,
   "metadata": {},
   "outputs": [],
   "source": []
  },
  {
   "cell_type": "code",
   "execution_count": null,
   "metadata": {},
   "outputs": [],
   "source": []
  },
  {
   "cell_type": "code",
   "execution_count": 159,
   "metadata": {},
   "outputs": [
    {
     "data": {
      "text/plain": [
       "array([[[30, 35, 23, 46],\n",
       "        [44, 23,  7, 36],\n",
       "        [27, 22, 19, 35]],\n",
       "\n",
       "       [[ 2, 33, 19, 31],\n",
       "        [44,  8,  8, 20],\n",
       "        [ 3, 27, 13,  8]]])"
      ]
     },
     "execution_count": 159,
     "metadata": {},
     "output_type": "execute_result"
    }
   ],
   "source": [
    "a"
   ]
  },
  {
   "cell_type": "code",
   "execution_count": 36,
   "metadata": {},
   "outputs": [
    {
     "data": {
      "text/plain": [
       "array([[5, 2, 2, 1, 5],\n",
       "       [2, 5, 1, 1, 4],\n",
       "       [1, 4, 2, 2, 1],\n",
       "       [3, 3, 1, 2, 7]])"
      ]
     },
     "execution_count": 36,
     "metadata": {},
     "output_type": "execute_result"
    }
   ],
   "source": [
    "np.min(a,axis=0) #elements"
   ]
  },
  {
   "cell_type": "code",
   "execution_count": 38,
   "metadata": {},
   "outputs": [
    {
     "data": {
      "text/plain": [
       "array([[1, 3, 3, 1, 1],\n",
       "       [4, 2, 1, 1, 5],\n",
       "       [2, 4, 1, 1, 3]])"
      ]
     },
     "execution_count": 38,
     "metadata": {},
     "output_type": "execute_result"
    }
   ],
   "source": [
    "np.min(a,axis=1) #col wise"
   ]
  },
  {
   "cell_type": "code",
   "execution_count": 128,
   "metadata": {},
   "outputs": [
    {
     "data": {
      "text/plain": [
       "array([[1, 2, 2, 2],\n",
       "       [2, 1, 2, 1],\n",
       "       [1, 1, 3, 2]])"
      ]
     },
     "execution_count": 128,
     "metadata": {},
     "output_type": "execute_result"
    }
   ],
   "source": [
    "np.min(a,axis=2) #row wise"
   ]
  },
  {
   "cell_type": "code",
   "execution_count": 161,
   "metadata": {},
   "outputs": [
    {
     "data": {
      "text/plain": [
       "array([[1, 2, 3],\n",
       "       [4, 5, 6]])"
      ]
     },
     "execution_count": 161,
     "metadata": {},
     "output_type": "execute_result"
    }
   ],
   "source": [
    "k= np.array([[1,2,3],[4,5,6]])\n",
    "k"
   ]
  },
  {
   "cell_type": "code",
   "execution_count": 165,
   "metadata": {},
   "outputs": [
    {
     "data": {
      "text/plain": [
       "array([[   1,   32,  243],\n",
       "       [1024, 3125, 7776]], dtype=int32)"
      ]
     },
     "execution_count": 165,
     "metadata": {},
     "output_type": "execute_result"
    }
   ],
   "source": [
    "f(k)"
   ]
  },
  {
   "cell_type": "code",
   "execution_count": 183,
   "metadata": {},
   "outputs": [
    {
     "ename": "TypeError",
     "evalue": "'int' object is not iterable",
     "output_type": "error",
     "traceback": [
      "\u001b[1;31m---------------------------------------------------------------------------\u001b[0m",
      "\u001b[1;31mTypeError\u001b[0m                                 Traceback (most recent call last)",
      "Cell \u001b[1;32mIn[183], line 5\u001b[0m\n\u001b[0;32m      2\u001b[0m     \u001b[38;5;28;01mreturn\u001b[39;00m \u001b[38;5;28mmin\u001b[39m(x)\n\u001b[0;32m      4\u001b[0m f([\u001b[38;5;241m1\u001b[39m,\u001b[38;5;241m2\u001b[39m,\u001b[38;5;241m3\u001b[39m,\u001b[38;5;241m4\u001b[39m])\n\u001b[1;32m----> 5\u001b[0m f(\u001b[38;5;241m2\u001b[39m)\n",
      "Cell \u001b[1;32mIn[183], line 2\u001b[0m, in \u001b[0;36mf\u001b[1;34m(x)\u001b[0m\n\u001b[0;32m      1\u001b[0m \u001b[38;5;28;01mdef\u001b[39;00m \u001b[38;5;21mf\u001b[39m(x):\n\u001b[1;32m----> 2\u001b[0m     \u001b[38;5;28;01mreturn\u001b[39;00m \u001b[38;5;28mmin\u001b[39m(x)\n",
      "\u001b[1;31mTypeError\u001b[0m: 'int' object is not iterable"
     ]
    }
   ],
   "source": [
    "def f(x):\n",
    "    return min(x)\n",
    "    \n",
    "f([1,2,3,4])\n",
    "f(2)"
   ]
  },
  {
   "cell_type": "code",
   "execution_count": 169,
   "metadata": {},
   "outputs": [
    {
     "data": {
      "text/plain": [
       "array([[1, 2, 3],\n",
       "       [4, 5, 6]])"
      ]
     },
     "execution_count": 169,
     "metadata": {},
     "output_type": "execute_result"
    }
   ],
   "source": [
    "k"
   ]
  },
  {
   "cell_type": "code",
   "execution_count": 171,
   "metadata": {},
   "outputs": [
    {
     "data": {
      "text/plain": [
       "array([[   1,   32,  243],\n",
       "       [1024, 3125, 7776]], dtype=int32)"
      ]
     },
     "execution_count": 171,
     "metadata": {},
     "output_type": "execute_result"
    }
   ],
   "source": [
    "np.apply_along_axis(f, 0, k)"
   ]
  },
  {
   "cell_type": "code",
   "execution_count": 175,
   "metadata": {},
   "outputs": [
    {
     "data": {
      "text/plain": [
       "array([[   1,   32,  243],\n",
       "       [1024, 3125, 7776]], dtype=int32)"
      ]
     },
     "execution_count": 175,
     "metadata": {},
     "output_type": "execute_result"
    }
   ],
   "source": [
    "np.apply_along_axis(f, 1, k)"
   ]
  },
  {
   "cell_type": "code",
   "execution_count": 177,
   "metadata": {},
   "outputs": [
    {
     "data": {
      "text/plain": [
       "array([[ 1,  2,  3],\n",
       "       [ 4,  5, 10],\n",
       "       [ 2,  1,  2]])"
      ]
     },
     "execution_count": 177,
     "metadata": {},
     "output_type": "execute_result"
    }
   ],
   "source": [
    "k= np.array([[1,2,3],[4,5,10],[2,1,2]])\n",
    "k"
   ]
  },
  {
   "cell_type": "code",
   "execution_count": 64,
   "metadata": {},
   "outputs": [
    {
     "data": {
      "text/plain": [
       "array([1, 1, 2])"
      ]
     },
     "execution_count": 64,
     "metadata": {},
     "output_type": "execute_result"
    }
   ],
   "source": [
    "np.apply_along_axis(lambda x: min(x), 0, k)"
   ]
  },
  {
   "cell_type": "code",
   "execution_count": 62,
   "metadata": {},
   "outputs": [
    {
     "data": {
      "text/plain": [
       "array([1, 4, 1])"
      ]
     },
     "execution_count": 62,
     "metadata": {},
     "output_type": "execute_result"
    }
   ],
   "source": [
    "np.apply_along_axis(lambda x: min(x), 1, k)"
   ]
  },
  {
   "cell_type": "markdown",
   "metadata": {},
   "source": [
    "# task\n",
    "\n",
    "1. explore Copy vs View\n",
    "\n",
    "2. Write a program to generate an array with shape 5*4 at random containing positive integer. Perform an update by replacing all numbers which are divisible by 5 with python and which are not divsible by 5 replace them with java.**\n",
    "\n",
    "1. using two for loops\n",
    "2. using one loop(nditer)\n",
    "3. without using loop \n",
    "a.(boolean indexing)\n",
    "b.(where)\n",
    "\n",
    "3. write a function to return prime numbers.\n",
    "a. create a random numpy array of shape(5,4) with integers in it and from that random array \n",
    "  get the prime numbers using the above created function.\n",
    "b. apply the function along different axis'es"
   ]
  },
  {
   "cell_type": "code",
   "execution_count": null,
   "metadata": {},
   "outputs": [],
   "source": []
  },
  {
   "cell_type": "code",
   "execution_count": null,
   "metadata": {},
   "outputs": [],
   "source": []
  },
  {
   "cell_type": "code",
   "execution_count": null,
   "metadata": {},
   "outputs": [],
   "source": [
    "https://numpy.org/doc/stable/reference/"
   ]
  }
 ],
 "metadata": {
  "kernelspec": {
   "display_name": "Python 3 (ipykernel)",
   "language": "python",
   "name": "python3"
  },
  "language_info": {
   "codemirror_mode": {
    "name": "ipython",
    "version": 3
   },
   "file_extension": ".py",
   "mimetype": "text/x-python",
   "name": "python",
   "nbconvert_exporter": "python",
   "pygments_lexer": "ipython3",
   "version": "3.12.4"
  },
  "toc": {
   "nav_menu": {},
   "number_sections": true,
   "sideBar": true,
   "skip_h1_title": false,
   "title_cell": "Table of Contents",
   "title_sidebar": "Contents",
   "toc_cell": false,
   "toc_position": {},
   "toc_section_display": true,
   "toc_window_display": false
  },
  "varInspector": {
   "cols": {
    "lenName": 16,
    "lenType": 16,
    "lenVar": 40
   },
   "kernels_config": {
    "python": {
     "delete_cmd_postfix": "",
     "delete_cmd_prefix": "del ",
     "library": "var_list.py",
     "varRefreshCmd": "print(var_dic_list())"
    },
    "r": {
     "delete_cmd_postfix": ") ",
     "delete_cmd_prefix": "rm(",
     "library": "var_list.r",
     "varRefreshCmd": "cat(var_dic_list()) "
    }
   },
   "types_to_exclude": [
    "module",
    "function",
    "builtin_function_or_method",
    "instance",
    "_Feature"
   ],
   "window_display": false
  }
 },
 "nbformat": 4,
 "nbformat_minor": 4
}
