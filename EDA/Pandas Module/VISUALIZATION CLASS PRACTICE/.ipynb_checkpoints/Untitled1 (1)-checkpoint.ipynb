{
 "cells": [
  {
   "cell_type": "code",
   "execution_count": 1,
   "id": "f708fdf4-6905-4994-9ab4-45487d8c6f36",
   "metadata": {},
   "outputs": [
    {
     "name": "stdout",
     "output_type": "stream",
     "text": [
      "Requirement already satisfied: pip in c:\\users\\lenovo\\anaconda3\\lib\\site-packages (24.2)\n",
      "Requirement already satisfied: anaconda-cloud-auth in c:\\users\\lenovo\\anaconda3\\lib\\site-packages (0.1.3)\n",
      "Requirement already satisfied: cryptography>=3.4.0 in c:\\users\\lenovo\\anaconda3\\lib\\site-packages (from anaconda-cloud-auth) (41.0.3)\n",
      "Requirement already satisfied: keyring in c:\\users\\lenovo\\anaconda3\\lib\\site-packages (from anaconda-cloud-auth) (23.13.1)\n",
      "Requirement already satisfied: pkce in c:\\users\\lenovo\\anaconda3\\lib\\site-packages (from anaconda-cloud-auth) (1.0.3)\n",
      "Requirement already satisfied: pydantic<2.0 in c:\\users\\lenovo\\anaconda3\\lib\\site-packages (from anaconda-cloud-auth) (1.10.12)\n",
      "Requirement already satisfied: pyjwt in c:\\users\\lenovo\\anaconda3\\lib\\site-packages (from anaconda-cloud-auth) (2.4.0)\n",
      "Requirement already satisfied: python-dotenv in c:\\users\\lenovo\\anaconda3\\lib\\site-packages (from anaconda-cloud-auth) (0.21.0)\n",
      "Requirement already satisfied: requests in c:\\users\\lenovo\\anaconda3\\lib\\site-packages (from anaconda-cloud-auth) (2.31.0)\n",
      "Requirement already satisfied: cffi>=1.12 in c:\\users\\lenovo\\anaconda3\\lib\\site-packages (from cryptography>=3.4.0->anaconda-cloud-auth) (1.15.1)\n",
      "Requirement already satisfied: typing-extensions>=4.2.0 in c:\\users\\lenovo\\anaconda3\\lib\\site-packages (from pydantic<2.0->anaconda-cloud-auth) (4.12.2)\n",
      "Requirement already satisfied: jaraco.classes in c:\\users\\lenovo\\anaconda3\\lib\\site-packages (from keyring->anaconda-cloud-auth) (3.2.1)\n",
      "Requirement already satisfied: importlib-metadata>=4.11.4 in c:\\users\\lenovo\\anaconda3\\lib\\site-packages (from keyring->anaconda-cloud-auth) (6.0.0)\n",
      "Requirement already satisfied: pywin32-ctypes>=0.2.0 in c:\\users\\lenovo\\anaconda3\\lib\\site-packages (from keyring->anaconda-cloud-auth) (0.2.0)\n",
      "Requirement already satisfied: charset-normalizer<4,>=2 in c:\\users\\lenovo\\anaconda3\\lib\\site-packages (from requests->anaconda-cloud-auth) (2.0.4)\n",
      "Requirement already satisfied: idna<4,>=2.5 in c:\\users\\lenovo\\anaconda3\\lib\\site-packages (from requests->anaconda-cloud-auth) (3.4)\n",
      "Requirement already satisfied: urllib3<3,>=1.21.1 in c:\\users\\lenovo\\anaconda3\\lib\\site-packages (from requests->anaconda-cloud-auth) (1.26.16)\n",
      "Requirement already satisfied: certifi>=2017.4.17 in c:\\users\\lenovo\\anaconda3\\lib\\site-packages (from requests->anaconda-cloud-auth) (2023.7.22)\n",
      "Requirement already satisfied: pycparser in c:\\users\\lenovo\\anaconda3\\lib\\site-packages (from cffi>=1.12->cryptography>=3.4.0->anaconda-cloud-auth) (2.21)\n",
      "Requirement already satisfied: zipp>=0.5 in c:\\users\\lenovo\\anaconda3\\lib\\site-packages (from importlib-metadata>=4.11.4->keyring->anaconda-cloud-auth) (3.11.0)\n",
      "Requirement already satisfied: more-itertools in c:\\users\\lenovo\\anaconda3\\lib\\site-packages (from jaraco.classes->keyring->anaconda-cloud-auth) (8.12.0)\n",
      "^C\n"
     ]
    }
   ],
   "source": [
    "!python -m pip install --upgrade pip\n",
    "!pip install pydantic==1.10.12 -q\n",
    "!pip install anaconda-cloud-auth\n",
    "!conda install anaconda-cloud-auth"
   ]
  },
  {
   "cell_type": "code",
   "execution_count": 2,
   "id": "2e89b3a9-4eb7-4e0c-9ef5-0d473a50053a",
   "metadata": {},
   "outputs": [],
   "source": [
    "!pip install ydata-profiling -q"
   ]
  },
  {
   "cell_type": "code",
   "execution_count": null,
   "id": "b760e879-ec82-4c24-83fd-b7bfa3462cf5",
   "metadata": {},
   "outputs": [],
   "source": [
    "import pandas as pd\n",
    "from ydata_profiling import ProfileReport"
   ]
  },
  {
   "cell_type": "code",
   "execution_count": null,
   "id": "6c57efda-9375-41c9-a7a0-0dc0b0086850",
   "metadata": {},
   "outputs": [],
   "source": [
    "df = pd.read_csv('3472386-auto-mpg/auto-mpg.csv')"
   ]
  },
  {
   "cell_type": "code",
   "execution_count": null,
   "id": "012d9959-bec5-44d5-abbc-416c5567c552",
   "metadata": {},
   "outputs": [],
   "source": [
    "profile = ProfileReport(df,title = 'pandas profiling report')\n",
    "profile.to_notebook_iframe()"
   ]
  },
  {
   "cell_type": "code",
   "execution_count": null,
   "id": "6299108b-45b4-42cb-9ffc-b19e4db44463",
   "metadata": {},
   "outputs": [],
   "source": []
  }
 ],
 "metadata": {
  "kernelspec": {
   "display_name": "Python 3 (ipykernel)",
   "language": "python",
   "name": "python3"
  },
  "language_info": {
   "codemirror_mode": {
    "name": "ipython",
    "version": 3
   },
   "file_extension": ".py",
   "mimetype": "text/x-python",
   "name": "python",
   "nbconvert_exporter": "python",
   "pygments_lexer": "ipython3",
   "version": "3.11.5"
  }
 },
 "nbformat": 4,
 "nbformat_minor": 5
}
