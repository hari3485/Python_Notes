{
 "cells": [
  {
   "cell_type": "code",
   "execution_count": null,
   "id": "51ff36a3",
   "metadata": {},
   "outputs": [],
   "source": [
    "df = pd.read_csv(\"auto-mpg.csv\")\n",
    "df"
   ]
  },
  {
   "cell_type": "code",
   "execution_count": null,
   "id": "c1849170",
   "metadata": {},
   "outputs": [],
   "source": [
    "import pandas as pd\n",
    "import seaborn as sns\n",
    "import numpy as np"
   ]
  },
  {
   "cell_type": "code",
   "execution_count": null,
   "id": "ce00ecd5",
   "metadata": {},
   "outputs": [],
   "source": [
    "df.head()"
   ]
  },
  {
   "cell_type": "code",
   "execution_count": null,
   "id": "a778c5ae",
   "metadata": {},
   "outputs": [],
   "source": [
    "df.describe().T"
   ]
  },
  {
   "cell_type": "code",
   "execution_count": null,
   "id": "d05fe94b",
   "metadata": {},
   "outputs": [],
   "source": [
    "df.info()"
   ]
  },
  {
   "cell_type": "code",
   "execution_count": null,
   "id": "a57b931a",
   "metadata": {},
   "outputs": [],
   "source": [
    "# When we have to find distribution use \"KDE PLOT\" or \"HISTOGRAM\"\n",
    "# \"KDE\" gives better understanding\n",
    "df[\"mpg\"].plot(kind = \"hist\")"
   ]
  },
  {
   "cell_type": "code",
   "execution_count": null,
   "id": "4da8b9d9",
   "metadata": {},
   "outputs": [],
   "source": [
    "sns.histplot(data = df , x = df[\"mpg\"] , kde = True , color = \"g\")"
   ]
  },
  {
   "cell_type": "code",
   "execution_count": null,
   "id": "aacff707",
   "metadata": {},
   "outputs": [],
   "source": [
    "# How many cars are from each origin (USA,Europe,Japan)\n",
    "df[\"origin\"].value_counts()"
   ]
  },
  {
   "cell_type": "code",
   "execution_count": null,
   "id": "b809cb9e",
   "metadata": {},
   "outputs": [],
   "source": [
    "df[\"origin\"] = df[\"origin\"].map({1:\"USA\",2:\"Europe\",3:\"Japan\"})"
   ]
  },
  {
   "cell_type": "code",
   "execution_count": null,
   "id": "cb1f2710",
   "metadata": {},
   "outputs": [],
   "source": [
    "df[\"origin\"].value_counts()"
   ]
  },
  {
   "cell_type": "code",
   "execution_count": null,
   "id": "da957528",
   "metadata": {},
   "outputs": [],
   "source": [
    "sns.countplot(data = df, x = df[\"origin\"] ,color = \"k\" )"
   ]
  },
  {
   "cell_type": "code",
   "execution_count": null,
   "id": "d00549a3",
   "metadata": {},
   "outputs": [],
   "source": [
    "# Percentage of cylinders"
   ]
  },
  {
   "cell_type": "code",
   "execution_count": null,
   "id": "9336df56",
   "metadata": {},
   "outputs": [],
   "source": [
    "sns.boxplot(data = df, x = df[\"cylinders\"] , y = df[\"mpg\"])\n",
    "# plt.xlabel(\"cylinders\")\n",
    "# plt.ylabel(\"mpg\")\n",
    "plt.show()"
   ]
  },
  {
   "cell_type": "code",
   "execution_count": null,
   "id": "488f0519",
   "metadata": {},
   "outputs": [],
   "source": [
    "# Distribution of displacement in the dataset\n",
    "sns.histplot(data = df,x = df[\"displacement\"] , kde = True)"
   ]
  },
  {
   "cell_type": "code",
   "execution_count": null,
   "id": "c22d11eb",
   "metadata": {},
   "outputs": [],
   "source": [
    "# Relationship between \"MPG\" and \"horsepower\" and \"Weight\"\n",
    "df[\"horsepower\"] = df[\"horsepower\"].astype\n",
    "\n",
    "\n",
    "\n",
    "\n",
    "\n"
   ]
  },
  {
   "cell_type": "code",
   "execution_count": null,
   "id": "10dd3767",
   "metadata": {},
   "outputs": [],
   "source": [
    "plt.figure(figsize = (5,3))\n",
    "sns.scatterplot(data = df,x = df[\"mpg\"] , y = df[\"acceleration\"])\n",
    "sns.regplot(data = df, x = df[\"mpg\"] , y = df[\"acceleration\"] , line_kws = {\"color\":\"g\"})"
   ]
  },
  {
   "cell_type": "code",
   "execution_count": null,
   "id": "d56f3c54",
   "metadata": {},
   "outputs": [],
   "source": [
    "df.corr(method = 'CorrelationMethod' ,\n",
    "min_periods =  df[\"mpg\"],\n",
    "numeric_only =  df[\"horsepower\"])"
   ]
  },
  {
   "cell_type": "code",
   "execution_count": null,
   "id": "55399ce0",
   "metadata": {},
   "outputs": [],
   "source": [
    "# Checing for missing values \n",
    "hp_is_digit = pd.DataFrame(df[\"horsepower\"].str.isdigit())\n",
    "df[hp_is_digit[\"horsepower\"] == False]"
   ]
  },
  {
   "cell_type": "code",
   "execution_count": null,
   "id": "9c84bdad",
   "metadata": {},
   "outputs": [],
   "source": [
    "# Replacing them nwith np.nan\n",
    "df = df.replace(\"?\",np.nan)"
   ]
  },
  {
   "cell_type": "code",
   "execution_count": null,
   "id": "20056c0e",
   "metadata": {},
   "outputs": [],
   "source": [
    "#Checking whether there are missing values are there not\n",
    "df[hp_is_digit[\"horsepower\"] == False]"
   ]
  },
  {
   "cell_type": "code",
   "execution_count": null,
   "id": "16ab9b18",
   "metadata": {},
   "outputs": [],
   "source": [
    "# Converting the type to float 64\n",
    "df[\"horsepower\"] = df[\"horsepower\"].astype(\"float64\")\n",
    "df.drop(df[\"car name\"],axis = 1 , inplace = True) # dropping categorical column\n",
    "median_filler = lambda x :x .fillna(x.median()) # function applying the median to mid=ssing\n",
    "df = df.apply(median_filler)"
   ]
  },
  {
   "cell_type": "code",
   "execution_count": null,
   "id": "4e081be0",
   "metadata": {},
   "outputs": [],
   "source": []
  },
  {
   "cell_type": "code",
   "execution_count": null,
   "id": "6dc65864",
   "metadata": {},
   "outputs": [],
   "source": [
    "numerical_cols = df[[\"mpg\",\"acceleration\",\"weight\",\"horsepower\",\"displacement\"]]\n",
    "numerical_cols"
   ]
  },
  {
   "cell_type": "code",
   "execution_count": null,
   "id": "4e39d35c",
   "metadata": {},
   "outputs": [],
   "source": [
    "sns.heatmap(numerical_cols.corr(), annot = True ,  cmap=\"coolwarm\")"
   ]
  },
  {
   "cell_type": "code",
   "execution_count": null,
   "id": "149e2cce",
   "metadata": {},
   "outputs": [],
   "source": [
    "df.groupby(\"mpg\")[\"model year\"].count().sort_values(ascending = False).head(10)"
   ]
  },
  {
   "cell_type": "code",
   "execution_count": null,
   "id": "096fe6b4",
   "metadata": {},
   "outputs": [],
   "source": [
    " a = df[[\"mpg\",\"acceleration\"]]\n",
    "sns.heatmap(a.corr(),annot = True , cmap = \"coolwarm\")"
   ]
  },
  {
   "cell_type": "code",
   "execution_count": null,
   "id": "6b87da2e",
   "metadata": {},
   "outputs": [],
   "source": [
    "sns.boxplot(data = df , x = df[\"mpg\"] , y = df[\"origin\"])\n",
    "plt.xlabel(\"mpg\")\n",
    "plt.ylabel(\"origin\")\n",
    "plt.show()"
   ]
  },
  {
   "cell_type": "code",
   "execution_count": null,
   "id": "ca2c2148",
   "metadata": {},
   "outputs": [],
   "source": []
  }
 ],
 "metadata": {
  "kernelspec": {
   "display_name": "Python 3 (ipykernel)",
   "language": "python",
   "name": "python3"
  },
  "language_info": {
   "codemirror_mode": {
    "name": "ipython",
    "version": 3
   },
   "file_extension": ".py",
   "mimetype": "text/x-python",
   "name": "python",
   "nbconvert_exporter": "python",
   "pygments_lexer": "ipython3",
   "version": "3.11.5"
  }
 },
 "nbformat": 4,
 "nbformat_minor": 5
}
