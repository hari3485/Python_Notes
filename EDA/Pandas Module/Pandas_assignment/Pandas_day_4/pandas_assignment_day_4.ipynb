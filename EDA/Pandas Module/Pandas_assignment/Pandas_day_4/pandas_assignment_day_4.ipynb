{
  "nbformat": 4,
  "nbformat_minor": 0,
  "metadata": {
    "colab": {
      "name": "pandas_assignment_day_4.ipynb",
      "provenance": [],
      "collapsed_sections": []
    },
    "kernelspec": {
      "name": "python3",
      "display_name": "Python 3"
    },
    "language_info": {
      "name": "python"
    }
  },
  "cells": [
    {
      "cell_type": "markdown",
      "source": [
        "##### import the Diamond dataset"
      ],
      "metadata": {
        "id": "vbBnPGyZkbtk"
      }
    },
    {
      "cell_type": "markdown",
      "source": [
        "###### 1. Write a Pandas program to find the number of rows and columns and data type of each column of diamonds Dataframe."
      ],
      "metadata": {
        "id": "0gLkJdTUlFsD"
      }
    },
    {
      "cell_type": "code",
      "source": [
        "### code here"
      ],
      "metadata": {
        "id": "9TQb1fhrHKGZ"
      },
      "execution_count": null,
      "outputs": []
    },
    {
      "cell_type": "markdown",
      "source": [
        "##### 2. Write a Pandas program to summarize only 'object' columns of the diamonds Dataframe."
      ],
      "metadata": {
        "id": "2hCsz2QLmdFK"
      }
    },
    {
      "cell_type": "code",
      "source": [
        "### code here"
      ],
      "metadata": {
        "id": "yidnCTpKmcSV"
      },
      "execution_count": null,
      "outputs": []
    },
    {
      "cell_type": "markdown",
      "source": [
        "###### 3. Write a Pandas program to remove the second column of the diamonds Dataframe. (don't use original dataset)"
      ],
      "metadata": {
        "id": "MSQBTbT4mmOT"
      }
    },
    {
      "cell_type": "code",
      "source": [
        "### code here"
      ],
      "metadata": {
        "id": "-KnxM5wZmcU9"
      },
      "execution_count": null,
      "outputs": []
    },
    {
      "cell_type": "markdown",
      "source": [
        "###### 4. Write a Pandas program to remove multiple rows at once (axis=0 refers to rows) from diamonds dataframe. (dont use original dataset)"
      ],
      "metadata": {
        "id": "ueDcExq4m76F"
      }
    },
    {
      "cell_type": "code",
      "source": [
        "### code here"
      ],
      "metadata": {
        "id": "R5UWSmb8mcXd"
      },
      "execution_count": null,
      "outputs": []
    },
    {
      "cell_type": "markdown",
      "source": [
        "###### 5. Write a Pandas program to sort the 'cut' Series in ascending order (returns a Series) of diamonds Dataframe. "
      ],
      "metadata": {
        "id": "1ivZW6tqnRKL"
      }
    },
    {
      "cell_type": "code",
      "source": [
        "### code here"
      ],
      "metadata": {
        "id": "KUgjKfuAmcZr"
      },
      "execution_count": null,
      "outputs": []
    },
    {
      "cell_type": "markdown",
      "source": [
        "###### 6. Write a Pandas program to sort the entire diamonds DataFrame by the 'carat' Series in ascending and descending order."
      ],
      "metadata": {
        "id": "BCvcHa28nl7D"
      }
    },
    {
      "cell_type": "code",
      "source": [
        "### code here"
      ],
      "metadata": {
        "id": "GwfuqL1MmccL"
      },
      "execution_count": null,
      "outputs": []
    },
    {
      "cell_type": "markdown",
      "source": [
        "###### 7. Write a Pandas program to filter the DataFrame rows to only show carat weight at least 0.3."
      ],
      "metadata": {
        "id": "cSpCOh8coK6r"
      }
    },
    {
      "cell_type": "code",
      "source": [
        "#### code here"
      ],
      "metadata": {
        "id": "AgdZqV1Pmcey"
      },
      "execution_count": null,
      "outputs": []
    },
    {
      "cell_type": "markdown",
      "source": [
        "###### 8.  Write a Pandas program to find the details of the diamonds where length>5, width>5 and depth>5."
      ],
      "metadata": {
        "id": "4FpU9oyLoXJs"
      }
    },
    {
      "cell_type": "code",
      "source": [
        "### code here "
      ],
      "metadata": {
        "id": "XNKHLmjzmchr"
      },
      "execution_count": null,
      "outputs": []
    },
    {
      "cell_type": "markdown",
      "source": [
        "###### 9. Write a Pandas program to calculate the mean of each row of diamonds DataFrame."
      ],
      "metadata": {
        "id": "y351ifPOp772"
      }
    },
    {
      "cell_type": "code",
      "source": [
        "### code here"
      ],
      "metadata": {
        "id": "cmcg9Jy0oazK"
      },
      "execution_count": null,
      "outputs": []
    },
    {
      "cell_type": "markdown",
      "source": [
        "###### 10. Write a Pandas program to calculate the mean of price for each cut  and find maximum top 3 of diamonds DataFrame. "
      ],
      "metadata": {
        "id": "Gp_gDhj_qXm9"
      }
    },
    {
      "cell_type": "code",
      "source": [
        "#### code here"
      ],
      "metadata": {
        "id": "0Ka1Xpaioa1s"
      },
      "execution_count": null,
      "outputs": []
    },
    {
      "cell_type": "markdown",
      "source": [
        "##### 11. Write a Pandas program to calculate count, minimum, maximum price for each cut of diamonds DataFrame."
      ],
      "metadata": {
        "id": "puSNBUFWqp6c"
      }
    },
    {
      "cell_type": "code",
      "source": [
        "### code here"
      ],
      "metadata": {
        "id": "6lviyQH7oa4W"
      },
      "execution_count": null,
      "outputs": []
    },
    {
      "cell_type": "markdown",
      "source": [
        "###### 12. Write a Pandas program to display and count the unique values in cut series of diamonds DataFrame."
      ],
      "metadata": {
        "id": "4yylPeGNq0DV"
      }
    },
    {
      "cell_type": "code",
      "source": [
        "### code here"
      ],
      "metadata": {
        "id": "AZIo7d4zoa9c"
      },
      "execution_count": null,
      "outputs": []
    },
    {
      "cell_type": "markdown",
      "source": [
        "######13.  Write a Pandas program to count the number of missing values in each Series of diamonds DataFrame."
      ],
      "metadata": {
        "id": "Uc9HsMNOsZ-R"
      }
    },
    {
      "cell_type": "code",
      "source": [
        "### code here"
      ],
      "metadata": {
        "id": "9IQdRGXEobAE"
      },
      "execution_count": null,
      "outputs": []
    },
    {
      "cell_type": "markdown",
      "source": [
        "###### 14. Write a Pandas program to calculate the multiply of x, y and z for each cut of diamonds DataFrame."
      ],
      "metadata": {
        "id": "cTnyI4_0tdj0"
      }
    },
    {
      "cell_type": "code",
      "source": [
        "### code here"
      ],
      "metadata": {
        "id": "xb26UEm_obC8"
      },
      "execution_count": null,
      "outputs": []
    },
    {
      "cell_type": "markdown",
      "source": [
        "##### 15. Write a Pandas program to read rows 0 through 2 (inclusive), columns ‘color’ and ‘price’ of diamonds DataFrame."
      ],
      "metadata": {
        "id": "BJBqso15t3mV"
      }
    },
    {
      "cell_type": "code",
      "source": [
        "## code here"
      ],
      "metadata": {
        "id": "IT5EQSs5obFr"
      },
      "execution_count": null,
      "outputs": []
    },
    {
      "cell_type": "markdown",
      "source": [
        "###### 16. Write a Pandas program to read rows in positions 0 and 1, columns in positions 0 and 3 of diamonds DataFrame."
      ],
      "metadata": {
        "id": "9I0eio5nuFW9"
      }
    },
    {
      "cell_type": "code",
      "source": [
        "### code here"
      ],
      "metadata": {
        "id": "fYJL0uu2tlD6"
      },
      "execution_count": null,
      "outputs": []
    },
    {
      "cell_type": "markdown",
      "source": [
        "##### 17. Write a Pandas program to get randomly sample rows from diamonds DataFrame."
      ],
      "metadata": {
        "id": "hKD0G8KDuTWW"
      }
    },
    {
      "cell_type": "code",
      "source": [
        "### code here"
      ],
      "metadata": {
        "id": "8sVNHGChtlG0"
      },
      "execution_count": null,
      "outputs": []
    },
    {
      "cell_type": "markdown",
      "source": [
        "###### 18. Write a Pandas program to get sample 75% of the diamonds DataFrame's rows without replacement and store the remaining 25% of the rows in another DataFrame."
      ],
      "metadata": {
        "id": "0hRG6-8Fugsl"
      }
    },
    {
      "cell_type": "code",
      "source": [
        "### code here"
      ],
      "metadata": {
        "id": "WRrlJ3gwtlJv"
      },
      "execution_count": null,
      "outputs": []
    },
    {
      "cell_type": "markdown",
      "source": [
        "###### 19. Write a Pandas program to read the diamonds DataFrame and detect duplicate color."
      ],
      "metadata": {
        "id": "R4cLt_TIu4rF"
      }
    },
    {
      "cell_type": "code",
      "source": [
        "#### code here"
      ],
      "metadata": {
        "id": "I0LQz9SkmckP"
      },
      "execution_count": null,
      "outputs": []
    },
    {
      "cell_type": "markdown",
      "source": [
        "###### 20. Write a Pandas program to count the duplicate rows of diamonds DataFrame."
      ],
      "metadata": {
        "id": "w1vDKDHcu8s_"
      }
    },
    {
      "cell_type": "code",
      "source": [
        "#### code here"
      ],
      "metadata": {
        "id": "izBTT7LiuyKL"
      },
      "execution_count": null,
      "outputs": []
    },
    {
      "cell_type": "code",
      "source": [
        ""
      ],
      "metadata": {
        "id": "1DxLqGeOuyM_"
      },
      "execution_count": null,
      "outputs": []
    }
  ]
}