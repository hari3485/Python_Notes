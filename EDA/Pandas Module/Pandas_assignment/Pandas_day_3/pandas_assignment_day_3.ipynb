{
  "nbformat": 4,
  "nbformat_minor": 0,
  "metadata": {
    "colab": {
      "name": "pandas_assignment_day_3.ipynb",
      "provenance": [],
      "collapsed_sections": []
    },
    "kernelspec": {
      "name": "python3",
      "display_name": "Python 3"
    },
    "language_info": {
      "name": "python"
    }
  },
  "cells": [
    {
      "cell_type": "code",
      "execution_count": null,
      "metadata": {
        "id": "SzelgyB0FsQf"
      },
      "outputs": [],
      "source": [
        "import pandas as pd\n",
        "import numpy as np\n",
        "data  = {'name': ['Anastasia', 'Dima', 'Katherine', 'James', 'Emily', 'Michael', 'Matthew', 'Laura', 'Kevin', 'Jonas'],\n",
        "        'score': [12.5, 9, 16.5, np.nan, 9, 20, 14.5, np.nan, 8, 19],\n",
        "        'attempts': [1, 3, 2, 3, 2, 3, 1, 1, 2, 1],\n",
        "        'qualify': ['yes', 'no', 'yes', 'no', 'no', 'yes', 'yes', 'no', 'no', 'yes']}\n",
        "labels = ['a', 'b', 'c', 'd', 'e', 'f', 'g', 'h', 'i', 'j']"
      ]
    },
    {
      "cell_type": "markdown",
      "source": [
        "##### Write a Pandas program to create a dataframe by given dictionary and index as lables"
      ],
      "metadata": {
        "id": "bmqotkScF6nK"
      }
    },
    {
      "cell_type": "code",
      "source": [
        "### code here"
      ],
      "metadata": {
        "id": "SpSpUAs4GAyp"
      },
      "execution_count": null,
      "outputs": []
    },
    {
      "cell_type": "markdown",
      "source": [
        "##### 1. Write a Pandas program to sort the DataFrame first by 'name' in descending order, then by 'score' in ascending order"
      ],
      "metadata": {
        "id": "5tZv1fW4GH85"
      }
    },
    {
      "cell_type": "code",
      "source": [
        "### code here"
      ],
      "metadata": {
        "id": "WG9r8neaGAvk"
      },
      "execution_count": null,
      "outputs": []
    },
    {
      "cell_type": "markdown",
      "source": [
        "###### 2. Write a Pandas program to replace the 'qualify' column contains the values 'yes' and 'no' with True and False"
      ],
      "metadata": {
        "id": "UI3jsb0LGL8L"
      }
    },
    {
      "cell_type": "code",
      "source": [
        "### code here"
      ],
      "metadata": {
        "id": "cTWwRf-MGAt0"
      },
      "execution_count": null,
      "outputs": []
    },
    {
      "cell_type": "markdown",
      "source": [
        "#####3. Write a Pandas program to delete the 'attempts' column from the DataFrame"
      ],
      "metadata": {
        "id": "Jmd2TTurGPW6"
      }
    },
    {
      "cell_type": "code",
      "source": [
        "### code here"
      ],
      "metadata": {
        "id": "tunip-07GArs"
      },
      "execution_count": null,
      "outputs": []
    },
    {
      "cell_type": "markdown",
      "source": [
        "##### 4. Write a Pandas program to insert a new column in existing DataFrame."
      ],
      "metadata": {
        "id": "pytvrGs3GWHj"
      }
    },
    {
      "cell_type": "code",
      "source": [
        "### code here"
      ],
      "metadata": {
        "id": "FEBd2rlkGAph"
      },
      "execution_count": null,
      "outputs": []
    },
    {
      "cell_type": "markdown",
      "source": [
        "##### 5. Write a Pandas program to change the name 'James' to 'Maxwell' in name column of the DataFrame."
      ],
      "metadata": {
        "id": "k7uTHxM7Gb01"
      }
    },
    {
      "cell_type": "code",
      "source": [
        "### code here"
      ],
      "metadata": {
        "id": "9LOk5magGAmZ"
      },
      "execution_count": null,
      "outputs": []
    },
    {
      "cell_type": "markdown",
      "source": [
        "##### 6. Write a Pandas program to rename columns of a given DataFrame"
      ],
      "metadata": {
        "id": "eYEPFPB5i7Aa"
      }
    },
    {
      "cell_type": "code",
      "source": [
        "### code here"
      ],
      "metadata": {
        "id": "9wniiqnsi1_Y"
      },
      "execution_count": null,
      "outputs": []
    },
    {
      "cell_type": "markdown",
      "source": [
        "##### 7. Write a Pandas program to convert the datatype of a given column (floats to ints)."
      ],
      "metadata": {
        "id": "oG1UL2YQjCHb"
      }
    },
    {
      "cell_type": "code",
      "source": [
        "### code here "
      ],
      "metadata": {
        "id": "-uA_4KTOi2Bz"
      },
      "execution_count": null,
      "outputs": []
    },
    {
      "cell_type": "markdown",
      "source": [
        "###### 8.  Write a Pandas program to convert index in a column of the given dataframe. "
      ],
      "metadata": {
        "id": "ak8tUSoRjJoK"
      }
    },
    {
      "cell_type": "code",
      "source": [
        "### code here "
      ],
      "metadata": {
        "id": "I04CWvPii2EY"
      },
      "execution_count": null,
      "outputs": []
    },
    {
      "cell_type": "markdown",
      "source": [
        "##### 9. Write a Pandas program to shuffle a DataFrame rows."
      ],
      "metadata": {
        "id": "I2aKjC0SjSVs"
      }
    },
    {
      "cell_type": "code",
      "source": [
        "### code here"
      ],
      "metadata": {
        "id": "LA8GD0QGi2HE"
      },
      "execution_count": null,
      "outputs": []
    },
    {
      "cell_type": "markdown",
      "source": [
        "##### 10 Write a Pandas program to write a DataFrame to CSV file using tab separator"
      ],
      "metadata": {
        "id": "Qe6YaPPujakS"
      }
    },
    {
      "cell_type": "code",
      "source": [
        "### code here"
      ],
      "metadata": {
        "id": "428Akc6Ki2J3"
      },
      "execution_count": null,
      "outputs": []
    },
    {
      "cell_type": "code",
      "source": [
        ""
      ],
      "metadata": {
        "id": "Ul1Pk5Nkjr1M"
      },
      "execution_count": null,
      "outputs": []
    },
    {
      "cell_type": "code",
      "source": [
        ""
      ],
      "metadata": {
        "id": "vfDgKHpDjsNl"
      },
      "execution_count": null,
      "outputs": []
    },
    {
      "cell_type": "code",
      "source": [
        "student_data1 = pd.DataFrame({\n",
        "        'student_id': ['S1', 'S2', 'S3', 'S4', 'S5'],\n",
        "         'name': ['Danniella Fenton', 'Ryder Storey', 'Bryce Jensen', 'Ed Bernal', 'Kwame Morin'], \n",
        "        'marks': [200, 210, 190, 222, 199]})\n",
        "\n",
        "student_data2 = pd.DataFrame({\n",
        "        'student_id': ['S4', 'S5', 'S6', 'S7', 'S8'],\n",
        "        'name': ['Scarlette Fisher', 'Carla Williamson', 'Dante Morse', 'Kaiser William', 'Madeeha Preston'], \n",
        "        'marks': [201, 200, 198, 219, 201]})"
      ],
      "metadata": {
        "id": "bbPCO63eGr7r"
      },
      "execution_count": null,
      "outputs": []
    },
    {
      "cell_type": "markdown",
      "source": [
        "#####11. Write a Pandas program to join the two given dataframes along rows and assign all data."
      ],
      "metadata": {
        "id": "DLz-hmmlzLTD"
      }
    },
    {
      "cell_type": "code",
      "source": [
        "### code here"
      ],
      "metadata": {
        "id": "21xLDGUMzKL4"
      },
      "execution_count": null,
      "outputs": []
    },
    {
      "cell_type": "markdown",
      "source": [
        "##### 12. Write a Pandas program to join the two given dataframes along columns and assign all data."
      ],
      "metadata": {
        "id": "37u4eXAozm5m"
      }
    },
    {
      "cell_type": "code",
      "source": [
        "### code here"
      ],
      "metadata": {
        "id": "USytXbiXzKN8"
      },
      "execution_count": null,
      "outputs": []
    },
    {
      "cell_type": "markdown",
      "source": [
        "##### 13. Write a Pandas program to join the two dataframes using the common column of both dataframes."
      ],
      "metadata": {
        "id": "OT0_4R9Hz75Q"
      }
    },
    {
      "cell_type": "code",
      "source": [
        "### code here"
      ],
      "metadata": {
        "id": "BXcQvrrtzKRZ"
      },
      "execution_count": null,
      "outputs": []
    },
    {
      "cell_type": "markdown",
      "source": [
        "###### 14. Write a Pandas program to join (left join) the two dataframes using keys from left dataframe only."
      ],
      "metadata": {
        "id": "Dj90ddTu0PUF"
      }
    },
    {
      "cell_type": "code",
      "source": [
        "#### code here"
      ],
      "metadata": {
        "id": "i15MuKO4z_rt"
      },
      "execution_count": null,
      "outputs": []
    },
    {
      "cell_type": "markdown",
      "source": [
        "###### 15. Write a Pandas program to join two dataframes using keys from right dataframe only."
      ],
      "metadata": {
        "id": "UAtEru2h0TzT"
      }
    },
    {
      "cell_type": "code",
      "source": [
        "### code here"
      ],
      "metadata": {
        "id": "RboFgy0kz_tU"
      },
      "execution_count": null,
      "outputs": []
    },
    {
      "cell_type": "code",
      "source": [
        ""
      ],
      "metadata": {
        "id": "AxYNmSqnkMEV"
      },
      "execution_count": null,
      "outputs": []
    },
    {
      "cell_type": "code",
      "source": [
        ""
      ],
      "metadata": {
        "id": "UwWp4U9BkMHU"
      },
      "execution_count": null,
      "outputs": []
    },
    {
      "cell_type": "markdown",
      "source": [
        "###### import UFO dataset"
      ],
      "metadata": {
        "id": "RtrM2Rw6gHX6"
      }
    },
    {
      "cell_type": "markdown",
      "source": [
        "######16. Write a Pandas program to create the todays date."
      ],
      "metadata": {
        "id": "spB0fHQ6hGF0"
      }
    },
    {
      "cell_type": "code",
      "source": [
        "### code here"
      ],
      "metadata": {
        "id": "eH8bR6qjz_xK"
      },
      "execution_count": null,
      "outputs": []
    },
    {
      "cell_type": "markdown",
      "source": [
        "###### 17. Write a Pandas program to get the current date, oldest date and number of days between Current date and oldest date of Ufo dataset."
      ],
      "metadata": {
        "id": "7LKWRlyHhPaq"
      }
    },
    {
      "cell_type": "code",
      "source": [
        "#### code here"
      ],
      "metadata": {
        "id": "YaGaEGVRhIyO"
      },
      "execution_count": null,
      "outputs": []
    },
    {
      "cell_type": "markdown",
      "source": [
        "###### 18. Write a Pandas program to get all the info of the dataframe between 1950-10-10 and 1960-10-10."
      ],
      "metadata": {
        "id": "gwS-QG85hcZZ"
      }
    },
    {
      "cell_type": "code",
      "source": [
        "### code here "
      ],
      "metadata": {
        "id": "BdQSfqNThI1r"
      },
      "execution_count": null,
      "outputs": []
    },
    {
      "cell_type": "code",
      "source": [
        ""
      ],
      "metadata": {
        "id": "T19HD5xVhI4d"
      },
      "execution_count": null,
      "outputs": []
    }
  ]
}