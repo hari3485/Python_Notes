{
 "cells": [
  {
   "cell_type": "markdown",
   "id": "8aa91771",
   "metadata": {},
   "source": [
    "#### 1.Which year had the highest number of recorded athletes?\n"
   ]
  },
  {
   "cell_type": "code",
   "execution_count": 1,
   "id": "f0335d66",
   "metadata": {},
   "outputs": [
    {
     "data": {
      "text/html": [
       "<div>\n",
       "<style scoped>\n",
       "    .dataframe tbody tr th:only-of-type {\n",
       "        vertical-align: middle;\n",
       "    }\n",
       "\n",
       "    .dataframe tbody tr th {\n",
       "        vertical-align: top;\n",
       "    }\n",
       "\n",
       "    .dataframe thead th {\n",
       "        text-align: right;\n",
       "    }\n",
       "</style>\n",
       "<table border=\"1\" class=\"dataframe\">\n",
       "  <thead>\n",
       "    <tr style=\"text-align: right;\">\n",
       "      <th></th>\n",
       "      <th>Year</th>\n",
       "      <th>City</th>\n",
       "      <th>Sport</th>\n",
       "      <th>Discipline</th>\n",
       "      <th>Athlete</th>\n",
       "      <th>Country</th>\n",
       "      <th>Gender</th>\n",
       "      <th>Event</th>\n",
       "      <th>Medal</th>\n",
       "    </tr>\n",
       "  </thead>\n",
       "  <tbody>\n",
       "    <tr>\n",
       "      <th>0</th>\n",
       "      <td>1896</td>\n",
       "      <td>Athens</td>\n",
       "      <td>Aquatics</td>\n",
       "      <td>Swimming</td>\n",
       "      <td>HAJOS, Alfred</td>\n",
       "      <td>HUN</td>\n",
       "      <td>Men</td>\n",
       "      <td>100M Freestyle</td>\n",
       "      <td>Gold</td>\n",
       "    </tr>\n",
       "    <tr>\n",
       "      <th>1</th>\n",
       "      <td>1896</td>\n",
       "      <td>Athens</td>\n",
       "      <td>Aquatics</td>\n",
       "      <td>Swimming</td>\n",
       "      <td>HERSCHMANN, Otto</td>\n",
       "      <td>AUT</td>\n",
       "      <td>Men</td>\n",
       "      <td>100M Freestyle</td>\n",
       "      <td>Silver</td>\n",
       "    </tr>\n",
       "    <tr>\n",
       "      <th>2</th>\n",
       "      <td>1896</td>\n",
       "      <td>Athens</td>\n",
       "      <td>Aquatics</td>\n",
       "      <td>Swimming</td>\n",
       "      <td>DRIVAS, Dimitrios</td>\n",
       "      <td>GRE</td>\n",
       "      <td>Men</td>\n",
       "      <td>100M Freestyle For Sailors</td>\n",
       "      <td>Bronze</td>\n",
       "    </tr>\n",
       "    <tr>\n",
       "      <th>3</th>\n",
       "      <td>1896</td>\n",
       "      <td>Athens</td>\n",
       "      <td>Aquatics</td>\n",
       "      <td>Swimming</td>\n",
       "      <td>MALOKINIS, Ioannis</td>\n",
       "      <td>GRE</td>\n",
       "      <td>Men</td>\n",
       "      <td>100M Freestyle For Sailors</td>\n",
       "      <td>Gold</td>\n",
       "    </tr>\n",
       "    <tr>\n",
       "      <th>4</th>\n",
       "      <td>1896</td>\n",
       "      <td>Athens</td>\n",
       "      <td>Aquatics</td>\n",
       "      <td>Swimming</td>\n",
       "      <td>CHASAPIS, Spiridon</td>\n",
       "      <td>GRE</td>\n",
       "      <td>Men</td>\n",
       "      <td>100M Freestyle For Sailors</td>\n",
       "      <td>Silver</td>\n",
       "    </tr>\n",
       "    <tr>\n",
       "      <th>...</th>\n",
       "      <td>...</td>\n",
       "      <td>...</td>\n",
       "      <td>...</td>\n",
       "      <td>...</td>\n",
       "      <td>...</td>\n",
       "      <td>...</td>\n",
       "      <td>...</td>\n",
       "      <td>...</td>\n",
       "      <td>...</td>\n",
       "    </tr>\n",
       "    <tr>\n",
       "      <th>31160</th>\n",
       "      <td>2012</td>\n",
       "      <td>London</td>\n",
       "      <td>Wrestling</td>\n",
       "      <td>Wrestling Freestyle</td>\n",
       "      <td>JANIKOWSKI, Damian</td>\n",
       "      <td>POL</td>\n",
       "      <td>Men</td>\n",
       "      <td>Wg 84 KG</td>\n",
       "      <td>Bronze</td>\n",
       "    </tr>\n",
       "    <tr>\n",
       "      <th>31161</th>\n",
       "      <td>2012</td>\n",
       "      <td>London</td>\n",
       "      <td>Wrestling</td>\n",
       "      <td>Wrestling Freestyle</td>\n",
       "      <td>REZAEI, Ghasem Gholamreza</td>\n",
       "      <td>IRI</td>\n",
       "      <td>Men</td>\n",
       "      <td>Wg 96 KG</td>\n",
       "      <td>Gold</td>\n",
       "    </tr>\n",
       "    <tr>\n",
       "      <th>31162</th>\n",
       "      <td>2012</td>\n",
       "      <td>London</td>\n",
       "      <td>Wrestling</td>\n",
       "      <td>Wrestling Freestyle</td>\n",
       "      <td>TOTROV, Rustam</td>\n",
       "      <td>RUS</td>\n",
       "      <td>Men</td>\n",
       "      <td>Wg 96 KG</td>\n",
       "      <td>Silver</td>\n",
       "    </tr>\n",
       "    <tr>\n",
       "      <th>31163</th>\n",
       "      <td>2012</td>\n",
       "      <td>London</td>\n",
       "      <td>Wrestling</td>\n",
       "      <td>Wrestling Freestyle</td>\n",
       "      <td>ALEKSANYAN, Artur</td>\n",
       "      <td>ARM</td>\n",
       "      <td>Men</td>\n",
       "      <td>Wg 96 KG</td>\n",
       "      <td>Bronze</td>\n",
       "    </tr>\n",
       "    <tr>\n",
       "      <th>31164</th>\n",
       "      <td>2012</td>\n",
       "      <td>London</td>\n",
       "      <td>Wrestling</td>\n",
       "      <td>Wrestling Freestyle</td>\n",
       "      <td>LIDBERG, Jimmy</td>\n",
       "      <td>SWE</td>\n",
       "      <td>Men</td>\n",
       "      <td>Wg 96 KG</td>\n",
       "      <td>Bronze</td>\n",
       "    </tr>\n",
       "  </tbody>\n",
       "</table>\n",
       "<p>31165 rows × 9 columns</p>\n",
       "</div>"
      ],
      "text/plain": [
       "       Year    City      Sport           Discipline  \\\n",
       "0      1896  Athens   Aquatics             Swimming   \n",
       "1      1896  Athens   Aquatics             Swimming   \n",
       "2      1896  Athens   Aquatics             Swimming   \n",
       "3      1896  Athens   Aquatics             Swimming   \n",
       "4      1896  Athens   Aquatics             Swimming   \n",
       "...     ...     ...        ...                  ...   \n",
       "31160  2012  London  Wrestling  Wrestling Freestyle   \n",
       "31161  2012  London  Wrestling  Wrestling Freestyle   \n",
       "31162  2012  London  Wrestling  Wrestling Freestyle   \n",
       "31163  2012  London  Wrestling  Wrestling Freestyle   \n",
       "31164  2012  London  Wrestling  Wrestling Freestyle   \n",
       "\n",
       "                         Athlete Country Gender                       Event  \\\n",
       "0                  HAJOS, Alfred     HUN    Men              100M Freestyle   \n",
       "1               HERSCHMANN, Otto     AUT    Men              100M Freestyle   \n",
       "2              DRIVAS, Dimitrios     GRE    Men  100M Freestyle For Sailors   \n",
       "3             MALOKINIS, Ioannis     GRE    Men  100M Freestyle For Sailors   \n",
       "4             CHASAPIS, Spiridon     GRE    Men  100M Freestyle For Sailors   \n",
       "...                          ...     ...    ...                         ...   \n",
       "31160         JANIKOWSKI, Damian     POL    Men                    Wg 84 KG   \n",
       "31161  REZAEI, Ghasem Gholamreza     IRI    Men                    Wg 96 KG   \n",
       "31162             TOTROV, Rustam     RUS    Men                    Wg 96 KG   \n",
       "31163          ALEKSANYAN, Artur     ARM    Men                    Wg 96 KG   \n",
       "31164             LIDBERG, Jimmy     SWE    Men                    Wg 96 KG   \n",
       "\n",
       "        Medal  \n",
       "0        Gold  \n",
       "1      Silver  \n",
       "2      Bronze  \n",
       "3        Gold  \n",
       "4      Silver  \n",
       "...       ...  \n",
       "31160  Bronze  \n",
       "31161    Gold  \n",
       "31162  Silver  \n",
       "31163  Bronze  \n",
       "31164  Bronze  \n",
       "\n",
       "[31165 rows x 9 columns]"
      ]
     },
     "execution_count": 1,
     "metadata": {},
     "output_type": "execute_result"
    }
   ],
   "source": [
    "import pandas as pd\n",
    "import numpy as np\n",
    "olym = pd.read_csv(\"pandas datasets/summer.csv\")\n",
    "olym"
   ]
  },
  {
   "cell_type": "markdown",
   "id": "5e9ab624",
   "metadata": {},
   "source": [
    "1. Which year had the highest number of recorded athletes?"
   ]
  },
  {
   "cell_type": "code",
   "execution_count": 37,
   "id": "cb972c71",
   "metadata": {},
   "outputs": [
    {
     "name": "stdout",
     "output_type": "stream",
     "text": [
      "highest number of recorded athlets participated in 2008\n"
     ]
    }
   ],
   "source": [
    "print(\"highest number of recorded athlets participated in\",olym[\"Year\"].value_counts().idxmax())"
   ]
  },
  {
   "cell_type": "markdown",
   "id": "a767d8f1",
   "metadata": {},
   "source": [
    "2. Which city hosted the Olympics the most number of times?  "
   ]
  },
  {
   "cell_type": "code",
   "execution_count": 18,
   "id": "4f5ac929",
   "metadata": {},
   "outputs": [
    {
     "name": "stdout",
     "output_type": "stream",
     "text": [
      "Most number of times olympics happened in  City\n",
      "London                   3567\n",
      "Athens                   2149\n",
      "Los Angeles              2074\n",
      "Beijing                  2042\n",
      "Sydney                   2015\n",
      "Atlanta                  1859\n",
      "Barcelona                1705\n",
      "Seoul                    1546\n",
      "Paris                    1396\n",
      "Moscow                   1387\n",
      "Montreal                 1305\n",
      "Antwerp                  1298\n",
      "Munich                   1185\n",
      "Mexico                   1031\n",
      "Tokyo                    1010\n",
      "Helsinki                  889\n",
      "Stockholm                 885\n",
      "Melbourne / Stockholm     885\n",
      "Rome                      882\n",
      "Berlin                    875\n",
      "Amsterdam                 710\n",
      "St Louis                  470\n",
      "Name: count, dtype: int64\n",
      "Most number of times olympics happened in  London\n"
     ]
    }
   ],
   "source": [
    "print(\"Most number of times olympics happened in \" , olym[\"City\"].value_counts())\n",
    "print(\"Most number of times olympics happened in \" , olym[\"City\"].value_counts().idxmax())"
   ]
  },
  {
   "cell_type": "markdown",
   "id": "ac64c26c",
   "metadata": {},
   "source": [
    "3. Which country has the most number of athletes recorded in this dataset?  "
   ]
  },
  {
   "cell_type": "code",
   "execution_count": 12,
   "id": "3b3bd3bc",
   "metadata": {},
   "outputs": [
    {
     "name": "stdout",
     "output_type": "stream",
     "text": [
      "Most number of athletes recorded in  USA\n"
     ]
    }
   ],
   "source": [
    "print(\"Most number of athletes recorded in \",olym[\"Country\"].value_counts().idxmax())"
   ]
  },
  {
   "cell_type": "markdown",
   "id": "885e89c2",
   "metadata": {},
   "source": [
    "4. Which gender has won more medals according to this dataset?  "
   ]
  },
  {
   "cell_type": "code",
   "execution_count": 52,
   "id": "b0813f3d",
   "metadata": {},
   "outputs": [
    {
     "data": {
      "text/plain": [
       "Gender\n",
       "Men      22746\n",
       "Women     8419\n",
       "Name: Medal, dtype: int64"
      ]
     },
     "execution_count": 52,
     "metadata": {},
     "output_type": "execute_result"
    }
   ],
   "source": [
    "olym.groupby(\"Gender\")[\"Medal\"].count()"
   ]
  },
  {
   "cell_type": "code",
   "execution_count": 6,
   "id": "13a24320",
   "metadata": {},
   "outputs": [
    {
     "data": {
      "text/plain": [
       "Medal\n",
       "Gold      10486\n",
       "Bronze    10369\n",
       "Silver    10310\n",
       "Name: count, dtype: int64"
      ]
     },
     "execution_count": 6,
     "metadata": {},
     "output_type": "execute_result"
    }
   ],
   "source": [
    "olym[\"Medal\"].value_counts()\n",
    "# sum = 0\n",
    "# for i in range(len(olym[\"Medal\"].value_counts())):\n",
    "#     sum = sum + olym[\"Medal\"].value_counts()[i]\n",
    "# print(sum)"
   ]
  },
  {
   "cell_type": "markdown",
   "id": "f2657a19",
   "metadata": {},
   "source": [
    "5. Which country won the most gold medals in the 2008 Olympics?"
   ]
  },
  {
   "cell_type": "code",
   "execution_count": 7,
   "id": "c7847ca8",
   "metadata": {},
   "outputs": [
    {
     "data": {
      "text/plain": [
       "'USA'"
      ]
     },
     "execution_count": 7,
     "metadata": {},
     "output_type": "execute_result"
    }
   ],
   "source": [
    "most_gold_2008 = olym[(olym['Year'] == 2008) & (olym['Medal'] == 'Gold')]['Country'].mode()[0]\n",
    "most_gold_2008"
   ]
  },
  {
   "cell_type": "markdown",
   "id": "76f8f5d2",
   "metadata": {},
   "source": [
    "6. Which athlete has the highest number of medals in a single Olympics year?"
   ]
  },
  {
   "cell_type": "code",
   "execution_count": 8,
   "id": "df2ae627",
   "metadata": {},
   "outputs": [
    {
     "data": {
      "text/plain": [
       "'DITYATIN, Aleksandr'"
      ]
     },
     "execution_count": 8,
     "metadata": {},
     "output_type": "execute_result"
    }
   ],
   "source": [
    "most_medals_athlete = olym.groupby(['Athlete', 'Year'])['Medal'].count().idxmax()[0]\n",
    "most_medals_athlete"
   ]
  },
  {
   "cell_type": "markdown",
   "id": "9c4bc127",
   "metadata": {},
   "source": [
    "8. Which country has the most diverse range of sports in which it has won medals?"
   ]
  },
  {
   "cell_type": "code",
   "execution_count": 10,
   "id": "f86c7db1",
   "metadata": {},
   "outputs": [
    {
     "data": {
      "text/plain": [
       "'USA'"
      ]
     },
     "execution_count": 10,
     "metadata": {},
     "output_type": "execute_result"
    }
   ],
   "source": [
    "most_diverse_sports_country = olym.groupby('Country')['Sport'].nunique().idxmax()\n",
    "most_diverse_sports_country"
   ]
  },
  {
   "cell_type": "code",
   "execution_count": null,
   "id": "177930b2",
   "metadata": {},
   "outputs": [],
   "source": [
    "9. How many athletes have won medals in more than one Olympic Games?"
   ]
  },
  {
   "cell_type": "code",
   "execution_count": 11,
   "id": "88282aba",
   "metadata": {},
   "outputs": [
    {
     "data": {
      "text/plain": [
       "3973"
      ]
     },
     "execution_count": 11,
     "metadata": {},
     "output_type": "execute_result"
    }
   ],
   "source": [
    "multi_game_medalists = olym.groupby('Athlete')['Year'].nunique().gt(1).sum()\n",
    "multi_game_medalists"
   ]
  },
  {
   "cell_type": "markdown",
   "id": "9d06122b",
   "metadata": {},
   "source": [
    "10. Which sport has the highest number of different medal-winning countries?"
   ]
  },
  {
   "cell_type": "code",
   "execution_count": 13,
   "id": "8c13307b",
   "metadata": {},
   "outputs": [
    {
     "data": {
      "text/plain": [
       "'Athletics'"
      ]
     },
     "execution_count": 13,
     "metadata": {},
     "output_type": "execute_result"
    }
   ],
   "source": [
    "most_medal_countries_sport = olym.groupby('Sport')['Country'].nunique().idxmax()\n",
    "most_medal_countries_sport"
   ]
  }
 ],
 "metadata": {
  "kernelspec": {
   "display_name": "Python 3 (ipykernel)",
   "language": "python",
   "name": "python3"
  },
  "language_info": {
   "codemirror_mode": {
    "name": "ipython",
    "version": 3
   },
   "file_extension": ".py",
   "mimetype": "text/x-python",
   "name": "python",
   "nbconvert_exporter": "python",
   "pygments_lexer": "ipython3",
   "version": "3.11.5"
  }
 },
 "nbformat": 4,
 "nbformat_minor": 5
}
