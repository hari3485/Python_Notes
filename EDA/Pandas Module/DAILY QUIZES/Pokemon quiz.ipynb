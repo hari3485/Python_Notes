{
 "cells": [
  {
   "cell_type": "markdown",
   "id": "96209436",
   "metadata": {},
   "source": [
    "1. how to check descriptive statistics of Pokémon heights?"
   ]
  },
  {
   "cell_type": "code",
   "execution_count": 8,
   "id": "adfac572",
   "metadata": {},
   "outputs": [
    {
     "name": "stdout",
     "output_type": "stream",
     "text": [
      "generation\n",
      "1     45.951656\n",
      "2     49.105000\n",
      "3     67.077778\n",
      "4     76.885047\n",
      "5     52.402564\n",
      "6     51.401389\n",
      "7    109.661364\n",
      "8     78.368750\n",
      "9     87.295833\n",
      "Name: weight, dtype: float64\n"
     ]
    }
   ],
   "source": [
    "import pandas as pd\n",
    "import numpy as np\n",
    "pokemon_df = pd.read_csv(\"pandas datasets/pokemon_data.csv\")\n",
    "pokemon_df\n",
    "# Calculate the average weight of Pokémon in each generation\n",
    "avg_weight_per_generation = pokemon_df.groupby('generation')['weight'].mean()\n",
    "print(avg_weight_per_generation)\n"
   ]
  },
  {
   "cell_type": "code",
   "execution_count": 5,
   "id": "46176930",
   "metadata": {},
   "outputs": [
    {
     "name": "stdout",
     "output_type": "stream",
     "text": [
      "count    1025.000000\n",
      "mean        1.211610\n",
      "std         1.248167\n",
      "min         0.100000\n",
      "25%         0.500000\n",
      "50%         1.000000\n",
      "75%         1.500000\n",
      "max        20.000000\n",
      "Name: height, dtype: float64\n",
      "          name  speed\n",
      "893  Regieleki    200\n",
      "290    Ninjask    160\n",
      "794  Pheromosa    151\n",
      "100  Electrode    150\n",
      "385     Deoxys    150\n"
     ]
    },
    {
     "ename": "TypeError",
     "evalue": "reduction operation 'argmax' not allowed for this dtype",
     "output_type": "error",
     "traceback": [
      "\u001b[1;31m---------------------------------------------------------------------------\u001b[0m",
      "\u001b[1;31mTypeError\u001b[0m                                 Traceback (most recent call last)",
      "Cell \u001b[1;32mIn[5], line 19\u001b[0m\n\u001b[0;32m     16\u001b[0m most_common_type1 \u001b[38;5;241m=\u001b[39m pokemon_df[\u001b[38;5;124m'\u001b[39m\u001b[38;5;124mtype1\u001b[39m\u001b[38;5;124m'\u001b[39m]\u001b[38;5;241m.\u001b[39mmode()[\u001b[38;5;241m0\u001b[39m]\n\u001b[0;32m     18\u001b[0m \u001b[38;5;66;03m# 4. Pokémon with the highest base experience\u001b[39;00m\n\u001b[1;32m---> 19\u001b[0m highest_base_exp \u001b[38;5;241m=\u001b[39m pokemon_df\u001b[38;5;241m.\u001b[39mloc[pokemon_df[\u001b[38;5;124m'\u001b[39m\u001b[38;5;124mbase_exp\u001b[39m\u001b[38;5;124m'\u001b[39m]\u001b[38;5;241m.\u001b[39midxmax()][\u001b[38;5;124m'\u001b[39m\u001b[38;5;124mname\u001b[39m\u001b[38;5;124m'\u001b[39m]\n\u001b[0;32m     20\u001b[0m \u001b[38;5;28mprint\u001b[39m(highest_base_exp)\n\u001b[0;32m     23\u001b[0m \u001b[38;5;66;03m# 5. Egg group with the highest average total stats\u001b[39;00m\n",
      "File \u001b[1;32m~\\anaconda3\\Lib\\site-packages\\pandas\\core\\series.py:2531\u001b[0m, in \u001b[0;36mSeries.idxmax\u001b[1;34m(self, axis, skipna, *args, **kwargs)\u001b[0m\n\u001b[0;32m   2466\u001b[0m \u001b[38;5;250m\u001b[39m\u001b[38;5;124;03m\"\"\"\u001b[39;00m\n\u001b[0;32m   2467\u001b[0m \u001b[38;5;124;03mReturn the row label of the maximum value.\u001b[39;00m\n\u001b[0;32m   2468\u001b[0m \n\u001b[1;32m   (...)\u001b[0m\n\u001b[0;32m   2527\u001b[0m \u001b[38;5;124;03mnan\u001b[39;00m\n\u001b[0;32m   2528\u001b[0m \u001b[38;5;124;03m\"\"\"\u001b[39;00m\n\u001b[0;32m   2529\u001b[0m \u001b[38;5;66;03m# error: Argument 1 to \"argmax\" of \"IndexOpsMixin\" has incompatible type\u001b[39;00m\n\u001b[0;32m   2530\u001b[0m \u001b[38;5;66;03m# \"Union[int, Literal['index', 'columns']]\"; expected \"Optional[int]\"\u001b[39;00m\n\u001b[1;32m-> 2531\u001b[0m i \u001b[38;5;241m=\u001b[39m \u001b[38;5;28mself\u001b[39m\u001b[38;5;241m.\u001b[39margmax(axis, skipna, \u001b[38;5;241m*\u001b[39margs, \u001b[38;5;241m*\u001b[39m\u001b[38;5;241m*\u001b[39mkwargs)  \u001b[38;5;66;03m# type: ignore[arg-type]\u001b[39;00m\n\u001b[0;32m   2532\u001b[0m \u001b[38;5;28;01mif\u001b[39;00m i \u001b[38;5;241m==\u001b[39m \u001b[38;5;241m-\u001b[39m\u001b[38;5;241m1\u001b[39m:\n\u001b[0;32m   2533\u001b[0m     \u001b[38;5;28;01mreturn\u001b[39;00m np\u001b[38;5;241m.\u001b[39mnan\n",
      "File \u001b[1;32m~\\anaconda3\\Lib\\site-packages\\pandas\\core\\base.py:678\u001b[0m, in \u001b[0;36mIndexOpsMixin.argmax\u001b[1;34m(self, axis, skipna, *args, **kwargs)\u001b[0m\n\u001b[0;32m    674\u001b[0m         \u001b[38;5;28;01mreturn\u001b[39;00m delegate\u001b[38;5;241m.\u001b[39margmax()\n\u001b[0;32m    675\u001b[0m \u001b[38;5;28;01melse\u001b[39;00m:\n\u001b[0;32m    676\u001b[0m     \u001b[38;5;66;03m# error: Incompatible return value type (got \"Union[int, ndarray]\", expected\u001b[39;00m\n\u001b[0;32m    677\u001b[0m     \u001b[38;5;66;03m# \"int\")\u001b[39;00m\n\u001b[1;32m--> 678\u001b[0m     \u001b[38;5;28;01mreturn\u001b[39;00m nanops\u001b[38;5;241m.\u001b[39mnanargmax(  \u001b[38;5;66;03m# type: ignore[return-value]\u001b[39;00m\n\u001b[0;32m    679\u001b[0m         delegate, skipna\u001b[38;5;241m=\u001b[39mskipna\n\u001b[0;32m    680\u001b[0m     )\n",
      "File \u001b[1;32m~\\anaconda3\\Lib\\site-packages\\pandas\\core\\nanops.py:91\u001b[0m, in \u001b[0;36mdisallow.__call__.<locals>._f\u001b[1;34m(*args, **kwargs)\u001b[0m\n\u001b[0;32m     89\u001b[0m \u001b[38;5;28;01mif\u001b[39;00m \u001b[38;5;28many\u001b[39m(\u001b[38;5;28mself\u001b[39m\u001b[38;5;241m.\u001b[39mcheck(obj) \u001b[38;5;28;01mfor\u001b[39;00m obj \u001b[38;5;129;01min\u001b[39;00m obj_iter):\n\u001b[0;32m     90\u001b[0m     f_name \u001b[38;5;241m=\u001b[39m f\u001b[38;5;241m.\u001b[39m\u001b[38;5;18m__name__\u001b[39m\u001b[38;5;241m.\u001b[39mreplace(\u001b[38;5;124m\"\u001b[39m\u001b[38;5;124mnan\u001b[39m\u001b[38;5;124m\"\u001b[39m, \u001b[38;5;124m\"\u001b[39m\u001b[38;5;124m\"\u001b[39m)\n\u001b[1;32m---> 91\u001b[0m     \u001b[38;5;28;01mraise\u001b[39;00m \u001b[38;5;167;01mTypeError\u001b[39;00m(\n\u001b[0;32m     92\u001b[0m         \u001b[38;5;124mf\u001b[39m\u001b[38;5;124m\"\u001b[39m\u001b[38;5;124mreduction operation \u001b[39m\u001b[38;5;124m'\u001b[39m\u001b[38;5;132;01m{\u001b[39;00mf_name\u001b[38;5;132;01m}\u001b[39;00m\u001b[38;5;124m'\u001b[39m\u001b[38;5;124m not allowed for this dtype\u001b[39m\u001b[38;5;124m\"\u001b[39m\n\u001b[0;32m     93\u001b[0m     )\n\u001b[0;32m     94\u001b[0m \u001b[38;5;28;01mtry\u001b[39;00m:\n\u001b[0;32m     95\u001b[0m     \u001b[38;5;28;01mwith\u001b[39;00m np\u001b[38;5;241m.\u001b[39merrstate(invalid\u001b[38;5;241m=\u001b[39m\u001b[38;5;124m\"\u001b[39m\u001b[38;5;124mignore\u001b[39m\u001b[38;5;124m\"\u001b[39m):\n",
      "\u001b[1;31mTypeError\u001b[0m: reduction operation 'argmax' not allowed for this dtype"
     ]
    }
   ],
   "source": [
    "height_stats = pokemon_df['height'].describe()\n",
    "print(height_stats)\n",
    "top_5_speed = pokemon_df.sort_values(by='speed', ascending=False).head(5)[['name', 'speed']]\n",
    "print(top_5_speed)\n",
    "import pandas as pd\n",
    "\n",
    "# Load the dataset\n",
    "\n",
    "# 1. Descriptive statistics of Pokémon heights\n",
    "height_stats = pokemon_df['height'].describe()\n",
    "\n",
    "# 2. Top 5 Pokémon with the highest speed\n",
    "top_5_speed = pokemon_df.sort_values(by='speed', ascending=False).head(5)[['name', 'speed']]\n",
    "\n",
    "# 3. Most common primary type (type1)\n",
    "most_common_type1 = pokemon_df['type1'].mode()[0]\n",
    "\n",
    "# 4. Pokémon with the highest base experience\n",
    "highest_base_exp = pokemon_df.loc[pokemon_df['base_exp'].idxmax()]['name']\n",
    "print(highest_base_exp)\n",
    "\n",
    "\n",
    "# 5. Egg group with the highest average total stats\n",
    "egg_group_stats = pokemon_df.groupby('egg_group')['total'].mean().idxmax()\n",
    "print(egg_group_stats)\n",
    "\n",
    "\n",
    "\n",
    "# 6. How many Pokémon have two types (type1 and type2)\n",
    "two_types_count = pokemon_df.dropna(subset=['type2']).shape[0]\n",
    "print(two_types_count)\n",
    "\n",
    "\n",
    "# 7. Species category with 8 Pokémon\n",
    "species_category_count = pokemon_df['species'].value_counts()\n",
    "species_with_8 = species_category_count[species_category_count == 8].index[0]\n",
    "print(species_with_8)\n",
    "\n",
    "\n",
    "# 8. Average weight of Pokémon in each generation\n",
    "avg_weight_per_generation = pokemon_df.groupby('generation')['weight'].mean()\n",
    "print(avg_weight_per_generation)\n",
    "\n",
    "\n",
    "# 9. Difference between attack and defense stat on average\n",
    "attack_defense_diff = (pokemon_df['attack'] - pokemon_df['defense']).mean()\n",
    "print(attack_defense_diff)\n",
    "\n",
    "\n",
    "\n",
    "\n",
    "# 10. How many Pokémon have a hidden ability\n",
    "hidden_ability_count = pokemon_df['hidden_ability'].notna().sum()\n",
    "print(hidden_ability_count)\n",
    "\n",
    "\n",
    "# Output the answers\n",
    "print(\"Descriptive statistics of Pokémon heights:\\n\", height_stats)\n",
    "print(\"Top 5 Pokémon with the highest speed:\\n\", top_5_speed)\n",
    "print(\"Most common primary type (type1):\", most_common_type1)\n",
    "print(\"Pokémon with the highest base experience:\", highest_base_exp)\n",
    "print(\"Egg group with the highest average total stats:\", egg_group_stats)\n",
    "print(\"Number of Pokémon with two types:\", two_types_count)\n",
    "print(\"Species category with 8 Pokémon:\", species_with_8)\n",
    "print(\"Average weight of Pokémon in each generation:\\n\", avg_weight_per_generation)\n",
    "print(\"Average difference between attack and defense stats:\", attack_defense_diff)\n",
    "print(\"Number of Pokémon with a hidden ability:\", hidden_ability_count)\n"
   ]
  },
  {
   "cell_type": "code",
   "execution_count": 3,
   "id": "74580c9c",
   "metadata": {},
   "outputs": [
    {
     "data": {
      "text/plain": [
       "Index(['dexnum', 'name', 'generation', 'type1', 'type2', 'species', 'height',\n",
       "       'weight', 'ability1', 'ability2', 'hidden_ability', 'hp', 'attack',\n",
       "       'defense', 'sp_atk', 'sp_def', 'speed', 'total', 'ev_yield',\n",
       "       'catch_rate', 'base_friendship', 'base_exp', 'growth_rate',\n",
       "       'egg_group1', 'egg_group2', 'percent_male', 'percent_female',\n",
       "       'egg_cycles', 'special_group'],\n",
       "      dtype='object')"
      ]
     },
     "execution_count": 3,
     "metadata": {},
     "output_type": "execute_result"
    }
   ],
   "source": [
    "pokemon.columns"
   ]
  },
  {
   "cell_type": "code",
   "execution_count": 4,
   "id": "f9cc7e50",
   "metadata": {},
   "outputs": [
    {
     "data": {
      "text/plain": [
       "count    1025.000000\n",
       "mean        1.211610\n",
       "std         1.248167\n",
       "min         0.100000\n",
       "25%         0.500000\n",
       "50%         1.000000\n",
       "75%         1.500000\n",
       "max        20.000000\n",
       "Name: height, dtype: float64"
      ]
     },
     "execution_count": 4,
     "metadata": {},
     "output_type": "execute_result"
    }
   ],
   "source": [
    "# These are the decriptive statistics for pokemon height\n",
    "pokemon[\"height\"].describe()"
   ]
  },
  {
   "cell_type": "markdown",
   "id": "61a48289",
   "metadata": {},
   "source": [
    "2. What are the top 5 Pokémon with the highest speed?"
   ]
  },
  {
   "cell_type": "code",
   "execution_count": 5,
   "id": "d9bd65d8",
   "metadata": {},
   "outputs": [
    {
     "data": {
      "text/html": [
       "<div>\n",
       "<style scoped>\n",
       "    .dataframe tbody tr th:only-of-type {\n",
       "        vertical-align: middle;\n",
       "    }\n",
       "\n",
       "    .dataframe tbody tr th {\n",
       "        vertical-align: top;\n",
       "    }\n",
       "\n",
       "    .dataframe thead th {\n",
       "        text-align: right;\n",
       "    }\n",
       "</style>\n",
       "<table border=\"1\" class=\"dataframe\">\n",
       "  <thead>\n",
       "    <tr style=\"text-align: right;\">\n",
       "      <th></th>\n",
       "      <th>dexnum</th>\n",
       "      <th>name</th>\n",
       "      <th>generation</th>\n",
       "      <th>type1</th>\n",
       "      <th>type2</th>\n",
       "      <th>species</th>\n",
       "      <th>height</th>\n",
       "      <th>weight</th>\n",
       "      <th>ability1</th>\n",
       "      <th>ability2</th>\n",
       "      <th>...</th>\n",
       "      <th>catch_rate</th>\n",
       "      <th>base_friendship</th>\n",
       "      <th>base_exp</th>\n",
       "      <th>growth_rate</th>\n",
       "      <th>egg_group1</th>\n",
       "      <th>egg_group2</th>\n",
       "      <th>percent_male</th>\n",
       "      <th>percent_female</th>\n",
       "      <th>egg_cycles</th>\n",
       "      <th>special_group</th>\n",
       "    </tr>\n",
       "  </thead>\n",
       "  <tbody>\n",
       "    <tr>\n",
       "      <th>893</th>\n",
       "      <td>894</td>\n",
       "      <td>Regieleki</td>\n",
       "      <td>8</td>\n",
       "      <td>Electric</td>\n",
       "      <td>NaN</td>\n",
       "      <td>Electron Pokémon</td>\n",
       "      <td>1.2</td>\n",
       "      <td>145.0</td>\n",
       "      <td>Transistor</td>\n",
       "      <td>NaN</td>\n",
       "      <td>...</td>\n",
       "      <td>3</td>\n",
       "      <td>35</td>\n",
       "      <td>290</td>\n",
       "      <td>Slow</td>\n",
       "      <td>Undiscovered</td>\n",
       "      <td>NaN</td>\n",
       "      <td>NaN</td>\n",
       "      <td>NaN</td>\n",
       "      <td>120</td>\n",
       "      <td>Legendary</td>\n",
       "    </tr>\n",
       "    <tr>\n",
       "      <th>290</th>\n",
       "      <td>291</td>\n",
       "      <td>Ninjask</td>\n",
       "      <td>3</td>\n",
       "      <td>Bug</td>\n",
       "      <td>Flying</td>\n",
       "      <td>Ninja Pokémon</td>\n",
       "      <td>0.8</td>\n",
       "      <td>12.0</td>\n",
       "      <td>Speed Boost</td>\n",
       "      <td>Infiltrator</td>\n",
       "      <td>...</td>\n",
       "      <td>120</td>\n",
       "      <td>50</td>\n",
       "      <td>160</td>\n",
       "      <td>Erratic</td>\n",
       "      <td>Bug</td>\n",
       "      <td>NaN</td>\n",
       "      <td>50.0</td>\n",
       "      <td>50.0</td>\n",
       "      <td>15</td>\n",
       "      <td>Ordinary</td>\n",
       "    </tr>\n",
       "    <tr>\n",
       "      <th>794</th>\n",
       "      <td>795</td>\n",
       "      <td>Pheromosa</td>\n",
       "      <td>7</td>\n",
       "      <td>Bug</td>\n",
       "      <td>Fighting</td>\n",
       "      <td>Lissome Pokémon</td>\n",
       "      <td>1.8</td>\n",
       "      <td>25.0</td>\n",
       "      <td>Beast Boost</td>\n",
       "      <td>NaN</td>\n",
       "      <td>...</td>\n",
       "      <td>45</td>\n",
       "      <td>0</td>\n",
       "      <td>257</td>\n",
       "      <td>Slow</td>\n",
       "      <td>Undiscovered</td>\n",
       "      <td>NaN</td>\n",
       "      <td>NaN</td>\n",
       "      <td>NaN</td>\n",
       "      <td>120</td>\n",
       "      <td>Ultra Beast</td>\n",
       "    </tr>\n",
       "    <tr>\n",
       "      <th>100</th>\n",
       "      <td>101</td>\n",
       "      <td>Electrode</td>\n",
       "      <td>1</td>\n",
       "      <td>Electric</td>\n",
       "      <td>NaN</td>\n",
       "      <td>Ball Pokémon</td>\n",
       "      <td>1.2</td>\n",
       "      <td>66.6</td>\n",
       "      <td>Soundproof</td>\n",
       "      <td>Static</td>\n",
       "      <td>...</td>\n",
       "      <td>60</td>\n",
       "      <td>50</td>\n",
       "      <td>172</td>\n",
       "      <td>Medium Fast</td>\n",
       "      <td>Mineral</td>\n",
       "      <td>NaN</td>\n",
       "      <td>NaN</td>\n",
       "      <td>NaN</td>\n",
       "      <td>20</td>\n",
       "      <td>Ordinary</td>\n",
       "    </tr>\n",
       "    <tr>\n",
       "      <th>385</th>\n",
       "      <td>386</td>\n",
       "      <td>Deoxys</td>\n",
       "      <td>3</td>\n",
       "      <td>Psychic</td>\n",
       "      <td>NaN</td>\n",
       "      <td>DNA Pokémon</td>\n",
       "      <td>1.7</td>\n",
       "      <td>60.8</td>\n",
       "      <td>Pressure</td>\n",
       "      <td>NaN</td>\n",
       "      <td>...</td>\n",
       "      <td>3</td>\n",
       "      <td>0</td>\n",
       "      <td>270</td>\n",
       "      <td>Slow</td>\n",
       "      <td>Undiscovered</td>\n",
       "      <td>NaN</td>\n",
       "      <td>NaN</td>\n",
       "      <td>NaN</td>\n",
       "      <td>120</td>\n",
       "      <td>Mythical</td>\n",
       "    </tr>\n",
       "  </tbody>\n",
       "</table>\n",
       "<p>5 rows × 29 columns</p>\n",
       "</div>"
      ],
      "text/plain": [
       "     dexnum       name  generation     type1     type2           species  \\\n",
       "893     894  Regieleki           8  Electric       NaN  Electron Pokémon   \n",
       "290     291    Ninjask           3       Bug    Flying     Ninja Pokémon   \n",
       "794     795  Pheromosa           7       Bug  Fighting   Lissome Pokémon   \n",
       "100     101  Electrode           1  Electric       NaN      Ball Pokémon   \n",
       "385     386     Deoxys           3   Psychic       NaN       DNA Pokémon   \n",
       "\n",
       "     height  weight     ability1     ability2  ... catch_rate  \\\n",
       "893     1.2   145.0   Transistor          NaN  ...          3   \n",
       "290     0.8    12.0  Speed Boost  Infiltrator  ...        120   \n",
       "794     1.8    25.0  Beast Boost          NaN  ...         45   \n",
       "100     1.2    66.6   Soundproof       Static  ...         60   \n",
       "385     1.7    60.8     Pressure          NaN  ...          3   \n",
       "\n",
       "     base_friendship  base_exp  growth_rate    egg_group1  egg_group2  \\\n",
       "893               35       290         Slow  Undiscovered         NaN   \n",
       "290               50       160      Erratic           Bug         NaN   \n",
       "794                0       257         Slow  Undiscovered         NaN   \n",
       "100               50       172  Medium Fast       Mineral         NaN   \n",
       "385                0       270         Slow  Undiscovered         NaN   \n",
       "\n",
       "     percent_male  percent_female egg_cycles  special_group  \n",
       "893           NaN             NaN        120      Legendary  \n",
       "290          50.0            50.0         15       Ordinary  \n",
       "794           NaN             NaN        120    Ultra Beast  \n",
       "100           NaN             NaN         20       Ordinary  \n",
       "385           NaN             NaN        120       Mythical  \n",
       "\n",
       "[5 rows x 29 columns]"
      ]
     },
     "execution_count": 5,
     "metadata": {},
     "output_type": "execute_result"
    }
   ],
   "source": [
    "pokemon.sort_values(\"speed\",ascending = False).head(5)"
   ]
  },
  {
   "cell_type": "code",
   "execution_count": 6,
   "id": "9a6d1551",
   "metadata": {},
   "outputs": [
    {
     "data": {
      "text/plain": [
       "name\n",
       "Regieleki     200\n",
       "Ninjask       160\n",
       "Pheromosa     151\n",
       "Electrode     150\n",
       "Deoxys        150\n",
       "             ... \n",
       "Ferroseed      10\n",
       "Gimmighoul     10\n",
       "Shuckle         5\n",
       "Munchlax        5\n",
       "Pyukumuku       5\n",
       "Name: speed, Length: 1025, dtype: int64"
      ]
     },
     "execution_count": 6,
     "metadata": {},
     "output_type": "execute_result"
    }
   ],
   "source": [
    "pokemon.groupby(by = \"name\")[\"speed\"].max().sort_values(ascending = False)"
   ]
  },
  {
   "cell_type": "markdown",
   "id": "8638046b",
   "metadata": {},
   "source": [
    "3. What is the most common primary type (type1) among all Pokémon?"
   ]
  },
  {
   "cell_type": "code",
   "execution_count": 7,
   "id": "fb9a8446",
   "metadata": {},
   "outputs": [
    {
     "name": "stdout",
     "output_type": "stream",
     "text": [
      "the most common primary type (type1) among all Pokémon Water\n"
     ]
    }
   ],
   "source": [
    "print(\"the most common primary type (type1) among all Pokémon\",pokemon[\"type1\"].value_counts().idxmax())"
   ]
  },
  {
   "cell_type": "markdown",
   "id": "d730c2ed",
   "metadata": {},
   "source": [
    "4. Which Pokémon has the highest base experience (base_exp)?"
   ]
  },
  {
   "cell_type": "code",
   "execution_count": 11,
   "id": "b758b3a2",
   "metadata": {},
   "outputs": [
    {
     "ename": "KeyError",
     "evalue": "'—'",
     "output_type": "error",
     "traceback": [
      "\u001b[1;31m---------------------------------------------------------------------------\u001b[0m",
      "\u001b[1;31mKeyError\u001b[0m                                  Traceback (most recent call last)",
      "File \u001b[1;32m~\\anaconda3\\Lib\\site-packages\\pandas\\core\\indexes\\base.py:3653\u001b[0m, in \u001b[0;36mIndex.get_loc\u001b[1;34m(self, key)\u001b[0m\n\u001b[0;32m   3652\u001b[0m \u001b[38;5;28;01mtry\u001b[39;00m:\n\u001b[1;32m-> 3653\u001b[0m     \u001b[38;5;28;01mreturn\u001b[39;00m \u001b[38;5;28mself\u001b[39m\u001b[38;5;241m.\u001b[39m_engine\u001b[38;5;241m.\u001b[39mget_loc(casted_key)\n\u001b[0;32m   3654\u001b[0m \u001b[38;5;28;01mexcept\u001b[39;00m \u001b[38;5;167;01mKeyError\u001b[39;00m \u001b[38;5;28;01mas\u001b[39;00m err:\n",
      "File \u001b[1;32m~\\anaconda3\\Lib\\site-packages\\pandas\\_libs\\index.pyx:147\u001b[0m, in \u001b[0;36mpandas._libs.index.IndexEngine.get_loc\u001b[1;34m()\u001b[0m\n",
      "File \u001b[1;32m~\\anaconda3\\Lib\\site-packages\\pandas\\_libs\\index.pyx:176\u001b[0m, in \u001b[0;36mpandas._libs.index.IndexEngine.get_loc\u001b[1;34m()\u001b[0m\n",
      "File \u001b[1;32mpandas\\_libs\\hashtable_class_helper.pxi:7080\u001b[0m, in \u001b[0;36mpandas._libs.hashtable.PyObjectHashTable.get_item\u001b[1;34m()\u001b[0m\n",
      "File \u001b[1;32mpandas\\_libs\\hashtable_class_helper.pxi:7088\u001b[0m, in \u001b[0;36mpandas._libs.hashtable.PyObjectHashTable.get_item\u001b[1;34m()\u001b[0m\n",
      "\u001b[1;31mKeyError\u001b[0m: '—'",
      "\nThe above exception was the direct cause of the following exception:\n",
      "\u001b[1;31mKeyError\u001b[0m                                  Traceback (most recent call last)",
      "Cell \u001b[1;32mIn[11], line 1\u001b[0m\n\u001b[1;32m----> 1\u001b[0m pokemon[\u001b[38;5;124m\"\u001b[39m\u001b[38;5;124mbase_exp\u001b[39m\u001b[38;5;124m\"\u001b[39m] \u001b[38;5;241m!=\u001b[39m pokemon[\u001b[38;5;124m'\u001b[39m\u001b[38;5;124m—\u001b[39m\u001b[38;5;124m'\u001b[39m] \u001b[38;5;241m!=\u001b[39m value_to_remove\n\u001b[0;32m      2\u001b[0m pokemon[\u001b[38;5;124m\"\u001b[39m\u001b[38;5;124mbase_exp\u001b[39m\u001b[38;5;124m\"\u001b[39m]\n",
      "File \u001b[1;32m~\\anaconda3\\Lib\\site-packages\\pandas\\core\\frame.py:3761\u001b[0m, in \u001b[0;36mDataFrame.__getitem__\u001b[1;34m(self, key)\u001b[0m\n\u001b[0;32m   3759\u001b[0m \u001b[38;5;28;01mif\u001b[39;00m \u001b[38;5;28mself\u001b[39m\u001b[38;5;241m.\u001b[39mcolumns\u001b[38;5;241m.\u001b[39mnlevels \u001b[38;5;241m>\u001b[39m \u001b[38;5;241m1\u001b[39m:\n\u001b[0;32m   3760\u001b[0m     \u001b[38;5;28;01mreturn\u001b[39;00m \u001b[38;5;28mself\u001b[39m\u001b[38;5;241m.\u001b[39m_getitem_multilevel(key)\n\u001b[1;32m-> 3761\u001b[0m indexer \u001b[38;5;241m=\u001b[39m \u001b[38;5;28mself\u001b[39m\u001b[38;5;241m.\u001b[39mcolumns\u001b[38;5;241m.\u001b[39mget_loc(key)\n\u001b[0;32m   3762\u001b[0m \u001b[38;5;28;01mif\u001b[39;00m is_integer(indexer):\n\u001b[0;32m   3763\u001b[0m     indexer \u001b[38;5;241m=\u001b[39m [indexer]\n",
      "File \u001b[1;32m~\\anaconda3\\Lib\\site-packages\\pandas\\core\\indexes\\base.py:3655\u001b[0m, in \u001b[0;36mIndex.get_loc\u001b[1;34m(self, key)\u001b[0m\n\u001b[0;32m   3653\u001b[0m     \u001b[38;5;28;01mreturn\u001b[39;00m \u001b[38;5;28mself\u001b[39m\u001b[38;5;241m.\u001b[39m_engine\u001b[38;5;241m.\u001b[39mget_loc(casted_key)\n\u001b[0;32m   3654\u001b[0m \u001b[38;5;28;01mexcept\u001b[39;00m \u001b[38;5;167;01mKeyError\u001b[39;00m \u001b[38;5;28;01mas\u001b[39;00m err:\n\u001b[1;32m-> 3655\u001b[0m     \u001b[38;5;28;01mraise\u001b[39;00m \u001b[38;5;167;01mKeyError\u001b[39;00m(key) \u001b[38;5;28;01mfrom\u001b[39;00m \u001b[38;5;21;01merr\u001b[39;00m\n\u001b[0;32m   3656\u001b[0m \u001b[38;5;28;01mexcept\u001b[39;00m \u001b[38;5;167;01mTypeError\u001b[39;00m:\n\u001b[0;32m   3657\u001b[0m     \u001b[38;5;66;03m# If we have a listlike key, _check_indexing_error will raise\u001b[39;00m\n\u001b[0;32m   3658\u001b[0m     \u001b[38;5;66;03m#  InvalidIndexError. Otherwise we fall through and re-raise\u001b[39;00m\n\u001b[0;32m   3659\u001b[0m     \u001b[38;5;66;03m#  the TypeError.\u001b[39;00m\n\u001b[0;32m   3660\u001b[0m     \u001b[38;5;28mself\u001b[39m\u001b[38;5;241m.\u001b[39m_check_indexing_error(key)\n",
      "\u001b[1;31mKeyError\u001b[0m: '—'"
     ]
    }
   ],
   "source": [
    "pokemon[\"base_exp\"] == pokemon['—']value_to_remove\n",
    "pokemon[\"base_exp\"] "
   ]
  },
  {
   "cell_type": "markdown",
   "id": "03db2e5b",
   "metadata": {},
   "source": [
    "5. Which egg group is having the highest average total stats (total)? \n"
   ]
  },
  {
   "cell_type": "code",
   "execution_count": null,
   "id": "98c0a122",
   "metadata": {},
   "outputs": [],
   "source": []
  },
  {
   "cell_type": "markdown",
   "id": "d1b169c3",
   "metadata": {},
   "source": [
    "6. How many Pokémon have two types (type1 and type2)?\n"
   ]
  },
  {
   "cell_type": "code",
   "execution_count": null,
   "id": "d9870a04",
   "metadata": {},
   "outputs": [],
   "source": []
  },
  {
   "cell_type": "markdown",
   "id": "2a3acc87",
   "metadata": {},
   "source": [
    "7. Which species category is have 8 Pokemons ?\n"
   ]
  },
  {
   "cell_type": "code",
   "execution_count": null,
   "id": "6cfa8135",
   "metadata": {},
   "outputs": [],
   "source": []
  },
  {
   "cell_type": "markdown",
   "id": "0300972f",
   "metadata": {},
   "source": [
    "8. What is the average weight of Pokémon in each generation?\n"
   ]
  },
  {
   "cell_type": "code",
   "execution_count": null,
   "id": "4f8647a6",
   "metadata": {},
   "outputs": [],
   "source": []
  },
  {
   "cell_type": "markdown",
   "id": "36a47051",
   "metadata": {},
   "source": [
    "9. How much difference attack stat and defense stat on average? \n"
   ]
  },
  {
   "cell_type": "code",
   "execution_count": null,
   "id": "dcd74b91",
   "metadata": {},
   "outputs": [],
   "source": []
  },
  {
   "cell_type": "markdown",
   "id": "129af10f",
   "metadata": {},
   "source": [
    "10. How many Pokémon have a hidden ability?"
   ]
  },
  {
   "cell_type": "code",
   "execution_count": 6,
   "id": "ed0539cc",
   "metadata": {},
   "outputs": [
    {
     "ename": "KeyError",
     "evalue": "'egg_group'",
     "output_type": "error",
     "traceback": [
      "\u001b[1;31m---------------------------------------------------------------------------\u001b[0m",
      "\u001b[1;31mKeyError\u001b[0m                                  Traceback (most recent call last)",
      "Cell \u001b[1;32mIn[6], line 1\u001b[0m\n\u001b[1;32m----> 1\u001b[0m egg_group_stats \u001b[38;5;241m=\u001b[39m pokemon_df\u001b[38;5;241m.\u001b[39mgroupby(\u001b[38;5;124m'\u001b[39m\u001b[38;5;124megg_group\u001b[39m\u001b[38;5;124m'\u001b[39m)[\u001b[38;5;124m'\u001b[39m\u001b[38;5;124mtotal\u001b[39m\u001b[38;5;124m'\u001b[39m]\u001b[38;5;241m.\u001b[39mmean()\u001b[38;5;241m.\u001b[39midxmax()\n\u001b[0;32m      2\u001b[0m \u001b[38;5;28mprint\u001b[39m(egg_group_stats)\n",
      "File \u001b[1;32m~\\anaconda3\\Lib\\site-packages\\pandas\\core\\frame.py:8252\u001b[0m, in \u001b[0;36mDataFrame.groupby\u001b[1;34m(self, by, axis, level, as_index, sort, group_keys, observed, dropna)\u001b[0m\n\u001b[0;32m   8249\u001b[0m     \u001b[38;5;28;01mraise\u001b[39;00m \u001b[38;5;167;01mTypeError\u001b[39;00m(\u001b[38;5;124m\"\u001b[39m\u001b[38;5;124mYou have to supply one of \u001b[39m\u001b[38;5;124m'\u001b[39m\u001b[38;5;124mby\u001b[39m\u001b[38;5;124m'\u001b[39m\u001b[38;5;124m and \u001b[39m\u001b[38;5;124m'\u001b[39m\u001b[38;5;124mlevel\u001b[39m\u001b[38;5;124m'\u001b[39m\u001b[38;5;124m\"\u001b[39m)\n\u001b[0;32m   8250\u001b[0m axis \u001b[38;5;241m=\u001b[39m \u001b[38;5;28mself\u001b[39m\u001b[38;5;241m.\u001b[39m_get_axis_number(axis)\n\u001b[1;32m-> 8252\u001b[0m \u001b[38;5;28;01mreturn\u001b[39;00m DataFrameGroupBy(\n\u001b[0;32m   8253\u001b[0m     obj\u001b[38;5;241m=\u001b[39m\u001b[38;5;28mself\u001b[39m,\n\u001b[0;32m   8254\u001b[0m     keys\u001b[38;5;241m=\u001b[39mby,\n\u001b[0;32m   8255\u001b[0m     axis\u001b[38;5;241m=\u001b[39maxis,\n\u001b[0;32m   8256\u001b[0m     level\u001b[38;5;241m=\u001b[39mlevel,\n\u001b[0;32m   8257\u001b[0m     as_index\u001b[38;5;241m=\u001b[39mas_index,\n\u001b[0;32m   8258\u001b[0m     sort\u001b[38;5;241m=\u001b[39msort,\n\u001b[0;32m   8259\u001b[0m     group_keys\u001b[38;5;241m=\u001b[39mgroup_keys,\n\u001b[0;32m   8260\u001b[0m     observed\u001b[38;5;241m=\u001b[39mobserved,\n\u001b[0;32m   8261\u001b[0m     dropna\u001b[38;5;241m=\u001b[39mdropna,\n\u001b[0;32m   8262\u001b[0m )\n",
      "File \u001b[1;32m~\\anaconda3\\Lib\\site-packages\\pandas\\core\\groupby\\groupby.py:931\u001b[0m, in \u001b[0;36mGroupBy.__init__\u001b[1;34m(self, obj, keys, axis, level, grouper, exclusions, selection, as_index, sort, group_keys, observed, dropna)\u001b[0m\n\u001b[0;32m    928\u001b[0m \u001b[38;5;28mself\u001b[39m\u001b[38;5;241m.\u001b[39mdropna \u001b[38;5;241m=\u001b[39m dropna\n\u001b[0;32m    930\u001b[0m \u001b[38;5;28;01mif\u001b[39;00m grouper \u001b[38;5;129;01mis\u001b[39;00m \u001b[38;5;28;01mNone\u001b[39;00m:\n\u001b[1;32m--> 931\u001b[0m     grouper, exclusions, obj \u001b[38;5;241m=\u001b[39m get_grouper(\n\u001b[0;32m    932\u001b[0m         obj,\n\u001b[0;32m    933\u001b[0m         keys,\n\u001b[0;32m    934\u001b[0m         axis\u001b[38;5;241m=\u001b[39maxis,\n\u001b[0;32m    935\u001b[0m         level\u001b[38;5;241m=\u001b[39mlevel,\n\u001b[0;32m    936\u001b[0m         sort\u001b[38;5;241m=\u001b[39msort,\n\u001b[0;32m    937\u001b[0m         observed\u001b[38;5;241m=\u001b[39mobserved,\n\u001b[0;32m    938\u001b[0m         dropna\u001b[38;5;241m=\u001b[39m\u001b[38;5;28mself\u001b[39m\u001b[38;5;241m.\u001b[39mdropna,\n\u001b[0;32m    939\u001b[0m     )\n\u001b[0;32m    941\u001b[0m \u001b[38;5;28mself\u001b[39m\u001b[38;5;241m.\u001b[39mobj \u001b[38;5;241m=\u001b[39m obj\n\u001b[0;32m    942\u001b[0m \u001b[38;5;28mself\u001b[39m\u001b[38;5;241m.\u001b[39maxis \u001b[38;5;241m=\u001b[39m obj\u001b[38;5;241m.\u001b[39m_get_axis_number(axis)\n",
      "File \u001b[1;32m~\\anaconda3\\Lib\\site-packages\\pandas\\core\\groupby\\grouper.py:985\u001b[0m, in \u001b[0;36mget_grouper\u001b[1;34m(obj, key, axis, level, sort, observed, validate, dropna)\u001b[0m\n\u001b[0;32m    983\u001b[0m         in_axis, level, gpr \u001b[38;5;241m=\u001b[39m \u001b[38;5;28;01mFalse\u001b[39;00m, gpr, \u001b[38;5;28;01mNone\u001b[39;00m\n\u001b[0;32m    984\u001b[0m     \u001b[38;5;28;01melse\u001b[39;00m:\n\u001b[1;32m--> 985\u001b[0m         \u001b[38;5;28;01mraise\u001b[39;00m \u001b[38;5;167;01mKeyError\u001b[39;00m(gpr)\n\u001b[0;32m    986\u001b[0m \u001b[38;5;28;01melif\u001b[39;00m \u001b[38;5;28misinstance\u001b[39m(gpr, Grouper) \u001b[38;5;129;01mand\u001b[39;00m gpr\u001b[38;5;241m.\u001b[39mkey \u001b[38;5;129;01mis\u001b[39;00m \u001b[38;5;129;01mnot\u001b[39;00m \u001b[38;5;28;01mNone\u001b[39;00m:\n\u001b[0;32m    987\u001b[0m     \u001b[38;5;66;03m# Add key to exclusions\u001b[39;00m\n\u001b[0;32m    988\u001b[0m     exclusions\u001b[38;5;241m.\u001b[39madd(gpr\u001b[38;5;241m.\u001b[39mkey)\n",
      "\u001b[1;31mKeyError\u001b[0m: 'egg_group'"
     ]
    }
   ],
   "source": []
  }
 ],
 "metadata": {
  "kernelspec": {
   "display_name": "Python 3 (ipykernel)",
   "language": "python",
   "name": "python3"
  },
  "language_info": {
   "codemirror_mode": {
    "name": "ipython",
    "version": 3
   },
   "file_extension": ".py",
   "mimetype": "text/x-python",
   "name": "python",
   "nbconvert_exporter": "python",
   "pygments_lexer": "ipython3",
   "version": "3.11.5"
  }
 },
 "nbformat": 4,
 "nbformat_minor": 5
}
