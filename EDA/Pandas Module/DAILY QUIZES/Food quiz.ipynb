{
 "cells": [
  {
   "cell_type": "code",
   "execution_count": 1,
   "id": "4df35cf6",
   "metadata": {},
   "outputs": [
    {
     "data": {
      "text/html": [
       "<div>\n",
       "<style scoped>\n",
       "    .dataframe tbody tr th:only-of-type {\n",
       "        vertical-align: middle;\n",
       "    }\n",
       "\n",
       "    .dataframe tbody tr th {\n",
       "        vertical-align: top;\n",
       "    }\n",
       "\n",
       "    .dataframe thead th {\n",
       "        text-align: right;\n",
       "    }\n",
       "</style>\n",
       "<table border=\"1\" class=\"dataframe\">\n",
       "  <thead>\n",
       "    <tr style=\"text-align: right;\">\n",
       "      <th></th>\n",
       "      <th>name</th>\n",
       "      <th>ingredients</th>\n",
       "      <th>diet</th>\n",
       "      <th>prep_time</th>\n",
       "      <th>cook_time</th>\n",
       "      <th>flavor_profile</th>\n",
       "      <th>course</th>\n",
       "      <th>state</th>\n",
       "      <th>region</th>\n",
       "    </tr>\n",
       "  </thead>\n",
       "  <tbody>\n",
       "    <tr>\n",
       "      <th>0</th>\n",
       "      <td>Balu shahi</td>\n",
       "      <td>Maida flour, yogurt, oil, sugar</td>\n",
       "      <td>vegetarian</td>\n",
       "      <td>45</td>\n",
       "      <td>25</td>\n",
       "      <td>sweet</td>\n",
       "      <td>dessert</td>\n",
       "      <td>West Bengal</td>\n",
       "      <td>East</td>\n",
       "    </tr>\n",
       "    <tr>\n",
       "      <th>1</th>\n",
       "      <td>Boondi</td>\n",
       "      <td>Gram flour, ghee, sugar</td>\n",
       "      <td>vegetarian</td>\n",
       "      <td>80</td>\n",
       "      <td>30</td>\n",
       "      <td>sweet</td>\n",
       "      <td>dessert</td>\n",
       "      <td>Rajasthan</td>\n",
       "      <td>West</td>\n",
       "    </tr>\n",
       "    <tr>\n",
       "      <th>2</th>\n",
       "      <td>Gajar ka halwa</td>\n",
       "      <td>Carrots, milk, sugar, ghee, cashews, raisins</td>\n",
       "      <td>vegetarian</td>\n",
       "      <td>15</td>\n",
       "      <td>60</td>\n",
       "      <td>sweet</td>\n",
       "      <td>dessert</td>\n",
       "      <td>Punjab</td>\n",
       "      <td>North</td>\n",
       "    </tr>\n",
       "    <tr>\n",
       "      <th>3</th>\n",
       "      <td>Ghevar</td>\n",
       "      <td>Flour, ghee, kewra, milk, clarified butter, su...</td>\n",
       "      <td>vegetarian</td>\n",
       "      <td>15</td>\n",
       "      <td>30</td>\n",
       "      <td>sweet</td>\n",
       "      <td>dessert</td>\n",
       "      <td>Rajasthan</td>\n",
       "      <td>West</td>\n",
       "    </tr>\n",
       "    <tr>\n",
       "      <th>4</th>\n",
       "      <td>Gulab jamun</td>\n",
       "      <td>Milk powder, plain flour, baking powder, ghee,...</td>\n",
       "      <td>vegetarian</td>\n",
       "      <td>15</td>\n",
       "      <td>40</td>\n",
       "      <td>sweet</td>\n",
       "      <td>dessert</td>\n",
       "      <td>West Bengal</td>\n",
       "      <td>East</td>\n",
       "    </tr>\n",
       "    <tr>\n",
       "      <th>...</th>\n",
       "      <td>...</td>\n",
       "      <td>...</td>\n",
       "      <td>...</td>\n",
       "      <td>...</td>\n",
       "      <td>...</td>\n",
       "      <td>...</td>\n",
       "      <td>...</td>\n",
       "      <td>...</td>\n",
       "      <td>...</td>\n",
       "    </tr>\n",
       "    <tr>\n",
       "      <th>250</th>\n",
       "      <td>Til Pitha</td>\n",
       "      <td>Glutinous rice, black sesame seeds, gur</td>\n",
       "      <td>vegetarian</td>\n",
       "      <td>5</td>\n",
       "      <td>30</td>\n",
       "      <td>sweet</td>\n",
       "      <td>dessert</td>\n",
       "      <td>Assam</td>\n",
       "      <td>North East</td>\n",
       "    </tr>\n",
       "    <tr>\n",
       "      <th>251</th>\n",
       "      <td>Bebinca</td>\n",
       "      <td>Coconut milk, egg yolks, clarified butter, all...</td>\n",
       "      <td>vegetarian</td>\n",
       "      <td>20</td>\n",
       "      <td>60</td>\n",
       "      <td>sweet</td>\n",
       "      <td>dessert</td>\n",
       "      <td>Goa</td>\n",
       "      <td>West</td>\n",
       "    </tr>\n",
       "    <tr>\n",
       "      <th>252</th>\n",
       "      <td>Shufta</td>\n",
       "      <td>Cottage cheese, dry dates, dried rose petals, ...</td>\n",
       "      <td>vegetarian</td>\n",
       "      <td>-1</td>\n",
       "      <td>-1</td>\n",
       "      <td>sweet</td>\n",
       "      <td>dessert</td>\n",
       "      <td>Jammu &amp; Kashmir</td>\n",
       "      <td>North</td>\n",
       "    </tr>\n",
       "    <tr>\n",
       "      <th>253</th>\n",
       "      <td>Mawa Bati</td>\n",
       "      <td>Milk powder, dry fruits, arrowroot powder, all...</td>\n",
       "      <td>vegetarian</td>\n",
       "      <td>20</td>\n",
       "      <td>45</td>\n",
       "      <td>sweet</td>\n",
       "      <td>dessert</td>\n",
       "      <td>Madhya Pradesh</td>\n",
       "      <td>Central</td>\n",
       "    </tr>\n",
       "    <tr>\n",
       "      <th>254</th>\n",
       "      <td>Pinaca</td>\n",
       "      <td>Brown rice, fennel seeds, grated coconut, blac...</td>\n",
       "      <td>vegetarian</td>\n",
       "      <td>-1</td>\n",
       "      <td>-1</td>\n",
       "      <td>sweet</td>\n",
       "      <td>dessert</td>\n",
       "      <td>Goa</td>\n",
       "      <td>West</td>\n",
       "    </tr>\n",
       "  </tbody>\n",
       "</table>\n",
       "<p>255 rows × 9 columns</p>\n",
       "</div>"
      ],
      "text/plain": [
       "               name                                        ingredients  \\\n",
       "0        Balu shahi                    Maida flour, yogurt, oil, sugar   \n",
       "1            Boondi                            Gram flour, ghee, sugar   \n",
       "2    Gajar ka halwa       Carrots, milk, sugar, ghee, cashews, raisins   \n",
       "3            Ghevar  Flour, ghee, kewra, milk, clarified butter, su...   \n",
       "4       Gulab jamun  Milk powder, plain flour, baking powder, ghee,...   \n",
       "..              ...                                                ...   \n",
       "250       Til Pitha            Glutinous rice, black sesame seeds, gur   \n",
       "251         Bebinca  Coconut milk, egg yolks, clarified butter, all...   \n",
       "252          Shufta  Cottage cheese, dry dates, dried rose petals, ...   \n",
       "253       Mawa Bati  Milk powder, dry fruits, arrowroot powder, all...   \n",
       "254          Pinaca  Brown rice, fennel seeds, grated coconut, blac...   \n",
       "\n",
       "           diet  prep_time  cook_time flavor_profile   course  \\\n",
       "0    vegetarian         45         25          sweet  dessert   \n",
       "1    vegetarian         80         30          sweet  dessert   \n",
       "2    vegetarian         15         60          sweet  dessert   \n",
       "3    vegetarian         15         30          sweet  dessert   \n",
       "4    vegetarian         15         40          sweet  dessert   \n",
       "..          ...        ...        ...            ...      ...   \n",
       "250  vegetarian          5         30          sweet  dessert   \n",
       "251  vegetarian         20         60          sweet  dessert   \n",
       "252  vegetarian         -1         -1          sweet  dessert   \n",
       "253  vegetarian         20         45          sweet  dessert   \n",
       "254  vegetarian         -1         -1          sweet  dessert   \n",
       "\n",
       "               state      region  \n",
       "0        West Bengal        East  \n",
       "1          Rajasthan        West  \n",
       "2             Punjab       North  \n",
       "3          Rajasthan        West  \n",
       "4        West Bengal        East  \n",
       "..               ...         ...  \n",
       "250            Assam  North East  \n",
       "251              Goa        West  \n",
       "252  Jammu & Kashmir       North  \n",
       "253   Madhya Pradesh     Central  \n",
       "254              Goa        West  \n",
       "\n",
       "[255 rows x 9 columns]"
      ]
     },
     "execution_count": 1,
     "metadata": {},
     "output_type": "execute_result"
    }
   ],
   "source": [
    "import pandas as pd\n",
    "import numpy as np\n",
    "food = pd.read_csv(\"pandas datasets/indian_food (1).csv\")\n",
    "food"
   ]
  },
  {
   "cell_type": "code",
   "execution_count": null,
   "id": "9b1854b8",
   "metadata": {},
   "outputs": [],
   "source": [
    "# 1.Which state has the highest count of recipes?"
   ]
  },
  {
   "cell_type": "code",
   "execution_count": 27,
   "id": "2387954a",
   "metadata": {},
   "outputs": [
    {
     "name": "stdout",
     "output_type": "stream",
     "text": [
      "highest count of recipes in state          \n",
      "Gujarat            35\n",
      "Punjab             32\n",
      "Maharashtra        30\n",
      "-1                 24\n",
      "West Bengal        24\n",
      "Assam              21\n",
      "Tamil Nadu         20\n",
      "Andhra Pradesh     10\n",
      "Uttar Pradesh       9\n",
      "Kerala              8\n",
      "Odisha              7\n",
      "Karnataka           6\n",
      "Rajasthan           6\n",
      "Telangana           5\n",
      "Goa                 3\n",
      "Bihar               3\n",
      "Jammu & Kashmir     2\n",
      "Madhya Pradesh      2\n",
      "Manipur             2\n",
      "Tripura             1\n",
      "Uttarakhand         1\n",
      "Chhattisgarh        1\n",
      "Nagaland            1\n",
      "Haryana             1\n",
      "NCT of Delhi        1\n",
      "Name: count, dtype: int64\n"
     ]
    }
   ],
   "source": [
    "print(\"highest count of recipes in\",food[[\"state\"]].value_counts())"
   ]
  },
  {
   "cell_type": "code",
   "execution_count": null,
   "id": "6acb9fea",
   "metadata": {},
   "outputs": [],
   "source": [
    "# 2.What is the Average prep time of all the recipes?"
   ]
  },
  {
   "cell_type": "code",
   "execution_count": 28,
   "id": "5e14e138",
   "metadata": {},
   "outputs": [
    {
     "name": "stdout",
     "output_type": "stream",
     "text": [
      "To know average prep time of recipes  we use mean i.e 31.105882352941176\n"
     ]
    }
   ],
   "source": [
    "print(\"To know average prep time of recipes  we use mean i.e\",food[\"prep_time\"].mean())"
   ]
  },
  {
   "cell_type": "code",
   "execution_count": null,
   "id": "6ca00679",
   "metadata": {},
   "outputs": [],
   "source": [
    "# 3.How many recipes are there in the dataset with a diet type “Non Vegetarian”?  "
   ]
  },
  {
   "cell_type": "code",
   "execution_count": 41,
   "id": "17785631",
   "metadata": {},
   "outputs": [
    {
     "data": {
      "text/plain": [
       "diet\n",
       "vegetarian        226\n",
       "non vegetarian     29\n",
       "Name: count, dtype: int64"
      ]
     },
     "execution_count": 41,
     "metadata": {},
     "output_type": "execute_result"
    }
   ],
   "source": [
    "food[\"diet\"].value_counts()"
   ]
  },
  {
   "cell_type": "code",
   "execution_count": null,
   "id": "39c66a34",
   "metadata": {},
   "outputs": [],
   "source": [
    "# 4.What is the median cook time of recipes?  "
   ]
  },
  {
   "cell_type": "code",
   "execution_count": 117,
   "id": "f280453d",
   "metadata": {},
   "outputs": [
    {
     "name": "stdout",
     "output_type": "stream",
     "text": [
      "the calculated median of cooktime for all recipes is  30.0\n"
     ]
    }
   ],
   "source": [
    "print(\"the calculated median of cooktime for all recipes is \",food[\"cook_time\"].median())"
   ]
  },
  {
   "cell_type": "code",
   "execution_count": null,
   "id": "3c314627",
   "metadata": {},
   "outputs": [],
   "source": [
    "# 5.What is the name of the recipe that has the longest cook time?"
   ]
  },
  {
   "cell_type": "code",
   "execution_count": 66,
   "id": "0a600890",
   "metadata": {},
   "outputs": [
    {
     "data": {
      "text/plain": [
       "62"
      ]
     },
     "execution_count": 66,
     "metadata": {},
     "output_type": "execute_result"
    }
   ],
   "source": [
    "maxcooktim=food[\"cook_time\"].idxmax()\n",
    "maxcooktim"
   ]
  },
  {
   "cell_type": "code",
   "execution_count": 116,
   "id": "17f855de",
   "metadata": {},
   "outputs": [
    {
     "name": "stdout",
     "output_type": "stream",
     "text": [
      "Shrikhand  recipe requires longest time to cook\n"
     ]
    }
   ],
   "source": [
    "# Condition and corresponding with column\n",
    "print(food.loc[maxcooktim,\"name\"],\" recipe requires longest time to cook\")"
   ]
  },
  {
   "cell_type": "code",
   "execution_count": null,
   "id": "1168f792",
   "metadata": {},
   "outputs": [],
   "source": [
    "# 6.What percentage of recipes is categorized as Dessert? "
   ]
  },
  {
   "cell_type": "code",
   "execution_count": 88,
   "id": "2ace659e",
   "metadata": {},
   "outputs": [
    {
     "name": "stdout",
     "output_type": "stream",
     "text": [
      "course\n",
      "main course    129\n",
      "dessert         85\n",
      "snack           39\n",
      "starter          2\n",
      "Name: count, dtype: int64\n",
      "\n",
      "The total values are  255\n",
      "255\n",
      "\n",
      "the values in dessert are: 85\n",
      "\n",
      "the percentage is calculated as 33.33333333333333\n"
     ]
    }
   ],
   "source": [
    "course_dataframe = food[\"course\"].value_counts()\n",
    "print(course_dataframe)\n",
    "print(\"\\nThe total values are \",course_dataframe.sum())\n",
    "#a.sum()\n",
    "#a.shape[0]\n",
    "sum = 0\n",
    "for i in range(len(a)):\n",
    "    sum = sum + a[i]\n",
    "print(sum)\n",
    "dessert = course_dataframe[1]\n",
    "print(\"\\nthe values in dessert are:\" ,dessert)\n",
    "percentage = course_dataframe[1]/course_dataframe.sum() * 100\n",
    "print(\"\\nthe percentage is calculated as\",percentage)"
   ]
  },
  {
   "cell_type": "code",
   "execution_count": null,
   "id": "783e666f",
   "metadata": {},
   "outputs": [],
   "source": [
    "# 7.How many recipes have cook time and prep time greater than 15 mins? "
   ]
  },
  {
   "cell_type": "code",
   "execution_count": 107,
   "id": "c7cd22c3",
   "metadata": {},
   "outputs": [
    {
     "data": {
      "text/html": [
       "<div>\n",
       "<style scoped>\n",
       "    .dataframe tbody tr th:only-of-type {\n",
       "        vertical-align: middle;\n",
       "    }\n",
       "\n",
       "    .dataframe tbody tr th {\n",
       "        vertical-align: top;\n",
       "    }\n",
       "\n",
       "    .dataframe thead th {\n",
       "        text-align: right;\n",
       "    }\n",
       "</style>\n",
       "<table border=\"1\" class=\"dataframe\">\n",
       "  <thead>\n",
       "    <tr style=\"text-align: right;\">\n",
       "      <th></th>\n",
       "      <th>name</th>\n",
       "      <th>ingredients</th>\n",
       "      <th>diet</th>\n",
       "      <th>prep_time</th>\n",
       "      <th>cook_time</th>\n",
       "      <th>flavor_profile</th>\n",
       "      <th>course</th>\n",
       "      <th>state</th>\n",
       "      <th>region</th>\n",
       "    </tr>\n",
       "  </thead>\n",
       "  <tbody>\n",
       "    <tr>\n",
       "      <th>0</th>\n",
       "      <td>Balu shahi</td>\n",
       "      <td>Maida flour, yogurt, oil, sugar</td>\n",
       "      <td>vegetarian</td>\n",
       "      <td>45</td>\n",
       "      <td>25</td>\n",
       "      <td>sweet</td>\n",
       "      <td>dessert</td>\n",
       "      <td>West Bengal</td>\n",
       "      <td>East</td>\n",
       "    </tr>\n",
       "    <tr>\n",
       "      <th>1</th>\n",
       "      <td>Boondi</td>\n",
       "      <td>Gram flour, ghee, sugar</td>\n",
       "      <td>vegetarian</td>\n",
       "      <td>80</td>\n",
       "      <td>30</td>\n",
       "      <td>sweet</td>\n",
       "      <td>dessert</td>\n",
       "      <td>Rajasthan</td>\n",
       "      <td>West</td>\n",
       "    </tr>\n",
       "    <tr>\n",
       "      <th>8</th>\n",
       "      <td>Kalakand</td>\n",
       "      <td>Milk, cottage cheese, sugar</td>\n",
       "      <td>vegetarian</td>\n",
       "      <td>20</td>\n",
       "      <td>30</td>\n",
       "      <td>sweet</td>\n",
       "      <td>dessert</td>\n",
       "      <td>West Bengal</td>\n",
       "      <td>East</td>\n",
       "    </tr>\n",
       "    <tr>\n",
       "      <th>12</th>\n",
       "      <td>Nankhatai</td>\n",
       "      <td>Refined flour, besan, ghee, powdered sugar, yo...</td>\n",
       "      <td>vegetarian</td>\n",
       "      <td>20</td>\n",
       "      <td>30</td>\n",
       "      <td>sweet</td>\n",
       "      <td>dessert</td>\n",
       "      <td>-1</td>\n",
       "      <td>-1</td>\n",
       "    </tr>\n",
       "    <tr>\n",
       "      <th>14</th>\n",
       "      <td>Phirni</td>\n",
       "      <td>Rice, sugar, nuts</td>\n",
       "      <td>vegetarian</td>\n",
       "      <td>30</td>\n",
       "      <td>20</td>\n",
       "      <td>sweet</td>\n",
       "      <td>dessert</td>\n",
       "      <td>Odisha</td>\n",
       "      <td>East</td>\n",
       "    </tr>\n",
       "    <tr>\n",
       "      <th>...</th>\n",
       "      <td>...</td>\n",
       "      <td>...</td>\n",
       "      <td>...</td>\n",
       "      <td>...</td>\n",
       "      <td>...</td>\n",
       "      <td>...</td>\n",
       "      <td>...</td>\n",
       "      <td>...</td>\n",
       "      <td>...</td>\n",
       "    </tr>\n",
       "    <tr>\n",
       "      <th>224</th>\n",
       "      <td>Luchi</td>\n",
       "      <td>Maida, vegetable oil</td>\n",
       "      <td>vegetarian</td>\n",
       "      <td>20</td>\n",
       "      <td>30</td>\n",
       "      <td>-1</td>\n",
       "      <td>main course</td>\n",
       "      <td>West Bengal</td>\n",
       "      <td>East</td>\n",
       "    </tr>\n",
       "    <tr>\n",
       "      <th>233</th>\n",
       "      <td>Goja</td>\n",
       "      <td>Baking soda, clarified butter, oil, all purpos...</td>\n",
       "      <td>vegetarian</td>\n",
       "      <td>20</td>\n",
       "      <td>60</td>\n",
       "      <td>sweet</td>\n",
       "      <td>dessert</td>\n",
       "      <td>West Bengal</td>\n",
       "      <td>East</td>\n",
       "    </tr>\n",
       "    <tr>\n",
       "      <th>235</th>\n",
       "      <td>Haq Maas</td>\n",
       "      <td>Lamb, garam masala powder, curd, turmeric, bay...</td>\n",
       "      <td>non vegetarian</td>\n",
       "      <td>20</td>\n",
       "      <td>40</td>\n",
       "      <td>spicy</td>\n",
       "      <td>main course</td>\n",
       "      <td>Assam</td>\n",
       "      <td>North East</td>\n",
       "    </tr>\n",
       "    <tr>\n",
       "      <th>251</th>\n",
       "      <td>Bebinca</td>\n",
       "      <td>Coconut milk, egg yolks, clarified butter, all...</td>\n",
       "      <td>vegetarian</td>\n",
       "      <td>20</td>\n",
       "      <td>60</td>\n",
       "      <td>sweet</td>\n",
       "      <td>dessert</td>\n",
       "      <td>Goa</td>\n",
       "      <td>West</td>\n",
       "    </tr>\n",
       "    <tr>\n",
       "      <th>253</th>\n",
       "      <td>Mawa Bati</td>\n",
       "      <td>Milk powder, dry fruits, arrowroot powder, all...</td>\n",
       "      <td>vegetarian</td>\n",
       "      <td>20</td>\n",
       "      <td>45</td>\n",
       "      <td>sweet</td>\n",
       "      <td>dessert</td>\n",
       "      <td>Madhya Pradesh</td>\n",
       "      <td>Central</td>\n",
       "    </tr>\n",
       "  </tbody>\n",
       "</table>\n",
       "<p>84 rows × 9 columns</p>\n",
       "</div>"
      ],
      "text/plain": [
       "           name                                        ingredients  \\\n",
       "0    Balu shahi                    Maida flour, yogurt, oil, sugar   \n",
       "1        Boondi                            Gram flour, ghee, sugar   \n",
       "8      Kalakand                        Milk, cottage cheese, sugar   \n",
       "12    Nankhatai  Refined flour, besan, ghee, powdered sugar, yo...   \n",
       "14       Phirni                                  Rice, sugar, nuts   \n",
       "..          ...                                                ...   \n",
       "224       Luchi                               Maida, vegetable oil   \n",
       "233        Goja  Baking soda, clarified butter, oil, all purpos...   \n",
       "235    Haq Maas  Lamb, garam masala powder, curd, turmeric, bay...   \n",
       "251     Bebinca  Coconut milk, egg yolks, clarified butter, all...   \n",
       "253   Mawa Bati  Milk powder, dry fruits, arrowroot powder, all...   \n",
       "\n",
       "               diet  prep_time  cook_time flavor_profile       course  \\\n",
       "0        vegetarian         45         25          sweet      dessert   \n",
       "1        vegetarian         80         30          sweet      dessert   \n",
       "8        vegetarian         20         30          sweet      dessert   \n",
       "12       vegetarian         20         30          sweet      dessert   \n",
       "14       vegetarian         30         20          sweet      dessert   \n",
       "..              ...        ...        ...            ...          ...   \n",
       "224      vegetarian         20         30             -1  main course   \n",
       "233      vegetarian         20         60          sweet      dessert   \n",
       "235  non vegetarian         20         40          spicy  main course   \n",
       "251      vegetarian         20         60          sweet      dessert   \n",
       "253      vegetarian         20         45          sweet      dessert   \n",
       "\n",
       "              state      region  \n",
       "0       West Bengal        East  \n",
       "1         Rajasthan        West  \n",
       "8       West Bengal        East  \n",
       "12               -1          -1  \n",
       "14           Odisha        East  \n",
       "..              ...         ...  \n",
       "224     West Bengal        East  \n",
       "233     West Bengal        East  \n",
       "235           Assam  North East  \n",
       "251             Goa        West  \n",
       "253  Madhya Pradesh     Central  \n",
       "\n",
       "[84 rows x 9 columns]"
      ]
     },
     "execution_count": 107,
     "metadata": {},
     "output_type": "execute_result"
    }
   ],
   "source": [
    "cond1 = food[\"prep_time\"] > 15\n",
    "cond2 = food[\"cook_time\"] > 15\n",
    "food.loc[cond1 & cond2]"
   ]
  },
  {
   "cell_type": "code",
   "execution_count": 109,
   "id": "3a1c45cd",
   "metadata": {},
   "outputs": [
    {
     "name": "stdout",
     "output_type": "stream",
     "text": [
      "there are 84 dishes which takes preptime and cooktime greater than 15 min\n"
     ]
    }
   ],
   "source": [
    "# To know the count of the values we have to check for shape \"0\" as it is row\n",
    "food.loc[cond1 & cond2].shape[0]\n",
    "print(f\"there are {food.loc[cond1 & cond2].shape[0]} dishes which takes preptime and cooktime greater than 15 min\")"
   ]
  },
  {
   "cell_type": "code",
   "execution_count": 118,
   "id": "ae72d575",
   "metadata": {},
   "outputs": [],
   "source": [
    "# 8.What are the ingredients present in the “singori” recipe?"
   ]
  },
  {
   "cell_type": "code",
   "execution_count": null,
   "id": "32d5118a",
   "metadata": {},
   "outputs": [],
   "source": []
  },
  {
   "cell_type": "code",
   "execution_count": 175,
   "id": "1568762f",
   "metadata": {},
   "outputs": [
    {
     "name": "stdout",
     "output_type": "stream",
     "text": [
      "ingrediets of Singori are  17    Khoa, coconut, molu leaf\n",
      "Name: ingredients, dtype: object\n"
     ]
    }
   ],
   "source": [
    "print(\"ingrediets of Singori are \",food.loc[food[\"name\"].unique() == \"Singori\",\"ingredients\"])"
   ]
  },
  {
   "cell_type": "code",
   "execution_count": null,
   "id": "cf60d94a",
   "metadata": {},
   "outputs": [],
   "source": [
    "# 9.Find the correlation between cook time and prep time? "
   ]
  },
  {
   "cell_type": "code",
   "execution_count": 142,
   "id": "77a221bf",
   "metadata": {},
   "outputs": [
    {
     "data": {
      "text/plain": [
       "array([[1.        , 0.14411325],\n",
       "       [0.14411325, 1.        ]])"
      ]
     },
     "execution_count": 142,
     "metadata": {},
     "output_type": "execute_result"
    }
   ],
   "source": [
    "cook = food[\"cook_time\"]\n",
    "prep = food[\"prep_time\"]\n",
    "np.corrcoef(cook,prep)\n",
    "# cOrrelation between cook_time and prep_time is \"0.14\" "
   ]
  },
  {
   "cell_type": "code",
   "execution_count": null,
   "id": "14b8695a",
   "metadata": {},
   "outputs": [],
   "source": [
    "# 10.What is the unique number of courses we have in the dataset?  "
   ]
  },
  {
   "cell_type": "code",
   "execution_count": 150,
   "id": "f5904b08",
   "metadata": {},
   "outputs": [
    {
     "data": {
      "text/plain": [
       "array(['dessert', 'main course', 'starter', 'snack'], dtype=object)"
      ]
     },
     "execution_count": 150,
     "metadata": {},
     "output_type": "execute_result"
    }
   ],
   "source": [
    "no_of_courses = food[\"course\"].unique()\n",
    "no_of_courses"
   ]
  },
  {
   "cell_type": "code",
   "execution_count": 151,
   "id": "98d56642",
   "metadata": {},
   "outputs": [
    {
     "data": {
      "text/plain": [
       "4"
      ]
     },
     "execution_count": 151,
     "metadata": {},
     "output_type": "execute_result"
    }
   ],
   "source": [
    "len(no_of_courses)"
   ]
  }
 ],
 "metadata": {
  "kernelspec": {
   "display_name": "Python 3 (ipykernel)",
   "language": "python",
   "name": "python3"
  },
  "language_info": {
   "codemirror_mode": {
    "name": "ipython",
    "version": 3
   },
   "file_extension": ".py",
   "mimetype": "text/x-python",
   "name": "python",
   "nbconvert_exporter": "python",
   "pygments_lexer": "ipython3",
   "version": "3.11.5"
  }
 },
 "nbformat": 4,
 "nbformat_minor": 5
}
