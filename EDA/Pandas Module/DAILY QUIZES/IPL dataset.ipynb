{
 "cells": [
  {
   "cell_type": "code",
   "execution_count": 4,
   "id": "47802025",
   "metadata": {},
   "outputs": [],
   "source": [
    "import pandas as pd\n",
    "import numpy as np"
   ]
  },
  {
   "cell_type": "code",
   "execution_count": 3,
   "id": "80e38651",
   "metadata": {},
   "outputs": [
    {
     "ename": "FileNotFoundError",
     "evalue": "[Errno 2] No such file or directory: 'pandas datasets/deliveries.csv'",
     "output_type": "error",
     "traceback": [
      "\u001b[1;31m---------------------------------------------------------------------------\u001b[0m",
      "\u001b[1;31mFileNotFoundError\u001b[0m                         Traceback (most recent call last)",
      "Cell \u001b[1;32mIn[3], line 1\u001b[0m\n\u001b[1;32m----> 1\u001b[0m df \u001b[38;5;241m=\u001b[39m pd\u001b[38;5;241m.\u001b[39mread_csv(\u001b[38;5;124m\"\u001b[39m\u001b[38;5;124mpandas datasets/deliveries.csv\u001b[39m\u001b[38;5;124m\"\u001b[39m)\n\u001b[0;32m      2\u001b[0m df\n",
      "File \u001b[1;32m~\\anaconda3\\Lib\\site-packages\\pandas\\io\\parsers\\readers.py:912\u001b[0m, in \u001b[0;36mread_csv\u001b[1;34m(filepath_or_buffer, sep, delimiter, header, names, index_col, usecols, dtype, engine, converters, true_values, false_values, skipinitialspace, skiprows, skipfooter, nrows, na_values, keep_default_na, na_filter, verbose, skip_blank_lines, parse_dates, infer_datetime_format, keep_date_col, date_parser, date_format, dayfirst, cache_dates, iterator, chunksize, compression, thousands, decimal, lineterminator, quotechar, quoting, doublequote, escapechar, comment, encoding, encoding_errors, dialect, on_bad_lines, delim_whitespace, low_memory, memory_map, float_precision, storage_options, dtype_backend)\u001b[0m\n\u001b[0;32m    899\u001b[0m kwds_defaults \u001b[38;5;241m=\u001b[39m _refine_defaults_read(\n\u001b[0;32m    900\u001b[0m     dialect,\n\u001b[0;32m    901\u001b[0m     delimiter,\n\u001b[1;32m   (...)\u001b[0m\n\u001b[0;32m    908\u001b[0m     dtype_backend\u001b[38;5;241m=\u001b[39mdtype_backend,\n\u001b[0;32m    909\u001b[0m )\n\u001b[0;32m    910\u001b[0m kwds\u001b[38;5;241m.\u001b[39mupdate(kwds_defaults)\n\u001b[1;32m--> 912\u001b[0m \u001b[38;5;28;01mreturn\u001b[39;00m _read(filepath_or_buffer, kwds)\n",
      "File \u001b[1;32m~\\anaconda3\\Lib\\site-packages\\pandas\\io\\parsers\\readers.py:577\u001b[0m, in \u001b[0;36m_read\u001b[1;34m(filepath_or_buffer, kwds)\u001b[0m\n\u001b[0;32m    574\u001b[0m _validate_names(kwds\u001b[38;5;241m.\u001b[39mget(\u001b[38;5;124m\"\u001b[39m\u001b[38;5;124mnames\u001b[39m\u001b[38;5;124m\"\u001b[39m, \u001b[38;5;28;01mNone\u001b[39;00m))\n\u001b[0;32m    576\u001b[0m \u001b[38;5;66;03m# Create the parser.\u001b[39;00m\n\u001b[1;32m--> 577\u001b[0m parser \u001b[38;5;241m=\u001b[39m TextFileReader(filepath_or_buffer, \u001b[38;5;241m*\u001b[39m\u001b[38;5;241m*\u001b[39mkwds)\n\u001b[0;32m    579\u001b[0m \u001b[38;5;28;01mif\u001b[39;00m chunksize \u001b[38;5;129;01mor\u001b[39;00m iterator:\n\u001b[0;32m    580\u001b[0m     \u001b[38;5;28;01mreturn\u001b[39;00m parser\n",
      "File \u001b[1;32m~\\anaconda3\\Lib\\site-packages\\pandas\\io\\parsers\\readers.py:1407\u001b[0m, in \u001b[0;36mTextFileReader.__init__\u001b[1;34m(self, f, engine, **kwds)\u001b[0m\n\u001b[0;32m   1404\u001b[0m     \u001b[38;5;28mself\u001b[39m\u001b[38;5;241m.\u001b[39moptions[\u001b[38;5;124m\"\u001b[39m\u001b[38;5;124mhas_index_names\u001b[39m\u001b[38;5;124m\"\u001b[39m] \u001b[38;5;241m=\u001b[39m kwds[\u001b[38;5;124m\"\u001b[39m\u001b[38;5;124mhas_index_names\u001b[39m\u001b[38;5;124m\"\u001b[39m]\n\u001b[0;32m   1406\u001b[0m \u001b[38;5;28mself\u001b[39m\u001b[38;5;241m.\u001b[39mhandles: IOHandles \u001b[38;5;241m|\u001b[39m \u001b[38;5;28;01mNone\u001b[39;00m \u001b[38;5;241m=\u001b[39m \u001b[38;5;28;01mNone\u001b[39;00m\n\u001b[1;32m-> 1407\u001b[0m \u001b[38;5;28mself\u001b[39m\u001b[38;5;241m.\u001b[39m_engine \u001b[38;5;241m=\u001b[39m \u001b[38;5;28mself\u001b[39m\u001b[38;5;241m.\u001b[39m_make_engine(f, \u001b[38;5;28mself\u001b[39m\u001b[38;5;241m.\u001b[39mengine)\n",
      "File \u001b[1;32m~\\anaconda3\\Lib\\site-packages\\pandas\\io\\parsers\\readers.py:1661\u001b[0m, in \u001b[0;36mTextFileReader._make_engine\u001b[1;34m(self, f, engine)\u001b[0m\n\u001b[0;32m   1659\u001b[0m     \u001b[38;5;28;01mif\u001b[39;00m \u001b[38;5;124m\"\u001b[39m\u001b[38;5;124mb\u001b[39m\u001b[38;5;124m\"\u001b[39m \u001b[38;5;129;01mnot\u001b[39;00m \u001b[38;5;129;01min\u001b[39;00m mode:\n\u001b[0;32m   1660\u001b[0m         mode \u001b[38;5;241m+\u001b[39m\u001b[38;5;241m=\u001b[39m \u001b[38;5;124m\"\u001b[39m\u001b[38;5;124mb\u001b[39m\u001b[38;5;124m\"\u001b[39m\n\u001b[1;32m-> 1661\u001b[0m \u001b[38;5;28mself\u001b[39m\u001b[38;5;241m.\u001b[39mhandles \u001b[38;5;241m=\u001b[39m get_handle(\n\u001b[0;32m   1662\u001b[0m     f,\n\u001b[0;32m   1663\u001b[0m     mode,\n\u001b[0;32m   1664\u001b[0m     encoding\u001b[38;5;241m=\u001b[39m\u001b[38;5;28mself\u001b[39m\u001b[38;5;241m.\u001b[39moptions\u001b[38;5;241m.\u001b[39mget(\u001b[38;5;124m\"\u001b[39m\u001b[38;5;124mencoding\u001b[39m\u001b[38;5;124m\"\u001b[39m, \u001b[38;5;28;01mNone\u001b[39;00m),\n\u001b[0;32m   1665\u001b[0m     compression\u001b[38;5;241m=\u001b[39m\u001b[38;5;28mself\u001b[39m\u001b[38;5;241m.\u001b[39moptions\u001b[38;5;241m.\u001b[39mget(\u001b[38;5;124m\"\u001b[39m\u001b[38;5;124mcompression\u001b[39m\u001b[38;5;124m\"\u001b[39m, \u001b[38;5;28;01mNone\u001b[39;00m),\n\u001b[0;32m   1666\u001b[0m     memory_map\u001b[38;5;241m=\u001b[39m\u001b[38;5;28mself\u001b[39m\u001b[38;5;241m.\u001b[39moptions\u001b[38;5;241m.\u001b[39mget(\u001b[38;5;124m\"\u001b[39m\u001b[38;5;124mmemory_map\u001b[39m\u001b[38;5;124m\"\u001b[39m, \u001b[38;5;28;01mFalse\u001b[39;00m),\n\u001b[0;32m   1667\u001b[0m     is_text\u001b[38;5;241m=\u001b[39mis_text,\n\u001b[0;32m   1668\u001b[0m     errors\u001b[38;5;241m=\u001b[39m\u001b[38;5;28mself\u001b[39m\u001b[38;5;241m.\u001b[39moptions\u001b[38;5;241m.\u001b[39mget(\u001b[38;5;124m\"\u001b[39m\u001b[38;5;124mencoding_errors\u001b[39m\u001b[38;5;124m\"\u001b[39m, \u001b[38;5;124m\"\u001b[39m\u001b[38;5;124mstrict\u001b[39m\u001b[38;5;124m\"\u001b[39m),\n\u001b[0;32m   1669\u001b[0m     storage_options\u001b[38;5;241m=\u001b[39m\u001b[38;5;28mself\u001b[39m\u001b[38;5;241m.\u001b[39moptions\u001b[38;5;241m.\u001b[39mget(\u001b[38;5;124m\"\u001b[39m\u001b[38;5;124mstorage_options\u001b[39m\u001b[38;5;124m\"\u001b[39m, \u001b[38;5;28;01mNone\u001b[39;00m),\n\u001b[0;32m   1670\u001b[0m )\n\u001b[0;32m   1671\u001b[0m \u001b[38;5;28;01massert\u001b[39;00m \u001b[38;5;28mself\u001b[39m\u001b[38;5;241m.\u001b[39mhandles \u001b[38;5;129;01mis\u001b[39;00m \u001b[38;5;129;01mnot\u001b[39;00m \u001b[38;5;28;01mNone\u001b[39;00m\n\u001b[0;32m   1672\u001b[0m f \u001b[38;5;241m=\u001b[39m \u001b[38;5;28mself\u001b[39m\u001b[38;5;241m.\u001b[39mhandles\u001b[38;5;241m.\u001b[39mhandle\n",
      "File \u001b[1;32m~\\anaconda3\\Lib\\site-packages\\pandas\\io\\common.py:859\u001b[0m, in \u001b[0;36mget_handle\u001b[1;34m(path_or_buf, mode, encoding, compression, memory_map, is_text, errors, storage_options)\u001b[0m\n\u001b[0;32m    854\u001b[0m \u001b[38;5;28;01melif\u001b[39;00m \u001b[38;5;28misinstance\u001b[39m(handle, \u001b[38;5;28mstr\u001b[39m):\n\u001b[0;32m    855\u001b[0m     \u001b[38;5;66;03m# Check whether the filename is to be opened in binary mode.\u001b[39;00m\n\u001b[0;32m    856\u001b[0m     \u001b[38;5;66;03m# Binary mode does not support 'encoding' and 'newline'.\u001b[39;00m\n\u001b[0;32m    857\u001b[0m     \u001b[38;5;28;01mif\u001b[39;00m ioargs\u001b[38;5;241m.\u001b[39mencoding \u001b[38;5;129;01mand\u001b[39;00m \u001b[38;5;124m\"\u001b[39m\u001b[38;5;124mb\u001b[39m\u001b[38;5;124m\"\u001b[39m \u001b[38;5;129;01mnot\u001b[39;00m \u001b[38;5;129;01min\u001b[39;00m ioargs\u001b[38;5;241m.\u001b[39mmode:\n\u001b[0;32m    858\u001b[0m         \u001b[38;5;66;03m# Encoding\u001b[39;00m\n\u001b[1;32m--> 859\u001b[0m         handle \u001b[38;5;241m=\u001b[39m \u001b[38;5;28mopen\u001b[39m(\n\u001b[0;32m    860\u001b[0m             handle,\n\u001b[0;32m    861\u001b[0m             ioargs\u001b[38;5;241m.\u001b[39mmode,\n\u001b[0;32m    862\u001b[0m             encoding\u001b[38;5;241m=\u001b[39mioargs\u001b[38;5;241m.\u001b[39mencoding,\n\u001b[0;32m    863\u001b[0m             errors\u001b[38;5;241m=\u001b[39merrors,\n\u001b[0;32m    864\u001b[0m             newline\u001b[38;5;241m=\u001b[39m\u001b[38;5;124m\"\u001b[39m\u001b[38;5;124m\"\u001b[39m,\n\u001b[0;32m    865\u001b[0m         )\n\u001b[0;32m    866\u001b[0m     \u001b[38;5;28;01melse\u001b[39;00m:\n\u001b[0;32m    867\u001b[0m         \u001b[38;5;66;03m# Binary mode\u001b[39;00m\n\u001b[0;32m    868\u001b[0m         handle \u001b[38;5;241m=\u001b[39m \u001b[38;5;28mopen\u001b[39m(handle, ioargs\u001b[38;5;241m.\u001b[39mmode)\n",
      "\u001b[1;31mFileNotFoundError\u001b[0m: [Errno 2] No such file or directory: 'pandas datasets/deliveries.csv'"
     ]
    }
   ],
   "source": [
    "df = pd.read_csv(\"pandas datasets/deliveries.csv\")\n",
    "df"
   ]
  },
  {
   "cell_type": "markdown",
   "id": "30e2abc9",
   "metadata": {},
   "source": [
    "1. Identify the top 5 bowlers who have taken the most wickets across all matches."
   ]
  },
  {
   "cell_type": "code",
   "execution_count": null,
   "id": "9c0fe93f",
   "metadata": {},
   "outputs": [],
   "source": [
    "df.groupby(\"bowler\")[\"player_dismissed\"].count().sort_values(ascending = False).head()"
   ]
  },
  {
   "cell_type": "code",
   "execution_count": null,
   "id": "d98f1d45",
   "metadata": {},
   "outputs": [],
   "source": [
    "ipl = df[df[\"dismissal_kind\"].notnull()]\n",
    "ipl[\"bowler\"].value_counts()[:5]"
   ]
  },
  {
   "cell_type": "code",
   "execution_count": null,
   "id": "c3afb232",
   "metadata": {},
   "outputs": [],
   "source": [
    "pd.crosstab(df[\"bowler\"],df[\"total_runs\"])"
   ]
  },
  {
   "cell_type": "markdown",
   "id": "bdbb381f",
   "metadata": {},
   "source": [
    "2. Determine the most common dismissal kind for batsmen (e.g., caught, bowled, etc."
   ]
  },
  {
   "cell_type": "code",
   "execution_count": null,
   "id": "81c75644",
   "metadata": {},
   "outputs": [],
   "source": [
    "print(df[\"dismissal_kind\"].value_counts().head(3))\n",
    "print(df[\"dismissal_kind\"].value_counts().idxmax())"
   ]
  },
  {
   "cell_type": "markdown",
   "id": "3eafbe70",
   "metadata": {},
   "source": [
    "3. Find the bowlers with the lowest economy rate (avg runs in overs bowled"
   ]
  },
  {
   "cell_type": "code",
   "execution_count": null,
   "id": "4b7e3dec",
   "metadata": {},
   "outputs": [],
   "source": [
    "df['Economy_Rate'] = df['total_runs'] / df['over']\n",
    "df['Economy_Rate']\n",
    "df.groupby(\"bowler\")[\"Economy_Rate\"].count().sort_values(ascending = False).head(5)"
   ]
  },
  {
   "cell_type": "markdown",
   "id": "ab5a4ba7",
   "metadata": {},
   "source": [
    "4. Identify the batsmen with the highest strike rates (minimum 100 balls faced).\n"
   ]
  },
  {
   "cell_type": "code",
   "execution_count": null,
   "id": "502e0f2e",
   "metadata": {},
   "outputs": [],
   "source": []
  },
  {
   "cell_type": "markdown",
   "id": "b8c65630",
   "metadata": {},
   "source": [
    "5. Find the highest scoring partnerships between any two batsmen.\n"
   ]
  },
  {
   "cell_type": "code",
   "execution_count": null,
   "id": "373c408e",
   "metadata": {},
   "outputs": [],
   "source": [
    "df.groupby([\"batsman\",\"non_striker\"])[\"total_runs\"].sum().sort_values(ascending = False)[:5]"
   ]
  },
  {
   "cell_type": "markdown",
   "id": "5b186fa8",
   "metadata": {},
   "source": [
    "6. Determine which batsman has scored the most runs during the powerplay overs (first 6 overs).\n"
   ]
  },
  {
   "cell_type": "code",
   "execution_count": null,
   "id": "63bf2ad8",
   "metadata": {},
   "outputs": [],
   "source": [
    "df2 = df[df[\"over\"].isin([1,2,3,4,5,6])]\n",
    "print(df2.groupby([\"batsman\"])[\"batsman_runs\"].count().sort_values(ascending = False).head(5))\n",
    "print()\n",
    "print(df2.groupby([\"batsman\"])[\"batsman_runs\"].count().sort_values(ascending = False).head(5)[:1])"
   ]
  },
  {
   "cell_type": "markdown",
   "id": "92d0e1ce",
   "metadata": {},
   "source": [
    "7. Identify which team has conceded the most extra runs.\n"
   ]
  },
  {
   "cell_type": "code",
   "execution_count": null,
   "id": "bd6f9a0c",
   "metadata": {},
   "outputs": [],
   "source": [
    "print(df.groupby(\"bowling_team\")[\"extra_runs\"].sum().sort_values(ascending = False).head())\n",
    "print()\n",
    "print()\n",
    "print(df.groupby(\"bowling_team\")[\"extra_runs\"].sum().sort_values(ascending = False).head().idxmax())"
   ]
  },
  {
   "cell_type": "markdown",
   "id": "241a2104",
   "metadata": {},
   "source": [
    "8. Find the bowler with the best performance (lowest runs per over, most wickets) in the last 5 overs of the innings.\n"
   ]
  },
  {
   "cell_type": "code",
   "execution_count": null,
   "id": "35f67cc4",
   "metadata": {},
   "outputs": [],
   "source": [
    "df2 = df.loc[df[\"over\"].isin([16,17,18,19,20]),[\"player_dismissed\",\"bowler\"]]\n",
    "df2\n",
    "df2.groupby(\"bowler\")[\"player_dismissed\"].count().sort_values(ascending = False).head()"
   ]
  },
  {
   "cell_type": "markdown",
   "id": "5d608d52",
   "metadata": {},
   "source": [
    "9. Determine the fielders who have taken the most catches.\n"
   ]
  },
  {
   "cell_type": "code",
   "execution_count": null,
   "id": "5738ca2b",
   "metadata": {},
   "outputs": [],
   "source": [
    "print(df.loc[df[\"dismissal_kind\"] == \"caught\",[\"dismissal_kind\",\"fielder\"]].value_counts()[:1])\n",
    "df.loc[df[\"dismissal_kind\"] == \"caught\",[\"dismissal_kind\",\"fielder\"]].value_counts().head()"
   ]
  },
  {
   "cell_type": "code",
   "execution_count": null,
   "id": "b5c4655e",
   "metadata": {},
   "outputs": [],
   "source": [
    "cond1 = df[\"dismissal_kind\"] == \"caught\"\n",
    "cond2 = df[\"dismissal_kind\"] == \"caught and bowled\"\n",
    "df.loc[cond1 | cond2].groupby(\"fielder\")[\"dismissal_kind\"].value_counts().sort_values(ascending = False).head()"
   ]
  },
  {
   "cell_type": "markdown",
   "id": "bde27c73",
   "metadata": {},
   "source": [
    "10. Identify the teams with the highest success rate in chasing down targets.\n"
   ]
  },
  {
   "cell_type": "code",
   "execution_count": null,
   "id": "166cb34d",
   "metadata": {},
   "outputs": [],
   "source": [
    "df[\"dismissal_kind\"].unique()"
   ]
  },
  {
   "cell_type": "markdown",
   "id": "713e4b86",
   "metadata": {},
   "source": [
    "11. Determine which batsman has the most number of ducks (dismissals without scoring).\n"
   ]
  },
  {
   "cell_type": "code",
   "execution_count": null,
   "id": "e05fe957",
   "metadata": {},
   "outputs": [],
   "source": [
    "cond1 = df[\"dismissal_kind\"].isin([\"bowled\",\"caught\",\"run out\",\"lbw\",\"caught and bowled\",\"stumped\",\"retired hurt\",\"hit wicket\",\"obstructing the field\"])\n",
    "cond2 = df[\"batsman_runs\"] == 0\n",
    "df.loc[cond1 & cond2 , [\"batsman\"]].value_counts()"
   ]
  },
  {
   "cell_type": "code",
   "execution_count": null,
   "id": "93a75ebc",
   "metadata": {},
   "outputs": [],
   "source": [
    "df.loc[df[\"batsman_runs\"] == 0]"
   ]
  },
  {
   "cell_type": "markdown",
   "id": "345f628b",
   "metadata": {},
   "source": [
    "12. Create a function that take team name that will analyze the performance of each team (total runs scored, wickets taken, etc.) against all other teams.\n"
   ]
  },
  {
   "cell_type": "code",
   "execution_count": null,
   "id": "406809bf",
   "metadata": {},
   "outputs": [],
   "source": []
  },
  {
   "cell_type": "markdown",
   "id": "f3888459",
   "metadata": {},
   "source": [
    "13. Find the over with the highest number of runs scored across all matches.\n"
   ]
  },
  {
   "cell_type": "code",
   "execution_count": null,
   "id": "3335ba93",
   "metadata": {},
   "outputs": [],
   "source": [
    "df"
   ]
  },
  {
   "cell_type": "markdown",
   "id": "e0064c2c",
   "metadata": {},
   "source": [
    "14. Analyze the outcomes and individual performances in super over situations.\n"
   ]
  },
  {
   "cell_type": "code",
   "execution_count": null,
   "id": "928a74c2",
   "metadata": {},
   "outputs": [],
   "source": [
    "df.columns"
   ]
  },
  {
   "cell_type": "code",
   "execution_count": null,
   "id": "4c0e3ead",
   "metadata": {},
   "outputs": [],
   "source": []
  },
  {
   "cell_type": "markdown",
   "id": "1abe90c8",
   "metadata": {},
   "source": [
    "15. Bonus : Create a function where you pass the name of a cricketer (batsman or bowler) and it returns their stats (runs, wickets, etc.) against all teams.\n"
   ]
  },
  {
   "cell_type": "code",
   "execution_count": null,
   "id": "723fe5dc",
   "metadata": {},
   "outputs": [],
   "source": []
  }
 ],
 "metadata": {
  "kernelspec": {
   "display_name": "Python 3 (ipykernel)",
   "language": "python",
   "name": "python3"
  },
  "language_info": {
   "codemirror_mode": {
    "name": "ipython",
    "version": 3
   },
   "file_extension": ".py",
   "mimetype": "text/x-python",
   "name": "python",
   "nbconvert_exporter": "python",
   "pygments_lexer": "ipython3",
   "version": "3.11.5"
  }
 },
 "nbformat": 4,
 "nbformat_minor": 5
}
