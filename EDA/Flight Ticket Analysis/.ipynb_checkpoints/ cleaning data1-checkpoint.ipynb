{
 "cells": [
  {
   "cell_type": "code",
   "execution_count": 1,
   "id": "fec720b2",
   "metadata": {},
   "outputs": [],
   "source": [
    "import pandas as pd\n",
    "import numpy as np\n",
    "import seaborn as sns\n",
    "import matplotlib.pyplot as plt\n",
    "import warnings\n",
    "warnings.filterwarnings(\"ignore\")\n",
    "import plotly.express as px\n",
    "from mpl_toolkits.mplot3d import Axes3D\n"
   ]
  },
  {
   "cell_type": "code",
   "execution_count": 2,
   "id": "640c52cc",
   "metadata": {},
   "outputs": [
    {
     "data": {
      "text/html": [
       "<div>\n",
       "<style scoped>\n",
       "    .dataframe tbody tr th:only-of-type {\n",
       "        vertical-align: middle;\n",
       "    }\n",
       "\n",
       "    .dataframe tbody tr th {\n",
       "        vertical-align: top;\n",
       "    }\n",
       "\n",
       "    .dataframe thead th {\n",
       "        text-align: right;\n",
       "    }\n",
       "</style>\n",
       "<table border=\"1\" class=\"dataframe\">\n",
       "  <thead>\n",
       "    <tr style=\"text-align: right;\">\n",
       "      <th></th>\n",
       "      <th>Unnamed: 0</th>\n",
       "      <th>price</th>\n",
       "      <th>airline_name</th>\n",
       "      <th>departure_city</th>\n",
       "      <th>arrival_city</th>\n",
       "      <th>travel_date</th>\n",
       "      <th>duration</th>\n",
       "      <th>stops</th>\n",
       "      <th>cabin_class</th>\n",
       "      <th>booking_date</th>\n",
       "      <th>days_until_travel</th>\n",
       "      <th>booking_type</th>\n",
       "      <th>travel_type</th>\n",
       "    </tr>\n",
       "  </thead>\n",
       "  <tbody>\n",
       "    <tr>\n",
       "      <th>0</th>\n",
       "      <td>0</td>\n",
       "      <td>29384.18</td>\n",
       "      <td>Air India</td>\n",
       "      <td>Delhi</td>\n",
       "      <td>Mumbai</td>\n",
       "      <td>2024-12-25</td>\n",
       "      <td>130</td>\n",
       "      <td>Direct</td>\n",
       "      <td>Business</td>\n",
       "      <td>2024-12-16</td>\n",
       "      <td>9</td>\n",
       "      <td>Moderate</td>\n",
       "      <td>Holiday</td>\n",
       "    </tr>\n",
       "    <tr>\n",
       "      <th>1</th>\n",
       "      <td>1</td>\n",
       "      <td>29382.40</td>\n",
       "      <td>Air India</td>\n",
       "      <td>Delhi</td>\n",
       "      <td>Mumbai</td>\n",
       "      <td>2024-12-25</td>\n",
       "      <td>145</td>\n",
       "      <td>Direct</td>\n",
       "      <td>Business</td>\n",
       "      <td>2024-12-16</td>\n",
       "      <td>9</td>\n",
       "      <td>Moderate</td>\n",
       "      <td>Holiday</td>\n",
       "    </tr>\n",
       "    <tr>\n",
       "      <th>2</th>\n",
       "      <td>2</td>\n",
       "      <td>37417.30</td>\n",
       "      <td>Air India</td>\n",
       "      <td>Delhi</td>\n",
       "      <td>Mumbai</td>\n",
       "      <td>2024-12-25</td>\n",
       "      <td>125</td>\n",
       "      <td>Direct</td>\n",
       "      <td>Business</td>\n",
       "      <td>2024-12-16</td>\n",
       "      <td>9</td>\n",
       "      <td>Moderate</td>\n",
       "      <td>Holiday</td>\n",
       "    </tr>\n",
       "    <tr>\n",
       "      <th>3</th>\n",
       "      <td>3</td>\n",
       "      <td>29384.18</td>\n",
       "      <td>Air India</td>\n",
       "      <td>Delhi</td>\n",
       "      <td>Mumbai</td>\n",
       "      <td>2024-12-25</td>\n",
       "      <td>135</td>\n",
       "      <td>Direct</td>\n",
       "      <td>Business</td>\n",
       "      <td>2024-12-16</td>\n",
       "      <td>9</td>\n",
       "      <td>Moderate</td>\n",
       "      <td>Holiday</td>\n",
       "    </tr>\n",
       "    <tr>\n",
       "      <th>4</th>\n",
       "      <td>4</td>\n",
       "      <td>29382.40</td>\n",
       "      <td>Air India</td>\n",
       "      <td>Delhi</td>\n",
       "      <td>Mumbai</td>\n",
       "      <td>2024-12-25</td>\n",
       "      <td>145</td>\n",
       "      <td>Direct</td>\n",
       "      <td>Business</td>\n",
       "      <td>2024-12-16</td>\n",
       "      <td>9</td>\n",
       "      <td>Moderate</td>\n",
       "      <td>Holiday</td>\n",
       "    </tr>\n",
       "    <tr>\n",
       "      <th>...</th>\n",
       "      <td>...</td>\n",
       "      <td>...</td>\n",
       "      <td>...</td>\n",
       "      <td>...</td>\n",
       "      <td>...</td>\n",
       "      <td>...</td>\n",
       "      <td>...</td>\n",
       "      <td>...</td>\n",
       "      <td>...</td>\n",
       "      <td>...</td>\n",
       "      <td>...</td>\n",
       "      <td>...</td>\n",
       "      <td>...</td>\n",
       "    </tr>\n",
       "    <tr>\n",
       "      <th>3887</th>\n",
       "      <td>3887</td>\n",
       "      <td>22384.00</td>\n",
       "      <td>Air India</td>\n",
       "      <td>Kolkata</td>\n",
       "      <td>Guwahathi</td>\n",
       "      <td>2025-02-09</td>\n",
       "      <td>1220</td>\n",
       "      <td>1 stop</td>\n",
       "      <td>Premium Economy</td>\n",
       "      <td>2024-12-16</td>\n",
       "      <td>55</td>\n",
       "      <td>Advanced</td>\n",
       "      <td>Weekend</td>\n",
       "    </tr>\n",
       "    <tr>\n",
       "      <th>3888</th>\n",
       "      <td>3888</td>\n",
       "      <td>19497.00</td>\n",
       "      <td>Air India</td>\n",
       "      <td>Kolkata</td>\n",
       "      <td>Guwahathi</td>\n",
       "      <td>2025-02-09</td>\n",
       "      <td>1545</td>\n",
       "      <td>1 stop</td>\n",
       "      <td>Premium Economy</td>\n",
       "      <td>2024-12-16</td>\n",
       "      <td>55</td>\n",
       "      <td>Advanced</td>\n",
       "      <td>Weekend</td>\n",
       "    </tr>\n",
       "    <tr>\n",
       "      <th>3889</th>\n",
       "      <td>3889</td>\n",
       "      <td>42707.00</td>\n",
       "      <td>Air India</td>\n",
       "      <td>Kolkata</td>\n",
       "      <td>Guwahathi</td>\n",
       "      <td>2025-02-09</td>\n",
       "      <td>660</td>\n",
       "      <td>1 stop</td>\n",
       "      <td>Premium Economy</td>\n",
       "      <td>2024-12-16</td>\n",
       "      <td>55</td>\n",
       "      <td>Advanced</td>\n",
       "      <td>Weekend</td>\n",
       "    </tr>\n",
       "    <tr>\n",
       "      <th>3890</th>\n",
       "      <td>3890</td>\n",
       "      <td>42203.00</td>\n",
       "      <td>Air India</td>\n",
       "      <td>Kolkata</td>\n",
       "      <td>Guwahathi</td>\n",
       "      <td>2025-02-09</td>\n",
       "      <td>775</td>\n",
       "      <td>1 stop</td>\n",
       "      <td>Premium Economy</td>\n",
       "      <td>2024-12-16</td>\n",
       "      <td>55</td>\n",
       "      <td>Advanced</td>\n",
       "      <td>Weekend</td>\n",
       "    </tr>\n",
       "    <tr>\n",
       "      <th>3891</th>\n",
       "      <td>3891</td>\n",
       "      <td>65163.00</td>\n",
       "      <td>Air India</td>\n",
       "      <td>Kolkata</td>\n",
       "      <td>Guwahathi</td>\n",
       "      <td>2025-02-09</td>\n",
       "      <td>625</td>\n",
       "      <td>1 stop</td>\n",
       "      <td>Premium Economy</td>\n",
       "      <td>2024-12-16</td>\n",
       "      <td>55</td>\n",
       "      <td>Advanced</td>\n",
       "      <td>Weekend</td>\n",
       "    </tr>\n",
       "  </tbody>\n",
       "</table>\n",
       "<p>3892 rows × 13 columns</p>\n",
       "</div>"
      ],
      "text/plain": [
       "      Unnamed: 0     price airline_name departure_city arrival_city  \\\n",
       "0              0  29384.18    Air India          Delhi       Mumbai   \n",
       "1              1  29382.40    Air India          Delhi       Mumbai   \n",
       "2              2  37417.30    Air India          Delhi       Mumbai   \n",
       "3              3  29384.18    Air India          Delhi       Mumbai   \n",
       "4              4  29382.40    Air India          Delhi       Mumbai   \n",
       "...          ...       ...          ...            ...          ...   \n",
       "3887        3887  22384.00    Air India        Kolkata    Guwahathi   \n",
       "3888        3888  19497.00    Air India        Kolkata    Guwahathi   \n",
       "3889        3889  42707.00    Air India        Kolkata    Guwahathi   \n",
       "3890        3890  42203.00    Air India        Kolkata    Guwahathi   \n",
       "3891        3891  65163.00    Air India        Kolkata    Guwahathi   \n",
       "\n",
       "     travel_date  duration   stops      cabin_class booking_date  \\\n",
       "0     2024-12-25       130  Direct         Business   2024-12-16   \n",
       "1     2024-12-25       145  Direct         Business   2024-12-16   \n",
       "2     2024-12-25       125  Direct         Business   2024-12-16   \n",
       "3     2024-12-25       135  Direct         Business   2024-12-16   \n",
       "4     2024-12-25       145  Direct         Business   2024-12-16   \n",
       "...          ...       ...     ...              ...          ...   \n",
       "3887  2025-02-09      1220  1 stop  Premium Economy   2024-12-16   \n",
       "3888  2025-02-09      1545  1 stop  Premium Economy   2024-12-16   \n",
       "3889  2025-02-09       660  1 stop  Premium Economy   2024-12-16   \n",
       "3890  2025-02-09       775  1 stop  Premium Economy   2024-12-16   \n",
       "3891  2025-02-09       625  1 stop  Premium Economy   2024-12-16   \n",
       "\n",
       "      days_until_travel booking_type travel_type  \n",
       "0                     9     Moderate     Holiday  \n",
       "1                     9     Moderate     Holiday  \n",
       "2                     9     Moderate     Holiday  \n",
       "3                     9     Moderate     Holiday  \n",
       "4                     9     Moderate     Holiday  \n",
       "...                 ...          ...         ...  \n",
       "3887                 55     Advanced     Weekend  \n",
       "3888                 55     Advanced     Weekend  \n",
       "3889                 55     Advanced     Weekend  \n",
       "3890                 55     Advanced     Weekend  \n",
       "3891                 55     Advanced     Weekend  \n",
       "\n",
       "[3892 rows x 13 columns]"
      ]
     },
     "execution_count": 2,
     "metadata": {},
     "output_type": "execute_result"
    }
   ],
   "source": [
    "df = pd.read_csv(\"Cleaned Data.csv\")\n",
    "df"
   ]
  },
  {
   "cell_type": "code",
   "execution_count": 3,
   "id": "efab9e99",
   "metadata": {},
   "outputs": [
    {
     "data": {
      "text/plain": [
       "(3892, 13)"
      ]
     },
     "execution_count": 3,
     "metadata": {},
     "output_type": "execute_result"
    }
   ],
   "source": [
    "df.shape"
   ]
  },
  {
   "cell_type": "code",
   "execution_count": 4,
   "id": "ac27ccc2",
   "metadata": {},
   "outputs": [],
   "source": [
    "df.drop(\"Unnamed: 0\",axis=1,inplace=True)\n",
    "\n",
    "\n",
    "# Here i am dropping Unnamed column as it is unwanted column"
   ]
  },
  {
   "cell_type": "code",
   "execution_count": 5,
   "id": "074fd015",
   "metadata": {},
   "outputs": [
    {
     "data": {
      "text/html": [
       "<div>\n",
       "<style scoped>\n",
       "    .dataframe tbody tr th:only-of-type {\n",
       "        vertical-align: middle;\n",
       "    }\n",
       "\n",
       "    .dataframe tbody tr th {\n",
       "        vertical-align: top;\n",
       "    }\n",
       "\n",
       "    .dataframe thead th {\n",
       "        text-align: right;\n",
       "    }\n",
       "</style>\n",
       "<table border=\"1\" class=\"dataframe\">\n",
       "  <thead>\n",
       "    <tr style=\"text-align: right;\">\n",
       "      <th></th>\n",
       "      <th>price</th>\n",
       "      <th>airline_name</th>\n",
       "      <th>departure_city</th>\n",
       "      <th>arrival_city</th>\n",
       "      <th>travel_date</th>\n",
       "      <th>duration</th>\n",
       "      <th>stops</th>\n",
       "      <th>cabin_class</th>\n",
       "      <th>booking_date</th>\n",
       "      <th>days_until_travel</th>\n",
       "      <th>booking_type</th>\n",
       "      <th>travel_type</th>\n",
       "    </tr>\n",
       "  </thead>\n",
       "  <tbody>\n",
       "    <tr>\n",
       "      <th>0</th>\n",
       "      <td>29384.18</td>\n",
       "      <td>Air India</td>\n",
       "      <td>Delhi</td>\n",
       "      <td>Mumbai</td>\n",
       "      <td>2024-12-25</td>\n",
       "      <td>130</td>\n",
       "      <td>Direct</td>\n",
       "      <td>Business</td>\n",
       "      <td>2024-12-16</td>\n",
       "      <td>9</td>\n",
       "      <td>Moderate</td>\n",
       "      <td>Holiday</td>\n",
       "    </tr>\n",
       "    <tr>\n",
       "      <th>1</th>\n",
       "      <td>29382.40</td>\n",
       "      <td>Air India</td>\n",
       "      <td>Delhi</td>\n",
       "      <td>Mumbai</td>\n",
       "      <td>2024-12-25</td>\n",
       "      <td>145</td>\n",
       "      <td>Direct</td>\n",
       "      <td>Business</td>\n",
       "      <td>2024-12-16</td>\n",
       "      <td>9</td>\n",
       "      <td>Moderate</td>\n",
       "      <td>Holiday</td>\n",
       "    </tr>\n",
       "    <tr>\n",
       "      <th>2</th>\n",
       "      <td>37417.30</td>\n",
       "      <td>Air India</td>\n",
       "      <td>Delhi</td>\n",
       "      <td>Mumbai</td>\n",
       "      <td>2024-12-25</td>\n",
       "      <td>125</td>\n",
       "      <td>Direct</td>\n",
       "      <td>Business</td>\n",
       "      <td>2024-12-16</td>\n",
       "      <td>9</td>\n",
       "      <td>Moderate</td>\n",
       "      <td>Holiday</td>\n",
       "    </tr>\n",
       "    <tr>\n",
       "      <th>3</th>\n",
       "      <td>29384.18</td>\n",
       "      <td>Air India</td>\n",
       "      <td>Delhi</td>\n",
       "      <td>Mumbai</td>\n",
       "      <td>2024-12-25</td>\n",
       "      <td>135</td>\n",
       "      <td>Direct</td>\n",
       "      <td>Business</td>\n",
       "      <td>2024-12-16</td>\n",
       "      <td>9</td>\n",
       "      <td>Moderate</td>\n",
       "      <td>Holiday</td>\n",
       "    </tr>\n",
       "    <tr>\n",
       "      <th>4</th>\n",
       "      <td>29382.40</td>\n",
       "      <td>Air India</td>\n",
       "      <td>Delhi</td>\n",
       "      <td>Mumbai</td>\n",
       "      <td>2024-12-25</td>\n",
       "      <td>145</td>\n",
       "      <td>Direct</td>\n",
       "      <td>Business</td>\n",
       "      <td>2024-12-16</td>\n",
       "      <td>9</td>\n",
       "      <td>Moderate</td>\n",
       "      <td>Holiday</td>\n",
       "    </tr>\n",
       "    <tr>\n",
       "      <th>...</th>\n",
       "      <td>...</td>\n",
       "      <td>...</td>\n",
       "      <td>...</td>\n",
       "      <td>...</td>\n",
       "      <td>...</td>\n",
       "      <td>...</td>\n",
       "      <td>...</td>\n",
       "      <td>...</td>\n",
       "      <td>...</td>\n",
       "      <td>...</td>\n",
       "      <td>...</td>\n",
       "      <td>...</td>\n",
       "    </tr>\n",
       "    <tr>\n",
       "      <th>3887</th>\n",
       "      <td>22384.00</td>\n",
       "      <td>Air India</td>\n",
       "      <td>Kolkata</td>\n",
       "      <td>Guwahathi</td>\n",
       "      <td>2025-02-09</td>\n",
       "      <td>1220</td>\n",
       "      <td>1 stop</td>\n",
       "      <td>Premium Economy</td>\n",
       "      <td>2024-12-16</td>\n",
       "      <td>55</td>\n",
       "      <td>Advanced</td>\n",
       "      <td>Weekend</td>\n",
       "    </tr>\n",
       "    <tr>\n",
       "      <th>3888</th>\n",
       "      <td>19497.00</td>\n",
       "      <td>Air India</td>\n",
       "      <td>Kolkata</td>\n",
       "      <td>Guwahathi</td>\n",
       "      <td>2025-02-09</td>\n",
       "      <td>1545</td>\n",
       "      <td>1 stop</td>\n",
       "      <td>Premium Economy</td>\n",
       "      <td>2024-12-16</td>\n",
       "      <td>55</td>\n",
       "      <td>Advanced</td>\n",
       "      <td>Weekend</td>\n",
       "    </tr>\n",
       "    <tr>\n",
       "      <th>3889</th>\n",
       "      <td>42707.00</td>\n",
       "      <td>Air India</td>\n",
       "      <td>Kolkata</td>\n",
       "      <td>Guwahathi</td>\n",
       "      <td>2025-02-09</td>\n",
       "      <td>660</td>\n",
       "      <td>1 stop</td>\n",
       "      <td>Premium Economy</td>\n",
       "      <td>2024-12-16</td>\n",
       "      <td>55</td>\n",
       "      <td>Advanced</td>\n",
       "      <td>Weekend</td>\n",
       "    </tr>\n",
       "    <tr>\n",
       "      <th>3890</th>\n",
       "      <td>42203.00</td>\n",
       "      <td>Air India</td>\n",
       "      <td>Kolkata</td>\n",
       "      <td>Guwahathi</td>\n",
       "      <td>2025-02-09</td>\n",
       "      <td>775</td>\n",
       "      <td>1 stop</td>\n",
       "      <td>Premium Economy</td>\n",
       "      <td>2024-12-16</td>\n",
       "      <td>55</td>\n",
       "      <td>Advanced</td>\n",
       "      <td>Weekend</td>\n",
       "    </tr>\n",
       "    <tr>\n",
       "      <th>3891</th>\n",
       "      <td>65163.00</td>\n",
       "      <td>Air India</td>\n",
       "      <td>Kolkata</td>\n",
       "      <td>Guwahathi</td>\n",
       "      <td>2025-02-09</td>\n",
       "      <td>625</td>\n",
       "      <td>1 stop</td>\n",
       "      <td>Premium Economy</td>\n",
       "      <td>2024-12-16</td>\n",
       "      <td>55</td>\n",
       "      <td>Advanced</td>\n",
       "      <td>Weekend</td>\n",
       "    </tr>\n",
       "  </tbody>\n",
       "</table>\n",
       "<p>3892 rows × 12 columns</p>\n",
       "</div>"
      ],
      "text/plain": [
       "         price airline_name departure_city arrival_city travel_date  duration  \\\n",
       "0     29384.18    Air India          Delhi       Mumbai  2024-12-25       130   \n",
       "1     29382.40    Air India          Delhi       Mumbai  2024-12-25       145   \n",
       "2     37417.30    Air India          Delhi       Mumbai  2024-12-25       125   \n",
       "3     29384.18    Air India          Delhi       Mumbai  2024-12-25       135   \n",
       "4     29382.40    Air India          Delhi       Mumbai  2024-12-25       145   \n",
       "...        ...          ...            ...          ...         ...       ...   \n",
       "3887  22384.00    Air India        Kolkata    Guwahathi  2025-02-09      1220   \n",
       "3888  19497.00    Air India        Kolkata    Guwahathi  2025-02-09      1545   \n",
       "3889  42707.00    Air India        Kolkata    Guwahathi  2025-02-09       660   \n",
       "3890  42203.00    Air India        Kolkata    Guwahathi  2025-02-09       775   \n",
       "3891  65163.00    Air India        Kolkata    Guwahathi  2025-02-09       625   \n",
       "\n",
       "       stops      cabin_class booking_date  days_until_travel booking_type  \\\n",
       "0     Direct         Business   2024-12-16                  9     Moderate   \n",
       "1     Direct         Business   2024-12-16                  9     Moderate   \n",
       "2     Direct         Business   2024-12-16                  9     Moderate   \n",
       "3     Direct         Business   2024-12-16                  9     Moderate   \n",
       "4     Direct         Business   2024-12-16                  9     Moderate   \n",
       "...      ...              ...          ...                ...          ...   \n",
       "3887  1 stop  Premium Economy   2024-12-16                 55     Advanced   \n",
       "3888  1 stop  Premium Economy   2024-12-16                 55     Advanced   \n",
       "3889  1 stop  Premium Economy   2024-12-16                 55     Advanced   \n",
       "3890  1 stop  Premium Economy   2024-12-16                 55     Advanced   \n",
       "3891  1 stop  Premium Economy   2024-12-16                 55     Advanced   \n",
       "\n",
       "     travel_type  \n",
       "0        Holiday  \n",
       "1        Holiday  \n",
       "2        Holiday  \n",
       "3        Holiday  \n",
       "4        Holiday  \n",
       "...          ...  \n",
       "3887     Weekend  \n",
       "3888     Weekend  \n",
       "3889     Weekend  \n",
       "3890     Weekend  \n",
       "3891     Weekend  \n",
       "\n",
       "[3892 rows x 12 columns]"
      ]
     },
     "execution_count": 5,
     "metadata": {},
     "output_type": "execute_result"
    }
   ],
   "source": [
    "df"
   ]
  },
  {
   "cell_type": "code",
   "execution_count": 6,
   "id": "39a455d1",
   "metadata": {},
   "outputs": [
    {
     "data": {
      "text/html": [
       "<div>\n",
       "<style scoped>\n",
       "    .dataframe tbody tr th:only-of-type {\n",
       "        vertical-align: middle;\n",
       "    }\n",
       "\n",
       "    .dataframe tbody tr th {\n",
       "        vertical-align: top;\n",
       "    }\n",
       "\n",
       "    .dataframe thead th {\n",
       "        text-align: right;\n",
       "    }\n",
       "</style>\n",
       "<table border=\"1\" class=\"dataframe\">\n",
       "  <thead>\n",
       "    <tr style=\"text-align: right;\">\n",
       "      <th></th>\n",
       "      <th>price</th>\n",
       "      <th>airline_name</th>\n",
       "      <th>departure_city</th>\n",
       "      <th>arrival_city</th>\n",
       "      <th>travel_date</th>\n",
       "      <th>duration</th>\n",
       "      <th>stops</th>\n",
       "      <th>cabin_class</th>\n",
       "      <th>booking_date</th>\n",
       "      <th>days_until_travel</th>\n",
       "      <th>booking_type</th>\n",
       "      <th>travel_type</th>\n",
       "    </tr>\n",
       "  </thead>\n",
       "  <tbody>\n",
       "    <tr>\n",
       "      <th>3887</th>\n",
       "      <td>22384.0</td>\n",
       "      <td>Air India</td>\n",
       "      <td>Kolkata</td>\n",
       "      <td>Guwahathi</td>\n",
       "      <td>2025-02-09</td>\n",
       "      <td>1220</td>\n",
       "      <td>1 stop</td>\n",
       "      <td>Premium Economy</td>\n",
       "      <td>2024-12-16</td>\n",
       "      <td>55</td>\n",
       "      <td>Advanced</td>\n",
       "      <td>Weekend</td>\n",
       "    </tr>\n",
       "    <tr>\n",
       "      <th>3888</th>\n",
       "      <td>19497.0</td>\n",
       "      <td>Air India</td>\n",
       "      <td>Kolkata</td>\n",
       "      <td>Guwahathi</td>\n",
       "      <td>2025-02-09</td>\n",
       "      <td>1545</td>\n",
       "      <td>1 stop</td>\n",
       "      <td>Premium Economy</td>\n",
       "      <td>2024-12-16</td>\n",
       "      <td>55</td>\n",
       "      <td>Advanced</td>\n",
       "      <td>Weekend</td>\n",
       "    </tr>\n",
       "    <tr>\n",
       "      <th>3889</th>\n",
       "      <td>42707.0</td>\n",
       "      <td>Air India</td>\n",
       "      <td>Kolkata</td>\n",
       "      <td>Guwahathi</td>\n",
       "      <td>2025-02-09</td>\n",
       "      <td>660</td>\n",
       "      <td>1 stop</td>\n",
       "      <td>Premium Economy</td>\n",
       "      <td>2024-12-16</td>\n",
       "      <td>55</td>\n",
       "      <td>Advanced</td>\n",
       "      <td>Weekend</td>\n",
       "    </tr>\n",
       "    <tr>\n",
       "      <th>3890</th>\n",
       "      <td>42203.0</td>\n",
       "      <td>Air India</td>\n",
       "      <td>Kolkata</td>\n",
       "      <td>Guwahathi</td>\n",
       "      <td>2025-02-09</td>\n",
       "      <td>775</td>\n",
       "      <td>1 stop</td>\n",
       "      <td>Premium Economy</td>\n",
       "      <td>2024-12-16</td>\n",
       "      <td>55</td>\n",
       "      <td>Advanced</td>\n",
       "      <td>Weekend</td>\n",
       "    </tr>\n",
       "    <tr>\n",
       "      <th>3891</th>\n",
       "      <td>65163.0</td>\n",
       "      <td>Air India</td>\n",
       "      <td>Kolkata</td>\n",
       "      <td>Guwahathi</td>\n",
       "      <td>2025-02-09</td>\n",
       "      <td>625</td>\n",
       "      <td>1 stop</td>\n",
       "      <td>Premium Economy</td>\n",
       "      <td>2024-12-16</td>\n",
       "      <td>55</td>\n",
       "      <td>Advanced</td>\n",
       "      <td>Weekend</td>\n",
       "    </tr>\n",
       "  </tbody>\n",
       "</table>\n",
       "</div>"
      ],
      "text/plain": [
       "        price airline_name departure_city arrival_city travel_date  duration  \\\n",
       "3887  22384.0    Air India        Kolkata    Guwahathi  2025-02-09      1220   \n",
       "3888  19497.0    Air India        Kolkata    Guwahathi  2025-02-09      1545   \n",
       "3889  42707.0    Air India        Kolkata    Guwahathi  2025-02-09       660   \n",
       "3890  42203.0    Air India        Kolkata    Guwahathi  2025-02-09       775   \n",
       "3891  65163.0    Air India        Kolkata    Guwahathi  2025-02-09       625   \n",
       "\n",
       "       stops      cabin_class booking_date  days_until_travel booking_type  \\\n",
       "3887  1 stop  Premium Economy   2024-12-16                 55     Advanced   \n",
       "3888  1 stop  Premium Economy   2024-12-16                 55     Advanced   \n",
       "3889  1 stop  Premium Economy   2024-12-16                 55     Advanced   \n",
       "3890  1 stop  Premium Economy   2024-12-16                 55     Advanced   \n",
       "3891  1 stop  Premium Economy   2024-12-16                 55     Advanced   \n",
       "\n",
       "     travel_type  \n",
       "3887     Weekend  \n",
       "3888     Weekend  \n",
       "3889     Weekend  \n",
       "3890     Weekend  \n",
       "3891     Weekend  "
      ]
     },
     "execution_count": 6,
     "metadata": {},
     "output_type": "execute_result"
    }
   ],
   "source": [
    "df.tail()"
   ]
  },
  {
   "cell_type": "code",
   "execution_count": 7,
   "id": "fdc47f9a",
   "metadata": {},
   "outputs": [
    {
     "name": "stdout",
     "output_type": "stream",
     "text": [
      "<class 'pandas.core.frame.DataFrame'>\n",
      "RangeIndex: 3892 entries, 0 to 3891\n",
      "Data columns (total 12 columns):\n",
      " #   Column             Non-Null Count  Dtype  \n",
      "---  ------             --------------  -----  \n",
      " 0   price              3892 non-null   float64\n",
      " 1   airline_name       3892 non-null   object \n",
      " 2   departure_city     3892 non-null   object \n",
      " 3   arrival_city       3892 non-null   object \n",
      " 4   travel_date        3892 non-null   object \n",
      " 5   duration           3892 non-null   int64  \n",
      " 6   stops              3892 non-null   object \n",
      " 7   cabin_class        3892 non-null   object \n",
      " 8   booking_date       3892 non-null   object \n",
      " 9   days_until_travel  3892 non-null   int64  \n",
      " 10  booking_type       3892 non-null   object \n",
      " 11  travel_type        3892 non-null   object \n",
      "dtypes: float64(1), int64(2), object(9)\n",
      "memory usage: 365.0+ KB\n"
     ]
    }
   ],
   "source": [
    "df.info()"
   ]
  },
  {
   "cell_type": "code",
   "execution_count": 8,
   "id": "440f2f87",
   "metadata": {},
   "outputs": [
    {
     "data": {
      "text/html": [
       "<div>\n",
       "<style scoped>\n",
       "    .dataframe tbody tr th:only-of-type {\n",
       "        vertical-align: middle;\n",
       "    }\n",
       "\n",
       "    .dataframe tbody tr th {\n",
       "        vertical-align: top;\n",
       "    }\n",
       "\n",
       "    .dataframe thead th {\n",
       "        text-align: right;\n",
       "    }\n",
       "</style>\n",
       "<table border=\"1\" class=\"dataframe\">\n",
       "  <thead>\n",
       "    <tr style=\"text-align: right;\">\n",
       "      <th></th>\n",
       "      <th>price</th>\n",
       "      <th>duration</th>\n",
       "      <th>days_until_travel</th>\n",
       "    </tr>\n",
       "  </thead>\n",
       "  <tbody>\n",
       "    <tr>\n",
       "      <th>count</th>\n",
       "      <td>3892.000000</td>\n",
       "      <td>3892.000000</td>\n",
       "      <td>3892.000000</td>\n",
       "    </tr>\n",
       "    <tr>\n",
       "      <th>mean</th>\n",
       "      <td>30434.573099</td>\n",
       "      <td>425.412384</td>\n",
       "      <td>24.342497</td>\n",
       "    </tr>\n",
       "    <tr>\n",
       "      <th>std</th>\n",
       "      <td>29713.645818</td>\n",
       "      <td>362.888379</td>\n",
       "      <td>18.421048</td>\n",
       "    </tr>\n",
       "    <tr>\n",
       "      <th>min</th>\n",
       "      <td>2682.000000</td>\n",
       "      <td>70.000000</td>\n",
       "      <td>2.000000</td>\n",
       "    </tr>\n",
       "    <tr>\n",
       "      <th>25%</th>\n",
       "      <td>10554.100000</td>\n",
       "      <td>155.000000</td>\n",
       "      <td>9.000000</td>\n",
       "    </tr>\n",
       "    <tr>\n",
       "      <th>50%</th>\n",
       "      <td>19105.110000</td>\n",
       "      <td>345.000000</td>\n",
       "      <td>19.000000</td>\n",
       "    </tr>\n",
       "    <tr>\n",
       "      <th>75%</th>\n",
       "      <td>40541.565000</td>\n",
       "      <td>525.000000</td>\n",
       "      <td>41.000000</td>\n",
       "    </tr>\n",
       "    <tr>\n",
       "      <th>max</th>\n",
       "      <td>291560.990000</td>\n",
       "      <td>1750.000000</td>\n",
       "      <td>55.000000</td>\n",
       "    </tr>\n",
       "  </tbody>\n",
       "</table>\n",
       "</div>"
      ],
      "text/plain": [
       "               price     duration  days_until_travel\n",
       "count    3892.000000  3892.000000        3892.000000\n",
       "mean    30434.573099   425.412384          24.342497\n",
       "std     29713.645818   362.888379          18.421048\n",
       "min      2682.000000    70.000000           2.000000\n",
       "25%     10554.100000   155.000000           9.000000\n",
       "50%     19105.110000   345.000000          19.000000\n",
       "75%     40541.565000   525.000000          41.000000\n",
       "max    291560.990000  1750.000000          55.000000"
      ]
     },
     "execution_count": 8,
     "metadata": {},
     "output_type": "execute_result"
    }
   ],
   "source": [
    "df.describe(include=\"number\")"
   ]
  },
  {
   "cell_type": "code",
   "execution_count": 9,
   "id": "78f186f3",
   "metadata": {},
   "outputs": [
    {
     "data": {
      "text/html": [
       "<div>\n",
       "<style scoped>\n",
       "    .dataframe tbody tr th:only-of-type {\n",
       "        vertical-align: middle;\n",
       "    }\n",
       "\n",
       "    .dataframe tbody tr th {\n",
       "        vertical-align: top;\n",
       "    }\n",
       "\n",
       "    .dataframe thead th {\n",
       "        text-align: right;\n",
       "    }\n",
       "</style>\n",
       "<table border=\"1\" class=\"dataframe\">\n",
       "  <thead>\n",
       "    <tr style=\"text-align: right;\">\n",
       "      <th></th>\n",
       "      <th>airline_name</th>\n",
       "      <th>departure_city</th>\n",
       "      <th>arrival_city</th>\n",
       "      <th>travel_date</th>\n",
       "      <th>stops</th>\n",
       "      <th>cabin_class</th>\n",
       "      <th>booking_date</th>\n",
       "      <th>booking_type</th>\n",
       "      <th>travel_type</th>\n",
       "    </tr>\n",
       "  </thead>\n",
       "  <tbody>\n",
       "    <tr>\n",
       "      <th>count</th>\n",
       "      <td>3892</td>\n",
       "      <td>3892</td>\n",
       "      <td>3892</td>\n",
       "      <td>3892</td>\n",
       "      <td>3892</td>\n",
       "      <td>3892</td>\n",
       "      <td>3892</td>\n",
       "      <td>3892</td>\n",
       "      <td>3892</td>\n",
       "    </tr>\n",
       "    <tr>\n",
       "      <th>unique</th>\n",
       "      <td>5</td>\n",
       "      <td>5</td>\n",
       "      <td>6</td>\n",
       "      <td>15</td>\n",
       "      <td>4</td>\n",
       "      <td>4</td>\n",
       "      <td>1</td>\n",
       "      <td>3</td>\n",
       "      <td>3</td>\n",
       "    </tr>\n",
       "    <tr>\n",
       "      <th>top</th>\n",
       "      <td>Air India</td>\n",
       "      <td>Delhi</td>\n",
       "      <td>Hyderabad</td>\n",
       "      <td>2025-01-01</td>\n",
       "      <td>1 stop</td>\n",
       "      <td>Premium Economy</td>\n",
       "      <td>2024-12-16</td>\n",
       "      <td>Moderate</td>\n",
       "      <td>Weekend</td>\n",
       "    </tr>\n",
       "    <tr>\n",
       "      <th>freq</th>\n",
       "      <td>3148</td>\n",
       "      <td>1167</td>\n",
       "      <td>740</td>\n",
       "      <td>422</td>\n",
       "      <td>2168</td>\n",
       "      <td>1358</td>\n",
       "      <td>3892</td>\n",
       "      <td>1727</td>\n",
       "      <td>1345</td>\n",
       "    </tr>\n",
       "  </tbody>\n",
       "</table>\n",
       "</div>"
      ],
      "text/plain": [
       "       airline_name departure_city arrival_city travel_date   stops  \\\n",
       "count          3892           3892         3892        3892    3892   \n",
       "unique            5              5            6          15       4   \n",
       "top       Air India          Delhi    Hyderabad  2025-01-01  1 stop   \n",
       "freq           3148           1167          740         422    2168   \n",
       "\n",
       "            cabin_class booking_date booking_type travel_type  \n",
       "count              3892         3892         3892        3892  \n",
       "unique                4            1            3           3  \n",
       "top     Premium Economy   2024-12-16     Moderate     Weekend  \n",
       "freq               1358         3892         1727        1345  "
      ]
     },
     "execution_count": 9,
     "metadata": {},
     "output_type": "execute_result"
    }
   ],
   "source": [
    "df.describe(include=\"object\")"
   ]
  },
  {
   "cell_type": "markdown",
   "id": "d862750b",
   "metadata": {},
   "source": [
    "# Null Value Detection"
   ]
  },
  {
   "cell_type": "code",
   "execution_count": 10,
   "id": "49932b5f",
   "metadata": {},
   "outputs": [
    {
     "data": {
      "text/plain": [
       "price                0\n",
       "airline_name         0\n",
       "departure_city       0\n",
       "arrival_city         0\n",
       "travel_date          0\n",
       "duration             0\n",
       "stops                0\n",
       "cabin_class          0\n",
       "booking_date         0\n",
       "days_until_travel    0\n",
       "booking_type         0\n",
       "travel_type          0\n",
       "dtype: int64"
      ]
     },
     "execution_count": 10,
     "metadata": {},
     "output_type": "execute_result"
    }
   ],
   "source": [
    "df.isna().sum()"
   ]
  },
  {
   "cell_type": "markdown",
   "id": "40df6398",
   "metadata": {},
   "source": [
    "# Column Name Integrity Check"
   ]
  },
  {
   "cell_type": "code",
   "execution_count": 11,
   "id": "427184b5",
   "metadata": {},
   "outputs": [
    {
     "data": {
      "text/plain": [
       "Index(['price', 'airline_name', 'departure_city', 'arrival_city',\n",
       "       'travel_date', 'duration', 'stops', 'cabin_class', 'booking_date',\n",
       "       'days_until_travel', 'booking_type', 'travel_type'],\n",
       "      dtype='object')"
      ]
     },
     "execution_count": 11,
     "metadata": {},
     "output_type": "execute_result"
    }
   ],
   "source": [
    "df.columns"
   ]
  },
  {
   "cell_type": "code",
   "execution_count": 12,
   "id": "8b919b4f",
   "metadata": {},
   "outputs": [
    {
     "data": {
      "text/plain": [
       "<Axes: xlabel='count', ylabel='travel_type'>"
      ]
     },
     "execution_count": 12,
     "metadata": {},
     "output_type": "execute_result"
    },
    {
     "data": {
      "image/png": "[encoded data removed]",
      "text/plain": [
       "<Figure size 640x480 with 1 Axes>"
      ]
     },
     "metadata": {},
     "output_type": "display_data"
    }
   ],
   "source": [
    "sns.countplot(data = df,y = df[\"travel_type\"])"
   ]
  },
  {
   "cell_type": "code",
   "execution_count": 13,
   "id": "6ea4537d",
   "metadata": {},
   "outputs": [
    {
     "data": {
      "text/plain": [
       "Weekend    1345\n",
       "Weekday    1314\n",
       "Holiday    1233\n",
       "Name: travel_type, dtype: int64"
      ]
     },
     "execution_count": 13,
     "metadata": {},
     "output_type": "execute_result"
    }
   ],
   "source": [
    "df[\"travel_type\"].value_counts()"
   ]
  },
  {
   "cell_type": "code",
   "execution_count": 14,
   "id": "6f6c61f1",
   "metadata": {},
   "outputs": [
    {
     "data": {
      "text/plain": [
       "<Axes: xlabel='cabin_class', ylabel='count'>"
      ]
     },
     "execution_count": 14,
     "metadata": {},
     "output_type": "execute_result"
    },
    {
     "data": {
      "image/png": "[encoded data removed]",
      "text/plain": [
       "<Figure size 640x480 with 1 Axes>"
      ]
     },
     "metadata": {},
     "output_type": "display_data"
    }
   ],
   "source": [
    "sns.countplot(data = df,x = \"cabin_class\")"
   ]
  },
  {
   "cell_type": "code",
   "execution_count": 15,
   "id": "d50edc2a",
   "metadata": {},
   "outputs": [
    {
     "data": {
      "text/plain": [
       "Premium Economy    1358\n",
       "Economy            1273\n",
       "Business           1225\n",
       "First                36\n",
       "Name: cabin_class, dtype: int64"
      ]
     },
     "execution_count": 15,
     "metadata": {},
     "output_type": "execute_result"
    }
   ],
   "source": [
    "df[\"cabin_class\"].value_counts()"
   ]
  },
  {
   "cell_type": "code",
   "execution_count": 16,
   "id": "6e03b814",
   "metadata": {},
   "outputs": [
    {
     "data": {
      "image/png": "[encoded data removed]",
      "text/plain": [
       "<Figure size 640x480 with 1 Axes>"
      ]
     },
     "metadata": {},
     "output_type": "display_data"
    }
   ],
   "source": [
    "sns.kdeplot(data=df, x='duration', fill=True, color='green')\n",
    "plt.title('Density Plot of Flight Durations')\n",
    "plt.xlabel('Duration')\n",
    "plt.show()\n"
   ]
  },
  {
   "cell_type": "code",
   "execution_count": 17,
   "id": "d8211a18",
   "metadata": {},
   "outputs": [
    {
     "data": {
      "image/png": "[encoded data removed]",
      "text/plain": [
       "<Figure size 800x600 with 1 Axes>"
      ]
     },
     "metadata": {},
     "output_type": "display_data"
    }
   ],
   "source": [
    "fig = plt.figure(figsize=(8, 6))\n",
    "ax = fig.add_subplot(111, projection='3d')\n",
    "\n",
    "# 3D Scatter\n",
    "ax.scatter(df['price'], df['duration'], df['days_until_travel'], c='blue', marker='o', alpha=0.7)\n",
    "ax.set_title('3D Scatter Plot of Price, Duration, and Days Until Travel')\n",
    "ax.set_xlabel('Price')\n",
    "ax.set_ylabel('Duration')\n",
    "ax.set_zlabel('Days Until Travel')\n",
    "plt.show()"
   ]
  },
  {
   "cell_type": "code",
   "execution_count": 18,
   "id": "b78b7eb0",
   "metadata": {},
   "outputs": [
    {
     "data": {
      "image/png": "[encoded data removed]",
      "text/plain": [
       "<Figure size 1000x800 with 2 Axes>"
      ]
     },
     "metadata": {},
     "output_type": "display_data"
    }
   ],
   "source": [
    "plt.figure(figsize=(10, 8))\n",
    "sns.heatmap(df.corr(), annot=True, cmap='coolwarm')\n",
    "plt.title('Correlation Matrix')\n",
    "plt.show()"
   ]
  },
  {
   "cell_type": "markdown",
   "id": "8344dbf7",
   "metadata": {},
   "source": [
    "# Uni variate Analysis"
   ]
  },
  {
   "cell_type": "markdown",
   "id": "9ce706fb",
   "metadata": {},
   "source": [
    "### Price: Identify the average, median, and range of flight prices. Look for any outliers."
   ]
  },
  {
   "cell_type": "code",
   "execution_count": 20,
   "id": "1a83a1cd",
   "metadata": {},
   "outputs": [
    {
     "data": {
      "text/plain": [
       "count      3892.000000\n",
       "mean      30434.573099\n",
       "std       29713.645818\n",
       "min        2682.000000\n",
       "25%       10554.100000\n",
       "50%       19105.110000\n",
       "75%       40541.565000\n",
       "max      291560.990000\n",
       "Name: price, dtype: float64"
      ]
     },
     "execution_count": 20,
     "metadata": {},
     "output_type": "execute_result"
    }
   ],
   "source": [
    "df[\"price\"].describe()"
   ]
  },
  {
   "cell_type": "markdown",
   "id": "0495c610",
   "metadata": {},
   "source": [
    "- From this summary statistics we can say mean is 30,000 median is 19,195 and it contains `36` outliers "
   ]
  },
  {
   "cell_type": "markdown",
   "id": "a17b5383",
   "metadata": {},
   "source": [
    "## Checking outliers by using **Z-Score**\n",
    "- We know that if Z-score lies in between -3 & 3 we say no outliers\n",
    "- if the data points values with a z-score greater than 3 or less than -3\n",
    "- are often considered outliers because they are more than 3 standard deviations away from the mean."
   ]
  },
  {
   "cell_type": "code",
   "execution_count": 28,
   "id": "9d0066b8",
   "metadata": {},
   "outputs": [],
   "source": [
    "mean = df[\"price\"].mean()\n",
    "std = df[\"price\"].std()"
   ]
  },
  {
   "cell_type": "code",
   "execution_count": 30,
   "id": "a22451b1",
   "metadata": {},
   "outputs": [],
   "source": [
    "z_score = (df[\"price\"]-mean)/(std)"
   ]
  },
  {
   "cell_type": "code",
   "execution_count": 41,
   "id": "335a4d0e",
   "metadata": {},
   "outputs": [
    {
     "data": {
      "text/plain": [
       "485     3.164991\n",
       "814     7.645557\n",
       "815     7.064749\n",
       "842     7.023913\n",
       "843     7.356708\n",
       "1436    3.508470\n",
       "1437    3.219007\n",
       "1442    3.534115\n",
       "1464    3.508470\n",
       "2280    3.164991\n",
       "2282    3.164991\n",
       "2666    3.095629\n",
       "2667    3.274402\n",
       "2685    3.194944\n",
       "2795    3.169333\n",
       "2811    3.095629\n",
       "2933    6.765695\n",
       "2934    7.091448\n",
       "2948    6.754009\n",
       "2949    6.920181\n",
       "2973    7.035719\n",
       "2974    8.260901\n",
       "3009    7.642470\n",
       "3010    6.906637\n",
       "3011    6.748974\n",
       "3012    8.788098\n",
       "3025    6.748974\n",
       "3026    6.907236\n",
       "3037    7.035719\n",
       "3038    7.191194\n",
       "3039    5.516539\n",
       "3040    7.929875\n",
       "3055    7.035719\n",
       "3056    7.203001\n",
       "3760    3.194944\n",
       "3822    3.169333\n",
       "Name: price, dtype: float64"
      ]
     },
     "execution_count": 41,
     "metadata": {},
     "output_type": "execute_result"
    }
   ],
   "source": [
    "z_score[z_score > 3]"
   ]
  },
  {
   "cell_type": "code",
   "execution_count": 42,
   "id": "d8517318",
   "metadata": {},
   "outputs": [
    {
     "data": {
      "text/plain": [
       "36"
      ]
     },
     "execution_count": 42,
     "metadata": {},
     "output_type": "execute_result"
    }
   ],
   "source": [
    "z_score[z_score > 3  ].count()"
   ]
  },
  {
   "cell_type": "markdown",
   "id": "05607ff2",
   "metadata": {},
   "source": [
    "- There are **36** values outliers"
   ]
  },
  {
   "cell_type": "code",
   "execution_count": 44,
   "id": "d02a267a",
   "metadata": {},
   "outputs": [
    {
     "data": {
      "text/plain": [
       "0"
      ]
     },
     "execution_count": 44,
     "metadata": {},
     "output_type": "execute_result"
    }
   ],
   "source": [
    "z_score[z_score < -3  ].count()\n",
    "\n",
    "# there are no values < -3"
   ]
  },
  {
   "cell_type": "markdown",
   "id": "9f928f70",
   "metadata": {},
   "source": [
    "### Duration: Analyze the average and most frequent travel durations. Check for unusually long/short durations."
   ]
  },
  {
   "cell_type": "code",
   "execution_count": 21,
   "id": "23f343a1",
   "metadata": {},
   "outputs": [
    {
     "data": {
      "text/plain": [
       "count    3892.000000\n",
       "mean      425.412384\n",
       "std       362.888379\n",
       "min        70.000000\n",
       "25%       155.000000\n",
       "50%       345.000000\n",
       "75%       525.000000\n",
       "max      1750.000000\n",
       "Name: duration, dtype: float64"
      ]
     },
     "execution_count": 21,
     "metadata": {},
     "output_type": "execute_result"
    }
   ],
   "source": [
    "df[\"duration\"].describe()"
   ]
  },
  {
   "cell_type": "markdown",
   "id": "35cf77e0",
   "metadata": {},
   "source": [
    "- The longest travel duration in the dataset is `1,750` minutes, recorded for the journey from `Mumbai to Goa`."
   ]
  },
  {
   "cell_type": "code",
   "execution_count": 30,
   "id": "44eb97fe",
   "metadata": {},
   "outputs": [
    {
     "data": {
      "text/html": [
       "<div>\n",
       "<style scoped>\n",
       "    .dataframe tbody tr th:only-of-type {\n",
       "        vertical-align: middle;\n",
       "    }\n",
       "\n",
       "    .dataframe tbody tr th {\n",
       "        vertical-align: top;\n",
       "    }\n",
       "\n",
       "    .dataframe thead th {\n",
       "        text-align: right;\n",
       "    }\n",
       "</style>\n",
       "<table border=\"1\" class=\"dataframe\">\n",
       "  <thead>\n",
       "    <tr style=\"text-align: right;\">\n",
       "      <th></th>\n",
       "      <th>price</th>\n",
       "      <th>airline_name</th>\n",
       "      <th>departure_city</th>\n",
       "      <th>arrival_city</th>\n",
       "      <th>travel_date</th>\n",
       "      <th>duration</th>\n",
       "      <th>stops</th>\n",
       "      <th>cabin_class</th>\n",
       "      <th>booking_date</th>\n",
       "      <th>days_until_travel</th>\n",
       "      <th>booking_type</th>\n",
       "      <th>travel_type</th>\n",
       "    </tr>\n",
       "  </thead>\n",
       "  <tbody>\n",
       "    <tr>\n",
       "      <th>444</th>\n",
       "      <td>118410.0</td>\n",
       "      <td>Air India</td>\n",
       "      <td>Mumbai</td>\n",
       "      <td>Goa</td>\n",
       "      <td>2024-12-25</td>\n",
       "      <td>1750</td>\n",
       "      <td>1 stop</td>\n",
       "      <td>Business</td>\n",
       "      <td>2024-12-16</td>\n",
       "      <td>9</td>\n",
       "      <td>Moderate</td>\n",
       "      <td>Holiday</td>\n",
       "    </tr>\n",
       "  </tbody>\n",
       "</table>\n",
       "</div>"
      ],
      "text/plain": [
       "        price airline_name departure_city arrival_city travel_date  duration  \\\n",
       "444  118410.0    Air India         Mumbai          Goa  2024-12-25      1750   \n",
       "\n",
       "      stops cabin_class booking_date  days_until_travel booking_type  \\\n",
       "444  1 stop    Business   2024-12-16                  9     Moderate   \n",
       "\n",
       "    travel_type  \n",
       "444     Holiday  "
      ]
     },
     "execution_count": 30,
     "metadata": {},
     "output_type": "execute_result"
    }
   ],
   "source": [
    "df[df[\"duration\"] == df[\"duration\"].max()]"
   ]
  },
  {
   "cell_type": "code",
   "execution_count": 48,
   "id": "7816d0da",
   "metadata": {},
   "outputs": [
    {
     "data": {
      "text/html": [
       "<div>\n",
       "<style scoped>\n",
       "    .dataframe tbody tr th:only-of-type {\n",
       "        vertical-align: middle;\n",
       "    }\n",
       "\n",
       "    .dataframe tbody tr th {\n",
       "        vertical-align: top;\n",
       "    }\n",
       "\n",
       "    .dataframe thead th {\n",
       "        text-align: right;\n",
       "    }\n",
       "</style>\n",
       "<table border=\"1\" class=\"dataframe\">\n",
       "  <thead>\n",
       "    <tr style=\"text-align: right;\">\n",
       "      <th></th>\n",
       "      <th>price</th>\n",
       "      <th>airline_name</th>\n",
       "      <th>departure_city</th>\n",
       "      <th>arrival_city</th>\n",
       "      <th>travel_date</th>\n",
       "      <th>duration</th>\n",
       "      <th>stops</th>\n",
       "      <th>cabin_class</th>\n",
       "      <th>booking_date</th>\n",
       "      <th>days_until_travel</th>\n",
       "      <th>booking_type</th>\n",
       "      <th>travel_type</th>\n",
       "    </tr>\n",
       "  </thead>\n",
       "  <tbody>\n",
       "    <tr>\n",
       "      <th>444</th>\n",
       "      <td>118410.0</td>\n",
       "      <td>Air India</td>\n",
       "      <td>Mumbai</td>\n",
       "      <td>Goa</td>\n",
       "      <td>2024-12-25</td>\n",
       "      <td>1750</td>\n",
       "      <td>1 stop</td>\n",
       "      <td>Business</td>\n",
       "      <td>2024-12-16</td>\n",
       "      <td>9</td>\n",
       "      <td>Moderate</td>\n",
       "      <td>Holiday</td>\n",
       "    </tr>\n",
       "  </tbody>\n",
       "</table>\n",
       "</div>"
      ],
      "text/plain": [
       "        price airline_name departure_city arrival_city travel_date  duration  \\\n",
       "444  118410.0    Air India         Mumbai          Goa  2024-12-25      1750   \n",
       "\n",
       "      stops cabin_class booking_date  days_until_travel booking_type  \\\n",
       "444  1 stop    Business   2024-12-16                  9     Moderate   \n",
       "\n",
       "    travel_type  \n",
       "444     Holiday  "
      ]
     },
     "execution_count": 48,
     "metadata": {},
     "output_type": "execute_result"
    }
   ],
   "source": [
    "df[df[\"duration\"] == df[\"duration\"].max()].head(1)"
   ]
  },
  {
   "cell_type": "markdown",
   "id": "d1ce3cc7",
   "metadata": {},
   "source": [
    "- The shortest travel duration in the dataset is `70` minutes, recorded for the journey from `kolkata` to `Guhawathi`."
   ]
  },
  {
   "cell_type": "markdown",
   "id": "93590a99",
   "metadata": {},
   "source": [
    "### Airline Name: Find the most and least frequent airlines.\n"
   ]
  },
  {
   "cell_type": "code",
   "execution_count": 50,
   "id": "894c5324",
   "metadata": {
    "scrolled": true
   },
   "outputs": [
    {
     "data": {
      "text/plain": [
       "Air India         3148\n",
       "IndiGo             637\n",
       "Akasa Air           55\n",
       "SpiceJet            30\n",
       "Etihad Airways      22\n",
       "Name: airline_name, dtype: int64"
      ]
     },
     "execution_count": 50,
     "metadata": {},
     "output_type": "execute_result"
    }
   ],
   "source": [
    "df[\"airline_name\"].value_counts()"
   ]
  },
  {
   "cell_type": "markdown",
   "id": "a63b36f9",
   "metadata": {},
   "source": [
    "- Air India has the highest count with 3,148 flights indicating its dominant presence in the dataset\n",
    "- Etihad Airways has lowest 22 flights "
   ]
  },
  {
   "cell_type": "markdown",
   "id": "db53420d",
   "metadata": {},
   "source": [
    "# Cabin Class: Identify which cabin class (e.g., Economy, Business) is most frequently booked."
   ]
  },
  {
   "cell_type": "code",
   "execution_count": 52,
   "id": "2ef75949",
   "metadata": {},
   "outputs": [
    {
     "data": {
      "text/plain": [
       "Premium Economy    1358\n",
       "Economy            1273\n",
       "Business           1225\n",
       "First                36\n",
       "Name: cabin_class, dtype: int64"
      ]
     },
     "execution_count": 52,
     "metadata": {},
     "output_type": "execute_result"
    }
   ],
   "source": [
    "df[\"cabin_class\"].value_counts()"
   ]
  },
  {
   "cell_type": "markdown",
   "id": "74480dd7",
   "metadata": {},
   "source": [
    "-  Premium Economy leads with 1,358 tickets\n",
    "- First Class has the fewest, with only 36 tickets."
   ]
  },
  {
   "cell_type": "markdown",
   "id": "a72454aa",
   "metadata": {},
   "source": [
    "### Travel Type: Check the proportions of \"Holiday,\" \"Weekend,\" etc., travel purposes."
   ]
  },
  {
   "cell_type": "code",
   "execution_count": 61,
   "id": "5fa0d789",
   "metadata": {},
   "outputs": [
    {
     "data": {
      "text/plain": [
       "Weekend    1345\n",
       "Weekday    1314\n",
       "Holiday    1233\n",
       "Name: travel_type, dtype: int64"
      ]
     },
     "execution_count": 61,
     "metadata": {},
     "output_type": "execute_result"
    }
   ],
   "source": [
    "df[\"travel_type\"].value_counts()"
   ]
  },
  {
   "cell_type": "markdown",
   "id": "5a102a41",
   "metadata": {},
   "source": [
    "- Weekend has the highest with 1,345, followed by Weekday at 1,314, and Holiday with 1,233.\""
   ]
  },
  {
   "cell_type": "markdown",
   "id": "ce4cb2e3",
   "metadata": {},
   "source": [
    "### Booking Type Analyzing the split between Moderate, Advanced, etc., booking types."
   ]
  },
  {
   "cell_type": "code",
   "execution_count": 63,
   "id": "a80c288f",
   "metadata": {},
   "outputs": [
    {
     "data": {
      "text/plain": [
       "Moderate       1727\n",
       "Advanced       1266\n",
       "Last-minute     899\n",
       "Name: booking_type, dtype: int64"
      ]
     },
     "execution_count": 63,
     "metadata": {},
     "output_type": "execute_result"
    }
   ],
   "source": [
    "df[\"booking_type\"].value_counts()"
   ]
  },
  {
   "cell_type": "markdown",
   "id": "8031a9f2",
   "metadata": {},
   "source": [
    "- Moderate bookings lead with 1,727, followed by Advanced at 1,266, and Last-minute with 899.\""
   ]
  },
  {
   "cell_type": "markdown",
   "id": "f68ec153",
   "metadata": {},
   "source": [
    "# Visualizations"
   ]
  },
  {
   "cell_type": "code",
   "execution_count": 77,
   "id": "a85c7f42",
   "metadata": {},
   "outputs": [
    {
     "data": {
      "text/plain": [
       "<Axes: >"
      ]
     },
     "execution_count": 77,
     "metadata": {},
     "output_type": "execute_result"
    },
    {
     "data": {
      "image/png": "[encoded data removed]",
      "text/plain": [
       "<Figure size 640x480 with 1 Axes>"
      ]
     },
     "metadata": {},
     "output_type": "display_data"
    }
   ],
   "source": [
    "df[\"airline_name\"].value_counts().plot(kind=\"bar\")"
   ]
  },
  {
   "cell_type": "markdown",
   "id": "e680b412",
   "metadata": {},
   "source": [
    "- Air India has the highest count with 3,148 flights indicating its dominant presence in the dataset Etihad Airways has lowest 22 flights"
   ]
  },
  {
   "cell_type": "code",
   "execution_count": 80,
   "id": "ad9aefbb",
   "metadata": {},
   "outputs": [
    {
     "data": {
      "text/plain": [
       "<Axes: >"
      ]
     },
     "execution_count": 80,
     "metadata": {},
     "output_type": "execute_result"
    },
    {
     "data": {
      "image/png": "[encoded data removed]",
      "text/plain": [
       "<Figure size 640x480 with 1 Axes>"
      ]
     },
     "metadata": {},
     "output_type": "display_data"
    }
   ],
   "source": [
    "df[\"stops\"].value_counts().plot(kind=\"bar\")"
   ]
  },
  {
   "cell_type": "code",
   "execution_count": 81,
   "id": "e4bd9c1f",
   "metadata": {},
   "outputs": [
    {
     "data": {
      "text/plain": [
       "1 stop     2168\n",
       "Direct     1701\n",
       "2 stops      22\n",
       "3 stops       1\n",
       "Name: stops, dtype: int64"
      ]
     },
     "execution_count": 81,
     "metadata": {},
     "output_type": "execute_result"
    }
   ],
   "source": [
    "df[\"stops\"].value_counts()"
   ]
  },
  {
   "cell_type": "markdown",
   "id": "6b5e7a07",
   "metadata": {},
   "source": [
    " - 1 stop flights are the most common with **2,168**, followed by Direct flights at 1,701. There are only **22** flights with 2 stops, and 3 stops have the fewest, with just 1 flight."
   ]
  },
  {
   "cell_type": "code",
   "execution_count": 83,
   "id": "a76b63ee",
   "metadata": {},
   "outputs": [
    {
     "data": {
      "text/plain": [
       "<Axes: >"
      ]
     },
     "execution_count": 83,
     "metadata": {},
     "output_type": "execute_result"
    },
    {
     "data": {
      "image/png": "[encoded data removed]",
      "text/plain": [
       "<Figure size 640x480 with 1 Axes>"
      ]
     },
     "metadata": {},
     "output_type": "display_data"
    }
   ],
   "source": [
    "df[\"cabin_class\"].value_counts().plot(kind=\"bar\")"
   ]
  },
  {
   "cell_type": "code",
   "execution_count": 84,
   "id": "97dfc9d2",
   "metadata": {},
   "outputs": [
    {
     "data": {
      "text/plain": [
       "Premium Economy    1358\n",
       "Economy            1273\n",
       "Business           1225\n",
       "First                36\n",
       "Name: cabin_class, dtype: int64"
      ]
     },
     "execution_count": 84,
     "metadata": {},
     "output_type": "execute_result"
    }
   ],
   "source": [
    "df[\"cabin_class\"].value_counts()"
   ]
  },
  {
   "cell_type": "markdown",
   "id": "ef1f3c7b",
   "metadata": {},
   "source": [
    "- Premium Economy leads with 1,358 tickets, followed by Economy with 1,273 tickets. Business comes next with 1,225 tickets, and First Class has the fewest with only 36 tickets.\""
   ]
  },
  {
   "cell_type": "code",
   "execution_count": 85,
   "id": "1b53896b",
   "metadata": {},
   "outputs": [
    {
     "data": {
      "text/plain": [
       "<Axes: >"
      ]
     },
     "execution_count": 85,
     "metadata": {},
     "output_type": "execute_result"
    },
    {
     "data": {
      "image/png": "[encoded data removed]",
      "text/plain": [
       "<Figure size 640x480 with 1 Axes>"
      ]
     },
     "metadata": {},
     "output_type": "display_data"
    }
   ],
   "source": [
    "df[\"booking_type\"].value_counts().plot(kind=\"bar\")"
   ]
  },
  {
   "cell_type": "code",
   "execution_count": 86,
   "id": "d40e9a9f",
   "metadata": {},
   "outputs": [
    {
     "data": {
      "text/plain": [
       "Moderate       1727\n",
       "Advanced       1266\n",
       "Last-minute     899\n",
       "Name: booking_type, dtype: int64"
      ]
     },
     "execution_count": 86,
     "metadata": {},
     "output_type": "execute_result"
    }
   ],
   "source": [
    "df[\"booking_type\"].value_counts()"
   ]
  },
  {
   "cell_type": "markdown",
   "id": "66a25ca2",
   "metadata": {},
   "source": [
    "- Moderate bookings lead with 1,727, followed by Advanced with 1,266, and Last-minute bookings have the lowest count at 899."
   ]
  },
  {
   "cell_type": "markdown",
   "id": "28b41c9c",
   "metadata": {},
   "source": [
    "# Outliers Visualization"
   ]
  },
  {
   "cell_type": "code",
   "execution_count": 87,
   "id": "058deb27",
   "metadata": {},
   "outputs": [
    {
     "data": {
      "text/plain": [
       "<Axes: >"
      ]
     },
     "execution_count": 87,
     "metadata": {},
     "output_type": "execute_result"
    },
    {
     "data": {
      "image/png": "[encoded data removed]",
      "text/plain": [
       "<Figure size 640x480 with 1 Axes>"
      ]
     },
     "metadata": {},
     "output_type": "display_data"
    }
   ],
   "source": [
    "df[\"price\"].plot(kind = \"box\")  #36 outliers"
   ]
  },
  {
   "cell_type": "markdown",
   "id": "2ccd930e",
   "metadata": {},
   "source": [
    "# Bivariate Analysis"
   ]
  },
  {
   "cell_type": "code",
   "execution_count": 88,
   "id": "ded5ef82",
   "metadata": {},
   "outputs": [
    {
     "data": {
      "text/html": [
       "<div>\n",
       "<style scoped>\n",
       "    .dataframe tbody tr th:only-of-type {\n",
       "        vertical-align: middle;\n",
       "    }\n",
       "\n",
       "    .dataframe tbody tr th {\n",
       "        vertical-align: top;\n",
       "    }\n",
       "\n",
       "    .dataframe thead th {\n",
       "        text-align: right;\n",
       "    }\n",
       "</style>\n",
       "<table border=\"1\" class=\"dataframe\">\n",
       "  <thead>\n",
       "    <tr style=\"text-align: right;\">\n",
       "      <th></th>\n",
       "      <th>price</th>\n",
       "      <th>duration</th>\n",
       "      <th>days_until_travel</th>\n",
       "    </tr>\n",
       "  </thead>\n",
       "  <tbody>\n",
       "    <tr>\n",
       "      <th>price</th>\n",
       "      <td>1.000000</td>\n",
       "      <td>0.358968</td>\n",
       "      <td>-0.164010</td>\n",
       "    </tr>\n",
       "    <tr>\n",
       "      <th>duration</th>\n",
       "      <td>0.358968</td>\n",
       "      <td>1.000000</td>\n",
       "      <td>-0.025208</td>\n",
       "    </tr>\n",
       "    <tr>\n",
       "      <th>days_until_travel</th>\n",
       "      <td>-0.164010</td>\n",
       "      <td>-0.025208</td>\n",
       "      <td>1.000000</td>\n",
       "    </tr>\n",
       "  </tbody>\n",
       "</table>\n",
       "</div>"
      ],
      "text/plain": [
       "                      price  duration  days_until_travel\n",
       "price              1.000000  0.358968          -0.164010\n",
       "duration           0.358968  1.000000          -0.025208\n",
       "days_until_travel -0.164010 -0.025208           1.000000"
      ]
     },
     "execution_count": 88,
     "metadata": {},
     "output_type": "execute_result"
    }
   ],
   "source": [
    "df.corr()"
   ]
  },
  {
   "cell_type": "code",
   "execution_count": 95,
   "id": "585b2b14",
   "metadata": {},
   "outputs": [
    {
     "data": {
      "text/html": [
       "<div>\n",
       "<style scoped>\n",
       "    .dataframe tbody tr th:only-of-type {\n",
       "        vertical-align: middle;\n",
       "    }\n",
       "\n",
       "    .dataframe tbody tr th {\n",
       "        vertical-align: top;\n",
       "    }\n",
       "\n",
       "    .dataframe thead th {\n",
       "        text-align: right;\n",
       "    }\n",
       "</style>\n",
       "<table border=\"1\" class=\"dataframe\">\n",
       "  <thead>\n",
       "    <tr style=\"text-align: right;\">\n",
       "      <th>stops</th>\n",
       "      <th>1 stop</th>\n",
       "      <th>2 stops</th>\n",
       "      <th>3 stops</th>\n",
       "      <th>Direct</th>\n",
       "      <th>All</th>\n",
       "    </tr>\n",
       "    <tr>\n",
       "      <th>duration</th>\n",
       "      <th></th>\n",
       "      <th></th>\n",
       "      <th></th>\n",
       "      <th></th>\n",
       "      <th></th>\n",
       "    </tr>\n",
       "  </thead>\n",
       "  <tbody>\n",
       "    <tr>\n",
       "      <th>70</th>\n",
       "      <td>4</td>\n",
       "      <td>0</td>\n",
       "      <td>0</td>\n",
       "      <td>56</td>\n",
       "      <td>60</td>\n",
       "    </tr>\n",
       "    <tr>\n",
       "      <th>75</th>\n",
       "      <td>3</td>\n",
       "      <td>0</td>\n",
       "      <td>0</td>\n",
       "      <td>170</td>\n",
       "      <td>173</td>\n",
       "    </tr>\n",
       "    <tr>\n",
       "      <th>80</th>\n",
       "      <td>1</td>\n",
       "      <td>0</td>\n",
       "      <td>0</td>\n",
       "      <td>123</td>\n",
       "      <td>124</td>\n",
       "    </tr>\n",
       "    <tr>\n",
       "      <th>85</th>\n",
       "      <td>0</td>\n",
       "      <td>0</td>\n",
       "      <td>0</td>\n",
       "      <td>14</td>\n",
       "      <td>14</td>\n",
       "    </tr>\n",
       "    <tr>\n",
       "      <th>90</th>\n",
       "      <td>0</td>\n",
       "      <td>0</td>\n",
       "      <td>0</td>\n",
       "      <td>5</td>\n",
       "      <td>5</td>\n",
       "    </tr>\n",
       "    <tr>\n",
       "      <th>...</th>\n",
       "      <td>...</td>\n",
       "      <td>...</td>\n",
       "      <td>...</td>\n",
       "      <td>...</td>\n",
       "      <td>...</td>\n",
       "    </tr>\n",
       "    <tr>\n",
       "      <th>1700</th>\n",
       "      <td>5</td>\n",
       "      <td>0</td>\n",
       "      <td>0</td>\n",
       "      <td>0</td>\n",
       "      <td>5</td>\n",
       "    </tr>\n",
       "    <tr>\n",
       "      <th>1725</th>\n",
       "      <td>3</td>\n",
       "      <td>0</td>\n",
       "      <td>0</td>\n",
       "      <td>0</td>\n",
       "      <td>3</td>\n",
       "    </tr>\n",
       "    <tr>\n",
       "      <th>1735</th>\n",
       "      <td>8</td>\n",
       "      <td>0</td>\n",
       "      <td>0</td>\n",
       "      <td>0</td>\n",
       "      <td>8</td>\n",
       "    </tr>\n",
       "    <tr>\n",
       "      <th>1750</th>\n",
       "      <td>1</td>\n",
       "      <td>0</td>\n",
       "      <td>0</td>\n",
       "      <td>0</td>\n",
       "      <td>1</td>\n",
       "    </tr>\n",
       "    <tr>\n",
       "      <th>All</th>\n",
       "      <td>2168</td>\n",
       "      <td>22</td>\n",
       "      <td>1</td>\n",
       "      <td>1701</td>\n",
       "      <td>3892</td>\n",
       "    </tr>\n",
       "  </tbody>\n",
       "</table>\n",
       "<p>222 rows × 5 columns</p>\n",
       "</div>"
      ],
      "text/plain": [
       "stops     1 stop  2 stops  3 stops  Direct   All\n",
       "duration                                        \n",
       "70             4        0        0      56    60\n",
       "75             3        0        0     170   173\n",
       "80             1        0        0     123   124\n",
       "85             0        0        0      14    14\n",
       "90             0        0        0       5     5\n",
       "...          ...      ...      ...     ...   ...\n",
       "1700           5        0        0       0     5\n",
       "1725           3        0        0       0     3\n",
       "1735           8        0        0       0     8\n",
       "1750           1        0        0       0     1\n",
       "All         2168       22        1    1701  3892\n",
       "\n",
       "[222 rows x 5 columns]"
      ]
     },
     "execution_count": 95,
     "metadata": {},
     "output_type": "execute_result"
    }
   ],
   "source": [
    "pd.crosstab(df[\"duration\"],df[\"stops\"],margins=True)"
   ]
  },
  {
   "cell_type": "code",
   "execution_count": 96,
   "id": "2efd3081",
   "metadata": {},
   "outputs": [
    {
     "data": {
      "text/html": [
       "<div>\n",
       "<style scoped>\n",
       "    .dataframe tbody tr th:only-of-type {\n",
       "        vertical-align: middle;\n",
       "    }\n",
       "\n",
       "    .dataframe tbody tr th {\n",
       "        vertical-align: top;\n",
       "    }\n",
       "\n",
       "    .dataframe thead th {\n",
       "        text-align: right;\n",
       "    }\n",
       "</style>\n",
       "<table border=\"1\" class=\"dataframe\">\n",
       "  <thead>\n",
       "    <tr style=\"text-align: right;\">\n",
       "      <th>cabin_class</th>\n",
       "      <th>Business</th>\n",
       "      <th>Economy</th>\n",
       "      <th>First</th>\n",
       "      <th>Premium Economy</th>\n",
       "      <th>All</th>\n",
       "    </tr>\n",
       "    <tr>\n",
       "      <th>travel_type</th>\n",
       "      <th></th>\n",
       "      <th></th>\n",
       "      <th></th>\n",
       "      <th></th>\n",
       "      <th></th>\n",
       "    </tr>\n",
       "  </thead>\n",
       "  <tbody>\n",
       "    <tr>\n",
       "      <th>Holiday</th>\n",
       "      <td>371</td>\n",
       "      <td>442</td>\n",
       "      <td>7</td>\n",
       "      <td>413</td>\n",
       "      <td>1233</td>\n",
       "    </tr>\n",
       "    <tr>\n",
       "      <th>Weekday</th>\n",
       "      <td>429</td>\n",
       "      <td>400</td>\n",
       "      <td>11</td>\n",
       "      <td>474</td>\n",
       "      <td>1314</td>\n",
       "    </tr>\n",
       "    <tr>\n",
       "      <th>Weekend</th>\n",
       "      <td>425</td>\n",
       "      <td>431</td>\n",
       "      <td>18</td>\n",
       "      <td>471</td>\n",
       "      <td>1345</td>\n",
       "    </tr>\n",
       "    <tr>\n",
       "      <th>All</th>\n",
       "      <td>1225</td>\n",
       "      <td>1273</td>\n",
       "      <td>36</td>\n",
       "      <td>1358</td>\n",
       "      <td>3892</td>\n",
       "    </tr>\n",
       "  </tbody>\n",
       "</table>\n",
       "</div>"
      ],
      "text/plain": [
       "cabin_class  Business  Economy  First  Premium Economy   All\n",
       "travel_type                                                 \n",
       "Holiday           371      442      7              413  1233\n",
       "Weekday           429      400     11              474  1314\n",
       "Weekend           425      431     18              471  1345\n",
       "All              1225     1273     36             1358  3892"
      ]
     },
     "execution_count": 96,
     "metadata": {},
     "output_type": "execute_result"
    }
   ],
   "source": [
    "pd.crosstab(df[\"travel_type\"],df[\"cabin_class\"],margins=True)"
   ]
  },
  {
   "cell_type": "markdown",
   "id": "a7e43594",
   "metadata": {},
   "source": [
    "- Business Class sees slightly higher usage on weekdays, likely for corporate travel.\n",
    "- Premium Economy is consistently preferred across all travel types.\n",
    "- First Class is rarely chosen, indicating low demand."
   ]
  },
  {
   "cell_type": "code",
   "execution_count": null,
   "id": "60ee15f6",
   "metadata": {},
   "outputs": [],
   "source": []
  },
  {
   "cell_type": "code",
   "execution_count": null,
   "id": "a5c74f64",
   "metadata": {},
   "outputs": [],
   "source": []
  },
  {
   "cell_type": "code",
   "execution_count": null,
   "id": "71b3b911",
   "metadata": {},
   "outputs": [],
   "source": []
  },
  {
   "cell_type": "code",
   "execution_count": null,
   "id": "f472b785",
   "metadata": {},
   "outputs": [],
   "source": []
  },
  {
   "cell_type": "code",
   "execution_count": null,
   "id": "746a5a3c",
   "metadata": {},
   "outputs": [],
   "source": []
  },
  {
   "cell_type": "code",
   "execution_count": null,
   "id": "aa16e0aa",
   "metadata": {},
   "outputs": [],
   "source": []
  },
  {
   "cell_type": "code",
   "execution_count": null,
   "id": "42be5f2d",
   "metadata": {},
   "outputs": [],
   "source": []
  },
  {
   "cell_type": "code",
   "execution_count": null,
   "id": "5c0b035a",
   "metadata": {},
   "outputs": [],
   "source": []
  },
  {
   "cell_type": "code",
   "execution_count": null,
   "id": "d42b643e",
   "metadata": {},
   "outputs": [],
   "source": []
  },
  {
   "cell_type": "code",
   "execution_count": null,
   "id": "77af0482",
   "metadata": {},
   "outputs": [],
   "source": []
  },
  {
   "cell_type": "code",
   "execution_count": null,
   "id": "ca92b373",
   "metadata": {},
   "outputs": [],
   "source": []
  },
  {
   "cell_type": "code",
   "execution_count": null,
   "id": "11ffd25b",
   "metadata": {},
   "outputs": [],
   "source": []
  },
  {
   "cell_type": "code",
   "execution_count": null,
   "id": "3338ecda",
   "metadata": {},
   "outputs": [],
   "source": []
  },
  {
   "cell_type": "code",
   "execution_count": null,
   "id": "e1cb7848",
   "metadata": {},
   "outputs": [],
   "source": []
  },
  {
   "cell_type": "code",
   "execution_count": null,
   "id": "998a39cd",
   "metadata": {},
   "outputs": [],
   "source": []
  },
  {
   "cell_type": "code",
   "execution_count": null,
   "id": "b7cea461",
   "metadata": {},
   "outputs": [],
   "source": []
  },
  {
   "cell_type": "code",
   "execution_count": null,
   "id": "65c653b3",
   "metadata": {},
   "outputs": [],
   "source": []
  },
  {
   "cell_type": "code",
   "execution_count": null,
   "id": "cfb3ad1e",
   "metadata": {},
   "outputs": [],
   "source": []
  },
  {
   "cell_type": "code",
   "execution_count": null,
   "id": "a76a32f7",
   "metadata": {},
   "outputs": [],
   "source": []
  },
  {
   "cell_type": "code",
   "execution_count": null,
   "id": "90468142",
   "metadata": {},
   "outputs": [],
   "source": []
  },
  {
   "cell_type": "code",
   "execution_count": null,
   "id": "186ddc1e",
   "metadata": {},
   "outputs": [],
   "source": []
  },
  {
   "cell_type": "code",
   "execution_count": null,
   "id": "a5959ebc",
   "metadata": {},
   "outputs": [],
   "source": []
  },
  {
   "cell_type": "code",
   "execution_count": null,
   "id": "82df9d7a",
   "metadata": {},
   "outputs": [],
   "source": []
  },
  {
   "cell_type": "code",
   "execution_count": null,
   "id": "4320b1d2",
   "metadata": {},
   "outputs": [],
   "source": []
  },
  {
   "cell_type": "code",
   "execution_count": null,
   "id": "5d54c6d2",
   "metadata": {},
   "outputs": [],
   "source": []
  },
  {
   "cell_type": "code",
   "execution_count": null,
   "id": "5d4d07a3",
   "metadata": {},
   "outputs": [],
   "source": []
  },
  {
   "cell_type": "code",
   "execution_count": null,
   "id": "d42cc934",
   "metadata": {},
   "outputs": [],
   "source": []
  },
  {
   "cell_type": "code",
   "execution_count": null,
   "id": "40889286",
   "metadata": {},
   "outputs": [],
   "source": []
  },
  {
   "cell_type": "code",
   "execution_count": null,
   "id": "6290d0f2",
   "metadata": {},
   "outputs": [],
   "source": []
  },
  {
   "cell_type": "code",
   "execution_count": null,
   "id": "f629e92c",
   "metadata": {},
   "outputs": [],
   "source": []
  },
  {
   "cell_type": "code",
   "execution_count": null,
   "id": "4a1969bc",
   "metadata": {},
   "outputs": [],
   "source": []
  },
  {
   "cell_type": "code",
   "execution_count": null,
   "id": "83f17717",
   "metadata": {},
   "outputs": [],
   "source": []
  },
  {
   "cell_type": "code",
   "execution_count": null,
   "id": "697ccf37",
   "metadata": {},
   "outputs": [],
   "source": []
  },
  {
   "cell_type": "code",
   "execution_count": null,
   "id": "38547ad0",
   "metadata": {},
   "outputs": [],
   "source": []
  },
  {
   "cell_type": "code",
   "execution_count": null,
   "id": "930482f0",
   "metadata": {},
   "outputs": [],
   "source": []
  },
  {
   "cell_type": "code",
   "execution_count": null,
   "id": "604e93f6",
   "metadata": {},
   "outputs": [],
   "source": []
  },
  {
   "cell_type": "code",
   "execution_count": null,
   "id": "e85bb763",
   "metadata": {},
   "outputs": [],
   "source": []
  },
  {
   "cell_type": "code",
   "execution_count": null,
   "id": "be30f21f",
   "metadata": {},
   "outputs": [],
   "source": []
  },
  {
   "cell_type": "code",
   "execution_count": null,
   "id": "d22d8933",
   "metadata": {},
   "outputs": [],
   "source": []
  },
  {
   "cell_type": "code",
   "execution_count": null,
   "id": "38990511",
   "metadata": {},
   "outputs": [],
   "source": []
  },
  {
   "cell_type": "code",
   "execution_count": null,
   "id": "0be22405",
   "metadata": {},
   "outputs": [],
   "source": []
  },
  {
   "cell_type": "code",
   "execution_count": null,
   "id": "47e54fbf",
   "metadata": {},
   "outputs": [],
   "source": []
  },
  {
   "cell_type": "code",
   "execution_count": null,
   "id": "87e4c920",
   "metadata": {},
   "outputs": [],
   "source": []
  },
  {
   "cell_type": "code",
   "execution_count": null,
   "id": "4366b424",
   "metadata": {},
   "outputs": [],
   "source": []
  },
  {
   "cell_type": "code",
   "execution_count": null,
   "id": "de961204",
   "metadata": {},
   "outputs": [],
   "source": []
  },
  {
   "cell_type": "code",
   "execution_count": null,
   "id": "615e8175",
   "metadata": {},
   "outputs": [],
   "source": []
  },
  {
   "cell_type": "code",
   "execution_count": null,
   "id": "8a3073a3",
   "metadata": {},
   "outputs": [],
   "source": []
  },
  {
   "cell_type": "code",
   "execution_count": null,
   "id": "2ab97025",
   "metadata": {},
   "outputs": [],
   "source": []
  },
  {
   "cell_type": "code",
   "execution_count": null,
   "id": "bacd6790",
   "metadata": {},
   "outputs": [],
   "source": []
  },
  {
   "cell_type": "code",
   "execution_count": null,
   "id": "3419ed2e",
   "metadata": {},
   "outputs": [],
   "source": []
  },
  {
   "cell_type": "code",
   "execution_count": null,
   "id": "f6a94df4",
   "metadata": {},
   "outputs": [],
   "source": []
  },
  {
   "cell_type": "code",
   "execution_count": null,
   "id": "96939060",
   "metadata": {},
   "outputs": [],
   "source": []
  },
  {
   "cell_type": "code",
   "execution_count": null,
   "id": "08864ff1",
   "metadata": {},
   "outputs": [],
   "source": []
  },
  {
   "cell_type": "code",
   "execution_count": null,
   "id": "557f6912",
   "metadata": {},
   "outputs": [],
   "source": []
  },
  {
   "cell_type": "code",
   "execution_count": null,
   "id": "fbd2312e",
   "metadata": {},
   "outputs": [],
   "source": []
  },
  {
   "cell_type": "code",
   "execution_count": 23,
   "id": "cb6df04d",
   "metadata": {},
   "outputs": [
    {
     "data": {
      "text/plain": [
       "14.713398591912048"
      ]
     },
     "execution_count": 23,
     "metadata": {},
     "output_type": "execute_result"
    }
   ],
   "source": [
    "df[\"price\"].kurtosis()\n",
    "\n",
    "# A kurtosis of 14.7 means ticket prices have extreme outliers,\n",
    "#with some very high prices likely from premium or last-minute bookings."
   ]
  },
  {
   "cell_type": "code",
   "execution_count": 26,
   "id": "25b80b0c",
   "metadata": {},
   "outputs": [
    {
     "data": {
      "text/plain": [
       "2.8759902157911044"
      ]
     },
     "execution_count": 26,
     "metadata": {},
     "output_type": "execute_result"
    }
   ],
   "source": [
    "df[\"price\"].skew()\n",
    "\n",
    "#A skewness of 2.87 indicates that ticket prices are positively skewed, \n",
    "# meaning most prices are lower, but a few very high prices (outliers) pull the distribution to the right."
   ]
  },
  {
   "cell_type": "code",
   "execution_count": null,
   "id": "2b6913ff",
   "metadata": {},
   "outputs": [],
   "source": []
  }
 ],
 "metadata": {
  "kernelspec": {
   "display_name": "Python 3 (ipykernel)",
   "language": "python",
   "name": "python3"
  },
  "language_info": {
   "codemirror_mode": {
    "name": "ipython",
    "version": 3
   },
   "file_extension": ".py",
   "mimetype": "text/x-python",
   "name": "python",
   "nbconvert_exporter": "python",
   "pygments_lexer": "ipython3",
   "version": "3.11.5"
  }
 },
 "nbformat": 4,
 "nbformat_minor": 5
}
