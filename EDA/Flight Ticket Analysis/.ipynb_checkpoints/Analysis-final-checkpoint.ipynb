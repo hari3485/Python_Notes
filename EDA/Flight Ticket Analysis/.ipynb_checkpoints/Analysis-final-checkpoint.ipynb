{
 "cells": [
  {
   "cell_type": "code",
   "execution_count": 1,
   "id": "f4d3f073-0ae2-4315-afcb-7293bee28065",
   "metadata": {},
   "outputs": [],
   "source": [
    "import numpy as np\n",
    "import pandas as pd\n",
    "import matplotlib.pyplot as plt\n",
    "import seaborn as sns\n",
    "import warnings \n",
    "warnings.filterwarnings(\"ignore\")\n",
    "from scipy import stats"
   ]
  },
  {
   "cell_type": "code",
   "execution_count": 2,
   "id": "3be4c000-6d00-4dad-8320-1c9badb80d02",
   "metadata": {},
   "outputs": [
    {
     "data": {
      "text/html": [
       "<div>\n",
       "<style scoped>\n",
       "    .dataframe tbody tr th:only-of-type {\n",
       "        vertical-align: middle;\n",
       "    }\n",
       "\n",
       "    .dataframe tbody tr th {\n",
       "        vertical-align: top;\n",
       "    }\n",
       "\n",
       "    .dataframe thead th {\n",
       "        text-align: right;\n",
       "    }\n",
       "</style>\n",
       "<table border=\"1\" class=\"dataframe\">\n",
       "  <thead>\n",
       "    <tr style=\"text-align: right;\">\n",
       "      <th></th>\n",
       "      <th>price</th>\n",
       "      <th>airline_name</th>\n",
       "      <th>departure_city</th>\n",
       "      <th>arrival_city</th>\n",
       "      <th>travel_date</th>\n",
       "      <th>duration</th>\n",
       "      <th>stops</th>\n",
       "      <th>cabin_class</th>\n",
       "      <th>booking_date</th>\n",
       "      <th>days_until_travel</th>\n",
       "      <th>booking_type</th>\n",
       "      <th>travel_type</th>\n",
       "    </tr>\n",
       "  </thead>\n",
       "  <tbody>\n",
       "    <tr>\n",
       "      <th>0</th>\n",
       "      <td>29384.18</td>\n",
       "      <td>Air India</td>\n",
       "      <td>Delhi</td>\n",
       "      <td>Mumbai</td>\n",
       "      <td>2024-12-25</td>\n",
       "      <td>130</td>\n",
       "      <td>Direct</td>\n",
       "      <td>Business</td>\n",
       "      <td>2024-12-16</td>\n",
       "      <td>9</td>\n",
       "      <td>Moderate</td>\n",
       "      <td>Holiday</td>\n",
       "    </tr>\n",
       "    <tr>\n",
       "      <th>1</th>\n",
       "      <td>29382.40</td>\n",
       "      <td>Air India</td>\n",
       "      <td>Delhi</td>\n",
       "      <td>Mumbai</td>\n",
       "      <td>2024-12-25</td>\n",
       "      <td>145</td>\n",
       "      <td>Direct</td>\n",
       "      <td>Business</td>\n",
       "      <td>2024-12-16</td>\n",
       "      <td>9</td>\n",
       "      <td>Moderate</td>\n",
       "      <td>Holiday</td>\n",
       "    </tr>\n",
       "    <tr>\n",
       "      <th>2</th>\n",
       "      <td>37417.30</td>\n",
       "      <td>Air India</td>\n",
       "      <td>Delhi</td>\n",
       "      <td>Mumbai</td>\n",
       "      <td>2024-12-25</td>\n",
       "      <td>125</td>\n",
       "      <td>Direct</td>\n",
       "      <td>Business</td>\n",
       "      <td>2024-12-16</td>\n",
       "      <td>9</td>\n",
       "      <td>Moderate</td>\n",
       "      <td>Holiday</td>\n",
       "    </tr>\n",
       "    <tr>\n",
       "      <th>3</th>\n",
       "      <td>29384.18</td>\n",
       "      <td>Air India</td>\n",
       "      <td>Delhi</td>\n",
       "      <td>Mumbai</td>\n",
       "      <td>2024-12-25</td>\n",
       "      <td>135</td>\n",
       "      <td>Direct</td>\n",
       "      <td>Business</td>\n",
       "      <td>2024-12-16</td>\n",
       "      <td>9</td>\n",
       "      <td>Moderate</td>\n",
       "      <td>Holiday</td>\n",
       "    </tr>\n",
       "    <tr>\n",
       "      <th>4</th>\n",
       "      <td>29382.40</td>\n",
       "      <td>Air India</td>\n",
       "      <td>Delhi</td>\n",
       "      <td>Mumbai</td>\n",
       "      <td>2024-12-25</td>\n",
       "      <td>145</td>\n",
       "      <td>Direct</td>\n",
       "      <td>Business</td>\n",
       "      <td>2024-12-16</td>\n",
       "      <td>9</td>\n",
       "      <td>Moderate</td>\n",
       "      <td>Holiday</td>\n",
       "    </tr>\n",
       "    <tr>\n",
       "      <th>...</th>\n",
       "      <td>...</td>\n",
       "      <td>...</td>\n",
       "      <td>...</td>\n",
       "      <td>...</td>\n",
       "      <td>...</td>\n",
       "      <td>...</td>\n",
       "      <td>...</td>\n",
       "      <td>...</td>\n",
       "      <td>...</td>\n",
       "      <td>...</td>\n",
       "      <td>...</td>\n",
       "      <td>...</td>\n",
       "    </tr>\n",
       "    <tr>\n",
       "      <th>3887</th>\n",
       "      <td>22384.00</td>\n",
       "      <td>Air India</td>\n",
       "      <td>Kolkata</td>\n",
       "      <td>Guwahathi</td>\n",
       "      <td>2025-02-09</td>\n",
       "      <td>1220</td>\n",
       "      <td>1 stop</td>\n",
       "      <td>Premium Economy</td>\n",
       "      <td>2024-12-16</td>\n",
       "      <td>55</td>\n",
       "      <td>Advanced</td>\n",
       "      <td>Weekend</td>\n",
       "    </tr>\n",
       "    <tr>\n",
       "      <th>3888</th>\n",
       "      <td>19497.00</td>\n",
       "      <td>Air India</td>\n",
       "      <td>Kolkata</td>\n",
       "      <td>Guwahathi</td>\n",
       "      <td>2025-02-09</td>\n",
       "      <td>1545</td>\n",
       "      <td>1 stop</td>\n",
       "      <td>Premium Economy</td>\n",
       "      <td>2024-12-16</td>\n",
       "      <td>55</td>\n",
       "      <td>Advanced</td>\n",
       "      <td>Weekend</td>\n",
       "    </tr>\n",
       "    <tr>\n",
       "      <th>3889</th>\n",
       "      <td>42707.00</td>\n",
       "      <td>Air India</td>\n",
       "      <td>Kolkata</td>\n",
       "      <td>Guwahathi</td>\n",
       "      <td>2025-02-09</td>\n",
       "      <td>660</td>\n",
       "      <td>1 stop</td>\n",
       "      <td>Premium Economy</td>\n",
       "      <td>2024-12-16</td>\n",
       "      <td>55</td>\n",
       "      <td>Advanced</td>\n",
       "      <td>Weekend</td>\n",
       "    </tr>\n",
       "    <tr>\n",
       "      <th>3890</th>\n",
       "      <td>42203.00</td>\n",
       "      <td>Air India</td>\n",
       "      <td>Kolkata</td>\n",
       "      <td>Guwahathi</td>\n",
       "      <td>2025-02-09</td>\n",
       "      <td>775</td>\n",
       "      <td>1 stop</td>\n",
       "      <td>Premium Economy</td>\n",
       "      <td>2024-12-16</td>\n",
       "      <td>55</td>\n",
       "      <td>Advanced</td>\n",
       "      <td>Weekend</td>\n",
       "    </tr>\n",
       "    <tr>\n",
       "      <th>3891</th>\n",
       "      <td>65163.00</td>\n",
       "      <td>Air India</td>\n",
       "      <td>Kolkata</td>\n",
       "      <td>Guwahathi</td>\n",
       "      <td>2025-02-09</td>\n",
       "      <td>625</td>\n",
       "      <td>1 stop</td>\n",
       "      <td>Premium Economy</td>\n",
       "      <td>2024-12-16</td>\n",
       "      <td>55</td>\n",
       "      <td>Advanced</td>\n",
       "      <td>Weekend</td>\n",
       "    </tr>\n",
       "  </tbody>\n",
       "</table>\n",
       "<p>3892 rows × 12 columns</p>\n",
       "</div>"
      ],
      "text/plain": [
       "         price airline_name departure_city arrival_city travel_date  duration  \\\n",
       "0     29384.18    Air India          Delhi       Mumbai  2024-12-25       130   \n",
       "1     29382.40    Air India          Delhi       Mumbai  2024-12-25       145   \n",
       "2     37417.30    Air India          Delhi       Mumbai  2024-12-25       125   \n",
       "3     29384.18    Air India          Delhi       Mumbai  2024-12-25       135   \n",
       "4     29382.40    Air India          Delhi       Mumbai  2024-12-25       145   \n",
       "...        ...          ...            ...          ...         ...       ...   \n",
       "3887  22384.00    Air India        Kolkata    Guwahathi  2025-02-09      1220   \n",
       "3888  19497.00    Air India        Kolkata    Guwahathi  2025-02-09      1545   \n",
       "3889  42707.00    Air India        Kolkata    Guwahathi  2025-02-09       660   \n",
       "3890  42203.00    Air India        Kolkata    Guwahathi  2025-02-09       775   \n",
       "3891  65163.00    Air India        Kolkata    Guwahathi  2025-02-09       625   \n",
       "\n",
       "       stops      cabin_class booking_date  days_until_travel booking_type  \\\n",
       "0     Direct         Business   2024-12-16                  9     Moderate   \n",
       "1     Direct         Business   2024-12-16                  9     Moderate   \n",
       "2     Direct         Business   2024-12-16                  9     Moderate   \n",
       "3     Direct         Business   2024-12-16                  9     Moderate   \n",
       "4     Direct         Business   2024-12-16                  9     Moderate   \n",
       "...      ...              ...          ...                ...          ...   \n",
       "3887  1 stop  Premium Economy   2024-12-16                 55     Advanced   \n",
       "3888  1 stop  Premium Economy   2024-12-16                 55     Advanced   \n",
       "3889  1 stop  Premium Economy   2024-12-16                 55     Advanced   \n",
       "3890  1 stop  Premium Economy   2024-12-16                 55     Advanced   \n",
       "3891  1 stop  Premium Economy   2024-12-16                 55     Advanced   \n",
       "\n",
       "     travel_type  \n",
       "0        Holiday  \n",
       "1        Holiday  \n",
       "2        Holiday  \n",
       "3        Holiday  \n",
       "4        Holiday  \n",
       "...          ...  \n",
       "3887     Weekend  \n",
       "3888     Weekend  \n",
       "3889     Weekend  \n",
       "3890     Weekend  \n",
       "3891     Weekend  \n",
       "\n",
       "[3892 rows x 12 columns]"
      ]
     },
     "execution_count": 2,
     "metadata": {},
     "output_type": "execute_result"
    }
   ],
   "source": [
    "cleaned_data = pd.read_csv(\"Cleaned Data.csv\",index_col = \"Unnamed: 0\")\n",
    "cleaned_data"
   ]
  },
  {
   "cell_type": "code",
   "execution_count": 3,
   "id": "c6316e51-c201-47a7-8c7a-6005391524e7",
   "metadata": {},
   "outputs": [],
   "source": [
    "data = cleaned_data.copy()"
   ]
  },
  {
   "cell_type": "code",
   "execution_count": 4,
   "id": "a9546938-b29a-4e69-a245-33d94964e16a",
   "metadata": {
    "scrolled": true
   },
   "outputs": [
    {
     "data": {
      "text/html": [
       "<div>\n",
       "<style scoped>\n",
       "    .dataframe tbody tr th:only-of-type {\n",
       "        vertical-align: middle;\n",
       "    }\n",
       "\n",
       "    .dataframe tbody tr th {\n",
       "        vertical-align: top;\n",
       "    }\n",
       "\n",
       "    .dataframe thead th {\n",
       "        text-align: right;\n",
       "    }\n",
       "</style>\n",
       "<table border=\"1\" class=\"dataframe\">\n",
       "  <thead>\n",
       "    <tr style=\"text-align: right;\">\n",
       "      <th></th>\n",
       "      <th>price</th>\n",
       "      <th>airline_name</th>\n",
       "      <th>departure_city</th>\n",
       "      <th>arrival_city</th>\n",
       "      <th>travel_date</th>\n",
       "      <th>duration</th>\n",
       "      <th>stops</th>\n",
       "      <th>cabin_class</th>\n",
       "      <th>booking_date</th>\n",
       "      <th>days_until_travel</th>\n",
       "      <th>booking_type</th>\n",
       "      <th>travel_type</th>\n",
       "    </tr>\n",
       "  </thead>\n",
       "  <tbody>\n",
       "    <tr>\n",
       "      <th>0</th>\n",
       "      <td>29384.18</td>\n",
       "      <td>Air India</td>\n",
       "      <td>Delhi</td>\n",
       "      <td>Mumbai</td>\n",
       "      <td>2024-12-25</td>\n",
       "      <td>130</td>\n",
       "      <td>Direct</td>\n",
       "      <td>Business</td>\n",
       "      <td>2024-12-16</td>\n",
       "      <td>9</td>\n",
       "      <td>Moderate</td>\n",
       "      <td>Holiday</td>\n",
       "    </tr>\n",
       "    <tr>\n",
       "      <th>1</th>\n",
       "      <td>29382.40</td>\n",
       "      <td>Air India</td>\n",
       "      <td>Delhi</td>\n",
       "      <td>Mumbai</td>\n",
       "      <td>2024-12-25</td>\n",
       "      <td>145</td>\n",
       "      <td>Direct</td>\n",
       "      <td>Business</td>\n",
       "      <td>2024-12-16</td>\n",
       "      <td>9</td>\n",
       "      <td>Moderate</td>\n",
       "      <td>Holiday</td>\n",
       "    </tr>\n",
       "    <tr>\n",
       "      <th>2</th>\n",
       "      <td>37417.30</td>\n",
       "      <td>Air India</td>\n",
       "      <td>Delhi</td>\n",
       "      <td>Mumbai</td>\n",
       "      <td>2024-12-25</td>\n",
       "      <td>125</td>\n",
       "      <td>Direct</td>\n",
       "      <td>Business</td>\n",
       "      <td>2024-12-16</td>\n",
       "      <td>9</td>\n",
       "      <td>Moderate</td>\n",
       "      <td>Holiday</td>\n",
       "    </tr>\n",
       "    <tr>\n",
       "      <th>3</th>\n",
       "      <td>29384.18</td>\n",
       "      <td>Air India</td>\n",
       "      <td>Delhi</td>\n",
       "      <td>Mumbai</td>\n",
       "      <td>2024-12-25</td>\n",
       "      <td>135</td>\n",
       "      <td>Direct</td>\n",
       "      <td>Business</td>\n",
       "      <td>2024-12-16</td>\n",
       "      <td>9</td>\n",
       "      <td>Moderate</td>\n",
       "      <td>Holiday</td>\n",
       "    </tr>\n",
       "    <tr>\n",
       "      <th>4</th>\n",
       "      <td>29382.40</td>\n",
       "      <td>Air India</td>\n",
       "      <td>Delhi</td>\n",
       "      <td>Mumbai</td>\n",
       "      <td>2024-12-25</td>\n",
       "      <td>145</td>\n",
       "      <td>Direct</td>\n",
       "      <td>Business</td>\n",
       "      <td>2024-12-16</td>\n",
       "      <td>9</td>\n",
       "      <td>Moderate</td>\n",
       "      <td>Holiday</td>\n",
       "    </tr>\n",
       "    <tr>\n",
       "      <th>...</th>\n",
       "      <td>...</td>\n",
       "      <td>...</td>\n",
       "      <td>...</td>\n",
       "      <td>...</td>\n",
       "      <td>...</td>\n",
       "      <td>...</td>\n",
       "      <td>...</td>\n",
       "      <td>...</td>\n",
       "      <td>...</td>\n",
       "      <td>...</td>\n",
       "      <td>...</td>\n",
       "      <td>...</td>\n",
       "    </tr>\n",
       "    <tr>\n",
       "      <th>3887</th>\n",
       "      <td>22384.00</td>\n",
       "      <td>Air India</td>\n",
       "      <td>Kolkata</td>\n",
       "      <td>Guwahathi</td>\n",
       "      <td>2025-02-09</td>\n",
       "      <td>1220</td>\n",
       "      <td>1 stop</td>\n",
       "      <td>Premium Economy</td>\n",
       "      <td>2024-12-16</td>\n",
       "      <td>55</td>\n",
       "      <td>Advanced</td>\n",
       "      <td>Weekend</td>\n",
       "    </tr>\n",
       "    <tr>\n",
       "      <th>3888</th>\n",
       "      <td>19497.00</td>\n",
       "      <td>Air India</td>\n",
       "      <td>Kolkata</td>\n",
       "      <td>Guwahathi</td>\n",
       "      <td>2025-02-09</td>\n",
       "      <td>1545</td>\n",
       "      <td>1 stop</td>\n",
       "      <td>Premium Economy</td>\n",
       "      <td>2024-12-16</td>\n",
       "      <td>55</td>\n",
       "      <td>Advanced</td>\n",
       "      <td>Weekend</td>\n",
       "    </tr>\n",
       "    <tr>\n",
       "      <th>3889</th>\n",
       "      <td>42707.00</td>\n",
       "      <td>Air India</td>\n",
       "      <td>Kolkata</td>\n",
       "      <td>Guwahathi</td>\n",
       "      <td>2025-02-09</td>\n",
       "      <td>660</td>\n",
       "      <td>1 stop</td>\n",
       "      <td>Premium Economy</td>\n",
       "      <td>2024-12-16</td>\n",
       "      <td>55</td>\n",
       "      <td>Advanced</td>\n",
       "      <td>Weekend</td>\n",
       "    </tr>\n",
       "    <tr>\n",
       "      <th>3890</th>\n",
       "      <td>42203.00</td>\n",
       "      <td>Air India</td>\n",
       "      <td>Kolkata</td>\n",
       "      <td>Guwahathi</td>\n",
       "      <td>2025-02-09</td>\n",
       "      <td>775</td>\n",
       "      <td>1 stop</td>\n",
       "      <td>Premium Economy</td>\n",
       "      <td>2024-12-16</td>\n",
       "      <td>55</td>\n",
       "      <td>Advanced</td>\n",
       "      <td>Weekend</td>\n",
       "    </tr>\n",
       "    <tr>\n",
       "      <th>3891</th>\n",
       "      <td>65163.00</td>\n",
       "      <td>Air India</td>\n",
       "      <td>Kolkata</td>\n",
       "      <td>Guwahathi</td>\n",
       "      <td>2025-02-09</td>\n",
       "      <td>625</td>\n",
       "      <td>1 stop</td>\n",
       "      <td>Premium Economy</td>\n",
       "      <td>2024-12-16</td>\n",
       "      <td>55</td>\n",
       "      <td>Advanced</td>\n",
       "      <td>Weekend</td>\n",
       "    </tr>\n",
       "  </tbody>\n",
       "</table>\n",
       "<p>3892 rows × 12 columns</p>\n",
       "</div>"
      ],
      "text/plain": [
       "         price airline_name departure_city arrival_city travel_date  duration  \\\n",
       "0     29384.18    Air India          Delhi       Mumbai  2024-12-25       130   \n",
       "1     29382.40    Air India          Delhi       Mumbai  2024-12-25       145   \n",
       "2     37417.30    Air India          Delhi       Mumbai  2024-12-25       125   \n",
       "3     29384.18    Air India          Delhi       Mumbai  2024-12-25       135   \n",
       "4     29382.40    Air India          Delhi       Mumbai  2024-12-25       145   \n",
       "...        ...          ...            ...          ...         ...       ...   \n",
       "3887  22384.00    Air India        Kolkata    Guwahathi  2025-02-09      1220   \n",
       "3888  19497.00    Air India        Kolkata    Guwahathi  2025-02-09      1545   \n",
       "3889  42707.00    Air India        Kolkata    Guwahathi  2025-02-09       660   \n",
       "3890  42203.00    Air India        Kolkata    Guwahathi  2025-02-09       775   \n",
       "3891  65163.00    Air India        Kolkata    Guwahathi  2025-02-09       625   \n",
       "\n",
       "       stops      cabin_class booking_date  days_until_travel booking_type  \\\n",
       "0     Direct         Business   2024-12-16                  9     Moderate   \n",
       "1     Direct         Business   2024-12-16                  9     Moderate   \n",
       "2     Direct         Business   2024-12-16                  9     Moderate   \n",
       "3     Direct         Business   2024-12-16                  9     Moderate   \n",
       "4     Direct         Business   2024-12-16                  9     Moderate   \n",
       "...      ...              ...          ...                ...          ...   \n",
       "3887  1 stop  Premium Economy   2024-12-16                 55     Advanced   \n",
       "3888  1 stop  Premium Economy   2024-12-16                 55     Advanced   \n",
       "3889  1 stop  Premium Economy   2024-12-16                 55     Advanced   \n",
       "3890  1 stop  Premium Economy   2024-12-16                 55     Advanced   \n",
       "3891  1 stop  Premium Economy   2024-12-16                 55     Advanced   \n",
       "\n",
       "     travel_type  \n",
       "0        Holiday  \n",
       "1        Holiday  \n",
       "2        Holiday  \n",
       "3        Holiday  \n",
       "4        Holiday  \n",
       "...          ...  \n",
       "3887     Weekend  \n",
       "3888     Weekend  \n",
       "3889     Weekend  \n",
       "3890     Weekend  \n",
       "3891     Weekend  \n",
       "\n",
       "[3892 rows x 12 columns]"
      ]
     },
     "execution_count": 4,
     "metadata": {},
     "output_type": "execute_result"
    }
   ],
   "source": [
    "data"
   ]
  },
  {
   "cell_type": "markdown",
   "id": "8bd135b2-f707-41c9-b597-739d868abd31",
   "metadata": {},
   "source": [
    "## Data Exploration"
   ]
  },
  {
   "cell_type": "code",
   "execution_count": 5,
   "id": "a7cfcea0-b68d-4cad-989a-ff78cc535c6d",
   "metadata": {},
   "outputs": [
    {
     "data": {
      "text/html": [
       "<div>\n",
       "<style scoped>\n",
       "    .dataframe tbody tr th:only-of-type {\n",
       "        vertical-align: middle;\n",
       "    }\n",
       "\n",
       "    .dataframe tbody tr th {\n",
       "        vertical-align: top;\n",
       "    }\n",
       "\n",
       "    .dataframe thead th {\n",
       "        text-align: right;\n",
       "    }\n",
       "</style>\n",
       "<table border=\"1\" class=\"dataframe\">\n",
       "  <thead>\n",
       "    <tr style=\"text-align: right;\">\n",
       "      <th></th>\n",
       "      <th>price</th>\n",
       "      <th>airline_name</th>\n",
       "      <th>departure_city</th>\n",
       "      <th>arrival_city</th>\n",
       "      <th>travel_date</th>\n",
       "      <th>duration</th>\n",
       "      <th>stops</th>\n",
       "      <th>cabin_class</th>\n",
       "      <th>booking_date</th>\n",
       "      <th>days_until_travel</th>\n",
       "      <th>booking_type</th>\n",
       "      <th>travel_type</th>\n",
       "    </tr>\n",
       "  </thead>\n",
       "  <tbody>\n",
       "    <tr>\n",
       "      <th>0</th>\n",
       "      <td>29384.18</td>\n",
       "      <td>Air India</td>\n",
       "      <td>Delhi</td>\n",
       "      <td>Mumbai</td>\n",
       "      <td>2024-12-25</td>\n",
       "      <td>130</td>\n",
       "      <td>Direct</td>\n",
       "      <td>Business</td>\n",
       "      <td>2024-12-16</td>\n",
       "      <td>9</td>\n",
       "      <td>Moderate</td>\n",
       "      <td>Holiday</td>\n",
       "    </tr>\n",
       "    <tr>\n",
       "      <th>1</th>\n",
       "      <td>29382.40</td>\n",
       "      <td>Air India</td>\n",
       "      <td>Delhi</td>\n",
       "      <td>Mumbai</td>\n",
       "      <td>2024-12-25</td>\n",
       "      <td>145</td>\n",
       "      <td>Direct</td>\n",
       "      <td>Business</td>\n",
       "      <td>2024-12-16</td>\n",
       "      <td>9</td>\n",
       "      <td>Moderate</td>\n",
       "      <td>Holiday</td>\n",
       "    </tr>\n",
       "    <tr>\n",
       "      <th>2</th>\n",
       "      <td>37417.30</td>\n",
       "      <td>Air India</td>\n",
       "      <td>Delhi</td>\n",
       "      <td>Mumbai</td>\n",
       "      <td>2024-12-25</td>\n",
       "      <td>125</td>\n",
       "      <td>Direct</td>\n",
       "      <td>Business</td>\n",
       "      <td>2024-12-16</td>\n",
       "      <td>9</td>\n",
       "      <td>Moderate</td>\n",
       "      <td>Holiday</td>\n",
       "    </tr>\n",
       "    <tr>\n",
       "      <th>3</th>\n",
       "      <td>29384.18</td>\n",
       "      <td>Air India</td>\n",
       "      <td>Delhi</td>\n",
       "      <td>Mumbai</td>\n",
       "      <td>2024-12-25</td>\n",
       "      <td>135</td>\n",
       "      <td>Direct</td>\n",
       "      <td>Business</td>\n",
       "      <td>2024-12-16</td>\n",
       "      <td>9</td>\n",
       "      <td>Moderate</td>\n",
       "      <td>Holiday</td>\n",
       "    </tr>\n",
       "    <tr>\n",
       "      <th>4</th>\n",
       "      <td>29382.40</td>\n",
       "      <td>Air India</td>\n",
       "      <td>Delhi</td>\n",
       "      <td>Mumbai</td>\n",
       "      <td>2024-12-25</td>\n",
       "      <td>145</td>\n",
       "      <td>Direct</td>\n",
       "      <td>Business</td>\n",
       "      <td>2024-12-16</td>\n",
       "      <td>9</td>\n",
       "      <td>Moderate</td>\n",
       "      <td>Holiday</td>\n",
       "    </tr>\n",
       "  </tbody>\n",
       "</table>\n",
       "</div>"
      ],
      "text/plain": [
       "      price airline_name departure_city arrival_city travel_date  duration  \\\n",
       "0  29384.18    Air India          Delhi       Mumbai  2024-12-25       130   \n",
       "1  29382.40    Air India          Delhi       Mumbai  2024-12-25       145   \n",
       "2  37417.30    Air India          Delhi       Mumbai  2024-12-25       125   \n",
       "3  29384.18    Air India          Delhi       Mumbai  2024-12-25       135   \n",
       "4  29382.40    Air India          Delhi       Mumbai  2024-12-25       145   \n",
       "\n",
       "    stops cabin_class booking_date  days_until_travel booking_type travel_type  \n",
       "0  Direct    Business   2024-12-16                  9     Moderate     Holiday  \n",
       "1  Direct    Business   2024-12-16                  9     Moderate     Holiday  \n",
       "2  Direct    Business   2024-12-16                  9     Moderate     Holiday  \n",
       "3  Direct    Business   2024-12-16                  9     Moderate     Holiday  \n",
       "4  Direct    Business   2024-12-16                  9     Moderate     Holiday  "
      ]
     },
     "execution_count": 5,
     "metadata": {},
     "output_type": "execute_result"
    }
   ],
   "source": [
    "data.head()"
   ]
  },
  {
   "cell_type": "code",
   "execution_count": 6,
   "id": "9111f0f7-593e-4fc8-9fc4-b8ca41488ac6",
   "metadata": {},
   "outputs": [
    {
     "data": {
      "text/plain": [
       "(3892, 12)"
      ]
     },
     "execution_count": 6,
     "metadata": {},
     "output_type": "execute_result"
    }
   ],
   "source": [
    "data.shape"
   ]
  },
  {
   "cell_type": "code",
   "execution_count": 7,
   "id": "c6822f69-ba39-408a-baca-6c37adc3c136",
   "metadata": {},
   "outputs": [
    {
     "data": {
      "text/plain": [
       "Index(['price', 'airline_name', 'departure_city', 'arrival_city',\n",
       "       'travel_date', 'duration', 'stops', 'cabin_class', 'booking_date',\n",
       "       'days_until_travel', 'booking_type', 'travel_type'],\n",
       "      dtype='object')"
      ]
     },
     "execution_count": 7,
     "metadata": {},
     "output_type": "execute_result"
    }
   ],
   "source": [
    "data.columns"
   ]
  },
  {
   "cell_type": "code",
   "execution_count": 8,
   "id": "24e8f507-e7bf-489f-b43a-28c7f87454fb",
   "metadata": {},
   "outputs": [],
   "source": [
    "data[\"booking_date\"] = pd.to_datetime(data[\"booking_date\"])"
   ]
  },
  {
   "cell_type": "code",
   "execution_count": 9,
   "id": "045fa71c-05f7-43cd-bdc8-6de116e7665b",
   "metadata": {},
   "outputs": [],
   "source": [
    "data[\"travel_date\"] = pd.to_datetime(data[\"travel_date\"])"
   ]
  },
  {
   "cell_type": "code",
   "execution_count": 10,
   "id": "62f90e10-319b-421a-82e8-6d252de206ce",
   "metadata": {},
   "outputs": [
    {
     "data": {
      "text/plain": [
       "price                       float64\n",
       "airline_name                 object\n",
       "departure_city               object\n",
       "arrival_city                 object\n",
       "travel_date          datetime64[ns]\n",
       "duration                      int64\n",
       "stops                        object\n",
       "cabin_class                  object\n",
       "booking_date         datetime64[ns]\n",
       "days_until_travel             int64\n",
       "booking_type                 object\n",
       "travel_type                  object\n",
       "dtype: object"
      ]
     },
     "execution_count": 10,
     "metadata": {},
     "output_type": "execute_result"
    }
   ],
   "source": [
    "data.dtypes"
   ]
  },
  {
   "cell_type": "code",
   "execution_count": 11,
   "id": "d44e3413-4aa0-4318-a1bc-f3cf6be7f01e",
   "metadata": {},
   "outputs": [
    {
     "name": "stdout",
     "output_type": "stream",
     "text": [
      "<class 'pandas.core.frame.DataFrame'>\n",
      "Int64Index: 3892 entries, 0 to 3891\n",
      "Data columns (total 12 columns):\n",
      " #   Column             Non-Null Count  Dtype         \n",
      "---  ------             --------------  -----         \n",
      " 0   price              3892 non-null   float64       \n",
      " 1   airline_name       3892 non-null   object        \n",
      " 2   departure_city     3892 non-null   object        \n",
      " 3   arrival_city       3892 non-null   object        \n",
      " 4   travel_date        3892 non-null   datetime64[ns]\n",
      " 5   duration           3892 non-null   int64         \n",
      " 6   stops              3892 non-null   object        \n",
      " 7   cabin_class        3892 non-null   object        \n",
      " 8   booking_date       3892 non-null   datetime64[ns]\n",
      " 9   days_until_travel  3892 non-null   int64         \n",
      " 10  booking_type       3892 non-null   object        \n",
      " 11  travel_type        3892 non-null   object        \n",
      "dtypes: datetime64[ns](2), float64(1), int64(2), object(7)\n",
      "memory usage: 395.3+ KB\n"
     ]
    }
   ],
   "source": [
    "data.info()"
   ]
  },
  {
   "cell_type": "markdown",
   "id": "70114cbf-2bc1-4a9c-984d-32392a01db50",
   "metadata": {},
   "source": [
    "#### Categorical columns"
   ]
  },
  {
   "cell_type": "code",
   "execution_count": 12,
   "id": "f9f590c9-36e3-4517-a6b2-9d3f78c3d8c9",
   "metadata": {},
   "outputs": [
    {
     "data": {
      "text/plain": [
       "Index(['airline_name', 'departure_city', 'arrival_city', 'stops',\n",
       "       'cabin_class', 'booking_type', 'travel_type'],\n",
       "      dtype='object')"
      ]
     },
     "execution_count": 12,
     "metadata": {},
     "output_type": "execute_result"
    }
   ],
   "source": [
    "cat_cols = data.select_dtypes(include = \"object\").columns\n",
    "cat_cols"
   ]
  },
  {
   "cell_type": "markdown",
   "id": "7b878e88-fabf-43cd-a3af-e52d297e8f71",
   "metadata": {},
   "source": [
    "#### Numerical columns"
   ]
  },
  {
   "cell_type": "code",
   "execution_count": 13,
   "id": "7d939768-d21a-4037-a7e0-c86c4716ca27",
   "metadata": {},
   "outputs": [
    {
     "data": {
      "text/plain": [
       "Index(['price', 'duration', 'days_until_travel'], dtype='object')"
      ]
     },
     "execution_count": 13,
     "metadata": {},
     "output_type": "execute_result"
    }
   ],
   "source": [
    "num_cols = data.select_dtypes(include = \"number\").columns\n",
    "num_cols"
   ]
  },
  {
   "cell_type": "markdown",
   "id": "813b6e0b-fd10-4f1c-abb9-6a1fdbc78194",
   "metadata": {},
   "source": [
    "#### Unique Values in Each Columns "
   ]
  },
  {
   "cell_type": "code",
   "execution_count": 14,
   "id": "f480fce4-5773-4a39-b7a7-ed944a4ff368",
   "metadata": {},
   "outputs": [
    {
     "name": "stdout",
     "output_type": "stream",
     "text": [
      "No of Unique Values in airline_name column is:  ['Air India' 'IndiGo' 'Akasa Air' 'SpiceJet' 'Etihad Airways']\n",
      "\n",
      "No of Unique Values in departure_city column is:  ['Delhi' 'Banglore' 'Chennai' 'Mumbai' 'Kolkata']\n",
      "\n",
      "No of Unique Values in arrival_city column is:  ['Mumbai' 'Kolkata' 'Hyderabad' 'Goa' 'Banglore' 'Guwahathi']\n",
      "\n",
      "No of Unique Values in stops column is:  ['Direct' '1 stop' '3 stops' '2 stops']\n",
      "\n",
      "No of Unique Values in cabin_class column is:  ['Business' 'Economy' 'First' 'Premium Economy']\n",
      "\n",
      "No of Unique Values in booking_type column is:  ['Moderate' 'Advanced' 'Last-minute']\n",
      "\n",
      "No of Unique Values in travel_type column is:  ['Holiday' 'Weekday' 'Weekend']\n",
      "\n"
     ]
    }
   ],
   "source": [
    "for i in data[cat_cols]:\n",
    "    print(f\"No of Unique Values in {i} column is: \", data[i].unique())\n",
    "    print()"
   ]
  },
  {
   "cell_type": "code",
   "execution_count": 15,
   "id": "c4b469ad-0a0f-4ac0-a45d-454145798948",
   "metadata": {},
   "outputs": [
    {
     "name": "stdout",
     "output_type": "stream",
     "text": [
      "No of Unique Values in airline_name column is: 5\n",
      "\n",
      "No of Unique Values in departure_city column is: 5\n",
      "\n",
      "No of Unique Values in arrival_city column is: 6\n",
      "\n",
      "No of Unique Values in stops column is: 4\n",
      "\n",
      "No of Unique Values in cabin_class column is: 4\n",
      "\n",
      "No of Unique Values in booking_type column is: 3\n",
      "\n",
      "No of Unique Values in travel_type column is: 3\n",
      "\n"
     ]
    }
   ],
   "source": [
    "for i in data[cat_cols]:\n",
    "    print(f\"No of Unique Values in {i} column is:\", data[i].nunique())\n",
    "    print()"
   ]
  },
  {
   "cell_type": "markdown",
   "id": "8f72bbed-a6b5-4b95-a31a-94843c47f3b9",
   "metadata": {},
   "source": [
    "#### Summary Statistics "
   ]
  },
  {
   "cell_type": "code",
   "execution_count": 16,
   "id": "abdcb5a2-a64e-4351-bd33-6e632c0e40d1",
   "metadata": {},
   "outputs": [
    {
     "data": {
      "text/html": [
       "<div>\n",
       "<style scoped>\n",
       "    .dataframe tbody tr th:only-of-type {\n",
       "        vertical-align: middle;\n",
       "    }\n",
       "\n",
       "    .dataframe tbody tr th {\n",
       "        vertical-align: top;\n",
       "    }\n",
       "\n",
       "    .dataframe thead th {\n",
       "        text-align: right;\n",
       "    }\n",
       "</style>\n",
       "<table border=\"1\" class=\"dataframe\">\n",
       "  <thead>\n",
       "    <tr style=\"text-align: right;\">\n",
       "      <th></th>\n",
       "      <th>price</th>\n",
       "      <th>duration</th>\n",
       "      <th>days_until_travel</th>\n",
       "    </tr>\n",
       "  </thead>\n",
       "  <tbody>\n",
       "    <tr>\n",
       "      <th>count</th>\n",
       "      <td>3892.000000</td>\n",
       "      <td>3892.000000</td>\n",
       "      <td>3892.000000</td>\n",
       "    </tr>\n",
       "    <tr>\n",
       "      <th>mean</th>\n",
       "      <td>30434.573099</td>\n",
       "      <td>425.412384</td>\n",
       "      <td>24.342497</td>\n",
       "    </tr>\n",
       "    <tr>\n",
       "      <th>std</th>\n",
       "      <td>29713.645818</td>\n",
       "      <td>362.888379</td>\n",
       "      <td>18.421048</td>\n",
       "    </tr>\n",
       "    <tr>\n",
       "      <th>min</th>\n",
       "      <td>2682.000000</td>\n",
       "      <td>70.000000</td>\n",
       "      <td>2.000000</td>\n",
       "    </tr>\n",
       "    <tr>\n",
       "      <th>25%</th>\n",
       "      <td>10554.100000</td>\n",
       "      <td>155.000000</td>\n",
       "      <td>9.000000</td>\n",
       "    </tr>\n",
       "    <tr>\n",
       "      <th>50%</th>\n",
       "      <td>19105.110000</td>\n",
       "      <td>345.000000</td>\n",
       "      <td>19.000000</td>\n",
       "    </tr>\n",
       "    <tr>\n",
       "      <th>75%</th>\n",
       "      <td>40541.565000</td>\n",
       "      <td>525.000000</td>\n",
       "      <td>41.000000</td>\n",
       "    </tr>\n",
       "    <tr>\n",
       "      <th>max</th>\n",
       "      <td>291560.990000</td>\n",
       "      <td>1750.000000</td>\n",
       "      <td>55.000000</td>\n",
       "    </tr>\n",
       "  </tbody>\n",
       "</table>\n",
       "</div>"
      ],
      "text/plain": [
       "               price     duration  days_until_travel\n",
       "count    3892.000000  3892.000000        3892.000000\n",
       "mean    30434.573099   425.412384          24.342497\n",
       "std     29713.645818   362.888379          18.421048\n",
       "min      2682.000000    70.000000           2.000000\n",
       "25%     10554.100000   155.000000           9.000000\n",
       "50%     19105.110000   345.000000          19.000000\n",
       "75%     40541.565000   525.000000          41.000000\n",
       "max    291560.990000  1750.000000          55.000000"
      ]
     },
     "execution_count": 16,
     "metadata": {},
     "output_type": "execute_result"
    }
   ],
   "source": [
    "data[num_cols].describe()"
   ]
  },
  {
   "cell_type": "code",
   "execution_count": 17,
   "id": "199c7faf-c2f8-44d6-9fd2-b00ab7f359c5",
   "metadata": {},
   "outputs": [
    {
     "data": {
      "text/html": [
       "<div>\n",
       "<style scoped>\n",
       "    .dataframe tbody tr th:only-of-type {\n",
       "        vertical-align: middle;\n",
       "    }\n",
       "\n",
       "    .dataframe tbody tr th {\n",
       "        vertical-align: top;\n",
       "    }\n",
       "\n",
       "    .dataframe thead th {\n",
       "        text-align: right;\n",
       "    }\n",
       "</style>\n",
       "<table border=\"1\" class=\"dataframe\">\n",
       "  <thead>\n",
       "    <tr style=\"text-align: right;\">\n",
       "      <th></th>\n",
       "      <th>airline_name</th>\n",
       "      <th>departure_city</th>\n",
       "      <th>arrival_city</th>\n",
       "      <th>stops</th>\n",
       "      <th>cabin_class</th>\n",
       "      <th>booking_type</th>\n",
       "      <th>travel_type</th>\n",
       "    </tr>\n",
       "  </thead>\n",
       "  <tbody>\n",
       "    <tr>\n",
       "      <th>count</th>\n",
       "      <td>3892</td>\n",
       "      <td>3892</td>\n",
       "      <td>3892</td>\n",
       "      <td>3892</td>\n",
       "      <td>3892</td>\n",
       "      <td>3892</td>\n",
       "      <td>3892</td>\n",
       "    </tr>\n",
       "    <tr>\n",
       "      <th>unique</th>\n",
       "      <td>5</td>\n",
       "      <td>5</td>\n",
       "      <td>6</td>\n",
       "      <td>4</td>\n",
       "      <td>4</td>\n",
       "      <td>3</td>\n",
       "      <td>3</td>\n",
       "    </tr>\n",
       "    <tr>\n",
       "      <th>top</th>\n",
       "      <td>Air India</td>\n",
       "      <td>Delhi</td>\n",
       "      <td>Hyderabad</td>\n",
       "      <td>1 stop</td>\n",
       "      <td>Premium Economy</td>\n",
       "      <td>Moderate</td>\n",
       "      <td>Weekend</td>\n",
       "    </tr>\n",
       "    <tr>\n",
       "      <th>freq</th>\n",
       "      <td>3148</td>\n",
       "      <td>1167</td>\n",
       "      <td>740</td>\n",
       "      <td>2168</td>\n",
       "      <td>1358</td>\n",
       "      <td>1727</td>\n",
       "      <td>1345</td>\n",
       "    </tr>\n",
       "  </tbody>\n",
       "</table>\n",
       "</div>"
      ],
      "text/plain": [
       "       airline_name departure_city arrival_city   stops      cabin_class  \\\n",
       "count          3892           3892         3892    3892             3892   \n",
       "unique            5              5            6       4                4   \n",
       "top       Air India          Delhi    Hyderabad  1 stop  Premium Economy   \n",
       "freq           3148           1167          740    2168             1358   \n",
       "\n",
       "       booking_type travel_type  \n",
       "count          3892        3892  \n",
       "unique            3           3  \n",
       "top        Moderate     Weekend  \n",
       "freq           1727        1345  "
      ]
     },
     "execution_count": 17,
     "metadata": {},
     "output_type": "execute_result"
    }
   ],
   "source": [
    "data[cat_cols].describe()"
   ]
  },
  {
   "cell_type": "markdown",
   "id": "086673f4-5bc6-4244-91ef-f9defd120219",
   "metadata": {},
   "source": [
    "#### Value Counts"
   ]
  },
  {
   "cell_type": "code",
   "execution_count": 18,
   "id": "96ef95c5-7ec5-4347-bd4f-2e4b0782eef0",
   "metadata": {},
   "outputs": [
    {
     "name": "stdout",
     "output_type": "stream",
     "text": [
      "Count of Each Value in airline_name column is: Air India         3148\n",
      "IndiGo             637\n",
      "Akasa Air           55\n",
      "SpiceJet            30\n",
      "Etihad Airways      22\n",
      "Name: airline_name, dtype: int64\n",
      "\n",
      "Count of Each Value in departure_city column is: Delhi       1167\n",
      "Chennai      740\n",
      "Mumbai       733\n",
      "Banglore     699\n",
      "Kolkata      553\n",
      "Name: departure_city, dtype: int64\n",
      "\n",
      "Count of Each Value in arrival_city column is: Hyderabad    740\n",
      "Goa          733\n",
      "Kolkata      699\n",
      "Banglore     636\n",
      "Guwahathi    553\n",
      "Mumbai       531\n",
      "Name: arrival_city, dtype: int64\n",
      "\n",
      "Count of Each Value in stops column is: 1 stop     2168\n",
      "Direct     1701\n",
      "2 stops      22\n",
      "3 stops       1\n",
      "Name: stops, dtype: int64\n",
      "\n",
      "Count of Each Value in cabin_class column is: Premium Economy    1358\n",
      "Economy            1273\n",
      "Business           1225\n",
      "First                36\n",
      "Name: cabin_class, dtype: int64\n",
      "\n",
      "Count of Each Value in booking_type column is: Moderate       1727\n",
      "Advanced       1266\n",
      "Last-minute     899\n",
      "Name: booking_type, dtype: int64\n",
      "\n",
      "Count of Each Value in travel_type column is: Weekend    1345\n",
      "Weekday    1314\n",
      "Holiday    1233\n",
      "Name: travel_type, dtype: int64\n",
      "\n"
     ]
    }
   ],
   "source": [
    "for i in data[cat_cols].columns:\n",
    "    print(f\"Count of Each Value in {i} column is:\", data[i].value_counts())\n",
    "    print()"
   ]
  },
  {
   "cell_type": "markdown",
   "id": "30d32b62-4863-4591-ac64-cb603cdef961",
   "metadata": {},
   "source": [
    "## Univariate Analysis"
   ]
  },
  {
   "cell_type": "markdown",
   "id": "ea417b81-8728-4952-88f4-b56c1d3fe225",
   "metadata": {},
   "source": [
    "#### Price Analysis"
   ]
  },
  {
   "cell_type": "code",
   "execution_count": 19,
   "id": "79ba702d-cbd1-473a-b007-56b1579b5cda",
   "metadata": {},
   "outputs": [
    {
     "data": {
      "text/plain": [
       "count      3892.000000\n",
       "mean      30434.573099\n",
       "std       29713.645818\n",
       "min        2682.000000\n",
       "25%       10554.100000\n",
       "50%       19105.110000\n",
       "75%       40541.565000\n",
       "max      291560.990000\n",
       "Name: price, dtype: float64"
      ]
     },
     "execution_count": 19,
     "metadata": {},
     "output_type": "execute_result"
    }
   ],
   "source": [
    "data[\"price\"].describe()"
   ]
  },
  {
   "cell_type": "code",
   "execution_count": 20,
   "id": "6f6255d2-ec50-44b5-b70c-973977704782",
   "metadata": {},
   "outputs": [
    {
     "data": {
      "image/png": "[encoded data removed]",
      "text/plain": [
       "<Figure size 1000x800 with 1 Axes>"
      ]
     },
     "metadata": {},
     "output_type": "display_data"
    }
   ],
   "source": [
    "plt.figure(figsize = (10,8))\n",
    "sns.histplot(data = data,\n",
    "             x = \"price\",\n",
    "             bins = 54,\n",
    "             kde = True)\n",
    "plt.title('Distribution of Ticket Prices')\n",
    "plt.xlabel('Price')\n",
    "plt.ylabel('Frequency')\n",
    "plt.show()"
   ]
  },
  {
   "cell_type": "markdown",
   "id": "3ddf8a05-483a-4ce5-b8a9-7a72e37c04d2",
   "metadata": {},
   "source": [
    "#### Detecting Outliers"
   ]
  },
  {
   "cell_type": "code",
   "execution_count": 21,
   "id": "577393f5-6c5e-4b5a-bafc-3a48065e54a4",
   "metadata": {},
   "outputs": [
    {
     "name": "stdout",
     "output_type": "stream",
     "text": [
      "iqr : 29987.465000000004\n"
     ]
    },
    {
     "data": {
      "text/plain": [
       "180"
      ]
     },
     "execution_count": 21,
     "metadata": {},
     "output_type": "execute_result"
    }
   ],
   "source": [
    "Q1 = np.quantile(data[\"price\"],0.25)\n",
    "Q2 =  np.quantile(data[\"price\"],0.50)\n",
    "Q3 = np.quantile(data[\"price\"],0.75)\n",
    "\n",
    "iqr = Q3 - Q1\n",
    "print(f\"iqr : {iqr}\")\n",
    "\n",
    "lower_whisker = Q1 - 1.5* iqr\n",
    "upper_whisker = Q3 + 1.5* iqr\n",
    "\n",
    "outliers = data[(data[\"price\"] < lower_whisker) | (data[\"price\"] > upper_whisker)]\n",
    "len(outliers)"
   ]
  },
  {
   "cell_type": "code",
   "execution_count": 22,
   "id": "95142ecf-ca8d-4656-901e-fffdc072d128",
   "metadata": {},
   "outputs": [
    {
     "data": {
      "image/png": "[encoded data removed]",
      "text/plain": [
       "<Figure size 1000x800 with 1 Axes>"
      ]
     },
     "metadata": {},
     "output_type": "display_data"
    }
   ],
   "source": [
    "plt.figure(figsize = (10,8))\n",
    "sns.boxplot(data = data,\n",
    "               y = \"price\")\n",
    "plt.title('Distribution of Ticket Prices')\n",
    "plt.ylabel('Price')\n",
    "plt.show()"
   ]
  },
  {
   "cell_type": "markdown",
   "id": "df1884c7-d40a-405f-8376-c4c0fd21ae9a",
   "metadata": {},
   "source": [
    "+ Outliers exist but represent valid pricing, not errors accurately reflect real market conditions and also reprents a small portion (180 out of 3892 tickets, ~4.6%).\n",
    "+ Most ticket prices are concentrated in the range of 10,000 to 40,000.\n",
    "+ The dataset is positively skewed due to the presence of high-priced outliers."
   ]
  },
  {
   "cell_type": "markdown",
   "id": "419b89d2-3668-4cf4-8bcf-8d0105a91b28",
   "metadata": {},
   "source": [
    "#### No of Stops Analysis"
   ]
  },
  {
   "cell_type": "code",
   "execution_count": 23,
   "id": "4b634cb8-3c8d-45ff-aa9e-bb308c87f029",
   "metadata": {},
   "outputs": [
    {
     "data": {
      "text/plain": [
       "1 stop     2168\n",
       "Direct     1701\n",
       "2 stops      22\n",
       "3 stops       1\n",
       "Name: stops, dtype: int64"
      ]
     },
     "execution_count": 23,
     "metadata": {},
     "output_type": "execute_result"
    }
   ],
   "source": [
    "stop_counts = data[\"stops\"].value_counts()\n",
    "stop_counts"
   ]
  },
  {
   "cell_type": "code",
   "execution_count": 24,
   "id": "bb7f4fc8-803a-483d-afdc-77c05fa66aec",
   "metadata": {},
   "outputs": [
    {
     "data": {
      "image/png": "[encoded data removed]",
      "text/plain": [
       "<Figure size 1000x800 with 1 Axes>"
      ]
     },
     "metadata": {},
     "output_type": "display_data"
    }
   ],
   "source": [
    "plt.figure(figsize=(10, 8))\n",
    "sns.barplot(x=stop_counts.index, y=stop_counts.values)\n",
    "plt.title('Number of Stops Distribution')\n",
    "plt.xlabel('Number of Stops')\n",
    "plt.ylabel('Count')\n",
    "plt.show()"
   ]
  },
  {
   "cell_type": "markdown",
   "id": "2cd78c0b-5ba4-4397-a76c-6f2548844550",
   "metadata": {},
   "source": [
    "#### Cabin Class Analysis"
   ]
  },
  {
   "cell_type": "code",
   "execution_count": 25,
   "id": "94ad8c9f-16ef-4abb-b9a4-c9d04355880a",
   "metadata": {},
   "outputs": [
    {
     "data": {
      "text/plain": [
       "Premium Economy    1358\n",
       "Economy            1273\n",
       "Business           1225\n",
       "First                36\n",
       "Name: cabin_class, dtype: int64"
      ]
     },
     "execution_count": 25,
     "metadata": {},
     "output_type": "execute_result"
    }
   ],
   "source": [
    "cabin_counts = data[\"cabin_class\"].value_counts()\n",
    "cabin_counts"
   ]
  },
  {
   "cell_type": "code",
   "execution_count": 26,
   "id": "7c54e9a0-27ff-404e-aab9-0f79b73fbfc7",
   "metadata": {},
   "outputs": [
    {
     "data": {
      "image/png": "[encoded data removed]",
      "text/plain": [
       "<Figure size 1000x800 with 1 Axes>"
      ]
     },
     "metadata": {},
     "output_type": "display_data"
    }
   ],
   "source": [
    "plt.figure(figsize=(10, 8))\n",
    "plt.pie(cabin_counts.values, labels=cabin_counts.index, autopct='%1.1f%%',\n",
    "        startangle=90)\n",
    "plt.title('Cabin Class Distribution')\n",
    "plt.show()"
   ]
  },
  {
   "cell_type": "markdown",
   "id": "bbcd4fa7-cad4-4b39-aa94-7dc57ecd8cbf",
   "metadata": {},
   "source": [
    "## Bivariate Analysis"
   ]
  },
  {
   "cell_type": "markdown",
   "id": "4ea6b497-a037-4080-b1c7-7e387055f2db",
   "metadata": {},
   "source": [
    "#### Price vs Booking Type"
   ]
  },
  {
   "cell_type": "code",
   "execution_count": 27,
   "id": "d295b286-ad90-4dde-9637-034db42a0c73",
   "metadata": {},
   "outputs": [
    {
     "data": {
      "text/html": [
       "<div>\n",
       "<style scoped>\n",
       "    .dataframe tbody tr th:only-of-type {\n",
       "        vertical-align: middle;\n",
       "    }\n",
       "\n",
       "    .dataframe tbody tr th {\n",
       "        vertical-align: top;\n",
       "    }\n",
       "\n",
       "    .dataframe thead th {\n",
       "        text-align: right;\n",
       "    }\n",
       "</style>\n",
       "<table border=\"1\" class=\"dataframe\">\n",
       "  <thead>\n",
       "    <tr style=\"text-align: right;\">\n",
       "      <th></th>\n",
       "      <th>count</th>\n",
       "      <th>mean</th>\n",
       "      <th>std</th>\n",
       "      <th>min</th>\n",
       "      <th>25%</th>\n",
       "      <th>50%</th>\n",
       "      <th>75%</th>\n",
       "      <th>max</th>\n",
       "    </tr>\n",
       "    <tr>\n",
       "      <th>booking_type</th>\n",
       "      <th></th>\n",
       "      <th></th>\n",
       "      <th></th>\n",
       "      <th></th>\n",
       "      <th></th>\n",
       "      <th></th>\n",
       "      <th></th>\n",
       "      <th></th>\n",
       "    </tr>\n",
       "  </thead>\n",
       "  <tbody>\n",
       "    <tr>\n",
       "      <th>Advanced</th>\n",
       "      <td>1266.0</td>\n",
       "      <td>24831.534297</td>\n",
       "      <td>21573.409999</td>\n",
       "      <td>2682.00</td>\n",
       "      <td>8178.5475</td>\n",
       "      <td>16206.00</td>\n",
       "      <td>38111.0</td>\n",
       "      <td>104723.00</td>\n",
       "    </tr>\n",
       "    <tr>\n",
       "      <th>Last-minute</th>\n",
       "      <td>899.0</td>\n",
       "      <td>39073.099956</td>\n",
       "      <td>36159.496798</td>\n",
       "      <td>5810.54</td>\n",
       "      <td>14752.2750</td>\n",
       "      <td>25450.00</td>\n",
       "      <td>51070.5</td>\n",
       "      <td>291560.99</td>\n",
       "    </tr>\n",
       "    <tr>\n",
       "      <th>Moderate</th>\n",
       "      <td>1727.0</td>\n",
       "      <td>30045.118251</td>\n",
       "      <td>30115.492508</td>\n",
       "      <td>3998.83</td>\n",
       "      <td>10483.3300</td>\n",
       "      <td>19498.71</td>\n",
       "      <td>39526.0</td>\n",
       "      <td>275896.07</td>\n",
       "    </tr>\n",
       "  </tbody>\n",
       "</table>\n",
       "</div>"
      ],
      "text/plain": [
       "               count          mean           std      min         25%  \\\n",
       "booking_type                                                            \n",
       "Advanced      1266.0  24831.534297  21573.409999  2682.00   8178.5475   \n",
       "Last-minute    899.0  39073.099956  36159.496798  5810.54  14752.2750   \n",
       "Moderate      1727.0  30045.118251  30115.492508  3998.83  10483.3300   \n",
       "\n",
       "                   50%      75%        max  \n",
       "booking_type                                \n",
       "Advanced      16206.00  38111.0  104723.00  \n",
       "Last-minute   25450.00  51070.5  291560.99  \n",
       "Moderate      19498.71  39526.0  275896.07  "
      ]
     },
     "execution_count": 27,
     "metadata": {},
     "output_type": "execute_result"
    }
   ],
   "source": [
    "booking_type_stats = data.groupby('booking_type')['price'].describe()\n",
    "booking_type_stats"
   ]
  },
  {
   "cell_type": "code",
   "execution_count": 28,
   "id": "b563b214-435b-4e30-8ee6-91740cddadc3",
   "metadata": {},
   "outputs": [
    {
     "data": {
      "image/png": "[encoded data removed]",
      "text/plain": [
       "<Figure size 1000x800 with 1 Axes>"
      ]
     },
     "metadata": {},
     "output_type": "display_data"
    }
   ],
   "source": [
    "plt.figure(figsize=(10, 8))\n",
    "sns.boxplot(data=data, x='booking_type', y='price')\n",
    "plt.title('Ticket Price vs Booking Type')\n",
    "plt.xlabel('Booking Type')\n",
    "plt.ylabel('Ticket Price')\n",
    "plt.show()"
   ]
  },
  {
   "cell_type": "markdown",
   "id": "0ad65ea2-6799-46bf-a802-94f77f3a50f4",
   "metadata": {},
   "source": [
    "#### price vs travel type"
   ]
  },
  {
   "cell_type": "code",
   "execution_count": 29,
   "id": "00e6cbc6-40c8-4fb6-8714-ff2da6678a5e",
   "metadata": {},
   "outputs": [
    {
     "data": {
      "text/html": [
       "<div>\n",
       "<style scoped>\n",
       "    .dataframe tbody tr th:only-of-type {\n",
       "        vertical-align: middle;\n",
       "    }\n",
       "\n",
       "    .dataframe tbody tr th {\n",
       "        vertical-align: top;\n",
       "    }\n",
       "\n",
       "    .dataframe thead th {\n",
       "        text-align: right;\n",
       "    }\n",
       "</style>\n",
       "<table border=\"1\" class=\"dataframe\">\n",
       "  <thead>\n",
       "    <tr style=\"text-align: right;\">\n",
       "      <th></th>\n",
       "      <th>count</th>\n",
       "      <th>mean</th>\n",
       "      <th>std</th>\n",
       "      <th>min</th>\n",
       "      <th>25%</th>\n",
       "      <th>50%</th>\n",
       "      <th>75%</th>\n",
       "      <th>max</th>\n",
       "    </tr>\n",
       "    <tr>\n",
       "      <th>travel_type</th>\n",
       "      <th></th>\n",
       "      <th></th>\n",
       "      <th></th>\n",
       "      <th></th>\n",
       "      <th></th>\n",
       "      <th></th>\n",
       "      <th></th>\n",
       "      <th></th>\n",
       "    </tr>\n",
       "  </thead>\n",
       "  <tbody>\n",
       "    <tr>\n",
       "      <th>Holiday</th>\n",
       "      <td>1233.0</td>\n",
       "      <td>29580.987299</td>\n",
       "      <td>26869.082644</td>\n",
       "      <td>3592.77</td>\n",
       "      <td>11118.22</td>\n",
       "      <td>19533.000</td>\n",
       "      <td>39575.86</td>\n",
       "      <td>257611.94</td>\n",
       "    </tr>\n",
       "    <tr>\n",
       "      <th>Weekday</th>\n",
       "      <td>1314.0</td>\n",
       "      <td>31091.277314</td>\n",
       "      <td>30008.631022</td>\n",
       "      <td>3161.00</td>\n",
       "      <td>9962.88</td>\n",
       "      <td>18639.405</td>\n",
       "      <td>41980.75</td>\n",
       "      <td>275896.07</td>\n",
       "    </tr>\n",
       "    <tr>\n",
       "      <th>Weekend</th>\n",
       "      <td>1345.0</td>\n",
       "      <td>30575.511353</td>\n",
       "      <td>31834.481095</td>\n",
       "      <td>2682.00</td>\n",
       "      <td>10492.24</td>\n",
       "      <td>19343.220</td>\n",
       "      <td>40004.00</td>\n",
       "      <td>291560.99</td>\n",
       "    </tr>\n",
       "  </tbody>\n",
       "</table>\n",
       "</div>"
      ],
      "text/plain": [
       "              count          mean           std      min       25%        50%  \\\n",
       "travel_type                                                                     \n",
       "Holiday      1233.0  29580.987299  26869.082644  3592.77  11118.22  19533.000   \n",
       "Weekday      1314.0  31091.277314  30008.631022  3161.00   9962.88  18639.405   \n",
       "Weekend      1345.0  30575.511353  31834.481095  2682.00  10492.24  19343.220   \n",
       "\n",
       "                  75%        max  \n",
       "travel_type                       \n",
       "Holiday      39575.86  257611.94  \n",
       "Weekday      41980.75  275896.07  \n",
       "Weekend      40004.00  291560.99  "
      ]
     },
     "execution_count": 29,
     "metadata": {},
     "output_type": "execute_result"
    }
   ],
   "source": [
    "travel_type_stats = data.groupby('travel_type')['price'].describe()\n",
    "travel_type_stats"
   ]
  },
  {
   "cell_type": "code",
   "execution_count": 30,
   "id": "24a9de3b-b8b4-49ac-8159-61aa8a8617ae",
   "metadata": {},
   "outputs": [
    {
     "data": {
      "image/png": "[encoded data removed]",
      "text/plain": [
       "<Figure size 1000x800 with 1 Axes>"
      ]
     },
     "metadata": {},
     "output_type": "display_data"
    }
   ],
   "source": [
    "plt.figure(figsize=(10, 8))\n",
    "sns.violinplot(data=data, x='travel_type', y='price')\n",
    "plt.title('Ticket Price vs Travel Type')\n",
    "plt.xlabel('Travel Type')\n",
    "plt.ylabel('Ticket Price')\n",
    "plt.show()"
   ]
  },
  {
   "cell_type": "markdown",
   "id": "1afc43c3-2652-4a46-b59f-df07a64d5e37",
   "metadata": {},
   "source": [
    "#### Ticket price vs Airline"
   ]
  },
  {
   "cell_type": "code",
   "execution_count": 31,
   "id": "c860ce33-fc32-4dc8-b0b6-6d7bcad143de",
   "metadata": {},
   "outputs": [],
   "source": [
    "average_price_by_airline = data.groupby('airline_name')['price'].mean().sort_values()\n",
    "average_price_df = average_price_by_airline.reset_index()"
   ]
  },
  {
   "cell_type": "code",
   "execution_count": 32,
   "id": "8dd229c5-091f-4357-8700-508219225857",
   "metadata": {},
   "outputs": [
    {
     "data": {
      "image/png": "[encoded data removed]",
      "text/plain": [
       "<Figure size 1000x800 with 1 Axes>"
      ]
     },
     "metadata": {},
     "output_type": "display_data"
    }
   ],
   "source": [
    "plt.figure(figsize=(10, 8))\n",
    "sns.barplot(data=average_price_df, x='airline_name', y='price')\n",
    "plt.title('Average Ticket Price by Airline', fontsize=16)\n",
    "plt.xlabel('Airline', fontsize=12)\n",
    "plt.ylabel('Average Ticket Price', fontsize=12)\n",
    "plt.xticks(rotation=45, fontsize=10) \n",
    "plt.yticks(fontsize=10)\n",
    "plt.show()"
   ]
  },
  {
   "cell_type": "markdown",
   "id": "b8e72415-5dc1-4c43-9a65-4583ef78821f",
   "metadata": {},
   "source": [
    "#### Price vs days_to_travel"
   ]
  },
  {
   "cell_type": "code",
   "execution_count": 33,
   "id": "4cf0d830-3a57-49f0-9d72-ed01d8dce473",
   "metadata": {},
   "outputs": [
    {
     "data": {
      "text/html": [
       "<div>\n",
       "<style scoped>\n",
       "    .dataframe tbody tr th:only-of-type {\n",
       "        vertical-align: middle;\n",
       "    }\n",
       "\n",
       "    .dataframe tbody tr th {\n",
       "        vertical-align: top;\n",
       "    }\n",
       "\n",
       "    .dataframe thead th {\n",
       "        text-align: right;\n",
       "    }\n",
       "</style>\n",
       "<table border=\"1\" class=\"dataframe\">\n",
       "  <thead>\n",
       "    <tr style=\"text-align: right;\">\n",
       "      <th></th>\n",
       "      <th>price</th>\n",
       "    </tr>\n",
       "    <tr>\n",
       "      <th>days_until_travel</th>\n",
       "      <th></th>\n",
       "    </tr>\n",
       "  </thead>\n",
       "  <tbody>\n",
       "    <tr>\n",
       "      <th>2</th>\n",
       "      <td>43228.431319</td>\n",
       "    </tr>\n",
       "    <tr>\n",
       "      <th>3</th>\n",
       "      <td>38467.152075</td>\n",
       "    </tr>\n",
       "    <tr>\n",
       "      <th>5</th>\n",
       "      <td>38449.556759</td>\n",
       "    </tr>\n",
       "    <tr>\n",
       "      <th>6</th>\n",
       "      <td>36050.402542</td>\n",
       "    </tr>\n",
       "    <tr>\n",
       "      <th>9</th>\n",
       "      <td>31706.890529</td>\n",
       "    </tr>\n",
       "    <tr>\n",
       "      <th>16</th>\n",
       "      <td>30463.065403</td>\n",
       "    </tr>\n",
       "    <tr>\n",
       "      <th>19</th>\n",
       "      <td>32612.163555</td>\n",
       "    </tr>\n",
       "    <tr>\n",
       "      <th>20</th>\n",
       "      <td>28375.815021</td>\n",
       "    </tr>\n",
       "    <tr>\n",
       "      <th>22</th>\n",
       "      <td>26897.462174</td>\n",
       "    </tr>\n",
       "    <tr>\n",
       "      <th>23</th>\n",
       "      <td>28669.201033</td>\n",
       "    </tr>\n",
       "    <tr>\n",
       "      <th>41</th>\n",
       "      <td>26399.689316</td>\n",
       "    </tr>\n",
       "    <tr>\n",
       "      <th>50</th>\n",
       "      <td>24584.053224</td>\n",
       "    </tr>\n",
       "    <tr>\n",
       "      <th>51</th>\n",
       "      <td>23744.177524</td>\n",
       "    </tr>\n",
       "    <tr>\n",
       "      <th>54</th>\n",
       "      <td>23685.772884</td>\n",
       "    </tr>\n",
       "    <tr>\n",
       "      <th>55</th>\n",
       "      <td>24435.945259</td>\n",
       "    </tr>\n",
       "  </tbody>\n",
       "</table>\n",
       "</div>"
      ],
      "text/plain": [
       "                          price\n",
       "days_until_travel              \n",
       "2                  43228.431319\n",
       "3                  38467.152075\n",
       "5                  38449.556759\n",
       "6                  36050.402542\n",
       "9                  31706.890529\n",
       "16                 30463.065403\n",
       "19                 32612.163555\n",
       "20                 28375.815021\n",
       "22                 26897.462174\n",
       "23                 28669.201033\n",
       "41                 26399.689316\n",
       "50                 24584.053224\n",
       "51                 23744.177524\n",
       "54                 23685.772884\n",
       "55                 24435.945259"
      ]
     },
     "execution_count": 33,
     "metadata": {},
     "output_type": "execute_result"
    }
   ],
   "source": [
    "pivot_table = pd.pivot_table(data, values='price', index='days_until_travel')\n",
    "pivot_table"
   ]
  },
  {
   "cell_type": "code",
   "execution_count": 34,
   "id": "6cbe59a7-dfd3-4e4f-885a-db2c9ab6a7cd",
   "metadata": {},
   "outputs": [
    {
     "ename": "NameError",
     "evalue": "name 'price_trend' is not defined",
     "output_type": "error",
     "traceback": [
      "\u001b[1;31m---------------------------------------------------------------------------\u001b[0m",
      "\u001b[1;31mNameError\u001b[0m                                 Traceback (most recent call last)",
      "Cell \u001b[1;32mIn[34], line 2\u001b[0m\n\u001b[0;32m      1\u001b[0m plt\u001b[38;5;241m.\u001b[39mfigure(figsize\u001b[38;5;241m=\u001b[39m(\u001b[38;5;241m10\u001b[39m, \u001b[38;5;241m8\u001b[39m))\n\u001b[1;32m----> 2\u001b[0m sns\u001b[38;5;241m.\u001b[39mlineplot(data\u001b[38;5;241m=\u001b[39mprice_trend, x\u001b[38;5;241m=\u001b[39m\u001b[38;5;124m'\u001b[39m\u001b[38;5;124mdays_until_travel\u001b[39m\u001b[38;5;124m'\u001b[39m, y\u001b[38;5;241m=\u001b[39m\u001b[38;5;124m'\u001b[39m\u001b[38;5;124mprice\u001b[39m\u001b[38;5;124m'\u001b[39m, marker\u001b[38;5;241m=\u001b[39m\u001b[38;5;124m'\u001b[39m\u001b[38;5;124mo\u001b[39m\u001b[38;5;124m'\u001b[39m)\n\u001b[0;32m      3\u001b[0m plt\u001b[38;5;241m.\u001b[39mtitle(\u001b[38;5;124m'\u001b[39m\u001b[38;5;124mTicket Price Trend as Travel Date Approaches\u001b[39m\u001b[38;5;124m'\u001b[39m)\n\u001b[0;32m      4\u001b[0m plt\u001b[38;5;241m.\u001b[39mxlabel(\u001b[38;5;124m'\u001b[39m\u001b[38;5;124mDays until Travel\u001b[39m\u001b[38;5;124m'\u001b[39m)\n",
      "\u001b[1;31mNameError\u001b[0m: name 'price_trend' is not defined"
     ]
    },
    {
     "data": {
      "text/plain": [
       "<Figure size 1000x800 with 0 Axes>"
      ]
     },
     "metadata": {},
     "output_type": "display_data"
    }
   ],
   "source": [
    "plt.figure(figsize=(10, 8))\n",
    "sns.lineplot(data=price_trend, x='days_until_travel', y='price', marker='o')\n",
    "plt.title('Ticket Price Trend as Travel Date Approaches')\n",
    "plt.xlabel('Days until Travel')\n",
    "plt.ylabel('Average Ticket Price')\n",
    "plt.show()"
   ]
  },
  {
   "cell_type": "markdown",
   "id": "617009be-a518-4ccf-85fc-f33ba5cc4c0a",
   "metadata": {},
   "source": [
    "## price vs Route"
   ]
  },
  {
   "cell_type": "code",
   "execution_count": null,
   "id": "f5103258-6ecd-4299-b81a-c15cb7ca38cc",
   "metadata": {},
   "outputs": [],
   "source": [
    "pivot_table = pd.pivot_table(data, values='price', index='route')\n",
    "pivot_table"
   ]
  },
  {
   "cell_type": "code",
   "execution_count": null,
   "id": "ec8a3f90-65e5-4e87-851e-4c45fb86a184",
   "metadata": {},
   "outputs": [],
   "source": [
    "plt.figure(figsize=(10, 8))\n",
    "sns.boxplot(data=data, x='route', y='price')\n",
    "plt.title('Ticket Price by Route', fontsize=16)\n",
    "plt.xlabel('Route', fontsize=12)\n",
    "plt.ylabel('Ticket Price', fontsize=12)\n",
    "plt.xticks(rotation=45, fontsize=10)\n",
    "plt.yticks(fontsize=10)\n",
    "plt.show()"
   ]
  },
  {
   "cell_type": "markdown",
   "id": "99384e1c-1055-4955-962f-b422461885dc",
   "metadata": {},
   "source": [
    "## price vs Cabin class"
   ]
  },
  {
   "cell_type": "code",
   "execution_count": null,
   "id": "aeae3b2b-dd84-4bc2-b94e-7ad252e85ebe",
   "metadata": {},
   "outputs": [],
   "source": [
    "pivot_table = pd.pivot_table(data, values='price', index='cabin_class')\n",
    "pivot_table"
   ]
  },
  {
   "cell_type": "code",
   "execution_count": null,
   "id": "406342c6-9e4f-4c7a-a5b6-fa36e696c5db",
   "metadata": {},
   "outputs": [],
   "source": [
    "plt.figure(figsize=(12, 6))\n",
    "sns.barplot(data=data, x='cabin_class', y='price')\n",
    "plt.title('Average Ticket Price by Cabin Class', fontsize=16)\n",
    "plt.xlabel('Cabin Class', fontsize=12)\n",
    "plt.ylabel('Average Ticket Price', fontsize=12)\n",
    "plt.xticks(fontsize=10)\n",
    "plt.yticks(fontsize=10)\n",
    "plt.show()"
   ]
  },
  {
   "cell_type": "markdown",
   "id": "3329ae30-553e-46a1-8d8f-5a90256738f6",
   "metadata": {},
   "source": [
    "## Price vs Stops"
   ]
  },
  {
   "cell_type": "code",
   "execution_count": null,
   "id": "5bfc8685-d4c4-434a-a310-90ac8f120987",
   "metadata": {},
   "outputs": [],
   "source": [
    "pivot_table = pd.pivot_table(data, values='price', index='stops')\n",
    "pivot_table"
   ]
  },
  {
   "cell_type": "code",
   "execution_count": null,
   "id": "4c1843fe-afa9-4956-a85c-46eada19d6f2",
   "metadata": {},
   "outputs": [],
   "source": [
    "plt.figure(figsize=(8, 5))\n",
    "sns.boxplot(x='stops', y='price', data=data)\n",
    "plt.title('Ticket Price vs Number of Stops')\n",
    "plt.xlabel('Number of Stops')\n",
    "plt.ylabel('Ticket Price')\n",
    "plt.show()"
   ]
  },
  {
   "cell_type": "markdown",
   "id": "9d89ff48-d8ed-4f4f-ae21-c01b062b8a5f",
   "metadata": {},
   "source": [
    "## Multivariate Analysis"
   ]
  },
  {
   "cell_type": "markdown",
   "id": "25a35809-682c-4209-aaa0-13daa8014505",
   "metadata": {},
   "source": [
    "## price vs cabin class and stops"
   ]
  },
  {
   "cell_type": "code",
   "execution_count": null,
   "id": "2441ef8c-e6c1-4d76-92cc-31b5df71930d",
   "metadata": {},
   "outputs": [],
   "source": [
    "price_analysis = data.groupby(['stops', 'cabin_class'])['price'].mean().reset_index()\n",
    "price_analysis"
   ]
  },
  {
   "cell_type": "code",
   "execution_count": 35,
   "id": "455d5a15-a2b3-4c1a-b27a-5fe0d7bd9eb4",
   "metadata": {},
   "outputs": [
    {
     "ename": "NameError",
     "evalue": "name 'price_analysis' is not defined",
     "output_type": "error",
     "traceback": [
      "\u001b[1;31m---------------------------------------------------------------------------\u001b[0m",
      "\u001b[1;31mNameError\u001b[0m                                 Traceback (most recent call last)",
      "Cell \u001b[1;32mIn[35], line 2\u001b[0m\n\u001b[0;32m      1\u001b[0m plt\u001b[38;5;241m.\u001b[39mfigure(figsize\u001b[38;5;241m=\u001b[39m(\u001b[38;5;241m12\u001b[39m, \u001b[38;5;241m7\u001b[39m))\n\u001b[1;32m----> 2\u001b[0m sns\u001b[38;5;241m.\u001b[39mbarplot(data\u001b[38;5;241m=\u001b[39mprice_analysis, x\u001b[38;5;241m=\u001b[39m\u001b[38;5;124m'\u001b[39m\u001b[38;5;124mstops\u001b[39m\u001b[38;5;124m'\u001b[39m, y\u001b[38;5;241m=\u001b[39m\u001b[38;5;124m'\u001b[39m\u001b[38;5;124mprice\u001b[39m\u001b[38;5;124m'\u001b[39m, hue\u001b[38;5;241m=\u001b[39m\u001b[38;5;124m'\u001b[39m\u001b[38;5;124mcabin_class\u001b[39m\u001b[38;5;124m'\u001b[39m)\n\u001b[0;32m      3\u001b[0m plt\u001b[38;5;241m.\u001b[39mtitle(\u001b[38;5;124m'\u001b[39m\u001b[38;5;124mAverage Ticket Price vs Number of Stops and Cabin Class\u001b[39m\u001b[38;5;124m'\u001b[39m, fontsize\u001b[38;5;241m=\u001b[39m\u001b[38;5;241m16\u001b[39m)\n\u001b[0;32m      4\u001b[0m plt\u001b[38;5;241m.\u001b[39mxlabel(\u001b[38;5;124m'\u001b[39m\u001b[38;5;124mNumber of Stops\u001b[39m\u001b[38;5;124m'\u001b[39m, fontsize\u001b[38;5;241m=\u001b[39m\u001b[38;5;241m12\u001b[39m)\n",
      "\u001b[1;31mNameError\u001b[0m: name 'price_analysis' is not defined"
     ]
    },
    {
     "data": {
      "text/plain": [
       "<Figure size 1200x700 with 0 Axes>"
      ]
     },
     "metadata": {},
     "output_type": "display_data"
    }
   ],
   "source": [
    "plt.figure(figsize=(12, 7))\n",
    "sns.barplot(data=price_analysis, x='stops', y='price', hue='cabin_class')\n",
    "plt.title('Average Ticket Price vs Number of Stops and Cabin Class', fontsize=16)\n",
    "plt.xlabel('Number of Stops', fontsize=12)\n",
    "plt.ylabel('Average Ticket Price', fontsize=12)\n",
    "plt.legend(title='Cabin Class', fontsize=10, title_fontsize=12)\n",
    "plt.xticks(fontsize=10)\n",
    "plt.yticks(fontsize=10)\n",
    "plt.grid(axis='y', linestyle='--', alpha=0.7)\n",
    "plt.show()"
   ]
  },
  {
   "cell_type": "markdown",
   "id": "36ba91e6-b232-4511-b23b-2fafbfd1315e",
   "metadata": {},
   "source": [
    "## price vs stops and travel_type"
   ]
  },
  {
   "cell_type": "code",
   "execution_count": 36,
   "id": "c84646c1-1423-4ab2-9225-8326bc89ddcb",
   "metadata": {},
   "outputs": [
    {
     "data": {
      "text/html": [
       "<div>\n",
       "<style scoped>\n",
       "    .dataframe tbody tr th:only-of-type {\n",
       "        vertical-align: middle;\n",
       "    }\n",
       "\n",
       "    .dataframe tbody tr th {\n",
       "        vertical-align: top;\n",
       "    }\n",
       "\n",
       "    .dataframe thead th {\n",
       "        text-align: right;\n",
       "    }\n",
       "</style>\n",
       "<table border=\"1\" class=\"dataframe\">\n",
       "  <thead>\n",
       "    <tr style=\"text-align: right;\">\n",
       "      <th>stops</th>\n",
       "      <th>1 stop</th>\n",
       "      <th>2 stops</th>\n",
       "      <th>3 stops</th>\n",
       "      <th>Direct</th>\n",
       "    </tr>\n",
       "    <tr>\n",
       "      <th>travel_type</th>\n",
       "      <th></th>\n",
       "      <th></th>\n",
       "      <th></th>\n",
       "      <th></th>\n",
       "    </tr>\n",
       "  </thead>\n",
       "  <tbody>\n",
       "    <tr>\n",
       "      <th>Holiday</th>\n",
       "      <td>35730.798698</td>\n",
       "      <td>30206.948182</td>\n",
       "      <td>37415.33</td>\n",
       "      <td>19122.322693</td>\n",
       "    </tr>\n",
       "    <tr>\n",
       "      <th>Weekday</th>\n",
       "      <td>41949.482284</td>\n",
       "      <td>30118.250000</td>\n",
       "      <td>NaN</td>\n",
       "      <td>18444.760959</td>\n",
       "    </tr>\n",
       "    <tr>\n",
       "      <th>Weekend</th>\n",
       "      <td>41773.636906</td>\n",
       "      <td>24745.345714</td>\n",
       "      <td>NaN</td>\n",
       "      <td>18535.253033</td>\n",
       "    </tr>\n",
       "  </tbody>\n",
       "</table>\n",
       "</div>"
      ],
      "text/plain": [
       "stops              1 stop       2 stops   3 stops        Direct\n",
       "travel_type                                                    \n",
       "Holiday      35730.798698  30206.948182  37415.33  19122.322693\n",
       "Weekday      41949.482284  30118.250000       NaN  18444.760959\n",
       "Weekend      41773.636906  24745.345714       NaN  18535.253033"
      ]
     },
     "execution_count": 36,
     "metadata": {},
     "output_type": "execute_result"
    }
   ],
   "source": [
    "travel_stop_data = data.groupby(['travel_type', 'stops'])['price'].mean().unstack()\n",
    "travel_stop_data"
   ]
  },
  {
   "cell_type": "code",
   "execution_count": 37,
   "id": "321e386c-72e8-405f-aadd-81f804988314",
   "metadata": {},
   "outputs": [
    {
     "data": {
      "image/png": "[encoded data removed]",
      "text/plain": [
       "<Figure size 1200x600 with 1 Axes>"
      ]
     },
     "metadata": {},
     "output_type": "display_data"
    }
   ],
   "source": [
    "travel_stop_data.plot(kind='bar', stacked=True, figsize=(12, 6))\n",
    "plt.title('Average Ticket Price by Travel Type and Number of Stops', fontsize=16)\n",
    "plt.xlabel('Travel Type', fontsize=12)\n",
    "plt.ylabel('Average Ticket Price', fontsize=12)\n",
    "plt.legend(title='Number of Stops', fontsize=10, title_fontsize=12)\n",
    "plt.xticks(fontsize=10, rotation=0)\n",
    "plt.yticks(fontsize=10)\n",
    "plt.grid(axis='y', linestyle='--', alpha=0.7)\n",
    "plt.show()"
   ]
  },
  {
   "cell_type": "markdown",
   "id": "2cc09b09-a57c-4405-9e67-bd01f35b2f55",
   "metadata": {},
   "source": [
    "## price vs route and booking_type"
   ]
  },
  {
   "cell_type": "code",
   "execution_count": 41,
   "id": "26374aad-3ddb-44ea-9594-089baf4d3d3f",
   "metadata": {},
   "outputs": [
    {
     "ename": "KeyError",
     "evalue": "'route'",
     "output_type": "error",
     "traceback": [
      "\u001b[1;31m---------------------------------------------------------------------------\u001b[0m",
      "\u001b[1;31mKeyError\u001b[0m                                  Traceback (most recent call last)",
      "Cell \u001b[1;32mIn[41], line 1\u001b[0m\n\u001b[1;32m----> 1\u001b[0m route_booking_pivot \u001b[38;5;241m=\u001b[39m data\u001b[38;5;241m.\u001b[39mpivot_table(\n\u001b[0;32m      2\u001b[0m     values\u001b[38;5;241m=\u001b[39m\u001b[38;5;124m'\u001b[39m\u001b[38;5;124mprice\u001b[39m\u001b[38;5;124m'\u001b[39m,\n\u001b[0;32m      3\u001b[0m     index\u001b[38;5;241m=\u001b[39m\u001b[38;5;124m\"\u001b[39m\u001b[38;5;124mroute\u001b[39m\u001b[38;5;124m\"\u001b[39m,\n\u001b[0;32m      4\u001b[0m     columns\u001b[38;5;241m=\u001b[39m\u001b[38;5;124m'\u001b[39m\u001b[38;5;124mbooking_type\u001b[39m\u001b[38;5;124m'\u001b[39m, \n\u001b[0;32m      5\u001b[0m     aggfunc\u001b[38;5;241m=\u001b[39m\u001b[38;5;124m'\u001b[39m\u001b[38;5;124mmean\u001b[39m\u001b[38;5;124m'\u001b[39m\n\u001b[0;32m      6\u001b[0m )\n\u001b[0;32m      7\u001b[0m route_booking_pivot\n",
      "File \u001b[1;32m~\\anaconda3\\Lib\\site-packages\\pandas\\core\\frame.py:8731\u001b[0m, in \u001b[0;36mDataFrame.pivot_table\u001b[1;34m(self, values, index, columns, aggfunc, fill_value, margins, dropna, margins_name, observed, sort)\u001b[0m\n\u001b[0;32m   8714\u001b[0m \u001b[38;5;129m@Substitution\u001b[39m(\u001b[38;5;124m\"\u001b[39m\u001b[38;5;124m\"\u001b[39m)\n\u001b[0;32m   8715\u001b[0m \u001b[38;5;129m@Appender\u001b[39m(_shared_docs[\u001b[38;5;124m\"\u001b[39m\u001b[38;5;124mpivot_table\u001b[39m\u001b[38;5;124m\"\u001b[39m])\n\u001b[0;32m   8716\u001b[0m \u001b[38;5;28;01mdef\u001b[39;00m \u001b[38;5;21mpivot_table\u001b[39m(\n\u001b[1;32m   (...)\u001b[0m\n\u001b[0;32m   8727\u001b[0m     sort\u001b[38;5;241m=\u001b[39m\u001b[38;5;28;01mTrue\u001b[39;00m,\n\u001b[0;32m   8728\u001b[0m ) \u001b[38;5;241m-\u001b[39m\u001b[38;5;241m>\u001b[39m DataFrame:\n\u001b[0;32m   8729\u001b[0m     \u001b[38;5;28;01mfrom\u001b[39;00m \u001b[38;5;21;01mpandas\u001b[39;00m\u001b[38;5;21;01m.\u001b[39;00m\u001b[38;5;21;01mcore\u001b[39;00m\u001b[38;5;21;01m.\u001b[39;00m\u001b[38;5;21;01mreshape\u001b[39;00m\u001b[38;5;21;01m.\u001b[39;00m\u001b[38;5;21;01mpivot\u001b[39;00m \u001b[38;5;28;01mimport\u001b[39;00m pivot_table\n\u001b[1;32m-> 8731\u001b[0m     \u001b[38;5;28;01mreturn\u001b[39;00m pivot_table(\n\u001b[0;32m   8732\u001b[0m         \u001b[38;5;28mself\u001b[39m,\n\u001b[0;32m   8733\u001b[0m         values\u001b[38;5;241m=\u001b[39mvalues,\n\u001b[0;32m   8734\u001b[0m         index\u001b[38;5;241m=\u001b[39mindex,\n\u001b[0;32m   8735\u001b[0m         columns\u001b[38;5;241m=\u001b[39mcolumns,\n\u001b[0;32m   8736\u001b[0m         aggfunc\u001b[38;5;241m=\u001b[39maggfunc,\n\u001b[0;32m   8737\u001b[0m         fill_value\u001b[38;5;241m=\u001b[39mfill_value,\n\u001b[0;32m   8738\u001b[0m         margins\u001b[38;5;241m=\u001b[39mmargins,\n\u001b[0;32m   8739\u001b[0m         dropna\u001b[38;5;241m=\u001b[39mdropna,\n\u001b[0;32m   8740\u001b[0m         margins_name\u001b[38;5;241m=\u001b[39mmargins_name,\n\u001b[0;32m   8741\u001b[0m         observed\u001b[38;5;241m=\u001b[39mobserved,\n\u001b[0;32m   8742\u001b[0m         sort\u001b[38;5;241m=\u001b[39msort,\n\u001b[0;32m   8743\u001b[0m     )\n",
      "File \u001b[1;32m~\\anaconda3\\Lib\\site-packages\\pandas\\core\\reshape\\pivot.py:97\u001b[0m, in \u001b[0;36mpivot_table\u001b[1;34m(data, values, index, columns, aggfunc, fill_value, margins, dropna, margins_name, observed, sort)\u001b[0m\n\u001b[0;32m     94\u001b[0m     table \u001b[38;5;241m=\u001b[39m concat(pieces, keys\u001b[38;5;241m=\u001b[39mkeys, axis\u001b[38;5;241m=\u001b[39m\u001b[38;5;241m1\u001b[39m)\n\u001b[0;32m     95\u001b[0m     \u001b[38;5;28;01mreturn\u001b[39;00m table\u001b[38;5;241m.\u001b[39m__finalize__(data, method\u001b[38;5;241m=\u001b[39m\u001b[38;5;124m\"\u001b[39m\u001b[38;5;124mpivot_table\u001b[39m\u001b[38;5;124m\"\u001b[39m)\n\u001b[1;32m---> 97\u001b[0m table \u001b[38;5;241m=\u001b[39m __internal_pivot_table(\n\u001b[0;32m     98\u001b[0m     data,\n\u001b[0;32m     99\u001b[0m     values,\n\u001b[0;32m    100\u001b[0m     index,\n\u001b[0;32m    101\u001b[0m     columns,\n\u001b[0;32m    102\u001b[0m     aggfunc,\n\u001b[0;32m    103\u001b[0m     fill_value,\n\u001b[0;32m    104\u001b[0m     margins,\n\u001b[0;32m    105\u001b[0m     dropna,\n\u001b[0;32m    106\u001b[0m     margins_name,\n\u001b[0;32m    107\u001b[0m     observed,\n\u001b[0;32m    108\u001b[0m     sort,\n\u001b[0;32m    109\u001b[0m )\n\u001b[0;32m    110\u001b[0m \u001b[38;5;28;01mreturn\u001b[39;00m table\u001b[38;5;241m.\u001b[39m__finalize__(data, method\u001b[38;5;241m=\u001b[39m\u001b[38;5;124m\"\u001b[39m\u001b[38;5;124mpivot_table\u001b[39m\u001b[38;5;124m\"\u001b[39m)\n",
      "File \u001b[1;32m~\\anaconda3\\Lib\\site-packages\\pandas\\core\\reshape\\pivot.py:166\u001b[0m, in \u001b[0;36m__internal_pivot_table\u001b[1;34m(data, values, index, columns, aggfunc, fill_value, margins, dropna, margins_name, observed, sort)\u001b[0m\n\u001b[0;32m    163\u001b[0m             \u001b[38;5;28;01mpass\u001b[39;00m\n\u001b[0;32m    164\u001b[0m     values \u001b[38;5;241m=\u001b[39m \u001b[38;5;28mlist\u001b[39m(values)\n\u001b[1;32m--> 166\u001b[0m grouped \u001b[38;5;241m=\u001b[39m data\u001b[38;5;241m.\u001b[39mgroupby(keys, observed\u001b[38;5;241m=\u001b[39mobserved, sort\u001b[38;5;241m=\u001b[39msort)\n\u001b[0;32m    167\u001b[0m msg \u001b[38;5;241m=\u001b[39m (\n\u001b[0;32m    168\u001b[0m     \u001b[38;5;124m\"\u001b[39m\u001b[38;5;124mpivot_table dropped a column because it failed to aggregate. This behavior \u001b[39m\u001b[38;5;124m\"\u001b[39m\n\u001b[0;32m    169\u001b[0m     \u001b[38;5;124m\"\u001b[39m\u001b[38;5;124mis deprecated and will raise in a future version of pandas. Select only the \u001b[39m\u001b[38;5;124m\"\u001b[39m\n\u001b[0;32m    170\u001b[0m     \u001b[38;5;124m\"\u001b[39m\u001b[38;5;124mcolumns that can be aggregated.\u001b[39m\u001b[38;5;124m\"\u001b[39m\n\u001b[0;32m    171\u001b[0m )\n\u001b[0;32m    172\u001b[0m \u001b[38;5;28;01mwith\u001b[39;00m rewrite_warning(\n\u001b[0;32m    173\u001b[0m     target_message\u001b[38;5;241m=\u001b[39m\u001b[38;5;124m\"\u001b[39m\u001b[38;5;124mThe default value of numeric_only\u001b[39m\u001b[38;5;124m\"\u001b[39m,\n\u001b[0;32m    174\u001b[0m     target_category\u001b[38;5;241m=\u001b[39m\u001b[38;5;167;01mFutureWarning\u001b[39;00m,\n\u001b[0;32m    175\u001b[0m     new_message\u001b[38;5;241m=\u001b[39mmsg,\n\u001b[0;32m    176\u001b[0m ):\n",
      "File \u001b[1;32m~\\anaconda3\\Lib\\site-packages\\pandas\\core\\frame.py:8402\u001b[0m, in \u001b[0;36mDataFrame.groupby\u001b[1;34m(self, by, axis, level, as_index, sort, group_keys, squeeze, observed, dropna)\u001b[0m\n\u001b[0;32m   8399\u001b[0m     \u001b[38;5;28;01mraise\u001b[39;00m \u001b[38;5;167;01mTypeError\u001b[39;00m(\u001b[38;5;124m\"\u001b[39m\u001b[38;5;124mYou have to supply one of \u001b[39m\u001b[38;5;124m'\u001b[39m\u001b[38;5;124mby\u001b[39m\u001b[38;5;124m'\u001b[39m\u001b[38;5;124m and \u001b[39m\u001b[38;5;124m'\u001b[39m\u001b[38;5;124mlevel\u001b[39m\u001b[38;5;124m'\u001b[39m\u001b[38;5;124m\"\u001b[39m)\n\u001b[0;32m   8400\u001b[0m axis \u001b[38;5;241m=\u001b[39m \u001b[38;5;28mself\u001b[39m\u001b[38;5;241m.\u001b[39m_get_axis_number(axis)\n\u001b[1;32m-> 8402\u001b[0m \u001b[38;5;28;01mreturn\u001b[39;00m DataFrameGroupBy(\n\u001b[0;32m   8403\u001b[0m     obj\u001b[38;5;241m=\u001b[39m\u001b[38;5;28mself\u001b[39m,\n\u001b[0;32m   8404\u001b[0m     keys\u001b[38;5;241m=\u001b[39mby,\n\u001b[0;32m   8405\u001b[0m     axis\u001b[38;5;241m=\u001b[39maxis,\n\u001b[0;32m   8406\u001b[0m     level\u001b[38;5;241m=\u001b[39mlevel,\n\u001b[0;32m   8407\u001b[0m     as_index\u001b[38;5;241m=\u001b[39mas_index,\n\u001b[0;32m   8408\u001b[0m     sort\u001b[38;5;241m=\u001b[39msort,\n\u001b[0;32m   8409\u001b[0m     group_keys\u001b[38;5;241m=\u001b[39mgroup_keys,\n\u001b[0;32m   8410\u001b[0m     squeeze\u001b[38;5;241m=\u001b[39msqueeze,\n\u001b[0;32m   8411\u001b[0m     observed\u001b[38;5;241m=\u001b[39mobserved,\n\u001b[0;32m   8412\u001b[0m     dropna\u001b[38;5;241m=\u001b[39mdropna,\n\u001b[0;32m   8413\u001b[0m )\n",
      "File \u001b[1;32m~\\anaconda3\\Lib\\site-packages\\pandas\\core\\groupby\\groupby.py:965\u001b[0m, in \u001b[0;36mGroupBy.__init__\u001b[1;34m(self, obj, keys, axis, level, grouper, exclusions, selection, as_index, sort, group_keys, squeeze, observed, mutated, dropna)\u001b[0m\n\u001b[0;32m    962\u001b[0m \u001b[38;5;28;01mif\u001b[39;00m grouper \u001b[38;5;129;01mis\u001b[39;00m \u001b[38;5;28;01mNone\u001b[39;00m:\n\u001b[0;32m    963\u001b[0m     \u001b[38;5;28;01mfrom\u001b[39;00m \u001b[38;5;21;01mpandas\u001b[39;00m\u001b[38;5;21;01m.\u001b[39;00m\u001b[38;5;21;01mcore\u001b[39;00m\u001b[38;5;21;01m.\u001b[39;00m\u001b[38;5;21;01mgroupby\u001b[39;00m\u001b[38;5;21;01m.\u001b[39;00m\u001b[38;5;21;01mgrouper\u001b[39;00m \u001b[38;5;28;01mimport\u001b[39;00m get_grouper\n\u001b[1;32m--> 965\u001b[0m     grouper, exclusions, obj \u001b[38;5;241m=\u001b[39m get_grouper(\n\u001b[0;32m    966\u001b[0m         obj,\n\u001b[0;32m    967\u001b[0m         keys,\n\u001b[0;32m    968\u001b[0m         axis\u001b[38;5;241m=\u001b[39maxis,\n\u001b[0;32m    969\u001b[0m         level\u001b[38;5;241m=\u001b[39mlevel,\n\u001b[0;32m    970\u001b[0m         sort\u001b[38;5;241m=\u001b[39msort,\n\u001b[0;32m    971\u001b[0m         observed\u001b[38;5;241m=\u001b[39mobserved,\n\u001b[0;32m    972\u001b[0m         mutated\u001b[38;5;241m=\u001b[39m\u001b[38;5;28mself\u001b[39m\u001b[38;5;241m.\u001b[39mmutated,\n\u001b[0;32m    973\u001b[0m         dropna\u001b[38;5;241m=\u001b[39m\u001b[38;5;28mself\u001b[39m\u001b[38;5;241m.\u001b[39mdropna,\n\u001b[0;32m    974\u001b[0m     )\n\u001b[0;32m    976\u001b[0m \u001b[38;5;28mself\u001b[39m\u001b[38;5;241m.\u001b[39mobj \u001b[38;5;241m=\u001b[39m obj\n\u001b[0;32m    977\u001b[0m \u001b[38;5;28mself\u001b[39m\u001b[38;5;241m.\u001b[39maxis \u001b[38;5;241m=\u001b[39m obj\u001b[38;5;241m.\u001b[39m_get_axis_number(axis)\n",
      "File \u001b[1;32m~\\anaconda3\\Lib\\site-packages\\pandas\\core\\groupby\\grouper.py:888\u001b[0m, in \u001b[0;36mget_grouper\u001b[1;34m(obj, key, axis, level, sort, observed, mutated, validate, dropna)\u001b[0m\n\u001b[0;32m    886\u001b[0m         in_axis, level, gpr \u001b[38;5;241m=\u001b[39m \u001b[38;5;28;01mFalse\u001b[39;00m, gpr, \u001b[38;5;28;01mNone\u001b[39;00m\n\u001b[0;32m    887\u001b[0m     \u001b[38;5;28;01melse\u001b[39;00m:\n\u001b[1;32m--> 888\u001b[0m         \u001b[38;5;28;01mraise\u001b[39;00m \u001b[38;5;167;01mKeyError\u001b[39;00m(gpr)\n\u001b[0;32m    889\u001b[0m \u001b[38;5;28;01melif\u001b[39;00m \u001b[38;5;28misinstance\u001b[39m(gpr, Grouper) \u001b[38;5;129;01mand\u001b[39;00m gpr\u001b[38;5;241m.\u001b[39mkey \u001b[38;5;129;01mis\u001b[39;00m \u001b[38;5;129;01mnot\u001b[39;00m \u001b[38;5;28;01mNone\u001b[39;00m:\n\u001b[0;32m    890\u001b[0m     \u001b[38;5;66;03m# Add key to exclusions\u001b[39;00m\n\u001b[0;32m    891\u001b[0m     exclusions\u001b[38;5;241m.\u001b[39madd(gpr\u001b[38;5;241m.\u001b[39mkey)\n",
      "\u001b[1;31mKeyError\u001b[0m: 'route'"
     ]
    }
   ],
   "source": [
    "route_booking_pivot = data.pivot_table(\n",
    "    values='price',\n",
    "    index=\"route\",\n",
    "    columns='booking_type', \n",
    "    aggfunc='mean'\n",
    ")\n",
    "route_booking_pivot"
   ]
  },
  {
   "cell_type": "code",
   "execution_count": null,
   "id": "a3dc2e74-8e1e-4d05-920b-41a8fdd796df",
   "metadata": {},
   "outputs": [],
   "source": [
    "plt.figure(figsize=(15, 8))\n",
    "route_booking_pivot.plot(kind='bar', figsize=(15, 8), width=0.8)\n",
    "plt.title('Average Ticket Price by Routes and Booking Type', fontsize=16)\n",
    "plt.xlabel('Route', fontsize=12)\n",
    "plt.ylabel('Average Ticket Price', fontsize=12)\n",
    "plt.xticks(rotation=45, fontsize=10)\n",
    "plt.yticks(fontsize=10)\n",
    "plt.legend(title='Booking Type', fontsize=10, title_fontsize=12)\n",
    "plt.grid(axis='y', linestyle='--', alpha=0.7)\n",
    "plt.show()"
   ]
  },
  {
   "cell_type": "markdown",
   "id": "c0209019-c948-4d33-a2a3-ada2cb8157fa",
   "metadata": {},
   "source": [
    "## price vs cabin class and route"
   ]
  },
  {
   "cell_type": "code",
   "execution_count": null,
   "id": "4e46b341-6fe3-4260-b0fe-cf8c002badba",
   "metadata": {},
   "outputs": [],
   "source": [
    "pivot_table = data.pivot_table(\n",
    "    values='price', \n",
    "    index='route', \n",
    "    columns='cabin_class', \n",
    "    aggfunc='mean'\n",
    ")\n",
    "pivot_table"
   ]
  },
  {
   "cell_type": "code",
   "execution_count": null,
   "id": "713554a3-6920-41cf-b0fb-a99719fe2dfa",
   "metadata": {},
   "outputs": [],
   "source": [
    "plt.figure(figsize=(15, 8))\n",
    "sns.heatmap(pivot_table, annot=True, fmt='.2f', linewidths=0.5)\n",
    "plt.title('Average Ticket Price by Route and Cabin Class', fontsize=16)\n",
    "plt.xlabel('Cabin Class', fontsize=12)\n",
    "plt.ylabel('Route', fontsize=12)\n",
    "plt.xticks(fontsize=10)\n",
    "plt.yticks(fontsize=10)\n",
    "plt.show()"
   ]
  },
  {
   "cell_type": "markdown",
   "id": "b1aceff7-a660-4e4d-9a8b-ebc19ff8c953",
   "metadata": {},
   "source": [
    "## Ticket price vs booking_type and travel type"
   ]
  },
  {
   "cell_type": "code",
   "execution_count": null,
   "id": "2708c7ac-d0da-4c5f-8a70-8d23cb9328a3",
   "metadata": {},
   "outputs": [],
   "source": [
    "pivot_table = data.pivot_table(\n",
    "    values='price', \n",
    "    index='booking_type', \n",
    "    columns='travel_type', \n",
    "    aggfunc='mean'\n",
    ")\n",
    "pivot_table"
   ]
  },
  {
   "cell_type": "code",
   "execution_count": null,
   "id": "d8872261-ddc7-47a2-8b99-75a176d4f37e",
   "metadata": {},
   "outputs": [],
   "source": [
    "plt.figure(figsize=(15, 8))\n",
    "pivot_table.plot(kind='bar', figsize=(15, 8), width=0.8)\n",
    "plt.title('Average Ticket Price by Travel Type and Booking Type', fontsize=16)\n",
    "plt.xlabel('Booking Type', fontsize=12)\n",
    "plt.ylabel('Average Ticket Price', fontsize=12)\n",
    "plt.xticks(rotation=45, fontsize=10)\n",
    "plt.yticks(fontsize=10)\n",
    "plt.legend(title='Travel Type', fontsize=10, title_fontsize=12)\n",
    "plt.grid(axis='y', linestyle='--', alpha=0.7)\n",
    "plt.show()"
   ]
  },
  {
   "cell_type": "markdown",
   "id": "50559cae-033e-4972-bbb3-454c5331a54d",
   "metadata": {},
   "source": [
    "## Correlation"
   ]
  },
  {
   "cell_type": "code",
   "execution_count": null,
   "id": "c8995cf7-d237-4ab3-a097-7606d606e84e",
   "metadata": {},
   "outputs": [],
   "source": [
    "corr_matrix = data.select_dtypes(include=['float64', 'int64']).corr()\n",
    "corr_matrix"
   ]
  },
  {
   "cell_type": "code",
   "execution_count": null,
   "id": "160a731b-b120-448c-8128-bc22c78af5ed",
   "metadata": {},
   "outputs": [],
   "source": [
    "plt.figure(figsize=(10, 6))\n",
    "sns.heatmap(corr_matrix, annot=True, fmt='.2f', linewidths=0.5)\n",
    "plt.title('Correlation Matrix for Numerical Variables', fontsize=16)\n",
    "plt.xticks(fontsize=10)\n",
    "plt.yticks(fontsize=10)\n",
    "plt.show()"
   ]
  },
  {
   "cell_type": "code",
   "execution_count": null,
   "id": "1c78bd27-ccdf-48b0-8fba-57f03b0b49bb",
   "metadata": {},
   "outputs": [],
   "source": [
    "sns.pairplot(\n",
    "    data=data,\n",
    "    vars=['price', 'duration', 'days_until_travel'],\n",
    "    hue='stops',  \n",
    "    diag_kind='kde')\n",
    "plt.show()"
   ]
  },
  {
   "cell_type": "code",
   "execution_count": null,
   "id": "7bcf99f3-83aa-4ffd-86ac-a1e09a9188c0",
   "metadata": {},
   "outputs": [],
   "source": []
  },
  {
   "cell_type": "code",
   "execution_count": null,
   "id": "0849b7d3",
   "metadata": {},
   "outputs": [],
   "source": []
  },
  {
   "cell_type": "code",
   "execution_count": null,
   "id": "937f27d4",
   "metadata": {},
   "outputs": [],
   "source": []
  }
 ],
 "metadata": {
  "kernelspec": {
   "display_name": "Python 3 (ipykernel)",
   "language": "python",
   "name": "python3"
  },
  "language_info": {
   "codemirror_mode": {
    "name": "ipython",
    "version": 3
   },
   "file_extension": ".py",
   "mimetype": "text/x-python",
   "name": "python",
   "nbconvert_exporter": "python",
   "pygments_lexer": "ipython3",
   "version": "3.11.5"
  }
 },
 "nbformat": 4,
 "nbformat_minor": 5
}
