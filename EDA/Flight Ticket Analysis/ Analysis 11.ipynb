{
 "cells": [
  {
   "cell_type": "code",
   "execution_count": 1,
   "id": "f4d3f073-0ae2-4315-afcb-7293bee28065",
   "metadata": {},
   "outputs": [],
   "source": [
    "import numpy as np\n",
    "import pandas as pd\n",
    "import matplotlib.pyplot as plt\n",
    "import seaborn as sns\n",
    "import warnings \n",
    "warnings.filterwarnings(\"ignore\")\n",
    "from scipy import stats"
   ]
  },
  {
   "cell_type": "code",
   "execution_count": 2,
   "id": "c6316e51-c201-47a7-8c7a-6005391524e7",
   "metadata": {},
   "outputs": [],
   "source": [
    "data = pd.read_csv(\"Cleaned Data.csv\",index_col = \"Unnamed: 0\")"
   ]
  },
  {
   "cell_type": "code",
   "execution_count": 3,
   "id": "a9546938-b29a-4e69-a245-33d94964e16a",
   "metadata": {},
   "outputs": [
    {
     "data": {
      "text/html": [
       "<div>\n",
       "<style scoped>\n",
       "    .dataframe tbody tr th:only-of-type {\n",
       "        vertical-align: middle;\n",
       "    }\n",
       "\n",
       "    .dataframe tbody tr th {\n",
       "        vertical-align: top;\n",
       "    }\n",
       "\n",
       "    .dataframe thead th {\n",
       "        text-align: right;\n",
       "    }\n",
       "</style>\n",
       "<table border=\"1\" class=\"dataframe\">\n",
       "  <thead>\n",
       "    <tr style=\"text-align: right;\">\n",
       "      <th></th>\n",
       "      <th>price</th>\n",
       "      <th>airline_name</th>\n",
       "      <th>departure_city</th>\n",
       "      <th>arrival_city</th>\n",
       "      <th>travel_date</th>\n",
       "      <th>duration</th>\n",
       "      <th>stops</th>\n",
       "      <th>cabin_class</th>\n",
       "      <th>booking_date</th>\n",
       "      <th>days_until_travel</th>\n",
       "      <th>booking_type</th>\n",
       "      <th>travel_type</th>\n",
       "    </tr>\n",
       "  </thead>\n",
       "  <tbody>\n",
       "    <tr>\n",
       "      <th>0</th>\n",
       "      <td>29384.18</td>\n",
       "      <td>Air India</td>\n",
       "      <td>Delhi</td>\n",
       "      <td>Mumbai</td>\n",
       "      <td>2024-12-25</td>\n",
       "      <td>130</td>\n",
       "      <td>Direct</td>\n",
       "      <td>Business</td>\n",
       "      <td>2024-12-16</td>\n",
       "      <td>9</td>\n",
       "      <td>Moderate</td>\n",
       "      <td>Holiday</td>\n",
       "    </tr>\n",
       "    <tr>\n",
       "      <th>1</th>\n",
       "      <td>29382.40</td>\n",
       "      <td>Air India</td>\n",
       "      <td>Delhi</td>\n",
       "      <td>Mumbai</td>\n",
       "      <td>2024-12-25</td>\n",
       "      <td>145</td>\n",
       "      <td>Direct</td>\n",
       "      <td>Business</td>\n",
       "      <td>2024-12-16</td>\n",
       "      <td>9</td>\n",
       "      <td>Moderate</td>\n",
       "      <td>Holiday</td>\n",
       "    </tr>\n",
       "    <tr>\n",
       "      <th>2</th>\n",
       "      <td>37417.30</td>\n",
       "      <td>Air India</td>\n",
       "      <td>Delhi</td>\n",
       "      <td>Mumbai</td>\n",
       "      <td>2024-12-25</td>\n",
       "      <td>125</td>\n",
       "      <td>Direct</td>\n",
       "      <td>Business</td>\n",
       "      <td>2024-12-16</td>\n",
       "      <td>9</td>\n",
       "      <td>Moderate</td>\n",
       "      <td>Holiday</td>\n",
       "    </tr>\n",
       "    <tr>\n",
       "      <th>3</th>\n",
       "      <td>29384.18</td>\n",
       "      <td>Air India</td>\n",
       "      <td>Delhi</td>\n",
       "      <td>Mumbai</td>\n",
       "      <td>2024-12-25</td>\n",
       "      <td>135</td>\n",
       "      <td>Direct</td>\n",
       "      <td>Business</td>\n",
       "      <td>2024-12-16</td>\n",
       "      <td>9</td>\n",
       "      <td>Moderate</td>\n",
       "      <td>Holiday</td>\n",
       "    </tr>\n",
       "    <tr>\n",
       "      <th>4</th>\n",
       "      <td>29382.40</td>\n",
       "      <td>Air India</td>\n",
       "      <td>Delhi</td>\n",
       "      <td>Mumbai</td>\n",
       "      <td>2024-12-25</td>\n",
       "      <td>145</td>\n",
       "      <td>Direct</td>\n",
       "      <td>Business</td>\n",
       "      <td>2024-12-16</td>\n",
       "      <td>9</td>\n",
       "      <td>Moderate</td>\n",
       "      <td>Holiday</td>\n",
       "    </tr>\n",
       "    <tr>\n",
       "      <th>...</th>\n",
       "      <td>...</td>\n",
       "      <td>...</td>\n",
       "      <td>...</td>\n",
       "      <td>...</td>\n",
       "      <td>...</td>\n",
       "      <td>...</td>\n",
       "      <td>...</td>\n",
       "      <td>...</td>\n",
       "      <td>...</td>\n",
       "      <td>...</td>\n",
       "      <td>...</td>\n",
       "      <td>...</td>\n",
       "    </tr>\n",
       "    <tr>\n",
       "      <th>3887</th>\n",
       "      <td>22384.00</td>\n",
       "      <td>Air India</td>\n",
       "      <td>Kolkata</td>\n",
       "      <td>Guwahathi</td>\n",
       "      <td>2025-02-09</td>\n",
       "      <td>1220</td>\n",
       "      <td>1 stop</td>\n",
       "      <td>Premium Economy</td>\n",
       "      <td>2024-12-16</td>\n",
       "      <td>55</td>\n",
       "      <td>Advanced</td>\n",
       "      <td>Weekend</td>\n",
       "    </tr>\n",
       "    <tr>\n",
       "      <th>3888</th>\n",
       "      <td>19497.00</td>\n",
       "      <td>Air India</td>\n",
       "      <td>Kolkata</td>\n",
       "      <td>Guwahathi</td>\n",
       "      <td>2025-02-09</td>\n",
       "      <td>1545</td>\n",
       "      <td>1 stop</td>\n",
       "      <td>Premium Economy</td>\n",
       "      <td>2024-12-16</td>\n",
       "      <td>55</td>\n",
       "      <td>Advanced</td>\n",
       "      <td>Weekend</td>\n",
       "    </tr>\n",
       "    <tr>\n",
       "      <th>3889</th>\n",
       "      <td>42707.00</td>\n",
       "      <td>Air India</td>\n",
       "      <td>Kolkata</td>\n",
       "      <td>Guwahathi</td>\n",
       "      <td>2025-02-09</td>\n",
       "      <td>660</td>\n",
       "      <td>1 stop</td>\n",
       "      <td>Premium Economy</td>\n",
       "      <td>2024-12-16</td>\n",
       "      <td>55</td>\n",
       "      <td>Advanced</td>\n",
       "      <td>Weekend</td>\n",
       "    </tr>\n",
       "    <tr>\n",
       "      <th>3890</th>\n",
       "      <td>42203.00</td>\n",
       "      <td>Air India</td>\n",
       "      <td>Kolkata</td>\n",
       "      <td>Guwahathi</td>\n",
       "      <td>2025-02-09</td>\n",
       "      <td>775</td>\n",
       "      <td>1 stop</td>\n",
       "      <td>Premium Economy</td>\n",
       "      <td>2024-12-16</td>\n",
       "      <td>55</td>\n",
       "      <td>Advanced</td>\n",
       "      <td>Weekend</td>\n",
       "    </tr>\n",
       "    <tr>\n",
       "      <th>3891</th>\n",
       "      <td>65163.00</td>\n",
       "      <td>Air India</td>\n",
       "      <td>Kolkata</td>\n",
       "      <td>Guwahathi</td>\n",
       "      <td>2025-02-09</td>\n",
       "      <td>625</td>\n",
       "      <td>1 stop</td>\n",
       "      <td>Premium Economy</td>\n",
       "      <td>2024-12-16</td>\n",
       "      <td>55</td>\n",
       "      <td>Advanced</td>\n",
       "      <td>Weekend</td>\n",
       "    </tr>\n",
       "  </tbody>\n",
       "</table>\n",
       "<p>3892 rows × 12 columns</p>\n",
       "</div>"
      ],
      "text/plain": [
       "         price airline_name departure_city arrival_city travel_date  duration  \\\n",
       "0     29384.18    Air India          Delhi       Mumbai  2024-12-25       130   \n",
       "1     29382.40    Air India          Delhi       Mumbai  2024-12-25       145   \n",
       "2     37417.30    Air India          Delhi       Mumbai  2024-12-25       125   \n",
       "3     29384.18    Air India          Delhi       Mumbai  2024-12-25       135   \n",
       "4     29382.40    Air India          Delhi       Mumbai  2024-12-25       145   \n",
       "...        ...          ...            ...          ...         ...       ...   \n",
       "3887  22384.00    Air India        Kolkata    Guwahathi  2025-02-09      1220   \n",
       "3888  19497.00    Air India        Kolkata    Guwahathi  2025-02-09      1545   \n",
       "3889  42707.00    Air India        Kolkata    Guwahathi  2025-02-09       660   \n",
       "3890  42203.00    Air India        Kolkata    Guwahathi  2025-02-09       775   \n",
       "3891  65163.00    Air India        Kolkata    Guwahathi  2025-02-09       625   \n",
       "\n",
       "       stops      cabin_class booking_date  days_until_travel booking_type  \\\n",
       "0     Direct         Business   2024-12-16                  9     Moderate   \n",
       "1     Direct         Business   2024-12-16                  9     Moderate   \n",
       "2     Direct         Business   2024-12-16                  9     Moderate   \n",
       "3     Direct         Business   2024-12-16                  9     Moderate   \n",
       "4     Direct         Business   2024-12-16                  9     Moderate   \n",
       "...      ...              ...          ...                ...          ...   \n",
       "3887  1 stop  Premium Economy   2024-12-16                 55     Advanced   \n",
       "3888  1 stop  Premium Economy   2024-12-16                 55     Advanced   \n",
       "3889  1 stop  Premium Economy   2024-12-16                 55     Advanced   \n",
       "3890  1 stop  Premium Economy   2024-12-16                 55     Advanced   \n",
       "3891  1 stop  Premium Economy   2024-12-16                 55     Advanced   \n",
       "\n",
       "     travel_type  \n",
       "0        Holiday  \n",
       "1        Holiday  \n",
       "2        Holiday  \n",
       "3        Holiday  \n",
       "4        Holiday  \n",
       "...          ...  \n",
       "3887     Weekend  \n",
       "3888     Weekend  \n",
       "3889     Weekend  \n",
       "3890     Weekend  \n",
       "3891     Weekend  \n",
       "\n",
       "[3892 rows x 12 columns]"
      ]
     },
     "execution_count": 3,
     "metadata": {},
     "output_type": "execute_result"
    }
   ],
   "source": [
    "data"
   ]
  },
  {
   "cell_type": "markdown",
   "id": "8bd135b2-f707-41c9-b597-739d868abd31",
   "metadata": {},
   "source": [
    "## Data Exploration"
   ]
  },
  {
   "cell_type": "code",
   "execution_count": 4,
   "id": "a7cfcea0-b68d-4cad-989a-ff78cc535c6d",
   "metadata": {},
   "outputs": [
    {
     "data": {
      "text/html": [
       "<div>\n",
       "<style scoped>\n",
       "    .dataframe tbody tr th:only-of-type {\n",
       "        vertical-align: middle;\n",
       "    }\n",
       "\n",
       "    .dataframe tbody tr th {\n",
       "        vertical-align: top;\n",
       "    }\n",
       "\n",
       "    .dataframe thead th {\n",
       "        text-align: right;\n",
       "    }\n",
       "</style>\n",
       "<table border=\"1\" class=\"dataframe\">\n",
       "  <thead>\n",
       "    <tr style=\"text-align: right;\">\n",
       "      <th></th>\n",
       "      <th>price</th>\n",
       "      <th>airline_name</th>\n",
       "      <th>departure_city</th>\n",
       "      <th>arrival_city</th>\n",
       "      <th>travel_date</th>\n",
       "      <th>duration</th>\n",
       "      <th>stops</th>\n",
       "      <th>cabin_class</th>\n",
       "      <th>booking_date</th>\n",
       "      <th>days_until_travel</th>\n",
       "      <th>booking_type</th>\n",
       "      <th>travel_type</th>\n",
       "    </tr>\n",
       "  </thead>\n",
       "  <tbody>\n",
       "    <tr>\n",
       "      <th>0</th>\n",
       "      <td>29384.18</td>\n",
       "      <td>Air India</td>\n",
       "      <td>Delhi</td>\n",
       "      <td>Mumbai</td>\n",
       "      <td>2024-12-25</td>\n",
       "      <td>130</td>\n",
       "      <td>Direct</td>\n",
       "      <td>Business</td>\n",
       "      <td>2024-12-16</td>\n",
       "      <td>9</td>\n",
       "      <td>Moderate</td>\n",
       "      <td>Holiday</td>\n",
       "    </tr>\n",
       "    <tr>\n",
       "      <th>1</th>\n",
       "      <td>29382.40</td>\n",
       "      <td>Air India</td>\n",
       "      <td>Delhi</td>\n",
       "      <td>Mumbai</td>\n",
       "      <td>2024-12-25</td>\n",
       "      <td>145</td>\n",
       "      <td>Direct</td>\n",
       "      <td>Business</td>\n",
       "      <td>2024-12-16</td>\n",
       "      <td>9</td>\n",
       "      <td>Moderate</td>\n",
       "      <td>Holiday</td>\n",
       "    </tr>\n",
       "    <tr>\n",
       "      <th>2</th>\n",
       "      <td>37417.30</td>\n",
       "      <td>Air India</td>\n",
       "      <td>Delhi</td>\n",
       "      <td>Mumbai</td>\n",
       "      <td>2024-12-25</td>\n",
       "      <td>125</td>\n",
       "      <td>Direct</td>\n",
       "      <td>Business</td>\n",
       "      <td>2024-12-16</td>\n",
       "      <td>9</td>\n",
       "      <td>Moderate</td>\n",
       "      <td>Holiday</td>\n",
       "    </tr>\n",
       "    <tr>\n",
       "      <th>3</th>\n",
       "      <td>29384.18</td>\n",
       "      <td>Air India</td>\n",
       "      <td>Delhi</td>\n",
       "      <td>Mumbai</td>\n",
       "      <td>2024-12-25</td>\n",
       "      <td>135</td>\n",
       "      <td>Direct</td>\n",
       "      <td>Business</td>\n",
       "      <td>2024-12-16</td>\n",
       "      <td>9</td>\n",
       "      <td>Moderate</td>\n",
       "      <td>Holiday</td>\n",
       "    </tr>\n",
       "    <tr>\n",
       "      <th>4</th>\n",
       "      <td>29382.40</td>\n",
       "      <td>Air India</td>\n",
       "      <td>Delhi</td>\n",
       "      <td>Mumbai</td>\n",
       "      <td>2024-12-25</td>\n",
       "      <td>145</td>\n",
       "      <td>Direct</td>\n",
       "      <td>Business</td>\n",
       "      <td>2024-12-16</td>\n",
       "      <td>9</td>\n",
       "      <td>Moderate</td>\n",
       "      <td>Holiday</td>\n",
       "    </tr>\n",
       "  </tbody>\n",
       "</table>\n",
       "</div>"
      ],
      "text/plain": [
       "      price airline_name departure_city arrival_city travel_date  duration  \\\n",
       "0  29384.18    Air India          Delhi       Mumbai  2024-12-25       130   \n",
       "1  29382.40    Air India          Delhi       Mumbai  2024-12-25       145   \n",
       "2  37417.30    Air India          Delhi       Mumbai  2024-12-25       125   \n",
       "3  29384.18    Air India          Delhi       Mumbai  2024-12-25       135   \n",
       "4  29382.40    Air India          Delhi       Mumbai  2024-12-25       145   \n",
       "\n",
       "    stops cabin_class booking_date  days_until_travel booking_type travel_type  \n",
       "0  Direct    Business   2024-12-16                  9     Moderate     Holiday  \n",
       "1  Direct    Business   2024-12-16                  9     Moderate     Holiday  \n",
       "2  Direct    Business   2024-12-16                  9     Moderate     Holiday  \n",
       "3  Direct    Business   2024-12-16                  9     Moderate     Holiday  \n",
       "4  Direct    Business   2024-12-16                  9     Moderate     Holiday  "
      ]
     },
     "execution_count": 4,
     "metadata": {},
     "output_type": "execute_result"
    }
   ],
   "source": [
    "data.head()"
   ]
  },
  {
   "cell_type": "code",
   "execution_count": 5,
   "id": "9111f0f7-593e-4fc8-9fc4-b8ca41488ac6",
   "metadata": {},
   "outputs": [
    {
     "data": {
      "text/plain": [
       "(3892, 12)"
      ]
     },
     "execution_count": 5,
     "metadata": {},
     "output_type": "execute_result"
    }
   ],
   "source": [
    "data.shape"
   ]
  },
  {
   "cell_type": "code",
   "execution_count": 6,
   "id": "c6822f69-ba39-408a-baca-6c37adc3c136",
   "metadata": {},
   "outputs": [
    {
     "data": {
      "text/plain": [
       "Index(['price', 'airline_name', 'departure_city', 'arrival_city',\n",
       "       'travel_date', 'duration', 'stops', 'cabin_class', 'booking_date',\n",
       "       'days_until_travel', 'booking_type', 'travel_type'],\n",
       "      dtype='object')"
      ]
     },
     "execution_count": 6,
     "metadata": {},
     "output_type": "execute_result"
    }
   ],
   "source": [
    "data.columns"
   ]
  },
  {
   "cell_type": "code",
   "execution_count": 7,
   "id": "24e8f507-e7bf-489f-b43a-28c7f87454fb",
   "metadata": {},
   "outputs": [],
   "source": [
    "data[\"booking_date\"] = pd.to_datetime(data[\"booking_date\"])"
   ]
  },
  {
   "cell_type": "code",
   "execution_count": 8,
   "id": "045fa71c-05f7-43cd-bdc8-6de116e7665b",
   "metadata": {},
   "outputs": [],
   "source": [
    "data[\"travel_date\"] = pd.to_datetime(data[\"travel_date\"])"
   ]
  },
  {
   "cell_type": "code",
   "execution_count": 9,
   "id": "62f90e10-319b-421a-82e8-6d252de206ce",
   "metadata": {},
   "outputs": [
    {
     "data": {
      "text/plain": [
       "price                       float64\n",
       "airline_name                 object\n",
       "departure_city               object\n",
       "arrival_city                 object\n",
       "travel_date          datetime64[ns]\n",
       "duration                      int64\n",
       "stops                        object\n",
       "cabin_class                  object\n",
       "booking_date         datetime64[ns]\n",
       "days_until_travel             int64\n",
       "booking_type                 object\n",
       "travel_type                  object\n",
       "dtype: object"
      ]
     },
     "execution_count": 9,
     "metadata": {},
     "output_type": "execute_result"
    }
   ],
   "source": [
    "data.dtypes"
   ]
  },
  {
   "cell_type": "code",
   "execution_count": 10,
   "id": "d44e3413-4aa0-4318-a1bc-f3cf6be7f01e",
   "metadata": {},
   "outputs": [
    {
     "name": "stdout",
     "output_type": "stream",
     "text": [
      "<class 'pandas.core.frame.DataFrame'>\n",
      "Int64Index: 3892 entries, 0 to 3891\n",
      "Data columns (total 12 columns):\n",
      " #   Column             Non-Null Count  Dtype         \n",
      "---  ------             --------------  -----         \n",
      " 0   price              3892 non-null   float64       \n",
      " 1   airline_name       3892 non-null   object        \n",
      " 2   departure_city     3892 non-null   object        \n",
      " 3   arrival_city       3892 non-null   object        \n",
      " 4   travel_date        3892 non-null   datetime64[ns]\n",
      " 5   duration           3892 non-null   int64         \n",
      " 6   stops              3892 non-null   object        \n",
      " 7   cabin_class        3892 non-null   object        \n",
      " 8   booking_date       3892 non-null   datetime64[ns]\n",
      " 9   days_until_travel  3892 non-null   int64         \n",
      " 10  booking_type       3892 non-null   object        \n",
      " 11  travel_type        3892 non-null   object        \n",
      "dtypes: datetime64[ns](2), float64(1), int64(2), object(7)\n",
      "memory usage: 395.3+ KB\n"
     ]
    }
   ],
   "source": [
    "data.info()"
   ]
  },
  {
   "cell_type": "markdown",
   "id": "70114cbf-2bc1-4a9c-984d-32392a01db50",
   "metadata": {},
   "source": [
    "#### Categorical columns"
   ]
  },
  {
   "cell_type": "code",
   "execution_count": 11,
   "id": "f9f590c9-36e3-4517-a6b2-9d3f78c3d8c9",
   "metadata": {},
   "outputs": [
    {
     "data": {
      "text/plain": [
       "Index(['airline_name', 'departure_city', 'arrival_city', 'stops',\n",
       "       'cabin_class', 'booking_type', 'travel_type'],\n",
       "      dtype='object')"
      ]
     },
     "execution_count": 11,
     "metadata": {},
     "output_type": "execute_result"
    }
   ],
   "source": [
    "cat_cols = data.select_dtypes(include = \"object\").columns\n",
    "cat_cols"
   ]
  },
  {
   "cell_type": "markdown",
   "id": "7b878e88-fabf-43cd-a3af-e52d297e8f71",
   "metadata": {},
   "source": [
    "#### Numerical columns"
   ]
  },
  {
   "cell_type": "code",
   "execution_count": 12,
   "id": "7d939768-d21a-4037-a7e0-c86c4716ca27",
   "metadata": {},
   "outputs": [
    {
     "data": {
      "text/plain": [
       "Index(['price', 'duration', 'days_until_travel'], dtype='object')"
      ]
     },
     "execution_count": 12,
     "metadata": {},
     "output_type": "execute_result"
    }
   ],
   "source": [
    "num_cols = data.select_dtypes(include = \"number\").columns\n",
    "num_cols"
   ]
  },
  {
   "cell_type": "markdown",
   "id": "813b6e0b-fd10-4f1c-abb9-6a1fdbc78194",
   "metadata": {},
   "source": [
    "#### Unique Values in Each Columns "
   ]
  },
  {
   "cell_type": "code",
   "execution_count": 13,
   "id": "f480fce4-5773-4a39-b7a7-ed944a4ff368",
   "metadata": {},
   "outputs": [
    {
     "name": "stdout",
     "output_type": "stream",
     "text": [
      "No of Unique Values in airline_name column is: ['Air India' 'IndiGo' 'Akasa Air' 'SpiceJet' 'Etihad Airways']\n",
      "----------------------------------------\n",
      "No of Unique Values in departure_city column is: ['Delhi' 'Banglore' 'Chennai' 'Mumbai' 'Kolkata']\n",
      "----------------------------------------\n",
      "No of Unique Values in arrival_city column is: ['Mumbai' 'Kolkata' 'Hyderabad' 'Goa' 'Banglore' 'Guwahathi']\n",
      "----------------------------------------\n",
      "No of Unique Values in stops column is: ['Direct' '1 stop' '3 stops' '2 stops']\n",
      "----------------------------------------\n",
      "No of Unique Values in cabin_class column is: ['Business' 'Economy' 'First' 'Premium Economy']\n",
      "----------------------------------------\n",
      "No of Unique Values in booking_type column is: ['Moderate' 'Advanced' 'Last-minute']\n",
      "----------------------------------------\n",
      "No of Unique Values in travel_type column is: ['Holiday' 'Weekday' 'Weekend']\n",
      "----------------------------------------\n"
     ]
    }
   ],
   "source": [
    "for i in data[cat_cols]:\n",
    "    print(f\"No of Unique Values in {i} column is:\", data[i].unique())\n",
    "    print(\"--\"*20)"
   ]
  },
  {
   "cell_type": "code",
   "execution_count": 14,
   "id": "c4b469ad-0a0f-4ac0-a45d-454145798948",
   "metadata": {},
   "outputs": [
    {
     "name": "stdout",
     "output_type": "stream",
     "text": [
      "No of Unique Values in airline_name column is: 5\n",
      "----------------------------------------\n",
      "No of Unique Values in departure_city column is: 5\n",
      "----------------------------------------\n",
      "No of Unique Values in arrival_city column is: 6\n",
      "----------------------------------------\n",
      "No of Unique Values in stops column is: 4\n",
      "----------------------------------------\n",
      "No of Unique Values in cabin_class column is: 4\n",
      "----------------------------------------\n",
      "No of Unique Values in booking_type column is: 3\n",
      "----------------------------------------\n",
      "No of Unique Values in travel_type column is: 3\n",
      "----------------------------------------\n"
     ]
    }
   ],
   "source": [
    "for i in data[cat_cols]:\n",
    "    print(f\"No of Unique Values in {i} column is:\", data[i].nunique())\n",
    "    print(\"--\"*20)"
   ]
  },
  {
   "cell_type": "markdown",
   "id": "8f72bbed-a6b5-4b95-a31a-94843c47f3b9",
   "metadata": {},
   "source": [
    "#### Summary Statistics "
   ]
  },
  {
   "cell_type": "code",
   "execution_count": 15,
   "id": "abdcb5a2-a64e-4351-bd33-6e632c0e40d1",
   "metadata": {},
   "outputs": [
    {
     "data": {
      "text/html": [
       "<div>\n",
       "<style scoped>\n",
       "    .dataframe tbody tr th:only-of-type {\n",
       "        vertical-align: middle;\n",
       "    }\n",
       "\n",
       "    .dataframe tbody tr th {\n",
       "        vertical-align: top;\n",
       "    }\n",
       "\n",
       "    .dataframe thead th {\n",
       "        text-align: right;\n",
       "    }\n",
       "</style>\n",
       "<table border=\"1\" class=\"dataframe\">\n",
       "  <thead>\n",
       "    <tr style=\"text-align: right;\">\n",
       "      <th></th>\n",
       "      <th>price</th>\n",
       "      <th>duration</th>\n",
       "      <th>days_until_travel</th>\n",
       "    </tr>\n",
       "  </thead>\n",
       "  <tbody>\n",
       "    <tr>\n",
       "      <th>count</th>\n",
       "      <td>3892.000000</td>\n",
       "      <td>3892.000000</td>\n",
       "      <td>3892.000000</td>\n",
       "    </tr>\n",
       "    <tr>\n",
       "      <th>mean</th>\n",
       "      <td>30434.573099</td>\n",
       "      <td>425.412384</td>\n",
       "      <td>24.342497</td>\n",
       "    </tr>\n",
       "    <tr>\n",
       "      <th>std</th>\n",
       "      <td>29713.645818</td>\n",
       "      <td>362.888379</td>\n",
       "      <td>18.421048</td>\n",
       "    </tr>\n",
       "    <tr>\n",
       "      <th>min</th>\n",
       "      <td>2682.000000</td>\n",
       "      <td>70.000000</td>\n",
       "      <td>2.000000</td>\n",
       "    </tr>\n",
       "    <tr>\n",
       "      <th>25%</th>\n",
       "      <td>10554.100000</td>\n",
       "      <td>155.000000</td>\n",
       "      <td>9.000000</td>\n",
       "    </tr>\n",
       "    <tr>\n",
       "      <th>50%</th>\n",
       "      <td>19105.110000</td>\n",
       "      <td>345.000000</td>\n",
       "      <td>19.000000</td>\n",
       "    </tr>\n",
       "    <tr>\n",
       "      <th>75%</th>\n",
       "      <td>40541.565000</td>\n",
       "      <td>525.000000</td>\n",
       "      <td>41.000000</td>\n",
       "    </tr>\n",
       "    <tr>\n",
       "      <th>max</th>\n",
       "      <td>291560.990000</td>\n",
       "      <td>1750.000000</td>\n",
       "      <td>55.000000</td>\n",
       "    </tr>\n",
       "  </tbody>\n",
       "</table>\n",
       "</div>"
      ],
      "text/plain": [
       "               price     duration  days_until_travel\n",
       "count    3892.000000  3892.000000        3892.000000\n",
       "mean    30434.573099   425.412384          24.342497\n",
       "std     29713.645818   362.888379          18.421048\n",
       "min      2682.000000    70.000000           2.000000\n",
       "25%     10554.100000   155.000000           9.000000\n",
       "50%     19105.110000   345.000000          19.000000\n",
       "75%     40541.565000   525.000000          41.000000\n",
       "max    291560.990000  1750.000000          55.000000"
      ]
     },
     "execution_count": 15,
     "metadata": {},
     "output_type": "execute_result"
    }
   ],
   "source": [
    "data[num_cols].describe()"
   ]
  },
  {
   "cell_type": "code",
   "execution_count": 16,
   "id": "199c7faf-c2f8-44d6-9fd2-b00ab7f359c5",
   "metadata": {},
   "outputs": [
    {
     "data": {
      "text/html": [
       "<div>\n",
       "<style scoped>\n",
       "    .dataframe tbody tr th:only-of-type {\n",
       "        vertical-align: middle;\n",
       "    }\n",
       "\n",
       "    .dataframe tbody tr th {\n",
       "        vertical-align: top;\n",
       "    }\n",
       "\n",
       "    .dataframe thead th {\n",
       "        text-align: right;\n",
       "    }\n",
       "</style>\n",
       "<table border=\"1\" class=\"dataframe\">\n",
       "  <thead>\n",
       "    <tr style=\"text-align: right;\">\n",
       "      <th></th>\n",
       "      <th>airline_name</th>\n",
       "      <th>departure_city</th>\n",
       "      <th>arrival_city</th>\n",
       "      <th>stops</th>\n",
       "      <th>cabin_class</th>\n",
       "      <th>booking_type</th>\n",
       "      <th>travel_type</th>\n",
       "    </tr>\n",
       "  </thead>\n",
       "  <tbody>\n",
       "    <tr>\n",
       "      <th>count</th>\n",
       "      <td>3892</td>\n",
       "      <td>3892</td>\n",
       "      <td>3892</td>\n",
       "      <td>3892</td>\n",
       "      <td>3892</td>\n",
       "      <td>3892</td>\n",
       "      <td>3892</td>\n",
       "    </tr>\n",
       "    <tr>\n",
       "      <th>unique</th>\n",
       "      <td>5</td>\n",
       "      <td>5</td>\n",
       "      <td>6</td>\n",
       "      <td>4</td>\n",
       "      <td>4</td>\n",
       "      <td>3</td>\n",
       "      <td>3</td>\n",
       "    </tr>\n",
       "    <tr>\n",
       "      <th>top</th>\n",
       "      <td>Air India</td>\n",
       "      <td>Delhi</td>\n",
       "      <td>Hyderabad</td>\n",
       "      <td>1 stop</td>\n",
       "      <td>Premium Economy</td>\n",
       "      <td>Moderate</td>\n",
       "      <td>Weekend</td>\n",
       "    </tr>\n",
       "    <tr>\n",
       "      <th>freq</th>\n",
       "      <td>3148</td>\n",
       "      <td>1167</td>\n",
       "      <td>740</td>\n",
       "      <td>2168</td>\n",
       "      <td>1358</td>\n",
       "      <td>1727</td>\n",
       "      <td>1345</td>\n",
       "    </tr>\n",
       "  </tbody>\n",
       "</table>\n",
       "</div>"
      ],
      "text/plain": [
       "       airline_name departure_city arrival_city   stops      cabin_class  \\\n",
       "count          3892           3892         3892    3892             3892   \n",
       "unique            5              5            6       4                4   \n",
       "top       Air India          Delhi    Hyderabad  1 stop  Premium Economy   \n",
       "freq           3148           1167          740    2168             1358   \n",
       "\n",
       "       booking_type travel_type  \n",
       "count          3892        3892  \n",
       "unique            3           3  \n",
       "top        Moderate     Weekend  \n",
       "freq           1727        1345  "
      ]
     },
     "execution_count": 16,
     "metadata": {},
     "output_type": "execute_result"
    }
   ],
   "source": [
    "data[cat_cols].describe()"
   ]
  },
  {
   "cell_type": "markdown",
   "id": "086673f4-5bc6-4244-91ef-f9defd120219",
   "metadata": {},
   "source": [
    "#### Value Counts"
   ]
  },
  {
   "cell_type": "code",
   "execution_count": 17,
   "id": "96ef95c5-7ec5-4347-bd4f-2e4b0782eef0",
   "metadata": {},
   "outputs": [
    {
     "name": "stdout",
     "output_type": "stream",
     "text": [
      "Count of Each Value in airline_name column is: Air India         3148\n",
      "IndiGo             637\n",
      "Akasa Air           55\n",
      "SpiceJet            30\n",
      "Etihad Airways      22\n",
      "Name: airline_name, dtype: int64\n",
      "----------------------------------------\n",
      "Count of Each Value in departure_city column is: Delhi       1167\n",
      "Chennai      740\n",
      "Mumbai       733\n",
      "Banglore     699\n",
      "Kolkata      553\n",
      "Name: departure_city, dtype: int64\n",
      "----------------------------------------\n",
      "Count of Each Value in arrival_city column is: Hyderabad    740\n",
      "Goa          733\n",
      "Kolkata      699\n",
      "Banglore     636\n",
      "Guwahathi    553\n",
      "Mumbai       531\n",
      "Name: arrival_city, dtype: int64\n",
      "----------------------------------------\n",
      "Count of Each Value in stops column is: 1 stop     2168\n",
      "Direct     1701\n",
      "2 stops      22\n",
      "3 stops       1\n",
      "Name: stops, dtype: int64\n",
      "----------------------------------------\n",
      "Count of Each Value in cabin_class column is: Premium Economy    1358\n",
      "Economy            1273\n",
      "Business           1225\n",
      "First                36\n",
      "Name: cabin_class, dtype: int64\n",
      "----------------------------------------\n",
      "Count of Each Value in booking_type column is: Moderate       1727\n",
      "Advanced       1266\n",
      "Last-minute     899\n",
      "Name: booking_type, dtype: int64\n",
      "----------------------------------------\n",
      "Count of Each Value in travel_type column is: Weekend    1345\n",
      "Weekday    1314\n",
      "Holiday    1233\n",
      "Name: travel_type, dtype: int64\n",
      "----------------------------------------\n"
     ]
    }
   ],
   "source": [
    "for i in data[cat_cols].columns:\n",
    "    print(f\"Count of Each Value in {i} column is:\", data[i].value_counts())\n",
    "    print(\"--\"*20)"
   ]
  },
  {
   "cell_type": "markdown",
   "id": "30d32b62-4863-4591-ac64-cb603cdef961",
   "metadata": {},
   "source": [
    "## Univariate Analysis"
   ]
  },
  {
   "cell_type": "markdown",
   "id": "ea417b81-8728-4952-88f4-b56c1d3fe225",
   "metadata": {},
   "source": [
    "#### Price Analysis"
   ]
  },
  {
   "cell_type": "code",
   "execution_count": 18,
   "id": "79ba702d-cbd1-473a-b007-56b1579b5cda",
   "metadata": {},
   "outputs": [
    {
     "data": {
      "text/plain": [
       "count      3892.000000\n",
       "mean      30434.573099\n",
       "std       29713.645818\n",
       "min        2682.000000\n",
       "25%       10554.100000\n",
       "50%       19105.110000\n",
       "75%       40541.565000\n",
       "max      291560.990000\n",
       "Name: price, dtype: float64"
      ]
     },
     "execution_count": 18,
     "metadata": {},
     "output_type": "execute_result"
    }
   ],
   "source": [
    "data[\"price\"].describe()"
   ]
  },
  {
   "cell_type": "code",
   "execution_count": 19,
   "id": "6f6255d2-ec50-44b5-b70c-973977704782",
   "metadata": {},
   "outputs": [
    {
     "data": {
      "text/plain": [
       "<Axes: xlabel='price', ylabel='Count'>"
      ]
     },
     "execution_count": 19,
     "metadata": {},
     "output_type": "execute_result"
    },
    {
     "data": {
      "image/png": "[encoded data removed]",
      "text/plain": [
       "<Figure size 1000x500 with 1 Axes>"
      ]
     },
     "metadata": {},
     "output_type": "display_data"
    }
   ],
   "source": [
    "plt.figure(figsize = (10,5))\n",
    "sns.histplot(data = data,\n",
    "             x = \"price\",\n",
    "             bins = 30,\n",
    "             kde = True,\n",
    "             edgecolor = \"k\",\n",
    "             color = \"y\")"
   ]
  },
  {
   "cell_type": "markdown",
   "id": "1c65f5b0-2c42-44b4-bc70-a5760d1d30d1",
   "metadata": {},
   "source": [
    "From the summary statistics and the Histogram plot\n",
    "\n",
    "+ The mean (30,434.57) is much higher than the median (19,105.11), indicating positive skewness. Most tickets are low-priced, but a few expensive ones drive up the average.\n",
    "+ Ticket prices range from 2,682 (minimum) to 291,561 (maximum).\n",
    "+ Most tickets are priced below 50,000, as shown by the density plot.\n",
    "+ Most ticket prices fall between 10,554.10 and 40,541.57 (25th to 75th percentile).\n",
    "+ There are few ouliers in the price column where prices above 100,000 are rare and represent premium tickets, which account for a very small portion of the dataset."
   ]
  },
  {
   "cell_type": "markdown",
   "id": "3ddf8a05-483a-4ce5-b8a9-7a72e37c04d2",
   "metadata": {},
   "source": [
    "#### Detecting Outliers"
   ]
  },
  {
   "cell_type": "code",
   "execution_count": 20,
   "id": "577393f5-6c5e-4b5a-bafc-3a48065e54a4",
   "metadata": {},
   "outputs": [],
   "source": [
    "def detect_outliers(df, column):\n",
    "    Q1 = np.quantile(data[column],0.25)\n",
    "    Q2 =  np.quantile(data[column],0.50)\n",
    "    Q3 = np.quantile(data[column],0.75)\n",
    "\n",
    "    iqr = Q3 - Q1\n",
    "    print(f\"iqr : {iqr}\")\n",
    "    \n",
    "    lower_whisker = Q1 - 1.5* iqr\n",
    "    upper_whisker = Q3 + 1.5* iqr\n",
    "\n",
    "    outliers = data[(data[column] < lower_whisker) | (data[column] > upper_whisker)]\n",
    "    return outliers"
   ]
  },
  {
   "cell_type": "code",
   "execution_count": 21,
   "id": "579b5a50-3f8a-466a-9088-89918ad18a43",
   "metadata": {
    "scrolled": true
   },
   "outputs": [
    {
     "name": "stdout",
     "output_type": "stream",
     "text": [
      "iqr : 29987.465000000004\n",
      "         price airline_name departure_city arrival_city travel_date  duration  \\\n",
      "128   104723.0    Air India       Banglore      Kolkata  2024-12-25       405   \n",
      "131    90096.0    Air India       Banglore      Kolkata  2024-12-25       560   \n",
      "132   105484.0    Air India       Banglore      Kolkata  2024-12-25       475   \n",
      "134   116458.0    Air India       Banglore      Kolkata  2024-12-25       445   \n",
      "135    90597.0    Air India       Banglore      Kolkata  2024-12-25       645   \n",
      "...        ...          ...            ...          ...         ...       ...   \n",
      "3819   86185.0    Air India        Kolkata    Guwahathi  2024-12-21       625   \n",
      "3822  124607.0    Air India        Kolkata    Guwahathi  2024-12-21       470   \n",
      "3835   89511.0    Air India        Kolkata    Guwahathi  2024-12-22      1165   \n",
      "3836   93445.0    Air India        Kolkata    Guwahathi  2024-12-22      1305   \n",
      "3837  103993.0    Air India        Kolkata    Guwahathi  2024-12-22      1530   \n",
      "\n",
      "       stops      cabin_class booking_date  days_until_travel booking_type  \\\n",
      "128   1 stop         Business   2024-12-16                  9     Moderate   \n",
      "131   1 stop         Business   2024-12-16                  9     Moderate   \n",
      "132   1 stop         Business   2024-12-16                  9     Moderate   \n",
      "134   1 stop         Business   2024-12-16                  9     Moderate   \n",
      "135   1 stop         Business   2024-12-16                  9     Moderate   \n",
      "...      ...              ...          ...                ...          ...   \n",
      "3819  1 stop  Premium Economy   2024-12-16                  5  Last-minute   \n",
      "3822  1 stop  Premium Economy   2024-12-16                  5  Last-minute   \n",
      "3835  1 stop  Premium Economy   2024-12-16                  6  Last-minute   \n",
      "3836  1 stop  Premium Economy   2024-12-16                  6  Last-minute   \n",
      "3837  1 stop  Premium Economy   2024-12-16                  6  Last-minute   \n",
      "\n",
      "     travel_type  \n",
      "128      Holiday  \n",
      "131      Holiday  \n",
      "132      Holiday  \n",
      "134      Holiday  \n",
      "135      Holiday  \n",
      "...          ...  \n",
      "3819     Weekend  \n",
      "3822     Weekend  \n",
      "3835     Weekend  \n",
      "3836     Weekend  \n",
      "3837     Weekend  \n",
      "\n",
      "[180 rows x 12 columns]\n",
      "Number of outliers in 'price': 180\n",
      "\n",
      "iqr : 370.0\n",
      "         price airline_name departure_city arrival_city travel_date  duration  \\\n",
      "138   65213.95    Air India       Banglore      Kolkata  2024-12-25      1110   \n",
      "279   32222.00    Air India        Chennai    Hyderabad  2024-12-25      1170   \n",
      "287   47979.00    Air India        Chennai    Hyderabad  2024-12-25      1240   \n",
      "288   47032.00    Air India        Chennai    Hyderabad  2024-12-25      1405   \n",
      "335   30288.00    Air India        Chennai    Hyderabad  2025-01-01      1310   \n",
      "...        ...          ...            ...          ...         ...       ...   \n",
      "3878  17960.00    Air India        Kolkata    Guwahathi  2025-02-09      1735   \n",
      "3881  19248.00    Air India        Kolkata    Guwahathi  2025-02-09      1165   \n",
      "3886  18520.00    Air India        Kolkata    Guwahathi  2025-02-09      1515   \n",
      "3887  22384.00    Air India        Kolkata    Guwahathi  2025-02-09      1220   \n",
      "3888  19497.00    Air India        Kolkata    Guwahathi  2025-02-09      1545   \n",
      "\n",
      "       stops      cabin_class booking_date  days_until_travel booking_type  \\\n",
      "138   1 stop         Business   2024-12-16                  9     Moderate   \n",
      "279   1 stop         Business   2024-12-16                  9     Moderate   \n",
      "287   1 stop         Business   2024-12-16                  9     Moderate   \n",
      "288   1 stop         Business   2024-12-16                  9     Moderate   \n",
      "335   1 stop         Business   2024-12-16                 16     Moderate   \n",
      "...      ...              ...          ...                ...          ...   \n",
      "3878  1 stop  Premium Economy   2024-12-16                 55     Advanced   \n",
      "3881  1 stop  Premium Economy   2024-12-16                 55     Advanced   \n",
      "3886  1 stop  Premium Economy   2024-12-16                 55     Advanced   \n",
      "3887  1 stop  Premium Economy   2024-12-16                 55     Advanced   \n",
      "3888  1 stop  Premium Economy   2024-12-16                 55     Advanced   \n",
      "\n",
      "     travel_type  \n",
      "138      Holiday  \n",
      "279      Holiday  \n",
      "287      Holiday  \n",
      "288      Holiday  \n",
      "335      Holiday  \n",
      "...          ...  \n",
      "3878     Weekend  \n",
      "3881     Weekend  \n",
      "3886     Weekend  \n",
      "3887     Weekend  \n",
      "3888     Weekend  \n",
      "\n",
      "[300 rows x 12 columns]\n",
      "Number of outliers in 'duration': 300\n",
      "\n",
      "iqr : 32.0\n",
      "Empty DataFrame\n",
      "Columns: [price, airline_name, departure_city, arrival_city, travel_date, duration, stops, cabin_class, booking_date, days_until_travel, booking_type, travel_type]\n",
      "Index: []\n",
      "Number of outliers in 'days_until_travel': 0\n",
      "\n"
     ]
    }
   ],
   "source": [
    "for column in num_cols:\n",
    "    outliers = detect_outliers(data, column)\n",
    "    print(outliers)\n",
    "    print(f\"Number of outliers in '{column}': {len(outliers)}\\n\")"
   ]
  },
  {
   "cell_type": "code",
   "execution_count": 22,
   "id": "6476b171-02e7-4455-9966-1ecaf61503da",
   "metadata": {},
   "outputs": [
    {
     "name": "stdout",
     "output_type": "stream",
     "text": [
      "iqr : 29987.465000000004\n"
     ]
    },
    {
     "data": {
      "text/plain": [
       "array(['Business', 'First', 'Premium Economy'], dtype=object)"
      ]
     },
     "execution_count": 22,
     "metadata": {},
     "output_type": "execute_result"
    }
   ],
   "source": [
    "detect_outliers(data,\"price\")[\"cabin_class\"].unique()"
   ]
  },
  {
   "cell_type": "code",
   "execution_count": 23,
   "id": "63f95787-1173-4755-a625-5c01bc2dce2a",
   "metadata": {},
   "outputs": [
    {
     "name": "stdout",
     "output_type": "stream",
     "text": [
      "iqr : 29987.465000000004\n"
     ]
    },
    {
     "data": {
      "text/plain": [
       "Business           143\n",
       "First               22\n",
       "Premium Economy     15\n",
       "Name: cabin_class, dtype: int64"
      ]
     },
     "execution_count": 23,
     "metadata": {},
     "output_type": "execute_result"
    }
   ],
   "source": [
    "detect_outliers(data,\"price\")[\"cabin_class\"].value_counts()"
   ]
  },
  {
   "cell_type": "code",
   "execution_count": 24,
   "id": "95142ecf-ca8d-4656-901e-fffdc072d128",
   "metadata": {},
   "outputs": [
    {
     "data": {
      "text/plain": [
       "<Axes: xlabel='cabin_class', ylabel='price'>"
      ]
     },
     "execution_count": 24,
     "metadata": {},
     "output_type": "execute_result"
    },
    {
     "data": {
      "image/png": "[encoded data removed]",
      "text/plain": [
       "<Figure size 1000x800 with 1 Axes>"
      ]
     },
     "metadata": {},
     "output_type": "display_data"
    }
   ],
   "source": [
    "plt.figure(figsize = (10,8))\n",
    "sns.boxplot(data = data,\n",
    "               y = \"price\",\n",
    "               x = \"cabin_class\",\n",
    "            palette = \"tab10\")"
   ]
  },
  {
   "cell_type": "markdown",
   "id": "df1884c7-d40a-405f-8376-c4c0fd21ae9a",
   "metadata": {},
   "source": [
    "+ Outliers represent valid pricing, not errors, and accurately reflect real market conditions.\n",
    "+ They emphasize significant price variability in Business, First, and Premium Economy classes due to their premium and demand-driven nature.\n",
    "+ Economy Class shows minimal outliers, maintaining consistent and predictable pricing for budget travelers."
   ]
  },
  {
   "cell_type": "code",
   "execution_count": 25,
   "id": "e261d021-054d-4687-8191-e6b88bca75e2",
   "metadata": {},
   "outputs": [
    {
     "data": {
      "text/html": [
       "<div>\n",
       "<style scoped>\n",
       "    .dataframe tbody tr th:only-of-type {\n",
       "        vertical-align: middle;\n",
       "    }\n",
       "\n",
       "    .dataframe tbody tr th {\n",
       "        vertical-align: top;\n",
       "    }\n",
       "\n",
       "    .dataframe thead th {\n",
       "        text-align: right;\n",
       "    }\n",
       "</style>\n",
       "<table border=\"1\" class=\"dataframe\">\n",
       "  <thead>\n",
       "    <tr style=\"text-align: right;\">\n",
       "      <th></th>\n",
       "      <th>count</th>\n",
       "      <th>mean</th>\n",
       "      <th>std</th>\n",
       "      <th>min</th>\n",
       "      <th>25%</th>\n",
       "      <th>50%</th>\n",
       "      <th>75%</th>\n",
       "      <th>max</th>\n",
       "    </tr>\n",
       "    <tr>\n",
       "      <th>cabin_class</th>\n",
       "      <th></th>\n",
       "      <th></th>\n",
       "      <th></th>\n",
       "      <th></th>\n",
       "      <th></th>\n",
       "      <th></th>\n",
       "      <th></th>\n",
       "      <th></th>\n",
       "    </tr>\n",
       "  </thead>\n",
       "  <tbody>\n",
       "    <tr>\n",
       "      <th>Business</th>\n",
       "      <td>1225.0</td>\n",
       "      <td>55953.609624</td>\n",
       "      <td>23549.041730</td>\n",
       "      <td>19799.00</td>\n",
       "      <td>37405.7200</td>\n",
       "      <td>49612.36</td>\n",
       "      <td>69998.0000</td>\n",
       "      <td>135446.00</td>\n",
       "    </tr>\n",
       "    <tr>\n",
       "      <th>Economy</th>\n",
       "      <td>1273.0</td>\n",
       "      <td>10330.143386</td>\n",
       "      <td>5283.348968</td>\n",
       "      <td>2682.00</td>\n",
       "      <td>6749.0000</td>\n",
       "      <td>8745.07</td>\n",
       "      <td>12190.0000</td>\n",
       "      <td>48040.00</td>\n",
       "    </tr>\n",
       "    <tr>\n",
       "      <th>First</th>\n",
       "      <td>36.0</td>\n",
       "      <td>172866.826389</td>\n",
       "      <td>90705.742224</td>\n",
       "      <td>58889.63</td>\n",
       "      <td>64125.3375</td>\n",
       "      <td>231294.41</td>\n",
       "      <td>240552.3425</td>\n",
       "      <td>291560.99</td>\n",
       "    </tr>\n",
       "    <tr>\n",
       "      <th>Premium Economy</th>\n",
       "      <td>1358.0</td>\n",
       "      <td>22485.057754</td>\n",
       "      <td>14984.457729</td>\n",
       "      <td>6865.44</td>\n",
       "      <td>12871.6100</td>\n",
       "      <td>18046.50</td>\n",
       "      <td>25170.4375</td>\n",
       "      <td>125368.00</td>\n",
       "    </tr>\n",
       "  </tbody>\n",
       "</table>\n",
       "</div>"
      ],
      "text/plain": [
       "                  count           mean           std       min         25%  \\\n",
       "cabin_class                                                                  \n",
       "Business         1225.0   55953.609624  23549.041730  19799.00  37405.7200   \n",
       "Economy          1273.0   10330.143386   5283.348968   2682.00   6749.0000   \n",
       "First              36.0  172866.826389  90705.742224  58889.63  64125.3375   \n",
       "Premium Economy  1358.0   22485.057754  14984.457729   6865.44  12871.6100   \n",
       "\n",
       "                       50%          75%        max  \n",
       "cabin_class                                         \n",
       "Business          49612.36   69998.0000  135446.00  \n",
       "Economy            8745.07   12190.0000   48040.00  \n",
       "First            231294.41  240552.3425  291560.99  \n",
       "Premium Economy   18046.50   25170.4375  125368.00  "
      ]
     },
     "execution_count": 25,
     "metadata": {},
     "output_type": "execute_result"
    }
   ],
   "source": [
    "data.groupby(by = \"cabin_class\")[\"price\"].describe()"
   ]
  },
  {
   "cell_type": "code",
   "execution_count": 31,
   "id": "5c517c3f",
   "metadata": {},
   "outputs": [
    {
     "data": {
      "text/html": [
       "<div>\n",
       "<style scoped>\n",
       "    .dataframe tbody tr th:only-of-type {\n",
       "        vertical-align: middle;\n",
       "    }\n",
       "\n",
       "    .dataframe tbody tr th {\n",
       "        vertical-align: top;\n",
       "    }\n",
       "\n",
       "    .dataframe thead th {\n",
       "        text-align: right;\n",
       "    }\n",
       "</style>\n",
       "<table border=\"1\" class=\"dataframe\">\n",
       "  <thead>\n",
       "    <tr style=\"text-align: right;\">\n",
       "      <th></th>\n",
       "      <th>price</th>\n",
       "      <th>airline_name</th>\n",
       "      <th>departure_city</th>\n",
       "      <th>arrival_city</th>\n",
       "      <th>travel_date</th>\n",
       "      <th>duration</th>\n",
       "      <th>stops</th>\n",
       "      <th>cabin_class</th>\n",
       "      <th>booking_date</th>\n",
       "      <th>days_until_travel</th>\n",
       "      <th>booking_type</th>\n",
       "      <th>travel_type</th>\n",
       "      <th>route</th>\n",
       "    </tr>\n",
       "  </thead>\n",
       "  <tbody>\n",
       "    <tr>\n",
       "      <th>0</th>\n",
       "      <td>29384.18</td>\n",
       "      <td>Air India</td>\n",
       "      <td>Delhi</td>\n",
       "      <td>Mumbai</td>\n",
       "      <td>2024-12-25</td>\n",
       "      <td>130</td>\n",
       "      <td>Direct</td>\n",
       "      <td>Business</td>\n",
       "      <td>2024-12-16</td>\n",
       "      <td>9</td>\n",
       "      <td>Moderate</td>\n",
       "      <td>Holiday</td>\n",
       "      <td>Delhi → Mumbai</td>\n",
       "    </tr>\n",
       "    <tr>\n",
       "      <th>1</th>\n",
       "      <td>29382.40</td>\n",
       "      <td>Air India</td>\n",
       "      <td>Delhi</td>\n",
       "      <td>Mumbai</td>\n",
       "      <td>2024-12-25</td>\n",
       "      <td>145</td>\n",
       "      <td>Direct</td>\n",
       "      <td>Business</td>\n",
       "      <td>2024-12-16</td>\n",
       "      <td>9</td>\n",
       "      <td>Moderate</td>\n",
       "      <td>Holiday</td>\n",
       "      <td>Delhi → Mumbai</td>\n",
       "    </tr>\n",
       "    <tr>\n",
       "      <th>2</th>\n",
       "      <td>37417.30</td>\n",
       "      <td>Air India</td>\n",
       "      <td>Delhi</td>\n",
       "      <td>Mumbai</td>\n",
       "      <td>2024-12-25</td>\n",
       "      <td>125</td>\n",
       "      <td>Direct</td>\n",
       "      <td>Business</td>\n",
       "      <td>2024-12-16</td>\n",
       "      <td>9</td>\n",
       "      <td>Moderate</td>\n",
       "      <td>Holiday</td>\n",
       "      <td>Delhi → Mumbai</td>\n",
       "    </tr>\n",
       "    <tr>\n",
       "      <th>3</th>\n",
       "      <td>29384.18</td>\n",
       "      <td>Air India</td>\n",
       "      <td>Delhi</td>\n",
       "      <td>Mumbai</td>\n",
       "      <td>2024-12-25</td>\n",
       "      <td>135</td>\n",
       "      <td>Direct</td>\n",
       "      <td>Business</td>\n",
       "      <td>2024-12-16</td>\n",
       "      <td>9</td>\n",
       "      <td>Moderate</td>\n",
       "      <td>Holiday</td>\n",
       "      <td>Delhi → Mumbai</td>\n",
       "    </tr>\n",
       "    <tr>\n",
       "      <th>4</th>\n",
       "      <td>29382.40</td>\n",
       "      <td>Air India</td>\n",
       "      <td>Delhi</td>\n",
       "      <td>Mumbai</td>\n",
       "      <td>2024-12-25</td>\n",
       "      <td>145</td>\n",
       "      <td>Direct</td>\n",
       "      <td>Business</td>\n",
       "      <td>2024-12-16</td>\n",
       "      <td>9</td>\n",
       "      <td>Moderate</td>\n",
       "      <td>Holiday</td>\n",
       "      <td>Delhi → Mumbai</td>\n",
       "    </tr>\n",
       "    <tr>\n",
       "      <th>...</th>\n",
       "      <td>...</td>\n",
       "      <td>...</td>\n",
       "      <td>...</td>\n",
       "      <td>...</td>\n",
       "      <td>...</td>\n",
       "      <td>...</td>\n",
       "      <td>...</td>\n",
       "      <td>...</td>\n",
       "      <td>...</td>\n",
       "      <td>...</td>\n",
       "      <td>...</td>\n",
       "      <td>...</td>\n",
       "      <td>...</td>\n",
       "    </tr>\n",
       "    <tr>\n",
       "      <th>3887</th>\n",
       "      <td>22384.00</td>\n",
       "      <td>Air India</td>\n",
       "      <td>Kolkata</td>\n",
       "      <td>Guwahathi</td>\n",
       "      <td>2025-02-09</td>\n",
       "      <td>1220</td>\n",
       "      <td>1 stop</td>\n",
       "      <td>Premium Economy</td>\n",
       "      <td>2024-12-16</td>\n",
       "      <td>55</td>\n",
       "      <td>Advanced</td>\n",
       "      <td>Weekend</td>\n",
       "      <td>Kolkata → Guwahathi</td>\n",
       "    </tr>\n",
       "    <tr>\n",
       "      <th>3888</th>\n",
       "      <td>19497.00</td>\n",
       "      <td>Air India</td>\n",
       "      <td>Kolkata</td>\n",
       "      <td>Guwahathi</td>\n",
       "      <td>2025-02-09</td>\n",
       "      <td>1545</td>\n",
       "      <td>1 stop</td>\n",
       "      <td>Premium Economy</td>\n",
       "      <td>2024-12-16</td>\n",
       "      <td>55</td>\n",
       "      <td>Advanced</td>\n",
       "      <td>Weekend</td>\n",
       "      <td>Kolkata → Guwahathi</td>\n",
       "    </tr>\n",
       "    <tr>\n",
       "      <th>3889</th>\n",
       "      <td>42707.00</td>\n",
       "      <td>Air India</td>\n",
       "      <td>Kolkata</td>\n",
       "      <td>Guwahathi</td>\n",
       "      <td>2025-02-09</td>\n",
       "      <td>660</td>\n",
       "      <td>1 stop</td>\n",
       "      <td>Premium Economy</td>\n",
       "      <td>2024-12-16</td>\n",
       "      <td>55</td>\n",
       "      <td>Advanced</td>\n",
       "      <td>Weekend</td>\n",
       "      <td>Kolkata → Guwahathi</td>\n",
       "    </tr>\n",
       "    <tr>\n",
       "      <th>3890</th>\n",
       "      <td>42203.00</td>\n",
       "      <td>Air India</td>\n",
       "      <td>Kolkata</td>\n",
       "      <td>Guwahathi</td>\n",
       "      <td>2025-02-09</td>\n",
       "      <td>775</td>\n",
       "      <td>1 stop</td>\n",
       "      <td>Premium Economy</td>\n",
       "      <td>2024-12-16</td>\n",
       "      <td>55</td>\n",
       "      <td>Advanced</td>\n",
       "      <td>Weekend</td>\n",
       "      <td>Kolkata → Guwahathi</td>\n",
       "    </tr>\n",
       "    <tr>\n",
       "      <th>3891</th>\n",
       "      <td>65163.00</td>\n",
       "      <td>Air India</td>\n",
       "      <td>Kolkata</td>\n",
       "      <td>Guwahathi</td>\n",
       "      <td>2025-02-09</td>\n",
       "      <td>625</td>\n",
       "      <td>1 stop</td>\n",
       "      <td>Premium Economy</td>\n",
       "      <td>2024-12-16</td>\n",
       "      <td>55</td>\n",
       "      <td>Advanced</td>\n",
       "      <td>Weekend</td>\n",
       "      <td>Kolkata → Guwahathi</td>\n",
       "    </tr>\n",
       "  </tbody>\n",
       "</table>\n",
       "<p>3892 rows × 13 columns</p>\n",
       "</div>"
      ],
      "text/plain": [
       "         price airline_name departure_city arrival_city travel_date  duration  \\\n",
       "0     29384.18    Air India          Delhi       Mumbai  2024-12-25       130   \n",
       "1     29382.40    Air India          Delhi       Mumbai  2024-12-25       145   \n",
       "2     37417.30    Air India          Delhi       Mumbai  2024-12-25       125   \n",
       "3     29384.18    Air India          Delhi       Mumbai  2024-12-25       135   \n",
       "4     29382.40    Air India          Delhi       Mumbai  2024-12-25       145   \n",
       "...        ...          ...            ...          ...         ...       ...   \n",
       "3887  22384.00    Air India        Kolkata    Guwahathi  2025-02-09      1220   \n",
       "3888  19497.00    Air India        Kolkata    Guwahathi  2025-02-09      1545   \n",
       "3889  42707.00    Air India        Kolkata    Guwahathi  2025-02-09       660   \n",
       "3890  42203.00    Air India        Kolkata    Guwahathi  2025-02-09       775   \n",
       "3891  65163.00    Air India        Kolkata    Guwahathi  2025-02-09       625   \n",
       "\n",
       "       stops      cabin_class booking_date  days_until_travel booking_type  \\\n",
       "0     Direct         Business   2024-12-16                  9     Moderate   \n",
       "1     Direct         Business   2024-12-16                  9     Moderate   \n",
       "2     Direct         Business   2024-12-16                  9     Moderate   \n",
       "3     Direct         Business   2024-12-16                  9     Moderate   \n",
       "4     Direct         Business   2024-12-16                  9     Moderate   \n",
       "...      ...              ...          ...                ...          ...   \n",
       "3887  1 stop  Premium Economy   2024-12-16                 55     Advanced   \n",
       "3888  1 stop  Premium Economy   2024-12-16                 55     Advanced   \n",
       "3889  1 stop  Premium Economy   2024-12-16                 55     Advanced   \n",
       "3890  1 stop  Premium Economy   2024-12-16                 55     Advanced   \n",
       "3891  1 stop  Premium Economy   2024-12-16                 55     Advanced   \n",
       "\n",
       "     travel_type                route  \n",
       "0        Holiday       Delhi → Mumbai  \n",
       "1        Holiday       Delhi → Mumbai  \n",
       "2        Holiday       Delhi → Mumbai  \n",
       "3        Holiday       Delhi → Mumbai  \n",
       "4        Holiday       Delhi → Mumbai  \n",
       "...          ...                  ...  \n",
       "3887     Weekend  Kolkata → Guwahathi  \n",
       "3888     Weekend  Kolkata → Guwahathi  \n",
       "3889     Weekend  Kolkata → Guwahathi  \n",
       "3890     Weekend  Kolkata → Guwahathi  \n",
       "3891     Weekend  Kolkata → Guwahathi  \n",
       "\n",
       "[3892 rows x 13 columns]"
      ]
     },
     "execution_count": 31,
     "metadata": {},
     "output_type": "execute_result"
    }
   ],
   "source": [
    "data['route'] = data['departure_city'] + \" → \" + data['arrival_city']\n",
    "data"
   ]
  },
  {
   "cell_type": "markdown",
   "id": "f888ef40-6ebc-4f76-9a31-82ceca324ab0",
   "metadata": {},
   "source": [
    "+ Economy Class Has the lowest prices and don’t vary much and Best for budget-friendly travelers.\n",
    "+ Premium Economy is slightly more expensive than Economy class and here prices vary a bit more but are still reasonable.A good choice for travelers looking for extra comfort.\n",
    "+ Business Class prices are much higher than Economy and Premium Economy and a wide range of prices is available.Suitable for travelers who want a premium experience.\n",
    "+ First Class prices are the most expensive tickets which vary a lot, with some very high amounts and designed for a small group of luxury travelers."
   ]
  },
  {
   "cell_type": "markdown",
   "id": "3f51e479",
   "metadata": {},
   "source": [
    "*Ticket Price*"
   ]
  },
  {
   "cell_type": "markdown",
   "id": "15c52789",
   "metadata": {},
   "source": [
    "### Summary staistics of prices"
   ]
  },
  {
   "cell_type": "code",
   "execution_count": 36,
   "id": "35f43a36",
   "metadata": {},
   "outputs": [
    {
     "data": {
      "text/plain": [
       "count      3892.000000\n",
       "mean      30434.573099\n",
       "std       29713.645818\n",
       "min        2682.000000\n",
       "25%       10554.100000\n",
       "50%       19105.110000\n",
       "75%       40541.565000\n",
       "max      291560.990000\n",
       "Name: price, dtype: float64"
      ]
     },
     "execution_count": 36,
     "metadata": {},
     "output_type": "execute_result"
    }
   ],
   "source": [
    "data[\"price\"].describe()"
   ]
  },
  {
   "cell_type": "markdown",
   "id": "3eecf47f",
   "metadata": {},
   "source": [
    "### for checking distribution i used histogram"
   ]
  },
  {
   "cell_type": "code",
   "execution_count": 39,
   "id": "fbe3b706",
   "metadata": {},
   "outputs": [
    {
     "data": {
      "text/plain": [
       "<Axes: xlabel='price', ylabel='Count'>"
      ]
     },
     "execution_count": 39,
     "metadata": {},
     "output_type": "execute_result"
    },
    {
     "data": {
      "image/png": "[encoded data removed]",
      "text/plain": [
       "<Figure size 640x480 with 1 Axes>"
      ]
     },
     "metadata": {},
     "output_type": "display_data"
    }
   ],
   "source": [
    "sns.histplot(data=data,x=\"price\",kde=True,bins=55)  #positively skewed "
   ]
  },
  {
   "cell_type": "code",
   "execution_count": 42,
   "id": "9c0d81b3",
   "metadata": {},
   "outputs": [
    {
     "data": {
      "text/plain": [
       "<Axes: >"
      ]
     },
     "execution_count": 42,
     "metadata": {},
     "output_type": "execute_result"
    },
    {
     "data": {
      "image/png": "[encoded data removed]",
      "text/plain": [
       "<Figure size 640x480 with 1 Axes>"
      ]
     },
     "metadata": {},
     "output_type": "display_data"
    }
   ],
   "source": [
    "data[\"price\"].plot(kind = \"box\")  "
   ]
  },
  {
   "cell_type": "code",
   "execution_count": 48,
   "id": "c1dbacfe",
   "metadata": {},
   "outputs": [
    {
     "data": {
      "text/plain": [
       "0      2024-12-25\n",
       "1      2024-12-25\n",
       "2      2024-12-25\n",
       "3      2024-12-25\n",
       "4      2024-12-25\n",
       "          ...    \n",
       "3887   2025-02-09\n",
       "3888   2025-02-09\n",
       "3889   2025-02-09\n",
       "3890   2025-02-09\n",
       "3891   2025-02-09\n",
       "Name: travel_date, Length: 3892, dtype: datetime64[ns]"
      ]
     },
     "execution_count": 48,
     "metadata": {},
     "output_type": "execute_result"
    }
   ],
   "source": [
    "data[\"travel_date\"]"
   ]
  },
  {
   "cell_type": "code",
   "execution_count": null,
   "id": "0c66bf51",
   "metadata": {},
   "outputs": [],
   "source": []
  },
  {
   "cell_type": "markdown",
   "id": "e38041a5",
   "metadata": {},
   "source": [
    "# Route Analysis"
   ]
  },
  {
   "cell_type": "code",
   "execution_count": 63,
   "id": "eec0ada8",
   "metadata": {},
   "outputs": [
    {
     "data": {
      "text/plain": [
       "count                    3892\n",
       "unique                      6\n",
       "top       Chennai → Hyderabad\n",
       "freq                      740\n",
       "Name: route, dtype: object"
      ]
     },
     "execution_count": 63,
     "metadata": {},
     "output_type": "execute_result"
    }
   ],
   "source": [
    "data[\"route\"].describe()"
   ]
  },
  {
   "cell_type": "code",
   "execution_count": 54,
   "id": "29d4b99c",
   "metadata": {},
   "outputs": [
    {
     "data": {
      "text/plain": [
       "Chennai → Hyderabad    740\n",
       "Mumbai → Goa           733\n",
       "Banglore → Kolkata     699\n",
       "Delhi → Banglore       636\n",
       "Kolkata → Guwahathi    553\n",
       "Delhi → Mumbai         531\n",
       "Name: route, dtype: int64"
      ]
     },
     "execution_count": 54,
     "metadata": {},
     "output_type": "execute_result"
    }
   ],
   "source": [
    "data[\"route\"].value_counts()"
   ]
  },
  {
   "cell_type": "code",
   "execution_count": 53,
   "id": "21681491",
   "metadata": {},
   "outputs": [
    {
     "data": {
      "text/plain": [
       "<Axes: >"
      ]
     },
     "execution_count": 53,
     "metadata": {},
     "output_type": "execute_result"
    },
    {
     "data": {
      "image/png": "[encoded data removed]",
      "text/plain": [
       "<Figure size 640x480 with 1 Axes>"
      ]
     },
     "metadata": {},
     "output_type": "display_data"
    }
   ],
   "source": [
    "data[\"route\"].value_counts().plot(kind=\"barh\")"
   ]
  },
  {
   "cell_type": "markdown",
   "id": "c072bf42",
   "metadata": {},
   "source": [
    "+ High Demand: Chennai → Hyderabad, Mumbai → Goa, and Bangalore → Kolkata have the most bookings.\n",
    "+ Moderate Demand: Delhi → Bangalore and  show consistent demand.\n",
    "+ Low Demand: Kolkata → Guwahati,Delhi → Mumbai has the least bookings."
   ]
  },
  {
   "cell_type": "markdown",
   "id": "fb911b94",
   "metadata": {},
   "source": [
    "# No of stops"
   ]
  },
  {
   "cell_type": "code",
   "execution_count": 65,
   "id": "d2eb6b85",
   "metadata": {},
   "outputs": [
    {
     "data": {
      "text/plain": [
       "1 stop     0.557040\n",
       "Direct     0.437050\n",
       "2 stops    0.005653\n",
       "3 stops    0.000257\n",
       "Name: stops, dtype: float64"
      ]
     },
     "execution_count": 65,
     "metadata": {},
     "output_type": "execute_result"
    }
   ],
   "source": [
    "data[\"stops\"].value_counts(normalize=True)"
   ]
  },
  {
   "cell_type": "code",
   "execution_count": 67,
   "id": "fe7cfecd",
   "metadata": {},
   "outputs": [
    {
     "data": {
      "text/plain": [
       "<Axes: ylabel='stops'>"
      ]
     },
     "execution_count": 67,
     "metadata": {},
     "output_type": "execute_result"
    },
    {
     "data": {
      "image/png": "[encoded data removed]",
      "text/plain": [
       "<Figure size 640x480 with 1 Axes>"
      ]
     },
     "metadata": {},
     "output_type": "display_data"
    }
   ],
   "source": []
  },
  {
   "cell_type": "markdown",
   "id": "883672a0",
   "metadata": {},
   "source": [
    "+ 1-Stop Flights Dominate: The highest number of flights (2168) are 1-stop, showing their popularity due to route coverage or affordability.\n",
    "+ Direct Flights Are Common: Direct flights (1701) are the second most preferred, reflecting demand for convenience.\n",
    "+ Multi-Stop Flights Are Rare: Only 22 flights have 2 stops, and just 1 has 3 stops, indicating low demand or limited availability.\n",
    "+ 1-stop flights balance cost and connectivity, while direct flights cater to those prioritizing convenience. Multi-stop flights are insignificant."
   ]
  },
  {
   "cell_type": "code",
   "execution_count": 60,
   "id": "7d571c39",
   "metadata": {},
   "outputs": [
    {
     "data": {
      "text/plain": [
       "count                3892\n",
       "unique                  4\n",
       "top       Premium Economy\n",
       "freq                 1358\n",
       "Name: cabin_class, dtype: object"
      ]
     },
     "execution_count": 60,
     "metadata": {},
     "output_type": "execute_result"
    }
   ],
   "source": [
    "data[\"cabin_class\"].describe()"
   ]
  },
  {
   "cell_type": "code",
   "execution_count": 62,
   "id": "cc01ab50",
   "metadata": {},
   "outputs": [
    {
     "data": {
      "text/plain": [
       "<Axes: >"
      ]
     },
     "execution_count": 62,
     "metadata": {},
     "output_type": "execute_result"
    },
    {
     "data": {
      "image/png": "[encoded data removed]",
      "text/plain": [
       "<Figure size 640x480 with 1 Axes>"
      ]
     },
     "metadata": {},
     "output_type": "display_data"
    }
   ],
   "source": [
    "data[\"cabin_class\"].value_counts().plot(kind=\"barh\")"
   ]
  },
  {
   "cell_type": "markdown",
   "id": "48ca96fd",
   "metadata": {},
   "source": [
    "+ Travelers prioritize comfort and affordability, as Premium Economy often offers better amenities than Economy at a lower price than Business or First Class."
   ]
  },
  {
   "cell_type": "code",
   "execution_count": 74,
   "id": "db2645ed",
   "metadata": {},
   "outputs": [
    {
     "data": {
      "text/plain": [
       "Air India         80.883864\n",
       "IndiGo            16.366906\n",
       "Akasa Air          1.413155\n",
       "SpiceJet           0.770812\n",
       "Etihad Airways     0.565262\n",
       "Name: airline_name, dtype: float64"
      ]
     },
     "execution_count": 74,
     "metadata": {},
     "output_type": "execute_result"
    }
   ],
   "source": [
    "data[\"airline_name\"].value_counts(normalize=True)*(100)"
   ]
  },
  {
   "cell_type": "code",
   "execution_count": 76,
   "id": "552053e1",
   "metadata": {},
   "outputs": [
    {
     "data": {
      "text/plain": [
       "<Axes: >"
      ]
     },
     "execution_count": 76,
     "metadata": {},
     "output_type": "execute_result"
    },
    {
     "data": {
      "image/png": "[encoded data removed]",
      "text/plain": [
       "<Figure size 640x480 with 1 Axes>"
      ]
     },
     "metadata": {},
     "output_type": "display_data"
    }
   ],
   "source": [
    "data[\"airline_name\"].value_counts().plot(kind=\"barh\")"
   ]
  },
  {
   "cell_type": "markdown",
   "id": "19c9ecfe",
   "metadata": {},
   "source": [
    "+ Air India dominates with 80.88%, IndiGo holds 16.37%, while Akasa (1.41%), SpiceJet (0.78%), and Etihad have minimal shares.\n",
    "\n",
    "\n",
    "\n",
    "\n",
    "\n",
    "\n"
   ]
  },
  {
   "cell_type": "code",
   "execution_count": null,
   "id": "8d19c5f1",
   "metadata": {},
   "outputs": [],
   "source": [
    "  "
   ]
  },
  {
   "cell_type": "code",
   "execution_count": null,
   "id": "f36825fa",
   "metadata": {},
   "outputs": [],
   "source": []
  },
  {
   "cell_type": "code",
   "execution_count": null,
   "id": "92d347a4",
   "metadata": {},
   "outputs": [],
   "source": []
  },
  {
   "cell_type": "code",
   "execution_count": null,
   "id": "93446d91",
   "metadata": {},
   "outputs": [],
   "source": []
  },
  {
   "cell_type": "code",
   "execution_count": null,
   "id": "4ac76bcf",
   "metadata": {},
   "outputs": [],
   "source": []
  },
  {
   "cell_type": "code",
   "execution_count": null,
   "id": "52227063",
   "metadata": {},
   "outputs": [],
   "source": []
  },
  {
   "cell_type": "code",
   "execution_count": null,
   "id": "8d590bd9",
   "metadata": {},
   "outputs": [],
   "source": []
  },
  {
   "cell_type": "code",
   "execution_count": null,
   "id": "b3bb7dab",
   "metadata": {},
   "outputs": [],
   "source": []
  },
  {
   "cell_type": "code",
   "execution_count": null,
   "id": "2715cb50",
   "metadata": {},
   "outputs": [],
   "source": []
  },
  {
   "cell_type": "code",
   "execution_count": null,
   "id": "2a90de35",
   "metadata": {},
   "outputs": [],
   "source": []
  },
  {
   "cell_type": "code",
   "execution_count": null,
   "id": "0d32e51e",
   "metadata": {},
   "outputs": [],
   "source": []
  }
 ],
 "metadata": {
  "kernelspec": {
   "display_name": "Python 3 (ipykernel)",
   "language": "python",
   "name": "python3"
  },
  "language_info": {
   "codemirror_mode": {
    "name": "ipython",
    "version": 3
   },
   "file_extension": ".py",
   "mimetype": "text/x-python",
   "name": "python",
   "nbconvert_exporter": "python",
   "pygments_lexer": "ipython3",
   "version": "3.11.5"
  }
 },
 "nbformat": 4,
 "nbformat_minor": 5
}
