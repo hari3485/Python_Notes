{
 "cells": [
  {
   "cell_type": "markdown",
   "id": "e1192987",
   "metadata": {},
   "source": [
    "#### 1.A a. Create a 1D array using arange().\n",
    "   - Use the flip() function to reverse the order of elements in a 1D array.\n",
    "   - Achieve the same above output without using flip().\n"
   ]
  },
  {
   "cell_type": "code",
   "execution_count": 1,
   "id": "480b9e37",
   "metadata": {},
   "outputs": [
    {
     "name": "stdout",
     "output_type": "stream",
     "text": [
      "Requirement already satisfied: numpy in c:\\users\\lenovo\\anaconda3\\lib\\site-packages (1.24.3)\n"
     ]
    },
    {
     "name": "stderr",
     "output_type": "stream",
     "text": [
      "WARNING: There was an error checking the latest version of pip.\n"
     ]
    }
   ],
   "source": [
    "!pip install numpy\n",
    "import numpy as np"
   ]
  },
  {
   "cell_type": "code",
   "execution_count": 2,
   "id": "f759b819",
   "metadata": {},
   "outputs": [
    {
     "data": {
      "text/plain": [
       "array([  2,   1,   3,  45,  56,  69,  78, 106])"
      ]
     },
     "execution_count": 2,
     "metadata": {},
     "output_type": "execute_result"
    }
   ],
   "source": [
    "arr_1d = np.array([2,1,3,45,56,69,78,106])\n",
    "arr_1d"
   ]
  },
  {
   "cell_type": "code",
   "execution_count": 3,
   "id": "b23dd6c4",
   "metadata": {},
   "outputs": [
    {
     "data": {
      "text/plain": [
       "array([106,  78,  69,  56,  45,   3,   1,   2])"
      ]
     },
     "execution_count": 3,
     "metadata": {},
     "output_type": "execute_result"
    }
   ],
   "source": [
    "#reversing the 1D array\n",
    "np.flip(arr_1d)"
   ]
  },
  {
   "cell_type": "code",
   "execution_count": 4,
   "id": "684c995d",
   "metadata": {},
   "outputs": [
    {
     "data": {
      "text/plain": [
       "array([106,  78,  69,  56,  45,   3,   1,   2])"
      ]
     },
     "execution_count": 4,
     "metadata": {},
     "output_type": "execute_result"
    }
   ],
   "source": [
    "arr_1d[-1:-9:-1]"
   ]
  },
  {
   "cell_type": "code",
   "execution_count": 5,
   "id": "d0b7d8ac",
   "metadata": {},
   "outputs": [
    {
     "data": {
      "text/plain": [
       "array([106,  78,  69,  56,  45,   3,   1,   2])"
      ]
     },
     "execution_count": 5,
     "metadata": {},
     "output_type": "execute_result"
    }
   ],
   "source": [
    "arr_1d[::-1]"
   ]
  },
  {
   "cell_type": "code",
   "execution_count": 6,
   "id": "70e2c9a7",
   "metadata": {},
   "outputs": [],
   "source": [
    "## B.Create a boolean array indicating which elements of the above 1D array are greater than 3.\n",
    "## Replace all even numbers in the array with -1."
   ]
  },
  {
   "cell_type": "code",
   "execution_count": 7,
   "id": "23cc8a6e",
   "metadata": {},
   "outputs": [
    {
     "data": {
      "text/plain": [
       "array([ 45,  56,  69,  78, 106])"
      ]
     },
     "execution_count": 7,
     "metadata": {},
     "output_type": "execute_result"
    }
   ],
   "source": [
    "arr_1d[arr_1d > 3] #its not giving for values less than \"3\""
   ]
  },
  {
   "cell_type": "code",
   "execution_count": 8,
   "id": "51a10cca",
   "metadata": {},
   "outputs": [
    {
     "data": {
      "text/plain": [
       "array([-1,  1,  3, 45, -1, 69, -1, -1])"
      ]
     },
     "execution_count": 8,
     "metadata": {},
     "output_type": "execute_result"
    }
   ],
   "source": [
    "arr_1d[arr_1d % 2 == 0]=-1\n",
    "arr_1d"
   ]
  },
  {
   "cell_type": "markdown",
   "id": "130e2029",
   "metadata": {},
   "source": [
    "## Q2. \n",
    "a. Generate a 2D array with random elements. \n",
    "   - Transpose the array.\n",
    "   - Flatten the array \n"
   ]
  },
  {
   "cell_type": "code",
   "execution_count": 9,
   "id": "b5d9603f",
   "metadata": {},
   "outputs": [
    {
     "data": {
      "text/plain": [
       "array([[4, 5, 7],\n",
       "       [8, 3, 1],\n",
       "       [7, 9, 6]])"
      ]
     },
     "execution_count": 9,
     "metadata": {},
     "output_type": "execute_result"
    }
   ],
   "source": [
    "np.random.seed(20)\n",
    "arr_2d=np.random.randint(1,10,(3,3))\n",
    "arr_2d"
   ]
  },
  {
   "cell_type": "code",
   "execution_count": 10,
   "id": "10114d5c",
   "metadata": {},
   "outputs": [
    {
     "data": {
      "text/plain": [
       "array([[4, 8, 7],\n",
       "       [5, 3, 9],\n",
       "       [7, 1, 6]])"
      ]
     },
     "execution_count": 10,
     "metadata": {},
     "output_type": "execute_result"
    }
   ],
   "source": [
    "np.transpose(arr_2d)"
   ]
  },
  {
   "cell_type": "code",
   "execution_count": 11,
   "id": "618fe19e",
   "metadata": {},
   "outputs": [
    {
     "data": {
      "text/plain": [
       "array([4, 5, 7, 8, 3, 1, 7, 9, 6])"
      ]
     },
     "execution_count": 11,
     "metadata": {},
     "output_type": "execute_result"
    }
   ],
   "source": [
    "#flatten converts anytype of array into 1D array in 1line\n",
    "flat=arr_2d.flatten()\n",
    "flat"
   ]
  },
  {
   "cell_type": "markdown",
   "id": "6891eb9c",
   "metadata": {},
   "source": [
    "## b. \n",
    "- Include a value of 99 at index 2 in the above array.\n",
    "- Add a value of 100 to the end of a given array.\n",
    "- Delete the element at index 3 from the array.\n"
   ]
  },
  {
   "cell_type": "code",
   "execution_count": 12,
   "id": "32c4a542",
   "metadata": {},
   "outputs": [
    {
     "data": {
      "text/plain": [
       "array([ 4,  5, 99,  8,  3,  1,  7,  9,  6])"
      ]
     },
     "execution_count": 12,
     "metadata": {},
     "output_type": "execute_result"
    }
   ],
   "source": [
    "#including \"99\" at index 2\n",
    "flat[2]=99\n",
    "flat"
   ]
  },
  {
   "cell_type": "code",
   "execution_count": 17,
   "id": "62f7bf1c",
   "metadata": {},
   "outputs": [
    {
     "name": "stdout",
     "output_type": "stream",
     "text": [
      "appending an element [  4   5  99   8   3   1   7   9   6 100]\n"
     ]
    }
   ],
   "source": [
    "#appending a element we have to give variablename and value\n",
    "print(\"appending an element\",np.append(flat,100))"
   ]
  },
  {
   "cell_type": "code",
   "execution_count": 16,
   "id": "5e6c6553",
   "metadata": {},
   "outputs": [
    {
     "name": "stdout",
     "output_type": "stream",
     "text": [
      "deleting the element at index 3 [4 5 8 3 1 7 9 6]\n"
     ]
    }
   ],
   "source": [
    "#Delete the element at index 3 from the array.\n",
    "print(\"deleting the element at index 3\",np.delete(arr_2d,2))"
   ]
  },
  {
   "cell_type": "code",
   "execution_count": null,
   "id": "e5dad39d",
   "metadata": {},
   "outputs": [],
   "source": [
    "# # Q3. \n",
    "# a. Create a 2D array. Iterate through the elements of the array and print elements using both nditer() and for loop.\n"
   ]
  },
  {
   "cell_type": "code",
   "execution_count": 19,
   "id": "97e9b410",
   "metadata": {},
   "outputs": [
    {
     "data": {
      "text/plain": [
       "array([[ 1,  2,  3,  4],\n",
       "       [34, 45, 56, 67]])"
      ]
     },
     "execution_count": 19,
     "metadata": {},
     "output_type": "execute_result"
    }
   ],
   "source": [
    "array_2d = np.array([[1,2,3,4],[34,45,56,67]])\n",
    "array_2d"
   ]
  },
  {
   "cell_type": "code",
   "execution_count": 20,
   "id": "3b6ed46b",
   "metadata": {},
   "outputs": [
    {
     "name": "stdout",
     "output_type": "stream",
     "text": [
      "[1 2 3 4]\n",
      "[34 45 56 67]\n"
     ]
    }
   ],
   "source": [
    "for i in array_2d:\n",
    "    print(i)"
   ]
  },
  {
   "cell_type": "code",
   "execution_count": 23,
   "id": "92e70d1c",
   "metadata": {},
   "outputs": [
    {
     "name": "stdout",
     "output_type": "stream",
     "text": [
      "1\n",
      "2\n",
      "3\n",
      "4\n",
      "34\n",
      "45\n",
      "56\n",
      "67\n"
     ]
    }
   ],
   "source": [
    "for i in np.nditer(array_2d):\n",
    "    print(i)"
   ]
  },
  {
   "cell_type": "code",
   "execution_count": null,
   "id": "9f4d9068",
   "metadata": {},
   "outputs": [],
   "source": [
    "#b. Generate two arrays with random float elements in it.\n",
    "#  - perform all python operations (* + - / % //).\n"
   ]
  },
  {
   "cell_type": "code",
   "execution_count": 58,
   "id": "26539ab6",
   "metadata": {},
   "outputs": [
    {
     "data": {
      "text/plain": [
       "array([0.51064106, 0.26362883, 0.31051155, 0.62685344, 0.55744981,\n",
       "       0.31857956, 0.39484322, 0.25797459, 0.58224112, 0.16162871])"
      ]
     },
     "execution_count": 58,
     "metadata": {},
     "output_type": "execute_result"
    }
   ],
   "source": [
    "a=np.random.uniform(0,1,10)\n",
    "a"
   ]
  },
  {
   "cell_type": "code",
   "execution_count": 59,
   "id": "6412c91d",
   "metadata": {},
   "outputs": [
    {
     "data": {
      "text/plain": [
       "array([0.59813382, 0.82582358, 0.15639172, 0.73430052, 0.40864343,\n",
       "       0.7786879 , 0.80397057, 0.78607144, 0.59228702, 0.6644892 ])"
      ]
     },
     "execution_count": 59,
     "metadata": {},
     "output_type": "execute_result"
    }
   ],
   "source": [
    "b=np.random.uniform(0,1,10)\n",
    "b"
   ]
  },
  {
   "cell_type": "code",
   "execution_count": 60,
   "id": "fe44ae68",
   "metadata": {},
   "outputs": [
    {
     "name": "stdout",
     "output_type": "stream",
     "text": [
      "addition of two randomly generated arrays [1.10877488 1.08945241 0.46690327 1.36115396 0.96609324 1.09726746\n",
      " 1.19881379 1.04404603 1.17452814 0.82611791]\n"
     ]
    }
   ],
   "source": [
    "print(\"addition of two randomly generated arrays\",a + b)"
   ]
  },
  {
   "cell_type": "code",
   "execution_count": 61,
   "id": "81d942bd",
   "metadata": {},
   "outputs": [
    {
     "name": "stdout",
     "output_type": "stream",
     "text": [
      "subtraction of two randomly generated arrays [0.30543169 0.2177109  0.04856143 0.4602988  0.2277982  0.24807405\n",
      " 0.31744233 0.20278646 0.34485386 0.10740053]\n"
     ]
    }
   ],
   "source": [
    "print(\"subtraction of two randomly generated arrays\",a * b)"
   ]
  },
  {
   "cell_type": "code",
   "execution_count": 63,
   "id": "ac434939",
   "metadata": {},
   "outputs": [
    {
     "name": "stdout",
     "output_type": "stream",
     "text": [
      "subtraction of two randomly generated arrays [-0.08749276 -0.56219475  0.15411983 -0.10744708  0.14880638 -0.46010834\n",
      " -0.40912735 -0.52809686 -0.0100459  -0.50286049]\n"
     ]
    }
   ],
   "source": [
    "print(\"subtraction of two randomly generated arrays\",a - b)"
   ]
  },
  {
   "cell_type": "code",
   "execution_count": 64,
   "id": "754d27f6",
   "metadata": {},
   "outputs": [
    {
     "name": "stdout",
     "output_type": "stream",
     "text": [
      "division of two randomly generated arrays [0.85372376 0.31923141 1.9854731  0.85367424 1.36414724 0.40912355\n",
      " 0.49111651 0.32818211 0.98303881 0.24323753]\n"
     ]
    }
   ],
   "source": [
    "print(\"division of two randomly generated arrays\",a / b)"
   ]
  },
  {
   "cell_type": "code",
   "execution_count": 65,
   "id": "9e56be43",
   "metadata": {},
   "outputs": [
    {
     "name": "stdout",
     "output_type": "stream",
     "text": [
      "floor division of two randomly generated arrays [0. 0. 1. 0. 1. 0. 0. 0. 0. 0.]\n"
     ]
    }
   ],
   "source": [
    "print(\"floor division of two randomly generated arrays\",a // b)"
   ]
  },
  {
   "cell_type": "code",
   "execution_count": 66,
   "id": "2e2af02b",
   "metadata": {},
   "outputs": [
    {
     "name": "stdout",
     "output_type": "stream",
     "text": [
      "modulus of two randomly generated arrays [0.51064106 0.26362883 0.15411983 0.62685344 0.14880638 0.31857956\n",
      " 0.39484322 0.25797459 0.58224112 0.16162871]\n"
     ]
    }
   ],
   "source": [
    "print(\"modulus of two randomly generated arrays\",a  % b)"
   ]
  },
  {
   "cell_type": "code",
   "execution_count": null,
   "id": "12b3a4c9",
   "metadata": {},
   "outputs": [],
   "source": [
    "#  - Also apply all mathematical functions on the two arrays."
   ]
  },
  {
   "cell_type": "code",
   "execution_count": 67,
   "id": "929ad35c",
   "metadata": {},
   "outputs": [
    {
     "data": {
      "text/plain": [
       "array([0.71459153, 0.51344798, 0.55723563, 0.79174076, 0.74662562,\n",
       "       0.56442852, 0.62836552, 0.50791199, 0.76304726, 0.40203073])"
      ]
     },
     "execution_count": 67,
     "metadata": {},
     "output_type": "execute_result"
    }
   ],
   "source": [
    "np.sqrt(a,b)"
   ]
  },
  {
   "cell_type": "code",
   "execution_count": 68,
   "id": "fc582682",
   "metadata": {},
   "outputs": [
    {
     "data": {
      "text/plain": [
       "array([0.87243138, 0.96545072, 0.95217739, 0.80987729, 0.84860698,\n",
       "       0.94968128, 0.92305688, 0.96690869, 0.83523236, 0.98696649])"
      ]
     },
     "execution_count": 68,
     "metadata": {},
     "output_type": "execute_result"
    }
   ],
   "source": [
    "np.cos(a,b)"
   ]
  },
  {
   "cell_type": "code",
   "execution_count": 69,
   "id": "711845cd",
   "metadata": {},
   "outputs": [
    {
     "data": {
      "text/plain": [
       "array([0.48873662, 0.26058572, 0.30554576, 0.58659934, 0.52902381,\n",
       "       0.31321791, 0.38466348, 0.25512269, 0.54989717, 0.1609259 ])"
      ]
     },
     "execution_count": 69,
     "metadata": {},
     "output_type": "execute_result"
    }
   ],
   "source": [
    "np.sin(a,b)"
   ]
  },
  {
   "cell_type": "code",
   "execution_count": 70,
   "id": "c3028052",
   "metadata": {},
   "outputs": [
    {
     "data": {
      "text/plain": [
       "array([0.53312417, 0.26669317, 0.31552545, 0.66872079, 0.58677301,\n",
       "       0.3239959 , 0.40518291, 0.26084553, 0.61570034, 0.16233336])"
      ]
     },
     "execution_count": 70,
     "metadata": {},
     "output_type": "execute_result"
    }
   ],
   "source": [
    "np.sinh(a,b)"
   ]
  },
  {
   "cell_type": "code",
   "execution_count": 71,
   "id": "94681fa2",
   "metadata": {},
   "outputs": [
    {
     "data": {
      "text/plain": [
       "array([1.13323492, 1.03495181, 1.04859731, 1.20299106, 1.15944063,\n",
       "       1.05117712, 1.07896858, 1.0334604 , 1.17434531, 1.01309038])"
      ]
     },
     "execution_count": 71,
     "metadata": {},
     "output_type": "execute_result"
    }
   ],
   "source": [
    "np.cosh(a,b)"
   ]
  },
  {
   "cell_type": "code",
   "execution_count": 73,
   "id": "f8ff970d",
   "metadata": {},
   "outputs": [
    {
     "data": {
      "text/plain": [
       "array([0.56020065, 0.26991095, 0.32089164, 0.72430644, 0.62340262,\n",
       "       0.32981371, 0.41672781, 0.26385396, 0.65837628, 0.16305103])"
      ]
     },
     "execution_count": 73,
     "metadata": {},
     "output_type": "execute_result"
    }
   ],
   "source": [
    "np.tan(a,b)"
   ]
  },
  {
   "cell_type": "code",
   "execution_count": 75,
   "id": "fd28ddf5",
   "metadata": {},
   "outputs": [
    {
     "data": {
      "text/plain": [
       "array([0.47044453, 0.25768655, 0.3009024 , 0.55588176, 0.50608285,\n",
       "       0.30822199, 0.375528  , 0.25240012, 0.52429242, 0.16023581])"
      ]
     },
     "execution_count": 75,
     "metadata": {},
     "output_type": "execute_result"
    }
   ],
   "source": [
    "np.tanh(a,b)"
   ]
  },
  {
   "cell_type": "code",
   "execution_count": null,
   "id": "0fa70d3d",
   "metadata": {},
   "outputs": [],
   "source": [
    "# Q4. \n",
    "# Create a random NumPy array. Generate mean, mode, median, variance and standard deviation of that array.\n",
    "# Create two NumPy arrays of the same length with random numerical values. Compute the correlation coefficient between the two arrays\n"
   ]
  },
  {
   "cell_type": "code",
   "execution_count": 84,
   "id": "2747774c",
   "metadata": {},
   "outputs": [
    {
     "data": {
      "text/plain": [
       "array([12, 23, 34, 45, 56, 67, 78, 89, 10, 10, 10, 10, 10, 11])"
      ]
     },
     "execution_count": 84,
     "metadata": {},
     "output_type": "execute_result"
    }
   ],
   "source": [
    "arrayyy=np.array([12,23,34,45,56,67,78,89,10,10,10,10,10,11])\n",
    "arrayyy"
   ]
  },
  {
   "cell_type": "code",
   "execution_count": 85,
   "id": "df428eea",
   "metadata": {},
   "outputs": [
    {
     "data": {
      "text/plain": [
       "33.214285714285715"
      ]
     },
     "execution_count": 85,
     "metadata": {},
     "output_type": "execute_result"
    }
   ],
   "source": [
    "np.mean(arrayyy)"
   ]
  },
  {
   "cell_type": "code",
   "execution_count": 86,
   "id": "43ad430b",
   "metadata": {},
   "outputs": [
    {
     "data": {
      "text/plain": [
       "761.4540816326531"
      ]
     },
     "execution_count": 86,
     "metadata": {},
     "output_type": "execute_result"
    }
   ],
   "source": [
    "np.var(arrayyy)"
   ]
  },
  {
   "cell_type": "code",
   "execution_count": 87,
   "id": "5df2e222",
   "metadata": {},
   "outputs": [
    {
     "data": {
      "text/plain": [
       "27.59445744407114"
      ]
     },
     "execution_count": 87,
     "metadata": {},
     "output_type": "execute_result"
    }
   ],
   "source": [
    "np.std(arrayyy)"
   ]
  },
  {
   "cell_type": "code",
   "execution_count": 88,
   "id": "388115e2",
   "metadata": {},
   "outputs": [
    {
     "data": {
      "text/plain": [
       "17.5"
      ]
     },
     "execution_count": 88,
     "metadata": {},
     "output_type": "execute_result"
    }
   ],
   "source": [
    "np.median(arrayyy)"
   ]
  },
  {
   "cell_type": "code",
   "execution_count": 90,
   "id": "d71d6079",
   "metadata": {},
   "outputs": [
    {
     "data": {
      "text/plain": [
       "ModeResult(mode=10, count=5)"
      ]
     },
     "execution_count": 90,
     "metadata": {},
     "output_type": "execute_result"
    }
   ],
   "source": [
    "from scipy import stats as st\n",
    "st.mode(arrayyy)"
   ]
  },
  {
   "cell_type": "markdown",
   "id": "aaf45c8e",
   "metadata": {},
   "source": [
    "# Create two NumPy arrays of the same length with random numerical values. Compute the correlation coefficient between the two arrays\n",
    "\n"
   ]
  },
  {
   "cell_type": "code",
   "execution_count": 93,
   "id": "fca34f87",
   "metadata": {},
   "outputs": [
    {
     "name": "stdout",
     "output_type": "stream",
     "text": [
      "[10 11 12 13 14] [20 22 23 34 56]\n",
      "5 5\n"
     ]
    }
   ],
   "source": [
    "aray1=np.array([10,11,12,13,14])\n",
    "aray2=np.array([20,22,23,34,56])\n",
    "print(aray1,aray2)\n",
    "print(len(aray1),len(aray2))"
   ]
  },
  {
   "cell_type": "code",
   "execution_count": 94,
   "id": "7ca09e1d",
   "metadata": {},
   "outputs": [
    {
     "data": {
      "text/plain": [
       "array([[1.        , 0.88543774],\n",
       "       [0.88543774, 1.        ]])"
      ]
     },
     "execution_count": 94,
     "metadata": {},
     "output_type": "execute_result"
    }
   ],
   "source": [
    "np.corrcoef(aray1,aray2)"
   ]
  },
  {
   "cell_type": "code",
   "execution_count": null,
   "id": "3c76b66f",
   "metadata": {},
   "outputs": [],
   "source": [
    "## Here correlation coefficient is 0.8854377"
   ]
  }
 ],
 "metadata": {
  "kernelspec": {
   "display_name": "Python 3 (ipykernel)",
   "language": "python",
   "name": "python3"
  },
  "language_info": {
   "codemirror_mode": {
    "name": "ipython",
    "version": 3
   },
   "file_extension": ".py",
   "mimetype": "text/x-python",
   "name": "python",
   "nbconvert_exporter": "python",
   "pygments_lexer": "ipython3",
   "version": "3.11.5"
  }
 },
 "nbformat": 4,
 "nbformat_minor": 5
}
