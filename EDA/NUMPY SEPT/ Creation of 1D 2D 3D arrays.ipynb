{
 "cells": [
  {
   "cell_type": "markdown",
   "id": "5782f939",
   "metadata": {},
   "source": [
    "#### 11/09/2023"
   ]
  },
  {
   "cell_type": "code",
   "execution_count": 1,
   "id": "6e8b7fb6",
   "metadata": {},
   "outputs": [
    {
     "name": "stdout",
     "output_type": "stream",
     "text": [
      "Requirement already satisfied: numpy in c:\\users\\lenovo\\anaconda3\\lib\\site-packages (1.24.3)"
     ]
    },
    {
     "name": "stderr",
     "output_type": "stream",
     "text": [
      "WARNING: There was an error checking the latest version of pip.\n"
     ]
    },
    {
     "name": "stdout",
     "output_type": "stream",
     "text": [
      "\n"
     ]
    }
   ],
   "source": [
    "!pip install numpy\n",
    "\n",
    "#when you are installing a library "
   ]
  },
  {
   "cell_type": "code",
   "execution_count": 2,
   "id": "206a8000",
   "metadata": {},
   "outputs": [
    {
     "name": "stdout",
     "output_type": "stream",
     "text": [
      "1.24.3\n"
     ]
    }
   ],
   "source": [
    "import numpy as np\n",
    "print(np.__version__)"
   ]
  },
  {
   "cell_type": "code",
   "execution_count": 3,
   "id": "f110cbe5",
   "metadata": {},
   "outputs": [],
   "source": [
    "# 3 Dimentional array acess 2nd row 3 element"
   ]
  },
  {
   "cell_type": "code",
   "execution_count": 4,
   "id": "48db73c4",
   "metadata": {},
   "outputs": [
    {
     "name": "stdout",
     "output_type": "stream",
     "text": [
      "(1, 1, 3)\n",
      "[[[1 2 3]]]\n"
     ]
    }
   ],
   "source": [
    "a = np.array([1,2,3],ndmin = 3)\n",
    "print(a.shape)\n",
    "print(a)"
   ]
  },
  {
   "cell_type": "code",
   "execution_count": 5,
   "id": "b84c60d5",
   "metadata": {},
   "outputs": [
    {
     "data": {
      "text/plain": [
       "array([[[1, 2, 3]]])"
      ]
     },
     "execution_count": 5,
     "metadata": {},
     "output_type": "execute_result"
    }
   ],
   "source": [
    "a"
   ]
  },
  {
   "cell_type": "code",
   "execution_count": 6,
   "id": "816e6797",
   "metadata": {},
   "outputs": [
    {
     "name": "stdout",
     "output_type": "stream",
     "text": [
      "(1, 3, 3)\n",
      "[[[ 1  2  3]\n",
      "  [34 45 56]\n",
      "  [54 55 67]]]\n"
     ]
    }
   ],
   "source": [
    "a = np.array([[[1,2,3],[34,45,56],[54,55,67]]])\n",
    "print(a.shape)\n",
    "print(a)"
   ]
  },
  {
   "cell_type": "code",
   "execution_count": null,
   "id": "570f66eb",
   "metadata": {},
   "outputs": [],
   "source": [
    "  "
   ]
  },
  {
   "cell_type": "code",
   "execution_count": 7,
   "id": "af89f3bd",
   "metadata": {},
   "outputs": [],
   "source": [
    "# 1D array"
   ]
  },
  {
   "cell_type": "code",
   "execution_count": null,
   "id": "0bae8010",
   "metadata": {},
   "outputs": [],
   "source": []
  },
  {
   "cell_type": "code",
   "execution_count": 8,
   "id": "932f4f40",
   "metadata": {},
   "outputs": [
    {
     "name": "stdout",
     "output_type": "stream",
     "text": [
      "[1, 4, 8, 12]\n"
     ]
    }
   ],
   "source": [
    "y = [1,2,3,4]\n",
    "for i in range(1,len(y)):\n",
    "     y[i] = i*4\n",
    "print(y)"
   ]
  },
  {
   "cell_type": "code",
   "execution_count": 9,
   "id": "cd60f930",
   "metadata": {},
   "outputs": [
    {
     "name": "stdout",
     "output_type": "stream",
     "text": [
      "[ 4  8 12 16]\n"
     ]
    }
   ],
   "source": [
    "y=np.array([1,2,3,4])\n",
    "y=y*4\n",
    "print(y)"
   ]
  },
  {
   "cell_type": "code",
   "execution_count": 10,
   "id": "c57b84c1",
   "metadata": {},
   "outputs": [],
   "source": [
    "#boolean indexing\n",
    "#to filter out\n",
    "#consider subsets"
   ]
  },
  {
   "cell_type": "code",
   "execution_count": 11,
   "id": "745722d4",
   "metadata": {},
   "outputs": [
    {
     "name": "stdout",
     "output_type": "stream",
     "text": [
      "[20 22 24 26 28 30 32 34 36 38]\n"
     ]
    }
   ],
   "source": [
    "a = np.arange(20,40,2)\n",
    "print(a)"
   ]
  },
  {
   "cell_type": "code",
   "execution_count": 12,
   "id": "a4d7a220",
   "metadata": {},
   "outputs": [
    {
     "data": {
      "text/plain": [
       "19"
      ]
     },
     "execution_count": 12,
     "metadata": {},
     "output_type": "execute_result"
    }
   ],
   "source": [
    "import random \n",
    "random.randint(10,20)"
   ]
  },
  {
   "cell_type": "code",
   "execution_count": 13,
   "id": "068d93a8",
   "metadata": {},
   "outputs": [
    {
     "name": "stdout",
     "output_type": "stream",
     "text": [
      "[[17 38 28 34 13 21 27 11 34 23]\n",
      " [27 35 12 24 15 12 29 32 32 32]\n",
      " [37 13 34 13 15 23 18 25 12 21]\n",
      " [36 36 29 33 27 26 10 28 16 36]\n",
      " [15 37 34 22 17 23 13 25 25 11]\n",
      " [25 38 39 38 22 22 25 24 18 22]\n",
      " [25 24 38 11 17 22 16 29 29 16]\n",
      " [35 22 19 38 34 29 25 26 28 15]\n",
      " [18 31 37 31 35 16 18 13 13 15]\n",
      " [36 26 34 17 11 34 37 24 16 38]]\n"
     ]
    }
   ],
   "source": [
    "my_table = np.random.randint(10,40,size = (10,10))\n",
    "print(my_table)"
   ]
  },
  {
   "cell_type": "code",
   "execution_count": 14,
   "id": "c774b7b4",
   "metadata": {},
   "outputs": [
    {
     "data": {
      "text/plain": [
       "array([[26, 28, 15],\n",
       "       [13, 13, 15],\n",
       "       [24, 16, 38]])"
      ]
     },
     "execution_count": 14,
     "metadata": {},
     "output_type": "execute_result"
    }
   ],
   "source": [
    "my_table[7:10,7:10]#last 3 rows 3 columns"
   ]
  },
  {
   "cell_type": "code",
   "execution_count": 15,
   "id": "3f2bc6b1",
   "metadata": {},
   "outputs": [
    {
     "data": {
      "text/plain": [
       "array([34, 24, 13, 33, 22, 38, 11, 38, 31, 17])"
      ]
     },
     "execution_count": 15,
     "metadata": {},
     "output_type": "execute_result"
    }
   ],
   "source": [
    "my_table[0:10,3]#ftsr column acessed"
   ]
  },
  {
   "cell_type": "code",
   "execution_count": 16,
   "id": "0828fb42",
   "metadata": {},
   "outputs": [
    {
     "data": {
      "text/plain": [
       "array([34, 24, 13, 33, 22, 38, 11, 38, 31, 17])"
      ]
     },
     "execution_count": 16,
     "metadata": {},
     "output_type": "execute_result"
    }
   ],
   "source": [
    "my_table[:,3]"
   ]
  },
  {
   "cell_type": "code",
   "execution_count": 17,
   "id": "1d3e2567",
   "metadata": {},
   "outputs": [
    {
     "name": "stdout",
     "output_type": "stream",
     "text": [
      "[[12 10 10 14 17 14 12 10]\n",
      " [10 10 13 16 15 11 14 18]\n",
      " [19 19 18 18 14 10 15 14]\n",
      " [11 10 15 19 19 18 16 16]\n",
      " [17 10 13 11 15 10 16 14]\n",
      " [15 12 16 16 19 18 19 18]\n",
      " [15 17 15 14 13 11 16 11]\n",
      " [12 18 13 13 17 11 15 15]\n",
      " [18 18 16 12 14 10 13 17]\n",
      " [18 14 16 11 18 12 16 16]]\n",
      "(10, 8)\n"
     ]
    }
   ],
   "source": [
    "# Lets create a 2dimentional array with integers\n",
    "\n",
    "\n",
    "table1 = np.random.randint(10,20,size = (10,8))\n",
    "print(table1)\n",
    "print(table1.shape) "
   ]
  },
  {
   "cell_type": "code",
   "execution_count": 18,
   "id": "d9ba2e59",
   "metadata": {},
   "outputs": [
    {
     "name": "stdout",
     "output_type": "stream",
     "text": [
      "[12 10 10 14 17 14 12 10 10 10 13 16 15 11 14 18 19 19 18 18 14 10 15 14\n",
      " 11 10 15 19 19 18 16 16 17 10 13 11 15 10 16 14 15 12 16 16 19 18 19 18\n",
      " 15 17 15 14 13 11 16 11 12 18 13 13 17 11 15 15 18 18 16 12 14 10 13 17\n",
      " 18 14 16 11 18 12 16 16]\n"
     ]
    }
   ],
   "source": [
    "print(np.ndarray.flatten(table1))"
   ]
  },
  {
   "cell_type": "code",
   "execution_count": 19,
   "id": "84a43297",
   "metadata": {},
   "outputs": [
    {
     "name": "stdout",
     "output_type": "stream",
     "text": [
      "[[4 8 4 1 6 6 6 7]\n",
      " [4 7 5 7 9 1 9 9]\n",
      " [1 8 2 7 8 8 6 5]\n",
      " [7 8 2 9 6 1 3 9]\n",
      " [6 7 4 3 7 1 7 3]\n",
      " [5 7 6 7 2 7 8 9]\n",
      " [7 5 2 8 8 2 3 9]\n",
      " [6 7 3 6 3 7 9 9]\n",
      " [1 1 8 1 9 2 3 4]\n",
      " [8 1 1 1 3 9 4 3]]\n",
      "[4 8 4 1 6 6 6 7 4 7 5 7 9 1 9 9 1 8 2 7 8 8 6 5 7 8 2 9 6 1 3 9 6 7 4 3 7\n",
      " 1 7 3 5 7 6 7 2 7 8 9 7 5 2 8 8 2 3 9 6 7 3 6 3 7 9 9 1 1 8 1 9 2 3 4 8 1\n",
      " 1 1 3 9 4 3]\n"
     ]
    }
   ],
   "source": [
    "table2 =  np.random.randint(1,10,size = (10,8))\n",
    "print(table2)\n",
    "print(np.ndarray.flatten(table2))"
   ]
  },
  {
   "cell_type": "code",
   "execution_count": 20,
   "id": "4e081216",
   "metadata": {},
   "outputs": [
    {
     "name": "stdout",
     "output_type": "stream",
     "text": [
      "[[[ 6  5 20]\n",
      "  [14  6 14]\n",
      "  [15  1  3]]\n",
      "\n",
      " [[ 1 13 21]\n",
      "  [ 4 10  6]\n",
      "  [ 6 18 14]]\n",
      "\n",
      " [[ 2 21 26]\n",
      "  [26  1 12]\n",
      "  [20 18 11]]]\n",
      "[ 6  5 20 14  6 14 15  1  3  1 13 21  4 10  6  6 18 14  2 21 26 26  1 12\n",
      " 20 18 11]\n"
     ]
    }
   ],
   "source": [
    " table2 =  np.random.randint(1,27,size = (3,3,3))\n",
    "print(table2)\n",
    "print(np.ndarray.flatten(table2))"
   ]
  },
  {
   "cell_type": "code",
   "execution_count": 21,
   "id": "f993856c",
   "metadata": {},
   "outputs": [
    {
     "data": {
      "text/plain": [
       "911.888888888889"
      ]
     },
     "execution_count": 21,
     "metadata": {},
     "output_type": "execute_result"
    }
   ],
   "source": [
    "import numpy as np\n",
    "\n",
    "A = np.array([7,8,32,45,64,92],dtype = \"int64\")\n",
    "\n",
    "np.std(A)\n",
    "np.var(A)"
   ]
  },
  {
   "cell_type": "code",
   "execution_count": 22,
   "id": "5ec816c8",
   "metadata": {},
   "outputs": [
    {
     "name": "stdout",
     "output_type": "stream",
     "text": [
      "[1 2 3 4 5]\n",
      "[3 4 5 6]\n",
      "[ 93  48 102 111]\n"
     ]
    },
    {
     "ename": "ValueError",
     "evalue": "setting an array element with a sequence. The requested array has an inhomogeneous shape after 1 dimensions. The detected shape was (2,) + inhomogeneous part.",
     "output_type": "error",
     "traceback": [
      "\u001b[1;31m---------------------------------------------------------------------------\u001b[0m",
      "\u001b[1;31mValueError\u001b[0m                                Traceback (most recent call last)",
      "Cell \u001b[1;32mIn[22], line 7\u001b[0m\n\u001b[0;32m      5\u001b[0m \u001b[38;5;28mprint\u001b[39m(b)\n\u001b[0;32m      6\u001b[0m \u001b[38;5;28mprint\u001b[39m(c)\n\u001b[1;32m----> 7\u001b[0m np\u001b[38;5;241m.\u001b[39mcorrcoef([a,c])\n",
      "File \u001b[1;32m<__array_function__ internals>:200\u001b[0m, in \u001b[0;36mcorrcoef\u001b[1;34m(*args, **kwargs)\u001b[0m\n",
      "File \u001b[1;32m~\\anaconda3\\Lib\\site-packages\\numpy\\lib\\function_base.py:2846\u001b[0m, in \u001b[0;36mcorrcoef\u001b[1;34m(x, y, rowvar, bias, ddof, dtype)\u001b[0m\n\u001b[0;32m   2842\u001b[0m \u001b[38;5;28;01mif\u001b[39;00m bias \u001b[38;5;129;01mis\u001b[39;00m \u001b[38;5;129;01mnot\u001b[39;00m np\u001b[38;5;241m.\u001b[39m_NoValue \u001b[38;5;129;01mor\u001b[39;00m ddof \u001b[38;5;129;01mis\u001b[39;00m \u001b[38;5;129;01mnot\u001b[39;00m np\u001b[38;5;241m.\u001b[39m_NoValue:\n\u001b[0;32m   2843\u001b[0m     \u001b[38;5;66;03m# 2015-03-15, 1.10\u001b[39;00m\n\u001b[0;32m   2844\u001b[0m     warnings\u001b[38;5;241m.\u001b[39mwarn(\u001b[38;5;124m'\u001b[39m\u001b[38;5;124mbias and ddof have no effect and are deprecated\u001b[39m\u001b[38;5;124m'\u001b[39m,\n\u001b[0;32m   2845\u001b[0m                   \u001b[38;5;167;01mDeprecationWarning\u001b[39;00m, stacklevel\u001b[38;5;241m=\u001b[39m\u001b[38;5;241m3\u001b[39m)\n\u001b[1;32m-> 2846\u001b[0m c \u001b[38;5;241m=\u001b[39m cov(x, y, rowvar, dtype\u001b[38;5;241m=\u001b[39mdtype)\n\u001b[0;32m   2847\u001b[0m \u001b[38;5;28;01mtry\u001b[39;00m:\n\u001b[0;32m   2848\u001b[0m     d \u001b[38;5;241m=\u001b[39m diag(c)\n",
      "File \u001b[1;32m<__array_function__ internals>:200\u001b[0m, in \u001b[0;36mcov\u001b[1;34m(*args, **kwargs)\u001b[0m\n",
      "File \u001b[1;32m~\\anaconda3\\Lib\\site-packages\\numpy\\lib\\function_base.py:2616\u001b[0m, in \u001b[0;36mcov\u001b[1;34m(m, y, rowvar, bias, ddof, fweights, aweights, dtype)\u001b[0m\n\u001b[0;32m   2612\u001b[0m     \u001b[38;5;28;01mraise\u001b[39;00m \u001b[38;5;167;01mValueError\u001b[39;00m(\n\u001b[0;32m   2613\u001b[0m         \u001b[38;5;124m\"\u001b[39m\u001b[38;5;124mddof must be integer\u001b[39m\u001b[38;5;124m\"\u001b[39m)\n\u001b[0;32m   2615\u001b[0m \u001b[38;5;66;03m# Handles complex arrays too\u001b[39;00m\n\u001b[1;32m-> 2616\u001b[0m m \u001b[38;5;241m=\u001b[39m np\u001b[38;5;241m.\u001b[39masarray(m)\n\u001b[0;32m   2617\u001b[0m \u001b[38;5;28;01mif\u001b[39;00m m\u001b[38;5;241m.\u001b[39mndim \u001b[38;5;241m>\u001b[39m \u001b[38;5;241m2\u001b[39m:\n\u001b[0;32m   2618\u001b[0m     \u001b[38;5;28;01mraise\u001b[39;00m \u001b[38;5;167;01mValueError\u001b[39;00m(\u001b[38;5;124m\"\u001b[39m\u001b[38;5;124mm has more than 2 dimensions\u001b[39m\u001b[38;5;124m\"\u001b[39m)\n",
      "\u001b[1;31mValueError\u001b[0m: setting an array element with a sequence. The requested array has an inhomogeneous shape after 1 dimensions. The detected shape was (2,) + inhomogeneous part."
     ]
    }
   ],
   "source": [
    "a=np.array([1,2,3,4,5])\n",
    "b=np.array([3,4,5,6])\n",
    "c=np.array([93,48,102,111])\n",
    "print(a)\n",
    "print(b)\n",
    "print(c)\n",
    "np.corrcoef([a,c])"
   ]
  },
  {
   "cell_type": "code",
   "execution_count": null,
   "id": "1b85cd10",
   "metadata": {},
   "outputs": [],
   "source": [
    "np.corrcoef([a,b])"
   ]
  },
  {
   "cell_type": "code",
   "execution_count": null,
   "id": "2a765afd",
   "metadata": {},
   "outputs": [],
   "source": [
    "np.corrcoef([a,c])"
   ]
  },
  {
   "cell_type": "code",
   "execution_count": null,
   "id": "2eba3e69",
   "metadata": {},
   "outputs": [],
   "source": [
    "!pip install numpy"
   ]
  },
  {
   "cell_type": "code",
   "execution_count": 1,
   "id": "da8bd1d7",
   "metadata": {},
   "outputs": [],
   "source": [
    "import numpy as np"
   ]
  },
  {
   "cell_type": "code",
   "execution_count": 2,
   "id": "acecb189",
   "metadata": {},
   "outputs": [
    {
     "name": "stdout",
     "output_type": "stream",
     "text": [
      "[[[1 2 3]\n",
      "  [4 5 6]\n",
      "  [7 8 9]]]\n"
     ]
    },
    {
     "data": {
      "text/plain": [
       "(1, 3, 3)"
      ]
     },
     "execution_count": 2,
     "metadata": {},
     "output_type": "execute_result"
    }
   ],
   "source": [
    "a=np.array([[[1,2,3],[4,5,6],[7,8,9]]])\n",
    "print(a)\n",
    "a.shape"
   ]
  },
  {
   "cell_type": "code",
   "execution_count": null,
   "id": "e5c32761",
   "metadata": {},
   "outputs": [],
   "source": [
    "# Accessing the element in the 2nd row, 3rd column of the first (and only) layer\n",
    "# Note: Indexing starts at 0, so 2nd row is index 1 and 3rd element is index 2\n",
    "a[0, 1, 2] = \"text\"\n",
    "\n",
    "print(a)\n"
   ]
  },
  {
   "cell_type": "code",
   "execution_count": null,
   "id": "fb0a4bc0",
   "metadata": {},
   "outputs": [],
   "source": [
    "y=[1,2,3,4]\n",
    "for i in range(0,len(y)):\n",
    "    y[i] = y[i]*4\n",
    "    print(y[i])"
   ]
  },
  {
   "cell_type": "code",
   "execution_count": null,
   "id": "1cdb4223",
   "metadata": {},
   "outputs": [],
   "source": [
    "z=np.array([1,2,3,4])\n",
    "z = z*4\n",
    "print(z)"
   ]
  },
  {
   "cell_type": "code",
   "execution_count": null,
   "id": "d345948d",
   "metadata": {},
   "outputs": [],
   "source": [
    "h=np.array([1,2,3,4,5,6,7,8,9,10])\n",
    "print(h)\n",
    "print(h.shape)\n",
    "print(h.ndim)\n"
   ]
  },
  {
   "cell_type": "code",
   "execution_count": 1,
   "id": "5956b7a9",
   "metadata": {},
   "outputs": [
    {
     "name": "stdout",
     "output_type": "stream",
     "text": [
      "Requirement already satisfied: numpy in c:\\users\\lenovo\\anaconda3\\lib\\site-packages (1.24.3)\n"
     ]
    },
    {
     "name": "stderr",
     "output_type": "stream",
     "text": [
      "WARNING: There was an error checking the latest version of pip.\n"
     ]
    }
   ],
   "source": [
    "!pip install numpy\n",
    "\n",
    "#when you are installing a library "
   ]
  },
  {
   "cell_type": "code",
   "execution_count": 2,
   "id": "a90c7db3",
   "metadata": {},
   "outputs": [
    {
     "name": "stdout",
     "output_type": "stream",
     "text": [
      "Python 3.11.5\n"
     ]
    }
   ],
   "source": [
    "!python --version"
   ]
  },
  {
   "cell_type": "code",
   "execution_count": 3,
   "id": "00b63cfa",
   "metadata": {},
   "outputs": [
    {
     "name": "stdout",
     "output_type": "stream",
     "text": [
      "1.24.3\n"
     ]
    }
   ],
   "source": [
    "import numpy as np\n",
    "print(np.__version__)"
   ]
  },
  {
   "cell_type": "code",
   "execution_count": 3,
   "id": "4fe8deb4",
   "metadata": {},
   "outputs": [
    {
     "name": "stdout",
     "output_type": "stream",
     "text": [
      " 1D ARRAY : [ 1  7 -6  8]\n",
      "<class 'numpy.ndarray'>\n",
      "1\n",
      "(4,)\n"
     ]
    }
   ],
   "source": [
    "arr=np.array([1,7,-6,8])\n",
    "print(f\" 1D ARRAY : {arr}\")\n",
    "print(type(arr))\n",
    "print(arr.ndim)\n",
    "print(arr.shape)\n",
    "#it gives type of the whole array"
   ]
  },
  {
   "cell_type": "code",
   "execution_count": null,
   "id": "0d73784e",
   "metadata": {},
   "outputs": [],
   "source": [
    "arr.dtype #it is giving individual data types in the array"
   ]
  },
  {
   "cell_type": "code",
   "execution_count": null,
   "id": "6737d787",
   "metadata": {},
   "outputs": [],
   "source": [
    "arr_2=np.array([ [1,2,3],\n",
    "               [4,5,6] ])\n",
    "print(f\" 2D ARRAY :{arr_2}\")\n",
    "print(arr_2.shape)\n",
    "print(type(arr_2))\n",
    "print(arr_2.ndim)"
   ]
  },
  {
   "cell_type": "code",
   "execution_count": null,
   "id": "c4ad7a4d",
   "metadata": {},
   "outputs": [],
   "source": [
    "#to check dimensions we use arrayname.ndim"
   ]
  },
  {
   "cell_type": "code",
   "execution_count": null,
   "id": "eb50cbc5",
   "metadata": {},
   "outputs": [],
   "source": [
    "#creating a simple 3D array\n",
    "arr_3d=np.array([ [ [1,2,90],\n",
    "                  [1,1,1]],\n",
    "                 [[106,69,98],\n",
    "                  [2,-3,8]] ])\n",
    "print(arr_3d)\n",
    "print(arr_3d.ndim)\n",
    "print(arr_3d.shape)\n",
    "#in shape 1st shows how  many nmatrices are taken\n",
    "#2nd one rows and  consecutively it gives columns"
   ]
  },
  {
   "cell_type": "code",
   "execution_count": null,
   "id": "961b43d5",
   "metadata": {},
   "outputs": [],
   "source": [
    "#to know the no of elements we use \"arrayname.size\"\n",
    "print(arr_3d.size)"
   ]
  },
  {
   "cell_type": "code",
   "execution_count": null,
   "id": "95ada442",
   "metadata": {},
   "outputs": [],
   "source": [
    "# total the array contains memory as  \"48bytes\" \n",
    "#its syntax is \"arrayname.nbytes\" to know whole arrays memory\n",
    "print(arr_3d.nbytes)"
   ]
  },
  {
   "cell_type": "code",
   "execution_count": null,
   "id": "9013933a",
   "metadata": {},
   "outputs": [],
   "source": [
    "#it shows how much memory an element contains \"arrayname.itemsize\"\n",
    "arr_3d.itemsize"
   ]
  },
  {
   "cell_type": "code",
   "execution_count": null,
   "id": "69f1ac5f",
   "metadata": {},
   "outputs": [],
   "source": [
    "arr1=np.array(([2,3,1],\n",
    "               [5,6,7],\n",
    "               [5,0,-1]))\n",
    "print(arr1)\n",
    "print(f\"the array shape is : {arr1.shape} \")\n",
    "print(f\"the array dimension is : {arr1.ndim} dimensions\")\n",
    "print(f\"the array size is : {arr1.size} elements\")\n",
    "print(f\"the arrays memory size of an element : {arr1.itemsize} bytes\")\n",
    "print(f\"the arrays whole memory  is : {arr1.nbytes} bytes\")\n",
    "arr1.dtype"
   ]
  },
  {
   "cell_type": "code",
   "execution_count": null,
   "id": "6a585cc5",
   "metadata": {},
   "outputs": [],
   "source": [
    "#default when we give zeros matrix iut takes \"float\"\n",
    "zeros=np.zeros((2,3),dtype = np.int16)\n",
    "print(f\"array of zeroes:\\n {zeros}\")\n",
    "\n",
    "zeros.dtype"
   ]
  },
  {
   "cell_type": "code",
   "execution_count": null,
   "id": "2b46e95a",
   "metadata": {},
   "outputs": [],
   "source": [
    "zeros.nbytes"
   ]
  },
  {
   "cell_type": "code",
   "execution_count": null,
   "id": "2c5984ad",
   "metadata": {},
   "outputs": [],
   "source": [
    "zeros.itemsize"
   ]
  },
  {
   "cell_type": "code",
   "execution_count": null,
   "id": "92d6e863",
   "metadata": {},
   "outputs": [],
   "source": [
    "one_arr=np.ones((5,4),dtype=np.int64)\n",
    "print(one_arr)\n",
    "print(one_arr.itemsize)\n",
    "print(one_arr.nbytes)"
   ]
  },
  {
   "cell_type": "markdown",
   "id": "48203090",
   "metadata": {},
   "source": [
    "#### 12/9/2024"
   ]
  },
  {
   "cell_type": "code",
   "execution_count": 24,
   "id": "eb299fd7",
   "metadata": {},
   "outputs": [
    {
     "name": "stdout",
     "output_type": "stream",
     "text": [
      "Range array : [1 3 5 7 9]\n"
     ]
    }
   ],
   "source": [
    "#Create an array with range of elements\n",
    "range_arr=np.arange(1,10,2)   #similar to python range\n",
    "print(\"Range array :\",range_arr)"
   ]
  },
  {
   "cell_type": "code",
   "execution_count": null,
   "id": "b996ead1",
   "metadata": {},
   "outputs": [],
   "source": [
    "#create an array with evenly spaced numbers over specified interval"
   ]
  },
  {
   "cell_type": "code",
   "execution_count": 25,
   "id": "e67fd773",
   "metadata": {},
   "outputs": [
    {
     "name": "stdout",
     "output_type": "stream",
     "text": [
      "linespace array: [0.   0.25 0.5  0.75 1.  ]\n"
     ]
    }
   ],
   "source": [
    "line_sparr=np.linspace(0,1,5)\n",
    "#(stop-start/step-1) formula to find linspace both start and stop are included\n",
    "print(\"linespace array:\",line_sparr)"
   ]
  },
  {
   "cell_type": "code",
   "execution_count": null,
   "id": "3f11b025",
   "metadata": {},
   "outputs": [],
   "source": [
    "line_sparr=np.linspace(0,10,11)\n",
    "print(\"linespace array:\",line_sparr)"
   ]
  },
  {
   "cell_type": "code",
   "execution_count": null,
   "id": "b3b088d0",
   "metadata": {},
   "outputs": [],
   "source": [
    "line_sparr=np.linspace(0,20,12)\n",
    "\"linespace array:\",line_sparr\n",
    "#if we use print we can see elements without commas here we see array\n",
    "#if we dont use print we can see it clearly with commas"
   ]
  },
  {
   "cell_type": "code",
   "execution_count": null,
   "id": "3ecf96e8",
   "metadata": {},
   "outputs": [],
   "source": [
    "len(line_sparr)"
   ]
  },
  {
   "cell_type": "code",
   "execution_count": null,
   "id": "2e6e9bb4",
   "metadata": {},
   "outputs": [],
   "source": [
    "#matrix multipliacation\n",
    "a=np.array([ [1,2],\n",
    "           [3,4] ])\n",
    "b=np.array([ [1,2,-1],\n",
    "           [5,0,1] ])\n",
    "a.shape,b.shape"
   ]
  },
  {
   "cell_type": "code",
   "execution_count": null,
   "id": "1d172018",
   "metadata": {},
   "outputs": [],
   "source": [
    "#matrix multiplication of a and b\n",
    "res=a @ b\n",
    "res.shape,res"
   ]
  },
  {
   "cell_type": "code",
   "execution_count": null,
   "id": "7d95e654",
   "metadata": {},
   "outputs": [],
   "source": [
    "res1=b @ a\n",
    "res1.shape,res\n",
    "#here the no of col in frst matrix is not equal to rows of second matrix"
   ]
  },
  {
   "cell_type": "code",
   "execution_count": null,
   "id": "e2169fbb",
   "metadata": {},
   "outputs": [],
   "source": [
    "#creating diagonal elements \n",
    "#A matrix which has values on diagonal and remaining all values are equal \"0\""
   ]
  },
  {
   "cell_type": "code",
   "execution_count": null,
   "id": "b927175a",
   "metadata": {},
   "outputs": [],
   "source": [
    "diag_matrix=np.diag([2,5,1,-1])\n",
    "diag_matrix"
   ]
  },
  {
   "cell_type": "code",
   "execution_count": null,
   "id": "3923552a",
   "metadata": {},
   "outputs": [],
   "source": [
    "#identity matrix is defined as A*A^-1== I"
   ]
  },
  {
   "cell_type": "code",
   "execution_count": null,
   "id": "247f4be6",
   "metadata": {},
   "outputs": [],
   "source": [
    "identity_matrix=np.eye(2,dtype=int)\n",
    "identity_matrix"
   ]
  },
  {
   "cell_type": "code",
   "execution_count": null,
   "id": "668d2d31",
   "metadata": {},
   "outputs": [],
   "source": [
    "#How to calculate inverse in pytho\n",
    "#from numpy.linalg,import inv"
   ]
  },
  {
   "cell_type": "code",
   "execution_count": null,
   "id": "6f5b959e",
   "metadata": {},
   "outputs": [],
   "source": [
    "from numpy.linalg import inv\n",
    "a=np.array([ [1,2],\n",
    "           [3,4] ])\n",
    "a_inv = inv(a)\n",
    "a @ a_inv"
   ]
  },
  {
   "cell_type": "code",
   "execution_count": null,
   "id": "ee62a790",
   "metadata": {},
   "outputs": [],
   "source": [
    "inv(a)"
   ]
  },
  {
   "cell_type": "code",
   "execution_count": null,
   "id": "0c3b050f",
   "metadata": {},
   "outputs": [],
   "source": [
    "#full is used to fill each and evry element in matrix to one value\n",
    "full_arr = np.full( (3,4), -3 )\n",
    "full_arr"
   ]
  },
  {
   "cell_type": "code",
   "execution_count": null,
   "id": "37065858",
   "metadata": {},
   "outputs": [],
   "source": [
    "string_arr=np.array([\"bachi\",\"munnulakshmi\"])\n",
    "print(string_arr.dtype)\n",
    "string_arr"
   ]
  },
  {
   "cell_type": "code",
   "execution_count": null,
   "id": "3084024f",
   "metadata": {},
   "outputs": [],
   "source": [
    "string_arr.itemsize"
   ]
  },
  {
   "cell_type": "code",
   "execution_count": null,
   "id": "ea650eb7",
   "metadata": {},
   "outputs": [],
   "source": [
    "string_arr.nbytes"
   ]
  },
  {
   "cell_type": "code",
   "execution_count": null,
   "id": "635d0d30",
   "metadata": {},
   "outputs": [],
   "source": [
    "#NP.RANDOM.RAND background behind this is uniform distribution [0,1]\n",
    "#gives values between O and 1"
   ]
  },
  {
   "cell_type": "code",
   "execution_count": null,
   "id": "7c2c3b80",
   "metadata": {},
   "outputs": [],
   "source": [
    "#if we take seed and runs we get same values how many times we run the code"
   ]
  },
  {
   "cell_type": "code",
   "execution_count": null,
   "id": "1420b262",
   "metadata": {},
   "outputs": [],
   "source": [
    "np.random.seed(20)\n",
    "np.random.rand(10)"
   ]
  },
  {
   "cell_type": "code",
   "execution_count": null,
   "id": "65386f2a",
   "metadata": {},
   "outputs": [],
   "source": [
    "#uniform dist each element has equal chance of occuring\n",
    "#u=1/(b-a)"
   ]
  },
  {
   "cell_type": "code",
   "execution_count": null,
   "id": "c522420b",
   "metadata": {},
   "outputs": [],
   "source": [
    "#generating random integers\n",
    "random_int=np.random.randint(0,11,size = 20)\n",
    "random_int"
   ]
  },
  {
   "cell_type": "code",
   "execution_count": null,
   "id": "d5f52e90",
   "metadata": {},
   "outputs": [],
   "source": [
    "#indexing and slicing \n",
    "#indexing we specify the rows,columns\n",
    "#1D array"
   ]
  },
  {
   "cell_type": "code",
   "execution_count": null,
   "id": "dca1d30a",
   "metadata": {},
   "outputs": [],
   "source": [
    "arr_1dd=np.array([10,20,30,106,69,78])\n",
    "arr_1dd"
   ]
  },
  {
   "cell_type": "code",
   "execution_count": null,
   "id": "192dc582",
   "metadata": {},
   "outputs": [],
   "source": [
    "arr_1dd[2]=106"
   ]
  },
  {
   "cell_type": "code",
   "execution_count": null,
   "id": "75e6623a",
   "metadata": {},
   "outputs": [],
   "source": [
    "arr_1dd"
   ]
  },
  {
   "cell_type": "code",
   "execution_count": null,
   "id": "63d95d0c",
   "metadata": {},
   "outputs": [],
   "source": [
    "#sling changing multiple positions with an element at a time"
   ]
  },
  {
   "cell_type": "code",
   "execution_count": null,
   "id": "7f7c4c90",
   "metadata": {},
   "outputs": [],
   "source": [
    "arr_1dd[:]=106"
   ]
  },
  {
   "cell_type": "code",
   "execution_count": null,
   "id": "a067cef0",
   "metadata": {},
   "outputs": [],
   "source": [
    "arr_1dd"
   ]
  },
  {
   "cell_type": "code",
   "execution_count": null,
   "id": "800e6b5b",
   "metadata": {},
   "outputs": [],
   "source": [
    "#acessing in 2D array"
   ]
  },
  {
   "cell_type": "code",
   "execution_count": null,
   "id": "e03c2492",
   "metadata": {},
   "outputs": [],
   "source": [
    "arr_2=np.array([ [1,2,3],\n",
    "               [4,5,6] ])\n",
    "arr_2"
   ]
  },
  {
   "cell_type": "code",
   "execution_count": null,
   "id": "0950ebbd",
   "metadata": {},
   "outputs": [],
   "source": [
    "#in 2D array acess rows frst and then columns element can be acessed\n",
    "arr_2[1,2]=89 "
   ]
  },
  {
   "cell_type": "code",
   "execution_count": null,
   "id": "19fbe0df",
   "metadata": {},
   "outputs": [],
   "source": [
    "arr_2"
   ]
  },
  {
   "cell_type": "code",
   "execution_count": null,
   "id": "89fb099e",
   "metadata": {},
   "outputs": [],
   "source": [
    "_2d=np.array([[1,2,3,11],\n",
    "            [4,5,6,15],\n",
    "            [7,8,9,-1]])\n",
    "_2d"
   ]
  },
  {
   "cell_type": "code",
   "execution_count": null,
   "id": "59269aef",
   "metadata": {},
   "outputs": [],
   "source": [
    "#Acessing the element at 2nd row(index1) and 3rd column (index 2)\n",
    "_2d[1,2]"
   ]
  },
  {
   "cell_type": "code",
   "execution_count": null,
   "id": "6e2bf024",
   "metadata": {},
   "outputs": [],
   "source": [
    "#Acessing the element at last row and last column\n",
    "_2d[2,3] #here last row index is 2 and last column index is 3"
   ]
  },
  {
   "cell_type": "code",
   "execution_count": null,
   "id": "b277763a",
   "metadata": {},
   "outputs": [],
   "source": [
    "#Acessing the element at first row and last column\n",
    "_2d[0,3] #here first row index is 0 and last column index is 3"
   ]
  },
  {
   "cell_type": "code",
   "execution_count": null,
   "id": "541d8390",
   "metadata": {},
   "outputs": [],
   "source": [
    "#Acessing the element in middle row and last column\n",
    "_2d[1,3] #here first row index is 0 and last column index is 3"
   ]
  },
  {
   "cell_type": "markdown",
   "id": "6dded7b9",
   "metadata": {},
   "source": [
    "#### 13/9/2024"
   ]
  },
  {
   "cell_type": "code",
   "execution_count": 30,
   "id": "b70b36d6",
   "metadata": {},
   "outputs": [
    {
     "data": {
      "text/plain": [
       "75.0"
      ]
     },
     "execution_count": 30,
     "metadata": {},
     "output_type": "execute_result"
    }
   ],
   "source": [
    "(56+66+75+72+81+100)/6"
   ]
  },
  {
   "cell_type": "code",
   "execution_count": 31,
   "id": "0fa2c704",
   "metadata": {},
   "outputs": [
    {
     "data": {
      "text/plain": [
       "73.5"
      ]
     },
     "execution_count": 31,
     "metadata": {},
     "output_type": "execute_result"
    }
   ],
   "source": [
    "147/2"
   ]
  },
  {
   "cell_type": "code",
   "execution_count": 34,
   "id": "35f0c645",
   "metadata": {},
   "outputs": [
    {
     "data": {
      "text/plain": [
       "(85.0, 78.0)"
      ]
     },
     "execution_count": 34,
     "metadata": {},
     "output_type": "execute_result"
    }
   ],
   "source": [
    "#considering all weights and calculating mean\n",
    "weights=np.array([56,66,72,75,81,100,110,120])\n",
    "np.mean(weights),np.median(weights)"
   ]
  },
  {
   "cell_type": "code",
   "execution_count": 35,
   "id": "b4e6dba4",
   "metadata": {},
   "outputs": [
    {
     "data": {
      "text/plain": [
       "7.0"
      ]
     },
     "execution_count": 35,
     "metadata": {},
     "output_type": "execute_result"
    }
   ],
   "source": [
    "diff=np.mean(weights)-np.median(weights)\n",
    "diff"
   ]
  },
  {
   "cell_type": "code",
   "execution_count": 37,
   "id": "a8f2a0e1",
   "metadata": {},
   "outputs": [
    {
     "data": {
      "text/plain": [
       "(70.0, 72.0)"
      ]
     },
     "execution_count": 37,
     "metadata": {},
     "output_type": "execute_result"
    }
   ],
   "source": [
    "#removing outliers and calculating mean and median u can see less diff\n",
    "#mean is effected due to outliers\n",
    "#median is calculated as arrange them in ascending order\n",
    "#then middle observation is median\n",
    "weights=np.array([56,66,72,75,81])\n",
    "np.mean(weights),np.median(weights)"
   ]
  },
  {
   "cell_type": "code",
   "execution_count": 40,
   "id": "dce93886",
   "metadata": {},
   "outputs": [
    {
     "data": {
      "text/plain": [
       "81"
      ]
     },
     "execution_count": 40,
     "metadata": {},
     "output_type": "execute_result"
    }
   ],
   "source": [
    "np.max(weights)"
   ]
  },
  {
   "cell_type": "code",
   "execution_count": 41,
   "id": "0ace468b",
   "metadata": {},
   "outputs": [
    {
     "data": {
      "text/plain": [
       "56"
      ]
     },
     "execution_count": 41,
     "metadata": {},
     "output_type": "execute_result"
    }
   ],
   "source": [
    "np.min(weights)"
   ]
  },
  {
   "cell_type": "code",
   "execution_count": 43,
   "id": "10d1b447",
   "metadata": {},
   "outputs": [
    {
     "data": {
      "text/plain": [
       "25"
      ]
     },
     "execution_count": 43,
     "metadata": {},
     "output_type": "execute_result"
    }
   ],
   "source": [
    "#range is defined as differnce of maximum value and minimum value\n",
    "range_1=np.max(weights)-np.min(weights)\n",
    "range_1"
   ]
  },
  {
   "cell_type": "code",
   "execution_count": 44,
   "id": "526d3535",
   "metadata": {},
   "outputs": [
    {
     "data": {
      "text/plain": [
       "array([56, 66, 72, 75, 81])"
      ]
     },
     "execution_count": 44,
     "metadata": {},
     "output_type": "execute_result"
    }
   ],
   "source": [
    "weights=np.array([56,66,72,75,81])\n",
    "weights"
   ]
  },
  {
   "cell_type": "code",
   "execution_count": 48,
   "id": "96123f52",
   "metadata": {},
   "outputs": [
    {
     "data": {
      "text/plain": [
       "70.0"
      ]
     },
     "execution_count": 48,
     "metadata": {},
     "output_type": "execute_result"
    }
   ],
   "source": [
    "sum(weights)/len(weights)"
   ]
  },
  {
   "cell_type": "code",
   "execution_count": 50,
   "id": "fc69884c",
   "metadata": {},
   "outputs": [
    {
     "data": {
      "text/plain": [
       "array([-14,  -4,   2,   5,  11])"
      ]
     },
     "execution_count": 50,
     "metadata": {},
     "output_type": "execute_result"
    }
   ],
   "source": [
    "xi_mu=weights-(70)\n",
    "xi_mu"
   ]
  },
  {
   "cell_type": "code",
   "execution_count": 52,
   "id": "89d15944",
   "metadata": {},
   "outputs": [
    {
     "data": {
      "text/plain": [
       "array([196,  16,   4,  25, 121])"
      ]
     },
     "execution_count": 52,
     "metadata": {},
     "output_type": "execute_result"
    }
   ],
   "source": [
    "square=xi_mu**2\n",
    "square"
   ]
  },
  {
   "cell_type": "code",
   "execution_count": 54,
   "id": "d7bd58f3",
   "metadata": {},
   "outputs": [
    {
     "data": {
      "text/plain": [
       "72.4"
      ]
     },
     "execution_count": 54,
     "metadata": {},
     "output_type": "execute_result"
    }
   ],
   "source": [
    "var=sum(square)/len(square)\n",
    "var"
   ]
  },
  {
   "cell_type": "code",
   "execution_count": 59,
   "id": "c7119910",
   "metadata": {},
   "outputs": [
    {
     "data": {
      "text/plain": [
       "72.39999999999999"
      ]
     },
     "execution_count": 59,
     "metadata": {},
     "output_type": "execute_result"
    }
   ],
   "source": [
    "np.std(weights)"
   ]
  },
  {
   "cell_type": "code",
   "execution_count": 69,
   "id": "35216f23",
   "metadata": {},
   "outputs": [
    {
     "name": "stdout",
     "output_type": "stream",
     "text": [
      " mean is : 19.333333333333332\n",
      " median is : 20.0\n",
      " range is 18 \n",
      " variance is : 30.66666666666667\n",
      " standarddeviation is : 5.5377492419453835\n"
     ]
    }
   ],
   "source": [
    "distances=np.array([15,20,25,30,12,14,15,21,22])\n",
    "print(f\" mean is : {np.mean(distances)}\")\n",
    "print(f\" median is : {np.median(distances)}\")\n",
    "print(f\" range is {max(distances)-min(distances)}\")\n",
    "print(f\" variance is : {np.var(distances)}\")\n",
    "print(f\" standarddeviation is : {np.std(distances)}\")"
   ]
  },
  {
   "cell_type": "code",
   "execution_count": null,
   "id": "7024a242",
   "metadata": {},
   "outputs": [],
   "source": [
    "#25percent quartile(Q1) it is calculated as median of frst half of the data\n",
    "#75percent quartile(Q3) it is calculated as median of second half of the data\n",
    "#"
   ]
  },
  {
   "cell_type": "code",
   "execution_count": 85,
   "id": "ac5dd4a2",
   "metadata": {},
   "outputs": [
    {
     "name": "stdout",
     "output_type": "stream",
     "text": [
      "[62 64 65 66 75 78 79 86 89 91 92]\n"
     ]
    }
   ],
   "source": [
    "marks=np.array([78,66,64,89,91,75,62,65,86,92,79])\n",
    "marks\n",
    "sorting=(np.sort(marks))\n",
    "print(sorting)"
   ]
  },
  {
   "cell_type": "code",
   "execution_count": 86,
   "id": "a3fd48f9",
   "metadata": {},
   "outputs": [
    {
     "data": {
      "text/plain": [
       "array([62, 64, 65, 66, 75])"
      ]
     },
     "execution_count": 86,
     "metadata": {},
     "output_type": "execute_result"
    }
   ],
   "source": [
    "_25=sorting[0:5]\n",
    "_25"
   ]
  },
  {
   "cell_type": "code",
   "execution_count": 87,
   "id": "6ec45bfd",
   "metadata": {},
   "outputs": [
    {
     "data": {
      "text/plain": [
       "array([79, 86, 89, 91, 92])"
      ]
     },
     "execution_count": 87,
     "metadata": {},
     "output_type": "execute_result"
    }
   ],
   "source": [
    "_75=sorting[6:]\n",
    "_75"
   ]
  },
  {
   "cell_type": "code",
   "execution_count": 92,
   "id": "9d96b4cf",
   "metadata": {},
   "outputs": [
    {
     "data": {
      "text/html": [
       "<div>\n",
       "<style scoped>\n",
       "    .dataframe tbody tr th:only-of-type {\n",
       "        vertical-align: middle;\n",
       "    }\n",
       "\n",
       "    .dataframe tbody tr th {\n",
       "        vertical-align: top;\n",
       "    }\n",
       "\n",
       "    .dataframe thead th {\n",
       "        text-align: right;\n",
       "    }\n",
       "</style>\n",
       "<table border=\"1\" class=\"dataframe\">\n",
       "  <thead>\n",
       "    <tr style=\"text-align: right;\">\n",
       "      <th></th>\n",
       "      <th>0</th>\n",
       "    </tr>\n",
       "  </thead>\n",
       "  <tbody>\n",
       "    <tr>\n",
       "      <th>0</th>\n",
       "      <td>1</td>\n",
       "    </tr>\n",
       "    <tr>\n",
       "      <th>1</th>\n",
       "      <td>1</td>\n",
       "    </tr>\n",
       "    <tr>\n",
       "      <th>2</th>\n",
       "      <td>1</td>\n",
       "    </tr>\n",
       "    <tr>\n",
       "      <th>3</th>\n",
       "      <td>2</td>\n",
       "    </tr>\n",
       "    <tr>\n",
       "      <th>4</th>\n",
       "      <td>2</td>\n",
       "    </tr>\n",
       "  </tbody>\n",
       "</table>\n",
       "</div>"
      ],
      "text/plain": [
       "   0\n",
       "0  1\n",
       "1  1\n",
       "2  1\n",
       "3  2\n",
       "4  2"
      ]
     },
     "execution_count": 92,
     "metadata": {},
     "output_type": "execute_result"
    }
   ],
   "source": [
    "import pandas as pd\n",
    "intrest=pd.DataFrame([\"1\",\"1\",\"1\",\"2\",\"2\"])\n",
    "intrest"
   ]
  },
  {
   "cell_type": "markdown",
   "id": "509790b6",
   "metadata": {},
   "source": [
    "#### 17/09/2024"
   ]
  },
  {
   "cell_type": "code",
   "execution_count": 8,
   "id": "6ebb3af4",
   "metadata": {},
   "outputs": [
    {
     "data": {
      "text/plain": [
       "(40, array([30, 40, 50]))"
      ]
     },
     "execution_count": 8,
     "metadata": {},
     "output_type": "execute_result"
    }
   ],
   "source": [
    "#Creating a 1D array\n",
    "#indexing and slicing in numpy array\n",
    "arrray_1=np.array([10,20,30,40,50])\n",
    "arrray_1[3],arrray_1[2:7]"
   ]
  },
  {
   "cell_type": "code",
   "execution_count": null,
   "id": "877abd0e",
   "metadata": {},
   "outputs": [],
   "source": [
    "#in indexing when we give out of range it throws an error\n",
    "#but inslicing when we give out of range also it doesnt give any error."
   ]
  },
  {
   "cell_type": "code",
   "execution_count": 16,
   "id": "9f7e19e8",
   "metadata": {},
   "outputs": [
    {
     "name": "stdout",
     "output_type": "stream",
     "text": [
      "[[  1   2   3]\n",
      " [ 45  56  78]\n",
      " [789 890 901]]\n"
     ]
    },
    {
     "data": {
      "text/plain": [
       "array([[ 56,  78],\n",
       "       [890, 901]])"
      ]
     },
     "execution_count": 16,
     "metadata": {},
     "output_type": "execute_result"
    }
   ],
   "source": [
    "#Creating a 2D array\n",
    "array_2=np.array([[1,2,3],[45,56,78],[789,890,901]])\n",
    "print(array_2)\n",
    "array_2[1:,1:]"
   ]
  },
  {
   "cell_type": "code",
   "execution_count": 19,
   "id": "13474957",
   "metadata": {},
   "outputs": [
    {
     "data": {
      "text/plain": [
       "array([1, 2, 3])"
      ]
     },
     "execution_count": 19,
     "metadata": {},
     "output_type": "execute_result"
    }
   ],
   "source": [
    "# To obtain first row\n",
    "array_2[0]"
   ]
  },
  {
   "cell_type": "code",
   "execution_count": 25,
   "id": "59f53f34",
   "metadata": {},
   "outputs": [
    {
     "data": {
      "text/plain": [
       "array([  3,  78, 901])"
      ]
     },
     "execution_count": 25,
     "metadata": {},
     "output_type": "execute_result"
    }
   ],
   "source": [
    "# To acess last column\n",
    "array_2[:,-1]"
   ]
  },
  {
   "cell_type": "code",
   "execution_count": 34,
   "id": "a7899899",
   "metadata": {},
   "outputs": [
    {
     "data": {
      "text/plain": [
       "array([[[ 5,  1],\n",
       "        [ 0,  2]],\n",
       "\n",
       "       [[ 0, -1],\n",
       "        [ 1,  2]]])"
      ]
     },
     "execution_count": 34,
     "metadata": {},
     "output_type": "execute_result"
    }
   ],
   "source": [
    "array_3=np.array([[ [5,1],[0,2]],[[0,-1],[1,2]]])\n",
    "array_3"
   ]
  },
  {
   "cell_type": "code",
   "execution_count": 35,
   "id": "0281a7d2",
   "metadata": {},
   "outputs": [
    {
     "data": {
      "text/plain": [
       "-1"
      ]
     },
     "execution_count": 35,
     "metadata": {},
     "output_type": "execute_result"
    }
   ],
   "source": [
    "array_3[1,0,1] #1st matrix,0th row,1st element"
   ]
  },
  {
   "cell_type": "code",
   "execution_count": 41,
   "id": "a6073fe1",
   "metadata": {},
   "outputs": [
    {
     "data": {
      "text/plain": [
       "2"
      ]
     },
     "execution_count": 41,
     "metadata": {},
     "output_type": "execute_result"
    }
   ],
   "source": [
    "array_3[0,1,1]"
   ]
  },
  {
   "cell_type": "code",
   "execution_count": 42,
   "id": "e98af835",
   "metadata": {},
   "outputs": [
    {
     "data": {
      "text/plain": [
       "(2, 2, 2)"
      ]
     },
     "execution_count": 42,
     "metadata": {},
     "output_type": "execute_result"
    }
   ],
   "source": [
    "array_3.shape"
   ]
  },
  {
   "cell_type": "code",
   "execution_count": 46,
   "id": "72f02d3a",
   "metadata": {},
   "outputs": [
    {
     "data": {
      "text/plain": [
       "array([[ 0, -1],\n",
       "       [ 1,  2]])"
      ]
     },
     "execution_count": 46,
     "metadata": {},
     "output_type": "execute_result"
    }
   ],
   "source": [
    "#acess last matrix\n",
    "array_3[1]"
   ]
  },
  {
   "cell_type": "code",
   "execution_count": 63,
   "id": "086769ee",
   "metadata": {},
   "outputs": [
    {
     "data": {
      "text/plain": [
       "array([[[ 5,  1],\n",
       "        [ 0,  2]],\n",
       "\n",
       "       [[ 0, -1],\n",
       "        [ 1,  2]]])"
      ]
     },
     "execution_count": 63,
     "metadata": {},
     "output_type": "execute_result"
    }
   ],
   "source": [
    "array_3=np.array([[ [5,1],[0,2]],[[0,-1],[1,2]]])\n",
    "array_3"
   ]
  },
  {
   "cell_type": "code",
   "execution_count": 55,
   "id": "29d75e6a",
   "metadata": {},
   "outputs": [
    {
     "name": "stdout",
     "output_type": "stream",
     "text": [
      "1\n"
     ]
    }
   ],
   "source": [
    "#Acess element at first matrix at row index 0 and last column\n",
    "print(array_3[0,0,-1]) #0th matrix"
   ]
  },
  {
   "cell_type": "code",
   "execution_count": 57,
   "id": "3cb4d6a1",
   "metadata": {},
   "outputs": [
    {
     "data": {
      "text/plain": [
       "array([0, 2])"
      ]
     },
     "execution_count": 57,
     "metadata": {},
     "output_type": "execute_result"
    }
   ],
   "source": [
    "#Acess first matrix and last row\n",
    "array_3[0,-1] "
   ]
  },
  {
   "cell_type": "code",
   "execution_count": 58,
   "id": "1de389a1",
   "metadata": {},
   "outputs": [
    {
     "data": {
      "text/plain": [
       "0"
      ]
     },
     "execution_count": 58,
     "metadata": {},
     "output_type": "execute_result"
    }
   ],
   "source": [
    "# Acess first matrix and left most column of last row\n",
    "array_3[0,-1,0]"
   ]
  },
  {
   "cell_type": "code",
   "execution_count": 76,
   "id": "857dadc5",
   "metadata": {},
   "outputs": [
    {
     "data": {
      "text/plain": [
       "array([[  1,   2,   3],\n",
       "       [ 45,  56,  78],\n",
       "       [789, -20, 901]])"
      ]
     },
     "execution_count": 76,
     "metadata": {},
     "output_type": "execute_result"
    }
   ],
   "source": [
    "array_2=np.array([[1,2,3],[45,56,78],[789,890,901]])\n",
    "#acessing 3rd row i.e 2nd index and 2nd column i.e 1st index\n",
    "array_2[2,1]=-20\n",
    "array_2"
   ]
  },
  {
   "cell_type": "code",
   "execution_count": 77,
   "id": "36272b43",
   "metadata": {},
   "outputs": [
    {
     "data": {
      "text/plain": [
       "array([[200,   2,   3],\n",
       "       [200,  56,  78],\n",
       "       [200, -20, 901]])"
      ]
     },
     "execution_count": 77,
     "metadata": {},
     "output_type": "execute_result"
    }
   ],
   "source": [
    "#acessing each and every row and 1st column i.e is 0th index\n",
    "array_2[:,0]=200\n",
    "array_2"
   ]
  },
  {
   "cell_type": "code",
   "execution_count": 78,
   "id": "b70c2e0e",
   "metadata": {},
   "outputs": [
    {
     "data": {
      "text/plain": [
       "array([[200,   2,   3],\n",
       "       [200,  -5,  -4],\n",
       "       [200,  -3,  -2]])"
      ]
     },
     "execution_count": 78,
     "metadata": {},
     "output_type": "execute_result"
    }
   ],
   "source": [
    "#acessing submatrix and updating sub matrix\n",
    "#1st \"1:\" takes from index 1 row to last row and 2nd  \"1:\" takes from  index 1 column to last index column\n",
    "array_2[1:,1:]=np.array([[-5,-4],[-3,-2]])\n",
    "array_2"
   ]
  },
  {
   "cell_type": "code",
   "execution_count": 79,
   "id": "f801442d",
   "metadata": {},
   "outputs": [
    {
     "data": {
      "text/plain": [
       "array([[-10, -10, -10],\n",
       "       [200,  -5,  -4],\n",
       "       [200,  -3,  -2]])"
      ]
     },
     "execution_count": 79,
     "metadata": {},
     "output_type": "execute_result"
    }
   ],
   "source": [
    "# array_2[0]=-10\n",
    "# array_2\n",
    "array_2[0]=np.array([[-10,-10,-10]])\n",
    "array_2"
   ]
  },
  {
   "cell_type": "code",
   "execution_count": 80,
   "id": "9b2ac3ad",
   "metadata": {},
   "outputs": [
    {
     "data": {
      "text/plain": [
       "array([[False, False, False],\n",
       "       [ True, False, False],\n",
       "       [ True, False, False]])"
      ]
     },
     "execution_count": 80,
     "metadata": {},
     "output_type": "execute_result"
    }
   ],
   "source": [
    "#boolean indexing\n",
    "array_2>0"
   ]
  },
  {
   "cell_type": "code",
   "execution_count": 81,
   "id": "b5534378",
   "metadata": {},
   "outputs": [
    {
     "data": {
      "text/plain": [
       "array([200, 200])"
      ]
     },
     "execution_count": 81,
     "metadata": {},
     "output_type": "execute_result"
    }
   ],
   "source": [
    "#when ever the values > 0 it returns only \"True\" values\n",
    "#advanced slicing\n",
    "array_2[array_2>0]"
   ]
  },
  {
   "cell_type": "code",
   "execution_count": 82,
   "id": "e87ec8f4",
   "metadata": {},
   "outputs": [
    {
     "data": {
      "text/plain": [
       "array([200, 200,  -3,  -2])"
      ]
     },
     "execution_count": 82,
     "metadata": {},
     "output_type": "execute_result"
    }
   ],
   "source": [
    "array_2[array_2>-4]"
   ]
  },
  {
   "cell_type": "code",
   "execution_count": 83,
   "id": "d586435f",
   "metadata": {},
   "outputs": [
    {
     "data": {
      "text/plain": [
       "array([10, 20, 30, 40, 50])"
      ]
     },
     "execution_count": 83,
     "metadata": {},
     "output_type": "execute_result"
    }
   ],
   "source": [
    "arrray_1=np.array([10,20,30,40,50])\n",
    "arrray_1"
   ]
  },
  {
   "cell_type": "code",
   "execution_count": 84,
   "id": "b467471f",
   "metadata": {},
   "outputs": [
    {
     "data": {
      "text/plain": [
       "array([50, 40, 30, 20, 10])"
      ]
     },
     "execution_count": 84,
     "metadata": {},
     "output_type": "execute_result"
    }
   ],
   "source": [
    "#Reversing the array\n",
    "arrray_1[::-1]"
   ]
  },
  {
   "cell_type": "code",
   "execution_count": 85,
   "id": "18357b15",
   "metadata": {},
   "outputs": [
    {
     "data": {
      "text/plain": [
       "array([10, 30, 50])"
      ]
     },
     "execution_count": 85,
     "metadata": {},
     "output_type": "execute_result"
    }
   ],
   "source": [
    "arrray_1[::2]"
   ]
  },
  {
   "cell_type": "code",
   "execution_count": 88,
   "id": "b0ddac3b",
   "metadata": {},
   "outputs": [
    {
     "data": {
      "text/plain": [
       "array([[1.        , 0.95758968],\n",
       "       [0.95758968, 1.        ]])"
      ]
     },
     "execution_count": 88,
     "metadata": {},
     "output_type": "execute_result"
    }
   ],
   "source": [
    "runs_km=np.array([5,4,5,1,2])\n",
    "calories_burnt=np.array([100,90,120,50,70])\n",
    "np.corrcoef(runs_km,calories_burnt)"
   ]
  },
  {
   "cell_type": "code",
   "execution_count": 89,
   "id": "ca4150c7",
   "metadata": {},
   "outputs": [
    {
     "data": {
      "text/plain": [
       "array([[  3.3,  47. ],\n",
       "       [ 47. , 730. ]])"
      ]
     },
     "execution_count": 89,
     "metadata": {},
     "output_type": "execute_result"
    }
   ],
   "source": [
    "np.cov(runs_km,calories_burnt)"
   ]
  },
  {
   "cell_type": "code",
   "execution_count": 31,
   "id": "6ba8d33b",
   "metadata": {},
   "outputs": [
    {
     "data": {
      "text/plain": [
       "array([[[ 1,  2,  3],\n",
       "        [ 4,  5,  6]],\n",
       "\n",
       "       [[ 7,  8,  9],\n",
       "        [10, 11, 12]],\n",
       "\n",
       "       [[13, 14, 15],\n",
       "        [16, 17, 18]]])"
      ]
     },
     "execution_count": 31,
     "metadata": {},
     "output_type": "execute_result"
    }
   ],
   "source": [
    "# array_22=np.arange(1,19).reshape(3,2,3)\n",
    "# array_22"
   ]
  },
  {
   "cell_type": "code",
   "execution_count": 90,
   "id": "a659e7d5",
   "metadata": {},
   "outputs": [
    {
     "data": {
      "text/plain": [
       "array([[1., 0.],\n",
       "       [0., 1.]])"
      ]
     },
     "execution_count": 90,
     "metadata": {},
     "output_type": "execute_result"
    }
   ],
   "source": [
    "runs_km=np.array([15,14,14,14,13])\n",
    "calories_burnt=np.array([100,101,99,98,100])\n",
    "np.corrcoef(runs_km,calories_burnt)\n",
    "# Zero correlation"
   ]
  },
  {
   "cell_type": "code",
   "execution_count": 6,
   "id": "b9fe64c4",
   "metadata": {},
   "outputs": [
    {
     "name": "stdout",
     "output_type": "stream",
     "text": [
      "1\n",
      "2\n",
      "3\n",
      "4000\n",
      "5000000\n",
      "690\n"
     ]
    }
   ],
   "source": [
    "arr_2=np.array([ [1,2,3],\n",
    "               [4000,5000000,690] ])\n",
    "for i  in np.nditer(arr_2):\n",
    "    print(i)"
   ]
  },
  {
   "cell_type": "code",
   "execution_count": 7,
   "id": "7507eddf",
   "metadata": {},
   "outputs": [
    {
     "name": "stdout",
     "output_type": "stream",
     "text": [
      "1\n"
     ]
    },
    {
     "ename": "ValueError",
     "evalue": "assignment destination is read-only",
     "output_type": "error",
     "traceback": [
      "\u001b[1;31m---------------------------------------------------------------------------\u001b[0m",
      "\u001b[1;31mValueError\u001b[0m                                Traceback (most recent call last)",
      "Cell \u001b[1;32mIn[7], line 4\u001b[0m\n\u001b[0;32m      2\u001b[0m     \u001b[38;5;28;01mfor\u001b[39;00m x \u001b[38;5;129;01min\u001b[39;00m it:\n\u001b[0;32m      3\u001b[0m         \u001b[38;5;28mprint\u001b[39m(x)\n\u001b[1;32m----> 4\u001b[0m         x[\u001b[38;5;241m.\u001b[39m\u001b[38;5;241m.\u001b[39m\u001b[38;5;241m.\u001b[39m] \u001b[38;5;241m=\u001b[39m x \u001b[38;5;241m*\u001b[39m \u001b[38;5;241m2\u001b[39m\n\u001b[0;32m      5\u001b[0m \u001b[38;5;28mprint\u001b[39m(arr_2)\n",
      "\u001b[1;31mValueError\u001b[0m: assignment destination is read-only"
     ]
    }
   ],
   "source": [
    "with np.nditer(arr_2,op_flags = [\"readonly\"]) as it:\n",
    "    for x in it:\n",
    "        print(x)\n",
    "        x[...] = x * 2\n",
    "print(arr_2)"
   ]
  },
  {
   "cell_type": "code",
   "execution_count": 8,
   "id": "39f0416a",
   "metadata": {},
   "outputs": [
    {
     "name": "stdout",
     "output_type": "stream",
     "text": [
      "1\n",
      "2\n",
      "3\n",
      "4000\n",
      "5000000\n",
      "690\n",
      "[[      1       2       3]\n",
      " [   4000 5000000     690]]\n"
     ]
    }
   ],
   "source": [
    "with np.nditer(arr_2,op_flags = [\"readonly\"]) as it:\n",
    "    for x in it:\n",
    "        print(x)\n",
    "#         x[...] = x * 2\n",
    "print(arr_2)"
   ]
  },
  {
   "cell_type": "code",
   "execution_count": 9,
   "id": "4cffe4e7",
   "metadata": {},
   "outputs": [
    {
     "name": "stdout",
     "output_type": "stream",
     "text": [
      "[      1       2       3    4000 5000000     690]\n"
     ]
    }
   ],
   "source": [
    "for x in np.nditer(arr_2,flags=[\"external_loop\"],order = \"c\"):\n",
    "    print(x)"
   ]
  },
  {
   "cell_type": "code",
   "execution_count": 10,
   "id": "7f8f9dea",
   "metadata": {},
   "outputs": [
    {
     "name": "stdout",
     "output_type": "stream",
     "text": [
      "[   1 4000]\n",
      "[      2 5000000]\n",
      "[  3 690]\n"
     ]
    }
   ],
   "source": [
    "for x in np.nditer(arr_2,flags=[\"external_loop\"],order = \"f\"):\n",
    "    print(x)"
   ]
  },
  {
   "cell_type": "code",
   "execution_count": 12,
   "id": "a0d02388",
   "metadata": {},
   "outputs": [
    {
     "name": "stdout",
     "output_type": "stream",
     "text": [
      "2563159291152\n",
      "[      1       2       3    4000 5000000     690]\n"
     ]
    },
    {
     "data": {
      "text/plain": [
       "[array([      1,       2,       3,    4000, 5000000,     690])]"
      ]
     },
     "execution_count": 12,
     "metadata": {},
     "output_type": "execute_result"
    }
   ],
   "source": [
    "corder_output=[]\n",
    "for x in np.nditer(arr_2,flags=[\"external_loop\"],order = \"c\"):\n",
    "    print(id(x))\n",
    "    corder_output.append(x)\n",
    "    print(x)\n",
    "corder_output"
   ]
  },
  {
   "cell_type": "code",
   "execution_count": 13,
   "id": "0c6444f4",
   "metadata": {},
   "outputs": [
    {
     "name": "stdout",
     "output_type": "stream",
     "text": [
      "2563159291920\n",
      "[   1 4000]\n",
      "2563153338096\n",
      "[      2 5000000]\n",
      "2563153338384\n",
      "[  3 690]\n"
     ]
    },
    {
     "data": {
      "text/plain": [
       "[array([   1, 4000]), array([      2, 5000000]), array([  3, 690])]"
      ]
     },
     "execution_count": 13,
     "metadata": {},
     "output_type": "execute_result"
    }
   ],
   "source": [
    "corder_output=[]\n",
    "for x in np.nditer(arr_2,flags=[\"external_loop\"],order = \"f\"):\n",
    "    print(id(x))\n",
    "    corder_output.append(x)\n",
    "    print(x)\n",
    "corder_output"
   ]
  },
  {
   "cell_type": "code",
   "execution_count": 15,
   "id": "e8b5a235",
   "metadata": {},
   "outputs": [
    {
     "name": "stdout",
     "output_type": "stream",
     "text": [
      "addition:\n",
      " [11 22 33 44]\n",
      "subtraction:\n",
      " [ -9 -18 -27 -36]\n",
      "multiplication:\n",
      " [ 10  40  90 160]\n",
      "division:\n",
      " [0.1 0.1 0.1 0.1]\n"
     ]
    }
   ],
   "source": [
    "a = np.array([1,2,3,4])\n",
    "b = np.array([10,20,30,40])\n",
    "\n",
    "\n",
    "import numpy as np\n",
    "\n",
    "#create two arrays of same size element wise addition\n",
    "addition = a + b\n",
    "print(\"addition:\\n\", addition)\n",
    "\n",
    "#element wise subtraction\n",
    "subtraction = a - b\n",
    "print(\"subtraction:\\n\",subtraction)\n",
    "\n",
    "#eelement wise multiplication\n",
    "multiplication = a * b\n",
    "print(\"multiplication:\\n\",multiplication)\n",
    "\n",
    "#element wise division\n",
    "division = a / b\n",
    "print('division:\\n',division)\n"
   ]
  },
  {
   "cell_type": "code",
   "execution_count": 16,
   "id": "8b3863a6",
   "metadata": {},
   "outputs": [
    {
     "name": "stdout",
     "output_type": "stream",
     "text": [
      "addition:\n",
      " [[22 24 26 28 30]\n",
      " [32 34 36 38 40]\n",
      " [42 44 46 48 50]\n",
      " [52 54 56 58 60]]\n",
      "subtraction:\n",
      " [[-20 -20 -20 -20 -20]\n",
      " [-20 -20 -20 -20 -20]\n",
      " [-20 -20 -20 -20 -20]\n",
      " [-20 -20 -20 -20 -20]]\n",
      "multiplication:\n",
      " [[ 21  44  69  96 125]\n",
      " [156 189 224 261 300]\n",
      " [341 384 429 476 525]\n",
      " [576 629 684 741 800]]\n",
      "division:\n",
      " [[0.04761905 0.09090909 0.13043478 0.16666667 0.2       ]\n",
      " [0.23076923 0.25925926 0.28571429 0.31034483 0.33333333]\n",
      " [0.35483871 0.375      0.39393939 0.41176471 0.42857143]\n",
      " [0.44444444 0.45945946 0.47368421 0.48717949 0.5       ]]\n"
     ]
    }
   ],
   "source": [
    "a=np.arange(1,21).reshape(4,5)\n",
    "b=np.arange(21,41).reshape(4,5)\n",
    "\n",
    "addition = a + b\n",
    "print(\"addition:\\n\", addition)\n",
    "\n",
    "#element wise subtraction\n",
    "subtraction = a - b\n",
    "print(\"subtraction:\\n\",subtraction)\n",
    "\n",
    "#eelement wise multiplication\n",
    "multiplication = a * b\n",
    "print(\"multiplication:\\n\",multiplication)\n",
    "\n",
    "#element wise division\n",
    "division = a / b\n",
    "print('division:\\n',division)\n"
   ]
  },
  {
   "cell_type": "code",
   "execution_count": 2,
   "id": "61fe74a1",
   "metadata": {},
   "outputs": [
    {
     "name": "stdout",
     "output_type": "stream",
     "text": [
      "dotproduct:\n",
      " [[220 234]\n",
      " [460 490]]\n",
      "matrixproduct:\n",
      " [[220 234]\n",
      " [460 490]]\n",
      "totalsum:\n",
      " 44\n",
      "sum along the columns:\n",
      " [ 8 10 12 14]\n",
      "sum along the rows:/n [14 30]\n"
     ]
    }
   ],
   "source": [
    "import numpy as np\n",
    "d=np.arange(2,10).reshape(2,4)\n",
    "e=np.arange(12,20).reshape(4,2)\n",
    "\n",
    "#dot product\n",
    "dot=np.dot(d,e)\n",
    "print(\"dotproduct:\\n\",dot)\n",
    "\n",
    "\n",
    "#matrix multiplication using @ operator\n",
    "matrixproduct= d @ e\n",
    "print(\"matrixproduct:\\n\",matrixproduct)\n",
    "\n",
    "#sum of all elements\n",
    "total_sum=np.sum(d)\n",
    "print(\"totalsum:\\n\",total_sum)\n",
    "\n",
    "#sum along the first axis (sum of each column)\n",
    "column_sum=np.sum(d,axis=0)\n",
    "print(\"sum along the columns:\\n\",column_sum)\n",
    "\n",
    "row_sum = np.sum(d,axis=1)\n",
    "print('sum along the rows:/n',row_sum)\n",
    "\n"
   ]
  },
  {
   "cell_type": "code",
   "execution_count": 34,
   "id": "b20f072c",
   "metadata": {},
   "outputs": [
    {
     "name": "stdout",
     "output_type": "stream",
     "text": [
      "correlation matrix between x and y:\n",
      " [[1. 1. 1. 1.]\n",
      " [1. 1. 1. 1.]\n",
      " [1. 1. 1. 1.]\n",
      " [1. 1. 1. 1.]]\n"
     ]
    }
   ],
   "source": [
    "#corr_matrix\n",
    "\n",
    "d=np.arange(2,10).reshape(2,4)\n",
    "e=np.arange(1,9).reshape(2,4)\n",
    "\n",
    "\n",
    "corr_matrix= np.corrcoef(d,e)\n",
    "print(\"correlation matrix between x and y:\\n\",corr_matrix)"
   ]
  },
  {
   "cell_type": "code",
   "execution_count": null,
   "id": "40b3ce31",
   "metadata": {},
   "outputs": [],
   "source": [
    "np.random.randint()"
   ]
  },
  {
   "cell_type": "code",
   "execution_count": 35,
   "id": "d1733971",
   "metadata": {},
   "outputs": [
    {
     "data": {
      "text/plain": [
       "array([12, 13, 14, 34, 45, 67])"
      ]
     },
     "execution_count": 35,
     "metadata": {},
     "output_type": "execute_result"
    }
   ],
   "source": [
    "f=np.array([12,13,14])\n",
    "g=np.array([34,45,67])\n",
    "concatenate=np.concatenate((f,g),axis = 0)\n",
    "concatenate"
   ]
  },
  {
   "cell_type": "code",
   "execution_count": 39,
   "id": "2e26d630",
   "metadata": {},
   "outputs": [
    {
     "data": {
      "text/plain": [
       "array([[12, 34],\n",
       "       [13, 45],\n",
       "       [14, 67]])"
      ]
     },
     "execution_count": 39,
     "metadata": {},
     "output_type": "execute_result"
    }
   ],
   "source": [
    "f=np.array([12,13,14])\n",
    "g=np.array([34,45,67])\n",
    "f=f.reshape(3,-1)\n",
    "g=g.reshape(3,-1)\n",
    "concatenate=np.concatenate((f,g),axis = 1)\n",
    "concatenate"
   ]
  },
  {
   "cell_type": "code",
   "execution_count": 45,
   "id": "4f765b25",
   "metadata": {},
   "outputs": [
    {
     "name": "stdout",
     "output_type": "stream",
     "text": [
      "{1: 6, 2: 2, 3: 2, 4: 1, 5: 12}\n"
     ]
    }
   ],
   "source": [
    "a=[1,2,1,2,1,1,1,1,3,3,4,5,5,5,5,5,5,5,5,5,5,5,5]\n",
    "b={}\n",
    "for i in a:\n",
    "    if i in b:\n",
    "        b[i]=b[i]+1\n",
    "    else:\n",
    "        b[i] = 1\n",
    "print(b)\n",
    "    "
   ]
  },
  {
   "cell_type": "code",
   "execution_count": 42,
   "id": "f5ed319d",
   "metadata": {},
   "outputs": [
    {
     "data": {
      "text/plain": [
       "(array([[12, 13, 14],\n",
       "        [34, 45, 67]]),\n",
       " (1, 6))"
      ]
     },
     "execution_count": 42,
     "metadata": {},
     "output_type": "execute_result"
    }
   ],
   "source": [
    "f=np.array([12,13,14])\n",
    "g=np.array([34,45,67])\n",
    "f=f.reshape(-1,3)\n",
    "g=g.reshape(-1,3)\n",
    "out_array=np.empty((1,6),dtype = \"int\")\n",
    "np.concatenate((f,g),axis = 1,out=out_array)\n",
    "out_array.reshape(2,-1),out_array.shape"
   ]
  },
  {
   "cell_type": "code",
   "execution_count": 44,
   "id": "c390adca",
   "metadata": {},
   "outputs": [
    {
     "name": "stdout",
     "output_type": "stream",
     "text": [
      "column stack:\n",
      " [[12 34]\n",
      " [13 45]\n",
      " [14 67]]\n"
     ]
    }
   ],
   "source": [
    "f=np.array([12,13,14])\n",
    "g=np.array([34,45,67])\n",
    "columnstack=np.column_stack((f,g))\n",
    "print(\"column stack:\\n\",columnstack)"
   ]
  },
  {
   "cell_type": "code",
   "execution_count": 47,
   "id": "d7aac74d",
   "metadata": {},
   "outputs": [
    {
     "data": {
      "text/plain": [
       "array([        12,         14,         78,      72192,   97326871,\n",
       "       7183098103], dtype=int64)"
      ]
     },
     "execution_count": 47,
     "metadata": {},
     "output_type": "execute_result"
    }
   ],
   "source": [
    "nmf=np.array([12,78,97326871,72192,7183098103,14])\n",
    "np.sort(f,axis=0)"
   ]
  },
  {
   "cell_type": "markdown",
   "id": "d25fe8fa",
   "metadata": {},
   "source": [
    "# 20/9/2024"
   ]
  },
  {
   "cell_type": "code",
   "execution_count": null,
   "id": "35a0fece",
   "metadata": {},
   "outputs": [],
   "source": []
  },
  {
   "cell_type": "code",
   "execution_count": null,
   "id": "65bf8f2b",
   "metadata": {},
   "outputs": [],
   "source": []
  },
  {
   "cell_type": "code",
   "execution_count": null,
   "id": "554dca37",
   "metadata": {},
   "outputs": [],
   "source": []
  },
  {
   "cell_type": "code",
   "execution_count": null,
   "id": "d263b757",
   "metadata": {},
   "outputs": [],
   "source": []
  },
  {
   "cell_type": "code",
   "execution_count": null,
   "id": "a7f83e50",
   "metadata": {},
   "outputs": [],
   "source": []
  },
  {
   "cell_type": "code",
   "execution_count": null,
   "id": "16c0c30f",
   "metadata": {},
   "outputs": [],
   "source": []
  },
  {
   "cell_type": "code",
   "execution_count": null,
   "id": "c83af8af",
   "metadata": {},
   "outputs": [],
   "source": []
  },
  {
   "cell_type": "code",
   "execution_count": null,
   "id": "3200f027",
   "metadata": {},
   "outputs": [],
   "source": []
  },
  {
   "cell_type": "code",
   "execution_count": null,
   "id": "41e61e63",
   "metadata": {},
   "outputs": [],
   "source": []
  },
  {
   "cell_type": "code",
   "execution_count": null,
   "id": "cb8e3d86",
   "metadata": {},
   "outputs": [],
   "source": []
  },
  {
   "cell_type": "code",
   "execution_count": null,
   "id": "78932f15",
   "metadata": {},
   "outputs": [],
   "source": []
  },
  {
   "cell_type": "code",
   "execution_count": null,
   "id": "a213b205",
   "metadata": {},
   "outputs": [],
   "source": []
  },
  {
   "cell_type": "code",
   "execution_count": null,
   "id": "83bd139b",
   "metadata": {},
   "outputs": [],
   "source": []
  },
  {
   "cell_type": "code",
   "execution_count": null,
   "id": "eb1735ac",
   "metadata": {},
   "outputs": [],
   "source": []
  },
  {
   "cell_type": "code",
   "execution_count": null,
   "id": "04955b59",
   "metadata": {},
   "outputs": [],
   "source": []
  },
  {
   "cell_type": "code",
   "execution_count": null,
   "id": "3604f477",
   "metadata": {},
   "outputs": [],
   "source": []
  },
  {
   "cell_type": "code",
   "execution_count": null,
   "id": "16d9d30a",
   "metadata": {},
   "outputs": [],
   "source": []
  },
  {
   "cell_type": "code",
   "execution_count": null,
   "id": "cf29ecc2",
   "metadata": {},
   "outputs": [],
   "source": []
  },
  {
   "cell_type": "code",
   "execution_count": null,
   "id": "06a85d8f",
   "metadata": {},
   "outputs": [],
   "source": []
  },
  {
   "cell_type": "code",
   "execution_count": null,
   "id": "e44ab332",
   "metadata": {},
   "outputs": [],
   "source": []
  },
  {
   "cell_type": "code",
   "execution_count": null,
   "id": "e5068ab9",
   "metadata": {},
   "outputs": [],
   "source": []
  },
  {
   "cell_type": "code",
   "execution_count": null,
   "id": "127203e9",
   "metadata": {},
   "outputs": [],
   "source": []
  },
  {
   "cell_type": "code",
   "execution_count": null,
   "id": "552a4d92",
   "metadata": {},
   "outputs": [],
   "source": []
  },
  {
   "cell_type": "code",
   "execution_count": null,
   "id": "aeb23e43",
   "metadata": {},
   "outputs": [],
   "source": []
  },
  {
   "cell_type": "code",
   "execution_count": null,
   "id": "7d865e53",
   "metadata": {},
   "outputs": [],
   "source": []
  },
  {
   "cell_type": "code",
   "execution_count": null,
   "id": "a5336b6c",
   "metadata": {},
   "outputs": [],
   "source": []
  },
  {
   "cell_type": "code",
   "execution_count": null,
   "id": "0c43a7a7",
   "metadata": {},
   "outputs": [],
   "source": []
  },
  {
   "cell_type": "code",
   "execution_count": null,
   "id": "c1f885c1",
   "metadata": {},
   "outputs": [],
   "source": []
  },
  {
   "cell_type": "code",
   "execution_count": null,
   "id": "ec88227b",
   "metadata": {},
   "outputs": [],
   "source": []
  },
  {
   "cell_type": "code",
   "execution_count": null,
   "id": "898c52a3",
   "metadata": {},
   "outputs": [],
   "source": []
  },
  {
   "cell_type": "code",
   "execution_count": null,
   "id": "38269c9e",
   "metadata": {},
   "outputs": [],
   "source": []
  },
  {
   "cell_type": "code",
   "execution_count": null,
   "id": "4a1672d1",
   "metadata": {},
   "outputs": [],
   "source": []
  },
  {
   "cell_type": "code",
   "execution_count": null,
   "id": "06457e92",
   "metadata": {},
   "outputs": [],
   "source": []
  },
  {
   "cell_type": "code",
   "execution_count": null,
   "id": "448048fd",
   "metadata": {},
   "outputs": [],
   "source": []
  },
  {
   "cell_type": "code",
   "execution_count": null,
   "id": "2f0c7b86",
   "metadata": {},
   "outputs": [],
   "source": []
  },
  {
   "cell_type": "code",
   "execution_count": null,
   "id": "c469345e",
   "metadata": {},
   "outputs": [],
   "source": []
  },
  {
   "cell_type": "code",
   "execution_count": null,
   "id": "593c5ada",
   "metadata": {},
   "outputs": [],
   "source": []
  },
  {
   "cell_type": "code",
   "execution_count": null,
   "id": "0d61f4f9",
   "metadata": {},
   "outputs": [],
   "source": []
  },
  {
   "cell_type": "code",
   "execution_count": null,
   "id": "02581e74",
   "metadata": {},
   "outputs": [],
   "source": []
  },
  {
   "cell_type": "code",
   "execution_count": null,
   "id": "a285eaa2",
   "metadata": {},
   "outputs": [],
   "source": []
  },
  {
   "cell_type": "code",
   "execution_count": null,
   "id": "a680a0e5",
   "metadata": {},
   "outputs": [],
   "source": []
  },
  {
   "cell_type": "code",
   "execution_count": null,
   "id": "ea12b484",
   "metadata": {},
   "outputs": [],
   "source": []
  },
  {
   "cell_type": "code",
   "execution_count": null,
   "id": "2921452b",
   "metadata": {},
   "outputs": [],
   "source": []
  },
  {
   "cell_type": "code",
   "execution_count": null,
   "id": "6929e133",
   "metadata": {},
   "outputs": [],
   "source": []
  },
  {
   "cell_type": "code",
   "execution_count": null,
   "id": "10f48e40",
   "metadata": {},
   "outputs": [],
   "source": []
  },
  {
   "cell_type": "code",
   "execution_count": null,
   "id": "2b9e1605",
   "metadata": {},
   "outputs": [],
   "source": []
  },
  {
   "cell_type": "code",
   "execution_count": null,
   "id": "969b235a",
   "metadata": {},
   "outputs": [],
   "source": []
  },
  {
   "cell_type": "code",
   "execution_count": null,
   "id": "83763c35",
   "metadata": {},
   "outputs": [],
   "source": []
  },
  {
   "cell_type": "code",
   "execution_count": null,
   "id": "813cceae",
   "metadata": {},
   "outputs": [],
   "source": []
  },
  {
   "cell_type": "code",
   "execution_count": null,
   "id": "50e50214",
   "metadata": {},
   "outputs": [],
   "source": []
  },
  {
   "cell_type": "code",
   "execution_count": null,
   "id": "e9add168",
   "metadata": {},
   "outputs": [],
   "source": []
  },
  {
   "cell_type": "code",
   "execution_count": null,
   "id": "9e1d5b55",
   "metadata": {},
   "outputs": [],
   "source": []
  },
  {
   "cell_type": "code",
   "execution_count": null,
   "id": "587bf1b3",
   "metadata": {},
   "outputs": [],
   "source": []
  },
  {
   "cell_type": "code",
   "execution_count": null,
   "id": "65894715",
   "metadata": {},
   "outputs": [],
   "source": []
  }
 ],
 "metadata": {
  "kernelspec": {
   "display_name": "Python 3 (ipykernel)",
   "language": "python",
   "name": "python3"
  },
  "language_info": {
   "codemirror_mode": {
    "name": "ipython",
    "version": 3
   },
   "file_extension": ".py",
   "mimetype": "text/x-python",
   "name": "python",
   "nbconvert_exporter": "python",
   "pygments_lexer": "ipython3",
   "version": "3.11.5"
  }
 },
 "nbformat": 4,
 "nbformat_minor": 5
}
