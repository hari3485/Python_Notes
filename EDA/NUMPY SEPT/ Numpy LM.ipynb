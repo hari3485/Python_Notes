{
 "cells": [
  {
   "cell_type": "code",
   "execution_count": 1,
   "id": "e40af07b",
   "metadata": {},
   "outputs": [],
   "source": [
    "import numpy as np"
   ]
  },
  {
   "cell_type": "code",
   "execution_count": 2,
   "id": "d9fc4e3c",
   "metadata": {},
   "outputs": [],
   "source": [
    "arr = np.array([[1,2,3,4,5], [6,7,8,9,10]])"
   ]
  },
  {
   "cell_type": "code",
   "execution_count": 3,
   "id": "25da6957",
   "metadata": {},
   "outputs": [
    {
     "data": {
      "text/plain": [
       "array([[ 1,  2,  3,  4,  5],\n",
       "       [ 6,  7,  8,  9, 10]])"
      ]
     },
     "execution_count": 3,
     "metadata": {},
     "output_type": "execute_result"
    }
   ],
   "source": [
    "arr"
   ]
  },
  {
   "cell_type": "code",
   "execution_count": 4,
   "id": "a0e15b5b",
   "metadata": {},
   "outputs": [
    {
     "data": {
      "text/plain": [
       "array([ 7,  9, 11, 13, 15])"
      ]
     },
     "execution_count": 4,
     "metadata": {},
     "output_type": "execute_result"
    }
   ],
   "source": [
    "np.sum(arr, axis = 0)"
   ]
  },
  {
   "cell_type": "code",
   "execution_count": 5,
   "id": "ecb9f55d",
   "metadata": {},
   "outputs": [
    {
     "ename": "SyntaxError",
     "evalue": "invalid syntax (539791691.py, line 1)",
     "output_type": "error",
     "traceback": [
      "\u001b[1;36m  Cell \u001b[1;32mIn[5], line 1\u001b[1;36m\u001b[0m\n\u001b[1;33m    np.(arr, axis =0)\u001b[0m\n\u001b[1;37m       ^\u001b[0m\n\u001b[1;31mSyntaxError\u001b[0m\u001b[1;31m:\u001b[0m invalid syntax\n"
     ]
    }
   ],
   "source": [
    "np.(arr, axis =0)"
   ]
  },
  {
   "cell_type": "code",
   "execution_count": null,
   "id": "13712ab9",
   "metadata": {},
   "outputs": [],
   "source": [
    "arr.shape"
   ]
  },
  {
   "cell_type": "code",
   "execution_count": null,
   "id": "29dcbbcd",
   "metadata": {},
   "outputs": [],
   "source": [
    "arr.size"
   ]
  },
  {
   "cell_type": "code",
   "execution_count": null,
   "id": "701b10bd",
   "metadata": {},
   "outputs": [],
   "source": []
  },
  {
   "cell_type": "code",
   "execution_count": null,
   "id": "7c022155",
   "metadata": {},
   "outputs": [],
   "source": [
    "arr+2"
   ]
  },
  {
   "cell_type": "code",
   "execution_count": null,
   "id": "b1336a3f",
   "metadata": {},
   "outputs": [],
   "source": [
    "arr"
   ]
  },
  {
   "cell_type": "code",
   "execution_count": null,
   "id": "5c1381cc",
   "metadata": {},
   "outputs": [],
   "source": [
    "s = \"svfuwebdhe\""
   ]
  },
  {
   "cell_type": "code",
   "execution_count": null,
   "id": "d5e3c47f",
   "metadata": {},
   "outputs": [],
   "source": [
    "s+\"sdhgfygw\""
   ]
  },
  {
   "cell_type": "code",
   "execution_count": null,
   "id": "8de4cbbb",
   "metadata": {},
   "outputs": [],
   "source": [
    "s"
   ]
  },
  {
   "cell_type": "code",
   "execution_count": null,
   "id": "9b502c54",
   "metadata": {},
   "outputs": [],
   "source": [
    "arr[1][2] = 20"
   ]
  },
  {
   "cell_type": "code",
   "execution_count": null,
   "id": "67855d50",
   "metadata": {},
   "outputs": [],
   "source": [
    "arr"
   ]
  },
  {
   "cell_type": "code",
   "execution_count": null,
   "id": "a20411ff",
   "metadata": {},
   "outputs": [],
   "source": [
    "s[0] = \"e\""
   ]
  },
  {
   "cell_type": "code",
   "execution_count": null,
   "id": "a8534370",
   "metadata": {},
   "outputs": [],
   "source": [
    "arr"
   ]
  },
  {
   "cell_type": "code",
   "execution_count": null,
   "id": "f8d4362c",
   "metadata": {},
   "outputs": [],
   "source": [
    "lst = [1,2,2,3,456]"
   ]
  },
  {
   "cell_type": "code",
   "execution_count": null,
   "id": "b7f6cc38",
   "metadata": {},
   "outputs": [],
   "source": [
    "lst.append(9)"
   ]
  },
  {
   "cell_type": "code",
   "execution_count": null,
   "id": "4ad2a2fe",
   "metadata": {},
   "outputs": [],
   "source": [
    "lst"
   ]
  },
  {
   "cell_type": "code",
   "execution_count": null,
   "id": "aa0499fc",
   "metadata": {},
   "outputs": [],
   "source": [
    "lst + [21+345]"
   ]
  },
  {
   "cell_type": "code",
   "execution_count": null,
   "id": "e3ed9cb8",
   "metadata": {},
   "outputs": [],
   "source": [
    "lst"
   ]
  },
  {
   "cell_type": "code",
   "execution_count": null,
   "id": "2ee80b2d",
   "metadata": {},
   "outputs": [],
   "source": [
    "lst1 = [4,5,6,7,8]"
   ]
  },
  {
   "cell_type": "code",
   "execution_count": null,
   "id": "921e84bd",
   "metadata": {},
   "outputs": [],
   "source": [
    "lst +lst1"
   ]
  },
  {
   "cell_type": "code",
   "execution_count": null,
   "id": "31495d0f",
   "metadata": {},
   "outputs": [],
   "source": [
    "lst"
   ]
  },
  {
   "cell_type": "code",
   "execution_count": null,
   "id": "b45794ed",
   "metadata": {},
   "outputs": [],
   "source": [
    "lst[0] = 34"
   ]
  },
  {
   "cell_type": "code",
   "execution_count": null,
   "id": "29138d92",
   "metadata": {},
   "outputs": [],
   "source": [
    "lst"
   ]
  },
  {
   "cell_type": "code",
   "execution_count": null,
   "id": "16577b19",
   "metadata": {},
   "outputs": [],
   "source": [
    "arr = np.array([[1,2,3,4,5, \"5\"], [6,7,8,9,10, 9.0]])"
   ]
  },
  {
   "cell_type": "code",
   "execution_count": null,
   "id": "f9c3ee3b",
   "metadata": {},
   "outputs": [],
   "source": [
    "arr.dtype"
   ]
  },
  {
   "cell_type": "code",
   "execution_count": null,
   "id": "4f93e202",
   "metadata": {},
   "outputs": [],
   "source": [
    "arr.size"
   ]
  },
  {
   "cell_type": "code",
   "execution_count": null,
   "id": "2fe6a866",
   "metadata": {},
   "outputs": [],
   "source": [
    "arr.itemsize"
   ]
  },
  {
   "cell_type": "code",
   "execution_count": null,
   "id": "95cd6d67",
   "metadata": {},
   "outputs": [],
   "source": [
    "arr.nbytes"
   ]
  },
  {
   "cell_type": "code",
   "execution_count": null,
   "id": "075ded7e",
   "metadata": {},
   "outputs": [],
   "source": [
    "128*12"
   ]
  },
  {
   "cell_type": "code",
   "execution_count": null,
   "id": "e798fcd9",
   "metadata": {},
   "outputs": [],
   "source": [
    "arr=np.eye(4,)"
   ]
  },
  {
   "cell_type": "code",
   "execution_count": null,
   "id": "35f4ee60",
   "metadata": {},
   "outputs": [],
   "source": [
    "arr"
   ]
  },
  {
   "cell_type": "code",
   "execution_count": null,
   "id": "84fc8505",
   "metadata": {},
   "outputs": [],
   "source": [
    "np.random.rand(3)"
   ]
  },
  {
   "cell_type": "code",
   "execution_count": 7,
   "id": "d8cb5055",
   "metadata": {},
   "outputs": [],
   "source": [
    "arr = np.random.rand(5,3)"
   ]
  },
  {
   "cell_type": "code",
   "execution_count": 6,
   "id": "ec30f66a",
   "metadata": {},
   "outputs": [],
   "source": [
    "import seaborn as sns"
   ]
  },
  {
   "cell_type": "code",
   "execution_count": 8,
   "id": "f4480b7d",
   "metadata": {},
   "outputs": [
    {
     "data": {
      "text/plain": [
       "<Axes: ylabel='Count'>"
      ]
     },
     "execution_count": 8,
     "metadata": {},
     "output_type": "execute_result"
    },
    {
     "data": {
      "image/png": "[encoded data removed]",
      "text/plain": [
       "<Figure size 640x480 with 1 Axes>"
      ]
     },
     "metadata": {},
     "output_type": "display_data"
    }
   ],
   "source": [
    "sns.histplot(arr)"
   ]
  },
  {
   "cell_type": "code",
   "execution_count": null,
   "id": "40a94d5a",
   "metadata": {},
   "outputs": [],
   "source": [
    " arr = np.random.uniform((10,5))"
   ]
  },
  {
   "cell_type": "code",
   "execution_count": null,
   "id": "7e74d630",
   "metadata": {},
   "outputs": [],
   "source": [
    "arr"
   ]
  },
  {
   "cell_type": "code",
   "execution_count": null,
   "id": "4f085c9c",
   "metadata": {},
   "outputs": [],
   "source": [
    "arr = np.random.uniform(10,40, size =(5,6))"
   ]
  },
  {
   "cell_type": "code",
   "execution_count": null,
   "id": "9806866c",
   "metadata": {},
   "outputs": [],
   "source": [
    "arr"
   ]
  },
  {
   "cell_type": "code",
   "execution_count": null,
   "id": "b1dafe9d",
   "metadata": {},
   "outputs": [],
   "source": [
    "np.mean(arr)"
   ]
  },
  {
   "cell_type": "code",
   "execution_count": null,
   "id": "b3128165",
   "metadata": {},
   "outputs": [],
   "source": [
    "arr = np.random.randint(10,40, size =(5,6))"
   ]
  },
  {
   "cell_type": "code",
   "execution_count": null,
   "id": "43bb6d5f",
   "metadata": {},
   "outputs": [],
   "source": [
    "arr"
   ]
  },
  {
   "cell_type": "code",
   "execution_count": null,
   "id": "34d60c6f",
   "metadata": {},
   "outputs": [],
   "source": [
    "arr[::-1]"
   ]
  },
  {
   "cell_type": "code",
   "execution_count": null,
   "id": "38b731be",
   "metadata": {},
   "outputs": [],
   "source": []
  },
  {
   "cell_type": "code",
   "execution_count": null,
   "id": "73462e92",
   "metadata": {},
   "outputs": [],
   "source": [
    "[arr[0][0], arr[2][4]]"
   ]
  },
  {
   "cell_type": "code",
   "execution_count": null,
   "id": "cb2bb5b7",
   "metadata": {},
   "outputs": [],
   "source": [
    "arr[[0, 2, 3], [0, 4, 1]] = 100"
   ]
  },
  {
   "cell_type": "code",
   "execution_count": null,
   "id": "a84ab182",
   "metadata": {},
   "outputs": [],
   "source": [
    "arr"
   ]
  },
  {
   "cell_type": "code",
   "execution_count": null,
   "id": "8679c8a6",
   "metadata": {},
   "outputs": [],
   "source": [
    "a =10\n",
    "b=9"
   ]
  },
  {
   "cell_type": "code",
   "execution_count": null,
   "id": "d1fa6a95",
   "metadata": {},
   "outputs": [],
   "source": [
    "if a==b:\n",
    "    print(\"dsjgfgh\")"
   ]
  },
  {
   "cell_type": "code",
   "execution_count": null,
   "id": "542bd7ec",
   "metadata": {},
   "outputs": [],
   "source": [
    "a = \"dsggh\""
   ]
  },
  {
   "cell_type": "code",
   "execution_count": null,
   "id": "8034f9ab",
   "metadata": {},
   "outputs": [],
   "source": [
    "b =7"
   ]
  },
  {
   "cell_type": "code",
   "execution_count": null,
   "id": "8fe43489",
   "metadata": {},
   "outputs": [],
   "source": []
  },
  {
   "cell_type": "code",
   "execution_count": null,
   "id": "74bb915b",
   "metadata": {},
   "outputs": [],
   "source": [
    "lst = [1,2,3,4,56,6]"
   ]
  },
  {
   "cell_type": "code",
   "execution_count": null,
   "id": "af55b3b3",
   "metadata": {},
   "outputs": [],
   "source": [
    "shall_copy = lst.copy()"
   ]
  },
  {
   "cell_type": "code",
   "execution_count": null,
   "id": "2c7c9c38",
   "metadata": {},
   "outputs": [],
   "source": [
    "shall_copy"
   ]
  },
  {
   "cell_type": "code",
   "execution_count": null,
   "id": "c84a0a52",
   "metadata": {},
   "outputs": [],
   "source": [
    "import copy"
   ]
  },
  {
   "cell_type": "code",
   "execution_count": null,
   "id": "3c17bb7c",
   "metadata": {},
   "outputs": [],
   "source": [
    "deep_copy = copy.deepcopy(lst)"
   ]
  },
  {
   "cell_type": "code",
   "execution_count": null,
   "id": "d10cfd99",
   "metadata": {},
   "outputs": [],
   "source": [
    "deep_copy[0] = 5"
   ]
  },
  {
   "cell_type": "code",
   "execution_count": null,
   "id": "f8199dea",
   "metadata": {},
   "outputs": [],
   "source": [
    "ravel ---- deepcopy\n",
    "flattten -- shallow "
   ]
  },
  {
   "cell_type": "code",
   "execution_count": null,
   "id": "46269799",
   "metadata": {},
   "outputs": [],
   "source": [
    "deep_copy"
   ]
  },
  {
   "cell_type": "code",
   "execution_count": null,
   "id": "4a4228b7",
   "metadata": {},
   "outputs": [],
   "source": [
    "shall_copy[0] = 7"
   ]
  },
  {
   "cell_type": "code",
   "execution_count": null,
   "id": "e3f09f6b",
   "metadata": {},
   "outputs": [],
   "source": [
    "shall_copy"
   ]
  },
  {
   "cell_type": "code",
   "execution_count": null,
   "id": "830eb297",
   "metadata": {},
   "outputs": [],
   "source": [
    "lst[0] = 8"
   ]
  },
  {
   "cell_type": "code",
   "execution_count": null,
   "id": "6c2ad8c1",
   "metadata": {},
   "outputs": [],
   "source": [
    "lst"
   ]
  },
  {
   "cell_type": "code",
   "execution_count": null,
   "id": "7999e772",
   "metadata": {},
   "outputs": [],
   "source": [
    "deep_copy"
   ]
  },
  {
   "cell_type": "code",
   "execution_count": null,
   "id": "3242b6e0",
   "metadata": {},
   "outputs": [],
   "source": [
    "arr"
   ]
  },
  {
   "cell_type": "code",
   "execution_count": null,
   "id": "c3c4723c",
   "metadata": {},
   "outputs": [],
   "source": [
    "res = arr.ravel()"
   ]
  },
  {
   "cell_type": "code",
   "execution_count": null,
   "id": "62e69812",
   "metadata": {},
   "outputs": [],
   "source": [
    "res"
   ]
  },
  {
   "cell_type": "code",
   "execution_count": null,
   "id": "9b3251c1",
   "metadata": {},
   "outputs": [],
   "source": [
    "arr.flatten()"
   ]
  },
  {
   "cell_type": "code",
   "execution_count": null,
   "id": "08c05179",
   "metadata": {},
   "outputs": [],
   "source": [
    "arr[0][0]= 600"
   ]
  },
  {
   "cell_type": "code",
   "execution_count": null,
   "id": "d4d018e4",
   "metadata": {},
   "outputs": [],
   "source": [
    "arr"
   ]
  },
  {
   "cell_type": "code",
   "execution_count": null,
   "id": "aa326682",
   "metadata": {},
   "outputs": [],
   "source": [
    "fff"
   ]
  },
  {
   "cell_type": "code",
   "execution_count": null,
   "id": "95d68a46",
   "metadata": {},
   "outputs": [],
   "source": [
    "fff=arr.ravel()\n"
   ]
  },
  {
   "cell_type": "code",
   "execution_count": null,
   "id": "5586fa16",
   "metadata": {},
   "outputs": [],
   "source": []
  },
  {
   "cell_type": "code",
   "execution_count": null,
   "id": "a4b8bce5",
   "metadata": {},
   "outputs": [],
   "source": [
    "arr"
   ]
  },
  {
   "cell_type": "code",
   "execution_count": null,
   "id": "e314a8ca",
   "metadata": {},
   "outputs": [],
   "source": [
    "res"
   ]
  },
  {
   "cell_type": "code",
   "execution_count": null,
   "id": "1ecac999",
   "metadata": {},
   "outputs": [],
   "source": [
    "fes"
   ]
  },
  {
   "cell_type": "code",
   "execution_count": null,
   "id": "4e830eda",
   "metadata": {},
   "outputs": [],
   "source": [
    "arr"
   ]
  },
  {
   "cell_type": "code",
   "execution_count": null,
   "id": "2737710a",
   "metadata": {},
   "outputs": [],
   "source": [
    "for i in range(30):\n",
    "    if i%2=0:\n",
    "        arr.flat[i] =1"
   ]
  },
  {
   "cell_type": "code",
   "execution_count": null,
   "id": "84658cd5",
   "metadata": {},
   "outputs": [],
   "source": [
    "arr = np.random.randint(10,40, size = (5,6))"
   ]
  },
  {
   "cell_type": "code",
   "execution_count": null,
   "id": "bb08286b",
   "metadata": {
    "scrolled": true
   },
   "outputs": [],
   "source": [
    "arr"
   ]
  },
  {
   "cell_type": "code",
   "execution_count": null,
   "id": "829978d6",
   "metadata": {},
   "outputs": [],
   "source": [
    "np.where(arr%2==0)"
   ]
  },
  {
   "cell_type": "code",
   "execution_count": null,
   "id": "1afccdbf",
   "metadata": {},
   "outputs": [],
   "source": [
    "x = np.array([[1,2],[3,4]])\n",
    "y = np.array([[5,6],[7,8]])"
   ]
  },
  {
   "cell_type": "code",
   "execution_count": null,
   "id": "94c2b77a",
   "metadata": {},
   "outputs": [],
   "source": [
    "x*y"
   ]
  },
  {
   "cell_type": "code",
   "execution_count": null,
   "id": "832a03dd",
   "metadata": {},
   "outputs": [],
   "source": [
    "np.dot(x,y)"
   ]
  },
  {
   "cell_type": "code",
   "execution_count": null,
   "id": "f6e45c69",
   "metadata": {},
   "outputs": [],
   "source": [
    "#take a list remove duplicates and dont change order\n",
    "\n",
    "a=[1,0,3,2,2,2,2,2,3]\n",
    "b=[]\n",
    "for i in a:\n",
    "    if a.count(i)>1:\n",
    "        a.remove(i)\n",
    "    else:\n",
    "        if a.count==1:\n",
    "            b.append(i)\n",
    "print(a)\n",
    "    "
   ]
  },
  {
   "cell_type": "code",
   "execution_count": null,
   "id": "a5166232",
   "metadata": {},
   "outputs": [],
   "source": []
  },
  {
   "cell_type": "code",
   "execution_count": null,
   "id": "8ff6e5cf",
   "metadata": {},
   "outputs": [],
   "source": [
    "a=[1,0,3,2,2,2,2,2,3]\n",
    "b=[]\n",
    "for i in a:\n",
    "    if i  in b:\n",
    "        pass\n",
    "    else:\n",
    "        b.append(i)\n",
    "b"
   ]
  },
  {
   "cell_type": "code",
   "execution_count": null,
   "id": "aa6b2dc5",
   "metadata": {},
   "outputs": [],
   "source": [
    "#numpy p\n",
    "a=np.array([1,2,3,4,5])\n",
    "a"
   ]
  },
  {
   "cell_type": "markdown",
   "id": "340a8746",
   "metadata": {},
   "source": [
    "## 26/09/2024"
   ]
  },
  {
   "cell_type": "code",
   "execution_count": 1,
   "id": "c4bfd6eb",
   "metadata": {},
   "outputs": [],
   "source": [
    "import numpy as np"
   ]
  },
  {
   "cell_type": "code",
   "execution_count": 20,
   "id": "7eabe708",
   "metadata": {},
   "outputs": [
    {
     "name": "stdout",
     "output_type": "stream",
     "text": [
      "[42, 56, 28]\n"
     ]
    }
   ],
   "source": [
    "# [23,42,49,56,28]\n",
    "#Filter out the even values\n",
    "a = [23,42,49,56,28]\n",
    "res = []\n",
    "for i in a:\n",
    "    if i % 2 == 0:\n",
    "        res.append(i)\n",
    "print(res)"
   ]
  },
  {
   "cell_type": "code",
   "execution_count": 9,
   "id": "9f144aa4",
   "metadata": {},
   "outputs": [
    {
     "ename": "TypeError",
     "evalue": "unsupported operand type(s) for %: 'list' and 'int'",
     "output_type": "error",
     "traceback": [
      "\u001b[1;31m---------------------------------------------------------------------------\u001b[0m",
      "\u001b[1;31mTypeError\u001b[0m                                 Traceback (most recent call last)",
      "Cell \u001b[1;32mIn[9], line 6\u001b[0m\n\u001b[0;32m      4\u001b[0m     \u001b[38;5;28;01melse\u001b[39;00m:\n\u001b[0;32m      5\u001b[0m         \u001b[38;5;28;01mreturn\u001b[39;00m \u001b[38;5;28;01mFalse\u001b[39;00m\n\u001b[1;32m----> 6\u001b[0m r \u001b[38;5;241m=\u001b[39m \u001b[38;5;28mlist\u001b[39m(\u001b[38;5;28mfilter\u001b[39m(even(a)))\n",
      "Cell \u001b[1;32mIn[9], line 2\u001b[0m, in \u001b[0;36meven\u001b[1;34m(a)\u001b[0m\n\u001b[0;32m      1\u001b[0m \u001b[38;5;28;01mdef\u001b[39;00m \u001b[38;5;21meven\u001b[39m(a):\n\u001b[1;32m----> 2\u001b[0m     \u001b[38;5;28;01mif\u001b[39;00m a \u001b[38;5;241m%\u001b[39m \u001b[38;5;241m2\u001b[39m \u001b[38;5;241m==\u001b[39m \u001b[38;5;241m0\u001b[39m:\n\u001b[0;32m      3\u001b[0m         \u001b[38;5;28;01mreturn\u001b[39;00m \u001b[38;5;28;01mTrue\u001b[39;00m\n\u001b[0;32m      4\u001b[0m     \u001b[38;5;28;01melse\u001b[39;00m:\n",
      "\u001b[1;31mTypeError\u001b[0m: unsupported operand type(s) for %: 'list' and 'int'"
     ]
    }
   ],
   "source": [
    "def even(a):\n",
    "    if a % 2 == 0:\n",
    "        return True\n",
    "    else:\n",
    "        return False\n",
    "r = list(filter(even(a)))"
   ]
  },
  {
   "cell_type": "code",
   "execution_count": 10,
   "id": "66e65707",
   "metadata": {},
   "outputs": [
    {
     "data": {
      "text/plain": [
       "array([42, 56, 28])"
      ]
     },
     "execution_count": 10,
     "metadata": {},
     "output_type": "execute_result"
    }
   ],
   "source": [
    "a = np.array([23,42,49,56,28])\n",
    "a[a%2 == 0]"
   ]
  },
  {
   "cell_type": "code",
   "execution_count": 19,
   "id": "33dde695",
   "metadata": {},
   "outputs": [
    {
     "name": "stdout",
     "output_type": "stream",
     "text": [
      "[1, 33, 5, 49]\n"
     ]
    }
   ],
   "source": [
    "b = [1,2,2,33,5,49]\n",
    "c=[]\n",
    "for i in b:\n",
    "    if i % 2 != 0 or i % 5 == 0:\n",
    "        c.append(i)\n",
    "print(c)"
   ]
  },
  {
   "cell_type": "code",
   "execution_count": 21,
   "id": "244ba850",
   "metadata": {},
   "outputs": [
    {
     "ename": "ValueError",
     "evalue": "The truth value of an array with more than one element is ambiguous. Use a.any() or a.all()",
     "output_type": "error",
     "traceback": [
      "\u001b[1;31m---------------------------------------------------------------------------\u001b[0m",
      "\u001b[1;31mValueError\u001b[0m                                Traceback (most recent call last)",
      "Cell \u001b[1;32mIn[21], line 2\u001b[0m\n\u001b[0;32m      1\u001b[0m b \u001b[38;5;241m=\u001b[39m np\u001b[38;5;241m.\u001b[39marray([\u001b[38;5;241m1\u001b[39m,\u001b[38;5;241m2\u001b[39m,\u001b[38;5;241m2\u001b[39m,\u001b[38;5;241m33\u001b[39m,\u001b[38;5;241m5\u001b[39m,\u001b[38;5;241m49\u001b[39m])\n\u001b[1;32m----> 2\u001b[0m b \u001b[38;5;241m%\u001b[39m \u001b[38;5;241m2\u001b[39m \u001b[38;5;241m!=\u001b[39m \u001b[38;5;241m0\u001b[39m \u001b[38;5;241m|\u001b[39m b \u001b[38;5;241m%\u001b[39m \u001b[38;5;241m5\u001b[39m \u001b[38;5;241m==\u001b[39m \u001b[38;5;241m0\u001b[39m\n",
      "\u001b[1;31mValueError\u001b[0m: The truth value of an array with more than one element is ambiguous. Use a.any() or a.all()"
     ]
    }
   ],
   "source": [
    "b = np.array([1,2,2,33,5,49])\n",
    "b % 5 == 0 | \n",
    "np.exp"
   ]
  },
  {
   "cell_type": "code",
   "execution_count": 22,
   "id": "acb23dd3",
   "metadata": {},
   "outputs": [
    {
     "data": {
      "text/plain": [
       "array([  7.3890561 ,  20.08553692,  54.59815003, 148.4131591 ])"
      ]
     },
     "execution_count": 22,
     "metadata": {},
     "output_type": "execute_result"
    }
   ],
   "source": [
    "a = np.array([2,3,4,5])\n",
    "np.exp(a)"
   ]
  },
  {
   "cell_type": "code",
   "execution_count": 24,
   "id": "e47c3e9d",
   "metadata": {},
   "outputs": [
    {
     "data": {
      "text/plain": [
       "array([  7.3890561 ,  20.08553692,  54.59815003, 148.4131591 ])"
      ]
     },
     "execution_count": 24,
     "metadata": {},
     "output_type": "execute_result"
    }
   ],
   "source": [
    "np.power(np.e,a)"
   ]
  },
  {
   "cell_type": "code",
   "execution_count": 25,
   "id": "df89ec7b",
   "metadata": {},
   "outputs": [
    {
     "data": {
      "text/plain": [
       "array([ 4.,  8., 16., 32.])"
      ]
     },
     "execution_count": 25,
     "metadata": {},
     "output_type": "execute_result"
    }
   ],
   "source": [
    "np.exp2(a)"
   ]
  },
  {
   "cell_type": "code",
   "execution_count": 31,
   "id": "a1bbd7c3",
   "metadata": {},
   "outputs": [
    {
     "name": "stdout",
     "output_type": "stream",
     "text": [
      "[[ 6  8]\n",
      " [10 12]]\n",
      "[[-4 -4]\n",
      " [-4 -4]]\n",
      "[[ 5 12]\n",
      " [21 32]]\n"
     ]
    },
    {
     "data": {
      "text/plain": [
       "array([[ 5, 12],\n",
       "       [21, 32]])"
      ]
     },
     "execution_count": 31,
     "metadata": {},
     "output_type": "execute_result"
    }
   ],
   "source": [
    "a = np.array([[1,2],\n",
    "             [3,4]])\n",
    "b = np.array([[5,6],\n",
    "              [7,8]])\n",
    "print(a + b)\n",
    "print(a - b)\n",
    "print(a * b)\n",
    "np.add(a,b)\n",
    "np.multiply(a,b)"
   ]
  },
  {
   "cell_type": "code",
   "execution_count": 32,
   "id": "127e3f84",
   "metadata": {},
   "outputs": [
    {
     "data": {
      "text/plain": [
       "array([[19, 22],\n",
       "       [43, 50]])"
      ]
     },
     "execution_count": 32,
     "metadata": {},
     "output_type": "execute_result"
    }
   ],
   "source": [
    "# Columns in frst matrix should be equal to rows in second matrix\n",
    "np.matmul(a,b)"
   ]
  },
  {
   "cell_type": "code",
   "execution_count": 33,
   "id": "4f0cb95c",
   "metadata": {},
   "outputs": [
    {
     "data": {
      "text/plain": [
       "array([[19, 22],\n",
       "       [43, 50]])"
      ]
     },
     "execution_count": 33,
     "metadata": {},
     "output_type": "execute_result"
    }
   ],
   "source": [
    "a @ b"
   ]
  },
  {
   "cell_type": "code",
   "execution_count": 39,
   "id": "097b46a8",
   "metadata": {},
   "outputs": [
    {
     "ename": "ValueError",
     "evalue": "matmul: Input operand 1 has a mismatch in its core dimension 0, with gufunc signature (n?,k),(k,m?)->(n?,m?) (size 3 is different from 1)",
     "output_type": "error",
     "traceback": [
      "\u001b[1;31m---------------------------------------------------------------------------\u001b[0m",
      "\u001b[1;31mValueError\u001b[0m                                Traceback (most recent call last)",
      "Cell \u001b[1;32mIn[39], line 1\u001b[0m\n\u001b[1;32m----> 1\u001b[0m np\u001b[38;5;241m.\u001b[39marray([[\u001b[38;5;241m1\u001b[39m],[\u001b[38;5;241m2\u001b[39m],[\u001b[38;5;241m3\u001b[39m]]) \u001b[38;5;241m@\u001b[39m np\u001b[38;5;241m.\u001b[39marray([[\u001b[38;5;241m4\u001b[39m],[\u001b[38;5;241m5\u001b[39m],[\u001b[38;5;241m6\u001b[39m]])\n",
      "\u001b[1;31mValueError\u001b[0m: matmul: Input operand 1 has a mismatch in its core dimension 0, with gufunc signature (n?,k),(k,m?)->(n?,m?) (size 3 is different from 1)"
     ]
    }
   ],
   "source": [
    "np.array([[1],[2],[3]]) @ np.array([[4],[5],[6]])"
   ]
  },
  {
   "cell_type": "code",
   "execution_count": 35,
   "id": "6f52826e",
   "metadata": {},
   "outputs": [
    {
     "data": {
      "text/plain": [
       "32"
      ]
     },
     "execution_count": 35,
     "metadata": {},
     "output_type": "execute_result"
    }
   ],
   "source": [
    "c @ d"
   ]
  },
  {
   "cell_type": "code",
   "execution_count": null,
   "id": "f12d4c7f",
   "metadata": {},
   "outputs": [],
   "source": []
  },
  {
   "cell_type": "code",
   "execution_count": null,
   "id": "db16b659",
   "metadata": {},
   "outputs": [],
   "source": []
  },
  {
   "cell_type": "code",
   "execution_count": null,
   "id": "f694189b",
   "metadata": {},
   "outputs": [],
   "source": []
  },
  {
   "cell_type": "code",
   "execution_count": null,
   "id": "1ff5e7c3",
   "metadata": {},
   "outputs": [],
   "source": []
  }
 ],
 "metadata": {
  "kernelspec": {
   "display_name": "Python 3 (ipykernel)",
   "language": "python",
   "name": "python3"
  },
  "language_info": {
   "codemirror_mode": {
    "name": "ipython",
    "version": 3
   },
   "file_extension": ".py",
   "mimetype": "text/x-python",
   "name": "python",
   "nbconvert_exporter": "python",
   "pygments_lexer": "ipython3",
   "version": "3.11.5"
  }
 },
 "nbformat": 4,
 "nbformat_minor": 5
}
