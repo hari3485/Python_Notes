{
 "cells": [
  {
   "cell_type": "markdown",
   "id": "5c35a260",
   "metadata": {},
   "source": [
    "###### Q1. Create a 2x3 NumPy array with random integers. Multiply each column by a different scalar value without using a loop.\n"
   ]
  },
  {
   "cell_type": "code",
   "execution_count": 47,
   "id": "038d1939",
   "metadata": {},
   "outputs": [
    {
     "name": "stdout",
     "output_type": "stream",
     "text": [
      "The created array is  [[30 26 27]\n",
      " [28 27 30]]\n",
      "\n",
      "Array is multiplied by each col with different value [1, 2, 3]\n",
      "\n",
      "The modified array is  [[30 52 81]\n",
      " [28 54 90]]\n"
     ]
    }
   ],
   "source": [
    "import numpy as np\n",
    "# Creating a (2x3) numpy array using random numbers \n",
    "array = np.random.randint(25,32,(2,3))\n",
    "scalar_val = [1,2,3]\n",
    "print(\"The created array is \",array)\n",
    "print(\"\\nArray is multiplied by each col with different value\",scalar_val,)\n",
    "print(\"\\nThe modified array is \",array * scalar_val)"
   ]
  },
  {
   "cell_type": "code",
   "execution_count": 53,
   "id": "9876cead",
   "metadata": {},
   "outputs": [
    {
     "name": "stdout",
     "output_type": "stream",
     "text": [
      "[[28 30 30]\n",
      " [25 27 25]]\n",
      "\n",
      "after multiplying 2 to every element in array  [[56 60 60]\n",
      " [50 54 50]]\n"
     ]
    }
   ],
   "source": [
    "# Multiplying each value with scalar 2\n",
    "array = np.random.randint(25,32,(2,3))\n",
    "scalar_val = 2\n",
    "print(array)\n",
    "print(f\"\\nafter multiplying {scalar_val} to every element in array \",array * scalar_val )"
   ]
  },
  {
   "cell_type": "markdown",
   "id": "2a14b3e6",
   "metadata": {},
   "source": [
    "###### Create a NumPy array with shape (3, 3) filled with random values. Add a scalar value to each element in the array using broadcasting.\n"
   ]
  },
  {
   "cell_type": "code",
   "execution_count": 56,
   "id": "29e9a804",
   "metadata": {},
   "outputs": [
    {
     "name": "stdout",
     "output_type": "stream",
     "text": [
      "[[60 64 62]\n",
      " [68 67 68]\n",
      " [67 60 68]]\n",
      "After adding 106 to each and every element in array ,[[166 170 168]\n",
      " [174 173 174]\n",
      " [173 166 174]] \n"
     ]
    }
   ],
   "source": [
    "array1 = np.random.randint(60,70,(3,3))\n",
    "print(array1)\n",
    "scalar_value = 106\n",
    "# adding a scalar using broad casting\n",
    "print(f\"After adding {scalar_value} to each and every element in array ,{array1 + scalar_value} \")"
   ]
  },
  {
   "cell_type": "markdown",
   "id": "91a686e3",
   "metadata": {},
   "source": [
    "###### Q2. Create two NumPy arrays with unique integer values. Find the intersection of the two sets using NumPy\n"
   ]
  },
  {
   "cell_type": "code",
   "execution_count": 21,
   "id": "08ad9406",
   "metadata": {},
   "outputs": [
    {
     "name": "stdout",
     "output_type": "stream",
     "text": [
      "[[108 106 105 101 108]\n",
      " [105 106 109 105 101]]\n",
      "\n",
      "[[101 108 101 100 108]\n",
      " [103 105 101 101 104]]\n"
     ]
    }
   ],
   "source": [
    "array2 = np.random.randint(100,110,(2,5))\n",
    "array3 = np.random.randint(100,110,(2,5))\n",
    "print(array2)\n",
    "print()\n",
    "print(array3)"
   ]
  },
  {
   "cell_type": "code",
   "execution_count": 58,
   "id": "1628b300",
   "metadata": {},
   "outputs": [
    {
     "name": "stdout",
     "output_type": "stream",
     "text": [
      "Intersection of two arrays [100 101 102 103 106]\n",
      "\n",
      "Intersection of two arrays [100 101 102 103 106]\n"
     ]
    }
   ],
   "source": [
    "# for intersection of two arrays we use \"intersect1d\"\n",
    "print(\"Intersection of two arrays\",np.intersect1d(array2,array3))\n",
    "print(\"\\nIntersection of two arrays\",np.intersect1d(array3,array2))"
   ]
  },
  {
   "cell_type": "markdown",
   "id": "0d858095",
   "metadata": {},
   "source": [
    "###### Generate two NumPy arrays with integers. Calculate the set difference between the two arrays.\n",
    "\n"
   ]
  },
  {
   "cell_type": "code",
   "execution_count": 26,
   "id": "f4e2a6c8",
   "metadata": {},
   "outputs": [
    {
     "name": "stdout",
     "output_type": "stream",
     "text": [
      "[[101 103 106 102 107]\n",
      " [104 108 102 106 100]]\n",
      "\n",
      "[[106 103 102 105 109]\n",
      " [103 100 106 105 101]]\n"
     ]
    }
   ],
   "source": [
    "array2 = np.random.randint(100,110,(2,5))\n",
    "array3 = np.random.randint(100,110,(2,5))\n",
    "print(array2)\n",
    "print()\n",
    "print(array3)"
   ]
  },
  {
   "cell_type": "code",
   "execution_count": 59,
   "id": "1bb8a3a9",
   "metadata": {},
   "outputs": [
    {
     "name": "stdout",
     "output_type": "stream",
     "text": [
      "Set difference of two arrays [104 107 108]\n",
      "\n",
      "Set difference of two arrays [105 109]\n"
     ]
    }
   ],
   "source": [
    "# for set difference of two sets we use \"setdiff1d\"\n",
    "print(\"Set difference of two arrays\",np.setdiff1d(array2,array3))\n",
    "print(\"\\nSet difference of two arrays\",np.setdiff1d(array3,array2))"
   ]
  },
  {
   "cell_type": "markdown",
   "id": "ecf97b04",
   "metadata": {},
   "source": [
    "#### You are given two sets of data representing information about students:\n",
    "#### Student Details:student_ids: An array of student IDs (integer values).\n",
    "#### student_names: An array of student names (strings).\n",
    "##### Exam Scores:\n",
    "###### student_ids: An array of student IDs (integer values).\n",
    "###### scores: An array of exam scores corresponding to the student IDs.\n",
    "##### Your task is to perform the following operations using NumPy:\n"
   ]
  },
  {
   "cell_type": "code",
   "execution_count": 75,
   "id": "e4bdbf4d",
   "metadata": {},
   "outputs": [
    {
     "name": "stdout",
     "output_type": "stream",
     "text": [
      "[34 35 36 37 38]\n",
      "['hari' 'varshi' 'munnu' 'ayush' 'bachi']\n",
      "[99 98 97 96 95]\n"
     ]
    }
   ],
   "source": [
    "Student_id = np.array([34,35,36,37,38])\n",
    "Student_names = np.array([\"hari\",\"varshi\",\"munnu\",\"ayush\",\"bachi\"])\n",
    "marks = np.array([99,98,97,96,95])\n",
    "print(Student_id)\n",
    "print(Student_names)\n",
    "print(marks)"
   ]
  },
  {
   "cell_type": "code",
   "execution_count": 86,
   "id": "ffd0cfaa",
   "metadata": {},
   "outputs": [
    {
     "data": {
      "text/plain": [
       "array(['34', '35', '36', '37', '38', 'hari', 'varshi', 'munnu', 'ayush',\n",
       "       'bachi'], dtype='<U11')"
      ]
     },
     "execution_count": 86,
     "metadata": {},
     "output_type": "execute_result"
    }
   ],
   "source": [
    "# Horizontally stacking the arrays\n",
    "hor_stack=np.hstack((Student_id,Student_names))\n",
    "hor_stack"
   ]
  },
  {
   "cell_type": "code",
   "execution_count": 87,
   "id": "afa3fb78",
   "metadata": {},
   "outputs": [
    {
     "data": {
      "text/plain": [
       "array([[34, 35, 36, 37, 38],\n",
       "       [99, 98, 97, 96, 95]])"
      ]
     },
     "execution_count": 87,
     "metadata": {},
     "output_type": "execute_result"
    }
   ],
   "source": [
    "# Vertical stacking the arrays\n",
    "verti_stack = np.vstack((Student_id,marks))\n",
    "verti_stack"
   ]
  },
  {
   "cell_type": "markdown",
   "id": "3f78b738",
   "metadata": {},
   "source": [
    "#### Merging:\n",
    "#### Merge the student_info array with the exam_data array based on the common column (student_ids).\n",
    "##### The result should be a 2D array named final_data with columns: student_ids, student_names, scores.\n"
   ]
  },
  {
   "cell_type": "code",
   "execution_count": 85,
   "id": "714a35f3",
   "metadata": {},
   "outputs": [
    {
     "data": {
      "text/plain": [
       "array([['34', 'hari', '99'],\n",
       "       ['35', 'varshi', '98'],\n",
       "       ['36', 'munnu', '97'],\n",
       "       ['37', 'ayush', '96'],\n",
       "       ['38', 'bachi', '95']], dtype='<U11')"
      ]
     },
     "execution_count": 85,
     "metadata": {},
     "output_type": "execute_result"
    }
   ],
   "source": [
    "# Use column stack \n",
    "result = np.column_stack((Student_id,Student_names,marks))\n",
    "result"
   ]
  },
  {
   "cell_type": "markdown",
   "id": "7d674211",
   "metadata": {},
   "source": [
    "#### Appending: Append a new student's information to the final_data. The new student has an ID of 101, a name of 'New Student', and a score of 95.\n"
   ]
  },
  {
   "cell_type": "code",
   "execution_count": 96,
   "id": "83bb55fa",
   "metadata": {},
   "outputs": [
    {
     "name": "stdout",
     "output_type": "stream",
     "text": [
      "[['34' 'hari' '99']\n",
      " ['35' 'varshi' '98']\n",
      " ['36' 'munnu' '97']\n",
      " ['37' 'ayush' '96']\n",
      " ['38' 'bachi' '95']\n",
      " ['51' 'thanvika' '95']]\n"
     ]
    }
   ],
   "source": [
    "a= np.array([\"51\",\"thanvika\",\"95\"])\n",
    "appending = np.append(result,[a],axis=0)\n",
    "print(appending)"
   ]
  },
  {
   "cell_type": "code",
   "execution_count": null,
   "id": "86292398",
   "metadata": {},
   "outputs": [],
   "source": []
  },
  {
   "cell_type": "markdown",
   "id": "934177df",
   "metadata": {},
   "source": [
    "#### Filtering: Filter and display only the rows from final_data where the student ID is in the range [50, 80].\n",
    "\n"
   ]
  },
  {
   "cell_type": "code",
   "execution_count": null,
   "id": "725f9b58",
   "metadata": {},
   "outputs": [],
   "source": []
  }
 ],
 "metadata": {
  "kernelspec": {
   "display_name": "Python 3 (ipykernel)",
   "language": "python",
   "name": "python3"
  },
  "language_info": {
   "codemirror_mode": {
    "name": "ipython",
    "version": 3
   },
   "file_extension": ".py",
   "mimetype": "text/x-python",
   "name": "python",
   "nbconvert_exporter": "python",
   "pygments_lexer": "ipython3",
   "version": "3.11.5"
  }
 },
 "nbformat": 4,
 "nbformat_minor": 5
}
