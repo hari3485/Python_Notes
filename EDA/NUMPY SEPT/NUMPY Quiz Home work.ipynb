{
 "cells": [
  {
   "cell_type": "code",
   "execution_count": 1,
   "id": "a22a8261",
   "metadata": {
    "scrolled": true
   },
   "outputs": [],
   "source": [
    "import numpy as np\n",
    "import pandas as pd"
   ]
  },
  {
   "cell_type": "markdown",
   "id": "2a1e0867",
   "metadata": {},
   "source": [
    "# What is the size and shape of the data?\n"
   ]
  },
  {
   "cell_type": "code",
   "execution_count": 33,
   "id": "fe4dc7ce",
   "metadata": {},
   "outputs": [
    {
     "data": {
      "text/html": [
       "<div>\n",
       "<style scoped>\n",
       "    .dataframe tbody tr th:only-of-type {\n",
       "        vertical-align: middle;\n",
       "    }\n",
       "\n",
       "    .dataframe tbody tr th {\n",
       "        vertical-align: top;\n",
       "    }\n",
       "\n",
       "    .dataframe thead th {\n",
       "        text-align: right;\n",
       "    }\n",
       "</style>\n",
       "<table border=\"1\" class=\"dataframe\">\n",
       "  <thead>\n",
       "    <tr style=\"text-align: right;\">\n",
       "      <th></th>\n",
       "      <th>Unnamed: 0</th>\n",
       "      <th>id</th>\n",
       "      <th>chol</th>\n",
       "      <th>stab.glu</th>\n",
       "      <th>hdl</th>\n",
       "      <th>ratio</th>\n",
       "      <th>glyhb</th>\n",
       "      <th>location</th>\n",
       "      <th>age</th>\n",
       "      <th>gender</th>\n",
       "      <th>height</th>\n",
       "      <th>weight</th>\n",
       "      <th>frame</th>\n",
       "      <th>bp.1s</th>\n",
       "      <th>bp.1d</th>\n",
       "      <th>bp.2s</th>\n",
       "      <th>bp.2d</th>\n",
       "      <th>waist</th>\n",
       "      <th>hip</th>\n",
       "      <th>time.ppn</th>\n",
       "    </tr>\n",
       "  </thead>\n",
       "  <tbody>\n",
       "    <tr>\n",
       "      <th>0</th>\n",
       "      <td>2</td>\n",
       "      <td>1002</td>\n",
       "      <td>228.0</td>\n",
       "      <td>92</td>\n",
       "      <td>37.0</td>\n",
       "      <td>6.2</td>\n",
       "      <td>4.640000</td>\n",
       "      <td>Buckingham</td>\n",
       "      <td>58</td>\n",
       "      <td>female</td>\n",
       "      <td>61.0</td>\n",
       "      <td>256.0</td>\n",
       "      <td>large</td>\n",
       "      <td>190.0</td>\n",
       "      <td>92.0</td>\n",
       "      <td>185.0</td>\n",
       "      <td>92.0</td>\n",
       "      <td>49.0</td>\n",
       "      <td>57.0</td>\n",
       "      <td>180.0</td>\n",
       "    </tr>\n",
       "    <tr>\n",
       "      <th>1</th>\n",
       "      <td>6</td>\n",
       "      <td>1011</td>\n",
       "      <td>195.0</td>\n",
       "      <td>92</td>\n",
       "      <td>41.0</td>\n",
       "      <td>4.8</td>\n",
       "      <td>4.840000</td>\n",
       "      <td>Buckingham</td>\n",
       "      <td>30</td>\n",
       "      <td>male</td>\n",
       "      <td>69.0</td>\n",
       "      <td>191.0</td>\n",
       "      <td>medium</td>\n",
       "      <td>161.0</td>\n",
       "      <td>112.0</td>\n",
       "      <td>161.0</td>\n",
       "      <td>112.0</td>\n",
       "      <td>46.0</td>\n",
       "      <td>49.0</td>\n",
       "      <td>720.0</td>\n",
       "    </tr>\n",
       "    <tr>\n",
       "      <th>2</th>\n",
       "      <td>8</td>\n",
       "      <td>1016</td>\n",
       "      <td>177.0</td>\n",
       "      <td>87</td>\n",
       "      <td>49.0</td>\n",
       "      <td>3.6</td>\n",
       "      <td>4.840000</td>\n",
       "      <td>Buckingham</td>\n",
       "      <td>45</td>\n",
       "      <td>male</td>\n",
       "      <td>69.0</td>\n",
       "      <td>166.0</td>\n",
       "      <td>large</td>\n",
       "      <td>160.0</td>\n",
       "      <td>80.0</td>\n",
       "      <td>128.0</td>\n",
       "      <td>86.0</td>\n",
       "      <td>34.0</td>\n",
       "      <td>40.0</td>\n",
       "      <td>300.0</td>\n",
       "    </tr>\n",
       "    <tr>\n",
       "      <th>3</th>\n",
       "      <td>10</td>\n",
       "      <td>1024</td>\n",
       "      <td>242.0</td>\n",
       "      <td>82</td>\n",
       "      <td>54.0</td>\n",
       "      <td>4.5</td>\n",
       "      <td>4.770000</td>\n",
       "      <td>Louisa</td>\n",
       "      <td>60</td>\n",
       "      <td>female</td>\n",
       "      <td>65.0</td>\n",
       "      <td>156.0</td>\n",
       "      <td>medium</td>\n",
       "      <td>130.0</td>\n",
       "      <td>90.0</td>\n",
       "      <td>130.0</td>\n",
       "      <td>90.0</td>\n",
       "      <td>39.0</td>\n",
       "      <td>45.0</td>\n",
       "      <td>300.0</td>\n",
       "    </tr>\n",
       "    <tr>\n",
       "      <th>4</th>\n",
       "      <td>15</td>\n",
       "      <td>1036</td>\n",
       "      <td>213.0</td>\n",
       "      <td>83</td>\n",
       "      <td>47.0</td>\n",
       "      <td>4.5</td>\n",
       "      <td>3.410000</td>\n",
       "      <td>Louisa</td>\n",
       "      <td>33</td>\n",
       "      <td>female</td>\n",
       "      <td>65.0</td>\n",
       "      <td>157.0</td>\n",
       "      <td>medium</td>\n",
       "      <td>130.0</td>\n",
       "      <td>90.0</td>\n",
       "      <td>120.0</td>\n",
       "      <td>96.0</td>\n",
       "      <td>37.0</td>\n",
       "      <td>41.0</td>\n",
       "      <td>240.0</td>\n",
       "    </tr>\n",
       "    <tr>\n",
       "      <th>...</th>\n",
       "      <td>...</td>\n",
       "      <td>...</td>\n",
       "      <td>...</td>\n",
       "      <td>...</td>\n",
       "      <td>...</td>\n",
       "      <td>...</td>\n",
       "      <td>...</td>\n",
       "      <td>...</td>\n",
       "      <td>...</td>\n",
       "      <td>...</td>\n",
       "      <td>...</td>\n",
       "      <td>...</td>\n",
       "      <td>...</td>\n",
       "      <td>...</td>\n",
       "      <td>...</td>\n",
       "      <td>...</td>\n",
       "      <td>...</td>\n",
       "      <td>...</td>\n",
       "      <td>...</td>\n",
       "      <td>...</td>\n",
       "    </tr>\n",
       "    <tr>\n",
       "      <th>125</th>\n",
       "      <td>394</td>\n",
       "      <td>41254</td>\n",
       "      <td>169.0</td>\n",
       "      <td>104</td>\n",
       "      <td>58.0</td>\n",
       "      <td>2.9</td>\n",
       "      <td>4.820000</td>\n",
       "      <td>Louisa</td>\n",
       "      <td>25</td>\n",
       "      <td>female</td>\n",
       "      <td>60.0</td>\n",
       "      <td>154.0</td>\n",
       "      <td>medium</td>\n",
       "      <td>140.0</td>\n",
       "      <td>95.0</td>\n",
       "      <td>130.0</td>\n",
       "      <td>94.0</td>\n",
       "      <td>40.0</td>\n",
       "      <td>42.0</td>\n",
       "      <td>60.0</td>\n",
       "    </tr>\n",
       "    <tr>\n",
       "      <th>126</th>\n",
       "      <td>395</td>\n",
       "      <td>41500</td>\n",
       "      <td>179.0</td>\n",
       "      <td>85</td>\n",
       "      <td>50.0</td>\n",
       "      <td>3.6</td>\n",
       "      <td>4.990000</td>\n",
       "      <td>Louisa</td>\n",
       "      <td>37</td>\n",
       "      <td>male</td>\n",
       "      <td>66.0</td>\n",
       "      <td>136.0</td>\n",
       "      <td>medium</td>\n",
       "      <td>190.0</td>\n",
       "      <td>94.0</td>\n",
       "      <td>172.0</td>\n",
       "      <td>100.0</td>\n",
       "      <td>33.0</td>\n",
       "      <td>39.0</td>\n",
       "      <td>480.0</td>\n",
       "    </tr>\n",
       "    <tr>\n",
       "      <th>127</th>\n",
       "      <td>397</td>\n",
       "      <td>41503</td>\n",
       "      <td>301.0</td>\n",
       "      <td>90</td>\n",
       "      <td>118.0</td>\n",
       "      <td>2.6</td>\n",
       "      <td>4.280000</td>\n",
       "      <td>Louisa</td>\n",
       "      <td>89</td>\n",
       "      <td>female</td>\n",
       "      <td>61.0</td>\n",
       "      <td>115.0</td>\n",
       "      <td>medium</td>\n",
       "      <td>218.0</td>\n",
       "      <td>90.0</td>\n",
       "      <td>238.0</td>\n",
       "      <td>90.0</td>\n",
       "      <td>31.0</td>\n",
       "      <td>41.0</td>\n",
       "      <td>210.0</td>\n",
       "    </tr>\n",
       "    <tr>\n",
       "      <th>128</th>\n",
       "      <td>398</td>\n",
       "      <td>41506</td>\n",
       "      <td>296.0</td>\n",
       "      <td>369</td>\n",
       "      <td>46.0</td>\n",
       "      <td>6.4</td>\n",
       "      <td>16.110001</td>\n",
       "      <td>Louisa</td>\n",
       "      <td>53</td>\n",
       "      <td>male</td>\n",
       "      <td>69.0</td>\n",
       "      <td>173.0</td>\n",
       "      <td>medium</td>\n",
       "      <td>138.0</td>\n",
       "      <td>94.0</td>\n",
       "      <td>130.0</td>\n",
       "      <td>94.0</td>\n",
       "      <td>35.0</td>\n",
       "      <td>39.0</td>\n",
       "      <td>210.0</td>\n",
       "    </tr>\n",
       "    <tr>\n",
       "      <th>129</th>\n",
       "      <td>399</td>\n",
       "      <td>41507</td>\n",
       "      <td>284.0</td>\n",
       "      <td>89</td>\n",
       "      <td>54.0</td>\n",
       "      <td>5.3</td>\n",
       "      <td>4.390000</td>\n",
       "      <td>Louisa</td>\n",
       "      <td>51</td>\n",
       "      <td>female</td>\n",
       "      <td>63.0</td>\n",
       "      <td>154.0</td>\n",
       "      <td>medium</td>\n",
       "      <td>140.0</td>\n",
       "      <td>100.0</td>\n",
       "      <td>146.0</td>\n",
       "      <td>102.0</td>\n",
       "      <td>32.0</td>\n",
       "      <td>43.0</td>\n",
       "      <td>180.0</td>\n",
       "    </tr>\n",
       "  </tbody>\n",
       "</table>\n",
       "<p>130 rows × 20 columns</p>\n",
       "</div>"
      ],
      "text/plain": [
       "     Unnamed: 0     id   chol  stab.glu    hdl  ratio      glyhb    location  \\\n",
       "0             2   1002  228.0        92   37.0    6.2   4.640000  Buckingham   \n",
       "1             6   1011  195.0        92   41.0    4.8   4.840000  Buckingham   \n",
       "2             8   1016  177.0        87   49.0    3.6   4.840000  Buckingham   \n",
       "3            10   1024  242.0        82   54.0    4.5   4.770000      Louisa   \n",
       "4            15   1036  213.0        83   47.0    4.5   3.410000      Louisa   \n",
       "..          ...    ...    ...       ...    ...    ...        ...         ...   \n",
       "125         394  41254  169.0       104   58.0    2.9   4.820000      Louisa   \n",
       "126         395  41500  179.0        85   50.0    3.6   4.990000      Louisa   \n",
       "127         397  41503  301.0        90  118.0    2.6   4.280000      Louisa   \n",
       "128         398  41506  296.0       369   46.0    6.4  16.110001      Louisa   \n",
       "129         399  41507  284.0        89   54.0    5.3   4.390000      Louisa   \n",
       "\n",
       "     age  gender  height  weight   frame  bp.1s  bp.1d  bp.2s  bp.2d  waist  \\\n",
       "0     58  female    61.0   256.0   large  190.0   92.0  185.0   92.0   49.0   \n",
       "1     30    male    69.0   191.0  medium  161.0  112.0  161.0  112.0   46.0   \n",
       "2     45    male    69.0   166.0   large  160.0   80.0  128.0   86.0   34.0   \n",
       "3     60  female    65.0   156.0  medium  130.0   90.0  130.0   90.0   39.0   \n",
       "4     33  female    65.0   157.0  medium  130.0   90.0  120.0   96.0   37.0   \n",
       "..   ...     ...     ...     ...     ...    ...    ...    ...    ...    ...   \n",
       "125   25  female    60.0   154.0  medium  140.0   95.0  130.0   94.0   40.0   \n",
       "126   37    male    66.0   136.0  medium  190.0   94.0  172.0  100.0   33.0   \n",
       "127   89  female    61.0   115.0  medium  218.0   90.0  238.0   90.0   31.0   \n",
       "128   53    male    69.0   173.0  medium  138.0   94.0  130.0   94.0   35.0   \n",
       "129   51  female    63.0   154.0  medium  140.0  100.0  146.0  102.0   32.0   \n",
       "\n",
       "      hip  time.ppn  \n",
       "0    57.0     180.0  \n",
       "1    49.0     720.0  \n",
       "2    40.0     300.0  \n",
       "3    45.0     300.0  \n",
       "4    41.0     240.0  \n",
       "..    ...       ...  \n",
       "125  42.0      60.0  \n",
       "126  39.0     480.0  \n",
       "127  41.0     210.0  \n",
       "128  39.0     210.0  \n",
       "129  43.0     180.0  \n",
       "\n",
       "[130 rows x 20 columns]"
      ]
     },
     "execution_count": 33,
     "metadata": {},
     "output_type": "execute_result"
    }
   ],
   "source": [
    "df = pd.read_csv(\"data.csv\")\n",
    "df"
   ]
  },
  {
   "cell_type": "markdown",
   "id": "82fbed9a",
   "metadata": {},
   "source": [
    "# Find the 25th and 75th quantile of cholestrol from the data."
   ]
  },
  {
   "cell_type": "code",
   "execution_count": 34,
   "id": "3f1bd8d0",
   "metadata": {},
   "outputs": [
    {
     "name": "stdout",
     "output_type": "stream",
     "text": [
      "(130, 20) 2600\n"
     ]
    }
   ],
   "source": [
    "print(df.shape,df.size)"
   ]
  },
  {
   "cell_type": "markdown",
   "id": "254089fb",
   "metadata": {},
   "source": [
    "# First acess the attribute and then apply quantile in built function"
   ]
  },
  {
   "cell_type": "code",
   "execution_count": 36,
   "id": "2fe62140",
   "metadata": {},
   "outputs": [
    {
     "data": {
      "text/plain": [
       "184.25"
      ]
     },
     "execution_count": 36,
     "metadata": {},
     "output_type": "execute_result"
    }
   ],
   "source": [
    "df[\"chol\"].quantile(0.25)"
   ]
  },
  {
   "cell_type": "markdown",
   "id": "bfd436e8",
   "metadata": {},
   "source": [
    "# What is the dot product of height and weight."
   ]
  },
  {
   "cell_type": "code",
   "execution_count": 37,
   "id": "4063c7da",
   "metadata": {},
   "outputs": [
    {
     "data": {
      "text/plain": [
       "241.5"
      ]
     },
     "execution_count": 37,
     "metadata": {},
     "output_type": "execute_result"
    }
   ],
   "source": [
    "df[\"chol\"].quantile(0.75)"
   ]
  },
  {
   "cell_type": "markdown",
   "id": "72d94bc0",
   "metadata": {},
   "source": [
    "# What is the dot product of height and weight."
   ]
  },
  {
   "cell_type": "code",
   "execution_count": 39,
   "id": "350cc445",
   "metadata": {},
   "outputs": [
    {
     "data": {
      "text/plain": [
       "1584973.0"
      ]
     },
     "execution_count": 39,
     "metadata": {},
     "output_type": "execute_result"
    }
   ],
   "source": [
    "df[\"height\"]\n",
    "df[\"weight\"]\n",
    "df[\"height\"] @ df[\"weight\"]"
   ]
  },
  {
   "cell_type": "code",
   "execution_count": 41,
   "id": "36b1d42d",
   "metadata": {},
   "outputs": [
    {
     "data": {
      "text/plain": [
       "1584973.0"
      ]
     },
     "execution_count": 41,
     "metadata": {},
     "output_type": "execute_result"
    }
   ],
   "source": [
    "df[\"height\"].dot(df[\"weight\"])"
   ]
  },
  {
   "cell_type": "markdown",
   "id": "515d006e",
   "metadata": {},
   "source": [
    "# what is the 25th and 75th percentile of 'bp.1d' ."
   ]
  },
  {
   "cell_type": "code",
   "execution_count": 44,
   "id": "70487ee8",
   "metadata": {},
   "outputs": [
    {
     "data": {
      "text/plain": [
       "89.0"
      ]
     },
     "execution_count": 44,
     "metadata": {},
     "output_type": "execute_result"
    }
   ],
   "source": [
    "df[\"bp.1d\"].quantile(0.25)"
   ]
  },
  {
   "cell_type": "code",
   "execution_count": 45,
   "id": "8591ab62",
   "metadata": {},
   "outputs": [
    {
     "data": {
      "text/plain": [
       "100.0"
      ]
     },
     "execution_count": 45,
     "metadata": {},
     "output_type": "execute_result"
    }
   ],
   "source": [
    "df[\"bp.1d\"].quantile(0.75)"
   ]
  },
  {
   "cell_type": "code",
   "execution_count": 55,
   "id": "34b7d4e2",
   "metadata": {},
   "outputs": [
    {
     "data": {
      "text/plain": [
       "0      37.0\n",
       "1      41.0\n",
       "2      49.0\n",
       "4      47.0\n",
       "7      41.0\n",
       "       ... \n",
       "119    40.0\n",
       "120    36.0\n",
       "122    40.0\n",
       "123    40.0\n",
       "128    46.0\n",
       "Name: hdl, Length: 77, dtype: float64"
      ]
     },
     "execution_count": 55,
     "metadata": {},
     "output_type": "execute_result"
    }
   ],
   "source": [
    "valueslessthan50=df[\"hdl\"]\n",
    "val=valueslessthan50[valueslessthan50 < 50]\n",
    "val"
   ]
  },
  {
   "cell_type": "code",
   "execution_count": 56,
   "id": "ce079938",
   "metadata": {},
   "outputs": [
    {
     "data": {
      "text/plain": [
       "39.0"
      ]
     },
     "execution_count": 56,
     "metadata": {},
     "output_type": "execute_result"
    }
   ],
   "source": [
    "np.median(val)"
   ]
  },
  {
   "cell_type": "markdown",
   "id": "3abe5ff2",
   "metadata": {},
   "source": [
    "# Take starting 5 values from 'bp.1d' and 'bp.2d' and compare  which of these five values are equal to each other."
   ]
  },
  {
   "cell_type": "code",
   "execution_count": 67,
   "id": "602af3fe",
   "metadata": {},
   "outputs": [
    {
     "data": {
      "text/plain": [
       "0     92.0\n",
       "1    112.0\n",
       "2     80.0\n",
       "3     90.0\n",
       "4     90.0\n",
       "Name: bp.1d, dtype: float64"
      ]
     },
     "execution_count": 67,
     "metadata": {},
     "output_type": "execute_result"
    }
   ],
   "source": [
    "a=df[\"bp.1d\"][0:5]\n",
    "a"
   ]
  },
  {
   "cell_type": "code",
   "execution_count": 68,
   "id": "285e1f8d",
   "metadata": {},
   "outputs": [
    {
     "data": {
      "text/plain": [
       "0     92.0\n",
       "1    112.0\n",
       "2     86.0\n",
       "3     90.0\n",
       "4     96.0\n",
       "Name: bp.2d, dtype: float64"
      ]
     },
     "execution_count": 68,
     "metadata": {},
     "output_type": "execute_result"
    }
   ],
   "source": [
    "b=df[\"bp.2d\"][0:5]\n",
    "b"
   ]
  },
  {
   "cell_type": "code",
   "execution_count": 69,
   "id": "1aa1238e",
   "metadata": {},
   "outputs": [
    {
     "data": {
      "text/plain": [
       "[0     True\n",
       " 1     True\n",
       " 2    False\n",
       " 3     True\n",
       " 4    False\n",
       " dtype: bool]"
      ]
     },
     "execution_count": 69,
     "metadata": {},
     "output_type": "execute_result"
    }
   ],
   "source": [
    "[a == b]"
   ]
  },
  {
   "cell_type": "markdown",
   "id": "2ee04c8f",
   "metadata": {},
   "source": [
    "# What are the indexes where 'hdl' is equal to 50.0."
   ]
  },
  {
   "cell_type": "code",
   "execution_count": 82,
   "id": "2e7f78d2",
   "metadata": {},
   "outputs": [
    {
     "data": {
      "text/plain": [
       "5      50.0\n",
       "53     50.0\n",
       "90     50.0\n",
       "126    50.0\n",
       "Name: hdl, dtype: float64"
      ]
     },
     "execution_count": 82,
     "metadata": {},
     "output_type": "execute_result"
    }
   ],
   "source": [
    "df[\"hdl\"][df[\"hdl\"]==50]"
   ]
  },
  {
   "cell_type": "markdown",
   "id": "1d0e4b8c",
   "metadata": {},
   "source": [
    "# create a new array with 1s and 0s based on a condition if the value in bp-1s is equal to value in bp-2s then the value in new array will be 1 else 0"
   ]
  },
  {
   "cell_type": "code",
   "execution_count": 103,
   "id": "3b7bc842",
   "metadata": {},
   "outputs": [
    {
     "data": {
      "text/plain": [
       "array([1, 1, 0, 1, 0, 0, 0, 1, 1, 0, 0, 0, 0, 0, 0, 0, 0, 0, 0, 0, 1, 1,\n",
       "       0, 0, 0, 0, 0, 0, 0, 0, 1, 0, 0, 0, 0, 1, 0, 0, 0, 0, 1, 0, 0, 0,\n",
       "       0, 0, 0, 1, 0, 0, 0, 0, 0, 0, 0, 0, 0, 1, 0, 0, 1, 0, 0, 0, 0, 0,\n",
       "       0, 1, 0, 0, 0, 0, 0, 0, 0, 1, 0, 0, 0, 0, 0, 0, 0, 0, 0, 0, 0, 0,\n",
       "       0, 1, 0, 1, 0, 0, 0, 0, 1, 0, 0, 0, 0, 0, 0, 0, 0, 1, 0, 0, 1, 0,\n",
       "       0, 0, 1, 1, 0, 0, 0, 0, 0, 0, 0, 0, 0, 1, 0, 0, 0, 1, 1, 0])"
      ]
     },
     "execution_count": 103,
     "metadata": {},
     "output_type": "execute_result"
    }
   ],
   "source": [
    "np.where(df[\"bp.1d\"]==df[\"bp.2d\"],1,0)"
   ]
  },
  {
   "cell_type": "markdown",
   "id": "2e2932be",
   "metadata": {},
   "source": [
    "# Find the covariance of weight column."
   ]
  },
  {
   "cell_type": "code",
   "execution_count": 106,
   "id": "211c2d43",
   "metadata": {},
   "outputs": [
    {
     "data": {
      "text/plain": [
       "array(1720.95289207)"
      ]
     },
     "execution_count": 106,
     "metadata": {},
     "output_type": "execute_result"
    }
   ],
   "source": [
    "np.cov(df[\"weight\"])"
   ]
  },
  {
   "cell_type": "markdown",
   "id": "e2f2dfad",
   "metadata": {},
   "source": [
    "# what type of correlation we can find between weight and chol?"
   ]
  },
  {
   "cell_type": "code",
   "execution_count": 108,
   "id": "fd332141",
   "metadata": {},
   "outputs": [
    {
     "data": {
      "text/plain": [
       "array([[ 1.        , -0.06949555],\n",
       "       [-0.06949555,  1.        ]])"
      ]
     },
     "execution_count": 108,
     "metadata": {},
     "output_type": "execute_result"
    }
   ],
   "source": [
    "np.corrcoef(df[\"weight\"],df[\"chol\"])"
   ]
  },
  {
   "attachments": {
    "h1.png": {
     "image/png": "[encoded data removed]"
    }
   },
   "cell_type": "markdown",
   "id": "05551195",
   "metadata": {},
   "source": [
    "# Refer the following numpy array and answer the questions\n",
    "![h1.png](attachment:h1.png)"
   ]
  },
  {
   "cell_type": "code",
   "execution_count": 109,
   "id": "8ac56781",
   "metadata": {},
   "outputs": [
    {
     "data": {
      "text/plain": [
       "array([[[12, 18, 20, 24],\n",
       "        [ 2, 13, 23,  4],\n",
       "        [25,  6,  9,  1]]])"
      ]
     },
     "execution_count": 109,
     "metadata": {},
     "output_type": "execute_result"
    }
   ],
   "source": [
    "array = np.array([[[12,18,20,24],[2,13,23,4],[25,6,9,1]]])\n",
    "array"
   ]
  },
  {
   "cell_type": "code",
   "execution_count": 110,
   "id": "4450a6eb",
   "metadata": {},
   "outputs": [
    {
     "data": {
      "text/plain": [
       "(1, 3, 4)"
      ]
     },
     "execution_count": 110,
     "metadata": {},
     "output_type": "execute_result"
    }
   ],
   "source": [
    "array.shape"
   ]
  },
  {
   "cell_type": "code",
   "execution_count": 121,
   "id": "d610d168",
   "metadata": {},
   "outputs": [
    {
     "data": {
      "text/plain": [
       "array([12,  2,  1])"
      ]
     },
     "execution_count": 121,
     "metadata": {},
     "output_type": "execute_result"
    }
   ],
   "source": [
    "np.min(array[0],axis = 1)"
   ]
  },
  {
   "cell_type": "markdown",
   "id": "9592d40b",
   "metadata": {},
   "source": [
    "# which of the following syntax displays the element '9'"
   ]
  },
  {
   "cell_type": "code",
   "execution_count": 122,
   "id": "75947a51",
   "metadata": {},
   "outputs": [
    {
     "name": "stdout",
     "output_type": "stream",
     "text": [
      "9\n",
      "[9]\n",
      "[9]\n"
     ]
    }
   ],
   "source": [
    "print(array[0,2,2])\n",
    "print(array[array==9])\n",
    "print(array[0,:,2:3][2])"
   ]
  },
  {
   "cell_type": "markdown",
   "id": "dc65d7c9",
   "metadata": {},
   "source": [
    "# What is the output of following syntax?"
   ]
  },
  {
   "cell_type": "code",
   "execution_count": 123,
   "id": "72b9bf7f",
   "metadata": {},
   "outputs": [
    {
     "data": {
      "text/plain": [
       "8"
      ]
     },
     "execution_count": 123,
     "metadata": {},
     "output_type": "execute_result"
    }
   ],
   "source": [
    "array.argmax()"
   ]
  },
  {
   "attachments": {
    "h2.png": {
     "image/png": "[encoded data removed]"
    }
   },
   "cell_type": "markdown",
   "id": "287760ad",
   "metadata": {},
   "source": [
    "# Refer the following numpy array and answer the questions\n",
    "![h2.png](attachment:h2.png)"
   ]
  },
  {
   "cell_type": "code",
   "execution_count": 124,
   "id": "574252de",
   "metadata": {},
   "outputs": [
    {
     "data": {
      "text/plain": [
       "array([[[ 5, 12,  8, 19],\n",
       "        [21, 13, 23, 20],\n",
       "        [29, 16, 18, 22]]])"
      ]
     },
     "execution_count": 124,
     "metadata": {},
     "output_type": "execute_result"
    }
   ],
   "source": [
    "array2 = np.array([[[5,12,8,19],[21,13,23,20],[29,16,18,22]]])\n",
    "array2"
   ]
  },
  {
   "cell_type": "code",
   "execution_count": 125,
   "id": "a53492da",
   "metadata": {},
   "outputs": [
    {
     "data": {
      "text/plain": [
       "array([ 2, 13, 23,  4, 21, 13, 23, 20])"
      ]
     },
     "execution_count": 125,
     "metadata": {},
     "output_type": "execute_result"
    }
   ],
   "source": [
    "np.hstack((array[0][1],array2[0][1]))"
   ]
  },
  {
   "cell_type": "code",
   "execution_count": 126,
   "id": "45d60069",
   "metadata": {},
   "outputs": [
    {
     "data": {
      "text/plain": [
       "(1, 3, 4)"
      ]
     },
     "execution_count": 126,
     "metadata": {},
     "output_type": "execute_result"
    }
   ],
   "source": [
    "array2.shape"
   ]
  },
  {
   "cell_type": "markdown",
   "id": "7046fccc",
   "metadata": {},
   "source": [
    "# What is the output of following code?"
   ]
  },
  {
   "cell_type": "code",
   "execution_count": 127,
   "id": "c8d8b22b",
   "metadata": {},
   "outputs": [
    {
     "name": "stdout",
     "output_type": "stream",
     "text": [
      "[ 3. 12.]\n"
     ]
    }
   ],
   "source": [
    "d = np.array([0.1,3,41,2,3,15,63,13,65,12])\n",
    "print(d[[1,9]])"
   ]
  }
 ],
 "metadata": {
  "kernelspec": {
   "display_name": "Python 3 (ipykernel)",
   "language": "python",
   "name": "python3"
  },
  "language_info": {
   "codemirror_mode": {
    "name": "ipython",
    "version": 3
   },
   "file_extension": ".py",
   "mimetype": "text/x-python",
   "name": "python",
   "nbconvert_exporter": "python",
   "pygments_lexer": "ipython3",
   "version": "3.11.5"
  }
 },
 "nbformat": 4,
 "nbformat_minor": 5
}
