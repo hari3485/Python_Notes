{
 "cells": [
  {
   "cell_type": "code",
   "execution_count": 1,
   "id": "2f3ecb4d",
   "metadata": {},
   "outputs": [
    {
     "name": "stdout",
     "output_type": "stream",
     "text": [
      "log in successful\n"
     ]
    }
   ],
   "source": [
    "name=\"python\"\n",
    "if name == \"java\" or \"css\" or \"html\":\n",
    "    print(\"log in successful\")\n",
    "else:\n",
    "    print(\"not valid\")\n",
    "#check down comments frst it compares name == java \"F\"\n",
    "#then \"css\" considers true bcoz it not an mpty string\n",
    "#considers as true value so \"F\" or \"T\" T or T gives T \n",
    "#so it runs Print under the If condition"
   ]
  },
  {
   "cell_type": "code",
   "execution_count": null,
   "id": "0c8455c5",
   "metadata": {},
   "outputs": [],
   "source": []
  },
  {
   "cell_type": "code",
   "execution_count": 14,
   "id": "ae27ee2e",
   "metadata": {},
   "outputs": [
    {
     "data": {
      "text/plain": [
       "True"
      ]
     },
     "execution_count": 14,
     "metadata": {},
     "output_type": "execute_result"
    }
   ],
   "source": [
    "0,0.0,\"\" #gives true when we use not\n",
    "#here when we give empty string with no spaces it \n",
    "#considers as no value so its \"false\" ans will be \"true\"\n",
    "#when not is used to compare condition with \"\" so it results \"true\"\n",
    "not \"\""
   ]
  },
  {
   "cell_type": "code",
   "execution_count": 3,
   "id": "955c15a6",
   "metadata": {},
   "outputs": [
    {
     "data": {
      "text/plain": [
       "True"
      ]
     },
     "execution_count": 3,
     "metadata": {},
     "output_type": "execute_result"
    }
   ],
   "source": [
    "not \"\""
   ]
  },
  {
   "cell_type": "code",
   "execution_count": 4,
   "id": "034c8ca1",
   "metadata": {},
   "outputs": [
    {
     "data": {
      "text/plain": [
       "False"
      ]
     },
     "execution_count": 4,
     "metadata": {},
     "output_type": "execute_result"
    }
   ],
   "source": [
    "not \"h\""
   ]
  },
  {
   "cell_type": "code",
   "execution_count": 4,
   "id": "a0514ffe",
   "metadata": {},
   "outputs": [],
   "source": [
    "if \"\":\n",
    "    print(\"jhfdds\")"
   ]
  },
  {
   "cell_type": "code",
   "execution_count": 5,
   "id": "07491cd9",
   "metadata": {},
   "outputs": [
    {
     "name": "stdout",
     "output_type": "stream",
     "text": [
      "udshufdh\n"
     ]
    }
   ],
   "source": [
    "if 2 == 3:\n",
    "    print(\"jhfdds\")\n",
    "print(\"udshufdh\")\n"
   ]
  },
  {
   "cell_type": "code",
   "execution_count": 17,
   "id": "c74eb873",
   "metadata": {},
   "outputs": [
    {
     "name": "stdout",
     "output_type": "stream",
     "text": [
      "    * \n",
      "   * * \n",
      "  * * * \n",
      " * * * * \n",
      "* * * * * \n"
     ]
    }
   ],
   "source": [
    "n = 5\n",
    "for i in range(1,n+1):\n",
    "    print(\" \"*(n-i) + \"* \"*i)"
   ]
  },
  {
   "cell_type": "code",
   "execution_count": 5,
   "id": "5f3626bf",
   "metadata": {},
   "outputs": [
    {
     "name": "stdout",
     "output_type": "stream",
     "text": [
      "[3, 5, 6]\n",
      "[3, 5, 6]\n"
     ]
    }
   ],
   "source": [
    "lst=[4,5,6]\n",
    "lst2=lst\n",
    "lst2[0]=3\n",
    "print(lst2)\n",
    "print(lst)\n",
    "#it is saving to same memory so both are updating"
   ]
  },
  {
   "cell_type": "code",
   "execution_count": 8,
   "id": "5d491c98",
   "metadata": {},
   "outputs": [
    {
     "name": "stdout",
     "output_type": "stream",
     "text": [
      "[5, 5, 6]\n",
      "[4, 5, 6]\n"
     ]
    }
   ],
   "source": [
    "import copy\n",
    "lst=[4,5,6]\n",
    "lst2=copy.copy(lst)\n",
    "lst2[0]=5\n",
    "print(lst2)\n",
    "print(lst)"
   ]
  },
  {
   "cell_type": "code",
   "execution_count": 10,
   "id": "b35b24d3",
   "metadata": {},
   "outputs": [
    {
     "name": "stdout",
     "output_type": "stream",
     "text": [
      "[1]\n",
      "[2]\n",
      "[1, 3]\n",
      "[1, 3, 2]\n"
     ]
    }
   ],
   "source": [
    "def fun(x,y=[]):\n",
    "    y.append(x)\n",
    "    return y\n",
    "\n",
    "print(fun(1))\n",
    "print(fun(2,[]))\n",
    "print(fun(3))\n",
    "#it is going step by step as default mpy list updated to 1 so it is re using"
   ]
  },
  {
   "cell_type": "code",
   "execution_count": 11,
   "id": "e4d1e53b",
   "metadata": {},
   "outputs": [
    {
     "ename": "TypeError",
     "evalue": "'tuple' object does not support item assignment",
     "output_type": "error",
     "traceback": [
      "\u001b[1;31m---------------------------------------------------------------------------\u001b[0m",
      "\u001b[1;31mTypeError\u001b[0m                                 Traceback (most recent call last)",
      "Cell \u001b[1;32mIn[11], line 4\u001b[0m\n\u001b[0;32m      2\u001b[0m y\u001b[38;5;241m=\u001b[39m(\u001b[38;5;241m4\u001b[39m,\u001b[38;5;241m5\u001b[39m,\u001b[38;5;241m6\u001b[39m)\n\u001b[0;32m      3\u001b[0m z\u001b[38;5;241m=\u001b[39mx\u001b[38;5;241m+\u001b[39my\n\u001b[1;32m----> 4\u001b[0m z[\u001b[38;5;241m3\u001b[39m]\u001b[38;5;241m=\u001b[39m\u001b[38;5;241m4\u001b[39m\n\u001b[0;32m      5\u001b[0m \u001b[38;5;28mprint\u001b[39m(z)\n",
      "\u001b[1;31mTypeError\u001b[0m: 'tuple' object does not support item assignment"
     ]
    }
   ],
   "source": [
    "x=(1,2,3)\n",
    "y=(4,5,6)\n",
    "z=x+y\n",
    "z[3]=4\n",
    "print(z)"
   ]
  },
  {
   "cell_type": "code",
   "execution_count": 12,
   "id": "6db0c1c3",
   "metadata": {},
   "outputs": [
    {
     "name": "stdout",
     "output_type": "stream",
     "text": [
      "1hari4hari3\n"
     ]
    }
   ],
   "source": [
    "x=\"hari\"\n",
    "y=x.join([\"1\",\"4\",\"3\"])\n",
    "print(y)\n",
    "#first takes inside joins elements then joins to x"
   ]
  },
  {
   "cell_type": "code",
   "execution_count": 17,
   "id": "eb119903",
   "metadata": {},
   "outputs": [
    {
     "data": {
      "text/plain": [
       "'i-n-n-o-m-a-t-i-c-s'"
      ]
     },
     "execution_count": 17,
     "metadata": {},
     "output_type": "execute_result"
    }
   ],
   "source": [
    "a=\"innomatics\"\n",
    "\"-\".join(a)"
   ]
  },
  {
   "cell_type": "code",
   "execution_count": 2,
   "id": "e3099883",
   "metadata": {},
   "outputs": [
    {
     "data": {
      "text/plain": [
       "'not found'"
      ]
     },
     "execution_count": 2,
     "metadata": {},
     "output_type": "execute_result"
    }
   ],
   "source": [
    "dict1={1:\"yash\",2:\"kausthub\",3:\"ayush\",4:\"chandan\"}\n",
    "dict1.get(5,\"not found\")"
   ]
  },
  {
   "cell_type": "code",
   "execution_count": 3,
   "id": "e144f98b",
   "metadata": {},
   "outputs": [
    {
     "name": "stdout",
     "output_type": "stream",
     "text": [
      "enter a name: harichandan\n",
      "haan\n"
     ]
    }
   ],
   "source": [
    "#take a userinput string if the length of string is less than equal to 3 \n",
    "#print the userinput as it is otherwise print first 2 letters and last 2 letters of string\n",
    "\n",
    "name=input(\"enter a name: \")\n",
    "print(name[0:2]+name[-2::])"
   ]
  },
  {
   "cell_type": "code",
   "execution_count": 6,
   "id": "60229641",
   "metadata": {},
   "outputs": [
    {
     "data": {
      "text/plain": [
       "{1: 1, 2: 4, 3: 9, 4: 16, 5: 25, 6: 36, 7: 49, 8: 64}"
      ]
     },
     "execution_count": 6,
     "metadata": {},
     "output_type": "execute_result"
    }
   ],
   "source": [
    "#dictionary comprehension for num and square\n",
    "dict1={h:h*h for h in range(1,9) }\n",
    "dict1"
   ]
  },
  {
   "cell_type": "code",
   "execution_count": 13,
   "id": "7734b651",
   "metadata": {},
   "outputs": [
    {
     "name": "stdout",
     "output_type": "stream",
     "text": [
      "{'hari': 'chikmarthu', 'chandu': 'chikmarthu', 'vivek': 'chikmarthu', 'mean': 'chikmarthu', 'median': 'chikmarthu'}\n"
     ]
    }
   ],
   "source": [
    "dict2=[\"hari\",\"chandu\",\"vivek\",\"mean\",\"median\"]\n",
    "a=dict.fromkeys(dict2,\"chikmarthu\")\n",
    "print(a)"
   ]
  },
  {
   "cell_type": "code",
   "execution_count": 17,
   "id": "2947cd58",
   "metadata": {},
   "outputs": [
    {
     "data": {
      "text/plain": [
       "'chikmarthu'"
      ]
     },
     "execution_count": 17,
     "metadata": {},
     "output_type": "execute_result"
    }
   ],
   "source": [
    "a[\"hari\"]"
   ]
  },
  {
   "cell_type": "code",
   "execution_count": 2,
   "id": "a9a20594",
   "metadata": {},
   "outputs": [
    {
     "data": {
      "text/plain": [
       "[1, 0, 3, 2]"
      ]
     },
     "execution_count": 2,
     "metadata": {},
     "output_type": "execute_result"
    }
   ],
   "source": [
    "a=[1,0,3,2,2,2,2,2,3]\n",
    "b=[]\n",
    "for i in a:\n",
    "    if i not in b:\n",
    "        b.append(i)\n",
    "b"
   ]
  },
  {
   "cell_type": "code",
   "execution_count": 8,
   "id": "21dfca87",
   "metadata": {},
   "outputs": [
    {
     "name": "stdout",
     "output_type": "stream",
     "text": [
      "[1, 0, 3, 2]\n"
     ]
    }
   ],
   "source": [
    "a=[1,0,3,2,2,2,2,2,3]\n",
    "b=[]\n",
    "for i in a:\n",
    "    if i in b:\n",
    "        pass\n",
    "    else:\n",
    "        b.append(i)\n",
    "print(b)"
   ]
  },
  {
   "cell_type": "code",
   "execution_count": 11,
   "id": "a30b1126",
   "metadata": {},
   "outputs": [
    {
     "ename": "AttributeError",
     "evalue": "'set' object has no attribute 'append'",
     "output_type": "error",
     "traceback": [
      "\u001b[1;31m---------------------------------------------------------------------------\u001b[0m",
      "\u001b[1;31mAttributeError\u001b[0m                            Traceback (most recent call last)",
      "Cell \u001b[1;32mIn[11], line 5\u001b[0m\n\u001b[0;32m      3\u001b[0m \u001b[38;5;28;01mfor\u001b[39;00m i \u001b[38;5;129;01min\u001b[39;00m a:\n\u001b[0;32m      4\u001b[0m     \u001b[38;5;28;01mif\u001b[39;00m i \u001b[38;5;129;01mnot\u001b[39;00m \u001b[38;5;129;01min\u001b[39;00m b:\n\u001b[1;32m----> 5\u001b[0m         b\u001b[38;5;241m.\u001b[39mappend(i)\n\u001b[0;32m      6\u001b[0m \u001b[38;5;28mprint\u001b[39m(b)\n",
      "\u001b[1;31mAttributeError\u001b[0m: 'set' object has no attribute 'append'"
     ]
    }
   ],
   "source": [
    "a=[1,0,3,2,2,2,2,2,3]\n",
    "b=set()\n",
    "for i in a:\n",
    "    if i not in b:\n",
    "        b.append(i)\n",
    "print(b)"
   ]
  },
  {
   "cell_type": "code",
   "execution_count": 2,
   "id": "7caaec0c",
   "metadata": {},
   "outputs": [
    {
     "data": {
      "text/plain": [
       "[2, 4, 5]"
      ]
     },
     "execution_count": 2,
     "metadata": {},
     "output_type": "execute_result"
    }
   ],
   "source": [
    "a=(1,2,4,5,3)\n",
    "x,*y,z=a\n",
    "y #packing nd unpacking"
   ]
  },
  {
   "cell_type": "code",
   "execution_count": 7,
   "id": "a22a8261",
   "metadata": {
    "scrolled": true
   },
   "outputs": [
    {
     "name": "stdout",
     "output_type": "stream",
     "text": [
      "[102, 104, 106, 108, 110, 112, 114, 116, 118, 120, 122, 124, 126, 128, 130, 132, 134, 136, 138, 140, 142, 144, 146, 148, 150, 152, 154, 156, 158, 160, 162, 164, 166, 168, 170, 172, 174, 176, 178, 180, 182, 184, 186, 188, 190, 192, 194, 196, 198, 200, 202, 204, 206, 208, 210, 212, 214, 216, 218, 220, 222, 224, 226, 228, 230, 232, 234, 236, 238, 240, 242, 244, 246, 248, 250, 252, 254, 256, 258, 260, 262, 264, 266, 268, 270, 272, 274, 276, 278, 280, 282, 284, 286, 288, 290, 292, 294, 296, 298]\n"
     ]
    }
   ],
   "source": [
    "l1=list(range(1,100))\n",
    "l2=list(range(101,200))\n",
    "# print(l1)\n",
    "# print(l2)\n",
    "l3=[]\n",
    "for i in range(len(l1)):\n",
    "    l3.append(l1[i]+l2[i])\n",
    "print(l3)"
   ]
  },
  {
   "cell_type": "code",
   "execution_count": 6,
   "id": "10c8f32c",
   "metadata": {},
   "outputs": [
    {
     "name": "stdout",
     "output_type": "stream",
     "text": [
      "[102, 104, 106, 108, 110, 112, 114, 116, 118, 120, 122, 124, 126, 128, 130, 132, 134, 136, 138, 140, 142, 144, 146, 148, 150, 152, 154, 156, 158, 160, 162, 164, 166, 168, 170, 172, 174, 176, 178, 180, 182, 184, 186, 188, 190, 192, 194, 196, 198, 200, 202, 204, 206, 208, 210, 212, 214, 216, 218, 220, 222, 224, 226, 228, 230, 232, 234, 236, 238, 240, 242, 244, 246, 248, 250, 252, 254, 256, 258, 260, 262, 264, 266, 268, 270, 272, 274, 276, 278, 280, 282, 284, 286, 288, 290, 292, 294, 296, 298]\n"
     ]
    }
   ],
   "source": [
    "l1=list(range(1,100))\n",
    "l2=list(range(101,200))\n",
    "# print(l1)\n",
    "# print(l2)\n",
    "l3=[]\n",
    "for i,j in zip(l1,l2):\n",
    "    l3.append(i+j)\n",
    "print(l3)"
   ]
  },
  {
   "cell_type": "code",
   "execution_count": 38,
   "id": "14816c0c",
   "metadata": {},
   "outputs": [
    {
     "data": {
      "text/plain": [
       "{'my': 2, 'name': 4, 'is': 2, 'hari': 4}"
      ]
     },
     "execution_count": 38,
     "metadata": {},
     "output_type": "execute_result"
    }
   ],
   "source": [
    "string1=\"my name is hari\"\n",
    "k={i:len(i)  for i in string1.split()}\n",
    "k"
   ]
  },
  {
   "cell_type": "code",
   "execution_count": 1,
   "id": "adfe1fad",
   "metadata": {},
   "outputs": [
    {
     "data": {
      "text/plain": [
       "'322'"
      ]
     },
     "execution_count": 1,
     "metadata": {},
     "output_type": "execute_result"
    }
   ],
   "source": [
    "class hari:\n",
    "    def chandan(self):\n",
    "        return \"hari\"\n",
    "class harika(hari):\n",
    "    def mani(self):\n",
    "        return \"322\"\n",
    "    \n",
    "a1=harika()\n",
    "a1.mani()\n",
    "# We can use return also in oops"
   ]
  },
  {
   "cell_type": "code",
   "execution_count": 2,
   "id": "87abe8dc",
   "metadata": {},
   "outputs": [
    {
     "ename": "SyntaxError",
     "evalue": "expression expected after dictionary key and ':' (316500048.py, line 2)",
     "output_type": "error",
     "traceback": [
      "\u001b[1;36m  Cell \u001b[1;32mIn[2], line 2\u001b[1;36m\u001b[0m\n\u001b[1;33m    b = {i : }\u001b[0m\n\u001b[1;37m           ^\u001b[0m\n\u001b[1;31mSyntaxError\u001b[0m\u001b[1;31m:\u001b[0m expression expected after dictionary key and ':'\n"
     ]
    }
   ],
   "source": [
    "a = \"we are having debate on love proposal\"\n",
    "b = {i : }"
   ]
  },
  {
   "cell_type": "code",
   "execution_count": 3,
   "id": "f09e32da",
   "metadata": {},
   "outputs": [
    {
     "data": {
      "text/plain": [
       "[1, 'Hari', 3, 4]"
      ]
     },
     "execution_count": 3,
     "metadata": {},
     "output_type": "execute_result"
    }
   ],
   "source": [
    "a = [1,2,3,4]\n",
    "a[1] = \"Hari\"\n",
    "a"
   ]
  },
  {
   "cell_type": "code",
   "execution_count": 7,
   "id": "5e9e913d",
   "metadata": {},
   "outputs": [
    {
     "ename": "TypeError",
     "evalue": "'str' object does not support item assignment",
     "output_type": "error",
     "traceback": [
      "\u001b[1;31m---------------------------------------------------------------------------\u001b[0m",
      "\u001b[1;31mTypeError\u001b[0m                                 Traceback (most recent call last)",
      "Cell \u001b[1;32mIn[7], line 2\u001b[0m\n\u001b[0;32m      1\u001b[0m a \u001b[38;5;241m=\u001b[39m \u001b[38;5;124m\"\u001b[39m\u001b[38;5;124ma\u001b[39m\u001b[38;5;124m\"\u001b[39m\n\u001b[1;32m----> 2\u001b[0m a[\u001b[38;5;241m0\u001b[39m] \u001b[38;5;241m=\u001b[39m \u001b[38;5;124m\"\u001b[39m\u001b[38;5;124mchan\u001b[39m\u001b[38;5;124m\"\u001b[39m\n\u001b[0;32m      3\u001b[0m a\n",
      "\u001b[1;31mTypeError\u001b[0m: 'str' object does not support item assignment"
     ]
    }
   ],
   "source": [
    "a = \"a\"\n",
    "a[0] = \"chan\"\n",
    "a"
   ]
  },
  {
   "cell_type": "code",
   "execution_count": 12,
   "id": "a06c48e2",
   "metadata": {},
   "outputs": [
    {
     "name": "stdout",
     "output_type": "stream",
     "text": [
      "h\n",
      "o\n",
      "ell\n",
      "helloK\n"
     ]
    }
   ],
   "source": [
    "# String example\n",
    "my_string = \"hello\"\n",
    "\n",
    "# Accessing characters by index\n",
    "print(my_string[0])  # Output: 'h' (first character)\n",
    "print(my_string[4])  # Output: 'o' (fifth character)\n",
    "\n",
    "# Slicing a string\n",
    "print(my_string[1:4])  # Output: 'ell' (from index 1 to 3)\n",
    "\n",
    "# Strings are immutable; you can't change characters directly\n",
    "# my_string[0] = 'H'  # This will give an error\n",
    "\n",
    "# You can create a new string if you want to modify it\n",
    "new_string =  my_string[0:]+\"K\"\n",
    "print(new_string)  # Output: 'Hello'\n"
   ]
  },
  {
   "cell_type": "code",
   "execution_count": 6,
   "id": "4c675b83",
   "metadata": {},
   "outputs": [
    {
     "name": "stdout",
     "output_type": "stream",
     "text": [
      "[1, 2, 3, 'hari', ['chandan', 2]] [1, 2, 3, 'hari', ['chandan', 2]]\n"
     ]
    }
   ],
   "source": [
    "a = [1,2,3,\"hari\",[1,2]]\n",
    "import copy\n",
    "b = copy.copy(a)\n",
    "b[4][0] = \"chandan\"\n",
    "print(a,b)"
   ]
  },
  {
   "cell_type": "code",
   "execution_count": 7,
   "id": "59fb4b21",
   "metadata": {},
   "outputs": [
    {
     "data": {
      "text/plain": [
       "'revolves'"
      ]
     },
     "execution_count": 7,
     "metadata": {},
     "output_type": "execute_result"
    }
   ],
   "source": [
    "a = \"earth revolves around the sun\"\n",
    "a[6:14]"
   ]
  },
  {
   "cell_type": "code",
   "execution_count": 6,
   "id": "5de8141f",
   "metadata": {},
   "outputs": [
    {
     "data": {
      "text/plain": [
       "'sun'"
      ]
     },
     "execution_count": 6,
     "metadata": {},
     "output_type": "execute_result"
    }
   ],
   "source": [
    "a = \"earth revolves around the sun\"\n",
    "a[-3:]"
   ]
  },
  {
   "cell_type": "code",
   "execution_count": 1,
   "id": "f26a5552",
   "metadata": {},
   "outputs": [
    {
     "name": "stdout",
     "output_type": "stream",
     "text": [
      "(0, 'e')\n",
      "(1, 'a')\n",
      "(2, 'r')\n",
      "(3, 't')\n",
      "(4, 'h')\n",
      "(5, ' ')\n",
      "(6, 'r')\n",
      "(7, 'e')\n",
      "(8, 'v')\n",
      "(9, 'o')\n",
      "(10, 'l')\n",
      "(11, 'v')\n",
      "(12, 'e')\n",
      "(13, 's')\n",
      "(14, ' ')\n",
      "(15, 'a')\n",
      "(16, 'r')\n",
      "(17, 'o')\n",
      "(18, 'u')\n",
      "(19, 'n')\n",
      "(20, 'd')\n",
      "(21, ' ')\n",
      "(22, 't')\n",
      "(23, 'h')\n",
      "(24, 'e')\n",
      "(25, ' ')\n",
      "(26, 's')\n",
      "(27, 'u')\n",
      "(28, 'n')\n"
     ]
    }
   ],
   "source": [
    "a = \"earth revolves around the sun\"\n",
    "for i in enumerate(a):\n",
    "    print(i)"
   ]
  },
  {
   "cell_type": "code",
   "execution_count": 16,
   "id": "f0e210e8",
   "metadata": {},
   "outputs": [
    {
     "name": "stdout",
     "output_type": "stream",
     "text": [
      "2278376930864 2278376930864\n"
     ]
    }
   ],
   "source": [
    "a=\"ramya\"\n",
    "b=\"ramya\"\n",
    "print(id(a),id(b))"
   ]
  },
  {
   "cell_type": "code",
   "execution_count": 21,
   "id": "6e3c6212",
   "metadata": {},
   "outputs": [
    {
     "data": {
      "text/plain": [
       "'boy a cup of boy'"
      ]
     },
     "execution_count": 21,
     "metadata": {},
     "output_type": "execute_result"
    }
   ],
   "source": [
    "a =\"have a cup of have\"\n",
    "a.replace(\"have\",\"boy\")"
   ]
  },
  {
   "cell_type": "code",
   "execution_count": 22,
   "id": "7e2d9002",
   "metadata": {},
   "outputs": [
    {
     "name": "stdout",
     "output_type": "stream",
     "text": [
      "Harichandan is statistics student\n",
      "Harichandan Is Statistics Student\n"
     ]
    }
   ],
   "source": [
    "a = \"harichandan is statistics student\"\n",
    "print(a.capitalize())\n",
    "print(a.title())"
   ]
  },
  {
   "cell_type": "code",
   "execution_count": 6,
   "id": "caea2c23",
   "metadata": {},
   "outputs": [
    {
     "name": "stdout",
     "output_type": "stream",
     "text": [
      "['FIZZBUZZ', '1', '2', 'FIZZ', '4', 'BUZZ', 'FIZZ', '7', '8', 'FIZZ']\n"
     ]
    }
   ],
   "source": [
    "number = 10\n",
    "list1 = []\n",
    "for i in range(10):\n",
    "    if (i % 3 == 0) and (i % 5 == 0):\n",
    "        list1.append(\"FIZZBUZZ\")\n",
    "    elif i % 3 == 0:\n",
    "        list1.append(\"FIZZ\")\n",
    "    elif i % 5 == 0:\n",
    "        list1.append(\"BUZZ\")\n",
    "    else:\n",
    "        list1.append(str(i))\n",
    "        \n",
    "print(list1)"
   ]
  },
  {
   "cell_type": "code",
   "execution_count": 15,
   "id": "854a6ced",
   "metadata": {},
   "outputs": [
    {
     "name": "stdout",
     "output_type": "stream",
     "text": [
      "not a prime\n"
     ]
    }
   ],
   "source": [
    "# prime\n",
    "\n",
    "number = 32\n",
    "count = 0\n",
    "for i in range(1,number+1):\n",
    "    if number % i == 0:\n",
    "        count = count+1\n",
    "if count == 2 :\n",
    "    print(\"prime number\")\n",
    "else:\n",
    "    print(\"not a prime\")\n"
   ]
  },
  {
   "cell_type": "code",
   "execution_count": 17,
   "id": "e46d0fa3",
   "metadata": {},
   "outputs": [
    {
     "name": "stdout",
     "output_type": "stream",
     "text": [
      "[2, 3, 5, 7, 11, 13, 17, 19, 23, 29, 31, 37, 41, 43, 47, 53, 59, 61, 67, 71, 73, 79, 83, 89, 97]\n"
     ]
    }
   ],
   "source": [
    "primes = []\n",
    "for i in range(1,100+1):\n",
    "    count = 0\n",
    "    for j in range(1,i+1):\n",
    "        if i % j == 0:\n",
    "            count = count+1\n",
    "    if count ==2:\n",
    "        primes.append(i)\n",
    "print(primes)"
   ]
  },
  {
   "cell_type": "code",
   "execution_count": 21,
   "id": "62b6f2b1",
   "metadata": {},
   "outputs": [
    {
     "name": "stdout",
     "output_type": "stream",
     "text": [
      "[2, 3, 5, 7, 11, 13, 17, 19, 23, 29, 31, 37, 41, 43, 47, 53, 59, 61, 67, 71, 73, 79, 83, 89, 97] \n",
      "\n",
      "[1, 4, 6, 8, 9, 10, 12, 14, 15, 16, 18, 20, 21, 22, 24, 25, 26, 27, 28, 30, 32, 33, 34, 35, 36, 38, 39, 40, 42, 44, 45, 46, 48, 49, 50, 51, 52, 54, 55, 56, 57, 58, 60, 62, 63, 64, 65, 66, 68, 69, 70, 72, 74, 75, 76, 77, 78, 80, 81, 82, 84, 85, 86, 87, 88, 90, 91, 92, 93, 94, 95, 96, 98, 99, 100]\n"
     ]
    }
   ],
   "source": [
    "primes = []\n",
    "composite=[]\n",
    "for i in range(1,100+1):\n",
    "    count = 0\n",
    "    for j in range(1,i+1):\n",
    "        if i % j == 0:\n",
    "            count = count+1\n",
    "    if count ==2:\n",
    "        primes.append(i)\n",
    "    else:\n",
    "        composite.append(i)\n",
    "print(primes,\"\\n\")\n",
    "print(composite)"
   ]
  },
  {
   "cell_type": "code",
   "execution_count": 23,
   "id": "6d99a937",
   "metadata": {},
   "outputs": [
    {
     "name": "stdout",
     "output_type": "stream",
     "text": [
      "120\n"
     ]
    }
   ],
   "source": [
    "# factorial \n",
    "\n",
    "number = 5\n",
    "factorial = 1\n",
    "for i in range(1,number+1):\n",
    "    factorial = factorial * i\n",
    "print(factorial)"
   ]
  },
  {
   "cell_type": "code",
   "execution_count": 26,
   "id": "9e4c3117",
   "metadata": {},
   "outputs": [
    {
     "data": {
      "text/plain": [
       "5040"
      ]
     },
     "execution_count": 26,
     "metadata": {},
     "output_type": "execute_result"
    }
   ],
   "source": [
    "def factorial(n):\n",
    "    for i in range(1,n+1):\n",
    "        if (n == 0) or (n ==1):\n",
    "            return 1\n",
    "        else:\n",
    "            return n * factorial(n-1)\n",
    "\n",
    "factorial(7)"
   ]
  },
  {
   "cell_type": "code",
   "execution_count": 29,
   "id": "e7247a94",
   "metadata": {},
   "outputs": [
    {
     "name": "stdout",
     "output_type": "stream",
     "text": [
      "[0, 1, 1, 2, 3, 5, 8, 13, 21, 34, 55, 89]\n"
     ]
    }
   ],
   "source": [
    "# fibonacci\n",
    "\n",
    "num1 = 0\n",
    "num2 = 1\n",
    "a = [0,1]\n",
    "for i in range(10):\n",
    "    num3 = num1+num2\n",
    "    a.append(num3)\n",
    "    num1 = num2\n",
    "    num2 = num3\n",
    "\n",
    "print(a)"
   ]
  },
  {
   "cell_type": "code",
   "execution_count": 40,
   "id": "2cce4871",
   "metadata": {},
   "outputs": [
    {
     "name": "stdout",
     "output_type": "stream",
     "text": [
      "armstrong\n"
     ]
    }
   ],
   "source": [
    "number = 153\n",
    "a = sum(int(i) ** len(str(number)) for i in str(number))\n",
    "if a == number:\n",
    "    print(\"armstrong\")"
   ]
  },
  {
   "cell_type": "code",
   "execution_count": 43,
   "id": "30d0dbef",
   "metadata": {},
   "outputs": [
    {
     "name": "stdout",
     "output_type": "stream",
     "text": [
      "its not armstrong\n"
     ]
    }
   ],
   "source": [
    "number = 155\n",
    "arm = sum(int(i) ** len(str(number)) for i in str(number))\n",
    "if arm == number:\n",
    "    print(\"its armstrong\")\n",
    "else:\n",
    "    print(\"its not armstrong\")"
   ]
  },
  {
   "cell_type": "code",
   "execution_count": 45,
   "id": "473a94d0",
   "metadata": {},
   "outputs": [
    {
     "name": "stdout",
     "output_type": "stream",
     "text": [
      "9\n"
     ]
    }
   ],
   "source": [
    "a = [1,2,2,3,4,5,6,9]\n",
    "maxx = a[0]\n",
    "for i in range(len(a)):\n",
    "    if maxx < a[i]:\n",
    "        maxx = a[i]\n",
    "print(maxx)"
   ]
  },
  {
   "cell_type": "code",
   "execution_count": 49,
   "id": "fe786056",
   "metadata": {},
   "outputs": [
    {
     "name": "stdout",
     "output_type": "stream",
     "text": [
      "334\n"
     ]
    }
   ],
   "source": [
    "b = [1220,334,536,849,999]\n",
    "minn = b[0]\n",
    "for i in range(len(b)):\n",
    "    if b[i] < minn:\n",
    "        minn = b[i]\n",
    "print(minn)"
   ]
  },
  {
   "cell_type": "code",
   "execution_count": 52,
   "id": "c4d2a3a4",
   "metadata": {},
   "outputs": [
    {
     "name": "stdout",
     "output_type": "stream",
     "text": [
      "12\n"
     ]
    },
    {
     "data": {
      "text/plain": [
       "12"
      ]
     },
     "execution_count": 52,
     "metadata": {},
     "output_type": "execute_result"
    }
   ],
   "source": [
    "# len\n",
    "\n",
    "d = [1,1,2,2,3,49,3,3,3,3,3,3]\n",
    "count = 0\n",
    "for i in d:\n",
    "    count = count+1\n",
    "print(count)\n",
    "len(d)"
   ]
  },
  {
   "cell_type": "code",
   "execution_count": 64,
   "id": "750def24",
   "metadata": {},
   "outputs": [
    {
     "name": "stdout",
     "output_type": "stream",
     "text": [
      "{'i': 1, 'am': 1, 'having': 1, 'interview': 2, 'tomorrow': 1, 'so': 1, 'go': 1, 'on': 1, 'time': 1, 'to': 1}\n"
     ]
    }
   ],
   "source": [
    "a = \"i am having interview tomorrow so go on time to interview\"\n",
    "\n",
    "dictt = {}\n",
    "for i in a.split(\" \"):\n",
    "    dictt[i] = dictt.get(i,0) + 1\n",
    "print(dictt)"
   ]
  },
  {
   "cell_type": "code",
   "execution_count": null,
   "id": "ea70e3bd",
   "metadata": {},
   "outputs": [],
   "source": []
  },
  {
   "cell_type": "code",
   "execution_count": null,
   "id": "0abfafea",
   "metadata": {},
   "outputs": [],
   "source": []
  },
  {
   "cell_type": "code",
   "execution_count": null,
   "id": "0c399913",
   "metadata": {},
   "outputs": [],
   "source": []
  },
  {
   "cell_type": "code",
   "execution_count": 69,
   "id": "abada3ff",
   "metadata": {},
   "outputs": [
    {
     "data": {
      "text/plain": [
       "{'i': 1,\n",
       " 'am': 1,\n",
       " 'having': 1,\n",
       " 'interview': 2,\n",
       " 'tomorrow': 1,\n",
       " 'so': 1,\n",
       " 'go': 6,\n",
       " 'on': 8,\n",
       " 'time': 1,\n",
       " 'to': 1}"
      ]
     },
     "execution_count": 69,
     "metadata": {},
     "output_type": "execute_result"
    }
   ],
   "source": [
    "a = \"i am having interview tomorrow so go go go go go go on on on on on on on  on time to interview\"\n",
    "\n",
    "dictt = {}\n",
    "l=a.split()\n",
    "for i in l:\n",
    "    if i not in dictt:\n",
    "        dictt[i]=l.count(i)\n",
    "dictt"
   ]
  },
  {
   "cell_type": "code",
   "execution_count": 72,
   "id": "4300f547",
   "metadata": {},
   "outputs": [
    {
     "name": "stdout",
     "output_type": "stream",
     "text": [
      "[1, 0, -1, -3, 2, 3, 344, 4, 44, 5, 67, 78]\n"
     ]
    }
   ],
   "source": [
    "# Duplicates\n",
    "\n",
    "listt = [1,0,-1,-3,2,2,2,2,2,3,3,3,344,4,4,4,44,5,5,5,5,67,78]\n",
    " \n",
    "a = []\n",
    "\n",
    "count = 0\n",
    "for i in listt:\n",
    "    if i not in a:\n",
    "        a.append(i)\n",
    "    elif i in a:\n",
    "        count = count+1\n",
    "    elif count ==2:\n",
    "        break\n",
    "print(a)\n",
    "        "
   ]
  },
  {
   "cell_type": "code",
   "execution_count": 76,
   "id": "e126d3b2",
   "metadata": {},
   "outputs": [
    {
     "name": "stdout",
     "output_type": "stream",
     "text": [
      "[45, 30, 20, 10, 89, 67, 45, 23]\n"
     ]
    }
   ],
   "source": [
    "a = [23,45,67,89,10,20,30,45]\n",
    "b = []\n",
    "\n",
    "for i in range(len(a)-1,-1,-1):\n",
    "    b.append(a[i])\n",
    "print(b)\n",
    "    "
   ]
  },
  {
   "cell_type": "code",
   "execution_count": 77,
   "id": "db4a2c2f",
   "metadata": {},
   "outputs": [
    {
     "name": "stdout",
     "output_type": "stream",
     "text": [
      "[89, 78, 56, 34, 12]\n"
     ]
    }
   ],
   "source": [
    "c = [12,34,56,78,89]\n",
    "d = []\n",
    "n = len(c)\n",
    "for i in range(n//2):\n",
    "    c[i],c[n-i-1] = c[n-i-1],c[i]\n",
    "print(c)"
   ]
  },
  {
   "cell_type": "code",
   "execution_count": 78,
   "id": "ee0de8d7",
   "metadata": {},
   "outputs": [
    {
     "name": "stdout",
     "output_type": "stream",
     "text": [
      "257\n"
     ]
    }
   ],
   "source": [
    "a = [34,56,78,89]\n",
    "summ = 0\n",
    "for i in range(len(a)):\n",
    "    summ = summ + a[i]\n",
    "print(summ)"
   ]
  },
  {
   "cell_type": "code",
   "execution_count": 80,
   "id": "0b5fcd11",
   "metadata": {},
   "outputs": [
    {
     "data": {
      "text/plain": [
       "Counter({'hari': 3, 'bunny': 1})"
      ]
     },
     "execution_count": 80,
     "metadata": {},
     "output_type": "execute_result"
    }
   ],
   "source": [
    "from collections import Counter\n",
    "\n",
    "a = [12,12,1,2,3,3,33,45,56,67,56,56,5,556,5,556,56,56,89]\n",
    "b = [\"hari\",\"bunny\",\"hari\",\"hari\"]\n",
    "Counter(b)"
   ]
  },
  {
   "cell_type": "code",
   "execution_count": 83,
   "id": "0d718cb5",
   "metadata": {},
   "outputs": [
    {
     "name": "stdout",
     "output_type": "stream",
     "text": [
      "{'hari': 3, 'bunny': 1}\n"
     ]
    }
   ],
   "source": [
    "a = \"hari hari hari bunny\"\n",
    "b = a.split(\" \")\n",
    "c = {}\n",
    "for i in b:\n",
    "    if i not in c:\n",
    "        c[i] = b.count(i)\n",
    "print(c)"
   ]
  },
  {
   "cell_type": "code",
   "execution_count": 86,
   "id": "e51435ac",
   "metadata": {},
   "outputs": [
    {
     "name": "stdout",
     "output_type": "stream",
     "text": [
      "0\n",
      "1\n",
      "2\n",
      "3\n",
      "4\n"
     ]
    }
   ],
   "source": [
    "for i in range(5):\n",
    "    if i == 3:\n",
    "        pass\n",
    "    print(i)"
   ]
  },
  {
   "cell_type": "code",
   "execution_count": 87,
   "id": "acbf031a",
   "metadata": {},
   "outputs": [
    {
     "name": "stdout",
     "output_type": "stream",
     "text": [
      "0\n",
      "1\n",
      "2\n",
      "4\n"
     ]
    }
   ],
   "source": [
    "for i in range(5):\n",
    "    if i == 3:\n",
    "        continue\n",
    "    print(i)"
   ]
  },
  {
   "cell_type": "code",
   "execution_count": 88,
   "id": "f13c26f6",
   "metadata": {},
   "outputs": [
    {
     "name": "stdout",
     "output_type": "stream",
     "text": [
      "{'brand': 'Ford', 'model': 'Mustang', 'year': 2020}\n"
     ]
    }
   ],
   "source": [
    "thisdict = {\n",
    "  \"brand\": \"Ford\",\n",
    "  \"model\": \"Mustang\",\n",
    "  \"year\": 1964,\n",
    "  \"year\": 2020\n",
    "}\n",
    "print(thisdict)"
   ]
  },
  {
   "cell_type": "code",
   "execution_count": 90,
   "id": "d23bc65c",
   "metadata": {},
   "outputs": [
    {
     "name": "stdout",
     "output_type": "stream",
     "text": [
      "{0: 0, 1: 1, 2: 8, 3: 27, 4: 64, 5: 125, 6: 216, 7: 343, 8: 512, 9: 729}\n"
     ]
    }
   ],
   "source": [
    "a = {i:i**3 for i in range(10)}\n",
    "print(a)"
   ]
  },
  {
   "cell_type": "code",
   "execution_count": 96,
   "id": "1da454b2",
   "metadata": {},
   "outputs": [
    {
     "ename": "SyntaxError",
     "evalue": "incomplete input (1861105420.py, line 10)",
     "output_type": "error",
     "traceback": [
      "\u001b[1;36m  Cell \u001b[1;32mIn[96], line 10\u001b[1;36m\u001b[0m\n\u001b[1;33m    \u001b[0m\n\u001b[1;37m    ^\u001b[0m\n\u001b[1;31mSyntaxError\u001b[0m\u001b[1;31m:\u001b[0m incomplete input\n"
     ]
    }
   ],
   "source": [
    "b = [\"even\" if i % 2 == 0 else \"odd\" for i in a]\n",
    "def number(a):\n",
    "    if n % 2 == 0:\n",
    "        return True\n",
    "    else:\n",
    "    a = [12,23,34,56,78]\n",
    "\n",
    "list(filter((number,a))\n",
    "   "
   ]
  },
  {
   "cell_type": "code",
   "execution_count": null,
   "id": "921181c0",
   "metadata": {},
   "outputs": [],
   "source": []
  }
 ],
 "metadata": {
  "kernelspec": {
   "display_name": "Python 3 (ipykernel)",
   "language": "python",
   "name": "python3"
  },
  "language_info": {
   "codemirror_mode": {
    "name": "ipython",
    "version": 3
   },
   "file_extension": ".py",
   "mimetype": "text/x-python",
   "name": "python",
   "nbconvert_exporter": "python",
   "pygments_lexer": "ipython3",
   "version": "3.11.5"
  }
 },
 "nbformat": 4,
 "nbformat_minor": 5
}
