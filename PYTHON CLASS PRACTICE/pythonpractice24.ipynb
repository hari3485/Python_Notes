{
 "cells": [
  {
   "cell_type": "code",
   "execution_count": 4,
   "id": "70c7a0e6",
   "metadata": {
    "scrolled": false
   },
   "outputs": [
    {
     "name": "stdout",
     "output_type": "stream",
     "text": [
      "please enter your namei am hari chandan\n",
      "i am hari chandan\n"
     ]
    }
   ],
   "source": [
    "a=input('please enter your name')\n",
    "print(a)"
   ]
  },
  {
   "cell_type": "code",
   "execution_count": 3,
   "id": "7d7a5a18",
   "metadata": {},
   "outputs": [
    {
     "data": {
      "text/plain": [
       "tuple"
      ]
     },
     "execution_count": 3,
     "metadata": {},
     "output_type": "execute_result"
    }
   ],
   "source": []
  },
  {
   "cell_type": "code",
   "execution_count": 9,
   "id": "5a29f106",
   "metadata": {},
   "outputs": [
    {
     "data": {
      "text/plain": [
       "'hari'"
      ]
     },
     "execution_count": 9,
     "metadata": {},
     "output_type": "execute_result"
    }
   ],
   "source": [
    "a.split()[2]"
   ]
  },
  {
   "cell_type": "code",
   "execution_count": 10,
   "id": "63273fdb",
   "metadata": {},
   "outputs": [
    {
     "name": "stdout",
     "output_type": "stream",
     "text": [
      "innomatics welcomes you hari\n"
     ]
    }
   ],
   "source": [
    "print(('innomatics welcomes you'),a.split()[2])"
   ]
  },
  {
   "cell_type": "code",
   "execution_count": 1,
   "id": "d991be96",
   "metadata": {},
   "outputs": [
    {
     "name": "stdout",
     "output_type": "stream",
     "text": [
      "3\n"
     ]
    }
   ],
   "source": [
    "a=2\n",
    "b=3\n",
    "print(a and b)"
   ]
  },
  {
   "cell_type": "code",
   "execution_count": 2,
   "id": "122a3a4f",
   "metadata": {},
   "outputs": [
    {
     "name": "stdout",
     "output_type": "stream",
     "text": [
      "2\n"
     ]
    }
   ],
   "source": [
    "print(a or b)"
   ]
  },
  {
   "cell_type": "code",
   "execution_count": 3,
   "id": "b8f5ab0e",
   "metadata": {},
   "outputs": [
    {
     "name": "stdout",
     "output_type": "stream",
     "text": [
      "2\n"
     ]
    }
   ],
   "source": [
    "print(2 & 3)"
   ]
  },
  {
   "cell_type": "code",
   "execution_count": 4,
   "id": "c3b994df",
   "metadata": {},
   "outputs": [
    {
     "name": "stdout",
     "output_type": "stream",
     "text": [
      "3\n"
     ]
    }
   ],
   "source": [
    "print(2 | 3)"
   ]
  },
  {
   "cell_type": "code",
   "execution_count": 5,
   "id": "9fd7d676",
   "metadata": {},
   "outputs": [
    {
     "name": "stdout",
     "output_type": "stream",
     "text": [
      "False\n"
     ]
    }
   ],
   "source": [
    "print(not a)"
   ]
  },
  {
   "cell_type": "code",
   "execution_count": 6,
   "id": "f5b44798",
   "metadata": {},
   "outputs": [
    {
     "name": "stdout",
     "output_type": "stream",
     "text": [
      "-3\n"
     ]
    }
   ],
   "source": [
    "print(~a)"
   ]
  },
  {
   "cell_type": "code",
   "execution_count": 1,
   "id": "0646c82e",
   "metadata": {},
   "outputs": [
    {
     "data": {
      "text/plain": [
       "False"
      ]
     },
     "execution_count": 1,
     "metadata": {},
     "output_type": "execute_result"
    }
   ],
   "source": [
    "x = 5\n",
    "y = 6\n",
    "x > 5 and y < 2\n",
    "x < 5 and y <1\n",
    "not (x > 5 and y < 2) and y < 6 or x < 5 and y > 2\n"
   ]
  },
  {
   "cell_type": "code",
   "execution_count": 18,
   "id": "08dc0234",
   "metadata": {},
   "outputs": [
    {
     "data": {
      "text/plain": [
       "'Apple iphone 15 pro (256 GB) - Black Titanium'"
      ]
     },
     "execution_count": 18,
     "metadata": {},
     "output_type": "execute_result"
    }
   ],
   "source": [
    "data_point_1=\"Apple iphone 15 pro (256 GB) - Black Titanium\"\n",
    "data_point_1"
   ]
  },
  {
   "cell_type": "code",
   "execution_count": 3,
   "id": "6f73763a",
   "metadata": {},
   "outputs": [
    {
     "data": {
      "text/plain": [
       "45"
      ]
     },
     "execution_count": 3,
     "metadata": {},
     "output_type": "execute_result"
    }
   ],
   "source": [
    "len(data_point_1)"
   ]
  },
  {
   "cell_type": "code",
   "execution_count": 19,
   "id": "93107f42",
   "metadata": {},
   "outputs": [
    {
     "name": "stdout",
     "output_type": "stream",
     "text": [
      "Apple iphone 15 pro (256 GB) - Black Titanium\n"
     ]
    }
   ],
   "source": [
    "print(data_point_1[-46:])"
   ]
  },
  {
   "cell_type": "code",
   "execution_count": 15,
   "id": "59db34ce",
   "metadata": {},
   "outputs": [
    {
     "name": "stdout",
     "output_type": "stream",
     "text": [
      "Black\n"
     ]
    }
   ],
   "source": [
    "colour=print(data_point_1[31:36])"
   ]
  },
  {
   "cell_type": "code",
   "execution_count": 17,
   "id": "d4984dbd",
   "metadata": {},
   "outputs": [
    {
     "name": "stdout",
     "output_type": "stream",
     "text": [
      "Apple\n"
     ]
    }
   ],
   "source": [
    "model=(print(data_point_1[0:5]))"
   ]
  },
  {
   "cell_type": "code",
   "execution_count": null,
   "id": "172ecb4e",
   "metadata": {},
   "outputs": [],
   "source": [
    "brand"
   ]
  },
  {
   "cell_type": "code",
   "execution_count": 22,
   "id": "7d8e200f",
   "metadata": {},
   "outputs": [
    {
     "data": {
      "text/plain": [
       "'HI I AM HARI'"
      ]
     },
     "execution_count": 22,
     "metadata": {},
     "output_type": "execute_result"
    }
   ],
   "source": [
    "'hi i am hari'.upper()"
   ]
  },
  {
   "cell_type": "code",
   "execution_count": 23,
   "id": "47ef82fa",
   "metadata": {},
   "outputs": [
    {
     "data": {
      "text/plain": [
       "' i am  1 hari'"
      ]
     },
     "execution_count": 23,
     "metadata": {},
     "output_type": "execute_result"
    }
   ],
   "source": [
    "G= \" i am  one hari\"\n",
    "G.replace(\"one\",\"1\")"
   ]
  },
  {
   "cell_type": "code",
   "execution_count": null,
   "id": "a064c102",
   "metadata": {},
   "outputs": [],
   "source": [
    "name=\"hari\"\n",
    "age=21\n",
    "Hobbies=\"playing cricket,exploring new things\"\n",
    "education='msc statistics'\n",
    "a=input(\"please enter your name\")\n",
    "\n",
    "\n",
    "\n"
   ]
  },
  {
   "cell_type": "code",
   "execution_count": 12,
   "id": "9f4d3b95",
   "metadata": {},
   "outputs": [
    {
     "data": {
      "text/plain": [
       "'big houses'"
      ]
     },
     "execution_count": 12,
     "metadata": {},
     "output_type": "execute_result"
    }
   ],
   "source": [
    "\"big \" + \"houses\""
   ]
  },
  {
   "cell_type": "code",
   "execution_count": null,
   "id": "12fa2847",
   "metadata": {},
   "outputs": [],
   "source": []
  },
  {
   "cell_type": "code",
   "execution_count": 13,
   "id": "f2c7d152",
   "metadata": {},
   "outputs": [
    {
     "data": {
      "text/plain": [
       "('big', 'houses')"
      ]
     },
     "execution_count": 13,
     "metadata": {},
     "output_type": "execute_result"
    }
   ],
   "source": [
    "\"big\" ,\"houses\""
   ]
  },
  {
   "cell_type": "code",
   "execution_count": null,
   "id": "d1c05d28",
   "metadata": {},
   "outputs": [],
   "source": [
    "a=print('big','houses')"
   ]
  },
  {
   "cell_type": "code",
   "execution_count": null,
   "id": "3d72915e",
   "metadata": {},
   "outputs": [],
   "source": [
    "a=10\n",
    "a"
   ]
  },
  {
   "cell_type": "code",
   "execution_count": 5,
   "id": "54132f52",
   "metadata": {},
   "outputs": [
    {
     "data": {
      "text/plain": [
       "(20, 40)"
      ]
     },
     "execution_count": 5,
     "metadata": {},
     "output_type": "execute_result"
    }
   ],
   "source": [
    "a,b,c,d=(10,20,30,40)\n",
    "(b,d)\n"
   ]
  },
  {
   "cell_type": "code",
   "execution_count": 3,
   "id": "7c1d57be",
   "metadata": {},
   "outputs": [],
   "source": [
    "def exponentiation_exp_2(x):\n",
    "   result =\"Raised to the power of 2:\"\n",
    "   return result"
   ]
  },
  {
   "cell_type": "code",
   "execution_count": 4,
   "id": "8a0ed296",
   "metadata": {},
   "outputs": [
    {
     "data": {
      "text/plain": [
       "'Raised to the power of 2:'"
      ]
     },
     "execution_count": 4,
     "metadata": {},
     "output_type": "execute_result"
    }
   ],
   "source": [
    "exponentiation_exp_2(3)"
   ]
  },
  {
   "cell_type": "code",
   "execution_count": 3,
   "id": "b5a218ed",
   "metadata": {},
   "outputs": [
    {
     "data": {
      "text/plain": [
       "(9, 42)"
      ]
     },
     "execution_count": 3,
     "metadata": {},
     "output_type": "execute_result"
    }
   ],
   "source": [
    "def plus_five(x):\n",
    "   return x+5\n",
    "def m_by_3(x):\n",
    "   return plus_five(x+5)*3\n",
    "plus_five(4),plus_five(9)*3"
   ]
  },
  {
   "cell_type": "code",
   "execution_count": 1,
   "id": "92007137",
   "metadata": {},
   "outputs": [
    {
     "name": "stdout",
     "output_type": "stream",
     "text": [
      "(1, 2, 3)\n"
     ]
    }
   ],
   "source": [
    "python=1,2,3\n",
    "print(python)"
   ]
  },
  {
   "cell_type": "code",
   "execution_count": 3,
   "id": "4f1a729d",
   "metadata": {},
   "outputs": [
    {
     "name": "stdout",
     "output_type": "stream",
     "text": [
      "1\n"
     ]
    }
   ],
   "source": [
    "e=1\n",
    "print(e)"
   ]
  },
  {
   "cell_type": "code",
   "execution_count": 3,
   "id": "83e73e0b",
   "metadata": {},
   "outputs": [
    {
     "data": {
      "text/plain": [
       "array([[1, 2, 3],\n",
       "       [4, 5, 6]])"
      ]
     },
     "execution_count": 3,
     "metadata": {},
     "output_type": "execute_result"
    }
   ],
   "source": [
    "import numpy as np\n",
    "np.array([[1,2,3],[4,5,6]])"
   ]
  },
  {
   "cell_type": "code",
   "execution_count": 4,
   "id": "073f2436",
   "metadata": {},
   "outputs": [
    {
     "name": "stdout",
     "output_type": "stream",
     "text": [
      "hi bachi\n"
     ]
    }
   ],
   "source": [
    "str1='hi bachi'\n",
    "print(str1)"
   ]
  },
  {
   "cell_type": "code",
   "execution_count": 2,
   "id": "f5ee943e",
   "metadata": {},
   "outputs": [
    {
     "data": {
      "text/plain": [
       "str"
      ]
     },
     "execution_count": 2,
     "metadata": {},
     "output_type": "execute_result"
    }
   ],
   "source": [
    "type(str1)"
   ]
  },
  {
   "cell_type": "markdown",
   "id": "cd89e486",
   "metadata": {},
   "source": []
  },
  {
   "cell_type": "code",
   "execution_count": 3,
   "id": "b9d0da1f",
   "metadata": {},
   "outputs": [
    {
     "name": "stdout",
     "output_type": "stream",
     "text": [
      "hello bunny\n"
     ]
    }
   ],
   "source": [
    "str2=\"hello bunny\"\n",
    "print(str2)"
   ]
  },
  {
   "cell_type": "code",
   "execution_count": 5,
   "id": "bbe93639",
   "metadata": {},
   "outputs": [
    {
     "name": "stdout",
     "output_type": "stream",
     "text": [
      "hi bachi tinnava m chestunnavu inka chavuko job radhu malli time waste cheyyaku\n"
     ]
    }
   ],
   "source": [
    "str3='''hi bachi tinnava m chestunnavu inka chavuko job radhu malli time waste cheyyaku'''\n",
    "print(str3)"
   ]
  },
  {
   "cell_type": "code",
   "execution_count": null,
   "id": "cd3edb0f",
   "metadata": {},
   "outputs": [],
   "source": [
    "#indexing"
   ]
  },
  {
   "cell_type": "code",
   "execution_count": 6,
   "id": "482a0fb3",
   "metadata": {},
   "outputs": [
    {
     "data": {
      "text/plain": [
       "'b'"
      ]
     },
     "execution_count": 6,
     "metadata": {},
     "output_type": "execute_result"
    }
   ],
   "source": [
    "str1=\"bachi\"\n",
    "str1[0]"
   ]
  },
  {
   "cell_type": "code",
   "execution_count": 7,
   "id": "ba483152",
   "metadata": {},
   "outputs": [
    {
     "data": {
      "text/plain": [
       "'i'"
      ]
     },
     "execution_count": 7,
     "metadata": {},
     "output_type": "execute_result"
    }
   ],
   "source": [
    "str1[4]"
   ]
  },
  {
   "cell_type": "code",
   "execution_count": 9,
   "id": "f2a365c0",
   "metadata": {},
   "outputs": [
    {
     "data": {
      "text/plain": [
       "'h'"
      ]
     },
     "execution_count": 9,
     "metadata": {},
     "output_type": "execute_result"
    }
   ],
   "source": [
    "str1[3]"
   ]
  },
  {
   "cell_type": "code",
   "execution_count": 10,
   "id": "d7359020",
   "metadata": {},
   "outputs": [
    {
     "ename": "IndexError",
     "evalue": "string index out of range",
     "output_type": "error",
     "traceback": [
      "\u001b[1;31m---------------------------------------------------------------------------\u001b[0m",
      "\u001b[1;31mIndexError\u001b[0m                                Traceback (most recent call last)",
      "Cell \u001b[1;32mIn[10], line 1\u001b[0m\n\u001b[1;32m----> 1\u001b[0m str1[\u001b[38;5;241m10\u001b[39m]\n",
      "\u001b[1;31mIndexError\u001b[0m: string index out of range"
     ]
    }
   ],
   "source": [
    "str1[10]"
   ]
  },
  {
   "cell_type": "code",
   "execution_count": null,
   "id": "fe48f2f5",
   "metadata": {},
   "outputs": [],
   "source": [
    "#slicing"
   ]
  },
  {
   "cell_type": "code",
   "execution_count": 11,
   "id": "44227a03",
   "metadata": {},
   "outputs": [
    {
     "name": "stdout",
     "output_type": "stream",
     "text": [
      "bachibunny\n"
     ]
    }
   ],
   "source": [
    "str1=\"bachibunny\"\n",
    "print(str1)"
   ]
  },
  {
   "cell_type": "code",
   "execution_count": 12,
   "id": "e909d105",
   "metadata": {},
   "outputs": [
    {
     "data": {
      "text/plain": [
       "'bachibunny'"
      ]
     },
     "execution_count": 12,
     "metadata": {},
     "output_type": "execute_result"
    }
   ],
   "source": [
    "str1[0:]"
   ]
  },
  {
   "cell_type": "code",
   "execution_count": 13,
   "id": "0c905611",
   "metadata": {},
   "outputs": [
    {
     "data": {
      "text/plain": [
       "'achibun'"
      ]
     },
     "execution_count": 13,
     "metadata": {},
     "output_type": "execute_result"
    }
   ],
   "source": [
    "str1[1:8]"
   ]
  },
  {
   "cell_type": "code",
   "execution_count": 14,
   "id": "2aca0dc6",
   "metadata": {},
   "outputs": [
    {
     "data": {
      "text/plain": [
       "'bachibunny'"
      ]
     },
     "execution_count": 14,
     "metadata": {},
     "output_type": "execute_result"
    }
   ],
   "source": [
    "str1[:10]"
   ]
  },
  {
   "cell_type": "code",
   "execution_count": 15,
   "id": "b4c160e2",
   "metadata": {},
   "outputs": [
    {
     "data": {
      "text/plain": [
       "'ynnubihcab'"
      ]
     },
     "execution_count": 15,
     "metadata": {},
     "output_type": "execute_result"
    }
   ],
   "source": [
    "str1[::-1]#reverse direction "
   ]
  },
  {
   "cell_type": "code",
   "execution_count": 16,
   "id": "f0eeee75",
   "metadata": {},
   "outputs": [
    {
     "data": {
      "text/plain": [
       "'n'"
      ]
     },
     "execution_count": 16,
     "metadata": {},
     "output_type": "execute_result"
    }
   ],
   "source": [
    "str1[-3]"
   ]
  },
  {
   "cell_type": "code",
   "execution_count": 18,
   "id": "05776f34",
   "metadata": {},
   "outputs": [
    {
     "data": {
      "text/plain": [
       "'ny'"
      ]
     },
     "execution_count": 18,
     "metadata": {},
     "output_type": "execute_result"
    }
   ],
   "source": [
    "str1[-2:]"
   ]
  },
  {
   "cell_type": "code",
   "execution_count": 22,
   "id": "158a1b90",
   "metadata": {},
   "outputs": [
    {
     "ename": "NameError",
     "evalue": "name 'str2' is not defined",
     "output_type": "error",
     "traceback": [
      "\u001b[1;31m---------------------------------------------------------------------------\u001b[0m",
      "\u001b[1;31mNameError\u001b[0m                                 Traceback (most recent call last)",
      "Cell \u001b[1;32mIn[22], line 3\u001b[0m\n\u001b[0;32m      1\u001b[0m str2\u001b[38;5;241m=\u001b[39m\u001b[38;5;124m\"\u001b[39m\u001b[38;5;124mhari\u001b[39m\u001b[38;5;124m\"\u001b[39m\n\u001b[0;32m      2\u001b[0m \u001b[38;5;28;01mdel\u001b[39;00m(str2)\n\u001b[1;32m----> 3\u001b[0m \u001b[38;5;28mprint\u001b[39m(str2)\n",
      "\u001b[1;31mNameError\u001b[0m: name 'str2' is not defined"
     ]
    }
   ],
   "source": [
    "str2=\"hari\"\n",
    "del(str2)\n",
    "print(str2)"
   ]
  },
  {
   "cell_type": "code",
   "execution_count": 4,
   "id": "e08ef2dc",
   "metadata": {},
   "outputs": [
    {
     "name": "stdout",
     "output_type": "stream",
     "text": [
      "3.0\n",
      "10.5\n"
     ]
    }
   ],
   "source": [
    "x=15\n",
    "y=2\n",
    "x=x/y\n",
    "result=x//y\n",
    "print(result)\n",
    "result+=x\n",
    "print(result)"
   ]
  },
  {
   "cell_type": "code",
   "execution_count": 5,
   "id": "91b25947",
   "metadata": {},
   "outputs": [
    {
     "name": "stdout",
     "output_type": "stream",
     "text": [
      "10.5\n"
     ]
    }
   ],
   "source": [
    "x = 15\n",
    "y = 2\n",
    "x = x / y\n",
    "result=x //y\n",
    "result+=x\n",
    "print(result)\n"
   ]
  },
  {
   "cell_type": "code",
   "execution_count": 17,
   "id": "82260bad",
   "metadata": {},
   "outputs": [
    {
     "name": "stdout",
     "output_type": "stream",
     "text": [
      "140726387708776\n",
      "140726387708776\n",
      "True\n"
     ]
    }
   ],
   "source": [
    "\n",
    "a=3\n",
    "b=3\n",
    "print(id(a))\n",
    "print(id(b))\n",
    "print(a is b)               # HERE when the range of integer is between (-5 to 256) there will be same memory hence it shows true"
   ]
  },
  {
   "cell_type": "code",
   "execution_count": 15,
   "id": "9e175b26",
   "metadata": {},
   "outputs": [
    {
     "name": "stdout",
     "output_type": "stream",
     "text": [
      "1960126787504\n",
      "1960126781712\n"
     ]
    },
    {
     "data": {
      "text/plain": [
       "False"
      ]
     },
     "execution_count": 15,
     "metadata": {},
     "output_type": "execute_result"
    }
   ],
   "source": [
    "a=257\n",
    "b=257\n",
    "print(id(a))\n",
    "print(id(b))\n",
    "print(a is b)        #HERE when the range of integer is not in  between (-5 to 256) there will be different memory hence it shows true"
   ]
  },
  {
   "cell_type": "code",
   "execution_count": null,
   "id": "0733ba58",
   "metadata": {},
   "outputs": [],
   "source": [
    "a=3.0\n",
    "b=3.0\n",
    "print(id(a))\n",
    "print(id(b))\n",
    "a is b               #In Built it self there will be different memory allocation. "
   ]
  },
  {
   "cell_type": "code",
   "execution_count": null,
   "id": "dad77602",
   "metadata": {},
   "outputs": [],
   "source": [
    "#create list "
   ]
  },
  {
   "cell_type": "code",
   "execution_count": 29,
   "id": "d531f810",
   "metadata": {},
   "outputs": [
    {
     "name": "stdout",
     "output_type": "stream",
     "text": [
      "['tharala', 'hari', 'chandan', 'hello']\n"
     ]
    }
   ],
   "source": [
    "b=[\"tharala\",\"hari\",\"chandan\"]\n",
    "b.append(\"hello\")\n",
    "print(b)"
   ]
  },
  {
   "cell_type": "code",
   "execution_count": 37,
   "id": "a58a7c18",
   "metadata": {},
   "outputs": [
    {
     "name": "stdout",
     "output_type": "stream",
     "text": [
      "['tharala', 'hari', 'chandan', 'h', 'e', 'l', 'l', 'o']\n"
     ]
    }
   ],
   "source": [
    "b=[\"tharala\",\"hari\",\"chandan\"]\n",
    "b.extend(\"hello\")\n",
    "print(b)\n",
    " "
   ]
  },
  {
   "cell_type": "code",
   "execution_count": 40,
   "id": "1feade47",
   "metadata": {},
   "outputs": [
    {
     "ename": "TypeError",
     "evalue": "'builtin_function_or_method' object is not subscriptable",
     "output_type": "error",
     "traceback": [
      "\u001b[1;31m---------------------------------------------------------------------------\u001b[0m",
      "\u001b[1;31mTypeError\u001b[0m                                 Traceback (most recent call last)",
      "Cell \u001b[1;32mIn[40], line 1\u001b[0m\n\u001b[1;32m----> 1\u001b[0m b\u001b[38;5;241m.\u001b[39mextend[(\u001b[38;5;124m\"\u001b[39m\u001b[38;5;124mhello\u001b[39m\u001b[38;5;124m\"\u001b[39m)]\n\u001b[0;32m      2\u001b[0m \u001b[38;5;28mprint\u001b[39m(b)\n",
      "\u001b[1;31mTypeError\u001b[0m: 'builtin_function_or_method' object is not subscriptable"
     ]
    }
   ],
   "source": [
    "b.extend[(\"hello\")]\n",
    "print(b)"
   ]
  },
  {
   "cell_type": "code",
   "execution_count": 49,
   "id": "c81728cc",
   "metadata": {},
   "outputs": [
    {
     "name": "stdout",
     "output_type": "stream",
     "text": [
      "[1, 2, 3, 4, ['c', 'd']]\n",
      "[1, 2, 3, 4, ['c', 'd'], 'c', 'd']\n"
     ]
    }
   ],
   "source": [
    "a=[1,2,3,4]\n",
    "a.append([\"c\",\"d\"])\n",
    "print(a)\n",
    "a.extend([\"c\",\"d\"])\n",
    "print(a)"
   ]
  },
  {
   "cell_type": "code",
   "execution_count": 50,
   "id": "22614317",
   "metadata": {},
   "outputs": [
    {
     "name": "stdout",
     "output_type": "stream",
     "text": [
      "[1, 2, 3, 4, 5, 'hari']\n"
     ]
    }
   ],
   "source": [
    "c=[1,2,3,4,5]\n",
    "c.append(\"hari\")\n",
    "print(c)"
   ]
  },
  {
   "cell_type": "code",
   "execution_count": 55,
   "id": "77e62887",
   "metadata": {},
   "outputs": [
    {
     "name": "stdout",
     "output_type": "stream",
     "text": [
      "[1, 2, 3, 4, 5, 'hari', 'hari', 'hari', 'hari', 'hari', 'hari']\n"
     ]
    }
   ],
   "source": [
    "c.append(\"hari\")\n",
    "print(c)"
   ]
  },
  {
   "cell_type": "code",
   "execution_count": null,
   "id": "296e9522",
   "metadata": {},
   "outputs": [],
   "source": [
    "#try to define a list with 3 elements add an elements using append and extend"
   ]
  },
  {
   "cell_type": "code",
   "execution_count": null,
   "id": "b0b64e27",
   "metadata": {},
   "outputs": [],
   "source": [
    "a=\"\""
   ]
  },
  {
   "cell_type": "code",
   "execution_count": 17,
   "id": "6af4aec7",
   "metadata": {},
   "outputs": [
    {
     "name": "stdout",
     "output_type": "stream",
     "text": [
      "Help on method_descriptor:\n",
      "\n",
      "extend(self, iterable, /)\n",
      "    Extend list by appending elements from the iterable.\n",
      "\n"
     ]
    }
   ],
   "source": [
    "help(list.extend)"
   ]
  },
  {
   "cell_type": "code",
   "execution_count": 18,
   "id": "bf5dadad",
   "metadata": {},
   "outputs": [
    {
     "name": "stdout",
     "output_type": "stream",
     "text": [
      "Help on method_descriptor:\n",
      "\n",
      "append(self, object, /)\n",
      "    Append object to the end of the list.\n",
      "\n"
     ]
    }
   ],
   "source": [
    "help(list.append)"
   ]
  },
  {
   "cell_type": "code",
   "execution_count": 21,
   "id": "23dd3c92",
   "metadata": {},
   "outputs": [],
   "source": [
    "f = [1,2]"
   ]
  },
  {
   "cell_type": "code",
   "execution_count": 22,
   "id": "51d03e50",
   "metadata": {},
   "outputs": [],
   "source": [
    "f.append([\"hi\",\"b\"])"
   ]
  },
  {
   "cell_type": "code",
   "execution_count": 23,
   "id": "42c43cd8",
   "metadata": {},
   "outputs": [
    {
     "data": {
      "text/plain": [
       "[1, 2, ['hi', 'b']]"
      ]
     },
     "execution_count": 23,
     "metadata": {},
     "output_type": "execute_result"
    }
   ],
   "source": [
    "f"
   ]
  },
  {
   "cell_type": "code",
   "execution_count": 24,
   "id": "0f27a4e6",
   "metadata": {},
   "outputs": [],
   "source": [
    "f.extend([\"aa\",\"bb\"])"
   ]
  },
  {
   "cell_type": "code",
   "execution_count": 25,
   "id": "f1bb2f22",
   "metadata": {},
   "outputs": [
    {
     "data": {
      "text/plain": [
       "[1, 2, ['hi', 'b'], 'aa', 'bb']"
      ]
     },
     "execution_count": 25,
     "metadata": {},
     "output_type": "execute_result"
    }
   ],
   "source": [
    "f"
   ]
  },
  {
   "cell_type": "code",
   "execution_count": 28,
   "id": "f70ed185",
   "metadata": {},
   "outputs": [
    {
     "data": {
      "text/plain": [
       "[1, 2, ['hi', 'b'], 'aa', 'bb', 'a', 'a']"
      ]
     },
     "execution_count": 28,
     "metadata": {},
     "output_type": "execute_result"
    }
   ],
   "source": [
    "f.extend(\"aa\")\n",
    "f"
   ]
  },
  {
   "cell_type": "code",
   "execution_count": null,
   "id": "24c78542",
   "metadata": {},
   "outputs": [],
   "source": [
    "clear() #CLEARS THE MEMORY\n",
    "del()"
   ]
  },
  {
   "cell_type": "code",
   "execution_count": 57,
   "id": "4bd5fa01",
   "metadata": {},
   "outputs": [
    {
     "data": {
      "text/plain": [
       "10"
      ]
     },
     "execution_count": 57,
     "metadata": {},
     "output_type": "execute_result"
    }
   ],
   "source": [
    "MY=[1,2,3,4]\n",
    "sum(MY)"
   ]
  },
  {
   "cell_type": "code",
   "execution_count": 65,
   "id": "7cb9bc4b",
   "metadata": {},
   "outputs": [
    {
     "name": "stdout",
     "output_type": "stream",
     "text": [
      "(2, 3, 4, 5, 'hi', 2)\n",
      "5\n"
     ]
    }
   ],
   "source": [
    "d=(2,3,4,5,\"hi\",2)   #it cannot add values after creating the tuple\n",
    "print(d)             #difference between list and tuple if we have big data we can add only in list\n",
    "print(d[3])"
   ]
  },
  {
   "cell_type": "code",
   "execution_count": null,
   "id": "a5cd0504",
   "metadata": {},
   "outputs": [],
   "source": [
    "#mark down\n",
    "#Interupt the kernel \n",
    "#Add a cell below = ESc+ B\n",
    "#Add a cell Above = Esc + A\n",
    "#Delete a cell = Esc + Double D\n",
    "# To run a code = Shift + Enter\n"
   ]
  },
  {
   "cell_type": "code",
   "execution_count": null,
   "id": "070c5f1c",
   "metadata": {},
   "outputs": [],
   "source": [
    "#Introduction to Jupyter Notebook\n",
    "#Coding is done on cells\n",
    "#Visual studio card\n"
   ]
  },
  {
   "cell_type": "code",
   "execution_count": 1,
   "id": "44e9cb7f",
   "metadata": {},
   "outputs": [
    {
     "data": {
      "text/plain": [
       "'0b10010'"
      ]
     },
     "execution_count": 1,
     "metadata": {},
     "output_type": "execute_result"
    }
   ],
   "source": [
    "bin(18)"
   ]
  },
  {
   "cell_type": "code",
   "execution_count": 2,
   "id": "1623028f",
   "metadata": {},
   "outputs": [
    {
     "data": {
      "text/plain": [
       "'0o55'"
      ]
     },
     "execution_count": 2,
     "metadata": {},
     "output_type": "execute_result"
    }
   ],
   "source": [
    "oct(45)"
   ]
  },
  {
   "cell_type": "code",
   "execution_count": 3,
   "id": "c026c0db",
   "metadata": {},
   "outputs": [
    {
     "data": {
      "text/plain": [
       "'0x58'"
      ]
     },
     "execution_count": 3,
     "metadata": {},
     "output_type": "execute_result"
    }
   ],
   "source": [
    "hex(88)"
   ]
  },
  {
   "cell_type": "code",
   "execution_count": null,
   "id": "988662ee",
   "metadata": {},
   "outputs": [],
   "source": []
  },
  {
   "cell_type": "code",
   "execution_count": null,
   "id": "42ab46a2",
   "metadata": {},
   "outputs": [],
   "source": []
  },
  {
   "cell_type": "markdown",
   "id": "226b0745",
   "metadata": {},
   "source": []
  },
  {
   "cell_type": "code",
   "execution_count": 1,
   "id": "e752f6cd",
   "metadata": {},
   "outputs": [
    {
     "data": {
      "text/plain": [
       "'C:\\\\Users\\\\lenovo'"
      ]
     },
     "execution_count": 1,
     "metadata": {},
     "output_type": "execute_result"
    }
   ],
   "source": [
    "pwd   #Understanding the where current path is"
   ]
  },
  {
   "cell_type": "markdown",
   "id": "5bd06f43",
   "metadata": {},
   "source": [
    "\n"
   ]
  },
  {
   "cell_type": "markdown",
   "id": "92747645",
   "metadata": {},
   "source": []
  },
  {
   "cell_type": "markdown",
   "id": "14c6cbcd",
   "metadata": {},
   "source": [
    "# INTRODUCTION\n",
    "## T.HARI CHANDAN\n",
    "### 21\n",
    "#### MSC STATISTICS\n"
   ]
  },
  {
   "cell_type": "markdown",
   "id": "e9876166",
   "metadata": {},
   "source": [
    " I am a passionate, hardworking and curious individual with strong time management skills. a patient approach to learning new things. "
   ]
  },
  {
   "cell_type": "code",
   "execution_count": null,
   "id": "e2b6b5c7",
   "metadata": {},
   "outputs": [],
   "source": [
    "name = input "
   ]
  },
  {
   "cell_type": "code",
   "execution_count": null,
   "id": "dadd515e",
   "metadata": {},
   "outputs": [],
   "source": [
    "#Create 3 variables with subject names maths, science, social \n",
    "#maths = 56 ,science = 78,social 60 total  100\n",
    "#average of all marks \n",
    "#percenmtage of allmarks"
   ]
  },
  {
   "cell_type": "code",
   "execution_count": 8,
   "id": "0dec3f6f",
   "metadata": {},
   "outputs": [
    {
     "name": "stdout",
     "output_type": "stream",
     "text": [
      "56\n"
     ]
    }
   ],
   "source": [
    "maths=56\n",
    "science=78\n",
    "social=60"
   ]
  },
  {
   "cell_type": "code",
   "execution_count": 10,
   "id": "9b3da1ec",
   "metadata": {},
   "outputs": [
    {
     "name": "stdout",
     "output_type": "stream",
     "text": [
      "78\n"
     ]
    }
   ],
   "source": []
  },
  {
   "cell_type": "code",
   "execution_count": 12,
   "id": "5849f60e",
   "metadata": {},
   "outputs": [
    {
     "name": "stdout",
     "output_type": "stream",
     "text": [
      "60\n"
     ]
    }
   ],
   "source": []
  },
  {
   "cell_type": "code",
   "execution_count": 13,
   "id": "d6dd82ef",
   "metadata": {},
   "outputs": [
    {
     "name": "stdout",
     "output_type": "stream",
     "text": [
      "100\n"
     ]
    }
   ],
   "source": [
    "t=100\n",
    "print(t)"
   ]
  },
  {
   "cell_type": "code",
   "execution_count": 17,
   "id": "cf2e7ffa",
   "metadata": {},
   "outputs": [],
   "source": [
    "d=(maths+science+social)/3"
   ]
  },
  {
   "cell_type": "code",
   "execution_count": 18,
   "id": "d5726432",
   "metadata": {},
   "outputs": [
    {
     "data": {
      "text/plain": [
       "64.66666666666667"
      ]
     },
     "execution_count": 18,
     "metadata": {},
     "output_type": "execute_result"
    }
   ],
   "source": [
    "d"
   ]
  },
  {
   "cell_type": "code",
   "execution_count": 23,
   "id": "93d0b9a9",
   "metadata": {},
   "outputs": [
    {
     "name": "stdout",
     "output_type": "stream",
     "text": [
      "64.66666666666666\n"
     ]
    }
   ],
   "source": [
    "e=((maths+science+social)/(300)*100)\n",
    "print(e)"
   ]
  },
  {
   "cell_type": "code",
   "execution_count": null,
   "id": "a5c2cc89",
   "metadata": {},
   "outputs": [],
   "source": [
    "#create list "
   ]
  },
  {
   "cell_type": "code",
   "execution_count": 29,
   "id": "6e91cc26",
   "metadata": {},
   "outputs": [
    {
     "name": "stdout",
     "output_type": "stream",
     "text": [
      "['tharala', 'hari', 'chandan', 'hello']\n"
     ]
    }
   ],
   "source": [
    "b=[\"tharala\",\"hari\",\"chandan\"]\n",
    "b.append(\"hello\")\n",
    "print(b)"
   ]
  },
  {
   "cell_type": "code",
   "execution_count": 37,
   "id": "30fc48aa",
   "metadata": {},
   "outputs": [
    {
     "name": "stdout",
     "output_type": "stream",
     "text": [
      "['tharala', 'hari', 'chandan', 'h', 'e', 'l', 'l', 'o']\n"
     ]
    }
   ],
   "source": [
    "b=[\"tharala\",\"hari\",\"chandan\"]\n",
    "b.extend(\"hello\")\n",
    "print(b)\n",
    " "
   ]
  },
  {
   "cell_type": "code",
   "execution_count": 40,
   "id": "297e831e",
   "metadata": {},
   "outputs": [
    {
     "ename": "TypeError",
     "evalue": "'builtin_function_or_method' object is not subscriptable",
     "output_type": "error",
     "traceback": [
      "\u001b[1;31m---------------------------------------------------------------------------\u001b[0m",
      "\u001b[1;31mTypeError\u001b[0m                                 Traceback (most recent call last)",
      "Cell \u001b[1;32mIn[40], line 1\u001b[0m\n\u001b[1;32m----> 1\u001b[0m b\u001b[38;5;241m.\u001b[39mextend[(\u001b[38;5;124m\"\u001b[39m\u001b[38;5;124mhello\u001b[39m\u001b[38;5;124m\"\u001b[39m)]\n\u001b[0;32m      2\u001b[0m \u001b[38;5;28mprint\u001b[39m(b)\n",
      "\u001b[1;31mTypeError\u001b[0m: 'builtin_function_or_method' object is not subscriptable"
     ]
    }
   ],
   "source": [
    "b.extend[(\"hello\")]\n",
    "print(b)"
   ]
  },
  {
   "cell_type": "code",
   "execution_count": 49,
   "id": "0b50826c",
   "metadata": {},
   "outputs": [
    {
     "name": "stdout",
     "output_type": "stream",
     "text": [
      "[1, 2, 3, 4, ['c', 'd']]\n",
      "[1, 2, 3, 4, ['c', 'd'], 'c', 'd']\n"
     ]
    }
   ],
   "source": [
    "a=[1,2,3,4]\n",
    "a.append([\"c\",\"d\"])\n",
    "print(a)\n",
    "a.extend([\"c\",\"d\"])\n",
    "print(a)"
   ]
  },
  {
   "cell_type": "code",
   "execution_count": 50,
   "id": "4f7e0d58",
   "metadata": {},
   "outputs": [
    {
     "name": "stdout",
     "output_type": "stream",
     "text": [
      "[1, 2, 3, 4, 5, 'hari']\n"
     ]
    }
   ],
   "source": [
    "c=[1,2,3,4,5]\n",
    "c.append(\"hari\")\n",
    "print(c)"
   ]
  },
  {
   "cell_type": "code",
   "execution_count": 55,
   "id": "6550eea9",
   "metadata": {},
   "outputs": [
    {
     "name": "stdout",
     "output_type": "stream",
     "text": [
      "[1, 2, 3, 4, 5, 'hari', 'hari', 'hari', 'hari', 'hari', 'hari']\n"
     ]
    }
   ],
   "source": [
    "c.append(\"hari\")\n",
    "print(c)"
   ]
  },
  {
   "cell_type": "code",
   "execution_count": null,
   "id": "e879631b",
   "metadata": {},
   "outputs": [],
   "source": [
    "#try to define a list with 3 elements add an elements using append and extend"
   ]
  },
  {
   "cell_type": "code",
   "execution_count": null,
   "id": "a8581164",
   "metadata": {},
   "outputs": [],
   "source": [
    "a=\"\""
   ]
  },
  {
   "cell_type": "code",
   "execution_count": 17,
   "id": "88f02b5d",
   "metadata": {},
   "outputs": [
    {
     "name": "stdout",
     "output_type": "stream",
     "text": [
      "Help on method_descriptor:\n",
      "\n",
      "extend(self, iterable, /)\n",
      "    Extend list by appending elements from the iterable.\n",
      "\n"
     ]
    }
   ],
   "source": [
    "help(list.extend)"
   ]
  },
  {
   "cell_type": "code",
   "execution_count": 18,
   "id": "a3a6a510",
   "metadata": {},
   "outputs": [
    {
     "name": "stdout",
     "output_type": "stream",
     "text": [
      "Help on method_descriptor:\n",
      "\n",
      "append(self, object, /)\n",
      "    Append object to the end of the list.\n",
      "\n"
     ]
    }
   ],
   "source": [
    "help(list.append)"
   ]
  },
  {
   "cell_type": "code",
   "execution_count": 3,
   "id": "4853f441",
   "metadata": {},
   "outputs": [],
   "source": [
    "f = [1,2]"
   ]
  },
  {
   "cell_type": "code",
   "execution_count": 22,
   "id": "a6503b9e",
   "metadata": {},
   "outputs": [],
   "source": [
    "f.append([\"hi\",\"b\"])"
   ]
  },
  {
   "cell_type": "code",
   "execution_count": 4,
   "id": "732777d7",
   "metadata": {},
   "outputs": [
    {
     "data": {
      "text/plain": [
       "[1, 2]"
      ]
     },
     "execution_count": 4,
     "metadata": {},
     "output_type": "execute_result"
    }
   ],
   "source": [
    "f"
   ]
  },
  {
   "cell_type": "code",
   "execution_count": 24,
   "id": "f0c47750",
   "metadata": {},
   "outputs": [],
   "source": [
    "f.extend([\"aa\",\"bb\"])"
   ]
  },
  {
   "cell_type": "code",
   "execution_count": 25,
   "id": "bec9db24",
   "metadata": {},
   "outputs": [
    {
     "data": {
      "text/plain": [
       "[1, 2, ['hi', 'b'], 'aa', 'bb']"
      ]
     },
     "execution_count": 25,
     "metadata": {},
     "output_type": "execute_result"
    }
   ],
   "source": [
    "f"
   ]
  },
  {
   "cell_type": "code",
   "execution_count": 28,
   "id": "198ae161",
   "metadata": {},
   "outputs": [
    {
     "data": {
      "text/plain": [
       "[1, 2, ['hi', 'b'], 'aa', 'bb', 'a', 'a']"
      ]
     },
     "execution_count": 28,
     "metadata": {},
     "output_type": "execute_result"
    }
   ],
   "source": [
    "f.extend(\"aa\")\n",
    "f"
   ]
  },
  {
   "cell_type": "code",
   "execution_count": null,
   "id": "7c7fc7b6",
   "metadata": {},
   "outputs": [],
   "source": [
    "clear() #CLEARS THE MEMORY\n",
    "del()"
   ]
  },
  {
   "cell_type": "code",
   "execution_count": 57,
   "id": "81a1a923",
   "metadata": {},
   "outputs": [
    {
     "data": {
      "text/plain": [
       "10"
      ]
     },
     "execution_count": 57,
     "metadata": {},
     "output_type": "execute_result"
    }
   ],
   "source": [
    "MY=[1,2,3,4]\n",
    "sum(MY)"
   ]
  },
  {
   "cell_type": "code",
   "execution_count": 65,
   "id": "9a96c674",
   "metadata": {},
   "outputs": [
    {
     "name": "stdout",
     "output_type": "stream",
     "text": [
      "(2, 3, 4, 5, 'hi', 2)\n",
      "5\n"
     ]
    }
   ],
   "source": [
    "d=(2,3,4,5,\"hi\",2)   #it cannot add values after creating the tuple\n",
    "print(d)             #difference between list and tuple if we have big data we can add only in list\n",
    "print(d[3])"
   ]
  },
  {
   "cell_type": "markdown",
   "id": "7e1a56c5",
   "metadata": {},
   "source": [
    " Binary to Integer:\n",
    "When we are converting binary to integer we have to use syntax as\n",
    "SYNTAX: int(binary value,2) (here 2 is used for binary,8 is used for oct,16 hexa)\n",
    "Difference between AND and &\n",
    "We use & as it is biwise operator here it will convert them into binary and then operates AND operatipon same for OR and"
   ]
  },
  {
   "cell_type": "code",
   "execution_count": 4,
   "id": "f24e51e4",
   "metadata": {},
   "outputs": [
    {
     "name": "stdout",
     "output_type": "stream",
     "text": [
      "hi bachi\n"
     ]
    }
   ],
   "source": [
    "str1='hi bachi'\n",
    "print(str1)"
   ]
  },
  {
   "cell_type": "code",
   "execution_count": 2,
   "id": "31c10be5",
   "metadata": {},
   "outputs": [
    {
     "data": {
      "text/plain": [
       "str"
      ]
     },
     "execution_count": 2,
     "metadata": {},
     "output_type": "execute_result"
    }
   ],
   "source": [
    "type(str1)"
   ]
  },
  {
   "cell_type": "markdown",
   "id": "24a83a30",
   "metadata": {},
   "source": []
  },
  {
   "cell_type": "code",
   "execution_count": 3,
   "id": "a1b33481",
   "metadata": {},
   "outputs": [
    {
     "name": "stdout",
     "output_type": "stream",
     "text": [
      "hello bunny\n"
     ]
    }
   ],
   "source": [
    "str2=\"hello bunny\"\n",
    "print(str2)"
   ]
  },
  {
   "cell_type": "code",
   "execution_count": 5,
   "id": "8546f55e",
   "metadata": {},
   "outputs": [
    {
     "name": "stdout",
     "output_type": "stream",
     "text": [
      "hi bachi tinnava m chestunnavu inka chavuko job radhu malli time waste cheyyaku\n"
     ]
    }
   ],
   "source": [
    "str3='''hi bachi tinnava m chestunnavu inka chavuko job radhu malli time waste cheyyaku'''\n",
    "print(str3)"
   ]
  },
  {
   "cell_type": "code",
   "execution_count": null,
   "id": "e0eb9285",
   "metadata": {},
   "outputs": [],
   "source": [
    "#indexing"
   ]
  },
  {
   "cell_type": "code",
   "execution_count": 6,
   "id": "d116540e",
   "metadata": {},
   "outputs": [
    {
     "data": {
      "text/plain": [
       "'b'"
      ]
     },
     "execution_count": 6,
     "metadata": {},
     "output_type": "execute_result"
    }
   ],
   "source": [
    "str1=\"bachi\"\n",
    "str1[0]"
   ]
  },
  {
   "cell_type": "code",
   "execution_count": 7,
   "id": "3d460fe6",
   "metadata": {},
   "outputs": [
    {
     "data": {
      "text/plain": [
       "'i'"
      ]
     },
     "execution_count": 7,
     "metadata": {},
     "output_type": "execute_result"
    }
   ],
   "source": [
    "str1[4]"
   ]
  },
  {
   "cell_type": "code",
   "execution_count": 9,
   "id": "a92d685d",
   "metadata": {},
   "outputs": [
    {
     "data": {
      "text/plain": [
       "'h'"
      ]
     },
     "execution_count": 9,
     "metadata": {},
     "output_type": "execute_result"
    }
   ],
   "source": [
    "str1[3]"
   ]
  },
  {
   "cell_type": "code",
   "execution_count": 10,
   "id": "35c360bb",
   "metadata": {},
   "outputs": [
    {
     "ename": "IndexError",
     "evalue": "string index out of range",
     "output_type": "error",
     "traceback": [
      "\u001b[1;31m---------------------------------------------------------------------------\u001b[0m",
      "\u001b[1;31mIndexError\u001b[0m                                Traceback (most recent call last)",
      "Cell \u001b[1;32mIn[10], line 1\u001b[0m\n\u001b[1;32m----> 1\u001b[0m str1[\u001b[38;5;241m10\u001b[39m]\n",
      "\u001b[1;31mIndexError\u001b[0m: string index out of range"
     ]
    }
   ],
   "source": [
    "str1[10]"
   ]
  },
  {
   "cell_type": "code",
   "execution_count": null,
   "id": "b615ea32",
   "metadata": {},
   "outputs": [],
   "source": [
    "#slicing"
   ]
  },
  {
   "cell_type": "code",
   "execution_count": 11,
   "id": "ff34ef97",
   "metadata": {},
   "outputs": [
    {
     "name": "stdout",
     "output_type": "stream",
     "text": [
      "bachibunny\n"
     ]
    }
   ],
   "source": [
    "str1=\"bachibunny\"\n",
    "print(str1)"
   ]
  },
  {
   "cell_type": "code",
   "execution_count": 12,
   "id": "ca4f4f83",
   "metadata": {},
   "outputs": [
    {
     "data": {
      "text/plain": [
       "'bachibunny'"
      ]
     },
     "execution_count": 12,
     "metadata": {},
     "output_type": "execute_result"
    }
   ],
   "source": [
    "str1[0:]"
   ]
  },
  {
   "cell_type": "code",
   "execution_count": 13,
   "id": "f67df11b",
   "metadata": {},
   "outputs": [
    {
     "data": {
      "text/plain": [
       "'achibun'"
      ]
     },
     "execution_count": 13,
     "metadata": {},
     "output_type": "execute_result"
    }
   ],
   "source": [
    "str1[1:8]"
   ]
  },
  {
   "cell_type": "code",
   "execution_count": 14,
   "id": "7e254e66",
   "metadata": {},
   "outputs": [
    {
     "data": {
      "text/plain": [
       "'bachibunny'"
      ]
     },
     "execution_count": 14,
     "metadata": {},
     "output_type": "execute_result"
    }
   ],
   "source": [
    "str1[:10]"
   ]
  },
  {
   "cell_type": "code",
   "execution_count": 15,
   "id": "cb73931a",
   "metadata": {},
   "outputs": [
    {
     "data": {
      "text/plain": [
       "'ynnubihcab'"
      ]
     },
     "execution_count": 15,
     "metadata": {},
     "output_type": "execute_result"
    }
   ],
   "source": [
    "str1[::-1]#reverse direction "
   ]
  },
  {
   "cell_type": "code",
   "execution_count": 16,
   "id": "50bb3c71",
   "metadata": {},
   "outputs": [
    {
     "data": {
      "text/plain": [
       "'n'"
      ]
     },
     "execution_count": 16,
     "metadata": {},
     "output_type": "execute_result"
    }
   ],
   "source": [
    "str1[-3]"
   ]
  },
  {
   "cell_type": "code",
   "execution_count": 18,
   "id": "3e4ede08",
   "metadata": {},
   "outputs": [
    {
     "data": {
      "text/plain": [
       "'ny'"
      ]
     },
     "execution_count": 18,
     "metadata": {},
     "output_type": "execute_result"
    }
   ],
   "source": [
    "str1[-2:]"
   ]
  },
  {
   "cell_type": "code",
   "execution_count": 22,
   "id": "2cdd6554",
   "metadata": {},
   "outputs": [
    {
     "ename": "NameError",
     "evalue": "name 'str2' is not defined",
     "output_type": "error",
     "traceback": [
      "\u001b[1;31m---------------------------------------------------------------------------\u001b[0m",
      "\u001b[1;31mNameError\u001b[0m                                 Traceback (most recent call last)",
      "Cell \u001b[1;32mIn[22], line 3\u001b[0m\n\u001b[0;32m      1\u001b[0m str2\u001b[38;5;241m=\u001b[39m\u001b[38;5;124m\"\u001b[39m\u001b[38;5;124mhari\u001b[39m\u001b[38;5;124m\"\u001b[39m\n\u001b[0;32m      2\u001b[0m \u001b[38;5;28;01mdel\u001b[39;00m(str2)\n\u001b[1;32m----> 3\u001b[0m \u001b[38;5;28mprint\u001b[39m(str2)\n",
      "\u001b[1;31mNameError\u001b[0m: name 'str2' is not defined"
     ]
    }
   ],
   "source": [
    "str2=\"hari\"\n",
    "del(str2)\n",
    "print(str2)"
   ]
  },
  {
   "cell_type": "code",
   "execution_count": 24,
   "id": "f53f010b",
   "metadata": {},
   "outputs": [
    {
     "name": "stdout",
     "output_type": "stream",
     "text": [
      "harichandan\n"
     ]
    }
   ],
   "source": [
    "str1=\"hari\"\n",
    "str2=\"chandan\"\n",
    "print(str1+str2)"
   ]
  },
  {
   "cell_type": "code",
   "execution_count": 33,
   "id": "a34e3ac7",
   "metadata": {},
   "outputs": [
    {
     "data": {
      "text/plain": [
       "(1, 2, 3, 'hari', {1: '2'})"
      ]
     },
     "execution_count": 33,
     "metadata": {},
     "output_type": "execute_result"
    }
   ],
   "source": [
    "]"
   ]
  },
  {
   "cell_type": "markdown",
   "id": "72713282",
   "metadata": {},
   "source": [
    "# Assignment Instructions\n",
    "\n",
    "`Hello Innominion,`\n",
    "\n",
    "- **Try to attempt all the questions in every possible way.**\n",
    "- **Some other topics are required to solve some questions. don't panic.**\n",
    "- **Those questions can be answered after the topics are taught.**\n",
    "\n",
    "\n",
    "- `Join Mentoring Session for the Support/Doubts Resolving with Our Technical Mentors (2.00 PM - 6.00 PM  Mon-Sat)` \n",
    "\n",
    "Happy Learning !!!"
   ]
  },
  {
   "cell_type": "markdown",
   "id": "84533914",
   "metadata": {},
   "source": [
    "## Basics of Python"
   ]
  },
  {
   "cell_type": "markdown",
   "id": "e8671422",
   "metadata": {},
   "source": [
    "> `Question:` Print your name"
   ]
  },
  {
   "cell_type": "code",
   "execution_count": 1,
   "id": "25212c3c",
   "metadata": {},
   "outputs": [
    {
     "name": "stdout",
     "output_type": "stream",
     "text": [
      "Hari Chandan\n"
     ]
    }
   ],
   "source": [
    "a=\"Hari Chandan\"\n",
    "print(a)"
   ]
  },
  {
   "cell_type": "markdown",
   "id": "af60870e",
   "metadata": {},
   "source": [
    "> `Question:` What is a variable? Write a Few words about Variables. Create a Variable with an Example. "
   ]
  },
  {
   "cell_type": "markdown",
   "id": "74646b4a",
   "metadata": {},
   "source": [
    "# Variable is defined as when we want to store a value we use variable and it should be  assigned with a  result"
   ]
  },
  {
   "cell_type": "code",
   "execution_count": 1,
   "id": "ed462ead",
   "metadata": {},
   "outputs": [
    {
     "name": "stdout",
     "output_type": "stream",
     "text": [
      "1924\n"
     ]
    }
   ],
   "source": [
    "variable=1924\n",
    "print(variable)"
   ]
  },
  {
   "cell_type": "markdown",
   "id": "5bd3d361",
   "metadata": {},
   "source": [
    ">`Question:` Assume that we execute the following assignment statements:\n",
    "width = 17\n",
    "height = 12.0\n",
    "delimiter = '.'\n",
    "For each of the following expressions, write the value of the expression and the type (of the value of\n",
    "the expression).\n",
    "1. width/2\n",
    "2. width/2.0\n",
    "3. height/3\n",
    "4. 1 + 2 * 5\n",
    "5. delimiter * 5"
   ]
  },
  {
   "cell_type": "code",
   "execution_count": 3,
   "id": "7f3b2da6",
   "metadata": {},
   "outputs": [
    {
     "name": "stdout",
     "output_type": "stream",
     "text": [
      "3.5\n",
      "3.5\n",
      ".....\n"
     ]
    }
   ],
   "source": [
    "width=7\n",
    "print(width/2)\n",
    "print(width/2.0)\n",
    "delimetre= '.'\n",
    "print(delimetre*5)"
   ]
  },
  {
   "cell_type": "raw",
   "id": "05d18435",
   "metadata": {},
   "source": [
    "# Sample Outputs\n",
    "1. width/2 = 8.5\n",
    "2. width/2.0 = 8.5\n",
    "3. height/3 = 4.0\n",
    "4. 11\n",
    "5. ....."
   ]
  },
  {
   "cell_type": "markdown",
   "id": "77895a59",
   "metadata": {},
   "source": [
    "> `Question:` Add two number by taking variable names as first and seccond"
   ]
  },
  {
   "cell_type": "code",
   "execution_count": 5,
   "id": "50d0302e",
   "metadata": {},
   "outputs": [
    {
     "name": "stdout",
     "output_type": "stream",
     "text": [
      "5\n",
      "6\n",
      "11\n"
     ]
    }
   ],
   "source": [
    "e=5\n",
    "f=6\n",
    "print(e)\n",
    "print(f)\n",
    "print(f+e)"
   ]
  },
  {
   "cell_type": "code",
   "execution_count": 6,
   "id": "cc044050",
   "metadata": {
    "scrolled": true
   },
   "outputs": [
    {
     "name": "stdout",
     "output_type": "stream",
     "text": [
      "first number is : 100\n",
      "second number is : 200\n",
      "Addition of two numbers are : 300\n"
     ]
    }
   ],
   "source": []
  },
  {
   "cell_type": "markdown",
   "id": "a4560946",
   "metadata": {},
   "source": [
    "> `Question:` Add your first name and second name"
   ]
  },
  {
   "cell_type": "code",
   "execution_count": 7,
   "id": "1486e8b8",
   "metadata": {},
   "outputs": [
    {
     "name": "stdout",
     "output_type": "stream",
     "text": [
      "Hari chandan\n"
     ]
    }
   ],
   "source": [
    "first_name=\"Hari \"\n",
    "last_name=\"chandan\"\n",
    "print(first_name+last_name)"
   ]
  },
  {
   "cell_type": "code",
   "execution_count": 8,
   "id": "210131db",
   "metadata": {},
   "outputs": [
    {
     "name": "stdout",
     "output_type": "stream",
     "text": [
      "My first name is : Sachin\n",
      "My second name is : Tendulkar\n",
      "My full name is : Sachin Tendulkar\n"
     ]
    }
   ],
   "source": [
    "#sample use case"
   ]
  },
  {
   "cell_type": "markdown",
   "id": "cc4357ee",
   "metadata": {},
   "source": [
    "> `Question:` print the datatypes of the following\n",
    "- 10,'10',True,10.5"
   ]
  },
  {
   "cell_type": "code",
   "execution_count": 9,
   "id": "896632b8",
   "metadata": {},
   "outputs": [
    {
     "name": "stdout",
     "output_type": "stream",
     "text": [
      "<class 'int'>\n",
      "<class 'str'>\n",
      "<class 'bool'>\n",
      "<class 'float'>\n"
     ]
    }
   ],
   "source": [
    "g=10\n",
    "h='10'\n",
    "i=True\n",
    "j=10.5\n",
    "print(type(g))\n",
    "print(type(h))\n",
    "print(type(i))\n",
    "print(type(j))"
   ]
  },
  {
   "cell_type": "code",
   "execution_count": 11,
   "id": "8b87aa4f",
   "metadata": {},
   "outputs": [
    {
     "name": "stdout",
     "output_type": "stream",
     "text": [
      "10 -  <class 'int'>\n",
      "'10' -  <class 'str'>\n",
      "True -  <class 'bool'>\n",
      "10.5 -  <class 'float'>\n"
     ]
    }
   ],
   "source": []
  },
  {
   "cell_type": "markdown",
   "id": "6844a86f",
   "metadata": {},
   "source": [
    " `Question:` \n",
    "> - num_int = 123\n",
    "> - num_str = \"456\"\n",
    "> - Add num_int and num_str\n",
    "- `hint: first need to convert num_str into integer`"
   ]
  },
  {
   "cell_type": "code",
   "execution_count": 11,
   "id": "19a5d258",
   "metadata": {},
   "outputs": [
    {
     "name": "stdout",
     "output_type": "stream",
     "text": [
      "456\n",
      "123\n",
      "579\n"
     ]
    }
   ],
   "source": [
    "num_int=123\n",
    "num_str=\"456\"\n",
    "#To perfrom addition we have to convert \"string\" to \"integer\"\n",
    "print(int(num_str))\n",
    "print(num_int)\n",
    "print(int(num_str)+num_int)"
   ]
  },
  {
   "cell_type": "code",
   "execution_count": 13,
   "id": "8554a640",
   "metadata": {},
   "outputs": [
    {
     "name": "stdout",
     "output_type": "stream",
     "text": [
      "Addition of 123 and 456 is :  579\n"
     ]
    }
   ],
   "source": []
  },
  {
   "cell_type": "code",
   "execution_count": null,
   "id": "7645775a",
   "metadata": {},
   "outputs": [],
   "source": []
  },
  {
   "cell_type": "markdown",
   "id": "80a17d21",
   "metadata": {},
   "source": [
    "### Advanced Questions"
   ]
  },
  {
   "cell_type": "markdown",
   "id": "c0afcccf",
   "metadata": {},
   "source": [
    "> `Question:` The volume of a sphere with radius r is  4/3πr3  . What is the volume of a sphere with radius 5?"
   ]
  },
  {
   "cell_type": "code",
   "execution_count": 37,
   "id": "9a27089f",
   "metadata": {},
   "outputs": [
    {
     "name": "stdout",
     "output_type": "stream",
     "text": [
      "5\n",
      "3.14\n",
      "1.3333333333333333\n",
      "125\n",
      "523.3333333333334\n"
     ]
    }
   ],
   "source": [
    "r=5\n",
    "print(r)\n",
    "a=3.14\n",
    "print(a)\n",
    "b=4/3\n",
    "print(b)\n",
    "c=r**3\n",
    "print(c)\n",
    "print(b*a*c)\n",
    "\n"
   ]
  },
  {
   "cell_type": "markdown",
   "id": "690846eb",
   "metadata": {},
   "source": [
    "> `Question:` Suppose the cover price of a book is Rs.24.95, but bookstores get a 40% discount. Shipping costs Rs.3 for the first copy and 75 paise for each additional copy. What is the total wholesale cost for 60 copies?"
   ]
  },
  {
   "cell_type": "code",
   "execution_count": 57,
   "id": "bed768b6",
   "metadata": {},
   "outputs": [
    {
     "name": "stdout",
     "output_type": "stream",
     "text": [
      "24.95\n",
      "9.98\n",
      "14.969999999999999\n",
      "60\n",
      "898.1999999999999\n",
      "3\n",
      "0.75\n",
      "47.25\n",
      "945.4499999999999\n"
     ]
    }
   ],
   "source": [
    "cover_price=24.95\n",
    "print(cover_price)\n",
    "discount_price=cover_price*(0.4)\n",
    "print(discount_price)\n",
    "orginal_price=(cover_price-discount_price)\n",
    "print(orginal_price)\n",
    "totalbooks=60\n",
    "print(totalbooks)\n",
    "totalbooks_coverprice=totalbooks*(orginal_price)\n",
    "print(totalbooks_coverprice)\n",
    "shipping_cost=3\n",
    "print(shipping_cost)\n",
    "shipping_cost1=0.75\n",
    "print(shipping_cost1)\n",
    "totalbooks_shippingcost=(shipping_cost*1)+(shipping_cost1*59)\n",
    "print(totalbooks_shippingcost)\n",
    "totalwholesalecost=totalbooks_coverprice+totalbooks_shippingcost\n",
    "print(totalwholesalecost)\n"
   ]
  },
  {
   "cell_type": "code",
   "execution_count": null,
   "id": "ebaff01d",
   "metadata": {},
   "outputs": [],
   "source": [
    "#In default we dont have any keyword to count the number of digits in a number \n",
    "#we convert the number into string and then we can count the no of digits in the number"
   ]
  },
  {
   "cell_type": "code",
   "execution_count": 1,
   "id": "490f9392",
   "metadata": {},
   "outputs": [
    {
     "ename": "SyntaxError",
     "evalue": "invalid decimal literal (3812159065.py, line 1)",
     "output_type": "error",
     "traceback": [
      "\u001b[1;36m  Cell \u001b[1;32mIn[1], line 1\u001b[1;36m\u001b[0m\n\u001b[1;33m    1star=\"moon\"\u001b[0m\n\u001b[1;37m    ^\u001b[0m\n\u001b[1;31mSyntaxError\u001b[0m\u001b[1;31m:\u001b[0m invalid decimal literal\n"
     ]
    }
   ],
   "source": [
    "1star=\"moon\"#cant start with numbers"
   ]
  },
  {
   "cell_type": "code",
   "execution_count": 3,
   "id": "751dfda2",
   "metadata": {},
   "outputs": [
    {
     "ename": "SyntaxError",
     "evalue": "invalid syntax (1948547824.py, line 1)",
     "output_type": "error",
     "traceback": [
      "\u001b[1;36m  Cell \u001b[1;32mIn[3], line 1\u001b[1;36m\u001b[0m\n\u001b[1;33m    smaple literal = 1\u001b[0m\n\u001b[1;37m           ^\u001b[0m\n\u001b[1;31mSyntaxError\u001b[0m\u001b[1;31m:\u001b[0m invalid syntax\n"
     ]
    }
   ],
   "source": [
    "smaple literal = 1"
   ]
  },
  {
   "cell_type": "code",
   "execution_count": 5,
   "id": "11d57fb5",
   "metadata": {},
   "outputs": [
    {
     "name": "stdout",
     "output_type": "stream",
     "text": [
      "1\n",
      "2\n",
      "3\n"
     ]
    }
   ],
   "source": [
    "a,b,c = 1,2,3\n",
    "print(a)\n",
    "print(b)\n",
    "print(c)"
   ]
  },
  {
   "cell_type": "code",
   "execution_count": 6,
   "id": "f68f296d",
   "metadata": {},
   "outputs": [
    {
     "data": {
      "text/plain": [
       "dict_items([(1, 'hari'), (2, 'chandan')])"
      ]
     },
     "execution_count": 6,
     "metadata": {},
     "output_type": "execute_result"
    }
   ],
   "source": [
    "dict1={1:\"hari\",2:\"chandan\"}\n",
    "dict1.items()"
   ]
  },
  {
   "cell_type": "code",
   "execution_count": 8,
   "id": "e192920c",
   "metadata": {},
   "outputs": [
    {
     "data": {
      "text/plain": [
       "'love makes easy to understand the data'"
      ]
     },
     "execution_count": 8,
     "metadata": {},
     "output_type": "execute_result"
    }
   ],
   "source": [
    "string=\"statistics makes easy to understand the data\"\n",
    "string.replace(\"statistics\",\"love\")"
   ]
  },
  {
   "cell_type": "code",
   "execution_count": 9,
   "id": "c0f041ad",
   "metadata": {},
   "outputs": [
    {
     "data": {
      "text/plain": [
       "44"
      ]
     },
     "execution_count": 9,
     "metadata": {},
     "output_type": "execute_result"
    }
   ],
   "source": [
    "len(string)"
   ]
  },
  {
   "cell_type": "code",
   "execution_count": 15,
   "id": "e9a43b35",
   "metadata": {},
   "outputs": [
    {
     "data": {
      "text/plain": [
       "5"
      ]
     },
     "execution_count": 15,
     "metadata": {},
     "output_type": "execute_result"
    }
   ],
   "source": [
    "string.find(\"s\",3)"
   ]
  },
  {
   "cell_type": "code",
   "execution_count": 16,
   "id": "bfbe2527",
   "metadata": {},
   "outputs": [
    {
     "name": "stdout",
     "output_type": "stream",
     "text": [
      "69,699,66999 and addition is 67767\n"
     ]
    }
   ],
   "source": [
    "num1=69\n",
    "num2=699\n",
    "num3=66999\n",
    "print(f\"{num1},{num2},{num3} and addition is {num1+num2+num3}\")"
   ]
  },
  {
   "cell_type": "code",
   "execution_count": 4,
   "id": "68216be5",
   "metadata": {},
   "outputs": [
    {
     "name": "stdout",
     "output_type": "stream",
     "text": [
      "['hari', 1, 2, 3, 4, [1, 2, 3, 'cherry'], [1, 3, [4, 5, 6]]]\n",
      "['hari', 1, 2, 3, 4, [1, 2, 3, 'cherry'], [1, 3, ['cherrybabubauaa', 5, 6]]]\n",
      "['hari', 1, 2, 3, 4, [1, 2, 3, 'cherry'], [1, 3, ['cherrybabubauaa', 5, 6]]]\n"
     ]
    }
   ],
   "source": [
    "import copy\n",
    "list1=[\"hari\",1,2,3,4,[1,2,3,\"cherry\"],[1,3,[4,5,6]]]\n",
    "print(list1)\n",
    "list1[6][2][0]=\"cherrybabubauaa\"\n",
    "list2=copy.deepcopy(list1)\n",
    "print(list1)\n",
    "print(list2)"
   ]
  },
  {
   "cell_type": "code",
   "execution_count": 21,
   "id": "2da80ec7",
   "metadata": {},
   "outputs": [
    {
     "name": "stdout",
     "output_type": "stream",
     "text": [
      "['hari', 1, 2, 3, 4, [1, 2, 3, 'cherry'], [1, 3, [4, 5, 6]]]\n"
     ]
    }
   ],
   "source": [
    "list1=[\"hari\",1,2,3,4,[1,2,3,\"cherry\"],[1,3,[4,5,6]]]\n",
    "print(list1)\n",
    "list2=copy.copy(list1)\n",
    "list1[6][2][2]=\"cherrybabubauaa\"\n"
   ]
  },
  {
   "cell_type": "code",
   "execution_count": 22,
   "id": "b7c753bc",
   "metadata": {},
   "outputs": [
    {
     "name": "stdout",
     "output_type": "stream",
     "text": [
      "['hari', 1, 2, 3, 4, [1, 2, 3, 'cherry'], [1, 3, [4, 5, 'cherrybabubauaa']]]\n"
     ]
    }
   ],
   "source": [
    "print(list1)"
   ]
  },
  {
   "cell_type": "code",
   "execution_count": 23,
   "id": "74cd5d26",
   "metadata": {},
   "outputs": [
    {
     "name": "stdout",
     "output_type": "stream",
     "text": [
      "['hari', 1, 2, 3, 4, [1, 2, 3, 'cherry'], [1, 3, [4, 5, 'cherrybabubauaa']]]\n"
     ]
    }
   ],
   "source": [
    "print(list2)"
   ]
  },
  {
   "cell_type": "code",
   "execution_count": 28,
   "id": "be664e9c",
   "metadata": {},
   "outputs": [
    {
     "name": "stdout",
     "output_type": "stream",
     "text": [
      "[1, 2, 3, 4, [5, 6], [7, 8, 9, [10, 11]]]\n"
     ]
    }
   ],
   "source": [
    "import copy\n",
    "lst=[1,2,3,4,[5,6],[7,8,9,[\"hari\",11]]]\n",
    "print(lst)"
   ]
  },
  {
   "cell_type": "code",
   "execution_count": 38,
   "id": "318f21b4",
   "metadata": {},
   "outputs": [
    {
     "ename": "TypeError",
     "evalue": "'int' object is not subscriptable",
     "output_type": "error",
     "traceback": [
      "\u001b[1;31m---------------------------------------------------------------------------\u001b[0m",
      "\u001b[1;31mTypeError\u001b[0m                                 Traceback (most recent call last)",
      "Cell \u001b[1;32mIn[38], line 2\u001b[0m\n\u001b[0;32m      1\u001b[0m lst1\u001b[38;5;241m=\u001b[39mcopy\u001b[38;5;241m.\u001b[39mdeepcopy(lst)\n\u001b[1;32m----> 2\u001b[0m lst[\u001b[38;5;241m5\u001b[39m][\u001b[38;5;241m2\u001b[39m][\u001b[38;5;241m0\u001b[39m][\u001b[38;5;241m2\u001b[39m]\n",
      "\u001b[1;31mTypeError\u001b[0m: 'int' object is not subscriptable"
     ]
    }
   ],
   "source": [
    "lst1=copy.deepcopy(lst)\n",
    "lst[5][2][0][2]"
   ]
  },
  {
   "cell_type": "code",
   "execution_count": null,
   "id": "2e9bd278",
   "metadata": {},
   "outputs": [],
   "source": [
    "print(lst)\n",
    "print(lst1)"
   ]
  },
  {
   "cell_type": "code",
   "execution_count": 39,
   "id": "46a7d843",
   "metadata": {},
   "outputs": [
    {
     "data": {
      "text/plain": [
       "'3'"
      ]
     },
     "execution_count": 39,
     "metadata": {},
     "output_type": "execute_result"
    }
   ],
   "source": [
    "sample_list_using_class = list([67,12,\"322\",True,6.7])  ### list ALLOWS different datatypes\n",
    "sample_list_using_class\n",
    "sample_list_using_class[2][0]"
   ]
  },
  {
   "cell_type": "code",
   "execution_count": 1,
   "id": "78c22723",
   "metadata": {},
   "outputs": [
    {
     "data": {
      "text/plain": [
       "['c', 'e', 'n', 't', 'r', 'a', 'l', 't', 'e', 'n', 'd', 'e', 'n', 'c', 'y']"
      ]
     },
     "execution_count": 1,
     "metadata": {},
     "output_type": "execute_result"
    }
   ],
   "source": [
    " list(\"centraltendency\")"
   ]
  },
  {
   "cell_type": "code",
   "execution_count": 4,
   "id": "83b2f571",
   "metadata": {},
   "outputs": [
    {
     "data": {
      "text/plain": [
       "['identifythepatternandspread']"
      ]
     },
     "execution_count": 4,
     "metadata": {},
     "output_type": "execute_result"
    }
   ],
   "source": [
    "list([\"identifythepatternandspread\"])"
   ]
  },
  {
   "cell_type": "code",
   "execution_count": 6,
   "id": "b7c87224",
   "metadata": {},
   "outputs": [
    {
     "data": {
      "text/plain": [
       "list['spreadofthedata']"
      ]
     },
     "execution_count": 6,
     "metadata": {},
     "output_type": "execute_result"
    }
   ],
   "source": [
    "list[\"spreadofthedata\"]"
   ]
  },
  {
   "cell_type": "code",
   "execution_count": 8,
   "id": "a33a95ea",
   "metadata": {},
   "outputs": [
    {
     "data": {
      "text/plain": [
       "[['pearson']]"
      ]
     },
     "execution_count": 8,
     "metadata": {},
     "output_type": "execute_result"
    }
   ],
   "source": [
    "variance=[1,2,3,4,[5,6,7],[[\"pearson\"]]]\n",
    "variance[5]  #2Dlist"
   ]
  },
  {
   "cell_type": "code",
   "execution_count": 10,
   "id": "59d7a1cf",
   "metadata": {},
   "outputs": [
    {
     "data": {
      "text/plain": [
       "['pearson']"
      ]
     },
     "execution_count": 10,
     "metadata": {},
     "output_type": "execute_result"
    }
   ],
   "source": [
    "variance[5][0] #1D list"
   ]
  },
  {
   "cell_type": "code",
   "execution_count": 13,
   "id": "192a9df4",
   "metadata": {},
   "outputs": [
    {
     "data": {
      "text/plain": [
       "'pearson'"
      ]
     },
     "execution_count": 13,
     "metadata": {},
     "output_type": "execute_result"
    }
   ],
   "source": [
    "variance[5][0][0]  #executing the element"
   ]
  },
  {
   "cell_type": "code",
   "execution_count": 14,
   "id": "1ba6a463",
   "metadata": {},
   "outputs": [
    {
     "data": {
      "text/plain": [
       "'pas'"
      ]
     },
     "execution_count": 14,
     "metadata": {},
     "output_type": "execute_result"
    }
   ],
   "source": [
    "variance[5][0][0][0:5:2]#slicing the string which is inside the list"
   ]
  },
  {
   "cell_type": "code",
   "execution_count": 13,
   "id": "8a069165",
   "metadata": {},
   "outputs": [
    {
     "name": "stdout",
     "output_type": "stream",
     "text": [
      "['hi', 'chandrika,tinnava']\n"
     ]
    }
   ],
   "source": [
    "hi=[\"chandrika,tinnava\"]\n",
    "hi.insert(0,\"hi\")\n",
    "print(hi)"
   ]
  },
  {
   "cell_type": "code",
   "execution_count": 14,
   "id": "8ae268a9",
   "metadata": {},
   "outputs": [
    {
     "name": "stdout",
     "output_type": "stream",
     "text": [
      "['chandrika,tinnava']\n"
     ]
    }
   ],
   "source": [
    "hi.remove(\"hi\")\n",
    "print(hi)"
   ]
  },
  {
   "cell_type": "code",
   "execution_count": 28,
   "id": "38eb1d6a",
   "metadata": {},
   "outputs": [
    {
     "name": "stdout",
     "output_type": "stream",
     "text": [
      "(9, 67)\n",
      "3\n"
     ]
    },
    {
     "data": {
      "text/plain": [
       "(9, 67, 9, 67, 9, 67)"
      ]
     },
     "execution_count": 28,
     "metadata": {},
     "output_type": "execute_result"
    }
   ],
   "source": [
    "def area(*length,width):   #default argument is width\n",
    "    print(length)\n",
    "    print(width)\n",
    "    return length*width\n",
    "area(9,67,width=3)"
   ]
  },
  {
   "cell_type": "code",
   "execution_count": 36,
   "id": "941ce6aa",
   "metadata": {},
   "outputs": [
    {
     "data": {
      "text/plain": [
       "{'names': ('Hari', 'yash', 5)}"
      ]
     },
     "execution_count": 36,
     "metadata": {},
     "output_type": "execute_result"
    }
   ],
   "source": [
    "def names(**names):\n",
    "    return names\n",
    "names(names=(\"Hari\",\"yash\",5))"
   ]
  },
  {
   "cell_type": "code",
   "execution_count": 5,
   "id": "cafadb74",
   "metadata": {},
   "outputs": [
    {
     "name": "stdout",
     "output_type": "stream",
     "text": [
      "('yash', 'hari', 'kausthav')\n",
      "1\n",
      "('yash', 'hari', 'kausthav')\n"
     ]
    }
   ],
   "source": [
    "names=(\"yash\",\"hari\",\"kausthav\")\n",
    "print(names)\n",
    "print(names.count(\"yash\"))\n",
    "print(names[0:3])"
   ]
  },
  {
   "cell_type": "code",
   "execution_count": 6,
   "id": "7b869b76",
   "metadata": {},
   "outputs": [
    {
     "data": {
      "text/plain": [
       "{1, 2, 3, 45, 67}"
      ]
     },
     "execution_count": 6,
     "metadata": {},
     "output_type": "execute_result"
    }
   ],
   "source": [
    "set({1,2,3,45,67})"
   ]
  },
  {
   "cell_type": "code",
   "execution_count": 10,
   "id": "199e8805",
   "metadata": {},
   "outputs": [
    {
     "data": {
      "text/plain": [
       "set"
      ]
     },
     "execution_count": 10,
     "metadata": {},
     "output_type": "execute_result"
    }
   ],
   "source": [
    "a={}\n",
    "type(a)"
   ]
  },
  {
   "cell_type": "code",
   "execution_count": 3,
   "id": "b7176ef8",
   "metadata": {},
   "outputs": [
    {
     "data": {
      "text/plain": [
       "True"
      ]
     },
     "execution_count": 3,
     "metadata": {},
     "output_type": "execute_result"
    }
   ],
   "source": [
    "a=256\n",
    "b= 256\n",
    "a is b\n",
    "#"
   ]
  },
  {
   "cell_type": "code",
   "execution_count": 4,
   "id": "897408f3",
   "metadata": {},
   "outputs": [
    {
     "name": "stdout",
     "output_type": "stream",
     "text": [
      "Help on class list in module builtins:\n",
      "\n",
      "class list(object)\n",
      " |  list(iterable=(), /)\n",
      " |  \n",
      " |  Built-in mutable sequence.\n",
      " |  \n",
      " |  If no argument is given, the constructor creates a new empty list.\n",
      " |  The argument must be an iterable if specified.\n",
      " |  \n",
      " |  Methods defined here:\n",
      " |  \n",
      " |  __add__(self, value, /)\n",
      " |      Return self+value.\n",
      " |  \n",
      " |  __contains__(self, key, /)\n",
      " |      Return key in self.\n",
      " |  \n",
      " |  __delitem__(self, key, /)\n",
      " |      Delete self[key].\n",
      " |  \n",
      " |  __eq__(self, value, /)\n",
      " |      Return self==value.\n",
      " |  \n",
      " |  __ge__(self, value, /)\n",
      " |      Return self>=value.\n",
      " |  \n",
      " |  __getattribute__(self, name, /)\n",
      " |      Return getattr(self, name).\n",
      " |  \n",
      " |  __getitem__(...)\n",
      " |      x.__getitem__(y) <==> x[y]\n",
      " |  \n",
      " |  __gt__(self, value, /)\n",
      " |      Return self>value.\n",
      " |  \n",
      " |  __iadd__(self, value, /)\n",
      " |      Implement self+=value.\n",
      " |  \n",
      " |  __imul__(self, value, /)\n",
      " |      Implement self*=value.\n",
      " |  \n",
      " |  __init__(self, /, *args, **kwargs)\n",
      " |      Initialize self.  See help(type(self)) for accurate signature.\n",
      " |  \n",
      " |  __iter__(self, /)\n",
      " |      Implement iter(self).\n",
      " |  \n",
      " |  __le__(self, value, /)\n",
      " |      Return self<=value.\n",
      " |  \n",
      " |  __len__(self, /)\n",
      " |      Return len(self).\n",
      " |  \n",
      " |  __lt__(self, value, /)\n",
      " |      Return self<value.\n",
      " |  \n",
      " |  __mul__(self, value, /)\n",
      " |      Return self*value.\n",
      " |  \n",
      " |  __ne__(self, value, /)\n",
      " |      Return self!=value.\n",
      " |  \n",
      " |  __repr__(self, /)\n",
      " |      Return repr(self).\n",
      " |  \n",
      " |  __reversed__(self, /)\n",
      " |      Return a reverse iterator over the list.\n",
      " |  \n",
      " |  __rmul__(self, value, /)\n",
      " |      Return value*self.\n",
      " |  \n",
      " |  __setitem__(self, key, value, /)\n",
      " |      Set self[key] to value.\n",
      " |  \n",
      " |  __sizeof__(self, /)\n",
      " |      Return the size of the list in memory, in bytes.\n",
      " |  \n",
      " |  append(self, object, /)\n",
      " |      Append object to the end of the list.\n",
      " |  \n",
      " |  clear(self, /)\n",
      " |      Remove all items from list.\n",
      " |  \n",
      " |  copy(self, /)\n",
      " |      Return a shallow copy of the list.\n",
      " |  \n",
      " |  count(self, value, /)\n",
      " |      Return number of occurrences of value.\n",
      " |  \n",
      " |  extend(self, iterable, /)\n",
      " |      Extend list by appending elements from the iterable.\n",
      " |  \n",
      " |  index(self, value, start=0, stop=9223372036854775807, /)\n",
      " |      Return first index of value.\n",
      " |      \n",
      " |      Raises ValueError if the value is not present.\n",
      " |  \n",
      " |  insert(self, index, object, /)\n",
      " |      Insert object before index.\n",
      " |  \n",
      " |  pop(self, index=-1, /)\n",
      " |      Remove and return item at index (default last).\n",
      " |      \n",
      " |      Raises IndexError if list is empty or index is out of range.\n",
      " |  \n",
      " |  remove(self, value, /)\n",
      " |      Remove first occurrence of value.\n",
      " |      \n",
      " |      Raises ValueError if the value is not present.\n",
      " |  \n",
      " |  reverse(self, /)\n",
      " |      Reverse *IN PLACE*.\n",
      " |  \n",
      " |  sort(self, /, *, key=None, reverse=False)\n",
      " |      Sort the list in ascending order and return None.\n",
      " |      \n",
      " |      The sort is in-place (i.e. the list itself is modified) and stable (i.e. the\n",
      " |      order of two equal elements is maintained).\n",
      " |      \n",
      " |      If a key function is given, apply it once to each list item and sort them,\n",
      " |      ascending or descending, according to their function values.\n",
      " |      \n",
      " |      The reverse flag can be set to sort in descending order.\n",
      " |  \n",
      " |  ----------------------------------------------------------------------\n",
      " |  Class methods defined here:\n",
      " |  \n",
      " |  __class_getitem__(...) from builtins.type\n",
      " |      See PEP 585\n",
      " |  \n",
      " |  ----------------------------------------------------------------------\n",
      " |  Static methods defined here:\n",
      " |  \n",
      " |  __new__(*args, **kwargs) from builtins.type\n",
      " |      Create and return a new object.  See help(type) for accurate signature.\n",
      " |  \n",
      " |  ----------------------------------------------------------------------\n",
      " |  Data and other attributes defined here:\n",
      " |  \n",
      " |  __hash__ = None\n",
      "\n"
     ]
    }
   ],
   "source": [
    "help(list)"
   ]
  },
  {
   "cell_type": "code",
   "execution_count": 12,
   "id": "2d8f6f5b",
   "metadata": {},
   "outputs": [
    {
     "data": {
      "text/plain": [
       "0.0007040097949188857"
      ]
     },
     "execution_count": 12,
     "metadata": {},
     "output_type": "execute_result"
    }
   ],
   "source": [
    "from functools import reduce\n",
    "list1=[23,45,33,22]\n",
    "def div(num1,num2):\n",
    "    return num1 / num2\n",
    "reduce(div,list1)"
   ]
  },
  {
   "cell_type": "code",
   "execution_count": 13,
   "id": "c8e832b6",
   "metadata": {},
   "outputs": [
    {
     "name": "stdout",
     "output_type": "stream",
     "text": [
      "12167\n",
      "91125\n",
      "35937\n",
      "10648\n"
     ]
    }
   ],
   "source": [
    "list1=[23,45,33,22]\n",
    "for i in list1:\n",
    "    print(i**3)"
   ]
  },
  {
   "cell_type": "code",
   "execution_count": 11,
   "id": "1dae14b4",
   "metadata": {},
   "outputs": [
    {
     "data": {
      "text/plain": [
       "['even']"
      ]
     },
     "execution_count": 11,
     "metadata": {},
     "output_type": "execute_result"
    }
   ],
   "source": [
    "num=4\n",
    "[\"even\" if num % 2 == 0 else \"odd\" ]"
   ]
  },
  {
   "cell_type": "code",
   "execution_count": 14,
   "id": "c39f4711",
   "metadata": {},
   "outputs": [
    {
     "name": "stdout",
     "output_type": "stream",
     "text": [
      "[1, 2, 3, 4, 5, 6, 7, 8, 9, 10, 11, 12, 13, 14, 15, 16, 17, 18, 19, 20, 21, 22, 23, 24, 25, 26, 27, 28, 29, 30, 31, 32, 33, 34, 35, 36, 37, 38, 39, 40, 41, 42, 43, 44, 45, 46, 47, 48, 49, 50]\n"
     ]
    }
   ],
   "source": [
    "list1=list(range(1,51))\n",
    "print(list1)"
   ]
  },
  {
   "cell_type": "code",
   "execution_count": 16,
   "id": "10d8f841",
   "metadata": {},
   "outputs": [
    {
     "data": {
      "text/plain": [
       "['odd',\n",
       " 'even',\n",
       " 'odd',\n",
       " 'even',\n",
       " 'odd',\n",
       " 'even',\n",
       " 'odd',\n",
       " 'even',\n",
       " 'odd',\n",
       " 'even',\n",
       " 'odd',\n",
       " 'even',\n",
       " 'odd',\n",
       " 'even',\n",
       " 'odd',\n",
       " 'even',\n",
       " 'odd',\n",
       " 'even',\n",
       " 'odd',\n",
       " 'even',\n",
       " 'odd',\n",
       " 'even',\n",
       " 'odd',\n",
       " 'even',\n",
       " 'odd',\n",
       " 'even',\n",
       " 'odd',\n",
       " 'even',\n",
       " 'odd',\n",
       " 'even',\n",
       " 'odd',\n",
       " 'even',\n",
       " 'odd',\n",
       " 'even',\n",
       " 'odd',\n",
       " 'even',\n",
       " 'odd',\n",
       " 'even',\n",
       " 'odd',\n",
       " 'even',\n",
       " 'odd',\n",
       " 'even',\n",
       " 'odd',\n",
       " 'even',\n",
       " 'odd',\n",
       " 'even',\n",
       " 'odd',\n",
       " 'even',\n",
       " 'odd',\n",
       " 'even']"
      ]
     },
     "execution_count": 16,
     "metadata": {},
     "output_type": "execute_result"
    }
   ],
   "source": [
    "[\"even\" if element % 2 == 0 else \"odd\" for element in list1]"
   ]
  },
  {
   "cell_type": "code",
   "execution_count": 1,
   "id": "6582de71",
   "metadata": {},
   "outputs": [
    {
     "name": "stdout",
     "output_type": "stream",
     "text": [
      "1\n",
      "2\n",
      "3\n",
      "4\n",
      "5\n",
      "6\n",
      "7\n",
      "8\n",
      "9\n"
     ]
    }
   ],
   "source": [
    "a=1\n",
    "b=10\n",
    "for datapoint in range(a,b):\n",
    "    print(datapoint)"
   ]
  },
  {
   "cell_type": "code",
   "execution_count": 2,
   "id": "51d535e5",
   "metadata": {},
   "outputs": [
    {
     "name": "stdout",
     "output_type": "stream",
     "text": [
      "2.5\n",
      "2\n"
     ]
    }
   ],
   "source": [
    "a=5\n",
    "b=2\n",
    "print(a/b)\n",
    "print(a//b)"
   ]
  },
  {
   "cell_type": "code",
   "execution_count": 3,
   "id": "25d486bc",
   "metadata": {},
   "outputs": [
    {
     "name": "stdout",
     "output_type": "stream",
     "text": [
      "[6, 2, 3, 4]\n"
     ]
    }
   ],
   "source": [
    "a=[1,2,3,4]\n",
    "a[0]=6\n",
    "print(a)"
   ]
  },
  {
   "cell_type": "code",
   "execution_count": 5,
   "id": "4811de21",
   "metadata": {},
   "outputs": [
    {
     "ename": "TypeError",
     "evalue": "'tuple' object does not support item assignment",
     "output_type": "error",
     "traceback": [
      "\u001b[1;31m---------------------------------------------------------------------------\u001b[0m",
      "\u001b[1;31mTypeError\u001b[0m                                 Traceback (most recent call last)",
      "Cell \u001b[1;32mIn[5], line 2\u001b[0m\n\u001b[0;32m      1\u001b[0m b\u001b[38;5;241m=\u001b[39m(\u001b[38;5;241m1\u001b[39m,\u001b[38;5;241m2\u001b[39m,\u001b[38;5;241m3\u001b[39m,\u001b[38;5;241m4\u001b[39m)\n\u001b[1;32m----> 2\u001b[0m b[\u001b[38;5;241m0\u001b[39m]\u001b[38;5;241m=\u001b[39m\u001b[38;5;241m6\u001b[39m\n\u001b[0;32m      3\u001b[0m \u001b[38;5;28mprint\u001b[39m(b)\n",
      "\u001b[1;31mTypeError\u001b[0m: 'tuple' object does not support item assignment"
     ]
    }
   ],
   "source": [
    "b=(1,2,3,4)\n",
    "b[0]=6\n",
    "print(b)"
   ]
  },
  {
   "cell_type": "code",
   "execution_count": null,
   "id": "aca7747f",
   "metadata": {},
   "outputs": [],
   "source": [
    "class father:\n",
    "    \n",
    "    \n"
   ]
  },
  {
   "cell_type": "code",
   "execution_count": 13,
   "id": "3262a02b",
   "metadata": {},
   "outputs": [],
   "source": [
    "def hari(l):\n",
    "    sum=0\n",
    "    for datapoint in l:\n",
    "        sum = sum + datapoint\n",
    "    print(sum)\n",
    "l=[1,2,3,4]    "
   ]
  },
  {
   "cell_type": "code",
   "execution_count": 14,
   "id": "b41d3b2f",
   "metadata": {},
   "outputs": [
    {
     "name": "stdout",
     "output_type": "stream",
     "text": [
      "10\n"
     ]
    }
   ],
   "source": [
    "hari(l)"
   ]
  },
  {
   "cell_type": "code",
   "execution_count": 29,
   "id": "346b2f4e",
   "metadata": {},
   "outputs": [
    {
     "data": {
      "text/plain": [
       "20"
      ]
     },
     "execution_count": 29,
     "metadata": {},
     "output_type": "execute_result"
    }
   ],
   "source": [
    "dict1={\"name\":\"harichandan\",\"age\":20}\n",
    "dict1.get(\"age\")\n",
    "dict1[\"age\"]"
   ]
  },
  {
   "cell_type": "code",
   "execution_count": 30,
   "id": "46b30633",
   "metadata": {},
   "outputs": [
    {
     "data": {
      "text/plain": [
       "20"
      ]
     },
     "execution_count": 30,
     "metadata": {},
     "output_type": "execute_result"
    }
   ],
   "source": [
    "dict1[\"age\"]"
   ]
  },
  {
   "cell_type": "code",
   "execution_count": 21,
   "id": "5403e835",
   "metadata": {},
   "outputs": [
    {
     "data": {
      "text/plain": [
       "[7.8, 'hari', 3, 2, 1]"
      ]
     },
     "execution_count": 21,
     "metadata": {},
     "output_type": "execute_result"
    }
   ],
   "source": [
    "a=[1,2,3,\"hari\",7.8]\n",
    "a[::-1]"
   ]
  },
  {
   "cell_type": "code",
   "execution_count": 22,
   "id": "7f83c645",
   "metadata": {},
   "outputs": [
    {
     "name": "stdout",
     "output_type": "stream",
     "text": [
      "2 i is even\n",
      "4 i is even\n",
      "6 i is even\n",
      "8 i is even\n",
      "10 i is even\n",
      "12 i is even\n",
      "14 i is even\n",
      "16 i is even\n",
      "18 i is even\n",
      "20 i is even\n",
      "22 i is even\n",
      "24 i is even\n",
      "26 i is even\n",
      "28 i is even\n",
      "30 i is even\n",
      "32 i is even\n",
      "34 i is even\n",
      "36 i is even\n",
      "38 i is even\n",
      "40 i is even\n",
      "42 i is even\n",
      "44 i is even\n",
      "46 i is even\n",
      "48 i is even\n",
      "50 i is even\n",
      "52 i is even\n",
      "54 i is even\n",
      "56 i is even\n",
      "58 i is even\n",
      "60 i is even\n",
      "62 i is even\n",
      "64 i is even\n",
      "66 i is even\n",
      "68 i is even\n",
      "70 i is even\n",
      "72 i is even\n",
      "74 i is even\n",
      "76 i is even\n",
      "78 i is even\n",
      "80 i is even\n",
      "82 i is even\n",
      "84 i is even\n",
      "86 i is even\n",
      "88 i is even\n",
      "90 i is even\n",
      "92 i is even\n",
      "94 i is even\n",
      "96 i is even\n",
      "98 i is even\n",
      "100 i is even\n"
     ]
    }
   ],
   "source": [
    "for i in range(1,101):\n",
    "    if i % 2 == 0:\n",
    "        print(i,\"i is even\")"
   ]
  },
  {
   "cell_type": "code",
   "execution_count": 6,
   "id": "e49bb9e2",
   "metadata": {},
   "outputs": [
    {
     "ename": "NameError",
     "evalue": "name 'name' is not defined",
     "output_type": "error",
     "traceback": [
      "\u001b[1;31m---------------------------------------------------------------------------\u001b[0m",
      "\u001b[1;31mNameError\u001b[0m                                 Traceback (most recent call last)",
      "Cell \u001b[1;32mIn[6], line 1\u001b[0m\n\u001b[1;32m----> 1\u001b[0m name()\n",
      "\u001b[1;31mNameError\u001b[0m: name 'name' is not defined"
     ]
    }
   ],
   "source": [
    "name()"
   ]
  },
  {
   "cell_type": "code",
   "execution_count": 27,
   "id": "feceea9b",
   "metadata": {},
   "outputs": [
    {
     "data": {
      "text/plain": [
       "['odd',\n",
       " 'even',\n",
       " 'odd',\n",
       " 'even',\n",
       " 'odd',\n",
       " 'even',\n",
       " 'odd',\n",
       " 'even',\n",
       " 'odd',\n",
       " 'even',\n",
       " 'odd',\n",
       " 'even',\n",
       " 'odd',\n",
       " 'even',\n",
       " 'odd',\n",
       " 'even',\n",
       " 'odd',\n",
       " 'even',\n",
       " 'odd',\n",
       " 'even',\n",
       " 'odd',\n",
       " 'even',\n",
       " 'odd',\n",
       " 'even',\n",
       " 'odd',\n",
       " 'even',\n",
       " 'odd',\n",
       " 'even',\n",
       " 'odd',\n",
       " 'even',\n",
       " 'odd',\n",
       " 'even',\n",
       " 'odd',\n",
       " 'even',\n",
       " 'odd',\n",
       " 'even',\n",
       " 'odd',\n",
       " 'even',\n",
       " 'odd',\n",
       " 'even',\n",
       " 'odd',\n",
       " 'even',\n",
       " 'odd',\n",
       " 'even',\n",
       " 'odd',\n",
       " 'even',\n",
       " 'odd',\n",
       " 'even',\n",
       " 'odd',\n",
       " 'even',\n",
       " 'odd',\n",
       " 'even',\n",
       " 'odd',\n",
       " 'even',\n",
       " 'odd',\n",
       " 'even',\n",
       " 'odd',\n",
       " 'even',\n",
       " 'odd',\n",
       " 'even',\n",
       " 'odd',\n",
       " 'even',\n",
       " 'odd',\n",
       " 'even',\n",
       " 'odd',\n",
       " 'even',\n",
       " 'odd',\n",
       " 'even',\n",
       " 'odd',\n",
       " 'even',\n",
       " 'odd',\n",
       " 'even',\n",
       " 'odd',\n",
       " 'even',\n",
       " 'odd',\n",
       " 'even',\n",
       " 'odd',\n",
       " 'even',\n",
       " 'odd',\n",
       " 'even',\n",
       " 'odd',\n",
       " 'even',\n",
       " 'odd',\n",
       " 'even',\n",
       " 'odd',\n",
       " 'even',\n",
       " 'odd',\n",
       " 'even',\n",
       " 'odd',\n",
       " 'even',\n",
       " 'odd',\n",
       " 'even',\n",
       " 'odd',\n",
       " 'even',\n",
       " 'odd',\n",
       " 'even',\n",
       " 'odd',\n",
       " 'even',\n",
       " 'odd']"
      ]
     },
     "execution_count": 27,
     "metadata": {},
     "output_type": "execute_result"
    }
   ],
   "source": [
    "num = list(range(1,100))\n",
    "num\n",
    "[\"even\" if i % 2 == 0 else \"odd\" for i in num ]"
   ]
  },
  {
   "cell_type": "markdown",
   "id": "c83e3f17",
   "metadata": {},
   "source": [
    "#### 4/9/24"
   ]
  },
  {
   "cell_type": "code",
   "execution_count": 35,
   "id": "0f08a11a",
   "metadata": {},
   "outputs": [
    {
     "data": {
      "text/plain": [
       "'hari'"
      ]
     },
     "execution_count": 35,
     "metadata": {},
     "output_type": "execute_result"
    }
   ],
   "source": [
    "dict1={1:\"hari\",2:\"chsnd\",3:\"4\"}\n",
    "dict1[1]"
   ]
  },
  {
   "cell_type": "code",
   "execution_count": 36,
   "id": "8b89b174",
   "metadata": {},
   "outputs": [
    {
     "data": {
      "text/plain": [
       "'hari'"
      ]
     },
     "execution_count": 36,
     "metadata": {},
     "output_type": "execute_result"
    }
   ],
   "source": [
    "dict1.get(1)"
   ]
  },
  {
   "cell_type": "code",
   "execution_count": 37,
   "id": "2de856a1",
   "metadata": {},
   "outputs": [
    {
     "data": {
      "text/plain": [
       "dict_items([(1, 'hari'), (2, 'chsnd'), (3, '4')])"
      ]
     },
     "execution_count": 37,
     "metadata": {},
     "output_type": "execute_result"
    }
   ],
   "source": [
    "dict1.items()"
   ]
  },
  {
   "cell_type": "code",
   "execution_count": 38,
   "id": "8b0fb997",
   "metadata": {},
   "outputs": [
    {
     "data": {
      "text/plain": [
       "{1: '1111', 2: 'chsnd', 3: '4'}"
      ]
     },
     "execution_count": 38,
     "metadata": {},
     "output_type": "execute_result"
    }
   ],
   "source": [
    "dict1[1]=\"1111\"\n",
    "dict1"
   ]
  },
  {
   "cell_type": "code",
   "execution_count": 39,
   "id": "b9d24838",
   "metadata": {},
   "outputs": [
    {
     "data": {
      "text/plain": [
       "{1: '1111', 2: 'chsnd'}"
      ]
     },
     "execution_count": 39,
     "metadata": {},
     "output_type": "execute_result"
    }
   ],
   "source": [
    "dict1.popitem()\n",
    "dict1"
   ]
  },
  {
   "cell_type": "code",
   "execution_count": 40,
   "id": "e0012c0f",
   "metadata": {},
   "outputs": [
    {
     "data": {
      "text/plain": [
       "{1: '1111', 2: 'chsnd'}"
      ]
     },
     "execution_count": 40,
     "metadata": {},
     "output_type": "execute_result"
    }
   ],
   "source": [
    "dict1"
   ]
  },
  {
   "cell_type": "code",
   "execution_count": 43,
   "id": "8e25127f",
   "metadata": {},
   "outputs": [
    {
     "ename": "NameError",
     "evalue": "name 'dict1' is not defined",
     "output_type": "error",
     "traceback": [
      "\u001b[1;31m---------------------------------------------------------------------------\u001b[0m",
      "\u001b[1;31mNameError\u001b[0m                                 Traceback (most recent call last)",
      "Cell \u001b[1;32mIn[43], line 1\u001b[0m\n\u001b[1;32m----> 1\u001b[0m \u001b[38;5;28;01mdel\u001b[39;00m dict1\n",
      "\u001b[1;31mNameError\u001b[0m: name 'dict1' is not defined"
     ]
    }
   ],
   "source": [
    "del dict1"
   ]
  },
  {
   "cell_type": "code",
   "execution_count": 42,
   "id": "0f1997a6",
   "metadata": {},
   "outputs": [
    {
     "ename": "NameError",
     "evalue": "name 'dict1' is not defined",
     "output_type": "error",
     "traceback": [
      "\u001b[1;31m---------------------------------------------------------------------------\u001b[0m",
      "\u001b[1;31mNameError\u001b[0m                                 Traceback (most recent call last)",
      "Cell \u001b[1;32mIn[42], line 1\u001b[0m\n\u001b[1;32m----> 1\u001b[0m dict1\n",
      "\u001b[1;31mNameError\u001b[0m: name 'dict1' is not defined"
     ]
    }
   ],
   "source": [
    "dict1"
   ]
  },
  {
   "cell_type": "code",
   "execution_count": 47,
   "id": "beedc02e",
   "metadata": {},
   "outputs": [
    {
     "name": "stdout",
     "output_type": "stream",
     "text": [
      "{'a': 1, 'c': 3}\n"
     ]
    }
   ],
   "source": [
    "my_dict = {'a': 1, 'b': 2, 'c': 3}\n",
    "del my_dict['b']\n",
    "print(my_dict) # Output: {'a': 1, 'c': 3}"
   ]
  },
  {
   "cell_type": "code",
   "execution_count": 53,
   "id": "645aa4f1",
   "metadata": {},
   "outputs": [
    {
     "data": {
      "text/plain": [
       "{'hari': 143, 'charan': 234, 'chintu': 342}"
      ]
     },
     "execution_count": 53,
     "metadata": {},
     "output_type": "execute_result"
    }
   ],
   "source": [
    "names=[\"hari\",\"charan\",\"chintu\"]\n",
    "values=[143,234,342]\n",
    "dict(zip(names,values))"
   ]
  },
  {
   "cell_type": "code",
   "execution_count": 54,
   "id": "16fb8a85",
   "metadata": {},
   "outputs": [
    {
     "data": {
      "text/plain": [
       "{('charan', 234), ('chintu', 342), ('hari', 143)}"
      ]
     },
     "execution_count": 54,
     "metadata": {},
     "output_type": "execute_result"
    }
   ],
   "source": [
    "set(zip(names,values))"
   ]
  },
  {
   "cell_type": "code",
   "execution_count": 55,
   "id": "d0776743",
   "metadata": {},
   "outputs": [
    {
     "data": {
      "text/plain": [
       "(('hari', 143), ('charan', 234), ('chintu', 342))"
      ]
     },
     "execution_count": 55,
     "metadata": {},
     "output_type": "execute_result"
    }
   ],
   "source": [
    "tuple(zip(names,values))"
   ]
  },
  {
   "cell_type": "code",
   "execution_count": 56,
   "id": "a967fa66",
   "metadata": {},
   "outputs": [
    {
     "data": {
      "text/plain": [
       "[('hari', 143), ('charan', 234), ('chintu', 342)]"
      ]
     },
     "execution_count": 56,
     "metadata": {},
     "output_type": "execute_result"
    }
   ],
   "source": [
    "list(zip(names,values))"
   ]
  },
  {
   "cell_type": "code",
   "execution_count": 57,
   "id": "32c09fec",
   "metadata": {},
   "outputs": [
    {
     "name": "stdout",
     "output_type": "stream",
     "text": [
      "82\n"
     ]
    }
   ],
   "source": [
    "a=[1,2,34,45]\n",
    "sum=0\n",
    "for i in a:\n",
    "    sum=sum+i\n",
    "print(sum)"
   ]
  },
  {
   "cell_type": "code",
   "execution_count": 58,
   "id": "ca7432bc",
   "metadata": {},
   "outputs": [],
   "source": [
    "def hari():\n",
    "    a=[1,2,34,45]\n",
    "    sum=0\n",
    "    for i in a:\n",
    "        sum=sum+i\n",
    "    print(sum)"
   ]
  },
  {
   "cell_type": "code",
   "execution_count": 59,
   "id": "56939b51",
   "metadata": {},
   "outputs": [
    {
     "name": "stdout",
     "output_type": "stream",
     "text": [
      "82\n"
     ]
    }
   ],
   "source": [
    "hari()"
   ]
  },
  {
   "cell_type": "code",
   "execution_count": 68,
   "id": "7be1c897",
   "metadata": {},
   "outputs": [
    {
     "name": "stdout",
     "output_type": "stream",
     "text": [
      "my name is hari\n"
     ]
    }
   ],
   "source": [
    "def hari():\n",
    "    print(\"my name is chandan\")\n",
    "    print(\"my name is hari\")"
   ]
  },
  {
   "cell_type": "code",
   "execution_count": 70,
   "id": "da94e666",
   "metadata": {},
   "outputs": [
    {
     "name": "stdout",
     "output_type": "stream",
     "text": [
      "my name is chandan\n"
     ]
    }
   ],
   "source": [
    "hari()"
   ]
  },
  {
   "cell_type": "code",
   "execution_count": 90,
   "id": "99f3fb4b",
   "metadata": {},
   "outputs": [
    {
     "data": {
      "text/plain": [
       "16"
      ]
     },
     "execution_count": 90,
     "metadata": {},
     "output_type": "execute_result"
    }
   ],
   "source": [
    "def hari(a,b):\n",
    "    return(a+b)\n",
    "hari(6,b=10) "
   ]
  },
  {
   "cell_type": "code",
   "execution_count": 92,
   "id": "0c090b65",
   "metadata": {},
   "outputs": [
    {
     "ename": "SyntaxError",
     "evalue": "positional argument follows keyword argument (2766717728.py, line 3)",
     "output_type": "error",
     "traceback": [
      "\u001b[1;36m  Cell \u001b[1;32mIn[92], line 3\u001b[1;36m\u001b[0m\n\u001b[1;33m    hari(a=6,10)\u001b[0m\n\u001b[1;37m               ^\u001b[0m\n\u001b[1;31mSyntaxError\u001b[0m\u001b[1;31m:\u001b[0m positional argument follows keyword argument\n"
     ]
    }
   ],
   "source": [
    "def hari(a,b):\n",
    "    return(a+b)\n",
    "hari(a=6,10) #positional argument follows keyword argument"
   ]
  },
  {
   "cell_type": "code",
   "execution_count": 94,
   "id": "8684dcde",
   "metadata": {},
   "outputs": [
    {
     "data": {
      "text/plain": [
       "'hi'"
      ]
     },
     "execution_count": 94,
     "metadata": {},
     "output_type": "execute_result"
    }
   ],
   "source": [
    "def student():\n",
    "    return \"hello\"\n",
    "def student():\n",
    "    return \"hi\"\n",
    "\n",
    "student()"
   ]
  },
  {
   "cell_type": "code",
   "execution_count": 106,
   "id": "a1bf1359",
   "metadata": {},
   "outputs": [
    {
     "data": {
      "text/plain": [
       "18"
      ]
     },
     "execution_count": 106,
     "metadata": {},
     "output_type": "execute_result"
    }
   ],
   "source": [
    "def hari(b=3,a=6): #default argument means taking inplace of parametre itself\n",
    "    return a*b\n",
    "\n",
    "hari()\n",
    "    "
   ]
  },
  {
   "cell_type": "code",
   "execution_count": 107,
   "id": "f07ec34f",
   "metadata": {},
   "outputs": [
    {
     "name": "stdout",
     "output_type": "stream",
     "text": [
      "1\n",
      "2\n",
      "3\n",
      "4\n",
      "['hdjdbjf']\n",
      "duff\n"
     ]
    }
   ],
   "source": [
    "#variable length arguments assigning n no of arguments use *args\n",
    "def hari(*args):\n",
    "    for arg in args:\n",
    "        print(arg)\n",
    "        \n",
    "hari(1,2,3,4,[\"hdjdbjf\"],(\"duff\"))"
   ]
  },
  {
   "cell_type": "code",
   "execution_count": 115,
   "id": "5a586fc9",
   "metadata": {},
   "outputs": [
    {
     "name": "stdout",
     "output_type": "stream",
     "text": [
      "my name is   naidu\n"
     ]
    }
   ],
   "source": [
    "def chandan(**kwargs):\n",
    "    print(\"my name is   \" + kwargs[\"lname\"])\n",
    "    \n",
    "chandan(fname=\"hari\",lname=\"naidu\")\n"
   ]
  },
  {
   "cell_type": "code",
   "execution_count": 122,
   "id": "15b71296",
   "metadata": {},
   "outputs": [
    {
     "data": {
      "text/plain": [
       "(58, -12)"
      ]
     },
     "execution_count": 122,
     "metadata": {},
     "output_type": "execute_result"
    }
   ],
   "source": [
    "def addsub(x,y):\n",
    "    c=x+y\n",
    "    d=x-y\n",
    "    return(c,d)\n",
    "\n",
    "addsub(23,35)"
   ]
  },
  {
   "cell_type": "code",
   "execution_count": 133,
   "id": "dcabefda",
   "metadata": {},
   "outputs": [
    {
     "name": "stdout",
     "output_type": "stream",
     "text": [
      "{'a': 'hari', 'b': 'chintu'}\n",
      "\n",
      "elements in side the keyword arguments\n",
      "('a', 'hari')\n",
      "('b', 'chintu')\n"
     ]
    }
   ],
   "source": [
    "def function(**kwargs):\n",
    "    print(kwargs)\n",
    "    \n",
    "    print()\n",
    "    print(\"elements in side the keyword arguments\")\n",
    "    for i in kwargs.items():\n",
    "        print(i)\n",
    "        \n",
    "function(a=\"hari\",b=\"chintu\")"
   ]
  },
  {
   "cell_type": "code",
   "execution_count": 136,
   "id": "0f5d054e",
   "metadata": {},
   "outputs": [
    {
     "data": {
      "text/plain": [
       "8"
      ]
     },
     "execution_count": 136,
     "metadata": {},
     "output_type": "execute_result"
    }
   ],
   "source": [
    "def func(a, b=2, c=3):\n",
    "    return a + b + c\n",
    "\n",
    "func(1,c=5)\n"
   ]
  },
  {
   "cell_type": "code",
   "execution_count": 143,
   "id": "91d5a82b",
   "metadata": {},
   "outputs": [
    {
     "name": "stdout",
     "output_type": "stream",
     "text": [
      "120\n"
     ]
    }
   ],
   "source": [
    "def func(*args):\n",
    "    sum=1\n",
    "    for i in args:\n",
    "        sum=sum*i\n",
    "    print(sum)\n",
    "\n",
    "func(2, 3, 4, 5)\n"
   ]
  },
  {
   "cell_type": "code",
   "execution_count": 147,
   "id": "a5f1b6e9",
   "metadata": {},
   "outputs": [
    {
     "name": "stdout",
     "output_type": "stream",
     "text": [
      "enter a number7\n",
      "5040\n"
     ]
    }
   ],
   "source": [
    "mul=1\n",
    "num=int(input(\"enter a number\"))\n",
    "for i in range(1,num+1):\n",
    "    mul=mul*i\n",
    "print(mul)"
   ]
  },
  {
   "cell_type": "code",
   "execution_count": 151,
   "id": "3c7c71c8",
   "metadata": {},
   "outputs": [
    {
     "name": "stdout",
     "output_type": "stream",
     "text": [
      "(2, 3, 4, 5, 6)\n",
      "20\n"
     ]
    }
   ],
   "source": [
    "def summation(*args):\n",
    "    print(args)\n",
    "    sum=0\n",
    "    for i in args:\n",
    "        sum=sum+i\n",
    "    print(sum)\n",
    "summation(2,3,4,5,6)"
   ]
  },
  {
   "cell_type": "code",
   "execution_count": null,
   "id": "2f382632",
   "metadata": {},
   "outputs": [],
   "source": []
  },
  {
   "cell_type": "code",
   "execution_count": 1,
   "id": "dcb156f9",
   "metadata": {},
   "outputs": [
    {
     "data": {
      "text/plain": [
       "5040"
      ]
     },
     "execution_count": 1,
     "metadata": {},
     "output_type": "execute_result"
    }
   ],
   "source": [
    "def factorial(num):\n",
    "    if num == 0 or num == 1:\n",
    "        return 1\n",
    "    else:\n",
    "        return num*factorial(num-1)\n",
    "    \n",
    "factorial(7)"
   ]
  },
  {
   "cell_type": "code",
   "execution_count": 9,
   "id": "e556a788",
   "metadata": {},
   "outputs": [
    {
     "name": "stdout",
     "output_type": "stream",
     "text": [
      "(5, -3)\n"
     ]
    }
   ],
   "source": [
    "def add_sub(a,b):\n",
    "    c=a+b\n",
    "    d=a-b\n",
    "    return c,d\n",
    "print(add_sub(1,4))"
   ]
  },
  {
   "cell_type": "code",
   "execution_count": null,
   "id": "3abb73aa",
   "metadata": {},
   "outputs": [],
   "source": []
  },
  {
   "cell_type": "code",
   "execution_count": null,
   "id": "63611e49",
   "metadata": {},
   "outputs": [],
   "source": []
  },
  {
   "cell_type": "code",
   "execution_count": null,
   "id": "ecf3655d",
   "metadata": {},
   "outputs": [],
   "source": []
  },
  {
   "cell_type": "code",
   "execution_count": null,
   "id": "b3a17360",
   "metadata": {},
   "outputs": [],
   "source": []
  },
  {
   "cell_type": "code",
   "execution_count": null,
   "id": "1fef9a2d",
   "metadata": {},
   "outputs": [],
   "source": []
  },
  {
   "cell_type": "code",
   "execution_count": null,
   "id": "9b5986b3",
   "metadata": {},
   "outputs": [],
   "source": []
  },
  {
   "cell_type": "code",
   "execution_count": null,
   "id": "11bcb197",
   "metadata": {},
   "outputs": [],
   "source": []
  },
  {
   "cell_type": "code",
   "execution_count": null,
   "id": "66b59f52",
   "metadata": {},
   "outputs": [],
   "source": []
  },
  {
   "cell_type": "code",
   "execution_count": null,
   "id": "47c9f4c2",
   "metadata": {},
   "outputs": [],
   "source": []
  },
  {
   "cell_type": "code",
   "execution_count": null,
   "id": "4e5d7c2c",
   "metadata": {},
   "outputs": [],
   "source": []
  },
  {
   "cell_type": "code",
   "execution_count": null,
   "id": "6ca4f1e1",
   "metadata": {},
   "outputs": [],
   "source": []
  },
  {
   "cell_type": "code",
   "execution_count": null,
   "id": "fcc58131",
   "metadata": {},
   "outputs": [],
   "source": []
  },
  {
   "cell_type": "code",
   "execution_count": null,
   "id": "2e2a3c0f",
   "metadata": {},
   "outputs": [],
   "source": []
  },
  {
   "cell_type": "code",
   "execution_count": null,
   "id": "c26c5869",
   "metadata": {},
   "outputs": [],
   "source": []
  },
  {
   "cell_type": "code",
   "execution_count": null,
   "id": "49c371d6",
   "metadata": {},
   "outputs": [],
   "source": []
  },
  {
   "cell_type": "code",
   "execution_count": null,
   "id": "429790cc",
   "metadata": {},
   "outputs": [],
   "source": []
  },
  {
   "cell_type": "code",
   "execution_count": null,
   "id": "d03eae71",
   "metadata": {},
   "outputs": [],
   "source": []
  },
  {
   "cell_type": "code",
   "execution_count": null,
   "id": "649696c1",
   "metadata": {},
   "outputs": [],
   "source": []
  },
  {
   "cell_type": "code",
   "execution_count": null,
   "id": "878d0259",
   "metadata": {},
   "outputs": [],
   "source": []
  },
  {
   "cell_type": "code",
   "execution_count": null,
   "id": "6064367f",
   "metadata": {},
   "outputs": [],
   "source": []
  },
  {
   "cell_type": "code",
   "execution_count": null,
   "id": "d1743edb",
   "metadata": {},
   "outputs": [],
   "source": []
  },
  {
   "cell_type": "code",
   "execution_count": null,
   "id": "a165cd55",
   "metadata": {},
   "outputs": [],
   "source": []
  },
  {
   "cell_type": "code",
   "execution_count": null,
   "id": "82ede179",
   "metadata": {},
   "outputs": [],
   "source": []
  },
  {
   "cell_type": "code",
   "execution_count": null,
   "id": "43034730",
   "metadata": {},
   "outputs": [],
   "source": []
  },
  {
   "cell_type": "code",
   "execution_count": null,
   "id": "40c4aed9",
   "metadata": {},
   "outputs": [],
   "source": []
  },
  {
   "cell_type": "code",
   "execution_count": null,
   "id": "cf9c87c9",
   "metadata": {},
   "outputs": [],
   "source": []
  },
  {
   "cell_type": "code",
   "execution_count": null,
   "id": "4ed35f82",
   "metadata": {},
   "outputs": [],
   "source": []
  },
  {
   "cell_type": "code",
   "execution_count": null,
   "id": "a67f30aa",
   "metadata": {},
   "outputs": [],
   "source": []
  },
  {
   "cell_type": "code",
   "execution_count": null,
   "id": "67834e53",
   "metadata": {},
   "outputs": [],
   "source": []
  },
  {
   "cell_type": "code",
   "execution_count": null,
   "id": "4337c717",
   "metadata": {},
   "outputs": [],
   "source": []
  },
  {
   "cell_type": "code",
   "execution_count": null,
   "id": "ebd7d534",
   "metadata": {},
   "outputs": [],
   "source": []
  },
  {
   "cell_type": "code",
   "execution_count": null,
   "id": "48f094cc",
   "metadata": {},
   "outputs": [],
   "source": []
  },
  {
   "cell_type": "code",
   "execution_count": null,
   "id": "3c2a2905",
   "metadata": {},
   "outputs": [],
   "source": []
  },
  {
   "cell_type": "code",
   "execution_count": null,
   "id": "25c752b6",
   "metadata": {},
   "outputs": [],
   "source": []
  },
  {
   "cell_type": "code",
   "execution_count": null,
   "id": "c9694e90",
   "metadata": {},
   "outputs": [],
   "source": []
  },
  {
   "cell_type": "code",
   "execution_count": null,
   "id": "c300abe4",
   "metadata": {},
   "outputs": [],
   "source": []
  },
  {
   "cell_type": "code",
   "execution_count": null,
   "id": "04f9adb6",
   "metadata": {},
   "outputs": [],
   "source": []
  },
  {
   "cell_type": "code",
   "execution_count": null,
   "id": "7bba15ff",
   "metadata": {},
   "outputs": [],
   "source": []
  },
  {
   "cell_type": "code",
   "execution_count": null,
   "id": "676afd82",
   "metadata": {},
   "outputs": [],
   "source": []
  },
  {
   "cell_type": "code",
   "execution_count": null,
   "id": "66407f8c",
   "metadata": {},
   "outputs": [],
   "source": []
  },
  {
   "cell_type": "code",
   "execution_count": null,
   "id": "01b0c2d8",
   "metadata": {},
   "outputs": [],
   "source": []
  },
  {
   "cell_type": "code",
   "execution_count": null,
   "id": "1655529a",
   "metadata": {},
   "outputs": [],
   "source": []
  },
  {
   "cell_type": "code",
   "execution_count": null,
   "id": "62c33cfa",
   "metadata": {},
   "outputs": [],
   "source": []
  },
  {
   "cell_type": "code",
   "execution_count": null,
   "id": "4884e520",
   "metadata": {},
   "outputs": [],
   "source": []
  },
  {
   "cell_type": "code",
   "execution_count": null,
   "id": "ee99ac05",
   "metadata": {},
   "outputs": [],
   "source": []
  },
  {
   "cell_type": "code",
   "execution_count": null,
   "id": "20e01bde",
   "metadata": {},
   "outputs": [],
   "source": []
  },
  {
   "cell_type": "code",
   "execution_count": null,
   "id": "b755d84f",
   "metadata": {},
   "outputs": [],
   "source": []
  },
  {
   "cell_type": "code",
   "execution_count": null,
   "id": "09b72715",
   "metadata": {},
   "outputs": [],
   "source": []
  },
  {
   "cell_type": "code",
   "execution_count": null,
   "id": "3d21aa5f",
   "metadata": {},
   "outputs": [],
   "source": []
  },
  {
   "cell_type": "code",
   "execution_count": null,
   "id": "10907a5d",
   "metadata": {},
   "outputs": [],
   "source": []
  }
 ],
 "metadata": {
  "kernelspec": {
   "display_name": "Python 3 (ipykernel)",
   "language": "python",
   "name": "python3"
  },
  "language_info": {
   "codemirror_mode": {
    "name": "ipython",
    "version": 3
   },
   "file_extension": ".py",
   "mimetype": "text/x-python",
   "name": "python",
   "nbconvert_exporter": "python",
   "pygments_lexer": "ipython3",
   "version": "3.11.5"
  }
 },
 "nbformat": 4,
 "nbformat_minor": 5
}
