{
 "cells": [
  {
   "cell_type": "markdown",
   "id": "7cae7a55-2286-4415-8e60-416459d47984",
   "metadata": {},
   "source": [
    "1) Create a class named “Patterns”. Within this class, define three methods. Each method should return a specific pattern when called. For example:\r",
    "   \n",
    "The first method should return the 1st pattern.   \r\n",
    "The second method should return the 2nd pattern   .\r\n",
    "The third method should return the 3rd patn.\r\n",
    "\r\n",
    "\r\n",
    " 1st pattern           1\r\n",
    "                       2 3\r\n",
    "                       4 5 6\r\n",
    "                       7 8 9 10\r\n",
    "                       11 12 13 14 15\r\n",
    "\r\n",
    "2nd patter        1        1\r\n",
    "                         1 2 1\r\n",
    "                      1 2 3 2 1\r\n",
    "                    1 2 3 4 3 2 1\r\n",
    "                  1 2 3 4 5 4 3 2 1\r\n",
    "\r\n",
    "3rd pattern        \r\n",
    "                              *\r\n",
    "                              * * *\r\n",
    "                              * * * * *\r\n",
    "                              * * * * * * * \r\n",
    "rn.\r\n"
   ]
  },
  {
   "cell_type": "code",
   "execution_count": 21,
   "id": "bd99b769-9159-437c-a0ce-b0b329449f95",
   "metadata": {},
   "outputs": [],
   "source": [
    "class patterns:\n",
    "  def first_pattern(self,num):# method 1\n",
    "    for i in range(1, 6):\n",
    "      for j in range(i):\n",
    "        print(num,end=\" \")\n",
    "        num=num+1\n",
    "      print()\n",
    "\n",
    "  def second_pattern(self): # method 2\n",
    "    for i in range(1,6):\n",
    "      for k in range(10,i,-1):\n",
    "        print(\" \",end=\" \")\n",
    "      for j in range(1,i+1):\n",
    "        print(j,end=\" \")\n",
    "      for j in range(i-1,0,-1):\n",
    "        print(j,end=\" \")\n",
    "      print()\n",
    "\n",
    "  def third_pattern(self): # method 3\n",
    "    for i in range(1,8):\n",
    "      for j in range(0,i):\n",
    "        print(\"*\",end=\" \")\n",
    "      print()"
   ]
  },
  {
   "cell_type": "code",
   "execution_count": 22,
   "id": "19e42cb8-e1af-49a7-b966-08e156536899",
   "metadata": {},
   "outputs": [
    {
     "name": "stdout",
     "output_type": "stream",
     "text": [
      "first pattern\n",
      "1 \n",
      "2 3 \n",
      "4 5 6 \n",
      "7 8 9 10 \n",
      "11 12 13 14 15 \n",
      "second pattern\n",
      "                  1 \n",
      "                1 2 1 \n",
      "              1 2 3 2 1 \n",
      "            1 2 3 4 3 2 1 \n",
      "          1 2 3 4 5 4 3 2 1 \n",
      "third pattern\n",
      "* \n",
      "* * \n",
      "* * * \n",
      "* * * * \n",
      "* * * * * \n",
      "* * * * * * \n",
      "* * * * * * * \n"
     ]
    }
   ],
   "source": [
    "p1 = patterns()\n",
    "print(\"first pattern\")\n",
    "p1.first_pattern(num=1)\n",
    "print(\"second pattern\")\n",
    "p1.second_pattern()\n",
    "print(\"third pattern\")\n",
    "p1.third_pattern()"
   ]
  },
  {
   "cell_type": "markdown",
   "id": "49bf1bfe-d871-4545-8d20-6c4a9a57edc7",
   "metadata": {},
   "source": [
    "2) Create a class named “your name” . Within this class, define four methods. Each method should return a specific calculation when called. For example:\r",
    "   \n",
    "Fibonacci Sequence: The first method should return the Fibonacci sequence up to a specified number of terms.   \r\n",
    "Armstrong Numbers: The second method should return a list of Armstrong numbers up to a specified limit   .\r\n",
    "Palindrome Numbers: The third method should return a list of palindrome numbers up to a specified limi   t.\r\n",
    "Factorial: The fourth method should return the factorial of a specified number"
   ]
  },
  {
   "cell_type": "code",
   "execution_count": 1,
   "id": "9631ca06-b05a-4598-a788-4d60bad408eb",
   "metadata": {},
   "outputs": [],
   "source": [
    "class your_name:\n",
    "\n",
    "  def fibanocci(self,x):\n",
    "\n",
    "    a = 0\n",
    "\n",
    "    b = 1\n",
    "\n",
    "    for i in range(x):\n",
    "\n",
    "      print(a,end=\" \")\n",
    "\n",
    "      a,b=b,a+b\n",
    "\n",
    "    print()\n",
    "\n",
    "  def armstrong(self,num):\n",
    "\n",
    "    num_str = str(num)\n",
    "\n",
    "    num_len = len(num_str)\n",
    "\n",
    "    armstrong_sum = 0\n",
    "\n",
    "    for i in num_str:\n",
    "\n",
    "      armstrong_sum+=int(i)**num_len\n",
    "\n",
    "    if armstrong_sum==num:\n",
    "\n",
    "      return(\"It's a armstrong number\")\n",
    "\n",
    "    else:\n",
    "\n",
    "      return(\"It's not an armstrong number\")\n",
    "\n",
    "\n",
    "  def palindrome(self,name):\n",
    "\n",
    "    reverse = name[::-1]\n",
    "\n",
    "    if name == reverse:\n",
    "\n",
    "      return(\"Palindrome\")\n",
    "\n",
    "    else:\n",
    "\n",
    "      return(\"Not a Palindrome\")\n",
    "\n",
    "  def factorial(self,y):\n",
    "\n",
    "    sum = 1\n",
    "\n",
    "    for i in range(1,y+1):\n",
    "\n",
    "      sum*=i\n",
    "\n",
    "    return(sum)\n",
    "        "
   ]
  },
  {
   "cell_type": "code",
   "execution_count": 2,
   "id": "7bd60513-45a2-4fb4-91eb-572714e88420",
   "metadata": {},
   "outputs": [
    {
     "name": "stdout",
     "output_type": "stream",
     "text": [
      "Fibonacci Series : \n",
      "0 1 1 2 3 5 8 13 \n",
      "None\n"
     ]
    }
   ],
   "source": [
    "obj1 = your_name()\n",
    "print(\"Fibonacci Series : \")\n",
    "print(obj1.fibanocci(8))"
   ]
  },
  {
   "cell_type": "code",
   "execution_count": 3,
   "id": "ad6faa9c-9318-42e4-8d43-5b2b444ceb59",
   "metadata": {},
   "outputs": [
    {
     "name": "stdout",
     "output_type": "stream",
     "text": [
      "Amstrong Number: \n",
      "It's a armstrong number\n"
     ]
    }
   ],
   "source": [
    "print(\"Amstrong Number: \")\n",
    "print(obj1.armstrong(153))"
   ]
  },
  {
   "cell_type": "code",
   "execution_count": 4,
   "id": "eff5da3d-f560-4b5d-8fbe-5898368ed777",
   "metadata": {},
   "outputs": [
    {
     "name": "stdout",
     "output_type": "stream",
     "text": [
      "Amstrong Number: \n",
      "Palindrome\n"
     ]
    }
   ],
   "source": [
    "print(\": \")\n",
    "print(obj1.palindrome(\"madam\"))"
   ]
  },
  {
   "cell_type": "code",
   "execution_count": null,
   "id": "d55e4bfd-3761-4ded-a855-d4a8762f46f9",
   "metadata": {},
   "outputs": [],
   "source": [
    "print(\"Factorial : \")\n",
    "print(obj1.factorial(5))"
   ]
  },
  {
   "cell_type": "code",
   "execution_count": null,
   "id": "b641b436-5480-44a6-b7b3-dc50287c8851",
   "metadata": {},
   "outputs": [],
   "source": []
  },
  {
   "cell_type": "code",
   "execution_count": null,
   "id": "35847b2c-e0a7-4730-b2c4-17cbb5478ba3",
   "metadata": {},
   "outputs": [],
   "source": []
  },
  {
   "cell_type": "code",
   "execution_count": null,
   "id": "18ad061c-936b-41e0-b9de-36f9ccbd4235",
   "metadata": {},
   "outputs": [],
   "source": []
  },
  {
   "cell_type": "code",
   "execution_count": null,
   "id": "c2382b7d-deaf-4656-b320-7a2e368962b4",
   "metadata": {},
   "outputs": [],
   "source": []
  },
  {
   "cell_type": "code",
   "execution_count": null,
   "id": "91cb781d-fc6a-4fd2-9b7e-204dab2330cb",
   "metadata": {},
   "outputs": [],
   "source": []
  },
  {
   "cell_type": "code",
   "execution_count": null,
   "id": "c62b7fda-1a92-471d-81e0-219dfe28b57d",
   "metadata": {},
   "outputs": [],
   "source": []
  },
  {
   "cell_type": "code",
   "execution_count": null,
   "id": "1616cb17-9e26-46c9-8a4e-88d85108227c",
   "metadata": {},
   "outputs": [],
   "source": []
  },
  {
   "cell_type": "code",
   "execution_count": null,
   "id": "c6e1620c-bf87-4912-97e4-5d5da5104875",
   "metadata": {},
   "outputs": [],
   "source": []
  },
  {
   "cell_type": "code",
   "execution_count": null,
   "id": "29282aa0-8862-4b5f-bfe2-3bcde14806f1",
   "metadata": {},
   "outputs": [],
   "source": []
  },
  {
   "cell_type": "code",
   "execution_count": null,
   "id": "323e6756-51cc-4fa9-8e87-20918222c1df",
   "metadata": {},
   "outputs": [],
   "source": []
  },
  {
   "cell_type": "code",
   "execution_count": null,
   "id": "68bb8f19-12ba-470d-9873-238acf03a1ab",
   "metadata": {},
   "outputs": [],
   "source": []
  },
  {
   "cell_type": "code",
   "execution_count": null,
   "id": "27103c84-5aed-4830-9e05-618c296b9f06",
   "metadata": {},
   "outputs": [],
   "source": []
  },
  {
   "cell_type": "code",
   "execution_count": null,
   "id": "6621f1f4-7b64-4bc8-9c78-01cb11d19b3d",
   "metadata": {},
   "outputs": [],
   "source": []
  },
  {
   "cell_type": "code",
   "execution_count": null,
   "id": "49ffc7fa-8e08-46a0-bdbd-28cdbcde3242",
   "metadata": {},
   "outputs": [],
   "source": []
  },
  {
   "cell_type": "code",
   "execution_count": null,
   "id": "8175e5f4-3d1f-4e4b-b1ed-d1ebd53275d6",
   "metadata": {},
   "outputs": [],
   "source": []
  },
  {
   "cell_type": "code",
   "execution_count": null,
   "id": "e6ee7533-9bbf-48d6-b904-5d2bc513c7da",
   "metadata": {},
   "outputs": [],
   "source": []
  },
  {
   "cell_type": "code",
   "execution_count": null,
   "id": "9d82b90e-521a-4856-917a-6e726fd381f4",
   "metadata": {},
   "outputs": [],
   "source": []
  },
  {
   "cell_type": "code",
   "execution_count": null,
   "id": "d6396003-11a4-4501-a38e-821be073c978",
   "metadata": {},
   "outputs": [],
   "source": []
  },
  {
   "cell_type": "code",
   "execution_count": null,
   "id": "cdc125d2-96ff-4767-878a-7270887e7f26",
   "metadata": {},
   "outputs": [],
   "source": []
  },
  {
   "cell_type": "code",
   "execution_count": null,
   "id": "eaaac898-e541-49cb-89c9-103fcadae798",
   "metadata": {},
   "outputs": [],
   "source": []
  },
  {
   "cell_type": "code",
   "execution_count": null,
   "id": "8fc695f8-ca29-4cc9-937d-95c4854724ab",
   "metadata": {},
   "outputs": [],
   "source": []
  },
  {
   "cell_type": "code",
   "execution_count": null,
   "id": "f59633a0-1dbc-409f-a414-e661e790ae86",
   "metadata": {},
   "outputs": [],
   "source": []
  },
  {
   "cell_type": "code",
   "execution_count": null,
   "id": "cb8bd11a-a571-4b0b-8ada-7e51fc516e69",
   "metadata": {},
   "outputs": [],
   "source": []
  },
  {
   "cell_type": "markdown",
   "id": "8a000e53-8a51-4cb4-9750-2645feda4fbd",
   "metadata": {},
   "source": []
  }
 ],
 "metadata": {
  "kernelspec": {
   "display_name": "Python 3 (ipykernel)",
   "language": "python",
   "name": "python3"
  },
  "language_info": {
   "codemirror_mode": {
    "name": "ipython",
    "version": 3
   },
   "file_extension": ".py",
   "mimetype": "text/x-python",
   "name": "python",
   "nbconvert_exporter": "python",
   "pygments_lexer": "ipython3",
   "version": "3.12.4"
  }
 },
 "nbformat": 4,
 "nbformat_minor": 5
}
