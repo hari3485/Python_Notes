{
 "cells": [
  {
   "cell_type": "code",
   "execution_count": null,
   "id": "22370c64",
   "metadata": {},
   "outputs": [],
   "source": [
    "# Flow chart is very very important to write a code.\n",
    "#conditional statements real life exmple VOTING."
   ]
  },
  {
   "cell_type": "code",
   "execution_count": 7,
   "id": "e456fd67",
   "metadata": {},
   "outputs": [
    {
     "name": "stdout",
     "output_type": "stream",
     "text": [
      "enter the age: 2\n"
     ]
    }
   ],
   "source": [
    "age = int(input(\"enter the age: \"))\n",
    "if age >= 18:\n",
    "    print(\"you are eligible to vote\")"
   ]
  },
  {
   "cell_type": "code",
   "execution_count": 14,
   "id": "dc53b0f8",
   "metadata": {},
   "outputs": [
    {
     "name": "stdout",
     "output_type": "stream",
     "text": [
      "enter the marks44\n",
      "enter the marks: 43\n",
      "you have passed the exam: \n"
     ]
    }
   ],
   "source": [
    "marks = int(input(\"enter the marks\")) #assigning dynamically both marks and cutoff marks\n",
    "cutoff = int(input(\"enter the marks: \"))\n",
    "if marks >= cutoff:\n",
    "    print(\"you have passed the exam: \")"
   ]
  },
  {
   "cell_type": "code",
   "execution_count": 18,
   "id": "572f3cf1",
   "metadata": {},
   "outputs": [
    {
     "name": "stdout",
     "output_type": "stream",
     "text": [
      "enter the marks1000\n",
      "enter the marks: 35\n"
     ]
    }
   ],
   "source": [
    "#it should take maximum upto 100marks if marks\n",
    "#exceeds 100 dont print anything\n",
    "marks = int(input(\"enter the marks\")) \n",
    "cutoff = int(input(\"enter the marks: \"))\n",
    "if (marks >= cutoff) and (marks <= 100):\n",
    "    print(\"you have passed the exam: \")"
   ]
  },
  {
   "cell_type": "code",
   "execution_count": 1,
   "id": "9bb338f2",
   "metadata": {},
   "outputs": [
    {
     "name": "stdout",
     "output_type": "stream",
     "text": [
      "enter the marks35\n",
      "enter the marks: 36\n",
      " Congratulations! you have a Backlog See you in Supply\n"
     ]
    }
   ],
   "source": [
    "marks = int(input(\"enter the marks\")) #assigning dynamically both marks and cutoff marks\n",
    "cutoff = int(input(\"enter the marks: \"))\n",
    "if marks >= cutoff:\n",
    "    print(\"You have Passed the exam: \")\n",
    "else:\n",
    "    print(\" Congratulations! you have a Backlog See you in Supply\")"
   ]
  },
  {
   "cell_type": "code",
   "execution_count": 24,
   "id": "f58d4a3b",
   "metadata": {},
   "outputs": [
    {
     "name": "stdout",
     "output_type": "stream",
     "text": [
      "enter a number: -8\n",
      " The number  -8 is Even\n"
     ]
    }
   ],
   "source": [
    "num = int(input(\"enter a number: \"))\n",
    "if num % 2 == 0:\n",
    "    print(f\" The number  {num} is Even\")\n",
    "else:\n",
    "    print(\"the number is Odd\")"
   ]
  },
  {
   "cell_type": "code",
   "execution_count": null,
   "id": "ad97d1d8",
   "metadata": {},
   "outputs": [],
   "source": [
    "num = int(input(\"enter a number: \"))\n",
    "print()"
   ]
  },
  {
   "cell_type": "code",
   "execution_count": 28,
   "id": "65621aab",
   "metadata": {},
   "outputs": [
    {
     "name": "stdout",
     "output_type": "stream",
     "text": [
      "0 is ZERO / WHOLE NUMBER\n"
     ]
    }
   ],
   "source": [
    "#IF & ELIF\n",
    "num = 0\n",
    "if num  == 0:\n",
    "    print(f\"{num} is ZERO / WHOLE NUMBER\")\n",
    "elif num % 0:\n",
    "    print(f\"{num} is EVEN\")\n",
    "else:\n",
    "    print(f\"{num} is ODD\")"
   ]
  },
  {
   "cell_type": "code",
   "execution_count": 5,
   "id": "7b11fa2b",
   "metadata": {},
   "outputs": [
    {
     "name": "stdout",
     "output_type": "stream",
     "text": [
      "enter a number-100\n",
      "-100 is NEGATIVE EVEN\n"
     ]
    }
   ],
   "source": [
    "num = int(input(\"enter a number\"))\n",
    "if num  == 0:\n",
    "    print(f\"{num} is ZERO / WHOLE NUMBER\")\n",
    "elif (num < 0) and (num %2 ==0):\n",
    "    print(f\"{num} is NEGATIVE EVEN\")\n",
    "elif (num > 0) and (num %2 ==0):\n",
    "    print(f\"{num} is POSITIVE EVEN\")\n",
    "elif (num < 0) and (num %2 != 0):\n",
    "    print(f\"{num} is NEGATIVE ODD\") #We can have an ELIF ladder excluding else\n",
    "else:\n",
    "    print(f\"{num} is NEGATIVE ODD\")\n"
   ]
  },
  {
   "cell_type": "code",
   "execution_count": 7,
   "id": "d0d42adc",
   "metadata": {},
   "outputs": [
    {
     "name": "stdout",
     "output_type": "stream",
     "text": [
      "enter the number-45\n",
      "-45 -VE ODD\n"
     ]
    }
   ],
   "source": [
    "#NESTED IF AND ELIF  \n",
    "num = int(input(\"enter the number\"))\n",
    "if num == 0:\n",
    "    print(\"ZERO\")\n",
    "elif num!= 0: ##ODD \n",
    " if num > 0: ##NESTED IF .ELSE STRUCTURE\n",
    "    print(f\"{num} +VE ODD\")\n",
    " else:\n",
    "    print(f\"{num} -VE ODD\")\n",
    "elif num == 0: ##EVEN\n",
    " if num > 0: ##NESTED IF .ELSE STRUCTURE\n",
    "    print(f\"{num} +VE EVEN\")\n",
    " else:\n",
    "    print(f\"{num} -VE EVEN\")"
   ]
  },
  {
   "cell_type": "code",
   "execution_count": 1,
   "id": "cf1cd6db",
   "metadata": {},
   "outputs": [
    {
     "name": "stdout",
     "output_type": "stream",
     "text": [
      "enter the marks: 30\n",
      "enter the marks: 40\n",
      "better luck\n",
      "passed\n"
     ]
    }
   ],
   "source": [
    "marks=int(input(\"enter the marks: \"))\n",
    "cutoff=int(input(\"enter the marks: \"))\n",
    "if marks<cutoff:\n",
    "    print(\"better luck\")\n",
    "if (marks<cutoff) and (marks > 75):\n",
    "    print(\"passed with distinction\")\n",
    "else:\n",
    "    print(\"passed\")\n",
    " \n",
    "    "
   ]
  },
  {
   "cell_type": "code",
   "execution_count": 4,
   "id": "9b1b5358",
   "metadata": {},
   "outputs": [
    {
     "name": "stdout",
     "output_type": "stream",
     "text": [
      "enter the marks: 20\n",
      "enter the marks: 30\n",
      "better luck\n"
     ]
    }
   ],
   "source": [
    "marks=int(input(\"enter the marks: \"))\n",
    "cutoff=int(input(\"enter the marks: \"))\n",
    "if marks<cutoff:\n",
    "    print(\"better luck\")\n",
    "elif (marks<cutoff) and (marks > 75):\n",
    "    print(\"passed with distinction\")\n",
    "else:\n",
    "    print(\"passed\")\n",
    " "
   ]
  },
  {
   "cell_type": "code",
   "execution_count": null,
   "id": "c321a505",
   "metadata": {},
   "outputs": [],
   "source": [
    " #Real world example for while loop QR codes ,  Weather monitoring , adhar numbers \n",
    " #while is a infinite loop"
   ]
  },
  {
   "cell_type": "code",
   "execution_count": 3,
   "id": "cf5912c4",
   "metadata": {},
   "outputs": [
    {
     "name": "stdout",
     "output_type": "stream",
     "text": [
      "1\n",
      "2\n",
      "3\n",
      "4\n",
      "5\n",
      "6\n",
      "7\n",
      "8\n",
      "9\n"
     ]
    }
   ],
   "source": [
    "#Simple while loop and condition\n",
    "num = 1\n",
    "while num < 10:\n",
    "    print(num)\n",
    "    num=num+1 #num+=1 #increment necessary to terminate"
   ]
  },
  {
   "cell_type": "code",
   "execution_count": 5,
   "id": "622e8b15",
   "metadata": {},
   "outputs": [
    {
     "name": "stdout",
     "output_type": "stream",
     "text": [
      "1\n",
      "2\n",
      "3\n",
      "4\n",
      "5\n",
      "6\n",
      "7\n",
      "8\n",
      "9\n",
      "10\n",
      "The loop terminates when Number = 11\n"
     ]
    }
   ],
   "source": [
    "num = 1 #Use counter variable HW\n",
    "while num <= 10:\n",
    "    print(num)\n",
    "    num=num+1\n",
    "else:\n",
    "    print(f\"The loop terminates when Number = {num}\")"
   ]
  },
  {
   "cell_type": "code",
   "execution_count": null,
   "id": "e8d5a07a",
   "metadata": {},
   "outputs": [],
   "source": [
    "#Checking iterations"
   ]
  },
  {
   "cell_type": "code",
   "execution_count": 7,
   "id": "beb4e911",
   "metadata": {},
   "outputs": [
    {
     "name": "stdout",
     "output_type": "stream",
     "text": [
      "enter a number: 67\n",
      "enter the check number76\n",
      "67\n",
      "68\n",
      "69\n",
      "70\n",
      "71\n",
      "72\n",
      "73\n",
      "74\n",
      "75\n",
      "did not enter the loop\n"
     ]
    }
   ],
   "source": [
    "num=int(input(\"enter a number: \"))\n",
    "check_num=int(input(\"enter the check number\"))\n",
    "while num < check_num:#If we do viceverse then loop becomes infinately loop\n",
    "    print(num)\n",
    "    num=(num+1)\n",
    "else:\n",
    "    print(\"did not enter the loop\")"
   ]
  },
  {
   "cell_type": "code",
   "execution_count": 8,
   "id": "a9b21f84",
   "metadata": {},
   "outputs": [
    {
     "name": "stdout",
     "output_type": "stream",
     "text": [
      "enter a number: 10\n",
      "enter the check number20\n",
      "entered the loop\n",
      "10\n",
      "11\n",
      "12\n",
      "13\n",
      "14\n",
      "15\n",
      "16\n",
      "17\n",
      "18\n",
      "19\n"
     ]
    }
   ],
   "source": [
    "num=int(input(\"enter a number: \"))\n",
    "check_num=int(input(\"enter the check number\"))\n",
    "if num < check_num:\n",
    "    print(\"entered the loop\")\n",
    "    while num < check_num:#If we do viceverse then loop becomes infinately loop\n",
    "        print(num)\n",
    "        num=num+1\n",
    "else:\n",
    "    print(\"did not enter the loop\")"
   ]
  },
  {
   "cell_type": "code",
   "execution_count": 3,
   "id": "2663d2af",
   "metadata": {},
   "outputs": [
    {
     "name": "stdout",
     "output_type": "stream",
     "text": [
      "enter a number: 10\n",
      "enter the check number: 20\n",
      "entered the loop\n",
      "10\n",
      "11\n",
      "12\n",
      "13\n",
      "14\n",
      "15\n",
      "16\n",
      "17\n",
      "18\n",
      "19\n",
      "did not enter the loop\n"
     ]
    }
   ],
   "source": [
    "num=int(input(\"enter a number: \"))### 15\n",
    "check_num=int(input(\"enter the check number: \"))### 8\n",
    "if num < check_num:\n",
    "    print(\"entered the loop\")# USe while inside the if condition so that it wont print both entered and not entered \n",
    "    #it takes like 2 different conditions\n",
    "while num < check_num:#If we do viceverse then loop becomes infinately loop\n",
    "    print(num)\n",
    "    num=num+1\n",
    "else:\n",
    "    print(\"did not enter the loop\")\n"
   ]
  },
  {
   "cell_type": "code",
   "execution_count": null,
   "id": "4190b325",
   "metadata": {},
   "outputs": [],
   "source": [
    "num=int(input(\"enter a number: \"))### 15\n",
    "check_num=int(input(\"enter the check number: \"))### 8\n",
    " # USe while inside the if condition so that it wont print both entered and not entered \n",
    "    #it takes like 2 different conditions\n",
    "while num < check_num:#If we do viceverse then loop becomes infinately loop\n",
    "    print(num)\n",
    "    num=num+1\n",
    "else:\n",
    "    print(\"did not enter the loop\")\n"
   ]
  },
  {
   "cell_type": "code",
   "execution_count": 2,
   "id": "ec54f001",
   "metadata": {},
   "outputs": [
    {
     "name": "stdout",
     "output_type": "stream",
     "text": [
      "5\n",
      "6\n",
      "7\n",
      "8\n",
      "9\n",
      "entered the loop\n"
     ]
    }
   ],
   "source": [
    "num=5\n",
    "check_num=10\n",
    "flag = False # GATEKEEPER\n",
    "while num < check_num:#If we do viceverse then loop becomes infinately loop\n",
    "    flag = True\n",
    "    print(num)\n",
    "    num = (num+1)\n",
    "\n",
    "if(flag == False):\n",
    "    print(\"did not enter the loop\")\n",
    "else:\n",
    "    print(\"entered the loop\")"
   ]
  },
  {
   "cell_type": "code",
   "execution_count": 4,
   "id": "7cb430e0",
   "metadata": {},
   "outputs": [
    {
     "name": "stdout",
     "output_type": "stream",
     "text": [
      "*\n",
      "*\n",
      "*\n",
      "*\n",
      "*\n",
      "*\n",
      "*\n",
      "*\n",
      "*\n",
      "*\n"
     ]
    }
   ],
   "source": [
    "row_or_stars = 1\n",
    "while row_or_stars <= 10: #only row vice increament is going on row vice\n",
    "    print(\"*\")\n",
    "    row_or_stars = row_or_stars + 1"
   ]
  },
  {
   "cell_type": "code",
   "execution_count": 6,
   "id": "76c2c3ef",
   "metadata": {},
   "outputs": [
    {
     "name": "stdout",
     "output_type": "stream",
     "text": [
      "*\n",
      "**\n",
      "***\n",
      "****\n",
      "*****\n",
      "******\n",
      "*******\n",
      "********\n",
      "*********\n",
      "**********\n"
     ]
    }
   ],
   "source": [
    "row_or_stars = 1\n",
    "while row_or_stars <= 10: #both row vice multiplies by star to get pattern\n",
    "    print(\"*\" * row_or_stars)\n",
    "    row_or_stars = row_or_stars + 1"
   ]
  },
  {
   "cell_type": "code",
   "execution_count": 10,
   "id": "80b300e3",
   "metadata": {},
   "outputs": [
    {
     "name": "stdout",
     "output_type": "stream",
     "text": [
      "*\n",
      "***\n",
      "*****\n",
      "*******\n",
      "*********\n"
     ]
    }
   ],
   "source": [
    "row_or_stars = 1\n",
    "while row_or_stars <= 10: # if we have to print odd *s pattern \n",
    "    print(\"*\" * row_or_stars )\n",
    "    row_or_stars = row_or_stars + 2"
   ]
  },
  {
   "cell_type": "code",
   "execution_count": 3,
   "id": "9bb09b11",
   "metadata": {},
   "outputs": [
    {
     "name": "stdout",
     "output_type": "stream",
     "text": [
      "1\n",
      "22\n",
      "333\n",
      "4444\n",
      "55555\n",
      "666666\n",
      "7777777\n",
      "88888888\n",
      "999999999\n"
     ]
    }
   ],
   "source": [
    "number = 1\n",
    "while number < 10:\n",
    "    print(str(number) * (number))#How many times we multiply number with string we get those many number of times\n",
    "    number = number + 1"
   ]
  },
  {
   "cell_type": "code",
   "execution_count": 12,
   "id": "ea090631",
   "metadata": {},
   "outputs": [
    {
     "name": "stdout",
     "output_type": "stream",
     "text": [
      "A\n",
      "BB\n",
      "CCC\n",
      "DDDD\n",
      "EEEEE\n",
      "FFFFFF\n",
      "GGGGGGG\n",
      "HHHHHHHH\n"
     ]
    }
   ],
   "source": [
    "character = 65\n",
    "row_or_count = 1\n",
    "while row_or_count <= 8:\n",
    "    print(chr(character) * row_or_count)\n",
    "    character = character + 1\n",
    "    row_or_count = row_or_count + 1"
   ]
  },
  {
   "cell_type": "code",
   "execution_count": 16,
   "id": "e7468b0a",
   "metadata": {},
   "outputs": [
    {
     "name": "stdout",
     "output_type": "stream",
     "text": [
      "AAAAAAAA\n",
      "@@@@@@@\n",
      "??????\n",
      ">>>>>\n",
      "====\n",
      "<<<\n",
      ";;\n",
      ":\n"
     ]
    }
   ],
   "source": [
    "character = 65\n",
    "row_or_count = 8\n",
    "while row_or_count  >= 1:\n",
    "    print(chr(character) * row_or_count)\n",
    "    character = character - 1\n",
    "    row_or_count = row_or_count - 1"
   ]
  },
  {
   "cell_type": "code",
   "execution_count": 28,
   "id": "d2382d4f",
   "metadata": {},
   "outputs": [
    {
     "name": "stdout",
     "output_type": "stream",
     "text": [
      "AAAAAAAA\n",
      "BBBBBBB\n",
      "CCCCCC\n",
      "DDDDD\n",
      "EEEE\n",
      "FFF\n",
      "GG\n",
      "H\n"
     ]
    }
   ],
   "source": [
    "character = 65   #frst intial values are very to know the loop where to start\n",
    "row = 1\n",
    "count = 8\n",
    "while count > 0: #in loop it count is reducing as rows are increasing\n",
    "    print(chr(character) * count)\n",
    "    count = count - 1\n",
    "    row = row +1\n",
    "    character = character + 1"
   ]
  },
  {
   "cell_type": "code",
   "execution_count": 29,
   "id": "0da625f9",
   "metadata": {},
   "outputs": [
    {
     "name": "stdout",
     "output_type": "stream",
     "text": [
      "AAAAAAAA\n",
      "AAAAAAAA\n",
      "BBBBBBB\n",
      "BBBBBBB\n",
      "CCCCCC\n",
      "CCCCCC\n",
      "DDDDD\n",
      "=\n",
      "EEEE\n",
      "EEEE\n",
      "FFF\n",
      "FFF\n",
      "GG\n",
      "GG\n",
      "H\n",
      "H\n"
     ]
    }
   ],
   "source": [
    "character = 65   #frst intial values are very to know the loop where to start\n",
    "row = 1\n",
    "count = 8\n",
    "while count > 0: #in loop it count is reducing as rows are increasing\n",
    "    print(chr(character) * count)\n",
    "    if count == 5:\n",
    "        print(\"=\") #here we are getting only one (*) in place of 5th row so multiply by count\n",
    "    else:\n",
    "        print(chr(character) * count)\n",
    "    count = count - 1\n",
    "    row = row +1\n",
    "    character = character + 1"
   ]
  },
  {
   "cell_type": "code",
   "execution_count": 3,
   "id": "12bdcb90",
   "metadata": {},
   "outputs": [
    {
     "name": "stdout",
     "output_type": "stream",
     "text": [
      "AAAAAAAA\n",
      "BBBBBBB\n",
      "CCCCCC\n",
      "=====\n",
      "EEEE\n",
      "FFF\n",
      "GG\n",
      "H\n"
     ]
    }
   ],
   "source": [
    "character = 65   #frst intial values are very to know the loop where to start\n",
    "row = 1           #here we are getting only one (*) in place of 5th row so multiply by count\n",
    "count = 8\n",
    "while count > 0: #in loop it count is reducing as rows are increasing \n",
    "    if count == 5:\n",
    "        print(\"=\" * count )\n",
    "    else:\n",
    "        print(chr(character) * count)\n",
    "    row = row +1\n",
    "    \n",
    "    count = count - 1\n",
    "    character = character + 1"
   ]
  },
  {
   "cell_type": "code",
   "execution_count": null,
   "id": "44771f56",
   "metadata": {},
   "outputs": [],
   "source": [
    "#write a pattern with stars and spaces in a traingle format"
   ]
  },
  {
   "cell_type": "code",
   "execution_count": 12,
   "id": "79f058f0",
   "metadata": {},
   "outputs": [
    {
     "name": "stdout",
     "output_type": "stream",
     "text": [
      "* \n",
      "* * \n",
      "* * * \n",
      "* * * * \n",
      "* * * * * \n",
      "* * * * * * \n",
      "* * * * * * * \n",
      "* * * * * * * * \n",
      "* * * * * * * * * \n"
     ]
    }
   ],
   "source": [
    "star=1\n",
    "space=1\n",
    "while star<10:\n",
    "    print(star * \"* \")\n",
    "    space=space+1\n",
    "    star=star+1     "
   ]
  },
  {
   "cell_type": "code",
   "execution_count": 28,
   "id": "e6cc579f",
   "metadata": {},
   "outputs": [
    {
     "name": "stdout",
     "output_type": "stream",
     "text": [
      "*\n",
      "* *\n",
      "*  *\n",
      "*   *\n",
      "*    *\n",
      "*     *\n",
      "**************\n"
     ]
    }
   ],
   "source": [
    "a=\"*\"\n",
    "print(a)\n",
    "row=1\n",
    "mt=1\n",
    "while mt<6:\n",
    "    print(\"*\"+ mt*\" \"+ \"*\")\n",
    "    mt=mt+1\n",
    "c=print(\"**************\")"
   ]
  },
  {
   "cell_type": "code",
   "execution_count": 3,
   "id": "b5717a61",
   "metadata": {},
   "outputs": [
    {
     "name": "stdout",
     "output_type": "stream",
     "text": [
      "*\n",
      "*  *\n"
     ]
    },
    {
     "ename": "TypeError",
     "evalue": "can only concatenate str (not \"int\") to str",
     "output_type": "error",
     "traceback": [
      "\u001b[1;31m---------------------------------------------------------------------------\u001b[0m",
      "\u001b[1;31mTypeError\u001b[0m                                 Traceback (most recent call last)",
      "Cell \u001b[1;32mIn[3], line 6\u001b[0m\n\u001b[0;32m      4\u001b[0m \u001b[38;5;28mprint\u001b[39m(\u001b[38;5;124m\"\u001b[39m\u001b[38;5;124m*\u001b[39m\u001b[38;5;124m\"\u001b[39m \u001b[38;5;241m+\u001b[39m \u001b[38;5;124m\"\u001b[39m\u001b[38;5;124m \u001b[39m\u001b[38;5;124m\"\u001b[39m\u001b[38;5;241m*\u001b[39m space \u001b[38;5;241m+\u001b[39m\u001b[38;5;124m\"\u001b[39m\u001b[38;5;124m*\u001b[39m\u001b[38;5;124m\"\u001b[39m)\n\u001b[0;32m      5\u001b[0m space\u001b[38;5;241m=\u001b[39mspace\u001b[38;5;241m+\u001b[39m\u001b[38;5;241m2\u001b[39m\n\u001b[1;32m----> 6\u001b[0m \u001b[38;5;28mprint\u001b[39m(\u001b[38;5;124m\"\u001b[39m\u001b[38;5;124m*\u001b[39m\u001b[38;5;124m\"\u001b[39m \u001b[38;5;241m*\u001b[39m space\u001b[38;5;241m+\u001b[39m\u001b[38;5;241m2\u001b[39m)\n",
      "\u001b[1;31mTypeError\u001b[0m: can only concatenate str (not \"int\") to str"
     ]
    }
   ],
   "source": []
  },
  {
   "cell_type": "code",
   "execution_count": 3,
   "id": "c0e5cce4",
   "metadata": {},
   "outputs": [
    {
     "name": "stdout",
     "output_type": "stream",
     "text": [
      "     *\n",
      "*      *\n"
     ]
    }
   ],
   "source": [
    "a=\"     *\"\n",
    "print(a)\n",
    "print(\"*\" + \" \"*mt + \"*\")"
   ]
  },
  {
   "cell_type": "code",
   "execution_count": 41,
   "id": "24efae3e",
   "metadata": {},
   "outputs": [
    {
     "name": "stdout",
     "output_type": "stream",
     "text": [
      "     A\n",
      "    BBB\n",
      "   CCCCC\n",
      "  DDDDDDD\n",
      " EEEEEEEEE\n"
     ]
    }
   ],
   "source": [
    "string = 65\n",
    "mtspace = 5\n",
    "row=1\n",
    "while string<70:\n",
    "    print(\" \" * mtspace+chr(string)*row)\n",
    "    string=string+1\n",
    "    row=row+2 #take2 as row size to get B 3times\n",
    "    mtspace=mtspace-1"
   ]
  },
  {
   "cell_type": "code",
   "execution_count": null,
   "id": "fef9504a",
   "metadata": {},
   "outputs": [],
   "source": [
    "     A     #space=5,character = 65,count = 1\n",
    "    BBB\n",
    "   CCCCC\n",
    "  DDDDDDD\n",
    " EEEEEEEEE"
   ]
  },
  {
   "cell_type": "code",
   "execution_count": 47,
   "id": "a1f6cbaa",
   "metadata": {},
   "outputs": [
    {
     "name": "stdout",
     "output_type": "stream",
     "text": [
      "*\n",
      "**************\n"
     ]
    }
   ],
   "source": [
    " "
   ]
  },
  {
   "cell_type": "code",
   "execution_count": 43,
   "id": "c9ec3cfe",
   "metadata": {},
   "outputs": [],
   "source": [
    "a=11\n",
    "while a%2==0:\n",
    "    print(a)\n",
    "    a=a+1"
   ]
  },
  {
   "cell_type": "markdown",
   "id": "33135afe",
   "metadata": {},
   "source": [
    "5.\tWrite a program to count the total number of digits in a  number"
   ]
  },
  {
   "cell_type": "code",
   "execution_count": 48,
   "id": "ed68a73a",
   "metadata": {},
   "outputs": [
    {
     "name": "stdout",
     "output_type": "stream",
     "text": [
      "4\n"
     ]
    }
   ],
   "source": [
    "n=2556\n",
    "c=0\n",
    "while n!=0:\n",
    "    n=n//10  #c is the iteration times \n",
    "    c=c+1    #n is updating and printing n if we close n vertical to while loop last value prints\n",
    "print(c)\n"
   ]
  },
  {
   "cell_type": "code",
   "execution_count": null,
   "id": "d49fe345",
   "metadata": {},
   "outputs": [],
   "source": []
  },
  {
   "cell_type": "code",
   "execution_count": null,
   "id": "7dbe8dd0",
   "metadata": {},
   "outputs": [],
   "source": []
  },
  {
   "cell_type": "code",
   "execution_count": null,
   "id": "21022e02",
   "metadata": {},
   "outputs": [],
   "source": [
    "#If we dont want code and in might future we can give print statement\n",
    "#n=1\n",
    "#if n< 10: gives u syntax error but in future i need this if then assign with pass\n",
    "# 3groups are playing quiz if grp doesnt knows ans then he passes the ques to another grp\n",
    "# UNO SKIP is as same as continue statement\n",
    "# UNO who finishes frst he is out as break statement"
   ]
  },
  {
   "cell_type": "code",
   "execution_count": 3,
   "id": "9ad8928a",
   "metadata": {},
   "outputs": [
    {
     "name": "stdout",
     "output_type": "stream",
     "text": [
      "i am chandan\n"
     ]
    }
   ],
   "source": [
    "if False:\n",
    "    print(\" i am hari\")\n",
    "print(\"i am chandan\")"
   ]
  },
  {
   "cell_type": "code",
   "execution_count": null,
   "id": "9205d086",
   "metadata": {},
   "outputs": [],
   "source": [
    "# For loop \n",
    "# The for statement in python supports repeated\n",
    "#execution of a statement or block of statments controlled  by iteration"
   ]
  },
  {
   "cell_type": "code",
   "execution_count": 13,
   "id": "6b53938c",
   "metadata": {},
   "outputs": [
    {
     "name": "stdout",
     "output_type": "stream",
     "text": [
      "1\n",
      "2\n",
      "3\n",
      "hari\n",
      "True\n"
     ]
    }
   ],
   "source": [
    "sample_list=[1,2,3,\"hari\",True]\n",
    "for list_element in sample_list:\n",
    "    print(list_element)"
   ]
  },
  {
   "cell_type": "code",
   "execution_count": 15,
   "id": "c0ae9d83",
   "metadata": {},
   "outputs": [
    {
     "name": "stdout",
     "output_type": "stream",
     "text": [
      "1\n",
      "2\n",
      "3\n",
      "hari\n"
     ]
    }
   ],
   "source": [
    "sample_list=[1,2,3,\"hari\",True]\n",
    "for index in range(4):  #indexing use in for loop  \n",
    "    print(sample_list[index]) #incorrect range can give \"out of the index error but executes the lop\""
   ]
  },
  {
   "cell_type": "code",
   "execution_count": 19,
   "id": "317c4eb8",
   "metadata": {},
   "outputs": [
    {
     "name": "stdout",
     "output_type": "stream",
     "text": [
      " At location 1 we have:  1\n",
      " At location 2 we have:  2\n",
      " At location 3 we have:  3\n",
      " At location 4 we have:  hari\n",
      " At location 5 we have:  True\n"
     ]
    }
   ],
   "source": [
    "sample_list=[1,2,3,\"hari\",True]\n",
    "for index in range(len(sample_list)):   #range specified by length() dynamic\n",
    "    print(f\" At location {index+1} we have: \",sample_list[index])"
   ]
  },
  {
   "cell_type": "code",
   "execution_count": 23,
   "id": "9ba91c2f",
   "metadata": {},
   "outputs": [
    {
     "name": "stdout",
     "output_type": "stream",
     "text": [
      " At location 1 we have:  1\n",
      " At location 3 we have:  3\n",
      " At location 5 we have:  True\n"
     ]
    }
   ],
   "source": [
    "sample_list=[1,2,3,\"hari\",True]\n",
    "for index in range(0,len(sample_list),2):   #range specified by length() dynamic\n",
    "    print(f\" At location {index+1} we have: \",sample_list[index])"
   ]
  },
  {
   "cell_type": "code",
   "execution_count": null,
   "id": "89216d50",
   "metadata": {},
   "outputs": [],
   "source": [
    "#take numbers multiples of 3 between 27 & 70 as list and print squares of elements"
   ]
  },
  {
   "cell_type": "code",
   "execution_count": 40,
   "id": "730b1402",
   "metadata": {},
   "outputs": [
    {
     "name": "stdout",
     "output_type": "stream",
     "text": [
      "[27, 30, 33, 36, 39, 42, 45, 48, 51, 54, 57, 60, 63, 66, 69]\n",
      "729\n",
      "900\n",
      "1089\n",
      "1296\n",
      "1521\n",
      "1764\n",
      "2025\n",
      "2304\n",
      "2601\n",
      "2916\n",
      "3249\n",
      "3600\n",
      "3969\n",
      "4356\n",
      "4761\n"
     ]
    }
   ],
   "source": [
    "list_mult_3=list(range(27,70,3))\n",
    "print(list_mult_3)\n",
    "for mult_3 in  list_mult_3:\n",
    "    print(mult_3 ** 2)"
   ]
  },
  {
   "cell_type": "code",
   "execution_count": 36,
   "id": "84326d39",
   "metadata": {},
   "outputs": [
    {
     "name": "stdout",
     "output_type": "stream",
     "text": [
      "range(27, 70, 3)\n"
     ]
    }
   ],
   "source": [
    "a=range(27,70,3)\n",
    "print(a)  # we cannot get range without any proper data structures "
   ]
  },
  {
   "cell_type": "code",
   "execution_count": 44,
   "id": "f659c1ad",
   "metadata": {},
   "outputs": [
    {
     "name": "stdout",
     "output_type": "stream",
     "text": [
      "[27, 30, 33, 36, 39, 42, 45, 48, 51, 54, 57, 60, 63, 66, 69]\n",
      "[729, 900, 1089, 1296, 1521, 1764, 2025, 2304, 2601, 2916, 3249, 3600, 3969, 4356, 4761]\n"
     ]
    }
   ],
   "source": [
    "list_mult_3=list(range(27,70,3)) #printing squares in list #when u print square list gives output.\n",
    "print(list_mult_3)\n",
    "square_list=[]\n",
    "for mult_3 in  list_mult_3:\n",
    "    square_list.append(mult_3 **2)\n",
    "print(square_list)"
   ]
  },
  {
   "cell_type": "code",
   "execution_count": 54,
   "id": "937affaa",
   "metadata": {},
   "outputs": [
    {
     "ename": "TypeError",
     "evalue": "'list' object is not callable",
     "output_type": "error",
     "traceback": [
      "\u001b[1;31m---------------------------------------------------------------------------\u001b[0m",
      "\u001b[1;31mTypeError\u001b[0m                                 Traceback (most recent call last)",
      "Cell \u001b[1;32mIn[54], line 1\u001b[0m\n\u001b[1;32m----> 1\u001b[0m input_list\u001b[38;5;241m=\u001b[39m\u001b[38;5;28mint\u001b[39m(\u001b[38;5;28minput\u001b[39m(\u001b[38;5;124m\"\u001b[39m\u001b[38;5;124menter the elements\u001b[39m\u001b[38;5;124m\"\u001b[39m))\n",
      "\u001b[1;31mTypeError\u001b[0m: 'list' object is not callable"
     ]
    }
   ],
   "source": [
    " #Take an input from user to enter no of elements as (input) [say == 5]\n",
    " #enter the values of ewach element (loop,input)\n",
    " #store in list[a,b,c,d,e]\n",
    " #odd and even list\n",
    " #list elements to be accessed using loop\n",
    " #conditional check as odd or even (if and else)"
   ]
  },
  {
   "cell_type": "code",
   "execution_count": 63,
   "id": "3e3bc198",
   "metadata": {},
   "outputs": [
    {
     "ename": "TypeError",
     "evalue": "'list' object is not callable",
     "output_type": "error",
     "traceback": [
      "\u001b[1;31m---------------------------------------------------------------------------\u001b[0m",
      "\u001b[1;31mTypeError\u001b[0m                                 Traceback (most recent call last)",
      "Cell \u001b[1;32mIn[63], line 1\u001b[0m\n\u001b[1;32m----> 1\u001b[0m number \u001b[38;5;241m=\u001b[39m \u001b[38;5;28mint\u001b[39m(\u001b[38;5;28minput\u001b[39m(\u001b[38;5;124m'\u001b[39m\u001b[38;5;124menter the number\u001b[39m\u001b[38;5;124m'\u001b[39m))\n\u001b[0;32m      2\u001b[0m list1\u001b[38;5;241m=\u001b[39m[]\n\u001b[0;32m      3\u001b[0m \u001b[38;5;28;01mfor\u001b[39;00m index \u001b[38;5;129;01min\u001b[39;00m \u001b[38;5;28mrange\u001b[39m(number):\n",
      "\u001b[1;31mTypeError\u001b[0m: 'list' object is not callable"
     ]
    }
   ],
   "source": [
    "number = int(input('enter the number'))\n",
    "list1=[]\n",
    "for index in range(number):\n",
    "    numbers=int(input(\"enter the number\"))\n",
    "    if numbers % 2==0:\n",
    "        list1.append(numbers)\n",
    "    else:\n",
    "        list1.append(numbers)\n",
    "print(list1)\n",
    "print(list1)\n",
    "    "
   ]
  },
  {
   "cell_type": "code",
   "execution_count": 56,
   "id": "e59aa456",
   "metadata": {},
   "outputs": [
    {
     "name": "stdout",
     "output_type": "stream",
     "text": [
      "[1, 2, 3]\n",
      "[436, 766, 89]\n",
      "[23, 435, 56]\n"
     ]
    }
   ],
   "source": [
    "sample_2d_list=[[1,2,3],[436,766,89],[23,435,56]]\n",
    "for element in sample_2d_list:\n",
    "    print(element)"
   ]
  },
  {
   "cell_type": "code",
   "execution_count": 61,
   "id": "2b70ce72",
   "metadata": {},
   "outputs": [
    {
     "name": "stdout",
     "output_type": "stream",
     "text": [
      "1\n",
      "2\n",
      "3\n",
      "436\n",
      "766\n",
      "89\n",
      "23\n",
      "435\n",
      "56\n"
     ]
    }
   ],
   "source": [
    "for element in sample_2d_list:#if we want to print nested elements in loop then use for in for \n",
    "    for sub_element in element:\n",
    "        print(sub_element)"
   ]
  },
  {
   "cell_type": "markdown",
   "id": "ea59ba8f",
   "metadata": {},
   "source": [
    "##### Add corresponding elements in a 2 Dimentional list"
   ]
  },
  {
   "cell_type": "code",
   "execution_count": 13,
   "id": "cd3a13c1",
   "metadata": {},
   "outputs": [
    {
     "data": {
      "text/plain": [
       "[[6, 51], [8, 17]]"
      ]
     },
     "execution_count": 13,
     "metadata": {},
     "output_type": "execute_result"
    }
   ],
   "source": [
    "first_list = [[5,43],[2,10]]\n",
    "second_list = [[1,8],[6,7]]\n",
    "####output_list = [[6,51],[8,17]] ####\n",
    "output_list = [[0,0],[0,0]]\n",
    "for row_index in range(len(second_list)):\n",
    "    for column_index in range(len(first_list[row_index])):\n",
    "        output_list[row_index][column_index]=first_list[row_index][column_index]+second_list[row_index][column_index]\n",
    "output_list"
   ]
  },
  {
   "cell_type": "markdown",
   "id": "aa52e459",
   "metadata": {},
   "source": [
    "#### printing forward diagonal"
   ]
  },
  {
   "cell_type": "code",
   "execution_count": 28,
   "id": "dab6146c",
   "metadata": {},
   "outputs": [
    {
     "name": "stdout",
     "output_type": "stream",
     "text": [
      "element at (0, 0) is:  43\n",
      "element at (1, 1) is:  6\n",
      "element at (2, 2) is:  554\n"
     ]
    }
   ],
   "source": [
    "sample_list = [[43,22,12],[1,6,3],[87,12,554]]\n",
    "for row_index in range(len(sample_list)):\n",
    "    for column_index in range(len(sample_list[column_index])):\n",
    "        if row_index == column_index:\n",
    "            print(f\"element at {row_index,column_index} is: \", sample_list[row_index][column_index])\n",
    "     "
   ]
  },
  {
   "cell_type": "markdown",
   "id": "4975505d",
   "metadata": {},
   "source": [
    "#### Backward Diagonal lIst"
   ]
  },
  {
   "cell_type": "code",
   "execution_count": 31,
   "id": "2e87c8bd",
   "metadata": {},
   "outputs": [
    {
     "name": "stdout",
     "output_type": "stream",
     "text": [
      "element at (0, 2) is:  12\n",
      "element at (1, 1) is:  6\n",
      "element at (2, 0) is:  87\n"
     ]
    }
   ],
   "source": [
    "sample_list = [[43,22,12],[1,6,3],[87,12,554]]\n",
    "for row_index in range(len(sample_list)):\n",
    "    for column_index in range(len(sample_list[column_index])):\n",
    "        if row_index + column_index == 2:\n",
    "            print(f\"element at {row_index,column_index} is: \", sample_list[row_index][column_index])\n",
    "     "
   ]
  },
  {
   "cell_type": "code",
   "execution_count": 34,
   "id": "43f45f6b",
   "metadata": {},
   "outputs": [
    {
     "name": "stdout",
     "output_type": "stream",
     "text": [
      "element at (0, 2) is:  12\n",
      "element at (1, 1) is:  6\n",
      "element at (2, 0) is:  87\n"
     ]
    }
   ],
   "source": [
    "sample_list = [[43,22,12],[1,6,3],[87,12,554]]\n",
    "for row_index in range(len(sample_list)):\n",
    "    for column_index in range(len(sample_list[column_index])):\n",
    "        if row_index + column_index == len(sample_list)-1:\n",
    "            print(f\"element at {row_index,column_index} is: \", sample_list[row_index][column_index])\n",
    "     "
   ]
  },
  {
   "cell_type": "code",
   "execution_count": 39,
   "id": "c5d7baf1",
   "metadata": {},
   "outputs": [
    {
     "name": "stdout",
     "output_type": "stream",
     "text": [
      "element at (0, 2) is:  43\n",
      "element at (1, 2) is:  6\n",
      "element at (2, 2) is:  554\n"
     ]
    }
   ],
   "source": [
    "sample_list = [[43,22,12],[1,6,3],[87,12,554]]\n",
    "for row_index in range(len(sample_list)):\n",
    "    print(f\"element at {row_index,column_index} is: \", sample_list[row_index][row_index])\n",
    "     "
   ]
  },
  {
   "cell_type": "code",
   "execution_count": 45,
   "id": "9277241b",
   "metadata": {},
   "outputs": [
    {
     "data": {
      "text/plain": [
       "[3.5568933044900626,\n",
       " 2.2894284851066637,\n",
       " 1.2599210498948732,\n",
       " 2.0,\n",
       " 3.3019272488946263,\n",
       " 6.999999999999999]"
      ]
     },
     "execution_count": 45,
     "metadata": {},
     "output_type": "execute_result"
    }
   ],
   "source": [
    "list_of_nos = [45,12,2,8,36,343]\n",
    "cube_root_list = []\n",
    "for element in list_of_nos:\n",
    "    cube_root_list.append(element ** (1/3))\n",
    "cube_root_list"
   ]
  },
  {
   "cell_type": "code",
   "execution_count": 48,
   "id": "412bc7c4",
   "metadata": {},
   "outputs": [
    {
     "data": {
      "text/plain": [
       "[3.5568933044900626,\n",
       " 2.2894284851066637,\n",
       " 1.2599210498948732,\n",
       " 2.0,\n",
       " 3.3019272488946263,\n",
       " 6.999999999999999]"
      ]
     },
     "execution_count": 48,
     "metadata": {},
     "output_type": "execute_result"
    }
   ],
   "source": [
    "list_of_nos = [45,12,2,8,36,343]\n",
    "cuberoot_list = [element ** (1/3) for element in list_of_nos] #Use result as first & before \"for\"\n",
    "cuberoot_list"
   ]
  },
  {
   "cell_type": "code",
   "execution_count": null,
   "id": "a0519cba",
   "metadata": {},
   "outputs": [],
   "source": [
    "#### Marks and their subsequent grades"
   ]
  },
  {
   "cell_type": "code",
   "execution_count": 61,
   "id": "6234ff5b",
   "metadata": {},
   "outputs": [
    {
     "name": "stdout",
     "output_type": "stream",
     "text": [
      "fail\n",
      "passed\n",
      "passed\n",
      "fail\n",
      "passed\n",
      "fail\n"
     ]
    }
   ],
   "source": [
    "marks_list = [32,45,68,12,98,33]\n",
    "for element in marks_list:\n",
    "    if element > 33:\n",
    "        print(\"passed\")\n",
    "    else:\n",
    "        print(\"fail\") "
   ]
  },
  {
   "cell_type": "code",
   "execution_count": 59,
   "id": "001c707f",
   "metadata": {},
   "outputs": [
    {
     "data": {
      "text/plain": [
       "['fail', 'passed', 'passed', 'fail', 'passed', 'fail']"
      ]
     },
     "execution_count": 59,
     "metadata": {},
     "output_type": "execute_result"
    }
   ],
   "source": [
    "marks_list = [32,45,68,12,98,33]\n",
    "['passed' if marks > 33 else 'fail'  for marks in marks_list]"
   ]
  },
  {
   "cell_type": "code",
   "execution_count": null,
   "id": "92a0716c",
   "metadata": {},
   "outputs": [],
   "source": [
    "#### Creating Dictionaries of student:marks"
   ]
  },
  {
   "cell_type": "code",
   "execution_count": 71,
   "id": "8b5ecb5b",
   "metadata": {},
   "outputs": [
    {
     "data": {
      "text/plain": [
       "{'hari': 45, 'manoj': 78, 'anshini': 98, 'achlesh': 32}"
      ]
     },
     "execution_count": 71,
     "metadata": {},
     "output_type": "execute_result"
    }
   ],
   "source": [
    "students = [\"hari\",\"manoj\",\"anshini\",\"achlesh\"]\n",
    "marks = [45,78,98,32]\n",
    "stud_marks_dict = {}\n",
    "for index in range(len(students)):\n",
    "    stud_marks_dict[students[index]] = marks[index]\n",
    "stud_marks_dict\n"
   ]
  },
  {
   "cell_type": "code",
   "execution_count": 72,
   "id": "9fc6b32d",
   "metadata": {},
   "outputs": [
    {
     "data": {
      "text/plain": [
       "{'hari': 45, 'manoj': 78, 'anshini': 98, 'achlesh': 32}"
      ]
     },
     "execution_count": 72,
     "metadata": {},
     "output_type": "execute_result"
    }
   ],
   "source": [
    "{students[index]:marks[index]  for index in range(len(students))}"
   ]
  },
  {
   "cell_type": "code",
   "execution_count": 73,
   "id": "ba86a096",
   "metadata": {},
   "outputs": [
    {
     "data": {
      "text/plain": [
       "<zip at 0x1a77fa895c0>"
      ]
     },
     "execution_count": 73,
     "metadata": {},
     "output_type": "execute_result"
    }
   ],
   "source": [
    "zip(students,marks) #Gives memory location"
   ]
  },
  {
   "cell_type": "code",
   "execution_count": 74,
   "id": "a77f044a",
   "metadata": {},
   "outputs": [
    {
     "data": {
      "text/plain": [
       "{'hari': 45, 'manoj': 78, 'anshini': 98, 'achlesh': 32}"
      ]
     },
     "execution_count": 74,
     "metadata": {},
     "output_type": "execute_result"
    }
   ],
   "source": [
    "dict(zip(students,marks))"
   ]
  },
  {
   "cell_type": "code",
   "execution_count": null,
   "id": "760eb97f",
   "metadata": {},
   "outputs": [],
   "source": [
    " # {Taking student marks and converting students pass-fail}"
   ]
  },
  {
   "cell_type": "code",
   "execution_count": 83,
   "id": "6dccb230",
   "metadata": {},
   "outputs": [
    {
     "data": {
      "text/plain": [
       "{'hari': [45, 'failed'],\n",
       " 'manoj': [78, 'passed'],\n",
       " 'anshini': [98, 'passed'],\n",
       " 'achlesh': [32, 'failed']}"
      ]
     },
     "execution_count": 83,
     "metadata": {},
     "output_type": "execute_result"
    }
   ],
   "source": [
    "stud_marks_dict={'hari': 45, 'manoj': 78, 'anshini': 98, 'achlesh': 32}\n",
    "stud_marks_grade={keys:[marks,\"passed\"] if marks >=50 else [marks,\"failed\"] for (keys,marks) in stud_marks_dict.items()}\n",
    "stud_marks_grade"
   ]
  },
  {
   "cell_type": "code",
   "execution_count": 8,
   "id": "b76bbcff",
   "metadata": {},
   "outputs": [
    {
     "name": "stdout",
     "output_type": "stream",
     "text": [
      " 35 is not found in the list\n"
     ]
    }
   ],
   "source": [
    "#linear search\n",
    "sample_list =[1,23,45,674,67,97]\n",
    "search_element = 35\n",
    "flag= False\n",
    "for index in range(len(sample_list)):\n",
    "    if sample_list[index] ==  search_element:\n",
    "        flag = True\n",
    "        break\n",
    "if flag == False:\n",
    "    print(f\" {search_element} is not found in the list\")\n",
    "else:\n",
    "    print(f\" {search_element} is found at location {index+1}\")"
   ]
  },
  {
   "cell_type": "code",
   "execution_count": null,
   "id": "4f31ed42",
   "metadata": {},
   "outputs": [],
   "source": [
    "#Functions "
   ]
  },
  {
   "cell_type": "code",
   "execution_count": 17,
   "id": "52fcf5f5",
   "metadata": {},
   "outputs": [],
   "source": [
    "def larger_of_2nos(num1,num2):\n",
    "    \"this gives larger of 2 nos\"\n",
    "    if num1>num2:\n",
    "        print(f\" greater number between {num1} and {num2} is {num1}\")\n",
    "        \n",
    "    elif num1==num2:\n",
    "        print(f\" Both numbers {num1} and {num2} are equal\")\n",
    "        \n",
    "    else:\n",
    "        print(f\" greater number between {num1} and {num2} is {num2}\")"
   ]
  },
  {
   "cell_type": "code",
   "execution_count": 18,
   "id": "fa8fe9ea",
   "metadata": {},
   "outputs": [
    {
     "name": "stdout",
     "output_type": "stream",
     "text": [
      " Both numbers 100 and 100 are equal\n"
     ]
    }
   ],
   "source": [
    "larger_of_2nos(100,100)"
   ]
  },
  {
   "cell_type": "code",
   "execution_count": null,
   "id": "c7941292",
   "metadata": {},
   "outputs": [],
   "source": [
    "larger_of_2nos"
   ]
  },
  {
   "cell_type": "code",
   "execution_count": null,
   "id": "a518a16d",
   "metadata": {},
   "outputs": [],
   "source": [
    "#return gives the  correct datatype\n",
    "#print gives Nonetype"
   ]
  },
  {
   "cell_type": "code",
   "execution_count": null,
   "id": "6bffeb82",
   "metadata": {},
   "outputs": [],
   "source": [
    "given_number = 120\n",
    "flag = False\n",
    "for factor in range(2,given_number):\n",
    "    if given_number % factor == 0:\n",
    "        flag = True\n",
    "        break\n",
    "if flag == False:\n",
    "    print(f\"{given_number} is a prime number.\")\n",
    "else:\n",
    "    print(f\"{given_number} is not a prime number / composite number...\")    "
   ]
  },
  {
   "cell_type": "code",
   "execution_count": 28,
   "id": "6bb2d754",
   "metadata": {},
   "outputs": [],
   "source": [
    "def prime_no_check(given_number): \n",
    "    flag = False\n",
    "    for factor in range(2,given_number):\n",
    "        print(\"checking factor: \", factor)\n",
    "        if given_number % factor == 0:\n",
    "            flag = True\n",
    "            break\n",
    "    if flag == False:\n",
    "        print(f\"{given_number} is a prime number.\")\n",
    "    else:\n",
    "        print(f\"{given_number} is not a prime number / composite number...\")    "
   ]
  },
  {
   "cell_type": "code",
   "execution_count": 29,
   "id": "1542b6d9",
   "metadata": {},
   "outputs": [
    {
     "name": "stdout",
     "output_type": "stream",
     "text": [
      "checking factor:  2\n",
      "checking factor:  3\n",
      "123 is not a prime number / composite number...\n"
     ]
    }
   ],
   "source": [
    "prime_no_check(123)"
   ]
  },
  {
   "cell_type": "code",
   "execution_count": 33,
   "id": "1160cdf8",
   "metadata": {},
   "outputs": [],
   "source": [
    "def prime_no_check(given_number): \n",
    "    flag = False\n",
    "    for factor in range(2,given_number):\n",
    "        if given_number % factor == 0:\n",
    "            print(\"checking factor: \", factor)\n",
    "            flag = True\n",
    "    if flag == False:\n",
    "        print(f\"{given_number} is a prime number.\")\n",
    "    else:\n",
    "        print(f\"{given_number} is not a prime number / composite number...\")     "
   ]
  },
  {
   "cell_type": "code",
   "execution_count": 36,
   "id": "d769d247",
   "metadata": {},
   "outputs": [
    {
     "name": "stdout",
     "output_type": "stream",
     "text": [
      "checking factor:  2\n",
      "checking factor:  3\n",
      "checking factor:  6\n",
      "checking factor:  239\n",
      "checking factor:  478\n",
      "checking factor:  717\n",
      "checking factor:  1434\n",
      "checking factor:  4649\n",
      "checking factor:  9298\n",
      "checking factor:  13947\n",
      "checking factor:  27894\n",
      "checking factor:  1111111\n",
      "checking factor:  2222222\n",
      "checking factor:  3333333\n",
      "6666666 is not a prime number / composite number...\n"
     ]
    }
   ],
   "source": [
    "prime_no_check(6666666)"
   ]
  },
  {
   "cell_type": "code",
   "execution_count": 38,
   "id": "5d324d1f",
   "metadata": {},
   "outputs": [
    {
     "name": "stdout",
     "output_type": "stream",
     "text": [
      "Apart from '1' and '120' the factors are:  [2, 3, 4, 5, 6, 8, 10, 12, 15, 20, 24, 30, 40, 60]\n"
     ]
    }
   ],
   "source": [
    "given_number = 120\n",
    "list_of_factors = []\n",
    "flag = False\n",
    "for factor_check in range(2, given_number):\n",
    "    if given_number % factor_check == 0:\n",
    "        list_of_factors.append(factor_check)\n",
    "if flag == False:\n",
    "    print(f\"Apart from '1' and '{given_number}' the factors are: \",list_of_factors)\n",
    "else:\n",
    "    print(f\"the number {given_number} is Prime with factors as '1' and '{given_number}'\")"
   ]
  },
  {
   "cell_type": "code",
   "execution_count": 4,
   "id": "cd71fb15",
   "metadata": {},
   "outputs": [
    {
     "data": {
      "text/plain": [
       "3"
      ]
     },
     "execution_count": 4,
     "metadata": {},
     "output_type": "execute_result"
    }
   ],
   "source": [
    "def hello(a,b):\n",
    "    a+b\n",
    "    return(a+b)  #if we use only return keyword then it will give nonetype\n",
    "hello(1,2)  "
   ]
  },
  {
   "cell_type": "code",
   "execution_count": 5,
   "id": "dc6fb5b5",
   "metadata": {},
   "outputs": [
    {
     "data": {
      "text/plain": [
       "3"
      ]
     },
     "execution_count": 5,
     "metadata": {},
     "output_type": "execute_result"
    }
   ],
   "source": [
    "hello(1,2)  "
   ]
  },
  {
   "cell_type": "code",
   "execution_count": null,
   "id": "d8102f4c",
   "metadata": {},
   "outputs": [],
   "source": [
    "#return returnes a value. re usable\n",
    "#It seems to be returning but not value"
   ]
  },
  {
   "cell_type": "code",
   "execution_count": null,
   "id": "2a68c464",
   "metadata": {},
   "outputs": [],
   "source": [
    "###Grade for marks"
   ]
  },
  {
   "cell_type": "code",
   "execution_count": 6,
   "id": "e4290cd9",
   "metadata": {},
   "outputs": [],
   "source": [
    "def grade(marks):#When we print num > 100 or < 0 also gives A grade and fail\n",
    "    if marks >= 90:\n",
    "        return \"A grade\"\n",
    "    elif marks >= 80:\n",
    "        return \"B grade\"\n",
    "    elif marks >= 70:\n",
    "        return \"C grade\"\n",
    "    elif marks >= 40:\n",
    "        return \"D grade\"\n",
    "    else:\n",
    "        return \"fail\""
   ]
  },
  {
   "cell_type": "code",
   "execution_count": 26,
   "id": "a5270744",
   "metadata": {},
   "outputs": [
    {
     "data": {
      "text/plain": [
       "'fail'"
      ]
     },
     "execution_count": 26,
     "metadata": {},
     "output_type": "execute_result"
    }
   ],
   "source": [
    "grade(30)"
   ]
  },
  {
   "cell_type": "code",
   "execution_count": 61,
   "id": "dc68bc09",
   "metadata": {},
   "outputs": [],
   "source": [
    "def grade(marks):\n",
    "    if marks > 100 or marks < 0:\n",
    "        print(\" Invalid marks entered\")\n",
    "        return None \n",
    "    elif marks >= 90:\n",
    "        return \"A grade\"\n",
    "    elif marks >= 80:\n",
    "        return \"B grade\"\n",
    "    elif marks >= 70:\n",
    "        return \"C grade\"\n",
    "    elif marks >= 40:\n",
    "        return \"D grade\"\n",
    "    else:\n",
    "        return \"fail\""
   ]
  },
  {
   "cell_type": "code",
   "execution_count": 62,
   "id": "9e15887c",
   "metadata": {},
   "outputs": [
    {
     "name": "stdout",
     "output_type": "stream",
     "text": [
      " Invalid marks entered\n"
     ]
    }
   ],
   "source": [
    "grade(101)"
   ]
  },
  {
   "cell_type": "code",
   "execution_count": null,
   "id": "e438b4f8",
   "metadata": {},
   "outputs": [],
   "source": [
    "#A function can be assigned to a variable"
   ]
  },
  {
   "cell_type": "code",
   "execution_count": 56,
   "id": "c7640fe3",
   "metadata": {},
   "outputs": [
    {
     "data": {
      "text/plain": [
       "'fail'"
      ]
     },
     "execution_count": 56,
     "metadata": {},
     "output_type": "execute_result"
    }
   ],
   "source": [
    "some_variable_storing_func = grade\n",
    "some_variable_storing_func(12)"
   ]
  },
  {
   "cell_type": "code",
   "execution_count": 34,
   "id": "74d10d75",
   "metadata": {},
   "outputs": [
    {
     "data": {
      "text/plain": [
       "6.0"
      ]
     },
     "execution_count": 34,
     "metadata": {},
     "output_type": "execute_result"
    }
   ],
   "source": [
    "import math\n",
    "math.sqrt(36)"
   ]
  },
  {
   "cell_type": "code",
   "execution_count": 35,
   "id": "49263f1e",
   "metadata": {},
   "outputs": [
    {
     "data": {
      "text/plain": [
       "6.0"
      ]
     },
     "execution_count": 35,
     "metadata": {},
     "output_type": "execute_result"
    }
   ],
   "source": [
    "def square_root_function(function,number):\n",
    "    return function(number)\n",
    "\n",
    "square_root_function(math.sqrt,36)"
   ]
  },
  {
   "cell_type": "code",
   "execution_count": 48,
   "id": "6ba50051",
   "metadata": {},
   "outputs": [
    {
     "name": "stdout",
     "output_type": "stream",
     "text": [
      "***\n",
      "inside the second function\n",
      "540\n"
     ]
    }
   ],
   "source": [
    "def hari(num1):\n",
    "    print(\"***\")\n",
    "    def hari_1(num2):\n",
    "        print(\"inside the second function\")\n",
    "        return num1 * num2\n",
    "    return hari_1\n",
    "\n",
    "print(hari(12)(45))       "
   ]
  },
  {
   "cell_type": "code",
   "execution_count": null,
   "id": "992a54da",
   "metadata": {},
   "outputs": [],
   "source": [
    "#functions can be stored as data structures like lists and dictionaries"
   ]
  },
  {
   "cell_type": "code",
   "execution_count": null,
   "id": "c57f0d0e",
   "metadata": {},
   "outputs": [],
   "source": [
    "#using lists"
   ]
  },
  {
   "cell_type": "code",
   "execution_count": 3,
   "id": "67161d51",
   "metadata": {},
   "outputs": [
    {
     "data": {
      "text/plain": [
       "str"
      ]
     },
     "execution_count": 3,
     "metadata": {},
     "output_type": "execute_result"
    }
   ],
   "source": [
    "list1=[11,\"chintu\",True,\"hari\"]\n",
    "list1\n",
    "type(list1[-1])"
   ]
  },
  {
   "cell_type": "code",
   "execution_count": 6,
   "id": "3ec3c49c",
   "metadata": {},
   "outputs": [
    {
     "name": "stdout",
     "output_type": "stream",
     "text": [
      "✲✲✲✲✲✲\n",
      "✲✲✲✲✲✲\n"
     ]
    }
   ],
   "source": [
    "def repeater_function(string, times):\n",
    "    print(string * times)\n",
    "    \n",
    "repeater_function(chr(10034),6) #positional argument\n",
    "\n",
    "repeater_function(times = 6,string = chr(10034))"
   ]
  },
  {
   "cell_type": "code",
   "execution_count": 8,
   "id": "bd1ecf97",
   "metadata": {},
   "outputs": [
    {
     "data": {
      "text/plain": [
       "1"
      ]
     },
     "execution_count": 8,
     "metadata": {},
     "output_type": "execute_result"
    }
   ],
   "source": [
    "sample_str = \"saomya\"\n",
    "sample_str.find(\"a\")"
   ]
  },
  {
   "cell_type": "code",
   "execution_count": 12,
   "id": "dec7d8c0",
   "metadata": {},
   "outputs": [
    {
     "name": "stdout",
     "output_type": "stream",
     "text": [
      "✲\n",
      "✲✲\n",
      "✲✲✲\n",
      "✲✲✲✲\n",
      "✲✲✲✲✲\n"
     ]
    }
   ],
   "source": [
    "def repeater_function(string, times):\n",
    "    for row in range(1,times):\n",
    "        print(string * row)\n",
    "    \n",
    "repeater_function(chr(10034),6) #specify the order #use keywords and interchange "
   ]
  },
  {
   "cell_type": "code",
   "execution_count": 14,
   "id": "5de23312",
   "metadata": {},
   "outputs": [],
   "source": [
    "def addition(a,b):\n",
    "    return a + b\n",
    "\n",
    "def difference(a,b):\n",
    "    return a - b\n",
    "\n",
    "def multiplication(a,b):\n",
    "    return a * b\n",
    "\n",
    "def division(a,b):\n",
    "    return a / b\n",
    "\n",
    "def floor_division(a,b):\n",
    "    return a // b"
   ]
  },
  {
   "cell_type": "code",
   "execution_count": 15,
   "id": "25ea033e",
   "metadata": {},
   "outputs": [
    {
     "data": {
      "text/plain": [
       "46"
      ]
     },
     "execution_count": 15,
     "metadata": {},
     "output_type": "execute_result"
    }
   ],
   "source": [
    "addition(12,34)"
   ]
  },
  {
   "cell_type": "code",
   "execution_count": 16,
   "id": "c12c31b1",
   "metadata": {},
   "outputs": [
    {
     "name": "stdout",
     "output_type": "stream",
     "text": [
      "prabhas(variable) met simba in the jungle(function)...\n"
     ]
    }
   ],
   "source": [
    "human = \"prabhas\"\n",
    "def jungle():\n",
    "    lion = \"simba\"\n",
    "    print(f\"{human}(variable) met {lion} in the jungle(function)...\")\n",
    "    \n",
    "jungle() ###calling   "
   ]
  },
  {
   "cell_type": "code",
   "execution_count": 19,
   "id": "e9459925",
   "metadata": {},
   "outputs": [
    {
     "name": "stdout",
     "output_type": "stream",
     "text": [
      "prabhas(variable) met simba in the jungle(function)...\n",
      "is simba accesible outside the jungle???\n"
     ]
    },
    {
     "ename": "NameError",
     "evalue": "name 'lion' is not defined",
     "output_type": "error",
     "traceback": [
      "\u001b[1;31m---------------------------------------------------------------------------\u001b[0m",
      "\u001b[1;31mNameError\u001b[0m                                 Traceback (most recent call last)",
      "Cell \u001b[1;32mIn[19], line 8\u001b[0m\n\u001b[0;32m      6\u001b[0m jungle() \u001b[38;5;66;03m###calling\u001b[39;00m\n\u001b[0;32m      7\u001b[0m \u001b[38;5;28mprint\u001b[39m(\u001b[38;5;124m\"\u001b[39m\u001b[38;5;124mis simba accesible outside the jungle???\u001b[39m\u001b[38;5;124m\"\u001b[39m)\n\u001b[1;32m----> 8\u001b[0m \u001b[38;5;28mprint\u001b[39m(lion)\n",
      "\u001b[1;31mNameError\u001b[0m: name 'lion' is not defined"
     ]
    }
   ],
   "source": [
    "human = \"prabhas\"\n",
    "def jungle():\n",
    "    lion = \"simba\"\n",
    "    print(f\"{human}(variable) met {lion} in the jungle(function)...\")\n",
    "    \n",
    "jungle() ###calling\n",
    "print(\"is simba accesible outside the jungle???\")\n",
    "print(lion)##it cannot be printed the scope is until jungle"
   ]
  },
  {
   "cell_type": "code",
   "execution_count": 21,
   "id": "90cb6c63",
   "metadata": {},
   "outputs": [
    {
     "name": "stdout",
     "output_type": "stream",
     "text": [
      "prabhas(variable) met simba in the jungle(function)...\n",
      "is simba accesible outside the jungle???\n",
      "yes simba has come to meet his friend prabhas\n"
     ]
    }
   ],
   "source": [
    "human = \"prabhas\"\n",
    "def jungle():\n",
    "    global lion\n",
    "    lion = \"simba\"\n",
    "    print(f\"{human}(variable) met {lion} in the jungle(function)...\")\n",
    "    \n",
    "jungle() ###calling\n",
    "print(\"is simba accesible outside the jungle???\")\n",
    "print(f\"yes {lion} has come to meet his friend {human}\")##it cannot be printed the scope is until jungle"
   ]
  },
  {
   "cell_type": "code",
   "execution_count": 23,
   "id": "ddf9a6b6",
   "metadata": {},
   "outputs": [
    {
     "name": "stdout",
     "output_type": "stream",
     "text": [
      " i am the inner variable\n",
      " i am the outer variable\n",
      "i am the global variable\n"
     ]
    }
   ],
   "source": [
    "variable = \"i am the global variable\"\n",
    "def outer_function():\n",
    "    variable = \" i am the outer variable\"\n",
    "    def inner_function():\n",
    "        variable = \" i am the inner variable\"\n",
    "        print(variable)\n",
    "    inner_function()\n",
    "    print(variable)\n",
    "    \n",
    "outer_function()\n",
    "print(variable)"
   ]
  },
  {
   "cell_type": "code",
   "execution_count": 24,
   "id": "03d3c15b",
   "metadata": {},
   "outputs": [
    {
     "name": "stdout",
     "output_type": "stream",
     "text": [
      "i am the global variable 1610146260720\n",
      " i am the inner variable\n",
      " i am the inner variable 1610146265280\n",
      " i am the outer variable\n",
      " i am the outer variable 1610146262720\n",
      "i am the global variable\n",
      "i am the global variable 1610146260720\n"
     ]
    }
   ],
   "source": [
    "variable = \"i am the global variable\"\n",
    "print(variable,id(variable))\n",
    "def outer_function():\n",
    "    variable = \" i am the outer variable\"\n",
    "    def inner_function():\n",
    "        variable = \" i am the inner variable\"\n",
    "        print(variable)\n",
    "        print(variable,id(variable))\n",
    "    inner_function()\n",
    "    print(variable)\n",
    "    print(variable,id(variable))\n",
    "    \n",
    "outer_function()\n",
    "print(variable)\n",
    "print(variable,id(variable))"
   ]
  },
  {
   "cell_type": "code",
   "execution_count": 29,
   "id": "efa6bfd3",
   "metadata": {},
   "outputs": [
    {
     "name": "stdout",
     "output_type": "stream",
     "text": [
      "120\n"
     ]
    }
   ],
   "source": [
    "number = 5\n",
    "factorial  = 1\n",
    "for element in range(2,number+1):\n",
    "    factorial = factorial * element\n",
    "print(factorial)\n",
    "    "
   ]
  },
  {
   "cell_type": "code",
   "execution_count": 37,
   "id": "a4f6291f",
   "metadata": {},
   "outputs": [
    {
     "name": "stdout",
     "output_type": "stream",
     "text": [
      "enter a number   :7\n",
      "factorial of the number 7: 120\n"
     ]
    }
   ],
   "source": [
    "def factorial_of_number(number):\n",
    "    factorial  = 1\n",
    "    for element in range(2,number+1):\n",
    "        factorial = factorial * element\n",
    "    return factorial\n",
    "   \n",
    "\n",
    "num = int(input(\"enter a number   :\"))\n",
    "print(f\"factorial of the number {num}: {factorial_of_number(number)}\")  "
   ]
  },
  {
   "cell_type": "code",
   "execution_count": 7,
   "id": "a5e582fd",
   "metadata": {},
   "outputs": [
    {
     "data": {
      "text/plain": [
       "'you must be out of mind'"
      ]
     },
     "execution_count": 7,
     "metadata": {},
     "output_type": "execute_result"
    }
   ],
   "source": [
    "def factorial(number):\n",
    "    if number == 1 or number == 0:\n",
    "        return 1\n",
    "    elif number < 0:\n",
    "        return \"you must be out of mind\"\n",
    "    else:\n",
    "        return number * factorial(number - 1)\n",
    "factorial(-7)"
   ]
  },
  {
   "cell_type": "code",
   "execution_count": null,
   "id": "714f2981",
   "metadata": {},
   "outputs": [],
   "source": [
    "print(0 + True)"
   ]
  },
  {
   "cell_type": "code",
   "execution_count": null,
   "id": "3fbd136f",
   "metadata": {},
   "outputs": [],
   "source": [
    "#FIBONACCI SERIES"
   ]
  },
  {
   "cell_type": "code",
   "execution_count": 19,
   "id": "da23c33b",
   "metadata": {},
   "outputs": [
    {
     "name": "stdout",
     "output_type": "stream",
     "text": [
      "[0, 1, 1, 2, 3, 5, 8]\n"
     ]
    }
   ],
   "source": [
    "no_of_terms = 7\n",
    "first_number = 0\n",
    "second_number = 1\n",
    "fib_list = [0,1]\n",
    "for number in range(no_of_terms - 2):\n",
    "    third_number = first_number + second_number\n",
    "    fib_list.append(third_number)\n",
    "    first_number = second_number\n",
    "    second_number = third_number\n",
    "print(fib_list)\n",
    "\n",
    "#we got 9 numbers bcoz of initialising 2 nums if we remove them we will get other values \n",
    "#hence reduce num of terms by 2 to get only 7 terms"
   ]
  },
  {
   "cell_type": "code",
   "execution_count": 20,
   "id": "818c26fa",
   "metadata": {},
   "outputs": [
    {
     "data": {
      "text/plain": [
       "[0, 1, 1, 2, 3, 5, 8]"
      ]
     },
     "execution_count": 20,
     "metadata": {},
     "output_type": "execute_result"
    }
   ],
   "source": [
    "def fibonocci(no_of_terms):\n",
    "    first_number = 0\n",
    "    second_number = 1\n",
    "    fib_list = [0,1]\n",
    "    for number in range(no_of_terms - 2):\n",
    "        third_number = first_number + second_number\n",
    "        fib_list.append(third_number)\n",
    "        first_number = second_number\n",
    "        second_number = third_number\n",
    "    return(fib_list)\n",
    "\n",
    "fibonocci(7)"
   ]
  },
  {
   "cell_type": "code",
   "execution_count": 32,
   "id": "f4ccb208",
   "metadata": {},
   "outputs": [
    {
     "data": {
      "text/plain": [
       "8"
      ]
     },
     "execution_count": 32,
     "metadata": {},
     "output_type": "execute_result"
    }
   ],
   "source": [
    "def nth_fibonacci_term(term):\n",
    "    if term == 0 or term == 1:\n",
    "        #print(f\"INSIDE IF .... the value of term is {term}\")\n",
    "        return term\n",
    "    elif term < 0:\n",
    "        return \"use your brain and write code\"\n",
    "    else:\n",
    "        #print(f\"INSIDE ELSE................... the value of term is {term}\")\n",
    "        return nth_fibonacci_term(term - 1)+nth_fibonacci_term(term - 2)\n",
    "\n",
    "nth_fibonacci_term(6)"
   ]
  },
  {
   "cell_type": "code",
   "execution_count": 40,
   "id": "ed756763",
   "metadata": {},
   "outputs": [
    {
     "data": {
      "text/plain": [
       "[('h', 'c'), ('a', 'h'), ('r', 'a'), ('i', 'n')]"
      ]
     },
     "execution_count": 40,
     "metadata": {},
     "output_type": "execute_result"
    }
   ],
   "source": [
    "a=\"hari\"\n",
    "b=\"chandan\"\n",
    "list(zip(a,b))"
   ]
  },
  {
   "cell_type": "markdown",
   "id": "a6de10ff",
   "metadata": {},
   "source": [
    "##### LAMBDA FUNCTIONS\n",
    "#Variable is storing a function\n",
    "num = 54\n",
    "sq_num = lambda number: number ** 2\n",
    "sq_num(num)"
   ]
  },
  {
   "cell_type": "code",
   "execution_count": 44,
   "id": "fa23a807",
   "metadata": {},
   "outputs": [
    {
     "data": {
      "text/plain": [
       "'even'"
      ]
     },
     "execution_count": 44,
     "metadata": {},
     "output_type": "execute_result"
    }
   ],
   "source": [
    "#Conditional statements\n",
    "num = 54\n",
    "odd_even_num = lambda number: \"even\" if num %2 == 0 else \"odd\"\n",
    "odd_even_num(num)"
   ]
  },
  {
   "cell_type": "code",
   "execution_count": 45,
   "id": "d11a5399",
   "metadata": {},
   "outputs": [
    {
     "data": {
      "text/plain": [
       "(74947, 943792, 9479283084, 63873917)"
      ]
     },
     "execution_count": 45,
     "metadata": {},
     "output_type": "execute_result"
    }
   ],
   "source": [
    "list_of_nos = lambda *args: numbers #accepting any number of arguments\n",
    "list_of_nos(74947,943792,9479283084,63873917)"
   ]
  },
  {
   "cell_type": "code",
   "execution_count": 47,
   "id": "4174141f",
   "metadata": {},
   "outputs": [
    {
     "data": {
      "text/plain": [
       "{'saomya': 10, 'harika': 20, 'divya': 25}"
      ]
     },
     "execution_count": 47,
     "metadata": {},
     "output_type": "execute_result"
    }
   ],
   "source": [
    "dict_of_nos = lambda ** item: item  \n",
    "dict_of_nos(saomya = 10, harika = 20,divya = 25)\n",
    "#wthout giving as strings default it is taking strings in dictionaries"
   ]
  },
  {
   "cell_type": "code",
   "execution_count": 3,
   "id": "4c6cb710",
   "metadata": {},
   "outputs": [
    {
     "name": "stdout",
     "output_type": "stream",
     "text": [
      "8\n"
     ]
    }
   ],
   "source": [
    "def fibonacci(n):\n",
    "    if n == 0 or n ==1:\n",
    "        #print(f\"Inside if; value of n is {n}\")\n",
    "        return n\n",
    "    #print(f\"Inside if; value of n is {n}\")\n",
    "    fib_1 = fibonacci(n-1)\n",
    "    #print(f\"outside if; value of n is {n} and {fib_1}\")\n",
    "    fib_2 = fibonacci(n-2)\n",
    "    #print(f\"outside if; value of n is {n} and {fib_2}\")\n",
    "    fib_n = fib_1+fib_2\n",
    "    #print(f\" return outside if; value of n is {n} and fib_n = {fib_n}\")\n",
    "    return fib_n\n",
    "print(fibonacci(6))"
   ]
  },
  {
   "cell_type": "code",
   "execution_count": null,
   "id": "908719de",
   "metadata": {},
   "outputs": [],
   "source": [
    "#name less function\n",
    "#function comprehension\n",
    "#no paranthesis is required,instead of func we use lambda\n",
    "#colon seperates the parametre\n",
    "#paramtres or arguments are optional\n",
    "#no need of print or return"
   ]
  },
  {
   "cell_type": "code",
   "execution_count": 4,
   "id": "714e6636",
   "metadata": {},
   "outputs": [
    {
     "data": {
      "text/plain": [
       "'hello python!'"
      ]
     },
     "execution_count": 4,
     "metadata": {},
     "output_type": "execute_result"
    }
   ],
   "source": [
    "just_print_something = lambda : \"hello python!\"\n",
    "just_print_something()#without having parametre"
   ]
  },
  {
   "cell_type": "code",
   "execution_count": null,
   "id": "f9950a7c",
   "metadata": {},
   "outputs": [],
   "source": [
    "#MAP FUNCTION\n",
    "#this function iterates"
   ]
  },
  {
   "cell_type": "code",
   "execution_count": 7,
   "id": "cc73ffd8",
   "metadata": {},
   "outputs": [
    {
     "data": {
      "text/plain": [
       "<map at 0x1fb9d361b70>"
      ]
     },
     "execution_count": 7,
     "metadata": {},
     "output_type": "execute_result"
    }
   ],
   "source": [
    "#cube of elements\n",
    "list_of_nos = [5,12,44,17,12,2]\n",
    "cube_function = lambda element: element ** 3\n",
    "(map(cube_function,list_of_nos))#gives memory"
   ]
  },
  {
   "cell_type": "code",
   "execution_count": 5,
   "id": "d1a71db5",
   "metadata": {},
   "outputs": [],
   "source": [
    "def hari(num):\n",
    "    if num % 2 ==0:\n",
    "        return num"
   ]
  },
  {
   "cell_type": "code",
   "execution_count": 44,
   "id": "eb2a71de",
   "metadata": {},
   "outputs": [
    {
     "data": {
      "text/plain": [
       "[None, 12, 44, None, 12, 2]"
      ]
     },
     "execution_count": 44,
     "metadata": {},
     "output_type": "execute_result"
    }
   ],
   "source": [
    "list_of_nos = [5,12,44,17,12,2]\n",
    "\n",
    "list(map(hari,list_of_nos)) "
   ]
  },
  {
   "cell_type": "code",
   "execution_count": 3,
   "id": "80287b24",
   "metadata": {},
   "outputs": [],
   "source": []
  },
  {
   "cell_type": "code",
   "execution_count": 8,
   "id": "61be8d93",
   "metadata": {},
   "outputs": [
    {
     "data": {
      "text/plain": [
       "(125, 1728, 85184, 4913, 1728, 8)"
      ]
     },
     "execution_count": 8,
     "metadata": {},
     "output_type": "execute_result"
    }
   ],
   "source": [
    "list_of_nos = [5,12,44,17,12,2]\n",
    "cube_function = lambda element: element ** 3\n",
    "tuple(map(cube_function,list_of_nos))"
   ]
  },
  {
   "cell_type": "code",
   "execution_count": 9,
   "id": "b2679473",
   "metadata": {},
   "outputs": [
    {
     "data": {
      "text/plain": [
       "(125, 1728, 85184, 4913, 1728, 8)"
      ]
     },
     "execution_count": 9,
     "metadata": {},
     "output_type": "execute_result"
    }
   ],
   "source": [
    "list_of_nos = [5,12,44,17,12,2]\n",
    "cube_function = lambda element: element ** 3\n",
    "tuple(map( lambda element: element ** 3,list_of_nos))"
   ]
  },
  {
   "cell_type": "markdown",
   "id": "6e994a93",
   "metadata": {},
   "source": [
    "##### Filter Function"
   ]
  },
  {
   "cell_type": "code",
   "execution_count": 22,
   "id": "458132cb",
   "metadata": {},
   "outputs": [],
   "source": [
    "def div_by_or2or3_not_both(number):\n",
    "    if number % 2 == 0 and number % 3==0:\n",
    "        print(f\"{number} is divisible by both 2 and 3\")\n",
    "    elif number % 2 == 0 or number % 3==0:\n",
    "         print(f\"{number} is divisible by either  2 or 3\")\n",
    "    else: \n",
    "         print(f\"{number} is not divisible by both 2 or 3\")\n",
    "            "
   ]
  },
  {
   "cell_type": "code",
   "execution_count": 23,
   "id": "53e81f0c",
   "metadata": {},
   "outputs": [
    {
     "name": "stdout",
     "output_type": "stream",
     "text": [
      "9 is divisible by either  2 or 3\n"
     ]
    }
   ],
   "source": [
    "div_by_or2or3_not_both(9)"
   ]
  },
  {
   "cell_type": "code",
   "execution_count": 28,
   "id": "9d18b834",
   "metadata": {},
   "outputs": [],
   "source": [
    "def div_by_or2or3_not_both(number):\n",
    "    if number % 2 == 0 and number % 3==0:\n",
    "         return False\n",
    "    elif number % 2 == 0 or number % 3==0:\n",
    "         return True\n",
    "    else: \n",
    "          return True\n",
    "        \n"
   ]
  },
  {
   "cell_type": "code",
   "execution_count": 29,
   "id": "d091596c",
   "metadata": {},
   "outputs": [
    {
     "data": {
      "text/plain": [
       "[5, 44, 17, 2]"
      ]
     },
     "execution_count": 29,
     "metadata": {},
     "output_type": "execute_result"
    }
   ],
   "source": [
    "list(filter(div_by_or2or3_not_both,list_of_nos))"
   ]
  },
  {
   "cell_type": "markdown",
   "id": "60a41126",
   "metadata": {},
   "source": [
    "##### Reduce Function\n",
    "#using alll the numbers assigning some operations giving single inputre"
   ]
  },
  {
   "cell_type": "code",
   "execution_count": 30,
   "id": "73494a5d",
   "metadata": {},
   "outputs": [],
   "source": [
    "from functools import reduce"
   ]
  },
  {
   "cell_type": "code",
   "execution_count": 35,
   "id": "ccaa02aa",
   "metadata": {},
   "outputs": [
    {
     "data": {
      "text/plain": [
       "[5, 12, 44, 17, 12, 2]"
      ]
     },
     "execution_count": 35,
     "metadata": {},
     "output_type": "execute_result"
    }
   ],
   "source": [
    "def multiply(num1,num2):\n",
    "    return num1 * num2\n",
    "list_of_nos"
   ]
  },
  {
   "cell_type": "code",
   "execution_count": 38,
   "id": "09d4804b",
   "metadata": {},
   "outputs": [
    {
     "data": {
      "text/plain": [
       "1077120"
      ]
     },
     "execution_count": 38,
     "metadata": {},
     "output_type": "execute_result"
    }
   ],
   "source": [
    "reduce(multiply,list_of_nos)"
   ]
  },
  {
   "cell_type": "code",
   "execution_count": 39,
   "id": "3c3d32a2",
   "metadata": {},
   "outputs": [
    {
     "data": {
      "text/plain": [
       "92"
      ]
     },
     "execution_count": 39,
     "metadata": {},
     "output_type": "execute_result"
    }
   ],
   "source": [
    "sum(list_of_nos)#when it comes to subtraction we cannot have built in so we use reduce func"
   ]
  },
  {
   "cell_type": "markdown",
   "id": "28a87351",
   "metadata": {},
   "source": [
    "#### File Handling"
   ]
  },
  {
   "cell_type": "markdown",
   "id": "b7856d59",
   "metadata": {},
   "source": [
    "#### 22/08/24\n",
    "#In file handling we can view , write, modify   \n",
    "#files are used to store information\n",
    "#we can create files we can handle them\n",
    "#we can open jupiter files with notepad but looks like json file form of dictionaries"
   ]
  },
  {
   "cell_type": "code",
   "execution_count": 3,
   "id": "bab2eeca",
   "metadata": {},
   "outputs": [
    {
     "ename": "UnicodeDecodeError",
     "evalue": "'charmap' codec can't decode byte 0x9d in position 411: character maps to <undefined>",
     "output_type": "error",
     "traceback": [
      "\u001b[1;31m---------------------------------------------------------------------------\u001b[0m",
      "\u001b[1;31mUnicodeDecodeError\u001b[0m                        Traceback (most recent call last)",
      "Cell \u001b[1;32mIn[3], line 2\u001b[0m\n\u001b[0;32m      1\u001b[0m file \u001b[38;5;241m=\u001b[39m \u001b[38;5;28mopen\u001b[39m(mode \u001b[38;5;241m=\u001b[39m \u001b[38;5;124m\"\u001b[39m\u001b[38;5;124mr\u001b[39m\u001b[38;5;124m\"\u001b[39m,file \u001b[38;5;241m=\u001b[39m \u001b[38;5;124mr\u001b[39m\u001b[38;5;124m\"\u001b[39m\u001b[38;5;124mC:\u001b[39m\u001b[38;5;124m\\\u001b[39m\u001b[38;5;124mUsers\u001b[39m\u001b[38;5;124m\\\u001b[39m\u001b[38;5;124mlenovo\u001b[39m\u001b[38;5;124m\\\u001b[39m\u001b[38;5;124mDesktop\u001b[39m\u001b[38;5;124m\\\u001b[39m\u001b[38;5;124mDaily tasks\u001b[39m\u001b[38;5;124m\\\u001b[39m\u001b[38;5;124mDaily_task4.IPYNB\u001b[39m\u001b[38;5;124m\"\u001b[39m)\n\u001b[1;32m----> 2\u001b[0m file\u001b[38;5;241m.\u001b[39mread()\n\u001b[0;32m      3\u001b[0m file\u001b[38;5;241m.\u001b[39mclose()\n",
      "File \u001b[1;32m~\\anaconda3\\Lib\\encodings\\cp1252.py:23\u001b[0m, in \u001b[0;36mIncrementalDecoder.decode\u001b[1;34m(self, input, final)\u001b[0m\n\u001b[0;32m     22\u001b[0m \u001b[38;5;28;01mdef\u001b[39;00m \u001b[38;5;21mdecode\u001b[39m(\u001b[38;5;28mself\u001b[39m, \u001b[38;5;28minput\u001b[39m, final\u001b[38;5;241m=\u001b[39m\u001b[38;5;28;01mFalse\u001b[39;00m):\n\u001b[1;32m---> 23\u001b[0m     \u001b[38;5;28;01mreturn\u001b[39;00m codecs\u001b[38;5;241m.\u001b[39mcharmap_decode(\u001b[38;5;28minput\u001b[39m,\u001b[38;5;28mself\u001b[39m\u001b[38;5;241m.\u001b[39merrors,decoding_table)[\u001b[38;5;241m0\u001b[39m]\n",
      "\u001b[1;31mUnicodeDecodeError\u001b[0m: 'charmap' codec can't decode byte 0x9d in position 411: character maps to <undefined>"
     ]
    }
   ],
   "source": [
    "file = open(mode = \"r\",file = r\"C:\\Users\\lenovo\\Desktop\\Daily tasks\\Daily_task4.IPYNB \")\n",
    "file.read()\n",
    "file.close()"
   ]
  },
  {
   "cell_type": "code",
   "execution_count": 6,
   "id": "8945635b",
   "metadata": {},
   "outputs": [
    {
     "ename": "FileNotFoundError",
     "evalue": "[Errno 2] No such file or directory: 'IMG_20230101_175552'",
     "output_type": "error",
     "traceback": [
      "\u001b[1;31m---------------------------------------------------------------------------\u001b[0m",
      "\u001b[1;31mFileNotFoundError\u001b[0m                         Traceback (most recent call last)",
      "Cell \u001b[1;32mIn[6], line 1\u001b[0m\n\u001b[1;32m----> 1\u001b[0m file \u001b[38;5;241m=\u001b[39m \u001b[38;5;28mopen\u001b[39m(file \u001b[38;5;241m=\u001b[39m \u001b[38;5;124m\"\u001b[39m\u001b[38;5;124mIMG_20230101_175552\u001b[39m\u001b[38;5;124m\"\u001b[39m, mode \u001b[38;5;241m=\u001b[39m \u001b[38;5;124m\"\u001b[39m\u001b[38;5;124mrb\u001b[39m\u001b[38;5;124m\"\u001b[39m)\n\u001b[0;32m      2\u001b[0m file\u001b[38;5;241m.\u001b[39mread()\n",
      "File \u001b[1;32m~\\anaconda3\\Lib\\site-packages\\IPython\\core\\interactiveshell.py:286\u001b[0m, in \u001b[0;36m_modified_open\u001b[1;34m(file, *args, **kwargs)\u001b[0m\n\u001b[0;32m    279\u001b[0m \u001b[38;5;28;01mif\u001b[39;00m file \u001b[38;5;129;01min\u001b[39;00m {\u001b[38;5;241m0\u001b[39m, \u001b[38;5;241m1\u001b[39m, \u001b[38;5;241m2\u001b[39m}:\n\u001b[0;32m    280\u001b[0m     \u001b[38;5;28;01mraise\u001b[39;00m \u001b[38;5;167;01mValueError\u001b[39;00m(\n\u001b[0;32m    281\u001b[0m         \u001b[38;5;124mf\u001b[39m\u001b[38;5;124m\"\u001b[39m\u001b[38;5;124mIPython won\u001b[39m\u001b[38;5;124m'\u001b[39m\u001b[38;5;124mt let you open fd=\u001b[39m\u001b[38;5;132;01m{\u001b[39;00mfile\u001b[38;5;132;01m}\u001b[39;00m\u001b[38;5;124m by default \u001b[39m\u001b[38;5;124m\"\u001b[39m\n\u001b[0;32m    282\u001b[0m         \u001b[38;5;124m\"\u001b[39m\u001b[38;5;124mas it is likely to crash IPython. If you know what you are doing, \u001b[39m\u001b[38;5;124m\"\u001b[39m\n\u001b[0;32m    283\u001b[0m         \u001b[38;5;124m\"\u001b[39m\u001b[38;5;124myou can use builtins\u001b[39m\u001b[38;5;124m'\u001b[39m\u001b[38;5;124m open.\u001b[39m\u001b[38;5;124m\"\u001b[39m\n\u001b[0;32m    284\u001b[0m     )\n\u001b[1;32m--> 286\u001b[0m \u001b[38;5;28;01mreturn\u001b[39;00m io_open(file, \u001b[38;5;241m*\u001b[39margs, \u001b[38;5;241m*\u001b[39m\u001b[38;5;241m*\u001b[39mkwargs)\n",
      "\u001b[1;31mFileNotFoundError\u001b[0m: [Errno 2] No such file or directory: 'IMG_20230101_175552'"
     ]
    }
   ],
   "source": [
    "file = open(file = \"IMG_20230101_175552\", mode = \"rb\")\n",
    "file.read()"
   ]
  },
  {
   "cell_type": "code",
   "execution_count": 7,
   "id": "b3daf404",
   "metadata": {},
   "outputs": [],
   "source": [
    "import os"
   ]
  },
  {
   "cell_type": "code",
   "execution_count": 8,
   "id": "6bede792",
   "metadata": {},
   "outputs": [
    {
     "data": {
      "text/plain": [
       "False"
      ]
     },
     "execution_count": 8,
     "metadata": {},
     "output_type": "execute_result"
    }
   ],
   "source": [
    "os.path.isfile(\"IMG_20230101_175552.HEIC Image Viewer (.jpg\")"
   ]
  },
  {
   "cell_type": "code",
   "execution_count": 10,
   "id": "b5156820",
   "metadata": {},
   "outputs": [
    {
     "name": "stdout",
     "output_type": "stream",
     "text": [
      "True\n"
     ]
    }
   ],
   "source": [
    " os.path.isfile(r\"C:\\Users\\lenovo\\Desktop\\Daily tasks\\Daily_task4.IPYNB\")"
   ]
  },
  {
   "cell_type": "code",
   "execution_count": null,
   "id": "5235d167",
   "metadata": {},
   "outputs": [],
   "source": [
    "#  FILE HANDLING"
   ]
  },
  {
   "cell_type": "code",
   "execution_count": 11,
   "id": "c0f794e6",
   "metadata": {},
   "outputs": [
    {
     "ename": "IndentationError",
     "evalue": "unexpected indent (1108043605.py, line 2)",
     "output_type": "error",
     "traceback": [
      "\u001b[1;36m  Cell \u001b[1;32mIn[11], line 2\u001b[1;36m\u001b[0m\n\u001b[1;33m    num 2 = 12\u001b[0m\n\u001b[1;37m    ^\u001b[0m\n\u001b[1;31mIndentationError\u001b[0m\u001b[1;31m:\u001b[0m unexpected indent\n"
     ]
    }
   ],
   "source": [
    "num1 = 1729\n",
    "  num 2 = 12\n",
    "num 2 > 10:\n",
    "    print(num1)"
   ]
  },
  {
   "cell_type": "code",
   "execution_count": 12,
   "id": "916e50ac",
   "metadata": {},
   "outputs": [
    {
     "ename": "SyntaxError",
     "evalue": "invalid syntax (490411309.py, line 2)",
     "output_type": "error",
     "traceback": [
      "\u001b[1;36m  Cell \u001b[1;32mIn[12], line 2\u001b[1;36m\u001b[0m\n\u001b[1;33m    num 2 = 12\u001b[0m\n\u001b[1;37m        ^\u001b[0m\n\u001b[1;31mSyntaxError\u001b[0m\u001b[1;31m:\u001b[0m invalid syntax\n"
     ]
    }
   ],
   "source": [
    "num1 = 1729\n",
    "num 2 = 12\n",
    "if num2 = 10:#assign ==\n",
    "    print(num1)"
   ]
  },
  {
   "cell_type": "code",
   "execution_count": 13,
   "id": "1f866399",
   "metadata": {},
   "outputs": [
    {
     "ename": "ZeroDivisionError",
     "evalue": "division by zero",
     "output_type": "error",
     "traceback": [
      "\u001b[1;31m---------------------------------------------------------------------------\u001b[0m",
      "\u001b[1;31mZeroDivisionError\u001b[0m                         Traceback (most recent call last)",
      "Cell \u001b[1;32mIn[13], line 1\u001b[0m\n\u001b[1;32m----> 1\u001b[0m \u001b[38;5;28mprint\u001b[39m(\u001b[38;5;241m1\u001b[39m\u001b[38;5;241m/\u001b[39m\u001b[38;5;241m0\u001b[39m)\n",
      "\u001b[1;31mZeroDivisionError\u001b[0m: division by zero"
     ]
    }
   ],
   "source": [
    "print(1/0)"
   ]
  },
  {
   "cell_type": "code",
   "execution_count": 14,
   "id": "4c591feb",
   "metadata": {},
   "outputs": [
    {
     "ename": "NameError",
     "evalue": "name 'b' is not defined",
     "output_type": "error",
     "traceback": [
      "\u001b[1;31m---------------------------------------------------------------------------\u001b[0m",
      "\u001b[1;31mNameError\u001b[0m                                 Traceback (most recent call last)",
      "Cell \u001b[1;32mIn[14], line 2\u001b[0m\n\u001b[0;32m      1\u001b[0m a\u001b[38;5;241m=\u001b[39m\u001b[38;5;241m5\u001b[39m\n\u001b[1;32m----> 2\u001b[0m \u001b[38;5;28mprint\u001b[39m(b)\n",
      "\u001b[1;31mNameError\u001b[0m: name 'b' is not defined"
     ]
    }
   ],
   "source": [
    "a=5\n",
    "print(b)"
   ]
  },
  {
   "cell_type": "code",
   "execution_count": 15,
   "id": "4d5d9284",
   "metadata": {},
   "outputs": [
    {
     "ename": "NameError",
     "evalue": "name 'num2' is not defined",
     "output_type": "error",
     "traceback": [
      "\u001b[1;31m---------------------------------------------------------------------------\u001b[0m",
      "\u001b[1;31mNameError\u001b[0m                                 Traceback (most recent call last)",
      "Cell \u001b[1;32mIn[15], line 2\u001b[0m\n\u001b[0;32m      1\u001b[0m num1 \u001b[38;5;241m=\u001b[39m \u001b[38;5;241m1729\u001b[39m\n\u001b[1;32m----> 2\u001b[0m \u001b[38;5;28;01mif\u001b[39;00m num2 \u001b[38;5;241m>\u001b[39m \u001b[38;5;241m78\u001b[39m:\n\u001b[0;32m      3\u001b[0m     \u001b[38;5;28mprint\u001b[39m(num1)\n",
      "\u001b[1;31mNameError\u001b[0m: name 'num2' is not defined"
     ]
    }
   ],
   "source": [
    "num1 = 1729\n",
    "if num2 > 78:\n",
    "    print(num1)"
   ]
  },
  {
   "cell_type": "code",
   "execution_count": 17,
   "id": "fe00deaf",
   "metadata": {},
   "outputs": [
    {
     "name": "stdout",
     "output_type": "stream",
     "text": [
      "you didnt define num2\n"
     ]
    }
   ],
   "source": [
    "num1 = 1729\n",
    "try:\n",
    "    if num2 > 78:\n",
    "        print(num1)\n",
    "\n",
    "except:\n",
    "    print(\"you didnt define num2\")"
   ]
  },
  {
   "cell_type": "code",
   "execution_count": 1,
   "id": "ef887f1e",
   "metadata": {},
   "outputs": [
    {
     "ename": "SyntaxError",
     "evalue": "invalid syntax. Maybe you meant '==' or ':=' instead of '='? (3296631132.py, line 3)",
     "output_type": "error",
     "traceback": [
      "\u001b[1;36m  Cell \u001b[1;32mIn[1], line 3\u001b[1;36m\u001b[0m\n\u001b[1;33m    if num2 = 78:\u001b[0m\n\u001b[1;37m       ^\u001b[0m\n\u001b[1;31mSyntaxError\u001b[0m\u001b[1;31m:\u001b[0m invalid syntax. Maybe you meant '==' or ':=' instead of '='?\n"
     ]
    }
   ],
   "source": [
    "try:\n",
    "    num1 = 1729\n",
    "    if num2 = 78:\n",
    "        print(num1)\n",
    "except:\n",
    "    print(\"sort your syntax\")\n",
    "#we dont have any use to handle errors with try and except"
   ]
  },
  {
   "cell_type": "code",
   "execution_count": 2,
   "id": "cb0b3bc2",
   "metadata": {},
   "outputs": [
    {
     "name": "stdout",
     "output_type": "stream",
     "text": [
      "40\n",
      "432\n",
      "210\n",
      "statistics\n"
     ]
    }
   ],
   "source": [
    "print(40)\n",
    "try:\n",
    "    print(432)\n",
    "    print(1/0)\n",
    "    print(\"chandan\")\n",
    "    \n",
    "except:\n",
    "    print(210)\n",
    "\n",
    "print(\"statistics\")"
   ]
  },
  {
   "cell_type": "code",
   "execution_count": 23,
   "id": "8b6e03e4",
   "metadata": {},
   "outputs": [
    {
     "name": "stdout",
     "output_type": "stream",
     "text": [
      "40\n",
      "432\n"
     ]
    },
    {
     "ename": "ZeroDivisionError",
     "evalue": "division by zero",
     "output_type": "error",
     "traceback": [
      "\u001b[1;31m---------------------------------------------------------------------------\u001b[0m",
      "\u001b[1;31mZeroDivisionError\u001b[0m                         Traceback (most recent call last)",
      "Cell \u001b[1;32mIn[23], line 3\u001b[0m\n\u001b[0;32m      1\u001b[0m \u001b[38;5;28mprint\u001b[39m(\u001b[38;5;241m40\u001b[39m)\n\u001b[0;32m      2\u001b[0m \u001b[38;5;28mprint\u001b[39m(\u001b[38;5;241m432\u001b[39m)\n\u001b[1;32m----> 3\u001b[0m \u001b[38;5;28mprint\u001b[39m(\u001b[38;5;241m1\u001b[39m\u001b[38;5;241m/\u001b[39m\u001b[38;5;241m0\u001b[39m)\n\u001b[0;32m      4\u001b[0m \u001b[38;5;28mprint\u001b[39m(\u001b[38;5;124m\"\u001b[39m\u001b[38;5;124mchandan\u001b[39m\u001b[38;5;124m\"\u001b[39m)\n\u001b[0;32m      6\u001b[0m \u001b[38;5;28mprint\u001b[39m(\u001b[38;5;241m210\u001b[39m)\n",
      "\u001b[1;31mZeroDivisionError\u001b[0m: division by zero"
     ]
    }
   ],
   "source": [
    "print(40)\n",
    "print(432)\n",
    "print(1/0)\n",
    "print(\"chandan\")\n",
    "    \n",
    "print(210)\n",
    "print(\"statistics\")"
   ]
  },
  {
   "cell_type": "code",
   "execution_count": 27,
   "id": "07290487",
   "metadata": {},
   "outputs": [
    {
     "name": "stdout",
     "output_type": "stream",
     "text": [
      "continue the code\n"
     ]
    }
   ],
   "source": [
    "try:\n",
    "    print(1/0)\n",
    "except:\n",
    "    pass\n",
    "print(\"continue the code\")"
   ]
  },
  {
   "cell_type": "code",
   "execution_count": 1,
   "id": "d4cef309",
   "metadata": {},
   "outputs": [
    {
     "name": "stdout",
     "output_type": "stream",
     "text": [
      "Exceptional play ground\n",
      "1. 1/10\n",
      "2. import chandan\n",
      "3. int(\"chintu\")\n",
      "enter a option : 2\n"
     ]
    },
    {
     "ename": "NameError",
     "evalue": "name 'ZeroDivisonError' is not defined",
     "output_type": "error",
     "traceback": [
      "\u001b[1;31m---------------------------------------------------------------------------\u001b[0m",
      "\u001b[1;31mModuleNotFoundError\u001b[0m                       Traceback (most recent call last)",
      "Cell \u001b[1;32mIn[1], line 10\u001b[0m\n\u001b[0;32m      9\u001b[0m \u001b[38;5;28;01melif\u001b[39;00m option \u001b[38;5;241m==\u001b[39m \u001b[38;5;241m2\u001b[39m:\n\u001b[1;32m---> 10\u001b[0m     \u001b[38;5;28;01mimport\u001b[39;00m \u001b[38;5;21;01mchandana\u001b[39;00m\n\u001b[0;32m     11\u001b[0m \u001b[38;5;28;01melif\u001b[39;00m option \u001b[38;5;241m==\u001b[39m \u001b[38;5;241m3\u001b[39m:\n",
      "\u001b[1;31mModuleNotFoundError\u001b[0m: No module named 'chandana'",
      "\nDuring handling of the above exception, another exception occurred:\n",
      "\u001b[1;31mNameError\u001b[0m                                 Traceback (most recent call last)",
      "Cell \u001b[1;32mIn[1], line 15\u001b[0m\n\u001b[0;32m     11\u001b[0m     \u001b[38;5;28;01melif\u001b[39;00m option \u001b[38;5;241m==\u001b[39m \u001b[38;5;241m3\u001b[39m:\n\u001b[0;32m     12\u001b[0m         \u001b[38;5;28mprint\u001b[39m(\u001b[38;5;28mint\u001b[39m(\u001b[38;5;124m\"\u001b[39m\u001b[38;5;124mchintu\u001b[39m\u001b[38;5;124m\"\u001b[39m))\n\u001b[1;32m---> 15\u001b[0m \u001b[38;5;28;01mexcept\u001b[39;00m  ZeroDivisonError:\n\u001b[0;32m     16\u001b[0m     \u001b[38;5;28mprint\u001b[39m(\u001b[38;5;124m\"\u001b[39m\u001b[38;5;124mwow\u001b[39m\u001b[38;5;124m\"\u001b[39m)\n\u001b[0;32m     17\u001b[0m \u001b[38;5;28;01mexcept\u001b[39;00m \u001b[38;5;167;01mModuleNotFoundError\u001b[39;00m:\n",
      "\u001b[1;31mNameError\u001b[0m: name 'ZeroDivisonError' is not defined"
     ]
    }
   ],
   "source": [
    "print(\"Exceptional play ground\")\n",
    "print(\"1. 1/10\")\n",
    "print(\"2. import chandan\")\n",
    "print('3. int(\"chintu\")')\n",
    "try:\n",
    "    option = int(input(\"enter a option : \"))\n",
    "    if option == 1:\n",
    "        print(1/0)\n",
    "    elif option == 2:\n",
    "        import chandana\n",
    "    elif option == 3:\n",
    "        print(int(\"chintu\"))\n",
    "\n",
    "        \n",
    "except  ZeroDivisonError:\n",
    "    print(\"wow\")\n",
    "except ModuleNotFoundError:\n",
    "    print(\"u better start teaching maths\")\n",
    "except NameError:\n",
    "    print(\"change your batch and learn python again\")\n",
    "except:\n",
    "    print(\"hello\")\n",
    "else:\n",
    "    print(\"event has equal chances it is uniform distriution\")"
   ]
  },
  {
   "cell_type": "code",
   "execution_count": null,
   "id": "58f3caf1",
   "metadata": {},
   "outputs": [],
   "source": [
    "#Clubbing exceptions together in tuple"
   ]
  },
  {
   "cell_type": "code",
   "execution_count": 22,
   "id": "9f6d6807",
   "metadata": {},
   "outputs": [
    {
     "name": "stdout",
     "output_type": "stream",
     "text": [
      "correct your values\n"
     ]
    }
   ],
   "source": [
    "try:\n",
    "    print(1/0)\n",
    "    print(int(\"a\"))\n",
    "    import ABCDE_321\n",
    "    \n",
    "except (ZeroDivisionError,ValueError):#giving error bcoz module not defined abt error\n",
    "    print(\"correct your values\")\n",
    "except:\n",
    "    print(\"it is an exception correct it\")"
   ]
  },
  {
   "cell_type": "code",
   "execution_count": 23,
   "id": "a6733940",
   "metadata": {},
   "outputs": [
    {
     "name": "stdout",
     "output_type": "stream",
     "text": [
      "it is an exception correct it\n"
     ]
    }
   ],
   "source": [
    "try:\n",
    "    import ABCDE_321\n",
    "    print(1/0)\n",
    "    print(int(\"a\"))\n",
    "    \n",
    "    \n",
    "except (ZeroDivisionError,ValueError): \n",
    "    print(\"correct your values\")\n",
    "except:\n",
    "    print(\"it is an exception correct it\")"
   ]
  },
  {
   "cell_type": "code",
   "execution_count": null,
   "id": "88af4eb4",
   "metadata": {},
   "outputs": [],
   "source": [
    "#NUmbers of errors and exceptions"
   ]
  },
  {
   "cell_type": "code",
   "execution_count": 24,
   "id": "21bad368",
   "metadata": {},
   "outputs": [],
   "source": [
    "import builtins"
   ]
  },
  {
   "cell_type": "code",
   "execution_count": 29,
   "id": "06cc033a",
   "metadata": {},
   "outputs": [
    {
     "data": {
      "text/plain": [
       "['ArithmeticError',\n",
       " 'AssertionError',\n",
       " 'AttributeError',\n",
       " 'BaseException',\n",
       " 'BaseExceptionGroup',\n",
       " 'BlockingIOError',\n",
       " 'BrokenPipeError',\n",
       " 'BufferError',\n",
       " 'BytesWarning',\n",
       " 'ChildProcessError',\n",
       " 'ConnectionAbortedError',\n",
       " 'ConnectionError',\n",
       " 'ConnectionRefusedError',\n",
       " 'ConnectionResetError',\n",
       " 'DeprecationWarning',\n",
       " 'EOFError',\n",
       " 'Ellipsis',\n",
       " 'EncodingWarning',\n",
       " 'EnvironmentError',\n",
       " 'Exception',\n",
       " 'ExceptionGroup',\n",
       " 'False',\n",
       " 'FileExistsError',\n",
       " 'FileNotFoundError',\n",
       " 'FloatingPointError',\n",
       " 'FutureWarning',\n",
       " 'GeneratorExit',\n",
       " 'IOError',\n",
       " 'ImportError',\n",
       " 'ImportWarning',\n",
       " 'IndentationError',\n",
       " 'IndexError',\n",
       " 'InterruptedError',\n",
       " 'IsADirectoryError',\n",
       " 'KeyError',\n",
       " 'KeyboardInterrupt',\n",
       " 'LookupError',\n",
       " 'MemoryError',\n",
       " 'ModuleNotFoundError',\n",
       " 'NameError',\n",
       " 'None',\n",
       " 'NotADirectoryError',\n",
       " 'NotImplemented',\n",
       " 'NotImplementedError',\n",
       " 'OSError',\n",
       " 'OverflowError',\n",
       " 'PendingDeprecationWarning',\n",
       " 'PermissionError',\n",
       " 'ProcessLookupError',\n",
       " 'RecursionError',\n",
       " 'ReferenceError',\n",
       " 'ResourceWarning',\n",
       " 'RuntimeError',\n",
       " 'RuntimeWarning',\n",
       " 'StopAsyncIteration',\n",
       " 'StopIteration',\n",
       " 'SyntaxError',\n",
       " 'SyntaxWarning',\n",
       " 'SystemError',\n",
       " 'SystemExit',\n",
       " 'TabError',\n",
       " 'TimeoutError',\n",
       " 'True',\n",
       " 'TypeError',\n",
       " 'UnboundLocalError',\n",
       " 'UnicodeDecodeError',\n",
       " 'UnicodeEncodeError',\n",
       " 'UnicodeError',\n",
       " 'UnicodeTranslateError',\n",
       " 'UnicodeWarning',\n",
       " 'UserWarning',\n",
       " 'ValueError',\n",
       " 'Warning',\n",
       " 'WindowsError',\n",
       " 'ZeroDivisionError',\n",
       " '__IPYTHON__',\n",
       " '__build_class__',\n",
       " '__debug__',\n",
       " '__doc__',\n",
       " '__import__',\n",
       " '__loader__',\n",
       " '__name__',\n",
       " '__package__',\n",
       " '__spec__',\n",
       " 'abs',\n",
       " 'aiter',\n",
       " 'all',\n",
       " 'anext',\n",
       " 'any',\n",
       " 'ascii',\n",
       " 'bin',\n",
       " 'bool',\n",
       " 'breakpoint',\n",
       " 'bytearray',\n",
       " 'bytes',\n",
       " 'callable',\n",
       " 'chr',\n",
       " 'classmethod',\n",
       " 'compile',\n",
       " 'complex',\n",
       " 'copyright',\n",
       " 'credits',\n",
       " 'delattr',\n",
       " 'dict',\n",
       " 'dir',\n",
       " 'display',\n",
       " 'divmod',\n",
       " 'enumerate',\n",
       " 'eval',\n",
       " 'exec',\n",
       " 'execfile',\n",
       " 'filter',\n",
       " 'float',\n",
       " 'format',\n",
       " 'frozenset',\n",
       " 'get_ipython',\n",
       " 'getattr',\n",
       " 'globals',\n",
       " 'hasattr',\n",
       " 'hash',\n",
       " 'help',\n",
       " 'hex',\n",
       " 'id',\n",
       " 'input',\n",
       " 'int',\n",
       " 'isinstance',\n",
       " 'issubclass',\n",
       " 'iter',\n",
       " 'len',\n",
       " 'license',\n",
       " 'list',\n",
       " 'locals',\n",
       " 'map',\n",
       " 'max',\n",
       " 'memoryview',\n",
       " 'min',\n",
       " 'next',\n",
       " 'object',\n",
       " 'oct',\n",
       " 'open',\n",
       " 'ord',\n",
       " 'pow',\n",
       " 'print',\n",
       " 'property',\n",
       " 'range',\n",
       " 'repr',\n",
       " 'reversed',\n",
       " 'round',\n",
       " 'runfile',\n",
       " 'set',\n",
       " 'setattr',\n",
       " 'slice',\n",
       " 'sorted',\n",
       " 'staticmethod',\n",
       " 'str',\n",
       " 'sum',\n",
       " 'super',\n",
       " 'tuple',\n",
       " 'type',\n",
       " 'vars',\n",
       " 'zip']"
      ]
     },
     "execution_count": 29,
     "metadata": {},
     "output_type": "execute_result"
    }
   ],
   "source": [
    " dir(builtins)"
   ]
  },
  {
   "cell_type": "code",
   "execution_count": 35,
   "id": "98251469",
   "metadata": {},
   "outputs": [
    {
     "data": {
      "text/plain": [
       "53"
      ]
     },
     "execution_count": 35,
     "metadata": {},
     "output_type": "execute_result"
    }
   ],
   "source": [
    "listof_exceptions = []\n",
    "for exception_or_error in dir(builtins):\n",
    "    if (\"Error\" in exception_or_error) or (\"Exception\" in exception_or_error):\n",
    "         listof_exceptions.append(exception_or_error)\n",
    "len(listof_exceptions)\n",
    "    "
   ]
  },
  {
   "cell_type": "code",
   "execution_count": 38,
   "id": "e7e251e8",
   "metadata": {},
   "outputs": [
    {
     "name": "stdout",
     "output_type": "stream",
     "text": [
      " You are just a kid..come after   14 years ..dont worry i will be waiting\n"
     ]
    }
   ],
   "source": [
    "age = 4\n",
    "voting_age = 18\n",
    "try:\n",
    "    if age < voting_age:\n",
    "        raise Exception\n",
    "except Exception:\n",
    "    print(f\" You are just a kid..come after   {voting_age - age} years ..dont worry i will be waiting\")\n",
    "else:\n",
    "    print(\"you are above 18.thanks for voting\")"
   ]
  },
  {
   "cell_type": "code",
   "execution_count": 40,
   "id": "d00bb49b",
   "metadata": {},
   "outputs": [
    {
     "name": "stdout",
     "output_type": "stream",
     "text": [
      " You are just a kid..come after   14 years ..dont worry i will be waiting\n",
      "you are responsible citizen.....\n"
     ]
    }
   ],
   "source": [
    "age = 4\n",
    "voting_age = 18\n",
    "try:\n",
    "    if age < voting_age:\n",
    "        raise Exception\n",
    "except Exception:\n",
    "    print(f\" You are just a kid..come after   {voting_age - age} years ..dont worry i will be waiting\")\n",
    "else:\n",
    "    print(\"you are above 18.thanks for voting\")\n",
    "print(\"you are responsible citizen.....\")"
   ]
  },
  {
   "cell_type": "code",
   "execution_count": 43,
   "id": "4bd06e51",
   "metadata": {},
   "outputs": [
    {
     "ename": "TypeError",
     "evalue": "'bool' object is not callable",
     "output_type": "error",
     "traceback": [
      "\u001b[1;31m---------------------------------------------------------------------------\u001b[0m",
      "\u001b[1;31mTypeError\u001b[0m                                 Traceback (most recent call last)",
      "Cell \u001b[1;32mIn[43], line 3\u001b[0m\n\u001b[0;32m      2\u001b[0m file \u001b[38;5;241m=\u001b[39m \u001b[38;5;28mopen\u001b[39m(\u001b[38;5;124m\"\u001b[39m\u001b[38;5;124mpython basics.ipynb\u001b[39m\u001b[38;5;124m\"\u001b[39m)\n\u001b[1;32m----> 3\u001b[0m \u001b[38;5;28mprint\u001b[39m(\u001b[38;5;124m\"\u001b[39m\u001b[38;5;124mis the file closed?\u001b[39m\u001b[38;5;124m\"\u001b[39m, file\u001b[38;5;241m.\u001b[39mclosed())\n\u001b[0;32m      4\u001b[0m \u001b[38;5;28mprint\u001b[39m(file\u001b[38;5;241m.\u001b[39mreadline())\n",
      "\u001b[1;31mTypeError\u001b[0m: 'bool' object is not callable",
      "\nDuring handling of the above exception, another exception occurred:\n",
      "\u001b[1;31mTypeError\u001b[0m                                 Traceback (most recent call last)",
      "Cell \u001b[1;32mIn[43], line 7\u001b[0m\n\u001b[0;32m      5\u001b[0m \u001b[38;5;28;01mfinally\u001b[39;00m:\n\u001b[0;32m      6\u001b[0m     file\u001b[38;5;241m.\u001b[39mclose()\n\u001b[1;32m----> 7\u001b[0m     \u001b[38;5;28mprint\u001b[39m(\u001b[38;5;124m\"\u001b[39m\u001b[38;5;124mis the file closed?\u001b[39m\u001b[38;5;124m\"\u001b[39m, file\u001b[38;5;241m.\u001b[39mclosed())\n",
      "\u001b[1;31mTypeError\u001b[0m: 'bool' object is not callable"
     ]
    }
   ],
   "source": [
    "try:    \n",
    "    file = open(\"python basics.ipynb\")\n",
    "    print(\"is the file closed?\", file.closed())\n",
    "    print(file.readline())\n",
    "finally:\n",
    "    file.close()\n",
    "    print(\"is the file closed?\", file.closed())"
   ]
  },
  {
   "cell_type": "markdown",
   "id": "802a4e52",
   "metadata": {},
   "source": [
    "#### 23/08/2024"
   ]
  },
  {
   "cell_type": "code",
   "execution_count": 45,
   "id": "3222d887",
   "metadata": {},
   "outputs": [
    {
     "name": "stdout",
     "output_type": "stream",
     "text": [
      "<class 'int'>\n"
     ]
    }
   ],
   "source": [
    "a=5\n",
    "print(type(a))"
   ]
  },
  {
   "cell_type": "code",
   "execution_count": 49,
   "id": "75c0bc8e",
   "metadata": {},
   "outputs": [
    {
     "data": {
      "text/plain": [
       "type"
      ]
     },
     "execution_count": 49,
     "metadata": {},
     "output_type": "execute_result"
    }
   ],
   "source": [
    "type(NameError)"
   ]
  },
  {
   "cell_type": "code",
   "execution_count": 4,
   "id": "38f789c7",
   "metadata": {},
   "outputs": [
    {
     "name": "stdout",
     "output_type": "stream",
     "text": [
      "['__abs__', '__add__', '__and__', '__bool__', '__ceil__', '__class__', '__delattr__', '__dir__', '__divmod__', '__doc__', '__eq__', '__float__', '__floor__', '__floordiv__', '__format__', '__ge__', '__getattribute__', '__getnewargs__', '__getstate__', '__gt__', '__hash__', '__index__', '__init__', '__init_subclass__', '__int__', '__invert__', '__le__', '__lshift__', '__lt__', '__mod__', '__mul__', '__ne__', '__neg__', '__new__', '__or__', '__pos__', '__pow__', '__radd__', '__rand__', '__rdivmod__', '__reduce__', '__reduce_ex__', '__repr__', '__rfloordiv__', '__rlshift__', '__rmod__', '__rmul__', '__ror__', '__round__', '__rpow__', '__rrshift__', '__rshift__', '__rsub__', '__rtruediv__', '__rxor__', '__setattr__', '__sizeof__', '__str__', '__sub__', '__subclasshook__', '__truediv__', '__trunc__', '__xor__', 'as_integer_ratio', 'bit_count', 'bit_length', 'conjugate', 'denominator', 'from_bytes', 'imag', 'numerator', 'real', 'to_bytes']\n"
     ]
    }
   ],
   "source": [
    "print(dir(int))"
   ]
  },
  {
   "cell_type": "code",
   "execution_count": 10,
   "id": "499f2705",
   "metadata": {},
   "outputs": [],
   "source": [
    "class Dog:\n",
    "    def __init__(dog_itself):#self any name can be written\n",
    "        dog_itself.color = \"Golden\"\n",
    "        dog_itself.eye_color = \"Brown\"\n",
    "        dog_itself.height_in_inch = 17\n",
    "        dog_itself.weight = 24\n",
    "        print(f\" This dog is {dog_itself.color} in colour, has {dog_itself.eye_color},height{dog_itself.height_in_inch},weight is {dog_itself.weight}\")    \n",
    "        \n",
    "    def bark(dog_itself):\n",
    "        print(\"dog barks...\")\n",
    "    def sit(dog_itself):\n",
    "        print(\"dog sits\")"
   ]
  },
  {
   "cell_type": "code",
   "execution_count": null,
   "id": "b187a290",
   "metadata": {},
   "outputs": [],
   "source": [
    "#Object creation"
   ]
  },
  {
   "cell_type": "code",
   "execution_count": 11,
   "id": "694445d7",
   "metadata": {},
   "outputs": [
    {
     "name": "stdout",
     "output_type": "stream",
     "text": [
      " This dog is Golden in colour, has Brown,height17,weight is 24\n"
     ]
    }
   ],
   "source": [
    "bobby=Dog()"
   ]
  },
  {
   "cell_type": "code",
   "execution_count": null,
   "id": "95ace9a4",
   "metadata": {},
   "outputs": [],
   "source": [
    "#MEthod calling"
   ]
  },
  {
   "cell_type": "code",
   "execution_count": 12,
   "id": "a76e2ad4",
   "metadata": {},
   "outputs": [
    {
     "name": "stdout",
     "output_type": "stream",
     "text": [
      "dog barks...\n"
     ]
    }
   ],
   "source": [
    "bobby.bark()"
   ]
  },
  {
   "cell_type": "code",
   "execution_count": 13,
   "id": "eb40c5df",
   "metadata": {},
   "outputs": [
    {
     "name": "stdout",
     "output_type": "stream",
     "text": [
      "dog sits\n"
     ]
    }
   ],
   "source": [
    "bobby.sit()"
   ]
  },
  {
   "cell_type": "code",
   "execution_count": null,
   "id": "8d24cc0c",
   "metadata": {},
   "outputs": [],
   "source": [
    "#Any function which is defined inside the class is known as method"
   ]
  },
  {
   "cell_type": "code",
   "execution_count": null,
   "id": "5f0c863a",
   "metadata": {},
   "outputs": [],
   "source": [
    "class demo:\n",
    "    def __init__(self):\n",
    "        print(\"You have called the constructor\")\n",
    "    def sample_method(self):\n",
    "        print(\"this method is a sampel\")"
   ]
  },
  {
   "cell_type": "code",
   "execution_count": 17,
   "id": "0670d492",
   "metadata": {},
   "outputs": [],
   "source": [
    " class car:\n",
    "        def __init__(self):\n",
    "            self.wheels = 4\n",
    "            self.color  = \"Matt black\"\n",
    "            self.airbags = \"air bags\"\n",
    "            self.gears = 6\n",
    "            self.brakes = 2\n",
    "        def view_details(self):\n",
    "            print(\"The car has {} wheels,is {} in color with {} airbags supported by {} gears controlled by {} brakes\".format(self.wheels,self.airbags,self.color,self.gears,self.brakes))\n",
    "            "
   ]
  },
  {
   "cell_type": "code",
   "execution_count": 19,
   "id": "c2b47418",
   "metadata": {},
   "outputs": [],
   "source": [
    "lamborghini = car()\n",
    "mehendra = car()\n",
    "defender = car()"
   ]
  },
  {
   "cell_type": "code",
   "execution_count": 22,
   "id": "f1f89a26",
   "metadata": {},
   "outputs": [
    {
     "name": "stdout",
     "output_type": "stream",
     "text": [
      "The car has 4 wheels,is air bags in color with Matt black airbags supported by 6 gears controlled by 2 break\n"
     ]
    }
   ],
   "source": [
    "defender.view_details()"
   ]
  },
  {
   "cell_type": "code",
   "execution_count": 23,
   "id": "4563e428",
   "metadata": {},
   "outputs": [
    {
     "name": "stdout",
     "output_type": "stream",
     "text": [
      "The car has 4 wheels,is air bags in color with Matt black airbags supported by 6 gears controlled by 2 break\n"
     ]
    }
   ],
   "source": [
    "mehendra.view_details()"
   ]
  },
  {
   "cell_type": "code",
   "execution_count": 24,
   "id": "0595fc3e",
   "metadata": {},
   "outputs": [
    {
     "data": {
      "text/plain": [
       "6"
      ]
     },
     "execution_count": 24,
     "metadata": {},
     "output_type": "execute_result"
    }
   ],
   "source": [
    "lamborghini.gears"
   ]
  },
  {
   "cell_type": "markdown",
   "id": "ff992aa8",
   "metadata": {},
   "source": [
    "#### 27/08/2024"
   ]
  },
  {
   "cell_type": "code",
   "execution_count": null,
   "id": "1a458e1f",
   "metadata": {},
   "outputs": [],
   "source": [
    "#creating a fraction class on own data type"
   ]
  },
  {
   "cell_type": "code",
   "execution_count": 1,
   "id": "bfb632c9",
   "metadata": {},
   "outputs": [
    {
     "data": {
      "text/plain": [
       "0.27906976744186046"
      ]
     },
     "execution_count": 1,
     "metadata": {},
     "output_type": "execute_result"
    }
   ],
   "source": [
    "num1 = 12\n",
    "num2 = 43\n",
    "num1/num2 ##12/43"
   ]
  },
  {
   "cell_type": "code",
   "execution_count": null,
   "id": "8bdb27ad",
   "metadata": {},
   "outputs": [],
   "source": [
    "#dander starts with double underscore"
   ]
  },
  {
   "cell_type": "code",
   "execution_count": null,
   "id": "d10297ea",
   "metadata": {},
   "outputs": [],
   "source": [
    "#the backend for a+b is a.__add__(b)"
   ]
  },
  {
   "cell_type": "code",
   "execution_count": 11,
   "id": "babeb2fc",
   "metadata": {},
   "outputs": [],
   "source": [
    "class Fraction:\n",
    "    def __init__(self,numerator,denominator):\n",
    "        \"This creates a fraction using umerator and denomnator\"\n",
    "        self.numerator = numerator\n",
    "        self.denominator = denominator\n",
    "        print(f\"{self.numerator}/{self.denominator}\")"
   ]
  },
  {
   "cell_type": "code",
   "execution_count": 12,
   "id": "7ce1f161",
   "metadata": {},
   "outputs": [
    {
     "ename": "TypeError",
     "evalue": "Fraction.__init__() missing 1 required positional argument: 'denominator'",
     "output_type": "error",
     "traceback": [
      "\u001b[1;31m---------------------------------------------------------------------------\u001b[0m",
      "\u001b[1;31mTypeError\u001b[0m                                 Traceback (most recent call last)",
      "Cell \u001b[1;32mIn[12], line 1\u001b[0m\n\u001b[1;32m----> 1\u001b[0m fraction1 \u001b[38;5;241m=\u001b[39m Fraction(\u001b[38;5;241m3\u001b[39m\u001b[38;5;241m/\u001b[39m\u001b[38;5;241m2\u001b[39m)\n",
      "\u001b[1;31mTypeError\u001b[0m: Fraction.__init__() missing 1 required positional argument: 'denominator'"
     ]
    }
   ],
   "source": [
    "fraction1 = Fraction(3/2)"
   ]
  },
  {
   "cell_type": "code",
   "execution_count": 13,
   "id": "46f611e3",
   "metadata": {},
   "outputs": [],
   "source": [
    "class Demo:\n",
    "    def __init__(self,*arguments):\n",
    "        print(f(\"This is the constructor you have passed{len(arguments)}\"))"
   ]
  },
  {
   "cell_type": "code",
   "execution_count": 2,
   "id": "5e4eaa49",
   "metadata": {},
   "outputs": [],
   "source": [
    "class Bankaccount:\n",
    "    def __init__(bank_details,name,phone,accno,balance):\n",
    "        print(\"details of bank\")\n",
    "        bank_details.name=name\n",
    "        bank_details.phone=phone\n",
    "        bank_details.accno=accno\n",
    "        bank_details.balance=balance\n",
    "    #GETTER USING TO FETCH INFO\n",
    "    def acc_details(self):\n",
    "        print(f\"name:{ bank_details.name}\\nphone:{ bank_details.phone}\\naccno:{ bank_details.balance}\")\n",
    "    "
   ]
  },
  {
   "cell_type": "code",
   "execution_count": 4,
   "id": "740d753e",
   "metadata": {},
   "outputs": [
    {
     "name": "stdout",
     "output_type": "stream",
     "text": [
      "details of bank\n",
      "details of bank\n",
      "details of bank\n"
     ]
    }
   ],
   "source": [
    "acc1=Bankaccount(\"shamitha\",87393209308,78292,900000000)\n",
    "acc2=Bankaccount(\"munnu\",73939803093,83292802,10)\n",
    "acc3=Bankaccount(\"varshi\",73987329329,8729292,2000000000000000000000)"
   ]
  },
  {
   "cell_type": "markdown",
   "id": "baed40a1",
   "metadata": {},
   "source": [
    "#### AAAAAAAAA\n",
    "#### BBBBBBBB\n",
    "#### CCCCCCC\n",
    "#### DDDDDD\n",
    "#### EEEEE\n",
    "#### 88888\n",
    "#### FFFF\n",
    "#### GGG\n",
    "#### HH\n",
    "#### I\n"
   ]
  },
  {
   "cell_type": "code",
   "execution_count": 6,
   "id": "9a64156b",
   "metadata": {},
   "outputs": [
    {
     "name": "stdout",
     "output_type": "stream",
     "text": [
      "AAAAAAAAA\n",
      "BBBBBBBB\n",
      "CCCCCCC\n",
      "DDDDDD\n",
      "EEEEE\n",
      "8888\n",
      "GGG\n",
      "HH\n",
      "I\n"
     ]
    }
   ],
   "source": [
    "character = 65\n",
    "number = 9\n",
    "while number > 0:\n",
    "    if number == 4:\n",
    "        print(\"8\"*number)\n",
    "    else:\n",
    "        print(chr(character)*number)\n",
    "    character=character+1\n",
    "    number=number-1"
   ]
  },
  {
   "cell_type": "code",
   "execution_count": 14,
   "id": "fb2c613a",
   "metadata": {},
   "outputs": [
    {
     "name": "stdout",
     "output_type": "stream",
     "text": [
      "23 is odd\n",
      "34 is even\n",
      "56 is even\n",
      "67 is odd\n",
      "87 is odd\n",
      "89 is odd\n"
     ]
    }
   ],
   "source": [
    "a=[23,34,56,67,87,89]\n",
    "for i in a:\n",
    "    if i % 2 == 0:\n",
    "        print(f\"{i} is even\")\n",
    "    else:\n",
    "        print(f\"{i} is odd\")"
   ]
  },
  {
   "cell_type": "code",
   "execution_count": 16,
   "id": "bdfc3c92",
   "metadata": {},
   "outputs": [
    {
     "data": {
      "text/plain": [
       "['23 is odd',\n",
       " '34 is even',\n",
       " '56 is even',\n",
       " '67 is odd',\n",
       " '87 is odd',\n",
       " '89 is odd']"
      ]
     },
     "execution_count": 16,
     "metadata": {},
     "output_type": "execute_result"
    }
   ],
   "source": [
    "a=[23,34,56,67,87,89]\n",
    "[f\"{i} is even\" if i % 2 == 0 else f\"{i} is odd\" for i in a]"
   ]
  },
  {
   "cell_type": "code",
   "execution_count": 20,
   "id": "d6304237",
   "metadata": {},
   "outputs": [
    {
     "data": {
      "text/plain": [
       "[1, 4, 9, 16, 25]"
      ]
     },
     "execution_count": 20,
     "metadata": {},
     "output_type": "execute_result"
    }
   ],
   "source": [
    "[x**2 for x in range(1,6)]"
   ]
  },
  {
   "cell_type": "code",
   "execution_count": 23,
   "id": "7edcd160",
   "metadata": {},
   "outputs": [
    {
     "data": {
      "text/plain": [
       "[(0, 0), (0, 1), (1, 0), (1, 1)]"
      ]
     },
     "execution_count": 23,
     "metadata": {},
     "output_type": "execute_result"
    }
   ],
   "source": [
    "[(x,y) for x in range(2) for y in range(2)]"
   ]
  },
  {
   "cell_type": "code",
   "execution_count": 24,
   "id": "570e9ab9",
   "metadata": {},
   "outputs": [
    {
     "data": {
      "text/plain": [
       "[[], [0], [0, 1], [0, 1, 2]]"
      ]
     },
     "execution_count": 24,
     "metadata": {},
     "output_type": "execute_result"
    }
   ],
   "source": [
    "[[y for y in range(x)] for x in range(4)]\n"
   ]
  },
  {
   "cell_type": "code",
   "execution_count": 36,
   "id": "86c5fdf0",
   "metadata": {},
   "outputs": [
    {
     "name": "stdout",
     "output_type": "stream",
     "text": [
      "['is', 'to']\n",
      "['hari', 'going', 'rock', 'tomorrows', 'interview']\n"
     ]
    }
   ],
   "source": [
    "def function(x):\n",
    "        less_3=[]\n",
    "        greater3=[]\n",
    "        for i in x.split():\n",
    "            if len(i) < 3:\n",
    "                less_3.append(i)\n",
    "            elif len(i) > 3:\n",
    "                greater3.append(i)\n",
    "\n",
    "\n",
    "        print(f\"{less_3}\")\n",
    "        print(f\"{greater3}\")\n",
    "        \n",
    "function(\"hari is going to rock tomorrows interview\")"
   ]
  },
  {
   "cell_type": "code",
   "execution_count": 35,
   "id": "58e0713d",
   "metadata": {},
   "outputs": [
    {
     "data": {
      "text/plain": [
       "['hari', 'is', 'i', 'i', 'i', 'i']"
      ]
     },
     "execution_count": 35,
     "metadata": {},
     "output_type": "execute_result"
    }
   ],
   "source": [
    "a=\"                      hari is i i i i                \"\n",
    "a.split()"
   ]
  },
  {
   "cell_type": "code",
   "execution_count": 38,
   "id": "e278e46f",
   "metadata": {},
   "outputs": [
    {
     "name": "stdout",
     "output_type": "stream",
     "text": [
      "hari knows statistics\n"
     ]
    }
   ],
   "source": [
    "def hari(x):\n",
    "    \"hari knows statistics\"\n",
    "    return x\n",
    "\n",
    "print(hari.__doc__)"
   ]
  },
  {
   "cell_type": "code",
   "execution_count": 39,
   "id": "a3e1c17d",
   "metadata": {},
   "outputs": [
    {
     "name": "stdout",
     "output_type": "stream",
     "text": [
      " in 34 and 56 here we got 56 is greater\n"
     ]
    }
   ],
   "source": [
    "def larger_of_2nums(num1,num2):\n",
    "    if num1 > num2:\n",
    "        print(f\" in {num1} and {num2} here we got {num1} is greater\")\n",
    "    elif num2>num1:\n",
    "        print(f\" in {num1} and {num2} here we got {num2} is greater\")\n",
    "    else:\n",
    "        print(\"both are equal\")\n",
    "        \n",
    "larger_of_2nums(34,56)"
   ]
  },
  {
   "cell_type": "code",
   "execution_count": null,
   "id": "4e844e72",
   "metadata": {},
   "outputs": [],
   "source": [
    "class digitalpad:\n",
    "    def _init_(self):\n",
    "        print(\"hari will crack tomorrows interview\")\n",
    "        print(\"hari is doing work daily\")\n",
    "\n",
    "a=digitalpad()\n",
    "print(a)\n",
    "\n",
    "class dog:\n",
    "    def _init_(dog_itself):\n",
    "        dog_itself.colour=\"black\"\n",
    "        dog_itself.height=6\n",
    "        dog_itself.weight=60\n",
    "    def dogbabu(dog_itself):\n",
    "        print(\"dogbabu tho pettukoku\")\n",
    "        \n",
    "bobby=dog()\n",
    "bobby.colour\n",
    "\n",
    "bobby.dogbabu()\n",
    "\n",
    "chintu=dog()"
   ]
  },
  {
   "cell_type": "code",
   "execution_count": 10,
   "id": "7c841d46",
   "metadata": {},
   "outputs": [
    {
     "name": "stdout",
     "output_type": "stream",
     "text": [
      "i am a boy\n"
     ]
    }
   ],
   "source": [
    "class boy:\n",
    "    print(\"i am a boy\")\n",
    "    def __init__(hello):\n",
    "        hello.name=\"hari\"\n",
    "        hello.age=21\n",
    "    def method(hello):\n",
    "        print(f\" My name is {hello.name} and my age is {hello.age}\")\n",
    "            \n",
    "            \n",
    "bobby=boy()"
   ]
  },
  {
   "cell_type": "code",
   "execution_count": 11,
   "id": "b9b2bd20",
   "metadata": {},
   "outputs": [
    {
     "data": {
      "text/plain": [
       "'hari'"
      ]
     },
     "execution_count": 11,
     "metadata": {},
     "output_type": "execute_result"
    }
   ],
   "source": [
    "bobby.name"
   ]
  },
  {
   "cell_type": "code",
   "execution_count": 6,
   "id": "4378aa92",
   "metadata": {},
   "outputs": [
    {
     "data": {
      "text/plain": [
       "21"
      ]
     },
     "execution_count": 6,
     "metadata": {},
     "output_type": "execute_result"
    }
   ],
   "source": [
    "bobby.age"
   ]
  },
  {
   "cell_type": "code",
   "execution_count": 14,
   "id": "85e1361f",
   "metadata": {},
   "outputs": [
    {
     "name": "stdout",
     "output_type": "stream",
     "text": [
      " My name is hari and my age is 21\n"
     ]
    }
   ],
   "source": [
    "bobby.method()"
   ]
  },
  {
   "cell_type": "code",
   "execution_count": null,
   "id": "4f061e2a",
   "metadata": {},
   "outputs": [],
   "source": [
    "class father:\n",
    "    def __init__(self):\n",
    "        self.color=\"white\"\n",
    "        self.height=6.4\n",
    "        print(\"fathers color is white\")\n",
    "        print(\"his height is 6.4\")\n",
    "    def child(father):\n",
    "        \n",
    "        "
   ]
  },
  {
   "cell_type": "code",
   "execution_count": 19,
   "id": "47dd9aeb",
   "metadata": {},
   "outputs": [
    {
     "data": {
      "text/plain": [
       "4489"
      ]
     },
     "execution_count": 19,
     "metadata": {},
     "output_type": "execute_result"
    }
   ],
   "source": [
    "a=lambda x:x*x \n",
    "a(67)"
   ]
  },
  {
   "cell_type": "code",
   "execution_count": 20,
   "id": "84c8a093",
   "metadata": {},
   "outputs": [
    {
     "name": "stdout",
     "output_type": "stream",
     "text": [
      "6\n"
     ]
    }
   ],
   "source": [
    "def update(x):\n",
    "    x=6\n",
    "    print(x)\n",
    "    \n",
    "update(10)"
   ]
  },
  {
   "cell_type": "code",
   "execution_count": 22,
   "id": "1ea8beba",
   "metadata": {},
   "outputs": [
    {
     "name": "stdout",
     "output_type": "stream",
     "text": [
      "6\n",
      "10\n"
     ]
    }
   ],
   "source": [
    "def update(x):\n",
    "    x=6\n",
    "    print(x)\n",
    "a=10    \n",
    "update(a)\n",
    "print(a)"
   ]
  },
  {
   "cell_type": "code",
   "execution_count": 31,
   "id": "a0901336",
   "metadata": {},
   "outputs": [
    {
     "data": {
      "text/plain": [
       "12"
      ]
     },
     "execution_count": 31,
     "metadata": {},
     "output_type": "execute_result"
    }
   ],
   "source": [
    "def sum(a,b):\n",
    "    add=a+b\n",
    "    return add\n",
    "sum(4,b=8)"
   ]
  },
  {
   "cell_type": "code",
   "execution_count": 35,
   "id": "d97300a6",
   "metadata": {},
   "outputs": [
    {
     "name": "stdout",
     "output_type": "stream",
     "text": [
      "hari met simba in forest\n",
      "hari\n"
     ]
    }
   ],
   "source": [
    "a=\"hari\"\n",
    "def h():\n",
    "    lion=\"simba\"\n",
    "    print(f\"{a} met {lion} in forest\")\n",
    "    \n",
    "h()\n",
    "print(a)"
   ]
  },
  {
   "cell_type": "code",
   "execution_count": 40,
   "id": "9449aa91",
   "metadata": {},
   "outputs": [
    {
     "name": "stdout",
     "output_type": "stream",
     "text": [
      "1\n",
      "2\n",
      "6\n",
      "24\n",
      "120\n",
      "720\n",
      "5040\n"
     ]
    }
   ],
   "source": [
    "fact=1\n",
    "number=8\n",
    "for i in range(1,number):\n",
    "    fact=fact*i\n",
    "    print(fact)"
   ]
  },
  {
   "cell_type": "code",
   "execution_count": 42,
   "id": "dbe7c3cf",
   "metadata": {},
   "outputs": [
    {
     "data": {
      "text/plain": [
       "5040"
      ]
     },
     "execution_count": 42,
     "metadata": {},
     "output_type": "execute_result"
    }
   ],
   "source": [
    "def factorial(a):\n",
    "    fact=1\n",
    "    for i in range(1,a):\n",
    "        fact=fact*i\n",
    "    return(fact)\n",
    "\n",
    "factorial(8)"
   ]
  },
  {
   "cell_type": "code",
   "execution_count": 44,
   "id": "b0c27e7c",
   "metadata": {},
   "outputs": [
    {
     "data": {
      "text/plain": [
       "40320"
      ]
     },
     "execution_count": 44,
     "metadata": {},
     "output_type": "execute_result"
    }
   ],
   "source": [
    "def fact(a):\n",
    "    if a == 0 or a == 1:\n",
    "        return a\n",
    "    else:\n",
    "        return a*fact(a-1)\n",
    "    \n",
    "fact(8)"
   ]
  },
  {
   "cell_type": "code",
   "execution_count": 61,
   "id": "7181e9f0",
   "metadata": {},
   "outputs": [
    {
     "data": {
      "text/plain": [
       "'odd'"
      ]
     },
     "execution_count": 61,
     "metadata": {},
     "output_type": "execute_result"
    }
   ],
   "source": [
    "a=lambda num: \"even\" if num % 2 == 0 else \"odd\" \n",
    "a(9)"
   ]
  },
  {
   "cell_type": "code",
   "execution_count": 64,
   "id": "8c106d13",
   "metadata": {},
   "outputs": [
    {
     "data": {
      "text/plain": [
       "{'hari': 90, 'kari': 99, 'hjkjk': 78}"
      ]
     },
     "execution_count": 64,
     "metadata": {},
     "output_type": "execute_result"
    }
   ],
   "source": [
    "a=lambda **items:items\n",
    "a(hari=90,kari=99,hjkjk=78)"
   ]
  },
  {
   "cell_type": "code",
   "execution_count": 71,
   "id": "90447eee",
   "metadata": {},
   "outputs": [
    {
     "data": {
      "text/plain": [
       "[5, 115, 225, 335, 390]"
      ]
     },
     "execution_count": 71,
     "metadata": {},
     "output_type": "execute_result"
    }
   ],
   "source": [
    "a=[1,23,45,67,78]\n",
    "b=lambda x:x*5\n",
    "list(map(b,a))"
   ]
  },
  {
   "cell_type": "code",
   "execution_count": 23,
   "id": "233f13e0",
   "metadata": {},
   "outputs": [
    {
     "name": "stdout",
     "output_type": "stream",
     "text": [
      "i am hari\n",
      "i am hari\n",
      "i am hari\n",
      "i am hari\n"
     ]
    }
   ],
   "source": [
    "class hari:\n",
    "    def funcname(self):\n",
    "        print(\"i am hari\")\n",
    "        \n",
    "human=hari()\n",
    "animal=hari()\n",
    "human\n",
    "animal\n",
    "\n",
    "hari.funcname(human)\n",
    "hari.funcname(animal)\n",
    "\n",
    "human.funcname()\n",
    "animal.funcname()"
   ]
  },
  {
   "cell_type": "code",
   "execution_count": 22,
   "id": "ddc71efd",
   "metadata": {},
   "outputs": [
    {
     "data": {
      "text/plain": [
       "<__main__.hari at 0x171f584fe50>"
      ]
     },
     "execution_count": 22,
     "metadata": {},
     "output_type": "execute_result"
    }
   ],
   "source": [
    "hari()"
   ]
  },
  {
   "cell_type": "code",
   "execution_count": 20,
   "id": "0aac7423",
   "metadata": {},
   "outputs": [
    {
     "name": "stdout",
     "output_type": "stream",
     "text": [
      "i am hari\n"
     ]
    }
   ],
   "source": [
    "human.funcname()"
   ]
  },
  {
   "cell_type": "code",
   "execution_count": 31,
   "id": "50d10110",
   "metadata": {},
   "outputs": [
    {
     "name": "stdout",
     "output_type": "stream",
     "text": [
      "i am hari\n",
      "i am hari\n",
      "i am hari\n",
      "i am hari age is 21 and height is 156\n",
      "i am hari age is 54 and height is 980\n",
      "i am hari age is 77 and height is 890\n"
     ]
    }
   ],
   "source": [
    "class hari:\n",
    "    def __init__(self,age,height):\n",
    "        self.age=age\n",
    "        self.height=height\n",
    "        print(\"i am hari\")\n",
    "        \n",
    "    def funcname(self):\n",
    "        print(f\"i am hari age is {self.age} and height is {self.height}\")\n",
    "        \n",
    "human=hari(21,156)\n",
    "animal=hari(54,980)\n",
    "bird=hari(77,890)\n",
    "        \n",
    "# hari.funcname(human)\n",
    "# hari.funcname(animal)\n",
    "\n",
    "human.funcname()\n",
    "animal.funcname()\n",
    "bird.funcname()"
   ]
  },
  {
   "cell_type": "code",
   "execution_count": 46,
   "id": "afdb4849",
   "metadata": {},
   "outputs": [
    {
     "ename": "TypeError",
     "evalue": "'int' object is not callable",
     "output_type": "error",
     "traceback": [
      "\u001b[1;31m---------------------------------------------------------------------------\u001b[0m",
      "\u001b[1;31mTypeError\u001b[0m                                 Traceback (most recent call last)",
      "Cell \u001b[1;32mIn[46], line 23\u001b[0m\n\u001b[0;32m     20\u001b[0m vivo\u001b[38;5;241m=\u001b[39mphone(\u001b[38;5;241m60\u001b[39m,\u001b[38;5;241m7600\u001b[39m,\u001b[38;5;124m\"\u001b[39m\u001b[38;5;124m9.8inch\u001b[39m\u001b[38;5;124m\"\u001b[39m,\u001b[38;5;124m\"\u001b[39m\u001b[38;5;124mnormaldisplay\u001b[39m\u001b[38;5;124m\"\u001b[39m,\u001b[38;5;124m\"\u001b[39m\u001b[38;5;124mblue\u001b[39m\u001b[38;5;124m\"\u001b[39m)\n\u001b[0;32m     21\u001b[0m apple\u001b[38;5;241m=\u001b[39mphone(\u001b[38;5;241m80\u001b[39m,\u001b[38;5;241m7890\u001b[39m,\u001b[38;5;124m\"\u001b[39m\u001b[38;5;124m9.0 inch\u001b[39m\u001b[38;5;124m\"\u001b[39m,\u001b[38;5;124m\"\u001b[39m\u001b[38;5;124mnormal glass\u001b[39m\u001b[38;5;124m\"\u001b[39m,\u001b[38;5;124m\"\u001b[39m\u001b[38;5;124mblack\u001b[39m\u001b[38;5;124m\"\u001b[39m)\n\u001b[1;32m---> 23\u001b[0m redmi\u001b[38;5;241m.\u001b[39mcamera()\n\u001b[0;32m     24\u001b[0m vivo\u001b[38;5;241m.\u001b[39mnameoffunc()\n\u001b[0;32m     25\u001b[0m apple\u001b[38;5;241m.\u001b[39mnameoffunc()\n",
      "\u001b[1;31mTypeError\u001b[0m: 'int' object is not callable"
     ]
    }
   ],
   "source": [
    "class phone:\n",
    "    def __init__(self,camera,battery,size,screentype,color):\n",
    "        self.camera=camera\n",
    "        self.battery=battery\n",
    "        self.size=size\n",
    "        self.screentype=screentype\n",
    "        self.color=color\n",
    "    def camera(self):\n",
    "        print(f\"The mobile has {self.camera} pixel.\")\n",
    "    def battery(self):\n",
    "        print(f\"The mobile has {self.battery} mah.\")\n",
    "    def size(self):\n",
    "        print(f\"The mobile has {self.size} in length\")\n",
    "    def screentype(self):\n",
    "        print(f\"The mobile has {self.screentype} screen type\")\n",
    "    def color(self):\n",
    "        print(f\"The mobile has {self.color} in color \")\n",
    "\n",
    "redmi=phone(50,8900,\"6.8inch\",\"curvedisplay\",\"white\")\n",
    "vivo=phone(60,7600,\"9.8inch\",\"normaldisplay\",\"blue\")\n",
    "apple=phone(80,7890,\"9.0 inch\",\"normal glass\",\"black\")\n",
    "\n",
    "redmi.camera()\n"
   ]
  },
  {
   "cell_type": "code",
   "execution_count": 41,
   "id": "01e5e50c",
   "metadata": {},
   "outputs": [
    {
     "name": "stdout",
     "output_type": "stream",
     "text": [
      "9 BMW 8\n",
      "78 BMW 8\n"
     ]
    }
   ],
   "source": [
    "class car:\n",
    "    \n",
    "    wheels=4\n",
    "    \n",
    "    def __init__(self):\n",
    "        self.mil=78\n",
    "        self.comp=\"BMW\"\n",
    "\n",
    "c1=car()\n",
    "c2=car()\n",
    "\n",
    "car.wheels=8\n",
    "\n",
    "c1.mil=9 #here i am updating the c1 car's mileage but it wont show effect on any car\n",
    "\n",
    "print(c1.mil,c1.comp,c1.wheels)\n",
    "print(c2.mil,c2.comp,c2.wheels)\n",
    "\n",
    "#its time to create class variable it will effec t each and evry object\n",
    "#class variable is wheels when we change the wheeels in object also they will et updated"
   ]
  },
  {
   "cell_type": "code",
   "execution_count": 45,
   "id": "98e731fc",
   "metadata": {},
   "outputs": [
    {
     "data": {
      "text/plain": [
       "45.0"
      ]
     },
     "execution_count": 45,
     "metadata": {},
     "output_type": "execute_result"
    }
   ],
   "source": [
    "#creating a student class and calculating average marks\n",
    "\n",
    "class student:\n",
    "    def __init__(self,m1,m2,m3):\n",
    "        self.m1=m1\n",
    "        self.m2=m2\n",
    "        self.m3=m3\n",
    "        \n",
    "    def avg(self):\n",
    "        return ((self.m1+self.m2+self.m3)/3)\n",
    "        \n",
    "s1=student(23,45,67)\n",
    "s2=student(78,78,99)\n",
    "\n",
    "s1.avg()"
   ]
  },
  {
   "cell_type": "code",
   "execution_count": 44,
   "id": "f98bd977",
   "metadata": {},
   "outputs": [
    {
     "data": {
      "text/plain": [
       "85.0"
      ]
     },
     "execution_count": 44,
     "metadata": {},
     "output_type": "execute_result"
    }
   ],
   "source": [
    "s2.avg()"
   ]
  },
  {
   "cell_type": "code",
   "execution_count": null,
   "id": "5c57259b",
   "metadata": {},
   "outputs": [],
   "source": [
    "class parent:\n",
    "    def skin(self):\n",
    "        print(\"white skin tone\")\n",
    "    def height(self):\n",
    "        print(\"167 cm\")\n",
    "class child(parent):\n",
    "    def hair(self):\n",
    "        print(\"hair color is black\")\n",
    "    def weight(self):\n",
    "        print(\"weight is 90kg\")\n",
    "        \n",
    "father=parent()\n",
    "son=child()\n",
    "\n",
    "son."
   ]
  }
 ],
 "metadata": {
  "kernelspec": {
   "display_name": "Python 3 (ipykernel)",
   "language": "python",
   "name": "python3"
  },
  "language_info": {
   "codemirror_mode": {
    "name": "ipython",
    "version": 3
   },
   "file_extension": ".py",
   "mimetype": "text/x-python",
   "name": "python",
   "nbconvert_exporter": "python",
   "pygments_lexer": "ipython3",
   "version": "3.11.5"
  }
 },
 "nbformat": 4,
 "nbformat_minor": 5
}
