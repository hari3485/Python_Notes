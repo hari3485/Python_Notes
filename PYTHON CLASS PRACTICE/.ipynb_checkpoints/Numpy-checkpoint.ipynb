{
 "cells": [
  {
   "cell_type": "markdown",
   "id": "5782f939",
   "metadata": {},
   "source": [
    "#### 21/08/2023"
   ]
  },
  {
   "cell_type": "code",
   "execution_count": 1,
   "id": "6e8b7fb6",
   "metadata": {},
   "outputs": [
    {
     "name": "stdout",
     "output_type": "stream",
     "text": [
      "Requirement already satisfied: numpy in c:\\users\\lenovo\\anaconda3\\lib\\site-packages (1.24.3)\n"
     ]
    },
    {
     "name": "stderr",
     "output_type": "stream",
     "text": [
      "WARNING: There was an error checking the latest version of pip.\n"
     ]
    }
   ],
   "source": [
    "!pip install numpy\n",
    "\n",
    "#when you are installing a library "
   ]
  },
  {
   "cell_type": "code",
   "execution_count": 2,
   "id": "206a8000",
   "metadata": {},
   "outputs": [
    {
     "name": "stdout",
     "output_type": "stream",
     "text": [
      "1.24.3\n"
     ]
    }
   ],
   "source": [
    "import numpy as np\n",
    "print(np.__version__)"
   ]
  },
  {
   "cell_type": "code",
   "execution_count": 3,
   "id": "f110cbe5",
   "metadata": {},
   "outputs": [],
   "source": [
    "# 3 Dimentional array acess 2nd row 3 element"
   ]
  },
  {
   "cell_type": "code",
   "execution_count": 4,
   "id": "48db73c4",
   "metadata": {},
   "outputs": [
    {
     "name": "stdout",
     "output_type": "stream",
     "text": [
      "(1, 1, 3)\n",
      "[[[1 2 3]]]\n"
     ]
    }
   ],
   "source": [
    "a = np.array([1,2,3],ndmin = 3)\n",
    "print(a.shape)\n",
    "print(a)"
   ]
  },
  {
   "cell_type": "code",
   "execution_count": 5,
   "id": "b84c60d5",
   "metadata": {},
   "outputs": [
    {
     "data": {
      "text/plain": [
       "array([[[1, 2, 3]]])"
      ]
     },
     "execution_count": 5,
     "metadata": {},
     "output_type": "execute_result"
    }
   ],
   "source": [
    "a"
   ]
  },
  {
   "cell_type": "code",
   "execution_count": 6,
   "id": "816e6797",
   "metadata": {},
   "outputs": [
    {
     "name": "stdout",
     "output_type": "stream",
     "text": [
      "(1, 3, 3)\n",
      "[[[ 1  2  3]\n",
      "  [34 45 56]\n",
      "  [54 55 67]]]\n"
     ]
    }
   ],
   "source": [
    "a = np.array([[[1,2,3],[34,45,56],[54,55,67]]])\n",
    "print(a.shape)\n",
    "print(a)"
   ]
  },
  {
   "cell_type": "code",
   "execution_count": null,
   "id": "570f66eb",
   "metadata": {},
   "outputs": [],
   "source": [
    "  "
   ]
  },
  {
   "cell_type": "code",
   "execution_count": 7,
   "id": "af89f3bd",
   "metadata": {},
   "outputs": [],
   "source": [
    "# 1D array"
   ]
  },
  {
   "cell_type": "code",
   "execution_count": 8,
   "id": "0bae8010",
   "metadata": {},
   "outputs": [
    {
     "ename": "TypeError",
     "evalue": "array() missing required argument 'object' (pos 0)",
     "output_type": "error",
     "traceback": [
      "\u001b[1;31m---------------------------------------------------------------------------\u001b[0m",
      "\u001b[1;31mTypeError\u001b[0m                                 Traceback (most recent call last)",
      "Cell \u001b[1;32mIn[8], line 1\u001b[0m\n\u001b[1;32m----> 1\u001b[0m a \u001b[38;5;241m=\u001b[39m np\u001b[38;5;241m.\u001b[39marray( )\n\u001b[0;32m      2\u001b[0m \u001b[38;5;28mprint\u001b[39m(a)\n",
      "\u001b[1;31mTypeError\u001b[0m: array() missing required argument 'object' (pos 0)"
     ]
    }
   ],
   "source": [
    "a = np.array( )\n",
    "print(a) "
   ]
  },
  {
   "cell_type": "code",
   "execution_count": 9,
   "id": "932f4f40",
   "metadata": {},
   "outputs": [
    {
     "name": "stdout",
     "output_type": "stream",
     "text": [
      "[1, 4, 8, 12]\n"
     ]
    }
   ],
   "source": [
    "y = [1,2,3,4]\n",
    "for i in range(1,len(y)):\n",
    "     y[i] = i*4\n",
    "print(y)"
   ]
  },
  {
   "cell_type": "code",
   "execution_count": 10,
   "id": "cd60f930",
   "metadata": {},
   "outputs": [
    {
     "name": "stdout",
     "output_type": "stream",
     "text": [
      "[ 4  8 12 16]\n"
     ]
    }
   ],
   "source": [
    "y=np.array([1,2,3,4])\n",
    "y=y*4\n",
    "print(y)"
   ]
  },
  {
   "cell_type": "code",
   "execution_count": null,
   "id": "c57b84c1",
   "metadata": {},
   "outputs": [],
   "source": [
    "#boolean indexing\n",
    "#to filter out\n",
    "#consider subsets"
   ]
  },
  {
   "cell_type": "code",
   "execution_count": null,
   "id": "745722d4",
   "metadata": {},
   "outputs": [],
   "source": [
    "a = np.arange(20,40,2)\n",
    "print(a)"
   ]
  },
  {
   "cell_type": "code",
   "execution_count": null,
   "id": "a4d7a220",
   "metadata": {},
   "outputs": [],
   "source": [
    "import random \n",
    "random.randint(10,20)"
   ]
  },
  {
   "cell_type": "code",
   "execution_count": 15,
   "id": "068d93a8",
   "metadata": {},
   "outputs": [
    {
     "name": "stdout",
     "output_type": "stream",
     "text": [
      "[[39 36 10 18 30 36 10 22 29 14]\n",
      " [31 13 36 14 28 16 37 17 20 35]\n",
      " [27 32 20 33 17 12 13 25 32 22]\n",
      " [26 29 28 33 16 29 23 36 37 29]\n",
      " [27 38 23 13 34 10 38 33 28 11]\n",
      " [35 11 39 37 26 31 11 19 31 28]\n",
      " [32 26 12 26 10 28 15 18 18 11]\n",
      " [13 32 38 31 24 19 19 21 27 25]\n",
      " [18 25 11 13 32 15 28 15 15 30]\n",
      " [15 22 15 22 22 24 19 19 20 20]]\n"
     ]
    }
   ],
   "source": [
    "my_table = np.random.randint(10,40,size = (10,10))\n",
    "print(my_table)"
   ]
  },
  {
   "cell_type": "code",
   "execution_count": 16,
   "id": "c774b7b4",
   "metadata": {},
   "outputs": [
    {
     "data": {
      "text/plain": [
       "array([[21, 27, 25],\n",
       "       [15, 15, 30],\n",
       "       [19, 20, 20]])"
      ]
     },
     "execution_count": 16,
     "metadata": {},
     "output_type": "execute_result"
    }
   ],
   "source": [
    "my_table[7:10,7:10]#last 3 rows 3 columns"
   ]
  },
  {
   "cell_type": "code",
   "execution_count": 17,
   "id": "3f2bc6b1",
   "metadata": {},
   "outputs": [
    {
     "data": {
      "text/plain": [
       "array([18, 14, 33, 33, 13, 37, 26, 31, 13, 22])"
      ]
     },
     "execution_count": 17,
     "metadata": {},
     "output_type": "execute_result"
    }
   ],
   "source": [
    "my_table[0:10,3]#ftsr column acessed"
   ]
  },
  {
   "cell_type": "code",
   "execution_count": 18,
   "id": "0828fb42",
   "metadata": {},
   "outputs": [
    {
     "data": {
      "text/plain": [
       "array([18, 14, 33, 33, 13, 37, 26, 31, 13, 22])"
      ]
     },
     "execution_count": 18,
     "metadata": {},
     "output_type": "execute_result"
    }
   ],
   "source": [
    "my_table[:,3]"
   ]
  },
  {
   "cell_type": "code",
   "execution_count": 28,
   "id": "1d3e2567",
   "metadata": {},
   "outputs": [
    {
     "name": "stdout",
     "output_type": "stream",
     "text": [
      "[[15 13 19 14 10 18 17 15]\n",
      " [18 12 17 18 12 16 12 16]\n",
      " [11 13 13 19 12 17 17 10]\n",
      " [19 10 17 17 13 17 18 10]\n",
      " [10 19 14 16 10 17 17 15]\n",
      " [10 12 16 10 13 16 15 19]\n",
      " [11 11 10 18 19 17 19 11]\n",
      " [14 16 10 18 11 15 11 16]\n",
      " [17 13 17 15 10 15 19 16]\n",
      " [16 16 16 10 11 15 17 16]]\n",
      "(10, 8)\n"
     ]
    }
   ],
   "source": [
    "# Lets create a 2dimentional array with integers\n",
    "\n",
    "\n",
    "table1 = np.random.randint(10,20,size = (10,8))\n",
    "print(table1)\n",
    "print(table1.shape) "
   ]
  },
  {
   "cell_type": "code",
   "execution_count": 42,
   "id": "d9ba2e59",
   "metadata": {},
   "outputs": [
    {
     "name": "stdout",
     "output_type": "stream",
     "text": [
      "[15 13 19 14 10 18 17 15 18 12 17 18 12 16 12 16 11 13 13 19 12 17 17 10\n",
      " 19 10 17 17 13 17 18 10 10 19 14 16 10 17 17 15 10 12 16 10 13 16 15 19\n",
      " 11 11 10 18 19 17 19 11 14 16 10 18 11 15 11 16 17 13 17 15 10 15 19 16\n",
      " 16 16 16 10 11 15 17 16]\n"
     ]
    }
   ],
   "source": [
    "print(np.ndarray.flatten(table1))"
   ]
  },
  {
   "cell_type": "code",
   "execution_count": 53,
   "id": "84a43297",
   "metadata": {},
   "outputs": [
    {
     "name": "stdout",
     "output_type": "stream",
     "text": [
      "[[1 1 2 8 3 6 5 9]\n",
      " [2 6 5 4 9 5 1 2]\n",
      " [8 7 6 1 4 4 6 9]\n",
      " [3 6 4 9 9 5 6 8]\n",
      " [3 9 6 4 7 1 8 3]\n",
      " [4 5 7 1 3 9 4 5]\n",
      " [9 8 4 6 5 2 1 5]\n",
      " [7 7 7 7 1 9 9 7]\n",
      " [8 8 4 7 4 1 9 6]\n",
      " [1 9 6 6 3 8 2 6]]\n",
      "[1 1 2 8 3 6 5 9 2 6 5 4 9 5 1 2 8 7 6 1 4 4 6 9 3 6 4 9 9 5 6 8 3 9 6 4 7\n",
      " 1 8 3 4 5 7 1 3 9 4 5 9 8 4 6 5 2 1 5 7 7 7 7 1 9 9 7 8 8 4 7 4 1 9 6 1 9\n",
      " 6 6 3 8 2 6]\n"
     ]
    }
   ],
   "source": [
    "table2 =  np.random.randint(1,10,size = (10,8))\n",
    "print(table2)\n",
    "print(np.ndarray.flatten(table2))"
   ]
  },
  {
   "cell_type": "code",
   "execution_count": 54,
   "id": "4e081216",
   "metadata": {},
   "outputs": [
    {
     "name": "stdout",
     "output_type": "stream",
     "text": [
      "[[[26 16  7]\n",
      "  [17 17 17]\n",
      "  [13 15 23]]\n",
      "\n",
      " [[20  1 12]\n",
      "  [12 15  9]\n",
      "  [21 22 20]]\n",
      "\n",
      " [[ 8 25  6]\n",
      "  [13 13 13]\n",
      "  [23 25 20]]]\n",
      "[26 16  7 17 17 17 13 15 23 20  1 12 12 15  9 21 22 20  8 25  6 13 13 13\n",
      " 23 25 20]\n"
     ]
    }
   ],
   "source": [
    " table2 =  np.random.randint(1,27,size = (3,3,3))\n",
    "print(table2)\n",
    "print(np.ndarray.flatten(table2))"
   ]
  },
  {
   "cell_type": "code",
   "execution_count": null,
   "id": "f993856c",
   "metadata": {},
   "outputs": [],
   "source": []
  },
  {
   "cell_type": "code",
   "execution_count": null,
   "id": "5ec816c8",
   "metadata": {},
   "outputs": [],
   "source": [
    " "
   ]
  },
  {
   "cell_type": "code",
   "execution_count": null,
   "id": "1b85cd10",
   "metadata": {},
   "outputs": [],
   "source": []
  },
  {
   "cell_type": "code",
   "execution_count": null,
   "id": "2a765afd",
   "metadata": {},
   "outputs": [],
   "source": []
  },
  {
   "cell_type": "code",
   "execution_count": null,
   "id": "acecb189",
   "metadata": {},
   "outputs": [],
   "source": []
  }
 ],
 "metadata": {
  "kernelspec": {
   "display_name": "Python 3 (ipykernel)",
   "language": "python",
   "name": "python3"
  },
  "language_info": {
   "codemirror_mode": {
    "name": "ipython",
    "version": 3
   },
   "file_extension": ".py",
   "mimetype": "text/x-python",
   "name": "python",
   "nbconvert_exporter": "python",
   "pygments_lexer": "ipython3",
   "version": "3.11.5"
  }
 },
 "nbformat": 4,
 "nbformat_minor": 5
}
