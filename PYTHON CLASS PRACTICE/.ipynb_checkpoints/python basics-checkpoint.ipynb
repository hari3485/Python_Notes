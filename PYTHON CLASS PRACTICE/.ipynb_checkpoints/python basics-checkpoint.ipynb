{
 "cells": [
  {
   "cell_type": "code",
   "execution_count": null,
   "id": "a5cd0504",
   "metadata": {},
   "outputs": [],
   "source": [
    "#mark down\n",
    "#Interupt the kernel \n",
    "#Add a cell below = ESc+ B\n",
    "#Add a cell Above = Esc + A\n",
    "#Delete a cell = Esc + Double D\n",
    "# To run a code = Shift + Enter\n"
   ]
  },
  {
   "cell_type": "code",
   "execution_count": null,
   "id": "070c5f1c",
   "metadata": {},
   "outputs": [],
   "source": [
    "#Introduction to Jupyter Notebook\n",
    "#Coding is done on cells\n",
    "#Visual studio card\n"
   ]
  },
  {
   "cell_type": "markdown",
   "id": "c1af079a-0ae3-42fd-94e4-a1197df38887",
   "metadata": {},
   "source": [
    "### String operations"
   ]
  },
  {
   "cell_type": "code",
   "execution_count": 17,
   "id": "1ec8a761-34d3-4f97-8058-3d8e7ee76c1f",
   "metadata": {},
   "outputs": [
    {
     "name": "stdout",
     "output_type": "stream",
     "text": [
      "Harichandan\n"
     ]
    }
   ],
   "source": [
    "var=\"Harichandan\"\n",
    "print(var)"
   ]
  },
  {
   "cell_type": "code",
   "execution_count": 21,
   "id": "30461333-e909-4001-b65c-1cdb58a185bc",
   "metadata": {},
   "outputs": [
    {
     "data": {
      "text/plain": [
       "'H'"
      ]
     },
     "execution_count": 21,
     "metadata": {},
     "output_type": "execute_result"
    }
   ],
   "source": [
    "var[0]"
   ]
  },
  {
   "cell_type": "code",
   "execution_count": 23,
   "id": "17374012-00a2-4370-b113-1b4dfb412caa",
   "metadata": {},
   "outputs": [
    {
     "data": {
      "text/plain": [
       "'Haric'"
      ]
     },
     "execution_count": 23,
     "metadata": {},
     "output_type": "execute_result"
    }
   ],
   "source": [
    "var[0:5]"
   ]
  },
  {
   "cell_type": "code",
   "execution_count": 25,
   "id": "48e8ab46-f417-41dd-8167-b8ec7927cc2e",
   "metadata": {},
   "outputs": [
    {
     "data": {
      "text/plain": [
       "'Harichandan'"
      ]
     },
     "execution_count": 25,
     "metadata": {},
     "output_type": "execute_result"
    }
   ],
   "source": [
    "var[0:]"
   ]
  },
  {
   "cell_type": "code",
   "execution_count": 27,
   "id": "5d5f0418-7822-498e-8835-1823f25a99e5",
   "metadata": {},
   "outputs": [
    {
     "data": {
      "text/plain": [
       "'Harichanda'"
      ]
     },
     "execution_count": 27,
     "metadata": {},
     "output_type": "execute_result"
    }
   ],
   "source": [
    "var[:-1]"
   ]
  },
  {
   "cell_type": "code",
   "execution_count": 29,
   "id": "bbaf6eb0-9e4d-432b-8d68-a062f6d2733a",
   "metadata": {},
   "outputs": [
    {
     "data": {
      "text/plain": [
       "''"
      ]
     },
     "execution_count": 29,
     "metadata": {},
     "output_type": "execute_result"
    }
   ],
   "source": [
    "var[:0]"
   ]
  },
  {
   "cell_type": "code",
   "execution_count": 1,
   "id": "1550fea6",
   "metadata": {},
   "outputs": [
    {
     "data": {
      "text/plain": [
       "'0b10010'"
      ]
     },
     "execution_count": 1,
     "metadata": {},
     "output_type": "execute_result"
    }
   ],
   "source": [
    "bin(18)"
   ]
  },
  {
   "cell_type": "code",
   "execution_count": 5,
   "id": "dfbe0f71",
   "metadata": {},
   "outputs": [
    {
     "data": {
      "text/plain": [
       "'0o55'"
      ]
     },
     "execution_count": 5,
     "metadata": {},
     "output_type": "execute_result"
    }
   ],
   "source": [
    "oct(45)"
   ]
  },
  {
   "cell_type": "code",
   "execution_count": 7,
   "id": "c39eef1d",
   "metadata": {},
   "outputs": [
    {
     "data": {
      "text/plain": [
       "'0x58'"
      ]
     },
     "execution_count": 7,
     "metadata": {},
     "output_type": "execute_result"
    }
   ],
   "source": [
    "hex(88)"
   ]
  },
  {
   "cell_type": "code",
   "execution_count": null,
   "id": "61eb4072",
   "metadata": {},
   "outputs": [],
   "source": [
    "a = 10 #formatting the strings\n",
    "b = 20\n",
    "print(f\"{a} and {b} sum is = {a+b}\")"
   ]
  },
  {
   "cell_type": "code",
   "execution_count": null,
   "id": "b5e369d1",
   "metadata": {},
   "outputs": [],
   "source": []
  },
  {
   "cell_type": "markdown",
   "id": "226b0745",
   "metadata": {},
   "source": []
  },
  {
   "cell_type": "code",
   "execution_count": 1,
   "id": "e752f6cd",
   "metadata": {},
   "outputs": [
    {
     "data": {
      "text/plain": [
       "'C:\\\\Users\\\\lenovo'"
      ]
     },
     "execution_count": 1,
     "metadata": {},
     "output_type": "execute_result"
    }
   ],
   "source": [
    "pwd   #Understanding the where current path is"
   ]
  },
  {
   "cell_type": "markdown",
   "id": "5bd06f43",
   "metadata": {},
   "source": [
    "\n"
   ]
  },
  {
   "cell_type": "markdown",
   "id": "92747645",
   "metadata": {},
   "source": []
  },
  {
   "cell_type": "markdown",
   "id": "14c6cbcd",
   "metadata": {},
   "source": [
    "# INTRODUCTION\n",
    "## T.HARI CHANDAN\n",
    "### 21\n",
    "#### MSC STATISTICS\n"
   ]
  },
  {
   "cell_type": "markdown",
   "id": "e9876166",
   "metadata": {},
   "source": [
    " I am a passionate, hardworking and curious individual with strong time management skills. a patient approach to learning new things. "
   ]
  },
  {
   "cell_type": "code",
   "execution_count": null,
   "id": "e2b6b5c7",
   "metadata": {},
   "outputs": [],
   "source": [
    "name = input "
   ]
  },
  {
   "cell_type": "code",
   "execution_count": null,
   "id": "e9e0bc37",
   "metadata": {},
   "outputs": [],
   "source": [
    "#Create 3 variables with subject names maths, science, social \n",
    "#maths = 56 ,science = 78,social 60 total  100\n",
    "#average of all marks \n",
    "#percenmtage of allmarks"
   ]
  },
  {
   "cell_type": "code",
   "execution_count": 8,
   "id": "35de90f0",
   "metadata": {},
   "outputs": [
    {
     "name": "stdout",
     "output_type": "stream",
     "text": [
      "56\n"
     ]
    }
   ],
   "source": [
    "maths=56\n",
    "science=78\n",
    "social=60"
   ]
  },
  {
   "cell_type": "code",
   "execution_count": 10,
   "id": "ac900bcf",
   "metadata": {},
   "outputs": [
    {
     "name": "stdout",
     "output_type": "stream",
     "text": [
      "78\n"
     ]
    }
   ],
   "source": []
  },
  {
   "cell_type": "code",
   "execution_count": 12,
   "id": "a97d22bb",
   "metadata": {},
   "outputs": [
    {
     "name": "stdout",
     "output_type": "stream",
     "text": [
      "60\n"
     ]
    }
   ],
   "source": []
  },
  {
   "cell_type": "code",
   "execution_count": 13,
   "id": "5302f553",
   "metadata": {},
   "outputs": [
    {
     "name": "stdout",
     "output_type": "stream",
     "text": [
      "100\n"
     ]
    }
   ],
   "source": [
    "t=100\n",
    "print(t)"
   ]
  },
  {
   "cell_type": "code",
   "execution_count": 17,
   "id": "600a13cb",
   "metadata": {},
   "outputs": [],
   "source": [
    "d=(maths+science+social)/3"
   ]
  },
  {
   "cell_type": "code",
   "execution_count": 18,
   "id": "a55bfb25",
   "metadata": {},
   "outputs": [
    {
     "data": {
      "text/plain": [
       "64.66666666666667"
      ]
     },
     "execution_count": 18,
     "metadata": {},
     "output_type": "execute_result"
    }
   ],
   "source": [
    "d"
   ]
  },
  {
   "cell_type": "code",
   "execution_count": 23,
   "id": "c78eeb60",
   "metadata": {},
   "outputs": [
    {
     "name": "stdout",
     "output_type": "stream",
     "text": [
      "64.66666666666666\n"
     ]
    }
   ],
   "source": [
    "e=((maths+science+social)/(300)*100)\n",
    "print(e)"
   ]
  },
  {
   "cell_type": "markdown",
   "id": "26e3ad56",
   "metadata": {},
   "source": [
    "\n"
   ]
  },
  {
   "cell_type": "code",
   "execution_count": 3,
   "id": "a2039902",
   "metadata": {},
   "outputs": [
    {
     "data": {
      "text/plain": [
       "90"
      ]
     },
     "execution_count": 3,
     "metadata": {},
     "output_type": "execute_result"
    }
   ],
   "source": [
    "45 << 1"
   ]
  },
  {
   "cell_type": "code",
   "execution_count": 4,
   "id": "0ca3cbb7",
   "metadata": {},
   "outputs": [
    {
     "data": {
      "text/plain": [
       "180"
      ]
     },
     "execution_count": 4,
     "metadata": {},
     "output_type": "execute_result"
    }
   ],
   "source": [
    "45 << 2"
   ]
  },
  {
   "cell_type": "code",
   "execution_count": 5,
   "id": "002da159",
   "metadata": {},
   "outputs": [
    {
     "data": {
      "text/plain": [
       "22"
      ]
     },
     "execution_count": 5,
     "metadata": {},
     "output_type": "execute_result"
    }
   ],
   "source": [
    "45 >> 1"
   ]
  },
  {
   "cell_type": "code",
   "execution_count": 6,
   "id": "2a4e8f00",
   "metadata": {},
   "outputs": [
    {
     "data": {
      "text/plain": [
       "11"
      ]
     },
     "execution_count": 6,
     "metadata": {},
     "output_type": "execute_result"
    }
   ],
   "source": [
    "45 >> 2"
   ]
  },
  {
   "cell_type": "code",
   "execution_count": 7,
   "id": "09b46617",
   "metadata": {},
   "outputs": [
    {
     "data": {
      "text/plain": [
       "'0b100000'"
      ]
     },
     "execution_count": 7,
     "metadata": {},
     "output_type": "execute_result"
    }
   ],
   "source": [
    "bin(32)"
   ]
  },
  {
   "cell_type": "code",
   "execution_count": 9,
   "id": "45dcf8f3",
   "metadata": {},
   "outputs": [
    {
     "name": "stdout",
     "output_type": "stream",
     "text": [
      "31\n"
     ]
    }
   ],
   "source": [
    "print(~-32)"
   ]
  },
  {
   "cell_type": "code",
   "execution_count": 10,
   "id": "a05b27a3",
   "metadata": {},
   "outputs": [
    {
     "name": "stdout",
     "output_type": "stream",
     "text": [
      "39\n"
     ]
    }
   ],
   "source": [
    "print(~-40)"
   ]
  },
  {
   "cell_type": "code",
   "execution_count": 9,
   "id": "e67b6b18",
   "metadata": {},
   "outputs": [
    {
     "name": "stdout",
     "output_type": "stream",
     "text": [
      "<class 'tuple'>\n"
     ]
    }
   ],
   "source": [
    " a=\"chintu\",\"pappu\"  #By default it is taking tuples when u give multiple data types assign to variable\n",
    "                         #it will say typew as \"tuple\"\n",
    "print(type(a))"
   ]
  },
  {
   "cell_type": "code",
   "execution_count": 11,
   "id": "02c16c42",
   "metadata": {},
   "outputs": [
    {
     "name": "stdout",
     "output_type": "stream",
     "text": [
      "('chintu', 'pandu', 1, 3, 4.5)\n",
      "False\n",
      "('chintu', 'pandu', 1, 3, 4.5)\n"
     ]
    }
   ],
   "source": [
    "b=(\"chintu\",\"pandu\",1,3,4.5)\n",
    "print(b)        #Tuples are unmutable we cannot change them , it allows duplicates\n",
    "type(b)\n",
    "print(b[4]==5)\n",
    "print(b)"
   ]
  },
  {
   "cell_type": "code",
   "execution_count": 13,
   "id": "aae30e5c",
   "metadata": {},
   "outputs": [
    {
     "name": "stdout",
     "output_type": "stream",
     "text": [
      "[1, 2, 3, 4, 5]\n"
     ]
    }
   ],
   "source": [
    "c=[1,2,3,4]\n",
    "c.append(5)  #When u run the code continuosly 3-4 times and in next step if we mention print \"alphabet\" it gives only once\n",
    "print(c)"
   ]
  },
  {
   "cell_type": "code",
   "execution_count": 15,
   "id": "30f546f6",
   "metadata": {},
   "outputs": [
    {
     "name": "stdout",
     "output_type": "stream",
     "text": [
      "[1, 2, 3, 4, 5, 6]\n"
     ]
    }
   ],
   "source": [
    "c.append(6)\n",
    "print(c)    #When u run the code continuosly 3-4 times that states it appends the \"alphabet\" 4 times and gives it in result"
   ]
  },
  {
   "cell_type": "code",
   "execution_count": 17,
   "id": "2cf9c381",
   "metadata": {},
   "outputs": [
    {
     "name": "stdout",
     "output_type": "stream",
     "text": [
      "[1, 2, 3, 4, 5, 6, 7]\n",
      "1\n",
      "2\n",
      "3\n",
      "4\n",
      "5\n",
      "6\n",
      "7\n"
     ]
    }
   ],
   "source": [
    "mani=[1,2,3,4,5,6,7]\n",
    "print(mani)  \n",
    "for every_datapoint in mani:   #Colon is very very important when u are using loops. \n",
    " print(every_datapoint)"
   ]
  },
  {
   "cell_type": "code",
   "execution_count": 21,
   "id": "0a614a48",
   "metadata": {},
   "outputs": [
    {
     "name": "stdout",
     "output_type": "stream",
     "text": [
      "[1, 2, 3, 5, 6]\n",
      "[1, 2, 3, 5, 6, 10]\n",
      "[1, 5, 2, 3, 5, 6, 10]\n",
      "[1, 5, 2, 5, 6, 10]\n",
      "[1, 5, 2, 5, 6]\n",
      "[1, 2, 5, 5, 6]\n",
      "[6, 5, 5, 2, 1]\n",
      "0\n",
      "[143, 144]\n"
     ]
    }
   ],
   "source": [
    "charan_sir=[1,2,3,5,6]\n",
    "print(charan_sir)\n",
    "charan_sir.append(10)\n",
    "print(charan_sir)\n",
    "charan_sir.insert(1,5)\n",
    "print(charan_sir)\n",
    "charan_sir.remove(3)\n",
    "print(charan_sir)\n",
    "charan_sir.pop(charan_sir[3])\n",
    "print(charan_sir)\n",
    "charan_sir.sort()\n",
    "print(charan_sir)\n",
    "charan_sir.reverse()\n",
    "print(charan_sir)\n",
    "print(charan_sir.count(7))\n",
    "hari=[143,144]\n",
    "print(hari)\n",
    "\n"
   ]
  },
  {
   "cell_type": "code",
   "execution_count": 23,
   "id": "3c728164",
   "metadata": {},
   "outputs": [
    {
     "name": "stdout",
     "output_type": "stream",
     "text": [
      "[1, 2, 3, 5, 6]\n",
      "[143, 144.7]\n",
      "[1, 2, 3, 5, 6, [143, 144.7]]\n",
      "[]\n"
     ]
    }
   ],
   "source": [
    "charan_sir=[1,2,3,5,6]\n",
    "print(charan_sir)\n",
    "hari=[143,144.7]\n",
    "print(hari)\n",
    "charan_sir.append(hari)\n",
    "print(charan_sir)\n",
    "charan_sir.clear()\n",
    "print(charan_sir)\n"
   ]
  },
  {
   "cell_type": "code",
   "execution_count": 25,
   "id": "6c207673",
   "metadata": {},
   "outputs": [
    {
     "name": "stdout",
     "output_type": "stream",
     "text": [
      "[1, 2, 3, 5, 6]\n",
      "[143, 144.7]\n",
      "[1, 2, 3, 5, 6, 143, 144.7]\n",
      "False\n"
     ]
    }
   ],
   "source": [
    "charan_sir=[1,2,3,5,6]\n",
    "print(charan_sir.copy())\n",
    "hari=[143,144.7]\n",
    "print(hari)\n",
    "print(charan_sir+hari)\n",
    "print(8 in charan_sir)\n"
   ]
  },
  {
   "cell_type": "code",
   "execution_count": 27,
   "id": "6c1aed72",
   "metadata": {},
   "outputs": [
    {
     "name": "stdout",
     "output_type": "stream",
     "text": [
      "['chintu', 'hari', 'munnu', 'pappu']\n",
      "4\n",
      "['chintu', 'hari', 'munnu']\n",
      "chintu\n",
      "hari\n",
      "munnu\n",
      "pappu\n"
     ]
    }
   ],
   "source": [
    "a=[\"hari\",\"chintu\",\"pappu\",\"munnu\"]\n",
    "a.sort()\n",
    "print(a)\n",
    "print(len(a))\n",
    "print(a[0:3])\n",
    "for every_datapoint in a:\n",
    "    print(every_datapoint)\n",
    "b=\"hari\"\n",
    "\n",
    "\n",
    "\n"
   ]
  },
  {
   "cell_type": "code",
   "execution_count": 29,
   "id": "5d5667f0",
   "metadata": {},
   "outputs": [
    {
     "data": {
      "text/plain": [
       "['c', 'h', 'a', 'r', 'a', 'n']"
      ]
     },
     "execution_count": 29,
     "metadata": {},
     "output_type": "execute_result"
    }
   ],
   "source": [
    "h =[]\n",
    "\n",
    "h.extend(\"charan\")\n",
    "h"
   ]
  },
  {
   "cell_type": "code",
   "execution_count": 31,
   "id": "4898e78a",
   "metadata": {},
   "outputs": [
    {
     "data": {
      "text/plain": [
       "['c', 'h', 'a', 'r', 'a', 'n']"
      ]
     },
     "execution_count": 31,
     "metadata": {},
     "output_type": "execute_result"
    }
   ],
   "source": [
    "list(\"charan\")"
   ]
  },
  {
   "cell_type": "code",
   "execution_count": 33,
   "id": "ae180c56",
   "metadata": {},
   "outputs": [
    {
     "name": "stdout",
     "output_type": "stream",
     "text": [
      "(1, 2)\n",
      "5\n",
      "('bunty', 'bunny')\n",
      "False\n"
     ]
    }
   ],
   "source": [
    "#TUPLES\n",
    "\n",
    "bunt=(1,2,3,4,\"chintu\")\n",
    "print(bunt[0:2])\n",
    "print(len(bunt))\n",
    "print(tuple([\"bunty\",\"bunny\"]))\n",
    "print(5 in bunt)\n",
    "\n"
   ]
  },
  {
   "cell_type": "code",
   "execution_count": 39,
   "id": "ad68e1ea",
   "metadata": {},
   "outputs": [
    {
     "name": "stdout",
     "output_type": "stream",
     "text": [
      "('hari', 'charan sir', 'bunty', 'pintu')\n"
     ]
    }
   ],
   "source": [
    "h=\"hari\",\"charan sir\",\"bunty\",\"pintu\"\n",
    "print(h)"
   ]
  },
  {
   "cell_type": "code",
   "execution_count": 41,
   "id": "36d988ad",
   "metadata": {},
   "outputs": [
    {
     "name": "stdout",
     "output_type": "stream",
     "text": [
      "1\n",
      "3\n",
      "4\n",
      "5\n"
     ]
    }
   ],
   "source": [
    "n=[1,3,4,5]\n",
    "v1,v2,*v3=n\n",
    "for every_datapoint in n:\n",
    " print(every_datapoint)"
   ]
  },
  {
   "cell_type": "code",
   "execution_count": 43,
   "id": "370eaeec",
   "metadata": {},
   "outputs": [
    {
     "data": {
      "text/plain": [
       "{'1': 'ria', '2': 'chintu'}"
      ]
     },
     "execution_count": 43,
     "metadata": {},
     "output_type": "execute_result"
    }
   ],
   "source": [
    "Dict = {\"1\":\"hari\",\"2\":\"chintu\",\"1\":\"ria\"}\n",
    "Dict"
   ]
  },
  {
   "cell_type": "code",
   "execution_count": 47,
   "id": "88754443",
   "metadata": {},
   "outputs": [
    {
     "name": "stdout",
     "output_type": "stream",
     "text": [
      "{'name': 'chandan', 'age': 21, 'gender': 'male'}\n",
      "\n",
      "\n",
      "\n"
     ]
    }
   ],
   "source": [
    "dict_1={\"name\":\"chandan\",\"age\":21,\"gender\":\"male\"}\n",
    "print(dict_1)\n",
    "for data_point in dict_1.values():\n",
    " print( )"
   ]
  },
  {
   "cell_type": "code",
   "execution_count": 49,
   "id": "ebb33f94",
   "metadata": {},
   "outputs": [
    {
     "name": "stdout",
     "output_type": "stream",
     "text": [
      "{'name': ['a', 'b', 'c'], 'age': [17, 18, 19], 'gender': ['m', 'f', 'm']}\n"
     ]
    }
   ],
   "source": [
    "demo_inf={\"name\":[\"a\",\"b\",\"c\"],\"age\":[17,18,19],\"gender\":[\"m\",\"f\",\"m\"]}\n",
    "print(demo_inf)"
   ]
  },
  {
   "cell_type": "code",
   "execution_count": 51,
   "id": "88e73665",
   "metadata": {},
   "outputs": [
    {
     "data": {
      "text/plain": [
       "[17, 18, 19]"
      ]
     },
     "execution_count": 51,
     "metadata": {},
     "output_type": "execute_result"
    }
   ],
   "source": [
    "demo_inf[\"age\"]"
   ]
  },
  {
   "cell_type": "code",
   "execution_count": 53,
   "id": "52fe3f7a",
   "metadata": {},
   "outputs": [
    {
     "name": "stdout",
     "output_type": "stream",
     "text": [
      "{False, True}\n",
      "{False}\n",
      "{True}\n"
     ]
    }
   ],
   "source": [
    " a={True,False}\n",
    " b={False}\n",
    "print(a)   #int(True) is 1 is existing then it allows duplicates and it takes first one\n",
    "print(b)\n",
    "print(a-b)"
   ]
  },
  {
   "cell_type": "code",
   "execution_count": 55,
   "id": "0f05fef2",
   "metadata": {},
   "outputs": [
    {
     "name": "stdout",
     "output_type": "stream",
     "text": [
      "{0, 1, 8.9, 3}\n"
     ]
    }
   ],
   "source": [
    "c={1,3,0,8.9,True,False}\n",
    "print(c)"
   ]
  },
  {
   "cell_type": "code",
   "execution_count": 57,
   "id": "5d3a8740",
   "metadata": {},
   "outputs": [
    {
     "name": "stdout",
     "output_type": "stream",
     "text": [
      "{8.9, True, False}\n"
     ]
    }
   ],
   "source": [
    "d={8.9,True,False,0,1}\n",
    "print(d)"
   ]
  },
  {
   "cell_type": "code",
   "execution_count": 59,
   "id": "d199782b",
   "metadata": {},
   "outputs": [
    {
     "name": "stdout",
     "output_type": "stream",
     "text": [
      "{1, 5, 6}\n",
      "{8, 7}\n",
      "{7, 8}\n",
      "{1, 2, 3, 4, 5, 6}\n"
     ]
    }
   ],
   "source": [
    "e= {1,2,3,4,5,6}\n",
    "f= {2,3,4,7,8}\n",
    "print(e.difference(f))\n",
    "print(f.difference(e))\n",
    "f.difference_update(e)\n",
    "print(f)\n",
    "e.difference_update(f)\n",
    "print(e)"
   ]
  },
  {
   "cell_type": "code",
   "execution_count": 61,
   "id": "fc2b7093",
   "metadata": {},
   "outputs": [
    {
     "name": "stdout",
     "output_type": "stream",
     "text": [
      "{1, 2, 3, 4, 5, 6}\n",
      "{2, 3, 4, 7, 8}\n",
      "{2, 3, 4}\n",
      "{2, 3, 4}\n"
     ]
    }
   ],
   "source": [
    "e= {1,2,3,4,5,6}\n",
    "f= {2,3,4,7,8}\n",
    "print(e)\n",
    "print(f)\n",
    "e.intersection_update(f)\n",
    "print(e)\n",
    "f.intersection_update(e)\n",
    "print(f)"
   ]
  },
  {
   "cell_type": "code",
   "execution_count": 63,
   "id": "528e24ef",
   "metadata": {},
   "outputs": [
    {
     "name": "stdout",
     "output_type": "stream",
     "text": [
      "{1, 2, 3, 4, 5, 6}\n",
      "{2, 3, 4}\n"
     ]
    }
   ],
   "source": [
    "e= {1,2,3,4,5,6}\n",
    "f= {2,3,4}\n",
    "print(e)\n",
    "print(f)\n"
   ]
  },
  {
   "cell_type": "code",
   "execution_count": 3,
   "id": "60d0fc32",
   "metadata": {},
   "outputs": [
    {
     "name": "stdout",
     "output_type": "stream",
     "text": [
      "[1, 2, 3]\n",
      "[1, 2, 3, 4]\n",
      "[3, 2, 1]\n",
      "[3, 2, 1, 4]\n",
      "[3, 2, 1, 4]\n"
     ]
    }
   ],
   "source": [
    "f=[1,2,3,4]\n",
    "e=[1,2,3]\n",
    "print(e)\n",
    "a=[4]\n",
    "print(f)\n",
    "e.reverse()\n",
    "print(e)\n",
    "print(e+a)\n",
    "f[0],f[2]=f[2],f[0]\n",
    "print(f)"
   ]
  },
  {
   "cell_type": "code",
   "execution_count": 67,
   "id": "87d33040",
   "metadata": {},
   "outputs": [
    {
     "name": "stdout",
     "output_type": "stream",
     "text": [
      "{1, 2, 3}\n",
      "{1, 2, 3, 4}\n"
     ]
    },
    {
     "data": {
      "text/plain": [
       "{4}"
      ]
     },
     "execution_count": 67,
     "metadata": {},
     "output_type": "execute_result"
    }
   ],
   "source": [
    "f={1,2,3,4}\n",
    "e={1,2,3}\n",
    "print(e)\n",
    "print(f)\n",
    "e.symmetric_difference(f)"
   ]
  },
  {
   "cell_type": "code",
   "execution_count": 69,
   "id": "8a4f72b5",
   "metadata": {},
   "outputs": [
    {
     "name": "stdout",
     "output_type": "stream",
     "text": [
      "hari chandan\n"
     ]
    },
    {
     "data": {
      "text/plain": [
       "('h', 'a', 'r', 'i', ' ', 'c', 'h', 'a', 'n', 'd', 'a', 'n')"
      ]
     },
     "execution_count": 69,
     "metadata": {},
     "output_type": "execute_result"
    }
   ],
   "source": [
    "a=\"hari chandan\"\n",
    "print(a)\n",
    "tuple(\"hari chandan\")"
   ]
  },
  {
   "cell_type": "markdown",
   "id": "9f23aeda-ba24-424d-82bf-6ddfd04a0733",
   "metadata": {},
   "source": [
    "### List\n",
    "##### It holds the values of different data types in the variable\n",
    "###### Mutable,Ordered,Allows duplicates"
   ]
  },
  {
   "cell_type": "code",
   "execution_count": 35,
   "id": "3503deb6-c20d-4c7f-9699-fdd8524aa095",
   "metadata": {},
   "outputs": [
    {
     "name": "stdout",
     "output_type": "stream",
     "text": [
      "[1, 2, 3, 4, 5, 6]\n"
     ]
    },
    {
     "data": {
      "text/plain": [
       "list"
      ]
     },
     "execution_count": 35,
     "metadata": {},
     "output_type": "execute_result"
    }
   ],
   "source": [
    "a=[1,2,3,4,5,6]\n",
    "print(a)\n",
    "type(a)"
   ]
  },
  {
   "cell_type": "code",
   "execution_count": 36,
   "id": "9c14cb36-750d-49fe-a04d-84e0700bb615",
   "metadata": {},
   "outputs": [
    {
     "name": "stdout",
     "output_type": "stream",
     "text": [
      "['a', 'b', 'c', 'd', 'e']\n",
      "['chandan', 'nandan', 'laddu']\n",
      "[1, 2, 3, 4, True, 3.56, 'hari', 'chintu']\n",
      "hari\n",
      "hari\n",
      "[1, 2, 3, 4, True, 3.56, 'hari', 'chintu']\n",
      "[1, 3, True, 'hari']\n",
      "['chintu', 'hari', 3.56, True, 4, 3, 2, 1]\n"
     ]
    }
   ],
   "source": [
    "b=[\"a\",\"b\",\"c\",\"d\",\"e\"]\n",
    "print(b)\n",
    "c=[\"chandan\",\"nandan\",\"laddu\"]\n",
    "print(c)\n",
    "d=[1,2,3,4,True,3.56,\"hari\",\"chintu\"]\n",
    "print(d)\n",
    "print(d[6]) # Acessing the elements in the list by indexing\n",
    "print(d[-2])\n",
    "print(d[0:9])# Acessing the elements in the list by Slicing\n",
    "print(d[::2])# Acessing elements alternatively\n",
    "print(d[::-1])"
   ]
  },
  {
   "cell_type": "code",
   "execution_count": 27,
   "id": "3a2b6bf9-3f67-4d44-9a55-48a9c74b95ba",
   "metadata": {},
   "outputs": [
    {
     "name": "stdout",
     "output_type": "stream",
     "text": [
      "[1, 2, 3]\n"
     ]
    }
   ],
   "source": [
    "e=[1,2,3]\n",
    "print(e)"
   ]
  },
  {
   "cell_type": "code",
   "execution_count": null,
   "id": "e2270dd5-b5e5-4875-9d8c-0cbe26d8bbd7",
   "metadata": {},
   "outputs": [],
   "source": [
    "#Unpacking in list"
   ]
  },
  {
   "cell_type": "code",
   "execution_count": 9,
   "id": "df038d89-8a58-45c5-9646-71d6d9a60bff",
   "metadata": {},
   "outputs": [
    {
     "name": "stdout",
     "output_type": "stream",
     "text": [
      "['h', 'e', 'l', 'l', 'o', ' ', 'c', 'h', 'a', 'n', 'd', 'a', 'n'] unpacking the list\n"
     ]
    }
   ],
   "source": [
    "var=list(\"hello chandan\")\n",
    "print(var, \"unpacking the list\")"
   ]
  },
  {
   "cell_type": "markdown",
   "id": "98b0d21f-f16f-42d6-8174-3cf4d441e453",
   "metadata": {},
   "source": [
    "#### List methods"
   ]
  },
  {
   "cell_type": "code",
   "execution_count": 89,
   "id": "5625a73f-eb71-4e3d-a104-13f3986f70c4",
   "metadata": {},
   "outputs": [
    {
     "name": "stdout",
     "output_type": "stream",
     "text": [
      "[1, 2, 3]\n"
     ]
    }
   ],
   "source": [
    "e=[1,2,3]\n",
    "print(e)\n",
    "e.append(\"hello\")"
   ]
  },
  {
   "cell_type": "code",
   "execution_count": 101,
   "id": "7f843419-48b4-4c2f-8d34-f1d345a0e32a",
   "metadata": {},
   "outputs": [
    {
     "name": "stdout",
     "output_type": "stream",
     "text": [
      "[1, 2, 'chintu', 3, 'hello', 'nandan', 'laddu'] Append adds an element to the end of the list\n",
      "[1, 2, 'chintu', 3, 'hello', 'nandan', 'laddu']\n"
     ]
    }
   ],
   "source": [
    "print(e,\"Append adds an element to the end of the list\")\n",
    "print(e)"
   ]
  },
  {
   "cell_type": "code",
   "execution_count": 103,
   "id": "6e624f2d-e804-4fe7-a52e-e16d33a03035",
   "metadata": {},
   "outputs": [
    {
     "name": "stdout",
     "output_type": "stream",
     "text": [
      "['chandan', 'nandan', 'laddu']\n",
      "[1, 2, 'chintu', 3, 'hello', 'nandan', 'laddu', 'chandan', 'nandan', 'laddu'] Extend adds the multiple values to end of the list\n"
     ]
    }
   ],
   "source": [
    "print(c)\n",
    "e.extend(c)\n",
    "print(e,\"Extend adds the multiple values to end of the list\")"
   ]
  },
  {
   "cell_type": "code",
   "execution_count": 95,
   "id": "3e73821d-4b31-4f3b-8bf4-0e2d2a42fe4f",
   "metadata": {},
   "outputs": [
    {
     "name": "stdout",
     "output_type": "stream",
     "text": [
      "[1, 2, 'chintu', 3, 'hello', 'chandan', 'nandan', 'laddu'] Insert it adds an element it a particular place of the list\n",
      "[1, 2, 'chintu', 3, 'hello', 'chandan', 'nandan', 'laddu']\n"
     ]
    }
   ],
   "source": [
    "e.insert(2,\"chintu\")\n",
    "print(e,\"Insert it adds an element it a particular place of the list\")\n",
    "print(e)"
   ]
  },
  {
   "cell_type": "code",
   "execution_count": 97,
   "id": "098f11d3-9ed5-47c6-945c-4b0cf42633f9",
   "metadata": {},
   "outputs": [
    {
     "name": "stdout",
     "output_type": "stream",
     "text": [
      "[1, 2, 'chintu', 3, 'hello', 'nandan', 'laddu'] removing a specific element from the list\n",
      "[1, 2, 'chintu', 3, 'hello', 'nandan', 'laddu']\n"
     ]
    }
   ],
   "source": [
    "e.remove(\"chandan\")\n",
    "print(e,\"removing a specific element from the list\")\n",
    "print(e)"
   ]
  },
  {
   "cell_type": "code",
   "execution_count": 99,
   "id": "97d25d37-1ddd-4169-ae88-42b6bab427c7",
   "metadata": {},
   "outputs": [
    {
     "name": "stdout",
     "output_type": "stream",
     "text": [
      "[1, 2, 'chintu', 3, 'hello', 'nandan', 'laddu', 'hello']\n",
      "[1, 2, 'chintu', 3, 'nandan', 'laddu', 'hello'] when an element repeates one or more time it removes only first element\n",
      "[1, 2, 'chintu', 3, 'nandan', 'laddu', 'hello']\n"
     ]
    }
   ],
   "source": [
    "f=[1, 2, 'chintu', 3, 'hello', 'nandan', 'laddu','hello']\n",
    "print(f)\n",
    "f.remove('hello')\n",
    "print(f,\"when an element repeates one or more time it removes only first element\")\n",
    "print(f)"
   ]
  },
  {
   "cell_type": "code",
   "execution_count": 64,
   "id": "383ef2a7-ab34-439f-869f-970370784b87",
   "metadata": {},
   "outputs": [
    {
     "name": "stdout",
     "output_type": "stream",
     "text": [
      "['a', 'c', 'e', 'k', 'l'] sorting in the alphabetical order\n"
     ]
    }
   ],
   "source": [
    "g=[\"a\",\"c\",\"e\",\"k\",\"l\"]\n",
    "g.sort\n",
    "print(g,\"sorting in the alphabetical order\")"
   ]
  },
  {
   "cell_type": "markdown",
   "id": "533414aa-2ca3-4167-95b2-73c54637d3d4",
   "metadata": {},
   "source": [
    "#### Builtin functions in list "
   ]
  },
  {
   "cell_type": "code",
   "execution_count": 67,
   "id": "0fc8469f-c67a-44d6-8412-cae5146000fe",
   "metadata": {},
   "outputs": [],
   "source": [
    "h=[34,54,67,56,78]"
   ]
  },
  {
   "cell_type": "code",
   "execution_count": 69,
   "id": "3fa823b6-381d-4a4b-bd18-5507e46f6e1e",
   "metadata": {},
   "outputs": [
    {
     "name": "stdout",
     "output_type": "stream",
     "text": [
      "[34, 54, 67, 56, 78]\n"
     ]
    }
   ],
   "source": [
    "print(h)"
   ]
  },
  {
   "cell_type": "code",
   "execution_count": 71,
   "id": "82d8d2b1-3983-41fc-9d55-a7965d050b81",
   "metadata": {},
   "outputs": [
    {
     "data": {
      "text/plain": [
       "5"
      ]
     },
     "execution_count": 71,
     "metadata": {},
     "output_type": "execute_result"
    }
   ],
   "source": [
    "len(h)"
   ]
  },
  {
   "cell_type": "code",
   "execution_count": 75,
   "id": "6624921f-155a-4581-97e6-0d6b49b33013",
   "metadata": {},
   "outputs": [
    {
     "data": {
      "text/plain": [
       "34"
      ]
     },
     "execution_count": 75,
     "metadata": {},
     "output_type": "execute_result"
    }
   ],
   "source": [
    "min(h)"
   ]
  },
  {
   "cell_type": "code",
   "execution_count": 77,
   "id": "15ee073f-4568-4af9-834f-bfd5f3d2a149",
   "metadata": {},
   "outputs": [
    {
     "data": {
      "text/plain": [
       "78"
      ]
     },
     "execution_count": 77,
     "metadata": {},
     "output_type": "execute_result"
    }
   ],
   "source": [
    "max(h)"
   ]
  },
  {
   "cell_type": "code",
   "execution_count": 79,
   "id": "523dcfd0-db13-47a5-95f9-c8171db5340c",
   "metadata": {},
   "outputs": [
    {
     "data": {
      "text/plain": [
       "289"
      ]
     },
     "execution_count": 79,
     "metadata": {},
     "output_type": "execute_result"
    }
   ],
   "source": [
    "sum(h)"
   ]
  },
  {
   "cell_type": "code",
   "execution_count": 81,
   "id": "fba67beb-cbff-41b0-bdd2-4cfc20e35cdb",
   "metadata": {},
   "outputs": [],
   "source": [
    "range=max(h)-min(h)"
   ]
  },
  {
   "cell_type": "code",
   "execution_count": 83,
   "id": "70f1b7ae-b3a8-4198-8cc8-dd3c6d604e5c",
   "metadata": {},
   "outputs": [
    {
     "data": {
      "text/plain": [
       "44"
      ]
     },
     "execution_count": 83,
     "metadata": {},
     "output_type": "execute_result"
    }
   ],
   "source": [
    "range"
   ]
  },
  {
   "cell_type": "code",
   "execution_count": 85,
   "id": "6c39874f-d5a4-45c2-a841-3ac5a1cc0690",
   "metadata": {},
   "outputs": [],
   "source": [
    "average=sum(h)/len(h)"
   ]
  },
  {
   "cell_type": "code",
   "execution_count": 87,
   "id": "d5ebc160-d948-4252-8fdc-c3559f7dc8d6",
   "metadata": {},
   "outputs": [
    {
     "data": {
      "text/plain": [
       "57.8"
      ]
     },
     "execution_count": 87,
     "metadata": {},
     "output_type": "execute_result"
    }
   ],
   "source": [
    "average"
   ]
  },
  {
   "cell_type": "markdown",
   "id": "13b55de7-7d4d-4573-adf5-5392dfa83f38",
   "metadata": {},
   "source": [
    "## Tuple\n",
    "#### collection of heterogeneous data types , immutable,ordered, allows duplicates"
   ]
  },
  {
   "cell_type": "markdown",
   "id": "65e0f609-1bf2-4bb8-b3d3-e508de71f55a",
   "metadata": {},
   "source": [
    "### Creating tuples"
   ]
  },
  {
   "cell_type": "code",
   "execution_count": 111,
   "id": "aea401c1-b277-420a-a61e-4aa0f293989d",
   "metadata": {},
   "outputs": [
    {
     "name": "stdout",
     "output_type": "stream",
     "text": [
      "()\n"
     ]
    },
    {
     "data": {
      "text/plain": [
       "tuple"
      ]
     },
     "execution_count": 111,
     "metadata": {},
     "output_type": "execute_result"
    }
   ],
   "source": [
    "emp=() #Creating empty tuple\n",
    "print(emp)\n",
    "type(emp)"
   ]
  },
  {
   "cell_type": "code",
   "execution_count": 115,
   "id": "2a90ee13-1c0a-456a-91a2-b4f03782ab47",
   "metadata": {},
   "outputs": [
    {
     "name": "stdout",
     "output_type": "stream",
     "text": [
      "<class 'tuple'>\n"
     ]
    }
   ],
   "source": [
    "tup=\"hari\", #When we are not using open paranthesis then we have add comma after element it considers as tuple\n",
    "print(type(tup))\n"
   ]
  },
  {
   "cell_type": "code",
   "execution_count": 117,
   "id": "d0899078-1380-4d49-9e37-be57524ce4e3",
   "metadata": {},
   "outputs": [
    {
     "name": "stdout",
     "output_type": "stream",
     "text": [
      "('ooty', 'coimbatore', 'kerala', 'arunachalam')\n"
     ]
    }
   ],
   "source": [
    "tours=(\"ooty\",\"coimbatore\",\"kerala\",\"arunachalam\")\n",
    "print(tours)"
   ]
  },
  {
   "cell_type": "code",
   "execution_count": 119,
   "id": "7fbbf9ea-bdd1-422a-b64e-2ef61952f220",
   "metadata": {},
   "outputs": [
    {
     "name": "stdout",
     "output_type": "stream",
     "text": [
      "('ooty', 'coimbatore', 'kerala', 'arunachalam')\n",
      "['ooty', 'coimbatore', 'kerala', 'arunachalam']\n",
      "['ooty', 'coimbatore', 'kerala', 'arunachalam', 'chidambaram']\n"
     ]
    }
   ],
   "source": [
    "tours=(\"ooty\",\"coimbatore\",\"kerala\",\"arunachalam\")\n",
    "tours1=[\"ooty\",\"coimbatore\",\"kerala\",\"arunachalam\"]\n",
    "print(tours)\n",
    "print(tours1)\n",
    "tours1.append(\"chidambaram\")\n",
    "print(tours1)"
   ]
  },
  {
   "cell_type": "code",
   "execution_count": 121,
   "id": "4d242067-c30f-4d40-b1ac-53a8a732e8c2",
   "metadata": {},
   "outputs": [
    {
     "ename": "AttributeError",
     "evalue": "'tuple' object has no attribute 'append'",
     "output_type": "error",
     "traceback": [
      "\u001b[1;31m---------------------------------------------------------------------------\u001b[0m",
      "\u001b[1;31mAttributeError\u001b[0m                            Traceback (most recent call last)",
      "Cell \u001b[1;32mIn[121], line 1\u001b[0m\n\u001b[1;32m----> 1\u001b[0m tours\u001b[38;5;241m.\u001b[39mappend(\u001b[38;5;124m\"\u001b[39m\u001b[38;5;124mchidambaram\u001b[39m\u001b[38;5;124m\"\u001b[39m)\n",
      "\u001b[1;31mAttributeError\u001b[0m: 'tuple' object has no attribute 'append'"
     ]
    }
   ],
   "source": [
    "tours.append(\"chidambaram\") #In tuples we cannot add or modify the tuple"
   ]
  },
  {
   "cell_type": "code",
   "execution_count": null,
   "id": "2d10e77c-756a-45a2-a8a6-5b10ec4e44be",
   "metadata": {},
   "outputs": [],
   "source": []
  },
  {
   "cell_type": "code",
   "execution_count": null,
   "id": "28675eeb-75bf-4608-82d7-9def23299d5f",
   "metadata": {},
   "outputs": [],
   "source": []
  },
  {
   "cell_type": "code",
   "execution_count": null,
   "id": "8d01ba82-9bf9-4121-b7c0-6e736faadb1d",
   "metadata": {},
   "outputs": [],
   "source": []
  },
  {
   "cell_type": "markdown",
   "id": "ba0e3a37-57de-4f58-8b3c-706b2dc19685",
   "metadata": {},
   "source": [
    "# Built in function in tuple"
   ]
  },
  {
   "cell_type": "code",
   "execution_count": 5,
   "id": "b3908190-df71-4bae-a4e6-04f9c4a96170",
   "metadata": {},
   "outputs": [
    {
     "name": "stdout",
     "output_type": "stream",
     "text": [
      "(1, 2, 3, 3, 3, 3, 3, 3, 33, 4, 5, 6)\n",
      "6 counts the number of values present in the tuple\n",
      "69 The sum of all elements present in tuple\n",
      "12 The length of the tuple\n",
      "33 finding the maximum value in the tuple\n",
      "1 finding the minimum value in the tuple\n"
     ]
    }
   ],
   "source": [
    "tpl=(1,2,3,3,3,3,3,3,33,4,5,6)\n",
    "print(tpl)\n",
    "print(tpl.count(3),\"counts the number of values present in the tuple\")\n",
    "print(sum(tpl),\"The sum of all elements present in tuple\")\n",
    "print(len(tpl),\"The length of the tuple\")\n",
    "print(max(tpl),\"finding the maximum value in the tuple\")\n",
    "print(min(tpl),\"finding the minimum value in the tuple\")\n",
    "      "
   ]
  },
  {
   "cell_type": "markdown",
   "id": "01cc6070-2e27-43b4-8175-67875db257f6",
   "metadata": {},
   "source": [
    "### Nested tuples inlist"
   ]
  },
  {
   "cell_type": "code",
   "execution_count": 13,
   "id": "4e257c3e-c4e6-4943-97e6-835814a98646",
   "metadata": {},
   "outputs": [
    {
     "name": "stdout",
     "output_type": "stream",
     "text": [
      "[(1, 4, 3), (3, 4, 8, 5)]\n",
      "[(1, 4, 3), (3, 4, 8, 5), 'thanvika'] Adding the element to the end of the list here we used open paranthesis so we can add only one element\n",
      "[(1, 4, 3), (3, 4, 8, 5), 'thanvika', 'chandrika', 'laksmi', 'chandan'] Adding the multiple elements to list we use extend function use closed brakets\n",
      "[(3, 4, 8, 5), 'thanvika', 'chandrika', 'laksmi', 'chandan'] removing the tuple from the list\n"
     ]
    }
   ],
   "source": [
    "lst=[(1,4,3),(3,4,8,5)]\n",
    "print(lst)\n",
    "lst.append(\"thanvika\")\n",
    "print((lst),\"Adding the element to the end of the list here we used open paranthesis so we can add only one element\")\n",
    "lst.extend([\"chandrika\",\"laksmi\",\"chandan\"])\n",
    "print(lst,\"Adding the multiple elements to list we use extend function use closed brakets\")\n",
    "lst.remove((1,4,3))\n",
    "print(lst,\"removing the tuple from the list\")"
   ]
  },
  {
   "cell_type": "markdown",
   "id": "5a715357-1d0c-4a35-8142-b15459b08ef5",
   "metadata": {},
   "source": [
    "### Nested list in tuples"
   ]
  },
  {
   "cell_type": "code",
   "execution_count": 77,
   "id": "f2021bc4-cae2-4dc4-9b5e-e4afc3fa0cb6",
   "metadata": {},
   "outputs": [
    {
     "name": "stdout",
     "output_type": "stream",
     "text": [
      "(['chintu', 'pappu', 144, 9.3], [878, 6.02, 8.98])\n",
      "(['chintu', 'pappu', 144, 9.3, 'battu'], [878, 6.02, 8.98]) Adding an element to first list to the tuple\n"
     ]
    }
   ],
   "source": [
    "tpl1=([\"chintu\",\"pappu\",144,9.3],[878,6.02,8.98])\n",
    "print(tpl1)\n",
    "tpl1[0].append(\"battu\")\n",
    "print(tpl1,\"Adding an element to first list to the tuple\")\n",
    "#WE can add only one element while using append()"
   ]
  },
  {
   "cell_type": "markdown",
   "id": "8c0b38b8-90c5-4904-bd51-661afab2a298",
   "metadata": {},
   "source": [
    "##### Conditional Statements"
   ]
  },
  {
   "cell_type": "code",
   "execution_count": null,
   "id": "4f56db13-1624-4fd8-8c68-1c200ff138bc",
   "metadata": {},
   "outputs": [],
   "source": [
    "#in data structures acessing elements can be done\n",
    "#Based on membership operators and comparison operators we assign conditions."
   ]
  },
  {
   "cell_type": "code",
   "execution_count": 29,
   "id": "0e30b180-8d19-464c-bea7-844b9698fb30",
   "metadata": {},
   "outputs": [
    {
     "name": "stdout",
     "output_type": "stream",
     "text": [
      "hi chandan\n"
     ]
    }
   ],
   "source": [
    "if 6 > 5:\n",
    " print(\"hi chandan\")   #trying to control the outpu   \n",
    " "
   ]
  },
  {
   "cell_type": "code",
   "execution_count": 33,
   "id": "26d16226-f075-4f85-82df-121e2ef0cba8",
   "metadata": {},
   "outputs": [
    {
     "name": "stdin",
     "output_type": "stream",
     "text": [
      "enter your age 7\n"
     ]
    },
    {
     "name": "stdout",
     "output_type": "stream",
     "text": [
      "you can join our school\n"
     ]
    }
   ],
   "source": [
    "a = int(input(\"enter your age\"))\n",
    "if a < 10 and a > 6:\n",
    " print(\"you can join our school\")"
   ]
  },
  {
   "cell_type": "code",
   "execution_count": 1,
   "id": "146a254a-9ed1-4499-8ce2-c2f58cf68c84",
   "metadata": {},
   "outputs": [
    {
     "name": "stdout",
     "output_type": "stream",
     "text": [
      "hi hari\n"
     ]
    }
   ],
   "source": [
    "if 7>6:\n",
    "    print(\"hi hari\")\n",
    "    "
   ]
  },
  {
   "cell_type": "code",
   "execution_count": 11,
   "id": "1a4ad04e-ee53-49da-a2b2-8deb1d30522e",
   "metadata": {},
   "outputs": [
    {
     "name": "stdin",
     "output_type": "stream",
     "text": [
      "enter your marks 35\n"
     ]
    },
    {
     "name": "stdout",
     "output_type": "stream",
     "text": [
      "42 updated marks\n"
     ]
    }
   ],
   "source": [
    "# We are updating by adding 5 marks when a user is < 40\n",
    "#when we enter the variable as >40 it wont give any change as our condition is <40\n",
    "user_input=int(input(\"enter your marks\"))\n",
    "if user_input < 40:\n",
    "               user_input = user_input + 7\n",
    "               print(user_input,\"updated marks\")"
   ]
  },
  {
   "cell_type": "code",
   "execution_count": 37,
   "id": "88182838-2a08-4d78-8cfb-09245f0bcf7b",
   "metadata": {},
   "outputs": [
    {
     "name": "stdin",
     "output_type": "stream",
     "text": [
      "enter your marks 39\n"
     ]
    },
    {
     "name": "stdout",
     "output_type": "stream",
     "text": [
      "i am outside the condition\n",
      "\n",
      "i am inside the condition\n",
      "None\n",
      "46 updated marks\n"
     ]
    }
   ],
   "source": [
    "user_input=int(input(\"enter your marks\"))\n",
    "print(\"i am outside the condition\")\n",
    "print()\n",
    "if user_input < 40:\n",
    " print(print(\"i am inside the condition\"))\n",
    " user_input = user_input + 7\n",
    " print(user_input,\"updated marks\")"
   ]
  },
  {
   "cell_type": "code",
   "execution_count": 35,
   "id": "bf57f69a-ebf1-4560-8d0c-a98086a91254",
   "metadata": {},
   "outputs": [
    {
     "name": "stdin",
     "output_type": "stream",
     "text": [
      "enter your marks 41\n"
     ]
    },
    {
     "name": "stdout",
     "output_type": "stream",
     "text": [
      "i am outside the condition\n",
      "\n",
      "sorry cannot update marks\n"
     ]
    }
   ],
   "source": [
    "user_input=int(input(\"enter your marks\"))\n",
    "print(\"i am outside the condition\")\n",
    "print()\n",
    "if user_input < 40:\n",
    " print(print(\"i am ouside the condition\"))\n",
    " user_input = user_input + 7\n",
    " print(user_input,\"updated marks\")\n",
    "else:\n",
    "    print(\"sorry cannot update marks\")"
   ]
  },
  {
   "cell_type": "code",
   "execution_count": 59,
   "id": "28040c64-d24d-427a-a835-836889d1bebf",
   "metadata": {},
   "outputs": [
    {
     "name": "stdin",
     "output_type": "stream",
     "text": [
      "enter your marks 34\n"
     ]
    },
    {
     "name": "stdout",
     "output_type": "stream",
     "text": [
      "\n",
      "\n",
      "36 updated marks \n"
     ]
    }
   ],
   "source": [
    "user_input=int(input(\"enter your marks\"))\n",
    "print()\n",
    "if user_input < 25:\n",
    "    user_input=user_input+5\n",
    "    print()\n",
    "    print(user_input,\"updated marks\")\n",
    "else:\n",
    " user_input=user_input+2\n",
    " print()\n",
    " print(user_input,\"updated marks \")   \n",
    "    "
   ]
  },
  {
   "cell_type": "code",
   "execution_count": 69,
   "id": "3ca65aa9-e20e-46e0-a807-230edef60534",
   "metadata": {},
   "outputs": [
    {
     "name": "stdout",
     "output_type": "stream",
     "text": [
      "24\n",
      "29 marks are updated\n",
      "56\n",
      "63 marks are updated\n",
      "78\n",
      "85 marks are updated\n",
      "77\n",
      "84 marks are updated\n"
     ]
    }
   ],
   "source": [
    "#if and else should be in same vertical line\n",
    "f=[24,56,78,77]\n",
    "for every_datapoint in f:\n",
    "    print(every_datapoint)\n",
    "    if every_datapoint < 34:\n",
    "     every_datapoint+=5\n",
    "     print(every_datapoint,\"marks are updated\")\n",
    "    else:\n",
    "      every_datapoint+=7\n",
    "      print(every_datapoint,\"marks are updated\")    \n"
   ]
  },
  {
   "cell_type": "code",
   "execution_count": 86,
   "id": "21666d78-d011-4148-91e6-064b8dd8e58e",
   "metadata": {},
   "outputs": [
    {
     "name": "stdin",
     "output_type": "stream",
     "text": [
      "enter the number 2\n"
     ]
    },
    {
     "name": "stdout",
     "output_type": "stream",
     "text": [
      "positive number\n"
     ]
    }
   ],
   "source": [
    "user_input=int(input(\"enter the number\"))\n",
    "if user_input > 0:\n",
    "               print(\"positive number\")\n",
    "else :\n",
    "    print(\"negative number\")"
   ]
  },
  {
   "cell_type": "code",
   "execution_count": 92,
   "id": "cf0128ce-2269-4614-8b89-5d263d34ba70",
   "metadata": {},
   "outputs": [
    {
     "name": "stdin",
     "output_type": "stream",
     "text": [
      "enter a number 60\n"
     ]
    },
    {
     "name": "stdout",
     "output_type": "stream",
     "text": [
      "it is a even number\n"
     ]
    }
   ],
   "source": [
    "user_input=int(input(\"enter a number\"))\n",
    "if user_input % 2 == 0:\n",
    "    print(\"it is a even number\")\n",
    "else:\n",
    "    print(\"it is not a even number\")"
   ]
  },
  {
   "cell_type": "code",
   "execution_count": 1,
   "id": "3a4d8de9-db1d-4dca-97bb-8915ec797cbe",
   "metadata": {},
   "outputs": [
    {
     "name": "stdin",
     "output_type": "stream",
     "text": [
      "enter a number 63\n"
     ]
    },
    {
     "name": "stdout",
     "output_type": "stream",
     "text": [
      "it is divisible by 9\n"
     ]
    }
   ],
   "source": [
    "user_input=int(input(\"enter a number\"))\n",
    "if user_input % 9 == 0:\n",
    "    print(\"it is divisible by 9\")\n",
    "else:\n",
    "    print(\"it is not possible by 9\")"
   ]
  },
  {
   "cell_type": "code",
   "execution_count": null,
   "id": "d59fa142-bc85-4bb9-a0f9-944434a3d419",
   "metadata": {},
   "outputs": [],
   "source": []
  },
  {
   "cell_type": "code",
   "execution_count": null,
   "id": "6c367bcb-62e5-427b-9840-6f07833f0f20",
   "metadata": {},
   "outputs": [],
   "source": []
  },
  {
   "cell_type": "code",
   "execution_count": null,
   "id": "d4e1ddfb-315a-4508-8f7a-bf27f61baa94",
   "metadata": {},
   "outputs": [],
   "source": []
  },
  {
   "cell_type": "code",
   "execution_count": null,
   "id": "26638ecd-5f8f-4338-ba21-d674cfe25747",
   "metadata": {},
   "outputs": [],
   "source": []
  },
  {
   "cell_type": "code",
   "execution_count": 19,
   "id": "f2c4059e-508b-499b-917a-b4b368c387ac",
   "metadata": {},
   "outputs": [
    {
     "name": "stdout",
     "output_type": "stream",
     "text": [
      "2 even number\n",
      "4 even number\n",
      "6 even number\n",
      "8 even number\n",
      "10 even number\n",
      "12 even number\n",
      "14 even number\n",
      "16 even number\n",
      "18 even number\n",
      "20 even number\n",
      "22 even number\n",
      "24 even number\n",
      "26 even number\n",
      "28 even number\n"
     ]
    }
   ],
   "source": [
    " for element in range(1,30):\n",
    "     if element % 2 == 0:\n",
    "         print(element,\"even number\")\n",
    "     continue\n",
    "     print(\"hello\")"
   ]
  },
  {
   "cell_type": "code",
   "execution_count": 39,
   "id": "e9643271-7360-4ebf-b56c-d662fa0b197d",
   "metadata": {},
   "outputs": [
    {
     "name": "stdout",
     "output_type": "stream",
     "text": [
      "1 odd number\n",
      "hello\n",
      "2 even number\n",
      "3 odd number\n",
      "hello\n",
      "4 even number\n",
      "5 odd number\n",
      "hello\n",
      "6 even number\n",
      "7 odd number\n",
      "hello\n",
      "8 even number\n",
      "9 odd number\n",
      "hello\n",
      "10 even number\n",
      "11 odd number\n",
      "hello\n",
      "12 even number\n",
      "13 odd number\n",
      "hello\n",
      "14 even number\n",
      "15 odd number\n",
      "hello\n",
      "16 even number\n",
      "17 odd number\n",
      "hello\n",
      "18 even number\n",
      "19 odd number\n",
      "hello\n",
      "20 even number\n",
      "21 odd number\n",
      "hello\n",
      "22 even number\n",
      "23 odd number\n",
      "hello\n",
      "24 even number\n",
      "25 odd number\n",
      "hello\n",
      "26 even number\n",
      "27 odd number\n",
      "hello\n",
      "28 even number\n",
      "29 odd number\n",
      "hello\n"
     ]
    }
   ],
   "source": [
    "for element in range(1,30):\n",
    "     if element % 2 == 0:\n",
    "         print(element,\"even number\")\n",
    "     else:\n",
    "         print(element,\"odd number\")\n",
    "         pass\n",
    "         print(\"hello\")"
   ]
  },
  {
   "cell_type": "code",
   "execution_count": null,
   "id": "75332e4b",
   "metadata": {},
   "outputs": [],
   "source": []
  },
  {
   "cell_type": "code",
   "execution_count": null,
   "id": "8aacede3",
   "metadata": {},
   "outputs": [],
   "source": []
  },
  {
   "cell_type": "code",
   "execution_count": null,
   "id": "e6aa38ff",
   "metadata": {},
   "outputs": [],
   "source": []
  },
  {
   "cell_type": "code",
   "execution_count": 37,
   "id": "110bd82f-d6bc-4d79-b63b-b389d97995d3",
   "metadata": {},
   "outputs": [
    {
     "name": "stdout",
     "output_type": "stream",
     "text": [
      "hello\n",
      "2 even number\n",
      "hello\n",
      "hello\n",
      "4 even number\n",
      "hello\n",
      "hello\n",
      "6 even number\n",
      "hello\n",
      "hello\n",
      "8 even number\n",
      "hello\n",
      "hello\n",
      "10 even number\n",
      "hello\n",
      "hello\n",
      "12 even number\n",
      "hello\n",
      "hello\n",
      "14 even number\n",
      "hello\n",
      "hello\n",
      "16 even number\n",
      "hello\n",
      "hello\n",
      "18 even number\n",
      "hello\n",
      "hello\n",
      "20 even number\n",
      "hello\n",
      "hello\n",
      "22 even number\n",
      "hello\n",
      "hello\n",
      "24 even number\n",
      "hello\n",
      "hello\n",
      "26 even number\n",
      "hello\n",
      "hello\n",
      "28 even number\n",
      "hello\n",
      "hello\n"
     ]
    }
   ],
   "source": []
  },
  {
   "cell_type": "code",
   "execution_count": null,
   "id": "cfaa1530-40dc-4908-8e13-20c22a9a0d1d",
   "metadata": {},
   "outputs": [],
   "source": [
    "# paranthesis is very very important in calling a function\n",
    "\n",
    "#if we want to add 2 arguments define a variable\n",
    "\n",
    "#did sir explain shallow copy deep  copy"
   ]
  },
  {
   "cell_type": "code",
   "execution_count": null,
   "id": "e4dafb81-4d51-431d-a3fc-399c00424015",
   "metadata": {},
   "outputs": [],
   "source": [
    "#take a input from a user - salary, savings,insurance, calculate the total amount of paying \n",
    "#to insurance and pf"
   ]
  },
  {
   "cell_type": "code",
   "execution_count": 6,
   "id": "442ca94a-5f7c-412c-ba2a-09111993930a",
   "metadata": {},
   "outputs": [],
   "source": [
    "def hari(salary,savings,insurance,pf):\n",
    "total_amount=insurance+pf\n",
    "print(total_amount)    "
   ]
  },
  {
   "cell_type": "code",
   "execution_count": 7,
   "id": "c194d6f4-d8f3-4e50-a6c9-19054e2ede9b",
   "metadata": {},
   "outputs": [
    {
     "name": "stdout",
     "output_type": "stream",
     "text": [
      "121\n"
     ]
    }
   ],
   "source": [
    "hari(20,30,45,76)"
   ]
  },
  {
   "cell_type": "code",
   "execution_count": null,
   "id": "096e576f",
   "metadata": {},
   "outputs": [],
   "source": [
    "def reverse()\n",
    "    "
   ]
  },
  {
   "cell_type": "code",
   "execution_count": 3,
   "id": "242a55bd",
   "metadata": {},
   "outputs": [],
   "source": [
    "#Functions are the expressions which takes in the input and return the output\n",
    "\n",
    "def squares(x):\n",
    "    return x**2"
   ]
  },
  {
   "cell_type": "code",
   "execution_count": 4,
   "id": "57de3405",
   "metadata": {},
   "outputs": [
    {
     "data": {
      "text/plain": [
       "16"
      ]
     },
     "execution_count": 4,
     "metadata": {},
     "output_type": "execute_result"
    }
   ],
   "source": [
    "squares(4)"
   ]
  },
  {
   "cell_type": "code",
   "execution_count": null,
   "id": "6c04b15e",
   "metadata": {},
   "outputs": [],
   "source": [
    " # Basic pipeline functions\n",
    " # Gross salary ,HRA,Medical Insurance,Trans_allowance,Provi fund,income tax\n",
    " # Monthly Expenditure(childsupport,) "
   ]
  },
  {
   "cell_type": "code",
   "execution_count": 7,
   "id": "c46a324d",
   "metadata": {},
   "outputs": [],
   "source": [
    "def salary(Gross_salary ,HRA,Medical_Insurance,Trans_allowance,Provi_fund,income_tax):\n",
    "    salary(Gross_salary + HRA + Trans_allowance)\n",
    "    cuttings = Provi_fund + income_tax\n",
    "    remaining_balaance= salary - cuttings\n",
    "    return salary,cuttings,remaining_balaance\n",
    "    "
   ]
  },
  {
   "cell_type": "code",
   "execution_count": 8,
   "id": "33ecd0cd",
   "metadata": {},
   "outputs": [
    {
     "ename": "TypeError",
     "evalue": "salary() missing 5 required positional arguments: 'HRA', 'Medical_Insurance', 'Trans_allowance', 'Provi_fund', and 'income_tax'",
     "output_type": "error",
     "traceback": [
      "\u001b[1;31m---------------------------------------------------------------------------\u001b[0m",
      "\u001b[1;31mTypeError\u001b[0m                                 Traceback (most recent call last)",
      "Cell \u001b[1;32mIn[8], line 1\u001b[0m\n\u001b[1;32m----> 1\u001b[0m a_salary,a_cuttings,a_remaining_balaance \u001b[38;5;241m=\u001b[39m salary(Gross_salary\u001b[38;5;241m=\u001b[39m\u001b[38;5;241m300000\u001b[39m ,HRA\u001b[38;5;241m=\u001b[39m\u001b[38;5;241m5000\u001b[39m,Medical_Insurance\u001b[38;5;241m=\u001b[39m\u001b[38;5;241m6000\u001b[39m,Trans_allowance\u001b[38;5;241m=\u001b[39m\u001b[38;5;241m10000\u001b[39m,Provi_fund\u001b[38;5;241m=\u001b[39m\u001b[38;5;241m7000\u001b[39m,income_tax\u001b[38;5;241m=\u001b[39m\u001b[38;5;241m7000\u001b[39m)\n",
      "Cell \u001b[1;32mIn[7], line 2\u001b[0m, in \u001b[0;36msalary\u001b[1;34m(Gross_salary, HRA, Medical_Insurance, Trans_allowance, Provi_fund, income_tax)\u001b[0m\n\u001b[0;32m      1\u001b[0m \u001b[38;5;28;01mdef\u001b[39;00m \u001b[38;5;21msalary\u001b[39m(Gross_salary ,HRA,Medical_Insurance,Trans_allowance,Provi_fund,income_tax):\n\u001b[1;32m----> 2\u001b[0m     salary(Gross_salary \u001b[38;5;241m+\u001b[39m HRA \u001b[38;5;241m+\u001b[39m Trans_allowance)\n\u001b[0;32m      3\u001b[0m     cuttings \u001b[38;5;241m=\u001b[39m Provi_fund \u001b[38;5;241m+\u001b[39m income_tax\n\u001b[0;32m      4\u001b[0m     remaining_balaance\u001b[38;5;241m=\u001b[39m salary \u001b[38;5;241m-\u001b[39m cuttings\n",
      "\u001b[1;31mTypeError\u001b[0m: salary() missing 5 required positional arguments: 'HRA', 'Medical_Insurance', 'Trans_allowance', 'Provi_fund', and 'income_tax'"
     ]
    }
   ],
   "source": [
    "a_salary,a_cuttings,a_remaining_balaance = salary(Gross_salary=300000 ,HRA=5000,Medical_Insurance=6000,Trans_allowance=10000,Provi_fund=7000,income_tax=7000)"
   ]
  },
  {
   "cell_type": "code",
   "execution_count": null,
   "id": "11abcbb8",
   "metadata": {},
   "outputs": [],
   "source": [
    "# List Comprehension"
   ]
  },
  {
   "cell_type": "code",
   "execution_count": 9,
   "id": "bbaee8bb",
   "metadata": {},
   "outputs": [
    {
     "name": "stdout",
     "output_type": "stream",
     "text": [
      "0\n",
      "1\n",
      "2\n",
      "3\n",
      "4\n",
      "5\n",
      "6\n",
      "7\n",
      "8\n",
      "9\n"
     ]
    }
   ],
   "source": [
    "for i in range(10):\n",
    "    print(i)\n",
    " "
   ]
  },
  {
   "cell_type": "code",
   "execution_count": 12,
   "id": "d706723d",
   "metadata": {},
   "outputs": [
    {
     "name": "stdout",
     "output_type": "stream",
     "text": [
      "0\n",
      "1\n",
      "2\n",
      "3\n",
      "4\n",
      "5\n",
      "6\n",
      "7\n",
      "8\n",
      "9\n",
      "10\n",
      "11\n",
      "12\n",
      "13\n",
      "14\n",
      "15\n",
      "16\n",
      "17\n",
      "18\n",
      "19\n",
      "20\n"
     ]
    }
   ],
   "source": [
    "for i in range(21):\n",
    "    print(i)\n",
    " "
   ]
  },
  {
   "cell_type": "code",
   "execution_count": 22,
   "id": "adf3c281",
   "metadata": {},
   "outputs": [
    {
     "name": "stdout",
     "output_type": "stream",
     "text": [
      "[21]\n",
      "[21, 21]\n",
      "[21, 21, 21]\n",
      "[21, 21, 21, 21]\n",
      "[21, 21, 21, 21, 21]\n",
      "[21, 21, 21, 21, 21, 21]\n",
      "[21, 21, 21, 21, 21, 21, 21]\n",
      "[21, 21, 21, 21, 21, 21, 21, 21]\n",
      "[21, 21, 21, 21, 21, 21, 21, 21, 21]\n",
      "[21, 21, 21, 21, 21, 21, 21, 21, 21, 21]\n",
      "[21, 21, 21, 21, 21, 21, 21, 21, 21, 21, 21]\n",
      "[21, 21, 21, 21, 21, 21, 21, 21, 21, 21, 21, 21]\n",
      "[21, 21, 21, 21, 21, 21, 21, 21, 21, 21, 21, 21, 21]\n",
      "[21, 21, 21, 21, 21, 21, 21, 21, 21, 21, 21, 21, 21, 21]\n",
      "[21, 21, 21, 21, 21, 21, 21, 21, 21, 21, 21, 21, 21, 21, 21]\n",
      "[21, 21, 21, 21, 21, 21, 21, 21, 21, 21, 21, 21, 21, 21, 21, 21]\n",
      "[21, 21, 21, 21, 21, 21, 21, 21, 21, 21, 21, 21, 21, 21, 21, 21, 21]\n",
      "[21, 21, 21, 21, 21, 21, 21, 21, 21, 21, 21, 21, 21, 21, 21, 21, 21, 21]\n",
      "[21, 21, 21, 21, 21, 21, 21, 21, 21, 21, 21, 21, 21, 21, 21, 21, 21, 21, 21]\n",
      "[21, 21, 21, 21, 21, 21, 21, 21, 21, 21, 21, 21, 21, 21, 21, 21, 21, 21, 21, 21]\n"
     ]
    }
   ],
   "source": [
    "#The diffrence between List Comprehension and for loop is in list comprehension it is storing in Lists\n",
    " "
   ]
  },
  {
   "cell_type": "code",
   "execution_count": 15,
   "id": "d0e932f5",
   "metadata": {},
   "outputs": [
    {
     "data": {
      "text/plain": [
       "[0, 1, 2, 3, 4, 5, 6, 7, 8, 9, 10, 11, 12, 13, 14, 15, 16, 17, 18, 19, 20]"
      ]
     },
     "execution_count": 15,
     "metadata": {},
     "output_type": "execute_result"
    }
   ],
   "source": [
    "[x for x in range(21)] #print 20 numbers using list comprehension"
   ]
  },
  {
   "cell_type": "code",
   "execution_count": 16,
   "id": "39b09054",
   "metadata": {},
   "outputs": [
    {
     "data": {
      "text/plain": [
       "[0, 2, 4, 6, 8, 10, 12, 14, 16, 18, 20]"
      ]
     },
     "execution_count": 16,
     "metadata": {},
     "output_type": "execute_result"
    }
   ],
   "source": [
    "[x for x in range(0,21,2)] #use step value 2"
   ]
  },
  {
   "cell_type": "code",
   "execution_count": 17,
   "id": "6d32ee60",
   "metadata": {},
   "outputs": [
    {
     "data": {
      "text/plain": [
       "[30, 33, 36, 39, 42]"
      ]
     },
     "execution_count": 17,
     "metadata": {},
     "output_type": "execute_result"
    }
   ],
   "source": [
    "[x for x in range(30,45,3)]# print 30-45 using step value 3"
   ]
  },
  {
   "cell_type": "code",
   "execution_count": 18,
   "id": "d720be4e",
   "metadata": {},
   "outputs": [
    {
     "data": {
      "text/plain": [
       "[]"
      ]
     },
     "execution_count": 18,
     "metadata": {},
     "output_type": "execute_result"
    }
   ],
   "source": [
    "[x for x in range(90,60,5)] #print 90-60 using step value 5"
   ]
  },
  {
   "cell_type": "code",
   "execution_count": 19,
   "id": "b9126e8b",
   "metadata": {},
   "outputs": [
    {
     "data": {
      "text/plain": [
       "[60, 65, 70, 75, 80, 85]"
      ]
     },
     "execution_count": 19,
     "metadata": {},
     "output_type": "execute_result"
    }
   ],
   "source": [
    "[x for x in range(60,90,5)]"
   ]
  },
  {
   "cell_type": "code",
   "execution_count": 32,
   "id": "ebb91c10",
   "metadata": {},
   "outputs": [
    {
     "name": "stdout",
     "output_type": "stream",
     "text": [
      "['W', 'E', 'L', 'C', 'O', 'M', 'E', ' ', 'T', 'O', ' ', 'I', 'N', 'N', 'O', 'M', 'A', 'T', 'I', 'C', 'S']\n",
      "['S', 'C', 'I', 'T', 'A', 'M', 'O', 'N', 'N', 'I', ' ', 'O', 'T', ' ', 'E', 'M', 'O', 'C', 'L', 'E', 'W']\n"
     ]
    }
   ],
   "source": [
    "a=[x for x in \"WELCOME TO INNOMATICS\"]\n",
    "print(a)\n",
    "len(a)\n",
    "print(a[::-1])\n"
   ]
  },
  {
   "cell_type": "code",
   "execution_count": 37,
   "id": "182f375f",
   "metadata": {},
   "outputs": [
    {
     "name": "stdout",
     "output_type": "stream",
     "text": [
      "['WELCOME', 'TO', 'INNOMATICS']\n",
      "['INNOMATICS', 'TO', 'WELCOME']\n"
     ]
    }
   ],
   "source": [
    "a=[x for x in \"WELCOME TO INNOMATICS\".split(' ')]\n",
    "print(a)\n",
    "print(a[::-1])"
   ]
  },
  {
   "cell_type": "code",
   "execution_count": 35,
   "id": "75aa8bb4",
   "metadata": {},
   "outputs": [
    {
     "name": "stdout",
     "output_type": "stream",
     "text": [
      "['w', 'e', 'l', 'c', 'o', 'm', 'e', ' ', 't', 'o', ' ', 'i', 'n', 'n', 'o', 'm', 'a', 't', 'i', 'c', 's']\n"
     ]
    }
   ],
   "source": [
    "a=[x for x in \"WELCOME TO INNOMATICS\".lower()]\n",
    "print(a)"
   ]
  },
  {
   "cell_type": "code",
   "execution_count": 50,
   "id": "eb17a512",
   "metadata": {},
   "outputs": [
    {
     "name": "stdout",
     "output_type": "stream",
     "text": [
      "['emoclew', 'scitamonni']\n"
     ]
    }
   ],
   "source": [
    "a=[x.lower()[::-1] for x in \"WELCOME TO INNOMATICS\".split() if len(x)>3]\n",
    "print(a)"
   ]
  },
  {
   "cell_type": "code",
   "execution_count": 1,
   "id": "e0dddcc0",
   "metadata": {},
   "outputs": [],
   "source": [
    "#lamda\n",
    "\n",
    "mu1 = lambda x: x*3 #how many inputs u take those many values should be given\n",
    "mu1 = lambda x,y: x**y "
   ]
  },
  {
   "cell_type": "code",
   "execution_count": 6,
   "id": "7b21b3ed",
   "metadata": {},
   "outputs": [
    {
     "data": {
      "text/plain": [
       "49"
      ]
     },
     "execution_count": 6,
     "metadata": {},
     "output_type": "execute_result"
    }
   ],
   "source": [
    "mu1 = lambda x: x**2 \n",
    "mu1(7)"
   ]
  },
  {
   "cell_type": "code",
   "execution_count": 65,
   "id": "84515e9e",
   "metadata": {},
   "outputs": [
    {
     "data": {
      "text/plain": [
       "49"
      ]
     },
     "execution_count": 65,
     "metadata": {},
     "output_type": "execute_result"
    }
   ],
   "source": [
    "mu1(7)"
   ]
  },
  {
   "cell_type": "code",
   "execution_count": 66,
   "id": "86681c2d",
   "metadata": {},
   "outputs": [
    {
     "data": {
      "text/plain": [
       "6859"
      ]
     },
     "execution_count": 66,
     "metadata": {},
     "output_type": "execute_result"
    }
   ],
   "source": [
    "mu2 = lambda x: x**3 \n",
    "mu2(19)"
   ]
  },
  {
   "cell_type": "code",
   "execution_count": null,
   "id": "fbe9cc51",
   "metadata": {},
   "outputs": [],
   "source": [
    " #Recursive functions"
   ]
  },
  {
   "cell_type": "code",
   "execution_count": 12,
   "id": "b9440e29",
   "metadata": {},
   "outputs": [
    {
     "name": "stdout",
     "output_type": "stream",
     "text": [
      "21\n"
     ]
    }
   ],
   "source": [
    "a=\"678\"\n",
    "sum=0\n",
    "for i in a:\n",
    "    #print(type(a)) \n",
    "    i=int(i)\n",
    "    sum=sum+i\n",
    "print(sum) \n",
    "    "
   ]
  },
  {
   "cell_type": "code",
   "execution_count": 10,
   "id": "1a26459d",
   "metadata": {},
   "outputs": [
    {
     "ename": "TypeError",
     "evalue": "'int' object is not iterable",
     "output_type": "error",
     "traceback": [
      "\u001b[1;31m---------------------------------------------------------------------------\u001b[0m",
      "\u001b[1;31mTypeError\u001b[0m                                 Traceback (most recent call last)",
      "Cell \u001b[1;32mIn[10], line 3\u001b[0m\n\u001b[0;32m      1\u001b[0m a\u001b[38;5;241m=\u001b[39m\u001b[38;5;28mint\u001b[39m(\u001b[38;5;241m56\u001b[39m)\n\u001b[0;32m      2\u001b[0m a\n\u001b[1;32m----> 3\u001b[0m \u001b[38;5;28;01mfor\u001b[39;00m i \u001b[38;5;129;01min\u001b[39;00m a:\n\u001b[0;32m      4\u001b[0m     \u001b[38;5;28mprint\u001b[39m(i)\n",
      "\u001b[1;31mTypeError\u001b[0m: 'int' object is not iterable"
     ]
    }
   ],
   "source": [
    "a=int(56)\n",
    "a\n",
    "for i in a:\n",
    "    print(i)"
   ]
  },
  {
   "cell_type": "code",
   "execution_count": null,
   "id": "bc72f9aa",
   "metadata": {},
   "outputs": [],
   "source": [
    "# Map ,  filter"
   ]
  },
  {
   "cell_type": "code",
   "execution_count": 15,
   "id": "d8b5bfbd",
   "metadata": {},
   "outputs": [],
   "source": [
    "t=[1,2,3,4,5,6,7,8]\n",
    "d=[]\n",
    "for i in t:\n",
    "    if i%2 ==0:\n",
    "        d.append(i)"
   ]
  },
  {
   "cell_type": "code",
   "execution_count": null,
   "id": "473ecb44",
   "metadata": {},
   "outputs": [],
   "source": [
    "a=[[10,20],[30,40],[50,60]] "
   ]
  },
  {
   "cell_type": "code",
   "execution_count": null,
   "id": "b043aaef",
   "metadata": {},
   "outputs": [],
   "source": [
    "#objects from our perspective\n",
    "#bustand\n",
    "#different types of buses\n",
    "#luxury semi sleeper , lights,Tv\n",
    "#palleveluu normal seats,dim lights,no comfort\n",
    "#sleeper , comfort,fast\n",
    "#hotels \n",
    "#drivers\n",
    "# we can understand these objects by different features.\n",
    "#sleeper bus , sleeper seat,bedsheets,pillows,waterbottle,speed of bus\n",
    "#reaches fast , comfortness\n",
    " #for while these are for operations"
   ]
  },
  {
   "cell_type": "code",
   "execution_count": 7,
   "id": "ef6695aa",
   "metadata": {},
   "outputs": [],
   "source": [
    "#we have two methods to extract cube them AND add\n",
    "def calculate_armstrong_number(x):\n",
    "    x=str(x)\n",
    "    counter=0\n",
    "    for i in x:\n",
    "        i = int(i)\n",
    "        i=i**len(x)\n",
    "        counter=counter+1\n",
    "    if int(x) == counter:\n",
    "        print(\"this is an armstrong number\")\n",
    "    else:\n",
    "        print(\"it's not an armstrong number\")"
   ]
  },
  {
   "cell_type": "code",
   "execution_count": 8,
   "id": "879fccaf",
   "metadata": {},
   "outputs": [
    {
     "name": "stdout",
     "output_type": "stream",
     "text": [
      "its not an armstrong number\n"
     ]
    }
   ],
   "source": [
    "calculate_armstrong_number(153)"
   ]
  },
  {
   "cell_type": "code",
   "execution_count": 29,
   "id": "3fd77e8d",
   "metadata": {},
   "outputs": [
    {
     "name": "stdout",
     "output_type": "stream",
     "text": [
      "['HARICHANDAN']\n"
     ]
    }
   ],
   "source": [
    "a=[x.upper() for x in [\"harichandan\"]]\n",
    "print(a)"
   ]
  },
  {
   "cell_type": "code",
   "execution_count": 1,
   "id": "f3556d0f",
   "metadata": {},
   "outputs": [],
   "source": [
    "#Functions\n",
    "#these are expressions that take input and gives output \n",
    "#def <Function_name>():\n",
    "#statements\n",
    "#you wont get anyerrors while creating funct when u execute u will get error"
   ]
  },
  {
   "cell_type": "code",
   "execution_count": 2,
   "id": "c8fb3267",
   "metadata": {},
   "outputs": [],
   "source": [
    "def comein():\n",
    "    print(\"enter the class\")"
   ]
  },
  {
   "cell_type": "code",
   "execution_count": 5,
   "id": "3d3ecb68",
   "metadata": {},
   "outputs": [
    {
     "name": "stdout",
     "output_type": "stream",
     "text": [
      "enter the class\n"
     ]
    }
   ],
   "source": [
    "comein()"
   ]
  },
  {
   "cell_type": "code",
   "execution_count": null,
   "id": "1d845272",
   "metadata": {},
   "outputs": [],
   "source": [
    "#Object Oriented Programming\n",
    "# Python doesnot remember anything so we create variables\n",
    "#create a object"
   ]
  },
  {
   "cell_type": "code",
   "execution_count": null,
   "id": "23ba0dc7",
   "metadata": {},
   "outputs": [],
   "source": [
    "#object and their feautures(instance of cls)\n",
    "#human(speak,write,walk,listen)\n",
    "#we can say class is a blueprint"
   ]
  },
  {
   "cell_type": "code",
   "execution_count": 1,
   "id": "45d9dfb5",
   "metadata": {},
   "outputs": [],
   "source": [
    "#creating my first class\n",
    "class variables:\n",
    "    pass"
   ]
  },
  {
   "cell_type": "code",
   "execution_count": 2,
   "id": "cca7768c",
   "metadata": {},
   "outputs": [],
   "source": [
    "ss\n"
   ]
  },
  {
   "cell_type": "code",
   "execution_count": 4,
   "id": "15bd065b",
   "metadata": {},
   "outputs": [],
   "source": [
    "#evry class has its own attributes\n",
    "#in the below class variable_,2,3 are attributes or feautures of class\n",
    "\n",
    "class variables:\n",
    "    variable_1 = 4\n",
    "    variable_2 = 5\n",
    "    variable_3 = 45\n",
    "\n",
    "obj1=variables() #object\n",
    "obj2=variables()\n",
    "obj3=variables()\n",
    "\n",
    "\n",
    "#u can create n no of objects using one cla\n",
    "     "
   ]
  },
  {
   "cell_type": "code",
   "execution_count": 6,
   "id": "14c229d8",
   "metadata": {},
   "outputs": [
    {
     "name": "stdout",
     "output_type": "stream",
     "text": [
      "4\n",
      "5\n",
      "45\n"
     ]
    }
   ],
   "source": [
    "#obj.attribute\n",
    "\n",
    "\n",
    "\n",
    "print(obj1.variable_1)\n",
    "print(obj2.variable_2)\n",
    "print(obj3.variable_3)"
   ]
  },
  {
   "cell_type": "code",
   "execution_count": null,
   "id": "24d703ab",
   "metadata": {},
   "outputs": [],
   "source": [
    "class housing_design_1:\n",
    "    bhk_1 = \"1400 sft\"\n",
    "    bhk_2 = \"2000 sft\"\n",
    "    bhk_3 = \"2400 sft\"\n",
    "    \n",
    "class housing_design_2:\n",
    "    bhk_1 = \"1450 sft\"\n",
    "    bhk_2 = \"1200 sft\"\n",
    "    bhk_3 = \"4000 sft\"\n",
    "\n",
    "# 3 areas - project_1, project_2, project_3 \n",
    "\n"
   ]
  },
  {
   "cell_type": "code",
   "execution_count": 3,
   "id": "2ffac016",
   "metadata": {},
   "outputs": [],
   "source": [
    "def hari(a,b):\n",
    "    c=a+b\n",
    "    print(c)"
   ]
  },
  {
   "cell_type": "code",
   "execution_count": 4,
   "id": "aa0c3211",
   "metadata": {},
   "outputs": [
    {
     "name": "stdout",
     "output_type": "stream",
     "text": [
      "3\n"
     ]
    }
   ],
   "source": [
    "hari(1,2)"
   ]
  },
  {
   "cell_type": "code",
   "execution_count": 5,
   "id": "2c3594dc",
   "metadata": {},
   "outputs": [
    {
     "name": "stdout",
     "output_type": "stream",
     "text": [
      "3\n"
     ]
    },
    {
     "data": {
      "text/plain": [
       "NoneType"
      ]
     },
     "execution_count": 5,
     "metadata": {},
     "output_type": "execute_result"
    }
   ],
   "source": [
    "type(hari(1,2))"
   ]
  },
  {
   "cell_type": "code",
   "execution_count": 7,
   "id": "263bed0e",
   "metadata": {},
   "outputs": [],
   "source": [
    "def hari(a,b):\n",
    "    c=a+b\n",
    "    return(c)"
   ]
  },
  {
   "cell_type": "code",
   "execution_count": 8,
   "id": "57a7e286",
   "metadata": {},
   "outputs": [
    {
     "data": {
      "text/plain": [
       "int"
      ]
     },
     "execution_count": 8,
     "metadata": {},
     "output_type": "execute_result"
    }
   ],
   "source": [
    "type(hari(3,4))"
   ]
  },
  {
   "cell_type": "code",
   "execution_count": 24,
   "id": "e530c373",
   "metadata": {},
   "outputs": [],
   "source": [
    "class something:\n",
    "    var1=33 #public\n",
    "    _var2=45 #protected\n",
    "    __var3=78 #private"
   ]
  },
  {
   "cell_type": "code",
   "execution_count": 25,
   "id": "945f6861",
   "metadata": {},
   "outputs": [
    {
     "data": {
      "text/plain": [
       "33"
      ]
     },
     "execution_count": 25,
     "metadata": {},
     "output_type": "execute_result"
    }
   ],
   "source": [
    "something.var1"
   ]
  },
  {
   "cell_type": "code",
   "execution_count": 26,
   "id": "9f9d8779",
   "metadata": {},
   "outputs": [
    {
     "data": {
      "text/plain": [
       "45"
      ]
     },
     "execution_count": 26,
     "metadata": {},
     "output_type": "execute_result"
    }
   ],
   "source": [
    "something._var2"
   ]
  },
  {
   "cell_type": "code",
   "execution_count": 22,
   "id": "8cc18d18",
   "metadata": {},
   "outputs": [
    {
     "data": {
      "text/plain": [
       "78"
      ]
     },
     "execution_count": 22,
     "metadata": {},
     "output_type": "execute_result"
    }
   ],
   "source": [
    "something._something__var3"
   ]
  },
  {
   "cell_type": "code",
   "execution_count": 27,
   "id": "ab7a404b",
   "metadata": {},
   "outputs": [
    {
     "ename": "AttributeError",
     "evalue": "type object 'something' has no attribute '__var3'",
     "output_type": "error",
     "traceback": [
      "\u001b[1;31m---------------------------------------------------------------------------\u001b[0m",
      "\u001b[1;31mAttributeError\u001b[0m                            Traceback (most recent call last)",
      "Cell \u001b[1;32mIn[27], line 1\u001b[0m\n\u001b[1;32m----> 1\u001b[0m something\u001b[38;5;241m.\u001b[39m__var3\n",
      "\u001b[1;31mAttributeError\u001b[0m: type object 'something' has no attribute '__var3'"
     ]
    }
   ],
   "source": [
    "something.__var3"
   ]
  },
  {
   "cell_type": "code",
   "execution_count": null,
   "id": "b043a439",
   "metadata": {},
   "outputs": [],
   "source": [
    "#sample class\n",
    "#sample attributes\n",
    "#sample methods"
   ]
  },
  {
   "cell_type": "code",
   "execution_count": 32,
   "id": "960924a9",
   "metadata": {},
   "outputs": [],
   "source": [
    "class student:\n",
    "    height1=175\n",
    "    _height2=\"123\"\n",
    "    __height3=134.8"
   ]
  },
  {
   "cell_type": "code",
   "execution_count": 33,
   "id": "00333e22",
   "metadata": {},
   "outputs": [
    {
     "data": {
      "text/plain": [
       "175"
      ]
     },
     "execution_count": 33,
     "metadata": {},
     "output_type": "execute_result"
    }
   ],
   "source": [
    "student.height1"
   ]
  },
  {
   "cell_type": "code",
   "execution_count": 34,
   "id": "5ff49273",
   "metadata": {},
   "outputs": [
    {
     "data": {
      "text/plain": [
       "'123'"
      ]
     },
     "execution_count": 34,
     "metadata": {},
     "output_type": "execute_result"
    }
   ],
   "source": [
    "student._height2"
   ]
  },
  {
   "cell_type": "code",
   "execution_count": 35,
   "id": "890fcdc7",
   "metadata": {},
   "outputs": [
    {
     "ename": "AttributeError",
     "evalue": "type object 'student' has no attribute '__height3'",
     "output_type": "error",
     "traceback": [
      "\u001b[1;31m---------------------------------------------------------------------------\u001b[0m",
      "\u001b[1;31mAttributeError\u001b[0m                            Traceback (most recent call last)",
      "Cell \u001b[1;32mIn[35], line 1\u001b[0m\n\u001b[1;32m----> 1\u001b[0m student\u001b[38;5;241m.\u001b[39m__height3\n",
      "\u001b[1;31mAttributeError\u001b[0m: type object 'student' has no attribute '__height3'"
     ]
    }
   ],
   "source": [
    "student.__height3"
   ]
  },
  {
   "cell_type": "code",
   "execution_count": 39,
   "id": "d0ba2615",
   "metadata": {},
   "outputs": [],
   "source": [
    "class something1:\n",
    "    def method1( ):\n",
    "        return \"hello from method1\"\n",
    "    def _method2( ):\n",
    "        return \"hello from method_2\"\n",
    "    def __method3( ):\n",
    "        return \"hello from __method3\"        "
   ]
  },
  {
   "cell_type": "code",
   "execution_count": 41,
   "id": "122005e8",
   "metadata": {},
   "outputs": [
    {
     "data": {
      "text/plain": [
       "'hello from method1'"
      ]
     },
     "execution_count": 41,
     "metadata": {},
     "output_type": "execute_result"
    }
   ],
   "source": [
    "something1.method1()"
   ]
  },
  {
   "cell_type": "code",
   "execution_count": 47,
   "id": "eb1967ce",
   "metadata": {},
   "outputs": [
    {
     "data": {
      "text/plain": [
       "'hello from method_2'"
      ]
     },
     "execution_count": 47,
     "metadata": {},
     "output_type": "execute_result"
    }
   ],
   "source": [
    "something1._method2()"
   ]
  },
  {
   "cell_type": "code",
   "execution_count": 46,
   "id": "189e1900",
   "metadata": {},
   "outputs": [
    {
     "data": {
      "text/plain": [
       "'hello from __method3'"
      ]
     },
     "execution_count": 46,
     "metadata": {},
     "output_type": "execute_result"
    }
   ],
   "source": [
    "something1._something1__method3()"
   ]
  },
  {
   "cell_type": "code",
   "execution_count": null,
   "id": "9afeaaf4",
   "metadata": {},
   "outputs": [],
   "source": [
    "# inheritance\n",
    "# single inheritance\n",
    "# multilevel inheritance\n",
    "# hierarchial inheritance\n",
    "# hybrid inheritance"
   ]
  },
  {
   "cell_type": "code",
   "execution_count": 51,
   "id": "a7c4b5f6",
   "metadata": {},
   "outputs": [
    {
     "name": "stdout",
     "output_type": "stream",
     "text": [
      "dad object\n",
      "tharala\n",
      "\n",
      "son object\n"
     ]
    },
    {
     "ename": "TypeError",
     "evalue": "Child() takes no arguments",
     "output_type": "error",
     "traceback": [
      "\u001b[1;31m---------------------------------------------------------------------------\u001b[0m",
      "\u001b[1;31mTypeError\u001b[0m                                 Traceback (most recent call last)",
      "Cell \u001b[1;32mIn[51], line 17\u001b[0m\n\u001b[0;32m     15\u001b[0m \u001b[38;5;28mprint\u001b[39m()\n\u001b[0;32m     16\u001b[0m \u001b[38;5;28mprint\u001b[39m(\u001b[38;5;124m\"\u001b[39m\u001b[38;5;124mson object\u001b[39m\u001b[38;5;124m\"\u001b[39m)\n\u001b[1;32m---> 17\u001b[0m son \u001b[38;5;241m=\u001b[39m Child(Father)\n\u001b[0;32m     18\u001b[0m \u001b[38;5;28mprint\u001b[39m(\u001b[38;5;124m\"\u001b[39m\u001b[38;5;124mfull name is \u001b[39m\u001b[38;5;124m\"\u001b[39m,son\u001b[38;5;241m.\u001b[39mfullname())\n\u001b[0;32m     19\u001b[0m \u001b[38;5;28mprint\u001b[39m(\u001b[38;5;124m\"\u001b[39m\u001b[38;5;124msurname is \u001b[39m\u001b[38;5;124m\"\u001b[39m,son\u001b[38;5;241m.\u001b[39msurname())\n",
      "\u001b[1;31mTypeError\u001b[0m: Child() takes no arguments"
     ]
    }
   ],
   "source": [
    "#single inheritance\n",
    "\n",
    "\n",
    "class Father:\n",
    "    def surname(self):\n",
    "        return \"tharala\"\n",
    "class Child:\n",
    "    def fullname(self):\n",
    "        return \"hari chandan\"\n",
    "    \n",
    "    \n",
    "print(\"dad object\")\n",
    "dad = Father()\n",
    "print(dad.surname())\n",
    "print()\n",
    "print(\"son object\")\n",
    "son = Child()\n",
    "print(\"full name is \",son.fullname())\n",
    "print(\"surname is \",son.surname())"
   ]
  },
  {
   "cell_type": "code",
   "execution_count": 58,
   "id": "88ac4e00",
   "metadata": {},
   "outputs": [
    {
     "name": "stdout",
     "output_type": "stream",
     "text": [
      "dad object\n",
      "tharala\n",
      "\n",
      "Son1 object\n"
     ]
    },
    {
     "ename": "TypeError",
     "evalue": "Child() takes no arguments",
     "output_type": "error",
     "traceback": [
      "\u001b[1;31m---------------------------------------------------------------------------\u001b[0m",
      "\u001b[1;31mTypeError\u001b[0m                                 Traceback (most recent call last)",
      "Cell \u001b[1;32mIn[58], line 19\u001b[0m\n\u001b[0;32m     17\u001b[0m \u001b[38;5;28mprint\u001b[39m()\n\u001b[0;32m     18\u001b[0m \u001b[38;5;28mprint\u001b[39m(\u001b[38;5;124m\"\u001b[39m\u001b[38;5;124mSon1 object\u001b[39m\u001b[38;5;124m\"\u001b[39m)\n\u001b[1;32m---> 19\u001b[0m Son1 \u001b[38;5;241m=\u001b[39m Child(Father)\n\u001b[0;32m     20\u001b[0m \u001b[38;5;28mprint\u001b[39m(Son1\u001b[38;5;241m.\u001b[39msurname( ))\n\u001b[0;32m     21\u001b[0m \u001b[38;5;28mprint\u001b[39m()\n",
      "\u001b[1;31mTypeError\u001b[0m: Child() takes no arguments"
     ]
    }
   ],
   "source": [
    "class Father:\n",
    "    def surname(self):\n",
    "        return \"tharala\"\n",
    "class Son1:\n",
    "    def fullname(self):\n",
    "        return \"hari chandan\"\n",
    "class Son2:\n",
    "    def fullname(self):\n",
    "        return \"vivek\"\n",
    "class Daughter:\n",
    "    def fullname(self):\n",
    "        return \" thanvika\"\n",
    "    \n",
    "print(\"dad object\")\n",
    "dad = Father()\n",
    "print(dad.surname())\n",
    "print()\n",
    "print(\"Son1 object\")\n",
    "Son1 = Child()\n",
    "print(Son1.surname(Father ))\n",
    "print()\n",
    "print(\"Son2 object\")\n",
    "Son2 = Child()\n",
    "print(Son2.surname(Father))\n",
    "print()\n",
    "print(\"Daughter object\")\n",
    "Daughter = Child()\n",
    "print(Daughter.surname(Father))"
   ]
  },
  {
   "cell_type": "code",
   "execution_count": 59,
   "id": "0eebec64",
   "metadata": {},
   "outputs": [],
   "source": [
    "class granfather:\n",
    "    skin = \"white\"\n",
    "    hair = \"black\"\n",
    "class son:\n",
    "    name = \"charan\"\n",
    "class daughter:\n",
    "    name = \"thanvika\""
   ]
  },
  {
   "cell_type": "code",
   "execution_count": 61,
   "id": "d71e0da6",
   "metadata": {},
   "outputs": [],
   "source": [
    "class father:\n",
    "    skin = \"white\"\n",
    "    hair = \"black\"\n",
    "class mother:\n",
    "    name = \"sabitha\"\n",
    "class daughter(father,mother):\n",
    "    name = \"thanvika\""
   ]
  },
  {
   "cell_type": "code",
   "execution_count": 12,
   "id": "cce3e9f6",
   "metadata": {},
   "outputs": [],
   "source": [
    "class base:\n",
    "    def __init__(self,x1,x2):\n",
    "        self.x1 = x1\n",
    "        self.x2 = x2\n",
    "class base2:\n",
    "    def __init__(self,x3,x4):\n",
    "        self.x3 = x3\n",
    "        self.x4 = x4\n",
    "\n",
    "class derived(base,base2):\n",
    "    def __init__(self,x1,x2,x3,x4,x5,x6):\n",
    "        base.__init__(self,x1,x2)\n",
    "        base2.__init__(self,x3,x4)\n",
    "        self.x5 = x5\n",
    "        self.x6 = x6"
   ]
  },
  {
   "cell_type": "code",
   "execution_count": 13,
   "id": "c9485758",
   "metadata": {},
   "outputs": [],
   "source": [
    "obj = derived(12,22,34,54,43,23)"
   ]
  },
  {
   "cell_type": "code",
   "execution_count": 14,
   "id": "f6601bf0",
   "metadata": {},
   "outputs": [
    {
     "name": "stdout",
     "output_type": "stream",
     "text": [
      "12\n",
      "22\n",
      "34\n",
      "54\n",
      "43\n",
      "23\n"
     ]
    }
   ],
   "source": [
    "print(obj.x1)\n",
    "print(obj.x2)\n",
    "print(obj.x3)\n",
    "print(obj.x4)\n",
    "print(obj.x5)\n",
    "print(obj.x6)"
   ]
  },
  {
   "cell_type": "code",
   "execution_count": null,
   "id": "ddc5717f",
   "metadata": {},
   "outputs": [],
   "source": [
    "class father:\n",
    "    def __init__(self,surname,height):\n",
    "        self.surname = surname\n",
    "        self.height = height\n",
    "        \n",
    "        \n",
    "class mother:\n",
    "    def __init__(self,skintone,weight):\n",
    "        self.skintone = skintone\n",
    "        self.weight = weight\n",
    "        \n",
    "        \n",
    "class son:\n",
    "    def __init__(self,surname,height,skintone,weight,name,age):\n",
    "        father__init__(self,surname,height)\n",
    "        mother__init__(self,skintone,weight)\n",
    "        self.name = name\n",
    "        self.age = age    "
   ]
  },
  {
   "cell_type": "code",
   "execution_count": null,
   "id": "3dcb58f2",
   "metadata": {},
   "outputs": [],
   "source": [
    "#polymorphism\n",
    "#method over riding\n",
    "#abstraction"
   ]
  },
  {
   "cell_type": "code",
   "execution_count": 3,
   "id": "0965ea78",
   "metadata": {},
   "outputs": [
    {
     "name": "stdout",
     "output_type": "stream",
     "text": [
      "yes the file is existing\n"
     ]
    }
   ],
   "source": [
    "import os\n",
    "if os.path.exists(r\"C:\\Users\\lenovo\\Desktop\\CHANDAN\"):\n",
    "    print(\"yes the file is existing\")\n",
    "else:\n",
    "    print(\"No the file is not existing\")\n",
    "    print(\"lets create this\")\n",
    "    os.mkdir(r\"C:\\Users\\lenovo\\Desktop\\CHANDAN\")#creating a folder in desktop"
   ]
  },
  {
   "cell_type": "code",
   "execution_count": 4,
   "id": "38f0ea19",
   "metadata": {},
   "outputs": [
    {
     "data": {
      "text/plain": [
       "'C:\\\\Users\\\\lenovo'"
      ]
     },
     "execution_count": 4,
     "metadata": {},
     "output_type": "execute_result"
    }
   ],
   "source": [
    "pwd"
   ]
  },
  {
   "cell_type": "code",
   "execution_count": null,
   "id": "d8aa4245",
   "metadata": {},
   "outputs": [],
   "source": [
    "#multiprocessing multi threading  "
   ]
  },
  {
   "cell_type": "code",
   "execution_count": null,
   "id": "a6e24463",
   "metadata": {},
   "outputs": [],
   "source": [
    "#exceptional handling"
   ]
  },
  {
   "cell_type": "code",
   "execution_count": 1,
   "id": "2428bffd",
   "metadata": {},
   "outputs": [
    {
     "name": "stdout",
     "output_type": "stream",
     "text": [
      "1\n"
     ]
    }
   ],
   "source": [
    "print(0+True)"
   ]
  },
  {
   "cell_type": "code",
   "execution_count": 5,
   "id": "aad5e435",
   "metadata": {},
   "outputs": [
    {
     "name": "stdout",
     "output_type": "stream",
     "text": [
      "line one executed\n",
      "line 2 is executed\n",
      " data\n",
      "measures of dispersion\n"
     ]
    }
   ],
   "source": [
    "x = 5\n",
    "print(\"line one executed\")\n",
    "y = 0\n",
    "print('line 2 is executed')\n",
    "#z = x/y\n",
    "print(\" data\")\n",
    "print(\"measures of dispersion\")"
   ]
  },
  {
   "cell_type": "code",
   "execution_count": 6,
   "id": "15919516",
   "metadata": {},
   "outputs": [
    {
     "name": "stdout",
     "output_type": "stream",
     "text": [
      "line one executed\n",
      "line 2 is executed\n"
     ]
    },
    {
     "ename": "ZeroDivisionError",
     "evalue": "division by zero",
     "output_type": "error",
     "traceback": [
      "\u001b[1;31m---------------------------------------------------------------------------\u001b[0m",
      "\u001b[1;31mZeroDivisionError\u001b[0m                         Traceback (most recent call last)",
      "Cell \u001b[1;32mIn[6], line 5\u001b[0m\n\u001b[0;32m      3\u001b[0m y \u001b[38;5;241m=\u001b[39m \u001b[38;5;241m0\u001b[39m\n\u001b[0;32m      4\u001b[0m \u001b[38;5;28mprint\u001b[39m(\u001b[38;5;124m'\u001b[39m\u001b[38;5;124mline 2 is executed\u001b[39m\u001b[38;5;124m'\u001b[39m)\n\u001b[1;32m----> 5\u001b[0m z \u001b[38;5;241m=\u001b[39m x\u001b[38;5;241m/\u001b[39my\n\u001b[0;32m      6\u001b[0m \u001b[38;5;28mprint\u001b[39m(\u001b[38;5;124m\"\u001b[39m\u001b[38;5;124m data\u001b[39m\u001b[38;5;124m\"\u001b[39m)\n\u001b[0;32m      7\u001b[0m \u001b[38;5;28mprint\u001b[39m(\u001b[38;5;124m\"\u001b[39m\u001b[38;5;124mmeasures of dispersion\u001b[39m\u001b[38;5;124m\"\u001b[39m)\n",
      "\u001b[1;31mZeroDivisionError\u001b[0m: division by zero"
     ]
    }
   ],
   "source": [
    "x = 5\n",
    "print(\"line one executed\")\n",
    "y = 0\n",
    "print('line 2 is executed')\n",
    "z = x/y\n",
    "print(\" data\")\n",
    "print(\"measures of dispersion\")"
   ]
  },
  {
   "cell_type": "code",
   "execution_count": 11,
   "id": "181b1b37",
   "metadata": {},
   "outputs": [
    {
     "name": "stdout",
     "output_type": "stream",
     "text": [
      "line one executed\n",
      "line 2 is executed\n",
      "we cannot divide with zero\n",
      " data\n",
      "measures of dispersion\n"
     ]
    }
   ],
   "source": [
    "x = 5\n",
    "print(\"line one executed\")\n",
    "y = 0\n",
    "print('line 2 is executed')\n",
    "try:\n",
    "    z = x/y\n",
    "except ZeroDivisionError:\n",
    "    print(\"we cannot divide with zero\")\n",
    "\n",
    "print(\" data\")\n",
    "print(\"measures of dispersion\")\n",
    "#pipeline doesnot stop\n",
    "#handling error\n",
    "#custom message"
   ]
  },
  {
   "cell_type": "code",
   "execution_count": 12,
   "id": "fb7d3c84",
   "metadata": {},
   "outputs": [
    {
     "ename": "NameError",
     "evalue": "name 'R' is not defined",
     "output_type": "error",
     "traceback": [
      "\u001b[1;31m---------------------------------------------------------------------------\u001b[0m",
      "\u001b[1;31mNameError\u001b[0m                                 Traceback (most recent call last)",
      "Cell \u001b[1;32mIn[12], line 1\u001b[0m\n\u001b[1;32m----> 1\u001b[0m z\u001b[38;5;241m=\u001b[39m R \u001b[38;5;241m+\u001b[39m \u001b[38;5;241m3\u001b[39m\n",
      "\u001b[1;31mNameError\u001b[0m: name 'R' is not defined"
     ]
    }
   ],
   "source": [
    "z= R + 3"
   ]
  },
  {
   "cell_type": "code",
   "execution_count": null,
   "id": "95670e2a",
   "metadata": {},
   "outputs": [],
   "source": [
    " "
   ]
  },
  {
   "cell_type": "code",
   "execution_count": null,
   "id": "90178d23",
   "metadata": {},
   "outputs": [],
   "source": [
    "#function and zero division error to build a try and except block on it"
   ]
  },
  {
   "cell_type": "code",
   "execution_count": 31,
   "id": "0ce37d09",
   "metadata": {},
   "outputs": [],
   "source": [
    "def hari(a,b):\n",
    "    print(\"line 1 executed\")\n",
    "    print('line 2 is executed')\n",
    "    try:\n",
    "        z = x/y\n",
    "    except ZeroDivisionError:\n",
    "        print(\"we cannot divide with zero\")\n",
    "    return z"
   ]
  },
  {
   "cell_type": "code",
   "execution_count": 33,
   "id": "0b56dce6",
   "metadata": {},
   "outputs": [
    {
     "name": "stdout",
     "output_type": "stream",
     "text": [
      "line 1 executed\n",
      "line 2 is executed\n",
      "we cannot divide with zero\n"
     ]
    },
    {
     "ename": "UnboundLocalError",
     "evalue": "cannot access local variable 'z' where it is not associated with a value",
     "output_type": "error",
     "traceback": [
      "\u001b[1;31m---------------------------------------------------------------------------\u001b[0m",
      "\u001b[1;31mUnboundLocalError\u001b[0m                         Traceback (most recent call last)",
      "Cell \u001b[1;32mIn[33], line 1\u001b[0m\n\u001b[1;32m----> 1\u001b[0m hari(\u001b[38;5;241m2\u001b[39m,\u001b[38;5;241m0\u001b[39m)\n",
      "Cell \u001b[1;32mIn[31], line 8\u001b[0m, in \u001b[0;36mhari\u001b[1;34m(a, b)\u001b[0m\n\u001b[0;32m      6\u001b[0m \u001b[38;5;28;01mexcept\u001b[39;00m \u001b[38;5;167;01mZeroDivisionError\u001b[39;00m:\n\u001b[0;32m      7\u001b[0m     \u001b[38;5;28mprint\u001b[39m(\u001b[38;5;124m\"\u001b[39m\u001b[38;5;124mwe cannot divide with zero\u001b[39m\u001b[38;5;124m\"\u001b[39m)\n\u001b[1;32m----> 8\u001b[0m \u001b[38;5;28;01mreturn\u001b[39;00m z\n",
      "\u001b[1;31mUnboundLocalError\u001b[0m: cannot access local variable 'z' where it is not associated with a value"
     ]
    }
   ],
   "source": [
    "hari(2,0)"
   ]
  },
  {
   "cell_type": "code",
   "execution_count": 37,
   "id": "21ac0283",
   "metadata": {},
   "outputs": [
    {
     "name": "stdout",
     "output_type": "stream",
     "text": [
      "1\n",
      "2\n",
      "3\n",
      "4\n",
      "5\n",
      "6\n",
      "7\n",
      "8\n",
      "9\n",
      "10\n",
      "11\n",
      "12\n",
      "13\n",
      "14\n",
      "15\n",
      "16\n",
      "17\n",
      "18\n",
      "19\n",
      "20\n",
      "21\n",
      "22\n",
      "23\n",
      "24\n",
      "25\n",
      "26\n",
      "27\n",
      "28\n",
      "29\n",
      "30\n",
      "31\n",
      "32\n",
      "33\n",
      "34\n",
      "35\n",
      "36\n",
      "37\n",
      "38\n",
      "39\n",
      "40\n",
      "41\n",
      "42\n",
      "43\n",
      "44\n",
      "45\n",
      "46\n",
      "47\n",
      "48\n",
      "49\n",
      "50\n",
      "51\n",
      "52\n",
      "53\n",
      "54\n",
      "55\n",
      "56\n",
      "57\n",
      "58\n",
      "59\n",
      "60\n",
      "61\n",
      "62\n",
      "63\n",
      "64\n",
      "65\n",
      "66\n",
      "67\n",
      "68\n",
      "69\n",
      "70\n",
      "71\n",
      "72\n",
      "73\n",
      "74\n",
      "75\n",
      "76\n",
      "77\n",
      "78\n",
      "79\n",
      "80\n",
      "81\n",
      "82\n",
      "83\n",
      "84\n",
      "85\n",
      "86\n",
      "87\n",
      "88\n",
      "89\n",
      "90\n",
      "91\n",
      "92\n",
      "93\n",
      "94\n",
      "95\n",
      "96\n",
      "97\n",
      "98\n",
      "99\n"
     ]
    }
   ],
   "source": [
    "i = 1\n",
    "while i < 100:\n",
    "        print(i)\n",
    "        i = i+1"
   ]
  },
  {
   "cell_type": "code",
   "execution_count": 6,
   "id": "dfb92f7e",
   "metadata": {},
   "outputs": [
    {
     "name": "stdout",
     "output_type": "stream",
     "text": [
      "Requirement already satisfied: numpy in c:\\users\\lenovo\\anaconda3\\lib\\site-packages (1.24.3)\n"
     ]
    },
    {
     "name": "stderr",
     "output_type": "stream",
     "text": [
      "WARNING: There was an error checking the latest version of pip.\n"
     ]
    }
   ],
   "source": [
    "!pip install numpy\n",
    "\n",
    "#when you are installing a library "
   ]
  },
  {
   "cell_type": "code",
   "execution_count": 9,
   "id": "206a8000",
   "metadata": {},
   "outputs": [
    {
     "name": "stdout",
     "output_type": "stream",
     "text": [
      "1.24.3\n"
     ]
    }
   ],
   "source": [
    "import numpy as py\n",
    "print(py.__version__)"
   ]
  },
  {
   "cell_type": "code",
   "execution_count": null,
   "id": "f110cbe5",
   "metadata": {},
   "outputs": [],
   "source": [
    "# 3 Dimentional array acess 2nd row 3 element"
   ]
  },
  {
   "cell_type": "code",
   "execution_count": 15,
   "id": "48db73c4",
   "metadata": {},
   "outputs": [
    {
     "name": "stdout",
     "output_type": "stream",
     "text": [
      "(1, 1, 3)\n",
      "[[[1 2 3]]]\n"
     ]
    }
   ],
   "source": [
    "a = py.array([1,2,3],ndmin = 3)\n",
    "print(a.shape)\n",
    "print(a)"
   ]
  },
  {
   "cell_type": "code",
   "execution_count": null,
   "id": "b84c60d5",
   "metadata": {},
   "outputs": [],
   "source": [
    "a= "
   ]
  },
  {
   "cell_type": "code",
   "execution_count": 26,
   "id": "816e6797",
   "metadata": {},
   "outputs": [
    {
     "name": "stdout",
     "output_type": "stream",
     "text": [
      "(1, 3, 3)\n",
      "[[[ 1  2  3]\n",
      "  [34 45 56]\n",
      "  [54 55 67]]]\n"
     ]
    },
    {
     "ename": "IndexError",
     "evalue": "index 1 is out of bounds for axis 0 with size 1",
     "output_type": "error",
     "traceback": [
      "\u001b[1;31m---------------------------------------------------------------------------\u001b[0m",
      "\u001b[1;31mIndexError\u001b[0m                                Traceback (most recent call last)",
      "Cell \u001b[1;32mIn[26], line 4\u001b[0m\n\u001b[0;32m      2\u001b[0m \u001b[38;5;28mprint\u001b[39m(a\u001b[38;5;241m.\u001b[39mshape)\n\u001b[0;32m      3\u001b[0m \u001b[38;5;28mprint\u001b[39m(a)\n\u001b[1;32m----> 4\u001b[0m a[\u001b[38;5;241m1\u001b[39m][\u001b[38;5;241m2\u001b[39m]\n\u001b[0;32m      5\u001b[0m \u001b[38;5;28mprint\u001b[39m(a)\n",
      "\u001b[1;31mIndexError\u001b[0m: index 1 is out of bounds for axis 0 with size 1"
     ]
    }
   ],
   "source": [
    "a = py.array([[[1,2,3],[34,45,56],[54,55,67]]])\n",
    "print(a.shape)\n",
    "print(a)\n",
    "a[1][2] \n",
    "print(a)"
   ]
  },
  {
   "cell_type": "code",
   "execution_count": 5,
   "id": "570f66eb",
   "metadata": {},
   "outputs": [
    {
     "data": {
      "text/plain": [
       "'scitamonni'"
      ]
     },
     "execution_count": 5,
     "metadata": {},
     "output_type": "execute_result"
    }
   ],
   "source": [
    "a=\"innomatics\"\n",
    "a[-1:-len(a)-1:-1]"
   ]
  },
  {
   "cell_type": "code",
   "execution_count": 4,
   "id": "d448f538",
   "metadata": {},
   "outputs": [
    {
     "name": "stdout",
     "output_type": "stream",
     "text": [
      "[1, 2, 3, 89, [10, 6, 7]]\n",
      "[1, 2, 3, 89, [10, 6, 7]]\n"
     ]
    }
   ],
   "source": [
    "#shallow copy\n",
    "import copy\n",
    "lst=[1,2,3,89,[10,6,7]]\n",
    "lst1=copy.copy(lst)\n",
    "print(lst)\n",
    "print(lst1)"
   ]
  },
  {
   "cell_type": "code",
   "execution_count": null,
   "id": "c3c5d5b0",
   "metadata": {},
   "outputs": [],
   "source": []
  }
 ],
 "metadata": {
  "kernelspec": {
   "display_name": "Python 3 (ipykernel)",
   "language": "python",
   "name": "python3"
  },
  "language_info": {
   "codemirror_mode": {
    "name": "ipython",
    "version": 3
   },
   "file_extension": ".py",
   "mimetype": "text/x-python",
   "name": "python",
   "nbconvert_exporter": "python",
   "pygments_lexer": "ipython3",
   "version": "3.11.5"
  }
 },
 "nbformat": 4,
 "nbformat_minor": 5
}
