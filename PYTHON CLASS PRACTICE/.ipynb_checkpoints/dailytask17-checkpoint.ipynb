{
 "cells": [
  {
   "cell_type": "markdown",
   "id": "28847a01-e758-4e18-b849-6108f83767aa",
   "metadata": {},
   "source": [
    "Create two base classes. One base class is 'Person' with attributes name and age. Another class is 'Address' with attributes city and country. Define a derived class 'Employee' that inherits from both Person and Address. In 'Employee' class add an attribute job. \r\n",
    "Example: \r\n",
    "class Person:\r\n",
    "    #code\r\n",
    "class Address:\r\n",
    "    #code\r\n",
    "class Employee(Person, Address):\r\n",
    "    #code\r\n"
   ]
  },
  {
   "cell_type": "code",
   "execution_count": 1,
   "id": "adcd88e9-b015-40b0-8cf9-a764bfe3089a",
   "metadata": {},
   "outputs": [],
   "source": [
    "class person:\n",
    "    def __init__(self,name,age):\n",
    "        self.name = name\n",
    "        self.age = age\n",
    "    def method2(self):\n",
    "        return self.name + self.age\n",
    "\n",
    "class address:\n",
    "    def __init__(self,city,country):\n",
    "        self.city = city\n",
    "        self.country = country\n",
    "    def method1(self):\n",
    "        return \"HIII\"\n",
    "\n",
    "class employee(person,address):\n",
    "    def __init__(self,name,age,city,country,job):\n",
    "        person.__init__(self,name,age)\n",
    "        address.__init__(self,city,country)\n",
    "        self.job=job\n",
    "        "
   ]
  },
  {
   "cell_type": "code",
   "execution_count": 3,
   "id": "5e400b31-c314-4338-98ff-c574d34d992b",
   "metadata": {},
   "outputs": [
    {
     "name": "stdout",
     "output_type": "stream",
     "text": [
      "name:  satya\n",
      "age:  22\n",
      "city:  Hyderabad\n",
      "country:  India\n",
      "job:  Software\n"
     ]
    }
   ],
   "source": [
    "b=employee(name=\"satya\",age=22,city=\"Hyderabad\",country=\"India\",job=\"Software\")\n",
    "print(\"name: \",b.name)\n",
    "print(\"age: \",b.age)\n",
    "print(\"city: \",b.city)\n",
    "print(\"country: \",b.country)\n",
    "print(\"job: \",b.job)"
   ]
  },
  {
   "cell_type": "code",
   "execution_count": null,
   "id": "2c15c87e-9612-4bd8-8038-5f8518dc05b1",
   "metadata": {},
   "outputs": [],
   "source": []
  },
  {
   "cell_type": "code",
   "execution_count": null,
   "id": "0066d4a7-0454-4fba-9408-091231fbab99",
   "metadata": {},
   "outputs": [],
   "source": []
  },
  {
   "cell_type": "code",
   "execution_count": null,
   "id": "54e33540-dca6-4153-9126-3c642ddef437",
   "metadata": {},
   "outputs": [],
   "source": []
  },
  {
   "cell_type": "markdown",
   "id": "1ee114c3-b147-4330-a068-9970ab0b874e",
   "metadata": {},
   "source": [
    "2 Create a base class Animal with a method make_sound(). Define two subclasses, Dog and Cat, that inherit from Animal and override the make_sound()       method to print the respective sounds.\n"
   ]
  },
  {
   "cell_type": "code",
   "execution_count": null,
   "id": "98ae9ff8-b4f6-4a6a-80c7-32eaeb0f262d",
   "metadata": {},
   "outputs": [],
   "source": []
  },
  {
   "cell_type": "markdown",
   "id": "4ae94938-97fc-4747-9e25-3894091b26bb",
   "metadata": {},
   "source": [
    "class animal:\n",
    "    def make_sound(self):\n",
    "        print(\"the animal make a sound\")\n",
    "\n",
    "class dog(animal):\n",
    "    def make_sound(self):\n",
    "        print(\"woof\")\n",
    "\n",
    "class cat(animal):\n",
    "    def make_sound(self):\n",
    "        print(\"meow\")\n",
    "\n"
   ]
  },
  {
   "cell_type": "code",
   "execution_count": 11,
   "id": "c509a1fb-0693-4645-b24c-4cb87f975ebf",
   "metadata": {},
   "outputs": [],
   "source": [
    "dog1 = dog()\n",
    "cat1 = cat()\n"
   ]
  },
  {
   "cell_type": "code",
   "execution_count": 12,
   "id": "f35e16f7-3441-4b86-a9fe-7fce4286a4d6",
   "metadata": {},
   "outputs": [
    {
     "name": "stdout",
     "output_type": "stream",
     "text": [
      "woof\n",
      "meow\n"
     ]
    }
   ],
   "source": [
    "dog1.make_sound()\n",
    "cat1.make_sound()"
   ]
  },
  {
   "cell_type": "markdown",
   "id": "cc1dceda-0f13-4b4e-994f-3c00241e3b76",
   "metadata": {},
   "source": [
    "Q3. Create a function calculate, that can calculate the sum of two numbers or concatenate two strings. The function should be able to take any number       of arguments and also demonstrate polymorphism based on the different types of arguments."
   ]
  },
  {
   "cell_type": "code",
   "execution_count": 14,
   "id": "c7981c58-8722-4441-944c-775fad3cae5b",
   "metadata": {},
   "outputs": [
    {
     "name": "stdout",
     "output_type": "stream",
     "text": [
      "satyasai grandhi\n",
      "30\n",
      "10.879999999999999\n",
      "Arguments are not allowed\n"
     ]
    }
   ],
   "source": [
    "def calculate(x):\n",
    "  if all(isinstance(i,(int,float)) for i in x):\n",
    "    return sum(x)\n",
    "  elif all(isinstance(i,(str)) for i in x):\n",
    "    return \"\".join(x)\n",
    "  else:\n",
    "    return \"Arguments are not allowed\"\n",
    "print(calculate([\"satyasai\",\" \",\"grandhi\"]))\n",
    "print(calculate([27,3]))\n",
    "print(calculate([6.88,4]))\n",
    "print(calculate([8.7,\"Hello\",\" \",\"satyasai\"]))"
   ]
  },
  {
   "cell_type": "markdown",
   "id": "2dbfd628-0866-4516-bc3e-48b78cdb4413",
   "metadata": {},
   "source": [
    "Q4.\r\n",
    "\r\n",
    "a) Create a Person class with private attributes _ _name and _ _age. Implement getter and setter methods for accessing and modifying these attributes.\r\n",
    "b) Modify the Person class from the previous problem to use properties for accessing and modifying the private attributes."
   ]
  },
  {
   "cell_type": "code",
   "execution_count": 15,
   "id": "156192cb-60f5-43fe-8ce3-247c3758a858",
   "metadata": {},
   "outputs": [
    {
     "name": "stdout",
     "output_type": "stream",
     "text": [
      "satya\n",
      "sai\n",
      "21\n",
      "22\n"
     ]
    }
   ],
   "source": [
    "\n",
    "class person:\n",
    "  def __init__(self,name,age):\n",
    "    self.name=name\n",
    "    self.age=age\n",
    "  def get_name(self):\n",
    "    return self.name\n",
    "  def set_name(self,name):\n",
    "    self.name=name\n",
    "    return self.name\n",
    "  def get_age(self):\n",
    "    return self.age\n",
    "  def set_age(self,age):\n",
    "    self.age=age\n",
    "    return self.age\n",
    "obj=person(\"satya\",21)\n",
    "print(obj.get_name())\n",
    "print(obj.set_name(\"sai\"))\n",
    "print(obj.get_age())\n",
    "print(obj.set_age(22))"
   ]
  },
  {
   "cell_type": "code",
   "execution_count": 16,
   "id": "7e387670-3283-4a16-a2fb-550bd565e486",
   "metadata": {},
   "outputs": [
    {
     "name": "stdout",
     "output_type": "stream",
     "text": [
      "sai\n",
      "satya\n",
      "21\n",
      "23\n"
     ]
    }
   ],
   "source": [
    "class person:\n",
    "  def __init__(self,name,age):\n",
    "    self.__name=name\n",
    "    self.__age=age\n",
    "  def get_name(self):\n",
    "    return self.__name\n",
    "  def set_name(self,name):\n",
    "    self.__name=name\n",
    "    return self.__name\n",
    "  def get_age(self):\n",
    "    return self.__age\n",
    "  def set_age(self,age):\n",
    "    self.__age=age\n",
    "    return self.__age\n",
    "obj=person(\"sai\",21)\n",
    "print(obj.get_name())\n",
    "print(obj.set_name(\"satya\"))\n",
    "print(obj.get_age())\n",
    "print(obj.set_age(23))"
   ]
  },
  {
   "cell_type": "markdown",
   "id": "619f4f88-d8fb-46b3-b268-1eb9eae3df82",
   "metadata": {},
   "source": [
    "Q5.\r\n",
    "\r\n",
    "a) Create a BankAccount class with a protected attribute _balance. Implement a method get_balance() to retrieve the balance.\r\n",
    "b) Create a Python module calculator with a private function _ _add that adds two numbers. Implement a public function add_numbers that calls the private function."
   ]
  },
  {
   "cell_type": "code",
   "execution_count": null,
   "id": "c59f1e93-7b8f-4d3c-a3f0-8b4f202f29e1",
   "metadata": {},
   "outputs": [],
   "source": []
  },
  {
   "cell_type": "code",
   "execution_count": null,
   "id": "b7fe49a3-58fc-47d6-aeee-ba7b65865042",
   "metadata": {},
   "outputs": [],
   "source": []
  },
  {
   "cell_type": "code",
   "execution_count": null,
   "id": "67c76e1e-db31-43d6-8a68-4324486e0cd9",
   "metadata": {},
   "outputs": [],
   "source": []
  },
  {
   "cell_type": "code",
   "execution_count": null,
   "id": "79a90f3d-7073-4a0e-a921-da53e4cdd714",
   "metadata": {},
   "outputs": [],
   "source": []
  },
  {
   "cell_type": "code",
   "execution_count": null,
   "id": "a39a1451-0f1a-42d4-ba86-8530e6bc2d13",
   "metadata": {},
   "outputs": [],
   "source": []
  },
  {
   "cell_type": "code",
   "execution_count": null,
   "id": "41292580-5add-4329-91fd-ce1effba024e",
   "metadata": {},
   "outputs": [],
   "source": []
  },
  {
   "cell_type": "code",
   "execution_count": null,
   "id": "2341fb91-e2cd-486c-8a18-772da356af90",
   "metadata": {},
   "outputs": [],
   "source": []
  },
  {
   "cell_type": "code",
   "execution_count": null,
   "id": "0dc67c8a-58a5-4640-86aa-71254188e94c",
   "metadata": {},
   "outputs": [],
   "source": []
  },
  {
   "cell_type": "code",
   "execution_count": null,
   "id": "d7634376-4bc6-4ff5-9308-8d6f070f1f7f",
   "metadata": {},
   "outputs": [],
   "source": []
  },
  {
   "cell_type": "code",
   "execution_count": null,
   "id": "70247c70-a41e-4393-8f4e-fdb9f7b7f59a",
   "metadata": {},
   "outputs": [],
   "source": []
  },
  {
   "cell_type": "code",
   "execution_count": null,
   "id": "00c6f91d-a319-40d9-ab97-45048882e492",
   "metadata": {},
   "outputs": [],
   "source": []
  },
  {
   "cell_type": "code",
   "execution_count": null,
   "id": "673aba1b-8460-4fa6-a00a-270fcdfd66a0",
   "metadata": {},
   "outputs": [],
   "source": []
  },
  {
   "cell_type": "code",
   "execution_count": null,
   "id": "fafe22fa-29ee-4dd4-a145-d5a9ef4e9d37",
   "metadata": {},
   "outputs": [],
   "source": []
  },
  {
   "cell_type": "code",
   "execution_count": null,
   "id": "a7245f3a-5c1f-41a5-9893-6536b9c05475",
   "metadata": {},
   "outputs": [],
   "source": []
  },
  {
   "cell_type": "code",
   "execution_count": null,
   "id": "c12442d7-18f0-468b-ad99-df6d0063e990",
   "metadata": {},
   "outputs": [],
   "source": []
  },
  {
   "cell_type": "code",
   "execution_count": null,
   "id": "df32f84c-fcd1-479a-b37a-f1ddf4c7e71f",
   "metadata": {},
   "outputs": [],
   "source": []
  },
  {
   "cell_type": "markdown",
   "id": "984385d4-300f-42fa-be4c-41213df7c02e",
   "metadata": {},
   "source": []
  }
 ],
 "metadata": {
  "kernelspec": {
   "display_name": "Python 3 (ipykernel)",
   "language": "python",
   "name": "python3"
  },
  "language_info": {
   "codemirror_mode": {
    "name": "ipython",
    "version": 3
   },
   "file_extension": ".py",
   "mimetype": "text/x-python",
   "name": "python",
   "nbconvert_exporter": "python",
   "pygments_lexer": "ipython3",
   "version": "3.12.4"
  }
 },
 "nbformat": 4,
 "nbformat_minor": 5
}
