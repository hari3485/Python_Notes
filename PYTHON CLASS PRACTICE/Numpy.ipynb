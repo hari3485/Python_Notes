{
 "cells": [
  {
   "cell_type": "markdown",
   "id": "5782f939",
   "metadata": {},
   "source": [
    "#### 21/08/2023"
   ]
  },
  {
   "cell_type": "code",
   "execution_count": 1,
   "id": "6e8b7fb6",
   "metadata": {},
   "outputs": [
    {
     "name": "stdout",
     "output_type": "stream",
     "text": [
      "Requirement already satisfied: numpy in c:\\users\\lenovo\\anaconda3\\lib\\site-packages (1.24.3)\n"
     ]
    },
    {
     "name": "stderr",
     "output_type": "stream",
     "text": [
      "WARNING: There was an error checking the latest version of pip.\n"
     ]
    }
   ],
   "source": [
    "!pip install numpy\n",
    "\n",
    "#when you are installing a library "
   ]
  },
  {
   "cell_type": "code",
   "execution_count": 2,
   "id": "206a8000",
   "metadata": {},
   "outputs": [
    {
     "name": "stdout",
     "output_type": "stream",
     "text": [
      "1.24.3\n"
     ]
    }
   ],
   "source": [
    "import numpy as np\n",
    "print(np.__version__)"
   ]
  },
  {
   "cell_type": "code",
   "execution_count": 3,
   "id": "f110cbe5",
   "metadata": {},
   "outputs": [],
   "source": [
    "# 3 Dimentional array acess 2nd row 3 element"
   ]
  },
  {
   "cell_type": "code",
   "execution_count": 4,
   "id": "48db73c4",
   "metadata": {},
   "outputs": [
    {
     "name": "stdout",
     "output_type": "stream",
     "text": [
      "(1, 1, 3)\n",
      "[[[1 2 3]]]\n"
     ]
    }
   ],
   "source": [
    "a = np.array([1,2,3],ndmin = 3)\n",
    "print(a.shape)\n",
    "print(a)"
   ]
  },
  {
   "cell_type": "code",
   "execution_count": 5,
   "id": "b84c60d5",
   "metadata": {},
   "outputs": [
    {
     "data": {
      "text/plain": [
       "array([[[1, 2, 3]]])"
      ]
     },
     "execution_count": 5,
     "metadata": {},
     "output_type": "execute_result"
    }
   ],
   "source": [
    "a"
   ]
  },
  {
   "cell_type": "code",
   "execution_count": 6,
   "id": "816e6797",
   "metadata": {},
   "outputs": [
    {
     "name": "stdout",
     "output_type": "stream",
     "text": [
      "(1, 3, 3)\n",
      "[[[ 1  2  3]\n",
      "  [34 45 56]\n",
      "  [54 55 67]]]\n"
     ]
    }
   ],
   "source": [
    "a = np.array([[[1,2,3],[34,45,56],[54,55,67]]])\n",
    "print(a.shape)\n",
    "print(a)"
   ]
  },
  {
   "cell_type": "code",
   "execution_count": null,
   "id": "570f66eb",
   "metadata": {},
   "outputs": [],
   "source": [
    "  "
   ]
  },
  {
   "cell_type": "code",
   "execution_count": 7,
   "id": "af89f3bd",
   "metadata": {},
   "outputs": [],
   "source": [
    "# 1D array"
   ]
  },
  {
   "cell_type": "code",
   "execution_count": null,
   "id": "0bae8010",
   "metadata": {},
   "outputs": [],
   "source": []
  },
  {
   "cell_type": "code",
   "execution_count": 8,
   "id": "932f4f40",
   "metadata": {},
   "outputs": [
    {
     "name": "stdout",
     "output_type": "stream",
     "text": [
      "[1, 4, 8, 12]\n"
     ]
    }
   ],
   "source": [
    "y = [1,2,3,4]\n",
    "for i in range(1,len(y)):\n",
    "     y[i] = i*4\n",
    "print(y)"
   ]
  },
  {
   "cell_type": "code",
   "execution_count": 9,
   "id": "cd60f930",
   "metadata": {},
   "outputs": [
    {
     "name": "stdout",
     "output_type": "stream",
     "text": [
      "[ 4  8 12 16]\n"
     ]
    }
   ],
   "source": [
    "y=np.array([1,2,3,4])\n",
    "y=y*4\n",
    "print(y)"
   ]
  },
  {
   "cell_type": "code",
   "execution_count": 10,
   "id": "c57b84c1",
   "metadata": {},
   "outputs": [],
   "source": [
    "#boolean indexing\n",
    "#to filter out\n",
    "#consider subsets"
   ]
  },
  {
   "cell_type": "code",
   "execution_count": 11,
   "id": "745722d4",
   "metadata": {},
   "outputs": [
    {
     "name": "stdout",
     "output_type": "stream",
     "text": [
      "[20 22 24 26 28 30 32 34 36 38]\n"
     ]
    }
   ],
   "source": [
    "a = np.arange(20,40,2)\n",
    "print(a)"
   ]
  },
  {
   "cell_type": "code",
   "execution_count": 12,
   "id": "a4d7a220",
   "metadata": {},
   "outputs": [
    {
     "data": {
      "text/plain": [
       "13"
      ]
     },
     "execution_count": 12,
     "metadata": {},
     "output_type": "execute_result"
    }
   ],
   "source": [
    "import random \n",
    "random.randint(10,20)"
   ]
  },
  {
   "cell_type": "code",
   "execution_count": 13,
   "id": "068d93a8",
   "metadata": {},
   "outputs": [
    {
     "name": "stdout",
     "output_type": "stream",
     "text": [
      "[[21 19 13 22 37 14 15 34 14 37]\n",
      " [12 36 12 36 25 35 10 32 29 12]\n",
      " [22 33 11 15 32 17 10 15 33 16]\n",
      " [10 26 39 12 35 26 15 16 15 10]\n",
      " [33 23 31 37 22 11 35 28 34 28]\n",
      " [10 17 10 21 26 26 22 13 21 15]\n",
      " [14 14 27 33 35 10 32 10 19 23]\n",
      " [28 19 15 31 32 23 36 11 12 16]\n",
      " [20 39 39 14 22 12 20 33 13 28]\n",
      " [28 31 33 12 22 10 19 27 15 33]]\n"
     ]
    }
   ],
   "source": [
    "my_table = np.random.randint(10,40,size = (10,10))\n",
    "print(my_table)"
   ]
  },
  {
   "cell_type": "code",
   "execution_count": 14,
   "id": "c774b7b4",
   "metadata": {},
   "outputs": [
    {
     "data": {
      "text/plain": [
       "array([[11, 12, 16],\n",
       "       [33, 13, 28],\n",
       "       [27, 15, 33]])"
      ]
     },
     "execution_count": 14,
     "metadata": {},
     "output_type": "execute_result"
    }
   ],
   "source": [
    "my_table[7:10,7:10]#last 3 rows 3 columns"
   ]
  },
  {
   "cell_type": "code",
   "execution_count": 15,
   "id": "3f2bc6b1",
   "metadata": {},
   "outputs": [
    {
     "data": {
      "text/plain": [
       "array([22, 36, 15, 12, 37, 21, 33, 31, 14, 12])"
      ]
     },
     "execution_count": 15,
     "metadata": {},
     "output_type": "execute_result"
    }
   ],
   "source": [
    "my_table[0:10,3]#ftsr column acessed"
   ]
  },
  {
   "cell_type": "code",
   "execution_count": 16,
   "id": "0828fb42",
   "metadata": {},
   "outputs": [
    {
     "data": {
      "text/plain": [
       "array([22, 36, 15, 12, 37, 21, 33, 31, 14, 12])"
      ]
     },
     "execution_count": 16,
     "metadata": {},
     "output_type": "execute_result"
    }
   ],
   "source": [
    "my_table[:,3]"
   ]
  },
  {
   "cell_type": "code",
   "execution_count": 17,
   "id": "1d3e2567",
   "metadata": {},
   "outputs": [
    {
     "name": "stdout",
     "output_type": "stream",
     "text": [
      "[[10 11 13 13 17 14 14 10]\n",
      " [12 13 16 12 17 19 19 17]\n",
      " [13 12 17 15 13 18 13 11]\n",
      " [16 13 14 19 19 11 14 18]\n",
      " [13 18 19 11 14 11 18 12]\n",
      " [16 17 10 13 14 15 18 17]\n",
      " [12 14 15 14 10 12 19 12]\n",
      " [10 19 17 16 19 14 10 13]\n",
      " [12 15 10 10 10 14 18 18]\n",
      " [12 12 18 12 18 16 18 11]]\n",
      "(10, 8)\n"
     ]
    }
   ],
   "source": [
    "# Lets create a 2dimentional array with integers\n",
    "\n",
    "\n",
    "table1 = np.random.randint(10,20,size = (10,8))\n",
    "print(table1)\n",
    "print(table1.shape) "
   ]
  },
  {
   "cell_type": "code",
   "execution_count": 18,
   "id": "d9ba2e59",
   "metadata": {},
   "outputs": [
    {
     "name": "stdout",
     "output_type": "stream",
     "text": [
      "[10 11 13 13 17 14 14 10 12 13 16 12 17 19 19 17 13 12 17 15 13 18 13 11\n",
      " 16 13 14 19 19 11 14 18 13 18 19 11 14 11 18 12 16 17 10 13 14 15 18 17\n",
      " 12 14 15 14 10 12 19 12 10 19 17 16 19 14 10 13 12 15 10 10 10 14 18 18\n",
      " 12 12 18 12 18 16 18 11]\n"
     ]
    }
   ],
   "source": [
    "print(np.ndarray.flatten(table1))"
   ]
  },
  {
   "cell_type": "code",
   "execution_count": 19,
   "id": "84a43297",
   "metadata": {},
   "outputs": [
    {
     "name": "stdout",
     "output_type": "stream",
     "text": [
      "[[2 2 4 1 2 4 9 1]\n",
      " [3 1 2 8 5 5 9 2]\n",
      " [2 1 8 7 9 2 4 9]\n",
      " [9 5 8 4 7 1 1 5]\n",
      " [6 3 3 5 9 4 1 9]\n",
      " [1 4 2 6 4 7 9 3]\n",
      " [2 3 3 1 4 4 4 6]\n",
      " [7 5 9 4 8 2 9 3]\n",
      " [8 2 2 7 8 9 3 8]\n",
      " [1 9 7 1 2 2 3 6]]\n",
      "[2 2 4 1 2 4 9 1 3 1 2 8 5 5 9 2 2 1 8 7 9 2 4 9 9 5 8 4 7 1 1 5 6 3 3 5 9\n",
      " 4 1 9 1 4 2 6 4 7 9 3 2 3 3 1 4 4 4 6 7 5 9 4 8 2 9 3 8 2 2 7 8 9 3 8 1 9\n",
      " 7 1 2 2 3 6]\n"
     ]
    }
   ],
   "source": [
    "table2 =  np.random.randint(1,10,size = (10,8))\n",
    "print(table2)\n",
    "print(np.ndarray.flatten(table2))"
   ]
  },
  {
   "cell_type": "code",
   "execution_count": 20,
   "id": "4e081216",
   "metadata": {},
   "outputs": [
    {
     "name": "stdout",
     "output_type": "stream",
     "text": [
      "[[[ 3  3  3]\n",
      "  [16 25 25]\n",
      "  [13  6 11]]\n",
      "\n",
      " [[ 7 23 21]\n",
      "  [ 8 14  9]\n",
      "  [13 18 21]]\n",
      "\n",
      " [[22  7 20]\n",
      "  [ 4  1  8]\n",
      "  [16  4  9]]]\n",
      "[ 3  3  3 16 25 25 13  6 11  7 23 21  8 14  9 13 18 21 22  7 20  4  1  8\n",
      " 16  4  9]\n"
     ]
    }
   ],
   "source": [
    " table2 =  np.random.randint(1,27,size = (3,3,3))\n",
    "print(table2)\n",
    "print(np.ndarray.flatten(table2))"
   ]
  },
  {
   "cell_type": "code",
   "execution_count": 21,
   "id": "f993856c",
   "metadata": {},
   "outputs": [
    {
     "data": {
      "text/plain": [
       "911.888888888889"
      ]
     },
     "execution_count": 21,
     "metadata": {},
     "output_type": "execute_result"
    }
   ],
   "source": [
    "import numpy as np\n",
    "\n",
    "A = np.array([7,8,32,45,64,92],dtype = \"int64\")\n",
    "\n",
    "np.std(A)\n",
    "np.var(A)"
   ]
  },
  {
   "cell_type": "code",
   "execution_count": 22,
   "id": "5ec816c8",
   "metadata": {},
   "outputs": [
    {
     "name": "stdout",
     "output_type": "stream",
     "text": [
      "[1 2 3 4 5]\n",
      "[3 4 5 6]\n",
      "[ 93  48 102 111]\n"
     ]
    },
    {
     "ename": "ValueError",
     "evalue": "setting an array element with a sequence. The requested array has an inhomogeneous shape after 1 dimensions. The detected shape was (2,) + inhomogeneous part.",
     "output_type": "error",
     "traceback": [
      "\u001b[1;31m---------------------------------------------------------------------------\u001b[0m",
      "\u001b[1;31mValueError\u001b[0m                                Traceback (most recent call last)",
      "Cell \u001b[1;32mIn[22], line 7\u001b[0m\n\u001b[0;32m      5\u001b[0m \u001b[38;5;28mprint\u001b[39m(b)\n\u001b[0;32m      6\u001b[0m \u001b[38;5;28mprint\u001b[39m(c)\n\u001b[1;32m----> 7\u001b[0m np\u001b[38;5;241m.\u001b[39mcorrcoef([a,c])\n",
      "File \u001b[1;32m<__array_function__ internals>:200\u001b[0m, in \u001b[0;36mcorrcoef\u001b[1;34m(*args, **kwargs)\u001b[0m\n",
      "File \u001b[1;32m~\\anaconda3\\Lib\\site-packages\\numpy\\lib\\function_base.py:2846\u001b[0m, in \u001b[0;36mcorrcoef\u001b[1;34m(x, y, rowvar, bias, ddof, dtype)\u001b[0m\n\u001b[0;32m   2842\u001b[0m \u001b[38;5;28;01mif\u001b[39;00m bias \u001b[38;5;129;01mis\u001b[39;00m \u001b[38;5;129;01mnot\u001b[39;00m np\u001b[38;5;241m.\u001b[39m_NoValue \u001b[38;5;129;01mor\u001b[39;00m ddof \u001b[38;5;129;01mis\u001b[39;00m \u001b[38;5;129;01mnot\u001b[39;00m np\u001b[38;5;241m.\u001b[39m_NoValue:\n\u001b[0;32m   2843\u001b[0m     \u001b[38;5;66;03m# 2015-03-15, 1.10\u001b[39;00m\n\u001b[0;32m   2844\u001b[0m     warnings\u001b[38;5;241m.\u001b[39mwarn(\u001b[38;5;124m'\u001b[39m\u001b[38;5;124mbias and ddof have no effect and are deprecated\u001b[39m\u001b[38;5;124m'\u001b[39m,\n\u001b[0;32m   2845\u001b[0m                   \u001b[38;5;167;01mDeprecationWarning\u001b[39;00m, stacklevel\u001b[38;5;241m=\u001b[39m\u001b[38;5;241m3\u001b[39m)\n\u001b[1;32m-> 2846\u001b[0m c \u001b[38;5;241m=\u001b[39m cov(x, y, rowvar, dtype\u001b[38;5;241m=\u001b[39mdtype)\n\u001b[0;32m   2847\u001b[0m \u001b[38;5;28;01mtry\u001b[39;00m:\n\u001b[0;32m   2848\u001b[0m     d \u001b[38;5;241m=\u001b[39m diag(c)\n",
      "File \u001b[1;32m<__array_function__ internals>:200\u001b[0m, in \u001b[0;36mcov\u001b[1;34m(*args, **kwargs)\u001b[0m\n",
      "File \u001b[1;32m~\\anaconda3\\Lib\\site-packages\\numpy\\lib\\function_base.py:2616\u001b[0m, in \u001b[0;36mcov\u001b[1;34m(m, y, rowvar, bias, ddof, fweights, aweights, dtype)\u001b[0m\n\u001b[0;32m   2612\u001b[0m     \u001b[38;5;28;01mraise\u001b[39;00m \u001b[38;5;167;01mValueError\u001b[39;00m(\n\u001b[0;32m   2613\u001b[0m         \u001b[38;5;124m\"\u001b[39m\u001b[38;5;124mddof must be integer\u001b[39m\u001b[38;5;124m\"\u001b[39m)\n\u001b[0;32m   2615\u001b[0m \u001b[38;5;66;03m# Handles complex arrays too\u001b[39;00m\n\u001b[1;32m-> 2616\u001b[0m m \u001b[38;5;241m=\u001b[39m np\u001b[38;5;241m.\u001b[39masarray(m)\n\u001b[0;32m   2617\u001b[0m \u001b[38;5;28;01mif\u001b[39;00m m\u001b[38;5;241m.\u001b[39mndim \u001b[38;5;241m>\u001b[39m \u001b[38;5;241m2\u001b[39m:\n\u001b[0;32m   2618\u001b[0m     \u001b[38;5;28;01mraise\u001b[39;00m \u001b[38;5;167;01mValueError\u001b[39;00m(\u001b[38;5;124m\"\u001b[39m\u001b[38;5;124mm has more than 2 dimensions\u001b[39m\u001b[38;5;124m\"\u001b[39m)\n",
      "\u001b[1;31mValueError\u001b[0m: setting an array element with a sequence. The requested array has an inhomogeneous shape after 1 dimensions. The detected shape was (2,) + inhomogeneous part."
     ]
    }
   ],
   "source": [
    "a=np.array([1,2,3,4,5])\n",
    "b=np.array([3,4,5,6])\n",
    "c=np.array([93,48,102,111])\n",
    "print(a)\n",
    "print(b)\n",
    "print(c)\n",
    "np.corrcoef([a,c])"
   ]
  },
  {
   "cell_type": "code",
   "execution_count": null,
   "id": "1b85cd10",
   "metadata": {},
   "outputs": [],
   "source": [
    "np.corrcoef([a,b])"
   ]
  },
  {
   "cell_type": "code",
   "execution_count": null,
   "id": "2a765afd",
   "metadata": {},
   "outputs": [],
   "source": [
    "np.corrcoef([a,c])"
   ]
  },
  {
   "cell_type": "code",
   "execution_count": null,
   "id": "2eba3e69",
   "metadata": {},
   "outputs": [],
   "source": [
    "!pip install numpy"
   ]
  },
  {
   "cell_type": "code",
   "execution_count": null,
   "id": "da8bd1d7",
   "metadata": {},
   "outputs": [],
   "source": [
    "import numpy as np"
   ]
  },
  {
   "cell_type": "code",
   "execution_count": null,
   "id": "acecb189",
   "metadata": {},
   "outputs": [],
   "source": [
    "a=np.array([[[1,2,3],[4,5,6],[7,8,9]]])\n",
    "print(a)\n",
    "a.shape"
   ]
  },
  {
   "cell_type": "code",
   "execution_count": null,
   "id": "e5c32761",
   "metadata": {},
   "outputs": [],
   "source": [
    "# Accessing the element in the 2nd row, 3rd column of the first (and only) layer\n",
    "# Note: Indexing starts at 0, so 2nd row is index 1 and 3rd element is index 2\n",
    "a[0, 1, 2] = \"text\"\n",
    "\n",
    "print(a)\n"
   ]
  },
  {
   "cell_type": "code",
   "execution_count": null,
   "id": "fb0a4bc0",
   "metadata": {},
   "outputs": [],
   "source": [
    "y=[1,2,3,4]\n",
    "for i in range(0,len(y)):\n",
    "    y[i] = y[i]*4\n",
    "    print(y[i])"
   ]
  },
  {
   "cell_type": "code",
   "execution_count": null,
   "id": "1cdb4223",
   "metadata": {},
   "outputs": [],
   "source": [
    "z=np.array([1,2,3,4])\n",
    "z = z*4\n",
    "print(z)"
   ]
  },
  {
   "cell_type": "code",
   "execution_count": null,
   "id": "d345948d",
   "metadata": {},
   "outputs": [],
   "source": [
    "h=np.array([1,2,3,4,5,6,7,8,9,10])\n",
    "print(h)\n",
    "print(h.shape)\n",
    "print(h.ndim)\n"
   ]
  },
  {
   "cell_type": "code",
   "execution_count": 23,
   "id": "5956b7a9",
   "metadata": {},
   "outputs": [
    {
     "name": "stdout",
     "output_type": "stream",
     "text": [
      "Requirement already satisfied: numpy in c:\\users\\lenovo\\anaconda3\\lib\\site-packages (1.24.3)\n"
     ]
    },
    {
     "name": "stderr",
     "output_type": "stream",
     "text": [
      "WARNING: There was an error checking the latest version of pip.\n"
     ]
    }
   ],
   "source": [
    "!pip install numpy\n",
    "\n",
    "#when you are installing a library "
   ]
  },
  {
   "cell_type": "code",
   "execution_count": 25,
   "id": "a90c7db3",
   "metadata": {},
   "outputs": [
    {
     "name": "stdout",
     "output_type": "stream",
     "text": [
      "Python 3.11.5\n"
     ]
    }
   ],
   "source": [
    "!python --version"
   ]
  },
  {
   "cell_type": "code",
   "execution_count": 26,
   "id": "00b63cfa",
   "metadata": {},
   "outputs": [
    {
     "name": "stdout",
     "output_type": "stream",
     "text": [
      "1.24.3\n"
     ]
    }
   ],
   "source": [
    "import numpy as np\n",
    "print(np.__version__)"
   ]
  },
  {
   "cell_type": "code",
   "execution_count": null,
   "id": "4fe8deb4",
   "metadata": {},
   "outputs": [],
   "source": []
  },
  {
   "cell_type": "code",
   "execution_count": null,
   "id": "0d73784e",
   "metadata": {},
   "outputs": [],
   "source": []
  },
  {
   "cell_type": "code",
   "execution_count": null,
   "id": "6737d787",
   "metadata": {},
   "outputs": [],
   "source": []
  },
  {
   "cell_type": "code",
   "execution_count": null,
   "id": "c4ad7a4d",
   "metadata": {},
   "outputs": [],
   "source": []
  },
  {
   "cell_type": "code",
   "execution_count": null,
   "id": "eb50cbc5",
   "metadata": {},
   "outputs": [],
   "source": []
  },
  {
   "cell_type": "code",
   "execution_count": null,
   "id": "961b43d5",
   "metadata": {},
   "outputs": [],
   "source": []
  },
  {
   "cell_type": "code",
   "execution_count": null,
   "id": "95ada442",
   "metadata": {},
   "outputs": [],
   "source": []
  }
 ],
 "metadata": {
  "kernelspec": {
   "display_name": "Python 3 (ipykernel)",
   "language": "python",
   "name": "python3"
  },
  "language_info": {
   "codemirror_mode": {
    "name": "ipython",
    "version": 3
   },
   "file_extension": ".py",
   "mimetype": "text/x-python",
   "name": "python",
   "nbconvert_exporter": "python",
   "pygments_lexer": "ipython3",
   "version": "3.11.5"
  }
 },
 "nbformat": 4,
 "nbformat_minor": 5
}
