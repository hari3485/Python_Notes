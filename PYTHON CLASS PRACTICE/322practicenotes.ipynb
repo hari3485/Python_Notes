{
 "cells": [
  {
   "cell_type": "code",
   "execution_count": 4,
   "id": "1306b826",
   "metadata": {},
   "outputs": [
    {
     "name": "stdout",
     "output_type": "stream",
     "text": [
      "3.0\n",
      "10.5\n"
     ]
    }
   ],
   "source": [
    "x=15\n",
    "y=2\n",
    "x=x/y\n",
    "result=x//y\n",
    "print(result)\n",
    "result+=x\n",
    "print(result)  #test 1"
   ]
  },
  {
   "cell_type": "code",
   "execution_count": 5,
   "id": "bac5c467",
   "metadata": {},
   "outputs": [
    {
     "name": "stdout",
     "output_type": "stream",
     "text": [
      "10.5\n"
     ]
    }
   ],
   "source": [
    "x = 15\n",
    "y = 2\n",
    "x = x / y\n",
    "result=x //y\n",
    "result+=x\n",
    "print(result)\n"
   ]
  },
  {
   "cell_type": "code",
   "execution_count": 17,
   "id": "53d81063",
   "metadata": {},
   "outputs": [
    {
     "name": "stdout",
     "output_type": "stream",
     "text": [
      "140726387708776\n",
      "140726387708776\n",
      "True\n"
     ]
    }
   ],
   "source": [
    "\n",
    "a=3\n",
    "b=3\n",
    "print(id(a))\n",
    "print(id(b))\n",
    "print(a is b)               # HERE when the range of integer is between (-5 to 256) there will be same memory hence it shows true"
   ]
  },
  {
   "cell_type": "code",
   "execution_count": 15,
   "id": "9685a980",
   "metadata": {},
   "outputs": [
    {
     "name": "stdout",
     "output_type": "stream",
     "text": [
      "1960126787504\n",
      "1960126781712\n"
     ]
    },
    {
     "data": {
      "text/plain": [
       "False"
      ]
     },
     "execution_count": 15,
     "metadata": {},
     "output_type": "execute_result"
    }
   ],
   "source": [
    "a=257\n",
    "b=257\n",
    "print(id(a))\n",
    "print(id(b))\n",
    "print(a is b)        #HERE when the range of integer is not in  between (-5 to 256) there will be different memory hence it shows true"
   ]
  },
  {
   "cell_type": "code",
   "execution_count": null,
   "id": "cbcb9c8d",
   "metadata": {},
   "outputs": [],
   "source": [
    "a=3.0\n",
    "b=3.0\n",
    "print(id(a))\n",
    "print(id(b))\n",
    "a is b               #In Built it self there will be different memory allocation. "
   ]
  },
  {
   "cell_type": "code",
   "execution_count": 19,
   "id": "f31ef288",
   "metadata": {},
   "outputs": [
    {
     "name": "stdout",
     "output_type": "stream",
     "text": [
      "jkdsklkdkmsblxnkx\n",
      "jkdsklkdkmsblxnkx\n",
      "1960127891456\n",
      "1960127891456\n",
      "True\n"
     ]
    }
   ],
   "source": [
    "a=\"jkdsklkdkmsblxnkx\"\n",
    "b=\"jkdsklkdkmsblxnkx\"\n",
    "print(a)\n",
    "print(b)\n",
    "print(id(a))\n",
    "print(id(b))\n",
    "print(a is b)"
   ]
  },
  {
   "cell_type": "code",
   "execution_count": 21,
   "id": "b1d85006",
   "metadata": {},
   "outputs": [
    {
     "name": "stdout",
     "output_type": "stream",
     "text": [
      "1960127896576\n",
      "1960127895216\n",
      "False\n"
     ]
    }
   ],
   "source": [
    "a=\"mani and hari both are friends\"\n",
    "b=\"mani and hari both are friends\"\n",
    "print(id(a))\n",
    "print(id(b))\n",
    "print(a is b)"
   ]
  },
  {
   "cell_type": "code",
   "execution_count": 4,
   "id": "b9b4396d",
   "metadata": {},
   "outputs": [
    {
     "name": "stdout",
     "output_type": "stream",
     "text": [
      "nadnahc irah\n",
      "\n"
     ]
    }
   ],
   "source": [
    "a=\"hari chandan\"\n",
    "print(a[len(a)::-1]) #here our step size is negative so frst element we have to take len(a) and then calculating -1 printng from left side "
   ]
  },
  {
   "cell_type": "code",
   "execution_count": 5,
   "id": "74849a9c",
   "metadata": {},
   "outputs": [
    {
     "name": "stdout",
     "output_type": "stream",
     "text": [
      "\n"
     ]
    }
   ],
   "source": [
    "print(a[:len(a):-1]) #we are taking indexing negative so we cant give in the middle we cannot go right side we can only do left to right in negatiuve indexing"
   ]
  },
  {
   "cell_type": "code",
   "execution_count": 8,
   "id": "ca77946c",
   "metadata": {},
   "outputs": [
    {
     "data": {
      "text/plain": [
       "97"
      ]
     },
     "execution_count": 8,
     "metadata": {},
     "output_type": "execute_result"
    }
   ],
   "source": [
    "ord(\"a\")#ascii values"
   ]
  },
  {
   "cell_type": "code",
   "execution_count": 9,
   "id": "9f6ebb2c",
   "metadata": {},
   "outputs": [
    {
     "data": {
      "text/plain": [
       "128512"
      ]
     },
     "execution_count": 9,
     "metadata": {},
     "output_type": "execute_result"
    }
   ],
   "source": [
    "ord(\"😀\") #returns uni code"
   ]
  },
  {
   "cell_type": "code",
   "execution_count": 15,
   "id": "ecd2489c",
   "metadata": {},
   "outputs": [
    {
     "data": {
      "text/plain": [
       "'😀😀😀😀😀😀😀😀😀😀😀😀😀😀😀😀😀😀😀😀😀😀😀😀😀😀😀😀😀😀😀😀😀😀😀😀😀😀😀😀😀😀😀😀😀😀😀😀😀😀😀😀😀😀😀😀😀😀😀😀😀😀😀😀😀😀😀😀😀😀😀😀😀😀😀😀😀😀😀😀😀😀😀😀😀😀😀😀😀😀😀😀😀😀😀😀😀😀😀😀😀😀😀😀😀😀😀😀😀😀😀😀😀😀😀😀😀😀😀😀😀😀😀😀😀😀😀😀😀😀😀😀😀😀😀😀😀😀😀😀😀😀😀😀😀😀😀😀😀😀😀😀😀😀😀😀😀😀😀😀😀😀😀😀😀😀😀😀😀😀😀😀😀😀😀😀😀😀😀😀😀😀😀😀😀😀😀😀😀😀😀😀😀😀😀😀😀😀😀😀😀😀😀😀😀😀😀😀😀😀😀😀😀😀😀😀😀😀😀😀😀😀😀😀😀😀😀😀😀😀😀😀😀😀😀😀😀😀😀😀😀😀😀😀😀😀😀😀😀'"
      ]
     },
     "execution_count": 15,
     "metadata": {},
     "output_type": "execute_result"
    }
   ],
   "source": [
    "chr(128512)*249"
   ]
  },
  {
   "cell_type": "code",
   "execution_count": 16,
   "id": "e9dddab0",
   "metadata": {},
   "outputs": [
    {
     "data": {
      "text/plain": [
       "'0b11111011000000000'"
      ]
     },
     "execution_count": 16,
     "metadata": {},
     "output_type": "execute_result"
    }
   ],
   "source": [
    "bin(128512)"
   ]
  },
  {
   "cell_type": "code",
   "execution_count": null,
   "id": "31157cea",
   "metadata": {},
   "outputs": [],
   "source": [
    "#membership operators"
   ]
  },
  {
   "cell_type": "code",
   "execution_count": 20,
   "id": "9717adce",
   "metadata": {},
   "outputs": [
    {
     "name": "stdout",
     "output_type": "stream",
     "text": [
      "chintu pappu\n"
     ]
    },
    {
     "data": {
      "text/plain": [
       "False"
      ]
     },
     "execution_count": 20,
     "metadata": {},
     "output_type": "execute_result"
    }
   ],
   "source": [
    "a=\"chintu pappu\"\n",
    "print(a)\n",
    "\"inti\" in a"
   ]
  },
  {
   "cell_type": "code",
   "execution_count": 22,
   "id": "ad3c645f",
   "metadata": {},
   "outputs": [
    {
     "name": "stdout",
     "output_type": "stream",
     "text": [
      "chintu pappu\n",
      "CHINTU PAPPU\n"
     ]
    }
   ],
   "source": [
    "a=\"chintu pappu\"\n",
    "print(a)"
   ]
  },
  {
   "cell_type": "code",
   "execution_count": 25,
   "id": "eb5ba420",
   "metadata": {},
   "outputs": [
    {
     "name": "stdout",
     "output_type": "stream",
     "text": [
      "CHINTU PAPPU\n"
     ]
    }
   ],
   "source": [
    "print(a.upper())#makes every character into uppercase"
   ]
  },
  {
   "cell_type": "code",
   "execution_count": 23,
   "id": "9cd2cd66",
   "metadata": {},
   "outputs": [
    {
     "name": "stdout",
     "output_type": "stream",
     "text": [
      "Chintu pappu\n"
     ]
    }
   ],
   "source": [
    "print(a.capitalize())#capitalises first letter in the string"
   ]
  },
  {
   "cell_type": "code",
   "execution_count": 24,
   "id": "685b50ff",
   "metadata": {},
   "outputs": [
    {
     "name": "stdout",
     "output_type": "stream",
     "text": [
      "Chintu Pappu\n"
     ]
    }
   ],
   "source": [
    "print(a.title())#capitalizes the frst letter of every word in string"
   ]
  },
  {
   "cell_type": "code",
   "execution_count": 30,
   "id": "1aa27494",
   "metadata": {},
   "outputs": [
    {
     "data": {
      "text/plain": [
       "1"
      ]
     },
     "execution_count": 30,
     "metadata": {},
     "output_type": "execute_result"
    }
   ],
   "source": [
    "a.count(\"t\")#it \"counts\" the occurrences of a paticular letter"
   ]
  },
  {
   "cell_type": "code",
   "execution_count": 31,
   "id": "62d7f707",
   "metadata": {},
   "outputs": [
    {
     "data": {
      "text/plain": [
       "False"
      ]
     },
     "execution_count": 31,
     "metadata": {},
     "output_type": "execute_result"
    }
   ],
   "source": [
    "a.startswith(\"k\")#checks whether string \"starts\" with the particualr given letter or not"
   ]
  },
  {
   "cell_type": "code",
   "execution_count": 32,
   "id": "29171a9c",
   "metadata": {},
   "outputs": [
    {
     "data": {
      "text/plain": [
       "True"
      ]
     },
     "execution_count": 32,
     "metadata": {},
     "output_type": "execute_result"
    }
   ],
   "source": [
    "a.endswith(\"u\")#checks whether string \"ends\" with the particualr given letter or not"
   ]
  },
  {
   "cell_type": "code",
   "execution_count": 33,
   "id": "a4f860ba",
   "metadata": {},
   "outputs": [
    {
     "data": {
      "text/plain": [
       "4"
      ]
     },
     "execution_count": 33,
     "metadata": {},
     "output_type": "execute_result"
    }
   ],
   "source": [
    "a.find(\"t\")#finds the index value of character  in the given string"
   ]
  },
  {
   "cell_type": "code",
   "execution_count": 40,
   "id": "5d8bdcb7",
   "metadata": {},
   "outputs": [
    {
     "data": {
      "text/plain": [
       "-12"
      ]
     },
     "execution_count": 40,
     "metadata": {},
     "output_type": "execute_result"
    }
   ],
   "source": [
    "a=\"chintu pappu\"\n",
    "a.find(\"c\")-len(a)"
   ]
  },
  {
   "cell_type": "code",
   "execution_count": 44,
   "id": "fb4bfb79",
   "metadata": {},
   "outputs": [
    {
     "data": {
      "text/plain": [
       "10"
      ]
     },
     "execution_count": 44,
     "metadata": {},
     "output_type": "execute_result"
    }
   ],
   "source": [
    "a.find(\"p\",10)#prints the index of fisrt \"p\" then its consecutive \"p\"s"
   ]
  },
  {
   "cell_type": "code",
   "execution_count": 45,
   "id": "34730690",
   "metadata": {},
   "outputs": [
    {
     "data": {
      "text/plain": [
       "7"
      ]
     },
     "execution_count": 45,
     "metadata": {},
     "output_type": "execute_result"
    }
   ],
   "source": [
    "a.find(\"p\")#when we have duplicates it prints frst letter"
   ]
  },
  {
   "cell_type": "code",
   "execution_count": 47,
   "id": "954e176f",
   "metadata": {},
   "outputs": [
    {
     "name": "stdout",
     "output_type": "stream",
     "text": [
      "panchabatla sarangapaani\n"
     ]
    }
   ],
   "source": [
    "name=\"panchabatla sarangapaani\"\n",
    "print(name)"
   ]
  },
  {
   "cell_type": "code",
   "execution_count": 48,
   "id": "0e603ffd",
   "metadata": {},
   "outputs": [
    {
     "data": {
      "text/plain": [
       "'panchabatla '"
      ]
     },
     "execution_count": 48,
     "metadata": {},
     "output_type": "execute_result"
    }
   ],
   "source": [
    "name[:12]"
   ]
  },
  {
   "cell_type": "code",
   "execution_count": 49,
   "id": "ba0b176a",
   "metadata": {},
   "outputs": [
    {
     "data": {
      "text/plain": [
       "11"
      ]
     },
     "execution_count": 49,
     "metadata": {},
     "output_type": "execute_result"
    }
   ],
   "source": [
    "name.find(\" \")"
   ]
  },
  {
   "cell_type": "code",
   "execution_count": 50,
   "id": "7184a454",
   "metadata": {},
   "outputs": [
    {
     "data": {
      "text/plain": [
       "'panchabatla'"
      ]
     },
     "execution_count": 50,
     "metadata": {},
     "output_type": "execute_result"
    }
   ],
   "source": [
    "name[:name.find(\" \")]#finds the space in order to get surname we can use this logic"
   ]
  },
  {
   "cell_type": "code",
   "execution_count": 51,
   "id": "d245e144",
   "metadata": {},
   "outputs": [
    {
     "data": {
      "text/plain": [
       "-13"
      ]
     },
     "execution_count": 51,
     "metadata": {},
     "output_type": "execute_result"
    }
   ],
   "source": [
    "name.find(\" \")-len(name)"
   ]
  },
  {
   "cell_type": "code",
   "execution_count": 55,
   "id": "c2a3638e",
   "metadata": {},
   "outputs": [
    {
     "data": {
      "text/plain": [
       "'sarangapaani'"
      ]
     },
     "execution_count": 55,
     "metadata": {},
     "output_type": "execute_result"
    }
   ],
   "source": [
    "name[len(name)-name.find(\" \")-1:]"
   ]
  },
  {
   "cell_type": "code",
   "execution_count": 57,
   "id": "58151c18",
   "metadata": {},
   "outputs": [
    {
     "data": {
      "text/plain": [
       "'sarangapaani'"
      ]
     },
     "execution_count": 57,
     "metadata": {},
     "output_type": "execute_result"
    }
   ],
   "source": [
    "name[name.find(\" \")+1:]"
   ]
  },
  {
   "cell_type": "code",
   "execution_count": 58,
   "id": "81294840",
   "metadata": {},
   "outputs": [
    {
     "data": {
      "text/plain": [
       "12"
      ]
     },
     "execution_count": 58,
     "metadata": {},
     "output_type": "execute_result"
    }
   ],
   "source": [
    "name.find(\"s\")"
   ]
  },
  {
   "cell_type": "code",
   "execution_count": 59,
   "id": "3557306f",
   "metadata": {},
   "outputs": [
    {
     "data": {
      "text/plain": [
       "12"
      ]
     },
     "execution_count": 59,
     "metadata": {},
     "output_type": "execute_result"
    }
   ],
   "source": [
    "name.index(\"s\")#same as find method index is also used to find the index value of the particular string"
   ]
  },
  {
   "cell_type": "code",
   "execution_count": 60,
   "id": "2f838982",
   "metadata": {},
   "outputs": [
    {
     "data": {
      "text/plain": [
       "-1"
      ]
     },
     "execution_count": 60,
     "metadata": {},
     "output_type": "execute_result"
    }
   ],
   "source": [
    "name.find(\"3\")#if the particular char is not present in the string it gives you  \"-1\" as the output"
   ]
  },
  {
   "cell_type": "code",
   "execution_count": 61,
   "id": "8684d68f",
   "metadata": {},
   "outputs": [
    {
     "ename": "ValueError",
     "evalue": "substring not found",
     "output_type": "error",
     "traceback": [
      "\u001b[1;31m---------------------------------------------------------------------------\u001b[0m",
      "\u001b[1;31mValueError\u001b[0m                                Traceback (most recent call last)",
      "Cell \u001b[1;32mIn[61], line 1\u001b[0m\n\u001b[1;32m----> 1\u001b[0m name\u001b[38;5;241m.\u001b[39mindex(\u001b[38;5;124m\"\u001b[39m\u001b[38;5;124m3\u001b[39m\u001b[38;5;124m\"\u001b[39m)\n",
      "\u001b[1;31mValueError\u001b[0m: substring not found"
     ]
    }
   ],
   "source": [
    "name.index(\"3\")     # if the particular char is not present in the string it gives you  \"error\" as the output"
   ]
  },
  {
   "cell_type": "code",
   "execution_count": 65,
   "id": "46467fad",
   "metadata": {},
   "outputs": [
    {
     "name": "stdout",
     "output_type": "stream",
     "text": [
      "25157687\n"
     ]
    },
    {
     "data": {
      "text/plain": [
       "False"
      ]
     },
     "execution_count": 65,
     "metadata": {},
     "output_type": "execute_result"
    }
   ],
   "source": [
    "name_num=\"25157687\"\n",
    "print(name_num)\n",
    "name_num.isdigit()\n",
    "name_num.isalpha()\n",
    "#checks wheather the string contains \"numbers or not\" if yes gives u boolean output"
   ]
  },
  {
   "cell_type": "code",
   "execution_count": 66,
   "id": "cb9e7710",
   "metadata": {},
   "outputs": [
    {
     "data": {
      "text/plain": [
       "'australia is my country'"
      ]
     },
     "execution_count": 66,
     "metadata": {},
     "output_type": "execute_result"
    }
   ],
   "source": [
    "string=\"india is my country\"\n",
    "string.replace(\"india\",\"australia\")"
   ]
  },
  {
   "cell_type": "code",
   "execution_count": 67,
   "id": "095cebef",
   "metadata": {},
   "outputs": [
    {
     "ename": "TypeError",
     "evalue": "'str' object does not support item assignment",
     "output_type": "error",
     "traceback": [
      "\u001b[1;31m---------------------------------------------------------------------------\u001b[0m",
      "\u001b[1;31mTypeError\u001b[0m                                 Traceback (most recent call last)",
      "Cell \u001b[1;32mIn[67], line 1\u001b[0m\n\u001b[1;32m----> 1\u001b[0m string[\u001b[38;5;241m0\u001b[39m]\u001b[38;5;241m=\u001b[39m\u001b[38;5;124m\"\u001b[39m\u001b[38;5;124mh\u001b[39m\u001b[38;5;124m\"\u001b[39m\n",
      "\u001b[1;31mTypeError\u001b[0m: 'str' object does not support item assignment"
     ]
    }
   ],
   "source": [
    "string[0]=\"h\"  #immutable"
   ]
  },
  {
   "cell_type": "code",
   "execution_count": 68,
   "id": "cd2a46d0",
   "metadata": {},
   "outputs": [
    {
     "data": {
      "text/plain": [
       "'sun is a star'"
      ]
     },
     "execution_count": 68,
     "metadata": {},
     "output_type": "execute_result"
    }
   ],
   "source": [
    "#ids of strings\n",
    "string=\"              sun is a star         \"#pdf to txt\n",
    "string.strip()\n",
    "\n"
   ]
  },
  {
   "cell_type": "code",
   "execution_count": 71,
   "id": "1e707f92",
   "metadata": {},
   "outputs": [
    {
     "name": "stdout",
     "output_type": "stream",
     "text": [
      "              sun is a star         \n",
      "sun is a star\n"
     ]
    }
   ],
   "source": [
    "string=\"              sun is a star         uuuu\" \n",
    "print(string.strip(\"u\"))\n",
    "print(string.strip(\"u\").strip())\n"
   ]
  },
  {
   "cell_type": "code",
   "execution_count": 74,
   "id": "8ad59ef9",
   "metadata": {},
   "outputs": [
    {
     "data": {
      "text/plain": [
       "'sun.is.a.star.uuuu'"
      ]
     },
     "execution_count": 74,
     "metadata": {},
     "output_type": "execute_result"
    }
   ],
   "source": [
    "string.split() #Splits the string into diffferent characters\n",
    "\"\".join(string.split())"
   ]
  },
  {
   "cell_type": "code",
   "execution_count": null,
   "id": "07cb5e9e",
   "metadata": {},
   "outputs": [],
   "source": [
    "\".\".join()"
   ]
  },
  {
   "cell_type": "code",
   "execution_count": 79,
   "id": "779d3758",
   "metadata": {},
   "outputs": [
    {
     "name": "stdout",
     "output_type": "stream",
     "text": [
      " addition of 55 and 89 is 144\n",
      " addition of 55 and 89 is 144\n"
     ]
    }
   ],
   "source": [
    "num1=55\n",
    "num2=89\n",
    "print(f\" addition of {num1} and {num2} is {num1+num2}\")\n",
    "print(\" addition of {0} and {1} is {2}\".format(num1,num2,num1+num2))"
   ]
  },
  {
   "cell_type": "code",
   "execution_count": 81,
   "id": "c5e3b43f",
   "metadata": {},
   "outputs": [
    {
     "name": "stdout",
     "output_type": "stream",
     "text": [
      "enter the value of radius7.8\n",
      "f area of circle with {user_num} is 191.21142857142854\n"
     ]
    }
   ],
   "source": [
    "#type casting\n",
    "user_num=float(input(\"enter the value of radius\"))\n",
    "pi=22/7\n",
    "area = print(\"f area of circle with {user_num} is\",user_num * pi * user_num)"
   ]
  },
  {
   "cell_type": "code",
   "execution_count": null,
   "id": "a4f8c29d",
   "metadata": {},
   "outputs": [],
   "source": [
    "#lists are collection of differet datatypes in []\n",
    "#lists are mutable \n",
    "#lists are ordered \n",
    "#lists can acess by indexing"
   ]
  },
  {
   "cell_type": "code",
   "execution_count": 1,
   "id": "05026728",
   "metadata": {},
   "outputs": [
    {
     "name": "stdout",
     "output_type": "stream",
     "text": [
      "[]\n"
     ]
    }
   ],
   "source": [
    "mt=[]\n",
    "print(mt)"
   ]
  },
  {
   "cell_type": "code",
   "execution_count": 2,
   "id": "54472c6c",
   "metadata": {},
   "outputs": [
    {
     "data": {
      "text/plain": [
       "list"
      ]
     },
     "execution_count": 2,
     "metadata": {},
     "output_type": "execute_result"
    }
   ],
   "source": [
    "type(mt)"
   ]
  },
  {
   "cell_type": "code",
   "execution_count": 3,
   "id": "e3171980",
   "metadata": {},
   "outputs": [
    {
     "name": "stdout",
     "output_type": "stream",
     "text": [
      "[2, 4, 5, 55, 5, 78]\n"
     ]
    }
   ],
   "source": [
    "lis=[2,4,5,55,5,78]\n",
    "print(lis)"
   ]
  },
  {
   "cell_type": "code",
   "execution_count": 5,
   "id": "400b5862",
   "metadata": {},
   "outputs": [
    {
     "data": {
      "text/plain": [
       "2"
      ]
     },
     "execution_count": 5,
     "metadata": {},
     "output_type": "execute_result"
    }
   ],
   "source": [
    "lis[0] #indexing"
   ]
  },
  {
   "cell_type": "code",
   "execution_count": 6,
   "id": "13080e5a",
   "metadata": {},
   "outputs": [
    {
     "data": {
      "text/plain": [
       "[5, 78]"
      ]
     },
     "execution_count": 6,
     "metadata": {},
     "output_type": "execute_result"
    }
   ],
   "source": [
    "lis[4:]"
   ]
  },
  {
   "cell_type": "code",
   "execution_count": 7,
   "id": "68558e6b",
   "metadata": {},
   "outputs": [
    {
     "data": {
      "text/plain": [
       "['a', 'p', 'p', 'l', 'e']"
      ]
     },
     "execution_count": 7,
     "metadata": {},
     "output_type": "execute_result"
    }
   ],
   "source": [
    "list(\"apple\")"
   ]
  },
  {
   "cell_type": "code",
   "execution_count": 9,
   "id": "ebd4765c",
   "metadata": {},
   "outputs": [
    {
     "name": "stdout",
     "output_type": "stream",
     "text": [
      "apple\n",
      "l\n"
     ]
    }
   ],
   "source": [
    "thanvi=[3.4,45,67,True,\"apple\"]\n",
    "print(thanvi[4])\n",
    "print(thanvi[4][3])"
   ]
  },
  {
   "cell_type": "code",
   "execution_count": 10,
   "id": "9341e465",
   "metadata": {},
   "outputs": [
    {
     "ename": "TypeError",
     "evalue": "'int' object is not subscriptable",
     "output_type": "error",
     "traceback": [
      "\u001b[1;31m---------------------------------------------------------------------------\u001b[0m",
      "\u001b[1;31mTypeError\u001b[0m                                 Traceback (most recent call last)",
      "Cell \u001b[1;32mIn[10], line 1\u001b[0m\n\u001b[1;32m----> 1\u001b[0m \u001b[38;5;28mprint\u001b[39m(thanvi[\u001b[38;5;241m2\u001b[39m][\u001b[38;5;241m0\u001b[39m])\n",
      "\u001b[1;31mTypeError\u001b[0m: 'int' object is not subscriptable"
     ]
    }
   ],
   "source": [
    "print(thanvi[2][0])#inytegers cannot acess indexing"
   ]
  },
  {
   "cell_type": "code",
   "execution_count": 11,
   "id": "29c285fc",
   "metadata": {},
   "outputs": [
    {
     "data": {
      "text/plain": [
       "78"
      ]
     },
     "execution_count": 11,
     "metadata": {},
     "output_type": "execute_result"
    }
   ],
   "source": [
    "lis[-1]"
   ]
  },
  {
   "cell_type": "code",
   "execution_count": 12,
   "id": "99bd76a7",
   "metadata": {},
   "outputs": [
    {
     "data": {
      "text/plain": [
       "6"
      ]
     },
     "execution_count": 12,
     "metadata": {},
     "output_type": "execute_result"
    }
   ],
   "source": [
    "len(lis)"
   ]
  },
  {
   "cell_type": "code",
   "execution_count": 13,
   "id": "757565e8",
   "metadata": {},
   "outputs": [
    {
     "data": {
      "text/plain": [
       "range(0, 10)"
      ]
     },
     "execution_count": 13,
     "metadata": {},
     "output_type": "execute_result"
    }
   ],
   "source": [
    "range(10)"
   ]
  },
  {
   "cell_type": "code",
   "execution_count": 21,
   "id": "83c0d284",
   "metadata": {},
   "outputs": [
    {
     "name": "stdout",
     "output_type": "stream",
     "text": [
      "[0, 5, 10]\n",
      "[0, 5]\n"
     ]
    }
   ],
   "source": [
    "print(list(range(0,11,5)))\n",
    "print(list(range(0,11,5))[:2])"
   ]
  },
  {
   "cell_type": "code",
   "execution_count": 23,
   "id": "7aab6444",
   "metadata": {},
   "outputs": [
    {
     "name": "stdout",
     "output_type": "stream",
     "text": [
      "[1, 33, 455, [2, 3, 456, 6777]]\n"
     ]
    }
   ],
   "source": [
    "nest_lis=[1,33,455,[2,3,456,6777]]\n",
    "print(nest_lis)"
   ]
  },
  {
   "cell_type": "code",
   "execution_count": 26,
   "id": "61753623",
   "metadata": {},
   "outputs": [
    {
     "data": {
      "text/plain": [
       "6777"
      ]
     },
     "execution_count": 26,
     "metadata": {},
     "output_type": "execute_result"
    }
   ],
   "source": [
    "nest_lis[3][3]"
   ]
  },
  {
   "cell_type": "code",
   "execution_count": 36,
   "id": "ceda34a5",
   "metadata": {},
   "outputs": [
    {
     "data": {
      "text/plain": [
       "1234"
      ]
     },
     "execution_count": 36,
     "metadata": {},
     "output_type": "execute_result"
    }
   ],
   "source": [
    "nes_lis=[1,33,455,[2,3,456,6777,[[1234]]]]\n",
    "nes_lis[3][4][0][0]"
   ]
  },
  {
   "cell_type": "code",
   "execution_count": null,
   "id": "4baccaf3",
   "metadata": {},
   "outputs": [],
   "source": [
    "#built in methods"
   ]
  },
  {
   "cell_type": "code",
   "execution_count": 38,
   "id": "74b84d1e",
   "metadata": {},
   "outputs": [],
   "source": [
    "nes_lis.append(9)"
   ]
  },
  {
   "cell_type": "code",
   "execution_count": 39,
   "id": "8a675dbc",
   "metadata": {},
   "outputs": [],
   "source": [
    "nes_lis.append(10)"
   ]
  },
  {
   "cell_type": "code",
   "execution_count": 40,
   "id": "85881ccd",
   "metadata": {},
   "outputs": [
    {
     "data": {
      "text/plain": [
       "[1, 33, 455, [2, 3, 456, 6777, [[1234]]], 9, 10]"
      ]
     },
     "execution_count": 40,
     "metadata": {},
     "output_type": "execute_result"
    }
   ],
   "source": [
    "nes_lis"
   ]
  },
  {
   "cell_type": "code",
   "execution_count": 41,
   "id": "fd611244",
   "metadata": {},
   "outputs": [],
   "source": [
    "nes_lis[3]=\"chintu babu\""
   ]
  },
  {
   "cell_type": "code",
   "execution_count": 42,
   "id": "5bbe3430",
   "metadata": {},
   "outputs": [
    {
     "data": {
      "text/plain": [
       "[1, 33, 455, 'chintu babu', 9, 10]"
      ]
     },
     "execution_count": 42,
     "metadata": {},
     "output_type": "execute_result"
    }
   ],
   "source": [
    "nes_lis"
   ]
  },
  {
   "cell_type": "code",
   "execution_count": 44,
   "id": "3ad4360e",
   "metadata": {},
   "outputs": [],
   "source": [
    "del nes_lis[-2]#cannot stores del element"
   ]
  },
  {
   "cell_type": "code",
   "execution_count": 45,
   "id": "84001d20",
   "metadata": {},
   "outputs": [
    {
     "data": {
      "text/plain": [
       "[1, 33, 455, 'chintu babu', 10]"
      ]
     },
     "execution_count": 45,
     "metadata": {},
     "output_type": "execute_result"
    }
   ],
   "source": [
    "nes_lis"
   ]
  },
  {
   "cell_type": "code",
   "execution_count": 54,
   "id": "f21eb59c",
   "metadata": {},
   "outputs": [
    {
     "name": "stdout",
     "output_type": "stream",
     "text": [
      "[4, 56, 7] first list location:  0x224f28c6fc0\n",
      "[4, 56, 7] 2nd list location:  0x224f28c6fc0\n",
      "first list: [4, 56, 45] second list: [4, 56, 45]\n"
     ]
    }
   ],
   "source": [
    "lst=[4,56,7]\n",
    "print(lst,\"first list\",\"location: \",hex(id(lst)))\n",
    "lst2=lst\n",
    "print(lst2,\"2nd list\",\"location: \",hex(id(lst2)))\n",
    "lst[2]=45\n",
    "print(\"first list:\", lst,\"second list:\",lst2)"
   ]
  },
  {
   "cell_type": "code",
   "execution_count": 5,
   "id": "7e82b23a",
   "metadata": {},
   "outputs": [
    {
     "name": "stdout",
     "output_type": "stream",
     "text": [
      "[1, 2, 2, 3, 'hari', 4.5]\n",
      "[]\n"
     ]
    }
   ],
   "source": [
    "List=[1,2,2,3,\"hari\",4.5]\n",
    "print(List)\n",
    "List.clear()\n",
    "print(List)"
   ]
  },
  {
   "cell_type": "code",
   "execution_count": 24,
   "id": "54b724c9",
   "metadata": {},
   "outputs": [
    {
     "ename": "ValueError",
     "evalue": "23 is not in list",
     "output_type": "error",
     "traceback": [
      "\u001b[1;31m---------------------------------------------------------------------------\u001b[0m",
      "\u001b[1;31mValueError\u001b[0m                                Traceback (most recent call last)",
      "Cell \u001b[1;32mIn[24], line 2\u001b[0m\n\u001b[0;32m      1\u001b[0m sample_list\u001b[38;5;241m=\u001b[39m[\u001b[38;5;241m1\u001b[39m,\u001b[38;5;241m23\u001b[39m,\u001b[38;5;241m34\u001b[39m,[\u001b[38;5;241m6\u001b[39m,\u001b[38;5;241m45\u001b[39m,\u001b[38;5;241m89\u001b[39m,\u001b[38;5;241m23\u001b[39m,\u001b[38;5;241m3\u001b[39m,\u001b[38;5;241m8\u001b[39m],\u001b[38;5;241m21.3\u001b[39m]\n\u001b[1;32m----> 2\u001b[0m sample_list\u001b[38;5;241m.\u001b[39mindex(\u001b[38;5;241m23\u001b[39m, \u001b[38;5;241m5\u001b[39m)\n",
      "\u001b[1;31mValueError\u001b[0m: 23 is not in list"
     ]
    }
   ],
   "source": [
    "sample_list=[1,23,34,[6,45,89,23,3,8],21.3]\n",
    "sample_list.index(23, 5)"
   ]
  },
  {
   "cell_type": "code",
   "execution_count": 23,
   "id": "651af6f7",
   "metadata": {},
   "outputs": [
    {
     "ename": "ValueError",
     "evalue": "23 is not in list",
     "output_type": "error",
     "traceback": [
      "\u001b[1;31m---------------------------------------------------------------------------\u001b[0m",
      "\u001b[1;31mValueError\u001b[0m                                Traceback (most recent call last)",
      "Cell \u001b[1;32mIn[23], line 1\u001b[0m\n\u001b[1;32m----> 1\u001b[0m sample_list\u001b[38;5;241m.\u001b[39mindex(\u001b[38;5;241m23\u001b[39m,\u001b[38;5;241m3\u001b[39m)\n",
      "\u001b[1;31mValueError\u001b[0m: 23 is not in list"
     ]
    }
   ],
   "source": [
    "sample_list.index(23,3)"
   ]
  },
  {
   "cell_type": "code",
   "execution_count": 28,
   "id": "35110f7c",
   "metadata": {},
   "outputs": [
    {
     "data": {
      "text/plain": [
       "6"
      ]
     },
     "execution_count": 28,
     "metadata": {},
     "output_type": "execute_result"
    }
   ],
   "source": [
    "sample_list = [1,4,2,6,[2,6,9,4],3,4,8]\n",
    "sample_list.index(4,3)"
   ]
  },
  {
   "cell_type": "code",
   "execution_count": 9,
   "id": "2bce2104",
   "metadata": {},
   "outputs": [
    {
     "data": {
      "text/plain": [
       "32"
      ]
     },
     "execution_count": 9,
     "metadata": {},
     "output_type": "execute_result"
    }
   ],
   "source": [
    "ord(\" \")"
   ]
  },
  {
   "cell_type": "code",
   "execution_count": null,
   "id": "3aa5f758",
   "metadata": {},
   "outputs": [],
   "source": []
  },
  {
   "cell_type": "code",
   "execution_count": 2,
   "id": "4950e0fd",
   "metadata": {},
   "outputs": [
    {
     "name": "stdout",
     "output_type": "stream",
     "text": [
      "104\n",
      "101\n",
      "108\n",
      "111\n",
      "119\n",
      "114\n",
      "100\n"
     ]
    }
   ],
   "source": [
    "print(ord(\"h\"))\n",
    "print(ord(\"e\"))\n",
    "print(ord(\"l\"))\n",
    "print(ord(\"o\"))\n",
    "print(ord(\"w\"))\n",
    "print(ord(\"r\"))\n",
    "print(ord(\"d\"))"
   ]
  },
  {
   "cell_type": "code",
   "execution_count": 11,
   "id": "58d9eab5",
   "metadata": {},
   "outputs": [
    {
     "data": {
      "text/plain": [
       "'hello world'"
      ]
     },
     "execution_count": 11,
     "metadata": {},
     "output_type": "execute_result"
    }
   ],
   "source": [
    "chr(104)+chr(101)+chr(108)+chr(108)+chr(111)+chr(32)+chr(119)+chr(111)+chr(114)+chr(108)+chr(100)"
   ]
  },
  {
   "cell_type": "code",
   "execution_count": 13,
   "id": "9d37b57e",
   "metadata": {},
   "outputs": [
    {
     "data": {
      "text/plain": [
       "65"
      ]
     },
     "execution_count": 13,
     "metadata": {},
     "output_type": "execute_result"
    }
   ],
   "source": []
  }
 ],
 "metadata": {
  "kernelspec": {
   "display_name": "Python 3 (ipykernel)",
   "language": "python",
   "name": "python3"
  },
  "language_info": {
   "codemirror_mode": {
    "name": "ipython",
    "version": 3
   },
   "file_extension": ".py",
   "mimetype": "text/x-python",
   "name": "python",
   "nbconvert_exporter": "python",
   "pygments_lexer": "ipython3",
   "version": "3.11.5"
  }
 },
 "nbformat": 4,
 "nbformat_minor": 5
}
