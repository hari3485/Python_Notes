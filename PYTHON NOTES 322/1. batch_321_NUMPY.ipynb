{
 "cells": [
  {
   "cell_type": "code",
   "execution_count": 1,
   "id": "e40af07b",
   "metadata": {},
   "outputs": [],
   "source": [
    "import numpy as np"
   ]
  },
  {
   "cell_type": "code",
   "execution_count": 2,
   "id": "d9fc4e3c",
   "metadata": {},
   "outputs": [],
   "source": [
    "arr = np.array([[1,2,3,4,5], [6,7,8,9,10]])"
   ]
  },
  {
   "cell_type": "code",
   "execution_count": 3,
   "id": "25da6957",
   "metadata": {},
   "outputs": [
    {
     "data": {
      "text/plain": [
       "array([[ 1,  2,  3,  4,  5],\n",
       "       [ 6,  7,  8,  9, 10]])"
      ]
     },
     "execution_count": 3,
     "metadata": {},
     "output_type": "execute_result"
    }
   ],
   "source": [
    "arr"
   ]
  },
  {
   "cell_type": "code",
   "execution_count": 4,
   "id": "a0e15b5b",
   "metadata": {},
   "outputs": [
    {
     "data": {
      "text/plain": [
       "array([ 7,  9, 11, 13, 15])"
      ]
     },
     "execution_count": 4,
     "metadata": {},
     "output_type": "execute_result"
    }
   ],
   "source": [
    "np.sum(arr, axis =0)"
   ]
  },
  {
   "cell_type": "code",
   "execution_count": 5,
   "id": "ecb9f55d",
   "metadata": {},
   "outputs": [
    {
     "ename": "SyntaxError",
     "evalue": "invalid syntax (539791691.py, line 1)",
     "output_type": "error",
     "traceback": [
      "\u001b[1;36m  Cell \u001b[1;32mIn[5], line 1\u001b[1;36m\u001b[0m\n\u001b[1;33m    np.(arr, axis =0)\u001b[0m\n\u001b[1;37m       ^\u001b[0m\n\u001b[1;31mSyntaxError\u001b[0m\u001b[1;31m:\u001b[0m invalid syntax\n"
     ]
    }
   ],
   "source": [
    "np.(arr, axis =0)"
   ]
  },
  {
   "cell_type": "code",
   "execution_count": null,
   "id": "13712ab9",
   "metadata": {},
   "outputs": [],
   "source": [
    "arr.shape"
   ]
  },
  {
   "cell_type": "code",
   "execution_count": null,
   "id": "29dcbbcd",
   "metadata": {},
   "outputs": [],
   "source": [
    "arr.size"
   ]
  },
  {
   "cell_type": "code",
   "execution_count": null,
   "id": "701b10bd",
   "metadata": {},
   "outputs": [],
   "source": []
  },
  {
   "cell_type": "code",
   "execution_count": null,
   "id": "7c022155",
   "metadata": {},
   "outputs": [],
   "source": [
    "arr+2"
   ]
  },
  {
   "cell_type": "code",
   "execution_count": null,
   "id": "b1336a3f",
   "metadata": {},
   "outputs": [],
   "source": [
    "arr"
   ]
  },
  {
   "cell_type": "code",
   "execution_count": null,
   "id": "5c1381cc",
   "metadata": {},
   "outputs": [],
   "source": [
    "s = \"svfuwebdhe\""
   ]
  },
  {
   "cell_type": "code",
   "execution_count": null,
   "id": "d5e3c47f",
   "metadata": {},
   "outputs": [],
   "source": [
    "s+\"sdhgfygw\""
   ]
  },
  {
   "cell_type": "code",
   "execution_count": null,
   "id": "8de4cbbb",
   "metadata": {},
   "outputs": [],
   "source": [
    "s"
   ]
  },
  {
   "cell_type": "code",
   "execution_count": null,
   "id": "9b502c54",
   "metadata": {},
   "outputs": [],
   "source": [
    "arr[1][2] = 20"
   ]
  },
  {
   "cell_type": "code",
   "execution_count": null,
   "id": "67855d50",
   "metadata": {},
   "outputs": [],
   "source": [
    "arr"
   ]
  },
  {
   "cell_type": "code",
   "execution_count": null,
   "id": "a20411ff",
   "metadata": {},
   "outputs": [],
   "source": [
    "s[0] = \"e\""
   ]
  },
  {
   "cell_type": "code",
   "execution_count": null,
   "id": "a8534370",
   "metadata": {},
   "outputs": [],
   "source": [
    "arr"
   ]
  },
  {
   "cell_type": "code",
   "execution_count": null,
   "id": "f8d4362c",
   "metadata": {},
   "outputs": [],
   "source": [
    "lst = [1,2,2,3,456]"
   ]
  },
  {
   "cell_type": "code",
   "execution_count": null,
   "id": "b7f6cc38",
   "metadata": {},
   "outputs": [],
   "source": [
    "lst.append(9)"
   ]
  },
  {
   "cell_type": "code",
   "execution_count": null,
   "id": "4ad2a2fe",
   "metadata": {},
   "outputs": [],
   "source": [
    "lst"
   ]
  },
  {
   "cell_type": "code",
   "execution_count": null,
   "id": "aa0499fc",
   "metadata": {},
   "outputs": [],
   "source": [
    "lst + [21+345]"
   ]
  },
  {
   "cell_type": "code",
   "execution_count": null,
   "id": "e3ed9cb8",
   "metadata": {},
   "outputs": [],
   "source": [
    "lst"
   ]
  },
  {
   "cell_type": "code",
   "execution_count": null,
   "id": "2ee80b2d",
   "metadata": {},
   "outputs": [],
   "source": [
    "lst1 = [4,5,6,7,8]"
   ]
  },
  {
   "cell_type": "code",
   "execution_count": null,
   "id": "921e84bd",
   "metadata": {},
   "outputs": [],
   "source": [
    "lst +lst1"
   ]
  },
  {
   "cell_type": "code",
   "execution_count": null,
   "id": "31495d0f",
   "metadata": {},
   "outputs": [],
   "source": [
    "lst"
   ]
  },
  {
   "cell_type": "code",
   "execution_count": null,
   "id": "b45794ed",
   "metadata": {},
   "outputs": [],
   "source": [
    "lst[0] = 34"
   ]
  },
  {
   "cell_type": "code",
   "execution_count": null,
   "id": "29138d92",
   "metadata": {},
   "outputs": [],
   "source": [
    "lst"
   ]
  },
  {
   "cell_type": "code",
   "execution_count": null,
   "id": "16577b19",
   "metadata": {},
   "outputs": [],
   "source": [
    "arr = np.array([[1,2,3,4,5, \"5\"], [6,7,8,9,10, 9.0]])"
   ]
  },
  {
   "cell_type": "code",
   "execution_count": null,
   "id": "f9c3ee3b",
   "metadata": {},
   "outputs": [],
   "source": [
    "arr.dtype"
   ]
  },
  {
   "cell_type": "code",
   "execution_count": null,
   "id": "4f93e202",
   "metadata": {},
   "outputs": [],
   "source": [
    "arr.size"
   ]
  },
  {
   "cell_type": "code",
   "execution_count": null,
   "id": "2fe6a866",
   "metadata": {},
   "outputs": [],
   "source": [
    "arr.itemsize"
   ]
  },
  {
   "cell_type": "code",
   "execution_count": null,
   "id": "95cd6d67",
   "metadata": {},
   "outputs": [],
   "source": [
    "arr.nbytes"
   ]
  },
  {
   "cell_type": "code",
   "execution_count": null,
   "id": "075ded7e",
   "metadata": {},
   "outputs": [],
   "source": [
    "128*12"
   ]
  },
  {
   "cell_type": "code",
   "execution_count": null,
   "id": "e798fcd9",
   "metadata": {},
   "outputs": [],
   "source": [
    "arr=np.eye(4,)"
   ]
  },
  {
   "cell_type": "code",
   "execution_count": null,
   "id": "35f4ee60",
   "metadata": {},
   "outputs": [],
   "source": [
    "arr"
   ]
  },
  {
   "cell_type": "code",
   "execution_count": null,
   "id": "84fc8505",
   "metadata": {},
   "outputs": [],
   "source": [
    "np.random.rand(3)"
   ]
  },
  {
   "cell_type": "code",
   "execution_count": null,
   "id": "d8cb5055",
   "metadata": {},
   "outputs": [],
   "source": [
    "arr = np.random.rand(5,3)"
   ]
  },
  {
   "cell_type": "code",
   "execution_count": null,
   "id": "ec30f66a",
   "metadata": {},
   "outputs": [],
   "source": [
    "import seaborn as sns"
   ]
  },
  {
   "cell_type": "code",
   "execution_count": null,
   "id": "f4480b7d",
   "metadata": {},
   "outputs": [],
   "source": [
    "sns.histplot(arr)"
   ]
  },
  {
   "cell_type": "code",
   "execution_count": null,
   "id": "40a94d5a",
   "metadata": {},
   "outputs": [],
   "source": [
    " arr = np.random.uniform((10,5))"
   ]
  },
  {
   "cell_type": "code",
   "execution_count": null,
   "id": "7e74d630",
   "metadata": {},
   "outputs": [],
   "source": [
    "arr"
   ]
  },
  {
   "cell_type": "code",
   "execution_count": null,
   "id": "4f085c9c",
   "metadata": {},
   "outputs": [],
   "source": [
    "arr = np.random.uniform(10,40, size =(5,6))"
   ]
  },
  {
   "cell_type": "code",
   "execution_count": null,
   "id": "9806866c",
   "metadata": {},
   "outputs": [],
   "source": [
    "arr"
   ]
  },
  {
   "cell_type": "code",
   "execution_count": null,
   "id": "b1dafe9d",
   "metadata": {},
   "outputs": [],
   "source": [
    "np.mean(arr)"
   ]
  },
  {
   "cell_type": "code",
   "execution_count": null,
   "id": "b3128165",
   "metadata": {},
   "outputs": [],
   "source": [
    "arr = np.random.randint(10,40, size =(5,6))"
   ]
  },
  {
   "cell_type": "code",
   "execution_count": null,
   "id": "43bb6d5f",
   "metadata": {},
   "outputs": [],
   "source": [
    "arr"
   ]
  },
  {
   "cell_type": "code",
   "execution_count": null,
   "id": "34d60c6f",
   "metadata": {},
   "outputs": [],
   "source": [
    "arr[::-1]"
   ]
  },
  {
   "cell_type": "code",
   "execution_count": null,
   "id": "38b731be",
   "metadata": {},
   "outputs": [],
   "source": []
  },
  {
   "cell_type": "code",
   "execution_count": null,
   "id": "73462e92",
   "metadata": {},
   "outputs": [],
   "source": [
    "[arr[0][0], arr[2][4]]"
   ]
  },
  {
   "cell_type": "code",
   "execution_count": null,
   "id": "cb2bb5b7",
   "metadata": {},
   "outputs": [],
   "source": [
    "arr[[0, 2, 3], [0, 4, 1]] = 100"
   ]
  },
  {
   "cell_type": "code",
   "execution_count": null,
   "id": "a84ab182",
   "metadata": {},
   "outputs": [],
   "source": [
    "arr"
   ]
  },
  {
   "cell_type": "code",
   "execution_count": null,
   "id": "8679c8a6",
   "metadata": {},
   "outputs": [],
   "source": [
    "a =10\n",
    "b=9"
   ]
  },
  {
   "cell_type": "code",
   "execution_count": null,
   "id": "d1fa6a95",
   "metadata": {},
   "outputs": [],
   "source": [
    "if a==b:\n",
    "    print(\"dsjgfgh\")"
   ]
  },
  {
   "cell_type": "code",
   "execution_count": null,
   "id": "542bd7ec",
   "metadata": {},
   "outputs": [],
   "source": [
    "a = \"dsggh\""
   ]
  },
  {
   "cell_type": "code",
   "execution_count": null,
   "id": "8034f9ab",
   "metadata": {},
   "outputs": [],
   "source": [
    "b =7"
   ]
  },
  {
   "cell_type": "code",
   "execution_count": null,
   "id": "8fe43489",
   "metadata": {},
   "outputs": [],
   "source": []
  },
  {
   "cell_type": "code",
   "execution_count": null,
   "id": "74bb915b",
   "metadata": {},
   "outputs": [],
   "source": [
    "lst = [1,2,3,4,56,6]"
   ]
  },
  {
   "cell_type": "code",
   "execution_count": null,
   "id": "af55b3b3",
   "metadata": {},
   "outputs": [],
   "source": [
    "shall_copy = lst.copy()"
   ]
  },
  {
   "cell_type": "code",
   "execution_count": null,
   "id": "2c7c9c38",
   "metadata": {},
   "outputs": [],
   "source": [
    "shall_copy"
   ]
  },
  {
   "cell_type": "code",
   "execution_count": null,
   "id": "c84a0a52",
   "metadata": {},
   "outputs": [],
   "source": [
    "import copy"
   ]
  },
  {
   "cell_type": "code",
   "execution_count": null,
   "id": "3c17bb7c",
   "metadata": {},
   "outputs": [],
   "source": [
    "deep_copy = copy.deepcopy(lst)"
   ]
  },
  {
   "cell_type": "code",
   "execution_count": null,
   "id": "d10cfd99",
   "metadata": {},
   "outputs": [],
   "source": [
    "deep_copy[0] = 5"
   ]
  },
  {
   "cell_type": "code",
   "execution_count": null,
   "id": "f8199dea",
   "metadata": {},
   "outputs": [],
   "source": [
    "ravel ---- deepcopy\n",
    "flattten -- shallow "
   ]
  },
  {
   "cell_type": "code",
   "execution_count": null,
   "id": "46269799",
   "metadata": {},
   "outputs": [],
   "source": [
    "deep_copy"
   ]
  },
  {
   "cell_type": "code",
   "execution_count": null,
   "id": "4a4228b7",
   "metadata": {},
   "outputs": [],
   "source": [
    "shall_copy[0] = 7"
   ]
  },
  {
   "cell_type": "code",
   "execution_count": null,
   "id": "e3f09f6b",
   "metadata": {},
   "outputs": [],
   "source": [
    "shall_copy"
   ]
  },
  {
   "cell_type": "code",
   "execution_count": null,
   "id": "830eb297",
   "metadata": {},
   "outputs": [],
   "source": [
    "lst[0] = 8"
   ]
  },
  {
   "cell_type": "code",
   "execution_count": null,
   "id": "6c2ad8c1",
   "metadata": {},
   "outputs": [],
   "source": [
    "lst"
   ]
  },
  {
   "cell_type": "code",
   "execution_count": null,
   "id": "7999e772",
   "metadata": {},
   "outputs": [],
   "source": [
    "deep_copy"
   ]
  },
  {
   "cell_type": "code",
   "execution_count": null,
   "id": "3242b6e0",
   "metadata": {},
   "outputs": [],
   "source": [
    "arr"
   ]
  },
  {
   "cell_type": "code",
   "execution_count": null,
   "id": "c3c4723c",
   "metadata": {},
   "outputs": [],
   "source": [
    "res = arr.ravel()"
   ]
  },
  {
   "cell_type": "code",
   "execution_count": null,
   "id": "62e69812",
   "metadata": {},
   "outputs": [],
   "source": [
    "res"
   ]
  },
  {
   "cell_type": "code",
   "execution_count": null,
   "id": "9b3251c1",
   "metadata": {},
   "outputs": [],
   "source": [
    "fes = arr.flatten()\n",
    "fes"
   ]
  },
  {
   "cell_type": "code",
   "execution_count": null,
   "id": "08c05179",
   "metadata": {},
   "outputs": [],
   "source": [
    "arr[0][0]= 100"
   ]
  },
  {
   "cell_type": "code",
   "execution_count": null,
   "id": "a4b8bce5",
   "metadata": {},
   "outputs": [],
   "source": [
    "arr"
   ]
  },
  {
   "cell_type": "code",
   "execution_count": null,
   "id": "e314a8ca",
   "metadata": {},
   "outputs": [],
   "source": [
    "res"
   ]
  },
  {
   "cell_type": "code",
   "execution_count": null,
   "id": "1ecac999",
   "metadata": {},
   "outputs": [],
   "source": [
    "fes"
   ]
  },
  {
   "cell_type": "code",
   "execution_count": null,
   "id": "4e830eda",
   "metadata": {},
   "outputs": [],
   "source": [
    "arr"
   ]
  },
  {
   "cell_type": "code",
   "execution_count": null,
   "id": "2737710a",
   "metadata": {},
   "outputs": [],
   "source": [
    "for i in range(30):\n",
    "    if i%2=0:\n",
    "        arr.flat[i] =1"
   ]
  },
  {
   "cell_type": "code",
   "execution_count": null,
   "id": "84658cd5",
   "metadata": {},
   "outputs": [],
   "source": [
    "arr = np.random.randint(10,40, size = (5,6))"
   ]
  },
  {
   "cell_type": "code",
   "execution_count": null,
   "id": "bb08286b",
   "metadata": {
    "scrolled": true
   },
   "outputs": [],
   "source": [
    "arr"
   ]
  },
  {
   "cell_type": "code",
   "execution_count": null,
   "id": "829978d6",
   "metadata": {},
   "outputs": [],
   "source": [
    "np.where(arr%2==0)"
   ]
  },
  {
   "cell_type": "code",
   "execution_count": null,
   "id": "1afccdbf",
   "metadata": {},
   "outputs": [],
   "source": [
    "x = np.array([[1,2],[3,4]])\n",
    "y = np.array([[5,6],[7,8]])"
   ]
  },
  {
   "cell_type": "code",
   "execution_count": null,
   "id": "94c2b77a",
   "metadata": {},
   "outputs": [],
   "source": [
    "x*y"
   ]
  },
  {
   "cell_type": "code",
   "execution_count": null,
   "id": "832a03dd",
   "metadata": {},
   "outputs": [],
   "source": [
    "np.dot(x,y)"
   ]
  },
  {
   "cell_type": "code",
   "execution_count": 22,
   "id": "f6e45c69",
   "metadata": {},
   "outputs": [
    {
     "name": "stdout",
     "output_type": "stream",
     "text": [
      "4\n",
      "8\n",
      "12\n",
      "16\n"
     ]
    }
   ],
   "source": [
    "y=[1,2,3,4]\n",
    "for i in y:\n",
    "    print(i*4)"
   ]
  },
  {
   "cell_type": "code",
   "execution_count": 15,
   "id": "fb004717",
   "metadata": {},
   "outputs": [
    {
     "name": "stdout",
     "output_type": "stream",
     "text": [
      "[4, 8, 12, 16]\n"
     ]
    }
   ],
   "source": [
    "y=[1,2,3,4]\n",
    "for i in range(0,len(y)):\n",
    "    y[i]=y[i]*4\n",
    "print(y)"
   ]
  }
 ],
 "metadata": {
  "kernelspec": {
   "display_name": "Python 3 (ipykernel)",
   "language": "python",
   "name": "python3"
  },
  "language_info": {
   "codemirror_mode": {
    "name": "ipython",
    "version": 3
   },
   "file_extension": ".py",
   "mimetype": "text/x-python",
   "name": "python",
   "nbconvert_exporter": "python",
   "pygments_lexer": "ipython3",
   "version": "3.11.5"
  }
 },
 "nbformat": 4,
 "nbformat_minor": 5
}
