{
 "cells": [
  {
   "cell_type": "markdown",
   "metadata": {},
   "source": [
    "### Recursion\n",
    "\n",
    "Recursion means calling a function in terms of iteself. All recursive algorithms have these characteristics:\n",
    "\n",
    "1. A recursive algorithm must call itself, recursively.\n",
    "2. A recursive algorithm must have a base case. A base case occurs when the problem after repeated calls to the recursive function, becomes so small that it can be solved directly.\n",
    "3. A recursive algorithm after each call to the recursive function, must move towards the base case. So, in a well-designed recursive algorithm, after each iteration, the problem must become smaller."
   ]
  },
  {
   "cell_type": "markdown",
   "metadata": {},
   "source": [
    "#### USECASE 2: <U>FIBONACCI</U>"
   ]
  },
  {
   "cell_type": "code",
   "execution_count": 2,
   "metadata": {},
   "outputs": [
    {
     "name": "stdout",
     "output_type": "stream",
     "text": [
      "The first 7 in the FIBONACCI Secries is:  [0, 1, 1, 2, 3, 5, 8]\n"
     ]
    }
   ],
   "source": [
    "### SERIES --- 0, 1, 1, 2, 3, 5, 8, 13........\n",
    "### INDEX ---- 0, 1, 2, 3, 4, 5, 6,  7........\n",
    "\n",
    "no_of_terms = 7\n",
    "first_number = 0\n",
    "second_number = 1\n",
    "fib_list = [0,1]\n",
    "for number in range(no_of_terms-2):\n",
    "    third_number = first_number + second_number\n",
    "    fib_list.append(third_number)\n",
    "    first_number = second_number\n",
    "    second_number = third_number\n",
    "\n",
    "print(f\"The first {no_of_terms} in the FIBONACCI Secries is: \", fib_list)"
   ]
  },
  {
   "cell_type": "code",
   "execution_count": 3,
   "metadata": {},
   "outputs": [
    {
     "name": "stdout",
     "output_type": "stream",
     "text": [
      "The first 7 in the FIBONACCI Secries is:  [0, 1, 1, 2, 3, 5, 8]\n"
     ]
    }
   ],
   "source": [
    "def fibonacci(no_of_terms):\n",
    "    first_number = 0\n",
    "    second_number = 1\n",
    "    fib_list = [0,1]\n",
    "    for number in range(no_of_terms-2):\n",
    "        third_number = first_number + second_number\n",
    "        fib_list.append(third_number)\n",
    "        first_number = second_number\n",
    "        second_number = third_number\n",
    "\n",
    "    return fib_list\n",
    "\n",
    "terms = 7\n",
    "print(f\"The first {terms} in the FIBONACCI Secries is: \", fibonacci(terms))"
   ]
  },
  {
   "cell_type": "code",
   "execution_count": null,
   "metadata": {},
   "outputs": [],
   "source": []
  },
  {
   "cell_type": "code",
   "execution_count": 11,
   "metadata": {
    "scrolled": true
   },
   "outputs": [
    {
     "name": "stdout",
     "output_type": "stream",
     "text": [
      "6 in the FIBONACCI Series is:  8\n"
     ]
    }
   ],
   "source": [
    "def nth_fibonacci_term(term):\n",
    "    if term == 0 or term == 1:\n",
    "        #print(f\"Inside IF. The value of term is {term}\")\n",
    "        return term\n",
    "    elif term < 0:\n",
    "        return \"Out of MIND...Think again!!!\"\n",
    "    else:\n",
    "        #print(f\"Inside ELSE. The value of term is {term}\")\n",
    "        return nth_fibonacci_term(term - 1) + nth_fibonacci_term(term - 2)\n",
    "\n",
    "nth_term = 6\n",
    "print(f\"{nth_term} in the FIBONACCI Series is: \", nth_fibonacci_term(nth_term))"
   ]
  },
  {
   "cell_type": "code",
   "execution_count": 14,
   "metadata": {},
   "outputs": [
    {
     "data": {
      "text/plain": [
       "1.618033988957902"
      ]
     },
     "execution_count": 14,
     "metadata": {},
     "output_type": "execute_result"
    }
   ],
   "source": [
    "nth_fibonacci_term(25)/nth_fibonacci_term(24)"
   ]
  },
  {
   "cell_type": "markdown",
   "metadata": {},
   "source": [
    "# Some special functions\n",
    "\n",
    "## 1. zip function\n",
    "- zip() is an aggregator, meaning it aggregates two or more iterables or sequences. The individual items of the iterables are combined to form tuples. The zip() function stops whenever the shortest of the variables is exhausted."
   ]
  },
  {
   "cell_type": "code",
   "execution_count": null,
   "metadata": {},
   "outputs": [],
   "source": [
    "######## CHECK PREVIOUS CONCEPT TAUGHT ###########"
   ]
  },
  {
   "cell_type": "markdown",
   "metadata": {},
   "source": [
    "## 2. Lambda function\n",
    "- Lambda function is used to create an anonymous function (i.e, an inline function without a name) used for a short calculation"
   ]
  },
  {
   "cell_type": "code",
   "execution_count": 27,
   "metadata": {},
   "outputs": [],
   "source": [
    "# square of number"
   ]
  },
  {
   "cell_type": "code",
   "execution_count": 15,
   "metadata": {},
   "outputs": [
    {
     "data": {
      "text/plain": [
       "2916"
      ]
     },
     "execution_count": 15,
     "metadata": {},
     "output_type": "execute_result"
    }
   ],
   "source": [
    "num = 54\n",
    "sq_num = lambda number: number ** 2\n",
    "sq_num(num)"
   ]
  },
  {
   "cell_type": "code",
   "execution_count": 3,
   "metadata": {},
   "outputs": [
    {
     "data": {
      "text/plain": [
       "'Hello World!'"
      ]
     },
     "execution_count": 3,
     "metadata": {},
     "output_type": "execute_result"
    }
   ],
   "source": [
    "just_print_something = lambda : \"Hello World!\"\n",
    "just_print_something()"
   ]
  },
  {
   "cell_type": "code",
   "execution_count": 4,
   "metadata": {},
   "outputs": [
    {
     "data": {
      "text/plain": [
       "54"
      ]
     },
     "execution_count": 4,
     "metadata": {},
     "output_type": "execute_result"
    }
   ],
   "source": [
    "just_print_something = lambda : 54\n",
    "just_print_something()"
   ]
  },
  {
   "cell_type": "code",
   "execution_count": 5,
   "metadata": {},
   "outputs": [
    {
     "data": {
      "text/plain": [
       "54"
      ]
     },
     "execution_count": 5,
     "metadata": {},
     "output_type": "execute_result"
    }
   ],
   "source": [
    "a = 54\n",
    "a"
   ]
  },
  {
   "cell_type": "code",
   "execution_count": 6,
   "metadata": {},
   "outputs": [
    {
     "data": {
      "text/plain": [
       "'SAOMYA'"
      ]
     },
     "execution_count": 6,
     "metadata": {},
     "output_type": "execute_result"
    }
   ],
   "source": [
    "string = \"Saomya\"\n",
    "string.upper()"
   ]
  },
  {
   "cell_type": "markdown",
   "metadata": {},
   "source": [
    "### Rules to create Lambda function\n",
    "- lambda can take any number of parameters (arguments)\n",
    "- instead of def, we use lambda. No paranthesis required\n",
    "- colon separates parameters and expression.\n",
    "- no need of print/return keyword\n",
    "- parameters/arguments  is optional"
   ]
  },
  {
   "cell_type": "code",
   "execution_count": 26,
   "metadata": {},
   "outputs": [],
   "source": [
    "# odd even function - lambda with conditional"
   ]
  },
  {
   "cell_type": "code",
   "execution_count": 16,
   "metadata": {},
   "outputs": [
    {
     "data": {
      "text/plain": [
       "'EVEN'"
      ]
     },
     "execution_count": 16,
     "metadata": {},
     "output_type": "execute_result"
    }
   ],
   "source": [
    "num = 54\n",
    "odd_even = lambda number: \"EVEN\" if number % 2 == 0 else \"ODD\"\n",
    "odd_even(num)"
   ]
  },
  {
   "cell_type": "markdown",
   "metadata": {},
   "source": [
    "` *args and **kwargs`\n",
    "- *args - when youhave no idea about how many arguments you will be receiving as an input for the function\n",
    "- **kwargs - .......how many keyword arguments you will be ......."
   ]
  },
  {
   "cell_type": "code",
   "execution_count": 36,
   "metadata": {},
   "outputs": [],
   "source": [
    "# take list of numbers"
   ]
  },
  {
   "cell_type": "code",
   "execution_count": 3,
   "metadata": {},
   "outputs": [
    {
     "data": {
      "text/plain": [
       "(54, 12, 46, 4, 4, 122)"
      ]
     },
     "execution_count": 3,
     "metadata": {},
     "output_type": "execute_result"
    }
   ],
   "source": [
    "list_of_nos = lambda *numbers: numbers\n",
    "list_of_nos(54,12,46,4,4,122)"
   ]
  },
  {
   "cell_type": "code",
   "execution_count": 5,
   "metadata": {},
   "outputs": [
    {
     "data": {
      "text/plain": [
       "[2916, 144, 2116, 16, 16, 14884]"
      ]
     },
     "execution_count": 5,
     "metadata": {},
     "output_type": "execute_result"
    }
   ],
   "source": [
    "list_of_nos = lambda numbers: numbers**2\n",
    "a = [54,12,46,4,4,122]\n",
    "list(map(list_of_nos,a))"
   ]
  },
  {
   "cell_type": "code",
   "execution_count": null,
   "metadata": {},
   "outputs": [],
   "source": [
    "# take dict of students and marks"
   ]
  },
  {
   "cell_type": "code",
   "execution_count": 19,
   "metadata": {},
   "outputs": [
    {
     "data": {
      "text/plain": [
       "{'saomya': 10, 'harika': 20, 'divya': 25}"
      ]
     },
     "execution_count": 19,
     "metadata": {},
     "output_type": "execute_result"
    }
   ],
   "source": [
    "dict_of_stud_marks = lambda **item: item\n",
    "dict_of_stud_marks(saomya = 10, harika = 20, divya = 25)"
   ]
  },
  {
   "cell_type": "code",
   "execution_count": 6,
   "metadata": {},
   "outputs": [
    {
     "data": {
      "text/plain": [
       "{'hari': 10, 'yash': 20, 'kausthub': 34, 'ayush': 689}"
      ]
     },
     "execution_count": 6,
     "metadata": {},
     "output_type": "execute_result"
    }
   ],
   "source": [
    "a = lambda **item:item\n",
    "a(hari = 10,yash = 20,kausthub = 34,ayush = 689)"
   ]
  },
  {
   "cell_type": "markdown",
   "metadata": {},
   "source": [
    "## 3. Map function\n",
    "- map() function takes a function and a sequence as its arguments. It returns iterator(some kind of sequence over which you can iterate one by one) on which the function is applied."
   ]
  },
  {
   "cell_type": "code",
   "execution_count": null,
   "metadata": {},
   "outputs": [],
   "source": [
    "# cube of elts in list"
   ]
  },
  {
   "cell_type": "code",
   "execution_count": 9,
   "metadata": {},
   "outputs": [
    {
     "data": {
      "text/plain": [
       "(125, 1728, 85184, 4913, 1728, 8)"
      ]
     },
     "execution_count": 9,
     "metadata": {},
     "output_type": "execute_result"
    }
   ],
   "source": [
    "lst_of_nos = [5,12,44,17,12,2]\n",
    "cube_function = lambda element: element ** 3\n",
    "tuple(map(cube_function, lst_of_nos))"
   ]
  },
  {
   "cell_type": "markdown",
   "metadata": {},
   "source": [
    "## 4. Filter function\n",
    "- filter() function applies the predicate (condition) on sequence. If the predicate returns True, the value passes the test and is added to a filter object. Otherwise, the value is dropped from consideration."
   ]
  },
  {
   "cell_type": "code",
   "execution_count": null,
   "metadata": {},
   "outputs": [],
   "source": [
    "# separate list of numbers either divisible by 2 or 3 but not both"
   ]
  },
  {
   "cell_type": "code",
   "execution_count": 15,
   "metadata": {},
   "outputs": [
    {
     "data": {
      "text/plain": [
       "[5, 12, 44, 17, 12, 2]"
      ]
     },
     "execution_count": 15,
     "metadata": {},
     "output_type": "execute_result"
    }
   ],
   "source": [
    "lst_of_nos"
   ]
  },
  {
   "cell_type": "code",
   "execution_count": 18,
   "metadata": {},
   "outputs": [
    {
     "data": {
      "text/plain": [
       "[5, 44, 17, 2]"
      ]
     },
     "execution_count": 18,
     "metadata": {},
     "output_type": "execute_result"
    }
   ],
   "source": [
    "def div_by_2or3_not_both(number):\n",
    "    if (number % 2 == 0) and (number % 3 == 0):\n",
    "        return False\n",
    "    elif (number % 2 == 0) or (number % 3 == 0):\n",
    "        return True\n",
    "    else:\n",
    "        return True\n",
    "\n",
    "list(filter(div_by_2or3_not_both, lst_of_nos))"
   ]
  },
  {
   "cell_type": "markdown",
   "metadata": {},
   "source": [
    "## 5.  Reduce function\n",
    "- reduce() function from functools module is used to apply a function repeatedly to accumulate a single data value. A summation is a good example of this process. The first value is added to the second value, then that sum is added to third value, and so on, until the sum of all the values is produced."
   ]
  },
  {
   "cell_type": "code",
   "execution_count": 16,
   "metadata": {},
   "outputs": [],
   "source": [
    "from functools import reduce"
   ]
  },
  {
   "cell_type": "code",
   "execution_count": 7,
   "metadata": {},
   "outputs": [
    {
     "ename": "NameError",
     "evalue": "name 'lst_of_nos' is not defined",
     "output_type": "error",
     "traceback": [
      "\u001b[1;31m---------------------------------------------------------------------------\u001b[0m",
      "\u001b[1;31mNameError\u001b[0m                                 Traceback (most recent call last)",
      "Cell \u001b[1;32mIn[7], line 3\u001b[0m\n\u001b[0;32m      1\u001b[0m \u001b[38;5;28;01mdef\u001b[39;00m \u001b[38;5;21mmultiply\u001b[39m(num1,num2):\n\u001b[0;32m      2\u001b[0m     \u001b[38;5;28;01mreturn\u001b[39;00m num1 \u001b[38;5;241m*\u001b[39m num2\n\u001b[1;32m----> 3\u001b[0m lst_of_nos\n",
      "\u001b[1;31mNameError\u001b[0m: name 'lst_of_nos' is not defined"
     ]
    }
   ],
   "source": [
    "def multiply(num1,num2):\n",
    "    return num1 * num2\n",
    "lst_of_nos"
   ]
  },
  {
   "cell_type": "code",
   "execution_count": 24,
   "metadata": {},
   "outputs": [
    {
     "data": {
      "text/plain": [
       "0"
      ]
     },
     "execution_count": 24,
     "metadata": {},
     "output_type": "execute_result"
    }
   ],
   "source": [
    "reduce(multiply, lst_of_nos)"
   ]
  },
  {
   "cell_type": "code",
   "execution_count": 19,
   "metadata": {},
   "outputs": [],
   "source": [
    "def sum(a,b):\n",
    "    return a*b\n",
    "c = [1,2,3,4,5,6,7,8,9,10]\n",
    "\n"
   ]
  },
  {
   "cell_type": "code",
   "execution_count": 20,
   "metadata": {},
   "outputs": [
    {
     "data": {
      "text/plain": [
       "3628800"
      ]
     },
     "execution_count": 20,
     "metadata": {},
     "output_type": "execute_result"
    }
   ],
   "source": [
    "reduce(sum,c)"
   ]
  },
  {
   "cell_type": "code",
   "execution_count": 25,
   "metadata": {},
   "outputs": [],
   "source": [
    "import functools"
   ]
  },
  {
   "cell_type": "code",
   "execution_count": null,
   "metadata": {},
   "outputs": [],
   "source": [
    "functools."
   ]
  },
  {
   "cell_type": "code",
   "execution_count": 26,
   "metadata": {},
   "outputs": [
    {
     "data": {
      "text/plain": [
       "92"
      ]
     },
     "execution_count": 26,
     "metadata": {},
     "output_type": "execute_result"
    }
   ],
   "source": [
    "sum(lst_of_nos)"
   ]
  }
 ],
 "metadata": {
  "kernelspec": {
   "display_name": "Python 3 (ipykernel)",
   "language": "python",
   "name": "python3"
  },
  "language_info": {
   "codemirror_mode": {
    "name": "ipython",
    "version": 3
   },
   "file_extension": ".py",
   "mimetype": "text/x-python",
   "name": "python",
   "nbconvert_exporter": "python",
   "pygments_lexer": "ipython3",
   "version": "3.11.5"
  }
 },
 "nbformat": 4,
 "nbformat_minor": 4
}
