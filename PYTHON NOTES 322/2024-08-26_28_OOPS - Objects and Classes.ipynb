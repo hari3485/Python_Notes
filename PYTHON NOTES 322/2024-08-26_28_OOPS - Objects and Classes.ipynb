{
 "cells": [
  {
   "cell_type": "markdown",
   "metadata": {},
   "source": [
    "# Agenda\n",
    "\n",
    "> ### Object Oriented Programming (OOP)\n",
    "> ### Class \n",
    "> ### Object"
   ]
  },
  {
   "cell_type": "code",
   "execution_count": 2,
   "metadata": {},
   "outputs": [
    {
     "name": "stdout",
     "output_type": "stream",
     "text": [
      "<class 'int'> <class 'float'> <class 'str'> <class 'bool'>\n"
     ]
    }
   ],
   "source": [
    "a = 5\n",
    "b = 7.5\n",
    "c = \"batch 322\"\n",
    "d = False\n",
    "print(type(a),type(b),type(c),type(d))"
   ]
  },
  {
   "cell_type": "code",
   "execution_count": 3,
   "metadata": {},
   "outputs": [
    {
     "name": "stdout",
     "output_type": "stream",
     "text": [
      "<class 'list'> <class 'tuple'> <class 'set'> <class 'dict'>\n"
     ]
    }
   ],
   "source": [
    "e = [5,12,33,53]\n",
    "f = (7.5,True, \"saomya\", 1)\n",
    "g = {76,True,1,(1,2,3)}\n",
    "h = {1:\"A\", 2:\"B\", 3:\"C\"}\n",
    "print(type(e),type(f),type(g),type(h))"
   ]
  },
  {
   "cell_type": "code",
   "execution_count": 4,
   "metadata": {},
   "outputs": [
    {
     "name": "stdout",
     "output_type": "stream",
     "text": [
      "<class 'frozenset'> <class 'complex'>\n"
     ]
    }
   ],
   "source": [
    "i = frozenset({5,4,2})\n",
    "j = 4 + 5j\n",
    "print(type(i),type(j))"
   ]
  },
  {
   "cell_type": "code",
   "execution_count": 5,
   "metadata": {},
   "outputs": [
    {
     "name": "stdout",
     "output_type": "stream",
     "text": [
      "<class 'function'>\n"
     ]
    }
   ],
   "source": [
    "k = lambda num:num ** 2\n",
    "print(type(k))"
   ]
  },
  {
   "cell_type": "markdown",
   "metadata": {},
   "source": [
    "### Class\n",
    "- Class is a collections of objects\n",
    "- Class is a blue print\n",
    "- Class is a collection of variables and methods\n",
    "\n",
    "### Object\n",
    "- It is a real world entity\n",
    "- Every object contains two properties\n",
    "    1. Attributes\n",
    "        - Attrinutes are nothing but variables in class\n",
    "    2. Functionality\n",
    "        - Functionality is nothing but methods in class"
   ]
  },
  {
   "cell_type": "code",
   "execution_count": null,
   "metadata": {},
   "outputs": [],
   "source": [
    "# So are CLASSES also OBJECTS... Lets check --- The ID function"
   ]
  },
  {
   "cell_type": "code",
   "execution_count": 6,
   "metadata": {
    "scrolled": true
   },
   "outputs": [
    {
     "data": {
      "text/plain": [
       "(5, 7.5, 'batch 322', (7.5, True, 'saomya', 1), {(1, 2, 3), 76, True})"
      ]
     },
     "execution_count": 6,
     "metadata": {},
     "output_type": "execute_result"
    }
   ],
   "source": [
    "a,b,c,f,g"
   ]
  },
  {
   "cell_type": "code",
   "execution_count": 8,
   "metadata": {},
   "outputs": [
    {
     "data": {
      "text/plain": [
       "(140731908147768,\n",
       " 2750633718416,\n",
       " 2750640403824,\n",
       " 2750640398144,\n",
       " 2750634745792,\n",
       " 2750634749376)"
      ]
     },
     "execution_count": 8,
     "metadata": {},
     "output_type": "execute_result"
    }
   ],
   "source": [
    "id(a),id(b),id(c),id(e),id(g),id(i)"
   ]
  },
  {
   "cell_type": "code",
   "execution_count": null,
   "metadata": {},
   "outputs": [],
   "source": []
  },
  {
   "cell_type": "code",
   "execution_count": null,
   "metadata": {
    "scrolled": true
   },
   "outputs": [],
   "source": [
    "# The dir() function"
   ]
  },
  {
   "cell_type": "code",
   "execution_count": 9,
   "metadata": {
    "scrolled": true
   },
   "outputs": [
    {
     "data": {
      "text/plain": [
       "['In',\n",
       " 'Out',\n",
       " '_',\n",
       " '_6',\n",
       " '_7',\n",
       " '_8',\n",
       " '__',\n",
       " '___',\n",
       " '__builtin__',\n",
       " '__builtins__',\n",
       " '__doc__',\n",
       " '__loader__',\n",
       " '__name__',\n",
       " '__package__',\n",
       " '__session__',\n",
       " '__spec__',\n",
       " '_dh',\n",
       " '_i',\n",
       " '_i1',\n",
       " '_i2',\n",
       " '_i3',\n",
       " '_i4',\n",
       " '_i5',\n",
       " '_i6',\n",
       " '_i7',\n",
       " '_i8',\n",
       " '_i9',\n",
       " '_ih',\n",
       " '_ii',\n",
       " '_iii',\n",
       " '_oh',\n",
       " 'a',\n",
       " 'b',\n",
       " 'c',\n",
       " 'd',\n",
       " 'e',\n",
       " 'exit',\n",
       " 'f',\n",
       " 'g',\n",
       " 'get_ipython',\n",
       " 'h',\n",
       " 'i',\n",
       " 'j',\n",
       " 'k',\n",
       " 'open',\n",
       " 'quit']"
      ]
     },
     "execution_count": 9,
     "metadata": {},
     "output_type": "execute_result"
    }
   ],
   "source": [
    "dir()"
   ]
  },
  {
   "cell_type": "code",
   "execution_count": 1,
   "metadata": {
    "scrolled": true
   },
   "outputs": [
    {
     "data": {
      "text/plain": [
       "['__abs__',\n",
       " '__add__',\n",
       " '__and__',\n",
       " '__bool__',\n",
       " '__ceil__',\n",
       " '__class__',\n",
       " '__delattr__',\n",
       " '__dir__',\n",
       " '__divmod__',\n",
       " '__doc__',\n",
       " '__eq__',\n",
       " '__float__',\n",
       " '__floor__',\n",
       " '__floordiv__',\n",
       " '__format__',\n",
       " '__ge__',\n",
       " '__getattribute__',\n",
       " '__getnewargs__',\n",
       " '__getstate__',\n",
       " '__gt__',\n",
       " '__hash__',\n",
       " '__index__',\n",
       " '__init__',\n",
       " '__init_subclass__',\n",
       " '__int__',\n",
       " '__invert__',\n",
       " '__le__',\n",
       " '__lshift__',\n",
       " '__lt__',\n",
       " '__mod__',\n",
       " '__mul__',\n",
       " '__ne__',\n",
       " '__neg__',\n",
       " '__new__',\n",
       " '__or__',\n",
       " '__pos__',\n",
       " '__pow__',\n",
       " '__radd__',\n",
       " '__rand__',\n",
       " '__rdivmod__',\n",
       " '__reduce__',\n",
       " '__reduce_ex__',\n",
       " '__repr__',\n",
       " '__rfloordiv__',\n",
       " '__rlshift__',\n",
       " '__rmod__',\n",
       " '__rmul__',\n",
       " '__ror__',\n",
       " '__round__',\n",
       " '__rpow__',\n",
       " '__rrshift__',\n",
       " '__rshift__',\n",
       " '__rsub__',\n",
       " '__rtruediv__',\n",
       " '__rxor__',\n",
       " '__setattr__',\n",
       " '__sizeof__',\n",
       " '__str__',\n",
       " '__sub__',\n",
       " '__subclasshook__',\n",
       " '__truediv__',\n",
       " '__trunc__',\n",
       " '__xor__',\n",
       " 'as_integer_ratio',\n",
       " 'bit_count',\n",
       " 'bit_length',\n",
       " 'conjugate',\n",
       " 'denominator',\n",
       " 'from_bytes',\n",
       " 'imag',\n",
       " 'is_integer',\n",
       " 'numerator',\n",
       " 'real',\n",
       " 'to_bytes']"
      ]
     },
     "execution_count": 1,
     "metadata": {},
     "output_type": "execute_result"
    }
   ],
   "source": [
    "dir(int)"
   ]
  },
  {
   "cell_type": "code",
   "execution_count": 10,
   "metadata": {},
   "outputs": [
    {
     "data": {
      "text/plain": [
       "['ArithmeticError',\n",
       " 'AssertionError',\n",
       " 'AttributeError',\n",
       " 'BaseException',\n",
       " 'BaseExceptionGroup',\n",
       " 'BlockingIOError',\n",
       " 'BrokenPipeError',\n",
       " 'BufferError',\n",
       " 'BytesWarning',\n",
       " 'ChildProcessError',\n",
       " 'ConnectionAbortedError',\n",
       " 'ConnectionError',\n",
       " 'ConnectionRefusedError',\n",
       " 'ConnectionResetError',\n",
       " 'DeprecationWarning',\n",
       " 'EOFError',\n",
       " 'Ellipsis',\n",
       " 'EncodingWarning',\n",
       " 'EnvironmentError',\n",
       " 'Exception',\n",
       " 'ExceptionGroup',\n",
       " 'False',\n",
       " 'FileExistsError',\n",
       " 'FileNotFoundError',\n",
       " 'FloatingPointError',\n",
       " 'FutureWarning',\n",
       " 'GeneratorExit',\n",
       " 'IOError',\n",
       " 'ImportError',\n",
       " 'ImportWarning',\n",
       " 'IndentationError',\n",
       " 'IndexError',\n",
       " 'InterruptedError',\n",
       " 'IsADirectoryError',\n",
       " 'KeyError',\n",
       " 'KeyboardInterrupt',\n",
       " 'LookupError',\n",
       " 'MemoryError',\n",
       " 'ModuleNotFoundError',\n",
       " 'NameError',\n",
       " 'None',\n",
       " 'NotADirectoryError',\n",
       " 'NotImplemented',\n",
       " 'NotImplementedError',\n",
       " 'OSError',\n",
       " 'OverflowError',\n",
       " 'PendingDeprecationWarning',\n",
       " 'PermissionError',\n",
       " 'ProcessLookupError',\n",
       " 'RecursionError',\n",
       " 'ReferenceError',\n",
       " 'ResourceWarning',\n",
       " 'RuntimeError',\n",
       " 'RuntimeWarning',\n",
       " 'StopAsyncIteration',\n",
       " 'StopIteration',\n",
       " 'SyntaxError',\n",
       " 'SyntaxWarning',\n",
       " 'SystemError',\n",
       " 'SystemExit',\n",
       " 'TabError',\n",
       " 'TimeoutError',\n",
       " 'True',\n",
       " 'TypeError',\n",
       " 'UnboundLocalError',\n",
       " 'UnicodeDecodeError',\n",
       " 'UnicodeEncodeError',\n",
       " 'UnicodeError',\n",
       " 'UnicodeTranslateError',\n",
       " 'UnicodeWarning',\n",
       " 'UserWarning',\n",
       " 'ValueError',\n",
       " 'Warning',\n",
       " 'WindowsError',\n",
       " 'ZeroDivisionError',\n",
       " '__IPYTHON__',\n",
       " '__build_class__',\n",
       " '__debug__',\n",
       " '__doc__',\n",
       " '__import__',\n",
       " '__loader__',\n",
       " '__name__',\n",
       " '__package__',\n",
       " '__spec__',\n",
       " 'abs',\n",
       " 'aiter',\n",
       " 'all',\n",
       " 'anext',\n",
       " 'any',\n",
       " 'ascii',\n",
       " 'bin',\n",
       " 'bool',\n",
       " 'breakpoint',\n",
       " 'bytearray',\n",
       " 'bytes',\n",
       " 'callable',\n",
       " 'chr',\n",
       " 'classmethod',\n",
       " 'compile',\n",
       " 'complex',\n",
       " 'copyright',\n",
       " 'credits',\n",
       " 'delattr',\n",
       " 'dict',\n",
       " 'dir',\n",
       " 'display',\n",
       " 'divmod',\n",
       " 'enumerate',\n",
       " 'eval',\n",
       " 'exec',\n",
       " 'execfile',\n",
       " 'filter',\n",
       " 'float',\n",
       " 'format',\n",
       " 'frozenset',\n",
       " 'get_ipython',\n",
       " 'getattr',\n",
       " 'globals',\n",
       " 'hasattr',\n",
       " 'hash',\n",
       " 'help',\n",
       " 'hex',\n",
       " 'id',\n",
       " 'input',\n",
       " 'int',\n",
       " 'isinstance',\n",
       " 'issubclass',\n",
       " 'iter',\n",
       " 'len',\n",
       " 'license',\n",
       " 'list',\n",
       " 'locals',\n",
       " 'map',\n",
       " 'max',\n",
       " 'memoryview',\n",
       " 'min',\n",
       " 'next',\n",
       " 'object',\n",
       " 'oct',\n",
       " 'open',\n",
       " 'ord',\n",
       " 'pow',\n",
       " 'print',\n",
       " 'property',\n",
       " 'range',\n",
       " 'repr',\n",
       " 'reversed',\n",
       " 'round',\n",
       " 'runfile',\n",
       " 'set',\n",
       " 'setattr',\n",
       " 'slice',\n",
       " 'sorted',\n",
       " 'staticmethod',\n",
       " 'str',\n",
       " 'sum',\n",
       " 'super',\n",
       " 'tuple',\n",
       " 'type',\n",
       " 'vars',\n",
       " 'zip']"
      ]
     },
     "execution_count": 10,
     "metadata": {},
     "output_type": "execute_result"
    }
   ],
   "source": [
    "dir(__builtins__)"
   ]
  },
  {
   "cell_type": "code",
   "execution_count": 11,
   "metadata": {},
   "outputs": [
    {
     "name": "stdout",
     "output_type": "stream",
     "text": [
      "The current item is ArithmeticError located at 2750542304880\n",
      "The current item is AssertionError located at 2750542304944\n",
      "The current item is AttributeError located at 140731907008624\n",
      "The current item is BaseException located at 2750542304688\n",
      "The current item is BaseExceptionGroup located at 2750542304752\n",
      "The current item is BlockingIOError located at 140731907270584\n",
      "The current item is BrokenPipeError located at 2750542306544\n",
      "The current item is BufferError located at 2750542305008\n",
      "The current item is BytesWarning located at 140731907176968\n",
      "The current item is ChildProcessError located at 2750542305904\n",
      "The current item is ConnectionAbortedError located at 2750542306608\n",
      "The current item is ConnectionError located at 2750542305968\n",
      "The current item is ConnectionRefusedError located at 2750542306672\n",
      "The current item is ConnectionResetError located at 2750542306736\n",
      "The current item is DeprecationWarning located at 140731907095568\n",
      "The current item is EOFError located at 140731907176528\n",
      "The current item is Ellipsis located at 140731907252616\n",
      "The current item is EncodingWarning located at 2750542305520\n",
      "The current item is EnvironmentError located at 2750542307696\n",
      "The current item is Exception located at 140731907130672\n",
      "The current item is ExceptionGroup located at 2750542307632\n",
      "The current item is False located at 140731908169648\n",
      "The current item is FileExistsError located at 140731907150576\n",
      "The current item is FileNotFoundError located at 140731907138432\n",
      "The current item is FloatingPointError located at 2750542305328\n",
      "The current item is FutureWarning located at 2750542305584\n",
      "The current item is GeneratorExit located at 140731907184456\n",
      "The current item is IOError located at 2750542293648\n",
      "The current item is ImportError located at 140731907071408\n",
      "The current item is ImportWarning located at 140731907096224\n",
      "The current item is IndentationError located at 2750542306288\n",
      "The current item is IndexError located at 140731907096536\n",
      "The current item is InterruptedError located at 2750542306032\n",
      "The current item is IsADirectoryError located at 2750542306096\n",
      "The current item is KeyError located at 140731907105000\n",
      "The current item is KeyboardInterrupt located at 2750542304816\n",
      "The current item is LookupError located at 140731907000640\n",
      "The current item is MemoryError located at 2750542305072\n",
      "The current item is ModuleNotFoundError located at 140731907151264\n",
      "The current item is NameError located at 2750542305136\n",
      "The current item is None located at 2750542293360\n",
      "The current item is NotADirectoryError located at 140731907018960\n",
      "The current item is NotImplemented located at 140731907166504\n",
      "The current item is NotImplementedError located at 140731907267760\n",
      "The current item is OSError located at 140731907107304\n",
      "The current item is OverflowError located at 2750542305392\n",
      "The current item is PendingDeprecationWarning located at 2750542276416\n",
      "The current item is PermissionError located at 140731907172408\n",
      "The current item is ProcessLookupError located at 2750542306160\n",
      "The current item is RecursionError located at 2750542306352\n",
      "The current item is ReferenceError located at 2750542305200\n",
      "The current item is ResourceWarning located at 2750542305648\n",
      "The current item is RuntimeError located at 140731907193784\n",
      "The current item is RuntimeWarning located at 140731907290800\n",
      "The current item is StopAsyncIteration located at 140731907175488\n",
      "The current item is StopIteration located at 140731907060824\n",
      "The current item is SyntaxError located at 2750542305264\n",
      "The current item is SyntaxWarning located at 2750542305712\n",
      "The current item is SystemError located at 140731907020584\n",
      "The current item is SystemExit located at 140731907208280\n",
      "The current item is TabError located at 2750542306800\n",
      "The current item is TimeoutError located at 2750542306224\n",
      "The current item is True located at 140731908169904\n",
      "The current item is TypeError located at 140731907306640\n",
      "The current item is UnboundLocalError located at 2750542306416\n",
      "The current item is UnicodeDecodeError located at 140731907133264\n",
      "The current item is UnicodeEncodeError located at 2750542306864\n",
      "The current item is UnicodeError located at 2750542306480\n",
      "The current item is UnicodeTranslateError located at 2750542306928\n",
      "The current item is UnicodeWarning located at 2750542305776\n",
      "The current item is UserWarning located at 2750542305840\n",
      "The current item is ValueError located at 140731907086944\n",
      "The current item is Warning located at 2750542293600\n",
      "The current item is WindowsError located at 2750542307760\n",
      "The current item is ZeroDivisionError located at 2750542305456\n",
      "The current item is __IPYTHON__ located at 2750600944560\n",
      "The current item is __build_class__ located at 140731908171120\n",
      "The current item is __debug__ located at 2750542304624\n",
      "The current item is __doc__ located at 140731908172368\n",
      "The current item is __import__ located at 140731908173800\n",
      "The current item is __loader__ located at 140731908174912\n",
      "The current item is __name__ located at 140731908175448\n",
      "The current item is __package__ located at 140731908176032\n",
      "The current item is __spec__ located at 140731908178024\n",
      "The current item is abs located at 140731907182040\n",
      "The current item is aiter located at 2750542293072\n",
      "The current item is all located at 140731907034456\n",
      "The current item is anext located at 2750542293120\n",
      "The current item is any located at 140731907050080\n",
      "The current item is ascii located at 140731907170416\n",
      "The current item is bin located at 2750542292880\n",
      "The current item is bool located at 140731907179192\n",
      "The current item is breakpoint located at 2750542304496\n",
      "The current item is bytearray located at 140731906999864\n",
      "The current item is bytes located at 140731908183096\n",
      "The current item is callable located at 140731907198664\n",
      "The current item is chr located at 2750542292928\n",
      "The current item is classmethod located at 140731907299344\n",
      "The current item is compile located at 140731907077624\n",
      "The current item is complex located at 2750542293408\n",
      "The current item is copyright located at 140731907293440\n",
      "The current item is credits located at 140731907272752\n",
      "The current item is delattr located at 140731907240568\n",
      "The current item is dict located at 140731908186624\n",
      "The current item is dir located at 140731907102672\n",
      "The current item is display located at 2750586788800\n",
      "The current item is divmod located at 2750542292976\n",
      "The current item is enumerate located at 140731907085360\n",
      "The current item is eval located at 2750542293024\n",
      "The current item is exec located at 140731907006136\n",
      "The current item is execfile located at 2750586124976\n",
      "The current item is filter located at 2750542293456\n",
      "The current item is float located at 2750542293504\n",
      "The current item is format located at 140731908189816\n",
      "The current item is frozenset located at 140731907133576\n",
      "The current item is get_ipython located at 2750587506160\n",
      "The current item is getattr located at 140731908190656\n",
      "The current item is globals located at 140731908190808\n",
      "The current item is hasattr located at 140731907119312\n",
      "The current item is hash located at 140731907103656\n",
      "The current item is help located at 140731907044736\n",
      "The current item is hex located at 2750541693360\n",
      "The current item is id located at 140731908191256\n",
      "The current item is input located at 140731908192088\n",
      "The current item is int located at 140731907268384\n",
      "The current item is isinstance located at 140731908192512\n",
      "The current item is issubclass located at 2750542304560\n",
      "The current item is iter located at 140731908192824\n",
      "The current item is len located at 140731908193952\n",
      "The current item is license located at 140731907117536\n",
      "The current item is list located at 140731907160560\n",
      "The current item is locals located at 140731908194496\n",
      "The current item is map located at 140731907284344\n",
      "The current item is max located at 140731907220192\n",
      "The current item is memoryview located at 140731907214960\n",
      "The current item is min located at 140731907155176\n",
      "The current item is next located at 140731908196600\n",
      "The current item is object located at 140731908197096\n",
      "The current item is oct located at 2750542293168\n",
      "The current item is open located at 140731908197568\n",
      "The current item is ord located at 2750542293216\n",
      "The current item is pow located at 2750542293264\n",
      "The current item is print located at 140731907148792\n",
      "The current item is property located at 140731907118312\n",
      "The current item is range located at 140731907281840\n",
      "The current item is repr located at 140731907050280\n",
      "The current item is reversed located at 140731908200768\n",
      "The current item is round located at 2750542293312\n",
      "The current item is runfile located at 2750614598352\n",
      "The current item is set located at 140731907210104\n",
      "The current item is setattr located at 140731907213728\n",
      "The current item is slice located at 2750542293552\n",
      "The current item is sorted located at 140731907097488\n",
      "The current item is staticmethod located at 140731907086328\n",
      "The current item is str located at 140731907002320\n",
      "The current item is sum located at 140731907178712\n",
      "The current item is super located at 140731907311216\n",
      "The current item is tuple located at 140731907058632\n",
      "The current item is type located at 140731908204888\n",
      "The current item is vars located at 140731907042960\n",
      "The current item is zip located at 140731907269664\n"
     ]
    }
   ],
   "source": [
    "for item in dir(__builtins__):\n",
    "    print(f\"The current item is {item} located at {id(item)}\")"
   ]
  },
  {
   "cell_type": "code",
   "execution_count": 12,
   "metadata": {
    "scrolled": true
   },
   "outputs": [
    {
     "name": "stdout",
     "output_type": "stream",
     "text": [
      "The current item is In located at 2750577757808\n",
      "The current item is Out located at 2750600930592\n",
      "The current item is _ located at 140731908170008\n",
      "The current item is _10 located at 2750633933248\n",
      "The current item is _6 located at 2750634473056\n",
      "The current item is _7 located at 2750651062224\n",
      "The current item is _8 located at 2750641396528\n",
      "The current item is _9 located at 2750641403776\n",
      "The current item is __ located at 2750544623680\n",
      "The current item is ___ located at 2750600930880\n",
      "The current item is __builtin__ located at 2750550228336\n",
      "The current item is __builtins__ located at 140731908171176\n",
      "The current item is __doc__ located at 140731908172368\n",
      "The current item is __loader__ located at 140731908174912\n",
      "The current item is __name__ located at 140731908175448\n",
      "The current item is __package__ located at 140731908176032\n",
      "The current item is __session__ located at 2750611936048\n",
      "The current item is __spec__ located at 140731908178024\n",
      "The current item is _dh located at 2750600930544\n",
      "The current item is _i located at 2750601517056\n",
      "The current item is _i1 located at 2750634468640\n",
      "The current item is _i10 located at 2750651061744\n",
      "The current item is _i11 located at 2750651071152\n",
      "The current item is _i12 located at 2750634468880\n",
      "The current item is _i2 located at 2750634596640\n",
      "The current item is _i3 located at 2750635107280\n",
      "The current item is _i4 located at 2750651737376\n",
      "The current item is _i5 located at 2750641405072\n",
      "The current item is _i6 located at 2750641404592\n",
      "The current item is _i7 located at 2750651071632\n",
      "The current item is _i8 located at 2750651736320\n",
      "The current item is _i9 located at 2750634468304\n",
      "The current item is _ih located at 2750600930448\n",
      "The current item is _ii located at 2750601517104\n",
      "The current item is _iii located at 2750601517152\n",
      "The current item is _oh located at 2750600930496\n",
      "The current item is a located at 140731908181216\n",
      "The current item is b located at 140731908182272\n",
      "The current item is c located at 140731908183200\n",
      "The current item is d located at 140731908186016\n",
      "The current item is e located at 140731908187472\n",
      "The current item is exit located at 140731907252280\n",
      "The current item is f located at 140731908211144\n",
      "The current item is g located at 140731908211192\n",
      "The current item is get_ipython located at 2750587506160\n",
      "The current item is h located at 140731908211240\n",
      "The current item is i located at 140731908211288\n",
      "The current item is item located at 140731908192728\n",
      "The current item is j located at 140731908211336\n",
      "The current item is k located at 140731908211384\n",
      "The current item is open located at 140731908197568\n",
      "The current item is quit located at 140731907213832\n"
     ]
    }
   ],
   "source": [
    "for item in dir():\n",
    "    print(f\"The current item is {item} located at {id(item)}\")"
   ]
  },
  {
   "cell_type": "code",
   "execution_count": null,
   "metadata": {},
   "outputs": [],
   "source": []
  },
  {
   "cell_type": "markdown",
   "metadata": {},
   "source": [
    "##### creating a class"
   ]
  },
  {
   "cell_type": "code",
   "execution_count": 1,
   "metadata": {},
   "outputs": [],
   "source": [
    "class digitalpad:\n",
    "    '''This CLASS is the BLUPRINT of Digital Pad OBJECT.'''\n",
    "    def __init__(self):  #### CONSTRUCTOR\n",
    "        print(\"I am the CONSTRUCTOR... I get called BY DEFAULT... Also called INIT(Initialiser)\")\n",
    "        print(\"Creates the DIGITAL PAD OBJECT...\")"
   ]
  },
  {
   "cell_type": "code",
   "execution_count": 14,
   "metadata": {},
   "outputs": [
    {
     "data": {
      "text/plain": [
       "2750599372240"
      ]
     },
     "execution_count": 14,
     "metadata": {},
     "output_type": "execute_result"
    }
   ],
   "source": [
    "id(digitalpad)"
   ]
  },
  {
   "cell_type": "code",
   "execution_count": 5,
   "metadata": {},
   "outputs": [
    {
     "data": {
      "text/plain": [
       "'This CLASS is the BLUPRINT of Digital Pad OBJECT.'"
      ]
     },
     "execution_count": 5,
     "metadata": {},
     "output_type": "execute_result"
    }
   ],
   "source": [
    "digitalpad.__doc__"
   ]
  },
  {
   "cell_type": "markdown",
   "metadata": {},
   "source": [
    "##### creating an object of the class"
   ]
  },
  {
   "cell_type": "code",
   "execution_count": 23,
   "metadata": {},
   "outputs": [
    {
     "name": "stdout",
     "output_type": "stream",
     "text": [
      "I am the CONSTRUCTOR... I get called BY DEFAULT... Also called INIT(Initialiser)\n",
      "Creates the DIGITAL PAD OBJECT...\n"
     ]
    }
   ],
   "source": [
    "saomya_digitalpad = digitalpad()"
   ]
  },
  {
   "cell_type": "code",
   "execution_count": 18,
   "metadata": {},
   "outputs": [
    {
     "data": {
      "text/plain": [
       "int"
      ]
     },
     "execution_count": 18,
     "metadata": {},
     "output_type": "execute_result"
    }
   ],
   "source": [
    "type(5)"
   ]
  },
  {
   "cell_type": "code",
   "execution_count": 19,
   "metadata": {},
   "outputs": [
    {
     "data": {
      "text/plain": [
       "type"
      ]
     },
     "execution_count": 19,
     "metadata": {},
     "output_type": "execute_result"
    }
   ],
   "source": [
    "type(type)"
   ]
  },
  {
   "cell_type": "code",
   "execution_count": 20,
   "metadata": {},
   "outputs": [
    {
     "data": {
      "text/plain": [
       "type"
      ]
     },
     "execution_count": 20,
     "metadata": {},
     "output_type": "execute_result"
    }
   ],
   "source": [
    "type(digitalpad)"
   ]
  },
  {
   "cell_type": "code",
   "execution_count": null,
   "metadata": {},
   "outputs": [],
   "source": []
  },
  {
   "cell_type": "markdown",
   "metadata": {},
   "source": [
    "### Class is a collection of variables, methods and constructors"
   ]
  },
  {
   "cell_type": "markdown",
   "metadata": {},
   "source": [
    "![dog.png](https://cdn-images.visual-paradigm.com/guide/uml/uml-class-diagram-tutorial/01-uml-base-class-and-object-explained.png)"
   ]
  },
  {
   "cell_type": "code",
   "execution_count": 4,
   "metadata": {},
   "outputs": [],
   "source": [
    "class Dog:\n",
    "    def __init__(dog_itself):\n",
    "        dog_itself.color = \"Golden\"\n",
    "        dog_itself.eye_color = \"Brown\"\n",
    "        dog_itself.height_in_inch = 17\n",
    "        dog_itself.weight = 24\n",
    "        print(f\"This Dog is {dog_itself.color} in color, has {dog_itself.eye_color}, height {dog_itself.height_in_inch}, weight {dog_itself.weight}\")\n",
    "\n",
    "    def bark(dog_itself):\n",
    "        print(\"The Dog barks...\")\n",
    "\n",
    "    def sit(dog_itself):\n",
    "        print(\"The Dog sits...\")"
   ]
  },
  {
   "cell_type": "code",
   "execution_count": null,
   "metadata": {},
   "outputs": [],
   "source": []
  },
  {
   "cell_type": "code",
   "execution_count": null,
   "metadata": {},
   "outputs": [],
   "source": []
  },
  {
   "cell_type": "code",
   "execution_count": null,
   "metadata": {},
   "outputs": [],
   "source": [
    "# object creation"
   ]
  },
  {
   "cell_type": "code",
   "execution_count": 5,
   "metadata": {},
   "outputs": [
    {
     "name": "stdout",
     "output_type": "stream",
     "text": [
      "This Dog is Golden in color, has Brown, height 17, weight 24\n"
     ]
    }
   ],
   "source": [
    "bobby = Dog()"
   ]
  },
  {
   "cell_type": "code",
   "execution_count": null,
   "metadata": {},
   "outputs": [],
   "source": []
  },
  {
   "cell_type": "code",
   "execution_count": null,
   "metadata": {},
   "outputs": [],
   "source": [
    "# method calling"
   ]
  },
  {
   "cell_type": "code",
   "execution_count": 6,
   "metadata": {},
   "outputs": [
    {
     "name": "stdout",
     "output_type": "stream",
     "text": [
      "The Dog barks...\n"
     ]
    }
   ],
   "source": [
    "bobby.bark()"
   ]
  },
  {
   "cell_type": "code",
   "execution_count": 7,
   "metadata": {},
   "outputs": [
    {
     "name": "stdout",
     "output_type": "stream",
     "text": [
      "The Dog sits...\n"
     ]
    }
   ],
   "source": [
    "bobby.sit()"
   ]
  },
  {
   "cell_type": "code",
   "execution_count": null,
   "metadata": {},
   "outputs": [],
   "source": [
    "# attributes"
   ]
  },
  {
   "cell_type": "code",
   "execution_count": 8,
   "metadata": {},
   "outputs": [
    {
     "data": {
      "text/plain": [
       "'Golden'"
      ]
     },
     "execution_count": 8,
     "metadata": {},
     "output_type": "execute_result"
    }
   ],
   "source": [
    "bobby.color"
   ]
  },
  {
   "cell_type": "code",
   "execution_count": 9,
   "metadata": {},
   "outputs": [
    {
     "data": {
      "text/plain": [
       "'Brown'"
      ]
     },
     "execution_count": 9,
     "metadata": {},
     "output_type": "execute_result"
    }
   ],
   "source": [
    "bobby.eye_color"
   ]
  },
  {
   "cell_type": "code",
   "execution_count": null,
   "metadata": {},
   "outputs": [],
   "source": []
  }
 ],
 "metadata": {
  "kernelspec": {
   "display_name": "Python 3 (ipykernel)",
   "language": "python",
   "name": "python3"
  },
  "language_info": {
   "codemirror_mode": {
    "name": "ipython",
    "version": 3
   },
   "file_extension": ".py",
   "mimetype": "text/x-python",
   "name": "python",
   "nbconvert_exporter": "python",
   "pygments_lexer": "ipython3",
   "version": "3.11.5"
  }
 },
 "nbformat": 4,
 "nbformat_minor": 4
}
