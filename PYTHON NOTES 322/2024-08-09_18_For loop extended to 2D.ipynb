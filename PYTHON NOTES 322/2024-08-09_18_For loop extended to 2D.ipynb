{
 "cells": [
  {
   "cell_type": "markdown",
   "metadata": {},
   "source": [
    "# Accessing individual elements in 2D list"
   ]
  },
  {
   "cell_type": "code",
   "execution_count": null,
   "metadata": {},
   "outputs": [],
   "source": [
    "### Without INDEXATION"
   ]
  },
  {
   "cell_type": "code",
   "execution_count": 2,
   "metadata": {},
   "outputs": [
    {
     "name": "stdout",
     "output_type": "stream",
     "text": [
      "Current element is:  [4, 12, 56]\n",
      "Current element is:  [1, 3, 8]\n",
      "Current element is:  [74, 12, 9]\n"
     ]
    }
   ],
   "source": [
    "sample_2d_list = [[4,12,56],\n",
    "                  [1,3,8],\n",
    "                  [74,12,9]]\n",
    "for element in sample_2d_list:\n",
    "    print(\"Current element is: \", element)"
   ]
  },
  {
   "cell_type": "code",
   "execution_count": 4,
   "metadata": {},
   "outputs": [
    {
     "name": "stdout",
     "output_type": "stream",
     "text": [
      "Current element is:  [4, 12, 56]\n",
      "Current individual element is:  4\n",
      "Current individual element is:  12\n",
      "Current individual element is:  56\n",
      "Current element is:  [1, 3, 8]\n",
      "Current individual element is:  1\n",
      "Current individual element is:  3\n",
      "Current individual element is:  8\n",
      "Current element is:  [74, 12, 9]\n",
      "Current individual element is:  74\n",
      "Current individual element is:  12\n",
      "Current individual element is:  9\n"
     ]
    }
   ],
   "source": [
    "for element in sample_2d_list:\n",
    "    print(\"Current element is: \", element)\n",
    "    for sub_element in element:\n",
    "        print(\"Current individual element is: \", sub_element)"
   ]
  },
  {
   "cell_type": "code",
   "execution_count": null,
   "metadata": {},
   "outputs": [],
   "source": [
    "### With INDEXATION"
   ]
  },
  {
   "cell_type": "code",
   "execution_count": 11,
   "metadata": {},
   "outputs": [
    {
     "name": "stdout",
     "output_type": "stream",
     "text": [
      "Current element is:  [4, 12, 56]\n",
      "Current individual element AT (0, 0) is:  4\n",
      "Current individual element AT (0, 1) is:  12\n",
      "Current individual element AT (0, 2) is:  56\n",
      "Current element is:  [1, 3, 8]\n",
      "Current individual element AT (1, 0) is:  1\n",
      "Current individual element AT (1, 1) is:  3\n",
      "Current individual element AT (1, 2) is:  8\n",
      "Current element is:  [74, 12, 9]\n",
      "Current individual element AT (2, 0) is:  74\n",
      "Current individual element AT (2, 1) is:  12\n",
      "Current individual element AT (2, 2) is:  9\n"
     ]
    }
   ],
   "source": [
    "for row_index in range(len(sample_2d_list)):\n",
    "    print(\"Current element is: \", sample_2d_list[row_index])\n",
    "    for column_index in range(len(sample_2d_list[row_index])):\n",
    "        print(f\"Current individual element AT {row_index,column_index} is: \", sample_2d_list[row_index][column_index])"
   ]
  },
  {
   "cell_type": "code",
   "execution_count": 9,
   "metadata": {},
   "outputs": [
    {
     "data": {
      "text/plain": [
       "74"
      ]
     },
     "execution_count": 9,
     "metadata": {},
     "output_type": "execute_result"
    }
   ],
   "source": [
    "sample_2d_list[2][0]"
   ]
  },
  {
   "cell_type": "code",
   "execution_count": 16,
   "metadata": {},
   "outputs": [
    {
     "name": "stdout",
     "output_type": "stream",
     "text": [
      "Current element is:  [4, 12, 56]\n",
      "Current individual element AT (0, 0) is:  4\n",
      "Current individual element AT (0, 1) is:  12\n",
      "Current individual element AT (0, 2) is:  56\n",
      "Current element is:  [1, 3, 8, 12, 44, 21]\n",
      "Current individual element AT (1, 0) is:  1\n",
      "Current individual element AT (1, 1) is:  3\n",
      "Current individual element AT (1, 2) is:  8\n",
      "Current individual element AT (1, 3) is:  12\n",
      "Current individual element AT (1, 4) is:  44\n",
      "Current individual element AT (1, 5) is:  21\n",
      "Current element is:  [74, 12, 9]\n",
      "Current individual element AT (2, 0) is:  74\n",
      "Current individual element AT (2, 1) is:  12\n",
      "Current individual element AT (2, 2) is:  9\n"
     ]
    }
   ],
   "source": [
    "sample_2d_list = [[4,12,56],\n",
    "                  [1,3,8,12,44,21],\n",
    "                  [74,12,9]]\n",
    "for row_index in range(len(sample_2d_list)):\n",
    "    print(\"Current element is: \", sample_2d_list[row_index])\n",
    "    for column_index in range(len(sample_2d_list[row_index])):\n",
    "        print(f\"Current individual element AT {row_index,column_index} is: \", sample_2d_list[row_index][column_index])"
   ]
  },
  {
   "cell_type": "code",
   "execution_count": null,
   "metadata": {},
   "outputs": [],
   "source": []
  },
  {
   "cell_type": "code",
   "execution_count": null,
   "metadata": {},
   "outputs": [],
   "source": []
  },
  {
   "cell_type": "markdown",
   "metadata": {},
   "source": [
    "# Add corresponding elements in a 2 Dimension list"
   ]
  },
  {
   "cell_type": "code",
   "execution_count": 3,
   "metadata": {},
   "outputs": [
    {
     "data": {
      "text/plain": [
       "[[6, 51], [8, 17]]"
      ]
     },
     "execution_count": 3,
     "metadata": {},
     "output_type": "execute_result"
    }
   ],
   "source": [
    "first_list = [[5,43],[2,10]]\n",
    "second_list = [[1,8],[6,7]]\n",
    "######### output_list = [[6,51],[8,17]] ############\n",
    "output_list = [[2131230,10],[250,6536]]\n",
    "for row_index in range(len(second_list)):\n",
    "    for column_index in range(len(output_list[row_index])):\n",
    "        output_list[row_index][column_index] = first_list[row_index][column_index] + second_list[row_index][column_index]\n",
    "\n",
    "output_list"
   ]
  },
  {
   "cell_type": "code",
   "execution_count": null,
   "metadata": {},
   "outputs": [],
   "source": []
  },
  {
   "cell_type": "code",
   "execution_count": null,
   "metadata": {},
   "outputs": [],
   "source": []
  },
  {
   "cell_type": "markdown",
   "metadata": {},
   "source": [
    "# Printing FORWARD Diagonal Elements in 2D"
   ]
  },
  {
   "cell_type": "code",
   "execution_count": 11,
   "metadata": {},
   "outputs": [
    {
     "name": "stdout",
     "output_type": "stream",
     "text": [
      "Element at (0, 0) is:  43\n",
      "Element at (1, 1) is:  6\n",
      "Element at (2, 2) is:  554\n",
      "CPU times: total: 0 ns\n",
      "Wall time: 4.5 s\n"
     ]
    }
   ],
   "source": [
    "%%time\n",
    "import time\n",
    "sample_list = [[43,22,12],\n",
    "               [1,6,3],\n",
    "               [87,12,554]]\n",
    "for row_index in range(len(sample_list)):\n",
    "    for column_index in range(len(sample_list[row_index])):\n",
    "        if row_index == column_index:\n",
    "            print(f\"Element at {row_index, column_index} is: \", sample_list[row_index][column_index])\n",
    "        time.sleep(0.5)"
   ]
  },
  {
   "cell_type": "code",
   "execution_count": null,
   "metadata": {},
   "outputs": [],
   "source": []
  },
  {
   "cell_type": "code",
   "execution_count": null,
   "metadata": {},
   "outputs": [],
   "source": []
  },
  {
   "cell_type": "code",
   "execution_count": null,
   "metadata": {},
   "outputs": [],
   "source": []
  },
  {
   "cell_type": "markdown",
   "metadata": {},
   "source": [
    "# Printing BACKWARD Diagonal Elements in 2D"
   ]
  },
  {
   "cell_type": "code",
   "execution_count": 13,
   "metadata": {},
   "outputs": [
    {
     "name": "stdout",
     "output_type": "stream",
     "text": [
      "Element at (0, 2) is:  12\n",
      "Element at (1, 1) is:  6\n",
      "Element at (2, 0) is:  87\n",
      "CPU times: total: 15.6 ms\n",
      "Wall time: 4.5 s\n"
     ]
    }
   ],
   "source": [
    "%%time\n",
    "import time\n",
    "sample_list = [[43,22,12],\n",
    "               [1,6,3],\n",
    "               [87,12,554]]\n",
    "for row_index in range(len(sample_list)):\n",
    "    for column_index in range(len(sample_list[row_index])):\n",
    "        if row_index + column_index == (len(sample_list)-1):\n",
    "            print(f\"Element at {row_index, column_index} is: \", sample_list[row_index][column_index])\n",
    "        time.sleep(0.5)"
   ]
  },
  {
   "cell_type": "code",
   "execution_count": null,
   "metadata": {},
   "outputs": [],
   "source": []
  },
  {
   "cell_type": "code",
   "execution_count": null,
   "metadata": {},
   "outputs": [],
   "source": []
  },
  {
   "cell_type": "code",
   "execution_count": null,
   "metadata": {},
   "outputs": [],
   "source": []
  },
  {
   "cell_type": "markdown",
   "metadata": {},
   "source": [
    "# EXPLOITING ONE LOOP CONCEPTS"
   ]
  },
  {
   "cell_type": "code",
   "execution_count": 4,
   "metadata": {},
   "outputs": [],
   "source": [
    "# Printing diagonal elements in a 2D array using for SINGLE for loop"
   ]
  },
  {
   "cell_type": "code",
   "execution_count": null,
   "metadata": {},
   "outputs": [],
   "source": [
    "### Measure time taken"
   ]
  },
  {
   "cell_type": "code",
   "execution_count": 15,
   "metadata": {},
   "outputs": [
    {
     "name": "stdout",
     "output_type": "stream",
     "text": [
      "Element at (0, 0) is:  43\n",
      "Element at (1, 1) is:  6\n",
      "Element at (2, 2) is:  554\n",
      "CPU times: total: 0 ns\n",
      "Wall time: 3 s\n"
     ]
    }
   ],
   "source": [
    "%%time\n",
    "import time\n",
    "sample_list = [[43,22,12],\n",
    "               [1,6,3],\n",
    "               [87,12,554]]\n",
    "for row_index in range(len(sample_list)):\n",
    "    print(f\"Element at {row_index, row_index} is: \", sample_list[row_index][row_index])\n",
    "    time.sleep(1)"
   ]
  },
  {
   "cell_type": "code",
   "execution_count": 17,
   "metadata": {},
   "outputs": [
    {
     "name": "stdout",
     "output_type": "stream",
     "text": [
      "Element at (0, 2) is:  12\n",
      "Element at (1, 1) is:  6\n",
      "Element at (2, 0) is:  87\n",
      "CPU times: total: 0 ns\n",
      "Wall time: 3 s\n"
     ]
    }
   ],
   "source": [
    "%%time\n",
    "import time\n",
    "sample_list = [[43,22,12],\n",
    "               [1,6,3],\n",
    "               [87,12,554]]\n",
    "for row_index in range(len(sample_list)):\n",
    "    print(f\"Element at {row_index, (len(sample_list) - 1 -row_index)} is: \", sample_list[row_index][(len(sample_list) - 1 -row_index)])\n",
    "    time.sleep(1)"
   ]
  },
  {
   "cell_type": "code",
   "execution_count": null,
   "metadata": {},
   "outputs": [],
   "source": []
  }
 ],
 "metadata": {
  "kernelspec": {
   "display_name": "Python 3 (ipykernel)",
   "language": "python",
   "name": "python3"
  },
  "language_info": {
   "codemirror_mode": {
    "name": "ipython",
    "version": 3
   },
   "file_extension": ".py",
   "mimetype": "text/x-python",
   "name": "python",
   "nbconvert_exporter": "python",
   "pygments_lexer": "ipython3",
   "version": "3.11.5"
  }
 },
 "nbformat": 4,
 "nbformat_minor": 4
}
