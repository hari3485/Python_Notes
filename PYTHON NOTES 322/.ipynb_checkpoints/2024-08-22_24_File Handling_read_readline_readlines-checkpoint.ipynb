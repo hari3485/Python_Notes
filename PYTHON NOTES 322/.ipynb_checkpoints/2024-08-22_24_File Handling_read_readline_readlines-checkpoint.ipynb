{
 "cells": [
  {
   "cell_type": "markdown",
   "metadata": {},
   "source": [
    "# Today's Agenda\n",
    "#### File Handling\n",
    "> ### What is File?\n",
    "> ### How to create file?\n",
    "> ### How to handle files?\n",
    "#### Exception Handling\n",
    "> ### What is error?\n",
    "> ### What is the difference between error and exception?\n",
    "> ### What is try, except and finally\n",
    "> ### Why should we handle exceptions?"
   ]
  },
  {
   "cell_type": "code",
   "execution_count": null,
   "metadata": {},
   "outputs": [],
   "source": []
  },
  {
   "cell_type": "code",
   "execution_count": null,
   "metadata": {},
   "outputs": [],
   "source": []
  },
  {
   "cell_type": "markdown",
   "metadata": {},
   "source": [
    "**Data used in a program is temporary; unless the data is specifically saved, it is lost when the program terminates. To permanently store the data created in a program, you need to save it in a file on a disk or some other permanent storage device. The file can be transported and can be read later by other programs.**\n",
    "\n",
    "**Files can be classified into text or binary files. A file that can be processed (that is, read, created, or modified) using a text editor such as Notepad on Windows or vi on UNIX is called a text file. All the other files are called binary files. For example, Python source programs are stored in text files and can be processed by a text editor, but Microsoft Word files are stored in binary files and are processed by the Microsoft Word program.**\n",
    "\n",
    "**Computers do not differentiate between binary files and text files. All files are stored in binary format, and thus all files are essentially binary files. Text IO (input and output) is built upon binary IO to provide a level of abstraction for character encoding and decoding.**\n",
    "\n",
    "**In Python, files are accessed using the file objects. As a matter of fact, the file objects help us to access not just normal disk files but can help us to accomplish many other tasks involving other kinds of files**"
   ]
  },
  {
   "cell_type": "markdown",
   "metadata": {},
   "source": [
    "![file-operations.png](file_operations.png)"
   ]
  },
  {
   "cell_type": "code",
   "execution_count": null,
   "metadata": {},
   "outputs": [],
   "source": []
  },
  {
   "cell_type": "markdown",
   "metadata": {},
   "source": [
    "# 1. Opening a file"
   ]
  },
  {
   "cell_type": "markdown",
   "metadata": {},
   "source": [
    "Python has a built-in function open() to open a file. This function returns a file object, also called a handle, as it is used to read or modify the file accordingly.\n",
    "\n",
    "`f = open(\"test.txt\")    # open file in current directory\n",
    "f = open(\"C:/Python33/README.txt\")  # specifying full path`"
   ]
  },
  {
   "cell_type": "markdown",
   "metadata": {},
   "source": [
    "![file-opening.png](file_open.png)"
   ]
  },
  {
   "cell_type": "markdown",
   "metadata": {},
   "source": [
    "We can specify the mode while opening a file. In mode, we specify whether we want to read 'r', write 'w' or append 'a' to the file. We also specify if we want to open the file in text mode or binary mode. The default is reading in text mode. In this mode, we get strings when reading from the file. On the other hand, binary mode returns bytes and this is the mode to be used when dealing with non-text files like image or exe files."
   ]
  },
  {
   "cell_type": "markdown",
   "metadata": {},
   "source": [
    "![file_open_modes.png](file_open_modes.png)"
   ]
  },
  {
   "cell_type": "code",
   "execution_count": 14,
   "metadata": {},
   "outputs": [
    {
     "data": {
      "text/plain": [
       "'saomya'"
      ]
     },
     "execution_count": 14,
     "metadata": {},
     "output_type": "execute_result"
    }
   ],
   "source": [
    "file_322 = open(mode = \"r\", file = \"sample_data_322.txt\")\n",
    "file_322.read()"
   ]
  },
  {
   "cell_type": "code",
   "execution_count": 12,
   "metadata": {},
   "outputs": [
    {
     "data": {
      "text/plain": [
       "6"
      ]
     },
     "execution_count": 12,
     "metadata": {},
     "output_type": "execute_result"
    }
   ],
   "source": [
    "file_322.write(\"saomya\")"
   ]
  },
  {
   "cell_type": "code",
   "execution_count": 13,
   "metadata": {},
   "outputs": [],
   "source": [
    "file_322.close()"
   ]
  },
  {
   "cell_type": "code",
   "execution_count": null,
   "metadata": {},
   "outputs": [],
   "source": [
    "file_322"
   ]
  },
  {
   "cell_type": "code",
   "execution_count": 6,
   "metadata": {},
   "outputs": [
    {
     "ename": "SyntaxError",
     "evalue": "(unicode error) 'unicodeescape' codec can't decode bytes in position 2-3: truncated \\UXXXXXXXX escape (2386225675.py, line 1)",
     "output_type": "error",
     "traceback": [
      "\u001b[1;36m  Cell \u001b[1;32mIn[6], line 1\u001b[1;36m\u001b[0m\n\u001b[1;33m    file_322 = open(mode = \"r\", file = \"C:\\Users\\DELL\\Desktop\\python lectures\\Batch_322\\batch 322_other loc.csv\")\u001b[0m\n\u001b[1;37m                                       ^\u001b[0m\n\u001b[1;31mSyntaxError\u001b[0m\u001b[1;31m:\u001b[0m (unicode error) 'unicodeescape' codec can't decode bytes in position 2-3: truncated \\UXXXXXXXX escape\n"
     ]
    }
   ],
   "source": [
    "file_322 = open(mode = \"r\", file = r\"C:\\Users\\DELL\\Desktop\\python lectures\\Batch_322\\batch 322_other loc.csv\")\n",
    "file_322.read()\n",
    "file_322.close()"
   ]
  },
  {
   "cell_type": "code",
   "execution_count": 7,
   "metadata": {},
   "outputs": [],
   "source": [
    "file_322 = open(mode = \"r\", file = \"C:\\\\Users\\\\DELL\\\\Desktop\\\\python lectures\\\\Batch_322\\\\batch 322_other loc.csv\")\n",
    "file_322.read()\n",
    "file_322.close()"
   ]
  },
  {
   "cell_type": "code",
   "execution_count": 19,
   "metadata": {},
   "outputs": [],
   "source": [
    "file_322 = open(mode = \"w+\", file = \"C:/Users/DELL/Desktop/python lectures/Batch_322/batch 322_other loc.csv\")\n",
    "file_322.read()\n",
    "file_322.close()"
   ]
  },
  {
   "cell_type": "code",
   "execution_count": 4,
   "metadata": {},
   "outputs": [
    {
     "name": "stdout",
     "output_type": "stream",
     "text": [
      "\\n\n"
     ]
    }
   ],
   "source": [
    "print(r\"\\n\")"
   ]
  },
  {
   "cell_type": "code",
   "execution_count": 14,
   "metadata": {},
   "outputs": [
    {
     "data": {
      "text/plain": [
       "False"
      ]
     },
     "execution_count": 14,
     "metadata": {},
     "output_type": "execute_result"
    }
   ],
   "source": [
    "file_322.closed"
   ]
  },
  {
   "cell_type": "code",
   "execution_count": 16,
   "metadata": {},
   "outputs": [
    {
     "data": {
      "text/plain": [
       "False"
      ]
     },
     "execution_count": 16,
     "metadata": {},
     "output_type": "execute_result"
    }
   ],
   "source": [
    "file_322.writable()"
   ]
  },
  {
   "cell_type": "code",
   "execution_count": 20,
   "metadata": {},
   "outputs": [
    {
     "data": {
      "text/plain": [
       "True"
      ]
     },
     "execution_count": 20,
     "metadata": {},
     "output_type": "execute_result"
    }
   ],
   "source": [
    "file_322.closed"
   ]
  },
  {
   "cell_type": "markdown",
   "metadata": {},
   "source": [
    "# 2. Closing a file"
   ]
  },
  {
   "cell_type": "markdown",
   "metadata": {},
   "source": [
    "When we are done with operations to the file, we need to properly close the file. Closing a file will free up the resources that were tied with the file and is done using Python close() method. Python has a garbage collector to clean up unreferenced objects but, we must not rely on it to close the file.\n",
    "\n",
    "**`f = open(\"test.txt\",encoding = 'utf-8')\n",
    "...\n",
    "f.close()`**\n",
    "\n",
    "This method is not entirely safe. If an exception occurs when we are performing some operation with the file, the code exits without closing the file.A safer way is to use a try...finally block.\n",
    "\n",
    "**`try:\n",
    "   f = open(\"test.txt\",encoding = 'utf-8')\n",
    "   ...\n",
    "finally:\n",
    "   f.close()`**\n",
    "\n",
    "This way, we are guaranteed that the file is properly closed even if an exception is raised, causing program flow to stop.The best way to do this is using the with statement. This ensures that the file is closed when the block inside with is exited. We don't need to explicitly call the close() method. It is done internally.\n",
    "\n",
    "**`with open(\"test.txt\",encoding = 'utf-8') as f:\n",
    "   ...`**"
   ]
  },
  {
   "cell_type": "code",
   "execution_count": 25,
   "metadata": {
    "scrolled": true
   },
   "outputs": [
    {
     "name": "stdout",
     "output_type": "stream",
     "text": [
      "20\n"
     ]
    }
   ],
   "source": [
    "with open(file=\"batch 322.csv\", mode = \"a+\") as file:\n",
    "    print(file.write(\"The latest entry....\"))"
   ]
  },
  {
   "cell_type": "code",
   "execution_count": 26,
   "metadata": {},
   "outputs": [
    {
     "data": {
      "text/plain": [
       "True"
      ]
     },
     "execution_count": 26,
     "metadata": {},
     "output_type": "execute_result"
    }
   ],
   "source": [
    "file.closed"
   ]
  },
  {
   "cell_type": "code",
   "execution_count": 35,
   "metadata": {},
   "outputs": [],
   "source": [
    "file = open(file=\"batch 322.xlsx\", mode = \"rb\")\n",
    "file.read()\n",
    "file.close()"
   ]
  },
  {
   "cell_type": "markdown",
   "metadata": {},
   "source": [
    "# 3. Writing to a file"
   ]
  },
  {
   "cell_type": "code",
   "execution_count": 36,
   "metadata": {},
   "outputs": [],
   "source": [
    "writing_to_file = open(\"batch 322 - Write.csv\", \"w\")\n",
    "writing_to_file.write(\"This is writing operation....\")\n",
    "writing_to_file.close()"
   ]
  },
  {
   "cell_type": "code",
   "execution_count": null,
   "metadata": {},
   "outputs": [],
   "source": []
  },
  {
   "cell_type": "code",
   "execution_count": 39,
   "metadata": {},
   "outputs": [
    {
     "ename": "FileExistsError",
     "evalue": "[Errno 17] File exists: 'C:\\\\Users\\\\DELL\\\\Desktop\\\\created_file_322_batch.csv'",
     "output_type": "error",
     "traceback": [
      "\u001b[1;31m---------------------------------------------------------------------------\u001b[0m",
      "\u001b[1;31mFileExistsError\u001b[0m                           Traceback (most recent call last)",
      "Cell \u001b[1;32mIn[39], line 1\u001b[0m\n\u001b[1;32m----> 1\u001b[0m create_file \u001b[38;5;241m=\u001b[39m \u001b[38;5;28;43mopen\u001b[39;49m\u001b[43m(\u001b[49m\u001b[43mfile\u001b[49m\u001b[43m \u001b[49m\u001b[38;5;241;43m=\u001b[39;49m\u001b[43m \u001b[49m\u001b[38;5;124;43mR\u001b[39;49m\u001b[38;5;124;43m\"\u001b[39;49m\u001b[38;5;124;43mC:\u001b[39;49m\u001b[38;5;124;43m\\\u001b[39;49m\u001b[38;5;124;43mUsers\u001b[39;49m\u001b[38;5;124;43m\\\u001b[39;49m\u001b[38;5;124;43mDELL\u001b[39;49m\u001b[38;5;124;43m\\\u001b[39;49m\u001b[38;5;124;43mDesktop\u001b[39;49m\u001b[38;5;124;43m\\\u001b[39;49m\u001b[38;5;124;43mcreated_file_322_batch.csv\u001b[39;49m\u001b[38;5;124;43m\"\u001b[39;49m\u001b[43m,\u001b[49m\u001b[43m \u001b[49m\u001b[43mmode\u001b[49m\u001b[43m \u001b[49m\u001b[38;5;241;43m=\u001b[39;49m\u001b[43m \u001b[49m\u001b[38;5;124;43m\"\u001b[39;49m\u001b[38;5;124;43mx\u001b[39;49m\u001b[38;5;124;43m\"\u001b[39;49m\u001b[43m)\u001b[49m\n\u001b[0;32m      2\u001b[0m create_file\u001b[38;5;241m.\u001b[39mwrite(\u001b[38;5;124m\"\u001b[39m\u001b[38;5;124mthis is a new...\u001b[39m\u001b[38;5;124m\"\u001b[39m)\n\u001b[0;32m      3\u001b[0m create_file\u001b[38;5;241m.\u001b[39mclose()\n",
      "File \u001b[1;32m~\\AppData\\Local\\Programs\\Python\\Python312\\Lib\\site-packages\\IPython\\core\\interactiveshell.py:308\u001b[0m, in \u001b[0;36m_modified_open\u001b[1;34m(file, *args, **kwargs)\u001b[0m\n\u001b[0;32m    301\u001b[0m \u001b[38;5;28;01mif\u001b[39;00m file \u001b[38;5;129;01min\u001b[39;00m {\u001b[38;5;241m0\u001b[39m, \u001b[38;5;241m1\u001b[39m, \u001b[38;5;241m2\u001b[39m}:\n\u001b[0;32m    302\u001b[0m     \u001b[38;5;28;01mraise\u001b[39;00m \u001b[38;5;167;01mValueError\u001b[39;00m(\n\u001b[0;32m    303\u001b[0m         \u001b[38;5;124mf\u001b[39m\u001b[38;5;124m\"\u001b[39m\u001b[38;5;124mIPython won\u001b[39m\u001b[38;5;124m'\u001b[39m\u001b[38;5;124mt let you open fd=\u001b[39m\u001b[38;5;132;01m{\u001b[39;00mfile\u001b[38;5;132;01m}\u001b[39;00m\u001b[38;5;124m by default \u001b[39m\u001b[38;5;124m\"\u001b[39m\n\u001b[0;32m    304\u001b[0m         \u001b[38;5;124m\"\u001b[39m\u001b[38;5;124mas it is likely to crash IPython. If you know what you are doing, \u001b[39m\u001b[38;5;124m\"\u001b[39m\n\u001b[0;32m    305\u001b[0m         \u001b[38;5;124m\"\u001b[39m\u001b[38;5;124myou can use builtins\u001b[39m\u001b[38;5;124m'\u001b[39m\u001b[38;5;124m open.\u001b[39m\u001b[38;5;124m\"\u001b[39m\n\u001b[0;32m    306\u001b[0m     )\n\u001b[1;32m--> 308\u001b[0m \u001b[38;5;28;01mreturn\u001b[39;00m \u001b[43mio_open\u001b[49m\u001b[43m(\u001b[49m\u001b[43mfile\u001b[49m\u001b[43m,\u001b[49m\u001b[43m \u001b[49m\u001b[38;5;241;43m*\u001b[39;49m\u001b[43margs\u001b[49m\u001b[43m,\u001b[49m\u001b[43m \u001b[49m\u001b[38;5;241;43m*\u001b[39;49m\u001b[38;5;241;43m*\u001b[39;49m\u001b[43mkwargs\u001b[49m\u001b[43m)\u001b[49m\n",
      "\u001b[1;31mFileExistsError\u001b[0m: [Errno 17] File exists: 'C:\\\\Users\\\\DELL\\\\Desktop\\\\created_file_322_batch.csv'"
     ]
    }
   ],
   "source": [
    "create_file = open(file = R\"C:\\Users\\DELL\\Desktop\\created_file_322_batch.csv\", mode = \"x\")\n",
    "create_file.write(\"this is a new...\")\n",
    "create_file.close()"
   ]
  },
  {
   "cell_type": "code",
   "execution_count": null,
   "metadata": {},
   "outputs": [],
   "source": []
  },
  {
   "cell_type": "markdown",
   "metadata": {},
   "source": [
    "# 4. Appending to a file"
   ]
  },
  {
   "cell_type": "code",
   "execution_count": null,
   "metadata": {},
   "outputs": [],
   "source": []
  },
  {
   "cell_type": "code",
   "execution_count": null,
   "metadata": {},
   "outputs": [],
   "source": []
  },
  {
   "cell_type": "code",
   "execution_count": null,
   "metadata": {},
   "outputs": [],
   "source": []
  },
  {
   "cell_type": "code",
   "execution_count": null,
   "metadata": {},
   "outputs": [],
   "source": []
  },
  {
   "cell_type": "markdown",
   "metadata": {},
   "source": [
    "# 5. Reading from a file\n",
    "\n",
    "### Method 1: using read()\n",
    "\n",
    "### Method 2: using read(int)\n",
    "\n",
    "### Method 3: using readline()\n",
    "\n",
    "### Method 4: using readlines()\n"
   ]
  },
  {
   "cell_type": "code",
   "execution_count": 40,
   "metadata": {
    "scrolled": true
   },
   "outputs": [
    {
     "name": "stdout",
     "output_type": "stream",
     "text": [
      "Name_of_student,Batch,Gender,Qualification,Domain,Experience(in years),Place Coming From,Radius,Primary Interest,Hometown,Is_still_persuing\n",
      "Saomya Chaudhury,322,M,M.Tech,CSE,4,JNTU,0-5kms,Gaming,Odisha,FALSE\n",
      "Harshitha Reddy,322,F,BCA,CSE,0,Kothapet,,Dancing,Telangana,FALSE\n",
      "Harika,322,F,B.Tech,CSE,0,Kukatpally,0-5kms,Cooking,Andra Pradesh,FALSE\n",
      "Yuktha,322,F,B.Sc,MSTCS,0,Kukatpally,0-5kms,Poetry,Andra Pradesh,FALSE\n",
      "Devayani,322,F,BBA,Commerce,0,Kukatpally,0-5kms,Music,Telangana,TRUE\n",
      "Anshini,322,F,B.Tech,Artificial Intelligence,0,JNTU,0-5kms,Singing,Maharashtra,FALSE\n",
      "Divya Thakare,322,F,B.Tech,Artificial Intelligence,0,JNTU,0-5kms,Travelling,Maharashtra,FALSE\n",
      "Kaustubh Yewale,322,M,B.Tech,Artificial Intelligence,0,JNTU,0-5kms,Cooking,Maharashtra,FALSE\n",
      "Ayush Argonda,322,M,BE,Information Technology,0,JNTU,0-5kms,Gaming,Maharashtra,FALSE\n",
      "Yash Jadhav,322,M,B.Tech,CSE,0,JNTU,0-5kms,Dancing,Maharashtra,FALSE\n",
      "Priyanka,322,F,B.Tech,ECE,0,JNTU,0-5kms,Dancing,Andra Pradesh,FALSE\n",
      "Tejaswi,322,F,B.Tech,CSE,0,Kukatpally,0-5kms,Gaming,Andra Pradesh,FALSE\n",
      "Shamitha,322,F,B.Tech,EEE,0,Kukatpally,0-5kms,Cooking,Andra Pradesh,FALSE\n",
      "Indhu,322,F,B.Tech,Information Technology,0,Kukatpally,0-5kms,Sports,Telangana,FALSE\n",
      "Sakshi Bakare,322,F,B.Tech,ETC,0,Kondapur,5-10kms,Guitar,Maharashtra,FALSE\n",
      "Vyshnavi,322,F,MCA,CSE,0,Kukatpally,0-5kms,Singing,Andra Pradesh,FALSE\n",
      "Bindu,322,F,MBA,HR Marketing,0,Kukatpally,0-5kms,Cooking,Andra Pradesh,FALSE\n",
      "Mounika,322,F,MBA,Finance,3,Mahabub Nagar,25kms and more,Gaming,Telangana,FALSE\n",
      "Lakshmi Harika,322,F,M.Sc,Statistics,0,JNTU,0-5kms,Cooking,Andra Pradesh,FALSE\n",
      "Ronak Reddy,322,M,B.Sc,MPC,0,Bachupally,0-5kms,Cricket,Telangana,FALSE\n",
      "SK Afroz Sameena,322,F,B.Tech,CSE,0,Khammam,25kms and more,Travelling,Telangana,FALSE\n",
      "Vinay Kumar,322,M,MCA,CSE,0,Khammam,25kms and more,Sports,Telangana,FALSE\n",
      "Prasanna Kumar,322,M,B.Tech,Information Technology,0,Kukatpally,0-5kms,Sports,Andra Pradesh,FALSE\n",
      "Ajay Reddy,322,M,B.Tech,ECE,0.75,JNTU,0-5kms,Gaming,Telangana,FALSE\n",
      "Vishnu Vardhan,322,M,B.Tech,ECE,1,Kukatpally,0-5kms,Table Tennis,Telangana,FALSE\n",
      "Achlesh Dehalwar,322,M,B.Tech,CSE,0,JNTU,0-5kms,Mimicry Artist,Madhya Pradesh,TRUE\n",
      "Rajnikanth,322,M,MBA,Finance,5,ECIL,25kms and more,Rider,Telangana,FALSE\n",
      "Akash Kumar,322,M,B.Tech,Mechanical,0,Bharath Nagar,0-5kms,Travelling,Telangana,FALSE\n",
      "Mir Imran Ali,322,M,BA.LLB,Lawyer,0,Santosh Nagar,25kms and more,Football,Telangana,TRUE\n",
      "Sameer Shaik,322,M,MBA,Finance,0,Santosh Nagar,25kms and more,Travelling,Telangana,FALSE\n",
      "Kailas,322,M,B.Sc,MPC,0,JNTU,0-5kms,Football,Telangana,FALSE\n",
      "Manikanta,322,M,B.Tech,Mechanical,3,Nizampet,0-5kms,Cricket,Telangana,FALSE\n",
      "Sai Kalyan Satwik,322,M,M.Sc,Mechanical,2,JNTU,0-5kms,Travelling,Telangana,FALSE\n",
      "Surya Charan,322,M,B.Tech,CSE,0,JNTU,0-5kms,Cricket,Andra Pradesh,FALSE\n",
      "Adarsh,322,M,B.Tech,ECE,0,Shamirpet,25kms and more,Travelling,Telangana,FALSE\n",
      "Sai Kumar,322,M,B.Tech,ECE,0,Shamirpet,25kms and more,Travelling,Telangana,FALSE\n",
      "Rohit Rao,322,M,B.Tech,CSE,0,Prakash Nagar,10-15kms,Badminton,Telangana,FALSE\n",
      "Vidya Sagar,322,M,B.Tech,Mechanical,0,Kukatpally,0-5kms,Sports,Andra Pradesh,FALSE\n",
      "Chaitanya,322,M,B.Tech,ECE,1,Sainikpuri,20-25kms,Cricket,Telangana,FALSE\n",
      "Chinna Kullai Swamy,322,M,B.Tech,Mechanical,0,JNTU,0-5kms,Cricket,Andra Pradesh,FALSE\n",
      "Sanjeev,322,M,B.Tech,CSE,3,LB Nagar,25kms and more,Gaming,Telangana,FALSE\n",
      "Lakshmi Vangapandu,322,F,B.Tech,ECE,1,JNTU,0-5kms,Gaming,Andra Pradesh,FALSE\n",
      "Sharoni,322,F,B.Tech,CSE,0,Kukatpally,0-5kms,Dancing,Andra Pradesh,FALSE\n",
      "Phanindra Kammadanam,322,M,B.Sc,Life Sciences,0,Dilsukh Nagar,25kms and more,Dancing,Telangana,FALSE\n",
      "Phaneendra N,322,M,B.Tech,CSE,0,Kukatpally,0-5kms,Badminton,Andra Pradesh,FALSE\n",
      "Gopi Chandu,322,M,B.Tech,Information Technology,0,Kukatpally,0-5kms,Cricket,Andra Pradesh,FALSE\n",
      "Jaysree,314,F,B.Tech,ECE,1.5,Chanda Nagar,10-15kms,Badminton,Telangana,FALSE\n",
      ",,,,,,,,,,\n",
      "The latest entry....\n"
     ]
    }
   ],
   "source": [
    "with open(file=\"batch 322.csv\", mode = \"r\") as file:\n",
    "    print(file.read())"
   ]
  },
  {
   "cell_type": "code",
   "execution_count": 43,
   "metadata": {},
   "outputs": [
    {
     "name": "stdout",
     "output_type": "stream",
     "text": [
      "Name_of_student,Batch,Gender,Qualification,Domain,Experience(in years),Place Coming From,Radius,Primary Interest,Hometown,Is_still_persuing\n",
      "\n"
     ]
    }
   ],
   "source": [
    "with open(file=\"batch 322.csv\", mode = \"r\") as file:\n",
    "    print(file.readline())"
   ]
  },
  {
   "cell_type": "code",
   "execution_count": 57,
   "metadata": {},
   "outputs": [
    {
     "data": {
      "text/plain": [
       "'Name_of_student,Batch,Gender,Qualification,Domain,Experience(in years),Place Coming From,Radius,Primary Interest,Hometown,Is_still_persuing\\n'"
      ]
     },
     "execution_count": 57,
     "metadata": {},
     "output_type": "execute_result"
    }
   ],
   "source": [
    "file = open(file=\"batch 322.csv\", mode = \"r\")\n",
    "file.readline()"
   ]
  },
  {
   "cell_type": "code",
   "execution_count": 49,
   "metadata": {},
   "outputs": [
    {
     "data": {
      "text/plain": [
       "'Devayani,322,F,BBA,Commerce,0,Kukatpally,0-5kms,Music,Telangana,TRUE\\n'"
      ]
     },
     "execution_count": 49,
     "metadata": {},
     "output_type": "execute_result"
    }
   ],
   "source": [
    "file.readline()"
   ]
  },
  {
   "cell_type": "code",
   "execution_count": 54,
   "metadata": {
    "scrolled": true
   },
   "outputs": [
    {
     "data": {
      "text/plain": [
       "['Saomya Chaudhury,322,M,M.Tech,CSE,4,JNTU,0-5kms,Gaming,Odisha,FALSE\\n',\n",
       " 'Harshitha Reddy,322,F,BCA,CSE,0,Kothapet,,Dancing,Telangana,FALSE\\n',\n",
       " 'Harika,322,F,B.Tech,CSE,0,Kukatpally,0-5kms,Cooking,Andra Pradesh,FALSE\\n',\n",
       " 'Yuktha,322,F,B.Sc,MSTCS,0,Kukatpally,0-5kms,Poetry,Andra Pradesh,FALSE\\n',\n",
       " 'Devayani,322,F,BBA,Commerce,0,Kukatpally,0-5kms,Music,Telangana,TRUE\\n',\n",
       " 'Anshini,322,F,B.Tech,Artificial Intelligence,0,JNTU,0-5kms,Singing,Maharashtra,FALSE\\n',\n",
       " 'Divya Thakare,322,F,B.Tech,Artificial Intelligence,0,JNTU,0-5kms,Travelling,Maharashtra,FALSE\\n',\n",
       " 'Kaustubh Yewale,322,M,B.Tech,Artificial Intelligence,0,JNTU,0-5kms,Cooking,Maharashtra,FALSE\\n',\n",
       " 'Ayush Argonda,322,M,BE,Information Technology,0,JNTU,0-5kms,Gaming,Maharashtra,FALSE\\n',\n",
       " 'Yash Jadhav,322,M,B.Tech,CSE,0,JNTU,0-5kms,Dancing,Maharashtra,FALSE\\n',\n",
       " 'Priyanka,322,F,B.Tech,ECE,0,JNTU,0-5kms,Dancing,Andra Pradesh,FALSE\\n',\n",
       " 'Tejaswi,322,F,B.Tech,CSE,0,Kukatpally,0-5kms,Gaming,Andra Pradesh,FALSE\\n',\n",
       " 'Shamitha,322,F,B.Tech,EEE,0,Kukatpally,0-5kms,Cooking,Andra Pradesh,FALSE\\n',\n",
       " 'Indhu,322,F,B.Tech,Information Technology,0,Kukatpally,0-5kms,Sports,Telangana,FALSE\\n',\n",
       " 'Sakshi Bakare,322,F,B.Tech,ETC,0,Kondapur,5-10kms,Guitar,Maharashtra,FALSE\\n',\n",
       " 'Vyshnavi,322,F,MCA,CSE,0,Kukatpally,0-5kms,Singing,Andra Pradesh,FALSE\\n',\n",
       " 'Bindu,322,F,MBA,HR Marketing,0,Kukatpally,0-5kms,Cooking,Andra Pradesh,FALSE\\n',\n",
       " 'Mounika,322,F,MBA,Finance,3,Mahabub Nagar,25kms and more,Gaming,Telangana,FALSE\\n',\n",
       " 'Lakshmi Harika,322,F,M.Sc,Statistics,0,JNTU,0-5kms,Cooking,Andra Pradesh,FALSE\\n',\n",
       " 'Ronak Reddy,322,M,B.Sc,MPC,0,Bachupally,0-5kms,Cricket,Telangana,FALSE\\n',\n",
       " 'SK Afroz Sameena,322,F,B.Tech,CSE,0,Khammam,25kms and more,Travelling,Telangana,FALSE\\n',\n",
       " 'Vinay Kumar,322,M,MCA,CSE,0,Khammam,25kms and more,Sports,Telangana,FALSE\\n',\n",
       " 'Prasanna Kumar,322,M,B.Tech,Information Technology,0,Kukatpally,0-5kms,Sports,Andra Pradesh,FALSE\\n',\n",
       " 'Ajay Reddy,322,M,B.Tech,ECE,0.75,JNTU,0-5kms,Gaming,Telangana,FALSE\\n',\n",
       " 'Vishnu Vardhan,322,M,B.Tech,ECE,1,Kukatpally,0-5kms,Table Tennis,Telangana,FALSE\\n',\n",
       " 'Achlesh Dehalwar,322,M,B.Tech,CSE,0,JNTU,0-5kms,Mimicry Artist,Madhya Pradesh,TRUE\\n',\n",
       " 'Rajnikanth,322,M,MBA,Finance,5,ECIL,25kms and more,Rider,Telangana,FALSE\\n',\n",
       " 'Akash Kumar,322,M,B.Tech,Mechanical,0,Bharath Nagar,0-5kms,Travelling,Telangana,FALSE\\n',\n",
       " 'Mir Imran Ali,322,M,BA.LLB,Lawyer,0,Santosh Nagar,25kms and more,Football,Telangana,TRUE\\n',\n",
       " 'Sameer Shaik,322,M,MBA,Finance,0,Santosh Nagar,25kms and more,Travelling,Telangana,FALSE\\n',\n",
       " 'Kailas,322,M,B.Sc,MPC,0,JNTU,0-5kms,Football,Telangana,FALSE\\n',\n",
       " 'Manikanta,322,M,B.Tech,Mechanical,3,Nizampet,0-5kms,Cricket,Telangana,FALSE\\n',\n",
       " 'Sai Kalyan Satwik,322,M,M.Sc,Mechanical,2,JNTU,0-5kms,Travelling,Telangana,FALSE\\n',\n",
       " 'Surya Charan,322,M,B.Tech,CSE,0,JNTU,0-5kms,Cricket,Andra Pradesh,FALSE\\n',\n",
       " 'Adarsh,322,M,B.Tech,ECE,0,Shamirpet,25kms and more,Travelling,Telangana,FALSE\\n',\n",
       " 'Sai Kumar,322,M,B.Tech,ECE,0,Shamirpet,25kms and more,Travelling,Telangana,FALSE\\n',\n",
       " 'Rohit Rao,322,M,B.Tech,CSE,0,Prakash Nagar,10-15kms,Badminton,Telangana,FALSE\\n',\n",
       " 'Vidya Sagar,322,M,B.Tech,Mechanical,0,Kukatpally,0-5kms,Sports,Andra Pradesh,FALSE\\n',\n",
       " 'Chaitanya,322,M,B.Tech,ECE,1,Sainikpuri,20-25kms,Cricket,Telangana,FALSE\\n',\n",
       " 'Chinna Kullai Swamy,322,M,B.Tech,Mechanical,0,JNTU,0-5kms,Cricket,Andra Pradesh,FALSE\\n',\n",
       " 'Sanjeev,322,M,B.Tech,CSE,3,LB Nagar,25kms and more,Gaming,Telangana,FALSE\\n',\n",
       " 'Lakshmi Vangapandu,322,F,B.Tech,ECE,1,JNTU,0-5kms,Gaming,Andra Pradesh,FALSE\\n',\n",
       " 'Sharoni,322,F,B.Tech,CSE,0,Kukatpally,0-5kms,Dancing,Andra Pradesh,FALSE\\n',\n",
       " 'Phanindra Kammadanam,322,M,B.Sc,Life Sciences,0,Dilsukh Nagar,25kms and more,Dancing,Telangana,FALSE\\n',\n",
       " 'Phaneendra N,322,M,B.Tech,CSE,0,Kukatpally,0-5kms,Badminton,Andra Pradesh,FALSE\\n',\n",
       " 'Gopi Chandu,322,M,B.Tech,Information Technology,0,Kukatpally,0-5kms,Cricket,Andra Pradesh,FALSE\\n',\n",
       " 'Jaysree,314,F,B.Tech,ECE,1.5,Chanda Nagar,10-15kms,Badminton,Telangana,FALSE\\n',\n",
       " ',,,,,,,,,,\\n',\n",
       " 'The latest entry....']"
      ]
     },
     "execution_count": 54,
     "metadata": {},
     "output_type": "execute_result"
    }
   ],
   "source": [
    "file.readlines()"
   ]
  },
  {
   "cell_type": "code",
   "execution_count": 51,
   "metadata": {},
   "outputs": [
    {
     "data": {
      "text/plain": [
       "''"
      ]
     },
     "execution_count": 51,
     "metadata": {},
     "output_type": "execute_result"
    }
   ],
   "source": [
    "file.readline()"
   ]
  },
  {
   "cell_type": "code",
   "execution_count": 56,
   "metadata": {},
   "outputs": [],
   "source": [
    "file.close()"
   ]
  },
  {
   "cell_type": "code",
   "execution_count": 59,
   "metadata": {},
   "outputs": [
    {
     "data": {
      "text/plain": [
       "'a Cha'"
      ]
     },
     "execution_count": 59,
     "metadata": {},
     "output_type": "execute_result"
    }
   ],
   "source": [
    "file.read(5)"
   ]
  },
  {
   "cell_type": "code",
   "execution_count": 60,
   "metadata": {},
   "outputs": [
    {
     "data": {
      "text/plain": [
       "0"
      ]
     },
     "execution_count": 60,
     "metadata": {},
     "output_type": "execute_result"
    }
   ],
   "source": [
    "file.seek(0)"
   ]
  },
  {
   "cell_type": "code",
   "execution_count": 61,
   "metadata": {},
   "outputs": [
    {
     "data": {
      "text/plain": [
       "'Name_'"
      ]
     },
     "execution_count": 61,
     "metadata": {},
     "output_type": "execute_result"
    }
   ],
   "source": [
    "file.read(5)"
   ]
  },
  {
   "cell_type": "code",
   "execution_count": 62,
   "metadata": {},
   "outputs": [],
   "source": [
    "file.close()"
   ]
  },
  {
   "cell_type": "markdown",
   "metadata": {},
   "source": [
    "# 6. Testing file's existence\n",
    "To prevent the data in an existing file from being erased by accident, you should test to see if the file exists before opening it for writing. The isfile function in the os.path module canbe used to determine whether a file exists."
   ]
  },
  {
   "cell_type": "code",
   "execution_count": 63,
   "metadata": {
    "scrolled": true
   },
   "outputs": [],
   "source": [
    "import os"
   ]
  },
  {
   "cell_type": "code",
   "execution_count": 64,
   "metadata": {},
   "outputs": [
    {
     "data": {
      "text/plain": [
       "False"
      ]
     },
     "execution_count": 64,
     "metadata": {},
     "output_type": "execute_result"
    }
   ],
   "source": [
    "os.path.isfile(\"abc.csv\")"
   ]
  },
  {
   "cell_type": "code",
   "execution_count": 67,
   "metadata": {},
   "outputs": [
    {
     "data": {
      "text/plain": [
       "False"
      ]
     },
     "execution_count": 67,
     "metadata": {},
     "output_type": "execute_result"
    }
   ],
   "source": [
    "os.path.isfile(r\"C:\\Users\\DELL\\Desktop\\created_file_322_batch_1.csv\")"
   ]
  },
  {
   "cell_type": "code",
   "execution_count": 69,
   "metadata": {},
   "outputs": [
    {
     "name": "stdout",
     "output_type": "stream",
     "text": [
      "Saomya Chaudhury,322,M,M.Tech,CSE,4,JNTU,0-5kms,Gaming,Odisha,FALSE\n",
      "\n",
      "Harika,322,F,B.Tech,CSE,0,Kukatpally,0-5kms,Cooking,Andra Pradesh,FALSE\n",
      "\n",
      "Devayani,322,F,BBA,Commerce,0,Kukatpally,0-5kms,Music,Telangana,TRUE\n",
      "\n",
      "Divya Thakare,322,F,B.Tech,Artificial Intelligence,0,JNTU,0-5kms,Travelling,Maharashtra,FALSE\n",
      "\n",
      "Ayush Argonda,322,M,BE,Information Technology,0,JNTU,0-5kms,Gaming,Maharashtra,FALSE\n",
      "\n",
      "Priyanka,322,F,B.Tech,ECE,0,JNTU,0-5kms,Dancing,Andra Pradesh,FALSE\n",
      "\n",
      "Shamitha,322,F,B.Tech,EEE,0,Kukatpally,0-5kms,Cooking,Andra Pradesh,FALSE\n",
      "\n",
      "Sakshi Bakare,322,F,B.Tech,ETC,0,Kondapur,5-10kms,Guitar,Maharashtra,FALSE\n",
      "\n",
      "Bindu,322,F,MBA,HR Marketing,0,Kukatpally,0-5kms,Cooking,Andra Pradesh,FALSE\n",
      "\n",
      "Lakshmi Harika,322,F,M.Sc,Statistics,0,JNTU,0-5kms,Cooking,Andra Pradesh,FALSE\n",
      "\n",
      "SK Afroz Sameena,322,F,B.Tech,CSE,0,Khammam,25kms and more,Travelling,Telangana,FALSE\n",
      "\n",
      "Prasanna Kumar,322,M,B.Tech,Information Technology,0,Kukatpally,0-5kms,Sports,Andra Pradesh,FALSE\n",
      "\n",
      "Vishnu Vardhan,322,M,B.Tech,ECE,1,Kukatpally,0-5kms,Table Tennis,Telangana,FALSE\n",
      "\n",
      "Rajnikanth,322,M,MBA,Finance,5,ECIL,25kms and more,Rider,Telangana,FALSE\n",
      "\n",
      "Mir Imran Ali,322,M,BA.LLB,Lawyer,0,Santosh Nagar,25kms and more,Football,Telangana,TRUE\n",
      "\n",
      "Kailas,322,M,B.Sc,MPC,0,JNTU,0-5kms,Football,Telangana,FALSE\n",
      "\n",
      "Sai Kalyan Satwik,322,M,M.Sc,Mechanical,2,JNTU,0-5kms,Travelling,Telangana,FALSE\n",
      "\n",
      "Adarsh,322,M,B.Tech,ECE,0,Shamirpet,25kms and more,Travelling,Telangana,FALSE\n",
      "\n",
      "Rohit Rao,322,M,B.Tech,CSE,0,Prakash Nagar,10-15kms,Badminton,Telangana,FALSE\n",
      "\n",
      "Chaitanya,322,M,B.Tech,ECE,1,Sainikpuri,20-25kms,Cricket,Telangana,FALSE\n",
      "\n",
      "Sanjeev,322,M,B.Tech,CSE,3,LB Nagar,25kms and more,Gaming,Telangana,FALSE\n",
      "\n",
      "Sharoni,322,F,B.Tech,CSE,0,Kukatpally,0-5kms,Dancing,Andra Pradesh,FALSE\n",
      "\n",
      "Phaneendra N,322,M,B.Tech,CSE,0,Kukatpally,0-5kms,Badminton,Andra Pradesh,FALSE\n",
      "\n",
      "Jaysree,314,F,B.Tech,ECE,1.5,Chanda Nagar,10-15kms,Badminton,Telangana,FALSE\n",
      "\n",
      "The latest entry....\n"
     ]
    }
   ],
   "source": [
    "with open(\"batch 322.csv\", \"r\") as file:\n",
    "    for line in file:\n",
    "        print(file.readline())"
   ]
  },
  {
   "cell_type": "code",
   "execution_count": null,
   "metadata": {},
   "outputs": [],
   "source": []
  }
 ],
 "metadata": {
  "kernelspec": {
   "display_name": "Python 3 (ipykernel)",
   "language": "python",
   "name": "python3"
  },
  "language_info": {
   "codemirror_mode": {
    "name": "ipython",
    "version": 3
   },
   "file_extension": ".py",
   "mimetype": "text/x-python",
   "name": "python",
   "nbconvert_exporter": "python",
   "pygments_lexer": "ipython3",
   "version": "3.12.0"
  }
 },
 "nbformat": 4,
 "nbformat_minor": 4
}
