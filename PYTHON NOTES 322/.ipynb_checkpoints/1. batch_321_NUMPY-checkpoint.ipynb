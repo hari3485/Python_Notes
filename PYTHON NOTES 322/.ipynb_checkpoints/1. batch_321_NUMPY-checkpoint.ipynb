{
 "cells": [
  {
   "cell_type": "code",
   "execution_count": 12,
   "id": "e40af07b",
   "metadata": {},
   "outputs": [],
   "source": [
    "import numpy as np"
   ]
  },
  {
   "cell_type": "code",
   "execution_count": 32,
   "id": "d9fc4e3c",
   "metadata": {},
   "outputs": [],
   "source": [
    "arr = np.array([[1,2,3,4,5], [6,7,8,9,10]])"
   ]
  },
  {
   "cell_type": "code",
   "execution_count": 33,
   "id": "25da6957",
   "metadata": {},
   "outputs": [
    {
     "data": {
      "text/plain": [
       "array([[ 1,  2,  3,  4,  5],\n",
       "       [ 6,  7,  8,  9, 10]])"
      ]
     },
     "execution_count": 33,
     "metadata": {},
     "output_type": "execute_result"
    }
   ],
   "source": [
    "arr"
   ]
  },
  {
   "cell_type": "code",
   "execution_count": 34,
   "id": "a0e15b5b",
   "metadata": {},
   "outputs": [
    {
     "data": {
      "text/plain": [
       "array([ 7,  9, 11, 13, 15])"
      ]
     },
     "execution_count": 34,
     "metadata": {},
     "output_type": "execute_result"
    }
   ],
   "source": [
    "np.sum(arr, axis =0)"
   ]
  },
  {
   "cell_type": "code",
   "execution_count": 35,
   "id": "ecb9f55d",
   "metadata": {},
   "outputs": [
    {
     "ename": "SyntaxError",
     "evalue": "invalid syntax (539791691.py, line 1)",
     "output_type": "error",
     "traceback": [
      "\u001b[1;36m  File \u001b[1;32m\"C:\\Users\\saksh\\AppData\\Local\\Temp\\ipykernel_15080\\539791691.py\"\u001b[1;36m, line \u001b[1;32m1\u001b[0m\n\u001b[1;33m    np.(arr, axis =0)\u001b[0m\n\u001b[1;37m       ^\u001b[0m\n\u001b[1;31mSyntaxError\u001b[0m\u001b[1;31m:\u001b[0m invalid syntax\n"
     ]
    }
   ],
   "source": [
    "np.(arr, axis =0)"
   ]
  },
  {
   "cell_type": "code",
   "execution_count": 56,
   "id": "13712ab9",
   "metadata": {},
   "outputs": [
    {
     "data": {
      "text/plain": [
       "(2, 5)"
      ]
     },
     "execution_count": 56,
     "metadata": {},
     "output_type": "execute_result"
    }
   ],
   "source": [
    "arr.shape"
   ]
  },
  {
   "cell_type": "code",
   "execution_count": 57,
   "id": "29dcbbcd",
   "metadata": {},
   "outputs": [
    {
     "data": {
      "text/plain": [
       "10"
      ]
     },
     "execution_count": 57,
     "metadata": {},
     "output_type": "execute_result"
    }
   ],
   "source": [
    "arr.size"
   ]
  },
  {
   "cell_type": "code",
   "execution_count": null,
   "id": "701b10bd",
   "metadata": {},
   "outputs": [],
   "source": []
  },
  {
   "cell_type": "code",
   "execution_count": 36,
   "id": "7c022155",
   "metadata": {},
   "outputs": [
    {
     "data": {
      "text/plain": [
       "array([[ 3,  4,  5,  6,  7],\n",
       "       [ 8,  9, 10, 11, 12]])"
      ]
     },
     "execution_count": 36,
     "metadata": {},
     "output_type": "execute_result"
    }
   ],
   "source": [
    "arr+2"
   ]
  },
  {
   "cell_type": "code",
   "execution_count": 37,
   "id": "b1336a3f",
   "metadata": {},
   "outputs": [
    {
     "data": {
      "text/plain": [
       "array([[ 1,  2,  3,  4,  5],\n",
       "       [ 6,  7,  8,  9, 10]])"
      ]
     },
     "execution_count": 37,
     "metadata": {},
     "output_type": "execute_result"
    }
   ],
   "source": [
    "arr"
   ]
  },
  {
   "cell_type": "code",
   "execution_count": 21,
   "id": "5c1381cc",
   "metadata": {},
   "outputs": [],
   "source": [
    "s = \"svfuwebdhe\""
   ]
  },
  {
   "cell_type": "code",
   "execution_count": 22,
   "id": "d5e3c47f",
   "metadata": {},
   "outputs": [
    {
     "data": {
      "text/plain": [
       "'svfuwebdhesdhgfygw'"
      ]
     },
     "execution_count": 22,
     "metadata": {},
     "output_type": "execute_result"
    }
   ],
   "source": [
    "s+\"sdhgfygw\""
   ]
  },
  {
   "cell_type": "code",
   "execution_count": 23,
   "id": "8de4cbbb",
   "metadata": {},
   "outputs": [
    {
     "data": {
      "text/plain": [
       "'svfuwebdhe'"
      ]
     },
     "execution_count": 23,
     "metadata": {},
     "output_type": "execute_result"
    }
   ],
   "source": [
    "s"
   ]
  },
  {
   "cell_type": "code",
   "execution_count": 38,
   "id": "9b502c54",
   "metadata": {},
   "outputs": [],
   "source": [
    "arr[1][2] = 20"
   ]
  },
  {
   "cell_type": "code",
   "execution_count": 39,
   "id": "67855d50",
   "metadata": {},
   "outputs": [
    {
     "data": {
      "text/plain": [
       "array([[ 1,  2,  3,  4,  5],\n",
       "       [ 6,  7, 20,  9, 10]])"
      ]
     },
     "execution_count": 39,
     "metadata": {},
     "output_type": "execute_result"
    }
   ],
   "source": [
    "arr"
   ]
  },
  {
   "cell_type": "code",
   "execution_count": 26,
   "id": "a20411ff",
   "metadata": {},
   "outputs": [
    {
     "ename": "TypeError",
     "evalue": "'str' object does not support item assignment",
     "output_type": "error",
     "traceback": [
      "\u001b[1;31m---------------------------------------------------------------------------\u001b[0m",
      "\u001b[1;31mTypeError\u001b[0m                                 Traceback (most recent call last)",
      "\u001b[1;32m~\\AppData\\Local\\Temp\\ipykernel_15080\\1544323240.py\u001b[0m in \u001b[0;36m<module>\u001b[1;34m\u001b[0m\n\u001b[1;32m----> 1\u001b[1;33m \u001b[0ms\u001b[0m\u001b[1;33m[\u001b[0m\u001b[1;36m0\u001b[0m\u001b[1;33m]\u001b[0m \u001b[1;33m=\u001b[0m \u001b[1;34m\"e\"\u001b[0m\u001b[1;33m\u001b[0m\u001b[1;33m\u001b[0m\u001b[0m\n\u001b[0m",
      "\u001b[1;31mTypeError\u001b[0m: 'str' object does not support item assignment"
     ]
    }
   ],
   "source": [
    "s[0] = \"e\""
   ]
  },
  {
   "cell_type": "code",
   "execution_count": 27,
   "id": "a8534370",
   "metadata": {},
   "outputs": [
    {
     "data": {
      "text/plain": [
       "array([[100, 100, 100, 100, 100],\n",
       "       [  6,   7,   8,   9,  10]])"
      ]
     },
     "execution_count": 27,
     "metadata": {},
     "output_type": "execute_result"
    }
   ],
   "source": [
    "arr"
   ]
  },
  {
   "cell_type": "code",
   "execution_count": 49,
   "id": "f8d4362c",
   "metadata": {},
   "outputs": [],
   "source": [
    "lst = [1,2,2,3,456]"
   ]
  },
  {
   "cell_type": "code",
   "execution_count": 42,
   "id": "b7f6cc38",
   "metadata": {},
   "outputs": [],
   "source": [
    "lst.append(9)"
   ]
  },
  {
   "cell_type": "code",
   "execution_count": 43,
   "id": "4ad2a2fe",
   "metadata": {},
   "outputs": [
    {
     "data": {
      "text/plain": [
       "[1, 2, 2, 3, 456, 9]"
      ]
     },
     "execution_count": 43,
     "metadata": {},
     "output_type": "execute_result"
    }
   ],
   "source": [
    "lst"
   ]
  },
  {
   "cell_type": "code",
   "execution_count": 46,
   "id": "aa0499fc",
   "metadata": {},
   "outputs": [
    {
     "data": {
      "text/plain": [
       "[1, 2, 2, 3, 456, 9, 366]"
      ]
     },
     "execution_count": 46,
     "metadata": {},
     "output_type": "execute_result"
    }
   ],
   "source": [
    "lst + [21+345]"
   ]
  },
  {
   "cell_type": "code",
   "execution_count": 47,
   "id": "e3ed9cb8",
   "metadata": {},
   "outputs": [
    {
     "data": {
      "text/plain": [
       "[1, 2, 2, 3, 456, 9]"
      ]
     },
     "execution_count": 47,
     "metadata": {},
     "output_type": "execute_result"
    }
   ],
   "source": [
    "lst"
   ]
  },
  {
   "cell_type": "code",
   "execution_count": 50,
   "id": "2ee80b2d",
   "metadata": {},
   "outputs": [],
   "source": [
    "lst1 = [4,5,6,7,8]"
   ]
  },
  {
   "cell_type": "code",
   "execution_count": 52,
   "id": "921e84bd",
   "metadata": {},
   "outputs": [
    {
     "data": {
      "text/plain": [
       "[1, 2, 2, 3, 456, 4, 5, 6, 7, 8]"
      ]
     },
     "execution_count": 52,
     "metadata": {},
     "output_type": "execute_result"
    }
   ],
   "source": [
    "lst +lst1"
   ]
  },
  {
   "cell_type": "code",
   "execution_count": 53,
   "id": "31495d0f",
   "metadata": {},
   "outputs": [
    {
     "data": {
      "text/plain": [
       "[1, 2, 2, 3, 456]"
      ]
     },
     "execution_count": 53,
     "metadata": {},
     "output_type": "execute_result"
    }
   ],
   "source": [
    "lst"
   ]
  },
  {
   "cell_type": "code",
   "execution_count": 54,
   "id": "b45794ed",
   "metadata": {},
   "outputs": [],
   "source": [
    "lst[0] = 34"
   ]
  },
  {
   "cell_type": "code",
   "execution_count": 55,
   "id": "29138d92",
   "metadata": {},
   "outputs": [
    {
     "data": {
      "text/plain": [
       "[34, 2, 2, 3, 456]"
      ]
     },
     "execution_count": 55,
     "metadata": {},
     "output_type": "execute_result"
    }
   ],
   "source": [
    "lst"
   ]
  },
  {
   "cell_type": "code",
   "execution_count": 80,
   "id": "16577b19",
   "metadata": {},
   "outputs": [],
   "source": [
    "arr = np.array([[1,2,3,4,5, \"5\"], [6,7,8,9,10, 9.0]])"
   ]
  },
  {
   "cell_type": "code",
   "execution_count": 81,
   "id": "f9c3ee3b",
   "metadata": {},
   "outputs": [
    {
     "data": {
      "text/plain": [
       "dtype('<U32')"
      ]
     },
     "execution_count": 81,
     "metadata": {},
     "output_type": "execute_result"
    }
   ],
   "source": [
    "arr.dtype"
   ]
  },
  {
   "cell_type": "code",
   "execution_count": 82,
   "id": "4f93e202",
   "metadata": {},
   "outputs": [
    {
     "data": {
      "text/plain": [
       "12"
      ]
     },
     "execution_count": 82,
     "metadata": {},
     "output_type": "execute_result"
    }
   ],
   "source": [
    "arr.size"
   ]
  },
  {
   "cell_type": "code",
   "execution_count": 83,
   "id": "2fe6a866",
   "metadata": {},
   "outputs": [
    {
     "data": {
      "text/plain": [
       "128"
      ]
     },
     "execution_count": 83,
     "metadata": {},
     "output_type": "execute_result"
    }
   ],
   "source": [
    "arr.itemsize"
   ]
  },
  {
   "cell_type": "code",
   "execution_count": 84,
   "id": "95cd6d67",
   "metadata": {},
   "outputs": [
    {
     "data": {
      "text/plain": [
       "1536"
      ]
     },
     "execution_count": 84,
     "metadata": {},
     "output_type": "execute_result"
    }
   ],
   "source": [
    "arr.nbytes"
   ]
  },
  {
   "cell_type": "code",
   "execution_count": 85,
   "id": "075ded7e",
   "metadata": {},
   "outputs": [
    {
     "data": {
      "text/plain": [
       "1536"
      ]
     },
     "execution_count": 85,
     "metadata": {},
     "output_type": "execute_result"
    }
   ],
   "source": [
    "128*12"
   ]
  },
  {
   "cell_type": "code",
   "execution_count": 112,
   "id": "e798fcd9",
   "metadata": {},
   "outputs": [],
   "source": [
    "arr=np.eye(4,)"
   ]
  },
  {
   "cell_type": "code",
   "execution_count": 113,
   "id": "35f4ee60",
   "metadata": {},
   "outputs": [
    {
     "data": {
      "text/plain": [
       "array([[1., 0., 0., 0.],\n",
       "       [0., 1., 0., 0.],\n",
       "       [0., 0., 1., 0.],\n",
       "       [0., 0., 0., 1.]])"
      ]
     },
     "execution_count": 113,
     "metadata": {},
     "output_type": "execute_result"
    }
   ],
   "source": [
    "arr"
   ]
  },
  {
   "cell_type": "code",
   "execution_count": 115,
   "id": "84fc8505",
   "metadata": {},
   "outputs": [
    {
     "data": {
      "text/plain": [
       "array([0.01029055, 0.47209571, 0.35286701])"
      ]
     },
     "execution_count": 115,
     "metadata": {},
     "output_type": "execute_result"
    }
   ],
   "source": [
    "np.random.rand(3)"
   ]
  },
  {
   "cell_type": "code",
   "execution_count": 121,
   "id": "d8cb5055",
   "metadata": {},
   "outputs": [],
   "source": [
    "arr = np.random.rand(5,3)"
   ]
  },
  {
   "cell_type": "code",
   "execution_count": 122,
   "id": "ec30f66a",
   "metadata": {},
   "outputs": [],
   "source": [
    "import seaborn as sns"
   ]
  },
  {
   "cell_type": "code",
   "execution_count": 123,
   "id": "f4480b7d",
   "metadata": {},
   "outputs": [
    {
     "data": {
      "text/plain": [
       "<AxesSubplot:ylabel='Count'>"
      ]
     },
     "execution_count": 123,
     "metadata": {},
     "output_type": "execute_result"
    },
    {
     "data": {
      "image/png": "[encoded data removed]",
      "text/plain": [
       "<Figure size 640x480 with 1 Axes>"
      ]
     },
     "metadata": {},
     "output_type": "display_data"
    }
   ],
   "source": [
    "sns.histplot(arr)"
   ]
  },
  {
   "cell_type": "code",
   "execution_count": 126,
   "id": "40a94d5a",
   "metadata": {},
   "outputs": [],
   "source": [
    " arr = np.random.uniform((10,5))"
   ]
  },
  {
   "cell_type": "code",
   "execution_count": 127,
   "id": "7e74d630",
   "metadata": {},
   "outputs": [
    {
     "data": {
      "text/plain": [
       "array([4.02507847, 1.71726303])"
      ]
     },
     "execution_count": 127,
     "metadata": {},
     "output_type": "execute_result"
    }
   ],
   "source": [
    "arr"
   ]
  },
  {
   "cell_type": "code",
   "execution_count": 72,
   "id": "4f085c9c",
   "metadata": {},
   "outputs": [],
   "source": [
    "arr = np.random.uniform(10,40, size =(5,6))"
   ]
  },
  {
   "cell_type": "code",
   "execution_count": 140,
   "id": "9806866c",
   "metadata": {},
   "outputs": [
    {
     "data": {
      "text/plain": [
       "array([[28.68481523, 36.82320854, 10.36665933, 35.32503641, 30.38936809,\n",
       "        27.45316521],\n",
       "       [32.25640032, 11.64601124, 20.23293566, 25.13492758, 29.46728497,\n",
       "        11.86363554],\n",
       "       [25.24269971, 25.69718731, 10.77315446, 13.00391812, 23.50845539,\n",
       "        21.95961295],\n",
       "       [11.98571713, 23.3893287 , 13.43272333, 22.64228602, 28.11356718,\n",
       "        31.74497274],\n",
       "       [35.54590453, 33.18380114, 31.89007427, 32.88602144, 17.56926553,\n",
       "        21.29300268]])"
      ]
     },
     "execution_count": 140,
     "metadata": {},
     "output_type": "execute_result"
    }
   ],
   "source": [
    "arr"
   ]
  },
  {
   "cell_type": "code",
   "execution_count": 141,
   "id": "b1dafe9d",
   "metadata": {},
   "outputs": [
    {
     "data": {
      "text/plain": [
       "24.11683802498015"
      ]
     },
     "execution_count": 141,
     "metadata": {},
     "output_type": "execute_result"
    }
   ],
   "source": [
    "np.mean(arr)"
   ]
  },
  {
   "cell_type": "code",
   "execution_count": 13,
   "id": "b3128165",
   "metadata": {},
   "outputs": [],
   "source": [
    "arr = np.random.randint(10,40, size =(5,6))"
   ]
  },
  {
   "cell_type": "code",
   "execution_count": 14,
   "id": "43bb6d5f",
   "metadata": {},
   "outputs": [
    {
     "data": {
      "text/plain": [
       "array([[30, 27, 16, 31, 19, 32],\n",
       "       [30, 13, 17, 17, 25, 34],\n",
       "       [37, 32, 19, 15, 14, 19],\n",
       "       [29, 16, 13, 31, 15, 38],\n",
       "       [32, 38, 26, 10, 33, 33]])"
      ]
     },
     "execution_count": 14,
     "metadata": {},
     "output_type": "execute_result"
    }
   ],
   "source": [
    "arr"
   ]
  },
  {
   "cell_type": "code",
   "execution_count": 15,
   "id": "34d60c6f",
   "metadata": {},
   "outputs": [
    {
     "data": {
      "text/plain": [
       "array([[32, 38, 26, 10, 33, 33],\n",
       "       [29, 16, 13, 31, 15, 38],\n",
       "       [37, 32, 19, 15, 14, 19],\n",
       "       [30, 13, 17, 17, 25, 34],\n",
       "       [30, 27, 16, 31, 19, 32]])"
      ]
     },
     "execution_count": 15,
     "metadata": {},
     "output_type": "execute_result"
    }
   ],
   "source": [
    "arr[::-1]"
   ]
  },
  {
   "cell_type": "code",
   "execution_count": null,
   "id": "38b731be",
   "metadata": {},
   "outputs": [],
   "source": []
  },
  {
   "cell_type": "code",
   "execution_count": 16,
   "id": "73462e92",
   "metadata": {},
   "outputs": [
    {
     "data": {
      "text/plain": [
       "[30, 14]"
      ]
     },
     "execution_count": 16,
     "metadata": {},
     "output_type": "execute_result"
    }
   ],
   "source": [
    "[arr[0][0], arr[2][4]]"
   ]
  },
  {
   "cell_type": "code",
   "execution_count": 17,
   "id": "cb2bb5b7",
   "metadata": {},
   "outputs": [],
   "source": [
    "arr[[0, 2, 3], [0, 4, 1]] = 100"
   ]
  },
  {
   "cell_type": "code",
   "execution_count": 18,
   "id": "a84ab182",
   "metadata": {},
   "outputs": [
    {
     "data": {
      "text/plain": [
       "array([[100,  27,  16,  31,  19,  32],\n",
       "       [ 30,  13,  17,  17,  25,  34],\n",
       "       [ 37,  32,  19,  15, 100,  19],\n",
       "       [ 29, 100,  13,  31,  15,  38],\n",
       "       [ 32,  38,  26,  10,  33,  33]])"
      ]
     },
     "execution_count": 18,
     "metadata": {},
     "output_type": "execute_result"
    }
   ],
   "source": [
    "arr"
   ]
  },
  {
   "cell_type": "code",
   "execution_count": 181,
   "id": "8679c8a6",
   "metadata": {},
   "outputs": [],
   "source": [
    "a =10\n",
    "b=9"
   ]
  },
  {
   "cell_type": "code",
   "execution_count": 183,
   "id": "d1fa6a95",
   "metadata": {},
   "outputs": [],
   "source": [
    "if a==b:\n",
    "    print(\"dsjgfgh\")"
   ]
  },
  {
   "cell_type": "code",
   "execution_count": 184,
   "id": "542bd7ec",
   "metadata": {},
   "outputs": [],
   "source": [
    "a = \"dsggh\""
   ]
  },
  {
   "cell_type": "code",
   "execution_count": 185,
   "id": "8034f9ab",
   "metadata": {},
   "outputs": [],
   "source": [
    "b =7"
   ]
  },
  {
   "cell_type": "code",
   "execution_count": null,
   "id": "8fe43489",
   "metadata": {},
   "outputs": [],
   "source": []
  },
  {
   "cell_type": "code",
   "execution_count": 19,
   "id": "74bb915b",
   "metadata": {},
   "outputs": [],
   "source": [
    "lst = [1,2,3,4,56,6]"
   ]
  },
  {
   "cell_type": "code",
   "execution_count": 20,
   "id": "af55b3b3",
   "metadata": {},
   "outputs": [],
   "source": [
    "shall_copy = lst.copy()"
   ]
  },
  {
   "cell_type": "code",
   "execution_count": 21,
   "id": "2c7c9c38",
   "metadata": {},
   "outputs": [
    {
     "data": {
      "text/plain": [
       "[1, 2, 3, 4, 56, 6]"
      ]
     },
     "execution_count": 21,
     "metadata": {},
     "output_type": "execute_result"
    }
   ],
   "source": [
    "shall_copy"
   ]
  },
  {
   "cell_type": "code",
   "execution_count": 25,
   "id": "c84a0a52",
   "metadata": {},
   "outputs": [],
   "source": [
    "import copy"
   ]
  },
  {
   "cell_type": "code",
   "execution_count": 27,
   "id": "3c17bb7c",
   "metadata": {},
   "outputs": [],
   "source": [
    "deep_copy = copy.deepcopy(lst)"
   ]
  },
  {
   "cell_type": "code",
   "execution_count": 29,
   "id": "d10cfd99",
   "metadata": {},
   "outputs": [],
   "source": [
    "deep_copy[0] = 5"
   ]
  },
  {
   "cell_type": "code",
   "execution_count": null,
   "id": "f8199dea",
   "metadata": {},
   "outputs": [],
   "source": [
    "ravel ---- deepcopy\n",
    "flattten -- shallow "
   ]
  },
  {
   "cell_type": "code",
   "execution_count": 30,
   "id": "46269799",
   "metadata": {},
   "outputs": [
    {
     "data": {
      "text/plain": [
       "[5, 2, 3, 4, 56, 6]"
      ]
     },
     "execution_count": 30,
     "metadata": {},
     "output_type": "execute_result"
    }
   ],
   "source": [
    "deep_copy"
   ]
  },
  {
   "cell_type": "code",
   "execution_count": 31,
   "id": "4a4228b7",
   "metadata": {},
   "outputs": [],
   "source": [
    "shall_copy[0] = 7"
   ]
  },
  {
   "cell_type": "code",
   "execution_count": 32,
   "id": "e3f09f6b",
   "metadata": {},
   "outputs": [
    {
     "data": {
      "text/plain": [
       "[7, 2, 3, 4, 56, 6]"
      ]
     },
     "execution_count": 32,
     "metadata": {},
     "output_type": "execute_result"
    }
   ],
   "source": [
    "shall_copy"
   ]
  },
  {
   "cell_type": "code",
   "execution_count": 34,
   "id": "830eb297",
   "metadata": {},
   "outputs": [],
   "source": [
    "lst[0] = 8"
   ]
  },
  {
   "cell_type": "code",
   "execution_count": 35,
   "id": "6c2ad8c1",
   "metadata": {},
   "outputs": [
    {
     "data": {
      "text/plain": [
       "[8, 2, 3, 4, 56, 6]"
      ]
     },
     "execution_count": 35,
     "metadata": {},
     "output_type": "execute_result"
    }
   ],
   "source": [
    "lst"
   ]
  },
  {
   "cell_type": "code",
   "execution_count": 36,
   "id": "7999e772",
   "metadata": {},
   "outputs": [
    {
     "data": {
      "text/plain": [
       "[5, 2, 3, 4, 56, 6]"
      ]
     },
     "execution_count": 36,
     "metadata": {},
     "output_type": "execute_result"
    }
   ],
   "source": [
    "deep_copy"
   ]
  },
  {
   "cell_type": "code",
   "execution_count": 45,
   "id": "3242b6e0",
   "metadata": {},
   "outputs": [
    {
     "data": {
      "text/plain": [
       "array([[ 89,  27,  16,  31,  19,  32],\n",
       "       [ 30,  13,  17,  17,  25,  34],\n",
       "       [ 37,  32,  19,  15, 100,  19],\n",
       "       [ 29, 100,  13,  31,  15,  38],\n",
       "       [ 32,  38,  26,  10,  33,  33]])"
      ]
     },
     "execution_count": 45,
     "metadata": {},
     "output_type": "execute_result"
    }
   ],
   "source": [
    "arr"
   ]
  },
  {
   "cell_type": "code",
   "execution_count": 46,
   "id": "c3c4723c",
   "metadata": {},
   "outputs": [],
   "source": [
    "res = arr.ravel()"
   ]
  },
  {
   "cell_type": "code",
   "execution_count": 47,
   "id": "62e69812",
   "metadata": {},
   "outputs": [
    {
     "data": {
      "text/plain": [
       "array([ 89,  27,  16,  31,  19,  32,  30,  13,  17,  17,  25,  34,  37,\n",
       "        32,  19,  15, 100,  19,  29, 100,  13,  31,  15,  38,  32,  38,\n",
       "        26,  10,  33,  33])"
      ]
     },
     "execution_count": 47,
     "metadata": {},
     "output_type": "execute_result"
    }
   ],
   "source": [
    "res"
   ]
  },
  {
   "cell_type": "code",
   "execution_count": 49,
   "id": "9b3251c1",
   "metadata": {},
   "outputs": [
    {
     "data": {
      "text/plain": [
       "array([ 89,  27,  16,  31,  19,  32,  30,  13,  17,  17,  25,  34,  37,\n",
       "        32,  19,  15, 100,  19,  29, 100,  13,  31,  15,  38,  32,  38,\n",
       "        26,  10,  33,  33])"
      ]
     },
     "execution_count": 49,
     "metadata": {},
     "output_type": "execute_result"
    }
   ],
   "source": [
    "fes = arr.flatten()\n",
    "fes"
   ]
  },
  {
   "cell_type": "code",
   "execution_count": 50,
   "id": "08c05179",
   "metadata": {},
   "outputs": [],
   "source": [
    "arr[0][0]= 100"
   ]
  },
  {
   "cell_type": "code",
   "execution_count": 51,
   "id": "a4b8bce5",
   "metadata": {},
   "outputs": [
    {
     "data": {
      "text/plain": [
       "array([[100,  27,  16,  31,  19,  32],\n",
       "       [ 30,  13,  17,  17,  25,  34],\n",
       "       [ 37,  32,  19,  15, 100,  19],\n",
       "       [ 29, 100,  13,  31,  15,  38],\n",
       "       [ 32,  38,  26,  10,  33,  33]])"
      ]
     },
     "execution_count": 51,
     "metadata": {},
     "output_type": "execute_result"
    }
   ],
   "source": [
    "arr"
   ]
  },
  {
   "cell_type": "code",
   "execution_count": 52,
   "id": "e314a8ca",
   "metadata": {},
   "outputs": [
    {
     "data": {
      "text/plain": [
       "array([100,  27,  16,  31,  19,  32,  30,  13,  17,  17,  25,  34,  37,\n",
       "        32,  19,  15, 100,  19,  29, 100,  13,  31,  15,  38,  32,  38,\n",
       "        26,  10,  33,  33])"
      ]
     },
     "execution_count": 52,
     "metadata": {},
     "output_type": "execute_result"
    }
   ],
   "source": [
    "res"
   ]
  },
  {
   "cell_type": "code",
   "execution_count": 53,
   "id": "1ecac999",
   "metadata": {},
   "outputs": [
    {
     "data": {
      "text/plain": [
       "array([ 89,  27,  16,  31,  19,  32,  30,  13,  17,  17,  25,  34,  37,\n",
       "        32,  19,  15, 100,  19,  29, 100,  13,  31,  15,  38,  32,  38,\n",
       "        26,  10,  33,  33])"
      ]
     },
     "execution_count": 53,
     "metadata": {},
     "output_type": "execute_result"
    }
   ],
   "source": [
    "fes"
   ]
  },
  {
   "cell_type": "code",
   "execution_count": 54,
   "id": "4e830eda",
   "metadata": {},
   "outputs": [
    {
     "data": {
      "text/plain": [
       "array([[100,  27,  16,  31,  19,  32],\n",
       "       [ 30,  13,  17,  17,  25,  34],\n",
       "       [ 37,  32,  19,  15, 100,  19],\n",
       "       [ 29, 100,  13,  31,  15,  38],\n",
       "       [ 32,  38,  26,  10,  33,  33]])"
      ]
     },
     "execution_count": 54,
     "metadata": {},
     "output_type": "execute_result"
    }
   ],
   "source": [
    "arr"
   ]
  },
  {
   "cell_type": "code",
   "execution_count": 77,
   "id": "2737710a",
   "metadata": {},
   "outputs": [],
   "source": [
    "for i in range(30):\n",
    "    if i%2=0:\n",
    "        arr.flat[i] =1"
   ]
  },
  {
   "cell_type": "code",
   "execution_count": 91,
   "id": "84658cd5",
   "metadata": {},
   "outputs": [],
   "source": [
    "arr = np.random.randint(10,40, size = (5,6))"
   ]
  },
  {
   "cell_type": "code",
   "execution_count": 92,
   "id": "bb08286b",
   "metadata": {
    "scrolled": true
   },
   "outputs": [
    {
     "data": {
      "text/plain": [
       "array([[29, 28, 39, 20, 20, 38],\n",
       "       [11, 20, 31, 16, 27, 18],\n",
       "       [13, 36, 33, 31, 27, 36],\n",
       "       [15, 25, 30, 31, 11, 36],\n",
       "       [39, 12, 34, 22, 33, 12]])"
      ]
     },
     "execution_count": 92,
     "metadata": {},
     "output_type": "execute_result"
    }
   ],
   "source": [
    "arr"
   ]
  },
  {
   "cell_type": "code",
   "execution_count": 97,
   "id": "829978d6",
   "metadata": {},
   "outputs": [
    {
     "ename": "ValueError",
     "evalue": "either both or neither of x and y should be given",
     "output_type": "error",
     "traceback": [
      "\u001b[1;31m---------------------------------------------------------------------------\u001b[0m",
      "\u001b[1;31mValueError\u001b[0m                                Traceback (most recent call last)",
      "\u001b[1;32m~\\AppData\\Local\\Temp\\ipykernel_1332\\3715877826.py\u001b[0m in \u001b[0;36m<module>\u001b[1;34m\u001b[0m\n\u001b[1;32m----> 1\u001b[1;33m \u001b[0mnp\u001b[0m\u001b[1;33m.\u001b[0m\u001b[0mwhere\u001b[0m\u001b[1;33m(\u001b[0m\u001b[0marr\u001b[0m\u001b[1;33m%\u001b[0m\u001b[1;36m2\u001b[0m\u001b[1;33m==\u001b[0m\u001b[1;36m0\u001b[0m\u001b[1;33m,\u001b[0m\u001b[1;33m-\u001b[0m\u001b[1;36m1\u001b[0m\u001b[1;33m)\u001b[0m\u001b[1;33m\u001b[0m\u001b[1;33m\u001b[0m\u001b[0m\n\u001b[0m",
      "\u001b[1;32m~\\anaconda3\\lib\\site-packages\\numpy\\core\\overrides.py\u001b[0m in \u001b[0;36mwhere\u001b[1;34m(*args, **kwargs)\u001b[0m\n",
      "\u001b[1;31mValueError\u001b[0m: either both or neither of x and y should be given"
     ]
    }
   ],
   "source": [
    "np.where(arr%2==0)"
   ]
  },
  {
   "cell_type": "code",
   "execution_count": 98,
   "id": "1afccdbf",
   "metadata": {},
   "outputs": [],
   "source": [
    "x = np.array([[1,2],[3,4]])\n",
    "y = np.array([[5,6],[7,8]])"
   ]
  },
  {
   "cell_type": "code",
   "execution_count": 99,
   "id": "94c2b77a",
   "metadata": {},
   "outputs": [
    {
     "data": {
      "text/plain": [
       "array([[ 5, 12],\n",
       "       [21, 32]])"
      ]
     },
     "execution_count": 99,
     "metadata": {},
     "output_type": "execute_result"
    }
   ],
   "source": [
    "x*y"
   ]
  },
  {
   "cell_type": "code",
   "execution_count": 100,
   "id": "832a03dd",
   "metadata": {},
   "outputs": [
    {
     "data": {
      "text/plain": [
       "array([[19, 22],\n",
       "       [43, 50]])"
      ]
     },
     "execution_count": 100,
     "metadata": {},
     "output_type": "execute_result"
    }
   ],
   "source": [
    "np.dot(x,y)"
   ]
  },
  {
   "cell_type": "code",
   "execution_count": null,
   "id": "f6e45c69",
   "metadata": {},
   "outputs": [],
   "source": []
  }
 ],
 "metadata": {
  "kernelspec": {
   "display_name": "Python 3 (ipykernel)",
   "language": "python",
   "name": "python3"
  },
  "language_info": {
   "codemirror_mode": {
    "name": "ipython",
    "version": 3
   },
   "file_extension": ".py",
   "mimetype": "text/x-python",
   "name": "python",
   "nbconvert_exporter": "python",
   "pygments_lexer": "ipython3",
   "version": "3.9.13"
  }
 },
 "nbformat": 4,
 "nbformat_minor": 5
}
