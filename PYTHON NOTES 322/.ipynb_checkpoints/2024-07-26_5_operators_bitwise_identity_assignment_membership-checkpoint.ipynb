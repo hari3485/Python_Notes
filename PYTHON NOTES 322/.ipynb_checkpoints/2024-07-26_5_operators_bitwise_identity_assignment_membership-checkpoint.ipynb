{
 "cells": [
  {
   "cell_type": "markdown",
   "metadata": {},
   "source": [
    "### Bitwise operators"
   ]
  },
  {
   "cell_type": "markdown",
   "metadata": {},
   "source": [
    "`<<`, `>>`, `&`, `^`, `|`"
   ]
  },
  {
   "cell_type": "code",
   "execution_count": 8,
   "metadata": {},
   "outputs": [
    {
     "name": "stdout",
     "output_type": "stream",
     "text": [
      "Bitwise AND of 6 and 8:  0\n",
      "Bitwise OR of 6 and 8:  14\n",
      "Bitwise XOR of 6 and 8:  14\n",
      "Right Shift 6 >> 8:  0\n",
      "Left Shift 6 << 8:  1536\n"
     ]
    }
   ],
   "source": [
    "num1 = 6\n",
    "num2 = 8\n",
    "print(f\"Bitwise AND of {num1} and {num2}: \", num1 & num2)\n",
    "print(f\"Bitwise OR of {num1} and {num2}: \", num1 | num2)\n",
    "print(f\"Bitwise XOR of {num1} and {num2}: \", num1 ^ num2)\n",
    "print(f\"Right Shift {num1} >> {num2}: \", num1 >> num2)\n",
    "print(f\"Left Shift {num1} << {num2}: \", num1 << num2)"
   ]
  },
  {
   "cell_type": "code",
   "execution_count": null,
   "metadata": {},
   "outputs": [],
   "source": []
  },
  {
   "cell_type": "code",
   "execution_count": null,
   "metadata": {},
   "outputs": [],
   "source": [
    "# The bin function - convert decimal to binary"
   ]
  },
  {
   "cell_type": "code",
   "execution_count": 1,
   "metadata": {},
   "outputs": [
    {
     "data": {
      "text/plain": [
       "'0b100000'"
      ]
     },
     "execution_count": 1,
     "metadata": {},
     "output_type": "execute_result"
    }
   ],
   "source": [
    "bin(32)"
   ]
  },
  {
   "cell_type": "code",
   "execution_count": 2,
   "metadata": {},
   "outputs": [
    {
     "data": {
      "text/plain": [
       "str"
      ]
     },
     "execution_count": 2,
     "metadata": {},
     "output_type": "execute_result"
    }
   ],
   "source": [
    "type(bin(32))"
   ]
  },
  {
   "cell_type": "code",
   "execution_count": 3,
   "metadata": {},
   "outputs": [
    {
     "data": {
      "text/plain": [
       "'0b1000000b11111'"
      ]
     },
     "execution_count": 3,
     "metadata": {},
     "output_type": "execute_result"
    }
   ],
   "source": [
    "bin(32) + bin(31)"
   ]
  },
  {
   "cell_type": "code",
   "execution_count": null,
   "metadata": {},
   "outputs": [],
   "source": [
    "# The hex function - convert decimal to hexadecimal"
   ]
  },
  {
   "cell_type": "code",
   "execution_count": 4,
   "metadata": {},
   "outputs": [
    {
     "data": {
      "text/plain": [
       "'0x64'"
      ]
     },
     "execution_count": 4,
     "metadata": {},
     "output_type": "execute_result"
    }
   ],
   "source": [
    "hex(100)"
   ]
  },
  {
   "cell_type": "code",
   "execution_count": 5,
   "metadata": {},
   "outputs": [
    {
     "data": {
      "text/plain": [
       "'0b1100100'"
      ]
     },
     "execution_count": 5,
     "metadata": {},
     "output_type": "execute_result"
    }
   ],
   "source": [
    "bin(100)"
   ]
  },
  {
   "cell_type": "markdown",
   "metadata": {},
   "source": [
    "Operator **precedence**\n",
    "\n",
    "**HIGHEST** to the **LOWEST**\n",
    "\n",
    "`<<`, `>>`, `&`, `^`, `|`"
   ]
  },
  {
   "cell_type": "code",
   "execution_count": 7,
   "metadata": {},
   "outputs": [
    {
     "data": {
      "text/plain": [
       "37.0"
      ]
     },
     "execution_count": 7,
     "metadata": {},
     "output_type": "execute_result"
    }
   ],
   "source": [
    "21 + 9 + (45 - 10) / 5"
   ]
  },
  {
   "cell_type": "code",
   "execution_count": 11,
   "metadata": {},
   "outputs": [
    {
     "data": {
      "text/plain": [
       "0"
      ]
     },
     "execution_count": 11,
     "metadata": {},
     "output_type": "execute_result"
    }
   ],
   "source": [
    "3 & (2 ^ 12 | 10) << 2 & (3 >> 4)"
   ]
  },
  {
   "cell_type": "code",
   "execution_count": 13,
   "metadata": {},
   "outputs": [
    {
     "data": {
      "text/plain": [
       "22"
      ]
     },
     "execution_count": 13,
     "metadata": {},
     "output_type": "execute_result"
    }
   ],
   "source": [
    "(4 | ((2 & 3) ^ ((10 << 2) >> 1)))"
   ]
  },
  {
   "cell_type": "code",
   "execution_count": null,
   "metadata": {},
   "outputs": [],
   "source": []
  },
  {
   "cell_type": "markdown",
   "metadata": {},
   "source": [
    "### Identity operators"
   ]
  },
  {
   "cell_type": "markdown",
   "metadata": {},
   "source": [
    "`is` and `is not` is the Identity operator in Python.\n",
    "\n",
    "References to whether 2 variables refer to **`SAME`** object in the memory."
   ]
  },
  {
   "cell_type": "code",
   "execution_count": 16,
   "metadata": {},
   "outputs": [
    {
     "name": "stdout",
     "output_type": "stream",
     "text": [
      "12 is AT the SAME LOCATION as 23? False\n",
      "12 is NOT AT the SAME LOCATION as 23? True\n"
     ]
    }
   ],
   "source": [
    "var1 = 12\n",
    "var2 = 23\n",
    "print(f\"{var1} is AT the SAME LOCATION as {var2}?\", var1 is var2)\n",
    "print(f\"{var1} is NOT AT the SAME LOCATION as {var2}?\", var1 is not var2)"
   ]
  },
  {
   "cell_type": "code",
   "execution_count": null,
   "metadata": {},
   "outputs": [],
   "source": []
  },
  {
   "cell_type": "markdown",
   "metadata": {},
   "source": [
    "The `id()` function"
   ]
  },
  {
   "cell_type": "code",
   "execution_count": 18,
   "metadata": {},
   "outputs": [
    {
     "data": {
      "text/plain": [
       "(140723933072152, 140723933072504)"
      ]
     },
     "execution_count": 18,
     "metadata": {},
     "output_type": "execute_result"
    }
   ],
   "source": [
    "id(var1), id(var2)"
   ]
  },
  {
   "cell_type": "code",
   "execution_count": 20,
   "metadata": {},
   "outputs": [
    {
     "data": {
      "text/plain": [
       "('0x7ffcd80acb18', '0x7ffcd80acb0e')"
      ]
     },
     "execution_count": 20,
     "metadata": {},
     "output_type": "execute_result"
    }
   ],
   "source": [
    "(hex(140723933072152), hex(140723933072142))"
   ]
  },
  {
   "cell_type": "markdown",
   "metadata": {},
   "source": [
    "The `hex()` function"
   ]
  },
  {
   "cell_type": "code",
   "execution_count": 19,
   "metadata": {},
   "outputs": [
    {
     "data": {
      "text/plain": [
       "('0x7ffcd80acb18', '0x7ffcd80acc78')"
      ]
     },
     "execution_count": 19,
     "metadata": {},
     "output_type": "execute_result"
    }
   ],
   "source": [
    "hex(id(var1)), hex(id(var2))"
   ]
  },
  {
   "cell_type": "code",
   "execution_count": null,
   "metadata": {},
   "outputs": [],
   "source": []
  },
  {
   "cell_type": "code",
   "execution_count": 24,
   "metadata": {},
   "outputs": [
    {
     "name": "stdout",
     "output_type": "stream",
     "text": [
      "12 is AT the SAME LOCATION as 12.0? False\n",
      "12 is NOT AT the SAME LOCATION as 12.0? True\n"
     ]
    }
   ],
   "source": [
    "var1 = 12\n",
    "var2 = 12.0\n",
    "#var2 = int(var2)\n",
    "print(f\"{var1} is AT the SAME LOCATION as {var2}?\", var1 is var2)\n",
    "print(f\"{var1} is NOT AT the SAME LOCATION as {var2}?\", var1 is not var2)"
   ]
  },
  {
   "cell_type": "code",
   "execution_count": 25,
   "metadata": {},
   "outputs": [
    {
     "data": {
      "text/plain": [
       "('0x7ffcd80acb18', '0x2aae8e0d770')"
      ]
     },
     "execution_count": 25,
     "metadata": {},
     "output_type": "execute_result"
    }
   ],
   "source": [
    "hex(id(var1)),hex(id(var2))"
   ]
  },
  {
   "cell_type": "markdown",
   "metadata": {},
   "source": [
    "The `==` operator"
   ]
  },
  {
   "cell_type": "code",
   "execution_count": 28,
   "metadata": {},
   "outputs": [
    {
     "name": "stdout",
     "output_type": "stream",
     "text": [
      "VALUE OF 12 IS EQUAL TO 12.0? True\n"
     ]
    }
   ],
   "source": [
    "var1 = 12\n",
    "var2 = 12.0\n",
    "#var2 = int(var2)\n",
    "print(f\"VALUE OF {var1} IS EQUAL TO {var2}?\", var1 == var2)"
   ]
  },
  {
   "cell_type": "code",
   "execution_count": null,
   "metadata": {},
   "outputs": [],
   "source": []
  },
  {
   "cell_type": "markdown",
   "metadata": {},
   "source": [
    "###  Assignment operators"
   ]
  },
  {
   "cell_type": "markdown",
   "metadata": {},
   "source": [
    "<b><u>Assigning</b></u> a value using `=` e.g. `+=`, `-=`...etc."
   ]
  },
  {
   "cell_type": "code",
   "execution_count": 36,
   "metadata": {},
   "outputs": [
    {
     "name": "stdout",
     "output_type": "stream",
     "text": [
      "Addition:  27\n",
      "Multiplication:  81\n",
      "Division:  27.0\n",
      "Floor Division:  9.0\n",
      "Exponentiation:  729.0\n"
     ]
    }
   ],
   "source": [
    "num1 = 21 ### \"=\" is an assignment operator\n",
    "num2 = 3\n",
    "num1 = num1 + num2 ### ALSO THE assignment AFTER doing ADDITION\n",
    "#alternatively\n",
    "num1 += num2   ### num1 = num1 + num2\n",
    "print(\"Addition: \", num1)\n",
    "num1 *= num2\n",
    "print(\"Multiplication: \", num1)\n",
    "num1 /= num2\n",
    "print(\"Division: \", num1)\n",
    "num1 //= num2\n",
    "print(\"Floor Division: \", num1)\n",
    "num1 **= num2\n",
    "print(\"Exponentiation: \", num1)"
   ]
  },
  {
   "cell_type": "code",
   "execution_count": null,
   "metadata": {},
   "outputs": [],
   "source": []
  },
  {
   "cell_type": "markdown",
   "metadata": {},
   "source": [
    "### Membership operators:\n",
    "`in` and `not in` are the membership operators in Python. They are used to test whether a value or variable is found in a sequence (string, list, tuple, set and dictionary)."
   ]
  },
  {
   "cell_type": "code",
   "execution_count": 40,
   "metadata": {},
   "outputs": [
    {
     "name": "stdout",
     "output_type": "stream",
     "text": [
      "Is 'nom' A part of 'Innomatics'?? True\n"
     ]
    }
   ],
   "source": [
    "sample_string = \"Innomatics\"\n",
    "checkmember = \"nom\"\n",
    "print(F\"Is '{checkmember}' A part of '{sample_string}'??\", checkmember in sample_string)"
   ]
  },
  {
   "cell_type": "code",
   "execution_count": 41,
   "metadata": {},
   "outputs": [
    {
     "name": "stdout",
     "output_type": "stream",
     "text": [
      "Is 'n' A part of 'Innomatics'?? True\n"
     ]
    }
   ],
   "source": [
    "sample_string = \"Innomatics\"\n",
    "checkmember = \"n\"\n",
    "print(F\"Is '{checkmember}' A part of '{sample_string}'??\", checkmember in sample_string)"
   ]
  },
  {
   "cell_type": "code",
   "execution_count": null,
   "metadata": {},
   "outputs": [],
   "source": []
  }
 ],
 "metadata": {
  "kernelspec": {
   "display_name": "Python 3 (ipykernel)",
   "language": "python",
   "name": "python3"
  },
  "language_info": {
   "codemirror_mode": {
    "name": "ipython",
    "version": 3
   },
   "file_extension": ".py",
   "mimetype": "text/x-python",
   "name": "python",
   "nbconvert_exporter": "python",
   "pygments_lexer": "ipython3",
   "version": "3.12.0"
  }
 },
 "nbformat": 4,
 "nbformat_minor": 4
}
