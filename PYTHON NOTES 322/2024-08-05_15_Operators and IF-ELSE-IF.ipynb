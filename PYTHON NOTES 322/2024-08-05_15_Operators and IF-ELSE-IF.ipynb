{
 "cells": [
  {
   "cell_type": "markdown",
   "metadata": {},
   "source": [
    "## Types of Operators\n",
    "\n",
    "Python divides the operators in the following groups:\n",
    "\n",
    "- Arithmetic operators\n",
    "- Assignment operators\n",
    "- Comparison operators\n",
    "- Logical operators\n",
    "- Identity operators\n",
    "- Membership operators\n",
    "- Bitwise operators"
   ]
  },
  {
   "cell_type": "markdown",
   "metadata": {},
   "source": [
    "## Arithmetic Operators\n",
    "- #   +, - , /, %, *\n"
   ]
  },
  {
   "cell_type": "code",
   "execution_count": null,
   "metadata": {},
   "outputs": [],
   "source": []
  },
  {
   "cell_type": "markdown",
   "metadata": {},
   "source": [
    "## Comparison or Relational operators \n",
    "- >, >=, <, <="
   ]
  },
  {
   "cell_type": "code",
   "execution_count": null,
   "metadata": {},
   "outputs": [],
   "source": []
  },
  {
   "cell_type": "markdown",
   "metadata": {},
   "source": [
    "### Equality  (==, !=) # to check whether given two values equal or not"
   ]
  },
  {
   "cell_type": "code",
   "execution_count": null,
   "metadata": {},
   "outputs": [],
   "source": []
  },
  {
   "cell_type": "markdown",
   "metadata": {},
   "source": [
    "## Logical operators \n",
    "- (and/or/not)"
   ]
  },
  {
   "cell_type": "code",
   "execution_count": null,
   "metadata": {},
   "outputs": [],
   "source": []
  },
  {
   "cell_type": "markdown",
   "metadata": {},
   "source": [
    "## Identity Operators\n",
    "\n",
    "> Identity operators are used to compare the objects, not if they are equal, but if they are actually the same object, with the same memory location:\n",
    "\n",
    "- is\n",
    "- is not"
   ]
  },
  {
   "cell_type": "code",
   "execution_count": 9,
   "metadata": {},
   "outputs": [
    {
     "data": {
      "text/plain": [
       "True"
      ]
     },
     "execution_count": 9,
     "metadata": {},
     "output_type": "execute_result"
    }
   ],
   "source": [
    "a=22\n",
    "b=22\n",
    "a is b"
   ]
  },
  {
   "cell_type": "code",
   "execution_count": 11,
   "metadata": {},
   "outputs": [
    {
     "data": {
      "text/plain": [
       "True"
      ]
     },
     "execution_count": 11,
     "metadata": {},
     "output_type": "execute_result"
    }
   ],
   "source": [
    "a=\"chandan\"\n",
    "b=\"chandan\"\n",
    "a is b"
   ]
  },
  {
   "cell_type": "code",
   "execution_count": 12,
   "metadata": {},
   "outputs": [
    {
     "data": {
      "text/plain": [
       "False"
      ]
     },
     "execution_count": 12,
     "metadata": {},
     "output_type": "execute_result"
    }
   ],
   "source": [
    "a=2.0\n",
    "b=2.0\n",
    "a is b"
   ]
  },
  {
   "cell_type": "markdown",
   "metadata": {},
   "source": [
    "## membership operators\n",
    "\n",
    "> Membership operators are used to test if a sequence is presented in an object:\n",
    "\n",
    "- in  \n",
    "- not in"
   ]
  },
  {
   "cell_type": "code",
   "execution_count": 13,
   "metadata": {},
   "outputs": [
    {
     "data": {
      "text/plain": [
       "True"
      ]
     },
     "execution_count": 13,
     "metadata": {},
     "output_type": "execute_result"
    }
   ],
   "source": [
    "a=\"hari\"\n",
    "\"a\" in a"
   ]
  },
  {
   "cell_type": "markdown",
   "metadata": {},
   "source": [
    "## Bitwise Operators"
   ]
  },
  {
   "cell_type": "markdown",
   "metadata": {},
   "source": [
    "![image.png](capture4.png)"
   ]
  },
  {
   "cell_type": "code",
   "execution_count": 29,
   "metadata": {},
   "outputs": [],
   "source": [
    "a=6\n",
    "b=5"
   ]
  },
  {
   "cell_type": "code",
   "execution_count": 30,
   "metadata": {},
   "outputs": [
    {
     "name": "stdout",
     "output_type": "stream",
     "text": [
      "5 6\n"
     ]
    }
   ],
   "source": [
    "# temp=a\n",
    "# a=b\n",
    "# b=temp\n",
    "# print(a,b)\n",
    "\n",
    "# a=a+b\n",
    "# b=a-b\n",
    "# a=a-b\n",
    "# print(a,b)\n",
    "\n",
    "a=a^b\n",
    "b=a^b\n",
    "a=a^b\n",
    "print(a,b) "
   ]
  },
  {
   "cell_type": "markdown",
   "metadata": {},
   "source": [
    "# Python Conditional Statements\n",
    "> Conditionals help us to make decisions. They excecute blocks of code based on the truthfullness of some statements. The if  elif  else keywords actually help us to write conditionals\n",
    "\n",
    "- If\n",
    "- If-else\n",
    "- Elif\n",
    "- Nested if and if-else\n",
    "- Elif ladder"
   ]
  },
  {
   "cell_type": "code",
   "execution_count": 31,
   "metadata": {},
   "outputs": [
    {
     "name": "stdout",
     "output_type": "stream",
     "text": [
      "i am hari\n"
     ]
    }
   ],
   "source": [
    "if True:\n",
    "    print(\"i am hari\")"
   ]
  },
  {
   "cell_type": "markdown",
   "metadata": {},
   "source": [
    "# Python Indentation\n",
    "A simple if block -\n",
    "```python\n",
    "    if (number < 0):\n",
    "        printf(\"You entered \", number)\n",
    "```"
   ]
  },
  {
   "cell_type": "markdown",
   "metadata": {},
   "source": [
    "In Python, the code blocks are defined by a set of common or consistent number of spaces. This is called as **Python Indentation.**\n",
    "\n",
    " The block scope will end at the first unindented line.\n",
    "\n",
    "The best practice is to use **Tab** key."
   ]
  },
  {
   "cell_type": "markdown",
   "metadata": {},
   "source": [
    "# 1. IF\n",
    "- The if keyword is used to check for a statement and execute the subsequent block of code based on the truthfullness of the statement. if statement contains the starter condition. As such, a condition has to be always given to the if block\n",
    "\n",
    "\n",
    "Syntax:\n",
    "\n",
    "if statement:\n",
    "    block_of_code"
   ]
  },
  {
   "cell_type": "code",
   "execution_count": 2,
   "metadata": {},
   "outputs": [
    {
     "name": "stdin",
     "output_type": "stream",
     "text": [
      "Enter the AGE: 4\n"
     ]
    }
   ],
   "source": [
    "age = int(input(\"Enter the AGE:\"))\n",
    "if age >= 18:\n",
    "    print(\"You are a RESPONSIBLE CITIZEN... Thanks for VOTING\")"
   ]
  },
  {
   "cell_type": "code",
   "execution_count": null,
   "metadata": {},
   "outputs": [],
   "source": []
  },
  {
   "cell_type": "markdown",
   "metadata": {},
   "source": [
    "### Question: WAP for passing the exam if the students meets the cutoff using 'if' condition"
   ]
  },
  {
   "cell_type": "code",
   "execution_count": 5,
   "metadata": {},
   "outputs": [
    {
     "name": "stdin",
     "output_type": "stream",
     "text": [
      "Enter marks:  145\n",
      "Enter Cutoff:  33\n"
     ]
    },
    {
     "name": "stdout",
     "output_type": "stream",
     "text": [
      "PASSED\n"
     ]
    }
   ],
   "source": [
    "marks = float(input(\"Enter marks: \"))\n",
    "cutoff = float(input(\"Enter Cutoff: \"))\n",
    "if marks >= cutoff:\n",
    "    print(\"PASSED\")"
   ]
  },
  {
   "cell_type": "code",
   "execution_count": null,
   "metadata": {},
   "outputs": [],
   "source": []
  },
  {
   "cell_type": "markdown",
   "metadata": {},
   "source": [
    "### Operators in IF"
   ]
  },
  {
   "cell_type": "code",
   "execution_count": 6,
   "metadata": {},
   "outputs": [
    {
     "name": "stdin",
     "output_type": "stream",
     "text": [
      "Enter marks:  149\n",
      "Enter Cutoff:  33\n"
     ]
    }
   ],
   "source": [
    "marks = float(input(\"Enter marks: \"))\n",
    "cutoff = float(input(\"Enter Cutoff: \"))\n",
    "if (marks >= cutoff) and (marks <= 100):\n",
    "    print(\"PASSED\")"
   ]
  },
  {
   "cell_type": "code",
   "execution_count": null,
   "metadata": {},
   "outputs": [],
   "source": []
  },
  {
   "cell_type": "markdown",
   "metadata": {},
   "source": [
    "# 2. ELSE\n",
    "All the cases which aren't satisfied using the if statement are collected in the else block given by the else keyword. else block is the terminal block where all the edge cases are collected. As such, no statement has to be given when we are using the else"
   ]
  },
  {
   "cell_type": "code",
   "execution_count": 32,
   "metadata": {},
   "outputs": [
    {
     "name": "stdout",
     "output_type": "stream",
     "text": [
      "Enter marks: 12\n",
      "Enter Cutoff: 30\n",
      "BETTER LUCK NEXT TIME...\n"
     ]
    }
   ],
   "source": [
    "marks = float(input(\"Enter marks: \"))\n",
    "cutoff = float(input(\"Enter Cutoff: \"))\n",
    "if marks >= cutoff:\n",
    "    print(\"PASSED\")\n",
    "else:\n",
    "    print(\"BETTER LUCK NEXT TIME...\")"
   ]
  },
  {
   "cell_type": "code",
   "execution_count": 9,
   "metadata": {},
   "outputs": [
    {
     "ename": "SyntaxError",
     "evalue": "invalid syntax (2367280080.py, line 3)",
     "output_type": "error",
     "traceback": [
      "\u001b[1;36m  Cell \u001b[1;32mIn[9], line 3\u001b[1;36m\u001b[0m\n\u001b[1;33m    else:\u001b[0m\n\u001b[1;37m    ^\u001b[0m\n\u001b[1;31mSyntaxError\u001b[0m\u001b[1;31m:\u001b[0m invalid syntax\n"
     ]
    }
   ],
   "source": [
    "### INDIVIDUAL ELSE STATEMENT DOES NOT EXIST\n",
    "marks = float(input(\"Enter marks: \"))\n",
    "cutoff = float(input(\"Enter Cutoff: \"))\n",
    "else:\n",
    "    print(\"BETTER LUCK NEXT TIME...\")"
   ]
  },
  {
   "cell_type": "code",
   "execution_count": null,
   "metadata": {},
   "outputs": [],
   "source": []
  },
  {
   "cell_type": "markdown",
   "metadata": {},
   "source": [
    "# 3. IF-ELSE"
   ]
  },
  {
   "cell_type": "markdown",
   "metadata": {},
   "source": [
    "## Check for the given number is even or odd"
   ]
  },
  {
   "cell_type": "code",
   "execution_count": 11,
   "metadata": {},
   "outputs": [
    {
     "name": "stdin",
     "output_type": "stream",
     "text": [
      "Enter number:  12\n"
     ]
    },
    {
     "name": "stdout",
     "output_type": "stream",
     "text": [
      "The number 12 is EVEN\n"
     ]
    }
   ],
   "source": [
    "num = int(input(\"Enter number: \"))\n",
    "if num % 2 == 0:\n",
    "    print(f\"The number {num} is EVEN\")\n",
    "else:\n",
    "    print(f\"The number {num} is ODD\")"
   ]
  },
  {
   "cell_type": "code",
   "execution_count": null,
   "metadata": {},
   "outputs": [],
   "source": []
  },
  {
   "cell_type": "code",
   "execution_count": null,
   "metadata": {},
   "outputs": [],
   "source": []
  },
  {
   "cell_type": "markdown",
   "metadata": {},
   "source": [
    "**Note: The short-hand notations will work only if the block of code is a single line code**"
   ]
  },
  {
   "cell_type": "code",
   "execution_count": 12,
   "metadata": {},
   "outputs": [
    {
     "name": "stdout",
     "output_type": "stream",
     "text": [
      "odd\n"
     ]
    }
   ],
   "source": [
    "num = 15\n",
    "print(\"even\" if num % 2 == 0 else \"odd\")"
   ]
  },
  {
   "cell_type": "code",
   "execution_count": null,
   "metadata": {},
   "outputs": [],
   "source": []
  },
  {
   "cell_type": "markdown",
   "metadata": {},
   "source": [
    "## (a) IF -- ELSEIF -- ELSE"
   ]
  },
  {
   "cell_type": "code",
   "execution_count": 9,
   "metadata": {},
   "outputs": [],
   "source": [
    "# introducing zero"
   ]
  },
  {
   "cell_type": "code",
   "execution_count": 16,
   "metadata": {},
   "outputs": [
    {
     "name": "stdout",
     "output_type": "stream",
     "text": [
      "0 is ZERO/ WHOLE NUMBER\n"
     ]
    }
   ],
   "source": [
    "num = 0\n",
    "if num == 0:\n",
    "    print(f\"{num} is ZERO/ WHOLE NUMBER\")\n",
    "elif num % 2 == 0:\n",
    "    print(f\"{num} is EVEN\")\n",
    "else:\n",
    "    print(f\"{num} is ODD\")"
   ]
  },
  {
   "cell_type": "code",
   "execution_count": null,
   "metadata": {},
   "outputs": [],
   "source": []
  },
  {
   "cell_type": "markdown",
   "metadata": {},
   "source": [
    "# 4. Elif Ladder\n",
    "- The `elif` keyword is used to check for those conditions which weren't done so by the previous statements."
   ]
  },
  {
   "cell_type": "code",
   "execution_count": null,
   "metadata": {},
   "outputs": [],
   "source": [
    "# considering negative numbers"
   ]
  },
  {
   "cell_type": "code",
   "execution_count": 35,
   "metadata": {},
   "outputs": [
    {
     "name": "stdout",
     "output_type": "stream",
     "text": [
      "greater\n",
      "less\n",
      "equal\n"
     ]
    }
   ],
   "source": [
    "def compare_five(y):\n",
    "    if y > 5:\n",
    "        return \"greater\"\n",
    "    elif y < 5:\n",
    "        return \"less\"\n",
    "    else:\n",
    "        return \"equal\"\n",
    "    \n",
    "print(compare_five(10))\n",
    "print(compare_five(2))\n",
    "print(compare_five(5))"
   ]
  },
  {
   "cell_type": "code",
   "execution_count": 20,
   "metadata": {},
   "outputs": [
    {
     "name": "stdout",
     "output_type": "stream",
     "text": [
      "-8 is a -VE EVEN NUMBER\n"
     ]
    }
   ],
   "source": [
    "num = -8\n",
    "if num == 0:\n",
    "    print(\"ZERO\")\n",
    "elif (num < 0) and (num % 2 == 0):\n",
    "    print(f\"{num} is a -VE EVEN NUMBER\")\n",
    "elif (num < 0) and (num % 2 != 0):\n",
    "    print(f\"{num} is a -VE ODD NUMBER\")\n",
    "elif (num > 0) and (num % 2 == 0):\n",
    "    print(f\"{num} is a +VE EVEN NUMBER\")\n",
    "elif (num < 0) and (num % 2 != 0):    ##### We can have an ELIFs Ladder without the ELSE statmenet\n",
    "    print(f\"{num} is a +VE ODD NUMBER\")"
   ]
  },
  {
   "cell_type": "code",
   "execution_count": null,
   "metadata": {},
   "outputs": [],
   "source": []
  },
  {
   "cell_type": "code",
   "execution_count": null,
   "metadata": {},
   "outputs": [],
   "source": []
  },
  {
   "cell_type": "markdown",
   "metadata": {},
   "source": [
    "# 5. Nested if & if-else"
   ]
  },
  {
   "cell_type": "code",
   "execution_count": null,
   "metadata": {},
   "outputs": [],
   "source": [
    "# alternative approach"
   ]
  },
  {
   "cell_type": "code",
   "execution_count": 25,
   "metadata": {},
   "outputs": [
    {
     "name": "stdout",
     "output_type": "stream",
     "text": [
      "22 +VE EVEN\n"
     ]
    }
   ],
   "source": [
    "num = 22\n",
    "if num == 0:\n",
    "    print(\"ZERO\")\n",
    "elif num % 2 != 0:   ### ODD\n",
    "    if num > 0:    ### NESTED IF - ELSE STRUCTURE\n",
    "        print(f\"{num} +VE ODD\")\n",
    "    else:\n",
    "        print(f\"{num} -VE ODD\")\n",
    "else:   ### EVEN\n",
    "    if num > 0:    ### NESTED IF - ELSE STRUCTURE\n",
    "        print(f\"{num} +VE EVEN\")\n",
    "    else:\n",
    "        print(f\"{num} -VE EVEN\")"
   ]
  },
  {
   "cell_type": "code",
   "execution_count": null,
   "metadata": {},
   "outputs": [],
   "source": [
    "# Function to check if the word ends with a vowel\n",
    "def ends_with_vowel(word):\n",
    "    vowels = \"aeiouAEIOU\"  # list of vowels (both lowercase and uppercase)\n",
    "    return word[-1] in vowels  # check if the last character of the word is a vowel\n",
    "\n",
    "# Function to check if the number is even\n",
    "def is_even(number):\n",
    "    return number % 2 == 0  # check if the number is divisible by 2\n",
    "\n",
    "# Accept word and number from the user\n",
    "word = input(\"Enter a word: \")\n",
    "number = int(input(\"Enter a number: \"))\n",
    "\n",
    "# Check if the number is even or odd\n",
    "if is_even(number):\n",
    "    number_status = \"even\"\n",
    "else:\n",
    "    number_status = \"odd\"\n",
    "\n",
    "# Check if the word ends with a vowel\n",
    "if ends_with_vowel(word):\n",
    "    word_status = \"ends with a vowel\"\n",
    "else:\n",
    "    word_status = \"does not end with a vowel\"\n",
    "\n",
    "# Print the results\n",
    "print(f\"The number {number} is {number_status}.\")\n",
    "print(f\"The word '{word}' {word_status}.\")\n",
    "\n"
   ]
  },
  {
   "cell_type": "code",
   "execution_count": 40,
   "metadata": {},
   "outputs": [
    {
     "name": "stdout",
     "output_type": "stream",
     "text": [
      "enter a word: apple\n",
      "word is taken\n"
     ]
    }
   ],
   "source": [
    "a=input(\"enter a word: \")\n",
    "if a.startswith(\"a\") or a.startswith(\"e\") or a.startswith(\"o\") or a.startswith(\"e\") or a.startswith(\"i\"):\n",
    "    print(\"word is taken\")\n",
    "else:\n",
    "    print(\"word is not valid check this word\")"
   ]
  },
  {
   "cell_type": "markdown",
   "metadata": {},
   "source": [
    "## Some example questions"
   ]
  },
  {
   "cell_type": "markdown",
   "metadata": {},
   "source": [
    "### 1. Write a program which will accept a word from the user and is going to check whether the word STARTS WITH a vowel or not"
   ]
  },
  {
   "cell_type": "markdown",
   "metadata": {},
   "source": [
    "### 2. Write a program which will accept a word and a number from the user. Check if the word ENDS with a vowel and the number is even and write appropriate conditions accordingly"
   ]
  },
  {
   "cell_type": "markdown",
   "metadata": {},
   "source": [
    "### 3. Tax Payment Question - take the input as the salary of an employee and check which slab does he come under.\n",
    "###### Slab 1: income greater than 2,00,000. Pay tax of 5%\n",
    "###### Slab 2: income greater than 5,00,000. Pay tax of 10%\n",
    "###### Slab 3: income greater than 10,00,000. Pay tax of 20%"
   ]
  },
  {
   "cell_type": "code",
   "execution_count": null,
   "metadata": {},
   "outputs": [],
   "source": []
  },
  {
   "cell_type": "code",
   "execution_count": null,
   "metadata": {},
   "outputs": [],
   "source": []
  }
 ],
 "metadata": {
  "kernelspec": {
   "display_name": "Python 3 (ipykernel)",
   "language": "python",
   "name": "python3"
  },
  "language_info": {
   "codemirror_mode": {
    "name": "ipython",
    "version": 3
   },
   "file_extension": ".py",
   "mimetype": "text/x-python",
   "name": "python",
   "nbconvert_exporter": "python",
   "pygments_lexer": "ipython3",
   "version": "3.11.5"
  }
 },
 "nbformat": 4,
 "nbformat_minor": 4
}
