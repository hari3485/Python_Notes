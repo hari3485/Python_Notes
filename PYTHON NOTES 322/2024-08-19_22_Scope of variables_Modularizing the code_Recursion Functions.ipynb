{
 "cells": [
  {
   "cell_type": "markdown",
   "metadata": {},
   "source": [
    "### <u><b>Arguments</u></b> `VS` <b><u>Parameters</b></u>"
   ]
  },
  {
   "cell_type": "markdown",
   "metadata": {},
   "source": [
    "`Parameter`:\n",
    "- A parameter is a variable in a <b>function definition</b>.\n",
    "- A way for the function to receive data from the code that calls it.\n",
    "- Parameters are essentially placeholders for the values that will be supplied to the function when it's called.\n",
    "\n",
    "`Argument`:\n",
    "- An argument is the ACTUAL value <b>passed to a function</b> when it is <b>called</b>.\n",
    "- These are the values that get assigned to the function's parameters."
   ]
  },
  {
   "cell_type": "code",
   "execution_count": null,
   "metadata": {},
   "outputs": [],
   "source": [
    "def multiplication(number1):  ### Parameter\n",
    "    def multiplication_factor(number2):  ### Parameter\n",
    "        return number1 * number2\n",
    "    return multiplication_factor\n",
    "\n",
    "multiplication(12)(45)  ### Arguments"
   ]
  },
  {
   "cell_type": "code",
   "execution_count": 2,
   "metadata": {},
   "outputs": [
    {
     "ename": "TypeError",
     "evalue": "endswith() takes at least 1 argument (0 given)",
     "output_type": "error",
     "traceback": [
      "\u001b[1;31m---------------------------------------------------------------------------\u001b[0m",
      "\u001b[1;31mTypeError\u001b[0m                                 Traceback (most recent call last)",
      "Cell \u001b[1;32mIn[2], line 2\u001b[0m\n\u001b[0;32m      1\u001b[0m a \u001b[38;5;241m=\u001b[39m \u001b[38;5;124m\"\u001b[39m\u001b[38;5;124msaomya\u001b[39m\u001b[38;5;124m\"\u001b[39m\n\u001b[1;32m----> 2\u001b[0m \u001b[43ma\u001b[49m\u001b[38;5;241;43m.\u001b[39;49m\u001b[43mendswith\u001b[49m\u001b[43m(\u001b[49m\u001b[43m)\u001b[49m\n",
      "\u001b[1;31mTypeError\u001b[0m: endswith() takes at least 1 argument (0 given)"
     ]
    }
   ],
   "source": [
    "a = \"saomya\"\n",
    "a.endswith()"
   ]
  },
  {
   "cell_type": "code",
   "execution_count": null,
   "metadata": {},
   "outputs": [],
   "source": []
  },
  {
   "cell_type": "markdown",
   "metadata": {},
   "source": [
    "## Positional and Keyword Arguments\n",
    "\n",
    "The power of a function is its ability to work with parameters. When calling a function, you\n",
    "need to pass arguments to parameters. There are two kinds of arguments: *positional arguments*\n",
    "and *keyword arguments*. \n",
    "\n",
    "Using **positional arguments** requires that the arguments be passed in the same order as their respective parameters in the function header. The arguments must match the parameters in order, number, and compatible type, as defined in the function header.\n",
    "\n",
    "You can also call a function using **keyword arguments**, passing each argument in the form \n",
    "`name = value`. The arguments can appear in any order using keyword arguments.\n"
   ]
  },
  {
   "cell_type": "code",
   "execution_count": 15,
   "metadata": {},
   "outputs": [
    {
     "name": "stdout",
     "output_type": "stream",
     "text": [
      "✲\n",
      "✲✲\n",
      "✲✲✲\n",
      "✲✲✲✲\n",
      "✲✲✲✲✲\n"
     ]
    }
   ],
   "source": [
    "def repeater_function(string, times):\n",
    "    for row in range(1,times):\n",
    "        print(string * row)\n",
    "\n",
    "#repeater_function(chr(10034),6) ### POSITIONAL ARGUMENT\n",
    "#repeater_function(times = 6,string = chr(10034))\n",
    "#repeater_function(string = chr(10034),times = 6) #### KEYWORD ARGUMENT\n",
    "#repeater_function(6,chr(10034))\n",
    "#repeater_function(chr(10034), 6)  ### Specific with my ORDER/ POSITION of the ARGUMENTS\n",
    "repeater_function(times = 6,string = chr(10034)) ### No need for ORDER/ POSITION of the ARGUMENTS"
   ]
  },
  {
   "cell_type": "code",
   "execution_count": 4,
   "metadata": {},
   "outputs": [
    {
     "data": {
      "text/plain": [
       "'AAAAAA'"
      ]
     },
     "execution_count": 4,
     "metadata": {},
     "output_type": "execute_result"
    }
   ],
   "source": [
    "\"A\" * 6"
   ]
  },
  {
   "cell_type": "code",
   "execution_count": 8,
   "metadata": {},
   "outputs": [
    {
     "data": {
      "text/plain": [
       "'AAAAAA'"
      ]
     },
     "execution_count": 8,
     "metadata": {},
     "output_type": "execute_result"
    }
   ],
   "source": [
    "6 * \"A\""
   ]
  },
  {
   "cell_type": "code",
   "execution_count": 7,
   "metadata": {},
   "outputs": [
    {
     "ename": "TypeError",
     "evalue": "find() takes at least 1 argument (0 given)",
     "output_type": "error",
     "traceback": [
      "\u001b[1;31m---------------------------------------------------------------------------\u001b[0m",
      "\u001b[1;31mTypeError\u001b[0m                                 Traceback (most recent call last)",
      "Cell \u001b[1;32mIn[7], line 2\u001b[0m\n\u001b[0;32m      1\u001b[0m sample_str \u001b[38;5;241m=\u001b[39m \u001b[38;5;124m\"\u001b[39m\u001b[38;5;124mSaomya\u001b[39m\u001b[38;5;124m\"\u001b[39m\n\u001b[1;32m----> 2\u001b[0m \u001b[43msample_str\u001b[49m\u001b[38;5;241;43m.\u001b[39;49m\u001b[43mfind\u001b[49m\u001b[43m(\u001b[49m\u001b[43m)\u001b[49m\n",
      "\u001b[1;31mTypeError\u001b[0m: find() takes at least 1 argument (0 given)"
     ]
    }
   ],
   "source": [
    "sample_str = \"Saomya\"\n",
    "sample_str.find()"
   ]
  },
  {
   "cell_type": "code",
   "execution_count": null,
   "metadata": {},
   "outputs": [],
   "source": []
  },
  {
   "cell_type": "code",
   "execution_count": null,
   "metadata": {},
   "outputs": [],
   "source": []
  },
  {
   "cell_type": "markdown",
   "metadata": {},
   "source": [
    "## Modularizing Code\n",
    "\n",
    "Functions can be used to reduce redundant code and enable code reuse. Functions can also be used to modularize code and improve a program’s quality. In Python, you can place the function definition into a file called module with the file-name extension .py. The module can be later imported into a program for reuse. The module file should be placed in the same directory with your other programs. A module can contain more than one function. Each function in a module must have a different name."
   ]
  },
  {
   "cell_type": "code",
   "execution_count": 24,
   "metadata": {},
   "outputs": [
    {
     "name": "stdout",
     "output_type": "stream",
     "text": [
      "Overwriting saomya_calculator_123.py\n"
     ]
    }
   ],
   "source": [
    "%%writefile saomya_calculator_123.py\n",
    "def addition(num1, num2):\n",
    "    '''DOES ADDTION OF 2 GIVEN NOS'''\n",
    "    return num1 + num2\n",
    "def subtract(num1, num2):\n",
    "    '''DOES DIFFERENCE OF 2 GIVEN NOS'''\n",
    "    return num1 - num2\n",
    "def multiplication(num1, num2):\n",
    "    '''DOES MULTIPLICATION OF 2 GIVEN NOS'''\n",
    "    return num1 * num2\n",
    "def int_division(num1, num2):\n",
    "    '''DOES FLOOR DIVISION OF 2 GIVEN NOS'''\n",
    "    return num1 // num2\n",
    "def pow_or_root(num1, num2):\n",
    "    '''DOES EXP OF 2 GIVEN NOS'''\n",
    "    return num1 ** num2"
   ]
  },
  {
   "cell_type": "code",
   "execution_count": 25,
   "metadata": {},
   "outputs": [],
   "source": [
    "import saomya_calculator as cal"
   ]
  },
  {
   "cell_type": "code",
   "execution_count": 26,
   "metadata": {},
   "outputs": [
    {
     "data": {
      "text/plain": [
       "729"
      ]
     },
     "execution_count": 26,
     "metadata": {},
     "output_type": "execute_result"
    }
   ],
   "source": [
    "cal.pow_or_root(3,6)"
   ]
  },
  {
   "cell_type": "code",
   "execution_count": 30,
   "metadata": {},
   "outputs": [],
   "source": [
    "from saomya_calculator_123 import addition"
   ]
  },
  {
   "cell_type": "code",
   "execution_count": 31,
   "metadata": {},
   "outputs": [
    {
     "data": {
      "text/plain": [
       "19"
      ]
     },
     "execution_count": 31,
     "metadata": {},
     "output_type": "execute_result"
    }
   ],
   "source": [
    "addition(7,12)"
   ]
  },
  {
   "cell_type": "code",
   "execution_count": 32,
   "metadata": {},
   "outputs": [
    {
     "ename": "NameError",
     "evalue": "name 'multiplication' is not defined",
     "output_type": "error",
     "traceback": [
      "\u001b[1;31m---------------------------------------------------------------------------\u001b[0m",
      "\u001b[1;31mNameError\u001b[0m                                 Traceback (most recent call last)",
      "Cell \u001b[1;32mIn[32], line 1\u001b[0m\n\u001b[1;32m----> 1\u001b[0m \u001b[43mmultiplication\u001b[49m(\u001b[38;5;241m1\u001b[39m,\u001b[38;5;241m23\u001b[39m)\n",
      "\u001b[1;31mNameError\u001b[0m: name 'multiplication' is not defined"
     ]
    }
   ],
   "source": [
    "multiplication(1,23)"
   ]
  },
  {
   "cell_type": "code",
   "execution_count": 1,
   "metadata": {},
   "outputs": [
    {
     "ename": "ModuleNotFoundError",
     "evalue": "No module named 'saomya_calculator_in_lib'",
     "output_type": "error",
     "traceback": [
      "\u001b[1;31m---------------------------------------------------------------------------\u001b[0m",
      "\u001b[1;31mModuleNotFoundError\u001b[0m                       Traceback (most recent call last)",
      "Cell \u001b[1;32mIn[1], line 1\u001b[0m\n\u001b[1;32m----> 1\u001b[0m \u001b[38;5;28;01mimport\u001b[39;00m \u001b[38;5;21;01msaomya_calculator_in_lib\u001b[39;00m\n",
      "\u001b[1;31mModuleNotFoundError\u001b[0m: No module named 'saomya_calculator_in_lib'"
     ]
    }
   ],
   "source": [
    "import saomya_calculator_in_lib"
   ]
  },
  {
   "cell_type": "code",
   "execution_count": 2,
   "metadata": {},
   "outputs": [
    {
     "ename": "NameError",
     "evalue": "name 'saomya_calculator_in_lib' is not defined",
     "output_type": "error",
     "traceback": [
      "\u001b[1;31m---------------------------------------------------------------------------\u001b[0m",
      "\u001b[1;31mNameError\u001b[0m                                 Traceback (most recent call last)",
      "Cell \u001b[1;32mIn[2], line 1\u001b[0m\n\u001b[1;32m----> 1\u001b[0m \u001b[43msaomya_calculator_in_lib\u001b[49m\u001b[38;5;241m.\u001b[39mint_division(\u001b[38;5;241m1\u001b[39m,\u001b[38;5;241m3\u001b[39m)\n",
      "\u001b[1;31mNameError\u001b[0m: name 'saomya_calculator_in_lib' is not defined"
     ]
    }
   ],
   "source": [
    "saomya_calculator_in_lib.int_division(1,3)"
   ]
  },
  {
   "cell_type": "code",
   "execution_count": null,
   "metadata": {},
   "outputs": [],
   "source": []
  },
  {
   "cell_type": "code",
   "execution_count": null,
   "metadata": {},
   "outputs": [],
   "source": []
  },
  {
   "cell_type": "markdown",
   "metadata": {},
   "source": [
    "##  The Scope of Variables\n",
    "\n",
    "The scope of a variable is the part of the program where the variable can be referenced. A variable created inside a function is referred to as a local variable. Local variables can only be accessed within a function. The scope of a local variable starts from its creation and continues to the end of the function that contains the variable.\n",
    "\n",
    "In Python, you can also use global variables. They are created outside all functions and are accessible to all functions in their scope.\n"
   ]
  },
  {
   "cell_type": "code",
   "execution_count": 3,
   "metadata": {},
   "outputs": [
    {
     "name": "stdout",
     "output_type": "stream",
     "text": [
      "'PRABHAS'(variable) met 'SIMBA'(variable) in the Jungle (function)...\n"
     ]
    }
   ],
   "source": [
    "human = \"PRABHAS\"   ### Global Variable\n",
    "def jungle():   ### DEF\n",
    "    lion = \"SIMBA\"\n",
    "    print(f\"'{human}'(variable) met '{lion}'(variable) in the Jungle (function)...\")\n",
    "\n",
    "jungle() ### CALLING"
   ]
  },
  {
   "cell_type": "code",
   "execution_count": null,
   "metadata": {},
   "outputs": [],
   "source": []
  },
  {
   "cell_type": "code",
   "execution_count": null,
   "metadata": {},
   "outputs": [],
   "source": []
  },
  {
   "cell_type": "code",
   "execution_count": 5,
   "metadata": {},
   "outputs": [
    {
     "name": "stdout",
     "output_type": "stream",
     "text": [
      "'PRABHAS'(variable) met 'SIMBA'(variable) in the Jungle (function)...\n",
      "Is SIMBA accessible outside the Jungle???\n"
     ]
    },
    {
     "ename": "NameError",
     "evalue": "name 'lion' is not defined",
     "output_type": "error",
     "traceback": [
      "\u001b[1;31m---------------------------------------------------------------------------\u001b[0m",
      "\u001b[1;31mNameError\u001b[0m                                 Traceback (most recent call last)",
      "Cell \u001b[1;32mIn[5], line 8\u001b[0m\n\u001b[0;32m      6\u001b[0m jungle() \u001b[38;5;66;03m### CALLING\u001b[39;00m\n\u001b[0;32m      7\u001b[0m \u001b[38;5;28mprint\u001b[39m(\u001b[38;5;124m\"\u001b[39m\u001b[38;5;124mIs SIMBA accessible outside the Jungle???\u001b[39m\u001b[38;5;124m\"\u001b[39m)\n\u001b[1;32m----> 8\u001b[0m \u001b[38;5;28mprint\u001b[39m(\u001b[43mlion\u001b[49m)\n",
      "\u001b[1;31mNameError\u001b[0m: name 'lion' is not defined"
     ]
    }
   ],
   "source": [
    "human = \"PRABHAS\"   ### Global Variable\n",
    "def jungle():   ### DEF\n",
    "    lion = \"SIMBA\"\n",
    "    print(f\"'{human}'(variable) met '{lion}'(variable) in the Jungle (function)...\")\n",
    "\n",
    "jungle() ### CALLING\n",
    "print(\"Is SIMBA accessible outside the Jungle???\")\n",
    "print(lion)"
   ]
  },
  {
   "cell_type": "code",
   "execution_count": 8,
   "metadata": {},
   "outputs": [
    {
     "name": "stdout",
     "output_type": "stream",
     "text": [
      "'PRABHAS'(variable) met 'SIMBA'(variable) in the Jungle (function)...\n",
      "Is SIMBA accessible outside the Jungle???\n",
      "Yes SIMBA has come to meet his friend PRABHAS\n"
     ]
    }
   ],
   "source": [
    "human = \"PRABHAS\"   ### Global Variable\n",
    "def jungle():   ### DEF\n",
    "    global lion\n",
    "    lion = \"SIMBA\"\n",
    "    print(f\"'{human}'(variable) met '{lion}'(variable) in the Jungle (function)...\")\n",
    "\n",
    "jungle() ### CALLING\n",
    "print(\"Is SIMBA accessible outside the Jungle???\")\n",
    "print(f\"Yes {lion} has come to meet his friend {human}\")"
   ]
  },
  {
   "cell_type": "code",
   "execution_count": 10,
   "metadata": {},
   "outputs": [
    {
     "name": "stdout",
     "output_type": "stream",
     "text": [
      "I am the GLOBAL VARIABLE 1892296627408\n",
      "I am the INNER VARIABLE\n",
      "I am the INNER VARIABLE 1892291084592\n",
      "I am the OUTER VARIABLE\n",
      "I am the OUTER VARIABLE 1892291302768\n",
      "I am the GLOBAL VARIABLE\n",
      "I am the GLOBAL VARIABLE 1892296627408\n"
     ]
    }
   ],
   "source": [
    "variable = \"I am the GLOBAL VARIABLE\"\n",
    "print(variable, id(variable))\n",
    "def outer_function():\n",
    "    variable = \"I am the OUTER VARIABLE\"\n",
    "    def inner_function():\n",
    "        variable = \"I am the INNER VARIABLE\"\n",
    "        print(variable)\n",
    "        print(variable, id(variable))\n",
    "    inner_function()\n",
    "    print(variable)\n",
    "    print(variable, id(variable))\n",
    "\n",
    "outer_function()\n",
    "print(variable)\n",
    "print(variable, id(variable))"
   ]
  },
  {
   "cell_type": "code",
   "execution_count": null,
   "metadata": {},
   "outputs": [],
   "source": []
  },
  {
   "cell_type": "markdown",
   "metadata": {},
   "source": [
    "### Recursion\n",
    "\n",
    "Recursion means calling a function in terms of iteself. All recursive algorithms have these characteristics:\n",
    "\n",
    "1. A recursive algorithm must call itself, recursively.\n",
    "2. A recursive algorithm must have a base case. A base case occurs when the problem after repeated calls to the recursive function, becomes so small that it can be solved directly.\n",
    "3. A recursive algorithm after each call to the recursive function, must move towards the base case. So, in a well-designed recursive algorithm, after each iteration, the problem must become smaller."
   ]
  },
  {
   "cell_type": "markdown",
   "metadata": {},
   "source": [
    "#### USECASE 1: <U>FACTORIAL</U>"
   ]
  },
  {
   "cell_type": "code",
   "execution_count": 13,
   "metadata": {},
   "outputs": [
    {
     "name": "stdout",
     "output_type": "stream",
     "text": [
      "Factorial of the number 7: 5040\n"
     ]
    }
   ],
   "source": [
    "number = 7\n",
    "factorial = 1\n",
    "for element in range(2, number+1):\n",
    "    factorial = factorial * element\n",
    "\n",
    "print(f\"Factorial of the number {number}: {factorial}\")"
   ]
  },
  {
   "cell_type": "code",
   "execution_count": null,
   "metadata": {},
   "outputs": [],
   "source": []
  },
  {
   "cell_type": "code",
   "execution_count": 16,
   "metadata": {},
   "outputs": [
    {
     "name": "stdin",
     "output_type": "stream",
     "text": [
      "Enter the number:  5\n"
     ]
    },
    {
     "name": "stdout",
     "output_type": "stream",
     "text": [
      "Factorial of the number 5: 120\n"
     ]
    }
   ],
   "source": [
    "def factorial_of_num(number):\n",
    "    factorial = 1\n",
    "    for element in range(2, number+1):\n",
    "        factorial = factorial * element\n",
    "    return factorial\n",
    "\n",
    "num = int(input(\"Enter the number: \"))\n",
    "print(f\"Factorial of the number {num}: {factorial_of_num(num)}\")"
   ]
  },
  {
   "cell_type": "code",
   "execution_count": null,
   "metadata": {},
   "outputs": [],
   "source": []
  },
  {
   "cell_type": "code",
   "execution_count": 55,
   "metadata": {},
   "outputs": [],
   "source": [
    "### Using function recursion"
   ]
  },
  {
   "cell_type": "code",
   "execution_count": 21,
   "metadata": {},
   "outputs": [
    {
     "data": {
      "text/plain": [
       "'You must be out of mind...'"
      ]
     },
     "execution_count": 21,
     "metadata": {},
     "output_type": "execute_result"
    }
   ],
   "source": [
    "def factorial(number):\n",
    "    if number == 1 or number == 0:  ### BASE CONDITION\n",
    "        return 1   ### BBASE CASE\n",
    "    elif number < 0:\n",
    "        return \"You must be out of mind...\"\n",
    "    else:\n",
    "        return number * factorial(number - 1)  ### RECURSION HAPPENS HERE --- FUNCTION CALLED AGAIN\n",
    "\n",
    "factorial(-10)"
   ]
  },
  {
   "cell_type": "code",
   "execution_count": null,
   "metadata": {},
   "outputs": [],
   "source": []
  }
 ],
 "metadata": {
  "kernelspec": {
   "display_name": "Python 3 (ipykernel)",
   "language": "python",
   "name": "python3"
  },
  "language_info": {
   "codemirror_mode": {
    "name": "ipython",
    "version": 3
   },
   "file_extension": ".py",
   "mimetype": "text/x-python",
   "name": "python",
   "nbconvert_exporter": "python",
   "pygments_lexer": "ipython3",
   "version": "3.11.5"
  }
 },
 "nbformat": 4,
 "nbformat_minor": 4
}
