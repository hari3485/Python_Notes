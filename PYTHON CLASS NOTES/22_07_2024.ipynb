{
 "cells": [
  {
   "cell_type": "code",
   "execution_count": 1,
   "id": "862461f9",
   "metadata": {},
   "outputs": [],
   "source": [
    "# capitalize()\tConverts the first character to upper case\n",
    "# casefold()\tConverts string into lower case\n",
    "# center()\tReturns a centered string\n",
    "# count()\tReturns the number of times a specified value occurs in a string\n",
    "# endswith()\tReturns true if the string ends with the specified value\n",
    "# find()\tSearches the string for a specified value and returns the position of where it was found\n",
    "# isalnum()\tReturns True if all characters in the string are alphanumeric\n",
    "# isalpha()\tReturns True if all characters in the string are in the alphabet\n",
    "# isdecimal()\tReturns True if all characters in the string are decimals\n",
    "# isdigit()\tReturns True if all characters in the string are digits\n",
    "# index()\tSearches the string for a specified value and returns the position of where it was found\n",
    "# isidentifier()\tReturns True if the string is an identifier\n",
    "# islower()\tReturns True if all characters in the string are lower case\n",
    "# isnumeric()\tReturns True if all characters in the string are numeric\n",
    "# isupper()\tReturns True if all characters in the string are upper case\n",
    "# join()\tConverts the elements of an iterable into a string\n",
    "# ljust()\tReturns a left justified version of the string\n",
    "# rjust()\tReturns a right justified version of the string\n",
    "# lower()\tConverts a string into lower case\n",
    "# lstrip()\tReturns a left trim version of the string\n",
    "# replace()\tReturns a string where a specified value is replaced with a specified value\n",
    "# rfind()\tSearches the string for a specified value and returns the last position of where it was found\n",
    "# rindex()\tSearches the string for a specified value and returns the last position of where it was found\n",
    "# rjust()\tReturns a right justified version of the string\n",
    "# ljust()\tReturns a left justified version of the string\n",
    "# rpartition()\tReturns a tuple where the string is parted into three parts\n",
    "# rsplit()\tSplits the string at the specified separator, and returns a list\n",
    "# rstrip()\tReturns a right trim version of the string\n",
    "\n",
    "\n",
    "# split()\tSplits the string at the specified separator, and returns a list\n",
    "# startswith()\tReturns true if the string starts with the specified value\n",
    "# strip()\tReturns a trimmed version of the string\n",
    "# swapcase()\tSwaps cases, lower case becomes upper case and vice versa\n",
    "# upper()\tConverts a string into upper case\n",
    "# zfill()\tFills the string with a specified number of 0 values at the beginning"
   ]
  },
  {
   "cell_type": "code",
   "execution_count": 162,
   "id": "a2689aa8",
   "metadata": {},
   "outputs": [
    {
     "name": "stdout",
     "output_type": "stream",
     "text": [
      "2.5\n",
      "<class 'float'>\n"
     ]
    }
   ],
   "source": [
    "# Recap - \n",
    "\n",
    "# Type Casting\n",
    "\n",
    "\n",
    "number1 = 2.5\n",
    "print(number1)\n",
    "print(type(number1))"
   ]
  },
  {
   "cell_type": "code",
   "execution_count": 165,
   "id": "b82671fe",
   "metadata": {},
   "outputs": [
    {
     "name": "stdout",
     "output_type": "stream",
     "text": [
      "<class 'int'>\n",
      "<class 'float'>\n"
     ]
    }
   ],
   "source": [
    "# int(),float(),str()\n",
    "\n",
    "\n",
    "print(type(int(2.5)))\n",
    "print(type(float(2)))"
   ]
  },
  {
   "cell_type": "code",
   "execution_count": 164,
   "id": "9fb9ca08",
   "metadata": {},
   "outputs": [
    {
     "data": {
      "text/plain": [
       "2.0"
      ]
     },
     "execution_count": 164,
     "metadata": {},
     "output_type": "execute_result"
    }
   ],
   "source": [
    "float(2)"
   ]
  },
  {
   "cell_type": "code",
   "execution_count": null,
   "id": "94cc8473",
   "metadata": {},
   "outputs": [],
   "source": [
    "# Number of Rooms \n",
    "# 3.0\n",
    "# 4.0\n",
    "# 8.0\n",
    "\n",
    "# 3\n",
    "# 4\n",
    "# 8 "
   ]
  },
  {
   "cell_type": "code",
   "execution_count": 166,
   "id": "8881d3cf",
   "metadata": {},
   "outputs": [
    {
     "name": "stdout",
     "output_type": "stream",
     "text": [
      "3\n",
      "<class 'str'>\n"
     ]
    }
   ],
   "source": [
    "f = str(3)\n",
    "print(f)\n",
    "print(type(f))"
   ]
  },
  {
   "cell_type": "code",
   "execution_count": 167,
   "id": "ab0b6b76",
   "metadata": {},
   "outputs": [],
   "source": [
    "# I earn 40000\""
   ]
  },
  {
   "cell_type": "code",
   "execution_count": null,
   "id": "39d59209",
   "metadata": {},
   "outputs": [],
   "source": [
    "# String bultin methods"
   ]
  },
  {
   "cell_type": "code",
   "execution_count": null,
   "id": "8e8c9c5e",
   "metadata": {},
   "outputs": [],
   "source": [
    "# capitalize()\tConverts the first character to upper case\n",
    "# casefold()\tConverts string into lower case\n",
    "# center()\tReturns a centered string\n",
    "# count()\tReturns the number of times a specified value occurs in a string\n",
    "# endswith()\tReturns true if the string ends with the specified "
   ]
  },
  {
   "cell_type": "code",
   "execution_count": 171,
   "id": "d7b4616a",
   "metadata": {},
   "outputs": [
    {
     "name": "stdout",
     "output_type": "stream",
     "text": [
      "Hello world im python abcccc\n",
      "hello world im python abcccc\n"
     ]
    }
   ],
   "source": [
    "text = \"hello world Im Python ABCCCC\"\n",
    "\n",
    "print(text.capitalize())\n",
    "print(text.casefold())"
   ]
  },
  {
   "cell_type": "code",
   "execution_count": 180,
   "id": "29d7e260",
   "metadata": {},
   "outputs": [
    {
     "name": "stdout",
     "output_type": "stream",
     "text": [
      "hello world Im Python ABCCCC $$$\n"
     ]
    }
   ],
   "source": [
    "print(text.center(20),\"$$$\") # text alignment "
   ]
  },
  {
   "cell_type": "code",
   "execution_count": 175,
   "id": "101aeef2",
   "metadata": {},
   "outputs": [
    {
     "name": "stdout",
     "output_type": "stream",
     "text": [
      "Help on method_descriptor:\n",
      "\n",
      "center(self, width, fillchar=' ', /)\n",
      "    Return a centered string of length width.\n",
      "    \n",
      "    Padding is done using the specified fill character (default is a space).\n",
      "\n"
     ]
    }
   ],
   "source": [
    "help(str.center)"
   ]
  },
  {
   "cell_type": "code",
   "execution_count": 183,
   "id": "41f39c1b",
   "metadata": {},
   "outputs": [
    {
     "data": {
      "text/plain": [
       "1"
      ]
     },
     "execution_count": 183,
     "metadata": {},
     "output_type": "execute_result"
    }
   ],
   "source": [
    "# count()\n",
    "\n",
    "\"I am charan. I work as a Data Scientist\".count(\"charan\")\n",
    "\n",
    "# applications:\n",
    "# erros \n",
    "\n",
    "\n",
    "# chatbot - action words and keywords\n",
    "\n",
    "# actionword - issue\n",
    "# keywords - remote not working"
   ]
  },
  {
   "cell_type": "code",
   "execution_count": 188,
   "id": "0faa8332",
   "metadata": {},
   "outputs": [
    {
     "data": {
      "text/plain": [
       "False"
      ]
     },
     "execution_count": 188,
     "metadata": {},
     "output_type": "execute_result"
    }
   ],
   "source": [
    "# endswith() - endswith (we are tying to find if the last word or alphabet is having the value of input)\n",
    "\n",
    "\"Hello Good Morning\".endswith(\"morning\")"
   ]
  },
  {
   "cell_type": "code",
   "execution_count": 187,
   "id": "00436931",
   "metadata": {},
   "outputs": [
    {
     "data": {
      "text/plain": [
       "'hello good morning'"
      ]
     },
     "execution_count": 187,
     "metadata": {},
     "output_type": "execute_result"
    }
   ],
   "source": [
    "\"Hello Good Morning\".lower()"
   ]
  },
  {
   "cell_type": "code",
   "execution_count": 195,
   "id": "5b0c49e3",
   "metadata": {},
   "outputs": [
    {
     "data": {
      "text/plain": [
       "True"
      ]
     },
     "execution_count": 195,
     "metadata": {},
     "output_type": "execute_result"
    }
   ],
   "source": [
    "# Case Sensitive - \n",
    "\n",
    "text_1 = \"ABCD\"\n",
    "# text_2 = text_1.lower()\n",
    "# text_3 = text_2.endswith(\"d\")\n",
    "\n",
    "# complicate\n",
    "\n",
    "# print(text_1)\n",
    "# print(text_2)\n",
    "# print(text_3)\n",
    "\n",
    "text_1.lower().endswith(\"d\")"
   ]
  },
  {
   "cell_type": "code",
   "execution_count": null,
   "id": "294fecf6",
   "metadata": {},
   "outputs": [],
   "source": [
    "# find()\tSearches the string for a specified value and returns the position of where it was found\n",
    "# isalnum()\tReturns True if all characters in the string are alphanumeric\n",
    "# isalpha()\tReturns True if all characters in the string are in the alphabet\n",
    "# isdecimal()\tReturns True if all characters in the string are decimals\n",
    "# isdigit()\tReturns True if all characters in the string are digits\n",
    "# index()\tSearches the string for a specified value and returns the position of where it was found\n",
    "# isidentifier()\tReturns True if the string is an identifier\n",
    "# islower()\tReturns True if all characters in the string are lower case\n",
    "# isnumeric()\tReturns True if all characters in the string are numeric\n",
    "# isupper()\tReturns True if all characters in the string are upper case"
   ]
  },
  {
   "cell_type": "code",
   "execution_count": 198,
   "id": "a013ae3a",
   "metadata": {},
   "outputs": [
    {
     "data": {
      "text/plain": [
       "8"
      ]
     },
     "execution_count": 198,
     "metadata": {},
     "output_type": "execute_result"
    }
   ],
   "source": [
    "# find\n",
    "\n",
    "text = \"rain is falling\" # User Input\n",
    "\n",
    "text.find(\"falling\") # index value (positive)\n",
    "\n",
    "\n",
    "# Indexing - accessing a datapoint - searching or finding that particular alphabet or word "
   ]
  },
  {
   "cell_type": "code",
   "execution_count": null,
   "id": "45309fc3",
   "metadata": {},
   "outputs": [],
   "source": [
    "# isalnum()- is aplha numeric or not \n",
    "# isalpha() - is alphabets not not\n",
    "# isdecimal()\tis the input having numbers or not\n",
    "# isdigit() -->"
   ]
  },
  {
   "cell_type": "code",
   "execution_count": null,
   "id": "498c5236",
   "metadata": {},
   "outputs": [],
   "source": [
    "# index()\tSearches the string for a specified value and returns the position of where it was found\n",
    "# isidentifier()\tReturns True if the string is an identifier\n",
    "# islower()\tReturns True if all characters in the string are lower case\n",
    "# isnumeric()\tReturns True if all characters in the string are numeric\n",
    "# isupper()\tReturns True if all characters in the string are upper case"
   ]
  },
  {
   "cell_type": "code",
   "execution_count": 220,
   "id": "39a5ad80",
   "metadata": {},
   "outputs": [
    {
     "data": {
      "text/plain": [
       "0"
      ]
     },
     "execution_count": 220,
     "metadata": {},
     "output_type": "execute_result"
    }
   ],
   "source": [
    "text = \"python is a programming language\"\n",
    "\n",
    "text.index(\"p\")\n",
    "\n",
    "# positive - \n",
    "\n",
    "# as a human you know that python, programming"
   ]
  },
  {
   "cell_type": "code",
   "execution_count": 210,
   "id": "9d2322ff",
   "metadata": {},
   "outputs": [
    {
     "name": "stdout",
     "output_type": "stream",
     "text": [
      "programming\n"
     ]
    }
   ],
   "source": [
    "print(text[12:23])"
   ]
  },
  {
   "cell_type": "code",
   "execution_count": 211,
   "id": "be353732",
   "metadata": {},
   "outputs": [],
   "source": [
    "# isidentifier\n",
    "\n",
    "# builtin functions in your python "
   ]
  },
  {
   "cell_type": "code",
   "execution_count": 212,
   "id": "8daa46bf",
   "metadata": {},
   "outputs": [
    {
     "data": {
      "text/plain": [
       "True"
      ]
     },
     "execution_count": 212,
     "metadata": {},
     "output_type": "execute_result"
    }
   ],
   "source": [
    "\"print\".isidentifier()"
   ]
  },
  {
   "cell_type": "code",
   "execution_count": 214,
   "id": "eec05d83",
   "metadata": {},
   "outputs": [
    {
     "data": {
      "text/plain": [
       "False"
      ]
     },
     "execution_count": 214,
     "metadata": {},
     "output_type": "execute_result"
    }
   ],
   "source": [
    "\"$$charan\".isidentifier()\n",
    "\n",
    "# lower case\n",
    "# it should never start with number\n",
    "# it can end with a number\n",
    "# apart from underscore you cannot use any special characters"
   ]
  },
  {
   "cell_type": "code",
   "execution_count": 217,
   "id": "ccde12bc",
   "metadata": {},
   "outputs": [
    {
     "data": {
      "text/plain": [
       "True"
      ]
     },
     "execution_count": 217,
     "metadata": {},
     "output_type": "execute_result"
    }
   ],
   "source": [
    "\"_wines9\".isidentifier()"
   ]
  },
  {
   "cell_type": "code",
   "execution_count": 219,
   "id": "517446d9",
   "metadata": {},
   "outputs": [
    {
     "data": {
      "text/plain": [
       "True"
      ]
     },
     "execution_count": 219,
     "metadata": {},
     "output_type": "execute_result"
    }
   ],
   "source": [
    "\"smoking_is_injurious\".isidentifier()"
   ]
  },
  {
   "cell_type": "code",
   "execution_count": 232,
   "id": "4b072c54",
   "metadata": {},
   "outputs": [
    {
     "name": "stdout",
     "output_type": "stream",
     "text": [
      "False\n",
      "True\n",
      "True\n"
     ]
    }
   ],
   "source": [
    "# islower()\tReturns True if all characters in the string are lower case\n",
    "# isnumeric()\tReturns True if all characters in the string are numeric\n",
    "# isupper()\n",
    "\n",
    "\n",
    "print(\"hEllo 9\".islower())\n",
    "print(\"123\".isnumeric())\n",
    "print(\"HELLO\".isupper())"
   ]
  },
  {
   "cell_type": "code",
   "execution_count": 234,
   "id": "8303c8e3",
   "metadata": {},
   "outputs": [
    {
     "data": {
      "text/plain": [
       "0"
      ]
     },
     "execution_count": 234,
     "metadata": {},
     "output_type": "execute_result"
    }
   ],
   "source": [
    "\"sky is blue sun is red\".index(\"sky\")"
   ]
  },
  {
   "cell_type": "code",
   "execution_count": 251,
   "id": "8d5855b4",
   "metadata": {},
   "outputs": [
    {
     "name": "stdout",
     "output_type": "stream",
     "text": [
      "red  value for output 1\n",
      "red answer for output 2\n"
     ]
    }
   ],
   "source": [
    "input_1 = \"sky is blue sun is red\"\n",
    "\n",
    "print(input_1[-3:],\" value for output 1\")\n",
    "print(input_1[-3:],\"answer for output 2\")\n",
    "# "
   ]
  },
  {
   "cell_type": "code",
   "execution_count": null,
   "id": "c11b9207",
   "metadata": {},
   "outputs": [],
   "source": [
    "# positive - 0 ---- len(word)-1\n",
    "# negative - -len(word) ---- -1"
   ]
  },
  {
   "cell_type": "code",
   "execution_count": null,
   "id": "c52fcbf5",
   "metadata": {},
   "outputs": [],
   "source": []
  },
  {
   "cell_type": "code",
   "execution_count": null,
   "id": "02c1c866",
   "metadata": {},
   "outputs": [],
   "source": [
    "# join()\tConverts the elements of an iterable into a string\n",
    "# ljust()\tReturns a left justified version of the string\n",
    "# rjust()\tReturns a right justified version of the string\n",
    "# lower()\tConverts a string into lower case\n",
    "# lstrip()\tReturns a left trim version of the string"
   ]
  },
  {
   "cell_type": "code",
   "execution_count": 252,
   "id": "e4a917e4",
   "metadata": {},
   "outputs": [
    {
     "data": {
      "text/plain": [
       "['I', 'am', 'charan.', 'Im', '26', 'years', 'old']"
      ]
     },
     "execution_count": 252,
     "metadata": {},
     "output_type": "execute_result"
    }
   ],
   "source": [
    "# split - it will split the text into words\n",
    "\n",
    "d = \"I am charan. Im 26 years old\"\n",
    "d.split(\" \") # it will break the entrie text into bunch of words"
   ]
  },
  {
   "cell_type": "code",
   "execution_count": 258,
   "id": "598ff54a",
   "metadata": {},
   "outputs": [
    {
     "data": {
      "text/plain": [
       "'sai-*-charan-*-is-*-a-*-data scientist'"
      ]
     },
     "execution_count": 258,
     "metadata": {},
     "output_type": "execute_result"
    }
   ],
   "source": [
    "# join()\n",
    "\n",
    "# Sai \n",
    "# Charan\n",
    "\n",
    "# syntax: bridge.join(input_1,input_2)\n",
    "# bridge: \" \", \".\",\"--\"\n",
    "\n",
    "\"-*-\".join([\"sai\",\"charan\",\"is\",\"a\",\"data scientist\"])"
   ]
  },
  {
   "cell_type": "code",
   "execution_count": 259,
   "id": "316f3370",
   "metadata": {},
   "outputs": [
    {
     "name": "stdout",
     "output_type": "stream",
     "text": [
      "please enter your surnameKarri\n",
      "please enter your first nameSai\n",
      "please enter your last nameCharan\n",
      "Hello Karri Sai Charan Good Morning\n"
     ]
    }
   ],
   "source": [
    "# Surname\n",
    "# First name\n",
    "# last name\n",
    "\n",
    "surname = input(\"please enter your surname\")\n",
    "firstname = input(\"please enter your first name\")\n",
    "lastname = input(\"please enter your last name\")\n",
    "full_name = \" \".join([surname,firstname,lastname])\n",
    "\n",
    "print(\"Hello\",full_name,\"Good Morning\")"
   ]
  },
  {
   "cell_type": "code",
   "execution_count": 268,
   "id": "e1a65635",
   "metadata": {},
   "outputs": [
    {
     "data": {
      "text/plain": [
       "'charan000000000000000000000000'"
      ]
     },
     "execution_count": 268,
     "metadata": {},
     "output_type": "execute_result"
    }
   ],
   "source": [
    "\"charan\".ljust(30,\"0\")"
   ]
  },
  {
   "cell_type": "code",
   "execution_count": 267,
   "id": "4e6633f5",
   "metadata": {},
   "outputs": [
    {
     "data": {
      "text/plain": [
       "'000000000000000000000000charan'"
      ]
     },
     "execution_count": 267,
     "metadata": {},
     "output_type": "execute_result"
    }
   ],
   "source": [
    "\"charan\".rjust(30,\"0\")"
   ]
  },
  {
   "cell_type": "code",
   "execution_count": null,
   "id": "156e970b",
   "metadata": {},
   "outputs": [],
   "source": [
    "# function(input1,input2) ----> output\n",
    "\n",
    "# input1 = should have length of atleast 8 characters\n",
    "# input2 = should have lenght of atleast 8 characters\n",
    "\n",
    "# input1 = 5 + 3 elements = 8 characters \n",
    "# padding layyer = 3\n",
    "\n",
    "\n",
    "# A * B = \n",
    "# number of cols of A == numer of rows of B\n",
    "\n",
    "# A - 2*2\n",
    "# B - 3*3 \n",
    "\n",
    "# padding layer with 0\n",
    "\n",
    "# 2*2 | 3*3\n",
    "\n",
    "# add a padding : A -> 3*3\n",
    "\n",
    "\n",
    "\n",
    "# Table - 1000 * 20 columns \n",
    "\n",
    "# ML | DL with 20 columns - Function(20_inputs) --> output\n",
    "\n",
    "\n",
    "# in order to process the computation faster youll have to reduce the \n",
    "# inputs - 4_input "
   ]
  },
  {
   "cell_type": "code",
   "execution_count": 271,
   "id": "38197e0d",
   "metadata": {},
   "outputs": [
    {
     "data": {
      "text/plain": [
       "'Hello Good Morning  '"
      ]
     },
     "execution_count": 271,
     "metadata": {},
     "output_type": "execute_result"
    }
   ],
   "source": [
    "\"    Hello Good Morning  \".lstrip()\n",
    "# trims all the white spaces towards the left of the text"
   ]
  },
  {
   "cell_type": "code",
   "execution_count": 272,
   "id": "068d0ca0",
   "metadata": {},
   "outputs": [
    {
     "data": {
      "text/plain": [
       "'    Hello Good Morning'"
      ]
     },
     "execution_count": 272,
     "metadata": {},
     "output_type": "execute_result"
    }
   ],
   "source": [
    "\"    Hello Good Morning  \".rstrip()"
   ]
  },
  {
   "cell_type": "code",
   "execution_count": 273,
   "id": "e0d29c28",
   "metadata": {},
   "outputs": [
    {
     "data": {
      "text/plain": [
       "'Hello Good Morning'"
      ]
     },
     "execution_count": 273,
     "metadata": {},
     "output_type": "execute_result"
    }
   ],
   "source": [
    "\"    Hello Good Morning  \".strip()"
   ]
  },
  {
   "cell_type": "code",
   "execution_count": null,
   "id": "0f518795",
   "metadata": {},
   "outputs": [],
   "source": [
    "\" Name \"\n",
    "\"Age \"\n",
    "\" Gender\"\n",
    "\n",
    "\n",
    "# trim space \n",
    "\n",
    "# accessin - indexing\n",
    "\n",
    "table[\" colname\"]\n",
    "table[\" Name \"]\n",
    "table[\"Name\"]"
   ]
  },
  {
   "cell_type": "code",
   "execution_count": null,
   "id": "c75a7be3",
   "metadata": {},
   "outputs": [],
   "source": [
    "# replace()\tReturns a string where a specified value is replaced with a specified value\n",
    "# rfind()\tSearches the string for a specified value and returns the last position of where it was found\n",
    "# rindex()\tSearches the string for a specified value and returns the last position of where it was found\n",
    "# rjust()\tReturns a right justified version of the string\n",
    "# ljust()\tReturns a left justified version of the string\n",
    "# rpartition()\tReturns a tuple where the string is parted into three parts\n",
    "# rsplit()\tSplits the string at the specified separator, and returns a list\n",
    "# rstrip()\tReturns a right trim version of the string\n",
    "\n",
    "\n",
    "# split()\tSplits the string at the specified separator, and returns a list\n",
    "# startswith()\tReturns true if the string starts with the specified value\n",
    "# strip()\tReturns a trimmed version of the string\n",
    "# swapcase()\tSwaps cases, lower case becomes upper case and vice versa\n",
    "# upper()\tConverts a string into upper case\n",
    "# zfill()\tFills the string with a specified number of 0 values at the beginning"
   ]
  },
  {
   "cell_type": "code",
   "execution_count": 274,
   "id": "c2c6f699",
   "metadata": {},
   "outputs": [
    {
     "data": {
      "text/plain": [
       "'I earn 2000 per month'"
      ]
     },
     "execution_count": 274,
     "metadata": {},
     "output_type": "execute_result"
    }
   ],
   "source": [
    "\"I earn 2k per month\".replace(\"2k\",\"2000\") "
   ]
  },
  {
   "cell_type": "code",
   "execution_count": 284,
   "id": "4e6c118f",
   "metadata": {},
   "outputs": [
    {
     "data": {
      "text/plain": [
       "37"
      ]
     },
     "execution_count": 284,
     "metadata": {},
     "output_type": "execute_result"
    }
   ],
   "source": [
    "\"Apple is red ball is red red red red red\".rfind(\"red\")"
   ]
  },
  {
   "cell_type": "code",
   "execution_count": 285,
   "id": "4611a025",
   "metadata": {},
   "outputs": [
    {
     "data": {
      "text/plain": [
       "37"
      ]
     },
     "execution_count": 285,
     "metadata": {},
     "output_type": "execute_result"
    }
   ],
   "source": [
    "\"Apple is red ball is red red red red red\".rindex(\"red\")"
   ]
  },
  {
   "cell_type": "code",
   "execution_count": 283,
   "id": "53c34411",
   "metadata": {},
   "outputs": [
    {
     "data": {
      "text/plain": [
       "9"
      ]
     },
     "execution_count": 283,
     "metadata": {},
     "output_type": "execute_result"
    }
   ],
   "source": [
    "\"Apple is red ball is red\".index(\"red\")"
   ]
  },
  {
   "cell_type": "code",
   "execution_count": 287,
   "id": "14e78b2a",
   "metadata": {},
   "outputs": [
    {
     "data": {
      "text/plain": [
       "'              Python'"
      ]
     },
     "execution_count": 287,
     "metadata": {},
     "output_type": "execute_result"
    }
   ],
   "source": [
    "\"Python\".rjust(20)"
   ]
  },
  {
   "cell_type": "code",
   "execution_count": 288,
   "id": "64077a76",
   "metadata": {},
   "outputs": [
    {
     "data": {
      "text/plain": [
       "'Python              '"
      ]
     },
     "execution_count": 288,
     "metadata": {},
     "output_type": "execute_result"
    }
   ],
   "source": [
    "\"Python\".ljust(20)"
   ]
  },
  {
   "cell_type": "code",
   "execution_count": 289,
   "id": "06c6b776",
   "metadata": {},
   "outputs": [],
   "source": [
    "# rpartition()\tReturns a tuple where the string is parted into three parts\n",
    "# rsplit()\tSplits the string at the specified separator, and returns a list\n",
    "# rstrip()\tReturns a right trim version of the string"
   ]
  },
  {
   "cell_type": "code",
   "execution_count": 298,
   "id": "6ecd5f6a",
   "metadata": {},
   "outputs": [
    {
     "data": {
      "text/plain": [
       "('moye moye ', '$', ' datascience')"
      ]
     },
     "execution_count": 298,
     "metadata": {},
     "output_type": "execute_result"
    }
   ],
   "source": [
    "\"moye moye $ datascience\".rpartition(\"$\")"
   ]
  },
  {
   "cell_type": "code",
   "execution_count": 299,
   "id": "b2d0e5aa",
   "metadata": {},
   "outputs": [
    {
     "data": {
      "text/plain": [
       "('moye = moye ', '=', ' datascience')"
      ]
     },
     "execution_count": 299,
     "metadata": {},
     "output_type": "execute_result"
    }
   ],
   "source": [
    "\"moye = moye = datascience\".rpartition(\"=\")"
   ]
  },
  {
   "cell_type": "code",
   "execution_count": 293,
   "id": "c61add56",
   "metadata": {},
   "outputs": [
    {
     "data": {
      "text/plain": [
       "('', '', 'moye moye datascience')"
      ]
     },
     "execution_count": 293,
     "metadata": {},
     "output_type": "execute_result"
    }
   ],
   "source": [
    "\"moye moye datascience\".rpartition(\"-\")"
   ]
  },
  {
   "cell_type": "code",
   "execution_count": 294,
   "id": "c310953e",
   "metadata": {},
   "outputs": [
    {
     "data": {
      "text/plain": [
       "('', '', 'moye moye datascience')"
      ]
     },
     "execution_count": 294,
     "metadata": {},
     "output_type": "execute_result"
    }
   ],
   "source": [
    "\"moye moye datascience\".rpartition(\"/\")"
   ]
  },
  {
   "cell_type": "code",
   "execution_count": 300,
   "id": "c67dd82a",
   "metadata": {},
   "outputs": [
    {
     "data": {
      "text/plain": [
       "('13/11/1997', '/', 'GoodMorning')"
      ]
     },
     "execution_count": 300,
     "metadata": {},
     "output_type": "execute_result"
    }
   ],
   "source": [
    "\"13/11/1997/GoodMorning\".rpartition(\"/\")"
   ]
  },
  {
   "cell_type": "code",
   "execution_count": 301,
   "id": "10e67744",
   "metadata": {},
   "outputs": [
    {
     "data": {
      "text/plain": [
       "('', '', '13/11/1997/GoodMorning')"
      ]
     },
     "execution_count": 301,
     "metadata": {},
     "output_type": "execute_result"
    }
   ],
   "source": [
    "\"13/11/1997/GoodMorning\".rpartition(\" \")"
   ]
  },
  {
   "cell_type": "code",
   "execution_count": 302,
   "id": "8bac8b68",
   "metadata": {},
   "outputs": [
    {
     "name": "stdout",
     "output_type": "stream",
     "text": [
      "Help on method_descriptor:\n",
      "\n",
      "rpartition(self, sep, /)\n",
      "    Partition the string into three parts using the given separator.\n",
      "    \n",
      "    This will search for the separator in the string, starting at the end. If\n",
      "    the separator is found, returns a 3-tuple containing the part before the\n",
      "    separator, the separator itself, and the part after it.\n",
      "    \n",
      "    If the separator is not found, returns a 3-tuple containing two empty strings\n",
      "    and the original string.\n",
      "\n"
     ]
    }
   ],
   "source": [
    "help(str.rpartition)"
   ]
  },
  {
   "cell_type": "code",
   "execution_count": 304,
   "id": "e0b96792",
   "metadata": {},
   "outputs": [
    {
     "data": {
      "text/plain": [
       "['hello', 'world', 'im', 'python']"
      ]
     },
     "execution_count": 304,
     "metadata": {},
     "output_type": "execute_result"
    }
   ],
   "source": [
    "\"hello world im python\".rsplit(\" \")"
   ]
  },
  {
   "cell_type": "code",
   "execution_count": 307,
   "id": "2cd26bc4",
   "metadata": {},
   "outputs": [
    {
     "data": {
      "text/plain": [
       "'hello world im python'"
      ]
     },
     "execution_count": 307,
     "metadata": {},
     "output_type": "execute_result"
    }
   ],
   "source": [
    "\"hello world im python  \".rstrip(\" \")"
   ]
  },
  {
   "cell_type": "code",
   "execution_count": 309,
   "id": "5629c00a",
   "metadata": {},
   "outputs": [
    {
     "data": {
      "text/plain": [
       "'hello world im python  '"
      ]
     },
     "execution_count": 309,
     "metadata": {},
     "output_type": "execute_result"
    }
   ],
   "source": [
    "\"   hello world im python  \".lstrip(\" \")"
   ]
  },
  {
   "cell_type": "code",
   "execution_count": 310,
   "id": "3bd7d72f",
   "metadata": {},
   "outputs": [],
   "source": [
    "# startswith()\tReturns true if the string starts with the specified value\n",
    "# swapcase()\tSwaps cases, lower case becomes upper case and vice versa\n",
    "# upper()\tConverts a string into upper case\n",
    "# zfill()\tFills the string with a specified number of 0 values at the beginning"
   ]
  },
  {
   "cell_type": "code",
   "execution_count": 313,
   "id": "840a0319",
   "metadata": {},
   "outputs": [
    {
     "data": {
      "text/plain": [
       "True"
      ]
     },
     "execution_count": 313,
     "metadata": {},
     "output_type": "execute_result"
    }
   ],
   "source": [
    "\"Python\".lower().startswith(\"p\")"
   ]
  },
  {
   "cell_type": "code",
   "execution_count": 314,
   "id": "45636c8b",
   "metadata": {},
   "outputs": [
    {
     "data": {
      "text/plain": [
       "'hELLO gOOD mORNING'"
      ]
     },
     "execution_count": 314,
     "metadata": {},
     "output_type": "execute_result"
    }
   ],
   "source": [
    "\"Hello Good Morning\".swapcase()"
   ]
  },
  {
   "cell_type": "code",
   "execution_count": 315,
   "id": "30a04e8a",
   "metadata": {},
   "outputs": [
    {
     "data": {
      "text/plain": [
       "'HELLO WORLD IM PYTHON'"
      ]
     },
     "execution_count": 315,
     "metadata": {},
     "output_type": "execute_result"
    }
   ],
   "source": [
    "\"Hello World Im Python\".upper()"
   ]
  },
  {
   "cell_type": "code",
   "execution_count": 316,
   "id": "2adddd63",
   "metadata": {},
   "outputs": [
    {
     "data": {
      "text/plain": [
       "'hello world im python'"
      ]
     },
     "execution_count": 316,
     "metadata": {},
     "output_type": "execute_result"
    }
   ],
   "source": [
    "\"Hello World Im Python\".lower()"
   ]
  },
  {
   "cell_type": "code",
   "execution_count": 317,
   "id": "b8e8d91e",
   "metadata": {},
   "outputs": [],
   "source": [
    "\n",
    "\n",
    "\n",
    "# single datapoint\n",
    "\n",
    "# int, float, string\n",
    "\n",
    "# Table - Univariate Analysis - Working on all the data points in a column \n",
    "\n",
    "# variable = storing the datapoint that you want to work on \n",
    "\n",
    "# variable = store multiple datapoints"
   ]
  },
  {
   "cell_type": "code",
   "execution_count": 321,
   "id": "0e72bc24",
   "metadata": {},
   "outputs": [
    {
     "name": "stdout",
     "output_type": "stream",
     "text": [
      "charan\n",
      "<class 'str'>\n"
     ]
    }
   ],
   "source": [
    "name = \"charan\"\n",
    "print(name)\n",
    "print(type(name))"
   ]
  },
  {
   "cell_type": "code",
   "execution_count": 322,
   "id": "f2b3943f",
   "metadata": {},
   "outputs": [
    {
     "name": "stdout",
     "output_type": "stream",
     "text": [
      "('charan', 'rakesh', 'sudhir')\n",
      "<class 'tuple'>\n"
     ]
    }
   ],
   "source": [
    "name = \"charan\",\"rakesh\",\"sudhir\"\n",
    "print(name)\n",
    "print(type(name))"
   ]
  },
  {
   "cell_type": "code",
   "execution_count": 323,
   "id": "94750096",
   "metadata": {},
   "outputs": [],
   "source": [
    "# Data Storing Unit - Data Structure \n",
    "\n",
    "# list\n",
    "# tuple\n",
    "# dictionary\n",
    "# set \n",
    "\n",
    "\n",
    "name = ('charan', 'rakesh', 'sudhir')\n",
    "\n",
    "#join every name with innomatics \n",
    "\n",
    "# name =20000 names\n",
    "# "
   ]
  },
  {
   "cell_type": "code",
   "execution_count": 324,
   "id": "e1b999c1",
   "metadata": {},
   "outputs": [
    {
     "data": {
      "text/plain": [
       "'charan'"
      ]
     },
     "execution_count": 324,
     "metadata": {},
     "output_type": "execute_result"
    }
   ],
   "source": [
    "name[0]"
   ]
  },
  {
   "cell_type": "code",
   "execution_count": 328,
   "id": "5b6a5667",
   "metadata": {},
   "outputs": [
    {
     "data": {
      "text/plain": [
       "'charan Innomatics'"
      ]
     },
     "execution_count": 328,
     "metadata": {},
     "output_type": "execute_result"
    }
   ],
   "source": [
    "\" \".join([name[0],\"Innomatics\"])"
   ]
  },
  {
   "cell_type": "code",
   "execution_count": 325,
   "id": "2c7b4182",
   "metadata": {},
   "outputs": [
    {
     "data": {
      "text/plain": [
       "'rakesh'"
      ]
     },
     "execution_count": 325,
     "metadata": {},
     "output_type": "execute_result"
    }
   ],
   "source": [
    "name[1]"
   ]
  },
  {
   "cell_type": "code",
   "execution_count": 326,
   "id": "1655e3db",
   "metadata": {},
   "outputs": [
    {
     "data": {
      "text/plain": [
       "'sudhir'"
      ]
     },
     "execution_count": 326,
     "metadata": {},
     "output_type": "execute_result"
    }
   ],
   "source": [
    "name[2]"
   ]
  },
  {
   "cell_type": "code",
   "execution_count": null,
   "id": "7ce9ed22",
   "metadata": {},
   "outputs": [],
   "source": [
    "name[19999]"
   ]
  },
  {
   "cell_type": "code",
   "execution_count": 330,
   "id": "9203f5b6",
   "metadata": {},
   "outputs": [
    {
     "name": "stdout",
     "output_type": "stream",
     "text": [
      "charan Innomatics\n",
      "rakesh Innomatics\n",
      "sudhir Innomatics\n"
     ]
    }
   ],
   "source": [
    "for every_element in name:\n",
    "#     print(every_element)\n",
    "    print(\" \".join([every_element,\"Innomatics\"]))"
   ]
  },
  {
   "cell_type": "code",
   "execution_count": null,
   "id": "6c0f8cb9",
   "metadata": {},
   "outputs": [],
   "source": []
  }
 ],
 "metadata": {
  "kernelspec": {
   "display_name": "Python 3 (ipykernel)",
   "language": "python",
   "name": "python3"
  },
  "language_info": {
   "codemirror_mode": {
    "name": "ipython",
    "version": 3
   },
   "file_extension": ".py",
   "mimetype": "text/x-python",
   "name": "python",
   "nbconvert_exporter": "python",
   "pygments_lexer": "ipython3",
   "version": "3.11.8"
  }
 },
 "nbformat": 4,
 "nbformat_minor": 5
}
