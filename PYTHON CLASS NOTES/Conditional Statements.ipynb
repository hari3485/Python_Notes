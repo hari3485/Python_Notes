{
 "cells": [
  {
   "cell_type": "code",
   "execution_count": 6,
   "id": "a298acbe",
   "metadata": {},
   "outputs": [
    {
     "data": {
      "text/plain": [
       "True"
      ]
     },
     "execution_count": 6,
     "metadata": {},
     "output_type": "execute_result"
    }
   ],
   "source": [
    "# if\n",
    "\n",
    "\n",
    "\n",
    "5 > 4"
   ]
  },
  {
   "cell_type": "code",
   "execution_count": 5,
   "id": "c0b54c87",
   "metadata": {},
   "outputs": [
    {
     "name": "stdout",
     "output_type": "stream",
     "text": [
      "Hi this is charan\n"
     ]
    }
   ],
   "source": [
    "if 5 > 4:\n",
    "    print(\"Hi this is charan\") # trying to control the output"
   ]
  },
  {
   "cell_type": "code",
   "execution_count": null,
   "id": "944eadf7",
   "metadata": {},
   "outputs": [],
   "source": [
    "# If the marks are less than 25 add 5 to it"
   ]
  },
  {
   "cell_type": "code",
   "execution_count": 8,
   "id": "7b222beb",
   "metadata": {},
   "outputs": [
    {
     "name": "stdout",
     "output_type": "stream",
     "text": [
      "Please enter the number15\n",
      "Your Updated marks are 20\n"
     ]
    }
   ],
   "source": [
    "user_input = int(input(\"Please enter the number\"))\n",
    "\n",
    "if user_input < 25:\n",
    "    user_input = user_input + 5\n",
    "    print(\"Your Updated marks are\",user_input)"
   ]
  },
  {
   "cell_type": "code",
   "execution_count": 13,
   "id": "47d01a27",
   "metadata": {},
   "outputs": [
    {
     "name": "stdout",
     "output_type": "stream",
     "text": [
      "Please enter the number34\n",
      "\n",
      "im outside the condition\n",
      "\n",
      "Sorry cannot update your marks\n"
     ]
    }
   ],
   "source": [
    "user_input = int(input(\"Please enter the number\"))\n",
    "print()\n",
    "print(\"im outside the condition\")\n",
    "print()\n",
    "if user_input < 25:\n",
    "    print()\n",
    "    print(print(\"im inside the condition\"))\n",
    "    print()\n",
    "    user_input = user_input + 5\n",
    "    print(\"Your Updated marks are\",user_input)\n",
    "else:\n",
    "    print(\"Sorry cannot update your marks\")"
   ]
  },
  {
   "cell_type": "code",
   "execution_count": 16,
   "id": "30d08cad",
   "metadata": {},
   "outputs": [
    {
     "name": "stdout",
     "output_type": "stream",
     "text": [
      "Please enter the number39\n",
      "Your Updated marks are 42\n"
     ]
    }
   ],
   "source": [
    "# If the marks are less than 25 add 5 to it or else add 3 to it\n",
    "\n",
    "user_input = int(input(\"Please enter the number\"))\n",
    "# print()\n",
    "# print(\"im outside the condition\")\n",
    "# print()\n",
    "if user_input < 25:\n",
    "#     print()\n",
    "#     print(print(\"im inside the condition\"))\n",
    "#     print()\n",
    "    user_input = user_input + 5\n",
    "    print(\"Your Updated marks are\",user_input)\n",
    "else:\n",
    "    user_input = user_input + 3\n",
    "    print(\"Your Updated marks are\",user_input)"
   ]
  },
  {
   "cell_type": "code",
   "execution_count": 19,
   "id": "b443f954",
   "metadata": {},
   "outputs": [
    {
     "name": "stdout",
     "output_type": "stream",
     "text": [
      "Your Updated marks are 28\n",
      "Your Updated marks are 38\n",
      "Your Updated marks are 23\n",
      "Your Updated marks are 43\n"
     ]
    }
   ],
   "source": [
    "F = [25,35,18,40]\n",
    "\n",
    "for every_datapoint in F:\n",
    "    if every_datapoint < 25:\n",
    "        every_datapoint = every_datapoint + 5\n",
    "        print(\"Your Updated marks are\",every_datapoint)\n",
    "    else:\n",
    "        every_datapoint = every_datapoint + 3\n",
    "        print(\"Your Updated marks are\",every_datapoint)"
   ]
  },
  {
   "cell_type": "code",
   "execution_count": 20,
   "id": "8baf8648",
   "metadata": {},
   "outputs": [],
   "source": [
    "# Input from a user and print if its a positive number or negative number\n",
    "# Input from a user and check if it is even number or not\n",
    "# Input from user and check if it is divisible by 9"
   ]
  },
  {
   "cell_type": "code",
   "execution_count": 23,
   "id": "fb3c0d2a",
   "metadata": {},
   "outputs": [],
   "source": [
    "# Input from a user and print if its a positive number or negative number\n",
    "\n",
    "# User_input \n",
    "# if User_input < 0 it is a negative number\n",
    "# else it is a positive number"
   ]
  },
  {
   "cell_type": "code",
   "execution_count": 32,
   "id": "d955d0fe",
   "metadata": {},
   "outputs": [
    {
     "data": {
      "text/plain": [
       "False"
      ]
     },
     "execution_count": 32,
     "metadata": {},
     "output_type": "execute_result"
    }
   ],
   "source": [
    "0>0"
   ]
  },
  {
   "cell_type": "code",
   "execution_count": 33,
   "id": "cae74d91",
   "metadata": {},
   "outputs": [
    {
     "data": {
      "text/plain": [
       "True"
      ]
     },
     "execution_count": 33,
     "metadata": {},
     "output_type": "execute_result"
    }
   ],
   "source": [
    "0==0"
   ]
  },
  {
   "cell_type": "code",
   "execution_count": 34,
   "id": "eb72607d",
   "metadata": {},
   "outputs": [
    {
     "data": {
      "text/plain": [
       "False"
      ]
     },
     "execution_count": 34,
     "metadata": {},
     "output_type": "execute_result"
    }
   ],
   "source": [
    "0<0"
   ]
  },
  {
   "cell_type": "code",
   "execution_count": 35,
   "id": "729d9948",
   "metadata": {},
   "outputs": [
    {
     "data": {
      "text/plain": [
       "True"
      ]
     },
     "execution_count": 35,
     "metadata": {},
     "output_type": "execute_result"
    }
   ],
   "source": [
    "0>=0"
   ]
  },
  {
   "cell_type": "code",
   "execution_count": 36,
   "id": "b6749281",
   "metadata": {},
   "outputs": [
    {
     "data": {
      "text/plain": [
       "True"
      ]
     },
     "execution_count": 36,
     "metadata": {},
     "output_type": "execute_result"
    }
   ],
   "source": [
    "0<=0"
   ]
  },
  {
   "cell_type": "code",
   "execution_count": 38,
   "id": "226e435b",
   "metadata": {},
   "outputs": [
    {
     "name": "stdout",
     "output_type": "stream",
     "text": [
      "Please enter the number0\n",
      "im inside else condition\n",
      "0 Negative\n"
     ]
    }
   ],
   "source": [
    "User_input = int(input(\"Please enter the number\"))\n",
    "\n",
    "if User_input > 0:\n",
    "    print(\"im inside if condition\")\n",
    "    print(User_input,\"Positive\")\n",
    "else:\n",
    "    print(\"im inside else condition\")\n",
    "    print(User_input,\"Negative\")\n",
    "# Binary - 1 output (True,False)"
   ]
  },
  {
   "cell_type": "code",
   "execution_count": 39,
   "id": "98e1fe47",
   "metadata": {},
   "outputs": [
    {
     "name": "stdout",
     "output_type": "stream",
     "text": [
      "Please enter the number0\n",
      "im inside if condition\n",
      "0 Positive\n"
     ]
    }
   ],
   "source": [
    "User_input = int(input(\"Please enter the number\"))\n",
    "\n",
    "if User_input >= 0:\n",
    "    print(\"im inside if condition\")\n",
    "    print(User_input,\"Positive\")\n",
    "else:\n",
    "    print(\"im inside else condition\")\n",
    "    print(User_input,\"Negative\")\n",
    "# Binary - 1 output (True,False)"
   ]
  },
  {
   "cell_type": "code",
   "execution_count": 58,
   "id": "ffe2c6e9",
   "metadata": {},
   "outputs": [
    {
     "name": "stdout",
     "output_type": "stream",
     "text": [
      "please enter the age: 3\n",
      "im inside else\n",
      "Sorry we cannot give you admission\n"
     ]
    }
   ],
   "source": [
    "# if - else: Condtion(True or False)\n",
    "\n",
    "\n",
    "# Age is (5-7) # 6th class\n",
    "# Age is (7-9) # 7th class\n",
    "# Age is (9-11) # 8th class\n",
    "\n",
    "user_input = int(input(\"please enter the age: \"))\n",
    "\n",
    "if user_input > 5 and user_input < 7:\n",
    "    print(\"im inside first if\")\n",
    "    print(\"6th class\")\n",
    "    \n",
    "elif user_input > 7 and user_input < 9:\n",
    "    print(\"im inside second if\")\n",
    "    print(\"7th class\")\n",
    "\n",
    "elif user_input > 9 and user_input < 11:\n",
    "    print(\"im inside second if\")\n",
    "    print(\"8th class\")\n",
    "    \n",
    "else:\n",
    "    print(\"im inside else\")\n",
    "    print(\"Sorry we cannot give you admission\")"
   ]
  },
  {
   "cell_type": "code",
   "execution_count": null,
   "id": "d116a150",
   "metadata": {},
   "outputs": [],
   "source": [
    "# Age is (5-7) # 6th class\n",
    "# Age is (7-9) # 7th class\n",
    "# Age is (9-11) # 8th class\n",
    "\n",
    "user_input = int(input(\"please enter the age: \"))\n",
    "\n",
    "if user_input > 5 and user_input < 7:\n",
    "    print(\"6th class\")\n",
    "elif user_input > 7 and user_input < 9:\n",
    "    print(\"7th class\")\n",
    "elif user_input > 9 and user_input < 11:\n",
    "    print(\"8th class\")  \n",
    "else:\n",
    "    print(\"Sorry we cannot give you admission\")"
   ]
  },
  {
   "cell_type": "code",
   "execution_count": 62,
   "id": "2b214474",
   "metadata": {},
   "outputs": [
    {
     "name": "stdout",
     "output_type": "stream",
     "text": [
      "Sorry we cannot give you admission\n",
      "7 7th class\n",
      "8 7th class\n",
      "6 6th class\n",
      "Sorry we cannot give you admission\n"
     ]
    }
   ],
   "source": [
    "R = [3,7,8,6,12]\n",
    "\n",
    "for every_datapoint in R:\n",
    "    if every_datapoint > 5 and every_datapoint < 7:\n",
    "        print(every_datapoint,\"6th class\")\n",
    "    elif every_datapoint >= 7 and every_datapoint < 9:\n",
    "        print(every_datapoint,\"7th class\")\n",
    "    elif every_datapoint > 9 and every_datapoint < 11:\n",
    "        print(every_datapoint,\"8th class\")  \n",
    "    else:\n",
    "        print(\"Sorry we cannot give you admission\")"
   ]
  },
  {
   "cell_type": "code",
   "execution_count": 63,
   "id": "d1f42da2",
   "metadata": {},
   "outputs": [],
   "source": [
    "# Take the input marks from the user \n",
    "\n",
    "# if marks is greater than > 85 award him grade A\n",
    "# if marks is between 75 - 85 award him grade B\n",
    "# if marks in between 26 - 75 award him grade C\n",
    "# or else fail him"
   ]
  },
  {
   "cell_type": "code",
   "execution_count": 67,
   "id": "2a7c8023",
   "metadata": {},
   "outputs": [
    {
     "name": "stdout",
     "output_type": "stream",
     "text": [
      "please enter the marks56\n",
      "you have been awarded grade B\n"
     ]
    }
   ],
   "source": [
    "user_input = int(input(\"please enter the marks\"))\n",
    "\n",
    "if user_input >= 85:\n",
    "    print(\"you have been awarded grade A\")\n",
    "elif user_input >=75 and user_input<85:\n",
    "    print(\"you have been awarded grade B\")\n",
    "elif user_input >=26 and user_input<75:\n",
    "    print(\"you have been awarded grade B\")\n",
    "else:\n",
    "    print(\"Congrats you are failed\")"
   ]
  },
  {
   "cell_type": "code",
   "execution_count": 69,
   "id": "4711f30c",
   "metadata": {},
   "outputs": [
    {
     "name": "stdout",
     "output_type": "stream",
     "text": [
      "Congrats you are failed\n",
      "you have been awarded grade B\n",
      "you have been awarded grade B\n",
      "you have been awarded grade A\n"
     ]
    }
   ],
   "source": [
    "F = [23,45,67,88]\n",
    "\n",
    "for every_dp in F:\n",
    "    if every_dp >= 85:\n",
    "        print(\"you have been awarded grade A\")\n",
    "    elif every_dp >=75 and every_dp<85:\n",
    "        print(\"you have been awarded grade B\")\n",
    "    elif every_dp >=26 and every_dp<75:\n",
    "        print(\"you have been awarded grade B\")\n",
    "    else:\n",
    "        print(\"Congrats you are failed\")"
   ]
  },
  {
   "cell_type": "code",
   "execution_count": null,
   "id": "80df2519",
   "metadata": {},
   "outputs": [],
   "source": []
  }
 ],
 "metadata": {
  "kernelspec": {
   "display_name": "Python 3 (ipykernel)",
   "language": "python",
   "name": "python3"
  },
  "language_info": {
   "codemirror_mode": {
    "name": "ipython",
    "version": 3
   },
   "file_extension": ".py",
   "mimetype": "text/x-python",
   "name": "python",
   "nbconvert_exporter": "python",
   "pygments_lexer": "ipython3",
   "version": "3.11.8"
  }
 },
 "nbformat": 4,
 "nbformat_minor": 5
}
