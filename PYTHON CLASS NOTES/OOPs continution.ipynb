{
 "cells": [
  {
   "cell_type": "code",
   "execution_count": 53,
   "id": "a2819aa0",
   "metadata": {},
   "outputs": [],
   "source": [
    "class human_family:\n",
    "    surname = \"karri\" # class attribute\n",
    "    def __init__(self,firstname,lastname,gender):\n",
    "        self.firstname = firstname # instance attribute\n",
    "        self.lastname = lastname # instance attirbute\n",
    "        self.gender = gender# instance attribute \n",
    "        \n",
    "    def welcome(self):\n",
    "        # Full name\n",
    "        full_name = self.surname + \" \" + self.firstname + \" \" + self.lastname \n",
    "        return f\"Hello {full_name} Welcome to Innomatics\"\n",
    "        \n",
    "    def get_gender(self):\n",
    "        return self.gender\n",
    "    \n",
    "    def update_first_name(self,new_name): # updating the first_name\n",
    "        print(self.first_name)\n",
    "#         return self.first_name\n",
    "    \n",
    "    def update_last_name(self,new_name): # updating the last_name\n",
    "        self.lastname = new_name\n",
    "        return self.last_name\n",
    "        \n",
    "        \n",
    "# class attributes\n",
    "# attributes defined inside a class\n",
    "# accessing class attributes - classname.attributename (before creating the object)\n",
    "# accessing class attributes - objname.attributename (after creating the object)\n",
    "\n",
    "\n",
    "# instance attributes\n",
    "# attributes defined inside a constructor or a method\n",
    "# accessing instance attributes - \n",
    "# you can access them only after you have created a object "
   ]
  },
  {
   "cell_type": "code",
   "execution_count": 54,
   "id": "803a6670",
   "metadata": {},
   "outputs": [],
   "source": [
    "# family - daughter,son\n",
    "# daughter name is neha\n",
    "# son name is charan\n",
    "\n",
    "# surname\n",
    "\n",
    "son = human_family(\"sai\",\"charan\",\"male\")\n",
    "daughter = human_family(\"neha\",\"abc\",\"female\")"
   ]
  },
  {
   "cell_type": "code",
   "execution_count": 55,
   "id": "be8249cd",
   "metadata": {},
   "outputs": [
    {
     "name": "stdout",
     "output_type": "stream",
     "text": [
      "Hello karri sai charan Welcome to Innomatics\n",
      "male\n"
     ]
    }
   ],
   "source": [
    "print(son.welcome()) # 2 outputs\n",
    "print(son.get_gender()) # 1 outputs\n",
    "\n",
    "# print()"
   ]
  },
  {
   "cell_type": "code",
   "execution_count": 56,
   "id": "2ba7677b",
   "metadata": {},
   "outputs": [],
   "source": [
    "son2 = human_family(firstname=\"abc\",lastname=\"xyz\",gender=\"male\")"
   ]
  },
  {
   "cell_type": "code",
   "execution_count": 57,
   "id": "25fcdff7",
   "metadata": {},
   "outputs": [
    {
     "name": "stdout",
     "output_type": "stream",
     "text": [
      "abc\n",
      "xyz\n",
      "male\n"
     ]
    }
   ],
   "source": [
    "print(son2.firstname)\n",
    "print(son2.lastname)\n",
    "print(son2.gender)"
   ]
  },
  {
   "cell_type": "code",
   "execution_count": 91,
   "id": "994caf51",
   "metadata": {},
   "outputs": [],
   "source": [
    "class human_family:\n",
    "    surname = \"karri\" # class attribute\n",
    "    def __init__(self,firstname,lastname,gender):\n",
    "        self.firstname = firstname # instance attribute\n",
    "        self.lastname = lastname # instance attirbute\n",
    "        self.gender = 1gender# instance attribute \n",
    "        \n",
    "    def welcome(self):\n",
    "        # Full name\n",
    "        full_name = self.surname + \" \" + self.firstname + \" \" + self.lastname \n",
    "        return f\"Hello {full_name} Welcome to Innomatics\"\n",
    "        \n",
    "    def get_gender(self):\n",
    "        return self.gender\n",
    "    \n",
    "    def update_first_name(self,new_name): # updating the first_name\n",
    "        self.firstname = new_name\n",
    "        return self.firstname\n",
    "    \n",
    "    def update_last_name(self,new_name): # updating the last_name\n",
    "        self.lastname = new_name\n",
    "        return self.lastname"
   ]
  },
  {
   "cell_type": "code",
   "execution_count": 92,
   "id": "e24ace34",
   "metadata": {},
   "outputs": [
    {
     "name": "stdout",
     "output_type": "stream",
     "text": [
      "abc\n",
      "xyz\n",
      "male\n"
     ]
    }
   ],
   "source": [
    "son2 = human_family(firstname=\"abc\",lastname=\"xyz\",gender=\"male\")\n",
    "print(son2.firstname)\n",
    "print(son2.lastname)\n",
    "print(son2.gender)"
   ]
  },
  {
   "cell_type": "code",
   "execution_count": 93,
   "id": "05a03633",
   "metadata": {},
   "outputs": [
    {
     "name": "stdout",
     "output_type": "stream",
     "text": [
      "123\n",
      "255\n",
      "male\n"
     ]
    }
   ],
   "source": [
    "son2.update_first_name(\"123\")\n",
    "son2.update_last_name(\"255\")\n",
    "print(son2.firstname)\n",
    "print(son2.lastname)\n",
    "print(son2.gender)"
   ]
  },
  {
   "cell_type": "code",
   "execution_count": 94,
   "id": "55926369",
   "metadata": {},
   "outputs": [],
   "source": [
    "# ATM Transaction\n",
    "\n",
    "# class = balance in accout\n",
    "\n",
    "# withdraw some amount and show me the updated amount\n",
    "# deposit some amount and show me the updated amount \n",
    "\n",
    "# Balance -50000\n",
    "# withdrawing 3000 = 50000-3000 = 47000\n",
    "# deposit 10000 = 47000 + 10000 = 57000"
   ]
  },
  {
   "cell_type": "code",
   "execution_count": 107,
   "id": "28811755",
   "metadata": {},
   "outputs": [],
   "source": [
    "class atm_transaction:\n",
    "    def __init__(self,account_balance): # balance in the account\n",
    "        self.account_balance = account_balance\n",
    "        \n",
    "    def withdraw(self,withdraw_amount):\n",
    "        self.account_balance = self.account_balance - withdraw_amount\n",
    "        return self.account_balance\n",
    "    \n",
    "    def deposit(self,deposit_amount):\n",
    "        self.account_balance = self.account_balance + deposit_amount\n",
    "        return self.account_balance"
   ]
  },
  {
   "cell_type": "code",
   "execution_count": 108,
   "id": "448aa70a",
   "metadata": {},
   "outputs": [
    {
     "name": "stdout",
     "output_type": "stream",
     "text": [
      "50000\n"
     ]
    }
   ],
   "source": [
    "trans1 = atm_transaction(50000)\n",
    "print(trans1.account_balance)"
   ]
  },
  {
   "cell_type": "code",
   "execution_count": 109,
   "id": "912d03ca",
   "metadata": {},
   "outputs": [
    {
     "name": "stdout",
     "output_type": "stream",
     "text": [
      "48000\n"
     ]
    }
   ],
   "source": [
    "trans1.withdraw(2000) # withdraw 2000 from the account\n",
    "print(trans1.account_balance)"
   ]
  },
  {
   "cell_type": "code",
   "execution_count": 110,
   "id": "8c7ce394",
   "metadata": {},
   "outputs": [
    {
     "name": "stdout",
     "output_type": "stream",
     "text": [
      "52000\n"
     ]
    }
   ],
   "source": [
    "trans1.deposit(4000) # deposit 4000 to the account \n",
    "print(trans1.account_balance)"
   ]
  },
  {
   "cell_type": "code",
   "execution_count": 112,
   "id": "571bde2b",
   "metadata": {},
   "outputs": [
    {
     "name": "stdout",
     "output_type": "stream",
     "text": [
      "Current Balance\n",
      "50000\n",
      "Updated Balance\n",
      "70000\n"
     ]
    }
   ],
   "source": [
    "trans1 = atm_transaction(50000)\n",
    "print(\"Current Balance\")\n",
    "print(trans1.account_balance)\n",
    "trans1.withdraw(10000) # withdraw 2000 from the account\n",
    "trans1.deposit(30000) # deposit 4000 to the account \n",
    "print(\"Updated Balance\")\n",
    "print(trans1.account_balance)\n",
    "\n",
    "# 40000+30000"
   ]
  },
  {
   "cell_type": "code",
   "execution_count": 114,
   "id": "65e20b22",
   "metadata": {},
   "outputs": [
    {
     "name": "stdout",
     "output_type": "stream",
     "text": [
      "Current Balance\n",
      "50000\n",
      "Updated Balance\n",
      "48000\n"
     ]
    }
   ],
   "source": [
    "trans2 = atm_transaction(50000)\n",
    "print(\"Current Balance\")\n",
    "print(trans2.account_balance)\n",
    "trans2.deposit(4000) # deposit 4000 to the account \n",
    "trans2.withdraw(6000) # withdraw 2000 from the account\n",
    "print(\"Updated Balance\")\n",
    "print(trans2.account_balance)"
   ]
  },
  {
   "cell_type": "code",
   "execution_count": null,
   "id": "cfa87d01",
   "metadata": {},
   "outputs": [],
   "source": [
    "# database = {account1:[pin,bal1],account2:[pin,bal2],account3:[pin,bal3]}\n",
    "\n",
    "# class <name_something>\n",
    "# account_number from the user\n",
    "# if account_number is existing or not \n",
    "# if it is existing - ask for password\n",
    "# while loop - condition is less than or equal to 3 tries\n",
    "# if hesnot entering the right password \n",
    "# prompt (please check your password) * 3\n",
    "# your account is blocked\n",
    "# check if user is entering the right password --> withdraw,deposit and display the final balance\n",
    "# \n",
    "# if it is not existing - print a message( your account doesnt belong to our database)"
   ]
  },
  {
   "cell_type": "code",
   "execution_count": null,
   "id": "9718bf43",
   "metadata": {},
   "outputs": [],
   "source": [
    "\n",
    "\n",
    "# Properties of OOPs\n",
    "# Encapsulation\n",
    "# Inheritence\n",
    "# polymorphism\n",
    "# abstraction"
   ]
  },
  {
   "cell_type": "code",
   "execution_count": 115,
   "id": "2a562dff",
   "metadata": {},
   "outputs": [],
   "source": [
    "# Encapsulation\n",
    "\n",
    "# Capsule - medicine enclosed between a thin layer of edible material\n",
    "# Tablet - naked medicine\n",
    "\n",
    "class human_family:\n",
    "    surname = \"karri\" # class attribute\n",
    "    def __init__(self,firstname,lastname,gender,age):\n",
    "        self.firstname = firstname # instance attribute\n",
    "        self.lastname = lastname # instance attirbute\n",
    "        self.gender = gender# instance attribute \n",
    "        self.age = age\n",
    "        \n",
    "    def welcome(self):# Encapsualtion (private_members,public_members,protected_members)\n",
    "        # Full name\n",
    "        full_name = self.surname + \" \" + self.firstname + \" \" + self.lastname \n",
    "        return f\"Hello {full_name} Welcome to Innomatics\""
   ]
  },
  {
   "cell_type": "code",
   "execution_count": 119,
   "id": "b3a9a001",
   "metadata": {},
   "outputs": [
    {
     "name": "stdout",
     "output_type": "stream",
     "text": [
      "sai\n",
      "charan\n",
      "male\n",
      "26\n"
     ]
    }
   ],
   "source": [
    "son1 = human_family(firstname=\"sai\",lastname=\"charan\",gender=\"male\",age=26) # object\n",
    "print(son1.firstname)\n",
    "print(son1.lastname)\n",
    "print(son1.gender)\n",
    "print(son1.age)\n",
    "\n",
    "\n",
    "# inputs youre taking from the user"
   ]
  },
  {
   "cell_type": "code",
   "execution_count": 120,
   "id": "1ea531d2",
   "metadata": {},
   "outputs": [
    {
     "data": {
      "text/plain": [
       "'Hello karri sai charan Welcome to Innomatics'"
      ]
     },
     "execution_count": 120,
     "metadata": {},
     "output_type": "execute_result"
    }
   ],
   "source": [
    "son1.welcome() # method\n",
    "# based upon the requirement youre using only firstname,lastname and surname here"
   ]
  },
  {
   "cell_type": "code",
   "execution_count": 121,
   "id": "c6c3505f",
   "metadata": {},
   "outputs": [],
   "source": [
    "# Dad - 6'11 - Dark Black\n",
    "# Mother - 5'9 - Fair\n",
    "\n",
    "\n",
    "# Son and Daughter\n",
    "# Son is black (he inherited skin complexity from his dad)\n",
    "# Daughter is white (she inherited skin complexity from her mother)\n",
    "\n",
    "\n",
    "# Python - human , dog, cat\n",
    "\n",
    "# ill create a class and then ill try to inherit the properties of that partiuclar class\n",
    "# to other class"
   ]
  },
  {
   "cell_type": "code",
   "execution_count": 132,
   "id": "df41d1b8",
   "metadata": {},
   "outputs": [],
   "source": [
    "class father:\n",
    "    def height(self):\n",
    "        return \"5 feet 10 inches\"\n",
    "    def hair_colour(self):\n",
    "        return \"brown\""
   ]
  },
  {
   "cell_type": "code",
   "execution_count": 133,
   "id": "0cbe198d",
   "metadata": {},
   "outputs": [],
   "source": [
    "class child(father):\n",
    "    def eye_colour(self):\n",
    "        return \"sunflower\"\n",
    "    def weight(self):\n",
    "        return \"56\""
   ]
  },
  {
   "cell_type": "code",
   "execution_count": 134,
   "id": "999a56b4",
   "metadata": {},
   "outputs": [],
   "source": [
    "dad = father()\n",
    "son = child()"
   ]
  },
  {
   "cell_type": "code",
   "execution_count": 135,
   "id": "d68a8310",
   "metadata": {},
   "outputs": [
    {
     "name": "stdout",
     "output_type": "stream",
     "text": [
      "5 feet 10 inches\n",
      "brown\n"
     ]
    }
   ],
   "source": [
    "print(dad.height())\n",
    "print(dad.hair_colour())"
   ]
  },
  {
   "cell_type": "code",
   "execution_count": 136,
   "id": "00608457",
   "metadata": {},
   "outputs": [
    {
     "name": "stdout",
     "output_type": "stream",
     "text": [
      "sunflower\n",
      "56\n",
      "5 feet 10 inches\n",
      "brown\n"
     ]
    }
   ],
   "source": [
    "print(son.eye_colour())\n",
    "print(son.weight())\n",
    "print(son.height())\n",
    "print(son.hair_colour())"
   ]
  },
  {
   "cell_type": "code",
   "execution_count": null,
   "id": "7d2ab32b",
   "metadata": {},
   "outputs": [],
   "source": [
    "# Inheritence\n",
    "# Encapsulation\n",
    "\n",
    "# code - collecting the dataset - EDA - Model Building - Evaluation (Dataset_1)\n",
    "\n",
    "# Dataset-2\n",
    "\n",
    "# code - collecting the dataset - EDA - Model Building - Evaluation"
   ]
  }
 ],
 "metadata": {
  "kernelspec": {
   "display_name": "Python 3 (ipykernel)",
   "language": "python",
   "name": "python3"
  },
  "language_info": {
   "codemirror_mode": {
    "name": "ipython",
    "version": 3
   },
   "file_extension": ".py",
   "mimetype": "text/x-python",
   "name": "python",
   "nbconvert_exporter": "python",
   "pygments_lexer": "ipython3",
   "version": "3.11.5"
  }
 },
 "nbformat": 4,
 "nbformat_minor": 5
}
