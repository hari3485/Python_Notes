{
 "cells": [
  {
   "cell_type": "code",
   "execution_count": null,
   "id": "f61fe17e",
   "metadata": {},
   "outputs": [],
   "source": [
    "# add()\t \tAdds an element to the set\n",
    "# clear()\t \tRemoves all the elements from the set\n",
    "# copy()\t \tReturns a copy of the set\n",
    "# difference()\t-\tReturns a set containing the difference between two or more sets\n",
    "# difference_update()\t-=\tRemoves the items in this set that are also included in another, specified set\n",
    "# discard()\t \tRemove the specified item\n",
    "# intersection()\t&\tReturns a set, that is the intersection of two other sets\n",
    "# intersection_update()\t&=\tRemoves the items in this set that are not present in other, specified set(s)\n",
    "# isdisjoint()\t \tReturns whether two sets have a intersection or not\n",
    "# issubset()\t<=\tReturns whether another set contains this set or not\n",
    "#  <\tReturns whether all items in this set is present in other, specified set(s)\n",
    "# issuperset()\t>=\tReturns whether this set contains another set or not\n",
    "#  >\tReturns whether all items in other, specified set(s) is present in this set\n",
    "# pop()\t \tRemoves an element from the set\n",
    "# remove()\t \tRemoves the specified element\n",
    "# symmetric_difference()\t^\tReturns a set with the symmetric differences of two sets\n",
    "# symmetric_difference_update()\t^=\tInserts the symmetric differences from this set and another\n",
    "# union()\t|\tReturn a set containing the union of sets\n",
    "# update()\t|=\tUpdate the set with the union of this set and others"
   ]
  },
  {
   "cell_type": "code",
   "execution_count": 82,
   "id": "da1e4b11",
   "metadata": {},
   "outputs": [
    {
     "name": "stdout",
     "output_type": "stream",
     "text": [
      "{1, 2, 3}\n",
      "<class 'set'>\n"
     ]
    }
   ],
   "source": [
    "# Sets - {}\n",
    "\n",
    "\n",
    "my_set= {1,2,3}\n",
    "\n",
    "print(my_set)\n",
    "print(type(my_set))"
   ]
  },
  {
   "cell_type": "code",
   "execution_count": null,
   "id": "80df3b83",
   "metadata": {},
   "outputs": [],
   "source": [
    "# Properties\n",
    "\n",
    "# It is unordered\n",
    "# It is not mutable \n",
    "# It does not allow duplicates\n",
    "# It accepts different Data types"
   ]
  },
  {
   "cell_type": "code",
   "execution_count": 87,
   "id": "c222feb8",
   "metadata": {},
   "outputs": [
    {
     "data": {
      "text/plain": [
       "{0, 1, 4.5, 'Hello'}"
      ]
     },
     "execution_count": 87,
     "metadata": {},
     "output_type": "execute_result"
    }
   ],
   "source": [
    "{1,\"Hello\",0,4.5,True,False}"
   ]
  },
  {
   "cell_type": "code",
   "execution_count": 88,
   "id": "659afd80",
   "metadata": {},
   "outputs": [
    {
     "data": {
      "text/plain": [
       "1"
      ]
     },
     "execution_count": 88,
     "metadata": {},
     "output_type": "execute_result"
    }
   ],
   "source": [
    "int(True)"
   ]
  },
  {
   "cell_type": "code",
   "execution_count": 89,
   "id": "efa4dc27",
   "metadata": {},
   "outputs": [
    {
     "data": {
      "text/plain": [
       "0"
      ]
     },
     "execution_count": 89,
     "metadata": {},
     "output_type": "execute_result"
    }
   ],
   "source": [
    "int(False)"
   ]
  },
  {
   "cell_type": "code",
   "execution_count": 90,
   "id": "6da2fbe7",
   "metadata": {},
   "outputs": [
    {
     "data": {
      "text/plain": [
       "{4.5, False, 'Hello', True}"
      ]
     },
     "execution_count": 90,
     "metadata": {},
     "output_type": "execute_result"
    }
   ],
   "source": [
    "{True,\"Hello\",False,4.5,1,0}"
   ]
  },
  {
   "cell_type": "code",
   "execution_count": null,
   "id": "ee8f728e",
   "metadata": {},
   "outputs": [],
   "source": [
    "# add()\t \tAdds an element to the set\n",
    "# clear()\t \tRemoves all the elements from the set\n",
    "# copy()\t \tReturns a copy of the set\n",
    "# difference()\t-\tReturns a set containing the difference between two or more sets"
   ]
  },
  {
   "cell_type": "code",
   "execution_count": 91,
   "id": "1d3c2c7d",
   "metadata": {},
   "outputs": [],
   "source": [
    "# add()\n",
    "\n",
    "\n",
    "A = {1,2,3,4}\n",
    "\n",
    "A.add(400)"
   ]
  },
  {
   "cell_type": "code",
   "execution_count": 92,
   "id": "9e296ffc",
   "metadata": {},
   "outputs": [
    {
     "data": {
      "text/plain": [
       "{1, 2, 3, 4, 400}"
      ]
     },
     "execution_count": 92,
     "metadata": {},
     "output_type": "execute_result"
    }
   ],
   "source": [
    "A"
   ]
  },
  {
   "cell_type": "code",
   "execution_count": 94,
   "id": "baddc35e",
   "metadata": {},
   "outputs": [
    {
     "name": "stdout",
     "output_type": "stream",
     "text": [
      "set()\n"
     ]
    }
   ],
   "source": [
    "# clear()\n",
    "\n",
    "A.clear()\n",
    "\n",
    "print(A)"
   ]
  },
  {
   "cell_type": "code",
   "execution_count": 95,
   "id": "55beb9d4",
   "metadata": {},
   "outputs": [
    {
     "ename": "NameError",
     "evalue": "name 'A' is not defined",
     "output_type": "error",
     "traceback": [
      "\u001b[1;31m---------------------------------------------------------------------------\u001b[0m",
      "\u001b[1;31mNameError\u001b[0m                                 Traceback (most recent call last)",
      "Cell \u001b[1;32mIn[95], line 3\u001b[0m\n\u001b[0;32m      1\u001b[0m \u001b[38;5;28;01mdel\u001b[39;00m A\n\u001b[1;32m----> 3\u001b[0m \u001b[38;5;28mprint\u001b[39m(A)\n",
      "\u001b[1;31mNameError\u001b[0m: name 'A' is not defined"
     ]
    }
   ],
   "source": [
    "del A\n",
    "\n",
    "print(A)"
   ]
  },
  {
   "cell_type": "code",
   "execution_count": 97,
   "id": "a32ef21c",
   "metadata": {},
   "outputs": [
    {
     "name": "stdout",
     "output_type": "stream",
     "text": [
      "{1, 2, 3, 4}\n"
     ]
    }
   ],
   "source": [
    "# copy()\n",
    "\n",
    "A = {1,2,3,4}\n",
    "B = A.copy()\n",
    "\n",
    "print(B)"
   ]
  },
  {
   "cell_type": "code",
   "execution_count": 117,
   "id": "33ae2139",
   "metadata": {},
   "outputs": [],
   "source": [
    "A = {1,2,3,4,5}\n",
    "B = {2,3,4,6,8}\n",
    "\n",
    "# A - B or A.difference(B)\n",
    "# B - A or B.difference(A)"
   ]
  },
  {
   "cell_type": "code",
   "execution_count": 118,
   "id": "cbd1e3f2",
   "metadata": {},
   "outputs": [
    {
     "data": {
      "text/plain": [
       "{1, 5}"
      ]
     },
     "execution_count": 118,
     "metadata": {},
     "output_type": "execute_result"
    }
   ],
   "source": [
    "A.difference(B)"
   ]
  },
  {
   "cell_type": "code",
   "execution_count": 119,
   "id": "5d918797",
   "metadata": {},
   "outputs": [
    {
     "data": {
      "text/plain": [
       "{6, 8}"
      ]
     },
     "execution_count": 119,
     "metadata": {},
     "output_type": "execute_result"
    }
   ],
   "source": [
    "B.difference(A)"
   ]
  },
  {
   "cell_type": "code",
   "execution_count": 120,
   "id": "c8306f17",
   "metadata": {},
   "outputs": [
    {
     "data": {
      "text/plain": [
       "{1, 2, 3, 4, 5}"
      ]
     },
     "execution_count": 120,
     "metadata": {},
     "output_type": "execute_result"
    }
   ],
   "source": [
    "A"
   ]
  },
  {
   "cell_type": "code",
   "execution_count": 121,
   "id": "979076f6",
   "metadata": {},
   "outputs": [
    {
     "data": {
      "text/plain": [
       "{2, 3, 4, 6, 8}"
      ]
     },
     "execution_count": 121,
     "metadata": {},
     "output_type": "execute_result"
    }
   ],
   "source": [
    "B"
   ]
  },
  {
   "cell_type": "code",
   "execution_count": 114,
   "id": "22b81822",
   "metadata": {},
   "outputs": [
    {
     "name": "stdout",
     "output_type": "stream",
     "text": [
      "{1, 5}\n",
      "{2, 3, 4, 6, 8}\n"
     ]
    }
   ],
   "source": [
    "# difference_update()\t-=\tRemoves the items in this set that are also included in another, specified set\n",
    "\n",
    "A = {1,2,3,4,5}\n",
    "B = {2,3,4,6,8}\n",
    "A.difference_update(B)\n",
    "print(A)\n",
    "B.difference_update(A)\n",
    "print(B)"
   ]
  },
  {
   "cell_type": "code",
   "execution_count": null,
   "id": "e6741fc0",
   "metadata": {},
   "outputs": [],
   "source": [
    "# discard()\t \tRemove the specified item\n",
    "# intersection()\t&\tReturns a set, that is the intersection of two other sets\n",
    "# intersection_update()\t&=\tRemoves the items in this set that are not present in other, specified set(s)"
   ]
  },
  {
   "cell_type": "code",
   "execution_count": 128,
   "id": "36d7e000",
   "metadata": {},
   "outputs": [],
   "source": [
    "A = {1,2,3,4}\n",
    "B = {2,3,4,5,6,7,8,9}"
   ]
  },
  {
   "cell_type": "code",
   "execution_count": 123,
   "id": "ddcd8643",
   "metadata": {},
   "outputs": [
    {
     "data": {
      "text/plain": [
       "{1}"
      ]
     },
     "execution_count": 123,
     "metadata": {},
     "output_type": "execute_result"
    }
   ],
   "source": [
    "A - B"
   ]
  },
  {
   "cell_type": "code",
   "execution_count": 124,
   "id": "449a9055",
   "metadata": {},
   "outputs": [
    {
     "data": {
      "text/plain": [
       "{5, 6, 7, 8, 9}"
      ]
     },
     "execution_count": 124,
     "metadata": {},
     "output_type": "execute_result"
    }
   ],
   "source": [
    "B - A "
   ]
  },
  {
   "cell_type": "code",
   "execution_count": 125,
   "id": "506f2f84",
   "metadata": {},
   "outputs": [
    {
     "data": {
      "text/plain": [
       "{1, 2, 3, 4}"
      ]
     },
     "execution_count": 125,
     "metadata": {},
     "output_type": "execute_result"
    }
   ],
   "source": [
    "A"
   ]
  },
  {
   "cell_type": "code",
   "execution_count": 126,
   "id": "7e0e8a9f",
   "metadata": {},
   "outputs": [
    {
     "data": {
      "text/plain": [
       "{2, 3, 4, 5, 6, 7, 8, 9}"
      ]
     },
     "execution_count": 126,
     "metadata": {},
     "output_type": "execute_result"
    }
   ],
   "source": [
    "B"
   ]
  },
  {
   "cell_type": "code",
   "execution_count": 127,
   "id": "77022191",
   "metadata": {},
   "outputs": [
    {
     "name": "stdout",
     "output_type": "stream",
     "text": [
      "{1}\n"
     ]
    }
   ],
   "source": [
    "A.difference_update(B)\n",
    "print(A)"
   ]
  },
  {
   "cell_type": "code",
   "execution_count": 130,
   "id": "e0c66114",
   "metadata": {},
   "outputs": [
    {
     "name": "stdout",
     "output_type": "stream",
     "text": [
      "{5, 6, 7, 8, 9}\n"
     ]
    }
   ],
   "source": [
    "B.difference_update(A)\n",
    "print(B)"
   ]
  },
  {
   "cell_type": "code",
   "execution_count": 135,
   "id": "60372263",
   "metadata": {},
   "outputs": [
    {
     "name": "stdout",
     "output_type": "stream",
     "text": [
      "{1, 2, 3, 4}\n"
     ]
    }
   ],
   "source": [
    "# discard - removing something\n",
    "# remove - removing something\n",
    "\n",
    "\n",
    "my_set = {1,2,3,4}\n",
    "my_set.discard(10)\n",
    "print(my_set)"
   ]
  },
  {
   "cell_type": "code",
   "execution_count": 136,
   "id": "6d6df7e5",
   "metadata": {},
   "outputs": [
    {
     "ename": "KeyError",
     "evalue": "10",
     "output_type": "error",
     "traceback": [
      "\u001b[1;31m---------------------------------------------------------------------------\u001b[0m",
      "\u001b[1;31mKeyError\u001b[0m                                  Traceback (most recent call last)",
      "Cell \u001b[1;32mIn[136], line 2\u001b[0m\n\u001b[0;32m      1\u001b[0m my_set \u001b[38;5;241m=\u001b[39m {\u001b[38;5;241m1\u001b[39m,\u001b[38;5;241m2\u001b[39m,\u001b[38;5;241m3\u001b[39m,\u001b[38;5;241m4\u001b[39m}\n\u001b[1;32m----> 2\u001b[0m my_set\u001b[38;5;241m.\u001b[39mremove(\u001b[38;5;241m10\u001b[39m)\n\u001b[0;32m      3\u001b[0m \u001b[38;5;28mprint\u001b[39m(my_set)\n",
      "\u001b[1;31mKeyError\u001b[0m: 10"
     ]
    }
   ],
   "source": [
    "my_set = {1,2,3,4}\n",
    "my_set.remove(10)\n",
    "print(my_set)"
   ]
  },
  {
   "cell_type": "code",
   "execution_count": 138,
   "id": "3648d9b4",
   "metadata": {},
   "outputs": [],
   "source": [
    "# Intersection\n",
    "\n",
    "A = {1,2,3,4,5}\n",
    "B = {2,3,4,6,8}"
   ]
  },
  {
   "cell_type": "code",
   "execution_count": 139,
   "id": "f483178a",
   "metadata": {},
   "outputs": [
    {
     "data": {
      "text/plain": [
       "{2, 3, 4}"
      ]
     },
     "execution_count": 139,
     "metadata": {},
     "output_type": "execute_result"
    }
   ],
   "source": [
    "# A∩B \n",
    "A.intersection(B)"
   ]
  },
  {
   "cell_type": "code",
   "execution_count": 140,
   "id": "f9ae4db5",
   "metadata": {},
   "outputs": [
    {
     "data": {
      "text/plain": [
       "{2, 3, 4}"
      ]
     },
     "execution_count": 140,
     "metadata": {},
     "output_type": "execute_result"
    }
   ],
   "source": [
    "B.intersection(A)"
   ]
  },
  {
   "cell_type": "code",
   "execution_count": null,
   "id": "c4fddacd",
   "metadata": {},
   "outputs": [],
   "source": [
    "# intersection update\n"
   ]
  },
  {
   "cell_type": "code",
   "execution_count": null,
   "id": "fe5451b2",
   "metadata": {},
   "outputs": [],
   "source": [
    "# isdisjoint()\t \tReturns whether two sets have a intersection or not\n",
    "# issubset()\t<=\tReturns whether another set contains this set or not\n",
    "# issuperset()\t>=\tReturns whether this set contains another set or not\n",
    "# pop()\t \tRemoves an element from the set\n",
    "# remove()\t \tRemoves the specified element"
   ]
  },
  {
   "cell_type": "code",
   "execution_count": 144,
   "id": "bc989ab5",
   "metadata": {},
   "outputs": [
    {
     "data": {
      "text/plain": [
       "False"
      ]
     },
     "execution_count": 144,
     "metadata": {},
     "output_type": "execute_result"
    }
   ],
   "source": [
    "# isdisjoint\n",
    "\n",
    "A = {1,2,3,4,5}\n",
    "B = {2,3,4,6,8}\n",
    "C = {\"A\",\"B\",\"C\"}\n",
    "\n",
    "A.isdisjoint(B)"
   ]
  },
  {
   "cell_type": "code",
   "execution_count": 145,
   "id": "73504be9",
   "metadata": {},
   "outputs": [
    {
     "data": {
      "text/plain": [
       "True"
      ]
     },
     "execution_count": 145,
     "metadata": {},
     "output_type": "execute_result"
    }
   ],
   "source": [
    "A.isdisjoint(C)"
   ]
  },
  {
   "cell_type": "code",
   "execution_count": 151,
   "id": "c6390970",
   "metadata": {},
   "outputs": [
    {
     "data": {
      "text/plain": [
       "True"
      ]
     },
     "execution_count": 151,
     "metadata": {},
     "output_type": "execute_result"
    }
   ],
   "source": [
    "#subset - two sets\n",
    "\n",
    "# A ⊂ B - all the elements of A are present in B\n",
    "\n",
    "A = {1,2,3,4,5}\n",
    "B = {1,2,3,4,5,6,8}\n",
    "A.issubset(B)"
   ]
  },
  {
   "cell_type": "code",
   "execution_count": 152,
   "id": "4d38971a",
   "metadata": {},
   "outputs": [
    {
     "data": {
      "text/plain": [
       "False"
      ]
     },
     "execution_count": 152,
     "metadata": {},
     "output_type": "execute_result"
    }
   ],
   "source": [
    "# B ⊂ A - all the elements of B are present in A\n",
    "B.issubset(A)"
   ]
  },
  {
   "cell_type": "code",
   "execution_count": 153,
   "id": "4a37a352",
   "metadata": {},
   "outputs": [
    {
     "data": {
      "text/plain": [
       "True"
      ]
     },
     "execution_count": 153,
     "metadata": {},
     "output_type": "execute_result"
    }
   ],
   "source": [
    "A<B"
   ]
  },
  {
   "cell_type": "code",
   "execution_count": 155,
   "id": "ca3568fc",
   "metadata": {},
   "outputs": [
    {
     "data": {
      "text/plain": [
       "False"
      ]
     },
     "execution_count": 155,
     "metadata": {},
     "output_type": "execute_result"
    }
   ],
   "source": [
    "B<A"
   ]
  },
  {
   "cell_type": "code",
   "execution_count": 156,
   "id": "5ed98e32",
   "metadata": {},
   "outputs": [
    {
     "name": "stdout",
     "output_type": "stream",
     "text": [
      "1\n",
      "3\n"
     ]
    }
   ],
   "source": [
    "f = [1,2,3,4]\n",
    "\n",
    "# [3,2,1,4]\n",
    "\n",
    "print(f[0])\n",
    "print(f[2])"
   ]
  },
  {
   "cell_type": "code",
   "execution_count": 159,
   "id": "4536b2cd",
   "metadata": {},
   "outputs": [],
   "source": [
    "f[0],f[2] = f[2],f[0]"
   ]
  },
  {
   "cell_type": "code",
   "execution_count": 158,
   "id": "0710b235",
   "metadata": {},
   "outputs": [
    {
     "data": {
      "text/plain": [
       "[3, 2, 1, 4]"
      ]
     },
     "execution_count": 158,
     "metadata": {},
     "output_type": "execute_result"
    }
   ],
   "source": [
    "f"
   ]
  },
  {
   "cell_type": "code",
   "execution_count": 160,
   "id": "af233af8",
   "metadata": {},
   "outputs": [],
   "source": [
    "# issuperset()\t>=\tReturns whether this set contains another set or not\n",
    "\n",
    "A = {1,2,3,4,5}\n",
    "B = {1,2,3,4,5,6,8}\n",
    "\n",
    "# B has every element that is present in A => B is superset of A"
   ]
  },
  {
   "cell_type": "code",
   "execution_count": 161,
   "id": "da79f6a4",
   "metadata": {},
   "outputs": [
    {
     "data": {
      "text/plain": [
       "False"
      ]
     },
     "execution_count": 161,
     "metadata": {},
     "output_type": "execute_result"
    }
   ],
   "source": [
    "A.issuperset(B)"
   ]
  },
  {
   "cell_type": "code",
   "execution_count": 162,
   "id": "1db65335",
   "metadata": {},
   "outputs": [
    {
     "data": {
      "text/plain": [
       "True"
      ]
     },
     "execution_count": 162,
     "metadata": {},
     "output_type": "execute_result"
    }
   ],
   "source": [
    "B.issuperset(A)"
   ]
  },
  {
   "cell_type": "code",
   "execution_count": 163,
   "id": "c6d06338",
   "metadata": {},
   "outputs": [
    {
     "data": {
      "text/plain": [
       "{1, 2, 3, 4, 5, 6, 8}"
      ]
     },
     "execution_count": 163,
     "metadata": {},
     "output_type": "execute_result"
    }
   ],
   "source": [
    "B"
   ]
  },
  {
   "cell_type": "code",
   "execution_count": 164,
   "id": "08b0899b",
   "metadata": {},
   "outputs": [
    {
     "data": {
      "text/plain": [
       "1"
      ]
     },
     "execution_count": 164,
     "metadata": {},
     "output_type": "execute_result"
    }
   ],
   "source": [
    "B.pop()"
   ]
  },
  {
   "cell_type": "code",
   "execution_count": 166,
   "id": "1c4978d5",
   "metadata": {},
   "outputs": [
    {
     "data": {
      "text/plain": [
       "2"
      ]
     },
     "execution_count": 166,
     "metadata": {},
     "output_type": "execute_result"
    }
   ],
   "source": [
    "B.pop()"
   ]
  },
  {
   "cell_type": "code",
   "execution_count": 167,
   "id": "c76e4b49",
   "metadata": {},
   "outputs": [
    {
     "data": {
      "text/plain": [
       "{3, 4, 5, 6, 8}"
      ]
     },
     "execution_count": 167,
     "metadata": {},
     "output_type": "execute_result"
    }
   ],
   "source": [
    "B"
   ]
  },
  {
   "cell_type": "code",
   "execution_count": 173,
   "id": "f9861834",
   "metadata": {},
   "outputs": [
    {
     "data": {
      "text/plain": [
       "{1, 2, 3, 6, 7, 8, 'A', 'B', 'C'}"
      ]
     },
     "execution_count": 173,
     "metadata": {},
     "output_type": "execute_result"
    }
   ],
   "source": [
    "# union()\t|\tReturn a set containing the union of sets\n",
    "# update()\t|=\tUpdate the set with the union of this set and others\n",
    "\n",
    "\n",
    "A = {1,2,3}\n",
    "B = {\"A\",\"B\",\"C\",6,7,8}\n",
    "\n",
    "A.union(B)"
   ]
  },
  {
   "cell_type": "code",
   "execution_count": 174,
   "id": "b4f69a75",
   "metadata": {},
   "outputs": [],
   "source": [
    "A.update(B)"
   ]
  },
  {
   "cell_type": "code",
   "execution_count": 175,
   "id": "f64f232c",
   "metadata": {},
   "outputs": [
    {
     "data": {
      "text/plain": [
       "{1, 2, 3, 6, 7, 8, 'A', 'B', 'C'}"
      ]
     },
     "execution_count": 175,
     "metadata": {},
     "output_type": "execute_result"
    }
   ],
   "source": [
    "A"
   ]
  },
  {
   "cell_type": "code",
   "execution_count": null,
   "id": "f91160a3",
   "metadata": {},
   "outputs": [],
   "source": [
    "# symmetric_difference()\t^\tReturns a set with the symmetric differences of two sets\n",
    "# symmetric_difference_update()\t^=\tInserts the symmetric differences from this set and another"
   ]
  },
  {
   "cell_type": "code",
   "execution_count": 180,
   "id": "e8499898",
   "metadata": {},
   "outputs": [],
   "source": [
    "A = {1,2,3,6,7,8}\n",
    "B = {\"A\",\"B\",\"C\",6,7,8}"
   ]
  },
  {
   "cell_type": "code",
   "execution_count": 179,
   "id": "3b6f8dae",
   "metadata": {},
   "outputs": [
    {
     "data": {
      "text/plain": [
       "{1, 2, 3, 'A', 'B', 'C'}"
      ]
     },
     "execution_count": 179,
     "metadata": {},
     "output_type": "execute_result"
    }
   ],
   "source": [
    "A.symmetric_difference(B)"
   ]
  },
  {
   "cell_type": "code",
   "execution_count": 181,
   "id": "0f4a9d45",
   "metadata": {},
   "outputs": [
    {
     "data": {
      "text/plain": [
       "{1, 2, 3, 'A', 'B', 'C'}"
      ]
     },
     "execution_count": 181,
     "metadata": {},
     "output_type": "execute_result"
    }
   ],
   "source": [
    "B.symmetric_difference(A)"
   ]
  },
  {
   "cell_type": "code",
   "execution_count": null,
   "id": "4a596da1",
   "metadata": {},
   "outputs": [],
   "source": []
  }
 ],
 "metadata": {
  "kernelspec": {
   "display_name": "Python 3 (ipykernel)",
   "language": "python",
   "name": "python3"
  },
  "language_info": {
   "codemirror_mode": {
    "name": "ipython",
    "version": 3
   },
   "file_extension": ".py",
   "mimetype": "text/x-python",
   "name": "python",
   "nbconvert_exporter": "python",
   "pygments_lexer": "ipython3",
   "version": "3.11.8"
  }
 },
 "nbformat": 4,
 "nbformat_minor": 5
}
