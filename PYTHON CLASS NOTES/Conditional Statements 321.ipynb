{
 "cells": [
  {
   "cell_type": "code",
   "execution_count": 1,
   "id": "5a7373fb",
   "metadata": {},
   "outputs": [
    {
     "data": {
      "text/plain": [
       "False"
      ]
     },
     "execution_count": 1,
     "metadata": {},
     "output_type": "execute_result"
    }
   ],
   "source": [
    "3>4"
   ]
  },
  {
   "cell_type": "code",
   "execution_count": 5,
   "id": "9e2aa454",
   "metadata": {},
   "outputs": [
    {
     "name": "stdout",
     "output_type": "stream",
     "text": [
      "3 is greater\n"
     ]
    }
   ],
   "source": [
    "if 5>4:\n",
    "    print(\"3 is greater\")"
   ]
  },
  {
   "cell_type": "code",
   "execution_count": 4,
   "id": "048a0b71",
   "metadata": {},
   "outputs": [
    {
     "name": "stdout",
     "output_type": "stream",
     "text": [
      "please enter the number 1: 3\n",
      "please enter the number 2: 6\n",
      "3 is not greater than 6\n"
     ]
    }
   ],
   "source": [
    "number1 = int(input(\"please enter the number 1: \"))\n",
    "number2 = int(input(\"please enter the number 2: \"))\n",
    "if number1 > number2:\n",
    "    print(f\"{number1} is greater than {number2}\")\n",
    "else:\n",
    "    print(f\"{number1} is not greater than {number2}\")"
   ]
  },
  {
   "cell_type": "code",
   "execution_count": 6,
   "id": "6b47cf79",
   "metadata": {},
   "outputs": [
    {
     "name": "stdout",
     "output_type": "stream",
     "text": [
      "please enter the number 1: 1222\n",
      "please enter the number 2: 2000\n",
      "1222 is not greater than 2000\n"
     ]
    }
   ],
   "source": [
    "number1 = int(input(\"please enter the number 1: \"))\n",
    "number2 = int(input(\"please enter the number 2: \"))\n",
    "if number1 > number2:\n",
    "    print(f\"{number1} is greater than {number2}\")\n",
    "else:\n",
    "    print(f\"{number1} is not greater than {number2}\")"
   ]
  },
  {
   "cell_type": "code",
   "execution_count": 7,
   "id": "c4313588",
   "metadata": {},
   "outputs": [],
   "source": [
    "# even number - division wrt to 2 should leave the remainder 0 \n",
    "# odd number - division wrt to  2 should notleave the remainder 0 "
   ]
  },
  {
   "cell_type": "code",
   "execution_count": 11,
   "id": "6a154694",
   "metadata": {},
   "outputs": [
    {
     "name": "stdout",
     "output_type": "stream",
     "text": [
      "3 is not a even number\n"
     ]
    }
   ],
   "source": [
    "if 3%2 == 0:\n",
    "    print(\"3 is a even number\")\n",
    "else:\n",
    "    print(\"3 is not a even number\")"
   ]
  },
  {
   "cell_type": "code",
   "execution_count": 12,
   "id": "2621b6f8",
   "metadata": {},
   "outputs": [
    {
     "name": "stdout",
     "output_type": "stream",
     "text": [
      "3 is a odd number\n"
     ]
    }
   ],
   "source": [
    "if 3%2 != 0:\n",
    "    print(\"3 is a odd number\")\n",
    "else:\n",
    "    print(\"3 is not odd number\")"
   ]
  },
  {
   "cell_type": "code",
   "execution_count": 8,
   "id": "910a2860",
   "metadata": {},
   "outputs": [
    {
     "data": {
      "text/plain": [
       "1.5"
      ]
     },
     "execution_count": 8,
     "metadata": {},
     "output_type": "execute_result"
    }
   ],
   "source": [
    "3/2 #float value "
   ]
  },
  {
   "cell_type": "code",
   "execution_count": 9,
   "id": "25443087",
   "metadata": {},
   "outputs": [
    {
     "data": {
      "text/plain": [
       "1"
      ]
     },
     "execution_count": 9,
     "metadata": {},
     "output_type": "execute_result"
    }
   ],
   "source": [
    "3//2 # intvalue of 3/2"
   ]
  },
  {
   "cell_type": "code",
   "execution_count": 10,
   "id": "43106c55",
   "metadata": {},
   "outputs": [
    {
     "data": {
      "text/plain": [
       "1"
      ]
     },
     "execution_count": 10,
     "metadata": {},
     "output_type": "execute_result"
    }
   ],
   "source": [
    "3%2 # remainder "
   ]
  },
  {
   "cell_type": "code",
   "execution_count": null,
   "id": "95a1fefd",
   "metadata": {},
   "outputs": [],
   "source": [
    "3/2\n",
    "\n",
    "2)3(1.5\n",
    "  2\n",
    "-----\n",
    "  10\n",
    "  10\n",
    "-----\n",
    "   0\n",
    "    \n",
    "===============================================\n",
    "    \n",
    "3//2\n",
    "\n",
    "\n",
    "2)3(1.5\n",
    "  2\n",
    "-----\n",
    "  10\n",
    "  10\n",
    "-----\n",
    "   0"
   ]
  },
  {
   "cell_type": "code",
   "execution_count": null,
   "id": "024d75f1",
   "metadata": {},
   "outputs": [],
   "source": [
    "if 3%2 == 0:\n",
    "    print(\"3 is a even number\")\n",
    "else:\n",
    "    print(\"3 is not a even number\")"
   ]
  },
  {
   "cell_type": "code",
   "execution_count": 18,
   "id": "7435525c",
   "metadata": {},
   "outputs": [
    {
     "name": "stdout",
     "output_type": "stream",
     "text": [
      "[12, 14]\n",
      "[2, 6, 10]\n"
     ]
    }
   ],
   "source": [
    "f = [1,2,3,4,5]\n",
    "even_numbers = []\n",
    "odd_numbers = []\n",
    "\n",
    "# add 10 to even numbers and multiply 2 to odd numbers\n",
    "\n",
    "for every_datapoint in f:\n",
    "    if every_datapoint%2 == 0:\n",
    "        every_datapoint = every_datapoint+10\n",
    "        even_numbers.append(every_datapoint)\n",
    "    else:\n",
    "        every_datapoint = every_datapoint*2\n",
    "        odd_numbers.append(every_datapoint)\n",
    "        \n",
    "        \n",
    "print(even_numbers)\n",
    "print(odd_numbers)"
   ]
  },
  {
   "cell_type": "code",
   "execution_count": null,
   "id": "21cc6a01",
   "metadata": {},
   "outputs": [],
   "source": [
    "[2, 4]\n",
    "[1, 3, 5]"
   ]
  },
  {
   "cell_type": "code",
   "execution_count": null,
   "id": "3f820952",
   "metadata": {},
   "outputs": [],
   "source": []
  },
  {
   "cell_type": "code",
   "execution_count": null,
   "id": "7360db26",
   "metadata": {},
   "outputs": [],
   "source": []
  }
 ],
 "metadata": {
  "kernelspec": {
   "display_name": "Python 3 (ipykernel)",
   "language": "python",
   "name": "python3"
  },
  "language_info": {
   "codemirror_mode": {
    "name": "ipython",
    "version": 3
   },
   "file_extension": ".py",
   "mimetype": "text/x-python",
   "name": "python",
   "nbconvert_exporter": "python",
   "pygments_lexer": "ipython3",
   "version": "3.11.8"
  }
 },
 "nbformat": 4,
 "nbformat_minor": 5
}
