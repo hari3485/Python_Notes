{
 "cells": [
  {
   "cell_type": "code",
   "execution_count": null,
   "id": "9664f552",
   "metadata": {},
   "outputs": [],
   "source": [
    "# Create a list of five integers and print the list.\n",
    "\n",
    "# Append the number 10 to the end of an existing list.\n",
    "\n",
    "# Insert the number 5 at the second position in a list.\n",
    "\n",
    "# Remove the first occurrence of the number 3 from a list.\n",
    "\n",
    "# Pop the last element from a list and print the modified list.\n",
    "\n",
    "# Sort a list of numbers in ascending order.\n",
    "\n",
    "# Reverse the elements of a list.\n",
    "\n",
    "# Count the number of occurrences of the number 7 in a list.\n",
    "\n",
    "# Find the index of the first occurrence of the number 4 in a list.\n",
    "\n",
    "# Extend a list by appending elements from another list.\n",
    "\n",
    "# Clear all elements from a list.\n",
    "\n",
    "# Create a copy of a list.\n",
    "# Concatenate two lists and print the result.\n",
    "# Check if the number 8 is in a list.\n",
    "# Create a list of five strings and sort them in alphabetical order.\n",
    "# Use the len() function to find the length of a list.\n",
    "# Slice a list to get the first three elements.\n",
    "# Use a loop to iterate through a list and print each element.\n",
    "# Convert a string to a list of characters."
   ]
  },
  {
   "cell_type": "code",
   "execution_count": 50,
   "id": "a79120f8",
   "metadata": {},
   "outputs": [],
   "source": [
    "variable=\"Something\""
   ]
  },
  {
   "cell_type": "code",
   "execution_count": 52,
   "id": "94df7fc5",
   "metadata": {},
   "outputs": [
    {
     "name": "stdout",
     "output_type": "stream",
     "text": [
      "['S', 'o', 'm', 'e', 't', 'h', 'i', 'n', 'g']\n"
     ]
    }
   ],
   "source": [
    "# Case1:\n",
    "\n",
    "H = []\n",
    "for every_datapoint in variable:\n",
    "    H.append(every_datapoint)\n",
    "print(H)"
   ]
  },
  {
   "cell_type": "code",
   "execution_count": 54,
   "id": "9fffbb46",
   "metadata": {},
   "outputs": [
    {
     "name": "stdout",
     "output_type": "stream",
     "text": [
      "['S', 'o', 'm', 'e', 't', 'h', 'i', 'n', 'g']\n"
     ]
    }
   ],
   "source": [
    "# Case2:\n",
    "\n",
    "PP = list(\"Something\")\n",
    "print(PP)"
   ]
  },
  {
   "cell_type": "code",
   "execution_count": 55,
   "id": "54ba19ff",
   "metadata": {},
   "outputs": [
    {
     "name": "stdout",
     "output_type": "stream",
     "text": [
      "['S', 'o', 'm', 'e', 't', 'h', 'i', 'n', 'g']\n"
     ]
    }
   ],
   "source": [
    "# Case3\n",
    "\n",
    "E = []\n",
    "E.extend(\"Something\")\n",
    "print(E)"
   ]
  },
  {
   "cell_type": "code",
   "execution_count": 57,
   "id": "474f9e06",
   "metadata": {},
   "outputs": [
    {
     "data": {
      "text/plain": [
       "['charan']"
      ]
     },
     "execution_count": 57,
     "metadata": {},
     "output_type": "execute_result"
    }
   ],
   "source": [
    "\"charan\".split(\" \")"
   ]
  },
  {
   "cell_type": "code",
   "execution_count": 61,
   "id": "8769020b",
   "metadata": {},
   "outputs": [
    {
     "name": "stdout",
     "output_type": "stream",
     "text": [
      "['c', 'h', 'a', 'r', 'a', 'n', 'I', 'n', 'n', 'o', 'm', 'a', 't', 'i', 'c', 's', 'K', 'u', 'k', 'a', 't', 'p', 'a', 'l', 'l', 'y']\n"
     ]
    }
   ],
   "source": [
    "# Case1\n",
    "f = [\"charan\",\"Innomatics\",\"Kukatpally\"]\n",
    "\n",
    "li = []\n",
    "for i in range(len(f)):\n",
    "    li.extend(f[i])\n",
    "print(li)"
   ]
  },
  {
   "cell_type": "code",
   "execution_count": 67,
   "id": "d3aed0cf",
   "metadata": {},
   "outputs": [
    {
     "name": "stdout",
     "output_type": "stream",
     "text": [
      "['c', 'h', 'a', 'r', 'a', 'n', 'I', 'n', 'n', 'o', 'm', 'a', 't', 'i', 'c', 's', 'K', 'u', 'k', 'a', 't', 'p', 'a', 'l', 'l', 'y']\n"
     ]
    }
   ],
   "source": [
    "# Case2\n",
    "\n",
    "new_list = []\n",
    "for every_datapoint in f:\n",
    "    new_list.extend(list(every_datapoint))\n",
    "print(new_list)"
   ]
  },
  {
   "cell_type": "code",
   "execution_count": null,
   "id": "41dd1c5f",
   "metadata": {},
   "outputs": [],
   "source": [
    "# Slice a tuple to get the first two elements.\n",
    "# Find the length of a tuple.\n",
    "# Convert a list to a tuple.\n",
    "# Check if the number 5 is in a tuple.\n",
    "# Use a loop to iterate through a tuple and print each element.\n",
    "# Create a tuple of five strings and access the last element.\n",
    "# Create a nested tuple and access an element from the inner tuple..\n",
    "# Create an empty tuple and print it.\n",
    "# Check if a tuple is immutable by attempting to change an element."
   ]
  },
  {
   "cell_type": "code",
   "execution_count": 68,
   "id": "a673b27f",
   "metadata": {},
   "outputs": [],
   "source": [
    "# Use tuple unpacking to assign the elements of a tuple to individual variables.\n",
    "\n",
    "v1 = 1\n",
    "v2 = 2\n",
    "v3 = 3\n",
    "v4 = 4"
   ]
  },
  {
   "cell_type": "code",
   "execution_count": 69,
   "id": "5cfa0092",
   "metadata": {},
   "outputs": [],
   "source": [
    "# unpacking - \n",
    "\n",
    "F = [1,2,3,4]\n",
    "\n",
    "v1,v2,v3,v4 = F"
   ]
  },
  {
   "cell_type": "code",
   "execution_count": 70,
   "id": "beed225f",
   "metadata": {},
   "outputs": [
    {
     "name": "stdout",
     "output_type": "stream",
     "text": [
      "1\n",
      "2\n",
      "3\n",
      "4\n"
     ]
    }
   ],
   "source": [
    "print(v1)\n",
    "print(v2)\n",
    "print(v3)\n",
    "print(v4)"
   ]
  },
  {
   "cell_type": "code",
   "execution_count": 74,
   "id": "b999dce0",
   "metadata": {},
   "outputs": [],
   "source": [
    "F = [1,2,3,4]\n",
    "\n",
    "v1,v2,*v3 = F"
   ]
  },
  {
   "cell_type": "code",
   "execution_count": 75,
   "id": "0dc459de",
   "metadata": {},
   "outputs": [
    {
     "name": "stdout",
     "output_type": "stream",
     "text": [
      "1\n",
      "2\n",
      "[3, 4]\n"
     ]
    }
   ],
   "source": [
    "print(v1)\n",
    "print(v2)\n",
    "print(v3)"
   ]
  },
  {
   "cell_type": "code",
   "execution_count": 76,
   "id": "db1335a8",
   "metadata": {},
   "outputs": [],
   "source": [
    "# functions\n",
    "\n",
    "def add(x1,x2):\n",
    "    return x1+x2"
   ]
  },
  {
   "cell_type": "code",
   "execution_count": 78,
   "id": "8ddabd40",
   "metadata": {},
   "outputs": [
    {
     "data": {
      "text/plain": [
       "22233"
      ]
     },
     "execution_count": 78,
     "metadata": {},
     "output_type": "execute_result"
    }
   ],
   "source": [
    "add(11,22222)"
   ]
  },
  {
   "cell_type": "code",
   "execution_count": 81,
   "id": "71fde297",
   "metadata": {},
   "outputs": [],
   "source": [
    "def operations(x1,x2):\n",
    "    \n",
    "    add = x1+x2\n",
    "    sub = x1-x2\n",
    "    mul = x1*x2\n",
    "    div = x1/x2\n",
    "    \n",
    "    return add,sub,mul,div"
   ]
  },
  {
   "cell_type": "code",
   "execution_count": 83,
   "id": "4a3cdd76",
   "metadata": {},
   "outputs": [],
   "source": [
    "v1,v2,v3,v4 = operations(1,2)"
   ]
  },
  {
   "cell_type": "code",
   "execution_count": 84,
   "id": "188b46ed",
   "metadata": {},
   "outputs": [
    {
     "name": "stdout",
     "output_type": "stream",
     "text": [
      "3\n",
      "-1\n",
      "2\n",
      "0.5\n"
     ]
    }
   ],
   "source": [
    "print(v1)\n",
    "print(v2)\n",
    "print(v3)\n",
    "print(v4)"
   ]
  },
  {
   "cell_type": "code",
   "execution_count": 86,
   "id": "aa6f1615",
   "metadata": {},
   "outputs": [],
   "source": [
    "# Dictionary\n",
    "\n",
    "# Storing words\n",
    "# Searching words \n",
    "# Meanings\n",
    "\n",
    "\n",
    "# Dictionary - Word and its meaning\n",
    "# Key,Value pairs\n",
    "\n",
    "# Dict - {key_name:value}\n",
    "# you can access a dictionary by its key_name\n",
    "\n",
    "# variable_name[\"key_name\"]"
   ]
  },
  {
   "cell_type": "code",
   "execution_count": 87,
   "id": "68788c1b",
   "metadata": {},
   "outputs": [],
   "source": [
    "my_dictionary = {\"name\":\"charan\",\"age\":26,\"weight\":90}"
   ]
  },
  {
   "cell_type": "code",
   "execution_count": 89,
   "id": "a3dd8d74",
   "metadata": {},
   "outputs": [
    {
     "data": {
      "text/plain": [
       "'charan'"
      ]
     },
     "execution_count": 89,
     "metadata": {},
     "output_type": "execute_result"
    }
   ],
   "source": [
    "my_dictionary[\"name\"]"
   ]
  },
  {
   "cell_type": "code",
   "execution_count": 90,
   "id": "2daab98f",
   "metadata": {},
   "outputs": [
    {
     "data": {
      "text/plain": [
       "26"
      ]
     },
     "execution_count": 90,
     "metadata": {},
     "output_type": "execute_result"
    }
   ],
   "source": [
    "my_dictionary[\"age\"]"
   ]
  },
  {
   "cell_type": "code",
   "execution_count": 91,
   "id": "f27eae95",
   "metadata": {},
   "outputs": [
    {
     "data": {
      "text/plain": [
       "90"
      ]
     },
     "execution_count": 91,
     "metadata": {},
     "output_type": "execute_result"
    }
   ],
   "source": [
    "my_dictionary[\"weight\"]"
   ]
  },
  {
   "cell_type": "code",
   "execution_count": 92,
   "id": "a8fb9947",
   "metadata": {},
   "outputs": [
    {
     "data": {
      "text/plain": [
       "dict_keys(['name', 'age', 'weight'])"
      ]
     },
     "execution_count": 92,
     "metadata": {},
     "output_type": "execute_result"
    }
   ],
   "source": [
    "my_dictionary.keys()"
   ]
  },
  {
   "cell_type": "code",
   "execution_count": 93,
   "id": "91daa0bc",
   "metadata": {},
   "outputs": [
    {
     "data": {
      "text/plain": [
       "dict_values(['charan', 26, 90])"
      ]
     },
     "execution_count": 93,
     "metadata": {},
     "output_type": "execute_result"
    }
   ],
   "source": [
    "my_dictionary.values()"
   ]
  },
  {
   "cell_type": "code",
   "execution_count": 143,
   "id": "c5a7d4d3",
   "metadata": {},
   "outputs": [],
   "source": [
    "my_dictionary_1 = {\"Maths\":45,\"Science\":55,\"Social\":20} # before correction"
   ]
  },
  {
   "cell_type": "code",
   "execution_count": 144,
   "id": "bb151d7f",
   "metadata": {},
   "outputs": [
    {
     "name": "stdout",
     "output_type": "stream",
     "text": [
      "{'Maths': 60, 'Science': 70, 'Social': 35}\n"
     ]
    }
   ],
   "source": [
    "for every_datapoint in my_dictionary_1.keys():\n",
    "    my_dictionary_1[every_datapoint] +=15\n",
    "    # a = 20\n",
    "    # a = a + 20\n",
    "    # a += 20\n",
    "print(my_dictionary_1)"
   ]
  },
  {
   "cell_type": "code",
   "execution_count": 150,
   "id": "5db68930",
   "metadata": {},
   "outputs": [
    {
     "data": {
      "text/plain": [
       "165"
      ]
     },
     "execution_count": 150,
     "metadata": {},
     "output_type": "execute_result"
    }
   ],
   "source": [
    "sum(my_dictionary_1.values())"
   ]
  },
  {
   "cell_type": "code",
   "execution_count": 149,
   "id": "6696cec9",
   "metadata": {},
   "outputs": [
    {
     "data": {
      "text/plain": [
       "dict_values([60, 70, 35])"
      ]
     },
     "execution_count": 149,
     "metadata": {},
     "output_type": "execute_result"
    }
   ],
   "source": [
    "my_dictionary_1.values()"
   ]
  },
  {
   "cell_type": "code",
   "execution_count": 151,
   "id": "738913ce",
   "metadata": {},
   "outputs": [
    {
     "data": {
      "text/plain": [
       "3"
      ]
     },
     "execution_count": 151,
     "metadata": {},
     "output_type": "execute_result"
    }
   ],
   "source": [
    "len(my_dictionary_1)"
   ]
  },
  {
   "cell_type": "code",
   "execution_count": 152,
   "id": "a6d05f5e",
   "metadata": {},
   "outputs": [],
   "source": [
    "avg = sum(my_dictionary_1.values())/len(my_dictionary_1)"
   ]
  },
  {
   "cell_type": "code",
   "execution_count": 153,
   "id": "f0f024bf",
   "metadata": {},
   "outputs": [
    {
     "name": "stdout",
     "output_type": "stream",
     "text": [
      "55.0\n"
     ]
    }
   ],
   "source": [
    "print(avg)"
   ]
  },
  {
   "cell_type": "code",
   "execution_count": 154,
   "id": "b215f0ce",
   "metadata": {},
   "outputs": [],
   "source": [
    "# syntax:\n",
    "\n",
    "#variable_name[\"newkey\"] = \"value\"\n",
    "\n",
    "my_dictionary_1[\"average\"] = avg"
   ]
  },
  {
   "cell_type": "code",
   "execution_count": 155,
   "id": "b97ebda6",
   "metadata": {},
   "outputs": [
    {
     "data": {
      "text/plain": [
       "{'Maths': 60, 'Science': 70, 'Social': 35, 'average': 55.0}"
      ]
     },
     "execution_count": 155,
     "metadata": {},
     "output_type": "execute_result"
    }
   ],
   "source": [
    "my_dictionary_1"
   ]
  },
  {
   "cell_type": "code",
   "execution_count": 156,
   "id": "61f507de",
   "metadata": {},
   "outputs": [],
   "source": [
    "# 3 rows 3 columns \n",
    "my_dictionary_1 = {\"Maths\":[45,40,30],\"Science\":[10,50,20],\"Social\":[45,40,30]} # before correction"
   ]
  },
  {
   "cell_type": "code",
   "execution_count": null,
   "id": "f5bc626e",
   "metadata": {},
   "outputs": [],
   "source": [
    "# clear()\tRemoves all the elements from the dictionary\n",
    "# copy()\tReturns a copy of the dictionary\n",
    "# fromkeys()\tReturns a dictionary with the specified keys and value\n",
    "# get()\tReturns the value of the specified key\n",
    "# items()\tReturns a list containing a tuple for each key value pair\n",
    "# keys()\tReturns a list containing the dictionary's keys\n",
    "# pop()\tRemoves the element with the specified key\n",
    "# popitem()\tRemoves the last inserted key-value pair\n",
    "# update()\tUpdates the dictionary with the specified key-value pairs\n",
    "# values()\tReturns a list of all the values in the dictionary"
   ]
  },
  {
   "cell_type": "code",
   "execution_count": 178,
   "id": "9e04b30d",
   "metadata": {},
   "outputs": [],
   "source": [
    "my_dictionary = {\"Name\":\"charan\",\"age\":26}\n"
   ]
  },
  {
   "cell_type": "code",
   "execution_count": 181,
   "id": "0c2fce9c",
   "metadata": {},
   "outputs": [],
   "source": [
    "xyz = {\"A\":\"charan\",\"B\":26,\"C\":True}"
   ]
  },
  {
   "cell_type": "code",
   "execution_count": 184,
   "id": "19fdea28",
   "metadata": {},
   "outputs": [
    {
     "name": "stdout",
     "output_type": "stream",
     "text": [
      "{'A': 'charan', 'B': 34, 'C': True}\n"
     ]
    }
   ],
   "source": [
    "# once i create something i should be able to access it \n",
    "\n",
    "# syntax: variable[\"key_name\"]\n",
    "\n",
    "xyz[\"B\"] = 34\n",
    "\n",
    "print(xyz)"
   ]
  },
  {
   "cell_type": "code",
   "execution_count": 190,
   "id": "e89fffa9",
   "metadata": {},
   "outputs": [
    {
     "name": "stdout",
     "output_type": "stream",
     "text": [
      "15 value before updation\n",
      "25 value after updation\n",
      "25\n"
     ]
    }
   ],
   "source": [
    "# It allows different data types\n",
    "# Not Ordered and Mutable\n",
    "# \n",
    "\n",
    "A = 15\n",
    "print(A,\"value before updation\")\n",
    "A = 25\n",
    "print(A,\"value after updation\")\n",
    "\n",
    "print(A)"
   ]
  },
  {
   "cell_type": "code",
   "execution_count": 191,
   "id": "cbe440b9",
   "metadata": {},
   "outputs": [],
   "source": [
    "xyz = {\"A\":\"charan\",\"B\":26,\"C\":True,\"c\":\"innomatics\"}"
   ]
  },
  {
   "cell_type": "code",
   "execution_count": 193,
   "id": "3f9566ef",
   "metadata": {},
   "outputs": [
    {
     "data": {
      "text/plain": [
       "{'A': 'charan', 'B': 26, 'C': True, 'c': 'innomatics'}"
      ]
     },
     "execution_count": 193,
     "metadata": {},
     "output_type": "execute_result"
    }
   ],
   "source": [
    "xyz"
   ]
  },
  {
   "cell_type": "code",
   "execution_count": 197,
   "id": "ea5cf130",
   "metadata": {},
   "outputs": [
    {
     "name": "stdout",
     "output_type": "stream",
     "text": [
      "please enter your name :charan\n",
      "please enter your age :26\n",
      "please enter your gender: M\n",
      "{'name': 'charan', 'age': 26, 'gender': 'M'}\n"
     ]
    }
   ],
   "source": [
    "# name \n",
    "# age\n",
    "# gender\n",
    "\n",
    "# and then create a dictionary \n",
    "# age is entered wrong you have to update it by +2\n",
    "\n",
    "\n",
    "name = input(\"please enter your name :\")\n",
    "age = int(input(\"please enter your age :\"))\n",
    "gender = input(\"please enter your gender: \")\n",
    "\n",
    "\n",
    "f = {\"name\":name,\"age\":age,\"gender\":gender}\n",
    "print(f)"
   ]
  },
  {
   "cell_type": "code",
   "execution_count": 206,
   "id": "7e334d67",
   "metadata": {},
   "outputs": [
    {
     "name": "stdout",
     "output_type": "stream",
     "text": [
      "32\n",
      "32\n"
     ]
    }
   ],
   "source": [
    "# variable[\"key_name\"]\n",
    "\n",
    "print(f[\"age\"] + 2) #access the age + 2\n",
    "f[\"age\"] = f[\"age\"] + 2 #access the age + 2 and im also updating it\n",
    "print(f[\"age\"])"
   ]
  },
  {
   "cell_type": "code",
   "execution_count": 202,
   "id": "55d0f617",
   "metadata": {},
   "outputs": [
    {
     "data": {
      "text/plain": [
       "{'name': 'charan', 'age': 28, 'gender': 'M'}"
      ]
     },
     "execution_count": 202,
     "metadata": {},
     "output_type": "execute_result"
    }
   ],
   "source": [
    "f"
   ]
  },
  {
   "cell_type": "code",
   "execution_count": 208,
   "id": "7692ab85",
   "metadata": {},
   "outputs": [],
   "source": [
    "Demo_Inf = {\"name\":[\"A\",\"B\",\"C\"],\"age\":[17,18,19],\"gender\":[\"m\",\"f\",\"m\"]}\n",
    "\n",
    "\n",
    "# add 5 to A's Age subrtract 2from B's Age and multiply C's age with 2\n",
    "# average of ages \n",
    "# create a key \"avg_age_after_updation\"\n",
    "\n",
    "\n",
    "# i want to see the sum of the ages\n",
    "\n",
    "# access the age \n",
    "# sum\n",
    "\n",
    "# Average - sum and len"
   ]
  },
  {
   "cell_type": "code",
   "execution_count": 209,
   "id": "224f8eab",
   "metadata": {},
   "outputs": [
    {
     "data": {
      "text/plain": [
       "[17, 18, 19]"
      ]
     },
     "execution_count": 209,
     "metadata": {},
     "output_type": "execute_result"
    }
   ],
   "source": [
    "Demo_Inf[\"age\"]"
   ]
  },
  {
   "cell_type": "code",
   "execution_count": 211,
   "id": "26f41463",
   "metadata": {},
   "outputs": [
    {
     "data": {
      "text/plain": [
       "54"
      ]
     },
     "execution_count": 211,
     "metadata": {},
     "output_type": "execute_result"
    }
   ],
   "source": [
    "sum(Demo_Inf[\"age\"])"
   ]
  },
  {
   "cell_type": "code",
   "execution_count": 212,
   "id": "ef23442f",
   "metadata": {},
   "outputs": [
    {
     "data": {
      "text/plain": [
       "3"
      ]
     },
     "execution_count": 212,
     "metadata": {},
     "output_type": "execute_result"
    }
   ],
   "source": [
    "len(Demo_Inf[\"age\"])"
   ]
  },
  {
   "cell_type": "code",
   "execution_count": 213,
   "id": "ddcb5f51",
   "metadata": {},
   "outputs": [],
   "source": [
    "avg = sum(Demo_Inf[\"age\"]) / len(Demo_Inf[\"age\"])"
   ]
  },
  {
   "cell_type": "code",
   "execution_count": 214,
   "id": "85bbb3ce",
   "metadata": {},
   "outputs": [
    {
     "data": {
      "text/plain": [
       "18.0"
      ]
     },
     "execution_count": 214,
     "metadata": {},
     "output_type": "execute_result"
    }
   ],
   "source": [
    "avg"
   ]
  },
  {
   "cell_type": "code",
   "execution_count": 215,
   "id": "499922df",
   "metadata": {},
   "outputs": [],
   "source": [
    "# variable[\"key_value\"]\n",
    "\n",
    "Demo_Inf[\"average\"] = avg"
   ]
  },
  {
   "cell_type": "code",
   "execution_count": 216,
   "id": "e25dc95d",
   "metadata": {},
   "outputs": [
    {
     "data": {
      "text/plain": [
       "{'name': ['A', 'B', 'C'],\n",
       " 'age': [17, 18, 19],\n",
       " 'gender': ['m', 'f', 'm'],\n",
       " 'average': 18.0}"
      ]
     },
     "execution_count": 216,
     "metadata": {},
     "output_type": "execute_result"
    }
   ],
   "source": [
    "Demo_Inf"
   ]
  },
  {
   "cell_type": "code",
   "execution_count": 217,
   "id": "50272588",
   "metadata": {},
   "outputs": [
    {
     "data": {
      "text/plain": [
       "[17, 18, 19]"
      ]
     },
     "execution_count": 217,
     "metadata": {},
     "output_type": "execute_result"
    }
   ],
   "source": [
    "Demo_Inf = {\"name\":[\"A\",\"B\",\"C\"],\"age\":[17,18,19],\"gender\":[\"m\",\"f\",\"m\"]}\n",
    "\n",
    "# add 5 to A's Age subrtract 2from B's Age and multiply C's age with 2\n",
    "# average of ages \n",
    "# create a key \"avg_age_after_updation\"\n",
    "\n",
    "Demo_Inf[\"age\"]"
   ]
  },
  {
   "cell_type": "code",
   "execution_count": 225,
   "id": "cb19456e",
   "metadata": {},
   "outputs": [],
   "source": [
    "Demo_Inf[\"age\"][0] = Demo_Inf[\"age\"][0] + 5 # add 5"
   ]
  },
  {
   "cell_type": "code",
   "execution_count": 226,
   "id": "5679ae53",
   "metadata": {},
   "outputs": [],
   "source": [
    "Demo_Inf[\"age\"][1] = Demo_Inf[\"age\"][1] -2 # subtract 2"
   ]
  },
  {
   "cell_type": "code",
   "execution_count": 227,
   "id": "c5b89260",
   "metadata": {},
   "outputs": [],
   "source": [
    "Demo_Inf[\"age\"][2] = Demo_Inf[\"age\"][2] * 2# multiply by 2"
   ]
  },
  {
   "cell_type": "code",
   "execution_count": 228,
   "id": "0cbd95fc",
   "metadata": {},
   "outputs": [
    {
     "data": {
      "text/plain": [
       "{'name': ['A', 'B', 'C'], 'age': [22, 16, 38], 'gender': ['m', 'f', 'm']}"
      ]
     },
     "execution_count": 228,
     "metadata": {},
     "output_type": "execute_result"
    }
   ],
   "source": [
    "Demo_Inf"
   ]
  },
  {
   "cell_type": "code",
   "execution_count": 229,
   "id": "d7f2d8d1",
   "metadata": {},
   "outputs": [
    {
     "data": {
      "text/plain": [
       "[22, 16, 38]"
      ]
     },
     "execution_count": 229,
     "metadata": {},
     "output_type": "execute_result"
    }
   ],
   "source": [
    "Demo_Inf[\"age\"]"
   ]
  },
  {
   "cell_type": "code",
   "execution_count": 230,
   "id": "6f30e4d6",
   "metadata": {},
   "outputs": [
    {
     "data": {
      "text/plain": [
       "76"
      ]
     },
     "execution_count": 230,
     "metadata": {},
     "output_type": "execute_result"
    }
   ],
   "source": [
    "sum(Demo_Inf[\"age\"])"
   ]
  },
  {
   "cell_type": "code",
   "execution_count": 231,
   "id": "a82c851d",
   "metadata": {},
   "outputs": [
    {
     "data": {
      "text/plain": [
       "3"
      ]
     },
     "execution_count": 231,
     "metadata": {},
     "output_type": "execute_result"
    }
   ],
   "source": [
    "len(Demo_Inf[\"age\"])"
   ]
  },
  {
   "cell_type": "code",
   "execution_count": 234,
   "id": "a36f7c93",
   "metadata": {},
   "outputs": [],
   "source": [
    "# sum of the observation/ number of bservations\n",
    "\n",
    "average = round(sum(Demo_Inf[\"age\"]) / len(Demo_Inf[\"age\"]),2)"
   ]
  },
  {
   "cell_type": "code",
   "execution_count": 235,
   "id": "6edc2ba7",
   "metadata": {},
   "outputs": [
    {
     "data": {
      "text/plain": [
       "25.33"
      ]
     },
     "execution_count": 235,
     "metadata": {},
     "output_type": "execute_result"
    }
   ],
   "source": [
    "average"
   ]
  },
  {
   "cell_type": "code",
   "execution_count": 236,
   "id": "36560436",
   "metadata": {},
   "outputs": [
    {
     "data": {
      "text/plain": [
       "{'name': ['A', 'B', 'C'], 'age': [22, 16, 38], 'gender': ['m', 'f', 'm']}"
      ]
     },
     "execution_count": 236,
     "metadata": {},
     "output_type": "execute_result"
    }
   ],
   "source": [
    "Demo_Inf"
   ]
  },
  {
   "cell_type": "code",
   "execution_count": 237,
   "id": "26fd5e5c",
   "metadata": {},
   "outputs": [],
   "source": [
    "# to add a new key \n",
    "\n",
    "# syntax: variable[\"key_name\"] = value"
   ]
  },
  {
   "cell_type": "code",
   "execution_count": 238,
   "id": "addfc8c4",
   "metadata": {},
   "outputs": [],
   "source": [
    "Demo_Inf[\"avg_after_updation\"] = average"
   ]
  },
  {
   "cell_type": "code",
   "execution_count": 239,
   "id": "2e06edde",
   "metadata": {},
   "outputs": [
    {
     "data": {
      "text/plain": [
       "{'name': ['A', 'B', 'C'],\n",
       " 'age': [22, 16, 38],\n",
       " 'gender': ['m', 'f', 'm'],\n",
       " 'avg_after_updation': 25.33}"
      ]
     },
     "execution_count": 239,
     "metadata": {},
     "output_type": "execute_result"
    }
   ],
   "source": [
    "Demo_Inf"
   ]
  },
  {
   "cell_type": "code",
   "execution_count": null,
   "id": "61f5eeb4",
   "metadata": {},
   "outputs": [],
   "source": [
    "# clear()\tRemoves all the elements from the dictionary\n",
    "# copy()\tReturns a copy of the dictionary\n",
    "# fromkeys()\tReturns a dictionary with the specified keys and value\n",
    "# get()\tReturns the value of the specified key\n",
    "# items()\tReturns a list containing a tuple for each key value pair\n",
    "# keys()\tReturns a list containing the dictionary's keys\n",
    "# pop()\tRemoves the element with the specified key\n",
    "# popitem()\tRemoves the last inserted key-value pair\n",
    "# update()\tUpdates the dictionary with the specified key-value pairs\n",
    "# values()\tReturns a list of all the values in the dictionary"
   ]
  },
  {
   "cell_type": "code",
   "execution_count": 241,
   "id": "996e9c97",
   "metadata": {},
   "outputs": [],
   "source": [
    "copy_df = Demo_Inf.copy()"
   ]
  },
  {
   "cell_type": "code",
   "execution_count": 243,
   "id": "4d85542c",
   "metadata": {},
   "outputs": [],
   "source": [
    "# clear\n",
    "\n",
    "# Variable_name.method()\n",
    "\n",
    "copy_df.clear()"
   ]
  },
  {
   "cell_type": "code",
   "execution_count": 244,
   "id": "9368b02c",
   "metadata": {},
   "outputs": [
    {
     "data": {
      "text/plain": [
       "{}"
      ]
     },
     "execution_count": 244,
     "metadata": {},
     "output_type": "execute_result"
    }
   ],
   "source": [
    "copy_df"
   ]
  },
  {
   "cell_type": "code",
   "execution_count": 245,
   "id": "54e3a9e1",
   "metadata": {},
   "outputs": [
    {
     "data": {
      "text/plain": [
       "dict_values([['A', 'B', 'C'], [22, 16, 38], ['m', 'f', 'm'], 25.33])"
      ]
     },
     "execution_count": 245,
     "metadata": {},
     "output_type": "execute_result"
    }
   ],
   "source": [
    "# dict - key and a value\n",
    "\n",
    "Demo_Inf.values()"
   ]
  },
  {
   "cell_type": "code",
   "execution_count": 246,
   "id": "082b6e53",
   "metadata": {},
   "outputs": [
    {
     "data": {
      "text/plain": [
       "dict_keys(['name', 'age', 'gender', 'avg_after_updation'])"
      ]
     },
     "execution_count": 246,
     "metadata": {},
     "output_type": "execute_result"
    }
   ],
   "source": [
    "Demo_Inf.keys()"
   ]
  },
  {
   "cell_type": "code",
   "execution_count": 247,
   "id": "a4c82f93",
   "metadata": {},
   "outputs": [
    {
     "data": {
      "text/plain": [
       "dict_items([('name', ['A', 'B', 'C']), ('age', [22, 16, 38]), ('gender', ['m', 'f', 'm']), ('avg_after_updation', 25.33)])"
      ]
     },
     "execution_count": 247,
     "metadata": {},
     "output_type": "execute_result"
    }
   ],
   "source": [
    "Demo_Inf.items()"
   ]
  },
  {
   "cell_type": "code",
   "execution_count": 248,
   "id": "08a9ff16",
   "metadata": {},
   "outputs": [
    {
     "data": {
      "text/plain": [
       "['A', 'B', 'C']"
      ]
     },
     "execution_count": 248,
     "metadata": {},
     "output_type": "execute_result"
    }
   ],
   "source": [
    "# get \n",
    "\n",
    "Demo_Inf.get(\"name\")"
   ]
  },
  {
   "cell_type": "code",
   "execution_count": 249,
   "id": "13bc6f95",
   "metadata": {},
   "outputs": [
    {
     "data": {
      "text/plain": [
       "['m', 'f', 'm']"
      ]
     },
     "execution_count": 249,
     "metadata": {},
     "output_type": "execute_result"
    }
   ],
   "source": [
    "Demo_Inf.get(\"gender\")"
   ]
  },
  {
   "cell_type": "code",
   "execution_count": 251,
   "id": "885f5a80",
   "metadata": {},
   "outputs": [
    {
     "data": {
      "text/plain": [
       "['A', 'B', 'C']"
      ]
     },
     "execution_count": 251,
     "metadata": {},
     "output_type": "execute_result"
    }
   ],
   "source": [
    "Demo_Inf.pop(\"name\")"
   ]
  },
  {
   "cell_type": "code",
   "execution_count": 253,
   "id": "d647d6df",
   "metadata": {},
   "outputs": [
    {
     "data": {
      "text/plain": [
       "('avg_after_updation', 25.33)"
      ]
     },
     "execution_count": 253,
     "metadata": {},
     "output_type": "execute_result"
    }
   ],
   "source": [
    "Demo_Inf.popitem()"
   ]
  },
  {
   "cell_type": "code",
   "execution_count": 254,
   "id": "ee7ef773",
   "metadata": {},
   "outputs": [
    {
     "data": {
      "text/plain": [
       "{'age': [22, 16, 38], 'gender': ['m', 'f', 'm']}"
      ]
     },
     "execution_count": 254,
     "metadata": {},
     "output_type": "execute_result"
    }
   ],
   "source": [
    "Demo_Inf"
   ]
  },
  {
   "cell_type": "code",
   "execution_count": 260,
   "id": "23473f0a",
   "metadata": {},
   "outputs": [],
   "source": [
    "# update\n",
    "\n",
    "Demo_Inf.update({\"age\":23}) "
   ]
  },
  {
   "cell_type": "code",
   "execution_count": 261,
   "id": "cb888877",
   "metadata": {},
   "outputs": [
    {
     "data": {
      "text/plain": [
       "{'age': 23, 'gender': ['m', 'f', 'm']}"
      ]
     },
     "execution_count": 261,
     "metadata": {},
     "output_type": "execute_result"
    }
   ],
   "source": [
    "Demo_Inf"
   ]
  },
  {
   "cell_type": "code",
   "execution_count": 262,
   "id": "ee0978db",
   "metadata": {},
   "outputs": [],
   "source": [
    "H = dict(name=\"charan\",age=23,gender=\"male\")"
   ]
  },
  {
   "cell_type": "code",
   "execution_count": 263,
   "id": "ce0e87de",
   "metadata": {},
   "outputs": [
    {
     "data": {
      "text/plain": [
       "{'name': 'charan', 'age': 23, 'gender': 'male'}"
      ]
     },
     "execution_count": 263,
     "metadata": {},
     "output_type": "execute_result"
    }
   ],
   "source": [
    "H"
   ]
  },
  {
   "cell_type": "code",
   "execution_count": 271,
   "id": "0b3905ee",
   "metadata": {},
   "outputs": [],
   "source": [
    "f = {1:\"a\",2:\"b\",3:\"c\"}"
   ]
  },
  {
   "cell_type": "code",
   "execution_count": 272,
   "id": "db58fea6",
   "metadata": {},
   "outputs": [
    {
     "data": {
      "text/plain": [
       "{1: 'a', 2: 'b', 3: 'c'}"
      ]
     },
     "execution_count": 272,
     "metadata": {},
     "output_type": "execute_result"
    }
   ],
   "source": [
    "f"
   ]
  },
  {
   "cell_type": "code",
   "execution_count": 267,
   "id": "a3397aaa",
   "metadata": {},
   "outputs": [],
   "source": [
    "f[1] = \"charan\""
   ]
  },
  {
   "cell_type": "code",
   "execution_count": 268,
   "id": "8ccf72a0",
   "metadata": {},
   "outputs": [
    {
     "data": {
      "text/plain": [
       "{1: 'charan', 2: 'b', 3: 'c'}"
      ]
     },
     "execution_count": 268,
     "metadata": {},
     "output_type": "execute_result"
    }
   ],
   "source": [
    "f"
   ]
  },
  {
   "cell_type": "code",
   "execution_count": null,
   "id": "4508a1a0",
   "metadata": {},
   "outputs": [],
   "source": []
  }
 ],
 "metadata": {
  "kernelspec": {
   "display_name": "Python 3 (ipykernel)",
   "language": "python",
   "name": "python3"
  },
  "language_info": {
   "codemirror_mode": {
    "name": "ipython",
    "version": 3
   },
   "file_extension": ".py",
   "mimetype": "text/x-python",
   "name": "python",
   "nbconvert_exporter": "python",
   "pygments_lexer": "ipython3",
   "version": "3.11.8"
  }
 },
 "nbformat": 4,
 "nbformat_minor": 5
}
