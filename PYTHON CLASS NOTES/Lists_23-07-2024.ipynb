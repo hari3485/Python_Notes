{
 "cells": [
  {
   "cell_type": "code",
   "execution_count": 1,
   "id": "528d60cd",
   "metadata": {},
   "outputs": [],
   "source": [
    "# append()\n",
    "# clear()\n",
    "# copy()\n",
    "# count()\n",
    "# extend()\n",
    "# index()\n",
    "# insert()\n",
    "# pop()\n",
    "# remove()\n",
    "# reverse()\n",
    "# sort()"
   ]
  },
  {
   "cell_type": "code",
   "execution_count": 8,
   "id": "b71905bb",
   "metadata": {},
   "outputs": [
    {
     "name": "stdout",
     "output_type": "stream",
     "text": [
      "[1, 2, 3, 4, 5, 6, 7, 8, 9, 10]\n",
      "<class 'list'>\n"
     ]
    }
   ],
   "source": [
    "# List = data points are enclosed between \"[ ]\"\n",
    "\n",
    "my_list = [1,2,3,4,5,6,7,8,9,10] \n",
    "\n",
    "print(my_list)\n",
    "print(type(my_list))"
   ]
  },
  {
   "cell_type": "code",
   "execution_count": 11,
   "id": "efc92f92",
   "metadata": {},
   "outputs": [
    {
     "name": "stdout",
     "output_type": "stream",
     "text": [
      "5\n",
      "[2, 3]\n",
      "[2]\n"
     ]
    }
   ],
   "source": [
    "# Accessing a list\n",
    "\n",
    "# You can access a list by using indexing\n",
    "\n",
    "# syntax: variable[index_value]\n",
    "\n",
    "print(my_list[4]) # accessing a single element\n",
    "\n",
    "print(my_list[1:3]) # accessing multiple elements by slicing\n",
    "\n",
    "print(my_list[1:4:3]) # accessing multiple elements by slicing with a step value"
   ]
  },
  {
   "cell_type": "code",
   "execution_count": 14,
   "id": "307ed8a4",
   "metadata": {},
   "outputs": [],
   "source": [
    "# Indexing is for accesing the data - single datapoint\n",
    "# Slicing is for accessing the data - multiple datapoints"
   ]
  },
  {
   "cell_type": "code",
   "execution_count": 16,
   "id": "412b14f4",
   "metadata": {},
   "outputs": [
    {
     "name": "stdout",
     "output_type": "stream",
     "text": [
      "['Charan', 2, 3, 0, -1, True]\n"
     ]
    }
   ],
   "source": [
    "F = [\"Charan\",2,3,0,-1,True]\n",
    "print(F)"
   ]
  },
  {
   "cell_type": "code",
   "execution_count": 33,
   "id": "05a9ce5b",
   "metadata": {},
   "outputs": [],
   "source": [
    "# Properties of List\n",
    "\n",
    "# It accepts different data types\n",
    "\n",
    "# Can access it by indexing - ordered data structure\n",
    "\n",
    "# Lists are mutable\n",
    "\n",
    "# It allows duplicates"
   ]
  },
  {
   "cell_type": "code",
   "execution_count": 34,
   "id": "8d902bf3",
   "metadata": {},
   "outputs": [],
   "source": [
    "F = [1,2,3,4]"
   ]
  },
  {
   "cell_type": "code",
   "execution_count": 21,
   "id": "e47da7d7",
   "metadata": {},
   "outputs": [
    {
     "name": "stdout",
     "output_type": "stream",
     "text": [
      "20 this is the value stored in my variable_1\n"
     ]
    }
   ],
   "source": [
    "variable_1 = 45\n",
    "variable_1 = 20\n",
    "\n",
    "print(variable_1,\"this is the value stored in my variable_1\")"
   ]
  },
  {
   "cell_type": "code",
   "execution_count": 30,
   "id": "4a9ad303",
   "metadata": {},
   "outputs": [
    {
     "name": "stdout",
     "output_type": "stream",
     "text": [
      "4\n"
     ]
    }
   ],
   "source": [
    "# I want to change or update the value of 4 to 10\n",
    "\n",
    "# replace the 4 with 10\n",
    "\n",
    "D = [1,2,3,4]\n",
    "\n",
    "# Human Lnaguage isnt understod computer\n",
    "# Python lanuage to communicate with the computer\n",
    "\n",
    "\n",
    "# I have to access the value\n",
    "print(D[3])\n",
    "# then ill update it \n",
    "D[3] = \"charan\""
   ]
  },
  {
   "cell_type": "code",
   "execution_count": 31,
   "id": "d42063d6",
   "metadata": {},
   "outputs": [
    {
     "name": "stdout",
     "output_type": "stream",
     "text": [
      "[1, 2, 3, 'charan']\n"
     ]
    }
   ],
   "source": [
    "print(D)"
   ]
  },
  {
   "cell_type": "code",
   "execution_count": 32,
   "id": "d3f3c0bb",
   "metadata": {},
   "outputs": [
    {
     "name": "stdout",
     "output_type": "stream",
     "text": [
      "['Innomatice', 2, 3, 'charan']\n"
     ]
    }
   ],
   "source": [
    "D[0] = \"Innomatice\"\n",
    "print(D)"
   ]
  },
  {
   "cell_type": "code",
   "execution_count": 35,
   "id": "5940ef9f",
   "metadata": {},
   "outputs": [],
   "source": [
    "# Create a list with Surname, First Name, Last Name\n",
    "# Print a welcome msg with (surname + Name + last Name)"
   ]
  },
  {
   "cell_type": "code",
   "execution_count": 44,
   "id": "707802b3",
   "metadata": {},
   "outputs": [
    {
     "name": "stdout",
     "output_type": "stream",
     "text": [
      "APPLE\n",
      "BANANA\n",
      "CARROT\n"
     ]
    }
   ],
   "source": [
    "my_list = [\"Apple\",\"Banana\",\"Carrot\"] # 20000 fruits like this \n",
    "\n",
    "# i want every word to be in a lower case\n",
    "\n",
    "# variable.lower() \n",
    "\n",
    "print(my_list[0].upper())\n",
    "print(my_list[1].upper())\n",
    "print(my_list[2].upper())"
   ]
  },
  {
   "cell_type": "code",
   "execution_count": 48,
   "id": "42171dc3",
   "metadata": {},
   "outputs": [
    {
     "name": "stdout",
     "output_type": "stream",
     "text": [
      "apple\n",
      "aPPLE\n",
      "banana\n",
      "bANANA\n",
      "carrot\n",
      "cARROT\n"
     ]
    }
   ],
   "source": [
    "for every_element in my_list:\n",
    "    #print(every_element) # in order to check if im able to access all the elements or not\n",
    "    print(every_element.lower())\n",
    "    print(every_element.swapcase())"
   ]
  },
  {
   "cell_type": "code",
   "execution_count": 51,
   "id": "f203d638",
   "metadata": {},
   "outputs": [],
   "source": [
    "my_list = [\"Apple is red\",\"Banana is yellow\"]"
   ]
  },
  {
   "cell_type": "code",
   "execution_count": 57,
   "id": "242d600b",
   "metadata": {},
   "outputs": [
    {
     "name": "stdout",
     "output_type": "stream",
     "text": [
      "['Apple', 'is', 'red']\n",
      "red\n",
      "['Banana', 'is', 'yellow']\n",
      "yellow\n"
     ]
    }
   ],
   "source": [
    "# for every_element in my_list:\n",
    "# #     print(every_element)\n",
    "#     print(every_element.split(\" \"))\n",
    "#     print(every_element.split(\" \")[2])"
   ]
  },
  {
   "cell_type": "code",
   "execution_count": null,
   "id": "4d89428e",
   "metadata": {},
   "outputs": [],
   "source": [
    "# print(every_element.split(\" \")[0]"
   ]
  },
  {
   "cell_type": "code",
   "execution_count": 62,
   "id": "9b91a08b",
   "metadata": {},
   "outputs": [],
   "source": [
    "cup_board = [\"orangeT\",\"redT\",\"blackj\",\"bluej\"] # Cupboard\n",
    "\n",
    "# add few more clothes\n",
    "# Seperate the clothes\n",
    "# arrange the clothes \n",
    "# remove the clothes\n",
    "# replace the clothes with new clothes\n",
    "# Seperate jeans and t shirts\n"
   ]
  },
  {
   "cell_type": "code",
   "execution_count": 64,
   "id": "f7cbbc35",
   "metadata": {},
   "outputs": [
    {
     "name": "stdout",
     "output_type": "stream",
     "text": [
      "['orangeT', 'redT', 'blackj', 'bluej', 'GreenH', 'GreenH']\n"
     ]
    }
   ],
   "source": [
    "# GreenH i want to add it to my cupboard\n",
    "\n",
    "# append()\n",
    "\n",
    "# syntax: variable.append(value you want to add)\n",
    "\n",
    "cup_board.append(\"GreenH\") # ending of the list\n",
    "# it takes in only one value\n",
    "\n",
    "print(cup_board)"
   ]
  },
  {
   "cell_type": "code",
   "execution_count": 65,
   "id": "83e598c4",
   "metadata": {},
   "outputs": [
    {
     "name": "stdout",
     "output_type": "stream",
     "text": [
      "['orangeT', 'redT', 'blackj', 'bluej', 'GreenH', 'GreenH', 'belt', 'watch']\n"
     ]
    }
   ],
   "source": [
    "# I want to add belt,watch\n",
    "\n",
    "cup_board.append(\"belt\")\n",
    "cup_board.append(\"watch\")\n",
    "\n",
    "print(cup_board)"
   ]
  },
  {
   "cell_type": "code",
   "execution_count": 72,
   "id": "d511342f",
   "metadata": {},
   "outputs": [
    {
     "name": "stdout",
     "output_type": "stream",
     "text": [
      "['orangeT', 'redT', 'blackj', 'bluej', 'GreenH', 'GreenH', 'belt', 'watch', 'perfume', 'raincoat', 'p', 'e', 'r', 'f', 'u', 'm', 'e', 'p', 'e', 'r', 'f', 'u', 'm', 'e']\n"
     ]
    }
   ],
   "source": [
    "# I want to add perfume,raincoat,lighter \n",
    "\n",
    "# extend()\n",
    "\n",
    "# syntax: variable.extend(value you want to add)\n",
    "\n",
    "\n",
    "cup_board.extend(\"perfume\")\n",
    "print(cup_board)"
   ]
  },
  {
   "cell_type": "code",
   "execution_count": 74,
   "id": "29d7a654",
   "metadata": {},
   "outputs": [
    {
     "data": {
      "text/plain": [
       "'orangeT'"
      ]
     },
     "execution_count": 74,
     "metadata": {},
     "output_type": "execute_result"
    }
   ],
   "source": [
    "# pop\n",
    "\n",
    "cup_board.pop() # by default itll remove the last element\n",
    "\n",
    "cup_board.pop(0)"
   ]
  },
  {
   "cell_type": "code",
   "execution_count": 75,
   "id": "00f0614c",
   "metadata": {},
   "outputs": [
    {
     "data": {
      "text/plain": [
       "['redT',\n",
       " 'blackj',\n",
       " 'bluej',\n",
       " 'GreenH',\n",
       " 'GreenH',\n",
       " 'belt',\n",
       " 'watch',\n",
       " 'perfume',\n",
       " 'raincoat',\n",
       " 'p',\n",
       " 'e',\n",
       " 'r',\n",
       " 'f',\n",
       " 'u',\n",
       " 'm',\n",
       " 'e',\n",
       " 'p',\n",
       " 'e',\n",
       " 'r',\n",
       " 'f',\n",
       " 'u',\n",
       " 'm']"
      ]
     },
     "execution_count": 75,
     "metadata": {},
     "output_type": "execute_result"
    }
   ],
   "source": [
    "cup_board"
   ]
  },
  {
   "cell_type": "code",
   "execution_count": 70,
   "id": "cdaf42d2",
   "metadata": {},
   "outputs": [
    {
     "name": "stdout",
     "output_type": "stream",
     "text": [
      "['orangeT', 'redT', 'blackj', 'bluej', 'GreenH', 'GreenH', 'belt', 'watch', 'perfume', 'raincoat']\n"
     ]
    }
   ],
   "source": [
    "print(cup_board)"
   ]
  },
  {
   "cell_type": "code",
   "execution_count": 82,
   "id": "e5c5c2ba",
   "metadata": {},
   "outputs": [
    {
     "name": "stdout",
     "output_type": "stream",
     "text": [
      "[1, 2, 3, ['a', 'b']]\n"
     ]
    }
   ],
   "source": [
    "# try to define a list with 3 elements \n",
    "\n",
    "# then add two elements to it using append\n",
    "\n",
    "# add two elements using extend to it\n",
    "\n",
    "# append and extend\n",
    "\n",
    "\n",
    "g = [1,2,3]\n",
    "\n",
    "g.append([\"a\",\"b\"])\n",
    "\n",
    "print(g)"
   ]
  },
  {
   "cell_type": "code",
   "execution_count": 83,
   "id": "04e1dd55",
   "metadata": {},
   "outputs": [],
   "source": [
    "g.extend([\"c\",\"d\"])"
   ]
  },
  {
   "cell_type": "code",
   "execution_count": 84,
   "id": "1c3cbce4",
   "metadata": {},
   "outputs": [
    {
     "name": "stdout",
     "output_type": "stream",
     "text": [
      "[1, 2, 3, ['a', 'b'], 'c', 'd']\n"
     ]
    }
   ],
   "source": [
    "print(g)"
   ]
  },
  {
   "cell_type": "code",
   "execution_count": 86,
   "id": "23032769",
   "metadata": {},
   "outputs": [
    {
     "data": {
      "text/plain": [
       "['a', 'b']"
      ]
     },
     "execution_count": 86,
     "metadata": {},
     "output_type": "execute_result"
    }
   ],
   "source": [
    "g[3]"
   ]
  },
  {
   "cell_type": "code",
   "execution_count": 87,
   "id": "eb03fafa",
   "metadata": {},
   "outputs": [
    {
     "data": {
      "text/plain": [
       "'b'"
      ]
     },
     "execution_count": 87,
     "metadata": {},
     "output_type": "execute_result"
    }
   ],
   "source": [
    "g[3][1]"
   ]
  },
  {
   "cell_type": "code",
   "execution_count": null,
   "id": "ded6925f",
   "metadata": {},
   "outputs": [],
   "source": [
    "# Nested List "
   ]
  },
  {
   "cell_type": "code",
   "execution_count": 88,
   "id": "596d21cf",
   "metadata": {},
   "outputs": [
    {
     "name": "stdout",
     "output_type": "stream",
     "text": [
      "Help on method_descriptor:\n",
      "\n",
      "append(self, object, /)\n",
      "    Append object to the end of the list.\n",
      "\n"
     ]
    }
   ],
   "source": [
    "help(list.append)"
   ]
  },
  {
   "cell_type": "code",
   "execution_count": 89,
   "id": "43189778",
   "metadata": {},
   "outputs": [
    {
     "name": "stdout",
     "output_type": "stream",
     "text": [
      "Help on method_descriptor:\n",
      "\n",
      "extend(self, iterable, /)\n",
      "    Extend list by appending elements from the iterable.\n",
      "\n"
     ]
    }
   ],
   "source": [
    "help(list.extend)"
   ]
  },
  {
   "cell_type": "code",
   "execution_count": 101,
   "id": "4f1cd059",
   "metadata": {},
   "outputs": [],
   "source": [
    "g.extend([\"charan\",\"apple\",\"GGGGG\"])\n",
    "\n",
    "# the more number of times you run these cells same operation will be repeated again and again"
   ]
  },
  {
   "cell_type": "code",
   "execution_count": 102,
   "id": "31f9897a",
   "metadata": {},
   "outputs": [
    {
     "data": {
      "text/plain": [
       "[1,\n",
       " 2,\n",
       " 3,\n",
       " ['a', 'b'],\n",
       " 'c',\n",
       " 'd',\n",
       " 'c',\n",
       " 'h',\n",
       " 'a',\n",
       " 'r',\n",
       " 'a',\n",
       " 'n',\n",
       " 'charan',\n",
       " 'charan',\n",
       " 'apple',\n",
       " 'charan',\n",
       " 'apple',\n",
       " 'charan',\n",
       " 'apple',\n",
       " 'charan',\n",
       " 'apple',\n",
       " 'GGGGG',\n",
       " 'charan',\n",
       " 'apple',\n",
       " 'GGGGG']"
      ]
     },
     "execution_count": 102,
     "metadata": {},
     "output_type": "execute_result"
    }
   ],
   "source": [
    "g"
   ]
  },
  {
   "cell_type": "code",
   "execution_count": 116,
   "id": "16b279d7",
   "metadata": {},
   "outputs": [],
   "source": [
    "my_list = [1,2,3]\n",
    "my_list.append(\"Charan\")"
   ]
  },
  {
   "cell_type": "code",
   "execution_count": 117,
   "id": "6faa298c",
   "metadata": {},
   "outputs": [
    {
     "data": {
      "text/plain": [
       "[1, 2, 3, 'Charan']"
      ]
     },
     "execution_count": 117,
     "metadata": {},
     "output_type": "execute_result"
    }
   ],
   "source": [
    "my_list"
   ]
  },
  {
   "cell_type": "code",
   "execution_count": null,
   "id": "261fe4a4",
   "metadata": {},
   "outputs": [],
   "source": [
    "# copy()\n",
    "# index()\n",
    "# insert()\n",
    "# remove()\n",
    "# reverse()\n",
    "# sort()"
   ]
  },
  {
   "cell_type": "code",
   "execution_count": 115,
   "id": "0b20a3e9",
   "metadata": {},
   "outputs": [
    {
     "name": "stdout",
     "output_type": "stream",
     "text": [
      "[]\n"
     ]
    }
   ],
   "source": [
    "# clear - removing all the elements in list\n",
    "\n",
    "my_list.clear()\n",
    "print(my_list)"
   ]
  },
  {
   "cell_type": "code",
   "execution_count": 118,
   "id": "9e6c4f5b",
   "metadata": {},
   "outputs": [],
   "source": [
    "# del - deleting something\n",
    "\n",
    "del my_list"
   ]
  },
  {
   "cell_type": "code",
   "execution_count": 119,
   "id": "f663dc99",
   "metadata": {},
   "outputs": [
    {
     "ename": "NameError",
     "evalue": "name 'my_list' is not defined",
     "output_type": "error",
     "traceback": [
      "\u001b[1;31m---------------------------------------------------------------------------\u001b[0m",
      "\u001b[1;31mNameError\u001b[0m                                 Traceback (most recent call last)",
      "Cell \u001b[1;32mIn[119], line 1\u001b[0m\n\u001b[1;32m----> 1\u001b[0m \u001b[38;5;28mprint\u001b[39m(my_list)\n",
      "\u001b[1;31mNameError\u001b[0m: name 'my_list' is not defined"
     ]
    }
   ],
   "source": [
    "print(my_list)"
   ]
  },
  {
   "cell_type": "code",
   "execution_count": 120,
   "id": "f3f84bb1",
   "metadata": {},
   "outputs": [],
   "source": [
    "# count() - counting the number of repetitions of a datapoint"
   ]
  },
  {
   "cell_type": "code",
   "execution_count": 125,
   "id": "eb048b14",
   "metadata": {},
   "outputs": [],
   "source": [
    "my_list = [\"btech\",\"btech\",\"school\",\"Inter\",\"Inter\",\"Inter\"]"
   ]
  },
  {
   "cell_type": "code",
   "execution_count": 127,
   "id": "b7bef4ce",
   "metadata": {},
   "outputs": [
    {
     "data": {
      "text/plain": [
       "3"
      ]
     },
     "execution_count": 127,
     "metadata": {},
     "output_type": "execute_result"
    }
   ],
   "source": [
    "my_list.count(\"Inter\")"
   ]
  },
  {
   "cell_type": "code",
   "execution_count": 128,
   "id": "70426f36",
   "metadata": {},
   "outputs": [
    {
     "data": {
      "text/plain": [
       "['btech', 'btech', 'school', 'Inter', 'Inter', 'Inter']"
      ]
     },
     "execution_count": 128,
     "metadata": {},
     "output_type": "execute_result"
    }
   ],
   "source": [
    "my_list"
   ]
  },
  {
   "cell_type": "code",
   "execution_count": 132,
   "id": "2640024e",
   "metadata": {},
   "outputs": [],
   "source": [
    "# insert()\n",
    "\n",
    "my_list.insert(,\"charan\") # index value / value"
   ]
  },
  {
   "cell_type": "code",
   "execution_count": 133,
   "id": "c94ba79e",
   "metadata": {},
   "outputs": [
    {
     "data": {
      "text/plain": [
       "['charan', 'btech', 'btech', 'charan', 'school', 'Inter', 'Inter', 'Inter']"
      ]
     },
     "execution_count": 133,
     "metadata": {},
     "output_type": "execute_result"
    }
   ],
   "source": [
    "my_list"
   ]
  },
  {
   "cell_type": "code",
   "execution_count": 134,
   "id": "0b0d46bb",
   "metadata": {},
   "outputs": [
    {
     "data": {
      "text/plain": [
       "8"
      ]
     },
     "execution_count": 134,
     "metadata": {},
     "output_type": "execute_result"
    }
   ],
   "source": [
    "#len(my_list) - to find the lenght of the string\n",
    "\n",
    "len(my_list)"
   ]
  },
  {
   "cell_type": "code",
   "execution_count": 135,
   "id": "4d2c7623",
   "metadata": {},
   "outputs": [
    {
     "data": {
      "text/plain": [
       "6"
      ]
     },
     "execution_count": 135,
     "metadata": {},
     "output_type": "execute_result"
    }
   ],
   "source": [
    "# sum()\n",
    "\n",
    "my_list = [1,2,3]\n",
    "\n",
    "sum(my_list)"
   ]
  },
  {
   "cell_type": "code",
   "execution_count": 145,
   "id": "7bd3043a",
   "metadata": {},
   "outputs": [
    {
     "data": {
      "text/plain": [
       "262"
      ]
     },
     "execution_count": 145,
     "metadata": {},
     "output_type": "execute_result"
    }
   ],
   "source": [
    "R = [45,67,83,67]\n",
    "\n",
    "\n",
    "sum(R)"
   ]
  },
  {
   "cell_type": "code",
   "execution_count": 146,
   "id": "6f8ddfab",
   "metadata": {},
   "outputs": [
    {
     "data": {
      "text/plain": [
       "4"
      ]
     },
     "execution_count": 146,
     "metadata": {},
     "output_type": "execute_result"
    }
   ],
   "source": [
    "len(R)"
   ]
  },
  {
   "cell_type": "code",
   "execution_count": 147,
   "id": "0857bdf5",
   "metadata": {},
   "outputs": [],
   "source": [
    "avg = sum(R)/len(R)"
   ]
  },
  {
   "cell_type": "code",
   "execution_count": 148,
   "id": "6aafa5e3",
   "metadata": {},
   "outputs": [
    {
     "name": "stdout",
     "output_type": "stream",
     "text": [
      "65.5\n"
     ]
    }
   ],
   "source": [
    "print(avg)"
   ]
  },
  {
   "cell_type": "code",
   "execution_count": 149,
   "id": "ae9dc271",
   "metadata": {},
   "outputs": [
    {
     "data": {
      "text/plain": [
       "45"
      ]
     },
     "execution_count": 149,
     "metadata": {},
     "output_type": "execute_result"
    }
   ],
   "source": [
    "min(R) # helps you to find the min value in that list"
   ]
  },
  {
   "cell_type": "code",
   "execution_count": 150,
   "id": "fdb3b810",
   "metadata": {},
   "outputs": [
    {
     "data": {
      "text/plain": [
       "83"
      ]
     },
     "execution_count": 150,
     "metadata": {},
     "output_type": "execute_result"
    }
   ],
   "source": [
    "max(R) # helps you to find the max value in that list"
   ]
  },
  {
   "cell_type": "code",
   "execution_count": 151,
   "id": "8239e93e",
   "metadata": {},
   "outputs": [
    {
     "data": {
      "text/plain": [
       "1"
      ]
     },
     "execution_count": 151,
     "metadata": {},
     "output_type": "execute_result"
    }
   ],
   "source": [
    "# index() - index of the input give\n",
    "\n",
    "R.index(67)"
   ]
  },
  {
   "cell_type": "code",
   "execution_count": null,
   "id": "46e64ea7",
   "metadata": {},
   "outputs": [],
   "source": [
    "# copy()\n",
    "# remove()\n",
    "# reverse()\n",
    "# sort()"
   ]
  },
  {
   "cell_type": "code",
   "execution_count": 152,
   "id": "0179b17e",
   "metadata": {},
   "outputs": [],
   "source": [
    "R.remove(67)"
   ]
  },
  {
   "cell_type": "code",
   "execution_count": 153,
   "id": "7225d270",
   "metadata": {},
   "outputs": [
    {
     "data": {
      "text/plain": [
       "[45, 83, 67]"
      ]
     },
     "execution_count": 153,
     "metadata": {},
     "output_type": "execute_result"
    }
   ],
   "source": [
    "R"
   ]
  },
  {
   "cell_type": "code",
   "execution_count": 154,
   "id": "5b58bb89",
   "metadata": {},
   "outputs": [],
   "source": [
    "# copy()"
   ]
  },
  {
   "cell_type": "code",
   "execution_count": 158,
   "id": "5f99a616",
   "metadata": {},
   "outputs": [],
   "source": [
    "F = [4,5,6]\n",
    "\n",
    "G = F.copy()"
   ]
  },
  {
   "cell_type": "code",
   "execution_count": 156,
   "id": "2ba47644",
   "metadata": {},
   "outputs": [
    {
     "data": {
      "text/plain": [
       "[4, 5, 6]"
      ]
     },
     "execution_count": 156,
     "metadata": {},
     "output_type": "execute_result"
    }
   ],
   "source": [
    "F"
   ]
  },
  {
   "cell_type": "code",
   "execution_count": 157,
   "id": "96a81391",
   "metadata": {},
   "outputs": [
    {
     "data": {
      "text/plain": [
       "[4, 5, 6]"
      ]
     },
     "execution_count": 157,
     "metadata": {},
     "output_type": "execute_result"
    }
   ],
   "source": [
    "G"
   ]
  },
  {
   "cell_type": "code",
   "execution_count": 159,
   "id": "7e31ff77",
   "metadata": {},
   "outputs": [],
   "source": [
    "# reverse()\n",
    "# sort()"
   ]
  },
  {
   "cell_type": "code",
   "execution_count": 160,
   "id": "251c86d6",
   "metadata": {},
   "outputs": [
    {
     "data": {
      "text/plain": [
       "[4, 5, 6]"
      ]
     },
     "execution_count": 160,
     "metadata": {},
     "output_type": "execute_result"
    }
   ],
   "source": [
    "G"
   ]
  },
  {
   "cell_type": "code",
   "execution_count": 161,
   "id": "b3c2659a",
   "metadata": {},
   "outputs": [],
   "source": [
    "G.reverse()"
   ]
  },
  {
   "cell_type": "code",
   "execution_count": 162,
   "id": "fe89519d",
   "metadata": {},
   "outputs": [
    {
     "data": {
      "text/plain": [
       "[6, 5, 4]"
      ]
     },
     "execution_count": 162,
     "metadata": {},
     "output_type": "execute_result"
    }
   ],
   "source": [
    "G"
   ]
  },
  {
   "cell_type": "code",
   "execution_count": 163,
   "id": "853e27fe",
   "metadata": {},
   "outputs": [],
   "source": [
    "G.sort(reverse=False) # Ascending Order"
   ]
  },
  {
   "cell_type": "code",
   "execution_count": 164,
   "id": "ea467e85",
   "metadata": {},
   "outputs": [
    {
     "data": {
      "text/plain": [
       "[4, 5, 6]"
      ]
     },
     "execution_count": 164,
     "metadata": {},
     "output_type": "execute_result"
    }
   ],
   "source": [
    "G"
   ]
  },
  {
   "cell_type": "code",
   "execution_count": 167,
   "id": "eb9a9ad9",
   "metadata": {},
   "outputs": [],
   "source": [
    "G.sort(reverse=True) # Descending Order"
   ]
  },
  {
   "cell_type": "code",
   "execution_count": 166,
   "id": "e9195778",
   "metadata": {},
   "outputs": [
    {
     "data": {
      "text/plain": [
       "[6, 5, 4]"
      ]
     },
     "execution_count": 166,
     "metadata": {},
     "output_type": "execute_result"
    }
   ],
   "source": [
    "G"
   ]
  },
  {
   "cell_type": "code",
   "execution_count": 169,
   "id": "64cfddad",
   "metadata": {},
   "outputs": [],
   "source": [
    "G = [1,2,2]\n",
    "F = list([1,2,2])"
   ]
  },
  {
   "cell_type": "code",
   "execution_count": 170,
   "id": "f0e05976",
   "metadata": {},
   "outputs": [
    {
     "data": {
      "text/plain": [
       "[1, 2, 2]"
      ]
     },
     "execution_count": 170,
     "metadata": {},
     "output_type": "execute_result"
    }
   ],
   "source": [
    "G"
   ]
  },
  {
   "cell_type": "code",
   "execution_count": 171,
   "id": "fe67a504",
   "metadata": {},
   "outputs": [
    {
     "data": {
      "text/plain": [
       "[1, 2, 2]"
      ]
     },
     "execution_count": 171,
     "metadata": {},
     "output_type": "execute_result"
    }
   ],
   "source": [
    "F"
   ]
  },
  {
   "cell_type": "code",
   "execution_count": 172,
   "id": "843bbe48",
   "metadata": {},
   "outputs": [],
   "source": [
    "# Tuple\n",
    "\n",
    "my_tuple = (1,2,3,4)"
   ]
  },
  {
   "cell_type": "code",
   "execution_count": 173,
   "id": "ead17e9f",
   "metadata": {},
   "outputs": [
    {
     "name": "stdout",
     "output_type": "stream",
     "text": [
      "(1, 2, 3, 4)\n",
      "<class 'tuple'>\n"
     ]
    }
   ],
   "source": [
    "print(my_tuple)\n",
    "print(type(my_tuple))"
   ]
  },
  {
   "cell_type": "code",
   "execution_count": null,
   "id": "6df61c82",
   "metadata": {},
   "outputs": [],
   "source": [
    "# Properties of Tuple\n",
    "\n",
    "# It accepts different data types \n",
    "\n",
    "# Can access it by indexing - ordered data structure\n",
    "\n",
    "# Tuples are immutable\n",
    "\n",
    "# It allows duplicates"
   ]
  },
  {
   "cell_type": "code",
   "execution_count": 175,
   "id": "8061517e",
   "metadata": {},
   "outputs": [
    {
     "ename": "TypeError",
     "evalue": "'tuple' object does not support item assignment",
     "output_type": "error",
     "traceback": [
      "\u001b[1;31m---------------------------------------------------------------------------\u001b[0m",
      "\u001b[1;31mTypeError\u001b[0m                                 Traceback (most recent call last)",
      "Cell \u001b[1;32mIn[175], line 1\u001b[0m\n\u001b[1;32m----> 1\u001b[0m my_tuple[\u001b[38;5;241m0\u001b[39m] \u001b[38;5;241m=\u001b[39m \u001b[38;5;124m\"\u001b[39m\u001b[38;5;124mcharan\u001b[39m\u001b[38;5;124m\"\u001b[39m\n",
      "\u001b[1;31mTypeError\u001b[0m: 'tuple' object does not support item assignment"
     ]
    }
   ],
   "source": [
    "my_tuple[0] = \"charan\""
   ]
  },
  {
   "cell_type": "code",
   "execution_count": 176,
   "id": "3923d850",
   "metadata": {},
   "outputs": [],
   "source": [
    "my_tuple = (1,1,12,2,2,2,3,3,3,3,3)"
   ]
  },
  {
   "cell_type": "code",
   "execution_count": 177,
   "id": "6c9f0bd2",
   "metadata": {},
   "outputs": [
    {
     "data": {
      "text/plain": [
       "(1, 1, 12, 2, 2, 2, 3, 3, 3, 3, 3)"
      ]
     },
     "execution_count": 177,
     "metadata": {},
     "output_type": "execute_result"
    }
   ],
   "source": [
    "my_tuple"
   ]
  },
  {
   "cell_type": "code",
   "execution_count": null,
   "id": "84d1e713",
   "metadata": {},
   "outputs": [],
   "source": []
  }
 ],
 "metadata": {
  "kernelspec": {
   "display_name": "Python 3 (ipykernel)",
   "language": "python",
   "name": "python3"
  },
  "language_info": {
   "codemirror_mode": {
    "name": "ipython",
    "version": 3
   },
   "file_extension": ".py",
   "mimetype": "text/x-python",
   "name": "python",
   "nbconvert_exporter": "python",
   "pygments_lexer": "ipython3",
   "version": "3.11.8"
  }
 },
 "nbformat": 4,
 "nbformat_minor": 5
}
